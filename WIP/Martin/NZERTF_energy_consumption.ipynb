{
 "cells": [
  {
   "cell_type": "code",
   "execution_count": 1,
   "outputs": [],
   "source": [
    "from Project._05InferKnowledgeOfRules.NZERTF_dataframe_redundancy_functions import find_average_power_consumption_per_minute\n",
    "from Project._05InferKnowledgeOfRules.infer_rules_functions import json_to_dataframe"
   ],
   "metadata": {
    "collapsed": false,
    "pycharm": {
     "name": "#%%\n"
    }
   }
  },
  {
   "cell_type": "code",
   "execution_count": 2,
   "outputs": [
    {
     "data": {
      "text/plain": "                                      PowerConsumption(W/s)\nLoad_StatusApplianceCooktop                          1496.0\nLoad_StatusApplianceDishwasher                        282.0\nLoad_StatusApplianceOven                              771.0\nLoad_StatusApplianceRangeHood                          78.0\nLoad_StatusBA1Lights                                   48.0\nLoad_StatusBA2Lights                                   11.0\nLoad_StatusBR2Lights                                   40.0\nLoad_StatusBR3Lights                                   33.0\nLoad_StatusBR4Lights                                   27.0\nLoad_StatusDRLights                                    38.0\nLoad_StatusEntryHallLights                             20.0\nLoad_StatusKitchenLightsA                              28.0\nLoad_StatusKitchenLightsB                              33.0\nLoad_StatusKitchenLightsC                              28.0\nLoad_StatusLRLights1                                   18.0\nLoad_StatusLRLights2                                   41.0\nLoad_StatusLRLights3                                   27.0\nLoad_StatusLatentload                                  45.0\nLoad_StatusMBALights                                   84.0\nLoad_StatusMBRLights1                                  25.0\nLoad_StatusMBRLights2                                  25.0\nLoad_StatusPlugLoadBR2Laptop                           55.0\nLoad_StatusPlugLoadBR3Laptop                           34.0\nLoad_StatusPlugLoadBlender                            191.0\nLoad_StatusPlugLoadCanOpener                           93.0\nLoad_StatusPlugLoadCoffeeMaker                        362.0\nLoad_StatusPlugLoadDesktopPCMonitor                    88.0\nLoad_StatusPlugLoadHairDryerCurlIron                 1515.0\nLoad_StatusPlugLoadHandMixer                           91.0\nLoad_StatusPlugLoadLRBlueRay                           38.0\nLoad_StatusPlugLoadLRTV                                69.0\nLoad_StatusPlugLoadSlowCooker                          87.0\nLoad_StatusPlugLoadToaster                            704.0\nLoad_StatusPlugLoadToasterOven                        301.0\nLoad_StatusPlugLoadVacuum                             583.0\nLoad_StatusPlugLoadVideoGame                           32.0\nLoad_StatusSensHeatChildADOWN                          70.0\nLoad_StatusSensHeatChildAUP                            70.0\nLoad_StatusSensHeatChildBDOWN                          69.0\nLoad_StatusSensHeatChildBUP                            71.0\nLoad_StatusSensHeatPrntADOWN                           71.0\nLoad_StatusSensHeatPrntAUP                             70.0\nLoad_StatusSensHeatPrntBDOWN                           71.0\nLoad_StatusSensHeatPrntBUP                             69.0\nLoad_StatusRefrigerator                               107.0\nLoad_StatusMicrowave                                 1528.0\nLoad_StatusClothesWasher                              168.0\nLoad_StatusDryerPowerTotal                           3426.0\nLoad_StatusHeatPumpWaterHeater                        775.0",
      "text/html": "<div>\n<style scoped>\n    .dataframe tbody tr th:only-of-type {\n        vertical-align: middle;\n    }\n\n    .dataframe tbody tr th {\n        vertical-align: top;\n    }\n\n    .dataframe thead th {\n        text-align: right;\n    }\n</style>\n<table border=\"1\" class=\"dataframe\">\n  <thead>\n    <tr style=\"text-align: right;\">\n      <th></th>\n      <th>PowerConsumption(W/s)</th>\n    </tr>\n  </thead>\n  <tbody>\n    <tr>\n      <th>Load_StatusApplianceCooktop</th>\n      <td>1496.0</td>\n    </tr>\n    <tr>\n      <th>Load_StatusApplianceDishwasher</th>\n      <td>282.0</td>\n    </tr>\n    <tr>\n      <th>Load_StatusApplianceOven</th>\n      <td>771.0</td>\n    </tr>\n    <tr>\n      <th>Load_StatusApplianceRangeHood</th>\n      <td>78.0</td>\n    </tr>\n    <tr>\n      <th>Load_StatusBA1Lights</th>\n      <td>48.0</td>\n    </tr>\n    <tr>\n      <th>Load_StatusBA2Lights</th>\n      <td>11.0</td>\n    </tr>\n    <tr>\n      <th>Load_StatusBR2Lights</th>\n      <td>40.0</td>\n    </tr>\n    <tr>\n      <th>Load_StatusBR3Lights</th>\n      <td>33.0</td>\n    </tr>\n    <tr>\n      <th>Load_StatusBR4Lights</th>\n      <td>27.0</td>\n    </tr>\n    <tr>\n      <th>Load_StatusDRLights</th>\n      <td>38.0</td>\n    </tr>\n    <tr>\n      <th>Load_StatusEntryHallLights</th>\n      <td>20.0</td>\n    </tr>\n    <tr>\n      <th>Load_StatusKitchenLightsA</th>\n      <td>28.0</td>\n    </tr>\n    <tr>\n      <th>Load_StatusKitchenLightsB</th>\n      <td>33.0</td>\n    </tr>\n    <tr>\n      <th>Load_StatusKitchenLightsC</th>\n      <td>28.0</td>\n    </tr>\n    <tr>\n      <th>Load_StatusLRLights1</th>\n      <td>18.0</td>\n    </tr>\n    <tr>\n      <th>Load_StatusLRLights2</th>\n      <td>41.0</td>\n    </tr>\n    <tr>\n      <th>Load_StatusLRLights3</th>\n      <td>27.0</td>\n    </tr>\n    <tr>\n      <th>Load_StatusLatentload</th>\n      <td>45.0</td>\n    </tr>\n    <tr>\n      <th>Load_StatusMBALights</th>\n      <td>84.0</td>\n    </tr>\n    <tr>\n      <th>Load_StatusMBRLights1</th>\n      <td>25.0</td>\n    </tr>\n    <tr>\n      <th>Load_StatusMBRLights2</th>\n      <td>25.0</td>\n    </tr>\n    <tr>\n      <th>Load_StatusPlugLoadBR2Laptop</th>\n      <td>55.0</td>\n    </tr>\n    <tr>\n      <th>Load_StatusPlugLoadBR3Laptop</th>\n      <td>34.0</td>\n    </tr>\n    <tr>\n      <th>Load_StatusPlugLoadBlender</th>\n      <td>191.0</td>\n    </tr>\n    <tr>\n      <th>Load_StatusPlugLoadCanOpener</th>\n      <td>93.0</td>\n    </tr>\n    <tr>\n      <th>Load_StatusPlugLoadCoffeeMaker</th>\n      <td>362.0</td>\n    </tr>\n    <tr>\n      <th>Load_StatusPlugLoadDesktopPCMonitor</th>\n      <td>88.0</td>\n    </tr>\n    <tr>\n      <th>Load_StatusPlugLoadHairDryerCurlIron</th>\n      <td>1515.0</td>\n    </tr>\n    <tr>\n      <th>Load_StatusPlugLoadHandMixer</th>\n      <td>91.0</td>\n    </tr>\n    <tr>\n      <th>Load_StatusPlugLoadLRBlueRay</th>\n      <td>38.0</td>\n    </tr>\n    <tr>\n      <th>Load_StatusPlugLoadLRTV</th>\n      <td>69.0</td>\n    </tr>\n    <tr>\n      <th>Load_StatusPlugLoadSlowCooker</th>\n      <td>87.0</td>\n    </tr>\n    <tr>\n      <th>Load_StatusPlugLoadToaster</th>\n      <td>704.0</td>\n    </tr>\n    <tr>\n      <th>Load_StatusPlugLoadToasterOven</th>\n      <td>301.0</td>\n    </tr>\n    <tr>\n      <th>Load_StatusPlugLoadVacuum</th>\n      <td>583.0</td>\n    </tr>\n    <tr>\n      <th>Load_StatusPlugLoadVideoGame</th>\n      <td>32.0</td>\n    </tr>\n    <tr>\n      <th>Load_StatusSensHeatChildADOWN</th>\n      <td>70.0</td>\n    </tr>\n    <tr>\n      <th>Load_StatusSensHeatChildAUP</th>\n      <td>70.0</td>\n    </tr>\n    <tr>\n      <th>Load_StatusSensHeatChildBDOWN</th>\n      <td>69.0</td>\n    </tr>\n    <tr>\n      <th>Load_StatusSensHeatChildBUP</th>\n      <td>71.0</td>\n    </tr>\n    <tr>\n      <th>Load_StatusSensHeatPrntADOWN</th>\n      <td>71.0</td>\n    </tr>\n    <tr>\n      <th>Load_StatusSensHeatPrntAUP</th>\n      <td>70.0</td>\n    </tr>\n    <tr>\n      <th>Load_StatusSensHeatPrntBDOWN</th>\n      <td>71.0</td>\n    </tr>\n    <tr>\n      <th>Load_StatusSensHeatPrntBUP</th>\n      <td>69.0</td>\n    </tr>\n    <tr>\n      <th>Load_StatusRefrigerator</th>\n      <td>107.0</td>\n    </tr>\n    <tr>\n      <th>Load_StatusMicrowave</th>\n      <td>1528.0</td>\n    </tr>\n    <tr>\n      <th>Load_StatusClothesWasher</th>\n      <td>168.0</td>\n    </tr>\n    <tr>\n      <th>Load_StatusDryerPowerTotal</th>\n      <td>3426.0</td>\n    </tr>\n    <tr>\n      <th>Load_StatusHeatPumpWaterHeater</th>\n      <td>775.0</td>\n    </tr>\n  </tbody>\n</table>\n</div>"
     },
     "execution_count": 2,
     "metadata": {},
     "output_type": "execute_result"
    }
   ],
   "source": [
    "average_power_consumption_per_minute = find_average_power_consumption_per_minute()\n",
    "average_power_consumption_per_minute"
   ],
   "metadata": {
    "collapsed": false,
    "pycharm": {
     "name": "#%%\n"
    }
   }
  },
  {
   "cell_type": "code",
   "execution_count": 2,
   "outputs": [],
   "source": [],
   "metadata": {
    "collapsed": false,
    "pycharm": {
     "name": "#%%\n"
    }
   }
  }
 ],
 "metadata": {
  "kernelspec": {
   "display_name": "Python 3",
   "language": "python",
   "name": "python3"
  },
  "language_info": {
   "codemirror_mode": {
    "name": "ipython",
    "version": 2
   },
   "file_extension": ".py",
   "mimetype": "text/x-python",
   "name": "python",
   "nbconvert_exporter": "python",
   "pygments_lexer": "ipython2",
   "version": "2.7.6"
  }
 },
 "nbformat": 4,
 "nbformat_minor": 0
}
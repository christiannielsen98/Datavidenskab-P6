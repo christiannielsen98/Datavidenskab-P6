{
 "cells": [
  {
   "cell_type": "code",
   "execution_count": 1,
   "metadata": {
    "collapsed": true
   },
   "outputs": [],
   "source": [
    "import plotly.express as px\n",
    "import pandas as pd\n",
    "import numpy as np\n",
    "from Project.Database import Db\n",
    "from Project._04TPMAlgorithm.transform_for_TPM_algorithm import create_column_translator"
   ]
  },
  {
   "cell_type": "code",
   "execution_count": 2,
   "outputs": [],
   "source": [
    "def find_status_one(dataframe, status_atts):\n",
    "    if isinstance(status_atts, list) and len(status_atts) >= 1:\n",
    "        return dataframe.loc[(lambda self: self[status_atts].sum(1) == len(status_atts))]\n",
    "    elif isinstance(status_atts, str):\n",
    "        return dataframe.loc[(lambda self: self[status_atts] == 1)]\n",
    "    else:\n",
    "        return dataframe"
   ],
   "metadata": {
    "collapsed": false,
    "pycharm": {
     "name": "#%%\n"
    }
   }
  },
  {
   "cell_type": "code",
   "execution_count": 3,
   "outputs": [],
   "source": [
    "def find_status_zero(dataframe, status_atts):\n",
    "    if isinstance(status_atts, list) and len(status_atts) >= 1:\n",
    "        return dataframe.loc[(lambda self: self[status_atts].sum(1) == 0)]\n",
    "    elif isinstance(status_atts, str):\n",
    "        return dataframe.loc[(lambda self: self[status_atts] == 0)]\n",
    "    else:\n",
    "        return dataframe"
   ],
   "metadata": {
    "collapsed": false,
    "pycharm": {
     "name": "#%%\n"
    }
   }
  },
  {
   "cell_type": "code",
   "execution_count": 4,
   "outputs": [],
   "source": [
    "def find_status_ppl_same_floor(status_row):\n",
    "    tmp_meta = status_cols.copy()\n",
    "    return tmp_meta.loc[(lambda self: (self.index.str.contains('SensHeat')) & (\n",
    "            self['Measurement_Floor'] == status_row['Measurement_Floor']))].index.tolist()"
   ],
   "metadata": {
    "collapsed": false,
    "pycharm": {
     "name": "#%%\n"
    }
   }
  },
  {
   "cell_type": "code",
   "execution_count": 5,
   "outputs": [],
   "source": [
    "def find_status_siblings(status_row, status_att):\n",
    "    tmp_meta = status_cols.copy()\n",
    "    tmp_meta.drop(status_att, inplace=True)\n",
    "    return tmp_meta.loc[(lambda self: (self['Load_Match'] == status_row['Load_Match']))].index.tolist()"
   ],
   "metadata": {
    "collapsed": false,
    "pycharm": {
     "name": "#%%\n"
    }
   }
  },
  {
   "cell_type": "code",
   "execution_count": 6,
   "outputs": [],
   "source": [
    "def find_status_siblings_zero(dataframe, status_row, status_att):\n",
    "    return find_status_zero(dataframe, find_status_siblings(status_row, status_att))"
   ],
   "metadata": {
    "collapsed": false,
    "pycharm": {
     "name": "#%%\n"
    }
   }
  },
  {
   "cell_type": "code",
   "execution_count": 7,
   "outputs": [],
   "source": [
    "def remove_zero_consumption(dataframe, status_row):\n",
    "    return dataframe.loc[lambda self: self[status_row['Load_Match']] > 0]"
   ],
   "metadata": {
    "collapsed": false,
    "pycharm": {
     "name": "#%%\n"
    }
   }
  },
  {
   "cell_type": "code",
   "execution_count": 8,
   "outputs": [],
   "source": [
    "def find_power_consumption(dataframe, status_row, status_att):\n",
    "    dataframe = remove_zero_consumption(find_status_one(dataframe, status_att), status_row)\n",
    "    # return dataframe[status_row['Load_Match']].div(dataframe[find_status_siblings(status_row, status_att)].sum(1) + 1).mean()\n",
    "    dataframe_siblings_zero = find_status_siblings_zero(dataframe, status_row, status_att)\n",
    "    if dataframe_siblings_zero.shape[0] > 0:\n",
    "        return dataframe_siblings_zero[status_row['Load_Match']].mean()\n",
    "    else:\n",
    "        return dataframe[status_row['Load_Match']].div(\n",
    "            dataframe[find_status_siblings(status_row, status_att)].sum(1) + 1).mean()"
   ],
   "metadata": {
    "collapsed": false,
    "pycharm": {
     "name": "#%%\n"
    }
   }
  },
  {
   "cell_type": "code",
   "execution_count": 9,
   "outputs": [],
   "source": [
    "def find_redundancy(house, status_cols):\n",
    "    redundancy_df = pd.DataFrame(columns=['RedundantMinutes', 'PowerConsumption', 'EnergyConsumed'])\n",
    "    timestamp_df = pd.DataFrame(house['Timestamp'])\n",
    "\n",
    "    appliance_status = status_cols.loc[(lambda self:\n",
    "                                        (~self.index.str.contains('SensHeat')) &\n",
    "                                        (~self['Measurement_Location'].isin(['Kitchen', 'Utility'])) &\n",
    "                                        (self['Subsystem'] == 'Loads'))]\n",
    "\n",
    "    for att, row in appliance_status.iterrows():\n",
    "\n",
    "        power_consumption = find_power_consumption(house, row, att)\n",
    "        tmp_df = find_status_one(house, att)\n",
    "\n",
    "        if att == 'Load_StatusPlugLoadVacuum':\n",
    "            ppl = status_cols.loc[(lambda self: (self.index.str.contains('SensHeat')))].index.tolist()\n",
    "\n",
    "        elif row['Measurement_Location'] == 'Bedroom2':\n",
    "            ppl = 'Load_StatusSensHeatChildAUP'\n",
    "\n",
    "        elif row['Measurement_Location'] == 'Bedroom3':\n",
    "            ppl = 'Load_StatusSensHeatChildBUP'\n",
    "\n",
    "        elif row['Measurement_Location'] in ['MasterBedroom', 'MasterBathroom']:\n",
    "            ppl = ['Load_StatusSensHeatPrntAUP', 'Load_StatusSensHeatPrntBUP']\n",
    "\n",
    "        elif row['Measurement_Location'] == 'Bedroom4':\n",
    "            ppl = ['Load_StatusSensHeatPrntADOWN', 'Load_StatusSensHeatPrntBDOWN']\n",
    "\n",
    "        else:\n",
    "            ppl = find_status_ppl_same_floor(row)\n",
    "\n",
    "        tmp_df = find_status_zero(tmp_df, ppl)\n",
    "\n",
    "        redundancy_df.loc[att] = {\n",
    "            'PowerConsumption': power_consumption,\n",
    "            'RedundantMinutes': tmp_df.shape[0],\n",
    "            'EnergyConsumed': f'{tmp_df.shape[0] * power_consumption / 60 / 1000} kWh'\n",
    "        }\n",
    "        timestamp_df.loc[tmp_df['Timestamp'].index.tolist(), att] = 1\n",
    "\n",
    "    timestamp_df.fillna(0, inplace=True)\n",
    "    return redundancy_df, timestamp_df"
   ],
   "metadata": {
    "collapsed": false,
    "pycharm": {
     "name": "#%%\n"
    }
   }
  },
  {
   "cell_type": "code",
   "execution_count": 10,
   "outputs": [
    {
     "data": {
      "text/plain": "({'Year1':                                       RedundantMinutes  PowerConsumption  \\\n  Load_StatusBA1Lights                               215         42.648803   \n  Load_StatusBA2Lights                              1515         11.609812   \n  Load_StatusBR2Lights                             12081         40.063462   \n  Load_StatusBR3Lights                             11651         33.199784   \n  Load_StatusBR4Lights                                60         46.461190   \n  Load_StatusDRLights                                  1         43.319580   \n  Load_StatusEntryHallLights                           1         20.188646   \n  Load_StatusLRLights1                                 0         22.774127   \n  Load_StatusLRLights2                               410         27.784904   \n  Load_StatusLRLights3                                 0         27.696870   \n  Load_StatusMBALights                               117         84.547482   \n  Load_StatusMBRLights1                               75         24.903729   \n  Load_StatusMBRLights2                               82         24.903927   \n  Load_StatusPlugLoadBR2Laptop                     13895         55.429740   \n  Load_StatusPlugLoadBR3Laptop                     14025         33.779539   \n  Load_StatusPlugLoadDesktopPCMonitor               6120         88.037756   \n  Load_StatusPlugLoadFan                             171         21.953695   \n  Load_StatusPlugLoadHairDryerCurlIron                 0         21.753644   \n  Load_StatusPlugLoadHeatingPad                        0         27.183444   \n  Load_StatusPlugLoadIron                            502       1304.705841   \n  Load_StatusPlugLoadLRBlueRay                         0         41.835893   \n  Load_StatusPlugLoadLRTV                            510         76.066017   \n  Load_StatusPlugLoadMBRBlueRay                        0         25.696068   \n  Load_StatusPlugLoadMBRTV                            75         45.105749   \n  Load_StatusPlugLoadVacuum                            0        583.783697   \n  Load_StatusPlugLoadVideoGame                         1         39.154153   \n  \n                                                   EnergyConsumed  \n  Load_StatusBA1Lights                    0.15282487746961787 kWh  \n  Load_StatusBA2Lights                     0.2931477582766075 kWh  \n  Load_StatusBR2Lights                      8.066778046683991 kWh  \n  Load_StatusBR3Lights                      6.446844757235559 kWh  \n  Load_StatusBR4Lights                    0.04646118996635316 kWh  \n  Load_StatusDRLights                   0.0007219930018339323 kWh  \n  Load_StatusEntryHallLights            0.0003364774386088054 kWh  \n  Load_StatusLRLights1                                    0.0 kWh  \n  Load_StatusLRLights2                    0.18986351277145935 kWh  \n  Load_StatusLRLights3                                    0.0 kWh  \n  Load_StatusMBALights                    0.16486758895340614 kWh  \n  Load_StatusMBRLights1                    0.0311296616010351 kWh  \n  Load_StatusMBRLights2                   0.03403536742109921 kWh  \n  Load_StatusPlugLoadBR2Laptop             12.836603867740054 kWh  \n  Load_StatusPlugLoadBR3Laptop               7.89596714067111 kWh  \n  Load_StatusPlugLoadDesktopPCMonitor       8.979851117189542 kWh  \n  Load_StatusPlugLoadFan                  0.06256803071327693 kWh  \n  Load_StatusPlugLoadHairDryerCurlIron                    0.0 kWh  \n  Load_StatusPlugLoadHeatingPad                           0.0 kWh  \n  Load_StatusPlugLoadIron                  10.916038872410434 kWh  \n  Load_StatusPlugLoadLRBlueRay                            0.0 kWh  \n  Load_StatusPlugLoadLRTV                  0.6465611471800587 kWh  \n  Load_StatusPlugLoadMBRBlueRay                           0.0 kWh  \n  Load_StatusPlugLoadMBRTV                0.05638218686668054 kWh  \n  Load_StatusPlugLoadVacuum                               0.0 kWh  \n  Load_StatusPlugLoadVideoGame          0.0006525692228901061 kWh  ,\n  'Year2':                                      RedundantMinutes  PowerConsumption  \\\n  Load_StatusBA1Lights                                0         44.188547   \n  Load_StatusDRLights                                 0         43.005068   \n  Load_StatusLRLights3                                0         27.731544   \n  Load_StatusMBALights                                0         84.438933   \n  Load_StatusMBRLights1                               1         24.950141   \n  Load_StatusMBRLights2                               1         24.950141   \n  Load_StatusBA2Lights                             1575         11.333086   \n  Load_StatusBR2Lights                            11663         39.961489   \n  Load_StatusBR3Lights                            11609         33.188112   \n  Load_StatusLRLights2                                0         27.731544   \n  Load_StatusPlugLoadLRTV                           530         61.567884   \n  Load_StatusPlugLoadLRBlueRay                        0         35.131797   \n  Load_StatusPlugLoadVideoGame                        0         24.481691   \n  Load_StatusPlugLoadVacuum                           0        630.502717   \n  Load_StatusPlugLoadDesktopPCMonitor              6300        135.758954   \n  Load_StatusPlugLoadBR2Laptop                    13949         55.200403   \n  Load_StatusPlugLoadBR3Laptop                    13949         33.248331   \n  Load_StatusPlugLoadMBRTV                            0        267.209669   \n  Load_StatusPlugLoadMBRBlueRay                       0         43.107046   \n  Load_StatusPlugLoadFan                            102         77.570340   \n  Load_StatusPlugLoadHeatingPad                       0         48.544645   \n  Load_StatusPlugLoadIron                           525       1301.331414   \n  \n                                                 EnergyConsumed  \n  Load_StatusBA1Lights                                  0.0 kWh  \n  Load_StatusDRLights                                   0.0 kWh  \n  Load_StatusLRLights3                                  0.0 kWh  \n  Load_StatusMBALights                                  0.0 kWh  \n  Load_StatusMBRLights1                0.000415835675705041 kWh  \n  Load_StatusMBRLights2                0.000415835675705041 kWh  \n  Load_StatusBA2Lights                   0.2974935077730322 kWh  \n  Load_StatusBR2Lights                    7.767847466423607 kWh  \n  Load_StatusBR3Lights                    6.421346457018179 kWh  \n  Load_StatusLRLights2                                  0.0 kWh  \n  Load_StatusPlugLoadLRTV                0.5438496424013171 kWh  \n  Load_StatusPlugLoadLRBlueRay                          0.0 kWh  \n  Load_StatusPlugLoadVideoGame                          0.0 kWh  \n  Load_StatusPlugLoadVacuum                             0.0 kWh  \n  Load_StatusPlugLoadDesktopPCMonitor    14.254690220981542 kWh  \n  Load_StatusPlugLoadBR2Laptop           12.833173575675549 kWh  \n  Load_StatusPlugLoadBR3Laptop            7.729682830302333 kWh  \n  Load_StatusPlugLoadMBRTV                              0.0 kWh  \n  Load_StatusPlugLoadMBRBlueRay                         0.0 kWh  \n  Load_StatusPlugLoadFan                0.13186957785537667 kWh  \n  Load_StatusPlugLoadHeatingPad                         0.0 kWh  \n  Load_StatusPlugLoadIron                 11.38664987596462 kWh  },\n {'Year1':                  Timestamp  Load_StatusBA1Lights  Load_StatusBA2Lights  \\\n  0      2013-07-01 00:01:14                   0.0                   0.0   \n  1      2013-07-01 00:02:14                   0.0                   0.0   \n  2      2013-07-01 00:03:14                   0.0                   0.0   \n  3      2013-07-01 00:04:14                   0.0                   0.0   \n  4      2013-07-01 00:05:14                   0.0                   0.0   \n  ...                    ...                   ...                   ...   \n  518787 2014-06-30 23:29:22                   0.0                   0.0   \n  518788 2014-06-30 23:30:22                   0.0                   0.0   \n  518789 2014-06-30 23:31:22                   0.0                   0.0   \n  518790 2014-06-30 23:59:22                   0.0                   0.0   \n  518791 2014-07-01 00:00:22                   0.0                   0.0   \n  \n          Load_StatusBR2Lights  Load_StatusBR3Lights  Load_StatusBR4Lights  \\\n  0                        0.0                   0.0                   0.0   \n  1                        0.0                   0.0                   0.0   \n  2                        0.0                   0.0                   0.0   \n  3                        0.0                   0.0                   0.0   \n  4                        0.0                   0.0                   0.0   \n  ...                      ...                   ...                   ...   \n  518787                   0.0                   0.0                   0.0   \n  518788                   0.0                   0.0                   0.0   \n  518789                   0.0                   0.0                   0.0   \n  518790                   0.0                   0.0                   0.0   \n  518791                   0.0                   0.0                   0.0   \n  \n          Load_StatusDRLights  Load_StatusEntryHallLights  Load_StatusLRLights1  \\\n  0                       0.0                         0.0                   0.0   \n  1                       0.0                         0.0                   0.0   \n  2                       0.0                         0.0                   0.0   \n  3                       0.0                         0.0                   0.0   \n  4                       0.0                         0.0                   0.0   \n  ...                     ...                         ...                   ...   \n  518787                  0.0                         0.0                   0.0   \n  518788                  0.0                         0.0                   0.0   \n  518789                  0.0                         0.0                   0.0   \n  518790                  0.0                         0.0                   0.0   \n  518791                  0.0                         0.0                   0.0   \n  \n          Load_StatusLRLights2  ...  Load_StatusPlugLoadFan  \\\n  0                        0.0  ...                     0.0   \n  1                        0.0  ...                     0.0   \n  2                        0.0  ...                     0.0   \n  3                        0.0  ...                     0.0   \n  4                        0.0  ...                     0.0   \n  ...                      ...  ...                     ...   \n  518787                   0.0  ...                     0.0   \n  518788                   0.0  ...                     0.0   \n  518789                   0.0  ...                     0.0   \n  518790                   0.0  ...                     0.0   \n  518791                   0.0  ...                     0.0   \n  \n          Load_StatusPlugLoadHairDryerCurlIron  Load_StatusPlugLoadHeatingPad  \\\n  0                                        0.0                            0.0   \n  1                                        0.0                            0.0   \n  2                                        0.0                            0.0   \n  3                                        0.0                            0.0   \n  4                                        0.0                            0.0   \n  ...                                      ...                            ...   \n  518787                                   0.0                            0.0   \n  518788                                   0.0                            0.0   \n  518789                                   0.0                            0.0   \n  518790                                   0.0                            0.0   \n  518791                                   0.0                            0.0   \n  \n          Load_StatusPlugLoadIron  Load_StatusPlugLoadLRBlueRay  \\\n  0                           0.0                           0.0   \n  1                           0.0                           0.0   \n  2                           0.0                           0.0   \n  3                           0.0                           0.0   \n  4                           0.0                           0.0   \n  ...                         ...                           ...   \n  518787                      0.0                           0.0   \n  518788                      0.0                           0.0   \n  518789                      0.0                           0.0   \n  518790                      0.0                           0.0   \n  518791                      0.0                           0.0   \n  \n          Load_StatusPlugLoadLRTV  Load_StatusPlugLoadMBRBlueRay  \\\n  0                           0.0                            0.0   \n  1                           0.0                            0.0   \n  2                           0.0                            0.0   \n  3                           0.0                            0.0   \n  4                           0.0                            0.0   \n  ...                         ...                            ...   \n  518787                      0.0                            0.0   \n  518788                      0.0                            0.0   \n  518789                      0.0                            0.0   \n  518790                      0.0                            0.0   \n  518791                      0.0                            0.0   \n  \n          Load_StatusPlugLoadMBRTV  Load_StatusPlugLoadVacuum  \\\n  0                            0.0                        0.0   \n  1                            0.0                        0.0   \n  2                            0.0                        0.0   \n  3                            0.0                        0.0   \n  4                            0.0                        0.0   \n  ...                          ...                        ...   \n  518787                       0.0                        0.0   \n  518788                       0.0                        0.0   \n  518789                       0.0                        0.0   \n  518790                       0.0                        0.0   \n  518791                       0.0                        0.0   \n  \n          Load_StatusPlugLoadVideoGame  \n  0                                0.0  \n  1                                0.0  \n  2                                0.0  \n  3                                0.0  \n  4                                0.0  \n  ...                              ...  \n  518787                           0.0  \n  518788                           0.0  \n  518789                           0.0  \n  518790                           0.0  \n  518791                           0.0  \n  \n  [518792 rows x 27 columns],\n  'Year2':                  Timestamp  Load_StatusBA1Lights  Load_StatusDRLights  \\\n  0      2015-02-01 00:01:50                   0.0                  0.0   \n  1      2015-02-01 00:02:50                   0.0                  0.0   \n  2      2015-02-01 00:03:50                   0.0                  0.0   \n  3      2015-02-01 00:04:50                   0.0                  0.0   \n  4      2015-02-01 00:05:50                   0.0                  0.0   \n  ...                    ...                   ...                  ...   \n  519599 2016-01-31 23:54:24                   0.0                  0.0   \n  519600 2016-01-31 23:55:24                   0.0                  0.0   \n  519601 2016-01-31 23:56:24                   0.0                  0.0   \n  519602 2016-01-31 23:57:24                   0.0                  0.0   \n  519603 2016-01-31 23:58:24                   0.0                  0.0   \n  \n          Load_StatusLRLights3  Load_StatusMBALights  Load_StatusMBRLights1  \\\n  0                        0.0                   0.0                    0.0   \n  1                        0.0                   0.0                    0.0   \n  2                        0.0                   0.0                    0.0   \n  3                        0.0                   0.0                    0.0   \n  4                        0.0                   0.0                    0.0   \n  ...                      ...                   ...                    ...   \n  519599                   0.0                   0.0                    0.0   \n  519600                   0.0                   0.0                    0.0   \n  519601                   0.0                   0.0                    0.0   \n  519602                   0.0                   0.0                    0.0   \n  519603                   0.0                   0.0                    0.0   \n  \n          Load_StatusMBRLights2  Load_StatusBA2Lights  Load_StatusBR2Lights  \\\n  0                         0.0                   0.0                   0.0   \n  1                         0.0                   0.0                   0.0   \n  2                         0.0                   0.0                   0.0   \n  3                         0.0                   0.0                   0.0   \n  4                         0.0                   0.0                   0.0   \n  ...                       ...                   ...                   ...   \n  519599                    0.0                   0.0                   0.0   \n  519600                    0.0                   0.0                   0.0   \n  519601                    0.0                   0.0                   0.0   \n  519602                    0.0                   0.0                   0.0   \n  519603                    0.0                   0.0                   1.0   \n  \n          Load_StatusBR3Lights  ...  Load_StatusPlugLoadVideoGame  \\\n  0                        0.0  ...                           0.0   \n  1                        0.0  ...                           0.0   \n  2                        0.0  ...                           0.0   \n  3                        0.0  ...                           0.0   \n  4                        0.0  ...                           0.0   \n  ...                      ...  ...                           ...   \n  519599                   0.0  ...                           0.0   \n  519600                   0.0  ...                           0.0   \n  519601                   0.0  ...                           0.0   \n  519602                   0.0  ...                           0.0   \n  519603                   0.0  ...                           0.0   \n  \n          Load_StatusPlugLoadVacuum  Load_StatusPlugLoadDesktopPCMonitor  \\\n  0                             0.0                                  0.0   \n  1                             0.0                                  0.0   \n  2                             0.0                                  0.0   \n  3                             0.0                                  0.0   \n  4                             0.0                                  0.0   \n  ...                           ...                                  ...   \n  519599                        0.0                                  0.0   \n  519600                        0.0                                  0.0   \n  519601                        0.0                                  0.0   \n  519602                        0.0                                  0.0   \n  519603                        0.0                                  0.0   \n  \n          Load_StatusPlugLoadBR2Laptop  Load_StatusPlugLoadBR3Laptop  \\\n  0                                0.0                           0.0   \n  1                                0.0                           0.0   \n  2                                0.0                           0.0   \n  3                                0.0                           0.0   \n  4                                0.0                           0.0   \n  ...                              ...                           ...   \n  519599                           0.0                           0.0   \n  519600                           0.0                           0.0   \n  519601                           0.0                           0.0   \n  519602                           0.0                           0.0   \n  519603                           0.0                           0.0   \n  \n          Load_StatusPlugLoadMBRTV  Load_StatusPlugLoadMBRBlueRay  \\\n  0                            0.0                            0.0   \n  1                            0.0                            0.0   \n  2                            0.0                            0.0   \n  3                            0.0                            0.0   \n  4                            0.0                            0.0   \n  ...                          ...                            ...   \n  519599                       0.0                            0.0   \n  519600                       0.0                            0.0   \n  519601                       0.0                            0.0   \n  519602                       0.0                            0.0   \n  519603                       0.0                            0.0   \n  \n          Load_StatusPlugLoadFan  Load_StatusPlugLoadHeatingPad  \\\n  0                          0.0                            0.0   \n  1                          0.0                            0.0   \n  2                          0.0                            0.0   \n  3                          0.0                            0.0   \n  4                          0.0                            0.0   \n  ...                        ...                            ...   \n  519599                     0.0                            0.0   \n  519600                     0.0                            0.0   \n  519601                     0.0                            0.0   \n  519602                     0.0                            0.0   \n  519603                     0.0                            0.0   \n  \n          Load_StatusPlugLoadIron  \n  0                           0.0  \n  1                           0.0  \n  2                           0.0  \n  3                           0.0  \n  4                           0.0  \n  ...                         ...  \n  519599                      0.0  \n  519600                      0.0  \n  519601                      0.0  \n  519602                      0.0  \n  519603                      0.0  \n  \n  [519604 rows x 23 columns]})"
     },
     "execution_count": 10,
     "metadata": {},
     "output_type": "execute_result"
    }
   ],
   "source": [
    "year_redundancy_df_dict = {}\n",
    "timestamp_dict = {}\n",
    "for year in [1, 2]:\n",
    "    NZERTF, NZERTF_meta = Db.load_data(hourly=False, meta=True, year=year)\n",
    "    status_cols = NZERTF_meta.loc[(lambda self: self['Units'] == 'BinaryStatus')]\n",
    "\n",
    "    year_redundancy_df_dict[f'Year{year}'], timestamp_dict[f'Year{year}'] = find_redundancy(NZERTF, status_cols)\n",
    "\n",
    "year_redundancy_df_dict, timestamp_dict"
   ],
   "metadata": {
    "collapsed": false,
    "pycharm": {
     "name": "#%%\n"
    }
   }
  },
  {
   "cell_type": "code",
   "execution_count": 11,
   "outputs": [
    {
     "data": {
      "text/plain": "{'Year1':                                       RedundantMinutes  PowerConsumption  \\\n Load_StatusBA1Lights                               215         43.418675   \n Load_StatusBA2Lights                              1515         11.471449   \n Load_StatusBR2Lights                             12081         40.012476   \n Load_StatusBR3Lights                             11651         33.193948   \n Load_StatusBR4Lights                                60         46.461190   \n Load_StatusDRLights                                  1         43.162324   \n Load_StatusEntryHallLights                           1         20.188646   \n Load_StatusLRLights1                                 0         22.774127   \n Load_StatusLRLights2                               410         27.758224   \n Load_StatusLRLights3                                 0         27.714207   \n Load_StatusMBALights                               117         84.493207   \n Load_StatusMBRLights1                               75         24.926935   \n Load_StatusMBRLights2                               82         24.927034   \n Load_StatusPlugLoadBR2Laptop                     13895         55.315071   \n Load_StatusPlugLoadBR3Laptop                     14025         33.513935   \n Load_StatusPlugLoadDesktopPCMonitor               6120        111.898355   \n Load_StatusPlugLoadFan                             171         49.762017   \n Load_StatusPlugLoadHairDryerCurlIron                 0         21.753644   \n Load_StatusPlugLoadHeatingPad                        0         37.864045   \n Load_StatusPlugLoadIron                            502       1303.018628   \n Load_StatusPlugLoadLRBlueRay                         0         38.483845   \n Load_StatusPlugLoadLRTV                            510         68.816951   \n Load_StatusPlugLoadMBRBlueRay                        0         34.401557   \n Load_StatusPlugLoadMBRTV                            75        156.157709   \n Load_StatusPlugLoadVacuum                            0        607.143207   \n Load_StatusPlugLoadVideoGame                         1         31.817922   \n \n                                       EnergyConsumed  \n Load_StatusBA1Lights                        0.155584  \n Load_StatusBA2Lights                        0.289654  \n Load_StatusBR2Lights                        8.056512  \n Load_StatusBR3Lights                        6.445711  \n Load_StatusBR4Lights                        0.046461  \n Load_StatusDRLights                         0.000719  \n Load_StatusEntryHallLights                  0.000336  \n Load_StatusLRLights1                        0.000000  \n Load_StatusLRLights2                        0.189681  \n Load_StatusLRLights3                        0.000000  \n Load_StatusMBALights                        0.164762  \n Load_StatusMBRLights1                       0.031159  \n Load_StatusMBRLights2                       0.034067  \n Load_StatusPlugLoadBR2Laptop               12.810049  \n Load_StatusPlugLoadBR3Laptop                7.833882  \n Load_StatusPlugLoadDesktopPCMonitor        11.413632  \n Load_StatusPlugLoadFan                      0.141822  \n Load_StatusPlugLoadHairDryerCurlIron        0.000000  \n Load_StatusPlugLoadHeatingPad               0.000000  \n Load_StatusPlugLoadIron                    10.901923  \n Load_StatusPlugLoadLRBlueRay                0.000000  \n Load_StatusPlugLoadLRTV                     0.584944  \n Load_StatusPlugLoadMBRBlueRay               0.000000  \n Load_StatusPlugLoadMBRTV                    0.195197  \n Load_StatusPlugLoadVacuum                   0.000000  \n Load_StatusPlugLoadVideoGame                0.000530  ,\n 'Year2':                                      RedundantMinutes  PowerConsumption  \\\n Load_StatusBA1Lights                                0         43.803611   \n Load_StatusDRLights                                 0         43.083696   \n Load_StatusLRLights3                                0         27.722875   \n Load_StatusMBALights                                0         84.466070   \n Load_StatusMBRLights1                               1         24.938538   \n Load_StatusMBRLights2                               1         24.938587   \n Load_StatusBA2Lights                             1575         11.402268   \n Load_StatusBR2Lights                            11663         39.986982   \n Load_StatusBR3Lights                            11609         33.191030   \n Load_StatusLRLights2                                0         27.744884   \n Load_StatusPlugLoadLRTV                           530         65.192417   \n Load_StatusPlugLoadLRBlueRay                        0         36.807821   \n Load_StatusPlugLoadVideoGame                        0         28.149807   \n Load_StatusPlugLoadVacuum                           0        618.822962   \n Load_StatusPlugLoadDesktopPCMonitor              6300        123.828655   \n Load_StatusPlugLoadBR2Laptop                    13949         55.257737   \n Load_StatusPlugLoadBR3Laptop                    13949         33.381133   \n Load_StatusPlugLoadMBRTV                            0        211.683689   \n Load_StatusPlugLoadMBRBlueRay                       0         38.754302   \n Load_StatusPlugLoadFan                            102         63.666179   \n Load_StatusPlugLoadHeatingPad                       0         43.204345   \n Load_StatusPlugLoadIron                           525       1302.175021   \n \n                                      EnergyConsumed  \n Load_StatusBA1Lights                       0.000000  \n Load_StatusDRLights                        0.000000  \n Load_StatusLRLights3                       0.000000  \n Load_StatusMBALights                       0.000000  \n Load_StatusMBRLights1                      0.000416  \n Load_StatusMBRLights2                      0.000416  \n Load_StatusBA2Lights                       0.299310  \n Load_StatusBR2Lights                       7.772803  \n Load_StatusBR3Lights                       6.421911  \n Load_StatusLRLights2                       0.000000  \n Load_StatusPlugLoadLRTV                    0.575866  \n Load_StatusPlugLoadLRBlueRay               0.000000  \n Load_StatusPlugLoadVideoGame               0.000000  \n Load_StatusPlugLoadVacuum                  0.000000  \n Load_StatusPlugLoadDesktopPCMonitor       13.002009  \n Load_StatusPlugLoadBR2Laptop              12.846503  \n Load_StatusPlugLoadBR3Laptop               7.760557  \n Load_StatusPlugLoadMBRTV                   0.000000  \n Load_StatusPlugLoadMBRBlueRay              0.000000  \n Load_StatusPlugLoadFan                     0.108233  \n Load_StatusPlugLoadHeatingPad              0.000000  \n Load_StatusPlugLoadIron                   11.394031  }"
     },
     "execution_count": 11,
     "metadata": {},
     "output_type": "execute_result"
    }
   ],
   "source": [
    "for year in [1, 2]:\n",
    "    year_redundancy_df_dict[f'Year{year}']['PowerConsumption'] = pd.DataFrame(year_redundancy_df_dict[f'Year{year}']['PowerConsumption']).merge(right=year_redundancy_df_dict[f'Year{2 if year == 1 else 1}']['PowerConsumption'], how='left', left_index=True, right_index=True).mean(1)\n",
    "    year_redundancy_df_dict[f'Year{year}']['EnergyConsumed'] = year_redundancy_df_dict[f\"Year{year}\"][\"RedundantMinutes\"].multiply(year_redundancy_df_dict[f\"Year{year}\"][\"PowerConsumption\"]).div(60).div(1000)\n",
    "\n",
    "year_redundancy_df_dict"
   ],
   "metadata": {
    "collapsed": false,
    "pycharm": {
     "name": "#%%\n"
    }
   }
  },
  {
   "cell_type": "code",
   "execution_count": 12,
   "outputs": [
    {
     "data": {
      "text/plain": "('2028.52 hours', '119.4787 kWh')"
     },
     "execution_count": 12,
     "metadata": {},
     "output_type": "execute_result"
    }
   ],
   "source": [
    "total_minutes = 0\n",
    "total_energy = 0\n",
    "\n",
    "for year in [1,2]:\n",
    "    total_minutes += year_redundancy_df_dict[f'Year{year}']['RedundantMinutes'].sum() / 60\n",
    "    total_energy += year_redundancy_df_dict[f'Year{year}']['EnergyConsumed'].sum()\n",
    "\n",
    "total_minutes = str(round(total_minutes, 2)) + ' hours'\n",
    "total_energy = str(round(total_energy, 4)) + ' kWh'\n",
    "total_minutes, total_energy"
   ],
   "metadata": {
    "collapsed": false,
    "pycharm": {
     "name": "#%%\n"
    }
   }
  },
  {
   "cell_type": "code",
   "execution_count": 13,
   "outputs": [
    {
     "data": {
      "text/plain": "Unnamed: 0\nLoad_StatusKitchenLightsA                Load_1stFloorLightsPowerUsage\nLoad_StatusKitchenLightsB                Load_1stFloorLightsPowerUsage\nLoad_StatusKitchenLightsC                Load_1stFloorLightsPowerUsage\nLoad_StatusSensHeatPrntADOWN         Elec_PowerHeatLoadforRefrigerator\nLoad_StatusPlugLoadBlender                   Load_KPlugLoadsPowerUsage\nLoad_StatusPlugLoadToasterOven               Load_KPlugLoadsPowerUsage\nLoad_StatusApplianceRangeHood                                      NaN\nLoad_StatusApplianceCooktop                        Load_OvenPowerTotal\nLoad_StatusApplianceOven                           Load_OvenPowerTotal\nLoad_StatusPlugLoadSlowCooker                Load_KPlugLoadsPowerUsage\nLoad_StatusPlugLoadToaster                   Load_KPlugLoadsPowerUsage\nLoad_StatusApplianceDishwasher                                     NaN\nLoad_StatusPlugLoadHandMixer                 Load_KPlugLoadsPowerUsage\nLoad_StatusPlugLoadCanOpener                 Load_KPlugLoadsPowerUsage\nLoad_StatusLatentload                        Load_LatentHeatPowerUsage\nLoad_StatusPlugLoadCoffeeMaker               Load_KPlugLoadsPowerUsage\nDHW_StatusSolenoidHotKitchenSink                                   NaN\nDHW_StatusSolenoidColdKitchenSink                                  NaN\nName: Load_Match, dtype: object"
     },
     "execution_count": 13,
     "metadata": {},
     "output_type": "execute_result"
    }
   ],
   "source": [
    "status_cols.loc[lambda self: self['Measurement_Location'] == 'Kitchen', 'Load_Match']"
   ],
   "metadata": {
    "collapsed": false,
    "pycharm": {
     "name": "#%%\n"
    }
   }
  },
  {
   "cell_type": "code",
   "execution_count": 14,
   "outputs": [
    {
     "ename": "AttributeError",
     "evalue": "Can only use .dt accessor with datetimelike values",
     "output_type": "error",
     "traceback": [
      "\u001B[1;31m---------------------------------------------------------------------------\u001B[0m",
      "\u001B[1;31mAttributeError\u001B[0m                            Traceback (most recent call last)",
      "Input \u001B[1;32mIn [14]\u001B[0m, in \u001B[0;36m<module>\u001B[1;34m\u001B[0m\n\u001B[1;32m----> 1\u001B[0m timestamp_dict[\u001B[38;5;124m'\u001B[39m\u001B[38;5;124mYear1\u001B[39m\u001B[38;5;124m'\u001B[39m][\u001B[38;5;124m'\u001B[39m\u001B[38;5;124mLoad_StatusBA1Lights\u001B[39m\u001B[38;5;124m'\u001B[39m]\u001B[38;5;241m.\u001B[39mgroupby(\u001B[43mtimestamp_dict\u001B[49m\u001B[43m[\u001B[49m\u001B[38;5;124;43m'\u001B[39;49m\u001B[38;5;124;43mYear1\u001B[39;49m\u001B[38;5;124;43m'\u001B[39;49m\u001B[43m]\u001B[49m\u001B[43m[\u001B[49m\u001B[38;5;124;43m'\u001B[39;49m\u001B[38;5;124;43mLoad_StatusBA1Lights\u001B[39;49m\u001B[38;5;124;43m'\u001B[39;49m\u001B[43m]\u001B[49m\u001B[38;5;241;43m.\u001B[39;49m\u001B[43mdt\u001B[49m\u001B[38;5;241m.\u001B[39mhour)\u001B[38;5;241m.\u001B[39msize()\n",
      "File \u001B[1;32mD:\\Users\\mgejl\\GitHub\\StellarisModdding\\Datavidenskab-P6\\lib\\site-packages\\pandas\\core\\generic.py:5583\u001B[0m, in \u001B[0;36mNDFrame.__getattr__\u001B[1;34m(self, name)\u001B[0m\n\u001B[0;32m   5576\u001B[0m \u001B[38;5;28;01mif\u001B[39;00m (\n\u001B[0;32m   5577\u001B[0m     name \u001B[38;5;129;01mnot\u001B[39;00m \u001B[38;5;129;01min\u001B[39;00m \u001B[38;5;28mself\u001B[39m\u001B[38;5;241m.\u001B[39m_internal_names_set\n\u001B[0;32m   5578\u001B[0m     \u001B[38;5;129;01mand\u001B[39;00m name \u001B[38;5;129;01mnot\u001B[39;00m \u001B[38;5;129;01min\u001B[39;00m \u001B[38;5;28mself\u001B[39m\u001B[38;5;241m.\u001B[39m_metadata\n\u001B[0;32m   5579\u001B[0m     \u001B[38;5;129;01mand\u001B[39;00m name \u001B[38;5;129;01mnot\u001B[39;00m \u001B[38;5;129;01min\u001B[39;00m \u001B[38;5;28mself\u001B[39m\u001B[38;5;241m.\u001B[39m_accessors\n\u001B[0;32m   5580\u001B[0m     \u001B[38;5;129;01mand\u001B[39;00m \u001B[38;5;28mself\u001B[39m\u001B[38;5;241m.\u001B[39m_info_axis\u001B[38;5;241m.\u001B[39m_can_hold_identifiers_and_holds_name(name)\n\u001B[0;32m   5581\u001B[0m ):\n\u001B[0;32m   5582\u001B[0m     \u001B[38;5;28;01mreturn\u001B[39;00m \u001B[38;5;28mself\u001B[39m[name]\n\u001B[1;32m-> 5583\u001B[0m \u001B[38;5;28;01mreturn\u001B[39;00m \u001B[38;5;28;43mobject\u001B[39;49m\u001B[38;5;241;43m.\u001B[39;49m\u001B[38;5;21;43m__getattribute__\u001B[39;49m\u001B[43m(\u001B[49m\u001B[38;5;28;43mself\u001B[39;49m\u001B[43m,\u001B[49m\u001B[43m \u001B[49m\u001B[43mname\u001B[49m\u001B[43m)\u001B[49m\n",
      "File \u001B[1;32mD:\\Users\\mgejl\\GitHub\\StellarisModdding\\Datavidenskab-P6\\lib\\site-packages\\pandas\\core\\accessor.py:182\u001B[0m, in \u001B[0;36mCachedAccessor.__get__\u001B[1;34m(self, obj, cls)\u001B[0m\n\u001B[0;32m    179\u001B[0m \u001B[38;5;28;01mif\u001B[39;00m obj \u001B[38;5;129;01mis\u001B[39;00m \u001B[38;5;28;01mNone\u001B[39;00m:\n\u001B[0;32m    180\u001B[0m     \u001B[38;5;66;03m# we're accessing the attribute of the class, i.e., Dataset.geo\u001B[39;00m\n\u001B[0;32m    181\u001B[0m     \u001B[38;5;28;01mreturn\u001B[39;00m \u001B[38;5;28mself\u001B[39m\u001B[38;5;241m.\u001B[39m_accessor\n\u001B[1;32m--> 182\u001B[0m accessor_obj \u001B[38;5;241m=\u001B[39m \u001B[38;5;28;43mself\u001B[39;49m\u001B[38;5;241;43m.\u001B[39;49m\u001B[43m_accessor\u001B[49m\u001B[43m(\u001B[49m\u001B[43mobj\u001B[49m\u001B[43m)\u001B[49m\n\u001B[0;32m    183\u001B[0m \u001B[38;5;66;03m# Replace the property with the accessor object. Inspired by:\u001B[39;00m\n\u001B[0;32m    184\u001B[0m \u001B[38;5;66;03m# https://www.pydanny.com/cached-property.html\u001B[39;00m\n\u001B[0;32m    185\u001B[0m \u001B[38;5;66;03m# We need to use object.__setattr__ because we overwrite __setattr__ on\u001B[39;00m\n\u001B[0;32m    186\u001B[0m \u001B[38;5;66;03m# NDFrame\u001B[39;00m\n\u001B[0;32m    187\u001B[0m \u001B[38;5;28mobject\u001B[39m\u001B[38;5;241m.\u001B[39m\u001B[38;5;21m__setattr__\u001B[39m(obj, \u001B[38;5;28mself\u001B[39m\u001B[38;5;241m.\u001B[39m_name, accessor_obj)\n",
      "File \u001B[1;32mD:\\Users\\mgejl\\GitHub\\StellarisModdding\\Datavidenskab-P6\\lib\\site-packages\\pandas\\core\\indexes\\accessors.py:509\u001B[0m, in \u001B[0;36mCombinedDatetimelikeProperties.__new__\u001B[1;34m(cls, data)\u001B[0m\n\u001B[0;32m    506\u001B[0m \u001B[38;5;28;01melif\u001B[39;00m is_period_dtype(data\u001B[38;5;241m.\u001B[39mdtype):\n\u001B[0;32m    507\u001B[0m     \u001B[38;5;28;01mreturn\u001B[39;00m PeriodProperties(data, orig)\n\u001B[1;32m--> 509\u001B[0m \u001B[38;5;28;01mraise\u001B[39;00m \u001B[38;5;167;01mAttributeError\u001B[39;00m(\u001B[38;5;124m\"\u001B[39m\u001B[38;5;124mCan only use .dt accessor with datetimelike values\u001B[39m\u001B[38;5;124m\"\u001B[39m)\n",
      "\u001B[1;31mAttributeError\u001B[0m: Can only use .dt accessor with datetimelike values"
     ]
    }
   ],
   "source": [
    "timestamp_dict['Year1']['Load_StatusBA1Lights'].groupby(timestamp_dict['Year1']['Load_StatusBA1Lights'].dt.hour).size()"
   ],
   "metadata": {
    "collapsed": false,
    "pycharm": {
     "name": "#%%\n"
    }
   }
  },
  {
   "cell_type": "markdown",
   "source": [
    "## Calculate the watt used in redudant intervals"
   ],
   "metadata": {
    "collapsed": false
   }
  },
  {
   "cell_type": "markdown",
   "source": [
    "## Plot the redundant time intervals and highlight them with colors"
   ],
   "metadata": {
    "collapsed": false
   }
  },
  {
   "cell_type": "code",
   "execution_count": null,
   "outputs": [],
   "source": [],
   "metadata": {
    "collapsed": false,
    "pycharm": {
     "name": "#%%\n"
    }
   }
  },
  {
   "cell_type": "code",
   "execution_count": null,
   "outputs": [],
   "source": [
    "fig = px.scatter(NZERTF, x='Timestamp', y='Load_MBRPlugLoadsPowerUsage')\n",
    "fig.show()"
   ],
   "metadata": {
    "collapsed": false,
    "pycharm": {
     "name": "#%%\n"
    }
   }
  },
  {
   "cell_type": "code",
   "execution_count": null,
   "outputs": [],
   "source": [],
   "metadata": {
    "collapsed": false,
    "pycharm": {
     "name": "#%%\n"
    }
   }
  }
 ],
 "metadata": {
  "kernelspec": {
   "display_name": "Python 3",
   "language": "python",
   "name": "python3"
  },
  "language_info": {
   "codemirror_mode": {
    "name": "ipython",
    "version": 2
   },
   "file_extension": ".py",
   "mimetype": "text/x-python",
   "name": "python",
   "nbconvert_exporter": "python",
   "pygments_lexer": "ipython2",
   "version": "2.7.6"
  }
 },
 "nbformat": 4,
 "nbformat_minor": 0
}
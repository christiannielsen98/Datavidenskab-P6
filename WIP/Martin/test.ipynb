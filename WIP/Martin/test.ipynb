{
 "cells": [
  {
   "cell_type": "code",
   "execution_count": 12,
   "metadata": {
    "collapsed": true
   },
   "outputs": [],
   "source": [
    "import plotly.express as px\n",
    "import pandas as pd\n",
    "import numpy as np\n",
    "from Project.Database import Db\n",
    "from Project._04TPMAlgorithm.transform_for_TPM_algorithm import create_column_translator"
   ]
  },
  {
   "cell_type": "code",
   "execution_count": 13,
   "outputs": [],
   "source": [
    "def find_status_one(dataframe, status_atts):\n",
    "    if isinstance(status_atts, list) and len(status_atts) >= 1:\n",
    "        return dataframe.loc[(lambda self: self[status_atts].sum(1) == len(status_atts))]\n",
    "    elif isinstance(status_atts, str):\n",
    "        return dataframe.loc[(lambda self: self[status_atts] == 1)]\n",
    "    else:\n",
    "        return dataframe"
   ],
   "metadata": {
    "collapsed": false,
    "pycharm": {
     "name": "#%%\n"
    }
   }
  },
  {
   "cell_type": "code",
   "execution_count": 14,
   "outputs": [],
   "source": [
    "def find_status_zero(dataframe, status_atts):\n",
    "    if isinstance(status_atts, list) and len(status_atts) >= 1:\n",
    "        return dataframe.loc[(lambda self: self[status_atts].sum(1) == 0)]\n",
    "    elif isinstance(status_atts, str):\n",
    "        return dataframe.loc[(lambda self: self[status_atts] == 0)]\n",
    "    else:\n",
    "        return dataframe"
   ],
   "metadata": {
    "collapsed": false,
    "pycharm": {
     "name": "#%%\n"
    }
   }
  },
  {
   "cell_type": "code",
   "execution_count": 15,
   "outputs": [],
   "source": [
    "def find_status_ppl_same_floor(status_row):\n",
    "    tmp_meta = status_cols.copy()\n",
    "    return tmp_meta.loc[(lambda self: (self.index.str.contains('SensHeat')) & (\n",
    "            self['Measurement_Floor'] == status_row['Measurement_Floor']))].index.tolist()"
   ],
   "metadata": {
    "collapsed": false,
    "pycharm": {
     "name": "#%%\n"
    }
   }
  },
  {
   "cell_type": "code",
   "execution_count": 16,
   "outputs": [],
   "source": [
    "def find_status_siblings(status_row, status_att):\n",
    "    tmp_meta = status_cols.copy()\n",
    "    tmp_meta.drop(status_att, inplace=True)\n",
    "    return tmp_meta.loc[(lambda self: (self['Load_Match'] == status_row['Load_Match']))].index.tolist()"
   ],
   "metadata": {
    "collapsed": false,
    "pycharm": {
     "name": "#%%\n"
    }
   }
  },
  {
   "cell_type": "code",
   "execution_count": 17,
   "outputs": [],
   "source": [
    "def find_status_siblings_zero(dataframe, status_row, status_att):\n",
    "    return find_status_zero(dataframe, find_status_siblings(status_row, status_att))"
   ],
   "metadata": {
    "collapsed": false,
    "pycharm": {
     "name": "#%%\n"
    }
   }
  },
  {
   "cell_type": "code",
   "execution_count": 18,
   "outputs": [],
   "source": [
    "def remove_zero_consumption(dataframe, status_row):\n",
    "    return dataframe.loc[lambda self: self[status_row['Load_Match']] > 0]"
   ],
   "metadata": {
    "collapsed": false,
    "pycharm": {
     "name": "#%%\n"
    }
   }
  },
  {
   "cell_type": "code",
   "execution_count": 19,
   "outputs": [],
   "source": [
    "def find_power_consumption(dataframe, status_row, status_att):\n",
    "    dataframe = remove_zero_consumption(find_status_one(dataframe, status_att), status_row)\n",
    "    # return dataframe[status_row['Load_Match']].div(dataframe[find_status_siblings(status_row, status_att)].sum(1) + 1).mean()\n",
    "    dataframe_siblings_zero = find_status_siblings_zero(dataframe, status_row, status_att)\n",
    "    if dataframe_siblings_zero.shape[0] > 0:\n",
    "        return dataframe_siblings_zero[status_row['Load_Match']].mean()\n",
    "    else:\n",
    "        return dataframe[status_row['Load_Match']].div(\n",
    "            dataframe[find_status_siblings(status_row, status_att)].sum(1) + 1).mean()"
   ],
   "metadata": {
    "collapsed": false,
    "pycharm": {
     "name": "#%%\n"
    }
   }
  },
  {
   "cell_type": "code",
   "execution_count": 20,
   "outputs": [],
   "source": [
    "def find_redundancy(house, status_cols, energy=False):\n",
    "    redundancy_df = pd.DataFrame(columns=['RedundantMinutes', 'PowerConsumption', 'EnergyConsumed'])\n",
    "    timestamp_dict = {}\n",
    "\n",
    "    appliance_status = status_cols.loc[(lambda self:\n",
    "                                        (~self.index.str.contains('SensHeat')) &\n",
    "                                        (~self['Measurement_Location'].isin(['Kitchen', 'Utility'])) &\n",
    "                                        (self['Subsystem'] == 'Loads'))]\n",
    "\n",
    "    for att, row in appliance_status.iterrows():\n",
    "\n",
    "        power_consumption = find_power_consumption(house, row, att)\n",
    "        tmp_df = find_status_one(house, att)\n",
    "\n",
    "        if att == 'Load_StatusPlugLoadVacuum':\n",
    "            ppl = status_cols.loc[(lambda self: (self.index.str.contains('SensHeat')))].index.tolist()\n",
    "\n",
    "        elif row['Measurement_Location'] == 'Bedroom2':\n",
    "            ppl = 'Load_StatusSensHeatChildAUP'\n",
    "\n",
    "        elif row['Measurement_Location'] == 'Bedroom3':\n",
    "            ppl = 'Load_StatusSensHeatChildBUP'\n",
    "\n",
    "        elif row['Measurement_Location'] in ['MasterBedroom', 'MasterBathroom']:\n",
    "            ppl = ['Load_StatusSensHeatPrntAUP', 'Load_StatusSensHeatPrntBUP']\n",
    "\n",
    "        elif row['Measurement_Location'] == 'Bedroom4':\n",
    "            ppl = ['Load_StatusSensHeatPrntADOWN', 'Load_StatusSensHeatPrntBDOWN']\n",
    "\n",
    "        else:\n",
    "            ppl = find_status_ppl_same_floor(row)\n",
    "\n",
    "        tmp_df = find_status_zero(tmp_df, ppl)\n",
    "\n",
    "        redundancy_df.loc[att] = {\n",
    "            'PowerConsumption': power_consumption,\n",
    "            'RedundantMinutes': tmp_df.shape[0],\n",
    "            'EnergyConsumed': f'{tmp_df.shape[0] * power_consumption / 60 / 1000} kWh'\n",
    "        }\n",
    "        timestamp_dict[att] = tmp_df['Timestamp']\n",
    "\n",
    "    return redundancy_df, timestamp_dict"
   ],
   "metadata": {
    "collapsed": false,
    "pycharm": {
     "name": "#%%\n"
    }
   }
  },
  {
   "cell_type": "code",
   "execution_count": 24,
   "outputs": [
    {
     "data": {
      "text/plain": "({'Year1':                                       RedundantMinutes  PowerConsumption  \\\n  Load_StatusBA1Lights                               215         42.648803   \n  Load_StatusBA2Lights                              1515         11.609812   \n  Load_StatusBR2Lights                             12081         40.063462   \n  Load_StatusBR3Lights                             11651         33.199784   \n  Load_StatusBR4Lights                                60         46.461190   \n  Load_StatusDRLights                                  1         43.319580   \n  Load_StatusEntryHallLights                           1         20.188646   \n  Load_StatusLRLights1                                 0         22.774127   \n  Load_StatusLRLights2                               410         27.784904   \n  Load_StatusLRLights3                                 0         27.696870   \n  Load_StatusMBALights                               117         84.547482   \n  Load_StatusMBRLights1                               75         24.903729   \n  Load_StatusMBRLights2                               82         24.903927   \n  Load_StatusPlugLoadBR2Laptop                     13895         55.429740   \n  Load_StatusPlugLoadBR3Laptop                     14025         33.779539   \n  Load_StatusPlugLoadDesktopPCMonitor               6120         88.037756   \n  Load_StatusPlugLoadFan                             171         21.953695   \n  Load_StatusPlugLoadHairDryerCurlIron                 0         21.753644   \n  Load_StatusPlugLoadHeatingPad                        0         27.183444   \n  Load_StatusPlugLoadIron                            502       1304.705841   \n  Load_StatusPlugLoadLRBlueRay                         0         41.835893   \n  Load_StatusPlugLoadLRTV                            510         76.066017   \n  Load_StatusPlugLoadMBRBlueRay                        0         25.696068   \n  Load_StatusPlugLoadMBRTV                            75         45.105749   \n  Load_StatusPlugLoadVacuum                            0        583.783697   \n  Load_StatusPlugLoadVideoGame                         1         39.154153   \n  \n                                                   EnergyConsumed  \n  Load_StatusBA1Lights                    0.15282487746961787 kWh  \n  Load_StatusBA2Lights                     0.2931477582766075 kWh  \n  Load_StatusBR2Lights                      8.066778046683991 kWh  \n  Load_StatusBR3Lights                      6.446844757235564 kWh  \n  Load_StatusBR4Lights                   0.046461189966353164 kWh  \n  Load_StatusDRLights                   0.0007219930018339323 kWh  \n  Load_StatusEntryHallLights            0.0003364774386088054 kWh  \n  Load_StatusLRLights1                                    0.0 kWh  \n  Load_StatusLRLights2                    0.18986351277145938 kWh  \n  Load_StatusLRLights3                                    0.0 kWh  \n  Load_StatusMBALights                    0.16486758895340614 kWh  \n  Load_StatusMBRLights1                  0.031129661601035148 kWh  \n  Load_StatusMBRLights2                  0.034035367421099263 kWh  \n  Load_StatusPlugLoadBR2Laptop             12.836603867740054 kWh  \n  Load_StatusPlugLoadBR3Laptop               7.89596714067111 kWh  \n  Load_StatusPlugLoadDesktopPCMonitor       8.979851117189542 kWh  \n  Load_StatusPlugLoadFan                  0.06256803071327693 kWh  \n  Load_StatusPlugLoadHairDryerCurlIron                    0.0 kWh  \n  Load_StatusPlugLoadHeatingPad                           0.0 kWh  \n  Load_StatusPlugLoadIron                  10.916038872410434 kWh  \n  Load_StatusPlugLoadLRBlueRay                            0.0 kWh  \n  Load_StatusPlugLoadLRTV                  0.6465611471800587 kWh  \n  Load_StatusPlugLoadMBRBlueRay                           0.0 kWh  \n  Load_StatusPlugLoadMBRTV                0.05638218686668054 kWh  \n  Load_StatusPlugLoadVacuum                               0.0 kWh  \n  Load_StatusPlugLoadVideoGame          0.0006525692228901061 kWh  ,\n  'Year2':                                      RedundantMinutes  PowerConsumption  \\\n  Load_StatusBA1Lights                                0         44.188547   \n  Load_StatusDRLights                                 0         43.005068   \n  Load_StatusLRLights3                                0         27.731544   \n  Load_StatusMBALights                                0         84.438933   \n  Load_StatusMBRLights1                               1         24.950141   \n  Load_StatusMBRLights2                               1         24.950141   \n  Load_StatusBA2Lights                             1575         11.333086   \n  Load_StatusBR2Lights                            11663         39.961489   \n  Load_StatusBR3Lights                            11609         33.188112   \n  Load_StatusLRLights2                                0         27.731544   \n  Load_StatusPlugLoadLRTV                           530         61.567884   \n  Load_StatusPlugLoadLRBlueRay                        0         35.131797   \n  Load_StatusPlugLoadVideoGame                        0         24.481691   \n  Load_StatusPlugLoadVacuum                           0        630.502717   \n  Load_StatusPlugLoadDesktopPCMonitor              6300        135.758954   \n  Load_StatusPlugLoadBR2Laptop                    13949         55.200403   \n  Load_StatusPlugLoadBR3Laptop                    13949         33.248331   \n  Load_StatusPlugLoadMBRTV                            0        267.209669   \n  Load_StatusPlugLoadMBRBlueRay                       0         43.107046   \n  Load_StatusPlugLoadFan                            102         77.570340   \n  Load_StatusPlugLoadHeatingPad                       0         48.544645   \n  Load_StatusPlugLoadIron                           525       1301.331414   \n  \n                                                   EnergyConsumed  \n  Load_StatusBA1Lights                                    0.0 kWh  \n  Load_StatusDRLights                                     0.0 kWh  \n  Load_StatusLRLights3                                    0.0 kWh  \n  Load_StatusMBALights                                    0.0 kWh  \n  Load_StatusMBRLights1                0.00041583567570504214 kWh  \n  Load_StatusMBRLights2                0.00041583567570504214 kWh  \n  Load_StatusBA2Lights                     0.2974935077730322 kWh  \n  Load_StatusBR2Lights                      7.767847466423607 kWh  \n  Load_StatusBR3Lights                      6.421346457018187 kWh  \n  Load_StatusLRLights2                                    0.0 kWh  \n  Load_StatusPlugLoadLRTV                  0.5438496424013171 kWh  \n  Load_StatusPlugLoadLRBlueRay                            0.0 kWh  \n  Load_StatusPlugLoadVideoGame                            0.0 kWh  \n  Load_StatusPlugLoadVacuum                               0.0 kWh  \n  Load_StatusPlugLoadDesktopPCMonitor      14.254690220981542 kWh  \n  Load_StatusPlugLoadBR2Laptop             12.833173575675549 kWh  \n  Load_StatusPlugLoadBR3Laptop              7.729682830302333 kWh  \n  Load_StatusPlugLoadMBRTV                                0.0 kWh  \n  Load_StatusPlugLoadMBRBlueRay                           0.0 kWh  \n  Load_StatusPlugLoadFan                  0.13186957785537667 kWh  \n  Load_StatusPlugLoadHeatingPad                           0.0 kWh  \n  Load_StatusPlugLoadIron                   11.38664987596462 kWh  },\n {'Year1': {'Load_StatusBA1Lights': 67117   2013-08-19 20:50:30\n   67118   2013-08-19 20:51:30\n   67119   2013-08-19 20:52:30\n   67120   2013-08-19 20:53:30\n   67121   2013-08-19 20:54:30\n                   ...        \n   81581   2013-08-29 22:24:38\n   81582   2013-08-29 22:25:38\n   81583   2013-08-29 22:26:38\n   81584   2013-08-29 22:27:38\n   81585   2013-08-29 22:28:38\n   Name: Timestamp, Length: 215, dtype: datetime64[ns],\n   'Load_StatusBA2Lights': 6928     2013-07-05 19:58:28\n   6929     2013-07-05 19:59:28\n   6930     2013-07-05 20:00:27\n   6931     2013-07-05 20:01:27\n   6932     2013-07-05 20:02:27\n                    ...        \n   516496   2014-06-29 09:09:11\n   516497   2014-06-29 09:10:11\n   516498   2014-06-29 09:11:11\n   516499   2014-06-29 09:12:11\n   516500   2014-06-29 09:13:11\n   Name: Timestamp, Length: 1515, dtype: datetime64[ns],\n   'Load_StatusBR2Lights': 397      2013-07-01 06:38:17\n   398      2013-07-01 06:39:17\n   399      2013-07-01 06:40:17\n   400      2013-07-01 06:41:17\n   401      2013-07-01 06:42:17\n                    ...        \n   517157   2014-06-29 20:10:11\n   517158   2014-06-29 20:11:11\n   517159   2014-06-29 20:12:11\n   517160   2014-06-29 20:13:11\n   517378   2014-06-29 23:59:10\n   Name: Timestamp, Length: 12081, dtype: datetime64[ns],\n   'Load_StatusBR3Lights': 407      2013-07-01 06:48:17\n   408      2013-07-01 06:49:17\n   409      2013-07-01 06:50:17\n   410      2013-07-01 06:51:17\n   411      2013-07-01 06:52:17\n                    ...        \n   517156   2014-06-29 20:09:11\n   517157   2014-06-29 20:10:11\n   517158   2014-06-29 20:11:11\n   517159   2014-06-29 20:12:11\n   517160   2014-06-29 20:13:11\n   Name: Timestamp, Length: 11651, dtype: datetime64[ns],\n   'Load_StatusBR4Lights': 67189   2013-08-19 22:04:30\n   67190   2013-08-19 22:05:30\n   67191   2013-08-19 22:06:30\n   67192   2013-08-19 22:07:30\n   67193   2013-08-19 22:08:30\n   67194   2013-08-19 22:09:30\n   67195   2013-08-19 22:10:30\n   67196   2013-08-19 22:11:30\n   67197   2013-08-19 22:12:30\n   67198   2013-08-19 22:13:30\n   67199   2013-08-19 22:14:30\n   67200   2013-08-19 22:15:30\n   67201   2013-08-19 22:16:30\n   67202   2013-08-19 22:17:30\n   67203   2013-08-19 22:18:30\n   67204   2013-08-19 22:19:30\n   67205   2013-08-19 22:20:30\n   67206   2013-08-19 22:21:30\n   67207   2013-08-19 22:22:30\n   67208   2013-08-19 22:23:30\n   67214   2013-08-19 22:29:30\n   67215   2013-08-19 22:30:30\n   67216   2013-08-19 22:31:29\n   67217   2013-08-19 22:32:29\n   67218   2013-08-19 22:33:29\n   67219   2013-08-19 22:34:29\n   67220   2013-08-19 22:35:29\n   67221   2013-08-19 22:36:29\n   67222   2013-08-19 22:37:29\n   67223   2013-08-19 22:38:29\n   81561   2013-08-29 22:04:38\n   81562   2013-08-29 22:05:38\n   81563   2013-08-29 22:06:38\n   81564   2013-08-29 22:07:38\n   81565   2013-08-29 22:08:38\n   81566   2013-08-29 22:09:38\n   81567   2013-08-29 22:10:38\n   81568   2013-08-29 22:11:38\n   81569   2013-08-29 22:12:38\n   81570   2013-08-29 22:13:38\n   81571   2013-08-29 22:14:38\n   81572   2013-08-29 22:15:38\n   81573   2013-08-29 22:16:38\n   81574   2013-08-29 22:17:38\n   81575   2013-08-29 22:18:38\n   81576   2013-08-29 22:19:38\n   81577   2013-08-29 22:20:38\n   81578   2013-08-29 22:21:38\n   81579   2013-08-29 22:22:38\n   81580   2013-08-29 22:23:38\n   81586   2013-08-29 22:29:38\n   81587   2013-08-29 22:30:38\n   81588   2013-08-29 22:31:38\n   81589   2013-08-29 22:32:38\n   81590   2013-08-29 22:33:38\n   81591   2013-08-29 22:34:38\n   81592   2013-08-29 22:35:38\n   81593   2013-08-29 22:36:38\n   81594   2013-08-29 22:37:38\n   81595   2013-08-29 22:38:38\n   Name: Timestamp, dtype: datetime64[ns],\n   'Load_StatusDRLights': 395901   2014-04-05 19:41:40\n   Name: Timestamp, dtype: datetime64[ns],\n   'Load_StatusEntryHallLights': 395901   2014-04-05 19:41:40\n   Name: Timestamp, dtype: datetime64[ns],\n   'Load_StatusLRLights1': Series([], Name: Timestamp, dtype: datetime64[ns]),\n   'Load_StatusLRLights2': 67117   2013-08-19 20:50:30\n   67118   2013-08-19 20:51:30\n   67119   2013-08-19 20:52:30\n   67120   2013-08-19 20:53:30\n   67121   2013-08-19 20:54:30\n                   ...        \n   81671   2013-08-29 23:55:38\n   81672   2013-08-29 23:56:38\n   81673   2013-08-29 23:57:38\n   81674   2013-08-29 23:58:38\n   81675   2013-08-30 00:00:38\n   Name: Timestamp, Length: 410, dtype: datetime64[ns],\n   'Load_StatusLRLights3': Series([], Name: Timestamp, dtype: datetime64[ns]),\n   'Load_StatusMBALights': 208      2013-07-01 03:29:17\n   209      2013-07-01 03:30:17\n   210      2013-07-01 03:31:17\n   237      2013-07-01 03:58:17\n   238      2013-07-01 03:59:17\n                    ...        \n   253653   2013-12-27 18:01:03\n   253654   2013-12-27 18:02:03\n   253655   2013-12-27 18:03:03\n   253656   2013-12-27 18:04:03\n   253657   2013-12-27 18:05:03\n   Name: Timestamp, Length: 117, dtype: datetime64[ns],\n   'Load_StatusMBRLights1': 372    2013-07-01 06:13:17\n   373    2013-07-01 06:14:17\n   374    2013-07-01 06:15:17\n   375    2013-07-01 06:16:17\n   376    2013-07-01 06:17:17\n                  ...        \n   6113   2013-07-05 06:23:29\n   6114   2013-07-05 06:24:29\n   6115   2013-07-05 06:25:29\n   6116   2013-07-05 06:26:29\n   6117   2013-07-05 06:27:29\n   Name: Timestamp, Length: 75, dtype: datetime64[ns],\n   'Load_StatusMBRLights2': 372     2013-07-01 06:13:17\n   373     2013-07-01 06:14:17\n   374     2013-07-01 06:15:17\n   375     2013-07-01 06:16:17\n   376     2013-07-01 06:17:17\n                   ...        \n   81448   2013-08-29 20:09:38\n   81449   2013-08-29 20:10:38\n   81450   2013-08-29 20:11:38\n   81451   2013-08-29 20:12:38\n   81452   2013-08-29 20:13:38\n   Name: Timestamp, Length: 82, dtype: datetime64[ns],\n   'Load_StatusPlugLoadBR2Laptop': 1146     2013-07-01 19:28:31\n   1147     2013-07-01 19:29:31\n   1148     2013-07-01 19:30:31\n   1149     2013-07-01 19:31:31\n   1150     2013-07-01 19:32:31\n                    ...        \n   518587   2014-06-30 20:09:22\n   518588   2014-06-30 20:10:22\n   518589   2014-06-30 20:11:22\n   518590   2014-06-30 20:12:22\n   518591   2014-06-30 20:13:22\n   Name: Timestamp, Length: 13895, dtype: datetime64[ns],\n   'Load_StatusPlugLoadBR3Laptop': 1146     2013-07-01 19:28:31\n   1147     2013-07-01 19:29:31\n   1148     2013-07-01 19:30:31\n   1149     2013-07-01 19:31:31\n   1150     2013-07-01 19:32:31\n                    ...        \n   518587   2014-06-30 20:09:22\n   518588   2014-06-30 20:10:22\n   518589   2014-06-30 20:11:22\n   518590   2014-06-30 20:12:22\n   518591   2014-06-30 20:13:22\n   Name: Timestamp, Length: 14025, dtype: datetime64[ns],\n   'Load_StatusPlugLoadDesktopPCMonitor': 7766     2013-07-06 09:58:27\n   7767     2013-07-06 09:59:27\n   7768     2013-07-06 10:00:27\n   7769     2013-07-06 10:01:27\n   7770     2013-07-06 10:02:27\n                    ...        \n   516601   2014-06-29 10:54:11\n   516602   2014-06-29 10:55:11\n   516603   2014-06-29 10:56:11\n   516604   2014-06-29 10:57:11\n   516605   2014-06-29 10:58:11\n   Name: Timestamp, Length: 6120, dtype: datetime64[ns],\n   'Load_StatusPlugLoadFan': 2852     2013-07-02 23:57:28\n   2853     2013-07-02 23:58:28\n   5728     2013-07-04 23:57:25\n   5729     2013-07-04 23:58:25\n   12907    2013-07-09 23:58:34\n                    ...        \n   502997   2014-06-19 23:57:53\n   502998   2014-06-19 23:58:53\n   510196   2014-06-24 23:57:42\n   510197   2014-06-24 23:58:42\n   513072   2014-06-26 23:58:45\n   Name: Timestamp, Length: 171, dtype: datetime64[ns],\n   'Load_StatusPlugLoadHairDryerCurlIron': Series([], Name: Timestamp, dtype: datetime64[ns]),\n   'Load_StatusPlugLoadHeatingPad': Series([], Name: Timestamp, dtype: datetime64[ns]),\n   'Load_StatusPlugLoadIron': 9474     2013-07-07 14:28:27\n   9475     2013-07-07 14:29:27\n   9476     2013-07-07 14:30:27\n   9477     2013-07-07 14:31:27\n   9478     2013-07-07 14:32:27\n                    ...        \n   516821   2014-06-29 14:34:11\n   516822   2014-06-29 14:35:11\n   516823   2014-06-29 14:36:11\n   516824   2014-06-29 14:37:11\n   516825   2014-06-29 14:38:11\n   Name: Timestamp, Length: 502, dtype: datetime64[ns],\n   'Load_StatusPlugLoadLRBlueRay': Series([], Name: Timestamp, dtype: datetime64[ns]),\n   'Load_StatusPlugLoadLRTV': 9954     2013-07-07 22:28:26\n   9955     2013-07-07 22:29:26\n   9956     2013-07-07 22:30:26\n   9957     2013-07-07 22:31:26\n   9958     2013-07-07 22:32:26\n                    ...        \n   517301   2014-06-29 22:34:10\n   517302   2014-06-29 22:35:10\n   517303   2014-06-29 22:36:10\n   517304   2014-06-29 22:37:10\n   517305   2014-06-29 22:38:10\n   Name: Timestamp, Length: 510, dtype: datetime64[ns],\n   'Load_StatusPlugLoadMBRBlueRay': Series([], Name: Timestamp, dtype: datetime64[ns]),\n   'Load_StatusPlugLoadMBRTV': 372    2013-07-01 06:13:17\n   373    2013-07-01 06:14:17\n   374    2013-07-01 06:15:17\n   375    2013-07-01 06:16:17\n   376    2013-07-01 06:17:17\n                  ...        \n   6113   2013-07-05 06:23:29\n   6114   2013-07-05 06:24:29\n   6115   2013-07-05 06:25:29\n   6116   2013-07-05 06:26:29\n   6117   2013-07-05 06:27:29\n   Name: Timestamp, Length: 75, dtype: datetime64[ns],\n   'Load_StatusPlugLoadVacuum': Series([], Name: Timestamp, dtype: datetime64[ns]),\n   'Load_StatusPlugLoadVideoGame': 395901   2014-04-05 19:41:40\n   Name: Timestamp, dtype: datetime64[ns]},\n  'Year2': {'Load_StatusBA1Lights': Series([], Name: Timestamp, dtype: datetime64[ns]),\n   'Load_StatusDRLights': Series([], Name: Timestamp, dtype: datetime64[ns]),\n   'Load_StatusLRLights3': Series([], Name: Timestamp, dtype: datetime64[ns]),\n   'Load_StatusMBALights': Series([], Name: Timestamp, dtype: datetime64[ns]),\n   'Load_StatusMBRLights1': 389645   2015-11-01 23:59:07\n   Name: Timestamp, dtype: datetime64[ns],\n   'Load_StatusMBRLights2': 389645   2015-11-01 23:59:07\n   Name: Timestamp, dtype: datetime64[ns],\n   'Load_StatusBA2Lights': 538      2015-02-01 08:59:49\n   539      2015-02-01 09:00:49\n   540      2015-02-01 09:01:49\n   541      2015-02-01 09:02:49\n   542      2015-02-01 09:03:49\n                    ...        \n   518714   2016-01-31 09:09:25\n   518715   2016-01-31 09:10:25\n   518716   2016-01-31 09:11:25\n   518717   2016-01-31 09:12:25\n   518718   2016-01-31 09:13:25\n   Name: Timestamp, Length: 1575, dtype: datetime64[ns],\n   'Load_StatusBR2Lights': 1168     2015-02-01 19:29:48\n   1169     2015-02-01 19:30:48\n   1170     2015-02-01 19:31:48\n   1171     2015-02-01 19:32:48\n   1172     2015-02-01 19:33:48\n                    ...        \n   519375   2016-01-31 20:10:24\n   519376   2016-01-31 20:11:24\n   519377   2016-01-31 20:12:24\n   519378   2016-01-31 20:13:24\n   519603   2016-01-31 23:58:24\n   Name: Timestamp, Length: 11663, dtype: datetime64[ns],\n   'Load_StatusBR3Lights': 1168     2015-02-01 19:29:48\n   1169     2015-02-01 19:30:48\n   1170     2015-02-01 19:31:48\n   1171     2015-02-01 19:32:48\n   1172     2015-02-01 19:33:48\n                    ...        \n   519374   2016-01-31 20:09:24\n   519375   2016-01-31 20:10:24\n   519376   2016-01-31 20:11:24\n   519377   2016-01-31 20:12:24\n   519378   2016-01-31 20:13:24\n   Name: Timestamp, Length: 11609, dtype: datetime64[ns],\n   'Load_StatusLRLights2': Series([], Name: Timestamp, dtype: datetime64[ns]),\n   'Load_StatusPlugLoadLRTV': 1348     2015-02-01 22:29:48\n   1349     2015-02-01 22:30:48\n   1350     2015-02-01 22:31:48\n   1351     2015-02-01 22:32:48\n   1352     2015-02-01 22:33:48\n                    ...        \n   519519   2016-01-31 22:34:24\n   519520   2016-01-31 22:35:24\n   519521   2016-01-31 22:36:24\n   519522   2016-01-31 22:37:24\n   519523   2016-01-31 22:38:24\n   Name: Timestamp, Length: 530, dtype: datetime64[ns],\n   'Load_StatusPlugLoadLRBlueRay': Series([], Name: Timestamp, dtype: datetime64[ns]),\n   'Load_StatusPlugLoadVideoGame': Series([], Name: Timestamp, dtype: datetime64[ns]),\n   'Load_StatusPlugLoadVacuum': Series([], Name: Timestamp, dtype: datetime64[ns]),\n   'Load_StatusPlugLoadDesktopPCMonitor': 598      2015-02-01 09:59:49\n   599      2015-02-01 10:00:49\n   600      2015-02-01 10:01:49\n   601      2015-02-01 10:02:49\n   602      2015-02-01 10:03:49\n                    ...        \n   518819   2016-01-31 10:54:25\n   518820   2016-01-31 10:55:25\n   518821   2016-01-31 10:56:25\n   518822   2016-01-31 10:57:25\n   518823   2016-01-31 10:58:25\n   Name: Timestamp, Length: 6300, dtype: datetime64[ns],\n   'Load_StatusPlugLoadBR2Laptop': 1168     2015-02-01 19:29:48\n   1169     2015-02-01 19:30:48\n   1170     2015-02-01 19:31:48\n   1171     2015-02-01 19:32:48\n   1172     2015-02-01 19:33:48\n                    ...        \n   519374   2016-01-31 20:09:24\n   519375   2016-01-31 20:10:24\n   519376   2016-01-31 20:11:24\n   519377   2016-01-31 20:12:24\n   519378   2016-01-31 20:13:24\n   Name: Timestamp, Length: 13949, dtype: datetime64[ns],\n   'Load_StatusPlugLoadBR3Laptop': 1168     2015-02-01 19:29:48\n   1169     2015-02-01 19:30:48\n   1170     2015-02-01 19:31:48\n   1171     2015-02-01 19:32:48\n   1172     2015-02-01 19:33:48\n                    ...        \n   519374   2016-01-31 20:09:24\n   519375   2016-01-31 20:10:24\n   519376   2016-01-31 20:11:24\n   519377   2016-01-31 20:12:24\n   519378   2016-01-31 20:13:24\n   Name: Timestamp, Length: 13949, dtype: datetime64[ns],\n   'Load_StatusPlugLoadMBRTV': Series([], Name: Timestamp, dtype: datetime64[ns]),\n   'Load_StatusPlugLoadMBRBlueRay': Series([], Name: Timestamp, dtype: datetime64[ns]),\n   'Load_StatusPlugLoadFan': 4313     2015-02-03 23:58:30\n   7189     2015-02-05 23:58:13\n   14380    2015-02-10 23:58:37\n   17256    2015-02-12 23:58:26\n   24445    2015-02-17 23:58:57\n                    ...        \n   496060   2016-01-14 23:58:44\n   503250   2016-01-19 23:58:36\n   506126   2016-01-21 23:58:32\n   512413   2016-01-26 23:58:43\n   515289   2016-01-28 23:58:33\n   Name: Timestamp, Length: 102, dtype: datetime64[ns],\n   'Load_StatusPlugLoadHeatingPad': Series([], Name: Timestamp, dtype: datetime64[ns]),\n   'Load_StatusPlugLoadIron': 868      2015-02-01 14:29:49\n   869      2015-02-01 14:30:49\n   870      2015-02-01 14:31:48\n   871      2015-02-01 14:32:48\n   872      2015-02-01 14:33:48\n                    ...        \n   519039   2016-01-31 14:34:24\n   519040   2016-01-31 14:35:24\n   519041   2016-01-31 14:36:24\n   519042   2016-01-31 14:37:24\n   519043   2016-01-31 14:38:24\n   Name: Timestamp, Length: 525, dtype: datetime64[ns]}})"
     },
     "execution_count": 24,
     "metadata": {},
     "output_type": "execute_result"
    }
   ],
   "source": [
    "year_redundancy_df_dict = {}\n",
    "timestamp_dict = {}\n",
    "for year in [1, 2]:\n",
    "    NZERTF, NZERTF_meta = Db.load_data(hourly=False, meta=True, year=year)\n",
    "    status_cols = NZERTF_meta.loc[(lambda self: self['Units'] == 'BinaryStatus')]\n",
    "\n",
    "    year_redundancy_df_dict[f'Year{year}'], timestamp_dict[f'Year{year}'] = find_redundancy(NZERTF, status_cols)\n",
    "\n",
    "year_redundancy_df_dict, timestamp_dict"
   ],
   "metadata": {
    "collapsed": false,
    "pycharm": {
     "name": "#%%\n"
    }
   }
  },
  {
   "cell_type": "code",
   "execution_count": 25,
   "outputs": [
    {
     "data": {
      "text/plain": "{'Year1':                                       RedundantMinutes  PowerConsumption  \\\n Load_StatusBA1Lights                               215         43.418675   \n Load_StatusBA2Lights                              1515         11.471449   \n Load_StatusBR2Lights                             12081         40.012476   \n Load_StatusBR3Lights                             11651         33.193948   \n Load_StatusBR4Lights                                60         46.461190   \n Load_StatusDRLights                                  1         43.162324   \n Load_StatusEntryHallLights                           1         20.188646   \n Load_StatusLRLights1                                 0         22.774127   \n Load_StatusLRLights2                               410         27.758224   \n Load_StatusLRLights3                                 0         27.714207   \n Load_StatusMBALights                               117         84.493207   \n Load_StatusMBRLights1                               75         24.926935   \n Load_StatusMBRLights2                               82         24.927034   \n Load_StatusPlugLoadBR2Laptop                     13895         55.315071   \n Load_StatusPlugLoadBR3Laptop                     14025         33.513935   \n Load_StatusPlugLoadDesktopPCMonitor               6120        111.898355   \n Load_StatusPlugLoadFan                             171         49.762017   \n Load_StatusPlugLoadHairDryerCurlIron                 0         21.753644   \n Load_StatusPlugLoadHeatingPad                        0         37.864045   \n Load_StatusPlugLoadIron                            502       1303.018628   \n Load_StatusPlugLoadLRBlueRay                         0         38.483845   \n Load_StatusPlugLoadLRTV                            510         68.816951   \n Load_StatusPlugLoadMBRBlueRay                        0         34.401557   \n Load_StatusPlugLoadMBRTV                            75        156.157709   \n Load_StatusPlugLoadVacuum                            0        607.143207   \n Load_StatusPlugLoadVideoGame                         1         31.817922   \n \n                                       EnergyConsumed  \n Load_StatusBA1Lights                        0.155584  \n Load_StatusBA2Lights                        0.289654  \n Load_StatusBR2Lights                        8.056512  \n Load_StatusBR3Lights                        6.445711  \n Load_StatusBR4Lights                        0.046461  \n Load_StatusDRLights                         0.000719  \n Load_StatusEntryHallLights                  0.000336  \n Load_StatusLRLights1                        0.000000  \n Load_StatusLRLights2                        0.189681  \n Load_StatusLRLights3                        0.000000  \n Load_StatusMBALights                        0.164762  \n Load_StatusMBRLights1                       0.031159  \n Load_StatusMBRLights2                       0.034067  \n Load_StatusPlugLoadBR2Laptop               12.810049  \n Load_StatusPlugLoadBR3Laptop                7.833882  \n Load_StatusPlugLoadDesktopPCMonitor        11.413632  \n Load_StatusPlugLoadFan                      0.141822  \n Load_StatusPlugLoadHairDryerCurlIron        0.000000  \n Load_StatusPlugLoadHeatingPad               0.000000  \n Load_StatusPlugLoadIron                    10.901923  \n Load_StatusPlugLoadLRBlueRay                0.000000  \n Load_StatusPlugLoadLRTV                     0.584944  \n Load_StatusPlugLoadMBRBlueRay               0.000000  \n Load_StatusPlugLoadMBRTV                    0.195197  \n Load_StatusPlugLoadVacuum                   0.000000  \n Load_StatusPlugLoadVideoGame                0.000530  ,\n 'Year2':                                      RedundantMinutes  PowerConsumption  \\\n Load_StatusBA1Lights                                0         43.803611   \n Load_StatusDRLights                                 0         43.083696   \n Load_StatusLRLights3                                0         27.722875   \n Load_StatusMBALights                                0         84.466070   \n Load_StatusMBRLights1                               1         24.938538   \n Load_StatusMBRLights2                               1         24.938587   \n Load_StatusBA2Lights                             1575         11.402268   \n Load_StatusBR2Lights                            11663         39.986982   \n Load_StatusBR3Lights                            11609         33.191030   \n Load_StatusLRLights2                                0         27.744884   \n Load_StatusPlugLoadLRTV                           530         65.192417   \n Load_StatusPlugLoadLRBlueRay                        0         36.807821   \n Load_StatusPlugLoadVideoGame                        0         28.149807   \n Load_StatusPlugLoadVacuum                           0        618.822962   \n Load_StatusPlugLoadDesktopPCMonitor              6300        123.828655   \n Load_StatusPlugLoadBR2Laptop                    13949         55.257737   \n Load_StatusPlugLoadBR3Laptop                    13949         33.381133   \n Load_StatusPlugLoadMBRTV                            0        211.683689   \n Load_StatusPlugLoadMBRBlueRay                       0         38.754302   \n Load_StatusPlugLoadFan                            102         63.666179   \n Load_StatusPlugLoadHeatingPad                       0         43.204345   \n Load_StatusPlugLoadIron                           525       1302.175021   \n \n                                      EnergyConsumed  \n Load_StatusBA1Lights                       0.000000  \n Load_StatusDRLights                        0.000000  \n Load_StatusLRLights3                       0.000000  \n Load_StatusMBALights                       0.000000  \n Load_StatusMBRLights1                      0.000416  \n Load_StatusMBRLights2                      0.000416  \n Load_StatusBA2Lights                       0.299310  \n Load_StatusBR2Lights                       7.772803  \n Load_StatusBR3Lights                       6.421911  \n Load_StatusLRLights2                       0.000000  \n Load_StatusPlugLoadLRTV                    0.575866  \n Load_StatusPlugLoadLRBlueRay               0.000000  \n Load_StatusPlugLoadVideoGame               0.000000  \n Load_StatusPlugLoadVacuum                  0.000000  \n Load_StatusPlugLoadDesktopPCMonitor       13.002009  \n Load_StatusPlugLoadBR2Laptop              12.846503  \n Load_StatusPlugLoadBR3Laptop               7.760557  \n Load_StatusPlugLoadMBRTV                   0.000000  \n Load_StatusPlugLoadMBRBlueRay              0.000000  \n Load_StatusPlugLoadFan                     0.108233  \n Load_StatusPlugLoadHeatingPad              0.000000  \n Load_StatusPlugLoadIron                   11.394031  }"
     },
     "execution_count": 25,
     "metadata": {},
     "output_type": "execute_result"
    }
   ],
   "source": [
    "for year in [1, 2]:\n",
    "    year_redundancy_df_dict[f'Year{year}']['PowerConsumption'] = pd.DataFrame(year_redundancy_df_dict[f'Year{year}']['PowerConsumption']).merge(right=year_redundancy_df_dict[f'Year{2 if year == 1 else 1}']['PowerConsumption'], how='left', left_index=True, right_index=True).mean(1)\n",
    "    year_redundancy_df_dict[f'Year{year}']['EnergyConsumed'] = year_redundancy_df_dict[f\"Year{year}\"][\"RedundantMinutes\"].multiply(year_redundancy_df_dict[f\"Year{year}\"][\"PowerConsumption\"]).div(60).div(1000)\n",
    "\n",
    "year_redundancy_df_dict"
   ],
   "metadata": {
    "collapsed": false,
    "pycharm": {
     "name": "#%%\n"
    }
   }
  },
  {
   "cell_type": "code",
   "execution_count": 26,
   "outputs": [
    {
     "data": {
      "text/plain": "('2028.52 hours', '119.4787 kWh')"
     },
     "execution_count": 26,
     "metadata": {},
     "output_type": "execute_result"
    }
   ],
   "source": [
    "total_minutes = 0\n",
    "total_energy = 0\n",
    "\n",
    "for year in [1,2]:\n",
    "    total_minutes += year_redundancy_df_dict[f'Year{year}']['RedundantMinutes'].sum() / 60\n",
    "    total_energy += year_redundancy_df_dict[f'Year{year}']['EnergyConsumed'].sum()\n",
    "\n",
    "total_minutes = str(round(total_minutes, 2)) + ' hours'\n",
    "total_energy = str(round(total_energy, 4)) + ' kWh'\n",
    "total_minutes, total_energy"
   ],
   "metadata": {
    "collapsed": false,
    "pycharm": {
     "name": "#%%\n"
    }
   }
  },
  {
   "cell_type": "code",
   "execution_count": 27,
   "outputs": [
    {
     "data": {
      "text/plain": "Unnamed: 0\nLoad_StatusKitchenLightsA                Load_1stFloorLightsPowerUsage\nLoad_StatusKitchenLightsB                Load_1stFloorLightsPowerUsage\nLoad_StatusKitchenLightsC                Load_1stFloorLightsPowerUsage\nLoad_StatusSensHeatPrntADOWN         Elec_PowerHeatLoadforRefrigerator\nLoad_StatusPlugLoadBlender                   Load_KPlugLoadsPowerUsage\nLoad_StatusPlugLoadToasterOven               Load_KPlugLoadsPowerUsage\nLoad_StatusApplianceRangeHood                                      NaN\nLoad_StatusApplianceCooktop                        Load_OvenPowerTotal\nLoad_StatusApplianceOven                           Load_OvenPowerTotal\nLoad_StatusPlugLoadSlowCooker                Load_KPlugLoadsPowerUsage\nLoad_StatusPlugLoadToaster                   Load_KPlugLoadsPowerUsage\nLoad_StatusApplianceDishwasher                                     NaN\nLoad_StatusPlugLoadHandMixer                 Load_KPlugLoadsPowerUsage\nLoad_StatusPlugLoadCanOpener                 Load_KPlugLoadsPowerUsage\nLoad_StatusLatentload                        Load_LatentHeatPowerUsage\nLoad_StatusPlugLoadCoffeeMaker               Load_KPlugLoadsPowerUsage\nDHW_StatusSolenoidHotKitchenSink                                   NaN\nDHW_StatusSolenoidColdKitchenSink                                  NaN\nName: Load_Match, dtype: object"
     },
     "execution_count": 27,
     "metadata": {},
     "output_type": "execute_result"
    }
   ],
   "source": [
    "status_cols.loc[lambda self: self['Measurement_Location'] == 'Kitchen', 'Load_Match']"
   ],
   "metadata": {
    "collapsed": false,
    "pycharm": {
     "name": "#%%\n"
    }
   }
  },
  {
   "cell_type": "code",
   "execution_count": 37,
   "outputs": [
    {
     "data": {
      "text/plain": "Timestamp\n20     39\n21    118\n22     58\nName: Timestamp, dtype: int64"
     },
     "execution_count": 37,
     "metadata": {},
     "output_type": "execute_result"
    }
   ],
   "source": [
    "timestamp_dict['Year1']['Load_StatusBA1Lights'].groupby(timestamp_dict['Year1']['Load_StatusBA1Lights'].dt.hour).size()"
   ],
   "metadata": {
    "collapsed": false,
    "pycharm": {
     "name": "#%%\n"
    }
   }
  },
  {
   "cell_type": "markdown",
   "source": [
    "## Calculate the watt used in redudant intervals"
   ],
   "metadata": {
    "collapsed": false
   }
  },
  {
   "cell_type": "markdown",
   "source": [
    "## Plot the redundant time intervals and highlight them with colors"
   ],
   "metadata": {
    "collapsed": false
   }
  },
  {
   "cell_type": "code",
   "execution_count": null,
   "outputs": [],
   "source": [],
   "metadata": {
    "collapsed": false,
    "pycharm": {
     "name": "#%%\n"
    }
   }
  },
  {
   "cell_type": "code",
   "execution_count": null,
   "outputs": [],
   "source": [
    "fig = px.scatter(NZERTF, x='Timestamp', y='Load_MBRPlugLoadsPowerUsage')\n",
    "fig.show()"
   ],
   "metadata": {
    "collapsed": false,
    "pycharm": {
     "name": "#%%\n"
    }
   }
  },
  {
   "cell_type": "code",
   "execution_count": null,
   "outputs": [],
   "source": [],
   "metadata": {
    "collapsed": false,
    "pycharm": {
     "name": "#%%\n"
    }
   }
  }
 ],
 "metadata": {
  "kernelspec": {
   "display_name": "Python 3",
   "language": "python",
   "name": "python3"
  },
  "language_info": {
   "codemirror_mode": {
    "name": "ipython",
    "version": 2
   },
   "file_extension": ".py",
   "mimetype": "text/x-python",
   "name": "python",
   "nbconvert_exporter": "python",
   "pygments_lexer": "ipython2",
   "version": "2.7.6"
  }
 },
 "nbformat": 4,
 "nbformat_minor": 0
}
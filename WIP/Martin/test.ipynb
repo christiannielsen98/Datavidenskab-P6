{
 "cells": [
  {
   "cell_type": "code",
   "execution_count": null,
   "metadata": {
    "collapsed": true
   },
   "outputs": [],
   "source": [
    "from Project.Database import Db"
   ]
  },
  {
   "cell_type": "code",
   "execution_count": null,
   "outputs": [],
   "source": [
    "house, meta = Db.load_data(hourly=False, meta=True)"
   ],
   "metadata": {
    "collapsed": false,
    "pycharm": {
     "name": "#%%\n"
    }
   }
  },
  {
   "cell_type": "code",
   "execution_count": null,
   "outputs": [],
   "source": [
    "status_cols = meta.loc[(lambda self: self['Units'] == 'Binary Status')]"
   ],
   "metadata": {
    "collapsed": false,
    "pycharm": {
     "name": "#%%\n"
    }
   }
  },
  {
   "cell_type": "code",
   "execution_count": null,
   "outputs": [],
   "source": [
    "for col, row in status_cols.loc[(lambda self: (~self.index.str.contains('SensHeat')))].iterrows():\n",
    "    psns = status_cols.loc[(lambda self:\n",
    "                            (self.index.str.contains('SensHeat')) &\n",
    "                            (self['Measurement_Floor'] == row['Measurement_Floor']))].index.tolist()\n",
    "    print({col: house.loc[(lambda self:\n",
    "                           (self[col] == 1) &\n",
    "                           (self[psns] == 0))].index.tolist()})"
   ],
   "metadata": {
    "collapsed": false,
    "pycharm": {
     "name": "#%%\n"
    }
   }
  }
 ],
 "metadata": {
  "kernelspec": {
   "display_name": "Python 3",
   "language": "python",
   "name": "python3"
  },
  "language_info": {
   "codemirror_mode": {
    "name": "ipython",
    "version": 2
   },
   "file_extension": ".py",
   "mimetype": "text/x-python",
   "name": "python",
   "nbconvert_exporter": "python",
   "pygments_lexer": "ipython2",
   "version": "2.7.6"
  }
 },
 "nbformat": 4,
 "nbformat_minor": 0
}
{
 "cells": [
  {
   "cell_type": "code",
   "execution_count": 1,
   "metadata": {
    "collapsed": true
   },
   "outputs": [],
   "source": [
    "import pandas as pd\n",
    "import numpy as np\n",
    "import plotly.express as px\n",
    "import re\n",
    "from datetime import datetime, timedelta\n",
    "from concurrent.futures import ThreadPoolExecutor, as_completed\n",
    "\n",
    "from Project.Database import Db"
   ]
  },
  {
   "cell_type": "code",
   "execution_count": 54,
   "outputs": [],
   "source": [
    "year1_hour, meta1_hour  = Db.load_data(year=1, hourly=True, meta=True)\n",
    "year2_hour, meta2_hour = Db.load_data(year=2, hourly=True, meta=True)"
   ],
   "metadata": {
    "collapsed": false,
    "pycharm": {
     "name": "#%%\n"
    }
   }
  },
  {
   "cell_type": "code",
   "execution_count": 55,
   "outputs": [],
   "source": [
    "production = []\n",
    "consumption = []\n",
    "\n",
    "for df in [year1_hour, year2_hour]:\n",
    "    df[\"Timestamp\"] = pd.to_datetime(df[\"Timestamp\"], format=\"%Y-%m-%d %H:%M:%S%z\", utc=True) - pd.to_timedelta(unit=\"h\", arg=(df[\"Timestamp\"].str.split(pat=\"-\", expand=True)[lambda self: self.columns[-1]].str[1]).astype(int))\n",
    "    df[\"Season\"] = \"summer\"\n",
    "    df.loc[(pd.DatetimeIndex(df[\"Timestamp\"]).month.isin([3,4,5])), \"Season\"] = \"spring\"\n",
    "    df.loc[(pd.DatetimeIndex(df[\"Timestamp\"]).month.isin([9,10,11])), \"Season\"] = \"fall\"\n",
    "    df.loc[(pd.DatetimeIndex(df[\"Timestamp\"]).month.isin([1,2,12])), \"Season\"] = \"winter\"\n",
    "    production.append(meta1_hour.loc[(meta1_hour['Parameter'] == \"Power_Electrical\") & (\n",
    "    meta1_hour[\"Description\"].str.contains(\"produced\"))][\"Unnamed: 0\"].tolist())"
   ],
   "metadata": {
    "collapsed": false,
    "pycharm": {
     "name": "#%%\n"
    }
   }
  },
  {
   "cell_type": "code",
   "execution_count": 37,
   "outputs": [],
   "source": [
    "production_year1 = meta1_hour.loc[(meta1_hour['Parameter'] == \"Power_Electrical\") & (\n",
    "    meta1_hour[\"Description\"].str.contains(\"produced\"))][\"Unnamed: 0\"].tolist()\n",
    "\n",
    "consumption_year1 = meta1_hour.loc[((meta1_hour['Parameter'] == \"Power_Electrical\") | (meta1_hour['Parameter'] == \"Power_Thermal\")) & (\n",
    "    meta1_hour[\"Description\"].str.contains(\"power consumption\" or \"used\"))][\"Unnamed: 0\"].tolist()"
   ],
   "metadata": {
    "collapsed": false,
    "pycharm": {
     "name": "#%%\n"
    }
   }
  },
  {
   "cell_type": "code",
   "execution_count": 38,
   "outputs": [],
   "source": [
    "production_year2 = meta2_hour.loc[(meta2_hour['Parameter'] == \"Power_Electrical\") & (\n",
    "    meta2_hour[\"Description\"].str.contains(\"produced\"))][\"Unnamed: 0\"].tolist()\n",
    "\n",
    "consumption_year2 = meta2_hour.loc[((meta2_hour['Parameter'] == \"Power_Electrical\") | (meta2_hour['Parameter'] == \"Power_Thermal\")) & (\n",
    "    meta2_hour[\"Description\"].str.contains(\"power consumption\" or \"used\"))][\"Unnamed: 0\"].tolist()"
   ],
   "metadata": {
    "collapsed": false,
    "pycharm": {
     "name": "#%%\n"
    }
   }
  },
  {
   "cell_type": "code",
   "execution_count": 39,
   "outputs": [],
   "source": [
    "year1_hour[\"Production\"] = year1_hour[production_year1].sum(1)\n",
    "year1_hour[\"Consumption\"] = year1_hour[consumption_year1].sum(1)"
   ],
   "metadata": {
    "collapsed": false,
    "pycharm": {
     "name": "#%%\n"
    }
   }
  },
  {
   "cell_type": "code",
   "execution_count": 40,
   "outputs": [],
   "source": [
    "year2_hour[\"Production\"] = year2_hour[production_year2].sum(1)\n",
    "year2_hour[\"Consumption\"] = year2_hour[consumption_year2].sum(1)"
   ],
   "metadata": {
    "collapsed": false,
    "pycharm": {
     "name": "#%%\n"
    }
   }
  },
  {
   "cell_type": "code",
   "execution_count": 41,
   "outputs": [],
   "source": [
    "year1_hour[\"Season_order\"] = [0 if Season == \"spring\" else 1 if Season == \"summer\" else 2 if Season == \"fall\" else 3 for Season in year1_hour[\"Season\"]]\n",
    "year1_hour.sort_values(by=\"Season_order\", ascending=True, inplace=True)"
   ],
   "metadata": {
    "collapsed": false,
    "pycharm": {
     "name": "#%%\n"
    }
   }
  },
  {
   "cell_type": "code",
   "execution_count": 43,
   "outputs": [],
   "source": [
    "year2_hour[\"Season_order\"] = [0 if Season == \"spring\" else 1 if Season == \"summer\" else 2 if Season == \"fall\" else 3 for Season in year2_hour[\"Season\"]]\n",
    "year2_hour.sort_values(by=\"Season_order\", ascending=True, inplace=True)"
   ],
   "metadata": {
    "collapsed": false,
    "pycharm": {
     "name": "#%%\n"
    }
   }
  },
  {
   "cell_type": "code",
   "execution_count": 44,
   "outputs": [],
   "source": [
    "# Seasonal violin plots of production for both year 1 and 2\n",
    "fig = px.violin(year1_hour, x=\"Season\", y=\"Production\", color=\"Season\")\n",
    "fig.write_html(\"Season_production_violin_year1.html\")\n",
    "\n",
    "fig = px.violin(year2_hour, x=\"Season\", y=\"Production\", color=\"Season\")\n",
    "fig.write_html(\"Season_production_violin_year2.html\")"
   ],
   "metadata": {
    "collapsed": false,
    "pycharm": {
     "name": "#%%\n"
    }
   }
  },
  {
   "cell_type": "code",
   "execution_count": 45,
   "outputs": [],
   "source": [
    "# Seasonal violin plots of consumption for both year 1 and 2\n",
    "fig = px.violin(year1_hour, x=\"Season\", y=\"Consumption\", color=\"Season\")\n",
    "fig.write_html(\"Season_consumption_violin_year1.html\")\n",
    "\n",
    "fig = px.violin(year2_hour, x=\"Season\", y=\"Consumption\", color=\"Season\")\n",
    "fig.write_html(\"Season_consumption_violin_year2.html\")"
   ],
   "metadata": {
    "collapsed": false,
    "pycharm": {
     "name": "#%%\n"
    }
   }
  }
 ],
 "metadata": {
  "kernelspec": {
   "display_name": "Python 3",
   "language": "python",
   "name": "python3"
  },
  "language_info": {
   "codemirror_mode": {
    "name": "ipython",
    "version": 2
   },
   "file_extension": ".py",
   "mimetype": "text/x-python",
   "name": "python",
   "nbconvert_exporter": "python",
   "pygments_lexer": "ipython2",
   "version": "2.7.6"
  }
 },
 "nbformat": 4,
 "nbformat_minor": 0
}
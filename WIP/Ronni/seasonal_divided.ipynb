{
 "cells": [
  {
   "cell_type": "code",
   "execution_count": 1,
   "metadata": {
    "collapsed": true
   },
   "outputs": [],
   "source": [
    "import pandas as pd\n",
    "import numpy as np\n",
    "import plotly.express as px\n",
    "import re\n",
    "from datetime import datetime, timedelta\n",
    "from concurrent.futures import ThreadPoolExecutor, as_completed\n",
    "\n",
    "from Project.Database import Db"
   ]
  },
  {
   "cell_type": "code",
   "execution_count": 38,
   "outputs": [],
   "source": [
    "year1_hour, meta1_hour  = Db.load_data(year=1, hourly=True, meta=True)\n",
    "year2_hour, meta2_hour = Db.load_data(year=2, hourly=True, meta=True)"
   ],
   "metadata": {
    "collapsed": false,
    "pycharm": {
     "name": "#%%\n"
    }
   }
  },
  {
   "cell_type": "code",
   "execution_count": 39,
   "outputs": [],
   "source": [
    "production = []\n",
    "consumption = []\n",
    "\n",
    "for df in [year1_hour, year2_hour]:\n",
    "    df[\"Timestamp\"] = pd.to_datetime(df[\"Timestamp\"], format=\"%Y-%m-%d %H:%M:%S%z\", utc=True) - pd.to_timedelta(unit=\"h\", arg=(df[\"Timestamp\"].str.split(pat=\"-\", expand=True)[lambda self: self.columns[-1]].str[1]).astype(int))\n",
    "    df[\"Season\"] = \"summer\"\n",
    "    df.loc[(pd.DatetimeIndex(df[\"Timestamp\"]).month.isin([3,4,5])), \"Season\"] = \"spring\"\n",
    "    df.loc[(pd.DatetimeIndex(df[\"Timestamp\"]).month.isin([9,10,11])), \"Season\"] = \"fall\"\n",
    "    df.loc[(pd.DatetimeIndex(df[\"Timestamp\"]).month.isin([1,2,12])), \"Season\"] = \"winter\"\n",
    "    production.append(meta1_hour.loc[(meta1_hour['Parameter'] == \"Power_Electrical\") & (\n",
    "    meta1_hour[\"Description\"].str.contains(\"produced\"))][\"Unnamed: 0\"].tolist())"
   ],
   "metadata": {
    "collapsed": false,
    "pycharm": {
     "name": "#%%\n"
    }
   }
  },
  {
   "cell_type": "code",
   "execution_count": 29,
   "outputs": [],
   "source": [
    "consumption_condition = (lambda self: ((self['Parameter'] == \"Power_Electrical\") | (self['Parameter'] == \"Power_Thermal\")) & (\n",
    "    self[\"Description\"].str.contains(\"power consumption\" or \"used\")))\n",
    "\n",
    "production_condition = (lambda self: (self['Parameter'] == \"Power_Electrical\") & (\n",
    "    self[\"Description\"].str.contains(\"produced\")))\n",
    "\n",
    "production_year1 = meta1_hour.loc[production_condition, \"Unnamed: 0\"].tolist()\n",
    "\n",
    "consumption_year1 = meta1_hour.loc[consumption_condition, \"Unnamed: 0\"].tolist()\n",
    "\n",
    "production_year2 = meta2_hour.loc[production_condition, \"Unnamed: 0\"].tolist()\n",
    "\n",
    "consumption_year2 = meta2_hour.loc[consumption_condition, \"Unnamed: 0\"].tolist()"
   ],
   "metadata": {
    "collapsed": false,
    "pycharm": {
     "name": "#%%\n"
    }
   }
  },
  {
   "cell_type": "code",
   "execution_count": 6,
   "outputs": [],
   "source": [
    "year1_hour[\"Production\"] = year1_hour[production_year1].sum(1)\n",
    "year1_hour[\"Consumption\"] = year1_hour[consumption_year1].sum(1)"
   ],
   "metadata": {
    "collapsed": false,
    "pycharm": {
     "name": "#%%\n"
    }
   }
  },
  {
   "cell_type": "code",
   "execution_count": 7,
   "outputs": [],
   "source": [
    "year2_hour[\"Production\"] = year2_hour[production_year2].sum(1)\n",
    "year2_hour[\"Consumption\"] = year2_hour[consumption_year2].sum(1)"
   ],
   "metadata": {
    "collapsed": false,
    "pycharm": {
     "name": "#%%\n"
    }
   }
  },
  {
   "cell_type": "code",
   "execution_count": 8,
   "outputs": [],
   "source": [
    "year1_hour[\"Season_order\"] = [0 if Season == \"spring\" else 1 if Season == \"summer\" else 2 if Season == \"fall\" else 3 for Season in year1_hour[\"Season\"]]\n",
    "year1_hour.sort_values(by=\"Season_order\", ascending=True, inplace=True)"
   ],
   "metadata": {
    "collapsed": false,
    "pycharm": {
     "name": "#%%\n"
    }
   }
  },
  {
   "cell_type": "code",
   "execution_count": 9,
   "outputs": [],
   "source": [
    "year2_hour[\"Season_order\"] = [0 if Season == \"spring\" else 1 if Season == \"summer\" else 2 if Season == \"fall\" else 3 for Season in year2_hour[\"Season\"]]\n",
    "year2_hour.sort_values(by=\"Season_order\", ascending=True, inplace=True)"
   ],
   "metadata": {
    "collapsed": false,
    "pycharm": {
     "name": "#%%\n"
    }
   }
  },
  {
   "cell_type": "code",
   "execution_count": 10,
   "outputs": [],
   "source": [
    "# Seasonal violin plots of production for both year 1 and 2\n",
    "fig = px.violin(year1_hour, x=\"Season\", y=\"Production\", color=\"Season\")\n",
    "fig.write_html(Db.save_file_directory(\"Season_production_violin_year1.html\"))\n",
    "\n",
    "fig = px.violin(year2_hour, x=\"Season\", y=\"Production\", color=\"Season\")\n",
    "fig.write_html(Db.save_file_directory(\"Season_production_violin_year2.html\"))"
   ],
   "metadata": {
    "collapsed": false,
    "pycharm": {
     "name": "#%%\n"
    }
   }
  },
  {
   "cell_type": "code",
   "execution_count": 11,
   "outputs": [],
   "source": [
    "# Seasonal violin plots of consumption for both year 1 and 2\n",
    "fig = px.violin(year1_hour, x=\"Season\", y=\"Consumption\", color=\"Season\")\n",
    "fig.write_html(Db.save_file_directory(\"Season_consumption_violin_year1.html\"))\n",
    "\n",
    "fig = px.violin(year2_hour, x=\"Season\", y=\"Consumption\", color=\"Season\")\n",
    "fig.write_html(Db.save_file_directory(\"Season_consumption_violin_year2.html\"))"
   ],
   "metadata": {
    "collapsed": false,
    "pycharm": {
     "name": "#%%\n"
    }
   }
  },
  {
   "cell_type": "code",
   "execution_count": 28,
   "outputs": [
    {
     "data": {
      "text/plain": "['Elec_PowerChildADownstairs',\n 'Elec_PowerChildAUpstairs',\n 'Elec_PowerChildBDownstairs',\n 'Elec_PowerChildBUpstairs',\n 'Elec_PowerParentADownstairs',\n 'Elec_PowerParentAUpstairs',\n 'Elec_PowerParentBDownstairs',\n 'Elec_PowerParentBUpstairs',\n 'Load_1stFloorLightsPowerUsage',\n 'Load_1stFloorSensHeatPowerUsage',\n 'Load_2ndFloorLightsPowerUsage',\n 'Load_2ndFloorSensHeatPowerUsage',\n 'Load_BR2PlugLoadsPowerUsage',\n 'Load_BR3PlugLoadsPowerUsage',\n 'Load_BR4PlugLoadsPowerUsage',\n 'Load_ClothesWasherPowerWithStandby',\n 'Load_DryerPowerTotal',\n 'Load_KPlugLoadsPowerUsage',\n 'Load_LRPlugLoadsPowerUsage',\n 'Load_LatentHeatPowerUsage',\n 'Load_MBRPlugLoadsPowerUsage',\n 'Load_MicrowavePowerWithStandby',\n 'Load_OvenPowerTotal',\n 'Load_RefrigeratorPowerWithStandby']"
     },
     "execution_count": 28,
     "metadata": {},
     "output_type": "execute_result"
    }
   ],
   "source": [
    "consumption_loads_condition = (lambda self: ((self['Parameter'] == \"Power_Electrical\") | (self['Parameter'] == \"Power_Thermal\")) & (\n",
    "    self[\"Description\"].str.contains(\"power consumption\" or \"used\")) & (self[\"Subsystem\"] == \"Loads\"))\n",
    "\n",
    "consumption_loads_year1 = meta1_hour.loc[consumption_loads_condition, \"Unnamed: 0\"].tolist()\n",
    "\n",
    "consumption_loads_year2 = meta2_hour.loc[consumption_loads_condition, \"Unnamed: 0\"].tolist()\n",
    "consumption_loads_year1"
   ],
   "metadata": {
    "collapsed": false,
    "pycharm": {
     "name": "#%%\n"
    }
   }
  },
  {
   "cell_type": "code",
   "execution_count": 40,
   "outputs": [
    {
     "ename": "TypeError",
     "evalue": "unsupported operand type(s) for +: 'int' and 'str'",
     "output_type": "error",
     "traceback": [
      "\u001B[1;31m---------------------------------------------------------------------------\u001B[0m",
      "\u001B[1;31mTypeError\u001B[0m                                 Traceback (most recent call last)",
      "Input \u001B[1;32mIn [40]\u001B[0m, in \u001B[0;36m<module>\u001B[1;34m\u001B[0m\n\u001B[1;32m----> 1\u001B[0m fig \u001B[38;5;241m=\u001B[39m px\u001B[38;5;241m.\u001B[39mbar(year1_hour, x\u001B[38;5;241m=\u001B[39m\u001B[38;5;124m\"\u001B[39m\u001B[38;5;124mSeason\u001B[39m\u001B[38;5;124m\"\u001B[39m, y\u001B[38;5;241m=\u001B[39m\u001B[38;5;28;43msum\u001B[39;49m\u001B[43m(\u001B[49m\u001B[43mconsumption_loads_year1\u001B[49m\u001B[43m)\u001B[49m, color\u001B[38;5;241m=\u001B[39mconsumption_loads_year1)\n\u001B[0;32m      2\u001B[0m fig\u001B[38;5;241m.\u001B[39mshow()\n",
      "\u001B[1;31mTypeError\u001B[0m: unsupported operand type(s) for +: 'int' and 'str'"
     ]
    }
   ],
   "source": [
    "fig = px.bar(year1_hour, x=\"Season\", y=sum(consumption_loads_year1), color=consumption_loads_year1)\n",
    "fig.show()"
   ],
   "metadata": {
    "collapsed": false,
    "pycharm": {
     "name": "#%%\n"
    }
   }
  },
  {
   "cell_type": "code",
   "execution_count": null,
   "outputs": [],
   "source": [],
   "metadata": {
    "collapsed": false,
    "pycharm": {
     "name": "#%%\n"
    }
   }
  }
 ],
 "metadata": {
  "kernelspec": {
   "display_name": "Python 3",
   "language": "python",
   "name": "python3"
  },
  "language_info": {
   "codemirror_mode": {
    "name": "ipython",
    "version": 2
   },
   "file_extension": ".py",
   "mimetype": "text/x-python",
   "name": "python",
   "nbconvert_exporter": "python",
   "pygments_lexer": "ipython2",
   "version": "2.7.6"
  }
 },
 "nbformat": 4,
 "nbformat_minor": 0
}
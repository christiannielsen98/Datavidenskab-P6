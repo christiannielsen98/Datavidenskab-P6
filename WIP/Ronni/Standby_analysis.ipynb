{
 "cells": [
  {
   "cell_type": "code",
   "execution_count": 1,
   "metadata": {
    "collapsed": true
   },
   "outputs": [],
   "source": [
    "import numpy as np\n",
    "import pandas as pd\n",
    "import datetime\n",
    "import plotly.graph_objects as go\n",
    "import plotly.express as px\n",
    "\n",
    "from Project.Database import Db\n",
    "from Project._05InferKnowledgeOfRules.NZERTF_dataframe_redundancy_functions import find_average_power_consumption_per_minute"
   ]
  },
  {
   "cell_type": "code",
   "execution_count": 24,
   "outputs": [
    {
     "data": {
      "text/plain": "                                   Subsystem Measurement_Location  \\\nUnnamed: 0                                                          \nDHW_ClothesWasherColdFlow                DHW              Utility   \nDHW_ClothesWasherHotFlow                 DHW              Utility   \nDHW_DishwasherHotFlow                    DHW              Kitchen   \nDHW_HeatPumpWaterHeaterEnergyTotal       DHW             Basement   \nDHW_HeatPumpWaterHeaterPowerTotal        DHW             Basement   \n...                                      ...                  ...   \nLoad_StatusRefrigerator                Loads              Kitchen   \nLoad_StatusMicrowave                   Loads              Kitchen   \nLoad_StatusClothesWasher               Loads              Utility   \nLoad_StatusDryerPowerTotal             Loads              Utility   \nLoad_StatusHeatPumpWaterHeater         Loads             Basement   \n\n                                            Parameter  \\\nUnnamed: 0                                              \nDHW_ClothesWasherColdFlow                  Flow_Water   \nDHW_ClothesWasherHotFlow                   Flow_Water   \nDHW_DishwasherHotFlow                      Flow_Water   \nDHW_HeatPumpWaterHeaterEnergyTotal  Energy_Electrical   \nDHW_HeatPumpWaterHeaterPowerTotal    Power_Electrical   \n...                                               ...   \nLoad_StatusRefrigerator                  Status_OnOff   \nLoad_StatusMicrowave                     Status_OnOff   \nLoad_StatusClothesWasher                 Status_OnOff   \nLoad_StatusDryerPowerTotal               Status_OnOff   \nLoad_StatusHeatPumpWaterHeater           Status_OnOff   \n\n                                                                          Description  \\\nUnnamed: 0                                                                              \nDHW_ClothesWasherColdFlow           The cumulative volume of cold water flowing in...   \nDHW_ClothesWasherHotFlow            The cumulative volume of hot water flowing int...   \nDHW_DishwasherHotFlow               The cumulative volume of hot water flowing int...   \nDHW_HeatPumpWaterHeaterEnergyTotal  Cumulative energy consumption by heat pump wat...   \nDHW_HeatPumpWaterHeaterPowerTotal   Instantaneous power consumption by heat pump w...   \n...                                                                               ...   \nLoad_StatusRefrigerator             Number to indicate whether the refrigerator is...   \nLoad_StatusMicrowave                Number to indicate whether the microwave oven ...   \nLoad_StatusClothesWasher            Number to indicate whether clothes washer is a...   \nLoad_StatusDryerPowerTotal          Number to indicate whether dryer is activated ...   \nLoad_StatusHeatPumpWaterHeater      Number to indicate whether heat pump water hea...   \n\n                                           Units Aggregation_Method min_value  \\\nUnnamed: 0                                                                      \nDHW_ClothesWasherColdFlow                Gallons         Hour value       0.0   \nDHW_ClothesWasherHotFlow                 Gallons         Hour value       0.0   \nDHW_DishwasherHotFlow                    Gallons         Hour value       0.0   \nDHW_HeatPumpWaterHeaterEnergyTotal            Wh         Hour value       0.0   \nDHW_HeatPumpWaterHeaterPowerTotal              W            Average       0.0   \n...                                          ...                ...       ...   \nLoad_StatusRefrigerator             BinaryStatus            Average       0.0   \nLoad_StatusMicrowave                BinaryStatus            Average       0.0   \nLoad_StatusClothesWasher            BinaryStatus            Average       0.0   \nLoad_StatusDryerPowerTotal          BinaryStatus            Average       0.0   \nLoad_StatusHeatPumpWaterHeater      BinaryStatus            Average       0.0   \n\n                                      max_value Measurement_Floor  \\\nUnnamed: 0                                                          \nDHW_ClothesWasherColdFlow               33.0646          1stFloor   \nDHW_ClothesWasherHotFlow               201.6969          1stFloor   \nDHW_DishwasherHotFlow                    4.6367          1stFloor   \nDHW_HeatPumpWaterHeaterEnergyTotal  188169.7774          Basement   \nDHW_HeatPumpWaterHeaterPowerTotal     4368.8008          Basement   \n...                                         ...               ...   \nLoad_StatusRefrigerator                     1.0          1stFloor   \nLoad_StatusMicrowave                        1.0          1stFloor   \nLoad_StatusClothesWasher                    1.0          1stFloor   \nLoad_StatusDryerPowerTotal                  1.0          1stFloor   \nLoad_StatusHeatPumpWaterHeater              1.0          Basement   \n\n                                                            Load_Match  \\\nUnnamed: 0                                                               \nDHW_ClothesWasherColdFlow                                          NaN   \nDHW_ClothesWasherHotFlow                                           NaN   \nDHW_DishwasherHotFlow                                              NaN   \nDHW_HeatPumpWaterHeaterEnergyTotal                                 NaN   \nDHW_HeatPumpWaterHeaterPowerTotal                                  NaN   \n...                                                                ...   \nLoad_StatusRefrigerator              Load_RefrigeratorPowerWithStandby   \nLoad_StatusMicrowave                    Load_MicrowavePowerWithStandby   \nLoad_StatusClothesWasher            Load_ClothesWasherPowerWithStandby   \nLoad_StatusDryerPowerTotal                        Load_DryerPowerTotal   \nLoad_StatusHeatPumpWaterHeater                                     NaN   \n\n                                                      Status_Match  \\\nUnnamed: 0                                                           \nDHW_ClothesWasherColdFlow                                      NaN   \nDHW_ClothesWasherHotFlow                                       NaN   \nDHW_DishwasherHotFlow                                          NaN   \nDHW_HeatPumpWaterHeaterEnergyTotal                             NaN   \nDHW_HeatPumpWaterHeaterPowerTotal   Load_StatusHeatPumpWaterHeater   \n...                                                            ...   \nLoad_StatusRefrigerator                                        NaN   \nLoad_StatusMicrowave                                           NaN   \nLoad_StatusClothesWasher                                       NaN   \nLoad_StatusDryerPowerTotal                                     NaN   \nLoad_StatusHeatPumpWaterHeater                                 NaN   \n\n                                                  Elec_Match  \\\nUnnamed: 0                                                     \nDHW_ClothesWasherColdFlow                                NaN   \nDHW_ClothesWasherHotFlow                                 NaN   \nDHW_DishwasherHotFlow                                    NaN   \nDHW_HeatPumpWaterHeaterEnergyTotal                       NaN   \nDHW_HeatPumpWaterHeaterPowerTotal                        NaN   \n...                                                      ...   \nLoad_StatusRefrigerator               Elec_PowerRefrigerator   \nLoad_StatusMicrowave                     Elec_PowerMicrowave   \nLoad_StatusClothesWasher             Elec_PowerClothesWasher   \nLoad_StatusDryerPowerTotal               Elec_PowerDryer1of2   \nLoad_StatusHeatPumpWaterHeater      Elec_PowerHeatPumpWH1of2   \n\n                                                        Consumer_Match  \nUnnamed: 0                                                              \nDHW_ClothesWasherColdFlow                                         <NA>  \nDHW_ClothesWasherHotFlow                                          <NA>  \nDHW_DishwasherHotFlow                                             <NA>  \nDHW_HeatPumpWaterHeaterEnergyTotal                                <NA>  \nDHW_HeatPumpWaterHeaterPowerTotal                                 <NA>  \n...                                                                ...  \nLoad_StatusRefrigerator              Load_RefrigeratorPowerWithStandby  \nLoad_StatusMicrowave                    Load_MicrowavePowerWithStandby  \nLoad_StatusClothesWasher            Load_ClothesWasherPowerWithStandby  \nLoad_StatusDryerPowerTotal                        Load_DryerPowerTotal  \nLoad_StatusHeatPumpWaterHeater       DHW_HeatPumpWaterHeaterPowerTotal  \n\n[360 rows x 13 columns]",
      "text/html": "<div>\n<style scoped>\n    .dataframe tbody tr th:only-of-type {\n        vertical-align: middle;\n    }\n\n    .dataframe tbody tr th {\n        vertical-align: top;\n    }\n\n    .dataframe thead th {\n        text-align: right;\n    }\n</style>\n<table border=\"1\" class=\"dataframe\">\n  <thead>\n    <tr style=\"text-align: right;\">\n      <th></th>\n      <th>Subsystem</th>\n      <th>Measurement_Location</th>\n      <th>Parameter</th>\n      <th>Description</th>\n      <th>Units</th>\n      <th>Aggregation_Method</th>\n      <th>min_value</th>\n      <th>max_value</th>\n      <th>Measurement_Floor</th>\n      <th>Load_Match</th>\n      <th>Status_Match</th>\n      <th>Elec_Match</th>\n      <th>Consumer_Match</th>\n    </tr>\n    <tr>\n      <th>Unnamed: 0</th>\n      <th></th>\n      <th></th>\n      <th></th>\n      <th></th>\n      <th></th>\n      <th></th>\n      <th></th>\n      <th></th>\n      <th></th>\n      <th></th>\n      <th></th>\n      <th></th>\n      <th></th>\n    </tr>\n  </thead>\n  <tbody>\n    <tr>\n      <th>DHW_ClothesWasherColdFlow</th>\n      <td>DHW</td>\n      <td>Utility</td>\n      <td>Flow_Water</td>\n      <td>The cumulative volume of cold water flowing in...</td>\n      <td>Gallons</td>\n      <td>Hour value</td>\n      <td>0.0</td>\n      <td>33.0646</td>\n      <td>1stFloor</td>\n      <td>NaN</td>\n      <td>NaN</td>\n      <td>NaN</td>\n      <td>&lt;NA&gt;</td>\n    </tr>\n    <tr>\n      <th>DHW_ClothesWasherHotFlow</th>\n      <td>DHW</td>\n      <td>Utility</td>\n      <td>Flow_Water</td>\n      <td>The cumulative volume of hot water flowing int...</td>\n      <td>Gallons</td>\n      <td>Hour value</td>\n      <td>0.0</td>\n      <td>201.6969</td>\n      <td>1stFloor</td>\n      <td>NaN</td>\n      <td>NaN</td>\n      <td>NaN</td>\n      <td>&lt;NA&gt;</td>\n    </tr>\n    <tr>\n      <th>DHW_DishwasherHotFlow</th>\n      <td>DHW</td>\n      <td>Kitchen</td>\n      <td>Flow_Water</td>\n      <td>The cumulative volume of hot water flowing int...</td>\n      <td>Gallons</td>\n      <td>Hour value</td>\n      <td>0.0</td>\n      <td>4.6367</td>\n      <td>1stFloor</td>\n      <td>NaN</td>\n      <td>NaN</td>\n      <td>NaN</td>\n      <td>&lt;NA&gt;</td>\n    </tr>\n    <tr>\n      <th>DHW_HeatPumpWaterHeaterEnergyTotal</th>\n      <td>DHW</td>\n      <td>Basement</td>\n      <td>Energy_Electrical</td>\n      <td>Cumulative energy consumption by heat pump wat...</td>\n      <td>Wh</td>\n      <td>Hour value</td>\n      <td>0.0</td>\n      <td>188169.7774</td>\n      <td>Basement</td>\n      <td>NaN</td>\n      <td>NaN</td>\n      <td>NaN</td>\n      <td>&lt;NA&gt;</td>\n    </tr>\n    <tr>\n      <th>DHW_HeatPumpWaterHeaterPowerTotal</th>\n      <td>DHW</td>\n      <td>Basement</td>\n      <td>Power_Electrical</td>\n      <td>Instantaneous power consumption by heat pump w...</td>\n      <td>W</td>\n      <td>Average</td>\n      <td>0.0</td>\n      <td>4368.8008</td>\n      <td>Basement</td>\n      <td>NaN</td>\n      <td>Load_StatusHeatPumpWaterHeater</td>\n      <td>NaN</td>\n      <td>&lt;NA&gt;</td>\n    </tr>\n    <tr>\n      <th>...</th>\n      <td>...</td>\n      <td>...</td>\n      <td>...</td>\n      <td>...</td>\n      <td>...</td>\n      <td>...</td>\n      <td>...</td>\n      <td>...</td>\n      <td>...</td>\n      <td>...</td>\n      <td>...</td>\n      <td>...</td>\n      <td>...</td>\n    </tr>\n    <tr>\n      <th>Load_StatusRefrigerator</th>\n      <td>Loads</td>\n      <td>Kitchen</td>\n      <td>Status_OnOff</td>\n      <td>Number to indicate whether the refrigerator is...</td>\n      <td>BinaryStatus</td>\n      <td>Average</td>\n      <td>0.0</td>\n      <td>1.0</td>\n      <td>1stFloor</td>\n      <td>Load_RefrigeratorPowerWithStandby</td>\n      <td>NaN</td>\n      <td>Elec_PowerRefrigerator</td>\n      <td>Load_RefrigeratorPowerWithStandby</td>\n    </tr>\n    <tr>\n      <th>Load_StatusMicrowave</th>\n      <td>Loads</td>\n      <td>Kitchen</td>\n      <td>Status_OnOff</td>\n      <td>Number to indicate whether the microwave oven ...</td>\n      <td>BinaryStatus</td>\n      <td>Average</td>\n      <td>0.0</td>\n      <td>1.0</td>\n      <td>1stFloor</td>\n      <td>Load_MicrowavePowerWithStandby</td>\n      <td>NaN</td>\n      <td>Elec_PowerMicrowave</td>\n      <td>Load_MicrowavePowerWithStandby</td>\n    </tr>\n    <tr>\n      <th>Load_StatusClothesWasher</th>\n      <td>Loads</td>\n      <td>Utility</td>\n      <td>Status_OnOff</td>\n      <td>Number to indicate whether clothes washer is a...</td>\n      <td>BinaryStatus</td>\n      <td>Average</td>\n      <td>0.0</td>\n      <td>1.0</td>\n      <td>1stFloor</td>\n      <td>Load_ClothesWasherPowerWithStandby</td>\n      <td>NaN</td>\n      <td>Elec_PowerClothesWasher</td>\n      <td>Load_ClothesWasherPowerWithStandby</td>\n    </tr>\n    <tr>\n      <th>Load_StatusDryerPowerTotal</th>\n      <td>Loads</td>\n      <td>Utility</td>\n      <td>Status_OnOff</td>\n      <td>Number to indicate whether dryer is activated ...</td>\n      <td>BinaryStatus</td>\n      <td>Average</td>\n      <td>0.0</td>\n      <td>1.0</td>\n      <td>1stFloor</td>\n      <td>Load_DryerPowerTotal</td>\n      <td>NaN</td>\n      <td>Elec_PowerDryer1of2</td>\n      <td>Load_DryerPowerTotal</td>\n    </tr>\n    <tr>\n      <th>Load_StatusHeatPumpWaterHeater</th>\n      <td>Loads</td>\n      <td>Basement</td>\n      <td>Status_OnOff</td>\n      <td>Number to indicate whether heat pump water hea...</td>\n      <td>BinaryStatus</td>\n      <td>Average</td>\n      <td>0.0</td>\n      <td>1.0</td>\n      <td>Basement</td>\n      <td>NaN</td>\n      <td>NaN</td>\n      <td>Elec_PowerHeatPumpWH1of2</td>\n      <td>DHW_HeatPumpWaterHeaterPowerTotal</td>\n    </tr>\n  </tbody>\n</table>\n<p>360 rows × 13 columns</p>\n</div>"
     },
     "execution_count": 24,
     "metadata": {},
     "output_type": "execute_result"
    }
   ],
   "source": [
    "meta = Db.load_data(meta=True, hourly=False, consumption=False)\n",
    "meta"
   ],
   "metadata": {
    "collapsed": false,
    "pycharm": {
     "name": "#%%\n"
    }
   }
  },
  {
   "cell_type": "code",
   "execution_count": 45,
   "outputs": [
    {
     "data": {
      "text/plain": "['DHW_HeatPumpWaterHeaterPowerTotal',\n 'DHW_SHWPumpsPowerWithStandby',\n 'Elec_PowerClothesWasher',\n 'Elec_PowerDishwasher',\n 'Elec_PowerGarbageDisposal',\n 'Elec_PowerHRV',\n 'Elec_PowerLightingControlPanelRPS1',\n 'Elec_PowerLightingControlPanelRPS2',\n 'Elec_PowerLights1stFloorA',\n 'Elec_PowerLights1stFloorB',\n 'Elec_PowerLights2ndFloor',\n 'Elec_PowerLightsAttic',\n 'Elec_PowerLightsBasement',\n 'Elec_PowerLightsBasementStair',\n 'Elec_PowerMakeUpAirDamper',\n 'Elec_PowerMicrowave',\n 'Elec_PowerPlugs2ndFloor',\n 'Elec_PowerPlugsAttic',\n 'Elec_PowerPlugsBA1',\n 'Elec_PowerPlugsBA2North',\n 'Elec_PowerPlugsBA2South',\n 'Elec_PowerPlugsBR2',\n 'Elec_PowerPlugsBR3',\n 'Elec_PowerPlugsBR4',\n 'Elec_PowerPlugsBaseAHeliodyneHXs',\n 'Elec_PowerPlugsBaseB',\n 'Elec_PowerPlugsBaseC',\n 'Elec_PowerPlugsDR',\n 'Elec_PowerPlugsDRB',\n 'Elec_PowerPlugsEntryHall',\n 'Elec_PowerPlugsGSHPInstrumentation',\n 'Elec_PowerPlugsHVACInstrumentation',\n 'Elec_PowerPlugsInstBA1',\n 'Elec_PowerPlugsInstBA2',\n 'Elec_PowerPlugsInstBR2Hall',\n 'Elec_PowerPlugsInstBR3',\n 'Elec_PowerPlugsInstBR4A',\n 'Elec_PowerPlugsInstBR4B',\n 'Elec_PowerPlugsInstDRA',\n 'Elec_PowerPlugsInstHall',\n 'Elec_PowerPlugsInstKitA',\n 'Elec_PowerPlugsInstKitD',\n 'Elec_PowerPlugsInstLRA',\n 'Elec_PowerPlugsInstLRB',\n 'Elec_PowerPlugsInstMBAB',\n 'Elec_PowerPlugsInstMBRA',\n 'Elec_PowerPlugsInstMudroomA',\n 'Elec_PowerPlugsInstMudroomB',\n 'Elec_PowerPlugsKitPeninsula',\n 'Elec_PowerPlugsKitRange',\n 'Elec_PowerPlugsKitSink',\n 'Elec_PowerPlugsLR',\n 'Elec_PowerPlugsMBAEast',\n 'Elec_PowerPlugsMBAWest',\n 'Elec_PowerPlugsMBR',\n 'Elec_PowerRefrigerator',\n 'Elec_PowerSpare1',\n 'Elec_PowerSpare2',\n 'Elec_PowerSumpPump',\n 'Load_1stFloorLightsPowerUsage',\n 'Load_2ndFloorLightsPowerUsage',\n 'Load_BR2PlugLoadsPowerUsage',\n 'Load_BR3PlugLoadsPowerUsage',\n 'Load_BR4PlugLoadsPowerUsage',\n 'Load_BasementPlugLoadsPowerUsage',\n 'Load_ClothesWasherPowerWithStandby',\n 'Load_DryerPowerTotal',\n 'Load_KPlugLoadsPowerUsage',\n 'Load_LRPlugLoadsPowerUsage',\n 'Load_MBRPlugLoadsPowerUsage',\n 'Load_MicrowavePowerWithStandby',\n 'Load_OvenPowerTotal',\n 'Load_RefrigeratorPowerWithStandby',\n 'HVAC_HeatPumpIndoorUnitPower',\n 'HVAC_HeatPumpOutdoorUnitPower',\n 'HVAC_DehumidifierPower']"
     },
     "execution_count": 45,
     "metadata": {},
     "output_type": "execute_result"
    }
   ],
   "source": [
    "appliance_list = meta.loc[(lambda self: (\n",
    "                        (self[\"Units\"] == \"W\") &\n",
    "                        (self[\"Consumer_Match\"] != \"NA\") &\n",
    "                        (self[\"Parameter\"] != 'Power_Thermal') &\n",
    "                        (~self.index.str.contains(\"of2\")) &\n",
    "                        (~self.index.str.contains(\"Child\")) &\n",
    "                        (~self.index.str.contains(\"Parent\")) &\n",
    "                        (~self.index.str.contains('PV_'))\n",
    "\n",
    "))].index.to_list()\n",
    "appliance_list"
   ],
   "metadata": {
    "collapsed": false,
    "pycharm": {
     "name": "#%%\n"
    }
   }
  },
  {
   "cell_type": "code",
   "execution_count": 46,
   "outputs": [
    {
     "data": {
      "text/plain": "76"
     },
     "execution_count": 46,
     "metadata": {},
     "output_type": "execute_result"
    }
   ],
   "source": [
    "len(appliance_list)"
   ],
   "metadata": {
    "collapsed": false,
    "pycharm": {
     "name": "#%%\n"
    }
   }
  },
  {
   "cell_type": "code",
   "execution_count": 39,
   "outputs": [
    {
     "data": {
      "text/plain": "49"
     },
     "execution_count": 39,
     "metadata": {},
     "output_type": "execute_result"
    }
   ],
   "source": [
    "average_power_consumption_per_minute = find_average_power_consumption_per_minute().index.to_list()\n",
    "len(average_power_consumption_per_minute)"
   ],
   "metadata": {
    "collapsed": false,
    "pycharm": {
     "name": "#%%\n"
    }
   }
  },
  {
   "cell_type": "code",
   "execution_count": 4,
   "outputs": [
    {
     "data": {
      "text/plain": "                 Timestamp  DHW_ClothesWasherColdFlow  \\\n0      2013-07-01 00:01:14                        0.0   \n1      2013-07-01 00:02:14                        0.0   \n2      2013-07-01 00:03:14                        0.0   \n3      2013-07-01 00:04:14                        0.0   \n4      2013-07-01 00:05:14                        0.0   \n...                    ...                        ...   \n518787 2014-06-30 23:29:22                        0.0   \n518788 2014-06-30 23:30:22                        0.0   \n518789 2014-06-30 23:31:22                        0.0   \n518790 2014-06-30 23:59:22                        0.0   \n518791 2014-07-01 00:00:22                        0.0   \n\n        DHW_ClothesWasherHotFlow  DHW_DishwasherHotFlow  \\\n0                            0.0                0.00000   \n1                            0.0                0.00000   \n2                            0.0                0.00000   \n3                            0.0                0.00000   \n4                            0.0                0.00000   \n...                          ...                    ...   \n518787                       0.0                1.86261   \n518788                       0.0                1.86261   \n518789                       0.0                1.86261   \n518790                       0.0                1.86261   \n518791                       0.0                1.86261   \n\n        DHW_HeatPumpWaterHeaterEnergyTotal  DHW_HeatPumpWaterHeaterPowerTotal  \\\n0                                 0.000000                           6.920000   \n1                                 0.132000                           6.920000   \n2                                 0.264000                           6.920000   \n3                                 0.396000                           6.920000   \n4                                 0.528000                           6.920000   \n...                                    ...                                ...   \n518787                         1074.687075                         765.920563   \n518788                         1087.432650                         766.929871   \n518789                         1100.200137                         768.525940   \n518790                         1173.107485                           6.920000   \n518791                         1173.239485                           6.920000   \n\n        DHW_ManifoldColdFlow  DHW_ManifoldHotFlow  DHW_MixValveColdFlow  \\\n0                   0.000000              0.00000               0.00000   \n1                   0.000000              0.00000               0.00000   \n2                   0.000000              0.00000               0.00000   \n3                   0.000000              0.00000               0.00000   \n4                   0.000000              0.00000               0.00000   \n...                      ...                  ...                   ...   \n518787             11.297412             57.77676               8.69218   \n518788             11.297412             57.77676               8.69218   \n518789             11.297412             57.77676               8.69218   \n518790             11.297412             57.77676               8.69218   \n518791             11.297412             57.77676               8.69218   \n\n        DHW_RoomTempBasementHPWH  ...  HVAC_HeatPumpOutdoorUnitPower  \\\n0                      21.238651  ...                       922.6568   \n1                      21.223797  ...                       919.2424   \n2                      21.263438  ...                       920.8184   \n3                      21.228323  ...                       922.3944   \n4                      21.246059  ...                       925.2832   \n...                          ...  ...                            ...   \n518787                 19.589094  ...                      1517.2800   \n518788                 19.521485  ...                      1394.6256   \n518789                 19.619391  ...                      1311.6304   \n518790                 21.028008  ...                      1325.5504   \n518791                 21.047388  ...                      1325.5504   \n\n        HVAC_DehumidifierAirflow  HVAC_DehumidifierExitAirTemp  \\\n0                            NaN                           NaN   \n1                            NaN                           NaN   \n2                            NaN                           NaN   \n3                            NaN                           NaN   \n4                            NaN                           NaN   \n...                          ...                           ...   \n518787                       NaN                           NaN   \n518788                       NaN                           NaN   \n518789                       NaN                           NaN   \n518790                       NaN                           NaN   \n518791                       NaN                           NaN   \n\n        HVAC_DehumidifierInletAirTemp  HVAC_DehumidifierPower  \\\n0                                 NaN                     NaN   \n1                                 NaN                     NaN   \n2                                 NaN                     NaN   \n3                                 NaN                     NaN   \n4                                 NaN                     NaN   \n...                               ...                     ...   \n518787                            NaN                     NaN   \n518788                            NaN                     NaN   \n518789                            NaN                     NaN   \n518790                            NaN                     NaN   \n518791                            NaN                     NaN   \n\n        Load_StatusRefrigerator  Load_StatusMicrowave  \\\n0                             1                     0   \n1                             1                     0   \n2                             1                     0   \n3                             1                     0   \n4                             1                     0   \n...                         ...                   ...   \n518787                        0                     0   \n518788                        0                     0   \n518789                        0                     0   \n518790                        1                     0   \n518791                        1                     0   \n\n        Load_StatusClothesWasher  Load_StatusDryerPowerTotal  \\\n0                              0                           0   \n1                              0                           0   \n2                              0                           0   \n3                              0                           0   \n4                              0                           0   \n...                          ...                         ...   \n518787                         0                           0   \n518788                         0                           0   \n518789                         0                           0   \n518790                         0                           0   \n518791                         0                           0   \n\n        Load_StatusHeatPumpWaterHeater  \n0                                    0  \n1                                    0  \n2                                    0  \n3                                    0  \n4                                    0  \n...                                ...  \n518787                               1  \n518788                               1  \n518789                               1  \n518790                               0  \n518791                               0  \n\n[518792 rows x 361 columns]",
      "text/html": "<div>\n<style scoped>\n    .dataframe tbody tr th:only-of-type {\n        vertical-align: middle;\n    }\n\n    .dataframe tbody tr th {\n        vertical-align: top;\n    }\n\n    .dataframe thead th {\n        text-align: right;\n    }\n</style>\n<table border=\"1\" class=\"dataframe\">\n  <thead>\n    <tr style=\"text-align: right;\">\n      <th></th>\n      <th>Timestamp</th>\n      <th>DHW_ClothesWasherColdFlow</th>\n      <th>DHW_ClothesWasherHotFlow</th>\n      <th>DHW_DishwasherHotFlow</th>\n      <th>DHW_HeatPumpWaterHeaterEnergyTotal</th>\n      <th>DHW_HeatPumpWaterHeaterPowerTotal</th>\n      <th>DHW_ManifoldColdFlow</th>\n      <th>DHW_ManifoldHotFlow</th>\n      <th>DHW_MixValveColdFlow</th>\n      <th>DHW_RoomTempBasementHPWH</th>\n      <th>...</th>\n      <th>HVAC_HeatPumpOutdoorUnitPower</th>\n      <th>HVAC_DehumidifierAirflow</th>\n      <th>HVAC_DehumidifierExitAirTemp</th>\n      <th>HVAC_DehumidifierInletAirTemp</th>\n      <th>HVAC_DehumidifierPower</th>\n      <th>Load_StatusRefrigerator</th>\n      <th>Load_StatusMicrowave</th>\n      <th>Load_StatusClothesWasher</th>\n      <th>Load_StatusDryerPowerTotal</th>\n      <th>Load_StatusHeatPumpWaterHeater</th>\n    </tr>\n  </thead>\n  <tbody>\n    <tr>\n      <th>0</th>\n      <td>2013-07-01 00:01:14</td>\n      <td>0.0</td>\n      <td>0.0</td>\n      <td>0.00000</td>\n      <td>0.000000</td>\n      <td>6.920000</td>\n      <td>0.000000</td>\n      <td>0.00000</td>\n      <td>0.00000</td>\n      <td>21.238651</td>\n      <td>...</td>\n      <td>922.6568</td>\n      <td>NaN</td>\n      <td>NaN</td>\n      <td>NaN</td>\n      <td>NaN</td>\n      <td>1</td>\n      <td>0</td>\n      <td>0</td>\n      <td>0</td>\n      <td>0</td>\n    </tr>\n    <tr>\n      <th>1</th>\n      <td>2013-07-01 00:02:14</td>\n      <td>0.0</td>\n      <td>0.0</td>\n      <td>0.00000</td>\n      <td>0.132000</td>\n      <td>6.920000</td>\n      <td>0.000000</td>\n      <td>0.00000</td>\n      <td>0.00000</td>\n      <td>21.223797</td>\n      <td>...</td>\n      <td>919.2424</td>\n      <td>NaN</td>\n      <td>NaN</td>\n      <td>NaN</td>\n      <td>NaN</td>\n      <td>1</td>\n      <td>0</td>\n      <td>0</td>\n      <td>0</td>\n      <td>0</td>\n    </tr>\n    <tr>\n      <th>2</th>\n      <td>2013-07-01 00:03:14</td>\n      <td>0.0</td>\n      <td>0.0</td>\n      <td>0.00000</td>\n      <td>0.264000</td>\n      <td>6.920000</td>\n      <td>0.000000</td>\n      <td>0.00000</td>\n      <td>0.00000</td>\n      <td>21.263438</td>\n      <td>...</td>\n      <td>920.8184</td>\n      <td>NaN</td>\n      <td>NaN</td>\n      <td>NaN</td>\n      <td>NaN</td>\n      <td>1</td>\n      <td>0</td>\n      <td>0</td>\n      <td>0</td>\n      <td>0</td>\n    </tr>\n    <tr>\n      <th>3</th>\n      <td>2013-07-01 00:04:14</td>\n      <td>0.0</td>\n      <td>0.0</td>\n      <td>0.00000</td>\n      <td>0.396000</td>\n      <td>6.920000</td>\n      <td>0.000000</td>\n      <td>0.00000</td>\n      <td>0.00000</td>\n      <td>21.228323</td>\n      <td>...</td>\n      <td>922.3944</td>\n      <td>NaN</td>\n      <td>NaN</td>\n      <td>NaN</td>\n      <td>NaN</td>\n      <td>1</td>\n      <td>0</td>\n      <td>0</td>\n      <td>0</td>\n      <td>0</td>\n    </tr>\n    <tr>\n      <th>4</th>\n      <td>2013-07-01 00:05:14</td>\n      <td>0.0</td>\n      <td>0.0</td>\n      <td>0.00000</td>\n      <td>0.528000</td>\n      <td>6.920000</td>\n      <td>0.000000</td>\n      <td>0.00000</td>\n      <td>0.00000</td>\n      <td>21.246059</td>\n      <td>...</td>\n      <td>925.2832</td>\n      <td>NaN</td>\n      <td>NaN</td>\n      <td>NaN</td>\n      <td>NaN</td>\n      <td>1</td>\n      <td>0</td>\n      <td>0</td>\n      <td>0</td>\n      <td>0</td>\n    </tr>\n    <tr>\n      <th>...</th>\n      <td>...</td>\n      <td>...</td>\n      <td>...</td>\n      <td>...</td>\n      <td>...</td>\n      <td>...</td>\n      <td>...</td>\n      <td>...</td>\n      <td>...</td>\n      <td>...</td>\n      <td>...</td>\n      <td>...</td>\n      <td>...</td>\n      <td>...</td>\n      <td>...</td>\n      <td>...</td>\n      <td>...</td>\n      <td>...</td>\n      <td>...</td>\n      <td>...</td>\n      <td>...</td>\n    </tr>\n    <tr>\n      <th>518787</th>\n      <td>2014-06-30 23:29:22</td>\n      <td>0.0</td>\n      <td>0.0</td>\n      <td>1.86261</td>\n      <td>1074.687075</td>\n      <td>765.920563</td>\n      <td>11.297412</td>\n      <td>57.77676</td>\n      <td>8.69218</td>\n      <td>19.589094</td>\n      <td>...</td>\n      <td>1517.2800</td>\n      <td>NaN</td>\n      <td>NaN</td>\n      <td>NaN</td>\n      <td>NaN</td>\n      <td>0</td>\n      <td>0</td>\n      <td>0</td>\n      <td>0</td>\n      <td>1</td>\n    </tr>\n    <tr>\n      <th>518788</th>\n      <td>2014-06-30 23:30:22</td>\n      <td>0.0</td>\n      <td>0.0</td>\n      <td>1.86261</td>\n      <td>1087.432650</td>\n      <td>766.929871</td>\n      <td>11.297412</td>\n      <td>57.77676</td>\n      <td>8.69218</td>\n      <td>19.521485</td>\n      <td>...</td>\n      <td>1394.6256</td>\n      <td>NaN</td>\n      <td>NaN</td>\n      <td>NaN</td>\n      <td>NaN</td>\n      <td>0</td>\n      <td>0</td>\n      <td>0</td>\n      <td>0</td>\n      <td>1</td>\n    </tr>\n    <tr>\n      <th>518789</th>\n      <td>2014-06-30 23:31:22</td>\n      <td>0.0</td>\n      <td>0.0</td>\n      <td>1.86261</td>\n      <td>1100.200137</td>\n      <td>768.525940</td>\n      <td>11.297412</td>\n      <td>57.77676</td>\n      <td>8.69218</td>\n      <td>19.619391</td>\n      <td>...</td>\n      <td>1311.6304</td>\n      <td>NaN</td>\n      <td>NaN</td>\n      <td>NaN</td>\n      <td>NaN</td>\n      <td>0</td>\n      <td>0</td>\n      <td>0</td>\n      <td>0</td>\n      <td>1</td>\n    </tr>\n    <tr>\n      <th>518790</th>\n      <td>2014-06-30 23:59:22</td>\n      <td>0.0</td>\n      <td>0.0</td>\n      <td>1.86261</td>\n      <td>1173.107485</td>\n      <td>6.920000</td>\n      <td>11.297412</td>\n      <td>57.77676</td>\n      <td>8.69218</td>\n      <td>21.028008</td>\n      <td>...</td>\n      <td>1325.5504</td>\n      <td>NaN</td>\n      <td>NaN</td>\n      <td>NaN</td>\n      <td>NaN</td>\n      <td>1</td>\n      <td>0</td>\n      <td>0</td>\n      <td>0</td>\n      <td>0</td>\n    </tr>\n    <tr>\n      <th>518791</th>\n      <td>2014-07-01 00:00:22</td>\n      <td>0.0</td>\n      <td>0.0</td>\n      <td>1.86261</td>\n      <td>1173.239485</td>\n      <td>6.920000</td>\n      <td>11.297412</td>\n      <td>57.77676</td>\n      <td>8.69218</td>\n      <td>21.047388</td>\n      <td>...</td>\n      <td>1325.5504</td>\n      <td>NaN</td>\n      <td>NaN</td>\n      <td>NaN</td>\n      <td>NaN</td>\n      <td>1</td>\n      <td>0</td>\n      <td>0</td>\n      <td>0</td>\n      <td>0</td>\n    </tr>\n  </tbody>\n</table>\n<p>518792 rows × 361 columns</p>\n</div>"
     },
     "execution_count": 4,
     "metadata": {},
     "output_type": "execute_result"
    }
   ],
   "source": [
    "year1_minutes = Db.load_data(hourly=False)\n",
    "year1_minutes"
   ],
   "metadata": {
    "collapsed": false,
    "pycharm": {
     "name": "#%%\n"
    }
   }
  },
  {
   "cell_type": "code",
   "execution_count": 91,
   "outputs": [
    {
     "ename": "KeyError",
     "evalue": "'Statistics'",
     "output_type": "error",
     "traceback": [
      "\u001B[1;31m---------------------------------------------------------------------------\u001B[0m",
      "\u001B[1;31mKeyError\u001B[0m                                  Traceback (most recent call last)",
      "File \u001B[1;32m~\\.virtualenvs\\Datavidenskab-P6-EFOcKVD8\\lib\\site-packages\\pandas\\core\\indexes\\base.py:3621\u001B[0m, in \u001B[0;36mIndex.get_loc\u001B[1;34m(self, key, method, tolerance)\u001B[0m\n\u001B[0;32m   3620\u001B[0m \u001B[38;5;28;01mtry\u001B[39;00m:\n\u001B[1;32m-> 3621\u001B[0m     \u001B[38;5;28;01mreturn\u001B[39;00m \u001B[38;5;28;43mself\u001B[39;49m\u001B[38;5;241;43m.\u001B[39;49m\u001B[43m_engine\u001B[49m\u001B[38;5;241;43m.\u001B[39;49m\u001B[43mget_loc\u001B[49m\u001B[43m(\u001B[49m\u001B[43mcasted_key\u001B[49m\u001B[43m)\u001B[49m\n\u001B[0;32m   3622\u001B[0m \u001B[38;5;28;01mexcept\u001B[39;00m \u001B[38;5;167;01mKeyError\u001B[39;00m \u001B[38;5;28;01mas\u001B[39;00m err:\n",
      "File \u001B[1;32m~\\.virtualenvs\\Datavidenskab-P6-EFOcKVD8\\lib\\site-packages\\pandas\\_libs\\index.pyx:136\u001B[0m, in \u001B[0;36mpandas._libs.index.IndexEngine.get_loc\u001B[1;34m()\u001B[0m\n",
      "File \u001B[1;32m~\\.virtualenvs\\Datavidenskab-P6-EFOcKVD8\\lib\\site-packages\\pandas\\_libs\\index.pyx:163\u001B[0m, in \u001B[0;36mpandas._libs.index.IndexEngine.get_loc\u001B[1;34m()\u001B[0m\n",
      "File \u001B[1;32mpandas\\_libs\\hashtable_class_helper.pxi:5198\u001B[0m, in \u001B[0;36mpandas._libs.hashtable.PyObjectHashTable.get_item\u001B[1;34m()\u001B[0m\n",
      "File \u001B[1;32mpandas\\_libs\\hashtable_class_helper.pxi:5206\u001B[0m, in \u001B[0;36mpandas._libs.hashtable.PyObjectHashTable.get_item\u001B[1;34m()\u001B[0m\n",
      "\u001B[1;31mKeyError\u001B[0m: 'Statistics'",
      "\nThe above exception was the direct cause of the following exception:\n",
      "\u001B[1;31mKeyError\u001B[0m                                  Traceback (most recent call last)",
      "Input \u001B[1;32mIn [91]\u001B[0m, in \u001B[0;36m<cell line: 2>\u001B[1;34m()\u001B[0m\n\u001B[0;32m      1\u001B[0m appliance_df \u001B[38;5;241m=\u001B[39m year1_minutes[[\u001B[38;5;124m\"\u001B[39m\u001B[38;5;124mTimestamp\u001B[39m\u001B[38;5;124m\"\u001B[39m]\u001B[38;5;241m+\u001B[39mappliance_list]\u001B[38;5;241m.\u001B[39mcopy()\n\u001B[1;32m----> 2\u001B[0m appliance_df \u001B[38;5;241m=\u001B[39m \u001B[43mappliance_df\u001B[49m\u001B[43m[\u001B[49m\u001B[38;5;124;43m'\u001B[39;49m\u001B[38;5;124;43mStatistics\u001B[39;49m\u001B[38;5;124;43m'\u001B[39;49m\u001B[43m]\u001B[49m\u001B[38;5;241m.\u001B[39mappend(appliance_df\u001B[38;5;241m.\u001B[39mdescribe()[\u001B[38;5;241m0\u001B[39m])\n\u001B[0;32m      3\u001B[0m appliance_df\n",
      "File \u001B[1;32m~\\.virtualenvs\\Datavidenskab-P6-EFOcKVD8\\lib\\site-packages\\pandas\\core\\frame.py:3505\u001B[0m, in \u001B[0;36mDataFrame.__getitem__\u001B[1;34m(self, key)\u001B[0m\n\u001B[0;32m   3503\u001B[0m \u001B[38;5;28;01mif\u001B[39;00m \u001B[38;5;28mself\u001B[39m\u001B[38;5;241m.\u001B[39mcolumns\u001B[38;5;241m.\u001B[39mnlevels \u001B[38;5;241m>\u001B[39m \u001B[38;5;241m1\u001B[39m:\n\u001B[0;32m   3504\u001B[0m     \u001B[38;5;28;01mreturn\u001B[39;00m \u001B[38;5;28mself\u001B[39m\u001B[38;5;241m.\u001B[39m_getitem_multilevel(key)\n\u001B[1;32m-> 3505\u001B[0m indexer \u001B[38;5;241m=\u001B[39m \u001B[38;5;28;43mself\u001B[39;49m\u001B[38;5;241;43m.\u001B[39;49m\u001B[43mcolumns\u001B[49m\u001B[38;5;241;43m.\u001B[39;49m\u001B[43mget_loc\u001B[49m\u001B[43m(\u001B[49m\u001B[43mkey\u001B[49m\u001B[43m)\u001B[49m\n\u001B[0;32m   3506\u001B[0m \u001B[38;5;28;01mif\u001B[39;00m is_integer(indexer):\n\u001B[0;32m   3507\u001B[0m     indexer \u001B[38;5;241m=\u001B[39m [indexer]\n",
      "File \u001B[1;32m~\\.virtualenvs\\Datavidenskab-P6-EFOcKVD8\\lib\\site-packages\\pandas\\core\\indexes\\base.py:3623\u001B[0m, in \u001B[0;36mIndex.get_loc\u001B[1;34m(self, key, method, tolerance)\u001B[0m\n\u001B[0;32m   3621\u001B[0m     \u001B[38;5;28;01mreturn\u001B[39;00m \u001B[38;5;28mself\u001B[39m\u001B[38;5;241m.\u001B[39m_engine\u001B[38;5;241m.\u001B[39mget_loc(casted_key)\n\u001B[0;32m   3622\u001B[0m \u001B[38;5;28;01mexcept\u001B[39;00m \u001B[38;5;167;01mKeyError\u001B[39;00m \u001B[38;5;28;01mas\u001B[39;00m err:\n\u001B[1;32m-> 3623\u001B[0m     \u001B[38;5;28;01mraise\u001B[39;00m \u001B[38;5;167;01mKeyError\u001B[39;00m(key) \u001B[38;5;28;01mfrom\u001B[39;00m \u001B[38;5;21;01merr\u001B[39;00m\n\u001B[0;32m   3624\u001B[0m \u001B[38;5;28;01mexcept\u001B[39;00m \u001B[38;5;167;01mTypeError\u001B[39;00m:\n\u001B[0;32m   3625\u001B[0m     \u001B[38;5;66;03m# If we have a listlike key, _check_indexing_error will raise\u001B[39;00m\n\u001B[0;32m   3626\u001B[0m     \u001B[38;5;66;03m#  InvalidIndexError. Otherwise we fall through and re-raise\u001B[39;00m\n\u001B[0;32m   3627\u001B[0m     \u001B[38;5;66;03m#  the TypeError.\u001B[39;00m\n\u001B[0;32m   3628\u001B[0m     \u001B[38;5;28mself\u001B[39m\u001B[38;5;241m.\u001B[39m_check_indexing_error(key)\n",
      "\u001B[1;31mKeyError\u001B[0m: 'Statistics'"
     ]
    }
   ],
   "source": [
    "appliance_df = year1_minutes[[\"Timestamp\"]+appliance_list].copy()\n",
    "appliance_df = appliance_df.describe()\n",
    "appliance_df"
   ],
   "metadata": {
    "collapsed": false,
    "pycharm": {
     "name": "#%%\n"
    }
   }
  },
  {
   "cell_type": "code",
   "execution_count": 88,
   "outputs": [
    {
     "ename": "TypeError",
     "evalue": "string indices must be integers",
     "output_type": "error",
     "traceback": [
      "\u001B[1;31m---------------------------------------------------------------------------\u001B[0m",
      "\u001B[1;31mTypeError\u001B[0m                                 Traceback (most recent call last)",
      "Input \u001B[1;32mIn [88]\u001B[0m, in \u001B[0;36m<cell line: 2>\u001B[1;34m()\u001B[0m\n\u001B[0;32m      1\u001B[0m appliance_standby \u001B[38;5;241m=\u001B[39m []\n\u001B[0;32m      2\u001B[0m \u001B[38;5;28;01mfor\u001B[39;00m index, cols \u001B[38;5;129;01min\u001B[39;00m appliance_df\u001B[38;5;241m.\u001B[39miterrows():\n\u001B[1;32m----> 3\u001B[0m     \u001B[38;5;28mprint\u001B[39m(\u001B[43mindex\u001B[49m\u001B[43m[\u001B[49m\u001B[38;5;124;43m'\u001B[39;49m\u001B[38;5;124;43m50\u001B[39;49m\u001B[38;5;124;43m%\u001B[39;49m\u001B[38;5;124;43m'\u001B[39;49m\u001B[43m]\u001B[49m, cols)\n",
      "\u001B[1;31mTypeError\u001B[0m: string indices must be integers"
     ]
    }
   ],
   "source": [
    "\n",
    "\n",
    "appliance_standby = []\n",
    "for index, cols in appliance_df.iterrows():\n",
    "    print(index[], cols)\n",
    "# appliance_standby\n",
    "# appliance_df"
   ],
   "metadata": {
    "collapsed": false,
    "pycharm": {
     "name": "#%%\n"
    }
   }
  },
  {
   "cell_type": "code",
   "execution_count": null,
   "outputs": [],
   "source": [],
   "metadata": {
    "collapsed": false,
    "pycharm": {
     "name": "#%%\n"
    }
   }
  }
 ],
 "metadata": {
  "kernelspec": {
   "display_name": "Python 3",
   "language": "python",
   "name": "python3"
  },
  "language_info": {
   "codemirror_mode": {
    "name": "ipython",
    "version": 2
   },
   "file_extension": ".py",
   "mimetype": "text/x-python",
   "name": "python",
   "nbconvert_exporter": "python",
   "pygments_lexer": "ipython2",
   "version": "2.7.6"
  }
 },
 "nbformat": 4,
 "nbformat_minor": 0
}
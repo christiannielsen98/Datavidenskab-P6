{
 "cells": [
  {
   "cell_type": "code",
   "execution_count": 1,
   "metadata": {
    "collapsed": true
   },
   "outputs": [],
   "source": [
    "import datetime\n",
    "\n",
    "import pandas as pd\n",
    "import plotly.express as px\n",
    "import plotly.graph_objects as go\n",
    "\n",
    "from Project.Database import Db"
   ]
  },
  {
   "cell_type": "code",
   "execution_count": 48,
   "outputs": [],
   "source": [
    "year1_minutes, meta = Db.load_data(hourly=False, meta=True, year=1)\n",
    "year2_minutes, meta = Db.load_data(hourly=False, meta=True, year=2)"
   ],
   "metadata": {
    "collapsed": false,
    "pycharm": {
     "name": "#%%\n"
    }
   }
  },
  {
   "cell_type": "code",
   "execution_count": 44,
   "outputs": [],
   "source": [
    "bath1 = meta.loc[(meta['Parameter'] == \"Status_OnOff\") & (meta['Measurement_Location'] == \"Bath2\") & (meta[\"Unnamed: 0\"].str.contains('Status'))]['Unnamed: 0'].tolist()"
   ],
   "metadata": {
    "collapsed": false,
    "pycharm": {
     "name": "#%%\n"
    }
   }
  },
  {
   "cell_type": "code",
   "execution_count": 46,
   "outputs": [],
   "source": [
    "fig = px.scatter(year1_minutes, x=\"Timestamp\", y=bath1)\n",
    "fig.show()"
   ],
   "metadata": {
    "collapsed": false,
    "pycharm": {
     "name": "#%%\n"
    }
   }
  },
  {
   "cell_type": "code",
   "execution_count": 49,
   "outputs": [
    {
     "data": {
      "text/plain": "['Load_StatusBA1Lights',\n 'Load_StatusKitchenLightsA',\n 'Load_StatusKitchenLightsB',\n 'Load_StatusKitchenLightsC',\n 'Load_StatusDRLights',\n 'Load_StatusLRLights3',\n 'Load_StatusEntryHallLights',\n 'Load_StatusBR4Lights',\n 'Load_StatusMBALights',\n 'Load_StatusMBRLights1',\n 'Load_StatusMBRLights2',\n 'Load_StatusBA2Lights',\n 'Load_StatusBR2Lights',\n 'Load_StatusBR3Lights',\n 'Load_StatusSensHeatPrntBDOWN',\n 'Load_StatusSensHeatPrntAUP',\n 'Load_StatusSensHeatPrntBUP',\n 'Load_StatusLRLights1',\n 'Load_StatusSensHeatPrntADOWN',\n 'Load_StatusLRLights2',\n 'Load_StatusPlugLoadBlender',\n 'Load_StatusPlugLoadToasterOven',\n 'Load_StatusApplianceRangeHood',\n 'Load_StatusApplianceCooktop',\n 'Load_StatusApplianceOven',\n 'Load_StatusPlugLoadSlowCooker',\n 'Load_StatusPlugLoadToaster',\n 'Load_StatusApplianceDishwasher',\n 'Load_StatusPlugLoadHandMixer',\n 'Load_StatusPlugLoadCanOpener',\n 'Load_StatusPlugLoadCoffeeMaker',\n 'Load_StatusPlugLoadLRTV',\n 'Load_StatusPlugLoadLRBlueRay',\n 'Load_StatusPlugLoadVideoGame',\n 'Load_StatusPlugLoadVacuum',\n 'Load_StatusPlugLoadDesktopPCMonitor',\n 'Load_StatusPlugLoadHairDryerCurlIron',\n 'Load_StatusPlugLoadBR2Laptop',\n 'Load_StatusPlugLoadBR3Laptop',\n 'Load_StatusPlugLoadMBRTV',\n 'Load_StatusPlugLoadMBRBlueRay',\n 'Load_StatusPlugLoadFan',\n 'Load_StatusPlugLoadHeatingPad',\n 'Load_StatusPlugLoadIron']"
     },
     "execution_count": 49,
     "metadata": {},
     "output_type": "execute_result"
    }
   ],
   "source": [
    "#Extract appliances from the meta data\n",
    "appliance_condition = (lambda self: (\n",
    "        (self[\"Parameter\"] == \"Status_OnOff\") &\n",
    "        (self[\"Subsystem\"] == \"Loads\") &\n",
    "        (~self[\"Unnamed: 0\"].str.contains(\"Child\" or \"Prnt\")) &\n",
    "        (~self[\"Unnamed: 0\"].str.contains(\"StatusLatentload\"))\n",
    "))\n",
    "\n",
    "appliances_statusOnOff = meta.loc[appliance_condition][\"Unnamed: 0\"].tolist()\n",
    "appliances_statusOnOff"
   ],
   "metadata": {
    "collapsed": false,
    "pycharm": {
     "name": "#%%\n"
    }
   }
  },
  {
   "cell_type": "code",
   "execution_count": null,
   "outputs": [],
   "source": [
    "#Combine minute data with the extracted appliances into a dataframe\n",
    "minute_appliances_status = year1_minutes[[\"Timestamp\"] + appliances_statusOnOff].copy()"
   ],
   "metadata": {
    "collapsed": false,
    "pycharm": {
     "name": "#%%\n",
     "is_executing": true
    }
   }
  },
  {
   "cell_type": "code",
   "execution_count": 51,
   "outputs": [
    {
     "data": {
      "text/plain": "                        Timestamp  Load_StatusBA1Lights  \\\n0       2013-07-01 00:01:14-04:00                   0.0   \n1       2013-07-01 00:02:14-04:00                   0.0   \n2       2013-07-01 00:03:14-04:00                   0.0   \n3       2013-07-01 00:04:14-04:00                   0.0   \n4       2013-07-01 00:05:14-04:00                   0.0   \n...                           ...                   ...   \n518787  2014-06-30 23:29:22-04:00                   0.0   \n518788  2014-06-30 23:30:22-04:00                   0.0   \n518789  2014-06-30 23:31:22-04:00                   0.0   \n518790  2014-06-30 23:59:22-04:00                   0.0   \n518791  2014-07-01 00:00:22-04:00                   0.0   \n\n        Load_StatusKitchenLightsA  Load_StatusKitchenLightsB  \\\n0                             0.0                        0.0   \n1                             0.0                        0.0   \n2                             0.0                        0.0   \n3                             0.0                        0.0   \n4                             0.0                        0.0   \n...                           ...                        ...   \n518787                        0.0                        0.0   \n518788                        0.0                        0.0   \n518789                        0.0                        0.0   \n518790                        0.0                        0.0   \n518791                        0.0                        0.0   \n\n        Load_StatusKitchenLightsC  Load_StatusDRLights  Load_StatusLRLights3  \\\n0                             0.0                  0.0                   0.0   \n1                             0.0                  0.0                   0.0   \n2                             0.0                  0.0                   0.0   \n3                             0.0                  0.0                   0.0   \n4                             0.0                  0.0                   0.0   \n...                           ...                  ...                   ...   \n518787                        0.0                  0.0                   0.0   \n518788                        0.0                  0.0                   0.0   \n518789                        0.0                  0.0                   0.0   \n518790                        0.0                  0.0                   0.0   \n518791                        0.0                  0.0                   0.0   \n\n        Load_StatusEntryHallLights  Load_StatusBR4Lights  \\\n0                              0.0                   0.0   \n1                              0.0                   0.0   \n2                              0.0                   0.0   \n3                              0.0                   0.0   \n4                              0.0                   0.0   \n...                            ...                   ...   \n518787                         0.0                   0.0   \n518788                         0.0                   0.0   \n518789                         0.0                   0.0   \n518790                         0.0                   0.0   \n518791                         0.0                   0.0   \n\n        Load_StatusMBALights  ...  Load_StatusPlugLoadVacuum  \\\n0                        0.0  ...                        0.0   \n1                        0.0  ...                        0.0   \n2                        0.0  ...                        0.0   \n3                        0.0  ...                        0.0   \n4                        0.0  ...                        0.0   \n...                      ...  ...                        ...   \n518787                   0.0  ...                        0.0   \n518788                   0.0  ...                        0.0   \n518789                   0.0  ...                        0.0   \n518790                   0.0  ...                        0.0   \n518791                   0.0  ...                        0.0   \n\n        Load_StatusPlugLoadDesktopPCMonitor  \\\n0                                       0.0   \n1                                       0.0   \n2                                       0.0   \n3                                       0.0   \n4                                       0.0   \n...                                     ...   \n518787                                  0.0   \n518788                                  0.0   \n518789                                  0.0   \n518790                                  0.0   \n518791                                  0.0   \n\n        Load_StatusPlugLoadHairDryerCurlIron  Load_StatusPlugLoadBR2Laptop  \\\n0                                        0.0                           0.0   \n1                                        0.0                           0.0   \n2                                        0.0                           0.0   \n3                                        0.0                           0.0   \n4                                        0.0                           0.0   \n...                                      ...                           ...   \n518787                                   0.0                           0.0   \n518788                                   0.0                           0.0   \n518789                                   0.0                           0.0   \n518790                                   0.0                           0.0   \n518791                                   0.0                           0.0   \n\n        Load_StatusPlugLoadBR3Laptop  Load_StatusPlugLoadMBRTV  \\\n0                                0.0                       0.0   \n1                                0.0                       0.0   \n2                                0.0                       0.0   \n3                                0.0                       0.0   \n4                                0.0                       0.0   \n...                              ...                       ...   \n518787                           0.0                       0.0   \n518788                           0.0                       0.0   \n518789                           0.0                       0.0   \n518790                           0.0                       0.0   \n518791                           0.0                       0.0   \n\n        Load_StatusPlugLoadMBRBlueRay  Load_StatusPlugLoadFan  \\\n0                                 0.0                     0.0   \n1                                 0.0                     0.0   \n2                                 0.0                     0.0   \n3                                 0.0                     0.0   \n4                                 0.0                     0.0   \n...                               ...                     ...   \n518787                            0.0                     1.0   \n518788                            0.0                     1.0   \n518789                            0.0                     1.0   \n518790                            0.0                     0.0   \n518791                            0.0                     0.0   \n\n        Load_StatusPlugLoadHeatingPad  Load_StatusPlugLoadIron  \n0                                 0.0                      0.0  \n1                                 0.0                      0.0  \n2                                 0.0                      0.0  \n3                                 0.0                      0.0  \n4                                 0.0                      0.0  \n...                               ...                      ...  \n518787                            0.0                      0.0  \n518788                            0.0                      0.0  \n518789                            0.0                      0.0  \n518790                            0.0                      0.0  \n518791                            0.0                      0.0  \n\n[518792 rows x 45 columns]",
      "text/html": "<div>\n<style scoped>\n    .dataframe tbody tr th:only-of-type {\n        vertical-align: middle;\n    }\n\n    .dataframe tbody tr th {\n        vertical-align: top;\n    }\n\n    .dataframe thead th {\n        text-align: right;\n    }\n</style>\n<table border=\"1\" class=\"dataframe\">\n  <thead>\n    <tr style=\"text-align: right;\">\n      <th></th>\n      <th>Timestamp</th>\n      <th>Load_StatusBA1Lights</th>\n      <th>Load_StatusKitchenLightsA</th>\n      <th>Load_StatusKitchenLightsB</th>\n      <th>Load_StatusKitchenLightsC</th>\n      <th>Load_StatusDRLights</th>\n      <th>Load_StatusLRLights3</th>\n      <th>Load_StatusEntryHallLights</th>\n      <th>Load_StatusBR4Lights</th>\n      <th>Load_StatusMBALights</th>\n      <th>...</th>\n      <th>Load_StatusPlugLoadVacuum</th>\n      <th>Load_StatusPlugLoadDesktopPCMonitor</th>\n      <th>Load_StatusPlugLoadHairDryerCurlIron</th>\n      <th>Load_StatusPlugLoadBR2Laptop</th>\n      <th>Load_StatusPlugLoadBR3Laptop</th>\n      <th>Load_StatusPlugLoadMBRTV</th>\n      <th>Load_StatusPlugLoadMBRBlueRay</th>\n      <th>Load_StatusPlugLoadFan</th>\n      <th>Load_StatusPlugLoadHeatingPad</th>\n      <th>Load_StatusPlugLoadIron</th>\n    </tr>\n  </thead>\n  <tbody>\n    <tr>\n      <th>0</th>\n      <td>2013-07-01 00:01:14-04:00</td>\n      <td>0.0</td>\n      <td>0.0</td>\n      <td>0.0</td>\n      <td>0.0</td>\n      <td>0.0</td>\n      <td>0.0</td>\n      <td>0.0</td>\n      <td>0.0</td>\n      <td>0.0</td>\n      <td>...</td>\n      <td>0.0</td>\n      <td>0.0</td>\n      <td>0.0</td>\n      <td>0.0</td>\n      <td>0.0</td>\n      <td>0.0</td>\n      <td>0.0</td>\n      <td>0.0</td>\n      <td>0.0</td>\n      <td>0.0</td>\n    </tr>\n    <tr>\n      <th>1</th>\n      <td>2013-07-01 00:02:14-04:00</td>\n      <td>0.0</td>\n      <td>0.0</td>\n      <td>0.0</td>\n      <td>0.0</td>\n      <td>0.0</td>\n      <td>0.0</td>\n      <td>0.0</td>\n      <td>0.0</td>\n      <td>0.0</td>\n      <td>...</td>\n      <td>0.0</td>\n      <td>0.0</td>\n      <td>0.0</td>\n      <td>0.0</td>\n      <td>0.0</td>\n      <td>0.0</td>\n      <td>0.0</td>\n      <td>0.0</td>\n      <td>0.0</td>\n      <td>0.0</td>\n    </tr>\n    <tr>\n      <th>2</th>\n      <td>2013-07-01 00:03:14-04:00</td>\n      <td>0.0</td>\n      <td>0.0</td>\n      <td>0.0</td>\n      <td>0.0</td>\n      <td>0.0</td>\n      <td>0.0</td>\n      <td>0.0</td>\n      <td>0.0</td>\n      <td>0.0</td>\n      <td>...</td>\n      <td>0.0</td>\n      <td>0.0</td>\n      <td>0.0</td>\n      <td>0.0</td>\n      <td>0.0</td>\n      <td>0.0</td>\n      <td>0.0</td>\n      <td>0.0</td>\n      <td>0.0</td>\n      <td>0.0</td>\n    </tr>\n    <tr>\n      <th>3</th>\n      <td>2013-07-01 00:04:14-04:00</td>\n      <td>0.0</td>\n      <td>0.0</td>\n      <td>0.0</td>\n      <td>0.0</td>\n      <td>0.0</td>\n      <td>0.0</td>\n      <td>0.0</td>\n      <td>0.0</td>\n      <td>0.0</td>\n      <td>...</td>\n      <td>0.0</td>\n      <td>0.0</td>\n      <td>0.0</td>\n      <td>0.0</td>\n      <td>0.0</td>\n      <td>0.0</td>\n      <td>0.0</td>\n      <td>0.0</td>\n      <td>0.0</td>\n      <td>0.0</td>\n    </tr>\n    <tr>\n      <th>4</th>\n      <td>2013-07-01 00:05:14-04:00</td>\n      <td>0.0</td>\n      <td>0.0</td>\n      <td>0.0</td>\n      <td>0.0</td>\n      <td>0.0</td>\n      <td>0.0</td>\n      <td>0.0</td>\n      <td>0.0</td>\n      <td>0.0</td>\n      <td>...</td>\n      <td>0.0</td>\n      <td>0.0</td>\n      <td>0.0</td>\n      <td>0.0</td>\n      <td>0.0</td>\n      <td>0.0</td>\n      <td>0.0</td>\n      <td>0.0</td>\n      <td>0.0</td>\n      <td>0.0</td>\n    </tr>\n    <tr>\n      <th>...</th>\n      <td>...</td>\n      <td>...</td>\n      <td>...</td>\n      <td>...</td>\n      <td>...</td>\n      <td>...</td>\n      <td>...</td>\n      <td>...</td>\n      <td>...</td>\n      <td>...</td>\n      <td>...</td>\n      <td>...</td>\n      <td>...</td>\n      <td>...</td>\n      <td>...</td>\n      <td>...</td>\n      <td>...</td>\n      <td>...</td>\n      <td>...</td>\n      <td>...</td>\n      <td>...</td>\n    </tr>\n    <tr>\n      <th>518787</th>\n      <td>2014-06-30 23:29:22-04:00</td>\n      <td>0.0</td>\n      <td>0.0</td>\n      <td>0.0</td>\n      <td>0.0</td>\n      <td>0.0</td>\n      <td>0.0</td>\n      <td>0.0</td>\n      <td>0.0</td>\n      <td>0.0</td>\n      <td>...</td>\n      <td>0.0</td>\n      <td>0.0</td>\n      <td>0.0</td>\n      <td>0.0</td>\n      <td>0.0</td>\n      <td>0.0</td>\n      <td>0.0</td>\n      <td>1.0</td>\n      <td>0.0</td>\n      <td>0.0</td>\n    </tr>\n    <tr>\n      <th>518788</th>\n      <td>2014-06-30 23:30:22-04:00</td>\n      <td>0.0</td>\n      <td>0.0</td>\n      <td>0.0</td>\n      <td>0.0</td>\n      <td>0.0</td>\n      <td>0.0</td>\n      <td>0.0</td>\n      <td>0.0</td>\n      <td>0.0</td>\n      <td>...</td>\n      <td>0.0</td>\n      <td>0.0</td>\n      <td>0.0</td>\n      <td>0.0</td>\n      <td>0.0</td>\n      <td>0.0</td>\n      <td>0.0</td>\n      <td>1.0</td>\n      <td>0.0</td>\n      <td>0.0</td>\n    </tr>\n    <tr>\n      <th>518789</th>\n      <td>2014-06-30 23:31:22-04:00</td>\n      <td>0.0</td>\n      <td>0.0</td>\n      <td>0.0</td>\n      <td>0.0</td>\n      <td>0.0</td>\n      <td>0.0</td>\n      <td>0.0</td>\n      <td>0.0</td>\n      <td>0.0</td>\n      <td>...</td>\n      <td>0.0</td>\n      <td>0.0</td>\n      <td>0.0</td>\n      <td>0.0</td>\n      <td>0.0</td>\n      <td>0.0</td>\n      <td>0.0</td>\n      <td>1.0</td>\n      <td>0.0</td>\n      <td>0.0</td>\n    </tr>\n    <tr>\n      <th>518790</th>\n      <td>2014-06-30 23:59:22-04:00</td>\n      <td>0.0</td>\n      <td>0.0</td>\n      <td>0.0</td>\n      <td>0.0</td>\n      <td>0.0</td>\n      <td>0.0</td>\n      <td>0.0</td>\n      <td>0.0</td>\n      <td>0.0</td>\n      <td>...</td>\n      <td>0.0</td>\n      <td>0.0</td>\n      <td>0.0</td>\n      <td>0.0</td>\n      <td>0.0</td>\n      <td>0.0</td>\n      <td>0.0</td>\n      <td>0.0</td>\n      <td>0.0</td>\n      <td>0.0</td>\n    </tr>\n    <tr>\n      <th>518791</th>\n      <td>2014-07-01 00:00:22-04:00</td>\n      <td>0.0</td>\n      <td>0.0</td>\n      <td>0.0</td>\n      <td>0.0</td>\n      <td>0.0</td>\n      <td>0.0</td>\n      <td>0.0</td>\n      <td>0.0</td>\n      <td>0.0</td>\n      <td>...</td>\n      <td>0.0</td>\n      <td>0.0</td>\n      <td>0.0</td>\n      <td>0.0</td>\n      <td>0.0</td>\n      <td>0.0</td>\n      <td>0.0</td>\n      <td>0.0</td>\n      <td>0.0</td>\n      <td>0.0</td>\n    </tr>\n  </tbody>\n</table>\n<p>518792 rows × 45 columns</p>\n</div>"
     },
     "execution_count": 51,
     "metadata": {},
     "output_type": "execute_result"
    }
   ],
   "source": [
    "#Replaces values to be binary 0 or 1.\n",
    "for i in appliances_statusOnOff:\n",
    "    minute_appliances_status.loc[minute_appliances_status[i] < 0, i] = 0\n",
    "    minute_appliances_status.loc[minute_appliances_status[i] > 0, i] = 1\n",
    "minute_appliances_status"
   ],
   "metadata": {
    "collapsed": false,
    "pycharm": {
     "name": "#%%\n"
    }
   }
  },
  {
   "cell_type": "code",
   "execution_count": null,
   "outputs": [],
   "source": [
    "# Her udtrækkes start og slut tidspunkt for hvert appliance når dette er tændt og gemmes i DF\n",
    "#eks: https://stackoverflow.com/questions/36864690/iterate-through-a-dataframe-by-index\n",
    "\n",
    "for index in range(minute_appliances_status.shapes(1)):\n",
    "    for i, row in minute_appliances_status.iterrows():\n",
    "        index = i\n",
    "        Load_StatusBA1Lights = row[\"Load_StatusBA1Lights\"]"
   ],
   "metadata": {
    "collapsed": false,
    "pycharm": {
     "name": "#%%\n"
    }
   }
  }
 ],
 "metadata": {
  "kernelspec": {
   "display_name": "Python 3",
   "language": "python",
   "name": "python3"
  },
  "language_info": {
   "codemirror_mode": {
    "name": "ipython",
    "version": 2
   },
   "file_extension": ".py",
   "mimetype": "text/x-python",
   "name": "python",
   "nbconvert_exporter": "python",
   "pygments_lexer": "ipython2",
   "version": "2.7.6"
  }
 },
 "nbformat": 4,
 "nbformat_minor": 0
}
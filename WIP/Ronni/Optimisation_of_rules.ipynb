{
 "cells": [
  {
   "cell_type": "code",
   "execution_count": 3,
   "outputs": [],
   "source": [
    "import numpy as np\n",
    "import pandas as pd\n",
    "\n",
    "from Project.Database import Db"
   ],
   "metadata": {
    "collapsed": false,
    "pycharm": {
     "name": "#%%\n"
    }
   }
  },
  {
   "cell_type": "markdown",
   "source": [
    "# Phase 1\n",
    "Define available appliances"
   ],
   "metadata": {
    "collapsed": false
   }
  },
  {
   "cell_type": "code",
   "execution_count": 7,
   "metadata": {
    "collapsed": true
   },
   "outputs": [
    {
     "data": {
      "text/plain": "['DHW_StatusSolenoidHotKitchenSink',\n 'DHW_StatusSolenoidHotMBAShower',\n 'DHW_StatusSolenoidHotMBATub',\n 'Load_StatusApplianceCooktop',\n 'Load_StatusApplianceDishwasher',\n 'Load_StatusApplianceOven',\n 'Load_StatusApplianceRangeHood',\n 'Load_StatusBA1Lights',\n 'Load_StatusBA2Lights',\n 'Load_StatusBR2Lights',\n 'Load_StatusBR3Lights',\n 'Load_StatusBR4Lights',\n 'Load_StatusDRLights',\n 'Load_StatusEntryHallLights',\n 'Load_StatusKitchenLightsA',\n 'Load_StatusKitchenLightsB',\n 'Load_StatusKitchenLightsC',\n 'Load_StatusLRLights1',\n 'Load_StatusLRLights2',\n 'Load_StatusLRLights3',\n 'Load_StatusLatentload',\n 'Load_StatusMBALights',\n 'Load_StatusMBRLights1',\n 'Load_StatusMBRLights2',\n 'Load_StatusPlugLoadBR2Laptop',\n 'Load_StatusPlugLoadBR3Laptop',\n 'Load_StatusPlugLoadBlender',\n 'Load_StatusPlugLoadCanOpener',\n 'Load_StatusPlugLoadCoffeeMaker',\n 'Load_StatusPlugLoadDesktopPCMonitor',\n 'Load_StatusPlugLoadFan',\n 'Load_StatusPlugLoadHairDryerCurlIron',\n 'Load_StatusPlugLoadHandMixer',\n 'Load_StatusPlugLoadHeatingPad',\n 'Load_StatusPlugLoadIron',\n 'Load_StatusPlugLoadLRBlueRay',\n 'Load_StatusPlugLoadLRTV',\n 'Load_StatusPlugLoadMBRBlueRay',\n 'Load_StatusPlugLoadMBRTV',\n 'Load_StatusPlugLoadSlowCooker',\n 'Load_StatusPlugLoadToaster',\n 'Load_StatusPlugLoadToasterOven',\n 'Load_StatusPlugLoadVacuum',\n 'Load_StatusPlugLoadVideoGame',\n 'Load_StatusClothesWasher',\n 'Load_StatusDryerPowerTotal']"
     },
     "execution_count": 7,
     "metadata": {},
     "output_type": "execute_result"
    }
   ],
   "source": [
    "meta = Db.load_data(meta=True, hourly=False, consumption=False)\n",
    "appliance_list = meta.loc[(lambda self:\n",
    "                           (self[\"Parameter\"] == \"Status_OnOff\") &\n",
    "                           (~ self.index.str.contains(\"SensHeat\")) &\n",
    "                           (~ self.index.str.contains(\"Cold\")))].index.to_list()\n",
    "appliance_list"
   ]
  },
  {
   "cell_type": "markdown",
   "source": [],
   "metadata": {
    "collapsed": false
   }
  },
  {
   "cell_type": "markdown",
   "source": [
    "# Phase 2\n",
    "Find constraints of devices:\n",
    "o\tIf there are hard constraints for this appliance only\n",
    "o\tDoes it have to be on in a continous period of time? How long does it last?\n",
    "o\tHow many watts pr second does it use?\n",
    "o\tHow much energy does it need from start to finish?\n"
   ],
   "metadata": {
    "collapsed": false
   }
  },
  {
   "cell_type": "code",
   "execution_count": null,
   "outputs": [],
   "source": [],
   "metadata": {
    "collapsed": false,
    "pycharm": {
     "name": "#%%\n"
    }
   }
  },
  {
   "cell_type": "markdown",
   "source": [
    "# Phase 3\n",
    "Maybe the patterns can help some of the constraints\n",
    "    o\tWashing machine can be used at every hour, but maybe the constraints of the user can be found in the patterns\n",
    "        \tE.g. General constraint that the appliances cant be started when the users are not home\n",
    "        \tDryer have to be started after the clotheswasher, so the clotheswasher cannot be started right before they go out of the house."
   ],
   "metadata": {
    "collapsed": false
   }
  },
  {
   "cell_type": "code",
   "execution_count": null,
   "outputs": [],
   "source": [],
   "metadata": {
    "collapsed": false,
    "pycharm": {
     "name": "#%%\n"
    }
   }
  }
 ],
 "metadata": {
  "kernelspec": {
   "display_name": "Python 3",
   "language": "python",
   "name": "python3"
  },
  "language_info": {
   "codemirror_mode": {
    "name": "ipython",
    "version": 2
   },
   "file_extension": ".py",
   "mimetype": "text/x-python",
   "name": "python",
   "nbconvert_exporter": "python",
   "pygments_lexer": "ipython2",
   "version": "2.7.6"
  }
 },
 "nbformat": 4,
 "nbformat_minor": 0
}
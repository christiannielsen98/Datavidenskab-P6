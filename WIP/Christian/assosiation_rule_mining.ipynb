{
 "cells": [
  {
   "cell_type": "code",
   "execution_count": 65,
   "outputs": [],
   "source": [
    "import numpy as np\n",
    "import pandas as pd\n",
    "import plotly.express as px\n",
    "import re\n",
    "import datetime\n",
    "from mlxtend.frequent_patterns import apriori, association_rules, fpgrowth\n",
    "from Project.Database import Db"
   ],
   "metadata": {
    "collapsed": false,
    "pycharm": {
     "name": "#%%\n"
    }
   }
  },
  {
   "cell_type": "code",
   "execution_count": 47,
   "outputs": [],
   "source": [
    "year1_hourly, meta = Db.load_data(hourly=True, meta=True, year=1)"
   ],
   "metadata": {
    "collapsed": false,
    "pycharm": {
     "name": "#%%\n"
    }
   }
  },
  {
   "cell_type": "code",
   "execution_count": 48,
   "metadata": {
    "collapsed": true
   },
   "outputs": [],
   "source": [
    "status_columns = meta.loc[(meta['Parameter'] == \"Status_OnOff\")][\"Unnamed: 0\"].tolist()\n",
    "year1_status_columns = year1_hourly[status_columns].copy()"
   ]
  },
  {
   "cell_type": "code",
   "execution_count": 49,
   "outputs": [],
   "source": [
    "for i in status_columns:\n",
    "    year1_status_columns.loc[year1_status_columns[i] < 0, i] = 0\n",
    "    year1_status_columns.loc[year1_status_columns[i] > 0, i] = 1\n",
    "year1_status_columns = year1_status_columns.fillna(0)"
   ],
   "metadata": {
    "collapsed": false,
    "pycharm": {
     "name": "#%%\n"
    }
   }
  },
  {
   "cell_type": "code",
   "execution_count": 50,
   "outputs": [
    {
     "name": "stdout",
     "output_type": "stream",
     "text": [
      "Processing 20 combinations | Sampling itemset size 1086\n",
      "       support                                           itemsets\n",
      "0     0.426093                (DHW_StatusSolenoidColdKitchenSink)\n",
      "1     0.289807                  (DHW_StatusSolenoidColdMBAShower)\n",
      "2     0.426093                 (DHW_StatusSolenoidHotKitchenSink)\n",
      "3     0.289807                   (DHW_StatusSolenoidHotMBAShower)\n",
      "4     0.223719                             (Load_StatusBR2Lights)\n",
      "...        ...                                                ...\n",
      "2589  0.230225  (Load_StatusKitchenLightsA, Load_StatusLRLight...\n",
      "2590  0.230225  (Load_StatusSensHeatPrntBDOWN, Load_StatusLRLi...\n",
      "2591  0.230225  (Load_StatusKitchenLightsA, Load_StatusLRLight...\n",
      "2592  0.230225  (Load_StatusKitchenLightsA, Load_StatusLRLight...\n",
      "2593  0.230225  (Load_StatusKitchenLightsA, Load_StatusLRLight...\n",
      "\n",
      "[2594 rows x 2 columns]\n"
     ]
    }
   ],
   "source": [
    "associations = apriori(year1_status_columns, min_support=0.2, use_colnames=True, verbose=3)\n",
    "associations"
   ],
   "metadata": {
    "collapsed": false,
    "pycharm": {
     "name": "#%%\n"
    }
   }
  },
  {
   "cell_type": "code",
   "execution_count": 51,
   "outputs": [
    {
     "data": {
      "text/plain": "                                             antecedents  \\\n0                    (DHW_StatusSolenoidColdKitchenSink)   \n1                     (DHW_StatusSolenoidHotKitchenSink)   \n2                      (DHW_StatusSolenoidColdMBAShower)   \n3                       (DHW_StatusSolenoidHotMBAShower)   \n4                            (Load_StatusKitchenLightsB)   \n...                                                  ...   \n12634  (Load_StatusSensHeatPrntBDOWN, DHW_StatusSolen...   \n12635  (Load_StatusSensHeatPrntBDOWN, Load_StatusLRLi...   \n12636  (Load_StatusSensHeatPrntBDOWN, Load_StatusLRLi...   \n12637  (Load_StatusSensHeatPrntBDOWN, DHW_StatusSolen...   \n12638  (Load_StatusSensHeatPrntBDOWN, DHW_StatusSolen...   \n\n                                             consequents  antecedent support  \\\n0                     (DHW_StatusSolenoidHotKitchenSink)            0.426093   \n1                    (DHW_StatusSolenoidColdKitchenSink)            0.426093   \n2                       (DHW_StatusSolenoidHotMBAShower)            0.289807   \n3                      (DHW_StatusSolenoidColdMBAShower)            0.289807   \n4                            (Load_StatusKitchenLightsA)            0.389453   \n...                                                  ...                 ...   \n12634  (Load_StatusLRLights3, DHW_StatusSolenoidColdK...            0.230225   \n12635  (Load_StatusKitchenLightsA, DHW_StatusSolenoid...            0.230225   \n12636  (Load_StatusKitchenLightsA, DHW_StatusSolenoid...            0.230225   \n12637  (Load_StatusKitchenLightsA, Load_StatusLRLight...            0.230225   \n12638  (Load_StatusKitchenLightsA, Load_StatusLRLight...            0.230225   \n\n       consequent support   support  confidence      lift  leverage  \\\n0                0.426093  0.426093         1.0  2.346906  0.244538   \n1                0.426093  0.426093         1.0  2.346906  0.244538   \n2                0.289807  0.289807         1.0  3.450571  0.205819   \n3                0.289807  0.289807         1.0  3.450571  0.205819   \n4                0.389453  0.389453         1.0  2.567702  0.237779   \n...                   ...       ...         ...       ...       ...   \n12634            0.260473  0.230225         1.0  3.839176  0.170258   \n12635            0.260473  0.230225         1.0  3.839176  0.170258   \n12636            0.260473  0.230225         1.0  3.839176  0.170258   \n12637            0.260473  0.230225         1.0  3.839176  0.170258   \n12638            0.260473  0.230225         1.0  3.839176  0.170258   \n\n       conviction  \n0             inf  \n1             inf  \n2             inf  \n3             inf  \n4             inf  \n...           ...  \n12634         inf  \n12635         inf  \n12636         inf  \n12637         inf  \n12638         inf  \n\n[12639 rows x 9 columns]",
      "text/html": "<div>\n<style scoped>\n    .dataframe tbody tr th:only-of-type {\n        vertical-align: middle;\n    }\n\n    .dataframe tbody tr th {\n        vertical-align: top;\n    }\n\n    .dataframe thead th {\n        text-align: right;\n    }\n</style>\n<table border=\"1\" class=\"dataframe\">\n  <thead>\n    <tr style=\"text-align: right;\">\n      <th></th>\n      <th>antecedents</th>\n      <th>consequents</th>\n      <th>antecedent support</th>\n      <th>consequent support</th>\n      <th>support</th>\n      <th>confidence</th>\n      <th>lift</th>\n      <th>leverage</th>\n      <th>conviction</th>\n    </tr>\n  </thead>\n  <tbody>\n    <tr>\n      <th>0</th>\n      <td>(DHW_StatusSolenoidColdKitchenSink)</td>\n      <td>(DHW_StatusSolenoidHotKitchenSink)</td>\n      <td>0.426093</td>\n      <td>0.426093</td>\n      <td>0.426093</td>\n      <td>1.0</td>\n      <td>2.346906</td>\n      <td>0.244538</td>\n      <td>inf</td>\n    </tr>\n    <tr>\n      <th>1</th>\n      <td>(DHW_StatusSolenoidHotKitchenSink)</td>\n      <td>(DHW_StatusSolenoidColdKitchenSink)</td>\n      <td>0.426093</td>\n      <td>0.426093</td>\n      <td>0.426093</td>\n      <td>1.0</td>\n      <td>2.346906</td>\n      <td>0.244538</td>\n      <td>inf</td>\n    </tr>\n    <tr>\n      <th>2</th>\n      <td>(DHW_StatusSolenoidColdMBAShower)</td>\n      <td>(DHW_StatusSolenoidHotMBAShower)</td>\n      <td>0.289807</td>\n      <td>0.289807</td>\n      <td>0.289807</td>\n      <td>1.0</td>\n      <td>3.450571</td>\n      <td>0.205819</td>\n      <td>inf</td>\n    </tr>\n    <tr>\n      <th>3</th>\n      <td>(DHW_StatusSolenoidHotMBAShower)</td>\n      <td>(DHW_StatusSolenoidColdMBAShower)</td>\n      <td>0.289807</td>\n      <td>0.289807</td>\n      <td>0.289807</td>\n      <td>1.0</td>\n      <td>3.450571</td>\n      <td>0.205819</td>\n      <td>inf</td>\n    </tr>\n    <tr>\n      <th>4</th>\n      <td>(Load_StatusKitchenLightsB)</td>\n      <td>(Load_StatusKitchenLightsA)</td>\n      <td>0.389453</td>\n      <td>0.389453</td>\n      <td>0.389453</td>\n      <td>1.0</td>\n      <td>2.567702</td>\n      <td>0.237779</td>\n      <td>inf</td>\n    </tr>\n    <tr>\n      <th>...</th>\n      <td>...</td>\n      <td>...</td>\n      <td>...</td>\n      <td>...</td>\n      <td>...</td>\n      <td>...</td>\n      <td>...</td>\n      <td>...</td>\n      <td>...</td>\n    </tr>\n    <tr>\n      <th>12634</th>\n      <td>(Load_StatusSensHeatPrntBDOWN, DHW_StatusSolen...</td>\n      <td>(Load_StatusLRLights3, DHW_StatusSolenoidColdK...</td>\n      <td>0.230225</td>\n      <td>0.260473</td>\n      <td>0.230225</td>\n      <td>1.0</td>\n      <td>3.839176</td>\n      <td>0.170258</td>\n      <td>inf</td>\n    </tr>\n    <tr>\n      <th>12635</th>\n      <td>(Load_StatusSensHeatPrntBDOWN, Load_StatusLRLi...</td>\n      <td>(Load_StatusKitchenLightsA, DHW_StatusSolenoid...</td>\n      <td>0.230225</td>\n      <td>0.260473</td>\n      <td>0.230225</td>\n      <td>1.0</td>\n      <td>3.839176</td>\n      <td>0.170258</td>\n      <td>inf</td>\n    </tr>\n    <tr>\n      <th>12636</th>\n      <td>(Load_StatusSensHeatPrntBDOWN, Load_StatusLRLi...</td>\n      <td>(Load_StatusKitchenLightsA, DHW_StatusSolenoid...</td>\n      <td>0.230225</td>\n      <td>0.260473</td>\n      <td>0.230225</td>\n      <td>1.0</td>\n      <td>3.839176</td>\n      <td>0.170258</td>\n      <td>inf</td>\n    </tr>\n    <tr>\n      <th>12637</th>\n      <td>(Load_StatusSensHeatPrntBDOWN, DHW_StatusSolen...</td>\n      <td>(Load_StatusKitchenLightsA, Load_StatusLRLight...</td>\n      <td>0.230225</td>\n      <td>0.260473</td>\n      <td>0.230225</td>\n      <td>1.0</td>\n      <td>3.839176</td>\n      <td>0.170258</td>\n      <td>inf</td>\n    </tr>\n    <tr>\n      <th>12638</th>\n      <td>(Load_StatusSensHeatPrntBDOWN, DHW_StatusSolen...</td>\n      <td>(Load_StatusKitchenLightsA, Load_StatusLRLight...</td>\n      <td>0.230225</td>\n      <td>0.260473</td>\n      <td>0.230225</td>\n      <td>1.0</td>\n      <td>3.839176</td>\n      <td>0.170258</td>\n      <td>inf</td>\n    </tr>\n  </tbody>\n</table>\n<p>12639 rows × 9 columns</p>\n</div>"
     },
     "execution_count": 51,
     "metadata": {},
     "output_type": "execute_result"
    }
   ],
   "source": [
    "df_ar = association_rules(associations, metric=\"confidence\", min_threshold=0.9999)\n",
    "df_ar"
   ],
   "metadata": {
    "collapsed": false,
    "pycharm": {
     "name": "#%%\n"
    }
   }
  },
  {
   "cell_type": "markdown",
   "source": [
    "# With Ronnis feature selection"
   ],
   "metadata": {
    "collapsed": false
   }
  },
  {
   "cell_type": "code",
   "execution_count": 52,
   "outputs": [],
   "source": [
    "year1_minutes, meta = Db.load_data(hourly=False, meta=True, year=1)"
   ],
   "metadata": {
    "collapsed": false,
    "pycharm": {
     "name": "#%%\n"
    }
   }
  },
  {
   "cell_type": "code",
   "execution_count": 53,
   "outputs": [
    {
     "data": {
      "text/plain": "                                     Measurement_Location\nAppliance                                                \nLoad_StatusBA1Lights                                Bath1\nLoad_StatusBA2Lights                                Bath2\nLoad_StatusBR2Lights                             Bedroom2\nLoad_StatusPlugLoadBR2Laptop                     Bedroom2\nLoad_StatusBR3Lights                             Bedroom3\nLoad_StatusPlugLoadBR3Laptop                     Bedroom3\nLoad_StatusBR4Lights                             Bedroom4\nLoad_StatusPlugLoadDesktopPCMonitor              Bedroom4\nLoad_StatusPlugLoadVacuum                        Bedroom4\nLoad_StatusDRLights                           Dining Room\nLoad_StatusEntryHallLights                  Entry Hallway\nLoad_StatusApplianceCooktop                       Kitchen\nLoad_StatusPlugLoadCoffeeMaker                    Kitchen\nLoad_StatusPlugLoadCanOpener                      Kitchen\nLoad_StatusPlugLoadBlender                        Kitchen\nLoad_StatusPlugLoadSlowCooker                     Kitchen\nLoad_StatusKitchenLightsC                         Kitchen\nLoad_StatusPlugLoadToasterOven                    Kitchen\nLoad_StatusKitchenLightsB                         Kitchen\nLoad_StatusKitchenLightsA                         Kitchen\nLoad_StatusApplianceRangeHood                     Kitchen\nLoad_StatusApplianceOven                          Kitchen\nLoad_StatusApplianceDishwasher                    Kitchen\nLoad_StatusPlugLoadToaster                        Kitchen\nLoad_StatusPlugLoadHandMixer                      Kitchen\nLoad_StatusPlugLoadLRTV                       Living Room\nLoad_StatusPlugLoadLRBlueRay                  Living Room\nLoad_StatusPlugLoadVideoGame                  Living Room\nLoad_StatusLRLights3                          Living Room\nLoad_StatusLRLights2                          Living Room\nLoad_StatusLRLights1                          Living Room\nLoad_StatusMBALights                                MBath\nLoad_StatusPlugLoadHairDryerCurlIron                MBath\nLoad_StatusPlugLoadFan                     Master Bedroom\nLoad_StatusPlugLoadHeatingPad              Master Bedroom\nLoad_StatusPlugLoadIron                    Master Bedroom\nLoad_StatusMBRLights1                      Master Bedroom\nLoad_StatusPlugLoadMBRBlueRay              Master Bedroom\nLoad_StatusPlugLoadMBRTV                   Master Bedroom\nLoad_StatusMBRLights2                      Master Bedroom",
      "text/html": "<div>\n<style scoped>\n    .dataframe tbody tr th:only-of-type {\n        vertical-align: middle;\n    }\n\n    .dataframe tbody tr th {\n        vertical-align: top;\n    }\n\n    .dataframe thead th {\n        text-align: right;\n    }\n</style>\n<table border=\"1\" class=\"dataframe\">\n  <thead>\n    <tr style=\"text-align: right;\">\n      <th></th>\n      <th>Measurement_Location</th>\n    </tr>\n    <tr>\n      <th>Appliance</th>\n      <th></th>\n    </tr>\n  </thead>\n  <tbody>\n    <tr>\n      <th>Load_StatusBA1Lights</th>\n      <td>Bath1</td>\n    </tr>\n    <tr>\n      <th>Load_StatusBA2Lights</th>\n      <td>Bath2</td>\n    </tr>\n    <tr>\n      <th>Load_StatusBR2Lights</th>\n      <td>Bedroom2</td>\n    </tr>\n    <tr>\n      <th>Load_StatusPlugLoadBR2Laptop</th>\n      <td>Bedroom2</td>\n    </tr>\n    <tr>\n      <th>Load_StatusBR3Lights</th>\n      <td>Bedroom3</td>\n    </tr>\n    <tr>\n      <th>Load_StatusPlugLoadBR3Laptop</th>\n      <td>Bedroom3</td>\n    </tr>\n    <tr>\n      <th>Load_StatusBR4Lights</th>\n      <td>Bedroom4</td>\n    </tr>\n    <tr>\n      <th>Load_StatusPlugLoadDesktopPCMonitor</th>\n      <td>Bedroom4</td>\n    </tr>\n    <tr>\n      <th>Load_StatusPlugLoadVacuum</th>\n      <td>Bedroom4</td>\n    </tr>\n    <tr>\n      <th>Load_StatusDRLights</th>\n      <td>Dining Room</td>\n    </tr>\n    <tr>\n      <th>Load_StatusEntryHallLights</th>\n      <td>Entry Hallway</td>\n    </tr>\n    <tr>\n      <th>Load_StatusApplianceCooktop</th>\n      <td>Kitchen</td>\n    </tr>\n    <tr>\n      <th>Load_StatusPlugLoadCoffeeMaker</th>\n      <td>Kitchen</td>\n    </tr>\n    <tr>\n      <th>Load_StatusPlugLoadCanOpener</th>\n      <td>Kitchen</td>\n    </tr>\n    <tr>\n      <th>Load_StatusPlugLoadBlender</th>\n      <td>Kitchen</td>\n    </tr>\n    <tr>\n      <th>Load_StatusPlugLoadSlowCooker</th>\n      <td>Kitchen</td>\n    </tr>\n    <tr>\n      <th>Load_StatusKitchenLightsC</th>\n      <td>Kitchen</td>\n    </tr>\n    <tr>\n      <th>Load_StatusPlugLoadToasterOven</th>\n      <td>Kitchen</td>\n    </tr>\n    <tr>\n      <th>Load_StatusKitchenLightsB</th>\n      <td>Kitchen</td>\n    </tr>\n    <tr>\n      <th>Load_StatusKitchenLightsA</th>\n      <td>Kitchen</td>\n    </tr>\n    <tr>\n      <th>Load_StatusApplianceRangeHood</th>\n      <td>Kitchen</td>\n    </tr>\n    <tr>\n      <th>Load_StatusApplianceOven</th>\n      <td>Kitchen</td>\n    </tr>\n    <tr>\n      <th>Load_StatusApplianceDishwasher</th>\n      <td>Kitchen</td>\n    </tr>\n    <tr>\n      <th>Load_StatusPlugLoadToaster</th>\n      <td>Kitchen</td>\n    </tr>\n    <tr>\n      <th>Load_StatusPlugLoadHandMixer</th>\n      <td>Kitchen</td>\n    </tr>\n    <tr>\n      <th>Load_StatusPlugLoadLRTV</th>\n      <td>Living Room</td>\n    </tr>\n    <tr>\n      <th>Load_StatusPlugLoadLRBlueRay</th>\n      <td>Living Room</td>\n    </tr>\n    <tr>\n      <th>Load_StatusPlugLoadVideoGame</th>\n      <td>Living Room</td>\n    </tr>\n    <tr>\n      <th>Load_StatusLRLights3</th>\n      <td>Living Room</td>\n    </tr>\n    <tr>\n      <th>Load_StatusLRLights2</th>\n      <td>Living Room</td>\n    </tr>\n    <tr>\n      <th>Load_StatusLRLights1</th>\n      <td>Living Room</td>\n    </tr>\n    <tr>\n      <th>Load_StatusMBALights</th>\n      <td>MBath</td>\n    </tr>\n    <tr>\n      <th>Load_StatusPlugLoadHairDryerCurlIron</th>\n      <td>MBath</td>\n    </tr>\n    <tr>\n      <th>Load_StatusPlugLoadFan</th>\n      <td>Master Bedroom</td>\n    </tr>\n    <tr>\n      <th>Load_StatusPlugLoadHeatingPad</th>\n      <td>Master Bedroom</td>\n    </tr>\n    <tr>\n      <th>Load_StatusPlugLoadIron</th>\n      <td>Master Bedroom</td>\n    </tr>\n    <tr>\n      <th>Load_StatusMBRLights1</th>\n      <td>Master Bedroom</td>\n    </tr>\n    <tr>\n      <th>Load_StatusPlugLoadMBRBlueRay</th>\n      <td>Master Bedroom</td>\n    </tr>\n    <tr>\n      <th>Load_StatusPlugLoadMBRTV</th>\n      <td>Master Bedroom</td>\n    </tr>\n    <tr>\n      <th>Load_StatusMBRLights2</th>\n      <td>Master Bedroom</td>\n    </tr>\n  </tbody>\n</table>\n</div>"
     },
     "execution_count": 53,
     "metadata": {},
     "output_type": "execute_result"
    }
   ],
   "source": [
    "#Extract appliances from the meta data\n",
    "appliance_condition = (lambda self: (\n",
    "        (self[\"Parameter\"] == \"Status_OnOff\") &\n",
    "        (self[\"Subsystem\"] == \"Loads\") &\n",
    "        (~self[\"Unnamed: 0\"].str.contains(\"Child\")) &\n",
    "        (~self[\"Unnamed: 0\"].str.contains(\"Prnt\")) &\n",
    "        (~self[\"Unnamed: 0\"].str.contains(\"StatusLatentload\"))\n",
    "))\n",
    "\n",
    "appliances_statusOnOff = meta.loc[appliance_condition][\"Unnamed: 0\"].tolist()\n",
    "\n",
    "appliance_location = meta.loc[appliance_condition][[\"Unnamed: 0\", \"Measurement_Location\"]].sort_values(\n",
    "    by=\"Measurement_Location\", ascending=True).rename(columns={\"Unnamed: 0\": \"Appliance\"}).set_index(\"Appliance\")\n",
    "\n",
    "appliance_location"
   ],
   "metadata": {
    "collapsed": false,
    "pycharm": {
     "name": "#%%\n"
    }
   }
  },
  {
   "cell_type": "code",
   "execution_count": 54,
   "outputs": [],
   "source": [
    "#Combine minute data with the extracted appliances into a dataframe\n",
    "minute_appliances_status = year1_minutes[appliance_location.index.tolist()].copy()"
   ],
   "metadata": {
    "collapsed": false,
    "pycharm": {
     "name": "#%%\n"
    }
   }
  },
  {
   "cell_type": "code",
   "execution_count": 57,
   "outputs": [
    {
     "data": {
      "text/plain": "        Load_StatusBA1Lights  Load_StatusBA2Lights  Load_StatusBR2Lights  \\\n0                        0.0                   0.0                   0.0   \n1                        0.0                   0.0                   0.0   \n2                        0.0                   0.0                   0.0   \n3                        0.0                   0.0                   0.0   \n4                        0.0                   0.0                   0.0   \n...                      ...                   ...                   ...   \n518787                   0.0                   0.0                   0.0   \n518788                   0.0                   0.0                   0.0   \n518789                   0.0                   0.0                   0.0   \n518790                   0.0                   0.0                   0.0   \n518791                   0.0                   0.0                   0.0   \n\n        Load_StatusPlugLoadBR2Laptop  Load_StatusBR3Lights  \\\n0                                0.0                   0.0   \n1                                0.0                   0.0   \n2                                0.0                   0.0   \n3                                0.0                   0.0   \n4                                0.0                   0.0   \n...                              ...                   ...   \n518787                           0.0                   0.0   \n518788                           0.0                   0.0   \n518789                           0.0                   0.0   \n518790                           0.0                   0.0   \n518791                           0.0                   0.0   \n\n        Load_StatusPlugLoadBR3Laptop  Load_StatusBR4Lights  \\\n0                                0.0                   0.0   \n1                                0.0                   0.0   \n2                                0.0                   0.0   \n3                                0.0                   0.0   \n4                                0.0                   0.0   \n...                              ...                   ...   \n518787                           0.0                   0.0   \n518788                           0.0                   0.0   \n518789                           0.0                   0.0   \n518790                           0.0                   0.0   \n518791                           0.0                   0.0   \n\n        Load_StatusPlugLoadDesktopPCMonitor  Load_StatusPlugLoadVacuum  \\\n0                                       0.0                        0.0   \n1                                       0.0                        0.0   \n2                                       0.0                        0.0   \n3                                       0.0                        0.0   \n4                                       0.0                        0.0   \n...                                     ...                        ...   \n518787                                  0.0                        0.0   \n518788                                  0.0                        0.0   \n518789                                  0.0                        0.0   \n518790                                  0.0                        0.0   \n518791                                  0.0                        0.0   \n\n        Load_StatusDRLights  ...  Load_StatusLRLights1  Load_StatusMBALights  \\\n0                       0.0  ...                   0.0                   0.0   \n1                       0.0  ...                   0.0                   0.0   \n2                       0.0  ...                   0.0                   0.0   \n3                       0.0  ...                   0.0                   0.0   \n4                       0.0  ...                   0.0                   0.0   \n...                     ...  ...                   ...                   ...   \n518787                  0.0  ...                   0.0                   0.0   \n518788                  0.0  ...                   0.0                   0.0   \n518789                  0.0  ...                   0.0                   0.0   \n518790                  0.0  ...                   0.0                   0.0   \n518791                  0.0  ...                   0.0                   0.0   \n\n        Load_StatusPlugLoadHairDryerCurlIron  Load_StatusPlugLoadFan  \\\n0                                        0.0                     0.0   \n1                                        0.0                     0.0   \n2                                        0.0                     0.0   \n3                                        0.0                     0.0   \n4                                        0.0                     0.0   \n...                                      ...                     ...   \n518787                                   0.0                     1.0   \n518788                                   0.0                     1.0   \n518789                                   0.0                     1.0   \n518790                                   0.0                     0.0   \n518791                                   0.0                     0.0   \n\n        Load_StatusPlugLoadHeatingPad  Load_StatusPlugLoadIron  \\\n0                                 0.0                      0.0   \n1                                 0.0                      0.0   \n2                                 0.0                      0.0   \n3                                 0.0                      0.0   \n4                                 0.0                      0.0   \n...                               ...                      ...   \n518787                            0.0                      0.0   \n518788                            0.0                      0.0   \n518789                            0.0                      0.0   \n518790                            0.0                      0.0   \n518791                            0.0                      0.0   \n\n        Load_StatusMBRLights1  Load_StatusPlugLoadMBRBlueRay  \\\n0                         0.0                            0.0   \n1                         0.0                            0.0   \n2                         0.0                            0.0   \n3                         0.0                            0.0   \n4                         0.0                            0.0   \n...                       ...                            ...   \n518787                    0.0                            0.0   \n518788                    0.0                            0.0   \n518789                    0.0                            0.0   \n518790                    0.0                            0.0   \n518791                    0.0                            0.0   \n\n        Load_StatusPlugLoadMBRTV  Load_StatusMBRLights2  \n0                            0.0                    0.0  \n1                            0.0                    0.0  \n2                            0.0                    0.0  \n3                            0.0                    0.0  \n4                            0.0                    0.0  \n...                          ...                    ...  \n518787                       0.0                    0.0  \n518788                       0.0                    0.0  \n518789                       0.0                    0.0  \n518790                       0.0                    0.0  \n518791                       0.0                    0.0  \n\n[518792 rows x 40 columns]",
      "text/html": "<div>\n<style scoped>\n    .dataframe tbody tr th:only-of-type {\n        vertical-align: middle;\n    }\n\n    .dataframe tbody tr th {\n        vertical-align: top;\n    }\n\n    .dataframe thead th {\n        text-align: right;\n    }\n</style>\n<table border=\"1\" class=\"dataframe\">\n  <thead>\n    <tr style=\"text-align: right;\">\n      <th></th>\n      <th>Load_StatusBA1Lights</th>\n      <th>Load_StatusBA2Lights</th>\n      <th>Load_StatusBR2Lights</th>\n      <th>Load_StatusPlugLoadBR2Laptop</th>\n      <th>Load_StatusBR3Lights</th>\n      <th>Load_StatusPlugLoadBR3Laptop</th>\n      <th>Load_StatusBR4Lights</th>\n      <th>Load_StatusPlugLoadDesktopPCMonitor</th>\n      <th>Load_StatusPlugLoadVacuum</th>\n      <th>Load_StatusDRLights</th>\n      <th>...</th>\n      <th>Load_StatusLRLights1</th>\n      <th>Load_StatusMBALights</th>\n      <th>Load_StatusPlugLoadHairDryerCurlIron</th>\n      <th>Load_StatusPlugLoadFan</th>\n      <th>Load_StatusPlugLoadHeatingPad</th>\n      <th>Load_StatusPlugLoadIron</th>\n      <th>Load_StatusMBRLights1</th>\n      <th>Load_StatusPlugLoadMBRBlueRay</th>\n      <th>Load_StatusPlugLoadMBRTV</th>\n      <th>Load_StatusMBRLights2</th>\n    </tr>\n  </thead>\n  <tbody>\n    <tr>\n      <th>0</th>\n      <td>0.0</td>\n      <td>0.0</td>\n      <td>0.0</td>\n      <td>0.0</td>\n      <td>0.0</td>\n      <td>0.0</td>\n      <td>0.0</td>\n      <td>0.0</td>\n      <td>0.0</td>\n      <td>0.0</td>\n      <td>...</td>\n      <td>0.0</td>\n      <td>0.0</td>\n      <td>0.0</td>\n      <td>0.0</td>\n      <td>0.0</td>\n      <td>0.0</td>\n      <td>0.0</td>\n      <td>0.0</td>\n      <td>0.0</td>\n      <td>0.0</td>\n    </tr>\n    <tr>\n      <th>1</th>\n      <td>0.0</td>\n      <td>0.0</td>\n      <td>0.0</td>\n      <td>0.0</td>\n      <td>0.0</td>\n      <td>0.0</td>\n      <td>0.0</td>\n      <td>0.0</td>\n      <td>0.0</td>\n      <td>0.0</td>\n      <td>...</td>\n      <td>0.0</td>\n      <td>0.0</td>\n      <td>0.0</td>\n      <td>0.0</td>\n      <td>0.0</td>\n      <td>0.0</td>\n      <td>0.0</td>\n      <td>0.0</td>\n      <td>0.0</td>\n      <td>0.0</td>\n    </tr>\n    <tr>\n      <th>2</th>\n      <td>0.0</td>\n      <td>0.0</td>\n      <td>0.0</td>\n      <td>0.0</td>\n      <td>0.0</td>\n      <td>0.0</td>\n      <td>0.0</td>\n      <td>0.0</td>\n      <td>0.0</td>\n      <td>0.0</td>\n      <td>...</td>\n      <td>0.0</td>\n      <td>0.0</td>\n      <td>0.0</td>\n      <td>0.0</td>\n      <td>0.0</td>\n      <td>0.0</td>\n      <td>0.0</td>\n      <td>0.0</td>\n      <td>0.0</td>\n      <td>0.0</td>\n    </tr>\n    <tr>\n      <th>3</th>\n      <td>0.0</td>\n      <td>0.0</td>\n      <td>0.0</td>\n      <td>0.0</td>\n      <td>0.0</td>\n      <td>0.0</td>\n      <td>0.0</td>\n      <td>0.0</td>\n      <td>0.0</td>\n      <td>0.0</td>\n      <td>...</td>\n      <td>0.0</td>\n      <td>0.0</td>\n      <td>0.0</td>\n      <td>0.0</td>\n      <td>0.0</td>\n      <td>0.0</td>\n      <td>0.0</td>\n      <td>0.0</td>\n      <td>0.0</td>\n      <td>0.0</td>\n    </tr>\n    <tr>\n      <th>4</th>\n      <td>0.0</td>\n      <td>0.0</td>\n      <td>0.0</td>\n      <td>0.0</td>\n      <td>0.0</td>\n      <td>0.0</td>\n      <td>0.0</td>\n      <td>0.0</td>\n      <td>0.0</td>\n      <td>0.0</td>\n      <td>...</td>\n      <td>0.0</td>\n      <td>0.0</td>\n      <td>0.0</td>\n      <td>0.0</td>\n      <td>0.0</td>\n      <td>0.0</td>\n      <td>0.0</td>\n      <td>0.0</td>\n      <td>0.0</td>\n      <td>0.0</td>\n    </tr>\n    <tr>\n      <th>...</th>\n      <td>...</td>\n      <td>...</td>\n      <td>...</td>\n      <td>...</td>\n      <td>...</td>\n      <td>...</td>\n      <td>...</td>\n      <td>...</td>\n      <td>...</td>\n      <td>...</td>\n      <td>...</td>\n      <td>...</td>\n      <td>...</td>\n      <td>...</td>\n      <td>...</td>\n      <td>...</td>\n      <td>...</td>\n      <td>...</td>\n      <td>...</td>\n      <td>...</td>\n      <td>...</td>\n    </tr>\n    <tr>\n      <th>518787</th>\n      <td>0.0</td>\n      <td>0.0</td>\n      <td>0.0</td>\n      <td>0.0</td>\n      <td>0.0</td>\n      <td>0.0</td>\n      <td>0.0</td>\n      <td>0.0</td>\n      <td>0.0</td>\n      <td>0.0</td>\n      <td>...</td>\n      <td>0.0</td>\n      <td>0.0</td>\n      <td>0.0</td>\n      <td>1.0</td>\n      <td>0.0</td>\n      <td>0.0</td>\n      <td>0.0</td>\n      <td>0.0</td>\n      <td>0.0</td>\n      <td>0.0</td>\n    </tr>\n    <tr>\n      <th>518788</th>\n      <td>0.0</td>\n      <td>0.0</td>\n      <td>0.0</td>\n      <td>0.0</td>\n      <td>0.0</td>\n      <td>0.0</td>\n      <td>0.0</td>\n      <td>0.0</td>\n      <td>0.0</td>\n      <td>0.0</td>\n      <td>...</td>\n      <td>0.0</td>\n      <td>0.0</td>\n      <td>0.0</td>\n      <td>1.0</td>\n      <td>0.0</td>\n      <td>0.0</td>\n      <td>0.0</td>\n      <td>0.0</td>\n      <td>0.0</td>\n      <td>0.0</td>\n    </tr>\n    <tr>\n      <th>518789</th>\n      <td>0.0</td>\n      <td>0.0</td>\n      <td>0.0</td>\n      <td>0.0</td>\n      <td>0.0</td>\n      <td>0.0</td>\n      <td>0.0</td>\n      <td>0.0</td>\n      <td>0.0</td>\n      <td>0.0</td>\n      <td>...</td>\n      <td>0.0</td>\n      <td>0.0</td>\n      <td>0.0</td>\n      <td>1.0</td>\n      <td>0.0</td>\n      <td>0.0</td>\n      <td>0.0</td>\n      <td>0.0</td>\n      <td>0.0</td>\n      <td>0.0</td>\n    </tr>\n    <tr>\n      <th>518790</th>\n      <td>0.0</td>\n      <td>0.0</td>\n      <td>0.0</td>\n      <td>0.0</td>\n      <td>0.0</td>\n      <td>0.0</td>\n      <td>0.0</td>\n      <td>0.0</td>\n      <td>0.0</td>\n      <td>0.0</td>\n      <td>...</td>\n      <td>0.0</td>\n      <td>0.0</td>\n      <td>0.0</td>\n      <td>0.0</td>\n      <td>0.0</td>\n      <td>0.0</td>\n      <td>0.0</td>\n      <td>0.0</td>\n      <td>0.0</td>\n      <td>0.0</td>\n    </tr>\n    <tr>\n      <th>518791</th>\n      <td>0.0</td>\n      <td>0.0</td>\n      <td>0.0</td>\n      <td>0.0</td>\n      <td>0.0</td>\n      <td>0.0</td>\n      <td>0.0</td>\n      <td>0.0</td>\n      <td>0.0</td>\n      <td>0.0</td>\n      <td>...</td>\n      <td>0.0</td>\n      <td>0.0</td>\n      <td>0.0</td>\n      <td>0.0</td>\n      <td>0.0</td>\n      <td>0.0</td>\n      <td>0.0</td>\n      <td>0.0</td>\n      <td>0.0</td>\n      <td>0.0</td>\n    </tr>\n  </tbody>\n</table>\n<p>518792 rows × 40 columns</p>\n</div>"
     },
     "execution_count": 57,
     "metadata": {},
     "output_type": "execute_result"
    }
   ],
   "source": [
    "#Replaces values to be binary 0 or 1.\n",
    "for i in appliances_statusOnOff:\n",
    "    minute_appliances_status.loc[minute_appliances_status[i] < 0, i] = 0\n",
    "    minute_appliances_status.loc[minute_appliances_status[i] > 0, i] = 1\n",
    "minute_appliances_status = minute_appliances_status.fillna(0)\n",
    "minute_appliances_status"
   ],
   "metadata": {
    "collapsed": false,
    "pycharm": {
     "name": "#%%\n"
    }
   }
  },
  {
   "cell_type": "code",
   "execution_count": 74,
   "outputs": [
    {
     "name": "stdout",
     "output_type": "stream",
     "text": [
      "5 itemset(s) from tree conditioned on items ()\n",
      "0 itemset(s) from tree conditioned on items (Load_StatusKitchenLightsB)\n",
      "1 itemset(s) from tree conditioned on items (Load_StatusKitchenLightsA)\n",
      "3 itemset(s) from tree conditioned on items (Load_StatusKitchenLightsC)\n",
      "0 itemset(s) from tree conditioned on items (Load_StatusPlugLoadLRTV)\n",
      "0 itemset(s) from tree conditioned on items (Load_StatusPlugLoadDesktopPCMonitor)\n"
     ]
    },
    {
     "data": {
      "text/plain": "    support                                           itemsets\n0  0.247344                        (Load_StatusKitchenLightsB)\n1  0.247301                        (Load_StatusKitchenLightsA)\n2  0.247299                        (Load_StatusKitchenLightsC)\n3  0.217388                          (Load_StatusPlugLoadLRTV)\n4  0.229144              (Load_StatusPlugLoadDesktopPCMonitor)\n5  0.247301  (Load_StatusKitchenLightsB, Load_StatusKitchen...\n6  0.247299  (Load_StatusKitchenLightsC, Load_StatusKitchen...\n7  0.247299  (Load_StatusKitchenLightsC, Load_StatusKitchen...\n8  0.247299  (Load_StatusKitchenLightsC, Load_StatusKitchen...",
      "text/html": "<div>\n<style scoped>\n    .dataframe tbody tr th:only-of-type {\n        vertical-align: middle;\n    }\n\n    .dataframe tbody tr th {\n        vertical-align: top;\n    }\n\n    .dataframe thead th {\n        text-align: right;\n    }\n</style>\n<table border=\"1\" class=\"dataframe\">\n  <thead>\n    <tr style=\"text-align: right;\">\n      <th></th>\n      <th>support</th>\n      <th>itemsets</th>\n    </tr>\n  </thead>\n  <tbody>\n    <tr>\n      <th>0</th>\n      <td>0.247344</td>\n      <td>(Load_StatusKitchenLightsB)</td>\n    </tr>\n    <tr>\n      <th>1</th>\n      <td>0.247301</td>\n      <td>(Load_StatusKitchenLightsA)</td>\n    </tr>\n    <tr>\n      <th>2</th>\n      <td>0.247299</td>\n      <td>(Load_StatusKitchenLightsC)</td>\n    </tr>\n    <tr>\n      <th>3</th>\n      <td>0.217388</td>\n      <td>(Load_StatusPlugLoadLRTV)</td>\n    </tr>\n    <tr>\n      <th>4</th>\n      <td>0.229144</td>\n      <td>(Load_StatusPlugLoadDesktopPCMonitor)</td>\n    </tr>\n    <tr>\n      <th>5</th>\n      <td>0.247301</td>\n      <td>(Load_StatusKitchenLightsB, Load_StatusKitchen...</td>\n    </tr>\n    <tr>\n      <th>6</th>\n      <td>0.247299</td>\n      <td>(Load_StatusKitchenLightsC, Load_StatusKitchen...</td>\n    </tr>\n    <tr>\n      <th>7</th>\n      <td>0.247299</td>\n      <td>(Load_StatusKitchenLightsC, Load_StatusKitchen...</td>\n    </tr>\n    <tr>\n      <th>8</th>\n      <td>0.247299</td>\n      <td>(Load_StatusKitchenLightsC, Load_StatusKitchen...</td>\n    </tr>\n  </tbody>\n</table>\n</div>"
     },
     "execution_count": 74,
     "metadata": {},
     "output_type": "execute_result"
    }
   ],
   "source": [
    "associations = fpgrowth(minute_appliances_status, min_support=0.2, use_colnames=True, verbose=3)\n",
    "associations"
   ],
   "metadata": {
    "collapsed": false,
    "pycharm": {
     "name": "#%%\n"
    }
   }
  },
  {
   "cell_type": "code",
   "execution_count": 75,
   "outputs": [
    {
     "data": {
      "text/plain": "                                          antecedents  \\\n0                         (Load_StatusKitchenLightsB)   \n1                         (Load_StatusKitchenLightsA)   \n2                         (Load_StatusKitchenLightsC)   \n3                         (Load_StatusKitchenLightsA)   \n4                         (Load_StatusKitchenLightsC)   \n5                         (Load_StatusKitchenLightsB)   \n6   (Load_StatusKitchenLightsC, Load_StatusKitchen...   \n7   (Load_StatusKitchenLightsC, Load_StatusKitchen...   \n8   (Load_StatusKitchenLightsB, Load_StatusKitchen...   \n9                         (Load_StatusKitchenLightsC)   \n10                        (Load_StatusKitchenLightsB)   \n11                        (Load_StatusKitchenLightsA)   \n\n                                          consequents  antecedent support  \\\n0                         (Load_StatusKitchenLightsA)            0.247344   \n1                         (Load_StatusKitchenLightsB)            0.247301   \n2                         (Load_StatusKitchenLightsA)            0.247299   \n3                         (Load_StatusKitchenLightsC)            0.247301   \n4                         (Load_StatusKitchenLightsB)            0.247299   \n5                         (Load_StatusKitchenLightsC)            0.247344   \n6                         (Load_StatusKitchenLightsA)            0.247299   \n7                         (Load_StatusKitchenLightsB)            0.247299   \n8                         (Load_StatusKitchenLightsC)            0.247301   \n9   (Load_StatusKitchenLightsB, Load_StatusKitchen...            0.247299   \n10  (Load_StatusKitchenLightsC, Load_StatusKitchen...            0.247344   \n11  (Load_StatusKitchenLightsC, Load_StatusKitchen...            0.247301   \n\n    consequent support   support  confidence      lift  leverage    conviction  \n0             0.247301  0.247301    0.999829  4.042955  0.186133  4.390286e+03  \n1             0.247344  0.247301    1.000000  4.042955  0.186133           inf  \n2             0.247301  0.247299    1.000000  4.043648  0.186142           inf  \n3             0.247299  0.247299    0.999992  4.043648  0.186142  9.656997e+04  \n4             0.247344  0.247299    1.000000  4.042955  0.186131           inf  \n5             0.247299  0.247299    0.999821  4.042955  0.186131  4.199414e+03  \n6             0.247301  0.247299    1.000000  4.043648  0.186142           inf  \n7             0.247344  0.247299    1.000000  4.042955  0.186131           inf  \n8             0.247299  0.247299    0.999992  4.043648  0.186142  9.656997e+04  \n9             0.247301  0.247299    1.000000  4.043648  0.186142           inf  \n10            0.247299  0.247299    0.999821  4.042955  0.186131  4.199414e+03  \n11            0.247299  0.247299    0.999992  4.043648  0.186142  9.656997e+04  ",
      "text/html": "<div>\n<style scoped>\n    .dataframe tbody tr th:only-of-type {\n        vertical-align: middle;\n    }\n\n    .dataframe tbody tr th {\n        vertical-align: top;\n    }\n\n    .dataframe thead th {\n        text-align: right;\n    }\n</style>\n<table border=\"1\" class=\"dataframe\">\n  <thead>\n    <tr style=\"text-align: right;\">\n      <th></th>\n      <th>antecedents</th>\n      <th>consequents</th>\n      <th>antecedent support</th>\n      <th>consequent support</th>\n      <th>support</th>\n      <th>confidence</th>\n      <th>lift</th>\n      <th>leverage</th>\n      <th>conviction</th>\n    </tr>\n  </thead>\n  <tbody>\n    <tr>\n      <th>0</th>\n      <td>(Load_StatusKitchenLightsB)</td>\n      <td>(Load_StatusKitchenLightsA)</td>\n      <td>0.247344</td>\n      <td>0.247301</td>\n      <td>0.247301</td>\n      <td>0.999829</td>\n      <td>4.042955</td>\n      <td>0.186133</td>\n      <td>4.390286e+03</td>\n    </tr>\n    <tr>\n      <th>1</th>\n      <td>(Load_StatusKitchenLightsA)</td>\n      <td>(Load_StatusKitchenLightsB)</td>\n      <td>0.247301</td>\n      <td>0.247344</td>\n      <td>0.247301</td>\n      <td>1.000000</td>\n      <td>4.042955</td>\n      <td>0.186133</td>\n      <td>inf</td>\n    </tr>\n    <tr>\n      <th>2</th>\n      <td>(Load_StatusKitchenLightsC)</td>\n      <td>(Load_StatusKitchenLightsA)</td>\n      <td>0.247299</td>\n      <td>0.247301</td>\n      <td>0.247299</td>\n      <td>1.000000</td>\n      <td>4.043648</td>\n      <td>0.186142</td>\n      <td>inf</td>\n    </tr>\n    <tr>\n      <th>3</th>\n      <td>(Load_StatusKitchenLightsA)</td>\n      <td>(Load_StatusKitchenLightsC)</td>\n      <td>0.247301</td>\n      <td>0.247299</td>\n      <td>0.247299</td>\n      <td>0.999992</td>\n      <td>4.043648</td>\n      <td>0.186142</td>\n      <td>9.656997e+04</td>\n    </tr>\n    <tr>\n      <th>4</th>\n      <td>(Load_StatusKitchenLightsC)</td>\n      <td>(Load_StatusKitchenLightsB)</td>\n      <td>0.247299</td>\n      <td>0.247344</td>\n      <td>0.247299</td>\n      <td>1.000000</td>\n      <td>4.042955</td>\n      <td>0.186131</td>\n      <td>inf</td>\n    </tr>\n    <tr>\n      <th>5</th>\n      <td>(Load_StatusKitchenLightsB)</td>\n      <td>(Load_StatusKitchenLightsC)</td>\n      <td>0.247344</td>\n      <td>0.247299</td>\n      <td>0.247299</td>\n      <td>0.999821</td>\n      <td>4.042955</td>\n      <td>0.186131</td>\n      <td>4.199414e+03</td>\n    </tr>\n    <tr>\n      <th>6</th>\n      <td>(Load_StatusKitchenLightsC, Load_StatusKitchen...</td>\n      <td>(Load_StatusKitchenLightsA)</td>\n      <td>0.247299</td>\n      <td>0.247301</td>\n      <td>0.247299</td>\n      <td>1.000000</td>\n      <td>4.043648</td>\n      <td>0.186142</td>\n      <td>inf</td>\n    </tr>\n    <tr>\n      <th>7</th>\n      <td>(Load_StatusKitchenLightsC, Load_StatusKitchen...</td>\n      <td>(Load_StatusKitchenLightsB)</td>\n      <td>0.247299</td>\n      <td>0.247344</td>\n      <td>0.247299</td>\n      <td>1.000000</td>\n      <td>4.042955</td>\n      <td>0.186131</td>\n      <td>inf</td>\n    </tr>\n    <tr>\n      <th>8</th>\n      <td>(Load_StatusKitchenLightsB, Load_StatusKitchen...</td>\n      <td>(Load_StatusKitchenLightsC)</td>\n      <td>0.247301</td>\n      <td>0.247299</td>\n      <td>0.247299</td>\n      <td>0.999992</td>\n      <td>4.043648</td>\n      <td>0.186142</td>\n      <td>9.656997e+04</td>\n    </tr>\n    <tr>\n      <th>9</th>\n      <td>(Load_StatusKitchenLightsC)</td>\n      <td>(Load_StatusKitchenLightsB, Load_StatusKitchen...</td>\n      <td>0.247299</td>\n      <td>0.247301</td>\n      <td>0.247299</td>\n      <td>1.000000</td>\n      <td>4.043648</td>\n      <td>0.186142</td>\n      <td>inf</td>\n    </tr>\n    <tr>\n      <th>10</th>\n      <td>(Load_StatusKitchenLightsB)</td>\n      <td>(Load_StatusKitchenLightsC, Load_StatusKitchen...</td>\n      <td>0.247344</td>\n      <td>0.247299</td>\n      <td>0.247299</td>\n      <td>0.999821</td>\n      <td>4.042955</td>\n      <td>0.186131</td>\n      <td>4.199414e+03</td>\n    </tr>\n    <tr>\n      <th>11</th>\n      <td>(Load_StatusKitchenLightsA)</td>\n      <td>(Load_StatusKitchenLightsC, Load_StatusKitchen...</td>\n      <td>0.247301</td>\n      <td>0.247299</td>\n      <td>0.247299</td>\n      <td>0.999992</td>\n      <td>4.043648</td>\n      <td>0.186142</td>\n      <td>9.656997e+04</td>\n    </tr>\n  </tbody>\n</table>\n</div>"
     },
     "execution_count": 75,
     "metadata": {},
     "output_type": "execute_result"
    }
   ],
   "source": [
    "df_ar = association_rules(associations, metric=\"confidence\", min_threshold=0.6)\n",
    "df_ar"
   ],
   "metadata": {
    "collapsed": false,
    "pycharm": {
     "name": "#%%\n"
    }
   }
  },
  {
   "cell_type": "code",
   "execution_count": null,
   "outputs": [],
   "source": [],
   "metadata": {
    "collapsed": false,
    "pycharm": {
     "name": "#%%\n"
    }
   }
  },
  {
   "cell_type": "markdown",
   "source": [
    "# TAR load json files"
   ],
   "metadata": {
    "collapsed": false
   }
  },
  {
   "cell_type": "code",
   "execution_count": 77,
   "outputs": [
    {
     "data": {
      "text/plain": "       name_node      supp  conf  \\\n0         temp-1  0.321839     1   \n1     pressure-4  0.513957     1   \n2     humidity-0  0.213465     1   \n3   wind_speed-2  0.464696     1   \n4      rain_1h-3  0.945813     1   \n5   clouds_all-2  0.482759     1   \n6   feels_like-1  0.311987     1   \n7        typeA-2  0.472906     1   \n8        typeB-2  0.374384     1   \n9     humidity-1  0.433498     1   \n10  wind_speed-0  0.229885     1   \n11  clouds_all-1  0.448276     1   \n12    pressure-3  0.454844     1   \n13    humidity-2  0.449918     1   \n14  clouds_all-0  0.239737     1   \n15  wind_speed-1  0.415435     1   \n16        temp-2  0.320197     1   \n17  clouds_all-3  0.477833     1   \n18  wind_speed-3  0.477833     1   \n19    pressure-2  0.446634     1   \n20  wind_speed-4  0.515599     1   \n21     rain_1h-4  0.596059     1   \n22  clouds_all-4  0.563218     1   \n23        temp-0  0.164204     1   \n24    humidity-3  0.423645     1   \n25  feels_like-0  0.164204     1   \n26    pressure-0  0.215107     1   \n27    humidity-4  0.500821     1   \n28       typeA-3  0.119869     1   \n29    pressure-1  0.410509     1   \n30  feels_like-2  0.316913     1   \n31        temp-3  0.311987     1   \n32       typeA-1  0.376026     1   \n33  feels_like-3  0.316913     1   \n34       typeA-0  0.415435     1   \n35        temp-4  0.361248     1   \n36       typeB-1  0.302135     1   \n37       typeB-0  0.615764     1   \n38  feels_like-4  0.357964     1   \n\n                                                 time  \n0   {'0': [[1451602800, 1451861999]], '1': [[14518...  \n1   {'0': [[1451602800, 1451775599]], '2': [[14522...  \n2   {'0': [[1451602800, 1451689199]], '2': [[14521...  \n3   {'0': [[1451602800, 1451689199]], '1': [[14520...  \n4   {'0': [[1451602800, 1451861999]], '1': [[14518...  \n5   {'0': [[1451602800, 1451689199]], '2': [[14521...  \n6   {'0': [[1451602800, 1451861999]], '1': [[14518...  \n7   {'0': [[1451602800, 1451861999]], '1': [[14518...  \n8   {'0': [[1451602800, 1451861999]], '1': [[14518...  \n9   {'0': [[1451689200, 1451775599]], '1': [[14518...  \n10  {'0': [[1451689200, 1451861999]], '48': [[1464...  \n11  {'0': [[1451689200, 1451775599]], '1': [[14519...  \n12  {'0': [[1451775600, 1451861999]], '1': [[14518...  \n13  {'0': [[1451775600, 1451861999]], '1': [[14519...  \n14  {'0': [[1451775600, 1451861999]], '1': [[14518...  \n15  {'1': [[1451862000, 1452034799]], '4': [[14526...  \n16  {'1': [[1451948400, 1452034799]], '14': [[1455...  \n17  {'1': [[1452034800, 1452121199]], '6': [[14533...  \n18  {'2': [[1452121200, 1452207599], [1452294000, ...  \n19  {'2': [[1452207600, 1452293999]], '4': [[14526...  \n20  {'3': [[1452466800, 1452553199]], '4': [[14528...  \n21  {'3': [[1452466800, 1452553199]], '5': [[14529...  \n22  {'3': [[1452466800, 1452553199]], '5': [[14529...  \n23  {'3': [[1452553200, 1452639599]], '4': [[14526...  \n24  {'3': [[1452553200, 1452639599]], '5': [[14529...  \n25  {'3': [[1452553200, 1452639599]], '4': [[14526...  \n26  {'5': [[1453071600, 1453157999]], '6': [[14531...  \n27  {'5': [[1453071600, 1453157999]], '9': [[14540...  \n28  {'7': [[1453417200, 1453589999]], '8': [[14537...  \n29  {'7': [[1453590000, 1453676399]], '15': [[1455...  \n30  {'14': [[1455318000, 1455490799]], '16': [[145...  \n31  {'14': [[1455404400, 1455490799]], '33': [[146...  \n32  {'32': [[1460066400, 1460152799]], '33': [[146...  \n33  {'33': [[1460152800, 1460239199]], '35': [[146...  \n34  {'37': [[1461362400, 1461448799]], '38': [[146...  \n35  {'41': [[1462312800, 1462399199]], '47': [[146...  \n36  {'41': [[1462312800, 1462399199]], '42': [[146...  \n37  {'45': [[1463263200, 1463435999]], '47': [[146...  \n38  {'47': [[1463954400, 1464040799]], '48': [[146...  ",
      "text/html": "<div>\n<style scoped>\n    .dataframe tbody tr th:only-of-type {\n        vertical-align: middle;\n    }\n\n    .dataframe tbody tr th {\n        vertical-align: top;\n    }\n\n    .dataframe thead th {\n        text-align: right;\n    }\n</style>\n<table border=\"1\" class=\"dataframe\">\n  <thead>\n    <tr style=\"text-align: right;\">\n      <th></th>\n      <th>name_node</th>\n      <th>supp</th>\n      <th>conf</th>\n      <th>time</th>\n    </tr>\n  </thead>\n  <tbody>\n    <tr>\n      <th>0</th>\n      <td>temp-1</td>\n      <td>0.321839</td>\n      <td>1</td>\n      <td>{'0': [[1451602800, 1451861999]], '1': [[14518...</td>\n    </tr>\n    <tr>\n      <th>1</th>\n      <td>pressure-4</td>\n      <td>0.513957</td>\n      <td>1</td>\n      <td>{'0': [[1451602800, 1451775599]], '2': [[14522...</td>\n    </tr>\n    <tr>\n      <th>2</th>\n      <td>humidity-0</td>\n      <td>0.213465</td>\n      <td>1</td>\n      <td>{'0': [[1451602800, 1451689199]], '2': [[14521...</td>\n    </tr>\n    <tr>\n      <th>3</th>\n      <td>wind_speed-2</td>\n      <td>0.464696</td>\n      <td>1</td>\n      <td>{'0': [[1451602800, 1451689199]], '1': [[14520...</td>\n    </tr>\n    <tr>\n      <th>4</th>\n      <td>rain_1h-3</td>\n      <td>0.945813</td>\n      <td>1</td>\n      <td>{'0': [[1451602800, 1451861999]], '1': [[14518...</td>\n    </tr>\n    <tr>\n      <th>5</th>\n      <td>clouds_all-2</td>\n      <td>0.482759</td>\n      <td>1</td>\n      <td>{'0': [[1451602800, 1451689199]], '2': [[14521...</td>\n    </tr>\n    <tr>\n      <th>6</th>\n      <td>feels_like-1</td>\n      <td>0.311987</td>\n      <td>1</td>\n      <td>{'0': [[1451602800, 1451861999]], '1': [[14518...</td>\n    </tr>\n    <tr>\n      <th>7</th>\n      <td>typeA-2</td>\n      <td>0.472906</td>\n      <td>1</td>\n      <td>{'0': [[1451602800, 1451861999]], '1': [[14518...</td>\n    </tr>\n    <tr>\n      <th>8</th>\n      <td>typeB-2</td>\n      <td>0.374384</td>\n      <td>1</td>\n      <td>{'0': [[1451602800, 1451861999]], '1': [[14518...</td>\n    </tr>\n    <tr>\n      <th>9</th>\n      <td>humidity-1</td>\n      <td>0.433498</td>\n      <td>1</td>\n      <td>{'0': [[1451689200, 1451775599]], '1': [[14518...</td>\n    </tr>\n    <tr>\n      <th>10</th>\n      <td>wind_speed-0</td>\n      <td>0.229885</td>\n      <td>1</td>\n      <td>{'0': [[1451689200, 1451861999]], '48': [[1464...</td>\n    </tr>\n    <tr>\n      <th>11</th>\n      <td>clouds_all-1</td>\n      <td>0.448276</td>\n      <td>1</td>\n      <td>{'0': [[1451689200, 1451775599]], '1': [[14519...</td>\n    </tr>\n    <tr>\n      <th>12</th>\n      <td>pressure-3</td>\n      <td>0.454844</td>\n      <td>1</td>\n      <td>{'0': [[1451775600, 1451861999]], '1': [[14518...</td>\n    </tr>\n    <tr>\n      <th>13</th>\n      <td>humidity-2</td>\n      <td>0.449918</td>\n      <td>1</td>\n      <td>{'0': [[1451775600, 1451861999]], '1': [[14519...</td>\n    </tr>\n    <tr>\n      <th>14</th>\n      <td>clouds_all-0</td>\n      <td>0.239737</td>\n      <td>1</td>\n      <td>{'0': [[1451775600, 1451861999]], '1': [[14518...</td>\n    </tr>\n    <tr>\n      <th>15</th>\n      <td>wind_speed-1</td>\n      <td>0.415435</td>\n      <td>1</td>\n      <td>{'1': [[1451862000, 1452034799]], '4': [[14526...</td>\n    </tr>\n    <tr>\n      <th>16</th>\n      <td>temp-2</td>\n      <td>0.320197</td>\n      <td>1</td>\n      <td>{'1': [[1451948400, 1452034799]], '14': [[1455...</td>\n    </tr>\n    <tr>\n      <th>17</th>\n      <td>clouds_all-3</td>\n      <td>0.477833</td>\n      <td>1</td>\n      <td>{'1': [[1452034800, 1452121199]], '6': [[14533...</td>\n    </tr>\n    <tr>\n      <th>18</th>\n      <td>wind_speed-3</td>\n      <td>0.477833</td>\n      <td>1</td>\n      <td>{'2': [[1452121200, 1452207599], [1452294000, ...</td>\n    </tr>\n    <tr>\n      <th>19</th>\n      <td>pressure-2</td>\n      <td>0.446634</td>\n      <td>1</td>\n      <td>{'2': [[1452207600, 1452293999]], '4': [[14526...</td>\n    </tr>\n    <tr>\n      <th>20</th>\n      <td>wind_speed-4</td>\n      <td>0.515599</td>\n      <td>1</td>\n      <td>{'3': [[1452466800, 1452553199]], '4': [[14528...</td>\n    </tr>\n    <tr>\n      <th>21</th>\n      <td>rain_1h-4</td>\n      <td>0.596059</td>\n      <td>1</td>\n      <td>{'3': [[1452466800, 1452553199]], '5': [[14529...</td>\n    </tr>\n    <tr>\n      <th>22</th>\n      <td>clouds_all-4</td>\n      <td>0.563218</td>\n      <td>1</td>\n      <td>{'3': [[1452466800, 1452553199]], '5': [[14529...</td>\n    </tr>\n    <tr>\n      <th>23</th>\n      <td>temp-0</td>\n      <td>0.164204</td>\n      <td>1</td>\n      <td>{'3': [[1452553200, 1452639599]], '4': [[14526...</td>\n    </tr>\n    <tr>\n      <th>24</th>\n      <td>humidity-3</td>\n      <td>0.423645</td>\n      <td>1</td>\n      <td>{'3': [[1452553200, 1452639599]], '5': [[14529...</td>\n    </tr>\n    <tr>\n      <th>25</th>\n      <td>feels_like-0</td>\n      <td>0.164204</td>\n      <td>1</td>\n      <td>{'3': [[1452553200, 1452639599]], '4': [[14526...</td>\n    </tr>\n    <tr>\n      <th>26</th>\n      <td>pressure-0</td>\n      <td>0.215107</td>\n      <td>1</td>\n      <td>{'5': [[1453071600, 1453157999]], '6': [[14531...</td>\n    </tr>\n    <tr>\n      <th>27</th>\n      <td>humidity-4</td>\n      <td>0.500821</td>\n      <td>1</td>\n      <td>{'5': [[1453071600, 1453157999]], '9': [[14540...</td>\n    </tr>\n    <tr>\n      <th>28</th>\n      <td>typeA-3</td>\n      <td>0.119869</td>\n      <td>1</td>\n      <td>{'7': [[1453417200, 1453589999]], '8': [[14537...</td>\n    </tr>\n    <tr>\n      <th>29</th>\n      <td>pressure-1</td>\n      <td>0.410509</td>\n      <td>1</td>\n      <td>{'7': [[1453590000, 1453676399]], '15': [[1455...</td>\n    </tr>\n    <tr>\n      <th>30</th>\n      <td>feels_like-2</td>\n      <td>0.316913</td>\n      <td>1</td>\n      <td>{'14': [[1455318000, 1455490799]], '16': [[145...</td>\n    </tr>\n    <tr>\n      <th>31</th>\n      <td>temp-3</td>\n      <td>0.311987</td>\n      <td>1</td>\n      <td>{'14': [[1455404400, 1455490799]], '33': [[146...</td>\n    </tr>\n    <tr>\n      <th>32</th>\n      <td>typeA-1</td>\n      <td>0.376026</td>\n      <td>1</td>\n      <td>{'32': [[1460066400, 1460152799]], '33': [[146...</td>\n    </tr>\n    <tr>\n      <th>33</th>\n      <td>feels_like-3</td>\n      <td>0.316913</td>\n      <td>1</td>\n      <td>{'33': [[1460152800, 1460239199]], '35': [[146...</td>\n    </tr>\n    <tr>\n      <th>34</th>\n      <td>typeA-0</td>\n      <td>0.415435</td>\n      <td>1</td>\n      <td>{'37': [[1461362400, 1461448799]], '38': [[146...</td>\n    </tr>\n    <tr>\n      <th>35</th>\n      <td>temp-4</td>\n      <td>0.361248</td>\n      <td>1</td>\n      <td>{'41': [[1462312800, 1462399199]], '47': [[146...</td>\n    </tr>\n    <tr>\n      <th>36</th>\n      <td>typeB-1</td>\n      <td>0.302135</td>\n      <td>1</td>\n      <td>{'41': [[1462312800, 1462399199]], '42': [[146...</td>\n    </tr>\n    <tr>\n      <th>37</th>\n      <td>typeB-0</td>\n      <td>0.615764</td>\n      <td>1</td>\n      <td>{'45': [[1463263200, 1463435999]], '47': [[146...</td>\n    </tr>\n    <tr>\n      <th>38</th>\n      <td>feels_like-4</td>\n      <td>0.357964</td>\n      <td>1</td>\n      <td>{'47': [[1463954400, 1464040799]], '48': [[146...</td>\n    </tr>\n  </tbody>\n</table>\n</div>"
     },
     "execution_count": 77,
     "metadata": {},
     "output_type": "execute_result"
    }
   ],
   "source": [
    "pd.read_json(path_or_buf=\"/Users/christiannielsen/Documents/GitHub/Datavidenskab-P6/WIP/TPM/output/Experiment_minsup0.1_minconf_0.1/level1.json\", orient='name_node')"
   ],
   "metadata": {
    "collapsed": false,
    "pycharm": {
     "name": "#%%\n"
    }
   }
  },
  {
   "cell_type": "code",
   "execution_count": null,
   "outputs": [],
   "source": [],
   "metadata": {
    "collapsed": false,
    "pycharm": {
     "name": "#%%\n"
    }
   }
  }
 ],
 "metadata": {
  "kernelspec": {
   "display_name": "Python 3",
   "language": "python",
   "name": "python3"
  },
  "language_info": {
   "codemirror_mode": {
    "name": "ipython",
    "version": 2
   },
   "file_extension": ".py",
   "mimetype": "text/x-python",
   "name": "python",
   "nbconvert_exporter": "python",
   "pygments_lexer": "ipython2",
   "version": "2.7.6"
  }
 },
 "nbformat": 4,
 "nbformat_minor": 0
}
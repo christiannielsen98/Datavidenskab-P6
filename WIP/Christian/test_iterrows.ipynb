{
 "cells": [
  {
   "cell_type": "code",
   "execution_count": 2,
   "outputs": [],
   "source": [
    "import pandas as pd\n",
    "import numpy as np"
   ],
   "metadata": {
    "collapsed": false,
    "pycharm": {
     "name": "#%%\n"
    }
   }
  },
  {
   "cell_type": "code",
   "execution_count": 16,
   "outputs": [],
   "source": [
    "df = pd.DataFrame(np.random.randint(0,100,size=(100000, 4)), columns=list('ABCD'))"
   ],
   "metadata": {
    "collapsed": false,
    "pycharm": {
     "name": "#%%\n"
    }
   }
  },
  {
   "cell_type": "code",
   "execution_count": 14,
   "outputs": [
    {
     "name": "stdout",
     "output_type": "stream",
     "text": [
      "CPU times: user 13.1 s, sys: 159 ms, total: 13.3 s\n",
      "Wall time: 13.6 s\n"
     ]
    }
   ],
   "source": [
    "%%time\n",
    "for i, row in df.iterrows():\n",
    "    df.loc[i,\"sum\"] = getattr(row, 'A') + getattr(row, 'B')"
   ],
   "metadata": {
    "collapsed": false,
    "pycharm": {
     "name": "#%%\n"
    }
   }
  },
  {
   "cell_type": "code",
   "execution_count": 17,
   "outputs": [
    {
     "name": "stdout",
     "output_type": "stream",
     "text": [
      "CPU times: user 7.56 s, sys: 120 ms, total: 7.68 s\n",
      "Wall time: 7.84 s\n"
     ]
    }
   ],
   "source": [
    "%%time\n",
    "for i, row in enumerate(df.itertuples(index=False)):\n",
    "    df.loc[i,\"sum\"] = getattr(row, 'A') + getattr(row, 'B')"
   ],
   "metadata": {
    "collapsed": false,
    "pycharm": {
     "name": "#%%\n"
    }
   }
  },
  {
   "cell_type": "code",
   "execution_count": 18,
   "outputs": [
    {
     "data": {
      "text/plain": "        A   B   C   D    sum\n0      49  30  65  48   79.0\n1      82  12  86  72   94.0\n2       3  74  74  20   77.0\n3      44  42  51  36   86.0\n4      82  82  13   0  164.0\n...    ..  ..  ..  ..    ...\n99995  53  73  60  88  126.0\n99996  10  61  82  37   71.0\n99997  92  85  59  74  177.0\n99998  38  17  63  72   55.0\n99999  96  15  50  53  111.0\n\n[100000 rows x 5 columns]",
      "text/html": "<div>\n<style scoped>\n    .dataframe tbody tr th:only-of-type {\n        vertical-align: middle;\n    }\n\n    .dataframe tbody tr th {\n        vertical-align: top;\n    }\n\n    .dataframe thead th {\n        text-align: right;\n    }\n</style>\n<table border=\"1\" class=\"dataframe\">\n  <thead>\n    <tr style=\"text-align: right;\">\n      <th></th>\n      <th>A</th>\n      <th>B</th>\n      <th>C</th>\n      <th>D</th>\n      <th>sum</th>\n    </tr>\n  </thead>\n  <tbody>\n    <tr>\n      <th>0</th>\n      <td>49</td>\n      <td>30</td>\n      <td>65</td>\n      <td>48</td>\n      <td>79.0</td>\n    </tr>\n    <tr>\n      <th>1</th>\n      <td>82</td>\n      <td>12</td>\n      <td>86</td>\n      <td>72</td>\n      <td>94.0</td>\n    </tr>\n    <tr>\n      <th>2</th>\n      <td>3</td>\n      <td>74</td>\n      <td>74</td>\n      <td>20</td>\n      <td>77.0</td>\n    </tr>\n    <tr>\n      <th>3</th>\n      <td>44</td>\n      <td>42</td>\n      <td>51</td>\n      <td>36</td>\n      <td>86.0</td>\n    </tr>\n    <tr>\n      <th>4</th>\n      <td>82</td>\n      <td>82</td>\n      <td>13</td>\n      <td>0</td>\n      <td>164.0</td>\n    </tr>\n    <tr>\n      <th>...</th>\n      <td>...</td>\n      <td>...</td>\n      <td>...</td>\n      <td>...</td>\n      <td>...</td>\n    </tr>\n    <tr>\n      <th>99995</th>\n      <td>53</td>\n      <td>73</td>\n      <td>60</td>\n      <td>88</td>\n      <td>126.0</td>\n    </tr>\n    <tr>\n      <th>99996</th>\n      <td>10</td>\n      <td>61</td>\n      <td>82</td>\n      <td>37</td>\n      <td>71.0</td>\n    </tr>\n    <tr>\n      <th>99997</th>\n      <td>92</td>\n      <td>85</td>\n      <td>59</td>\n      <td>74</td>\n      <td>177.0</td>\n    </tr>\n    <tr>\n      <th>99998</th>\n      <td>38</td>\n      <td>17</td>\n      <td>63</td>\n      <td>72</td>\n      <td>55.0</td>\n    </tr>\n    <tr>\n      <th>99999</th>\n      <td>96</td>\n      <td>15</td>\n      <td>50</td>\n      <td>53</td>\n      <td>111.0</td>\n    </tr>\n  </tbody>\n</table>\n<p>100000 rows × 5 columns</p>\n</div>"
     },
     "execution_count": 18,
     "metadata": {},
     "output_type": "execute_result"
    }
   ],
   "source": [
    "df"
   ],
   "metadata": {
    "collapsed": false,
    "pycharm": {
     "name": "#%%\n"
    }
   }
  },
  {
   "cell_type": "code",
   "execution_count": null,
   "outputs": [],
   "source": [],
   "metadata": {
    "collapsed": false,
    "pycharm": {
     "name": "#%%\n"
    }
   }
  }
 ],
 "metadata": {
  "kernelspec": {
   "display_name": "Python 3",
   "language": "python",
   "name": "python3"
  },
  "language_info": {
   "codemirror_mode": {
    "name": "ipython",
    "version": 2
   },
   "file_extension": ".py",
   "mimetype": "text/x-python",
   "name": "python",
   "nbconvert_exporter": "python",
   "pygments_lexer": "ipython2",
   "version": "2.7.6"
  }
 },
 "nbformat": 4,
 "nbformat_minor": 0
}
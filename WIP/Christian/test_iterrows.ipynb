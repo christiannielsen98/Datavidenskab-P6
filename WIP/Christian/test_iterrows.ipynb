{
 "cells": [
  {
   "cell_type": "code",
   "execution_count": 25,
   "outputs": [],
   "source": [
    "import pandas as pd\n",
    "import numpy as np"
   ],
   "metadata": {
    "collapsed": false,
    "pycharm": {
     "name": "#%%\n"
    }
   }
  },
  {
   "cell_type": "code",
   "execution_count": 53,
   "outputs": [],
   "source": [
    "df = pd.DataFrame(np.random.randint(0,100,size=(100000, 4)), columns=list('ABCD'))"
   ],
   "metadata": {
    "collapsed": false,
    "pycharm": {
     "name": "#%%\n"
    }
   }
  },
  {
   "cell_type": "code",
   "execution_count": 58,
   "outputs": [
    {
     "name": "stdout",
     "output_type": "stream",
     "text": [
      "CPU times: user 7.2 s, sys: 87.4 ms, total: 7.29 s\n",
      "Wall time: 7.42 s\n"
     ]
    }
   ],
   "source": [
    "%%time\n",
    "for i, row in enumerate(df.itertuples(index=False)):\n",
    "    df.loc[i,\"sum\"] = getattr(row, 'A') + getattr(row, 'B')"
   ],
   "metadata": {
    "collapsed": false,
    "pycharm": {
     "name": "#%%\n"
    }
   }
  },
  {
   "cell_type": "code",
   "execution_count": 57,
   "outputs": [
    {
     "name": "stdout",
     "output_type": "stream",
     "text": [
      "CPU times: user 3 µs, sys: 0 ns, total: 3 µs\n",
      "Wall time: 7.15 µs\n"
     ]
    },
    {
     "data": {
      "text/plain": "        A   B   C   D    sum\n0      73  24  44  93   97.0\n1      43  46  19  62   89.0\n2      92  27  56  82  119.0\n3      31  20   0  75   51.0\n4      62  77  55  64  139.0\n...    ..  ..  ..  ..    ...\n99995  48  89  40  53  137.0\n99996  99  46  24  42  145.0\n99997  33  45  31  80   78.0\n99998  55  84  43   9  139.0\n99999  98   6  87  56  104.0\n\n[100000 rows x 5 columns]",
      "text/html": "<div>\n<style scoped>\n    .dataframe tbody tr th:only-of-type {\n        vertical-align: middle;\n    }\n\n    .dataframe tbody tr th {\n        vertical-align: top;\n    }\n\n    .dataframe thead th {\n        text-align: right;\n    }\n</style>\n<table border=\"1\" class=\"dataframe\">\n  <thead>\n    <tr style=\"text-align: right;\">\n      <th></th>\n      <th>A</th>\n      <th>B</th>\n      <th>C</th>\n      <th>D</th>\n      <th>sum</th>\n    </tr>\n  </thead>\n  <tbody>\n    <tr>\n      <th>0</th>\n      <td>73</td>\n      <td>24</td>\n      <td>44</td>\n      <td>93</td>\n      <td>97.0</td>\n    </tr>\n    <tr>\n      <th>1</th>\n      <td>43</td>\n      <td>46</td>\n      <td>19</td>\n      <td>62</td>\n      <td>89.0</td>\n    </tr>\n    <tr>\n      <th>2</th>\n      <td>92</td>\n      <td>27</td>\n      <td>56</td>\n      <td>82</td>\n      <td>119.0</td>\n    </tr>\n    <tr>\n      <th>3</th>\n      <td>31</td>\n      <td>20</td>\n      <td>0</td>\n      <td>75</td>\n      <td>51.0</td>\n    </tr>\n    <tr>\n      <th>4</th>\n      <td>62</td>\n      <td>77</td>\n      <td>55</td>\n      <td>64</td>\n      <td>139.0</td>\n    </tr>\n    <tr>\n      <th>...</th>\n      <td>...</td>\n      <td>...</td>\n      <td>...</td>\n      <td>...</td>\n      <td>...</td>\n    </tr>\n    <tr>\n      <th>99995</th>\n      <td>48</td>\n      <td>89</td>\n      <td>40</td>\n      <td>53</td>\n      <td>137.0</td>\n    </tr>\n    <tr>\n      <th>99996</th>\n      <td>99</td>\n      <td>46</td>\n      <td>24</td>\n      <td>42</td>\n      <td>145.0</td>\n    </tr>\n    <tr>\n      <th>99997</th>\n      <td>33</td>\n      <td>45</td>\n      <td>31</td>\n      <td>80</td>\n      <td>78.0</td>\n    </tr>\n    <tr>\n      <th>99998</th>\n      <td>55</td>\n      <td>84</td>\n      <td>43</td>\n      <td>9</td>\n      <td>139.0</td>\n    </tr>\n    <tr>\n      <th>99999</th>\n      <td>98</td>\n      <td>6</td>\n      <td>87</td>\n      <td>56</td>\n      <td>104.0</td>\n    </tr>\n  </tbody>\n</table>\n<p>100000 rows × 5 columns</p>\n</div>"
     },
     "execution_count": 57,
     "metadata": {},
     "output_type": "execute_result"
    }
   ],
   "source": [
    "df"
   ],
   "metadata": {
    "collapsed": false,
    "pycharm": {
     "name": "#%%\n"
    }
   }
  },
  {
   "cell_type": "code",
   "execution_count": null,
   "outputs": [],
   "source": [],
   "metadata": {
    "collapsed": false,
    "pycharm": {
     "name": "#%%\n"
    }
   }
  }
 ],
 "metadata": {
  "kernelspec": {
   "display_name": "Python 3",
   "language": "python",
   "name": "python3"
  },
  "language_info": {
   "codemirror_mode": {
    "name": "ipython",
    "version": 2
   },
   "file_extension": ".py",
   "mimetype": "text/x-python",
   "name": "python",
   "nbconvert_exporter": "python",
   "pygments_lexer": "ipython2",
   "version": "2.7.6"
  }
 },
 "nbformat": 4,
 "nbformat_minor": 0
}
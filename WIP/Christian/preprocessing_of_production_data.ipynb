{
 "cells": [
  {
   "cell_type": "code",
   "execution_count": 2,
   "metadata": {
    "collapsed": true
   },
   "outputs": [
    {
     "name": "stdout",
     "output_type": "stream",
     "text": [
      "{'Load_BR2PlugLoadsPowerUsage': ['Elec_PowerPlugsBR2'], 'Load_LatentHeatPowerUsage': ['Elec_PowerPlugsInstKitD'], 'Elec_PowerLights2ndFloor': ['Load_2ndFloorLightsPowerUsage'], 'Load_DryerPowerTotal': ['Elec_PowerDryer1of2', 'Elec_PowerDryer2of2'], 'Load_2ndFloorLightsPowerUsage': ['Elec_PowerLights2ndFloor'], 'Load_BR3PlugLoadsPowerUsage': ['Elec_PowerPlugsBR3'], 'Elec_PowerPlugsMBR': ['Load_MBRPlugLoadsPowerUsage'], 'Elec_PowerPlugsInstKitD': ['Load_LatentHeatPowerUsage'], 'Elec_PowerPlugsBR3': ['Load_BR3PlugLoadsPowerUsage'], 'Elec_PowerPlugsBR2': ['Load_BR2PlugLoadsPowerUsage'], 'Load_MBRPlugLoadsPowerUsage': ['Elec_PowerPlugsMBR'], 'Load_2ndFloorSensHeatPowerUsage': ['Elec_PowerChildBUpstairs', 'Elec_PowerParentBUpstairs', 'Elec_PowerParentAUpstairs', 'Elec_PowerChildAUpstairs'], 'Load_1stFloorSensHeatPowerUsage': ['Elec_PowerChildBDownstairs', 'Elec_PowerChildADownstairs', 'Elec_PowerParentBDownstairs', 'Elec_PowerParentADownstairs']}\n",
      "{'Load_MicrowavePowerWithStandby': {'corr': 0.9999999757286878, 'attr': ['Elec_PowerMicrowave']}, 'Elec_PowerPlugsMBAWest': {'corr': 0.9912476076876482, 'attr': ['Elec_PowerSpare2']}, 'Load_RefrigeratorPowerWithStandby': {'corr': 0.9992651779589373, 'attr': ['Elec_PowerRefrigerator']}, 'Elec_PowerHeatPumpWH2of2': {'corr': 0.9999556746818493, 'attr': ['DHW_HeatPumpWaterHeaterPowerTotal']}, 'Elec_PowerLights1stFloorB': {'corr': 0.9580574795910338, 'attr': ['Load_1stFloorLightsPowerUsage']}, 'Load_1stFloorLightsPowerUsage': {'corr': 0.997112478139843, 'attr': ['Elec_PowerLights1stFloorB', 'Elec_PowerLights1stFloorA']}, 'Elec_PowerLightingControlPanelRPS1': {'corr': 0.7917925295572971, 'attr': ['Elec_PowerLightingControlPanelRPS2']}, 'Elec_PowerPlugsKitSink': {'corr': 0.716833659098454, 'attr': ['Load_KPlugLoadsPowerUsage']}, 'Elec_PowerPlugsKitRange': {'corr': 0.7109712264809438, 'attr': ['Load_KPlugLoadsPowerUsage']}, 'Load_KPlugLoadsPowerUsage': {'corr': 0.9319789573563708, 'attr': ['Elec_PowerPlugsKitSink', 'Elec_PowerPlugsKitRange']}, 'Elec_PowerGarbageDisposal': {'corr': 0.6455523195264159, 'attr': ['Elec_PowerMakeUpAirDamper']}, 'Elec_PowerPlugsInstDRA': {'corr': 0.6460981222025606, 'attr': ['Elec_PowerPlugsInstBR3']}, 'Elec_PowerPlugsInstMudroomA': {'corr': 0.6215168894317563, 'attr': ['Elec_PowerPlugsInstBA2']}, 'Load_LRPlugLoadsPowerUsage': {'corr': 0.5750718735893818, 'attr': ['Elec_PowerPlugsHVACInstrumentation']}}\n",
      "{'Elec_PowerMicrowave': 'Load_MicrowavePowerWithStandby', 'Elec_PowerRefrigerator': 'Load_RefrigeratorPowerWithStandby'}\n"
     ]
    }
   ],
   "source": [
    "import plotly.express as px\n",
    "import pandas as pd\n",
    "from Project.DataExploration.correlation_analysis import explained_dict\n",
    "from Project.Database import Db"
   ]
  },
  {
   "cell_type": "code",
   "execution_count": 3,
   "outputs": [
    {
     "ename": "ValueError",
     "evalue": "too many values to unpack (expected 3)",
     "output_type": "error",
     "traceback": [
      "\u001B[0;31m---------------------------------------------------------------------------\u001B[0m",
      "\u001B[0;31mValueError\u001B[0m                                Traceback (most recent call last)",
      "\u001B[0;32m/var/folders/bd/t85lw5j14_vc55x5tn1xbmr00000gn/T/ipykernel_9834/445324288.py\u001B[0m in \u001B[0;36m<module>\u001B[0;34m\u001B[0m\n\u001B[0;32m----> 1\u001B[0;31m \u001B[0myear1\u001B[0m\u001B[0;34m,\u001B[0m \u001B[0mmeta\u001B[0m\u001B[0;34m,\u001B[0m \u001B[0mproduction\u001B[0m \u001B[0;34m=\u001B[0m \u001B[0mDb\u001B[0m\u001B[0;34m.\u001B[0m\u001B[0mload_data\u001B[0m\u001B[0;34m(\u001B[0m\u001B[0mmeta\u001B[0m\u001B[0;34m=\u001B[0m\u001B[0;32mTrue\u001B[0m\u001B[0;34m,\u001B[0m \u001B[0mproduction\u001B[0m\u001B[0;34m=\u001B[0m\u001B[0;32mTrue\u001B[0m\u001B[0;34m)\u001B[0m\u001B[0;34m\u001B[0m\u001B[0;34m\u001B[0m\u001B[0m\n\u001B[0m",
      "\u001B[0;31mValueError\u001B[0m: too many values to unpack (expected 3)"
     ]
    }
   ],
   "source": [
    "year1, meta, production = Db.load_data(meta=True, production=True)"
   ],
   "metadata": {
    "collapsed": false,
    "pycharm": {
     "name": "#%%\n"
    }
   }
  },
  {
   "cell_type": "code",
   "execution_count": 7,
   "outputs": [
    {
     "name": "stdout",
     "output_type": "stream",
     "text": [
      "                    Net generation from coal for Mid-Atlantic (region), hourly - local time (megawatthours)  \\\n",
      "2018 0701T01-04 01                                              35983                                         \n",
      "2018 0701T02-04 01                                              33731                                         \n",
      "2018 0701T03-04 01                                              31721                                         \n",
      "2018 0701T04-04 01                                              29564                                         \n",
      "2018 0701T05-04 01                                              27744                                         \n",
      "...                                                               ...                                         \n",
      "2022 0221T20-05 21                                              19425                                         \n",
      "2022 0221T21-05 21                                              18246                                         \n",
      "2022 0221T22-05 21                                              17885                                         \n",
      "2022 0221T23-05 21                                              17795                                         \n",
      "2022 0222T00-05 22                                              18804                                         \n",
      "\n",
      "                    Net generation from hydro for Mid-Atlantic (region), hourly - local time (megawatthours)  \\\n",
      "2018 0701T01-04 01                                              538.0                                          \n",
      "2018 0701T02-04 01                                              488.0                                          \n",
      "2018 0701T03-04 01                                              476.0                                          \n",
      "2018 0701T04-04 01                                              536.0                                          \n",
      "2018 0701T05-04 01                                              746.0                                          \n",
      "...                                                               ...                                          \n",
      "2022 0221T20-05 21                                             2788.0                                          \n",
      "2022 0221T21-05 21                                             2030.0                                          \n",
      "2022 0221T22-05 21                                             1454.0                                          \n",
      "2022 0221T23-05 21                                             1366.0                                          \n",
      "2022 0222T00-05 22                                             1063.0                                          \n",
      "\n",
      "                    Net generation from natural gas for Mid-Atlantic (region), hourly - local time (megawatthours)  \\\n",
      "2018 0701T01-04 01                                            29070.0                                                \n",
      "2018 0701T02-04 01                                            27542.0                                                \n",
      "2018 0701T03-04 01                                            25939.0                                                \n",
      "2018 0701T04-04 01                                            24704.0                                                \n",
      "2018 0701T05-04 01                                            24681.0                                                \n",
      "...                                                               ...                                                \n",
      "2022 0221T20-05 21                                            34100.0                                                \n",
      "2022 0221T21-05 21                                            32928.0                                                \n",
      "2022 0221T22-05 21                                            30360.0                                                \n",
      "2022 0221T23-05 21                                            28204.0                                                \n",
      "2022 0222T00-05 22                                            32307.0                                                \n",
      "\n",
      "                    Net generation from nuclear for Mid-Atlantic (region), hourly - local time (megawatthours)  \\\n",
      "2018 0701T01-04 01                                            33643.0                                            \n",
      "2018 0701T02-04 01                                            33654.0                                            \n",
      "2018 0701T03-04 01                                            33692.0                                            \n",
      "2018 0701T04-04 01                                            33740.0                                            \n",
      "2018 0701T05-04 01                                            33739.0                                            \n",
      "...                                                               ...                                            \n",
      "2022 0221T20-05 21                                            31392.0                                            \n",
      "2022 0221T21-05 21                                            31404.0                                            \n",
      "2022 0221T22-05 21                                            31421.0                                            \n",
      "2022 0221T23-05 21                                            31420.0                                            \n",
      "2022 0222T00-05 22                                            31688.0                                            \n",
      "\n",
      "                    Net generation from other for Mid-Atlantic (region), hourly - local time (megawatthours)  \\\n",
      "2018 0701T01-04 01                                              934.0                                          \n",
      "2018 0701T02-04 01                                              730.0                                          \n",
      "2018 0701T03-04 01                                              630.0                                          \n",
      "2018 0701T04-04 01                                              632.0                                          \n",
      "2018 0701T05-04 01                                              631.0                                          \n",
      "...                                                               ...                                          \n",
      "2022 0221T20-05 21                                              636.0                                          \n",
      "2022 0221T21-05 21                                              652.0                                          \n",
      "2022 0221T22-05 21                                              655.0                                          \n",
      "2022 0221T23-05 21                                              644.0                                          \n",
      "2022 0222T00-05 22                                              609.0                                          \n",
      "\n",
      "                    Net generation from petroleum for Mid-Atlantic (region), hourly - local time (megawatthours)  \\\n",
      "2018 0701T01-04 01                                              183.0                                              \n",
      "2018 0701T02-04 01                                              183.0                                              \n",
      "2018 0701T03-04 01                                              188.0                                              \n",
      "2018 0701T04-04 01                                              190.0                                              \n",
      "2018 0701T05-04 01                                              190.0                                              \n",
      "...                                                               ...                                              \n",
      "2022 0221T20-05 21                                              216.0                                              \n",
      "2022 0221T21-05 21                                              218.0                                              \n",
      "2022 0221T22-05 21                                              217.0                                              \n",
      "2022 0221T23-05 21                                              217.0                                              \n",
      "2022 0222T00-05 22                                              226.0                                              \n",
      "\n",
      "                    Net generation from solar for Mid-Atlantic (region), hourly - local time (megawatthours)  \\\n",
      "2018 0701T01-04 01                                                1.0                                          \n",
      "2018 0701T02-04 01                                                1.0                                          \n",
      "2018 0701T03-04 01                                                1.0                                          \n",
      "2018 0701T04-04 01                                                1.0                                          \n",
      "2018 0701T05-04 01                                                1.0                                          \n",
      "...                                                               ...                                          \n",
      "2022 0221T20-05 21                                               14.0                                          \n",
      "2022 0221T21-05 21                                               14.0                                          \n",
      "2022 0221T22-05 21                                               14.0                                          \n",
      "2022 0221T23-05 21                                               14.0                                          \n",
      "2022 0222T00-05 22                                               14.0                                          \n",
      "\n",
      "                    Net generation from wind for Mid-Atlantic (region), hourly - local time (megawatthours)  \n",
      "2018 0701T01-04 01                                             2545.0                                        \n",
      "2018 0701T02-04 01                                             2401.0                                        \n",
      "2018 0701T03-04 01                                             2036.0                                        \n",
      "2018 0701T04-04 01                                             2006.0                                        \n",
      "2018 0701T05-04 01                                             1825.0                                        \n",
      "...                                                               ...                                        \n",
      "2022 0221T20-05 21                                             6946.0                                        \n",
      "2022 0221T21-05 21                                             7150.0                                        \n",
      "2022 0221T22-05 21                                             7350.0                                        \n",
      "2022 0221T23-05 21                                             7143.0                                        \n",
      "2022 0222T00-05 22                                             7048.0                                        \n",
      "\n",
      "[31969 rows x 8 columns]\n"
     ]
    }
   ],
   "source": [
    "print(Db.load_data(consumption=False, meta=False, production=True))"
   ],
   "metadata": {
    "collapsed": false,
    "pycharm": {
     "name": "#%%\n"
    }
   }
  },
  {
   "cell_type": "code",
   "execution_count": null,
   "outputs": [],
   "source": [
    "year1"
   ],
   "metadata": {
    "collapsed": false,
    "pycharm": {
     "name": "#%%\n"
    }
   }
  },
  {
   "cell_type": "code",
   "execution_count": null,
   "outputs": [],
   "source": [
    "meta"
   ],
   "metadata": {
    "collapsed": false,
    "pycharm": {
     "name": "#%%\n"
    }
   }
  },
  {
   "cell_type": "code",
   "execution_count": null,
   "outputs": [],
   "source": [
    "production"
   ],
   "metadata": {
    "collapsed": false,
    "pycharm": {
     "name": "#%%\n"
    }
   }
  },
  {
   "cell_type": "code",
   "execution_count": null,
   "outputs": [],
   "source": [],
   "metadata": {
    "collapsed": false,
    "pycharm": {
     "name": "#%%\n"
    }
   }
  }
 ],
 "metadata": {
  "kernelspec": {
   "display_name": "Python 3",
   "language": "python",
   "name": "python3"
  },
  "language_info": {
   "codemirror_mode": {
    "name": "ipython",
    "version": 2
   },
   "file_extension": ".py",
   "mimetype": "text/x-python",
   "name": "python",
   "nbconvert_exporter": "python",
   "pygments_lexer": "ipython2",
   "version": "2.7.6"
  }
 },
 "nbformat": 4,
 "nbformat_minor": 0
}
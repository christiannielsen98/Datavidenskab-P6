{
 "cells": [
  {
   "cell_type": "code",
   "execution_count": 1,
   "outputs": [],
   "source": [
    "import pandas as pd\n",
    "import plotly.express as px\n",
    "import re\n",
    "import datetime\n",
    "\n",
    "from Project.Database import Db"
   ],
   "metadata": {
    "collapsed": false,
    "pycharm": {
     "name": "#%%\n"
    }
   }
  },
  {
   "cell_type": "code",
   "execution_count": 2,
   "metadata": {
    "collapsed": true
   },
   "outputs": [],
   "source": [
    "year1_hourly, meta = Db.load_data(hourly=True, meta=True, year=1)"
   ]
  },
  {
   "cell_type": "code",
   "execution_count": 3,
   "outputs": [],
   "source": [
    "consumption_condition = (lambda self: (\n",
    "            (self[\"Units\"] == \"W\") &\n",
    "            self[\"Description\"].str.contains(\"power consumption\" or \"used\") &\n",
    "            ~(self[\"Unnamed: 0\"] == \"Elec_PowerMicrowave\") &\n",
    "            ~(self[\"Unnamed: 0\"] == \"Elec_PowerRefrigerator\") &\n",
    "            ~(self[\"Unnamed: 0\"] == \"Elec_PowerClothesWasher\") &\n",
    "            ~self[\"Unnamed: 0\"].str.contains(\"Elec_[\\w]+HVAC\") &\n",
    "            (~self[\"Unnamed: 0\"].str.contains(\"DHW_\") |\n",
    "             self[\"Unnamed: 0\"].str.contains(\"DHW_[\\w]+Total\")) &\n",
    "            (~self[\"Unnamed: 0\"].str.contains(\"Load_\") |\n",
    "             ~self[\"Unnamed: 0\"].str.contains(\"Load_Microwave\") &\n",
    "             self[\"Unnamed: 0\"].str.contains(\"Load_[\\w]+Standby\"))))\n",
    "\n",
    "consumption = meta.loc[consumption_condition][\"Unnamed: 0\"].tolist()"
   ],
   "metadata": {
    "collapsed": false,
    "pycharm": {
     "name": "#%%\n"
    }
   }
  },
  {
   "cell_type": "code",
   "execution_count": 3,
   "outputs": [],
   "source": [],
   "metadata": {
    "collapsed": false,
    "pycharm": {
     "name": "#%%\n"
    }
   }
  }
 ],
 "metadata": {
  "kernelspec": {
   "display_name": "Python 3",
   "language": "python",
   "name": "python3"
  },
  "language_info": {
   "codemirror_mode": {
    "name": "ipython",
    "version": 2
   },
   "file_extension": ".py",
   "mimetype": "text/x-python",
   "name": "python",
   "nbconvert_exporter": "python",
   "pygments_lexer": "ipython2",
   "version": "2.7.6"
  }
 },
 "nbformat": 4,
 "nbformat_minor": 0
}
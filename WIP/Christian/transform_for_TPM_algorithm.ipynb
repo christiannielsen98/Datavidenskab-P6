{
 "cells": [
  {
   "cell_type": "code",
   "execution_count": 46,
   "outputs": [],
   "source": [
    "import pandas as pd\n",
    "import plotly.express as px\n",
    "import re\n",
    "import datetime\n",
    "\n",
    "from Project.Database import Db"
   ],
   "metadata": {
    "collapsed": false,
    "pycharm": {
     "name": "#%%\n"
    }
   }
  },
  {
   "cell_type": "markdown",
   "source": [
    "# Example data for the TPM"
   ],
   "metadata": {
    "collapsed": false
   }
  },
  {
   "cell_type": "code",
   "execution_count": 47,
   "outputs": [],
   "source": [
    "# pd.read_csv(\"/Users/christiannielsen/Documents/GitHub/Datavidenskab-P6/Project/TPM/Data/ISID.csv\")"
   ],
   "metadata": {
    "collapsed": false,
    "pycharm": {
     "name": "#%%\n"
    }
   }
  },
  {
   "cell_type": "code",
   "execution_count": 48,
   "outputs": [],
   "source": [
    "# pd.read_json(\n",
    "#     path_or_buf=\"/Users/christiannielsen/Documents/GitHub/Datavidenskab-P6/Project/TPM/output/Experiment_minsup0.1_minconf_0.1/level1.json\",\n",
    "#     orient='name_node')"
   ],
   "metadata": {
    "collapsed": false,
    "pycharm": {
     "name": "#%%\n"
    }
   }
  },
  {
   "cell_type": "code",
   "execution_count": 49,
   "metadata": {
    "collapsed": true
   },
   "outputs": [],
   "source": [
    "year1_minutes, meta = Db.load_data(hourly=False, meta=True, year=1)"
   ]
  },
  {
   "cell_type": "code",
   "execution_count": 50,
   "outputs": [],
   "source": [
    "appliance_condition = (lambda self: (\n",
    "        (self[\"Parameter\"] == \"Status_OnOff\") &\n",
    "        (self[\"Subsystem\"] == \"Loads\") &\n",
    "        (~self[\"Unnamed: 0\"].str.contains(\"Child\")) &\n",
    "        (~self[\"Unnamed: 0\"].str.contains(\"Prnt\")) &\n",
    "        (~self[\"Unnamed: 0\"].str.contains(\"StatusLatentload\"))\n",
    "))\n",
    "\n",
    "appliances_statusOnOff = meta.loc[appliance_condition][\"Unnamed: 0\"].tolist()"
   ],
   "metadata": {
    "collapsed": false,
    "pycharm": {
     "name": "#%%\n"
    }
   }
  },
  {
   "cell_type": "code",
   "execution_count": 51,
   "outputs": [
    {
     "data": {
      "text/plain": "40"
     },
     "execution_count": 51,
     "metadata": {},
     "output_type": "execute_result"
    }
   ],
   "source": [
    "#Replaces values to be binary 0 or 1.\n",
    "for i in appliances_statusOnOff:\n",
    "    year1_minutes.loc[year1_minutes[i] < 0, i] = 0\n",
    "    year1_minutes.loc[year1_minutes[i] > 0, i] = 1\n",
    "\n",
    "len(appliances_statusOnOff)"
   ],
   "metadata": {
    "collapsed": false,
    "pycharm": {
     "name": "#%%\n"
    }
   }
  },
  {
   "cell_type": "code",
   "execution_count": 52,
   "outputs": [],
   "source": [
    "minute_appliances_status = year1_minutes[[\"Timestamp\"] + appliances_statusOnOff].copy()"
   ],
   "metadata": {
    "collapsed": false,
    "pycharm": {
     "name": "#%%\n"
    }
   }
  },
  {
   "cell_type": "code",
   "execution_count": 53,
   "outputs": [],
   "source": [
    "for col in meta[\"Measurement_Location\"].unique():\n",
    "    appliance_condition = (lambda self: (\n",
    "            (self[\"Parameter\"] == \"Status_OnOff\") &\n",
    "            (self[\"Unnamed: 0\"].str.contains(\"Light\")) &\n",
    "            (self[\"Measurement_Location\"] == col)\n",
    "    ))\n",
    "    light_cols = meta.loc[appliance_condition, \"Unnamed: 0\"]\n",
    "    if len(light_cols) > 1:\n",
    "        minute_appliances_status[col + \"_Lights\"] = minute_appliances_status[light_cols].max(1)\n",
    "        minute_appliances_status.drop(light_cols, axis= 1, inplace=True)\n",
    "        # print(year1_minutes[col + \"_Lights\"])"
   ],
   "metadata": {
    "collapsed": false,
    "pycharm": {
     "name": "#%%\n"
    }
   }
  },
  {
   "cell_type": "code",
   "execution_count": null,
   "outputs": [],
   "source": [
    "#Forces Timestamp to the type of datetime, to extract the hour of Timestamp.\n",
    "minute_appliances_status[\"Timestamp\"] = pd.to_datetime(minute_appliances_status[\"Timestamp\"],\n",
    "                                                       format=\"%Y-%m-%d %H:%M:%S%z\", utc=True) - pd.to_timedelta(\n",
    "    unit=\"h\", arg=(\n",
    "        minute_appliances_status[\"Timestamp\"].str.split(pat=\"-\", expand=True)[lambda self: self.columns[-1]].str[\n",
    "            1]).astype(\n",
    "        int))\n",
    "\n",
    "#Extracts hour of Timestamp.\n",
    "minute_appliances_status[\"DayOfYear\"] = minute_appliances_status.Timestamp.dt.dayofyear"
   ],
   "metadata": {
    "collapsed": false,
    "pycharm": {
     "name": "#%%\n",
     "is_executing": true
    }
   }
  },
  {
   "cell_type": "code",
   "execution_count": null,
   "outputs": [],
   "source": [
    "minute_appliances_status['Timestamp'] = (pd.to_datetime(minute_appliances_status[\"Timestamp\"],\n",
    "                                                       format=\"%Y-%m-%d %H:%M:%S%z\", utc=True).astype(\"int\") / 1e9).astype(\"int\")"
   ],
   "metadata": {
    "collapsed": false,
    "pycharm": {
     "name": "#%%\n",
     "is_executing": true
    }
   }
  },
  {
   "cell_type": "code",
   "execution_count": null,
   "outputs": [],
   "source": [
    "minute_appliances_status[\"DayOfYear\"] = ((minute_appliances_status['Timestamp'] - minute_appliances_status['Timestamp'].min()) / (3600 * 24)).astype(\"int\")"
   ],
   "metadata": {
    "collapsed": false,
    "pycharm": {
     "name": "#%%\n",
     "is_executing": true
    }
   }
  },
  {
   "cell_type": "code",
   "execution_count": null,
   "outputs": [],
   "source": [
    "minute_appliances_status"
   ],
   "metadata": {
    "collapsed": false,
    "pycharm": {
     "name": "#%%\n",
     "is_executing": true
    }
   }
  },
  {
   "cell_type": "code",
   "execution_count": null,
   "outputs": [],
   "source": [
    "appliance_job_list = []\n",
    "\n",
    "for appliance in appliances_statusOnOff:\n",
    "    name = \" \".join(re.findall('[A-Z][^A-Z]*', appliance.split(\"Load_Status\")[-1]))\n",
    "    appliance_switch = minute_appliances_status[(minute_appliances_status[appliance] != minute_appliances_status[appliance].shift(1))][[\"Timestamp\", \"DayOfYear\", appliance]][1:]\n",
    "\n",
    "    df_indices = appliance_switch.index.tolist()\n",
    "    for index, df_index in enumerate(df_indices):\n",
    "        if appliance_switch.loc[df_index, appliance]:\n",
    "            try:\n",
    "                appliance_job_list.append({\"start\": appliance_switch.loc[df_index, \"Timestamp\"],\n",
    "                                           \"end\": appliance_switch.loc[df_indices[index + 1], \"Timestamp\"],\n",
    "                                           \"appliance\": name,\n",
    "                                           \"day\": appliance_switch.loc[df_indices[index], \"DayOfYear\"]\n",
    "                                           })\n",
    "            except:\n",
    "                continue\n",
    "\n",
    "appliance_job_list"
   ],
   "metadata": {
    "collapsed": false,
    "pycharm": {
     "name": "#%%\n",
     "is_executing": true
    }
   }
  },
  {
   "cell_type": "code",
   "execution_count": null,
   "outputs": [],
   "source": [
    "df = pd.DataFrame(appliance_job_list).sort_values(by=['day', 'start']).reset_index(drop=True)\n",
    "df"
   ],
   "metadata": {
    "collapsed": false,
    "pycharm": {
     "name": "#%%\n",
     "is_executing": true
    }
   }
  },
  {
   "cell_type": "code",
   "execution_count": null,
   "outputs": [],
   "source": [
    "df.to_csv(path_or_buf=\"C:\\\\Users\\\\Ronni\\\\Documents\\\\GitHub\\\\Datavidenskab-P6\\\\Project\\\\TPM\\\\TPM\\\\Data\\\\houseData.csv\", header=False, index=False)"
   ],
   "metadata": {
    "collapsed": false,
    "pycharm": {
     "name": "#%%\n",
     "is_executing": true
    }
   }
  },
  {
   "cell_type": "code",
   "execution_count": null,
   "outputs": [],
   "source": [
    "level2=pd.read_json(path_or_buf=\"/Users/christiannielsen/Documents/GitHub/Datavidenskab-P6/Project/TPM/output/Experiment_minsup0.1_minconf_0.1/level2.json\")"
   ],
   "metadata": {
    "collapsed": false,
    "pycharm": {
     "name": "#%%\n",
     "is_executing": true
    }
   }
  },
  {
   "cell_type": "code",
   "execution_count": null,
   "outputs": [],
   "source": [
    "level2.loc[level2[\"name_node\"] == \"Entry Hall Lights,Plug Load L R Blue Ray\", \"patterns\"].values[0][0][\"conf\"]"
   ],
   "metadata": {
    "collapsed": false,
    "pycharm": {
     "name": "#%%\n"
    }
   }
  }
 ],
 "metadata": {
  "kernelspec": {
   "display_name": "Python 3",
   "language": "python",
   "name": "python3"
  },
  "language_info": {
   "codemirror_mode": {
    "name": "ipython",
    "version": 2
   },
   "file_extension": ".py",
   "mimetype": "text/x-python",
   "name": "python",
   "nbconvert_exporter": "python",
   "pygments_lexer": "ipython2",
   "version": "2.7.6"
  }
 },
 "nbformat": 4,
 "nbformat_minor": 0
}
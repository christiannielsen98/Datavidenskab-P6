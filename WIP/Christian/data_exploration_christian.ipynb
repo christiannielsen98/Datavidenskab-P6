{
 "cells": [
  {
   "cell_type": "code",
   "execution_count": 1,
   "metadata": {
    "collapsed": true
   },
   "outputs": [],
   "source": [
    "import datetime\n",
    "\n",
    "import pandas as pd\n",
    "import plotly.express as px\n",
    "import plotly.graph_objects as go\n",
    "\n",
    "from Project.Database import Db"
   ]
  },
  {
   "cell_type": "code",
   "execution_count": 2,
   "outputs": [],
   "source": [
    "year1_minute, meta = Db.load_data(hourly=False, meta=True, year=1)"
   ],
   "metadata": {
    "collapsed": false,
    "pycharm": {
     "name": "#%%\n"
    }
   }
  },
  {
   "cell_type": "code",
   "execution_count": 3,
   "outputs": [],
   "source": [
    "year1_hourly, meta = Db.load_data(hourly=True, meta=True, year=1)"
   ],
   "metadata": {
    "collapsed": false,
    "pycharm": {
     "name": "#%%\n"
    }
   }
  },
  {
   "cell_type": "code",
   "execution_count": 4,
   "outputs": [],
   "source": [
    "year2_hourly, meta = Db.load_data(hourly=True, meta=True, year=2)"
   ],
   "metadata": {
    "collapsed": false,
    "pycharm": {
     "name": "#%%\n"
    }
   }
  },
  {
   "cell_type": "code",
   "execution_count": 5,
   "outputs": [
    {
     "ename": "ValueError",
     "evalue": "Tz-aware datetime.datetime cannot be converted to datetime64 unless utc=True",
     "output_type": "error",
     "traceback": [
      "\u001B[0;31m---------------------------------------------------------------------------\u001B[0m",
      "\u001B[0;31mValueError\u001B[0m                                Traceback (most recent call last)",
      "\u001B[0;32m~/Documents/Conda_environments/lib/python3.9/site-packages/pandas/core/arrays/datetimes.py\u001B[0m in \u001B[0;36mobjects_to_datetime64ns\u001B[0;34m(data, dayfirst, yearfirst, utc, errors, require_iso8601, allow_object, allow_mixed)\u001B[0m\n\u001B[1;32m   2210\u001B[0m         \u001B[0;32mtry\u001B[0m\u001B[0;34m:\u001B[0m\u001B[0;34m\u001B[0m\u001B[0;34m\u001B[0m\u001B[0m\n\u001B[0;32m-> 2211\u001B[0;31m             \u001B[0mvalues\u001B[0m\u001B[0;34m,\u001B[0m \u001B[0mtz_parsed\u001B[0m \u001B[0;34m=\u001B[0m \u001B[0mconversion\u001B[0m\u001B[0;34m.\u001B[0m\u001B[0mdatetime_to_datetime64\u001B[0m\u001B[0;34m(\u001B[0m\u001B[0mdata\u001B[0m\u001B[0;34m.\u001B[0m\u001B[0mravel\u001B[0m\u001B[0;34m(\u001B[0m\u001B[0;34m\"K\"\u001B[0m\u001B[0;34m)\u001B[0m\u001B[0;34m)\u001B[0m\u001B[0;34m\u001B[0m\u001B[0;34m\u001B[0m\u001B[0m\n\u001B[0m\u001B[1;32m   2212\u001B[0m             \u001B[0;31m# If tzaware, these values represent unix timestamps, so we\u001B[0m\u001B[0;34m\u001B[0m\u001B[0;34m\u001B[0m\u001B[0m\n",
      "\u001B[0;32m~/Documents/Conda_environments/lib/python3.9/site-packages/pandas/_libs/tslibs/conversion.pyx\u001B[0m in \u001B[0;36mpandas._libs.tslibs.conversion.datetime_to_datetime64\u001B[0;34m()\u001B[0m\n",
      "\u001B[0;31mValueError\u001B[0m: Array must be all same time zone",
      "\nDuring handling of the above exception, another exception occurred:\n",
      "\u001B[0;31mValueError\u001B[0m                                Traceback (most recent call last)",
      "\u001B[0;32m/var/folders/bd/t85lw5j14_vc55x5tn1xbmr00000gn/T/ipykernel_60409/3066408297.py\u001B[0m in \u001B[0;36m<module>\u001B[0;34m\u001B[0m\n\u001B[0;32m----> 1\u001B[0;31m \u001B[0myear1_minute\u001B[0m\u001B[0;34m[\u001B[0m\u001B[0;34m\"Timestamp\"\u001B[0m\u001B[0;34m]\u001B[0m \u001B[0;34m=\u001B[0m \u001B[0mpd\u001B[0m\u001B[0;34m.\u001B[0m\u001B[0mto_datetime\u001B[0m\u001B[0;34m(\u001B[0m\u001B[0myear1_minute\u001B[0m\u001B[0;34m[\u001B[0m\u001B[0;34m\"Timestamp\"\u001B[0m\u001B[0;34m]\u001B[0m\u001B[0;34m,\u001B[0m \u001B[0mformat\u001B[0m\u001B[0;34m=\u001B[0m\u001B[0;34m\"%Y-%m-%d %H:%M:%S%z\"\u001B[0m\u001B[0;34m)\u001B[0m\u001B[0;34m\u001B[0m\u001B[0;34m\u001B[0m\u001B[0m\n\u001B[0m",
      "\u001B[0;32m~/Documents/Conda_environments/lib/python3.9/site-packages/pandas/core/tools/datetimes.py\u001B[0m in \u001B[0;36mto_datetime\u001B[0;34m(arg, errors, dayfirst, yearfirst, utc, format, exact, unit, infer_datetime_format, origin, cache)\u001B[0m\n\u001B[1;32m   1049\u001B[0m             \u001B[0mresult\u001B[0m \u001B[0;34m=\u001B[0m \u001B[0marg\u001B[0m\u001B[0;34m.\u001B[0m\u001B[0mmap\u001B[0m\u001B[0;34m(\u001B[0m\u001B[0mcache_array\u001B[0m\u001B[0;34m)\u001B[0m\u001B[0;34m\u001B[0m\u001B[0;34m\u001B[0m\u001B[0m\n\u001B[1;32m   1050\u001B[0m         \u001B[0;32melse\u001B[0m\u001B[0;34m:\u001B[0m\u001B[0;34m\u001B[0m\u001B[0;34m\u001B[0m\u001B[0m\n\u001B[0;32m-> 1051\u001B[0;31m             \u001B[0mvalues\u001B[0m \u001B[0;34m=\u001B[0m \u001B[0mconvert_listlike\u001B[0m\u001B[0;34m(\u001B[0m\u001B[0marg\u001B[0m\u001B[0;34m.\u001B[0m\u001B[0m_values\u001B[0m\u001B[0;34m,\u001B[0m \u001B[0mformat\u001B[0m\u001B[0;34m)\u001B[0m\u001B[0;34m\u001B[0m\u001B[0;34m\u001B[0m\u001B[0m\n\u001B[0m\u001B[1;32m   1052\u001B[0m             \u001B[0mresult\u001B[0m \u001B[0;34m=\u001B[0m \u001B[0marg\u001B[0m\u001B[0;34m.\u001B[0m\u001B[0m_constructor\u001B[0m\u001B[0;34m(\u001B[0m\u001B[0mvalues\u001B[0m\u001B[0;34m,\u001B[0m \u001B[0mindex\u001B[0m\u001B[0;34m=\u001B[0m\u001B[0marg\u001B[0m\u001B[0;34m.\u001B[0m\u001B[0mindex\u001B[0m\u001B[0;34m,\u001B[0m \u001B[0mname\u001B[0m\u001B[0;34m=\u001B[0m\u001B[0marg\u001B[0m\u001B[0;34m.\u001B[0m\u001B[0mname\u001B[0m\u001B[0;34m)\u001B[0m\u001B[0;34m\u001B[0m\u001B[0;34m\u001B[0m\u001B[0m\n\u001B[1;32m   1053\u001B[0m     \u001B[0;32melif\u001B[0m \u001B[0misinstance\u001B[0m\u001B[0;34m(\u001B[0m\u001B[0marg\u001B[0m\u001B[0;34m,\u001B[0m \u001B[0;34m(\u001B[0m\u001B[0mABCDataFrame\u001B[0m\u001B[0;34m,\u001B[0m \u001B[0mabc\u001B[0m\u001B[0;34m.\u001B[0m\u001B[0mMutableMapping\u001B[0m\u001B[0;34m)\u001B[0m\u001B[0;34m)\u001B[0m\u001B[0;34m:\u001B[0m\u001B[0;34m\u001B[0m\u001B[0;34m\u001B[0m\u001B[0m\n",
      "\u001B[0;32m~/Documents/Conda_environments/lib/python3.9/site-packages/pandas/core/tools/datetimes.py\u001B[0m in \u001B[0;36m_convert_listlike_datetimes\u001B[0;34m(arg, format, name, tz, unit, errors, infer_datetime_format, dayfirst, yearfirst, exact)\u001B[0m\n\u001B[1;32m    400\u001B[0m     \u001B[0;32massert\u001B[0m \u001B[0mformat\u001B[0m \u001B[0;32mis\u001B[0m \u001B[0;32mNone\u001B[0m \u001B[0;32mor\u001B[0m \u001B[0minfer_datetime_format\u001B[0m\u001B[0;34m\u001B[0m\u001B[0;34m\u001B[0m\u001B[0m\n\u001B[1;32m    401\u001B[0m     \u001B[0mutc\u001B[0m \u001B[0;34m=\u001B[0m \u001B[0mtz\u001B[0m \u001B[0;34m==\u001B[0m \u001B[0;34m\"utc\"\u001B[0m\u001B[0;34m\u001B[0m\u001B[0;34m\u001B[0m\u001B[0m\n\u001B[0;32m--> 402\u001B[0;31m     result, tz_parsed = objects_to_datetime64ns(\n\u001B[0m\u001B[1;32m    403\u001B[0m         \u001B[0marg\u001B[0m\u001B[0;34m,\u001B[0m\u001B[0;34m\u001B[0m\u001B[0;34m\u001B[0m\u001B[0m\n\u001B[1;32m    404\u001B[0m         \u001B[0mdayfirst\u001B[0m\u001B[0;34m=\u001B[0m\u001B[0mdayfirst\u001B[0m\u001B[0;34m,\u001B[0m\u001B[0;34m\u001B[0m\u001B[0;34m\u001B[0m\u001B[0m\n",
      "\u001B[0;32m~/Documents/Conda_environments/lib/python3.9/site-packages/pandas/core/arrays/datetimes.py\u001B[0m in \u001B[0;36mobjects_to_datetime64ns\u001B[0;34m(data, dayfirst, yearfirst, utc, errors, require_iso8601, allow_object, allow_mixed)\u001B[0m\n\u001B[1;32m   2215\u001B[0m             \u001B[0;32mreturn\u001B[0m \u001B[0mvalues\u001B[0m\u001B[0;34m.\u001B[0m\u001B[0mview\u001B[0m\u001B[0;34m(\u001B[0m\u001B[0;34m\"i8\"\u001B[0m\u001B[0;34m)\u001B[0m\u001B[0;34m,\u001B[0m \u001B[0mtz_parsed\u001B[0m\u001B[0;34m\u001B[0m\u001B[0;34m\u001B[0m\u001B[0m\n\u001B[1;32m   2216\u001B[0m         \u001B[0;32mexcept\u001B[0m \u001B[0;34m(\u001B[0m\u001B[0mValueError\u001B[0m\u001B[0;34m,\u001B[0m \u001B[0mTypeError\u001B[0m\u001B[0;34m)\u001B[0m\u001B[0;34m:\u001B[0m\u001B[0;34m\u001B[0m\u001B[0;34m\u001B[0m\u001B[0m\n\u001B[0;32m-> 2217\u001B[0;31m             \u001B[0;32mraise\u001B[0m \u001B[0merr\u001B[0m\u001B[0;34m\u001B[0m\u001B[0;34m\u001B[0m\u001B[0m\n\u001B[0m\u001B[1;32m   2218\u001B[0m \u001B[0;34m\u001B[0m\u001B[0m\n\u001B[1;32m   2219\u001B[0m     \u001B[0;32mif\u001B[0m \u001B[0mtz_parsed\u001B[0m \u001B[0;32mis\u001B[0m \u001B[0;32mnot\u001B[0m \u001B[0;32mNone\u001B[0m\u001B[0;34m:\u001B[0m\u001B[0;34m\u001B[0m\u001B[0;34m\u001B[0m\u001B[0m\n",
      "\u001B[0;32m~/Documents/Conda_environments/lib/python3.9/site-packages/pandas/core/arrays/datetimes.py\u001B[0m in \u001B[0;36mobjects_to_datetime64ns\u001B[0;34m(data, dayfirst, yearfirst, utc, errors, require_iso8601, allow_object, allow_mixed)\u001B[0m\n\u001B[1;32m   2197\u001B[0m     \u001B[0morder\u001B[0m\u001B[0;34m:\u001B[0m \u001B[0mLiteral\u001B[0m\u001B[0;34m[\u001B[0m\u001B[0;34m\"F\"\u001B[0m\u001B[0;34m,\u001B[0m \u001B[0;34m\"C\"\u001B[0m\u001B[0;34m]\u001B[0m \u001B[0;34m=\u001B[0m \u001B[0;34m\"F\"\u001B[0m \u001B[0;32mif\u001B[0m \u001B[0mflags\u001B[0m\u001B[0;34m.\u001B[0m\u001B[0mf_contiguous\u001B[0m \u001B[0;32melse\u001B[0m \u001B[0;34m\"C\"\u001B[0m\u001B[0;34m\u001B[0m\u001B[0;34m\u001B[0m\u001B[0m\n\u001B[1;32m   2198\u001B[0m     \u001B[0;32mtry\u001B[0m\u001B[0;34m:\u001B[0m\u001B[0;34m\u001B[0m\u001B[0;34m\u001B[0m\u001B[0m\n\u001B[0;32m-> 2199\u001B[0;31m         result, tz_parsed = tslib.array_to_datetime(\n\u001B[0m\u001B[1;32m   2200\u001B[0m             \u001B[0mdata\u001B[0m\u001B[0;34m.\u001B[0m\u001B[0mravel\u001B[0m\u001B[0;34m(\u001B[0m\u001B[0;34m\"K\"\u001B[0m\u001B[0;34m)\u001B[0m\u001B[0;34m,\u001B[0m\u001B[0;34m\u001B[0m\u001B[0;34m\u001B[0m\u001B[0m\n\u001B[1;32m   2201\u001B[0m             \u001B[0merrors\u001B[0m\u001B[0;34m=\u001B[0m\u001B[0merrors\u001B[0m\u001B[0;34m,\u001B[0m\u001B[0;34m\u001B[0m\u001B[0;34m\u001B[0m\u001B[0m\n",
      "\u001B[0;32m~/Documents/Conda_environments/lib/python3.9/site-packages/pandas/_libs/tslib.pyx\u001B[0m in \u001B[0;36mpandas._libs.tslib.array_to_datetime\u001B[0;34m()\u001B[0m\n",
      "\u001B[0;32m~/Documents/Conda_environments/lib/python3.9/site-packages/pandas/_libs/tslib.pyx\u001B[0m in \u001B[0;36mpandas._libs.tslib.array_to_datetime\u001B[0;34m()\u001B[0m\n",
      "\u001B[0;31mValueError\u001B[0m: Tz-aware datetime.datetime cannot be converted to datetime64 unless utc=True"
     ]
    }
   ],
   "source": [
    "year1_minute[\"Timestamp\"] = pd.to_datetime(year1_minute[\"Timestamp\"], format=\"%Y-%m-%d %H:%M:%S%z\")"
   ],
   "metadata": {
    "collapsed": false,
    "pycharm": {
     "name": "#%%\n"
    }
   }
  },
  {
   "cell_type": "code",
   "execution_count": null,
   "outputs": [],
   "source": [
    "fig = px.scatter(year1_minute.loc[:10000], x=\"Timestamp\", y=\"Load_DryerPowerTotal\")\n",
    "fig.show()"
   ],
   "metadata": {
    "collapsed": false,
    "pycharm": {
     "name": "#%%\n"
    }
   }
  },
  {
   "cell_type": "code",
   "execution_count": null,
   "outputs": [],
   "source": [
    "consumption = meta.loc[((meta['Parameter'] == \"Power_Electrical\") | (meta['Parameter'] == \"Power_Thermal\")) & (\n",
    "    meta[\"Description\"].str.contains(\"power consumption\" or \"used\"))][\"Unnamed: 0\"].tolist()"
   ],
   "metadata": {
    "collapsed": false,
    "pycharm": {
     "name": "#%%\n"
    }
   }
  },
  {
   "cell_type": "code",
   "execution_count": null,
   "outputs": [],
   "source": [
    "appliance_instant_energy_consumed = pd.DataFrame(year1_hourly[consumption].sum(axis=0).sort_values(ascending=False),\n",
    "                                                 columns=[\"Year 1\"])\n",
    "\n",
    "for col in appliance_instant_energy_consumed.index:\n",
    "    appliance_instant_energy_consumed.loc[col, \"Year 2\"] = year2_hourly[col].sum() if col in year2_hourly.columns else 0\n",
    "\n",
    "appliance_instant_energy_consumed = appliance_instant_energy_consumed.loc[\n",
    "    (appliance_instant_energy_consumed.sum(1) > 0)]"
   ],
   "metadata": {
    "collapsed": false,
    "pycharm": {
     "name": "#%%\n"
    }
   }
  },
  {
   "cell_type": "code",
   "execution_count": null,
   "outputs": [],
   "source": [
    "fig = px.bar(appliance_instant_energy_consumed, x=[\"Year 1\", \"Year 2\"], barmode=\"group\", log_x=True)\n",
    "fig.show()"
   ],
   "metadata": {
    "collapsed": false,
    "pycharm": {
     "name": "#%%\n"
    }
   }
  },
  {
   "cell_type": "code",
   "execution_count": null,
   "outputs": [],
   "source": [
    "plugs = meta.loc[(meta['Parameter'] == \"Status_OnOff\") & (meta[\"Measurement_Location\"] == \"Kitchen\") & (\n",
    "    meta[\"Unnamed: 0\"].str.contains(\"Plug\"))][\"Unnamed: 0\"].tolist()"
   ],
   "metadata": {
    "collapsed": false,
    "pycharm": {
     "name": "#%%\n"
    }
   }
  },
  {
   "cell_type": "code",
   "execution_count": null,
   "outputs": [],
   "source": [
    "kitchenplugs = year1_hourly[[\"Timestamp\"] + plugs].copy()\n",
    "kitchenplugs[\"Status\"] = kitchenplugs[plugs].sum(axis=1)\n",
    "kitchenplugs"
   ],
   "metadata": {
    "collapsed": false,
    "pycharm": {
     "name": "#%%\n"
    }
   }
  },
  {
   "cell_type": "code",
   "execution_count": null,
   "outputs": [],
   "source": [
    "#Forces Timestamp to the type of datetime, to extract the hour of Timestamp.\n",
    "kitchenplugs[\"Timestamp\"] = pd.to_datetime(kitchenplugs[\"Timestamp\"], format=\"%Y-%m-%d %H:%M:%S%z\", utc=True) - pd.to_timedelta(unit=\"h\", arg=(kitchenplugs[\"Timestamp\"].str.split(pat=\"-\", expand=True)[lambda self: self.columns[-1]].str[1]).astype(int))\n",
    "\n",
    "for index in kitchenplugs.index:\n",
    "    kitchenplugs.loc[index, \"Timestamp\"] = kitchenplugs.loc[index, \"Timestamp\"] - datetime.timedelta(\n",
    "        seconds=(int(str(year1_hourly.loc[index, \"Timestamp\"]).split(\"-\")[-1][1])) * 3_600)\n",
    "\n",
    "#Extracts hour of Timestamp.\n",
    "kitchenplugs[\"HourOfTimestamp\"] = kitchenplugs.Timestamp.dt.hour\n",
    "\n",
    "#Replaces values to be binary 0 or 1.\n",
    "for i in plugs:\n",
    "    kitchenplugs.loc[kitchenplugs[i] < 0, i] = 0\n",
    "    kitchenplugs.loc[kitchenplugs[i] > 0, i] = 1\n",
    "\n",
    "#Creates a dataframe with counts of \"StatusOffOn\" = 1, grouped by HourOfTimestamp for all attributes in kitchenplugs\n",
    "hourON_kitchen = kitchenplugs.groupby([\"HourOfTimestamp\"])[plugs].sum()\n",
    "\n",
    "def normalise_dataframe(df):\n",
    "    '''\n",
    "    Normalises values of all attributes in a dataframe, with minmax method.\n",
    "    :param df:\n",
    "    :type df:\n",
    "    :return:\n",
    "    :rtype:\n",
    "    '''\n",
    "    normalised_df = df.copy()\n",
    "\n",
    "    for column in normalised_df:\n",
    "        try:\n",
    "            normalised_df[column] = (normalised_df[column] - normalised_df[column].min()) / (\n",
    "                    normalised_df[column].max() - normalised_df[column].min())\n",
    "        except:\n",
    "            normalised_df[column] = normalised_df[column]\n",
    "\n",
    "    return normalised_df\n",
    "\n",
    "#set up data to heatmap\n",
    "columns = hourON_kitchen.columns[1:].tolist()\n",
    "hourON_kitchen[columns] = normalise_dataframe(hourON_kitchen[columns])\n",
    "hourON_kitchen[\"HourOfTimestamp\"] = hourON_kitchen.index\n",
    "z_data = []\n",
    "for i in hourON_kitchen[columns]:\n",
    "    data_list = hourON_kitchen[i].round(2).values.tolist()\n",
    "    z_data.append(data_list)\n",
    "\n",
    "#Annotate z_values\n",
    "annotations = go.Annotations()\n",
    "for n, row in enumerate(z_data):\n",
    "    for m, val in enumerate(row):\n",
    "        annotations.append(go.Annotation(text=\"\" if z_data[n][m] == 0 else str(z_data[n][m]),\n",
    "                                         x=hourON_kitchen[\"HourOfTimestamp\"][m], y=columns[n], xref='x1', yref='y1',\n",
    "                                         showarrow=False))\n",
    "\n",
    "#Create heatmap\n",
    "fig = go.Figure(data=go.Heatmap(\n",
    "    z=z_data,\n",
    "    x=hourON_kitchen[\"HourOfTimestamp\"],\n",
    "    y=columns,\n",
    "    colorscale='Teal')\n",
    ")\n",
    "\n",
    "fig.update_layout(margin=dict(\n",
    "    l=30,\n",
    "    r=30,\n",
    "    b=30,\n",
    "    t=50,\n",
    "), xaxis_nticks=30, annotations=annotations, )\n",
    "\n",
    "fig.update_xaxes(title=\"Hour of day\")\n",
    "fig.update_yaxes(title=\"Appliance\", showticklabels=True)\n",
    "fig.show()"
   ],
   "metadata": {
    "collapsed": false,
    "pycharm": {
     "name": "#%%\n"
    }
   }
  },
  {
   "cell_type": "code",
   "execution_count": null,
   "outputs": [],
   "source": [
    "#Forces Timestamp to the type of datetime, to extract the hour of Timestamp.\n",
    "year1_hourly[\"Timestamp\"] = pd.to_datetime(year1_hourly[\"Timestamp\"], format=\"%Y-%m-%d %H:%M:%S%z\", utc=True) - pd.to_timedelta(unit=\"h\", arg=(year1_hourly[\"Timestamp\"].str.split(pat=\"-\", expand=True)[lambda self: self.columns[-1]].str[1]).astype(int))\n",
    "\n",
    "#Extracts hour of Timestamp.\n",
    "year1_hourly[\"HourOfTimestamp\"] = year1_hourly.Timestamp.dt.hour\n",
    "\n",
    "#Replaces values to be binary 0 or 1.\n",
    "for i in consumption:\n",
    "    year1_hourly.loc[year1_hourly[i] < 0, i] = 0\n",
    "    year1_hourly.loc[year1_hourly[i] > 0, i] = 1\n",
    "\n",
    "#Creates a dataframe with counts of \"StatusOffOn\" = 1, grouped by HourOfTimestamp for all attributes in year1_hours\n",
    "hourON_all = year1_hourly.groupby([\"HourOfTimestamp\"])[consumption].sum()\n",
    "\n",
    "#set up data to heatmap\n",
    "columns = hourON_all.columns[1:].tolist()\n",
    "hourON_all[columns] = normalise_dataframe(hourON_all[columns])\n",
    "hourON_all[\"HourOfTimestamp\"] = hourON_all.index\n",
    "z_data = []\n",
    "for i in hourON_all[columns]:\n",
    "    data_list = hourON_all[i].round(2).values.tolist()\n",
    "    z_data.append(data_list)\n",
    "\n",
    "#Annotate z_values\n",
    "annotations = go.Annotations()\n",
    "for n, row in enumerate(z_data):\n",
    "    for m, val in enumerate(row):\n",
    "        annotations.append(go.Annotation(text=\"\" if z_data[n][m] == 0 else str(z_data[n][m]),\n",
    "                                         x=hourON_all[\"HourOfTimestamp\"][m], y=columns[n], xref='x1', yref='y1',\n",
    "                                         showarrow=False))\n",
    "\n",
    "#Create heatmap\n",
    "fig = go.Figure(data=go.Heatmap(\n",
    "    z=z_data,\n",
    "    x=hourON_all[\"HourOfTimestamp\"],\n",
    "    y=columns,\n",
    "    colorscale='Teal')\n",
    ")\n",
    "\n",
    "fig.update_layout(\n",
    "    margin=dict(\n",
    "        l=30,\n",
    "        r=30,\n",
    "        b=30,\n",
    "        t=50, ),\n",
    "    xaxis_nticks=30,\n",
    "    annotations=annotations)\n",
    "\n",
    "fig.update_xaxes(title=\"Hour of day\")\n",
    "fig.update_yaxes(title=\"Appliance\", showticklabels=True)\n",
    "fig.show()"
   ],
   "metadata": {
    "collapsed": false,
    "pycharm": {
     "name": "#%%\n"
    }
   }
  },
  {
   "cell_type": "code",
   "execution_count": null,
   "outputs": [],
   "source": [
    "year1_minute"
   ],
   "metadata": {
    "collapsed": false,
    "pycharm": {
     "name": "#%%\n"
    }
   }
  }
 ],
 "metadata": {
  "kernelspec": {
   "display_name": "Python 3",
   "language": "python",
   "name": "python3"
  },
  "language_info": {
   "codemirror_mode": {
    "name": "ipython",
    "version": 2
   },
   "file_extension": ".py",
   "mimetype": "text/x-python",
   "name": "python",
   "nbconvert_exporter": "python",
   "pygments_lexer": "ipython2",
   "version": "2.7.6"
  }
 },
 "nbformat": 4,
 "nbformat_minor": 0
}
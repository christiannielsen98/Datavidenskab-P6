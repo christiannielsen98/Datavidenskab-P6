{
 "cells": [
  {
   "cell_type": "code",
   "execution_count": 38,
   "metadata": {
    "collapsed": true
   },
   "outputs": [],
   "source": [
    "import pandas as pd\n",
    "import plotly.express as px\n",
    "import re\n",
    "from datetime import datetime\n",
    "from concurrent.futures import ThreadPoolExecutor, as_completed\n",
    "\n",
    "from Project.DatabaseLocator import DatabaseLocator\n",
    "\n",
    "Locator = DatabaseLocator()"
   ]
  },
  {
   "cell_type": "code",
   "execution_count": 39,
   "outputs": [],
   "source": [
    "netzero1 = pd.read_csv(\n",
    "    filepath_or_buffer=Locator.get_onedrive_path(\"data/netzero-data/All-Subsystems-minute-year1.csv\"))"
   ],
   "metadata": {
    "collapsed": false,
    "pycharm": {
     "name": "#%%\n"
    }
   }
  },
  {
   "cell_type": "code",
   "execution_count": 40,
   "outputs": [],
   "source": [
    "netzero2 = pd.read_csv(\n",
    "    filepath_or_buffer=Locator.get_onedrive_path(\"data/netzero-data/All-Subsystems-minute-year2.csv\"))"
   ],
   "metadata": {
    "collapsed": false,
    "pycharm": {
     "name": "#%%\n"
    }
   }
  },
  {
   "cell_type": "code",
   "execution_count": 41,
   "outputs": [],
   "source": [
    "netzero1_hourly = pd.read_csv(\n",
    "    filepath_or_buffer=Locator.get_onedrive_path(\"data/netzero-data/All-Subsystems-hour-year1.csv\"))"
   ],
   "metadata": {
    "collapsed": false,
    "pycharm": {
     "name": "#%%\n"
    }
   }
  },
  {
   "cell_type": "code",
   "execution_count": 42,
   "outputs": [],
   "source": [
    "netzero2_hourly = pd.read_csv(\n",
    "    filepath_or_buffer=Locator.get_onedrive_path(\"data/netzero-data/All-Subsystems-hour-year2.csv\"))"
   ],
   "metadata": {
    "collapsed": false,
    "pycharm": {
     "name": "#%%\n"
    }
   }
  },
  {
   "cell_type": "code",
   "execution_count": 43,
   "outputs": [],
   "source": [
    "metadata = pd.read_csv(filepath_or_buffer=Locator.get_onedrive_path(\"data/netzero-data/Metadata-minute.csv\"))"
   ],
   "metadata": {
    "collapsed": false,
    "pycharm": {
     "name": "#%%\n"
    }
   }
  },
  {
   "cell_type": "code",
   "execution_count": 44,
   "outputs": [],
   "source": [
    "netzero1[\"Timestamp\"] = pd.to_datetime(netzero1[\"Timestamp\"], format=\"%Y-%m-%d %H:%M:%S%z\")"
   ],
   "metadata": {
    "collapsed": false,
    "pycharm": {
     "name": "#%%\n"
    }
   }
  },
  {
   "cell_type": "code",
   "execution_count": 105,
   "outputs": [],
   "source": [
    "netzero1_hourly[\"Timestamp\"] = pd.to_datetime(netzero1_hourly[\"Timestamp\"], format=\"%Y-%m-%d %H:%M:%S%z\")"
   ],
   "metadata": {
    "collapsed": false,
    "pycharm": {
     "name": "#%%\n"
    }
   }
  },
  {
   "cell_type": "code",
   "execution_count": 45,
   "outputs": [
    {
     "data": {
      "text/plain": "                    Timestamp  TimeStamp_Count  DHW_ClothesWasherColdFlow  \\\n0   2013-07-01 00:01:14-04:00                1                        0.0   \n1   2013-07-01 00:02:14-04:00                2                        0.0   \n2   2013-07-01 00:03:14-04:00                3                        0.0   \n3   2013-07-01 00:04:14-04:00                4                        0.0   \n4   2013-07-01 00:05:14-04:00                5                        0.0   \n5   2013-07-01 00:06:14-04:00                6                        0.0   \n6   2013-07-01 00:07:14-04:00                7                        0.0   \n7   2013-07-01 00:08:14-04:00                8                        0.0   \n8   2013-07-01 00:09:14-04:00                9                        0.0   \n9   2013-07-01 00:10:14-04:00               10                        0.0   \n10  2013-07-01 00:11:14-04:00               11                        0.0   \n11  2013-07-01 00:12:14-04:00               12                        0.0   \n12  2013-07-01 00:13:14-04:00               13                        0.0   \n13  2013-07-01 00:14:14-04:00               14                        0.0   \n14  2013-07-01 00:15:14-04:00               15                        0.0   \n15  2013-07-01 00:16:14-04:00               16                        0.0   \n16  2013-07-01 00:17:14-04:00               17                        0.0   \n17  2013-07-01 00:18:14-04:00               18                        0.0   \n18  2013-07-01 00:19:14-04:00               19                        0.0   \n19  2013-07-01 00:20:14-04:00               20                        0.0   \n20  2013-07-01 00:21:14-04:00               21                        0.0   \n21  2013-07-01 00:22:14-04:00               22                        0.0   \n22  2013-07-01 00:23:14-04:00               23                        0.0   \n23  2013-07-01 00:24:14-04:00               24                        0.0   \n24  2013-07-01 00:25:14-04:00               25                        0.0   \n25  2013-07-01 00:26:14-04:00               26                        0.0   \n26  2013-07-01 00:27:14-04:00               27                        0.0   \n27  2013-07-01 00:28:14-04:00               28                        0.0   \n28  2013-07-01 00:29:14-04:00               29                        0.0   \n29  2013-07-01 00:30:15-04:00               30                        0.0   \n30  2013-07-01 00:31:15-04:00               31                        0.0   \n31  2013-07-01 00:32:15-04:00               32                        0.0   \n32  2013-07-01 00:33:15-04:00               33                        0.0   \n33  2013-07-01 00:34:15-04:00               34                        0.0   \n34  2013-07-01 00:35:15-04:00               35                        0.0   \n35  2013-07-01 00:36:15-04:00               36                        0.0   \n36  2013-07-01 00:37:15-04:00               37                        0.0   \n37  2013-07-01 00:38:15-04:00               38                        0.0   \n38  2013-07-01 00:39:15-04:00               39                        0.0   \n39  2013-07-01 00:40:15-04:00               40                        0.0   \n40  2013-07-01 00:41:15-04:00               41                        0.0   \n41  2013-07-01 00:42:15-04:00               42                        0.0   \n42  2013-07-01 00:43:15-04:00               43                        0.0   \n43  2013-07-01 00:44:15-04:00               44                        0.0   \n44  2013-07-01 00:45:15-04:00               45                        0.0   \n45  2013-07-01 00:46:15-04:00               46                        0.0   \n46  2013-07-01 00:47:15-04:00               47                        0.0   \n47  2013-07-01 00:48:15-04:00               48                        0.0   \n48  2013-07-01 00:49:15-04:00               49                        0.0   \n49  2013-07-01 00:50:15-04:00               50                        0.0   \n50  2013-07-01 00:51:15-04:00               51                        0.0   \n\n    DHW_ClothesWasherHotFlow  DHW_DishwasherHotFlow  \\\n0                        0.0                    0.0   \n1                        0.0                    0.0   \n2                        0.0                    0.0   \n3                        0.0                    0.0   \n4                        0.0                    0.0   \n5                        0.0                    0.0   \n6                        0.0                    0.0   \n7                        0.0                    0.0   \n8                        0.0                    0.0   \n9                        0.0                    0.0   \n10                       0.0                    0.0   \n11                       0.0                    0.0   \n12                       0.0                    0.0   \n13                       0.0                    0.0   \n14                       0.0                    0.0   \n15                       0.0                    0.0   \n16                       0.0                    0.0   \n17                       0.0                    0.0   \n18                       0.0                    0.0   \n19                       0.0                    0.0   \n20                       0.0                    0.0   \n21                       0.0                    0.0   \n22                       0.0                    0.0   \n23                       0.0                    0.0   \n24                       0.0                    0.0   \n25                       0.0                    0.0   \n26                       0.0                    0.0   \n27                       0.0                    0.0   \n28                       0.0                    0.0   \n29                       0.0                    0.0   \n30                       0.0                    0.0   \n31                       0.0                    0.0   \n32                       0.0                    0.0   \n33                       0.0                    0.0   \n34                       0.0                    0.0   \n35                       0.0                    0.0   \n36                       0.0                    0.0   \n37                       0.0                    0.0   \n38                       0.0                    0.0   \n39                       0.0                    0.0   \n40                       0.0                    0.0   \n41                       0.0                    0.0   \n42                       0.0                    0.0   \n43                       0.0                    0.0   \n44                       0.0                    0.0   \n45                       0.0                    0.0   \n46                       0.0                    0.0   \n47                       0.0                    0.0   \n48                       0.0                    0.0   \n49                       0.0                    0.0   \n50                       0.0                    0.0   \n\n    DHW_HeatPumpWaterHeaterEnergyTotal  DHW_HeatPumpWaterHeaterPowerTotal  \\\n0                                0.000                               6.92   \n1                                0.132                               6.92   \n2                                0.264                               6.92   \n3                                0.396                               6.92   \n4                                0.528                               6.92   \n5                                0.660                               6.92   \n6                                0.792                               6.92   \n7                                0.924                               6.92   \n8                                1.056                               6.92   \n9                                1.188                               6.92   \n10                               1.320                               6.92   \n11                               1.452                               6.92   \n12                               1.584                               6.92   \n13                               1.716                               6.92   \n14                               1.848                               6.92   \n15                               1.980                               6.92   \n16                               2.112                               6.92   \n17                               2.244                               6.92   \n18                               2.376                               6.92   \n19                               2.508                               6.92   \n20                               2.640                               6.92   \n21                               2.772                               6.92   \n22                               2.904                               6.92   \n23                               3.036                               6.92   \n24                               3.168                               6.92   \n25                               3.300                               6.92   \n26                               3.432                               6.92   \n27                               3.564                               6.92   \n28                               3.696                               6.92   \n29                               3.828                               6.92   \n30                               3.960                               6.92   \n31                               4.092                               6.92   \n32                               4.224                               6.92   \n33                               4.356                               6.92   \n34                               4.488                               6.92   \n35                               4.620                               6.92   \n36                               4.752                               6.92   \n37                               4.884                               6.92   \n38                               5.016                               6.92   \n39                               5.148                               6.92   \n40                               5.280                               6.92   \n41                               5.412                               6.92   \n42                               5.544                               6.92   \n43                               5.676                               6.92   \n44                               5.808                               6.92   \n45                               5.940                               6.92   \n46                               6.072                               6.92   \n47                               6.204                               6.92   \n48                               6.336                               6.92   \n49                               6.468                               6.92   \n50                               6.600                               6.92   \n\n    DHW_ManifoldColdFlow  DHW_ManifoldHotFlow  DHW_MixValveColdFlow  ...  \\\n0                    0.0                  0.0                   0.0  ...   \n1                    0.0                  0.0                   0.0  ...   \n2                    0.0                  0.0                   0.0  ...   \n3                    0.0                  0.0                   0.0  ...   \n4                    0.0                  0.0                   0.0  ...   \n5                    0.0                  0.0                   0.0  ...   \n6                    0.0                  0.0                   0.0  ...   \n7                    0.0                  0.0                   0.0  ...   \n8                    0.0                  0.0                   0.0  ...   \n9                    0.0                  0.0                   0.0  ...   \n10                   0.0                  0.0                   0.0  ...   \n11                   0.0                  0.0                   0.0  ...   \n12                   0.0                  0.0                   0.0  ...   \n13                   0.0                  0.0                   0.0  ...   \n14                   0.0                  0.0                   0.0  ...   \n15                   0.0                  0.0                   0.0  ...   \n16                   0.0                  0.0                   0.0  ...   \n17                   0.0                  0.0                   0.0  ...   \n18                   0.0                  0.0                   0.0  ...   \n19                   0.0                  0.0                   0.0  ...   \n20                   0.0                  0.0                   0.0  ...   \n21                   0.0                  0.0                   0.0  ...   \n22                   0.0                  0.0                   0.0  ...   \n23                   0.0                  0.0                   0.0  ...   \n24                   0.0                  0.0                   0.0  ...   \n25                   0.0                  0.0                   0.0  ...   \n26                   0.0                  0.0                   0.0  ...   \n27                   0.0                  0.0                   0.0  ...   \n28                   0.0                  0.0                   0.0  ...   \n29                   0.0                  0.0                   0.0  ...   \n30                   0.0                  0.0                   0.0  ...   \n31                   0.0                  0.0                   0.0  ...   \n32                   0.0                  0.0                   0.0  ...   \n33                   0.0                  0.0                   0.0  ...   \n34                   0.0                  0.0                   0.0  ...   \n35                   0.0                  0.0                   0.0  ...   \n36                   0.0                  0.0                   0.0  ...   \n37                   0.0                  0.0                   0.0  ...   \n38                   0.0                  0.0                   0.0  ...   \n39                   0.0                  0.0                   0.0  ...   \n40                   0.0                  0.0                   0.0  ...   \n41                   0.0                  0.0                   0.0  ...   \n42                   0.0                  0.0                   0.0  ...   \n43                   0.0                  0.0                   0.0  ...   \n44                   0.0                  0.0                   0.0  ...   \n45                   0.0                  0.0                   0.0  ...   \n46                   0.0                  0.0                   0.0  ...   \n47                   0.0                  0.0                   0.0  ...   \n48                   0.0                  0.0                   0.0  ...   \n49                   0.0                  0.0                   0.0  ...   \n50                   0.0                  0.0                   0.0  ...   \n\n    Vent_HRVTempReturnIn  Vent_HRVTempSupplyOut  \\\n0              22.552117              23.758415   \n1              22.523656              23.737489   \n2              22.539345              23.742217   \n3              22.539554              23.727526   \n4              22.506425              23.705258   \n5              22.491386              23.715523   \n6              22.526583              23.697305   \n7              22.469212              23.691279   \n8              22.466588              23.667564   \n9              22.453474              23.688705   \n10             22.421337              23.690771   \n11             22.464743              23.668859   \n12             22.407319              23.679281   \n13             22.387265              23.635650   \n14             22.384515              23.645179   \n15             22.371775              23.603940   \n16             22.354140              23.613393   \n17             22.365583              23.553544   \n18             22.339008              23.565305   \n19             22.299130              23.525087   \n20             22.322354              23.513862   \n21             22.330689              23.494118   \n22             22.332751              23.493321   \n23             22.324306              23.471229   \n24             22.336896              23.491187   \n25             22.333535              23.493027   \n26             22.352900              23.520604   \n27             22.341194              23.504160   \n28             22.346492              23.499238   \n29             22.349913              23.504771   \n30             22.380206              23.501231   \n31             22.381730              23.543352   \n32             22.346331              23.520784   \n33             22.393834              23.544302   \n34             22.408248              23.557693   \n35             22.373044              23.571646   \n36             22.394265              23.526733   \n37             22.441513              23.547095   \n38             22.405996              23.554081   \n39             22.382458              23.605813   \n40             22.369145              23.574265   \n41             22.365170              23.621659   \n42             22.395897              23.590338   \n43             22.404867              23.623916   \n44             22.404151              23.663178   \n45             22.369177              23.664286   \n46             22.351822              23.656958   \n47             22.359156              23.664336   \n48             22.356586              23.638478   \n49             22.379202              23.613289   \n50             22.353725              23.594557   \n\n    Vent_HRVfreshairpressuredifferential  \\\n0                                    NaN   \n1                                    NaN   \n2                                    NaN   \n3                                    NaN   \n4                                    NaN   \n5                                    NaN   \n6                                    NaN   \n7                                    NaN   \n8                                    NaN   \n9                                    NaN   \n10                                   NaN   \n11                                   NaN   \n12                                   NaN   \n13                                   NaN   \n14                                   NaN   \n15                                   NaN   \n16                                   NaN   \n17                                   NaN   \n18                                   NaN   \n19                                   NaN   \n20                                   NaN   \n21                                   NaN   \n22                                   NaN   \n23                                   NaN   \n24                                   NaN   \n25                                   NaN   \n26                                   NaN   \n27                                   NaN   \n28                                   NaN   \n29                                   NaN   \n30                                   NaN   \n31                                   NaN   \n32                                   NaN   \n33                                   NaN   \n34                                   NaN   \n35                                   NaN   \n36                                   NaN   \n37                                   NaN   \n38                                   NaN   \n39                                   NaN   \n40                                   NaN   \n41                                   NaN   \n42                                   NaN   \n43                                   NaN   \n44                                   NaN   \n45                                   NaN   \n46                                   NaN   \n47                                   NaN   \n48                                   NaN   \n49                                   NaN   \n50                                   NaN   \n\n    Vent_HRVstaleairpressuredifferential  HVAC_HeatPumpIndoorUnitPower  \\\n0                                    NaN                      125.4000   \n1                                    NaN                      127.0400   \n2                                    NaN                      153.3050   \n3                                    NaN                      143.4575   \n4                                    NaN                      141.8150   \n5                                    NaN                      146.7400   \n6                                    NaN                      145.9175   \n7                                    NaN                      152.4850   \n8                                    NaN                      161.5125   \n9                                    NaN                      156.5875   \n10                                   NaN                      140.9950   \n11                                   NaN                      160.6925   \n12                                   NaN                      138.5325   \n13                                   NaN                      190.2400   \n14                                   NaN                      168.0800   \n15                                   NaN                      105.7025   \n16                                   NaN                       25.2675   \n17                                   NaN                        2.2850   \n18                                   NaN                        8.8525   \n19                                   NaN                        5.5700   \n20                                   NaN                       17.8800   \n21                                   NaN                       17.0600   \n22                                   NaN                       20.3425   \n23                                   NaN                       13.7775   \n24                                   NaN                        5.5700   \n25                                   NaN                        0.0000   \n26                                   NaN                       18.7000   \n27                                   NaN                       21.1625   \n28                                   NaN                       10.4925   \n29                                   NaN                        7.2100   \n30                                   NaN                        7.2100   \n31                                   NaN                        7.2100   \n32                                   NaN                        8.0325   \n33                                   NaN                       16.2400   \n34                                   NaN                       13.7775   \n35                                   NaN                       22.8050   \n36                                   NaN                      143.4575   \n37                                   NaN                      150.0225   \n38                                   NaN                      164.7950   \n39                                   NaN                      137.7100   \n40                                   NaN                      140.1725   \n41                                   NaN                      140.9950   \n42                                   NaN                      142.6350   \n43                                   NaN                      121.2950   \n44                                   NaN                      123.7575   \n45                                   NaN                      138.5325   \n46                                   NaN                      126.2200   \n47                                   NaN                      133.6075   \n48                                   NaN                      115.5500   \n49                                   NaN                      138.5325   \n50                                   NaN                      115.5500   \n\n    HVAC_HeatPumpOutdoorUnitPower  HVAC_DehumidifierAirflow  \\\n0                        922.6568                       NaN   \n1                        919.2424                       NaN   \n2                        920.8184                       NaN   \n3                        922.3944                       NaN   \n4                        925.2832                       NaN   \n5                        932.9000                       NaN   \n6                        928.1728                       NaN   \n7                        950.4968                       NaN   \n8                        956.0128                       NaN   \n9                        946.2952                       NaN   \n10                       949.7096                       NaN   \n11                       969.1448                       NaN   \n12                       969.1448                       NaN   \n13                       975.1856                       NaN   \n14                       958.1136                       NaN   \n15                        40.9664                       NaN   \n16                        40.1784                       NaN   \n17                        38.6024                       NaN   \n18                        40.1784                       NaN   \n19                        39.3904                       NaN   \n20                        41.2288                       NaN   \n21                        38.0768                       NaN   \n22                        39.1272                       NaN   \n23                        40.7032                       NaN   \n24                        39.3904                       NaN   \n25                        39.9152                       NaN   \n26                        39.3904                       NaN   \n27                        38.0768                       NaN   \n28                        39.9152                       NaN   \n29                        39.1272                       NaN   \n30                        39.6528                       NaN   \n31                        40.1784                       NaN   \n32                        37.2888                       NaN   \n33                        40.1784                       NaN   \n34                        39.3904                       NaN   \n35                        39.9152                       NaN   \n36                      1455.0336                       NaN   \n37                      1451.6192                       NaN   \n38                      1619.1848                       NaN   \n39                      1440.8504                       NaN   \n40                      1394.6256                       NaN   \n41                      1448.9928                       NaN   \n42                      1281.4264                       NaN   \n43                      1385.1704                       NaN   \n44                      1566.3936                       NaN   \n45                      1249.1216                       NaN   \n46                      1437.1736                       NaN   \n47                      1437.6992                       NaN   \n48                      1285.3664                       NaN   \n49                      1521.4824                       NaN   \n50                      1351.2896                       NaN   \n\n    HVAC_DehumidifierExitAirTemp  HVAC_DehumidifierInletAirTemp  \\\n0                            NaN                            NaN   \n1                            NaN                            NaN   \n2                            NaN                            NaN   \n3                            NaN                            NaN   \n4                            NaN                            NaN   \n5                            NaN                            NaN   \n6                            NaN                            NaN   \n7                            NaN                            NaN   \n8                            NaN                            NaN   \n9                            NaN                            NaN   \n10                           NaN                            NaN   \n11                           NaN                            NaN   \n12                           NaN                            NaN   \n13                           NaN                            NaN   \n14                           NaN                            NaN   \n15                           NaN                            NaN   \n16                           NaN                            NaN   \n17                           NaN                            NaN   \n18                           NaN                            NaN   \n19                           NaN                            NaN   \n20                           NaN                            NaN   \n21                           NaN                            NaN   \n22                           NaN                            NaN   \n23                           NaN                            NaN   \n24                           NaN                            NaN   \n25                           NaN                            NaN   \n26                           NaN                            NaN   \n27                           NaN                            NaN   \n28                           NaN                            NaN   \n29                           NaN                            NaN   \n30                           NaN                            NaN   \n31                           NaN                            NaN   \n32                           NaN                            NaN   \n33                           NaN                            NaN   \n34                           NaN                            NaN   \n35                           NaN                            NaN   \n36                           NaN                            NaN   \n37                           NaN                            NaN   \n38                           NaN                            NaN   \n39                           NaN                            NaN   \n40                           NaN                            NaN   \n41                           NaN                            NaN   \n42                           NaN                            NaN   \n43                           NaN                            NaN   \n44                           NaN                            NaN   \n45                           NaN                            NaN   \n46                           NaN                            NaN   \n47                           NaN                            NaN   \n48                           NaN                            NaN   \n49                           NaN                            NaN   \n50                           NaN                            NaN   \n\n    HVAC_DehumidifierPower  \n0                      NaN  \n1                      NaN  \n2                      NaN  \n3                      NaN  \n4                      NaN  \n5                      NaN  \n6                      NaN  \n7                      NaN  \n8                      NaN  \n9                      NaN  \n10                     NaN  \n11                     NaN  \n12                     NaN  \n13                     NaN  \n14                     NaN  \n15                     NaN  \n16                     NaN  \n17                     NaN  \n18                     NaN  \n19                     NaN  \n20                     NaN  \n21                     NaN  \n22                     NaN  \n23                     NaN  \n24                     NaN  \n25                     NaN  \n26                     NaN  \n27                     NaN  \n28                     NaN  \n29                     NaN  \n30                     NaN  \n31                     NaN  \n32                     NaN  \n33                     NaN  \n34                     NaN  \n35                     NaN  \n36                     NaN  \n37                     NaN  \n38                     NaN  \n39                     NaN  \n40                     NaN  \n41                     NaN  \n42                     NaN  \n43                     NaN  \n44                     NaN  \n45                     NaN  \n46                     NaN  \n47                     NaN  \n48                     NaN  \n49                     NaN  \n50                     NaN  \n\n[51 rows x 358 columns]",
      "text/html": "<div>\n<style scoped>\n    .dataframe tbody tr th:only-of-type {\n        vertical-align: middle;\n    }\n\n    .dataframe tbody tr th {\n        vertical-align: top;\n    }\n\n    .dataframe thead th {\n        text-align: right;\n    }\n</style>\n<table border=\"1\" class=\"dataframe\">\n  <thead>\n    <tr style=\"text-align: right;\">\n      <th></th>\n      <th>Timestamp</th>\n      <th>TimeStamp_Count</th>\n      <th>DHW_ClothesWasherColdFlow</th>\n      <th>DHW_ClothesWasherHotFlow</th>\n      <th>DHW_DishwasherHotFlow</th>\n      <th>DHW_HeatPumpWaterHeaterEnergyTotal</th>\n      <th>DHW_HeatPumpWaterHeaterPowerTotal</th>\n      <th>DHW_ManifoldColdFlow</th>\n      <th>DHW_ManifoldHotFlow</th>\n      <th>DHW_MixValveColdFlow</th>\n      <th>...</th>\n      <th>Vent_HRVTempReturnIn</th>\n      <th>Vent_HRVTempSupplyOut</th>\n      <th>Vent_HRVfreshairpressuredifferential</th>\n      <th>Vent_HRVstaleairpressuredifferential</th>\n      <th>HVAC_HeatPumpIndoorUnitPower</th>\n      <th>HVAC_HeatPumpOutdoorUnitPower</th>\n      <th>HVAC_DehumidifierAirflow</th>\n      <th>HVAC_DehumidifierExitAirTemp</th>\n      <th>HVAC_DehumidifierInletAirTemp</th>\n      <th>HVAC_DehumidifierPower</th>\n    </tr>\n  </thead>\n  <tbody>\n    <tr>\n      <th>0</th>\n      <td>2013-07-01 00:01:14-04:00</td>\n      <td>1</td>\n      <td>0.0</td>\n      <td>0.0</td>\n      <td>0.0</td>\n      <td>0.000</td>\n      <td>6.92</td>\n      <td>0.0</td>\n      <td>0.0</td>\n      <td>0.0</td>\n      <td>...</td>\n      <td>22.552117</td>\n      <td>23.758415</td>\n      <td>NaN</td>\n      <td>NaN</td>\n      <td>125.4000</td>\n      <td>922.6568</td>\n      <td>NaN</td>\n      <td>NaN</td>\n      <td>NaN</td>\n      <td>NaN</td>\n    </tr>\n    <tr>\n      <th>1</th>\n      <td>2013-07-01 00:02:14-04:00</td>\n      <td>2</td>\n      <td>0.0</td>\n      <td>0.0</td>\n      <td>0.0</td>\n      <td>0.132</td>\n      <td>6.92</td>\n      <td>0.0</td>\n      <td>0.0</td>\n      <td>0.0</td>\n      <td>...</td>\n      <td>22.523656</td>\n      <td>23.737489</td>\n      <td>NaN</td>\n      <td>NaN</td>\n      <td>127.0400</td>\n      <td>919.2424</td>\n      <td>NaN</td>\n      <td>NaN</td>\n      <td>NaN</td>\n      <td>NaN</td>\n    </tr>\n    <tr>\n      <th>2</th>\n      <td>2013-07-01 00:03:14-04:00</td>\n      <td>3</td>\n      <td>0.0</td>\n      <td>0.0</td>\n      <td>0.0</td>\n      <td>0.264</td>\n      <td>6.92</td>\n      <td>0.0</td>\n      <td>0.0</td>\n      <td>0.0</td>\n      <td>...</td>\n      <td>22.539345</td>\n      <td>23.742217</td>\n      <td>NaN</td>\n      <td>NaN</td>\n      <td>153.3050</td>\n      <td>920.8184</td>\n      <td>NaN</td>\n      <td>NaN</td>\n      <td>NaN</td>\n      <td>NaN</td>\n    </tr>\n    <tr>\n      <th>3</th>\n      <td>2013-07-01 00:04:14-04:00</td>\n      <td>4</td>\n      <td>0.0</td>\n      <td>0.0</td>\n      <td>0.0</td>\n      <td>0.396</td>\n      <td>6.92</td>\n      <td>0.0</td>\n      <td>0.0</td>\n      <td>0.0</td>\n      <td>...</td>\n      <td>22.539554</td>\n      <td>23.727526</td>\n      <td>NaN</td>\n      <td>NaN</td>\n      <td>143.4575</td>\n      <td>922.3944</td>\n      <td>NaN</td>\n      <td>NaN</td>\n      <td>NaN</td>\n      <td>NaN</td>\n    </tr>\n    <tr>\n      <th>4</th>\n      <td>2013-07-01 00:05:14-04:00</td>\n      <td>5</td>\n      <td>0.0</td>\n      <td>0.0</td>\n      <td>0.0</td>\n      <td>0.528</td>\n      <td>6.92</td>\n      <td>0.0</td>\n      <td>0.0</td>\n      <td>0.0</td>\n      <td>...</td>\n      <td>22.506425</td>\n      <td>23.705258</td>\n      <td>NaN</td>\n      <td>NaN</td>\n      <td>141.8150</td>\n      <td>925.2832</td>\n      <td>NaN</td>\n      <td>NaN</td>\n      <td>NaN</td>\n      <td>NaN</td>\n    </tr>\n    <tr>\n      <th>5</th>\n      <td>2013-07-01 00:06:14-04:00</td>\n      <td>6</td>\n      <td>0.0</td>\n      <td>0.0</td>\n      <td>0.0</td>\n      <td>0.660</td>\n      <td>6.92</td>\n      <td>0.0</td>\n      <td>0.0</td>\n      <td>0.0</td>\n      <td>...</td>\n      <td>22.491386</td>\n      <td>23.715523</td>\n      <td>NaN</td>\n      <td>NaN</td>\n      <td>146.7400</td>\n      <td>932.9000</td>\n      <td>NaN</td>\n      <td>NaN</td>\n      <td>NaN</td>\n      <td>NaN</td>\n    </tr>\n    <tr>\n      <th>6</th>\n      <td>2013-07-01 00:07:14-04:00</td>\n      <td>7</td>\n      <td>0.0</td>\n      <td>0.0</td>\n      <td>0.0</td>\n      <td>0.792</td>\n      <td>6.92</td>\n      <td>0.0</td>\n      <td>0.0</td>\n      <td>0.0</td>\n      <td>...</td>\n      <td>22.526583</td>\n      <td>23.697305</td>\n      <td>NaN</td>\n      <td>NaN</td>\n      <td>145.9175</td>\n      <td>928.1728</td>\n      <td>NaN</td>\n      <td>NaN</td>\n      <td>NaN</td>\n      <td>NaN</td>\n    </tr>\n    <tr>\n      <th>7</th>\n      <td>2013-07-01 00:08:14-04:00</td>\n      <td>8</td>\n      <td>0.0</td>\n      <td>0.0</td>\n      <td>0.0</td>\n      <td>0.924</td>\n      <td>6.92</td>\n      <td>0.0</td>\n      <td>0.0</td>\n      <td>0.0</td>\n      <td>...</td>\n      <td>22.469212</td>\n      <td>23.691279</td>\n      <td>NaN</td>\n      <td>NaN</td>\n      <td>152.4850</td>\n      <td>950.4968</td>\n      <td>NaN</td>\n      <td>NaN</td>\n      <td>NaN</td>\n      <td>NaN</td>\n    </tr>\n    <tr>\n      <th>8</th>\n      <td>2013-07-01 00:09:14-04:00</td>\n      <td>9</td>\n      <td>0.0</td>\n      <td>0.0</td>\n      <td>0.0</td>\n      <td>1.056</td>\n      <td>6.92</td>\n      <td>0.0</td>\n      <td>0.0</td>\n      <td>0.0</td>\n      <td>...</td>\n      <td>22.466588</td>\n      <td>23.667564</td>\n      <td>NaN</td>\n      <td>NaN</td>\n      <td>161.5125</td>\n      <td>956.0128</td>\n      <td>NaN</td>\n      <td>NaN</td>\n      <td>NaN</td>\n      <td>NaN</td>\n    </tr>\n    <tr>\n      <th>9</th>\n      <td>2013-07-01 00:10:14-04:00</td>\n      <td>10</td>\n      <td>0.0</td>\n      <td>0.0</td>\n      <td>0.0</td>\n      <td>1.188</td>\n      <td>6.92</td>\n      <td>0.0</td>\n      <td>0.0</td>\n      <td>0.0</td>\n      <td>...</td>\n      <td>22.453474</td>\n      <td>23.688705</td>\n      <td>NaN</td>\n      <td>NaN</td>\n      <td>156.5875</td>\n      <td>946.2952</td>\n      <td>NaN</td>\n      <td>NaN</td>\n      <td>NaN</td>\n      <td>NaN</td>\n    </tr>\n    <tr>\n      <th>10</th>\n      <td>2013-07-01 00:11:14-04:00</td>\n      <td>11</td>\n      <td>0.0</td>\n      <td>0.0</td>\n      <td>0.0</td>\n      <td>1.320</td>\n      <td>6.92</td>\n      <td>0.0</td>\n      <td>0.0</td>\n      <td>0.0</td>\n      <td>...</td>\n      <td>22.421337</td>\n      <td>23.690771</td>\n      <td>NaN</td>\n      <td>NaN</td>\n      <td>140.9950</td>\n      <td>949.7096</td>\n      <td>NaN</td>\n      <td>NaN</td>\n      <td>NaN</td>\n      <td>NaN</td>\n    </tr>\n    <tr>\n      <th>11</th>\n      <td>2013-07-01 00:12:14-04:00</td>\n      <td>12</td>\n      <td>0.0</td>\n      <td>0.0</td>\n      <td>0.0</td>\n      <td>1.452</td>\n      <td>6.92</td>\n      <td>0.0</td>\n      <td>0.0</td>\n      <td>0.0</td>\n      <td>...</td>\n      <td>22.464743</td>\n      <td>23.668859</td>\n      <td>NaN</td>\n      <td>NaN</td>\n      <td>160.6925</td>\n      <td>969.1448</td>\n      <td>NaN</td>\n      <td>NaN</td>\n      <td>NaN</td>\n      <td>NaN</td>\n    </tr>\n    <tr>\n      <th>12</th>\n      <td>2013-07-01 00:13:14-04:00</td>\n      <td>13</td>\n      <td>0.0</td>\n      <td>0.0</td>\n      <td>0.0</td>\n      <td>1.584</td>\n      <td>6.92</td>\n      <td>0.0</td>\n      <td>0.0</td>\n      <td>0.0</td>\n      <td>...</td>\n      <td>22.407319</td>\n      <td>23.679281</td>\n      <td>NaN</td>\n      <td>NaN</td>\n      <td>138.5325</td>\n      <td>969.1448</td>\n      <td>NaN</td>\n      <td>NaN</td>\n      <td>NaN</td>\n      <td>NaN</td>\n    </tr>\n    <tr>\n      <th>13</th>\n      <td>2013-07-01 00:14:14-04:00</td>\n      <td>14</td>\n      <td>0.0</td>\n      <td>0.0</td>\n      <td>0.0</td>\n      <td>1.716</td>\n      <td>6.92</td>\n      <td>0.0</td>\n      <td>0.0</td>\n      <td>0.0</td>\n      <td>...</td>\n      <td>22.387265</td>\n      <td>23.635650</td>\n      <td>NaN</td>\n      <td>NaN</td>\n      <td>190.2400</td>\n      <td>975.1856</td>\n      <td>NaN</td>\n      <td>NaN</td>\n      <td>NaN</td>\n      <td>NaN</td>\n    </tr>\n    <tr>\n      <th>14</th>\n      <td>2013-07-01 00:15:14-04:00</td>\n      <td>15</td>\n      <td>0.0</td>\n      <td>0.0</td>\n      <td>0.0</td>\n      <td>1.848</td>\n      <td>6.92</td>\n      <td>0.0</td>\n      <td>0.0</td>\n      <td>0.0</td>\n      <td>...</td>\n      <td>22.384515</td>\n      <td>23.645179</td>\n      <td>NaN</td>\n      <td>NaN</td>\n      <td>168.0800</td>\n      <td>958.1136</td>\n      <td>NaN</td>\n      <td>NaN</td>\n      <td>NaN</td>\n      <td>NaN</td>\n    </tr>\n    <tr>\n      <th>15</th>\n      <td>2013-07-01 00:16:14-04:00</td>\n      <td>16</td>\n      <td>0.0</td>\n      <td>0.0</td>\n      <td>0.0</td>\n      <td>1.980</td>\n      <td>6.92</td>\n      <td>0.0</td>\n      <td>0.0</td>\n      <td>0.0</td>\n      <td>...</td>\n      <td>22.371775</td>\n      <td>23.603940</td>\n      <td>NaN</td>\n      <td>NaN</td>\n      <td>105.7025</td>\n      <td>40.9664</td>\n      <td>NaN</td>\n      <td>NaN</td>\n      <td>NaN</td>\n      <td>NaN</td>\n    </tr>\n    <tr>\n      <th>16</th>\n      <td>2013-07-01 00:17:14-04:00</td>\n      <td>17</td>\n      <td>0.0</td>\n      <td>0.0</td>\n      <td>0.0</td>\n      <td>2.112</td>\n      <td>6.92</td>\n      <td>0.0</td>\n      <td>0.0</td>\n      <td>0.0</td>\n      <td>...</td>\n      <td>22.354140</td>\n      <td>23.613393</td>\n      <td>NaN</td>\n      <td>NaN</td>\n      <td>25.2675</td>\n      <td>40.1784</td>\n      <td>NaN</td>\n      <td>NaN</td>\n      <td>NaN</td>\n      <td>NaN</td>\n    </tr>\n    <tr>\n      <th>17</th>\n      <td>2013-07-01 00:18:14-04:00</td>\n      <td>18</td>\n      <td>0.0</td>\n      <td>0.0</td>\n      <td>0.0</td>\n      <td>2.244</td>\n      <td>6.92</td>\n      <td>0.0</td>\n      <td>0.0</td>\n      <td>0.0</td>\n      <td>...</td>\n      <td>22.365583</td>\n      <td>23.553544</td>\n      <td>NaN</td>\n      <td>NaN</td>\n      <td>2.2850</td>\n      <td>38.6024</td>\n      <td>NaN</td>\n      <td>NaN</td>\n      <td>NaN</td>\n      <td>NaN</td>\n    </tr>\n    <tr>\n      <th>18</th>\n      <td>2013-07-01 00:19:14-04:00</td>\n      <td>19</td>\n      <td>0.0</td>\n      <td>0.0</td>\n      <td>0.0</td>\n      <td>2.376</td>\n      <td>6.92</td>\n      <td>0.0</td>\n      <td>0.0</td>\n      <td>0.0</td>\n      <td>...</td>\n      <td>22.339008</td>\n      <td>23.565305</td>\n      <td>NaN</td>\n      <td>NaN</td>\n      <td>8.8525</td>\n      <td>40.1784</td>\n      <td>NaN</td>\n      <td>NaN</td>\n      <td>NaN</td>\n      <td>NaN</td>\n    </tr>\n    <tr>\n      <th>19</th>\n      <td>2013-07-01 00:20:14-04:00</td>\n      <td>20</td>\n      <td>0.0</td>\n      <td>0.0</td>\n      <td>0.0</td>\n      <td>2.508</td>\n      <td>6.92</td>\n      <td>0.0</td>\n      <td>0.0</td>\n      <td>0.0</td>\n      <td>...</td>\n      <td>22.299130</td>\n      <td>23.525087</td>\n      <td>NaN</td>\n      <td>NaN</td>\n      <td>5.5700</td>\n      <td>39.3904</td>\n      <td>NaN</td>\n      <td>NaN</td>\n      <td>NaN</td>\n      <td>NaN</td>\n    </tr>\n    <tr>\n      <th>20</th>\n      <td>2013-07-01 00:21:14-04:00</td>\n      <td>21</td>\n      <td>0.0</td>\n      <td>0.0</td>\n      <td>0.0</td>\n      <td>2.640</td>\n      <td>6.92</td>\n      <td>0.0</td>\n      <td>0.0</td>\n      <td>0.0</td>\n      <td>...</td>\n      <td>22.322354</td>\n      <td>23.513862</td>\n      <td>NaN</td>\n      <td>NaN</td>\n      <td>17.8800</td>\n      <td>41.2288</td>\n      <td>NaN</td>\n      <td>NaN</td>\n      <td>NaN</td>\n      <td>NaN</td>\n    </tr>\n    <tr>\n      <th>21</th>\n      <td>2013-07-01 00:22:14-04:00</td>\n      <td>22</td>\n      <td>0.0</td>\n      <td>0.0</td>\n      <td>0.0</td>\n      <td>2.772</td>\n      <td>6.92</td>\n      <td>0.0</td>\n      <td>0.0</td>\n      <td>0.0</td>\n      <td>...</td>\n      <td>22.330689</td>\n      <td>23.494118</td>\n      <td>NaN</td>\n      <td>NaN</td>\n      <td>17.0600</td>\n      <td>38.0768</td>\n      <td>NaN</td>\n      <td>NaN</td>\n      <td>NaN</td>\n      <td>NaN</td>\n    </tr>\n    <tr>\n      <th>22</th>\n      <td>2013-07-01 00:23:14-04:00</td>\n      <td>23</td>\n      <td>0.0</td>\n      <td>0.0</td>\n      <td>0.0</td>\n      <td>2.904</td>\n      <td>6.92</td>\n      <td>0.0</td>\n      <td>0.0</td>\n      <td>0.0</td>\n      <td>...</td>\n      <td>22.332751</td>\n      <td>23.493321</td>\n      <td>NaN</td>\n      <td>NaN</td>\n      <td>20.3425</td>\n      <td>39.1272</td>\n      <td>NaN</td>\n      <td>NaN</td>\n      <td>NaN</td>\n      <td>NaN</td>\n    </tr>\n    <tr>\n      <th>23</th>\n      <td>2013-07-01 00:24:14-04:00</td>\n      <td>24</td>\n      <td>0.0</td>\n      <td>0.0</td>\n      <td>0.0</td>\n      <td>3.036</td>\n      <td>6.92</td>\n      <td>0.0</td>\n      <td>0.0</td>\n      <td>0.0</td>\n      <td>...</td>\n      <td>22.324306</td>\n      <td>23.471229</td>\n      <td>NaN</td>\n      <td>NaN</td>\n      <td>13.7775</td>\n      <td>40.7032</td>\n      <td>NaN</td>\n      <td>NaN</td>\n      <td>NaN</td>\n      <td>NaN</td>\n    </tr>\n    <tr>\n      <th>24</th>\n      <td>2013-07-01 00:25:14-04:00</td>\n      <td>25</td>\n      <td>0.0</td>\n      <td>0.0</td>\n      <td>0.0</td>\n      <td>3.168</td>\n      <td>6.92</td>\n      <td>0.0</td>\n      <td>0.0</td>\n      <td>0.0</td>\n      <td>...</td>\n      <td>22.336896</td>\n      <td>23.491187</td>\n      <td>NaN</td>\n      <td>NaN</td>\n      <td>5.5700</td>\n      <td>39.3904</td>\n      <td>NaN</td>\n      <td>NaN</td>\n      <td>NaN</td>\n      <td>NaN</td>\n    </tr>\n    <tr>\n      <th>25</th>\n      <td>2013-07-01 00:26:14-04:00</td>\n      <td>26</td>\n      <td>0.0</td>\n      <td>0.0</td>\n      <td>0.0</td>\n      <td>3.300</td>\n      <td>6.92</td>\n      <td>0.0</td>\n      <td>0.0</td>\n      <td>0.0</td>\n      <td>...</td>\n      <td>22.333535</td>\n      <td>23.493027</td>\n      <td>NaN</td>\n      <td>NaN</td>\n      <td>0.0000</td>\n      <td>39.9152</td>\n      <td>NaN</td>\n      <td>NaN</td>\n      <td>NaN</td>\n      <td>NaN</td>\n    </tr>\n    <tr>\n      <th>26</th>\n      <td>2013-07-01 00:27:14-04:00</td>\n      <td>27</td>\n      <td>0.0</td>\n      <td>0.0</td>\n      <td>0.0</td>\n      <td>3.432</td>\n      <td>6.92</td>\n      <td>0.0</td>\n      <td>0.0</td>\n      <td>0.0</td>\n      <td>...</td>\n      <td>22.352900</td>\n      <td>23.520604</td>\n      <td>NaN</td>\n      <td>NaN</td>\n      <td>18.7000</td>\n      <td>39.3904</td>\n      <td>NaN</td>\n      <td>NaN</td>\n      <td>NaN</td>\n      <td>NaN</td>\n    </tr>\n    <tr>\n      <th>27</th>\n      <td>2013-07-01 00:28:14-04:00</td>\n      <td>28</td>\n      <td>0.0</td>\n      <td>0.0</td>\n      <td>0.0</td>\n      <td>3.564</td>\n      <td>6.92</td>\n      <td>0.0</td>\n      <td>0.0</td>\n      <td>0.0</td>\n      <td>...</td>\n      <td>22.341194</td>\n      <td>23.504160</td>\n      <td>NaN</td>\n      <td>NaN</td>\n      <td>21.1625</td>\n      <td>38.0768</td>\n      <td>NaN</td>\n      <td>NaN</td>\n      <td>NaN</td>\n      <td>NaN</td>\n    </tr>\n    <tr>\n      <th>28</th>\n      <td>2013-07-01 00:29:14-04:00</td>\n      <td>29</td>\n      <td>0.0</td>\n      <td>0.0</td>\n      <td>0.0</td>\n      <td>3.696</td>\n      <td>6.92</td>\n      <td>0.0</td>\n      <td>0.0</td>\n      <td>0.0</td>\n      <td>...</td>\n      <td>22.346492</td>\n      <td>23.499238</td>\n      <td>NaN</td>\n      <td>NaN</td>\n      <td>10.4925</td>\n      <td>39.9152</td>\n      <td>NaN</td>\n      <td>NaN</td>\n      <td>NaN</td>\n      <td>NaN</td>\n    </tr>\n    <tr>\n      <th>29</th>\n      <td>2013-07-01 00:30:15-04:00</td>\n      <td>30</td>\n      <td>0.0</td>\n      <td>0.0</td>\n      <td>0.0</td>\n      <td>3.828</td>\n      <td>6.92</td>\n      <td>0.0</td>\n      <td>0.0</td>\n      <td>0.0</td>\n      <td>...</td>\n      <td>22.349913</td>\n      <td>23.504771</td>\n      <td>NaN</td>\n      <td>NaN</td>\n      <td>7.2100</td>\n      <td>39.1272</td>\n      <td>NaN</td>\n      <td>NaN</td>\n      <td>NaN</td>\n      <td>NaN</td>\n    </tr>\n    <tr>\n      <th>30</th>\n      <td>2013-07-01 00:31:15-04:00</td>\n      <td>31</td>\n      <td>0.0</td>\n      <td>0.0</td>\n      <td>0.0</td>\n      <td>3.960</td>\n      <td>6.92</td>\n      <td>0.0</td>\n      <td>0.0</td>\n      <td>0.0</td>\n      <td>...</td>\n      <td>22.380206</td>\n      <td>23.501231</td>\n      <td>NaN</td>\n      <td>NaN</td>\n      <td>7.2100</td>\n      <td>39.6528</td>\n      <td>NaN</td>\n      <td>NaN</td>\n      <td>NaN</td>\n      <td>NaN</td>\n    </tr>\n    <tr>\n      <th>31</th>\n      <td>2013-07-01 00:32:15-04:00</td>\n      <td>32</td>\n      <td>0.0</td>\n      <td>0.0</td>\n      <td>0.0</td>\n      <td>4.092</td>\n      <td>6.92</td>\n      <td>0.0</td>\n      <td>0.0</td>\n      <td>0.0</td>\n      <td>...</td>\n      <td>22.381730</td>\n      <td>23.543352</td>\n      <td>NaN</td>\n      <td>NaN</td>\n      <td>7.2100</td>\n      <td>40.1784</td>\n      <td>NaN</td>\n      <td>NaN</td>\n      <td>NaN</td>\n      <td>NaN</td>\n    </tr>\n    <tr>\n      <th>32</th>\n      <td>2013-07-01 00:33:15-04:00</td>\n      <td>33</td>\n      <td>0.0</td>\n      <td>0.0</td>\n      <td>0.0</td>\n      <td>4.224</td>\n      <td>6.92</td>\n      <td>0.0</td>\n      <td>0.0</td>\n      <td>0.0</td>\n      <td>...</td>\n      <td>22.346331</td>\n      <td>23.520784</td>\n      <td>NaN</td>\n      <td>NaN</td>\n      <td>8.0325</td>\n      <td>37.2888</td>\n      <td>NaN</td>\n      <td>NaN</td>\n      <td>NaN</td>\n      <td>NaN</td>\n    </tr>\n    <tr>\n      <th>33</th>\n      <td>2013-07-01 00:34:15-04:00</td>\n      <td>34</td>\n      <td>0.0</td>\n      <td>0.0</td>\n      <td>0.0</td>\n      <td>4.356</td>\n      <td>6.92</td>\n      <td>0.0</td>\n      <td>0.0</td>\n      <td>0.0</td>\n      <td>...</td>\n      <td>22.393834</td>\n      <td>23.544302</td>\n      <td>NaN</td>\n      <td>NaN</td>\n      <td>16.2400</td>\n      <td>40.1784</td>\n      <td>NaN</td>\n      <td>NaN</td>\n      <td>NaN</td>\n      <td>NaN</td>\n    </tr>\n    <tr>\n      <th>34</th>\n      <td>2013-07-01 00:35:15-04:00</td>\n      <td>35</td>\n      <td>0.0</td>\n      <td>0.0</td>\n      <td>0.0</td>\n      <td>4.488</td>\n      <td>6.92</td>\n      <td>0.0</td>\n      <td>0.0</td>\n      <td>0.0</td>\n      <td>...</td>\n      <td>22.408248</td>\n      <td>23.557693</td>\n      <td>NaN</td>\n      <td>NaN</td>\n      <td>13.7775</td>\n      <td>39.3904</td>\n      <td>NaN</td>\n      <td>NaN</td>\n      <td>NaN</td>\n      <td>NaN</td>\n    </tr>\n    <tr>\n      <th>35</th>\n      <td>2013-07-01 00:36:15-04:00</td>\n      <td>36</td>\n      <td>0.0</td>\n      <td>0.0</td>\n      <td>0.0</td>\n      <td>4.620</td>\n      <td>6.92</td>\n      <td>0.0</td>\n      <td>0.0</td>\n      <td>0.0</td>\n      <td>...</td>\n      <td>22.373044</td>\n      <td>23.571646</td>\n      <td>NaN</td>\n      <td>NaN</td>\n      <td>22.8050</td>\n      <td>39.9152</td>\n      <td>NaN</td>\n      <td>NaN</td>\n      <td>NaN</td>\n      <td>NaN</td>\n    </tr>\n    <tr>\n      <th>36</th>\n      <td>2013-07-01 00:37:15-04:00</td>\n      <td>37</td>\n      <td>0.0</td>\n      <td>0.0</td>\n      <td>0.0</td>\n      <td>4.752</td>\n      <td>6.92</td>\n      <td>0.0</td>\n      <td>0.0</td>\n      <td>0.0</td>\n      <td>...</td>\n      <td>22.394265</td>\n      <td>23.526733</td>\n      <td>NaN</td>\n      <td>NaN</td>\n      <td>143.4575</td>\n      <td>1455.0336</td>\n      <td>NaN</td>\n      <td>NaN</td>\n      <td>NaN</td>\n      <td>NaN</td>\n    </tr>\n    <tr>\n      <th>37</th>\n      <td>2013-07-01 00:38:15-04:00</td>\n      <td>38</td>\n      <td>0.0</td>\n      <td>0.0</td>\n      <td>0.0</td>\n      <td>4.884</td>\n      <td>6.92</td>\n      <td>0.0</td>\n      <td>0.0</td>\n      <td>0.0</td>\n      <td>...</td>\n      <td>22.441513</td>\n      <td>23.547095</td>\n      <td>NaN</td>\n      <td>NaN</td>\n      <td>150.0225</td>\n      <td>1451.6192</td>\n      <td>NaN</td>\n      <td>NaN</td>\n      <td>NaN</td>\n      <td>NaN</td>\n    </tr>\n    <tr>\n      <th>38</th>\n      <td>2013-07-01 00:39:15-04:00</td>\n      <td>39</td>\n      <td>0.0</td>\n      <td>0.0</td>\n      <td>0.0</td>\n      <td>5.016</td>\n      <td>6.92</td>\n      <td>0.0</td>\n      <td>0.0</td>\n      <td>0.0</td>\n      <td>...</td>\n      <td>22.405996</td>\n      <td>23.554081</td>\n      <td>NaN</td>\n      <td>NaN</td>\n      <td>164.7950</td>\n      <td>1619.1848</td>\n      <td>NaN</td>\n      <td>NaN</td>\n      <td>NaN</td>\n      <td>NaN</td>\n    </tr>\n    <tr>\n      <th>39</th>\n      <td>2013-07-01 00:40:15-04:00</td>\n      <td>40</td>\n      <td>0.0</td>\n      <td>0.0</td>\n      <td>0.0</td>\n      <td>5.148</td>\n      <td>6.92</td>\n      <td>0.0</td>\n      <td>0.0</td>\n      <td>0.0</td>\n      <td>...</td>\n      <td>22.382458</td>\n      <td>23.605813</td>\n      <td>NaN</td>\n      <td>NaN</td>\n      <td>137.7100</td>\n      <td>1440.8504</td>\n      <td>NaN</td>\n      <td>NaN</td>\n      <td>NaN</td>\n      <td>NaN</td>\n    </tr>\n    <tr>\n      <th>40</th>\n      <td>2013-07-01 00:41:15-04:00</td>\n      <td>41</td>\n      <td>0.0</td>\n      <td>0.0</td>\n      <td>0.0</td>\n      <td>5.280</td>\n      <td>6.92</td>\n      <td>0.0</td>\n      <td>0.0</td>\n      <td>0.0</td>\n      <td>...</td>\n      <td>22.369145</td>\n      <td>23.574265</td>\n      <td>NaN</td>\n      <td>NaN</td>\n      <td>140.1725</td>\n      <td>1394.6256</td>\n      <td>NaN</td>\n      <td>NaN</td>\n      <td>NaN</td>\n      <td>NaN</td>\n    </tr>\n    <tr>\n      <th>41</th>\n      <td>2013-07-01 00:42:15-04:00</td>\n      <td>42</td>\n      <td>0.0</td>\n      <td>0.0</td>\n      <td>0.0</td>\n      <td>5.412</td>\n      <td>6.92</td>\n      <td>0.0</td>\n      <td>0.0</td>\n      <td>0.0</td>\n      <td>...</td>\n      <td>22.365170</td>\n      <td>23.621659</td>\n      <td>NaN</td>\n      <td>NaN</td>\n      <td>140.9950</td>\n      <td>1448.9928</td>\n      <td>NaN</td>\n      <td>NaN</td>\n      <td>NaN</td>\n      <td>NaN</td>\n    </tr>\n    <tr>\n      <th>42</th>\n      <td>2013-07-01 00:43:15-04:00</td>\n      <td>43</td>\n      <td>0.0</td>\n      <td>0.0</td>\n      <td>0.0</td>\n      <td>5.544</td>\n      <td>6.92</td>\n      <td>0.0</td>\n      <td>0.0</td>\n      <td>0.0</td>\n      <td>...</td>\n      <td>22.395897</td>\n      <td>23.590338</td>\n      <td>NaN</td>\n      <td>NaN</td>\n      <td>142.6350</td>\n      <td>1281.4264</td>\n      <td>NaN</td>\n      <td>NaN</td>\n      <td>NaN</td>\n      <td>NaN</td>\n    </tr>\n    <tr>\n      <th>43</th>\n      <td>2013-07-01 00:44:15-04:00</td>\n      <td>44</td>\n      <td>0.0</td>\n      <td>0.0</td>\n      <td>0.0</td>\n      <td>5.676</td>\n      <td>6.92</td>\n      <td>0.0</td>\n      <td>0.0</td>\n      <td>0.0</td>\n      <td>...</td>\n      <td>22.404867</td>\n      <td>23.623916</td>\n      <td>NaN</td>\n      <td>NaN</td>\n      <td>121.2950</td>\n      <td>1385.1704</td>\n      <td>NaN</td>\n      <td>NaN</td>\n      <td>NaN</td>\n      <td>NaN</td>\n    </tr>\n    <tr>\n      <th>44</th>\n      <td>2013-07-01 00:45:15-04:00</td>\n      <td>45</td>\n      <td>0.0</td>\n      <td>0.0</td>\n      <td>0.0</td>\n      <td>5.808</td>\n      <td>6.92</td>\n      <td>0.0</td>\n      <td>0.0</td>\n      <td>0.0</td>\n      <td>...</td>\n      <td>22.404151</td>\n      <td>23.663178</td>\n      <td>NaN</td>\n      <td>NaN</td>\n      <td>123.7575</td>\n      <td>1566.3936</td>\n      <td>NaN</td>\n      <td>NaN</td>\n      <td>NaN</td>\n      <td>NaN</td>\n    </tr>\n    <tr>\n      <th>45</th>\n      <td>2013-07-01 00:46:15-04:00</td>\n      <td>46</td>\n      <td>0.0</td>\n      <td>0.0</td>\n      <td>0.0</td>\n      <td>5.940</td>\n      <td>6.92</td>\n      <td>0.0</td>\n      <td>0.0</td>\n      <td>0.0</td>\n      <td>...</td>\n      <td>22.369177</td>\n      <td>23.664286</td>\n      <td>NaN</td>\n      <td>NaN</td>\n      <td>138.5325</td>\n      <td>1249.1216</td>\n      <td>NaN</td>\n      <td>NaN</td>\n      <td>NaN</td>\n      <td>NaN</td>\n    </tr>\n    <tr>\n      <th>46</th>\n      <td>2013-07-01 00:47:15-04:00</td>\n      <td>47</td>\n      <td>0.0</td>\n      <td>0.0</td>\n      <td>0.0</td>\n      <td>6.072</td>\n      <td>6.92</td>\n      <td>0.0</td>\n      <td>0.0</td>\n      <td>0.0</td>\n      <td>...</td>\n      <td>22.351822</td>\n      <td>23.656958</td>\n      <td>NaN</td>\n      <td>NaN</td>\n      <td>126.2200</td>\n      <td>1437.1736</td>\n      <td>NaN</td>\n      <td>NaN</td>\n      <td>NaN</td>\n      <td>NaN</td>\n    </tr>\n    <tr>\n      <th>47</th>\n      <td>2013-07-01 00:48:15-04:00</td>\n      <td>48</td>\n      <td>0.0</td>\n      <td>0.0</td>\n      <td>0.0</td>\n      <td>6.204</td>\n      <td>6.92</td>\n      <td>0.0</td>\n      <td>0.0</td>\n      <td>0.0</td>\n      <td>...</td>\n      <td>22.359156</td>\n      <td>23.664336</td>\n      <td>NaN</td>\n      <td>NaN</td>\n      <td>133.6075</td>\n      <td>1437.6992</td>\n      <td>NaN</td>\n      <td>NaN</td>\n      <td>NaN</td>\n      <td>NaN</td>\n    </tr>\n    <tr>\n      <th>48</th>\n      <td>2013-07-01 00:49:15-04:00</td>\n      <td>49</td>\n      <td>0.0</td>\n      <td>0.0</td>\n      <td>0.0</td>\n      <td>6.336</td>\n      <td>6.92</td>\n      <td>0.0</td>\n      <td>0.0</td>\n      <td>0.0</td>\n      <td>...</td>\n      <td>22.356586</td>\n      <td>23.638478</td>\n      <td>NaN</td>\n      <td>NaN</td>\n      <td>115.5500</td>\n      <td>1285.3664</td>\n      <td>NaN</td>\n      <td>NaN</td>\n      <td>NaN</td>\n      <td>NaN</td>\n    </tr>\n    <tr>\n      <th>49</th>\n      <td>2013-07-01 00:50:15-04:00</td>\n      <td>50</td>\n      <td>0.0</td>\n      <td>0.0</td>\n      <td>0.0</td>\n      <td>6.468</td>\n      <td>6.92</td>\n      <td>0.0</td>\n      <td>0.0</td>\n      <td>0.0</td>\n      <td>...</td>\n      <td>22.379202</td>\n      <td>23.613289</td>\n      <td>NaN</td>\n      <td>NaN</td>\n      <td>138.5325</td>\n      <td>1521.4824</td>\n      <td>NaN</td>\n      <td>NaN</td>\n      <td>NaN</td>\n      <td>NaN</td>\n    </tr>\n    <tr>\n      <th>50</th>\n      <td>2013-07-01 00:51:15-04:00</td>\n      <td>51</td>\n      <td>0.0</td>\n      <td>0.0</td>\n      <td>0.0</td>\n      <td>6.600</td>\n      <td>6.92</td>\n      <td>0.0</td>\n      <td>0.0</td>\n      <td>0.0</td>\n      <td>...</td>\n      <td>22.353725</td>\n      <td>23.594557</td>\n      <td>NaN</td>\n      <td>NaN</td>\n      <td>115.5500</td>\n      <td>1351.2896</td>\n      <td>NaN</td>\n      <td>NaN</td>\n      <td>NaN</td>\n      <td>NaN</td>\n    </tr>\n  </tbody>\n</table>\n<p>51 rows × 358 columns</p>\n</div>"
     },
     "execution_count": 45,
     "metadata": {},
     "output_type": "execute_result"
    }
   ],
   "source": [
    "netzero1.loc[:50]"
   ],
   "metadata": {
    "collapsed": false,
    "pycharm": {
     "name": "#%%\n"
    }
   }
  },
  {
   "cell_type": "code",
   "execution_count": 46,
   "outputs": [
    {
     "data": {
      "text/plain": "                    Timestamp  TimeStamp_Count  Load_LatentHeatWaterVolume  \\\n0   2015-02-01 00:01:50-05:00                1                    0.000000   \n1   2015-02-01 00:02:50-05:00                2                    0.000000   \n2   2015-02-01 00:03:50-05:00                3                    0.000000   \n3   2015-02-01 00:04:50-05:00                4                    0.001981   \n4   2015-02-01 00:05:50-05:00                5                    0.001981   \n5   2015-02-01 00:06:50-05:00                6                    0.001981   \n6   2015-02-01 00:07:50-05:00                7                    0.001981   \n7   2015-02-01 00:08:50-05:00                8                    0.004624   \n8   2015-02-01 00:09:50-05:00                9                    0.007265   \n9   2015-02-01 00:10:50-05:00               10                    0.007265   \n10  2015-02-01 00:11:50-05:00               11                    0.007265   \n11  2015-02-01 00:12:50-05:00               12                    0.007265   \n12  2015-02-01 00:13:50-05:00               13                    0.007265   \n13  2015-02-01 00:14:50-05:00               14                    0.010568   \n14  2015-02-01 00:15:50-05:00               15                    0.012549   \n15  2015-02-01 00:16:50-05:00               16                    0.012549   \n16  2015-02-01 00:17:50-05:00               17                    0.012549   \n17  2015-02-01 00:18:50-05:00               18                    0.012549   \n18  2015-02-01 00:19:50-05:00               19                    0.016512   \n19  2015-02-01 00:20:50-05:00               20                    0.016512   \n20  2015-02-01 00:21:50-05:00               21                    0.016512   \n21  2015-02-01 00:22:50-05:00               22                    0.019154   \n22  2015-02-01 00:23:50-05:00               23                    0.019154   \n23  2015-02-01 00:24:50-05:00               24                    0.021796   \n24  2015-02-01 00:25:50-05:00               25                    0.021796   \n25  2015-02-01 00:26:50-05:00               26                    0.024438   \n26  2015-02-01 00:27:50-05:00               27                    0.024438   \n27  2015-02-01 00:28:50-05:00               28                    0.024438   \n28  2015-02-01 00:29:50-05:00               29                    0.027080   \n29  2015-02-01 00:30:50-05:00               30                    0.027080   \n30  2015-02-01 00:31:49-05:00               31                    0.029062   \n31  2015-02-01 00:32:49-05:00               32                    0.029062   \n32  2015-02-01 00:33:49-05:00               33                    0.029062   \n33  2015-02-01 00:34:49-05:00               34                    0.031704   \n34  2015-02-01 00:35:49-05:00               35                    0.033686   \n35  2015-02-01 00:36:49-05:00               36                    0.033686   \n36  2015-02-01 00:37:49-05:00               37                    0.033686   \n37  2015-02-01 00:38:49-05:00               38                    0.036327   \n38  2015-02-01 00:39:49-05:00               39                    0.038969   \n39  2015-02-01 00:40:49-05:00               40                    0.038969   \n40  2015-02-01 00:41:49-05:00               41                    0.038969   \n41  2015-02-01 00:42:49-05:00               42                    0.038969   \n42  2015-02-01 00:43:49-05:00               43                    0.041611   \n43  2015-02-01 00:44:49-05:00               44                    0.044253   \n44  2015-02-01 00:45:49-05:00               45                    0.044253   \n45  2015-02-01 00:46:49-05:00               46                    0.044253   \n46  2015-02-01 00:47:49-05:00               47                    0.044253   \n47  2015-02-01 00:48:49-05:00               48                    0.046895   \n48  2015-02-01 00:49:49-05:00               49                    0.049537   \n49  2015-02-01 00:50:49-05:00               50                    0.049537   \n50  2015-02-01 00:51:49-05:00               51                    0.049537   \n\n    Load_RefrigeratorTemp  Load_StatusBA1Lights  Load_StatusKitchenLightsA  \\\n0                4.994715                   0.0                        0.0   \n1                5.046792                   0.0                        0.0   \n2                5.129493                   0.0                        0.0   \n3                5.163539                   0.0                        0.0   \n4                5.232744                   0.0                        0.0   \n5                5.349794                   0.0                        0.0   \n6                5.282022                   0.0                        0.0   \n7                5.294622                   0.0                        0.0   \n8                5.273097                   0.0                        0.0   \n9                5.287171                   0.0                        0.0   \n10               5.236763                   0.0                        0.0   \n11               5.198771                   0.0                        0.0   \n12               5.161855                   0.0                        0.0   \n13               5.084102                   0.0                        0.0   \n14               5.036981                   0.0                        0.0   \n15               5.026241                   0.0                        0.0   \n16               4.933579                   0.0                        0.0   \n17               4.861808                   0.0                        0.0   \n18               4.786791                   0.0                        0.0   \n19               4.665225                   0.0                        0.0   \n20               4.620054                   0.0                        0.0   \n21               4.544734                   0.0                        0.0   \n22               4.485139                   0.0                        0.0   \n23               4.466742                   0.0                        0.0   \n24               4.476984                   0.0                        0.0   \n25               4.457217                   0.0                        0.0   \n26               4.497969                   0.0                        0.0   \n27               4.473445                   0.0                        0.0   \n28               4.523562                   0.0                        0.0   \n29               4.523432                   0.0                        0.0   \n30               4.532420                   0.0                        0.0   \n31               4.594796                   0.0                        0.0   \n32               4.616840                   0.0                        0.0   \n33               4.716247                   0.0                        0.0   \n34               4.737618                   0.0                        0.0   \n35               4.759703                   0.0                        0.0   \n36               4.841535                   0.0                        0.0   \n37               4.880765                   0.0                        0.0   \n38               4.888449                   0.0                        0.0   \n39               4.972355                   0.0                        0.0   \n40               5.058538                   0.0                        0.0   \n41               5.135327                   0.0                        0.0   \n42               5.253341                   0.0                        0.0   \n43               5.312148                   0.0                        0.0   \n44               5.389095                   0.0                        0.0   \n45               5.347680                   0.0                        0.0   \n46               5.344154                   0.0                        0.0   \n47               5.304654                   0.0                        0.0   \n48               5.268184                   0.0                        0.0   \n49               5.315620                   0.0                        0.0   \n50               5.231545                   0.0                        0.0   \n\n    Load_StatusKitchenLightsB  Load_StatusKitchenLightsC  Load_StatusDRLights  \\\n0                         0.0                        0.0                  0.0   \n1                         0.0                        0.0                  0.0   \n2                         0.0                        0.0                  0.0   \n3                         0.0                        0.0                  0.0   \n4                         0.0                        0.0                  0.0   \n5                         0.0                        0.0                  0.0   \n6                         0.0                        0.0                  0.0   \n7                         0.0                        0.0                  0.0   \n8                         0.0                        0.0                  0.0   \n9                         0.0                        0.0                  0.0   \n10                        0.0                        0.0                  0.0   \n11                        0.0                        0.0                  0.0   \n12                        0.0                        0.0                  0.0   \n13                        0.0                        0.0                  0.0   \n14                        0.0                        0.0                  0.0   \n15                        0.0                        0.0                  0.0   \n16                        0.0                        0.0                  0.0   \n17                        0.0                        0.0                  0.0   \n18                        0.0                        0.0                  0.0   \n19                        0.0                        0.0                  0.0   \n20                        0.0                        0.0                  0.0   \n21                        0.0                        0.0                  0.0   \n22                        0.0                        0.0                  0.0   \n23                        0.0                        0.0                  0.0   \n24                        0.0                        0.0                  0.0   \n25                        0.0                        0.0                  0.0   \n26                        0.0                        0.0                  0.0   \n27                        0.0                        0.0                  0.0   \n28                        0.0                        0.0                  0.0   \n29                        0.0                        0.0                  0.0   \n30                        0.0                        0.0                  0.0   \n31                        0.0                        0.0                  0.0   \n32                        0.0                        0.0                  0.0   \n33                        0.0                        0.0                  0.0   \n34                        0.0                        0.0                  0.0   \n35                        0.0                        0.0                  0.0   \n36                        0.0                        0.0                  0.0   \n37                        0.0                        0.0                  0.0   \n38                        0.0                        0.0                  0.0   \n39                        0.0                        0.0                  0.0   \n40                        0.0                        0.0                  0.0   \n41                        0.0                        0.0                  0.0   \n42                        0.0                        0.0                  0.0   \n43                        0.0                        0.0                  0.0   \n44                        0.0                        0.0                  0.0   \n45                        0.0                        0.0                  0.0   \n46                        0.0                        0.0                  0.0   \n47                        0.0                        0.0                  0.0   \n48                        0.0                        0.0                  0.0   \n49                        0.0                        0.0                  0.0   \n50                        0.0                        0.0                  0.0   \n\n    Load_StatusLRLights3  ...  SHW_GlycolFlowHXCoriolisSHW  \\\n0                    0.0  ...                          NaN   \n1                    0.0  ...                          NaN   \n2                    0.0  ...                          NaN   \n3                    0.0  ...                          NaN   \n4                    0.0  ...                          NaN   \n5                    0.0  ...                          NaN   \n6                    0.0  ...                          NaN   \n7                    0.0  ...                          NaN   \n8                    0.0  ...                          NaN   \n9                    0.0  ...                          NaN   \n10                   0.0  ...                          NaN   \n11                   0.0  ...                          NaN   \n12                   0.0  ...                          NaN   \n13                   0.0  ...                          NaN   \n14                   0.0  ...                          NaN   \n15                   0.0  ...                          NaN   \n16                   0.0  ...                          NaN   \n17                   0.0  ...                          NaN   \n18                   0.0  ...                          NaN   \n19                   0.0  ...                          NaN   \n20                   0.0  ...                          NaN   \n21                   0.0  ...                          NaN   \n22                   0.0  ...                          NaN   \n23                   0.0  ...                          NaN   \n24                   0.0  ...                          NaN   \n25                   0.0  ...                          NaN   \n26                   0.0  ...                          NaN   \n27                   0.0  ...                          NaN   \n28                   0.0  ...                          NaN   \n29                   0.0  ...                          NaN   \n30                   0.0  ...                          NaN   \n31                   0.0  ...                          NaN   \n32                   0.0  ...                          NaN   \n33                   0.0  ...                          NaN   \n34                   0.0  ...                          NaN   \n35                   0.0  ...                          NaN   \n36                   0.0  ...                          NaN   \n37                   0.0  ...                          NaN   \n38                   0.0  ...                          NaN   \n39                   0.0  ...                          NaN   \n40                   0.0  ...                          NaN   \n41                   0.0  ...                          NaN   \n42                   0.0  ...                          NaN   \n43                   0.0  ...                          NaN   \n44                   0.0  ...                          NaN   \n45                   0.0  ...                          NaN   \n46                   0.0  ...                          NaN   \n47                   0.0  ...                          NaN   \n48                   0.0  ...                          NaN   \n49                   0.0  ...                          NaN   \n50                   0.0  ...                          NaN   \n\n    SHW_WaterFlowHXCoriolisSHW  SHW_GlycolFlowRateHXCoriolisSHW  \\\n0                          NaN                              NaN   \n1                          NaN                              NaN   \n2                          NaN                              NaN   \n3                          NaN                              NaN   \n4                          NaN                              NaN   \n5                          NaN                              NaN   \n6                          NaN                              NaN   \n7                          NaN                              NaN   \n8                          NaN                              NaN   \n9                          NaN                              NaN   \n10                         NaN                              NaN   \n11                         NaN                              NaN   \n12                         NaN                              NaN   \n13                         NaN                              NaN   \n14                         NaN                              NaN   \n15                         NaN                              NaN   \n16                         NaN                              NaN   \n17                         NaN                              NaN   \n18                         NaN                              NaN   \n19                         NaN                              NaN   \n20                         NaN                              NaN   \n21                         NaN                              NaN   \n22                         NaN                              NaN   \n23                         NaN                              NaN   \n24                         NaN                              NaN   \n25                         NaN                              NaN   \n26                         NaN                              NaN   \n27                         NaN                              NaN   \n28                         NaN                              NaN   \n29                         NaN                              NaN   \n30                         NaN                              NaN   \n31                         NaN                              NaN   \n32                         NaN                              NaN   \n33                         NaN                              NaN   \n34                         NaN                              NaN   \n35                         NaN                              NaN   \n36                         NaN                              NaN   \n37                         NaN                              NaN   \n38                         NaN                              NaN   \n39                         NaN                              NaN   \n40                         NaN                              NaN   \n41                         NaN                              NaN   \n42                         NaN                              NaN   \n43                         NaN                              NaN   \n44                         NaN                              NaN   \n45                         NaN                              NaN   \n46                         NaN                              NaN   \n47                         NaN                              NaN   \n48                         NaN                              NaN   \n49                         NaN                              NaN   \n50                         NaN                              NaN   \n\n    SHW_WaterFlowRateHXCoriolisSHW  HVAC_HeatPumpIndoorUnitPower  \\\n0                              NaN                       184.412   \n1                              NaN                       184.618   \n2                              NaN                       169.844   \n3                              NaN                       167.300   \n4                              NaN                       182.976   \n5                              NaN                       171.732   \n6                              NaN                       169.638   \n7                              NaN                       173.578   \n8                              NaN                       176.779   \n9                              NaN                       173.250   \n10                             NaN                       176.820   \n11                             NaN                       171.814   \n12                             NaN                       174.891   \n13                             NaN                       175.056   \n14                             NaN                       172.183   \n15                             NaN                       175.179   \n16                             NaN                       173.989   \n17                             NaN                       174.070   \n18                             NaN                       173.578   \n19                             NaN                       175.753   \n20                             NaN                       175.220   \n21                             NaN                       173.783   \n22                             NaN                       184.371   \n23                             NaN                       164.837   \n24                             NaN                       163.647   \n25                             NaN                       171.772   \n26                             NaN                       170.747   \n27                             NaN                       167.833   \n28                             NaN                       180.308   \n29                             NaN                       173.167   \n30                             NaN                       174.193   \n31                             NaN                       177.682   \n32                             NaN                       167.750   \n33                             NaN                       180.924   \n34                             NaN                       184.782   \n35                             NaN                       174.440   \n36                             NaN                       173.291   \n37                             NaN                       175.876   \n38                             NaN                       170.213   \n39                             NaN                       182.607   \n40                             NaN                       185.889   \n41                             NaN                       171.732   \n42                             NaN                       180.472   \n43                             NaN                       173.660   \n44                             NaN                       174.316   \n45                             NaN                       170.829   \n46                             NaN                       176.040   \n47                             NaN                       185.849   \n48                             NaN                       177.395   \n49                             NaN                       169.802   \n50                             NaN                       168.161   \n\n    HVAC_HeatPumpOutdoorUnitPower  HVAC_DehumidifierPower  \\\n0                        1108.765                   4.471   \n1                        1097.577                   4.508   \n2                        1086.113                   4.510   \n3                        1079.586                   4.529   \n4                        1048.502                   4.438   \n5                        1055.987                   4.561   \n6                        1047.938                   4.475   \n7                        1046.296                   4.498   \n8                        1045.797                   4.529   \n9                        1043.564                   4.527   \n10                       1044.654                   4.508   \n11                       1041.503                   4.559   \n12                       1041.608                   4.520   \n13                       1044.707                   4.488   \n14                       1049.579                   4.508   \n15                       1055.410                   4.481   \n16                       1058.391                   4.477   \n17                       1060.899                   4.522   \n18                       1064.274                   4.498   \n19                       1064.366                   4.498   \n20                       1069.041                   4.498   \n21                       1073.269                   4.473   \n22                       1074.504                   4.438   \n23                       1073.782                   4.500   \n24                       1077.419                   4.477   \n25                       1072.784                   4.447   \n26                       1072.114                   4.543   \n27                       1068.279                   4.527   \n28                       1072.810                   4.488   \n29                       1064.024                   4.524   \n30                       1062.895                   4.533   \n31                       1056.079                   4.592   \n32                       1056.290                   4.563   \n33                       1060.715                   4.524   \n34                       1058.903                   4.494   \n35                       1046.939                   4.494   \n36                       1048.476                   4.518   \n37                       1044.418                   4.512   \n38                       1043.486                   4.516   \n39                       1038.588                   4.481   \n40                       1034.779                   4.467   \n41                       1031.457                   4.543   \n42                       1029.054                   4.537   \n43                       1025.206                   4.545   \n44                       1024.418                   4.518   \n45                       1025.718                   4.490   \n46                       1017.287                   4.492   \n47                       1021.332                   4.434   \n48                       1016.197                   4.473   \n49                       1015.974                   4.512   \n50                       1014.451                   4.512   \n\n    HVAC_DehumidifierInletAirTemp  HVAC_DehumidifierExitAirTemp  \\\n0                          72.102                        74.655   \n1                          72.096                        74.701   \n2                          72.077                        74.759   \n3                          72.074                        74.829   \n4                          72.086                        74.863   \n5                          72.077                        74.965   \n6                          72.099                        75.057   \n7                          72.125                        75.177   \n8                          72.114                        75.232   \n9                          72.117                        75.279   \n10                         72.122                        75.401   \n11                         72.111                        75.429   \n12                         72.111                        75.499   \n13                         72.127                        75.570   \n14                         72.120                        75.598   \n15                         72.134                        75.619   \n16                         72.132                        75.638   \n17                         72.168                        75.643   \n18                         72.171                        75.654   \n19                         72.182                        75.669   \n20                         72.201                        75.636   \n21                         72.199                        75.608   \n22                         72.194                        75.594   \n23                         72.206                        75.568   \n24                         72.218                        75.571   \n25                         72.227                        75.567   \n26                         72.229                        75.530   \n27                         72.275                        75.472   \n28                         72.270                        75.444   \n29                         72.268                        75.435   \n30                         72.267                        75.369   \n31                         72.283                        75.308   \n32                         72.301                        75.268   \n33                         72.293                        75.234   \n34                         72.289                        75.191   \n35                         72.296                        75.152   \n36                         72.274                        75.081   \n37                         72.310                        75.014   \n38                         72.328                        74.931   \n39                         72.340                        74.890   \n40                         72.355                        74.749   \n41                         72.338                        74.708   \n42                         72.315                        74.612   \n43                         72.323                        74.584   \n44                         72.305                        74.483   \n45                         72.307                        74.411   \n46                         72.312                        74.311   \n47                         72.319                        74.276   \n48                         72.323                        74.243   \n49                         72.344                        74.218   \n50                         72.333                        74.184   \n\n    HVAC_DehumidifierAirflow  \n0                        0.0  \n1                        0.0  \n2                        0.0  \n3                        0.0  \n4                        0.0  \n5                        0.0  \n6                        0.0  \n7                        0.0  \n8                        0.0  \n9                        0.0  \n10                       0.0  \n11                       0.0  \n12                       0.0  \n13                       0.0  \n14                       0.0  \n15                       0.0  \n16                       0.0  \n17                       0.0  \n18                       0.0  \n19                       0.0  \n20                       0.0  \n21                       0.0  \n22                       0.0  \n23                       0.0  \n24                       0.0  \n25                       0.0  \n26                       0.0  \n27                       0.0  \n28                       0.0  \n29                       0.0  \n30                       0.0  \n31                       0.0  \n32                       0.0  \n33                       0.0  \n34                       0.0  \n35                       0.0  \n36                       0.0  \n37                       0.0  \n38                       0.0  \n39                       0.0  \n40                       0.0  \n41                       0.0  \n42                       0.0  \n43                       0.0  \n44                       0.0  \n45                       0.0  \n46                       0.0  \n47                       0.0  \n48                       0.0  \n49                       0.0  \n50                       0.0  \n\n[51 rows x 382 columns]",
      "text/html": "<div>\n<style scoped>\n    .dataframe tbody tr th:only-of-type {\n        vertical-align: middle;\n    }\n\n    .dataframe tbody tr th {\n        vertical-align: top;\n    }\n\n    .dataframe thead th {\n        text-align: right;\n    }\n</style>\n<table border=\"1\" class=\"dataframe\">\n  <thead>\n    <tr style=\"text-align: right;\">\n      <th></th>\n      <th>Timestamp</th>\n      <th>TimeStamp_Count</th>\n      <th>Load_LatentHeatWaterVolume</th>\n      <th>Load_RefrigeratorTemp</th>\n      <th>Load_StatusBA1Lights</th>\n      <th>Load_StatusKitchenLightsA</th>\n      <th>Load_StatusKitchenLightsB</th>\n      <th>Load_StatusKitchenLightsC</th>\n      <th>Load_StatusDRLights</th>\n      <th>Load_StatusLRLights3</th>\n      <th>...</th>\n      <th>SHW_GlycolFlowHXCoriolisSHW</th>\n      <th>SHW_WaterFlowHXCoriolisSHW</th>\n      <th>SHW_GlycolFlowRateHXCoriolisSHW</th>\n      <th>SHW_WaterFlowRateHXCoriolisSHW</th>\n      <th>HVAC_HeatPumpIndoorUnitPower</th>\n      <th>HVAC_HeatPumpOutdoorUnitPower</th>\n      <th>HVAC_DehumidifierPower</th>\n      <th>HVAC_DehumidifierInletAirTemp</th>\n      <th>HVAC_DehumidifierExitAirTemp</th>\n      <th>HVAC_DehumidifierAirflow</th>\n    </tr>\n  </thead>\n  <tbody>\n    <tr>\n      <th>0</th>\n      <td>2015-02-01 00:01:50-05:00</td>\n      <td>1</td>\n      <td>0.000000</td>\n      <td>4.994715</td>\n      <td>0.0</td>\n      <td>0.0</td>\n      <td>0.0</td>\n      <td>0.0</td>\n      <td>0.0</td>\n      <td>0.0</td>\n      <td>...</td>\n      <td>NaN</td>\n      <td>NaN</td>\n      <td>NaN</td>\n      <td>NaN</td>\n      <td>184.412</td>\n      <td>1108.765</td>\n      <td>4.471</td>\n      <td>72.102</td>\n      <td>74.655</td>\n      <td>0.0</td>\n    </tr>\n    <tr>\n      <th>1</th>\n      <td>2015-02-01 00:02:50-05:00</td>\n      <td>2</td>\n      <td>0.000000</td>\n      <td>5.046792</td>\n      <td>0.0</td>\n      <td>0.0</td>\n      <td>0.0</td>\n      <td>0.0</td>\n      <td>0.0</td>\n      <td>0.0</td>\n      <td>...</td>\n      <td>NaN</td>\n      <td>NaN</td>\n      <td>NaN</td>\n      <td>NaN</td>\n      <td>184.618</td>\n      <td>1097.577</td>\n      <td>4.508</td>\n      <td>72.096</td>\n      <td>74.701</td>\n      <td>0.0</td>\n    </tr>\n    <tr>\n      <th>2</th>\n      <td>2015-02-01 00:03:50-05:00</td>\n      <td>3</td>\n      <td>0.000000</td>\n      <td>5.129493</td>\n      <td>0.0</td>\n      <td>0.0</td>\n      <td>0.0</td>\n      <td>0.0</td>\n      <td>0.0</td>\n      <td>0.0</td>\n      <td>...</td>\n      <td>NaN</td>\n      <td>NaN</td>\n      <td>NaN</td>\n      <td>NaN</td>\n      <td>169.844</td>\n      <td>1086.113</td>\n      <td>4.510</td>\n      <td>72.077</td>\n      <td>74.759</td>\n      <td>0.0</td>\n    </tr>\n    <tr>\n      <th>3</th>\n      <td>2015-02-01 00:04:50-05:00</td>\n      <td>4</td>\n      <td>0.001981</td>\n      <td>5.163539</td>\n      <td>0.0</td>\n      <td>0.0</td>\n      <td>0.0</td>\n      <td>0.0</td>\n      <td>0.0</td>\n      <td>0.0</td>\n      <td>...</td>\n      <td>NaN</td>\n      <td>NaN</td>\n      <td>NaN</td>\n      <td>NaN</td>\n      <td>167.300</td>\n      <td>1079.586</td>\n      <td>4.529</td>\n      <td>72.074</td>\n      <td>74.829</td>\n      <td>0.0</td>\n    </tr>\n    <tr>\n      <th>4</th>\n      <td>2015-02-01 00:05:50-05:00</td>\n      <td>5</td>\n      <td>0.001981</td>\n      <td>5.232744</td>\n      <td>0.0</td>\n      <td>0.0</td>\n      <td>0.0</td>\n      <td>0.0</td>\n      <td>0.0</td>\n      <td>0.0</td>\n      <td>...</td>\n      <td>NaN</td>\n      <td>NaN</td>\n      <td>NaN</td>\n      <td>NaN</td>\n      <td>182.976</td>\n      <td>1048.502</td>\n      <td>4.438</td>\n      <td>72.086</td>\n      <td>74.863</td>\n      <td>0.0</td>\n    </tr>\n    <tr>\n      <th>5</th>\n      <td>2015-02-01 00:06:50-05:00</td>\n      <td>6</td>\n      <td>0.001981</td>\n      <td>5.349794</td>\n      <td>0.0</td>\n      <td>0.0</td>\n      <td>0.0</td>\n      <td>0.0</td>\n      <td>0.0</td>\n      <td>0.0</td>\n      <td>...</td>\n      <td>NaN</td>\n      <td>NaN</td>\n      <td>NaN</td>\n      <td>NaN</td>\n      <td>171.732</td>\n      <td>1055.987</td>\n      <td>4.561</td>\n      <td>72.077</td>\n      <td>74.965</td>\n      <td>0.0</td>\n    </tr>\n    <tr>\n      <th>6</th>\n      <td>2015-02-01 00:07:50-05:00</td>\n      <td>7</td>\n      <td>0.001981</td>\n      <td>5.282022</td>\n      <td>0.0</td>\n      <td>0.0</td>\n      <td>0.0</td>\n      <td>0.0</td>\n      <td>0.0</td>\n      <td>0.0</td>\n      <td>...</td>\n      <td>NaN</td>\n      <td>NaN</td>\n      <td>NaN</td>\n      <td>NaN</td>\n      <td>169.638</td>\n      <td>1047.938</td>\n      <td>4.475</td>\n      <td>72.099</td>\n      <td>75.057</td>\n      <td>0.0</td>\n    </tr>\n    <tr>\n      <th>7</th>\n      <td>2015-02-01 00:08:50-05:00</td>\n      <td>8</td>\n      <td>0.004624</td>\n      <td>5.294622</td>\n      <td>0.0</td>\n      <td>0.0</td>\n      <td>0.0</td>\n      <td>0.0</td>\n      <td>0.0</td>\n      <td>0.0</td>\n      <td>...</td>\n      <td>NaN</td>\n      <td>NaN</td>\n      <td>NaN</td>\n      <td>NaN</td>\n      <td>173.578</td>\n      <td>1046.296</td>\n      <td>4.498</td>\n      <td>72.125</td>\n      <td>75.177</td>\n      <td>0.0</td>\n    </tr>\n    <tr>\n      <th>8</th>\n      <td>2015-02-01 00:09:50-05:00</td>\n      <td>9</td>\n      <td>0.007265</td>\n      <td>5.273097</td>\n      <td>0.0</td>\n      <td>0.0</td>\n      <td>0.0</td>\n      <td>0.0</td>\n      <td>0.0</td>\n      <td>0.0</td>\n      <td>...</td>\n      <td>NaN</td>\n      <td>NaN</td>\n      <td>NaN</td>\n      <td>NaN</td>\n      <td>176.779</td>\n      <td>1045.797</td>\n      <td>4.529</td>\n      <td>72.114</td>\n      <td>75.232</td>\n      <td>0.0</td>\n    </tr>\n    <tr>\n      <th>9</th>\n      <td>2015-02-01 00:10:50-05:00</td>\n      <td>10</td>\n      <td>0.007265</td>\n      <td>5.287171</td>\n      <td>0.0</td>\n      <td>0.0</td>\n      <td>0.0</td>\n      <td>0.0</td>\n      <td>0.0</td>\n      <td>0.0</td>\n      <td>...</td>\n      <td>NaN</td>\n      <td>NaN</td>\n      <td>NaN</td>\n      <td>NaN</td>\n      <td>173.250</td>\n      <td>1043.564</td>\n      <td>4.527</td>\n      <td>72.117</td>\n      <td>75.279</td>\n      <td>0.0</td>\n    </tr>\n    <tr>\n      <th>10</th>\n      <td>2015-02-01 00:11:50-05:00</td>\n      <td>11</td>\n      <td>0.007265</td>\n      <td>5.236763</td>\n      <td>0.0</td>\n      <td>0.0</td>\n      <td>0.0</td>\n      <td>0.0</td>\n      <td>0.0</td>\n      <td>0.0</td>\n      <td>...</td>\n      <td>NaN</td>\n      <td>NaN</td>\n      <td>NaN</td>\n      <td>NaN</td>\n      <td>176.820</td>\n      <td>1044.654</td>\n      <td>4.508</td>\n      <td>72.122</td>\n      <td>75.401</td>\n      <td>0.0</td>\n    </tr>\n    <tr>\n      <th>11</th>\n      <td>2015-02-01 00:12:50-05:00</td>\n      <td>12</td>\n      <td>0.007265</td>\n      <td>5.198771</td>\n      <td>0.0</td>\n      <td>0.0</td>\n      <td>0.0</td>\n      <td>0.0</td>\n      <td>0.0</td>\n      <td>0.0</td>\n      <td>...</td>\n      <td>NaN</td>\n      <td>NaN</td>\n      <td>NaN</td>\n      <td>NaN</td>\n      <td>171.814</td>\n      <td>1041.503</td>\n      <td>4.559</td>\n      <td>72.111</td>\n      <td>75.429</td>\n      <td>0.0</td>\n    </tr>\n    <tr>\n      <th>12</th>\n      <td>2015-02-01 00:13:50-05:00</td>\n      <td>13</td>\n      <td>0.007265</td>\n      <td>5.161855</td>\n      <td>0.0</td>\n      <td>0.0</td>\n      <td>0.0</td>\n      <td>0.0</td>\n      <td>0.0</td>\n      <td>0.0</td>\n      <td>...</td>\n      <td>NaN</td>\n      <td>NaN</td>\n      <td>NaN</td>\n      <td>NaN</td>\n      <td>174.891</td>\n      <td>1041.608</td>\n      <td>4.520</td>\n      <td>72.111</td>\n      <td>75.499</td>\n      <td>0.0</td>\n    </tr>\n    <tr>\n      <th>13</th>\n      <td>2015-02-01 00:14:50-05:00</td>\n      <td>14</td>\n      <td>0.010568</td>\n      <td>5.084102</td>\n      <td>0.0</td>\n      <td>0.0</td>\n      <td>0.0</td>\n      <td>0.0</td>\n      <td>0.0</td>\n      <td>0.0</td>\n      <td>...</td>\n      <td>NaN</td>\n      <td>NaN</td>\n      <td>NaN</td>\n      <td>NaN</td>\n      <td>175.056</td>\n      <td>1044.707</td>\n      <td>4.488</td>\n      <td>72.127</td>\n      <td>75.570</td>\n      <td>0.0</td>\n    </tr>\n    <tr>\n      <th>14</th>\n      <td>2015-02-01 00:15:50-05:00</td>\n      <td>15</td>\n      <td>0.012549</td>\n      <td>5.036981</td>\n      <td>0.0</td>\n      <td>0.0</td>\n      <td>0.0</td>\n      <td>0.0</td>\n      <td>0.0</td>\n      <td>0.0</td>\n      <td>...</td>\n      <td>NaN</td>\n      <td>NaN</td>\n      <td>NaN</td>\n      <td>NaN</td>\n      <td>172.183</td>\n      <td>1049.579</td>\n      <td>4.508</td>\n      <td>72.120</td>\n      <td>75.598</td>\n      <td>0.0</td>\n    </tr>\n    <tr>\n      <th>15</th>\n      <td>2015-02-01 00:16:50-05:00</td>\n      <td>16</td>\n      <td>0.012549</td>\n      <td>5.026241</td>\n      <td>0.0</td>\n      <td>0.0</td>\n      <td>0.0</td>\n      <td>0.0</td>\n      <td>0.0</td>\n      <td>0.0</td>\n      <td>...</td>\n      <td>NaN</td>\n      <td>NaN</td>\n      <td>NaN</td>\n      <td>NaN</td>\n      <td>175.179</td>\n      <td>1055.410</td>\n      <td>4.481</td>\n      <td>72.134</td>\n      <td>75.619</td>\n      <td>0.0</td>\n    </tr>\n    <tr>\n      <th>16</th>\n      <td>2015-02-01 00:17:50-05:00</td>\n      <td>17</td>\n      <td>0.012549</td>\n      <td>4.933579</td>\n      <td>0.0</td>\n      <td>0.0</td>\n      <td>0.0</td>\n      <td>0.0</td>\n      <td>0.0</td>\n      <td>0.0</td>\n      <td>...</td>\n      <td>NaN</td>\n      <td>NaN</td>\n      <td>NaN</td>\n      <td>NaN</td>\n      <td>173.989</td>\n      <td>1058.391</td>\n      <td>4.477</td>\n      <td>72.132</td>\n      <td>75.638</td>\n      <td>0.0</td>\n    </tr>\n    <tr>\n      <th>17</th>\n      <td>2015-02-01 00:18:50-05:00</td>\n      <td>18</td>\n      <td>0.012549</td>\n      <td>4.861808</td>\n      <td>0.0</td>\n      <td>0.0</td>\n      <td>0.0</td>\n      <td>0.0</td>\n      <td>0.0</td>\n      <td>0.0</td>\n      <td>...</td>\n      <td>NaN</td>\n      <td>NaN</td>\n      <td>NaN</td>\n      <td>NaN</td>\n      <td>174.070</td>\n      <td>1060.899</td>\n      <td>4.522</td>\n      <td>72.168</td>\n      <td>75.643</td>\n      <td>0.0</td>\n    </tr>\n    <tr>\n      <th>18</th>\n      <td>2015-02-01 00:19:50-05:00</td>\n      <td>19</td>\n      <td>0.016512</td>\n      <td>4.786791</td>\n      <td>0.0</td>\n      <td>0.0</td>\n      <td>0.0</td>\n      <td>0.0</td>\n      <td>0.0</td>\n      <td>0.0</td>\n      <td>...</td>\n      <td>NaN</td>\n      <td>NaN</td>\n      <td>NaN</td>\n      <td>NaN</td>\n      <td>173.578</td>\n      <td>1064.274</td>\n      <td>4.498</td>\n      <td>72.171</td>\n      <td>75.654</td>\n      <td>0.0</td>\n    </tr>\n    <tr>\n      <th>19</th>\n      <td>2015-02-01 00:20:50-05:00</td>\n      <td>20</td>\n      <td>0.016512</td>\n      <td>4.665225</td>\n      <td>0.0</td>\n      <td>0.0</td>\n      <td>0.0</td>\n      <td>0.0</td>\n      <td>0.0</td>\n      <td>0.0</td>\n      <td>...</td>\n      <td>NaN</td>\n      <td>NaN</td>\n      <td>NaN</td>\n      <td>NaN</td>\n      <td>175.753</td>\n      <td>1064.366</td>\n      <td>4.498</td>\n      <td>72.182</td>\n      <td>75.669</td>\n      <td>0.0</td>\n    </tr>\n    <tr>\n      <th>20</th>\n      <td>2015-02-01 00:21:50-05:00</td>\n      <td>21</td>\n      <td>0.016512</td>\n      <td>4.620054</td>\n      <td>0.0</td>\n      <td>0.0</td>\n      <td>0.0</td>\n      <td>0.0</td>\n      <td>0.0</td>\n      <td>0.0</td>\n      <td>...</td>\n      <td>NaN</td>\n      <td>NaN</td>\n      <td>NaN</td>\n      <td>NaN</td>\n      <td>175.220</td>\n      <td>1069.041</td>\n      <td>4.498</td>\n      <td>72.201</td>\n      <td>75.636</td>\n      <td>0.0</td>\n    </tr>\n    <tr>\n      <th>21</th>\n      <td>2015-02-01 00:22:50-05:00</td>\n      <td>22</td>\n      <td>0.019154</td>\n      <td>4.544734</td>\n      <td>0.0</td>\n      <td>0.0</td>\n      <td>0.0</td>\n      <td>0.0</td>\n      <td>0.0</td>\n      <td>0.0</td>\n      <td>...</td>\n      <td>NaN</td>\n      <td>NaN</td>\n      <td>NaN</td>\n      <td>NaN</td>\n      <td>173.783</td>\n      <td>1073.269</td>\n      <td>4.473</td>\n      <td>72.199</td>\n      <td>75.608</td>\n      <td>0.0</td>\n    </tr>\n    <tr>\n      <th>22</th>\n      <td>2015-02-01 00:23:50-05:00</td>\n      <td>23</td>\n      <td>0.019154</td>\n      <td>4.485139</td>\n      <td>0.0</td>\n      <td>0.0</td>\n      <td>0.0</td>\n      <td>0.0</td>\n      <td>0.0</td>\n      <td>0.0</td>\n      <td>...</td>\n      <td>NaN</td>\n      <td>NaN</td>\n      <td>NaN</td>\n      <td>NaN</td>\n      <td>184.371</td>\n      <td>1074.504</td>\n      <td>4.438</td>\n      <td>72.194</td>\n      <td>75.594</td>\n      <td>0.0</td>\n    </tr>\n    <tr>\n      <th>23</th>\n      <td>2015-02-01 00:24:50-05:00</td>\n      <td>24</td>\n      <td>0.021796</td>\n      <td>4.466742</td>\n      <td>0.0</td>\n      <td>0.0</td>\n      <td>0.0</td>\n      <td>0.0</td>\n      <td>0.0</td>\n      <td>0.0</td>\n      <td>...</td>\n      <td>NaN</td>\n      <td>NaN</td>\n      <td>NaN</td>\n      <td>NaN</td>\n      <td>164.837</td>\n      <td>1073.782</td>\n      <td>4.500</td>\n      <td>72.206</td>\n      <td>75.568</td>\n      <td>0.0</td>\n    </tr>\n    <tr>\n      <th>24</th>\n      <td>2015-02-01 00:25:50-05:00</td>\n      <td>25</td>\n      <td>0.021796</td>\n      <td>4.476984</td>\n      <td>0.0</td>\n      <td>0.0</td>\n      <td>0.0</td>\n      <td>0.0</td>\n      <td>0.0</td>\n      <td>0.0</td>\n      <td>...</td>\n      <td>NaN</td>\n      <td>NaN</td>\n      <td>NaN</td>\n      <td>NaN</td>\n      <td>163.647</td>\n      <td>1077.419</td>\n      <td>4.477</td>\n      <td>72.218</td>\n      <td>75.571</td>\n      <td>0.0</td>\n    </tr>\n    <tr>\n      <th>25</th>\n      <td>2015-02-01 00:26:50-05:00</td>\n      <td>26</td>\n      <td>0.024438</td>\n      <td>4.457217</td>\n      <td>0.0</td>\n      <td>0.0</td>\n      <td>0.0</td>\n      <td>0.0</td>\n      <td>0.0</td>\n      <td>0.0</td>\n      <td>...</td>\n      <td>NaN</td>\n      <td>NaN</td>\n      <td>NaN</td>\n      <td>NaN</td>\n      <td>171.772</td>\n      <td>1072.784</td>\n      <td>4.447</td>\n      <td>72.227</td>\n      <td>75.567</td>\n      <td>0.0</td>\n    </tr>\n    <tr>\n      <th>26</th>\n      <td>2015-02-01 00:27:50-05:00</td>\n      <td>27</td>\n      <td>0.024438</td>\n      <td>4.497969</td>\n      <td>0.0</td>\n      <td>0.0</td>\n      <td>0.0</td>\n      <td>0.0</td>\n      <td>0.0</td>\n      <td>0.0</td>\n      <td>...</td>\n      <td>NaN</td>\n      <td>NaN</td>\n      <td>NaN</td>\n      <td>NaN</td>\n      <td>170.747</td>\n      <td>1072.114</td>\n      <td>4.543</td>\n      <td>72.229</td>\n      <td>75.530</td>\n      <td>0.0</td>\n    </tr>\n    <tr>\n      <th>27</th>\n      <td>2015-02-01 00:28:50-05:00</td>\n      <td>28</td>\n      <td>0.024438</td>\n      <td>4.473445</td>\n      <td>0.0</td>\n      <td>0.0</td>\n      <td>0.0</td>\n      <td>0.0</td>\n      <td>0.0</td>\n      <td>0.0</td>\n      <td>...</td>\n      <td>NaN</td>\n      <td>NaN</td>\n      <td>NaN</td>\n      <td>NaN</td>\n      <td>167.833</td>\n      <td>1068.279</td>\n      <td>4.527</td>\n      <td>72.275</td>\n      <td>75.472</td>\n      <td>0.0</td>\n    </tr>\n    <tr>\n      <th>28</th>\n      <td>2015-02-01 00:29:50-05:00</td>\n      <td>29</td>\n      <td>0.027080</td>\n      <td>4.523562</td>\n      <td>0.0</td>\n      <td>0.0</td>\n      <td>0.0</td>\n      <td>0.0</td>\n      <td>0.0</td>\n      <td>0.0</td>\n      <td>...</td>\n      <td>NaN</td>\n      <td>NaN</td>\n      <td>NaN</td>\n      <td>NaN</td>\n      <td>180.308</td>\n      <td>1072.810</td>\n      <td>4.488</td>\n      <td>72.270</td>\n      <td>75.444</td>\n      <td>0.0</td>\n    </tr>\n    <tr>\n      <th>29</th>\n      <td>2015-02-01 00:30:50-05:00</td>\n      <td>30</td>\n      <td>0.027080</td>\n      <td>4.523432</td>\n      <td>0.0</td>\n      <td>0.0</td>\n      <td>0.0</td>\n      <td>0.0</td>\n      <td>0.0</td>\n      <td>0.0</td>\n      <td>...</td>\n      <td>NaN</td>\n      <td>NaN</td>\n      <td>NaN</td>\n      <td>NaN</td>\n      <td>173.167</td>\n      <td>1064.024</td>\n      <td>4.524</td>\n      <td>72.268</td>\n      <td>75.435</td>\n      <td>0.0</td>\n    </tr>\n    <tr>\n      <th>30</th>\n      <td>2015-02-01 00:31:49-05:00</td>\n      <td>31</td>\n      <td>0.029062</td>\n      <td>4.532420</td>\n      <td>0.0</td>\n      <td>0.0</td>\n      <td>0.0</td>\n      <td>0.0</td>\n      <td>0.0</td>\n      <td>0.0</td>\n      <td>...</td>\n      <td>NaN</td>\n      <td>NaN</td>\n      <td>NaN</td>\n      <td>NaN</td>\n      <td>174.193</td>\n      <td>1062.895</td>\n      <td>4.533</td>\n      <td>72.267</td>\n      <td>75.369</td>\n      <td>0.0</td>\n    </tr>\n    <tr>\n      <th>31</th>\n      <td>2015-02-01 00:32:49-05:00</td>\n      <td>32</td>\n      <td>0.029062</td>\n      <td>4.594796</td>\n      <td>0.0</td>\n      <td>0.0</td>\n      <td>0.0</td>\n      <td>0.0</td>\n      <td>0.0</td>\n      <td>0.0</td>\n      <td>...</td>\n      <td>NaN</td>\n      <td>NaN</td>\n      <td>NaN</td>\n      <td>NaN</td>\n      <td>177.682</td>\n      <td>1056.079</td>\n      <td>4.592</td>\n      <td>72.283</td>\n      <td>75.308</td>\n      <td>0.0</td>\n    </tr>\n    <tr>\n      <th>32</th>\n      <td>2015-02-01 00:33:49-05:00</td>\n      <td>33</td>\n      <td>0.029062</td>\n      <td>4.616840</td>\n      <td>0.0</td>\n      <td>0.0</td>\n      <td>0.0</td>\n      <td>0.0</td>\n      <td>0.0</td>\n      <td>0.0</td>\n      <td>...</td>\n      <td>NaN</td>\n      <td>NaN</td>\n      <td>NaN</td>\n      <td>NaN</td>\n      <td>167.750</td>\n      <td>1056.290</td>\n      <td>4.563</td>\n      <td>72.301</td>\n      <td>75.268</td>\n      <td>0.0</td>\n    </tr>\n    <tr>\n      <th>33</th>\n      <td>2015-02-01 00:34:49-05:00</td>\n      <td>34</td>\n      <td>0.031704</td>\n      <td>4.716247</td>\n      <td>0.0</td>\n      <td>0.0</td>\n      <td>0.0</td>\n      <td>0.0</td>\n      <td>0.0</td>\n      <td>0.0</td>\n      <td>...</td>\n      <td>NaN</td>\n      <td>NaN</td>\n      <td>NaN</td>\n      <td>NaN</td>\n      <td>180.924</td>\n      <td>1060.715</td>\n      <td>4.524</td>\n      <td>72.293</td>\n      <td>75.234</td>\n      <td>0.0</td>\n    </tr>\n    <tr>\n      <th>34</th>\n      <td>2015-02-01 00:35:49-05:00</td>\n      <td>35</td>\n      <td>0.033686</td>\n      <td>4.737618</td>\n      <td>0.0</td>\n      <td>0.0</td>\n      <td>0.0</td>\n      <td>0.0</td>\n      <td>0.0</td>\n      <td>0.0</td>\n      <td>...</td>\n      <td>NaN</td>\n      <td>NaN</td>\n      <td>NaN</td>\n      <td>NaN</td>\n      <td>184.782</td>\n      <td>1058.903</td>\n      <td>4.494</td>\n      <td>72.289</td>\n      <td>75.191</td>\n      <td>0.0</td>\n    </tr>\n    <tr>\n      <th>35</th>\n      <td>2015-02-01 00:36:49-05:00</td>\n      <td>36</td>\n      <td>0.033686</td>\n      <td>4.759703</td>\n      <td>0.0</td>\n      <td>0.0</td>\n      <td>0.0</td>\n      <td>0.0</td>\n      <td>0.0</td>\n      <td>0.0</td>\n      <td>...</td>\n      <td>NaN</td>\n      <td>NaN</td>\n      <td>NaN</td>\n      <td>NaN</td>\n      <td>174.440</td>\n      <td>1046.939</td>\n      <td>4.494</td>\n      <td>72.296</td>\n      <td>75.152</td>\n      <td>0.0</td>\n    </tr>\n    <tr>\n      <th>36</th>\n      <td>2015-02-01 00:37:49-05:00</td>\n      <td>37</td>\n      <td>0.033686</td>\n      <td>4.841535</td>\n      <td>0.0</td>\n      <td>0.0</td>\n      <td>0.0</td>\n      <td>0.0</td>\n      <td>0.0</td>\n      <td>0.0</td>\n      <td>...</td>\n      <td>NaN</td>\n      <td>NaN</td>\n      <td>NaN</td>\n      <td>NaN</td>\n      <td>173.291</td>\n      <td>1048.476</td>\n      <td>4.518</td>\n      <td>72.274</td>\n      <td>75.081</td>\n      <td>0.0</td>\n    </tr>\n    <tr>\n      <th>37</th>\n      <td>2015-02-01 00:38:49-05:00</td>\n      <td>38</td>\n      <td>0.036327</td>\n      <td>4.880765</td>\n      <td>0.0</td>\n      <td>0.0</td>\n      <td>0.0</td>\n      <td>0.0</td>\n      <td>0.0</td>\n      <td>0.0</td>\n      <td>...</td>\n      <td>NaN</td>\n      <td>NaN</td>\n      <td>NaN</td>\n      <td>NaN</td>\n      <td>175.876</td>\n      <td>1044.418</td>\n      <td>4.512</td>\n      <td>72.310</td>\n      <td>75.014</td>\n      <td>0.0</td>\n    </tr>\n    <tr>\n      <th>38</th>\n      <td>2015-02-01 00:39:49-05:00</td>\n      <td>39</td>\n      <td>0.038969</td>\n      <td>4.888449</td>\n      <td>0.0</td>\n      <td>0.0</td>\n      <td>0.0</td>\n      <td>0.0</td>\n      <td>0.0</td>\n      <td>0.0</td>\n      <td>...</td>\n      <td>NaN</td>\n      <td>NaN</td>\n      <td>NaN</td>\n      <td>NaN</td>\n      <td>170.213</td>\n      <td>1043.486</td>\n      <td>4.516</td>\n      <td>72.328</td>\n      <td>74.931</td>\n      <td>0.0</td>\n    </tr>\n    <tr>\n      <th>39</th>\n      <td>2015-02-01 00:40:49-05:00</td>\n      <td>40</td>\n      <td>0.038969</td>\n      <td>4.972355</td>\n      <td>0.0</td>\n      <td>0.0</td>\n      <td>0.0</td>\n      <td>0.0</td>\n      <td>0.0</td>\n      <td>0.0</td>\n      <td>...</td>\n      <td>NaN</td>\n      <td>NaN</td>\n      <td>NaN</td>\n      <td>NaN</td>\n      <td>182.607</td>\n      <td>1038.588</td>\n      <td>4.481</td>\n      <td>72.340</td>\n      <td>74.890</td>\n      <td>0.0</td>\n    </tr>\n    <tr>\n      <th>40</th>\n      <td>2015-02-01 00:41:49-05:00</td>\n      <td>41</td>\n      <td>0.038969</td>\n      <td>5.058538</td>\n      <td>0.0</td>\n      <td>0.0</td>\n      <td>0.0</td>\n      <td>0.0</td>\n      <td>0.0</td>\n      <td>0.0</td>\n      <td>...</td>\n      <td>NaN</td>\n      <td>NaN</td>\n      <td>NaN</td>\n      <td>NaN</td>\n      <td>185.889</td>\n      <td>1034.779</td>\n      <td>4.467</td>\n      <td>72.355</td>\n      <td>74.749</td>\n      <td>0.0</td>\n    </tr>\n    <tr>\n      <th>41</th>\n      <td>2015-02-01 00:42:49-05:00</td>\n      <td>42</td>\n      <td>0.038969</td>\n      <td>5.135327</td>\n      <td>0.0</td>\n      <td>0.0</td>\n      <td>0.0</td>\n      <td>0.0</td>\n      <td>0.0</td>\n      <td>0.0</td>\n      <td>...</td>\n      <td>NaN</td>\n      <td>NaN</td>\n      <td>NaN</td>\n      <td>NaN</td>\n      <td>171.732</td>\n      <td>1031.457</td>\n      <td>4.543</td>\n      <td>72.338</td>\n      <td>74.708</td>\n      <td>0.0</td>\n    </tr>\n    <tr>\n      <th>42</th>\n      <td>2015-02-01 00:43:49-05:00</td>\n      <td>43</td>\n      <td>0.041611</td>\n      <td>5.253341</td>\n      <td>0.0</td>\n      <td>0.0</td>\n      <td>0.0</td>\n      <td>0.0</td>\n      <td>0.0</td>\n      <td>0.0</td>\n      <td>...</td>\n      <td>NaN</td>\n      <td>NaN</td>\n      <td>NaN</td>\n      <td>NaN</td>\n      <td>180.472</td>\n      <td>1029.054</td>\n      <td>4.537</td>\n      <td>72.315</td>\n      <td>74.612</td>\n      <td>0.0</td>\n    </tr>\n    <tr>\n      <th>43</th>\n      <td>2015-02-01 00:44:49-05:00</td>\n      <td>44</td>\n      <td>0.044253</td>\n      <td>5.312148</td>\n      <td>0.0</td>\n      <td>0.0</td>\n      <td>0.0</td>\n      <td>0.0</td>\n      <td>0.0</td>\n      <td>0.0</td>\n      <td>...</td>\n      <td>NaN</td>\n      <td>NaN</td>\n      <td>NaN</td>\n      <td>NaN</td>\n      <td>173.660</td>\n      <td>1025.206</td>\n      <td>4.545</td>\n      <td>72.323</td>\n      <td>74.584</td>\n      <td>0.0</td>\n    </tr>\n    <tr>\n      <th>44</th>\n      <td>2015-02-01 00:45:49-05:00</td>\n      <td>45</td>\n      <td>0.044253</td>\n      <td>5.389095</td>\n      <td>0.0</td>\n      <td>0.0</td>\n      <td>0.0</td>\n      <td>0.0</td>\n      <td>0.0</td>\n      <td>0.0</td>\n      <td>...</td>\n      <td>NaN</td>\n      <td>NaN</td>\n      <td>NaN</td>\n      <td>NaN</td>\n      <td>174.316</td>\n      <td>1024.418</td>\n      <td>4.518</td>\n      <td>72.305</td>\n      <td>74.483</td>\n      <td>0.0</td>\n    </tr>\n    <tr>\n      <th>45</th>\n      <td>2015-02-01 00:46:49-05:00</td>\n      <td>46</td>\n      <td>0.044253</td>\n      <td>5.347680</td>\n      <td>0.0</td>\n      <td>0.0</td>\n      <td>0.0</td>\n      <td>0.0</td>\n      <td>0.0</td>\n      <td>0.0</td>\n      <td>...</td>\n      <td>NaN</td>\n      <td>NaN</td>\n      <td>NaN</td>\n      <td>NaN</td>\n      <td>170.829</td>\n      <td>1025.718</td>\n      <td>4.490</td>\n      <td>72.307</td>\n      <td>74.411</td>\n      <td>0.0</td>\n    </tr>\n    <tr>\n      <th>46</th>\n      <td>2015-02-01 00:47:49-05:00</td>\n      <td>47</td>\n      <td>0.044253</td>\n      <td>5.344154</td>\n      <td>0.0</td>\n      <td>0.0</td>\n      <td>0.0</td>\n      <td>0.0</td>\n      <td>0.0</td>\n      <td>0.0</td>\n      <td>...</td>\n      <td>NaN</td>\n      <td>NaN</td>\n      <td>NaN</td>\n      <td>NaN</td>\n      <td>176.040</td>\n      <td>1017.287</td>\n      <td>4.492</td>\n      <td>72.312</td>\n      <td>74.311</td>\n      <td>0.0</td>\n    </tr>\n    <tr>\n      <th>47</th>\n      <td>2015-02-01 00:48:49-05:00</td>\n      <td>48</td>\n      <td>0.046895</td>\n      <td>5.304654</td>\n      <td>0.0</td>\n      <td>0.0</td>\n      <td>0.0</td>\n      <td>0.0</td>\n      <td>0.0</td>\n      <td>0.0</td>\n      <td>...</td>\n      <td>NaN</td>\n      <td>NaN</td>\n      <td>NaN</td>\n      <td>NaN</td>\n      <td>185.849</td>\n      <td>1021.332</td>\n      <td>4.434</td>\n      <td>72.319</td>\n      <td>74.276</td>\n      <td>0.0</td>\n    </tr>\n    <tr>\n      <th>48</th>\n      <td>2015-02-01 00:49:49-05:00</td>\n      <td>49</td>\n      <td>0.049537</td>\n      <td>5.268184</td>\n      <td>0.0</td>\n      <td>0.0</td>\n      <td>0.0</td>\n      <td>0.0</td>\n      <td>0.0</td>\n      <td>0.0</td>\n      <td>...</td>\n      <td>NaN</td>\n      <td>NaN</td>\n      <td>NaN</td>\n      <td>NaN</td>\n      <td>177.395</td>\n      <td>1016.197</td>\n      <td>4.473</td>\n      <td>72.323</td>\n      <td>74.243</td>\n      <td>0.0</td>\n    </tr>\n    <tr>\n      <th>49</th>\n      <td>2015-02-01 00:50:49-05:00</td>\n      <td>50</td>\n      <td>0.049537</td>\n      <td>5.315620</td>\n      <td>0.0</td>\n      <td>0.0</td>\n      <td>0.0</td>\n      <td>0.0</td>\n      <td>0.0</td>\n      <td>0.0</td>\n      <td>...</td>\n      <td>NaN</td>\n      <td>NaN</td>\n      <td>NaN</td>\n      <td>NaN</td>\n      <td>169.802</td>\n      <td>1015.974</td>\n      <td>4.512</td>\n      <td>72.344</td>\n      <td>74.218</td>\n      <td>0.0</td>\n    </tr>\n    <tr>\n      <th>50</th>\n      <td>2015-02-01 00:51:49-05:00</td>\n      <td>51</td>\n      <td>0.049537</td>\n      <td>5.231545</td>\n      <td>0.0</td>\n      <td>0.0</td>\n      <td>0.0</td>\n      <td>0.0</td>\n      <td>0.0</td>\n      <td>0.0</td>\n      <td>...</td>\n      <td>NaN</td>\n      <td>NaN</td>\n      <td>NaN</td>\n      <td>NaN</td>\n      <td>168.161</td>\n      <td>1014.451</td>\n      <td>4.512</td>\n      <td>72.333</td>\n      <td>74.184</td>\n      <td>0.0</td>\n    </tr>\n  </tbody>\n</table>\n<p>51 rows × 382 columns</p>\n</div>"
     },
     "execution_count": 46,
     "metadata": {},
     "output_type": "execute_result"
    }
   ],
   "source": [
    "netzero2.loc[:50]"
   ],
   "metadata": {
    "collapsed": false,
    "pycharm": {
     "name": "#%%\n"
    }
   }
  },
  {
   "cell_type": "code",
   "execution_count": 47,
   "outputs": [
    {
     "data": {
      "text/plain": "                                     count         mean          std  \\\nDHW_ClothesWasherColdFlow           8673.0     4.188160     9.225338   \nDHW_ClothesWasherHotFlow            8673.0     0.779633     6.223181   \nDHW_DishwasherHotFlow               8673.0     0.204105     0.566595   \nDHW_HeatPumpWaterHeaterEnergyTotal  8673.0  1594.941097  5025.899160   \nDHW_HeatPumpWaterHeaterPowerTotal   8673.0   127.994912   243.000776   \n...                                    ...          ...          ...   \nHVAC_HeatPumpOutdoorUnitPower       8632.0   508.134667   449.981229   \nHVAC_DehumidifierAirflow               0.0          NaN          NaN   \nHVAC_DehumidifierExitAirTemp           0.0          NaN          NaN   \nHVAC_DehumidifierInletAirTemp          0.0          NaN          NaN   \nHVAC_DehumidifierPower                 0.0          NaN          NaN   \n\n                                         min         25%          50%  \\\nDHW_ClothesWasherColdFlow           0.000000    0.000000     0.000000   \nDHW_ClothesWasherHotFlow            0.000000    0.000000     0.033025   \nDHW_DishwasherHotFlow               0.000000    0.000000     0.000000   \nDHW_HeatPumpWaterHeaterEnergyTotal  0.000000  281.087596  1093.601048   \nDHW_HeatPumpWaterHeaterPowerTotal   0.000000    6.920000     6.920000   \n...                                      ...         ...          ...   \nHVAC_HeatPumpOutdoorUnitPower       1.575893   40.016143   495.075013   \nHVAC_DehumidifierAirflow                 NaN         NaN          NaN   \nHVAC_DehumidifierExitAirTemp             NaN         NaN          NaN   \nHVAC_DehumidifierInletAirTemp            NaN         NaN          NaN   \nHVAC_DehumidifierPower                   NaN         NaN          NaN   \n\n                                            75%            max  \nDHW_ClothesWasherColdFlow              0.000000      33.064630  \nDHW_ClothesWasherHotFlow               0.085865     201.696899  \nDHW_DishwasherHotFlow                  0.000000       4.636710  \nDHW_HeatPumpWaterHeaterEnergyTotal  2132.736588  188169.777407  \nDHW_HeatPumpWaterHeaterPowerTotal    169.316904    3556.388661  \n...                                         ...            ...  \nHVAC_HeatPumpOutdoorUnitPower        820.468290    1993.244867  \nHVAC_DehumidifierAirflow                    NaN            NaN  \nHVAC_DehumidifierExitAirTemp                NaN            NaN  \nHVAC_DehumidifierInletAirTemp               NaN            NaN  \nHVAC_DehumidifierPower                      NaN            NaN  \n\n[355 rows x 8 columns]",
      "text/html": "<div>\n<style scoped>\n    .dataframe tbody tr th:only-of-type {\n        vertical-align: middle;\n    }\n\n    .dataframe tbody tr th {\n        vertical-align: top;\n    }\n\n    .dataframe thead th {\n        text-align: right;\n    }\n</style>\n<table border=\"1\" class=\"dataframe\">\n  <thead>\n    <tr style=\"text-align: right;\">\n      <th></th>\n      <th>count</th>\n      <th>mean</th>\n      <th>std</th>\n      <th>min</th>\n      <th>25%</th>\n      <th>50%</th>\n      <th>75%</th>\n      <th>max</th>\n    </tr>\n  </thead>\n  <tbody>\n    <tr>\n      <th>DHW_ClothesWasherColdFlow</th>\n      <td>8673.0</td>\n      <td>4.188160</td>\n      <td>9.225338</td>\n      <td>0.000000</td>\n      <td>0.000000</td>\n      <td>0.000000</td>\n      <td>0.000000</td>\n      <td>33.064630</td>\n    </tr>\n    <tr>\n      <th>DHW_ClothesWasherHotFlow</th>\n      <td>8673.0</td>\n      <td>0.779633</td>\n      <td>6.223181</td>\n      <td>0.000000</td>\n      <td>0.000000</td>\n      <td>0.033025</td>\n      <td>0.085865</td>\n      <td>201.696899</td>\n    </tr>\n    <tr>\n      <th>DHW_DishwasherHotFlow</th>\n      <td>8673.0</td>\n      <td>0.204105</td>\n      <td>0.566595</td>\n      <td>0.000000</td>\n      <td>0.000000</td>\n      <td>0.000000</td>\n      <td>0.000000</td>\n      <td>4.636710</td>\n    </tr>\n    <tr>\n      <th>DHW_HeatPumpWaterHeaterEnergyTotal</th>\n      <td>8673.0</td>\n      <td>1594.941097</td>\n      <td>5025.899160</td>\n      <td>0.000000</td>\n      <td>281.087596</td>\n      <td>1093.601048</td>\n      <td>2132.736588</td>\n      <td>188169.777407</td>\n    </tr>\n    <tr>\n      <th>DHW_HeatPumpWaterHeaterPowerTotal</th>\n      <td>8673.0</td>\n      <td>127.994912</td>\n      <td>243.000776</td>\n      <td>0.000000</td>\n      <td>6.920000</td>\n      <td>6.920000</td>\n      <td>169.316904</td>\n      <td>3556.388661</td>\n    </tr>\n    <tr>\n      <th>...</th>\n      <td>...</td>\n      <td>...</td>\n      <td>...</td>\n      <td>...</td>\n      <td>...</td>\n      <td>...</td>\n      <td>...</td>\n      <td>...</td>\n    </tr>\n    <tr>\n      <th>HVAC_HeatPumpOutdoorUnitPower</th>\n      <td>8632.0</td>\n      <td>508.134667</td>\n      <td>449.981229</td>\n      <td>1.575893</td>\n      <td>40.016143</td>\n      <td>495.075013</td>\n      <td>820.468290</td>\n      <td>1993.244867</td>\n    </tr>\n    <tr>\n      <th>HVAC_DehumidifierAirflow</th>\n      <td>0.0</td>\n      <td>NaN</td>\n      <td>NaN</td>\n      <td>NaN</td>\n      <td>NaN</td>\n      <td>NaN</td>\n      <td>NaN</td>\n      <td>NaN</td>\n    </tr>\n    <tr>\n      <th>HVAC_DehumidifierExitAirTemp</th>\n      <td>0.0</td>\n      <td>NaN</td>\n      <td>NaN</td>\n      <td>NaN</td>\n      <td>NaN</td>\n      <td>NaN</td>\n      <td>NaN</td>\n      <td>NaN</td>\n    </tr>\n    <tr>\n      <th>HVAC_DehumidifierInletAirTemp</th>\n      <td>0.0</td>\n      <td>NaN</td>\n      <td>NaN</td>\n      <td>NaN</td>\n      <td>NaN</td>\n      <td>NaN</td>\n      <td>NaN</td>\n      <td>NaN</td>\n    </tr>\n    <tr>\n      <th>HVAC_DehumidifierPower</th>\n      <td>0.0</td>\n      <td>NaN</td>\n      <td>NaN</td>\n      <td>NaN</td>\n      <td>NaN</td>\n      <td>NaN</td>\n      <td>NaN</td>\n      <td>NaN</td>\n    </tr>\n  </tbody>\n</table>\n<p>355 rows × 8 columns</p>\n</div>"
     },
     "execution_count": 47,
     "metadata": {},
     "output_type": "execute_result"
    }
   ],
   "source": [
    "netzero1_hourly.describe().T"
   ],
   "metadata": {
    "collapsed": false,
    "pycharm": {
     "name": "#%%\n"
    }
   }
  },
  {
   "cell_type": "code",
   "execution_count": 48,
   "outputs": [
    {
     "data": {
      "text/plain": "Index(['DHW_WaterTempBAShowerMixed', 'DHW_WaterTempBAShwCold',\n       'DHW_WaterTempBAShwHot', 'DHW_WaterTempBASinkCold',\n       'DHW_WaterTempBASinkHot', 'DHW_WaterTempBASinkMixed',\n       'DHW_WaterTempMBASinkRCold', 'DHW_WaterTempMBASinkRHot',\n       'DHW_WaterTempMBASinkRMixed', 'PV_PVSystem1ACEnergyOSEACPV1OS',\n       'PV_PVSystem1ACPowerOSPACPV1OS', 'PV_PVSystem2ACEnergyOSEACPV2OS',\n       'PV_PVSystem2ACPowerOSPACPV2OS', 'SHW_GlycolFlowHXCoriolisSHW',\n       'SHW_GlycolFlowRateHXCoriolisSHW', 'SHW_WaterFlowHXCoriolisSHW',\n       'SHW_WaterFlowRateHXCoriolisSHW', 'Vent_HRVDewpointTemperatureExhaust',\n       'Vent_HRVDewpointTemperatureOutdoor',\n       'Vent_HRVDewpointTemperatureReturn',\n       'Vent_HRVDewpointTemperatureSupply', 'Vent_HRVexhaustflowrate',\n       'Vent_HRVoutdoorflowrate', 'Vent_HRVreturnflowrate'],\n      dtype='object')"
     },
     "execution_count": 48,
     "metadata": {},
     "output_type": "execute_result"
    }
   ],
   "source": [
    "netzero2.columns.difference(netzero1.columns)"
   ],
   "metadata": {
    "collapsed": false,
    "pycharm": {
     "name": "#%%\n"
    }
   }
  },
  {
   "cell_type": "code",
   "execution_count": 49,
   "outputs": [
    {
     "data": {
      "text/plain": "'DHW_ClothesWasherHotFlow'"
     },
     "execution_count": 49,
     "metadata": {},
     "output_type": "execute_result"
    }
   ],
   "source": [
    "netzero1.columns[3]"
   ],
   "metadata": {
    "collapsed": false,
    "pycharm": {
     "name": "#%%\n"
    }
   }
  },
  {
   "cell_type": "code",
   "execution_count": 50,
   "outputs": [
    {
     "data": {
      "text/plain": "['Timestamp',\n 'TimeStamp_Count',\n 'DHW_ClothesWasherColdFlow',\n 'DHW_ClothesWasherHotFlow',\n 'DHW_DishwasherHotFlow',\n 'DHW_HeatPumpWaterHeaterEnergyTotal',\n 'DHW_HeatPumpWaterHeaterPowerTotal',\n 'DHW_ManifoldColdFlow',\n 'DHW_ManifoldHotFlow',\n 'DHW_MixValveColdFlow',\n 'DHW_RoomTempBasementHPWH',\n 'DHW_SHWGlycolTempIn',\n 'DHW_SHWGlycolTempOut',\n 'DHW_SHWPumpsEnergywithStandby',\n 'DHW_SHWPumpsPowerWithStandby',\n 'DHW_StatusSolenoidColdKitchenSink',\n 'DHW_StatusSolenoidColdMBAShower',\n 'DHW_StatusSolenoidColdMBATub',\n 'DHW_StatusSolenoidHotKitchenSink',\n 'DHW_StatusSolenoidHotMBAShower',\n 'DHW_StatusSolenoidHotMBATub',\n 'DHW_WaterTempDishwasher',\n 'DHW_WaterTempHPWHIn',\n 'DHW_WaterTempHPWHOut',\n 'DHW_WaterTempKSinkCold',\n 'DHW_WaterTempKSinkHot',\n 'DHW_WaterTempKSinkMix',\n 'DHW_WaterTempMBAShwCold',\n 'DHW_WaterTempMBAShwHot',\n 'DHW_WaterTempMBAShwMix',\n 'DHW_WaterTempMBATubCold',\n 'DHW_WaterTempMBATubHot',\n 'DHW_WaterTempMBATubMix',\n 'DHW_WaterTempManifoldColdIn',\n 'DHW_WaterTempManifoldHotIn',\n 'DHW_WaterTempMixValveColdIn',\n 'DHW_WaterTempMixValveHotIn',\n 'DHW_WaterTempSHWHX80galIn',\n 'DHW_WaterTempSHWHX80galOut',\n 'DHW_WaterTempSHWTank80galIn',\n 'DHW_WaterTempSHWTank80galOut',\n 'DHW_WaterTempWasherCold',\n 'DHW_WaterTempWasherHot',\n 'DayOfWeek',\n 'Elec_EnergyChildADownstairs',\n 'Elec_EnergyChildAUpstairs',\n 'Elec_EnergyChildBDownstairs',\n 'Elec_EnergyChildBUpstairs',\n 'Elec_EnergyClothesWasher',\n 'Elec_EnergyDishwasher',\n 'Elec_EnergyDryer1of2',\n 'Elec_EnergyDryer2of2',\n 'Elec_EnergyGarbageDisposal',\n 'Elec_EnergyHRV',\n 'Elec_EnergyHeatLoadforRefrigerator',\n 'Elec_EnergyHeatPumpWH1of2',\n 'Elec_EnergyHeatPumpWH2of2',\n 'Elec_EnergyLightingControlPanelRPS1',\n 'Elec_EnergyLightingControlPanelRPS2',\n 'Elec_EnergyLights1stFloorA',\n 'Elec_EnergyLights1stFloorB',\n 'Elec_EnergyLights2ndFloor',\n 'Elec_EnergyLightsAttic',\n 'Elec_EnergyLightsBasement',\n 'Elec_EnergyLightsBasementStair',\n 'Elec_EnergyMakeUpAirDamper',\n 'Elec_EnergyMicrowave',\n 'Elec_EnergyPV1of2',\n 'Elec_EnergyPV2of2',\n 'Elec_EnergyParentADownstairs',\n 'Elec_EnergyParentAUpstairs',\n 'Elec_EnergyParentBDownstairs',\n 'Elec_EnergyParentBUpstairs',\n 'Elec_EnergyPlugs2ndFloor',\n 'Elec_EnergyPlugsAttic',\n 'Elec_EnergyPlugsBA1',\n 'Elec_EnergyPlugsBA2North',\n 'Elec_EnergyPlugsBA2South',\n 'Elec_EnergyPlugsBR2',\n 'Elec_EnergyPlugsBR3',\n 'Elec_EnergyPlugsBR4',\n 'Elec_EnergyPlugsBaseAHeliodyneHXs',\n 'Elec_EnergyPlugsBaseB',\n 'Elec_EnergyPlugsBaseC',\n 'Elec_EnergyPlugsDR',\n 'Elec_EnergyPlugsDRB',\n 'Elec_EnergyPlugsEntryHall',\n 'Elec_EnergyPlugsGSHPInstrumentation',\n 'Elec_EnergyPlugsHVACInstrumentation',\n 'Elec_EnergyPlugsInstBA1',\n 'Elec_EnergyPlugsInstBA2',\n 'Elec_EnergyPlugsInstBR2Hall',\n 'Elec_EnergyPlugsInstBR3',\n 'Elec_EnergyPlugsInstBR4A',\n 'Elec_EnergyPlugsInstBR4B',\n 'Elec_EnergyPlugsInstDRA',\n 'Elec_EnergyPlugsInstHall',\n 'Elec_EnergyPlugsInstKitA',\n 'Elec_EnergyPlugsInstKitD',\n 'Elec_EnergyPlugsInstLRA',\n 'Elec_EnergyPlugsInstLRB',\n 'Elec_EnergyPlugsInstMBAB',\n 'Elec_EnergyPlugsInstMBRA',\n 'Elec_EnergyPlugsInstMudroomA',\n 'Elec_EnergyPlugsInstMudroomB',\n 'Elec_EnergyPlugsKitPeninsula',\n 'Elec_EnergyPlugsKitRange',\n 'Elec_EnergyPlugsKitSink',\n 'Elec_EnergyPlugsLR',\n 'Elec_EnergyPlugsMBAEast',\n 'Elec_EnergyPlugsMBAWest',\n 'Elec_EnergyPlugsMBR',\n 'Elec_EnergyRefrigerator',\n 'Elec_EnergySpare1',\n 'Elec_EnergySpare2',\n 'Elec_EnergySumpPump',\n 'Elec_PowerChildADownstairs',\n 'Elec_PowerChildAUpstairs',\n 'Elec_PowerChildBDownstairs',\n 'Elec_PowerChildBUpstairs',\n 'Elec_PowerClothesWasher',\n 'Elec_PowerDishwasher',\n 'Elec_PowerDryer1of2',\n 'Elec_PowerDryer2of2',\n 'Elec_PowerGarbageDisposal',\n 'Elec_PowerHRV',\n 'Elec_PowerHeatLoadforRefrigerator',\n 'Elec_PowerHeatPumpWH1of2',\n 'Elec_PowerHeatPumpWH2of2',\n 'Elec_PowerLightingControlPanelRPS1',\n 'Elec_PowerLightingControlPanelRPS2',\n 'Elec_PowerLights1stFloorA',\n 'Elec_PowerLights1stFloorB',\n 'Elec_PowerLights2ndFloor',\n 'Elec_PowerLightsAttic',\n 'Elec_PowerLightsBasement',\n 'Elec_PowerLightsBasementStair',\n 'Elec_PowerMakeUpAirDamper',\n 'Elec_PowerMicrowave',\n 'Elec_PowerPV1of2',\n 'Elec_PowerPV2of2',\n 'Elec_PowerParentADownstairs',\n 'Elec_PowerParentAUpstairs',\n 'Elec_PowerParentBDownstairs',\n 'Elec_PowerParentBUpstairs',\n 'Elec_PowerPlugs2ndFloor',\n 'Elec_PowerPlugsAttic',\n 'Elec_PowerPlugsBA1',\n 'Elec_PowerPlugsBA2North',\n 'Elec_PowerPlugsBA2South',\n 'Elec_PowerPlugsBR2',\n 'Elec_PowerPlugsBR3',\n 'Elec_PowerPlugsBR4',\n 'Elec_PowerPlugsBaseAHeliodyneHXs',\n 'Elec_PowerPlugsBaseB',\n 'Elec_PowerPlugsBaseC',\n 'Elec_PowerPlugsDR',\n 'Elec_PowerPlugsDRB',\n 'Elec_PowerPlugsEntryHall',\n 'Elec_PowerPlugsGSHPInstrumentation',\n 'Elec_PowerPlugsHVACInstrumentation',\n 'Elec_PowerPlugsInstBA1',\n 'Elec_PowerPlugsInstBA2',\n 'Elec_PowerPlugsInstBR2Hall',\n 'Elec_PowerPlugsInstBR3',\n 'Elec_PowerPlugsInstBR4A',\n 'Elec_PowerPlugsInstBR4B',\n 'Elec_PowerPlugsInstDRA',\n 'Elec_PowerPlugsInstHall',\n 'Elec_PowerPlugsInstKitA',\n 'Elec_PowerPlugsInstKitD',\n 'Elec_PowerPlugsInstLRA',\n 'Elec_PowerPlugsInstLRB',\n 'Elec_PowerPlugsInstMBAB',\n 'Elec_PowerPlugsInstMBRA',\n 'Elec_PowerPlugsInstMudroomA',\n 'Elec_PowerPlugsInstMudroomB',\n 'Elec_PowerPlugsKitPeninsula',\n 'Elec_PowerPlugsKitRange',\n 'Elec_PowerPlugsKitSink',\n 'Elec_PowerPlugsLR',\n 'Elec_PowerPlugsMBAEast',\n 'Elec_PowerPlugsMBAWest',\n 'Elec_PowerPlugsMBR',\n 'Elec_PowerRefrigerator',\n 'Elec_PowerSpare1',\n 'Elec_PowerSpare2',\n 'Elec_PowerSumpPump',\n 'HVAC_HVACDewpointReturnAir',\n 'HVAC_HVACDewpointSupplyAir',\n 'HVAC_HVACTempReturnAir',\n 'HVAC_HVACTempSupplyAir',\n 'IndEnv_BasementRH',\n 'IndEnv_Bedroom2RH',\n 'IndEnv_Bedroom3RH',\n 'IndEnv_KitchenRH',\n 'IndEnv_LivingRmRH',\n 'IndEnv_MBARH',\n 'IndEnv_MastBedRmRH',\n 'IndEnv_RadiantTempBR2',\n 'IndEnv_RadiantTempBR3',\n 'IndEnv_RadiantTempKitchen',\n 'IndEnv_RadiantTempLR',\n 'IndEnv_RadiantTempMBR',\n 'IndEnv_RoomTempAtticNE',\n 'IndEnv_RoomTempAtticNW',\n 'IndEnv_RoomTempAtticSE',\n 'IndEnv_RoomTempAtticSW',\n 'IndEnv_RoomTempBA1Temp',\n 'IndEnv_RoomTempBA2Temp',\n 'IndEnv_RoomTempBR2Temp',\n 'IndEnv_RoomTempBR3Temp',\n 'IndEnv_RoomTempBR4Temp',\n 'IndEnv_RoomTempBasementNE',\n 'IndEnv_RoomTempBasementNW',\n 'IndEnv_RoomTempBasementSE',\n 'IndEnv_RoomTempBasementSW',\n 'IndEnv_RoomTempDRTemp',\n 'IndEnv_RoomTempHallLowerMid',\n 'IndEnv_RoomTempHallLowest',\n 'IndEnv_RoomTempHallMiddle',\n 'IndEnv_RoomTempHallUpper',\n 'IndEnv_RoomTempHallUpperMid',\n 'IndEnv_RoomTempKitchenTemp',\n 'IndEnv_RoomTempLRTemp',\n 'IndEnv_RoomTempMBATemp',\n 'IndEnv_RoomTempMBRTemp',\n 'IndEnv_RoomTempWDTemp',\n 'Load_1stFloorLightsEnergyUsage',\n 'Load_1stFloorLightsPowerUsage',\n 'Load_1stFloorSensHeatEnergyUsage',\n 'Load_1stFloorSensHeatPowerUsage',\n 'Load_2ndFloorLightsEnergyUsage',\n 'Load_2ndFloorLightsPowerUsage',\n 'Load_2ndFloorSensHeatEnergyUsage',\n 'Load_2ndFloorSensHeatPowerUsage',\n 'Load_BR2PlugLoadsEnergyUsage',\n 'Load_BR2PlugLoadsPowerUsage',\n 'Load_BR3PlugLoadsEnergyUsage',\n 'Load_BR3PlugLoadsPowerUsage',\n 'Load_BR4PlugLoadsEnergyUsage',\n 'Load_BR4PlugLoadsPowerUsage',\n 'Load_BasementPlugLoadsEnergyUsage',\n 'Load_BasementPlugLoadsPowerUsage',\n 'Load_ClothesWasherEnergywithStandby',\n 'Load_ClothesWasherPowerWithStandby',\n 'Load_DryerEnergyTotal',\n 'Load_DryerPowerTotal',\n 'Load_KPlugLoadsEnergyUsage',\n 'Load_KPlugLoadsPowerUsage',\n 'Load_LRPlugLoadsEnergyUsage',\n 'Load_LRPlugLoadsPowerUsage',\n 'Load_LatentHeatEnergyUsage',\n 'Load_LatentHeatPowerUsage',\n 'Load_LatentHeatWaterVolume',\n 'Load_MBRPlugLoadsEnergyUsage',\n 'Load_MBRPlugLoadsPowerUsage',\n 'Load_MicrowaveEnergywithStandby',\n 'Load_MicrowavePowerWithStandby',\n 'Load_OvenEnergyTotal',\n 'Load_OvenPowerTotal',\n 'Load_RefrigeratorEnergywithStandby',\n 'Load_RefrigeratorPowerWithStandby',\n 'Load_RefrigeratorTemp',\n 'Load_StatusApplianceCooktop',\n 'Load_StatusApplianceDishwasher',\n 'Load_StatusApplianceOven',\n 'Load_StatusApplianceRangeHood',\n 'Load_StatusBA1Lights',\n 'Load_StatusBA2Lights',\n 'Load_StatusBR2Lights',\n 'Load_StatusBR3Lights',\n 'Load_StatusBR4Lights',\n 'Load_StatusDRLights',\n 'Load_StatusEntryHallLights',\n 'Load_StatusKitchenLightsA',\n 'Load_StatusKitchenLightsB',\n 'Load_StatusKitchenLightsC',\n 'Load_StatusLRLights1',\n 'Load_StatusLRLights2',\n 'Load_StatusLRLights3',\n 'Load_StatusLatentload',\n 'Load_StatusMBALights',\n 'Load_StatusMBRLights1',\n 'Load_StatusMBRLights2',\n 'Load_StatusPlugLoadBR2Laptop',\n 'Load_StatusPlugLoadBR3Laptop',\n 'Load_StatusPlugLoadBlender',\n 'Load_StatusPlugLoadCanOpener',\n 'Load_StatusPlugLoadCoffeeMaker',\n 'Load_StatusPlugLoadDesktopPCMonitor',\n 'Load_StatusPlugLoadFan',\n 'Load_StatusPlugLoadHairDryerCurlIron',\n 'Load_StatusPlugLoadHandMixer',\n 'Load_StatusPlugLoadHeatingPad',\n 'Load_StatusPlugLoadIron',\n 'Load_StatusPlugLoadLRBlueRay',\n 'Load_StatusPlugLoadLRTV',\n 'Load_StatusPlugLoadMBRBlueRay',\n 'Load_StatusPlugLoadMBRTV',\n 'Load_StatusPlugLoadSlowCooker',\n 'Load_StatusPlugLoadToaster',\n 'Load_StatusPlugLoadToasterOven',\n 'Load_StatusPlugLoadVacuum',\n 'Load_StatusPlugLoadVideoGame',\n 'Load_StatusSensHeatChildADOWN',\n 'Load_StatusSensHeatChildAUP',\n 'Load_StatusSensHeatChildBDOWN',\n 'Load_StatusSensHeatChildBUP',\n 'Load_StatusSensHeatPrntADOWN',\n 'Load_StatusSensHeatPrntAUP',\n 'Load_StatusSensHeatPrntBDOWN',\n 'Load_StatusSensHeatPrntBUP',\n 'OutEnv_OutdoorAmbTemp',\n 'OutEnv_RooftopWindDirection',\n 'OutEnv_RooftopWindSpeed',\n 'PV_AmpsAIA1',\n 'PV_AmpsAIA2',\n 'PV_AmpsBIB1',\n 'PV_AmpsBIB2',\n 'PV_FrequencyF1',\n 'PV_FrequencyF2',\n 'PV_PVBacksideTemp2',\n 'PV_PVBacksideTemp3',\n 'PV_PVBacksideTemp4',\n 'PV_PVBacksideTemp7',\n 'PV_PVInsolationHArray',\n 'PV_PowerFactor3PhTotalPF3PhT1',\n 'PV_PowerFactor3PhTotalPF3PhT2',\n 'PV_StringCurrentIStr1',\n 'PV_StringCurrentIStr2',\n 'PV_StringCurrentIStr3',\n 'PV_StringCurrentIStr4',\n 'PV_StringVoltageUStr2',\n 'PV_StringVoltageUStr4',\n 'PV_VoltsANUAN1',\n 'PV_VoltsANUAN2',\n 'PV_VoltsBNUBN1',\n 'PV_VoltsBNUBN2',\n 'PV_Watts3PhTotalW3PhT1',\n 'PV_Watts3PhTotalW3PhT2',\n 'PV_WhoursDeliveredWhD1',\n 'PV_WhoursDeliveredWhD2',\n 'SHW_GlycolTempSHWPanel80galOut',\n 'SHW_PSPSHW',\n 'SHW_SHWHX80galWaterFlow',\n 'Vent_HRVTempExhaustOut',\n 'Vent_HRVTempOutdoorin',\n 'Vent_HRVTempReturnIn',\n 'Vent_HRVTempSupplyOut',\n 'Vent_HRVfreshairpressuredifferential',\n 'Vent_HRVstaleairpressuredifferential',\n 'HVAC_HeatPumpIndoorUnitPower',\n 'HVAC_HeatPumpOutdoorUnitPower',\n 'HVAC_DehumidifierAirflow',\n 'HVAC_DehumidifierExitAirTemp',\n 'HVAC_DehumidifierInletAirTemp',\n 'HVAC_DehumidifierPower']"
     },
     "execution_count": 50,
     "metadata": {},
     "output_type": "execute_result"
    }
   ],
   "source": [
    "netzero1.columns.tolist()"
   ],
   "metadata": {
    "collapsed": false,
    "pycharm": {
     "name": "#%%\n"
    }
   }
  },
  {
   "cell_type": "code",
   "execution_count": 51,
   "outputs": [
    {
     "data": {
      "text/plain": "['DHW_HeatPumpWaterHeaterEnergyTotal',\n 'DHW_HeatPumpWaterHeaterPowerTotal',\n 'Load_DryerEnergyTotal',\n 'Load_DryerPowerTotal',\n 'Load_OvenEnergyTotal',\n 'Load_OvenPowerTotal',\n 'PV_PowerFactor3PhTotalPF3PhT1',\n 'PV_PowerFactor3PhTotalPF3PhT2',\n 'PV_Watts3PhTotalW3PhT1',\n 'PV_Watts3PhTotalW3PhT2']"
     },
     "execution_count": 51,
     "metadata": {},
     "output_type": "execute_result"
    }
   ],
   "source": [
    "totals = [x for x in netzero1.columns if \"Total\" in x]\n",
    "totals"
   ],
   "metadata": {
    "collapsed": false,
    "pycharm": {
     "name": "#%%\n"
    }
   }
  },
  {
   "cell_type": "code",
   "execution_count": null,
   "outputs": [],
   "source": [
    "fig = px.scatter(netzero1, x=\"Timestamp\", y=\"Load_KPlugLoadsPowerUsage\", color=\"Load_StatusPlugLoadToaster\")\n",
    "fig.show()"
   ],
   "metadata": {
    "collapsed": false,
    "pycharm": {
     "name": "#%%\n",
     "is_executing": true
    }
   }
  },
  {
   "cell_type": "code",
   "execution_count": 63,
   "outputs": [],
   "source": [
    "plugs = metadata.loc[(metadata['Parameter'] == \"Status_OnOff\") & (metadata[\"Measurement_Location\"] == \"Kitchen\") & (\n",
    "    metadata[\"Unnamed: 0\"].str.contains(\"Plug\"))][\"Unnamed: 0\"].tolist()  #"
   ],
   "metadata": {
    "collapsed": false,
    "pycharm": {
     "name": "#%%\n"
    }
   }
  },
  {
   "cell_type": "code",
   "execution_count": 64,
   "outputs": [],
   "source": [
    "kitchenplugs = netzero1_hourly[[\"Timestamp\", \"Load_KPlugLoadsPowerUsage\"] + plugs].copy()\n",
    "kitchenplugs[\"Status\"] = kitchenplugs[plugs].sum(axis=1)"
   ],
   "metadata": {
    "collapsed": false,
    "pycharm": {
     "name": "#%%\n"
    }
   }
  },
  {
   "cell_type": "code",
   "execution_count": 65,
   "outputs": [
    {
     "data": {
      "text/plain": "      Load_StatusPlugLoadBlender  Load_StatusPlugLoadToasterOven  \\\n0                          False                           False   \n1                          False                           False   \n2                          False                           False   \n3                          False                           False   \n4                          False                           False   \n...                          ...                             ...   \n8756                       False                           False   \n8757                       False                           False   \n8758                       False                           False   \n8759                       False                           False   \n8760                       False                           False   \n\n      Load_StatusPlugLoadSlowCooker  Load_StatusPlugLoadToaster  \\\n0                             False                       False   \n1                             False                       False   \n2                             False                       False   \n3                             False                       False   \n4                             False                       False   \n...                             ...                         ...   \n8756                          False                       False   \n8757                          False                       False   \n8758                          False                       False   \n8759                          False                       False   \n8760                          False                       False   \n\n      Load_StatusPlugLoadHandMixer  Load_StatusPlugLoadCanOpener  \\\n0                            False                         False   \n1                            False                         False   \n2                            False                         False   \n3                            False                         False   \n4                            False                         False   \n...                            ...                           ...   \n8756                         False                         False   \n8757                         False                         False   \n8758                         False                         False   \n8759                         False                         False   \n8760                         False                         False   \n\n      Load_StatusPlugLoadCoffeeMaker  \n0                              False  \n1                              False  \n2                              False  \n3                              False  \n4                              False  \n...                              ...  \n8756                           False  \n8757                           False  \n8758                           False  \n8759                           False  \n8760                           False  \n\n[8761 rows x 7 columns]",
      "text/html": "<div>\n<style scoped>\n    .dataframe tbody tr th:only-of-type {\n        vertical-align: middle;\n    }\n\n    .dataframe tbody tr th {\n        vertical-align: top;\n    }\n\n    .dataframe thead th {\n        text-align: right;\n    }\n</style>\n<table border=\"1\" class=\"dataframe\">\n  <thead>\n    <tr style=\"text-align: right;\">\n      <th></th>\n      <th>Load_StatusPlugLoadBlender</th>\n      <th>Load_StatusPlugLoadToasterOven</th>\n      <th>Load_StatusPlugLoadSlowCooker</th>\n      <th>Load_StatusPlugLoadToaster</th>\n      <th>Load_StatusPlugLoadHandMixer</th>\n      <th>Load_StatusPlugLoadCanOpener</th>\n      <th>Load_StatusPlugLoadCoffeeMaker</th>\n    </tr>\n  </thead>\n  <tbody>\n    <tr>\n      <th>0</th>\n      <td>False</td>\n      <td>False</td>\n      <td>False</td>\n      <td>False</td>\n      <td>False</td>\n      <td>False</td>\n      <td>False</td>\n    </tr>\n    <tr>\n      <th>1</th>\n      <td>False</td>\n      <td>False</td>\n      <td>False</td>\n      <td>False</td>\n      <td>False</td>\n      <td>False</td>\n      <td>False</td>\n    </tr>\n    <tr>\n      <th>2</th>\n      <td>False</td>\n      <td>False</td>\n      <td>False</td>\n      <td>False</td>\n      <td>False</td>\n      <td>False</td>\n      <td>False</td>\n    </tr>\n    <tr>\n      <th>3</th>\n      <td>False</td>\n      <td>False</td>\n      <td>False</td>\n      <td>False</td>\n      <td>False</td>\n      <td>False</td>\n      <td>False</td>\n    </tr>\n    <tr>\n      <th>4</th>\n      <td>False</td>\n      <td>False</td>\n      <td>False</td>\n      <td>False</td>\n      <td>False</td>\n      <td>False</td>\n      <td>False</td>\n    </tr>\n    <tr>\n      <th>...</th>\n      <td>...</td>\n      <td>...</td>\n      <td>...</td>\n      <td>...</td>\n      <td>...</td>\n      <td>...</td>\n      <td>...</td>\n    </tr>\n    <tr>\n      <th>8756</th>\n      <td>False</td>\n      <td>False</td>\n      <td>False</td>\n      <td>False</td>\n      <td>False</td>\n      <td>False</td>\n      <td>False</td>\n    </tr>\n    <tr>\n      <th>8757</th>\n      <td>False</td>\n      <td>False</td>\n      <td>False</td>\n      <td>False</td>\n      <td>False</td>\n      <td>False</td>\n      <td>False</td>\n    </tr>\n    <tr>\n      <th>8758</th>\n      <td>False</td>\n      <td>False</td>\n      <td>False</td>\n      <td>False</td>\n      <td>False</td>\n      <td>False</td>\n      <td>False</td>\n    </tr>\n    <tr>\n      <th>8759</th>\n      <td>False</td>\n      <td>False</td>\n      <td>False</td>\n      <td>False</td>\n      <td>False</td>\n      <td>False</td>\n      <td>False</td>\n    </tr>\n    <tr>\n      <th>8760</th>\n      <td>False</td>\n      <td>False</td>\n      <td>False</td>\n      <td>False</td>\n      <td>False</td>\n      <td>False</td>\n      <td>False</td>\n    </tr>\n  </tbody>\n</table>\n<p>8761 rows × 7 columns</p>\n</div>"
     },
     "execution_count": 65,
     "metadata": {},
     "output_type": "execute_result"
    }
   ],
   "source": [
    "(kitchenplugs[plugs] < 0) | (kitchenplugs[plugs] > 1)"
   ],
   "metadata": {
    "collapsed": false,
    "pycharm": {
     "name": "#%%\n"
    }
   }
  },
  {
   "cell_type": "code",
   "execution_count": 66,
   "outputs": [
    {
     "data": {
      "text/plain": "{'Blender':                      Timestamp Appliance Color\n 0    2013-07-01 06:00:00-04:00   Blender   red\n 1    2013-07-01 07:00:00-04:00   Blender   red\n 2    2013-07-02 06:00:00-04:00   Blender   red\n 3    2013-07-02 07:00:00-04:00   Blender   red\n 4    2013-07-03 06:00:00-04:00   Blender   red\n ..                         ...       ...   ...\n 815  2014-06-28 10:00:00-04:00   Blender   red\n 816  2014-06-29 09:00:00-04:00   Blender   red\n 817  2014-06-29 10:00:00-04:00   Blender   red\n 818  2014-06-30 06:00:00-04:00   Blender   red\n 819  2014-06-30 07:00:00-04:00   Blender   red\n \n [820 rows x 3 columns],\n 'Toaster Oven':                      Timestamp     Appliance Color\n 0    2013-07-01 06:00:00-04:00  Toaster Oven   red\n 1    2013-07-01 07:00:00-04:00  Toaster Oven   red\n 2    2013-07-02 06:00:00-04:00  Toaster Oven   red\n 3    2013-07-02 07:00:00-04:00  Toaster Oven   red\n 4    2013-07-03 06:00:00-04:00  Toaster Oven   red\n ..                         ...           ...   ...\n 821  2014-06-28 10:00:00-04:00  Toaster Oven   red\n 822  2014-06-29 09:00:00-04:00  Toaster Oven   red\n 823  2014-06-29 10:00:00-04:00  Toaster Oven   red\n 824  2014-06-30 06:00:00-04:00  Toaster Oven   red\n 825  2014-06-30 07:00:00-04:00  Toaster Oven   red\n \n [826 rows x 3 columns],\n 'Slow Cooker':                      Timestamp    Appliance Color\n 0    2013-07-02 08:00:00-04:00  Slow Cooker   red\n 1    2013-07-02 09:00:00-04:00  Slow Cooker   red\n 2    2013-07-02 10:00:00-04:00  Slow Cooker   red\n 3    2013-07-04 08:00:00-04:00  Slow Cooker   red\n 4    2013-07-04 09:00:00-04:00  Slow Cooker   red\n ..                         ...          ...   ...\n 394  2014-06-24 09:00:00-04:00  Slow Cooker   red\n 395  2014-06-24 10:00:00-04:00  Slow Cooker   red\n 396  2014-06-28 09:00:00-04:00  Slow Cooker   red\n 397  2014-06-28 10:00:00-04:00  Slow Cooker   red\n 398  2014-06-28 11:00:00-04:00  Slow Cooker   red\n \n [399 rows x 3 columns],\n 'Toaster':                      Timestamp Appliance Color\n 0    2013-07-01 06:00:00-04:00   Toaster   red\n 1    2013-07-01 07:00:00-04:00   Toaster   red\n 2    2013-07-02 06:00:00-04:00   Toaster   red\n 3    2013-07-02 07:00:00-04:00   Toaster   red\n 4    2013-07-03 06:00:00-04:00   Toaster   red\n ..                         ...       ...   ...\n 808  2014-06-28 10:00:00-04:00   Toaster   red\n 809  2014-06-29 09:00:00-04:00   Toaster   red\n 810  2014-06-29 10:00:00-04:00   Toaster   red\n 811  2014-06-30 06:00:00-04:00   Toaster   red\n 812  2014-06-30 07:00:00-04:00   Toaster   red\n \n [813 rows x 3 columns],\n 'Hand Mixer':                      Timestamp   Appliance Color\n 0    2013-07-01 18:00:00-04:00  Hand Mixer   red\n 1    2013-07-01 19:00:00-04:00  Hand Mixer   red\n 2    2013-07-02 18:00:00-04:00  Hand Mixer   red\n 3    2013-07-02 19:00:00-04:00  Hand Mixer   red\n 4    2013-07-03 18:00:00-04:00  Hand Mixer   red\n ..                         ...         ...   ...\n 816  2014-06-28 20:00:00-04:00  Hand Mixer   red\n 817  2014-06-29 18:00:00-04:00  Hand Mixer   red\n 818  2014-06-29 19:00:00-04:00  Hand Mixer   red\n 819  2014-06-30 18:00:00-04:00  Hand Mixer   red\n 820  2014-06-30 19:00:00-04:00  Hand Mixer   red\n \n [821 rows x 3 columns],\n 'Can Opener':                      Timestamp   Appliance Color\n 0    2013-07-01 18:00:00-04:00  Can Opener   red\n 1    2013-07-01 19:00:00-04:00  Can Opener   red\n 2    2013-07-02 18:00:00-04:00  Can Opener   red\n 3    2013-07-02 19:00:00-04:00  Can Opener   red\n 4    2013-07-03 18:00:00-04:00  Can Opener   red\n ..                         ...         ...   ...\n 833  2014-06-28 20:00:00-04:00  Can Opener   red\n 834  2014-06-29 18:00:00-04:00  Can Opener   red\n 835  2014-06-29 19:00:00-04:00  Can Opener   red\n 836  2014-06-30 18:00:00-04:00  Can Opener   red\n 837  2014-06-30 19:00:00-04:00  Can Opener   red\n \n [838 rows x 3 columns],\n 'Coffee Maker':                      Timestamp     Appliance Color\n 0    2013-07-01 06:00:00-04:00  Coffee Maker   red\n 1    2013-07-01 07:00:00-04:00  Coffee Maker   red\n 2    2013-07-02 06:00:00-04:00  Coffee Maker   red\n 3    2013-07-02 07:00:00-04:00  Coffee Maker   red\n 4    2013-07-03 06:00:00-04:00  Coffee Maker   red\n ..                         ...           ...   ...\n 860  2014-06-28 10:00:00-04:00  Coffee Maker   red\n 861  2014-06-29 09:00:00-04:00  Coffee Maker   red\n 862  2014-06-29 10:00:00-04:00  Coffee Maker   red\n 863  2014-06-30 06:00:00-04:00  Coffee Maker   red\n 864  2014-06-30 07:00:00-04:00  Coffee Maker   red\n \n [865 rows x 3 columns]}"
     },
     "execution_count": 66,
     "metadata": {},
     "output_type": "execute_result"
    }
   ],
   "source": [
    "appliance_dict = {}\n",
    "for appliance in plugs:\n",
    "    name = \" \".join(re.findall('[A-Z][^A-Z]*', appliance.split(\"Load\")[-1]))\n",
    "    appliance_switch = kitchenplugs[(kitchenplugs[appliance] != kitchenplugs[appliance].shift(1))][\n",
    "                           [\"Timestamp\", appliance]][1:]\n",
    "    appliance_dict[name] = pd.DataFrame(\n",
    "        {\"Timestamp\": [appliance_switch.loc[index, \"Timestamp\"] for index in appliance_switch.index],\n",
    "         \"Appliance\": name,\n",
    "         \"Color\": [\"green\" if appliance_switch.loc[index, appliance] == 1 else \"red\" for index in\n",
    "                   appliance_switch.index]})\n",
    "\n",
    "appliance_dict"
   ],
   "metadata": {
    "collapsed": false,
    "pycharm": {
     "name": "#%%\n"
    }
   }
  },
  {
   "cell_type": "code",
   "execution_count": 68,
   "outputs": [
    {
     "ename": "KeyboardInterrupt",
     "evalue": "",
     "output_type": "error",
     "traceback": [
      "\u001B[0;31m---------------------------------------------------------------------------\u001B[0m",
      "\u001B[0;31mKeyboardInterrupt\u001B[0m                         Traceback (most recent call last)",
      "\u001B[0;32m/var/folders/bd/t85lw5j14_vc55x5tn1xbmr00000gn/T/ipykernel_3475/140581649.py\u001B[0m in \u001B[0;36m<module>\u001B[0;34m\u001B[0m\n\u001B[1;32m      5\u001B[0m     \u001B[0;32mfor\u001B[0m \u001B[0mindex\u001B[0m \u001B[0;32min\u001B[0m \u001B[0mdf\u001B[0m\u001B[0;34m.\u001B[0m\u001B[0mindex\u001B[0m\u001B[0;34m:\u001B[0m\u001B[0;34m\u001B[0m\u001B[0;34m\u001B[0m\u001B[0m\n\u001B[1;32m      6\u001B[0m         \u001B[0mx\u001B[0m \u001B[0;34m=\u001B[0m \u001B[0mdf\u001B[0m\u001B[0;34m.\u001B[0m\u001B[0mloc\u001B[0m\u001B[0;34m[\u001B[0m\u001B[0mindex\u001B[0m\u001B[0;34m,\u001B[0m \u001B[0;34m\"Timestamp\"\u001B[0m\u001B[0;34m]\u001B[0m\u001B[0;34m.\u001B[0m\u001B[0mtimestamp\u001B[0m\u001B[0;34m(\u001B[0m\u001B[0;34m)\u001B[0m \u001B[0;34m*\u001B[0m \u001B[0;36m1000\u001B[0m \u001B[0;34m-\u001B[0m \u001B[0;34m(\u001B[0m\u001B[0;36m2\u001B[0m \u001B[0;34m+\u001B[0m \u001B[0mint\u001B[0m\u001B[0;34m(\u001B[0m\u001B[0mstr\u001B[0m\u001B[0;34m(\u001B[0m\u001B[0mdf\u001B[0m\u001B[0;34m.\u001B[0m\u001B[0mloc\u001B[0m\u001B[0;34m[\u001B[0m\u001B[0mindex\u001B[0m\u001B[0;34m,\u001B[0m \u001B[0;34m\"Timestamp\"\u001B[0m\u001B[0;34m]\u001B[0m\u001B[0;34m)\u001B[0m\u001B[0;34m.\u001B[0m\u001B[0msplit\u001B[0m\u001B[0;34m(\u001B[0m\u001B[0;34m\"-\"\u001B[0m\u001B[0;34m)\u001B[0m\u001B[0;34m[\u001B[0m\u001B[0;34m-\u001B[0m\u001B[0;36m1\u001B[0m\u001B[0;34m]\u001B[0m\u001B[0;34m[\u001B[0m\u001B[0;36m1\u001B[0m\u001B[0;34m]\u001B[0m\u001B[0;34m)\u001B[0m\u001B[0;34m)\u001B[0m \u001B[0;34m*\u001B[0m \u001B[0;36m3_600_000\u001B[0m  \u001B[0;31m#Plotly bug work around. Computes unix time with offset\u001B[0m\u001B[0;34m\u001B[0m\u001B[0;34m\u001B[0m\u001B[0m\n\u001B[0;32m----> 7\u001B[0;31m         fig.add_vline(x=x,\n\u001B[0m\u001B[1;32m      8\u001B[0m                       \u001B[0mline_width\u001B[0m\u001B[0;34m=\u001B[0m\u001B[0;36m3\u001B[0m\u001B[0;34m,\u001B[0m\u001B[0;34m\u001B[0m\u001B[0;34m\u001B[0m\u001B[0m\n\u001B[1;32m      9\u001B[0m                       \u001B[0mline_dash\u001B[0m\u001B[0;34m=\u001B[0m\u001B[0;34m\"dash\"\u001B[0m\u001B[0;34m,\u001B[0m\u001B[0;34m\u001B[0m\u001B[0;34m\u001B[0m\u001B[0m\n",
      "\u001B[0;32m/usr/local/lib/python3.9/site-packages/plotly/basedatatypes.py\u001B[0m in \u001B[0;36madd_vline\u001B[0;34m(self, x, row, col, exclude_empty_subplots, annotation, **kwargs)\u001B[0m\n\u001B[1;32m   4075\u001B[0m         \u001B[0;34m**\u001B[0m\u001B[0mkwargs\u001B[0m\u001B[0;34m\u001B[0m\u001B[0;34m\u001B[0m\u001B[0m\n\u001B[1;32m   4076\u001B[0m     ):\n\u001B[0;32m-> 4077\u001B[0;31m         self._process_multiple_axis_spanning_shapes(\n\u001B[0m\u001B[1;32m   4078\u001B[0m             \u001B[0mdict\u001B[0m\u001B[0;34m(\u001B[0m\u001B[0mtype\u001B[0m\u001B[0;34m=\u001B[0m\u001B[0;34m\"line\"\u001B[0m\u001B[0;34m,\u001B[0m \u001B[0mx0\u001B[0m\u001B[0;34m=\u001B[0m\u001B[0mx\u001B[0m\u001B[0;34m,\u001B[0m \u001B[0mx1\u001B[0m\u001B[0;34m=\u001B[0m\u001B[0mx\u001B[0m\u001B[0;34m,\u001B[0m \u001B[0my0\u001B[0m\u001B[0;34m=\u001B[0m\u001B[0;36m0\u001B[0m\u001B[0;34m,\u001B[0m \u001B[0my1\u001B[0m\u001B[0;34m=\u001B[0m\u001B[0;36m1\u001B[0m\u001B[0;34m)\u001B[0m\u001B[0;34m,\u001B[0m\u001B[0;34m\u001B[0m\u001B[0;34m\u001B[0m\u001B[0m\n\u001B[1;32m   4079\u001B[0m             \u001B[0mrow\u001B[0m\u001B[0;34m,\u001B[0m\u001B[0;34m\u001B[0m\u001B[0;34m\u001B[0m\u001B[0m\n",
      "\u001B[0;32m/usr/local/lib/python3.9/site-packages/plotly/basedatatypes.py\u001B[0m in \u001B[0;36m_process_multiple_axis_spanning_shapes\u001B[0;34m(self, shape_args, row, col, shape_type, exclude_empty_subplots, annotation, **kwargs)\u001B[0m\n\u001B[1;32m   4024\u001B[0m             \u001B[0mannotation\u001B[0m\u001B[0;34m,\u001B[0m \u001B[0mshape_type\u001B[0m\u001B[0;34m,\u001B[0m \u001B[0mshape_args\u001B[0m\u001B[0;34m,\u001B[0m \u001B[0mannotation_kwargs\u001B[0m\u001B[0;34m\u001B[0m\u001B[0;34m\u001B[0m\u001B[0m\n\u001B[1;32m   4025\u001B[0m         )\n\u001B[0;32m-> 4026\u001B[0;31m         self.add_shape(\n\u001B[0m\u001B[1;32m   4027\u001B[0m             \u001B[0mrow\u001B[0m\u001B[0;34m=\u001B[0m\u001B[0mrow\u001B[0m\u001B[0;34m,\u001B[0m\u001B[0;34m\u001B[0m\u001B[0;34m\u001B[0m\u001B[0m\n\u001B[1;32m   4028\u001B[0m             \u001B[0mcol\u001B[0m\u001B[0;34m=\u001B[0m\u001B[0mcol\u001B[0m\u001B[0;34m,\u001B[0m\u001B[0;34m\u001B[0m\u001B[0;34m\u001B[0m\u001B[0m\n",
      "\u001B[0;32m/usr/local/lib/python3.9/site-packages/plotly/graph_objs/_figure.py\u001B[0m in \u001B[0;36madd_shape\u001B[0;34m(self, arg, editable, fillcolor, fillrule, layer, line, name, opacity, path, templateitemname, type, visible, x0, x1, xanchor, xref, xsizemode, y0, y1, yanchor, yref, ysizemode, row, col, secondary_y, exclude_empty_subplots, **kwargs)\u001B[0m\n\u001B[1;32m  22112\u001B[0m             \u001B[0;34m**\u001B[0m\u001B[0mkwargs\u001B[0m\u001B[0;34m\u001B[0m\u001B[0;34m\u001B[0m\u001B[0m\n\u001B[1;32m  22113\u001B[0m         )\n\u001B[0;32m> 22114\u001B[0;31m         return self._add_annotation_like(\n\u001B[0m\u001B[1;32m  22115\u001B[0m             \u001B[0;34m\"shape\"\u001B[0m\u001B[0;34m,\u001B[0m\u001B[0;34m\u001B[0m\u001B[0;34m\u001B[0m\u001B[0m\n\u001B[1;32m  22116\u001B[0m             \u001B[0;34m\"shapes\"\u001B[0m\u001B[0;34m,\u001B[0m\u001B[0;34m\u001B[0m\u001B[0;34m\u001B[0m\u001B[0m\n",
      "\u001B[0;32m/usr/local/lib/python3.9/site-packages/plotly/basedatatypes.py\u001B[0m in \u001B[0;36m_add_annotation_like\u001B[0;34m(self, prop_singular, prop_plural, new_obj, row, col, secondary_y, exclude_empty_subplots)\u001B[0m\n\u001B[1;32m   1528\u001B[0m             \u001B[0mrows_cols\u001B[0m \u001B[0;34m=\u001B[0m \u001B[0mself\u001B[0m\u001B[0;34m.\u001B[0m\u001B[0m_select_subplot_coordinates\u001B[0m\u001B[0;34m(\u001B[0m\u001B[0mrow\u001B[0m\u001B[0;34m,\u001B[0m \u001B[0mcol\u001B[0m\u001B[0;34m)\u001B[0m\u001B[0;34m\u001B[0m\u001B[0;34m\u001B[0m\u001B[0m\n\u001B[1;32m   1529\u001B[0m             \u001B[0;32mfor\u001B[0m \u001B[0mr\u001B[0m\u001B[0;34m,\u001B[0m \u001B[0mc\u001B[0m \u001B[0;32min\u001B[0m \u001B[0mrows_cols\u001B[0m\u001B[0;34m:\u001B[0m\u001B[0;34m\u001B[0m\u001B[0;34m\u001B[0m\u001B[0m\n\u001B[0;32m-> 1530\u001B[0;31m                 self._add_annotation_like(\n\u001B[0m\u001B[1;32m   1531\u001B[0m                     \u001B[0mprop_singular\u001B[0m\u001B[0;34m,\u001B[0m\u001B[0;34m\u001B[0m\u001B[0;34m\u001B[0m\u001B[0m\n\u001B[1;32m   1532\u001B[0m                     \u001B[0mprop_plural\u001B[0m\u001B[0;34m,\u001B[0m\u001B[0;34m\u001B[0m\u001B[0;34m\u001B[0m\u001B[0m\n",
      "\u001B[0;32m/usr/local/lib/python3.9/site-packages/plotly/basedatatypes.py\u001B[0m in \u001B[0;36m_add_annotation_like\u001B[0;34m(self, prop_singular, prop_plural, new_obj, row, col, secondary_y, exclude_empty_subplots)\u001B[0m\n\u001B[1;32m   1584\u001B[0m             \u001B[0;31m# empty and return if it is\u001B[0m\u001B[0;34m\u001B[0m\u001B[0;34m\u001B[0m\u001B[0m\n\u001B[1;32m   1585\u001B[0m             if exclude_empty_subplots and (\n\u001B[0;32m-> 1586\u001B[0;31m                 not self._subplot_not_empty(\n\u001B[0m\u001B[1;32m   1587\u001B[0m                     \u001B[0mxref\u001B[0m\u001B[0;34m,\u001B[0m \u001B[0myref\u001B[0m\u001B[0;34m,\u001B[0m \u001B[0mselector\u001B[0m\u001B[0;34m=\u001B[0m\u001B[0mbool\u001B[0m\u001B[0;34m(\u001B[0m\u001B[0mexclude_empty_subplots\u001B[0m\u001B[0;34m)\u001B[0m\u001B[0;34m\u001B[0m\u001B[0;34m\u001B[0m\u001B[0m\n\u001B[1;32m   1588\u001B[0m                 )\n",
      "\u001B[0;32m/usr/local/lib/python3.9/site-packages/plotly/basedatatypes.py\u001B[0m in \u001B[0;36m_subplot_not_empty\u001B[0;34m(self, xref, yref, selector)\u001B[0m\n\u001B[1;32m   4175\u001B[0m                 ret |= any(\n\u001B[1;32m   4176\u001B[0m                     \u001B[0mt\u001B[0m \u001B[0;34m==\u001B[0m \u001B[0;34m(\u001B[0m\u001B[0mxref\u001B[0m\u001B[0;34m,\u001B[0m \u001B[0myref\u001B[0m\u001B[0;34m)\u001B[0m\u001B[0;34m\u001B[0m\u001B[0;34m\u001B[0m\u001B[0m\n\u001B[0;32m-> 4177\u001B[0;31m                     for t in [\n\u001B[0m\u001B[1;32m   4178\u001B[0m                         \u001B[0;31m# if a object exists but has no xaxis or yaxis keys, then it\u001B[0m\u001B[0;34m\u001B[0m\u001B[0;34m\u001B[0m\u001B[0m\n\u001B[1;32m   4179\u001B[0m                         \u001B[0;31m# is plotted with xaxis/xref 'x' and yaxis/yref 'y'\u001B[0m\u001B[0;34m\u001B[0m\u001B[0;34m\u001B[0m\u001B[0m\n",
      "\u001B[0;32m/usr/local/lib/python3.9/site-packages/plotly/basedatatypes.py\u001B[0m in \u001B[0;36m<listcomp>\u001B[0;34m(.0)\u001B[0m\n\u001B[1;32m   4179\u001B[0m                         \u001B[0;31m# is plotted with xaxis/xref 'x' and yaxis/yref 'y'\u001B[0m\u001B[0;34m\u001B[0m\u001B[0;34m\u001B[0m\u001B[0m\n\u001B[1;32m   4180\u001B[0m                         (\n\u001B[0;32m-> 4181\u001B[0;31m                             \u001B[0;34m\"x\"\u001B[0m \u001B[0;32mif\u001B[0m \u001B[0md\u001B[0m\u001B[0;34m[\u001B[0m\u001B[0mxaxiskw\u001B[0m\u001B[0;34m]\u001B[0m \u001B[0;32mis\u001B[0m \u001B[0;32mNone\u001B[0m \u001B[0;32melse\u001B[0m \u001B[0md\u001B[0m\u001B[0;34m[\u001B[0m\u001B[0mxaxiskw\u001B[0m\u001B[0;34m]\u001B[0m\u001B[0;34m,\u001B[0m\u001B[0;34m\u001B[0m\u001B[0;34m\u001B[0m\u001B[0m\n\u001B[0m\u001B[1;32m   4182\u001B[0m                             \u001B[0;34m\"y\"\u001B[0m \u001B[0;32mif\u001B[0m \u001B[0md\u001B[0m\u001B[0;34m[\u001B[0m\u001B[0myaxiskw\u001B[0m\u001B[0;34m]\u001B[0m \u001B[0;32mis\u001B[0m \u001B[0;32mNone\u001B[0m \u001B[0;32melse\u001B[0m \u001B[0md\u001B[0m\u001B[0;34m[\u001B[0m\u001B[0myaxiskw\u001B[0m\u001B[0;34m]\u001B[0m\u001B[0;34m,\u001B[0m\u001B[0;34m\u001B[0m\u001B[0;34m\u001B[0m\u001B[0m\n\u001B[1;32m   4183\u001B[0m                         )\n",
      "\u001B[0;32m/usr/local/lib/python3.9/site-packages/plotly/basedatatypes.py\u001B[0m in \u001B[0;36m__getitem__\u001B[0;34m(self, prop)\u001B[0m\n\u001B[1;32m   4691\u001B[0m \u001B[0;34m\u001B[0m\u001B[0m\n\u001B[1;32m   4692\u001B[0m                 \u001B[0;32mreturn\u001B[0m \u001B[0mvalidator\u001B[0m\u001B[0;34m.\u001B[0m\u001B[0mpresent\u001B[0m\u001B[0;34m(\u001B[0m\u001B[0mself\u001B[0m\u001B[0;34m.\u001B[0m\u001B[0m_compound_array_props\u001B[0m\u001B[0;34m[\u001B[0m\u001B[0mprop\u001B[0m\u001B[0;34m]\u001B[0m\u001B[0;34m)\u001B[0m\u001B[0;34m\u001B[0m\u001B[0;34m\u001B[0m\u001B[0m\n\u001B[0;32m-> 4693\u001B[0;31m             \u001B[0;32melif\u001B[0m \u001B[0mself\u001B[0m\u001B[0;34m.\u001B[0m\u001B[0m_props\u001B[0m \u001B[0;32mis\u001B[0m \u001B[0;32mnot\u001B[0m \u001B[0;32mNone\u001B[0m \u001B[0;32mand\u001B[0m \u001B[0mprop\u001B[0m \u001B[0;32min\u001B[0m \u001B[0mself\u001B[0m\u001B[0;34m.\u001B[0m\u001B[0m_props\u001B[0m\u001B[0;34m:\u001B[0m\u001B[0;34m\u001B[0m\u001B[0;34m\u001B[0m\u001B[0m\n\u001B[0m\u001B[1;32m   4694\u001B[0m                 \u001B[0;32mreturn\u001B[0m \u001B[0mvalidator\u001B[0m\u001B[0;34m.\u001B[0m\u001B[0mpresent\u001B[0m\u001B[0;34m(\u001B[0m\u001B[0mself\u001B[0m\u001B[0;34m.\u001B[0m\u001B[0m_props\u001B[0m\u001B[0;34m[\u001B[0m\u001B[0mprop\u001B[0m\u001B[0;34m]\u001B[0m\u001B[0;34m)\u001B[0m\u001B[0;34m\u001B[0m\u001B[0;34m\u001B[0m\u001B[0m\n\u001B[1;32m   4695\u001B[0m             \u001B[0;32melif\u001B[0m \u001B[0mself\u001B[0m\u001B[0;34m.\u001B[0m\u001B[0m_prop_defaults\u001B[0m \u001B[0;32mis\u001B[0m \u001B[0;32mnot\u001B[0m \u001B[0;32mNone\u001B[0m\u001B[0;34m:\u001B[0m\u001B[0;34m\u001B[0m\u001B[0;34m\u001B[0m\u001B[0m\n",
      "\u001B[0;32m/usr/local/lib/python3.9/site-packages/plotly/basedatatypes.py\u001B[0m in \u001B[0;36m_props\u001B[0;34m(self)\u001B[0m\n\u001B[1;32m   4386\u001B[0m         \u001B[0;32melse\u001B[0m\u001B[0;34m:\u001B[0m\u001B[0;34m\u001B[0m\u001B[0;34m\u001B[0m\u001B[0m\n\u001B[1;32m   4387\u001B[0m             \u001B[0;31m# Get data from parent's dict\u001B[0m\u001B[0;34m\u001B[0m\u001B[0;34m\u001B[0m\u001B[0m\n\u001B[0;32m-> 4388\u001B[0;31m             \u001B[0;32mreturn\u001B[0m \u001B[0mself\u001B[0m\u001B[0;34m.\u001B[0m\u001B[0mparent\u001B[0m\u001B[0;34m.\u001B[0m\u001B[0m_get_child_props\u001B[0m\u001B[0;34m(\u001B[0m\u001B[0mself\u001B[0m\u001B[0;34m)\u001B[0m\u001B[0;34m\u001B[0m\u001B[0;34m\u001B[0m\u001B[0m\n\u001B[0m\u001B[1;32m   4389\u001B[0m \u001B[0;34m\u001B[0m\u001B[0m\n\u001B[1;32m   4390\u001B[0m     \u001B[0;32mdef\u001B[0m \u001B[0m_get_child_props\u001B[0m\u001B[0;34m(\u001B[0m\u001B[0mself\u001B[0m\u001B[0;34m,\u001B[0m \u001B[0mchild\u001B[0m\u001B[0;34m)\u001B[0m\u001B[0;34m:\u001B[0m\u001B[0;34m\u001B[0m\u001B[0;34m\u001B[0m\u001B[0m\n",
      "\u001B[0;32m/usr/local/lib/python3.9/site-packages/plotly/basedatatypes.py\u001B[0m in \u001B[0;36m_get_child_props\u001B[0;34m(self, child)\u001B[0m\n\u001B[1;32m   4420\u001B[0m                 \u001B[0;32melif\u001B[0m \u001B[0misinstance\u001B[0m\u001B[0;34m(\u001B[0m\u001B[0mvalidator\u001B[0m\u001B[0;34m,\u001B[0m \u001B[0mCompoundArrayValidator\u001B[0m\u001B[0;34m)\u001B[0m\u001B[0;34m:\u001B[0m\u001B[0;34m\u001B[0m\u001B[0;34m\u001B[0m\u001B[0m\n\u001B[1;32m   4421\u001B[0m                     \u001B[0mchildren\u001B[0m \u001B[0;34m=\u001B[0m \u001B[0mself\u001B[0m\u001B[0;34m[\u001B[0m\u001B[0mchild\u001B[0m\u001B[0;34m.\u001B[0m\u001B[0mplotly_name\u001B[0m\u001B[0;34m]\u001B[0m\u001B[0;34m\u001B[0m\u001B[0;34m\u001B[0m\u001B[0m\n\u001B[0;32m-> 4422\u001B[0;31m                     \u001B[0mchild_ind\u001B[0m \u001B[0;34m=\u001B[0m \u001B[0mBaseFigure\u001B[0m\u001B[0;34m.\u001B[0m\u001B[0m_index_is\u001B[0m\u001B[0;34m(\u001B[0m\u001B[0mchildren\u001B[0m\u001B[0;34m,\u001B[0m \u001B[0mchild\u001B[0m\u001B[0;34m)\u001B[0m\u001B[0;34m\u001B[0m\u001B[0;34m\u001B[0m\u001B[0m\n\u001B[0m\u001B[1;32m   4423\u001B[0m                     \u001B[0;32massert\u001B[0m \u001B[0mchild_ind\u001B[0m \u001B[0;32mis\u001B[0m \u001B[0;32mnot\u001B[0m \u001B[0;32mNone\u001B[0m\u001B[0;34m\u001B[0m\u001B[0;34m\u001B[0m\u001B[0m\n\u001B[1;32m   4424\u001B[0m \u001B[0;34m\u001B[0m\u001B[0m\n",
      "\u001B[0;32m/usr/local/lib/python3.9/site-packages/plotly/basedatatypes.py\u001B[0m in \u001B[0;36m_index_is\u001B[0;34m(iterable, val)\u001B[0m\n\u001B[1;32m   3948\u001B[0m \u001B[0;34m\u001B[0m\u001B[0m\n\u001B[1;32m   3949\u001B[0m         \"\"\"\n\u001B[0;32m-> 3950\u001B[0;31m         \u001B[0mindex_list\u001B[0m \u001B[0;34m=\u001B[0m \u001B[0;34m[\u001B[0m\u001B[0mi\u001B[0m \u001B[0;32mfor\u001B[0m \u001B[0mi\u001B[0m\u001B[0;34m,\u001B[0m \u001B[0mcurr_val\u001B[0m \u001B[0;32min\u001B[0m \u001B[0menumerate\u001B[0m\u001B[0;34m(\u001B[0m\u001B[0miterable\u001B[0m\u001B[0;34m)\u001B[0m \u001B[0;32mif\u001B[0m \u001B[0mcurr_val\u001B[0m \u001B[0;32mis\u001B[0m \u001B[0mval\u001B[0m\u001B[0;34m]\u001B[0m\u001B[0;34m\u001B[0m\u001B[0;34m\u001B[0m\u001B[0m\n\u001B[0m\u001B[1;32m   3951\u001B[0m         \u001B[0;32mif\u001B[0m \u001B[0;32mnot\u001B[0m \u001B[0mindex_list\u001B[0m\u001B[0;34m:\u001B[0m\u001B[0;34m\u001B[0m\u001B[0;34m\u001B[0m\u001B[0m\n\u001B[1;32m   3952\u001B[0m             \u001B[0;32mraise\u001B[0m \u001B[0mValueError\u001B[0m\u001B[0;34m(\u001B[0m\u001B[0;34m\"Invalid value\"\u001B[0m\u001B[0;34m)\u001B[0m\u001B[0;34m\u001B[0m\u001B[0;34m\u001B[0m\u001B[0m\n",
      "\u001B[0;32m/usr/local/lib/python3.9/site-packages/plotly/basedatatypes.py\u001B[0m in \u001B[0;36m<listcomp>\u001B[0;34m(.0)\u001B[0m\n\u001B[1;32m   3948\u001B[0m \u001B[0;34m\u001B[0m\u001B[0m\n\u001B[1;32m   3949\u001B[0m         \"\"\"\n\u001B[0;32m-> 3950\u001B[0;31m         \u001B[0mindex_list\u001B[0m \u001B[0;34m=\u001B[0m \u001B[0;34m[\u001B[0m\u001B[0mi\u001B[0m \u001B[0;32mfor\u001B[0m \u001B[0mi\u001B[0m\u001B[0;34m,\u001B[0m \u001B[0mcurr_val\u001B[0m \u001B[0;32min\u001B[0m \u001B[0menumerate\u001B[0m\u001B[0;34m(\u001B[0m\u001B[0miterable\u001B[0m\u001B[0;34m)\u001B[0m \u001B[0;32mif\u001B[0m \u001B[0mcurr_val\u001B[0m \u001B[0;32mis\u001B[0m \u001B[0mval\u001B[0m\u001B[0;34m]\u001B[0m\u001B[0;34m\u001B[0m\u001B[0;34m\u001B[0m\u001B[0m\n\u001B[0m\u001B[1;32m   3951\u001B[0m         \u001B[0;32mif\u001B[0m \u001B[0;32mnot\u001B[0m \u001B[0mindex_list\u001B[0m\u001B[0;34m:\u001B[0m\u001B[0;34m\u001B[0m\u001B[0;34m\u001B[0m\u001B[0m\n\u001B[1;32m   3952\u001B[0m             \u001B[0;32mraise\u001B[0m \u001B[0mValueError\u001B[0m\u001B[0;34m(\u001B[0m\u001B[0;34m\"Invalid value\"\u001B[0m\u001B[0;34m)\u001B[0m\u001B[0;34m\u001B[0m\u001B[0;34m\u001B[0m\u001B[0m\n",
      "\u001B[0;31mKeyboardInterrupt\u001B[0m: "
     ]
    }
   ],
   "source": [
    "fig = px.scatter(kitchenplugs, x=kitchenplugs[\"Timestamp\"], y=\"Load_KPlugLoadsPowerUsage\", color=\"Status\")\n",
    "\n",
    "height = 1\n",
    "for appliance, df in appliance_dict.items():\n",
    "    for index in df.index:\n",
    "        x = df.loc[index, \"Timestamp\"].timestamp() * 1000 - (2 + int(str(df.loc[index, \"Timestamp\"]).split(\"-\")[-1][\n",
    "                                                                         1])) * 3_600_000  #Plotly bug work around. Computes unix time with offset\n",
    "        fig.add_vline(x=x,\n",
    "                      line_width=3,\n",
    "                      line_dash=\"dash\",\n",
    "                      annotation_text=df.loc[index, \"Appliance\"],\n",
    "                      line_color=df.loc[index, \"Color\"],\n",
    "                      annotation_y=height)\n",
    "    height -= 0.05\n",
    "\n",
    "fig.update_layout(\n",
    "    xaxis={'type': 'date', 'tickformat': '%Y-%m-%d %H:%M:%S'}\n",
    ")\n",
    "\n",
    "fig.update_layout(\n",
    "    xaxis_tickformatstops=[\n",
    "        dict(dtickrange=[None, 60000], value=\"%H:%M:%S\\n%d %b %y\"),\n",
    "        dict(dtickrange=[60000, 3600000], value=\"%H:%M\\n%d %b %y\"),\n",
    "        dict(dtickrange=[3600000, 86400000], value=\"%d %b %Y\")\n",
    "    ]\n",
    ")\n",
    "\n",
    "fig.show()"
   ],
   "metadata": {
    "collapsed": false,
    "pycharm": {
     "name": "#%%\n"
    }
   }
  },
  {
   "cell_type": "code",
   "execution_count": 70,
   "outputs": [
    {
     "data": {
      "text/plain": "Empty DataFrame\nColumns: [Timestamp, Load_StatusPlugLoadToasterOven]\nIndex: []",
      "text/html": "<div>\n<style scoped>\n    .dataframe tbody tr th:only-of-type {\n        vertical-align: middle;\n    }\n\n    .dataframe tbody tr th {\n        vertical-align: top;\n    }\n\n    .dataframe thead th {\n        text-align: right;\n    }\n</style>\n<table border=\"1\" class=\"dataframe\">\n  <thead>\n    <tr style=\"text-align: right;\">\n      <th></th>\n      <th>Timestamp</th>\n      <th>Load_StatusPlugLoadToasterOven</th>\n    </tr>\n  </thead>\n  <tbody>\n  </tbody>\n</table>\n</div>"
     },
     "execution_count": 70,
     "metadata": {},
     "output_type": "execute_result"
    }
   ],
   "source": [
    "kitchenplugs[kitchenplugs[\"Load_StatusPlugLoadToasterOven\"] == 1][[\"Timestamp\", \"Load_StatusPlugLoadToasterOven\"]]"
   ],
   "metadata": {
    "collapsed": false,
    "pycharm": {
     "name": "#%%\n"
    }
   }
  },
  {
   "cell_type": "code",
   "execution_count": null,
   "outputs": [],
   "source": [
    "fig = px.scatter(netzero1.loc[:10000], x=\"Timestamp\", y=\"Load_DryerPowerTotal\")\n",
    "fig.show()"
   ],
   "metadata": {
    "collapsed": false,
    "pycharm": {
     "name": "#%%\n",
     "is_executing": true
    }
   }
  },
  {
   "cell_type": "code",
   "execution_count": 72,
   "outputs": [],
   "source": [
    "production = metadata.loc[(metadata['Parameter'] == \"Power_Electrical\") & (\n",
    "    metadata[\"Description\"].str.contains(\"produced\"))][\"Unnamed: 0\"].tolist()\n",
    "\n",
    "consumption =\n",
    "metadata.loc[((metadata['Parameter'] == \"Power_Electrical\") | (metadata['Parameter'] == \"Power_Thermal\")) & (\n",
    "    metadata[\"Description\"].str.contains(\"power consumption\" or \"used\"))][\"Unnamed: 0\"].tolist()"
   ],
   "metadata": {
    "collapsed": false,
    "pycharm": {
     "name": "#%%\n"
    }
   }
  },
  {
   "cell_type": "code",
   "execution_count": 73,
   "outputs": [],
   "source": [
    "total_instant_energy_produced1 = netzero1_hourly[production].sum(axis=1)\n",
    "\n",
    "total_instant_energy_consumed1 = netzero1_hourly[consumption].sum(axis=1)\n",
    "\n",
    "instant_power_balance1 = total_instant_energy_produced1 - total_instant_energy_consumed1\n",
    "\n",
    "instant_power_balance_cummulative1 = instant_power_balance1.cumsum()\n",
    "\n",
    "total_instant_energy_produced2 = netzero2_hourly[production].sum(axis=1)\n",
    "\n",
    "total_instant_energy_consumed2 = netzero2_hourly[consumption].sum(axis=1)\n",
    "\n",
    "instant_power_balance2 = total_instant_energy_produced2 - total_instant_energy_consumed2\n",
    "\n",
    "instant_power_balance_cummulative2 = instant_power_balance2.cumsum()"
   ],
   "metadata": {
    "collapsed": false,
    "pycharm": {
     "name": "#%%\n"
    }
   }
  },
  {
   "cell_type": "code",
   "execution_count": null,
   "outputs": [],
   "source": [
    "fig = px.scatter(netzero1_hourly, x=\"Timestamp\", y=total_instant_energy_produced1.cumsum())\n",
    "fig.show()"
   ],
   "metadata": {
    "collapsed": false,
    "pycharm": {
     "name": "#%%\n",
     "is_executing": true
    }
   }
  },
  {
   "cell_type": "code",
   "execution_count": null,
   "outputs": [],
   "source": [
    "fig = px.scatter(netzero1_hourly, x=\"Timestamp\", y=total_instant_energy_consumed1.cumsum())\n",
    "fig.show()"
   ],
   "metadata": {
    "collapsed": false,
    "pycharm": {
     "name": "#%%\n",
     "is_executing": true
    }
   }
  },
  {
   "cell_type": "code",
   "execution_count": null,
   "outputs": [],
   "source": [
    "fig = px.scatter(netzero1_hourly, x=\"Timestamp\", y=instant_power_balance1)\n",
    "fig.show()"
   ],
   "metadata": {
    "collapsed": false,
    "pycharm": {
     "name": "#%%\n",
     "is_executing": true
    }
   }
  },
  {
   "cell_type": "code",
   "execution_count": null,
   "outputs": [],
   "source": [
    "fig = px.line(netzero1_hourly, x=\"Timestamp\", y=instant_power_balance_cummulative1)\n",
    "fig.show()"
   ],
   "metadata": {
    "collapsed": false,
    "pycharm": {
     "name": "#%%\n",
     "is_executing": true
    }
   }
  },
  {
   "cell_type": "code",
   "execution_count": null,
   "outputs": [],
   "source": [
    "fig = px.line(netzero2_hourly, x=\"Timestamp\", y=instant_power_balance_cummulative2)\n",
    "fig.show()"
   ],
   "metadata": {
    "collapsed": false,
    "pycharm": {
     "name": "#%%\n",
     "is_executing": true
    }
   }
  },
  {
   "cell_type": "code",
   "execution_count": 81,
   "outputs": [
    {
     "data": {
      "text/plain": "HVAC_HeatPumpOutdoorUnitPower        4.386218e+06\nHVAC_HeatPumpIndoorUnitPower         1.780827e+06\nDHW_HeatPumpWaterHeaterPowerTotal    1.110100e+06\nLoad_2ndFloorSensHeatPowerUsage      1.073024e+06\nLoad_1stFloorSensHeatPowerUsage      5.665715e+05\n                                         ...     \nElec_PowerPlugsInstHall              0.000000e+00\nElec_PowerPlugsBA2South              0.000000e+00\nElec_PowerPlugsInstLRB               0.000000e+00\nElec_PowerPlugsInstMudroomB          0.000000e+00\nHVAC_DehumidifierPower               0.000000e+00\nLength: 78, dtype: float64"
     },
     "execution_count": 81,
     "metadata": {},
     "output_type": "execute_result"
    }
   ],
   "source": [
    "appliance_instant_energy_consumed1 = netzero1_hourly[consumption].sum(axis=0).sort_values(ascending=False)\n",
    "appliance_instant_energy_consumed1"
   ],
   "metadata": {
    "collapsed": false,
    "pycharm": {
     "name": "#%%\n"
    }
   }
  },
  {
   "cell_type": "code",
   "execution_count": 82,
   "outputs": [
    {
     "data": {
      "application/vnd.plotly.v1+json": {
       "data": [
        {
         "alignmentgroup": "True",
         "hovertemplate": "x=%{x}<br>index=%{y}<extra></extra>",
         "legendgroup": "",
         "marker": {
          "color": "#636efa",
          "pattern": {
           "shape": ""
          }
         },
         "name": "",
         "offsetgroup": "",
         "orientation": "h",
         "showlegend": false,
         "textposition": "auto",
         "x": [
          4386218.444492275,
          1780826.8694497277,
          1110099.8749270658,
          1073023.6922513428,
          566571.5371125877,
          529815.117272018,
          518225.80887633644,
          517085.12739736936,
          515415.4676403215,
          412970.4034517513,
          403225.850479138,
          382343.47562700836,
          377652.44091777934,
          322526.27790985996,
          319331.5300940276,
          314216.2359967409,
          292736.3405379639,
          287970.6081614322,
          287855.9658117459,
          278328.43282811425,
          245287.40092780392,
          239897.37604822218,
          233227.96720813893,
          233170.81356047987,
          231219.1087171575,
          230225.12077697203,
          220550.27179750937,
          216424.3034564174,
          205050.3752193171,
          195691.05208221325,
          190098.69099432952,
          188619.77896840876,
          185986.75643460243,
          144296.91380944895,
          144293.83604388972,
          134971.3738067457,
          127593.87932699427,
          123621.16845661806,
          95906.58872930816,
          94393.06301306521,
          87870.81299777619,
          83744.47699150216,
          83736.17334447625,
          81504.38987262761,
          80572.90149464767,
          79492.32716659865,
          74023.69250673703,
          62659.19682215547,
          61973.901993114705,
          53466.214250499754,
          45102.81893549017,
          44853.67232372756,
          29283.07440539061,
          26843.47880354869,
          26843.47880354869,
          15319.358458313227,
          5181.615181653252,
          4390.869583447318,
          3788.3766515471148,
          2446.3816278893114,
          2041.5460076544678,
          1212.3864173857069,
          485.2533107909379,
          176.6267456519065,
          118.8724484444724,
          116.13359735619885,
          62.50434241294861,
          16.14795957985571,
          6.28054520702249,
          4.057339543149874,
          0.7350335593355344,
          0.0,
          0.0,
          0.0,
          0.0,
          0.0,
          0.0,
          0.0
         ],
         "xaxis": "x",
         "y": [
          "HVAC_HeatPumpOutdoorUnitPower",
          "HVAC_HeatPumpIndoorUnitPower",
          "DHW_HeatPumpWaterHeaterPowerTotal",
          "Load_2ndFloorSensHeatPowerUsage",
          "Load_1stFloorSensHeatPowerUsage",
          "Elec_PowerHeatPumpWH2of2",
          "Load_DryerPowerTotal",
          "Elec_PowerHRV",
          "Load_BasementPlugLoadsPowerUsage",
          "Load_RefrigeratorPowerWithStandby",
          "Elec_PowerPlugs2ndFloor",
          "Elec_PowerRefrigerator",
          "Load_OvenPowerTotal",
          "Elec_PowerChildAUpstairs",
          "DHW_SHWPumpsPowerWithStandby",
          "Elec_PowerChildBUpstairs",
          "Load_1stFloorLightsPowerUsage",
          "Elec_PowerPlugsInstKitD",
          "Load_LatentHeatPowerUsage",
          "Elec_PowerDryer1of2",
          "Load_LRPlugLoadsPowerUsage",
          "Elec_PowerDryer2of2",
          "Elec_PowerPlugsBR2",
          "Load_BR2PlugLoadsPowerUsage",
          "Elec_PowerGarbageDisposal",
          "Load_BR4PlugLoadsPowerUsage",
          "Elec_PowerParentBUpstairs",
          "Elec_PowerParentAUpstairs",
          "Elec_PowerLights1stFloorB",
          "Elec_PowerParentBDownstairs",
          "Elec_PowerLightsBasement",
          "Elec_PowerParentADownstairs",
          "Load_KPlugLoadsPowerUsage",
          "Elec_PowerLights2ndFloor",
          "Load_2ndFloorLightsPowerUsage",
          "Load_MicrowavePowerWithStandby",
          "Elec_PowerSpare2",
          "Elec_PowerMicrowave",
          "Elec_PowerDishwasher",
          "Elec_PowerChildBDownstairs",
          "Elec_PowerChildADownstairs",
          "Elec_PowerPlugsMBR",
          "Load_MBRPlugLoadsPowerUsage",
          "Elec_PowerPlugsHVACInstrumentation",
          "Elec_PowerLights1stFloorA",
          "Elec_PowerLightingControlPanelRPS1",
          "Load_ClothesWasherPowerWithStandby",
          "Elec_PowerPlugsMBAWest",
          "Elec_PowerPlugsKitSink",
          "Elec_PowerLightingControlPanelRPS2",
          "Elec_PowerPlugsMBAEast",
          "Elec_PowerPlugsKitRange",
          "Elec_PowerPlugsInstDRA",
          "Elec_PowerPlugsBR3",
          "Load_BR3PlugLoadsPowerUsage",
          "Elec_PowerPlugsGSHPInstrumentation",
          "Elec_PowerPlugsInstBR3",
          "Elec_PowerPlugsKitPeninsula",
          "Elec_PowerMakeUpAirDamper",
          "Elec_PowerPlugsInstKitA",
          "Elec_PowerPlugsInstBR2Hall",
          "Elec_PowerPlugsDRB",
          "Elec_PowerLightsAttic",
          "Elec_PowerPlugsInstMBAB",
          "Elec_PowerPlugsInstLRA",
          "Elec_PowerPlugsBA2North",
          "Elec_PowerPlugsInstBR4A",
          "Elec_PowerPlugsAttic",
          "Elec_PowerPlugsInstMudroomA",
          "Elec_PowerPlugsInstBA2",
          "Elec_PowerPlugsInstBR4B",
          "Elec_PowerHeatPumpWH1of2",
          "Elec_PowerPlugsInstBA1",
          "Elec_PowerPlugsInstHall",
          "Elec_PowerPlugsBA2South",
          "Elec_PowerPlugsInstLRB",
          "Elec_PowerPlugsInstMudroomB",
          "HVAC_DehumidifierPower"
         ],
         "yaxis": "y",
         "type": "bar"
        }
       ],
       "layout": {
        "template": {
         "data": {
          "bar": [
           {
            "error_x": {
             "color": "#2a3f5f"
            },
            "error_y": {
             "color": "#2a3f5f"
            },
            "marker": {
             "line": {
              "color": "#E5ECF6",
              "width": 0.5
             },
             "pattern": {
              "fillmode": "overlay",
              "size": 10,
              "solidity": 0.2
             }
            },
            "type": "bar"
           }
          ],
          "barpolar": [
           {
            "marker": {
             "line": {
              "color": "#E5ECF6",
              "width": 0.5
             },
             "pattern": {
              "fillmode": "overlay",
              "size": 10,
              "solidity": 0.2
             }
            },
            "type": "barpolar"
           }
          ],
          "carpet": [
           {
            "aaxis": {
             "endlinecolor": "#2a3f5f",
             "gridcolor": "white",
             "linecolor": "white",
             "minorgridcolor": "white",
             "startlinecolor": "#2a3f5f"
            },
            "baxis": {
             "endlinecolor": "#2a3f5f",
             "gridcolor": "white",
             "linecolor": "white",
             "minorgridcolor": "white",
             "startlinecolor": "#2a3f5f"
            },
            "type": "carpet"
           }
          ],
          "choropleth": [
           {
            "colorbar": {
             "outlinewidth": 0,
             "ticks": ""
            },
            "type": "choropleth"
           }
          ],
          "contour": [
           {
            "colorbar": {
             "outlinewidth": 0,
             "ticks": ""
            },
            "colorscale": [
             [
              0.0,
              "#0d0887"
             ],
             [
              0.1111111111111111,
              "#46039f"
             ],
             [
              0.2222222222222222,
              "#7201a8"
             ],
             [
              0.3333333333333333,
              "#9c179e"
             ],
             [
              0.4444444444444444,
              "#bd3786"
             ],
             [
              0.5555555555555556,
              "#d8576b"
             ],
             [
              0.6666666666666666,
              "#ed7953"
             ],
             [
              0.7777777777777778,
              "#fb9f3a"
             ],
             [
              0.8888888888888888,
              "#fdca26"
             ],
             [
              1.0,
              "#f0f921"
             ]
            ],
            "type": "contour"
           }
          ],
          "contourcarpet": [
           {
            "colorbar": {
             "outlinewidth": 0,
             "ticks": ""
            },
            "type": "contourcarpet"
           }
          ],
          "heatmap": [
           {
            "colorbar": {
             "outlinewidth": 0,
             "ticks": ""
            },
            "colorscale": [
             [
              0.0,
              "#0d0887"
             ],
             [
              0.1111111111111111,
              "#46039f"
             ],
             [
              0.2222222222222222,
              "#7201a8"
             ],
             [
              0.3333333333333333,
              "#9c179e"
             ],
             [
              0.4444444444444444,
              "#bd3786"
             ],
             [
              0.5555555555555556,
              "#d8576b"
             ],
             [
              0.6666666666666666,
              "#ed7953"
             ],
             [
              0.7777777777777778,
              "#fb9f3a"
             ],
             [
              0.8888888888888888,
              "#fdca26"
             ],
             [
              1.0,
              "#f0f921"
             ]
            ],
            "type": "heatmap"
           }
          ],
          "heatmapgl": [
           {
            "colorbar": {
             "outlinewidth": 0,
             "ticks": ""
            },
            "colorscale": [
             [
              0.0,
              "#0d0887"
             ],
             [
              0.1111111111111111,
              "#46039f"
             ],
             [
              0.2222222222222222,
              "#7201a8"
             ],
             [
              0.3333333333333333,
              "#9c179e"
             ],
             [
              0.4444444444444444,
              "#bd3786"
             ],
             [
              0.5555555555555556,
              "#d8576b"
             ],
             [
              0.6666666666666666,
              "#ed7953"
             ],
             [
              0.7777777777777778,
              "#fb9f3a"
             ],
             [
              0.8888888888888888,
              "#fdca26"
             ],
             [
              1.0,
              "#f0f921"
             ]
            ],
            "type": "heatmapgl"
           }
          ],
          "histogram": [
           {
            "marker": {
             "pattern": {
              "fillmode": "overlay",
              "size": 10,
              "solidity": 0.2
             }
            },
            "type": "histogram"
           }
          ],
          "histogram2d": [
           {
            "colorbar": {
             "outlinewidth": 0,
             "ticks": ""
            },
            "colorscale": [
             [
              0.0,
              "#0d0887"
             ],
             [
              0.1111111111111111,
              "#46039f"
             ],
             [
              0.2222222222222222,
              "#7201a8"
             ],
             [
              0.3333333333333333,
              "#9c179e"
             ],
             [
              0.4444444444444444,
              "#bd3786"
             ],
             [
              0.5555555555555556,
              "#d8576b"
             ],
             [
              0.6666666666666666,
              "#ed7953"
             ],
             [
              0.7777777777777778,
              "#fb9f3a"
             ],
             [
              0.8888888888888888,
              "#fdca26"
             ],
             [
              1.0,
              "#f0f921"
             ]
            ],
            "type": "histogram2d"
           }
          ],
          "histogram2dcontour": [
           {
            "colorbar": {
             "outlinewidth": 0,
             "ticks": ""
            },
            "colorscale": [
             [
              0.0,
              "#0d0887"
             ],
             [
              0.1111111111111111,
              "#46039f"
             ],
             [
              0.2222222222222222,
              "#7201a8"
             ],
             [
              0.3333333333333333,
              "#9c179e"
             ],
             [
              0.4444444444444444,
              "#bd3786"
             ],
             [
              0.5555555555555556,
              "#d8576b"
             ],
             [
              0.6666666666666666,
              "#ed7953"
             ],
             [
              0.7777777777777778,
              "#fb9f3a"
             ],
             [
              0.8888888888888888,
              "#fdca26"
             ],
             [
              1.0,
              "#f0f921"
             ]
            ],
            "type": "histogram2dcontour"
           }
          ],
          "mesh3d": [
           {
            "colorbar": {
             "outlinewidth": 0,
             "ticks": ""
            },
            "type": "mesh3d"
           }
          ],
          "parcoords": [
           {
            "line": {
             "colorbar": {
              "outlinewidth": 0,
              "ticks": ""
             }
            },
            "type": "parcoords"
           }
          ],
          "pie": [
           {
            "automargin": true,
            "type": "pie"
           }
          ],
          "scatter": [
           {
            "marker": {
             "colorbar": {
              "outlinewidth": 0,
              "ticks": ""
             }
            },
            "type": "scatter"
           }
          ],
          "scatter3d": [
           {
            "line": {
             "colorbar": {
              "outlinewidth": 0,
              "ticks": ""
             }
            },
            "marker": {
             "colorbar": {
              "outlinewidth": 0,
              "ticks": ""
             }
            },
            "type": "scatter3d"
           }
          ],
          "scattercarpet": [
           {
            "marker": {
             "colorbar": {
              "outlinewidth": 0,
              "ticks": ""
             }
            },
            "type": "scattercarpet"
           }
          ],
          "scattergeo": [
           {
            "marker": {
             "colorbar": {
              "outlinewidth": 0,
              "ticks": ""
             }
            },
            "type": "scattergeo"
           }
          ],
          "scattergl": [
           {
            "marker": {
             "colorbar": {
              "outlinewidth": 0,
              "ticks": ""
             }
            },
            "type": "scattergl"
           }
          ],
          "scattermapbox": [
           {
            "marker": {
             "colorbar": {
              "outlinewidth": 0,
              "ticks": ""
             }
            },
            "type": "scattermapbox"
           }
          ],
          "scatterpolar": [
           {
            "marker": {
             "colorbar": {
              "outlinewidth": 0,
              "ticks": ""
             }
            },
            "type": "scatterpolar"
           }
          ],
          "scatterpolargl": [
           {
            "marker": {
             "colorbar": {
              "outlinewidth": 0,
              "ticks": ""
             }
            },
            "type": "scatterpolargl"
           }
          ],
          "scatterternary": [
           {
            "marker": {
             "colorbar": {
              "outlinewidth": 0,
              "ticks": ""
             }
            },
            "type": "scatterternary"
           }
          ],
          "surface": [
           {
            "colorbar": {
             "outlinewidth": 0,
             "ticks": ""
            },
            "colorscale": [
             [
              0.0,
              "#0d0887"
             ],
             [
              0.1111111111111111,
              "#46039f"
             ],
             [
              0.2222222222222222,
              "#7201a8"
             ],
             [
              0.3333333333333333,
              "#9c179e"
             ],
             [
              0.4444444444444444,
              "#bd3786"
             ],
             [
              0.5555555555555556,
              "#d8576b"
             ],
             [
              0.6666666666666666,
              "#ed7953"
             ],
             [
              0.7777777777777778,
              "#fb9f3a"
             ],
             [
              0.8888888888888888,
              "#fdca26"
             ],
             [
              1.0,
              "#f0f921"
             ]
            ],
            "type": "surface"
           }
          ],
          "table": [
           {
            "cells": {
             "fill": {
              "color": "#EBF0F8"
             },
             "line": {
              "color": "white"
             }
            },
            "header": {
             "fill": {
              "color": "#C8D4E3"
             },
             "line": {
              "color": "white"
             }
            },
            "type": "table"
           }
          ]
         },
         "layout": {
          "annotationdefaults": {
           "arrowcolor": "#2a3f5f",
           "arrowhead": 0,
           "arrowwidth": 1
          },
          "autotypenumbers": "strict",
          "coloraxis": {
           "colorbar": {
            "outlinewidth": 0,
            "ticks": ""
           }
          },
          "colorscale": {
           "diverging": [
            [
             0,
             "#8e0152"
            ],
            [
             0.1,
             "#c51b7d"
            ],
            [
             0.2,
             "#de77ae"
            ],
            [
             0.3,
             "#f1b6da"
            ],
            [
             0.4,
             "#fde0ef"
            ],
            [
             0.5,
             "#f7f7f7"
            ],
            [
             0.6,
             "#e6f5d0"
            ],
            [
             0.7,
             "#b8e186"
            ],
            [
             0.8,
             "#7fbc41"
            ],
            [
             0.9,
             "#4d9221"
            ],
            [
             1,
             "#276419"
            ]
           ],
           "sequential": [
            [
             0.0,
             "#0d0887"
            ],
            [
             0.1111111111111111,
             "#46039f"
            ],
            [
             0.2222222222222222,
             "#7201a8"
            ],
            [
             0.3333333333333333,
             "#9c179e"
            ],
            [
             0.4444444444444444,
             "#bd3786"
            ],
            [
             0.5555555555555556,
             "#d8576b"
            ],
            [
             0.6666666666666666,
             "#ed7953"
            ],
            [
             0.7777777777777778,
             "#fb9f3a"
            ],
            [
             0.8888888888888888,
             "#fdca26"
            ],
            [
             1.0,
             "#f0f921"
            ]
           ],
           "sequentialminus": [
            [
             0.0,
             "#0d0887"
            ],
            [
             0.1111111111111111,
             "#46039f"
            ],
            [
             0.2222222222222222,
             "#7201a8"
            ],
            [
             0.3333333333333333,
             "#9c179e"
            ],
            [
             0.4444444444444444,
             "#bd3786"
            ],
            [
             0.5555555555555556,
             "#d8576b"
            ],
            [
             0.6666666666666666,
             "#ed7953"
            ],
            [
             0.7777777777777778,
             "#fb9f3a"
            ],
            [
             0.8888888888888888,
             "#fdca26"
            ],
            [
             1.0,
             "#f0f921"
            ]
           ]
          },
          "colorway": [
           "#636efa",
           "#EF553B",
           "#00cc96",
           "#ab63fa",
           "#FFA15A",
           "#19d3f3",
           "#FF6692",
           "#B6E880",
           "#FF97FF",
           "#FECB52"
          ],
          "font": {
           "color": "#2a3f5f"
          },
          "geo": {
           "bgcolor": "white",
           "lakecolor": "white",
           "landcolor": "#E5ECF6",
           "showlakes": true,
           "showland": true,
           "subunitcolor": "white"
          },
          "hoverlabel": {
           "align": "left"
          },
          "hovermode": "closest",
          "mapbox": {
           "style": "light"
          },
          "paper_bgcolor": "white",
          "plot_bgcolor": "#E5ECF6",
          "polar": {
           "angularaxis": {
            "gridcolor": "white",
            "linecolor": "white",
            "ticks": ""
           },
           "bgcolor": "#E5ECF6",
           "radialaxis": {
            "gridcolor": "white",
            "linecolor": "white",
            "ticks": ""
           }
          },
          "scene": {
           "xaxis": {
            "backgroundcolor": "#E5ECF6",
            "gridcolor": "white",
            "gridwidth": 2,
            "linecolor": "white",
            "showbackground": true,
            "ticks": "",
            "zerolinecolor": "white"
           },
           "yaxis": {
            "backgroundcolor": "#E5ECF6",
            "gridcolor": "white",
            "gridwidth": 2,
            "linecolor": "white",
            "showbackground": true,
            "ticks": "",
            "zerolinecolor": "white"
           },
           "zaxis": {
            "backgroundcolor": "#E5ECF6",
            "gridcolor": "white",
            "gridwidth": 2,
            "linecolor": "white",
            "showbackground": true,
            "ticks": "",
            "zerolinecolor": "white"
           }
          },
          "shapedefaults": {
           "line": {
            "color": "#2a3f5f"
           }
          },
          "ternary": {
           "aaxis": {
            "gridcolor": "white",
            "linecolor": "white",
            "ticks": ""
           },
           "baxis": {
            "gridcolor": "white",
            "linecolor": "white",
            "ticks": ""
           },
           "bgcolor": "#E5ECF6",
           "caxis": {
            "gridcolor": "white",
            "linecolor": "white",
            "ticks": ""
           }
          },
          "title": {
           "x": 0.05
          },
          "xaxis": {
           "automargin": true,
           "gridcolor": "white",
           "linecolor": "white",
           "ticks": "",
           "title": {
            "standoff": 15
           },
           "zerolinecolor": "white",
           "zerolinewidth": 2
          },
          "yaxis": {
           "automargin": true,
           "gridcolor": "white",
           "linecolor": "white",
           "ticks": "",
           "title": {
            "standoff": 15
           },
           "zerolinecolor": "white",
           "zerolinewidth": 2
          }
         }
        },
        "xaxis": {
         "anchor": "y",
         "domain": [
          0.0,
          1.0
         ],
         "title": {
          "text": "x"
         }
        },
        "yaxis": {
         "anchor": "x",
         "domain": [
          0.0,
          1.0
         ],
         "title": {
          "text": "index"
         }
        },
        "legend": {
         "tracegroupgap": 0
        },
        "margin": {
         "t": 60
        },
        "barmode": "relative"
       },
       "config": {
        "plotlyServerURL": "https://plot.ly"
       }
      },
      "text/html": "<div>                            <div id=\"d1300f8d-1ea8-41a0-870b-4a80fb5dd632\" class=\"plotly-graph-div\" style=\"height:525px; width:100%;\"></div>            <script type=\"text/javascript\">                require([\"plotly\"], function(Plotly) {                    window.PLOTLYENV=window.PLOTLYENV || {};                                    if (document.getElementById(\"d1300f8d-1ea8-41a0-870b-4a80fb5dd632\")) {                    Plotly.newPlot(                        \"d1300f8d-1ea8-41a0-870b-4a80fb5dd632\",                        [{\"alignmentgroup\":\"True\",\"hovertemplate\":\"x=%{x}<br>index=%{y}<extra></extra>\",\"legendgroup\":\"\",\"marker\":{\"color\":\"#636efa\",\"pattern\":{\"shape\":\"\"}},\"name\":\"\",\"offsetgroup\":\"\",\"orientation\":\"h\",\"showlegend\":false,\"textposition\":\"auto\",\"x\":[4386218.444492275,1780826.8694497277,1110099.8749270658,1073023.6922513428,566571.5371125877,529815.117272018,518225.80887633644,517085.12739736936,515415.4676403215,412970.4034517513,403225.850479138,382343.47562700836,377652.44091777934,322526.27790985996,319331.5300940276,314216.2359967409,292736.3405379639,287970.6081614322,287855.9658117459,278328.43282811425,245287.40092780392,239897.37604822218,233227.96720813893,233170.81356047987,231219.1087171575,230225.12077697203,220550.27179750937,216424.3034564174,205050.3752193171,195691.05208221325,190098.69099432952,188619.77896840876,185986.75643460243,144296.91380944895,144293.83604388972,134971.3738067457,127593.87932699427,123621.16845661806,95906.58872930816,94393.06301306521,87870.81299777619,83744.47699150216,83736.17334447625,81504.38987262761,80572.90149464767,79492.32716659865,74023.69250673703,62659.19682215547,61973.901993114705,53466.214250499754,45102.81893549017,44853.67232372756,29283.07440539061,26843.47880354869,26843.47880354869,15319.358458313227,5181.615181653252,4390.869583447318,3788.3766515471148,2446.3816278893114,2041.5460076544678,1212.3864173857069,485.2533107909379,176.6267456519065,118.8724484444724,116.13359735619885,62.50434241294861,16.14795957985571,6.28054520702249,4.057339543149874,0.7350335593355344,0.0,0.0,0.0,0.0,0.0,0.0,0.0],\"xaxis\":\"x\",\"y\":[\"HVAC_HeatPumpOutdoorUnitPower\",\"HVAC_HeatPumpIndoorUnitPower\",\"DHW_HeatPumpWaterHeaterPowerTotal\",\"Load_2ndFloorSensHeatPowerUsage\",\"Load_1stFloorSensHeatPowerUsage\",\"Elec_PowerHeatPumpWH2of2\",\"Load_DryerPowerTotal\",\"Elec_PowerHRV\",\"Load_BasementPlugLoadsPowerUsage\",\"Load_RefrigeratorPowerWithStandby\",\"Elec_PowerPlugs2ndFloor\",\"Elec_PowerRefrigerator\",\"Load_OvenPowerTotal\",\"Elec_PowerChildAUpstairs\",\"DHW_SHWPumpsPowerWithStandby\",\"Elec_PowerChildBUpstairs\",\"Load_1stFloorLightsPowerUsage\",\"Elec_PowerPlugsInstKitD\",\"Load_LatentHeatPowerUsage\",\"Elec_PowerDryer1of2\",\"Load_LRPlugLoadsPowerUsage\",\"Elec_PowerDryer2of2\",\"Elec_PowerPlugsBR2\",\"Load_BR2PlugLoadsPowerUsage\",\"Elec_PowerGarbageDisposal\",\"Load_BR4PlugLoadsPowerUsage\",\"Elec_PowerParentBUpstairs\",\"Elec_PowerParentAUpstairs\",\"Elec_PowerLights1stFloorB\",\"Elec_PowerParentBDownstairs\",\"Elec_PowerLightsBasement\",\"Elec_PowerParentADownstairs\",\"Load_KPlugLoadsPowerUsage\",\"Elec_PowerLights2ndFloor\",\"Load_2ndFloorLightsPowerUsage\",\"Load_MicrowavePowerWithStandby\",\"Elec_PowerSpare2\",\"Elec_PowerMicrowave\",\"Elec_PowerDishwasher\",\"Elec_PowerChildBDownstairs\",\"Elec_PowerChildADownstairs\",\"Elec_PowerPlugsMBR\",\"Load_MBRPlugLoadsPowerUsage\",\"Elec_PowerPlugsHVACInstrumentation\",\"Elec_PowerLights1stFloorA\",\"Elec_PowerLightingControlPanelRPS1\",\"Load_ClothesWasherPowerWithStandby\",\"Elec_PowerPlugsMBAWest\",\"Elec_PowerPlugsKitSink\",\"Elec_PowerLightingControlPanelRPS2\",\"Elec_PowerPlugsMBAEast\",\"Elec_PowerPlugsKitRange\",\"Elec_PowerPlugsInstDRA\",\"Elec_PowerPlugsBR3\",\"Load_BR3PlugLoadsPowerUsage\",\"Elec_PowerPlugsGSHPInstrumentation\",\"Elec_PowerPlugsInstBR3\",\"Elec_PowerPlugsKitPeninsula\",\"Elec_PowerMakeUpAirDamper\",\"Elec_PowerPlugsInstKitA\",\"Elec_PowerPlugsInstBR2Hall\",\"Elec_PowerPlugsDRB\",\"Elec_PowerLightsAttic\",\"Elec_PowerPlugsInstMBAB\",\"Elec_PowerPlugsInstLRA\",\"Elec_PowerPlugsBA2North\",\"Elec_PowerPlugsInstBR4A\",\"Elec_PowerPlugsAttic\",\"Elec_PowerPlugsInstMudroomA\",\"Elec_PowerPlugsInstBA2\",\"Elec_PowerPlugsInstBR4B\",\"Elec_PowerHeatPumpWH1of2\",\"Elec_PowerPlugsInstBA1\",\"Elec_PowerPlugsInstHall\",\"Elec_PowerPlugsBA2South\",\"Elec_PowerPlugsInstLRB\",\"Elec_PowerPlugsInstMudroomB\",\"HVAC_DehumidifierPower\"],\"yaxis\":\"y\",\"type\":\"bar\"}],                        {\"template\":{\"data\":{\"bar\":[{\"error_x\":{\"color\":\"#2a3f5f\"},\"error_y\":{\"color\":\"#2a3f5f\"},\"marker\":{\"line\":{\"color\":\"#E5ECF6\",\"width\":0.5},\"pattern\":{\"fillmode\":\"overlay\",\"size\":10,\"solidity\":0.2}},\"type\":\"bar\"}],\"barpolar\":[{\"marker\":{\"line\":{\"color\":\"#E5ECF6\",\"width\":0.5},\"pattern\":{\"fillmode\":\"overlay\",\"size\":10,\"solidity\":0.2}},\"type\":\"barpolar\"}],\"carpet\":[{\"aaxis\":{\"endlinecolor\":\"#2a3f5f\",\"gridcolor\":\"white\",\"linecolor\":\"white\",\"minorgridcolor\":\"white\",\"startlinecolor\":\"#2a3f5f\"},\"baxis\":{\"endlinecolor\":\"#2a3f5f\",\"gridcolor\":\"white\",\"linecolor\":\"white\",\"minorgridcolor\":\"white\",\"startlinecolor\":\"#2a3f5f\"},\"type\":\"carpet\"}],\"choropleth\":[{\"colorbar\":{\"outlinewidth\":0,\"ticks\":\"\"},\"type\":\"choropleth\"}],\"contour\":[{\"colorbar\":{\"outlinewidth\":0,\"ticks\":\"\"},\"colorscale\":[[0.0,\"#0d0887\"],[0.1111111111111111,\"#46039f\"],[0.2222222222222222,\"#7201a8\"],[0.3333333333333333,\"#9c179e\"],[0.4444444444444444,\"#bd3786\"],[0.5555555555555556,\"#d8576b\"],[0.6666666666666666,\"#ed7953\"],[0.7777777777777778,\"#fb9f3a\"],[0.8888888888888888,\"#fdca26\"],[1.0,\"#f0f921\"]],\"type\":\"contour\"}],\"contourcarpet\":[{\"colorbar\":{\"outlinewidth\":0,\"ticks\":\"\"},\"type\":\"contourcarpet\"}],\"heatmap\":[{\"colorbar\":{\"outlinewidth\":0,\"ticks\":\"\"},\"colorscale\":[[0.0,\"#0d0887\"],[0.1111111111111111,\"#46039f\"],[0.2222222222222222,\"#7201a8\"],[0.3333333333333333,\"#9c179e\"],[0.4444444444444444,\"#bd3786\"],[0.5555555555555556,\"#d8576b\"],[0.6666666666666666,\"#ed7953\"],[0.7777777777777778,\"#fb9f3a\"],[0.8888888888888888,\"#fdca26\"],[1.0,\"#f0f921\"]],\"type\":\"heatmap\"}],\"heatmapgl\":[{\"colorbar\":{\"outlinewidth\":0,\"ticks\":\"\"},\"colorscale\":[[0.0,\"#0d0887\"],[0.1111111111111111,\"#46039f\"],[0.2222222222222222,\"#7201a8\"],[0.3333333333333333,\"#9c179e\"],[0.4444444444444444,\"#bd3786\"],[0.5555555555555556,\"#d8576b\"],[0.6666666666666666,\"#ed7953\"],[0.7777777777777778,\"#fb9f3a\"],[0.8888888888888888,\"#fdca26\"],[1.0,\"#f0f921\"]],\"type\":\"heatmapgl\"}],\"histogram\":[{\"marker\":{\"pattern\":{\"fillmode\":\"overlay\",\"size\":10,\"solidity\":0.2}},\"type\":\"histogram\"}],\"histogram2d\":[{\"colorbar\":{\"outlinewidth\":0,\"ticks\":\"\"},\"colorscale\":[[0.0,\"#0d0887\"],[0.1111111111111111,\"#46039f\"],[0.2222222222222222,\"#7201a8\"],[0.3333333333333333,\"#9c179e\"],[0.4444444444444444,\"#bd3786\"],[0.5555555555555556,\"#d8576b\"],[0.6666666666666666,\"#ed7953\"],[0.7777777777777778,\"#fb9f3a\"],[0.8888888888888888,\"#fdca26\"],[1.0,\"#f0f921\"]],\"type\":\"histogram2d\"}],\"histogram2dcontour\":[{\"colorbar\":{\"outlinewidth\":0,\"ticks\":\"\"},\"colorscale\":[[0.0,\"#0d0887\"],[0.1111111111111111,\"#46039f\"],[0.2222222222222222,\"#7201a8\"],[0.3333333333333333,\"#9c179e\"],[0.4444444444444444,\"#bd3786\"],[0.5555555555555556,\"#d8576b\"],[0.6666666666666666,\"#ed7953\"],[0.7777777777777778,\"#fb9f3a\"],[0.8888888888888888,\"#fdca26\"],[1.0,\"#f0f921\"]],\"type\":\"histogram2dcontour\"}],\"mesh3d\":[{\"colorbar\":{\"outlinewidth\":0,\"ticks\":\"\"},\"type\":\"mesh3d\"}],\"parcoords\":[{\"line\":{\"colorbar\":{\"outlinewidth\":0,\"ticks\":\"\"}},\"type\":\"parcoords\"}],\"pie\":[{\"automargin\":true,\"type\":\"pie\"}],\"scatter\":[{\"marker\":{\"colorbar\":{\"outlinewidth\":0,\"ticks\":\"\"}},\"type\":\"scatter\"}],\"scatter3d\":[{\"line\":{\"colorbar\":{\"outlinewidth\":0,\"ticks\":\"\"}},\"marker\":{\"colorbar\":{\"outlinewidth\":0,\"ticks\":\"\"}},\"type\":\"scatter3d\"}],\"scattercarpet\":[{\"marker\":{\"colorbar\":{\"outlinewidth\":0,\"ticks\":\"\"}},\"type\":\"scattercarpet\"}],\"scattergeo\":[{\"marker\":{\"colorbar\":{\"outlinewidth\":0,\"ticks\":\"\"}},\"type\":\"scattergeo\"}],\"scattergl\":[{\"marker\":{\"colorbar\":{\"outlinewidth\":0,\"ticks\":\"\"}},\"type\":\"scattergl\"}],\"scattermapbox\":[{\"marker\":{\"colorbar\":{\"outlinewidth\":0,\"ticks\":\"\"}},\"type\":\"scattermapbox\"}],\"scatterpolar\":[{\"marker\":{\"colorbar\":{\"outlinewidth\":0,\"ticks\":\"\"}},\"type\":\"scatterpolar\"}],\"scatterpolargl\":[{\"marker\":{\"colorbar\":{\"outlinewidth\":0,\"ticks\":\"\"}},\"type\":\"scatterpolargl\"}],\"scatterternary\":[{\"marker\":{\"colorbar\":{\"outlinewidth\":0,\"ticks\":\"\"}},\"type\":\"scatterternary\"}],\"surface\":[{\"colorbar\":{\"outlinewidth\":0,\"ticks\":\"\"},\"colorscale\":[[0.0,\"#0d0887\"],[0.1111111111111111,\"#46039f\"],[0.2222222222222222,\"#7201a8\"],[0.3333333333333333,\"#9c179e\"],[0.4444444444444444,\"#bd3786\"],[0.5555555555555556,\"#d8576b\"],[0.6666666666666666,\"#ed7953\"],[0.7777777777777778,\"#fb9f3a\"],[0.8888888888888888,\"#fdca26\"],[1.0,\"#f0f921\"]],\"type\":\"surface\"}],\"table\":[{\"cells\":{\"fill\":{\"color\":\"#EBF0F8\"},\"line\":{\"color\":\"white\"}},\"header\":{\"fill\":{\"color\":\"#C8D4E3\"},\"line\":{\"color\":\"white\"}},\"type\":\"table\"}]},\"layout\":{\"annotationdefaults\":{\"arrowcolor\":\"#2a3f5f\",\"arrowhead\":0,\"arrowwidth\":1},\"autotypenumbers\":\"strict\",\"coloraxis\":{\"colorbar\":{\"outlinewidth\":0,\"ticks\":\"\"}},\"colorscale\":{\"diverging\":[[0,\"#8e0152\"],[0.1,\"#c51b7d\"],[0.2,\"#de77ae\"],[0.3,\"#f1b6da\"],[0.4,\"#fde0ef\"],[0.5,\"#f7f7f7\"],[0.6,\"#e6f5d0\"],[0.7,\"#b8e186\"],[0.8,\"#7fbc41\"],[0.9,\"#4d9221\"],[1,\"#276419\"]],\"sequential\":[[0.0,\"#0d0887\"],[0.1111111111111111,\"#46039f\"],[0.2222222222222222,\"#7201a8\"],[0.3333333333333333,\"#9c179e\"],[0.4444444444444444,\"#bd3786\"],[0.5555555555555556,\"#d8576b\"],[0.6666666666666666,\"#ed7953\"],[0.7777777777777778,\"#fb9f3a\"],[0.8888888888888888,\"#fdca26\"],[1.0,\"#f0f921\"]],\"sequentialminus\":[[0.0,\"#0d0887\"],[0.1111111111111111,\"#46039f\"],[0.2222222222222222,\"#7201a8\"],[0.3333333333333333,\"#9c179e\"],[0.4444444444444444,\"#bd3786\"],[0.5555555555555556,\"#d8576b\"],[0.6666666666666666,\"#ed7953\"],[0.7777777777777778,\"#fb9f3a\"],[0.8888888888888888,\"#fdca26\"],[1.0,\"#f0f921\"]]},\"colorway\":[\"#636efa\",\"#EF553B\",\"#00cc96\",\"#ab63fa\",\"#FFA15A\",\"#19d3f3\",\"#FF6692\",\"#B6E880\",\"#FF97FF\",\"#FECB52\"],\"font\":{\"color\":\"#2a3f5f\"},\"geo\":{\"bgcolor\":\"white\",\"lakecolor\":\"white\",\"landcolor\":\"#E5ECF6\",\"showlakes\":true,\"showland\":true,\"subunitcolor\":\"white\"},\"hoverlabel\":{\"align\":\"left\"},\"hovermode\":\"closest\",\"mapbox\":{\"style\":\"light\"},\"paper_bgcolor\":\"white\",\"plot_bgcolor\":\"#E5ECF6\",\"polar\":{\"angularaxis\":{\"gridcolor\":\"white\",\"linecolor\":\"white\",\"ticks\":\"\"},\"bgcolor\":\"#E5ECF6\",\"radialaxis\":{\"gridcolor\":\"white\",\"linecolor\":\"white\",\"ticks\":\"\"}},\"scene\":{\"xaxis\":{\"backgroundcolor\":\"#E5ECF6\",\"gridcolor\":\"white\",\"gridwidth\":2,\"linecolor\":\"white\",\"showbackground\":true,\"ticks\":\"\",\"zerolinecolor\":\"white\"},\"yaxis\":{\"backgroundcolor\":\"#E5ECF6\",\"gridcolor\":\"white\",\"gridwidth\":2,\"linecolor\":\"white\",\"showbackground\":true,\"ticks\":\"\",\"zerolinecolor\":\"white\"},\"zaxis\":{\"backgroundcolor\":\"#E5ECF6\",\"gridcolor\":\"white\",\"gridwidth\":2,\"linecolor\":\"white\",\"showbackground\":true,\"ticks\":\"\",\"zerolinecolor\":\"white\"}},\"shapedefaults\":{\"line\":{\"color\":\"#2a3f5f\"}},\"ternary\":{\"aaxis\":{\"gridcolor\":\"white\",\"linecolor\":\"white\",\"ticks\":\"\"},\"baxis\":{\"gridcolor\":\"white\",\"linecolor\":\"white\",\"ticks\":\"\"},\"bgcolor\":\"#E5ECF6\",\"caxis\":{\"gridcolor\":\"white\",\"linecolor\":\"white\",\"ticks\":\"\"}},\"title\":{\"x\":0.05},\"xaxis\":{\"automargin\":true,\"gridcolor\":\"white\",\"linecolor\":\"white\",\"ticks\":\"\",\"title\":{\"standoff\":15},\"zerolinecolor\":\"white\",\"zerolinewidth\":2},\"yaxis\":{\"automargin\":true,\"gridcolor\":\"white\",\"linecolor\":\"white\",\"ticks\":\"\",\"title\":{\"standoff\":15},\"zerolinecolor\":\"white\",\"zerolinewidth\":2}}},\"xaxis\":{\"anchor\":\"y\",\"domain\":[0.0,1.0],\"title\":{\"text\":\"x\"}},\"yaxis\":{\"anchor\":\"x\",\"domain\":[0.0,1.0],\"title\":{\"text\":\"index\"}},\"legend\":{\"tracegroupgap\":0},\"margin\":{\"t\":60},\"barmode\":\"relative\"},                        {\"responsive\": true}                    ).then(function(){\n                            \nvar gd = document.getElementById('d1300f8d-1ea8-41a0-870b-4a80fb5dd632');\nvar x = new MutationObserver(function (mutations, observer) {{\n        var display = window.getComputedStyle(gd).display;\n        if (!display || display === 'none') {{\n            console.log([gd, 'removed!']);\n            Plotly.purge(gd);\n            observer.disconnect();\n        }}\n}});\n\n// Listen for the removal of the full notebook cells\nvar notebookContainer = gd.closest('#notebook-container');\nif (notebookContainer) {{\n    x.observe(notebookContainer, {childList: true});\n}}\n\n// Listen for the clearing of the current output cell\nvar outputEl = gd.closest('.output');\nif (outputEl) {{\n    x.observe(outputEl, {childList: true});\n}}\n\n                        })                };                });            </script>        </div>"
     },
     "metadata": {},
     "output_type": "display_data"
    }
   ],
   "source": [
    "fig = px.bar(appliance_instant_energy_consumed1, x=appliance_instant_energy_consumed1)\n",
    "fig.show()"
   ],
   "metadata": {
    "collapsed": false,
    "pycharm": {
     "name": "#%%\n"
    }
   }
  },
  {
   "cell_type": "code",
   "execution_count": 143,
   "outputs": [
    {
     "data": {
      "text/plain": "                      Timestamp  Load_StatusPlugLoadBlender  \\\n0     2013-07-01 00:00:00-04:00                         0.0   \n1     2013-07-01 01:00:00-04:00                         0.0   \n2     2013-07-01 02:00:00-04:00                         0.0   \n3     2013-07-01 03:00:00-04:00                         0.0   \n4     2013-07-01 04:00:00-04:00                         0.0   \n...                         ...                         ...   \n8756  2014-06-30 20:00:00-04:00                         0.0   \n8757  2014-06-30 21:00:00-04:00                         0.0   \n8758  2014-06-30 22:00:00-04:00                         0.0   \n8759  2014-06-30 23:00:00-04:00                         0.0   \n8760  2014-07-01 00:00:00-04:00                         0.0   \n\n      Load_StatusPlugLoadToasterOven  Load_StatusPlugLoadSlowCooker  \\\n0                                0.0                            0.0   \n1                                0.0                            0.0   \n2                                0.0                            0.0   \n3                                0.0                            0.0   \n4                                0.0                            0.0   \n...                              ...                            ...   \n8756                             0.0                            0.0   \n8757                             0.0                            0.0   \n8758                             0.0                            0.0   \n8759                             0.0                            0.0   \n8760                             0.0                            0.0   \n\n      Load_StatusPlugLoadToaster  Load_StatusPlugLoadHandMixer  \\\n0                            0.0                           0.0   \n1                            0.0                           0.0   \n2                            0.0                           0.0   \n3                            0.0                           0.0   \n4                            0.0                           0.0   \n...                          ...                           ...   \n8756                         0.0                           0.0   \n8757                         0.0                           0.0   \n8758                         0.0                           0.0   \n8759                         0.0                           0.0   \n8760                         0.0                           0.0   \n\n      Load_StatusPlugLoadCanOpener  Load_StatusPlugLoadCoffeeMaker  Status  \n0                              0.0                             0.0     0.0  \n1                              0.0                             0.0     0.0  \n2                              0.0                             0.0     0.0  \n3                              0.0                             0.0     0.0  \n4                              0.0                             0.0     0.0  \n...                            ...                             ...     ...  \n8756                           0.0                             0.0     0.0  \n8757                           0.0                             0.0     0.0  \n8758                           0.0                             0.0     0.0  \n8759                           0.0                             0.0     0.0  \n8760                           0.0                             0.0     0.0  \n\n[8761 rows x 9 columns]",
      "text/html": "<div>\n<style scoped>\n    .dataframe tbody tr th:only-of-type {\n        vertical-align: middle;\n    }\n\n    .dataframe tbody tr th {\n        vertical-align: top;\n    }\n\n    .dataframe thead th {\n        text-align: right;\n    }\n</style>\n<table border=\"1\" class=\"dataframe\">\n  <thead>\n    <tr style=\"text-align: right;\">\n      <th></th>\n      <th>Timestamp</th>\n      <th>Load_StatusPlugLoadBlender</th>\n      <th>Load_StatusPlugLoadToasterOven</th>\n      <th>Load_StatusPlugLoadSlowCooker</th>\n      <th>Load_StatusPlugLoadToaster</th>\n      <th>Load_StatusPlugLoadHandMixer</th>\n      <th>Load_StatusPlugLoadCanOpener</th>\n      <th>Load_StatusPlugLoadCoffeeMaker</th>\n      <th>Status</th>\n    </tr>\n  </thead>\n  <tbody>\n    <tr>\n      <th>0</th>\n      <td>2013-07-01 00:00:00-04:00</td>\n      <td>0.0</td>\n      <td>0.0</td>\n      <td>0.0</td>\n      <td>0.0</td>\n      <td>0.0</td>\n      <td>0.0</td>\n      <td>0.0</td>\n      <td>0.0</td>\n    </tr>\n    <tr>\n      <th>1</th>\n      <td>2013-07-01 01:00:00-04:00</td>\n      <td>0.0</td>\n      <td>0.0</td>\n      <td>0.0</td>\n      <td>0.0</td>\n      <td>0.0</td>\n      <td>0.0</td>\n      <td>0.0</td>\n      <td>0.0</td>\n    </tr>\n    <tr>\n      <th>2</th>\n      <td>2013-07-01 02:00:00-04:00</td>\n      <td>0.0</td>\n      <td>0.0</td>\n      <td>0.0</td>\n      <td>0.0</td>\n      <td>0.0</td>\n      <td>0.0</td>\n      <td>0.0</td>\n      <td>0.0</td>\n    </tr>\n    <tr>\n      <th>3</th>\n      <td>2013-07-01 03:00:00-04:00</td>\n      <td>0.0</td>\n      <td>0.0</td>\n      <td>0.0</td>\n      <td>0.0</td>\n      <td>0.0</td>\n      <td>0.0</td>\n      <td>0.0</td>\n      <td>0.0</td>\n    </tr>\n    <tr>\n      <th>4</th>\n      <td>2013-07-01 04:00:00-04:00</td>\n      <td>0.0</td>\n      <td>0.0</td>\n      <td>0.0</td>\n      <td>0.0</td>\n      <td>0.0</td>\n      <td>0.0</td>\n      <td>0.0</td>\n      <td>0.0</td>\n    </tr>\n    <tr>\n      <th>...</th>\n      <td>...</td>\n      <td>...</td>\n      <td>...</td>\n      <td>...</td>\n      <td>...</td>\n      <td>...</td>\n      <td>...</td>\n      <td>...</td>\n      <td>...</td>\n    </tr>\n    <tr>\n      <th>8756</th>\n      <td>2014-06-30 20:00:00-04:00</td>\n      <td>0.0</td>\n      <td>0.0</td>\n      <td>0.0</td>\n      <td>0.0</td>\n      <td>0.0</td>\n      <td>0.0</td>\n      <td>0.0</td>\n      <td>0.0</td>\n    </tr>\n    <tr>\n      <th>8757</th>\n      <td>2014-06-30 21:00:00-04:00</td>\n      <td>0.0</td>\n      <td>0.0</td>\n      <td>0.0</td>\n      <td>0.0</td>\n      <td>0.0</td>\n      <td>0.0</td>\n      <td>0.0</td>\n      <td>0.0</td>\n    </tr>\n    <tr>\n      <th>8758</th>\n      <td>2014-06-30 22:00:00-04:00</td>\n      <td>0.0</td>\n      <td>0.0</td>\n      <td>0.0</td>\n      <td>0.0</td>\n      <td>0.0</td>\n      <td>0.0</td>\n      <td>0.0</td>\n      <td>0.0</td>\n    </tr>\n    <tr>\n      <th>8759</th>\n      <td>2014-06-30 23:00:00-04:00</td>\n      <td>0.0</td>\n      <td>0.0</td>\n      <td>0.0</td>\n      <td>0.0</td>\n      <td>0.0</td>\n      <td>0.0</td>\n      <td>0.0</td>\n      <td>0.0</td>\n    </tr>\n    <tr>\n      <th>8760</th>\n      <td>2014-07-01 00:00:00-04:00</td>\n      <td>0.0</td>\n      <td>0.0</td>\n      <td>0.0</td>\n      <td>0.0</td>\n      <td>0.0</td>\n      <td>0.0</td>\n      <td>0.0</td>\n      <td>0.0</td>\n    </tr>\n  </tbody>\n</table>\n<p>8761 rows × 9 columns</p>\n</div>"
     },
     "execution_count": 143,
     "metadata": {},
     "output_type": "execute_result"
    }
   ],
   "source": [
    "kitchenplugs = netzero1_hourly[[\"Timestamp\"] + plugs].copy()\n",
    "kitchenplugs[\"Status\"] = kitchenplugs[plugs].sum(axis=1)\n",
    "kitchenplugs"
   ],
   "metadata": {
    "collapsed": false,
    "pycharm": {
     "name": "#%%\n"
    }
   }
  },
  {
   "cell_type": "code",
   "execution_count": 145,
   "outputs": [
    {
     "data": {
      "text/plain": "                     Timestamp  Load_StatusPlugLoadBlender  \\\n0    2013-07-01 04:00:00+00:00                         0.0   \n1    2013-07-01 05:00:00+00:00                         0.0   \n2    2013-07-01 06:00:00+00:00                         0.0   \n3    2013-07-01 07:00:00+00:00                         0.0   \n4    2013-07-01 08:00:00+00:00                         0.0   \n...                        ...                         ...   \n8756 2014-07-01 00:00:00+00:00                         0.0   \n8757 2014-07-01 01:00:00+00:00                         0.0   \n8758 2014-07-01 02:00:00+00:00                         0.0   \n8759 2014-07-01 03:00:00+00:00                         0.0   \n8760 2014-07-01 04:00:00+00:00                         0.0   \n\n      Load_StatusPlugLoadToasterOven  Load_StatusPlugLoadSlowCooker  \\\n0                                0.0                            0.0   \n1                                0.0                            0.0   \n2                                0.0                            0.0   \n3                                0.0                            0.0   \n4                                0.0                            0.0   \n...                              ...                            ...   \n8756                             0.0                            0.0   \n8757                             0.0                            0.0   \n8758                             0.0                            0.0   \n8759                             0.0                            0.0   \n8760                             0.0                            0.0   \n\n      Load_StatusPlugLoadToaster  Load_StatusPlugLoadHandMixer  \\\n0                            0.0                           0.0   \n1                            0.0                           0.0   \n2                            0.0                           0.0   \n3                            0.0                           0.0   \n4                            0.0                           0.0   \n...                          ...                           ...   \n8756                         0.0                           0.0   \n8757                         0.0                           0.0   \n8758                         0.0                           0.0   \n8759                         0.0                           0.0   \n8760                         0.0                           0.0   \n\n      Load_StatusPlugLoadCanOpener  Load_StatusPlugLoadCoffeeMaker  Status  \\\n0                              0.0                             0.0     0.0   \n1                              0.0                             0.0     0.0   \n2                              0.0                             0.0     0.0   \n3                              0.0                             0.0     0.0   \n4                              0.0                             0.0     0.0   \n...                            ...                             ...     ...   \n8756                           0.0                             0.0     0.0   \n8757                           0.0                             0.0     0.0   \n8758                           0.0                             0.0     0.0   \n8759                           0.0                             0.0     0.0   \n8760                           0.0                             0.0     0.0   \n\n      HourOfTimestamp  \n0                   4  \n1                   5  \n2                   6  \n3                   7  \n4                   8  \n...               ...  \n8756                0  \n8757                1  \n8758                2  \n8759                3  \n8760                4  \n\n[8761 rows x 10 columns]",
      "text/html": "<div>\n<style scoped>\n    .dataframe tbody tr th:only-of-type {\n        vertical-align: middle;\n    }\n\n    .dataframe tbody tr th {\n        vertical-align: top;\n    }\n\n    .dataframe thead th {\n        text-align: right;\n    }\n</style>\n<table border=\"1\" class=\"dataframe\">\n  <thead>\n    <tr style=\"text-align: right;\">\n      <th></th>\n      <th>Timestamp</th>\n      <th>Load_StatusPlugLoadBlender</th>\n      <th>Load_StatusPlugLoadToasterOven</th>\n      <th>Load_StatusPlugLoadSlowCooker</th>\n      <th>Load_StatusPlugLoadToaster</th>\n      <th>Load_StatusPlugLoadHandMixer</th>\n      <th>Load_StatusPlugLoadCanOpener</th>\n      <th>Load_StatusPlugLoadCoffeeMaker</th>\n      <th>Status</th>\n      <th>HourOfTimestamp</th>\n    </tr>\n  </thead>\n  <tbody>\n    <tr>\n      <th>0</th>\n      <td>2013-07-01 04:00:00+00:00</td>\n      <td>0.0</td>\n      <td>0.0</td>\n      <td>0.0</td>\n      <td>0.0</td>\n      <td>0.0</td>\n      <td>0.0</td>\n      <td>0.0</td>\n      <td>0.0</td>\n      <td>4</td>\n    </tr>\n    <tr>\n      <th>1</th>\n      <td>2013-07-01 05:00:00+00:00</td>\n      <td>0.0</td>\n      <td>0.0</td>\n      <td>0.0</td>\n      <td>0.0</td>\n      <td>0.0</td>\n      <td>0.0</td>\n      <td>0.0</td>\n      <td>0.0</td>\n      <td>5</td>\n    </tr>\n    <tr>\n      <th>2</th>\n      <td>2013-07-01 06:00:00+00:00</td>\n      <td>0.0</td>\n      <td>0.0</td>\n      <td>0.0</td>\n      <td>0.0</td>\n      <td>0.0</td>\n      <td>0.0</td>\n      <td>0.0</td>\n      <td>0.0</td>\n      <td>6</td>\n    </tr>\n    <tr>\n      <th>3</th>\n      <td>2013-07-01 07:00:00+00:00</td>\n      <td>0.0</td>\n      <td>0.0</td>\n      <td>0.0</td>\n      <td>0.0</td>\n      <td>0.0</td>\n      <td>0.0</td>\n      <td>0.0</td>\n      <td>0.0</td>\n      <td>7</td>\n    </tr>\n    <tr>\n      <th>4</th>\n      <td>2013-07-01 08:00:00+00:00</td>\n      <td>0.0</td>\n      <td>0.0</td>\n      <td>0.0</td>\n      <td>0.0</td>\n      <td>0.0</td>\n      <td>0.0</td>\n      <td>0.0</td>\n      <td>0.0</td>\n      <td>8</td>\n    </tr>\n    <tr>\n      <th>...</th>\n      <td>...</td>\n      <td>...</td>\n      <td>...</td>\n      <td>...</td>\n      <td>...</td>\n      <td>...</td>\n      <td>...</td>\n      <td>...</td>\n      <td>...</td>\n      <td>...</td>\n    </tr>\n    <tr>\n      <th>8756</th>\n      <td>2014-07-01 00:00:00+00:00</td>\n      <td>0.0</td>\n      <td>0.0</td>\n      <td>0.0</td>\n      <td>0.0</td>\n      <td>0.0</td>\n      <td>0.0</td>\n      <td>0.0</td>\n      <td>0.0</td>\n      <td>0</td>\n    </tr>\n    <tr>\n      <th>8757</th>\n      <td>2014-07-01 01:00:00+00:00</td>\n      <td>0.0</td>\n      <td>0.0</td>\n      <td>0.0</td>\n      <td>0.0</td>\n      <td>0.0</td>\n      <td>0.0</td>\n      <td>0.0</td>\n      <td>0.0</td>\n      <td>1</td>\n    </tr>\n    <tr>\n      <th>8758</th>\n      <td>2014-07-01 02:00:00+00:00</td>\n      <td>0.0</td>\n      <td>0.0</td>\n      <td>0.0</td>\n      <td>0.0</td>\n      <td>0.0</td>\n      <td>0.0</td>\n      <td>0.0</td>\n      <td>0.0</td>\n      <td>2</td>\n    </tr>\n    <tr>\n      <th>8759</th>\n      <td>2014-07-01 03:00:00+00:00</td>\n      <td>0.0</td>\n      <td>0.0</td>\n      <td>0.0</td>\n      <td>0.0</td>\n      <td>0.0</td>\n      <td>0.0</td>\n      <td>0.0</td>\n      <td>0.0</td>\n      <td>3</td>\n    </tr>\n    <tr>\n      <th>8760</th>\n      <td>2014-07-01 04:00:00+00:00</td>\n      <td>0.0</td>\n      <td>0.0</td>\n      <td>0.0</td>\n      <td>0.0</td>\n      <td>0.0</td>\n      <td>0.0</td>\n      <td>0.0</td>\n      <td>0.0</td>\n      <td>4</td>\n    </tr>\n  </tbody>\n</table>\n<p>8761 rows × 10 columns</p>\n</div>"
     },
     "execution_count": 145,
     "metadata": {},
     "output_type": "execute_result"
    }
   ],
   "source": [
    "#Forces Timestamp to the type of datetime, to extract the hour of Timestamp.\n",
    "kitchenplugs['Timestamp'] = pd.to_datetime(kitchenplugs['Timestamp'], errors='coerce', utc=True)\n",
    "\n",
    "#Extracts hour of Timestamp.\n",
    "kitchenplugs[\"HourOfTimestamp\"] = kitchenplugs.Timestamp.dt.hour\n",
    "\n",
    "#Replaces values to be binary 0 or 1.\n",
    "for i in plugs:\n",
    "    kitchenplugs.loc[kitchenplugs[i] < 0, i] = 0\n",
    "    kitchenplugs.loc[kitchenplugs[i] > 0.0001, i] = 1\n",
    "\n",
    "kitchenplugs"
   ],
   "metadata": {
    "collapsed": false,
    "pycharm": {
     "name": "#%%\n"
    }
   }
  },
  {
   "cell_type": "code",
   "execution_count": 188,
   "outputs": [
    {
     "data": {
      "text/plain": "    HourOfTimestamp  Load_StatusPlugLoadHandMixer  size\n1                 0                           1.0    18\n8                 6                           1.0     2\n25               22                           1.0   201\n27               23                           1.0   141",
      "text/html": "<div>\n<style scoped>\n    .dataframe tbody tr th:only-of-type {\n        vertical-align: middle;\n    }\n\n    .dataframe tbody tr th {\n        vertical-align: top;\n    }\n\n    .dataframe thead th {\n        text-align: right;\n    }\n</style>\n<table border=\"1\" class=\"dataframe\">\n  <thead>\n    <tr style=\"text-align: right;\">\n      <th></th>\n      <th>HourOfTimestamp</th>\n      <th>Load_StatusPlugLoadHandMixer</th>\n      <th>size</th>\n    </tr>\n  </thead>\n  <tbody>\n    <tr>\n      <th>1</th>\n      <td>0</td>\n      <td>1.0</td>\n      <td>18</td>\n    </tr>\n    <tr>\n      <th>8</th>\n      <td>6</td>\n      <td>1.0</td>\n      <td>2</td>\n    </tr>\n    <tr>\n      <th>25</th>\n      <td>22</td>\n      <td>1.0</td>\n      <td>201</td>\n    </tr>\n    <tr>\n      <th>27</th>\n      <td>23</td>\n      <td>1.0</td>\n      <td>141</td>\n    </tr>\n  </tbody>\n</table>\n</div>"
     },
     "execution_count": 188,
     "metadata": {},
     "output_type": "execute_result"
    }
   ],
   "source": [
    "#Creates a dataframe with counts of \"StatusOffOn\" = 1, grouped by HourOfTimestamp for a selected attribute in kitchenplugs\n",
    "count_series = kitchenplugs.groupby([\"HourOfTimestamp\", \"Load_StatusPlugLoadHandMixer\"]).size()\n",
    "\n",
    "new_df = count_series.to_frame(name='size').reset_index()\n",
    "\n",
    "only_on = new_df.loc[new_df[\"Load_StatusPlugLoadHandMixer\"] == 1]"
   ],
   "metadata": {
    "collapsed": false,
    "pycharm": {
     "name": "#%%\n"
    }
   }
  },
  {
   "cell_type": "code",
   "execution_count": 336,
   "outputs": [
    {
     "data": {
      "text/plain": "    HourOfTimestamp  Load_StatusPlugLoadBlender_ON  \\\n0                 0                            0.0   \n1                 1                            0.0   \n2                 2                            0.0   \n3                 3                            0.0   \n4                 4                            0.0   \n5                 5                            0.0   \n6                 6                            0.0   \n7                 7                            0.0   \n8                 8                            0.0   \n9                 9                            0.0   \n10               10                          167.0   \n11               11                           89.0   \n12               12                            0.0   \n13               13                           65.0   \n14               14                           36.0   \n15               15                            0.0   \n16               16                            0.0   \n17               17                            0.0   \n18               18                            0.0   \n19               19                            0.0   \n20               20                            0.0   \n21               21                            1.0   \n22               22                            0.0   \n23               23                            0.0   \n\n    Load_StatusPlugLoadToasterOven_ON  Load_StatusPlugLoadSlowCooker_ON  \\\n0                                 1.0                               0.0   \n1                                 2.0                               0.0   \n2                                 2.0                               0.0   \n3                                 0.0                               0.0   \n4                                 0.0                               0.0   \n5                                 0.0                               0.0   \n6                                 0.0                               0.0   \n7                                 0.0                               0.0   \n8                                 0.0                               0.0   \n9                                 0.0                               0.0   \n10                              167.0                               0.0   \n11                               89.0                               0.0   \n12                                0.0                              34.0   \n13                               65.0                              84.0   \n14                               36.0                              68.0   \n15                                0.0                              18.0   \n16                                0.0                               0.0   \n17                                0.0                               0.0   \n18                                0.0                               0.0   \n19                                0.0                               0.0   \n20                                0.0                               0.0   \n21                                1.0                               0.0   \n22                                0.0                               0.0   \n23                                0.0                               0.0   \n\n    Load_StatusPlugLoadToaster_ON  Load_StatusPlugLoadHandMixer_ON  \\\n0                             0.0                             18.0   \n1                             0.0                              0.0   \n2                             0.0                              0.0   \n3                             0.0                              0.0   \n4                             0.0                              0.0   \n5                             0.0                              0.0   \n6                             0.0                              2.0   \n7                             0.0                              0.0   \n8                             0.0                              0.0   \n9                             0.0                              0.0   \n10                          167.0                              0.0   \n11                           89.0                              0.0   \n12                            0.0                              0.0   \n13                           65.0                              0.0   \n14                           36.0                              0.0   \n15                            0.0                              0.0   \n16                            0.0                              0.0   \n17                            0.0                              0.0   \n18                            0.0                              0.0   \n19                            0.0                              0.0   \n20                            0.0                              0.0   \n21                            1.0                              0.0   \n22                            0.0                            201.0   \n23                            0.0                            141.0   \n\n    Load_StatusPlugLoadCanOpener_ON  Load_StatusPlugLoadCoffeeMaker_ON  \n0                              20.0                                0.0  \n1                               2.0                                0.0  \n2                               3.0                                0.0  \n3                               6.0                                0.0  \n4                               0.0                                0.0  \n5                               0.0                                0.0  \n6                               2.0                                0.0  \n7                               0.0                                0.0  \n8                               0.0                                0.0  \n9                               0.0                                0.0  \n10                              0.0                              167.0  \n11                              0.0                              102.0  \n12                              0.0                                0.0  \n13                              0.0                               65.0  \n14                              0.0                               42.0  \n15                              0.0                                0.0  \n16                              0.0                                6.0  \n17                              0.0                                0.0  \n18                              0.0                                0.0  \n19                              0.0                                0.0  \n20                              0.0                                1.0  \n21                              0.0                                1.0  \n22                            201.0                               16.0  \n23                            141.0                                0.0  ",
      "text/html": "<div>\n<style scoped>\n    .dataframe tbody tr th:only-of-type {\n        vertical-align: middle;\n    }\n\n    .dataframe tbody tr th {\n        vertical-align: top;\n    }\n\n    .dataframe thead th {\n        text-align: right;\n    }\n</style>\n<table border=\"1\" class=\"dataframe\">\n  <thead>\n    <tr style=\"text-align: right;\">\n      <th></th>\n      <th>HourOfTimestamp</th>\n      <th>Load_StatusPlugLoadBlender_ON</th>\n      <th>Load_StatusPlugLoadToasterOven_ON</th>\n      <th>Load_StatusPlugLoadSlowCooker_ON</th>\n      <th>Load_StatusPlugLoadToaster_ON</th>\n      <th>Load_StatusPlugLoadHandMixer_ON</th>\n      <th>Load_StatusPlugLoadCanOpener_ON</th>\n      <th>Load_StatusPlugLoadCoffeeMaker_ON</th>\n    </tr>\n  </thead>\n  <tbody>\n    <tr>\n      <th>0</th>\n      <td>0</td>\n      <td>0.0</td>\n      <td>1.0</td>\n      <td>0.0</td>\n      <td>0.0</td>\n      <td>18.0</td>\n      <td>20.0</td>\n      <td>0.0</td>\n    </tr>\n    <tr>\n      <th>1</th>\n      <td>1</td>\n      <td>0.0</td>\n      <td>2.0</td>\n      <td>0.0</td>\n      <td>0.0</td>\n      <td>0.0</td>\n      <td>2.0</td>\n      <td>0.0</td>\n    </tr>\n    <tr>\n      <th>2</th>\n      <td>2</td>\n      <td>0.0</td>\n      <td>2.0</td>\n      <td>0.0</td>\n      <td>0.0</td>\n      <td>0.0</td>\n      <td>3.0</td>\n      <td>0.0</td>\n    </tr>\n    <tr>\n      <th>3</th>\n      <td>3</td>\n      <td>0.0</td>\n      <td>0.0</td>\n      <td>0.0</td>\n      <td>0.0</td>\n      <td>0.0</td>\n      <td>6.0</td>\n      <td>0.0</td>\n    </tr>\n    <tr>\n      <th>4</th>\n      <td>4</td>\n      <td>0.0</td>\n      <td>0.0</td>\n      <td>0.0</td>\n      <td>0.0</td>\n      <td>0.0</td>\n      <td>0.0</td>\n      <td>0.0</td>\n    </tr>\n    <tr>\n      <th>5</th>\n      <td>5</td>\n      <td>0.0</td>\n      <td>0.0</td>\n      <td>0.0</td>\n      <td>0.0</td>\n      <td>0.0</td>\n      <td>0.0</td>\n      <td>0.0</td>\n    </tr>\n    <tr>\n      <th>6</th>\n      <td>6</td>\n      <td>0.0</td>\n      <td>0.0</td>\n      <td>0.0</td>\n      <td>0.0</td>\n      <td>2.0</td>\n      <td>2.0</td>\n      <td>0.0</td>\n    </tr>\n    <tr>\n      <th>7</th>\n      <td>7</td>\n      <td>0.0</td>\n      <td>0.0</td>\n      <td>0.0</td>\n      <td>0.0</td>\n      <td>0.0</td>\n      <td>0.0</td>\n      <td>0.0</td>\n    </tr>\n    <tr>\n      <th>8</th>\n      <td>8</td>\n      <td>0.0</td>\n      <td>0.0</td>\n      <td>0.0</td>\n      <td>0.0</td>\n      <td>0.0</td>\n      <td>0.0</td>\n      <td>0.0</td>\n    </tr>\n    <tr>\n      <th>9</th>\n      <td>9</td>\n      <td>0.0</td>\n      <td>0.0</td>\n      <td>0.0</td>\n      <td>0.0</td>\n      <td>0.0</td>\n      <td>0.0</td>\n      <td>0.0</td>\n    </tr>\n    <tr>\n      <th>10</th>\n      <td>10</td>\n      <td>167.0</td>\n      <td>167.0</td>\n      <td>0.0</td>\n      <td>167.0</td>\n      <td>0.0</td>\n      <td>0.0</td>\n      <td>167.0</td>\n    </tr>\n    <tr>\n      <th>11</th>\n      <td>11</td>\n      <td>89.0</td>\n      <td>89.0</td>\n      <td>0.0</td>\n      <td>89.0</td>\n      <td>0.0</td>\n      <td>0.0</td>\n      <td>102.0</td>\n    </tr>\n    <tr>\n      <th>12</th>\n      <td>12</td>\n      <td>0.0</td>\n      <td>0.0</td>\n      <td>34.0</td>\n      <td>0.0</td>\n      <td>0.0</td>\n      <td>0.0</td>\n      <td>0.0</td>\n    </tr>\n    <tr>\n      <th>13</th>\n      <td>13</td>\n      <td>65.0</td>\n      <td>65.0</td>\n      <td>84.0</td>\n      <td>65.0</td>\n      <td>0.0</td>\n      <td>0.0</td>\n      <td>65.0</td>\n    </tr>\n    <tr>\n      <th>14</th>\n      <td>14</td>\n      <td>36.0</td>\n      <td>36.0</td>\n      <td>68.0</td>\n      <td>36.0</td>\n      <td>0.0</td>\n      <td>0.0</td>\n      <td>42.0</td>\n    </tr>\n    <tr>\n      <th>15</th>\n      <td>15</td>\n      <td>0.0</td>\n      <td>0.0</td>\n      <td>18.0</td>\n      <td>0.0</td>\n      <td>0.0</td>\n      <td>0.0</td>\n      <td>0.0</td>\n    </tr>\n    <tr>\n      <th>16</th>\n      <td>16</td>\n      <td>0.0</td>\n      <td>0.0</td>\n      <td>0.0</td>\n      <td>0.0</td>\n      <td>0.0</td>\n      <td>0.0</td>\n      <td>6.0</td>\n    </tr>\n    <tr>\n      <th>17</th>\n      <td>17</td>\n      <td>0.0</td>\n      <td>0.0</td>\n      <td>0.0</td>\n      <td>0.0</td>\n      <td>0.0</td>\n      <td>0.0</td>\n      <td>0.0</td>\n    </tr>\n    <tr>\n      <th>18</th>\n      <td>18</td>\n      <td>0.0</td>\n      <td>0.0</td>\n      <td>0.0</td>\n      <td>0.0</td>\n      <td>0.0</td>\n      <td>0.0</td>\n      <td>0.0</td>\n    </tr>\n    <tr>\n      <th>19</th>\n      <td>19</td>\n      <td>0.0</td>\n      <td>0.0</td>\n      <td>0.0</td>\n      <td>0.0</td>\n      <td>0.0</td>\n      <td>0.0</td>\n      <td>0.0</td>\n    </tr>\n    <tr>\n      <th>20</th>\n      <td>20</td>\n      <td>0.0</td>\n      <td>0.0</td>\n      <td>0.0</td>\n      <td>0.0</td>\n      <td>0.0</td>\n      <td>0.0</td>\n      <td>1.0</td>\n    </tr>\n    <tr>\n      <th>21</th>\n      <td>21</td>\n      <td>1.0</td>\n      <td>1.0</td>\n      <td>0.0</td>\n      <td>1.0</td>\n      <td>0.0</td>\n      <td>0.0</td>\n      <td>1.0</td>\n    </tr>\n    <tr>\n      <th>22</th>\n      <td>22</td>\n      <td>0.0</td>\n      <td>0.0</td>\n      <td>0.0</td>\n      <td>0.0</td>\n      <td>201.0</td>\n      <td>201.0</td>\n      <td>16.0</td>\n    </tr>\n    <tr>\n      <th>23</th>\n      <td>23</td>\n      <td>0.0</td>\n      <td>0.0</td>\n      <td>0.0</td>\n      <td>0.0</td>\n      <td>141.0</td>\n      <td>141.0</td>\n      <td>0.0</td>\n    </tr>\n  </tbody>\n</table>\n</div>"
     },
     "execution_count": 336,
     "metadata": {},
     "output_type": "execute_result"
    }
   ],
   "source": [
    "#Creates a dataframe with counts of \"StatusOffOn\" = 1, grouped by HourOfTimestamp for all attributes in kitchenplugs\n",
    "\n",
    "dataframes = list()\n",
    "for i in plugs:\n",
    "    count_series = kitchenplugs.groupby([\"HourOfTimestamp\", i]).size()\n",
    "\n",
    "    new_df = count_series.to_frame(name=f'{i}_ON').reset_index()\n",
    "\n",
    "    only_on = new_df.loc[new_df[i] == 1].copy()\n",
    "    only_on.drop(columns=[i], inplace=True)\n",
    "    dataframes.append(only_on)\n",
    "\n",
    "hourON = pd.DataFrame(list(range(0, 24)), columns=[\"HourOfTimestamp\"])\n",
    "for i in dataframes:\n",
    "    hourON = hourON.merge(i, how=\"outer\", on=\"HourOfTimestamp\").fillna(0).sort_values(by='HourOfTimestamp',\n",
    "                                                                                      ascending=True)\n",
    "\n",
    "hourON"
   ],
   "metadata": {
    "collapsed": false,
    "pycharm": {
     "name": "#%%\n"
    }
   }
  },
  {
   "cell_type": "code",
   "execution_count": 306,
   "outputs": [],
   "source": [
    "def normalise_dataframe(df):\n",
    "    '''\n",
    "    Normalises values of all attributes in a dataframe, with minmax method.\n",
    "    :param df: \n",
    "    :type df: \n",
    "    :return: \n",
    "    :rtype: \n",
    "    '''\n",
    "    normalised_df = df.copy()\n",
    "\n",
    "    for column in normalised_df:\n",
    "        try:\n",
    "            normalised_df[column] = (normalised_df[column] - normalised_df[column].min()) / (\n",
    "                    normalised_df[column].max() - normalised_df[column].min())\n",
    "        except:\n",
    "            normalised_df[column] = normalised_df[column]\n",
    "\n",
    "    return normalised_df"
   ],
   "metadata": {
    "collapsed": false,
    "pycharm": {
     "name": "#%%\n"
    }
   }
  },
  {
   "cell_type": "code",
   "execution_count": 387,
   "outputs": [
    {
     "name": "stderr",
     "output_type": "stream",
     "text": [
      "/usr/local/lib/python3.9/site-packages/plotly/graph_objs/_deprecations.py:62: DeprecationWarning:\n",
      "\n",
      "plotly.graph_objs.Annotations is deprecated.\n",
      "Please replace it with a list or tuple of instances of the following types\n",
      "  - plotly.graph_objs.layout.Annotation\n",
      "  - plotly.graph_objs.layout.scene.Annotation\n",
      "\n",
      "\n",
      "/usr/local/lib/python3.9/site-packages/plotly/graph_objs/_deprecations.py:143: DeprecationWarning:\n",
      "\n",
      "plotly.graph_objs.Annotation is deprecated.\n",
      "Please replace it with one of the following more specific types\n",
      "  - plotly.graph_objs.layout.Annotation\n",
      "  - plotly.graph_objs.layout.scene.Annotation\n",
      "\n",
      "\n"
     ]
    },
    {
     "data": {
      "application/vnd.plotly.v1+json": {
       "data": [
        {
         "colorscale": [
          [
           0.0,
           "rgb(209, 238, 234)"
          ],
          [
           0.16666666666666666,
           "rgb(168, 219, 217)"
          ],
          [
           0.3333333333333333,
           "rgb(133, 196, 201)"
          ],
          [
           0.5,
           "rgb(104, 171, 184)"
          ],
          [
           0.6666666666666666,
           "rgb(79, 144, 166)"
          ],
          [
           0.8333333333333334,
           "rgb(59, 115, 143)"
          ],
          [
           1.0,
           "rgb(42, 86, 116)"
          ]
         ],
         "x": [
          0,
          1,
          2,
          3,
          4,
          5,
          6,
          7,
          8,
          9,
          10,
          11,
          12,
          13,
          14,
          15,
          16,
          17,
          18,
          19,
          20,
          21,
          22,
          23
         ],
         "y": [
          "Load_StatusPlugLoadBlender_ON",
          "Load_StatusPlugLoadToasterOven_ON",
          "Load_StatusPlugLoadSlowCooker_ON",
          "Load_StatusPlugLoadToaster_ON",
          "Load_StatusPlugLoadHandMixer_ON",
          "Load_StatusPlugLoadCanOpener_ON",
          "Load_StatusPlugLoadCoffeeMaker_ON"
         ],
         "z": [
          [
           0.0,
           0.0,
           0.0,
           0.0,
           0.0,
           0.0,
           0.0,
           0.0,
           0.0,
           0.0,
           1.0,
           0.53,
           0.0,
           0.39,
           0.22,
           0.0,
           0.0,
           0.0,
           0.0,
           0.0,
           0.0,
           0.01,
           0.0,
           0.0
          ],
          [
           0.01,
           0.01,
           0.01,
           0.0,
           0.0,
           0.0,
           0.0,
           0.0,
           0.0,
           0.0,
           1.0,
           0.53,
           0.0,
           0.39,
           0.22,
           0.0,
           0.0,
           0.0,
           0.0,
           0.0,
           0.0,
           0.01,
           0.0,
           0.0
          ],
          [
           0.0,
           0.0,
           0.0,
           0.0,
           0.0,
           0.0,
           0.0,
           0.0,
           0.0,
           0.0,
           0.0,
           0.0,
           0.4,
           1.0,
           0.81,
           0.21,
           0.0,
           0.0,
           0.0,
           0.0,
           0.0,
           0.0,
           0.0,
           0.0
          ],
          [
           0.0,
           0.0,
           0.0,
           0.0,
           0.0,
           0.0,
           0.0,
           0.0,
           0.0,
           0.0,
           1.0,
           0.53,
           0.0,
           0.39,
           0.22,
           0.0,
           0.0,
           0.0,
           0.0,
           0.0,
           0.0,
           0.01,
           0.0,
           0.0
          ],
          [
           0.09,
           0.0,
           0.0,
           0.0,
           0.0,
           0.0,
           0.01,
           0.0,
           0.0,
           0.0,
           0.0,
           0.0,
           0.0,
           0.0,
           0.0,
           0.0,
           0.0,
           0.0,
           0.0,
           0.0,
           0.0,
           0.0,
           1.0,
           0.7
          ],
          [
           0.1,
           0.01,
           0.01,
           0.03,
           0.0,
           0.0,
           0.01,
           0.0,
           0.0,
           0.0,
           0.0,
           0.0,
           0.0,
           0.0,
           0.0,
           0.0,
           0.0,
           0.0,
           0.0,
           0.0,
           0.0,
           0.0,
           1.0,
           0.7
          ],
          [
           0.0,
           0.0,
           0.0,
           0.0,
           0.0,
           0.0,
           0.0,
           0.0,
           0.0,
           0.0,
           1.0,
           0.61,
           0.0,
           0.39,
           0.25,
           0.0,
           0.04,
           0.0,
           0.0,
           0.0,
           0.01,
           0.01,
           0.1,
           0.0
          ]
         ],
         "type": "heatmap"
        }
       ],
       "layout": {
        "template": {
         "data": {
          "bar": [
           {
            "error_x": {
             "color": "#2a3f5f"
            },
            "error_y": {
             "color": "#2a3f5f"
            },
            "marker": {
             "line": {
              "color": "#E5ECF6",
              "width": 0.5
             },
             "pattern": {
              "fillmode": "overlay",
              "size": 10,
              "solidity": 0.2
             }
            },
            "type": "bar"
           }
          ],
          "barpolar": [
           {
            "marker": {
             "line": {
              "color": "#E5ECF6",
              "width": 0.5
             },
             "pattern": {
              "fillmode": "overlay",
              "size": 10,
              "solidity": 0.2
             }
            },
            "type": "barpolar"
           }
          ],
          "carpet": [
           {
            "aaxis": {
             "endlinecolor": "#2a3f5f",
             "gridcolor": "white",
             "linecolor": "white",
             "minorgridcolor": "white",
             "startlinecolor": "#2a3f5f"
            },
            "baxis": {
             "endlinecolor": "#2a3f5f",
             "gridcolor": "white",
             "linecolor": "white",
             "minorgridcolor": "white",
             "startlinecolor": "#2a3f5f"
            },
            "type": "carpet"
           }
          ],
          "choropleth": [
           {
            "colorbar": {
             "outlinewidth": 0,
             "ticks": ""
            },
            "type": "choropleth"
           }
          ],
          "contour": [
           {
            "colorbar": {
             "outlinewidth": 0,
             "ticks": ""
            },
            "colorscale": [
             [
              0.0,
              "#0d0887"
             ],
             [
              0.1111111111111111,
              "#46039f"
             ],
             [
              0.2222222222222222,
              "#7201a8"
             ],
             [
              0.3333333333333333,
              "#9c179e"
             ],
             [
              0.4444444444444444,
              "#bd3786"
             ],
             [
              0.5555555555555556,
              "#d8576b"
             ],
             [
              0.6666666666666666,
              "#ed7953"
             ],
             [
              0.7777777777777778,
              "#fb9f3a"
             ],
             [
              0.8888888888888888,
              "#fdca26"
             ],
             [
              1.0,
              "#f0f921"
             ]
            ],
            "type": "contour"
           }
          ],
          "contourcarpet": [
           {
            "colorbar": {
             "outlinewidth": 0,
             "ticks": ""
            },
            "type": "contourcarpet"
           }
          ],
          "heatmap": [
           {
            "colorbar": {
             "outlinewidth": 0,
             "ticks": ""
            },
            "colorscale": [
             [
              0.0,
              "#0d0887"
             ],
             [
              0.1111111111111111,
              "#46039f"
             ],
             [
              0.2222222222222222,
              "#7201a8"
             ],
             [
              0.3333333333333333,
              "#9c179e"
             ],
             [
              0.4444444444444444,
              "#bd3786"
             ],
             [
              0.5555555555555556,
              "#d8576b"
             ],
             [
              0.6666666666666666,
              "#ed7953"
             ],
             [
              0.7777777777777778,
              "#fb9f3a"
             ],
             [
              0.8888888888888888,
              "#fdca26"
             ],
             [
              1.0,
              "#f0f921"
             ]
            ],
            "type": "heatmap"
           }
          ],
          "heatmapgl": [
           {
            "colorbar": {
             "outlinewidth": 0,
             "ticks": ""
            },
            "colorscale": [
             [
              0.0,
              "#0d0887"
             ],
             [
              0.1111111111111111,
              "#46039f"
             ],
             [
              0.2222222222222222,
              "#7201a8"
             ],
             [
              0.3333333333333333,
              "#9c179e"
             ],
             [
              0.4444444444444444,
              "#bd3786"
             ],
             [
              0.5555555555555556,
              "#d8576b"
             ],
             [
              0.6666666666666666,
              "#ed7953"
             ],
             [
              0.7777777777777778,
              "#fb9f3a"
             ],
             [
              0.8888888888888888,
              "#fdca26"
             ],
             [
              1.0,
              "#f0f921"
             ]
            ],
            "type": "heatmapgl"
           }
          ],
          "histogram": [
           {
            "marker": {
             "pattern": {
              "fillmode": "overlay",
              "size": 10,
              "solidity": 0.2
             }
            },
            "type": "histogram"
           }
          ],
          "histogram2d": [
           {
            "colorbar": {
             "outlinewidth": 0,
             "ticks": ""
            },
            "colorscale": [
             [
              0.0,
              "#0d0887"
             ],
             [
              0.1111111111111111,
              "#46039f"
             ],
             [
              0.2222222222222222,
              "#7201a8"
             ],
             [
              0.3333333333333333,
              "#9c179e"
             ],
             [
              0.4444444444444444,
              "#bd3786"
             ],
             [
              0.5555555555555556,
              "#d8576b"
             ],
             [
              0.6666666666666666,
              "#ed7953"
             ],
             [
              0.7777777777777778,
              "#fb9f3a"
             ],
             [
              0.8888888888888888,
              "#fdca26"
             ],
             [
              1.0,
              "#f0f921"
             ]
            ],
            "type": "histogram2d"
           }
          ],
          "histogram2dcontour": [
           {
            "colorbar": {
             "outlinewidth": 0,
             "ticks": ""
            },
            "colorscale": [
             [
              0.0,
              "#0d0887"
             ],
             [
              0.1111111111111111,
              "#46039f"
             ],
             [
              0.2222222222222222,
              "#7201a8"
             ],
             [
              0.3333333333333333,
              "#9c179e"
             ],
             [
              0.4444444444444444,
              "#bd3786"
             ],
             [
              0.5555555555555556,
              "#d8576b"
             ],
             [
              0.6666666666666666,
              "#ed7953"
             ],
             [
              0.7777777777777778,
              "#fb9f3a"
             ],
             [
              0.8888888888888888,
              "#fdca26"
             ],
             [
              1.0,
              "#f0f921"
             ]
            ],
            "type": "histogram2dcontour"
           }
          ],
          "mesh3d": [
           {
            "colorbar": {
             "outlinewidth": 0,
             "ticks": ""
            },
            "type": "mesh3d"
           }
          ],
          "parcoords": [
           {
            "line": {
             "colorbar": {
              "outlinewidth": 0,
              "ticks": ""
             }
            },
            "type": "parcoords"
           }
          ],
          "pie": [
           {
            "automargin": true,
            "type": "pie"
           }
          ],
          "scatter": [
           {
            "marker": {
             "colorbar": {
              "outlinewidth": 0,
              "ticks": ""
             }
            },
            "type": "scatter"
           }
          ],
          "scatter3d": [
           {
            "line": {
             "colorbar": {
              "outlinewidth": 0,
              "ticks": ""
             }
            },
            "marker": {
             "colorbar": {
              "outlinewidth": 0,
              "ticks": ""
             }
            },
            "type": "scatter3d"
           }
          ],
          "scattercarpet": [
           {
            "marker": {
             "colorbar": {
              "outlinewidth": 0,
              "ticks": ""
             }
            },
            "type": "scattercarpet"
           }
          ],
          "scattergeo": [
           {
            "marker": {
             "colorbar": {
              "outlinewidth": 0,
              "ticks": ""
             }
            },
            "type": "scattergeo"
           }
          ],
          "scattergl": [
           {
            "marker": {
             "colorbar": {
              "outlinewidth": 0,
              "ticks": ""
             }
            },
            "type": "scattergl"
           }
          ],
          "scattermapbox": [
           {
            "marker": {
             "colorbar": {
              "outlinewidth": 0,
              "ticks": ""
             }
            },
            "type": "scattermapbox"
           }
          ],
          "scatterpolar": [
           {
            "marker": {
             "colorbar": {
              "outlinewidth": 0,
              "ticks": ""
             }
            },
            "type": "scatterpolar"
           }
          ],
          "scatterpolargl": [
           {
            "marker": {
             "colorbar": {
              "outlinewidth": 0,
              "ticks": ""
             }
            },
            "type": "scatterpolargl"
           }
          ],
          "scatterternary": [
           {
            "marker": {
             "colorbar": {
              "outlinewidth": 0,
              "ticks": ""
             }
            },
            "type": "scatterternary"
           }
          ],
          "surface": [
           {
            "colorbar": {
             "outlinewidth": 0,
             "ticks": ""
            },
            "colorscale": [
             [
              0.0,
              "#0d0887"
             ],
             [
              0.1111111111111111,
              "#46039f"
             ],
             [
              0.2222222222222222,
              "#7201a8"
             ],
             [
              0.3333333333333333,
              "#9c179e"
             ],
             [
              0.4444444444444444,
              "#bd3786"
             ],
             [
              0.5555555555555556,
              "#d8576b"
             ],
             [
              0.6666666666666666,
              "#ed7953"
             ],
             [
              0.7777777777777778,
              "#fb9f3a"
             ],
             [
              0.8888888888888888,
              "#fdca26"
             ],
             [
              1.0,
              "#f0f921"
             ]
            ],
            "type": "surface"
           }
          ],
          "table": [
           {
            "cells": {
             "fill": {
              "color": "#EBF0F8"
             },
             "line": {
              "color": "white"
             }
            },
            "header": {
             "fill": {
              "color": "#C8D4E3"
             },
             "line": {
              "color": "white"
             }
            },
            "type": "table"
           }
          ]
         },
         "layout": {
          "annotationdefaults": {
           "arrowcolor": "#2a3f5f",
           "arrowhead": 0,
           "arrowwidth": 1
          },
          "autotypenumbers": "strict",
          "coloraxis": {
           "colorbar": {
            "outlinewidth": 0,
            "ticks": ""
           }
          },
          "colorscale": {
           "diverging": [
            [
             0,
             "#8e0152"
            ],
            [
             0.1,
             "#c51b7d"
            ],
            [
             0.2,
             "#de77ae"
            ],
            [
             0.3,
             "#f1b6da"
            ],
            [
             0.4,
             "#fde0ef"
            ],
            [
             0.5,
             "#f7f7f7"
            ],
            [
             0.6,
             "#e6f5d0"
            ],
            [
             0.7,
             "#b8e186"
            ],
            [
             0.8,
             "#7fbc41"
            ],
            [
             0.9,
             "#4d9221"
            ],
            [
             1,
             "#276419"
            ]
           ],
           "sequential": [
            [
             0.0,
             "#0d0887"
            ],
            [
             0.1111111111111111,
             "#46039f"
            ],
            [
             0.2222222222222222,
             "#7201a8"
            ],
            [
             0.3333333333333333,
             "#9c179e"
            ],
            [
             0.4444444444444444,
             "#bd3786"
            ],
            [
             0.5555555555555556,
             "#d8576b"
            ],
            [
             0.6666666666666666,
             "#ed7953"
            ],
            [
             0.7777777777777778,
             "#fb9f3a"
            ],
            [
             0.8888888888888888,
             "#fdca26"
            ],
            [
             1.0,
             "#f0f921"
            ]
           ],
           "sequentialminus": [
            [
             0.0,
             "#0d0887"
            ],
            [
             0.1111111111111111,
             "#46039f"
            ],
            [
             0.2222222222222222,
             "#7201a8"
            ],
            [
             0.3333333333333333,
             "#9c179e"
            ],
            [
             0.4444444444444444,
             "#bd3786"
            ],
            [
             0.5555555555555556,
             "#d8576b"
            ],
            [
             0.6666666666666666,
             "#ed7953"
            ],
            [
             0.7777777777777778,
             "#fb9f3a"
            ],
            [
             0.8888888888888888,
             "#fdca26"
            ],
            [
             1.0,
             "#f0f921"
            ]
           ]
          },
          "colorway": [
           "#636efa",
           "#EF553B",
           "#00cc96",
           "#ab63fa",
           "#FFA15A",
           "#19d3f3",
           "#FF6692",
           "#B6E880",
           "#FF97FF",
           "#FECB52"
          ],
          "font": {
           "color": "#2a3f5f"
          },
          "geo": {
           "bgcolor": "white",
           "lakecolor": "white",
           "landcolor": "#E5ECF6",
           "showlakes": true,
           "showland": true,
           "subunitcolor": "white"
          },
          "hoverlabel": {
           "align": "left"
          },
          "hovermode": "closest",
          "mapbox": {
           "style": "light"
          },
          "paper_bgcolor": "white",
          "plot_bgcolor": "#E5ECF6",
          "polar": {
           "angularaxis": {
            "gridcolor": "white",
            "linecolor": "white",
            "ticks": ""
           },
           "bgcolor": "#E5ECF6",
           "radialaxis": {
            "gridcolor": "white",
            "linecolor": "white",
            "ticks": ""
           }
          },
          "scene": {
           "xaxis": {
            "backgroundcolor": "#E5ECF6",
            "gridcolor": "white",
            "gridwidth": 2,
            "linecolor": "white",
            "showbackground": true,
            "ticks": "",
            "zerolinecolor": "white"
           },
           "yaxis": {
            "backgroundcolor": "#E5ECF6",
            "gridcolor": "white",
            "gridwidth": 2,
            "linecolor": "white",
            "showbackground": true,
            "ticks": "",
            "zerolinecolor": "white"
           },
           "zaxis": {
            "backgroundcolor": "#E5ECF6",
            "gridcolor": "white",
            "gridwidth": 2,
            "linecolor": "white",
            "showbackground": true,
            "ticks": "",
            "zerolinecolor": "white"
           }
          },
          "shapedefaults": {
           "line": {
            "color": "#2a3f5f"
           }
          },
          "ternary": {
           "aaxis": {
            "gridcolor": "white",
            "linecolor": "white",
            "ticks": ""
           },
           "baxis": {
            "gridcolor": "white",
            "linecolor": "white",
            "ticks": ""
           },
           "bgcolor": "#E5ECF6",
           "caxis": {
            "gridcolor": "white",
            "linecolor": "white",
            "ticks": ""
           }
          },
          "title": {
           "x": 0.05
          },
          "xaxis": {
           "automargin": true,
           "gridcolor": "white",
           "linecolor": "white",
           "ticks": "",
           "title": {
            "standoff": 15
           },
           "zerolinecolor": "white",
           "zerolinewidth": 2
          },
          "yaxis": {
           "automargin": true,
           "gridcolor": "white",
           "linecolor": "white",
           "ticks": "",
           "title": {
            "standoff": 15
           },
           "zerolinecolor": "white",
           "zerolinewidth": 2
          }
         }
        },
        "margin": {
         "l": 30,
         "r": 30,
         "b": 30,
         "t": 50
        },
        "xaxis": {
         "nticks": 30,
         "title": {
          "text": "Hour on day"
         }
        },
        "annotations": [
         {
          "showarrow": false,
          "text": "",
          "x": 0,
          "xref": "x",
          "y": "Load_StatusPlugLoadBlender_ON",
          "yref": "y"
         },
         {
          "showarrow": false,
          "text": "",
          "x": 1,
          "xref": "x",
          "y": "Load_StatusPlugLoadBlender_ON",
          "yref": "y"
         },
         {
          "showarrow": false,
          "text": "",
          "x": 2,
          "xref": "x",
          "y": "Load_StatusPlugLoadBlender_ON",
          "yref": "y"
         },
         {
          "showarrow": false,
          "text": "",
          "x": 3,
          "xref": "x",
          "y": "Load_StatusPlugLoadBlender_ON",
          "yref": "y"
         },
         {
          "showarrow": false,
          "text": "",
          "x": 4,
          "xref": "x",
          "y": "Load_StatusPlugLoadBlender_ON",
          "yref": "y"
         },
         {
          "showarrow": false,
          "text": "",
          "x": 5,
          "xref": "x",
          "y": "Load_StatusPlugLoadBlender_ON",
          "yref": "y"
         },
         {
          "showarrow": false,
          "text": "",
          "x": 6,
          "xref": "x",
          "y": "Load_StatusPlugLoadBlender_ON",
          "yref": "y"
         },
         {
          "showarrow": false,
          "text": "",
          "x": 7,
          "xref": "x",
          "y": "Load_StatusPlugLoadBlender_ON",
          "yref": "y"
         },
         {
          "showarrow": false,
          "text": "",
          "x": 8,
          "xref": "x",
          "y": "Load_StatusPlugLoadBlender_ON",
          "yref": "y"
         },
         {
          "showarrow": false,
          "text": "",
          "x": 9,
          "xref": "x",
          "y": "Load_StatusPlugLoadBlender_ON",
          "yref": "y"
         },
         {
          "showarrow": false,
          "text": "1.0",
          "x": 10,
          "xref": "x",
          "y": "Load_StatusPlugLoadBlender_ON",
          "yref": "y"
         },
         {
          "showarrow": false,
          "text": "0.53",
          "x": 11,
          "xref": "x",
          "y": "Load_StatusPlugLoadBlender_ON",
          "yref": "y"
         },
         {
          "showarrow": false,
          "text": "",
          "x": 12,
          "xref": "x",
          "y": "Load_StatusPlugLoadBlender_ON",
          "yref": "y"
         },
         {
          "showarrow": false,
          "text": "0.39",
          "x": 13,
          "xref": "x",
          "y": "Load_StatusPlugLoadBlender_ON",
          "yref": "y"
         },
         {
          "showarrow": false,
          "text": "0.22",
          "x": 14,
          "xref": "x",
          "y": "Load_StatusPlugLoadBlender_ON",
          "yref": "y"
         },
         {
          "showarrow": false,
          "text": "",
          "x": 15,
          "xref": "x",
          "y": "Load_StatusPlugLoadBlender_ON",
          "yref": "y"
         },
         {
          "showarrow": false,
          "text": "",
          "x": 16,
          "xref": "x",
          "y": "Load_StatusPlugLoadBlender_ON",
          "yref": "y"
         },
         {
          "showarrow": false,
          "text": "",
          "x": 17,
          "xref": "x",
          "y": "Load_StatusPlugLoadBlender_ON",
          "yref": "y"
         },
         {
          "showarrow": false,
          "text": "",
          "x": 18,
          "xref": "x",
          "y": "Load_StatusPlugLoadBlender_ON",
          "yref": "y"
         },
         {
          "showarrow": false,
          "text": "",
          "x": 19,
          "xref": "x",
          "y": "Load_StatusPlugLoadBlender_ON",
          "yref": "y"
         },
         {
          "showarrow": false,
          "text": "",
          "x": 20,
          "xref": "x",
          "y": "Load_StatusPlugLoadBlender_ON",
          "yref": "y"
         },
         {
          "showarrow": false,
          "text": "0.01",
          "x": 21,
          "xref": "x",
          "y": "Load_StatusPlugLoadBlender_ON",
          "yref": "y"
         },
         {
          "showarrow": false,
          "text": "",
          "x": 22,
          "xref": "x",
          "y": "Load_StatusPlugLoadBlender_ON",
          "yref": "y"
         },
         {
          "showarrow": false,
          "text": "",
          "x": 23,
          "xref": "x",
          "y": "Load_StatusPlugLoadBlender_ON",
          "yref": "y"
         },
         {
          "showarrow": false,
          "text": "0.01",
          "x": 0,
          "xref": "x",
          "y": "Load_StatusPlugLoadToasterOven_ON",
          "yref": "y"
         },
         {
          "showarrow": false,
          "text": "0.01",
          "x": 1,
          "xref": "x",
          "y": "Load_StatusPlugLoadToasterOven_ON",
          "yref": "y"
         },
         {
          "showarrow": false,
          "text": "0.01",
          "x": 2,
          "xref": "x",
          "y": "Load_StatusPlugLoadToasterOven_ON",
          "yref": "y"
         },
         {
          "showarrow": false,
          "text": "",
          "x": 3,
          "xref": "x",
          "y": "Load_StatusPlugLoadToasterOven_ON",
          "yref": "y"
         },
         {
          "showarrow": false,
          "text": "",
          "x": 4,
          "xref": "x",
          "y": "Load_StatusPlugLoadToasterOven_ON",
          "yref": "y"
         },
         {
          "showarrow": false,
          "text": "",
          "x": 5,
          "xref": "x",
          "y": "Load_StatusPlugLoadToasterOven_ON",
          "yref": "y"
         },
         {
          "showarrow": false,
          "text": "",
          "x": 6,
          "xref": "x",
          "y": "Load_StatusPlugLoadToasterOven_ON",
          "yref": "y"
         },
         {
          "showarrow": false,
          "text": "",
          "x": 7,
          "xref": "x",
          "y": "Load_StatusPlugLoadToasterOven_ON",
          "yref": "y"
         },
         {
          "showarrow": false,
          "text": "",
          "x": 8,
          "xref": "x",
          "y": "Load_StatusPlugLoadToasterOven_ON",
          "yref": "y"
         },
         {
          "showarrow": false,
          "text": "",
          "x": 9,
          "xref": "x",
          "y": "Load_StatusPlugLoadToasterOven_ON",
          "yref": "y"
         },
         {
          "showarrow": false,
          "text": "1.0",
          "x": 10,
          "xref": "x",
          "y": "Load_StatusPlugLoadToasterOven_ON",
          "yref": "y"
         },
         {
          "showarrow": false,
          "text": "0.53",
          "x": 11,
          "xref": "x",
          "y": "Load_StatusPlugLoadToasterOven_ON",
          "yref": "y"
         },
         {
          "showarrow": false,
          "text": "",
          "x": 12,
          "xref": "x",
          "y": "Load_StatusPlugLoadToasterOven_ON",
          "yref": "y"
         },
         {
          "showarrow": false,
          "text": "0.39",
          "x": 13,
          "xref": "x",
          "y": "Load_StatusPlugLoadToasterOven_ON",
          "yref": "y"
         },
         {
          "showarrow": false,
          "text": "0.22",
          "x": 14,
          "xref": "x",
          "y": "Load_StatusPlugLoadToasterOven_ON",
          "yref": "y"
         },
         {
          "showarrow": false,
          "text": "",
          "x": 15,
          "xref": "x",
          "y": "Load_StatusPlugLoadToasterOven_ON",
          "yref": "y"
         },
         {
          "showarrow": false,
          "text": "",
          "x": 16,
          "xref": "x",
          "y": "Load_StatusPlugLoadToasterOven_ON",
          "yref": "y"
         },
         {
          "showarrow": false,
          "text": "",
          "x": 17,
          "xref": "x",
          "y": "Load_StatusPlugLoadToasterOven_ON",
          "yref": "y"
         },
         {
          "showarrow": false,
          "text": "",
          "x": 18,
          "xref": "x",
          "y": "Load_StatusPlugLoadToasterOven_ON",
          "yref": "y"
         },
         {
          "showarrow": false,
          "text": "",
          "x": 19,
          "xref": "x",
          "y": "Load_StatusPlugLoadToasterOven_ON",
          "yref": "y"
         },
         {
          "showarrow": false,
          "text": "",
          "x": 20,
          "xref": "x",
          "y": "Load_StatusPlugLoadToasterOven_ON",
          "yref": "y"
         },
         {
          "showarrow": false,
          "text": "0.01",
          "x": 21,
          "xref": "x",
          "y": "Load_StatusPlugLoadToasterOven_ON",
          "yref": "y"
         },
         {
          "showarrow": false,
          "text": "",
          "x": 22,
          "xref": "x",
          "y": "Load_StatusPlugLoadToasterOven_ON",
          "yref": "y"
         },
         {
          "showarrow": false,
          "text": "",
          "x": 23,
          "xref": "x",
          "y": "Load_StatusPlugLoadToasterOven_ON",
          "yref": "y"
         },
         {
          "showarrow": false,
          "text": "",
          "x": 0,
          "xref": "x",
          "y": "Load_StatusPlugLoadSlowCooker_ON",
          "yref": "y"
         },
         {
          "showarrow": false,
          "text": "",
          "x": 1,
          "xref": "x",
          "y": "Load_StatusPlugLoadSlowCooker_ON",
          "yref": "y"
         },
         {
          "showarrow": false,
          "text": "",
          "x": 2,
          "xref": "x",
          "y": "Load_StatusPlugLoadSlowCooker_ON",
          "yref": "y"
         },
         {
          "showarrow": false,
          "text": "",
          "x": 3,
          "xref": "x",
          "y": "Load_StatusPlugLoadSlowCooker_ON",
          "yref": "y"
         },
         {
          "showarrow": false,
          "text": "",
          "x": 4,
          "xref": "x",
          "y": "Load_StatusPlugLoadSlowCooker_ON",
          "yref": "y"
         },
         {
          "showarrow": false,
          "text": "",
          "x": 5,
          "xref": "x",
          "y": "Load_StatusPlugLoadSlowCooker_ON",
          "yref": "y"
         },
         {
          "showarrow": false,
          "text": "",
          "x": 6,
          "xref": "x",
          "y": "Load_StatusPlugLoadSlowCooker_ON",
          "yref": "y"
         },
         {
          "showarrow": false,
          "text": "",
          "x": 7,
          "xref": "x",
          "y": "Load_StatusPlugLoadSlowCooker_ON",
          "yref": "y"
         },
         {
          "showarrow": false,
          "text": "",
          "x": 8,
          "xref": "x",
          "y": "Load_StatusPlugLoadSlowCooker_ON",
          "yref": "y"
         },
         {
          "showarrow": false,
          "text": "",
          "x": 9,
          "xref": "x",
          "y": "Load_StatusPlugLoadSlowCooker_ON",
          "yref": "y"
         },
         {
          "showarrow": false,
          "text": "",
          "x": 10,
          "xref": "x",
          "y": "Load_StatusPlugLoadSlowCooker_ON",
          "yref": "y"
         },
         {
          "showarrow": false,
          "text": "",
          "x": 11,
          "xref": "x",
          "y": "Load_StatusPlugLoadSlowCooker_ON",
          "yref": "y"
         },
         {
          "showarrow": false,
          "text": "0.4",
          "x": 12,
          "xref": "x",
          "y": "Load_StatusPlugLoadSlowCooker_ON",
          "yref": "y"
         },
         {
          "showarrow": false,
          "text": "1.0",
          "x": 13,
          "xref": "x",
          "y": "Load_StatusPlugLoadSlowCooker_ON",
          "yref": "y"
         },
         {
          "showarrow": false,
          "text": "0.81",
          "x": 14,
          "xref": "x",
          "y": "Load_StatusPlugLoadSlowCooker_ON",
          "yref": "y"
         },
         {
          "showarrow": false,
          "text": "0.21",
          "x": 15,
          "xref": "x",
          "y": "Load_StatusPlugLoadSlowCooker_ON",
          "yref": "y"
         },
         {
          "showarrow": false,
          "text": "",
          "x": 16,
          "xref": "x",
          "y": "Load_StatusPlugLoadSlowCooker_ON",
          "yref": "y"
         },
         {
          "showarrow": false,
          "text": "",
          "x": 17,
          "xref": "x",
          "y": "Load_StatusPlugLoadSlowCooker_ON",
          "yref": "y"
         },
         {
          "showarrow": false,
          "text": "",
          "x": 18,
          "xref": "x",
          "y": "Load_StatusPlugLoadSlowCooker_ON",
          "yref": "y"
         },
         {
          "showarrow": false,
          "text": "",
          "x": 19,
          "xref": "x",
          "y": "Load_StatusPlugLoadSlowCooker_ON",
          "yref": "y"
         },
         {
          "showarrow": false,
          "text": "",
          "x": 20,
          "xref": "x",
          "y": "Load_StatusPlugLoadSlowCooker_ON",
          "yref": "y"
         },
         {
          "showarrow": false,
          "text": "",
          "x": 21,
          "xref": "x",
          "y": "Load_StatusPlugLoadSlowCooker_ON",
          "yref": "y"
         },
         {
          "showarrow": false,
          "text": "",
          "x": 22,
          "xref": "x",
          "y": "Load_StatusPlugLoadSlowCooker_ON",
          "yref": "y"
         },
         {
          "showarrow": false,
          "text": "",
          "x": 23,
          "xref": "x",
          "y": "Load_StatusPlugLoadSlowCooker_ON",
          "yref": "y"
         },
         {
          "showarrow": false,
          "text": "",
          "x": 0,
          "xref": "x",
          "y": "Load_StatusPlugLoadToaster_ON",
          "yref": "y"
         },
         {
          "showarrow": false,
          "text": "",
          "x": 1,
          "xref": "x",
          "y": "Load_StatusPlugLoadToaster_ON",
          "yref": "y"
         },
         {
          "showarrow": false,
          "text": "",
          "x": 2,
          "xref": "x",
          "y": "Load_StatusPlugLoadToaster_ON",
          "yref": "y"
         },
         {
          "showarrow": false,
          "text": "",
          "x": 3,
          "xref": "x",
          "y": "Load_StatusPlugLoadToaster_ON",
          "yref": "y"
         },
         {
          "showarrow": false,
          "text": "",
          "x": 4,
          "xref": "x",
          "y": "Load_StatusPlugLoadToaster_ON",
          "yref": "y"
         },
         {
          "showarrow": false,
          "text": "",
          "x": 5,
          "xref": "x",
          "y": "Load_StatusPlugLoadToaster_ON",
          "yref": "y"
         },
         {
          "showarrow": false,
          "text": "",
          "x": 6,
          "xref": "x",
          "y": "Load_StatusPlugLoadToaster_ON",
          "yref": "y"
         },
         {
          "showarrow": false,
          "text": "",
          "x": 7,
          "xref": "x",
          "y": "Load_StatusPlugLoadToaster_ON",
          "yref": "y"
         },
         {
          "showarrow": false,
          "text": "",
          "x": 8,
          "xref": "x",
          "y": "Load_StatusPlugLoadToaster_ON",
          "yref": "y"
         },
         {
          "showarrow": false,
          "text": "",
          "x": 9,
          "xref": "x",
          "y": "Load_StatusPlugLoadToaster_ON",
          "yref": "y"
         },
         {
          "showarrow": false,
          "text": "1.0",
          "x": 10,
          "xref": "x",
          "y": "Load_StatusPlugLoadToaster_ON",
          "yref": "y"
         },
         {
          "showarrow": false,
          "text": "0.53",
          "x": 11,
          "xref": "x",
          "y": "Load_StatusPlugLoadToaster_ON",
          "yref": "y"
         },
         {
          "showarrow": false,
          "text": "",
          "x": 12,
          "xref": "x",
          "y": "Load_StatusPlugLoadToaster_ON",
          "yref": "y"
         },
         {
          "showarrow": false,
          "text": "0.39",
          "x": 13,
          "xref": "x",
          "y": "Load_StatusPlugLoadToaster_ON",
          "yref": "y"
         },
         {
          "showarrow": false,
          "text": "0.22",
          "x": 14,
          "xref": "x",
          "y": "Load_StatusPlugLoadToaster_ON",
          "yref": "y"
         },
         {
          "showarrow": false,
          "text": "",
          "x": 15,
          "xref": "x",
          "y": "Load_StatusPlugLoadToaster_ON",
          "yref": "y"
         },
         {
          "showarrow": false,
          "text": "",
          "x": 16,
          "xref": "x",
          "y": "Load_StatusPlugLoadToaster_ON",
          "yref": "y"
         },
         {
          "showarrow": false,
          "text": "",
          "x": 17,
          "xref": "x",
          "y": "Load_StatusPlugLoadToaster_ON",
          "yref": "y"
         },
         {
          "showarrow": false,
          "text": "",
          "x": 18,
          "xref": "x",
          "y": "Load_StatusPlugLoadToaster_ON",
          "yref": "y"
         },
         {
          "showarrow": false,
          "text": "",
          "x": 19,
          "xref": "x",
          "y": "Load_StatusPlugLoadToaster_ON",
          "yref": "y"
         },
         {
          "showarrow": false,
          "text": "",
          "x": 20,
          "xref": "x",
          "y": "Load_StatusPlugLoadToaster_ON",
          "yref": "y"
         },
         {
          "showarrow": false,
          "text": "0.01",
          "x": 21,
          "xref": "x",
          "y": "Load_StatusPlugLoadToaster_ON",
          "yref": "y"
         },
         {
          "showarrow": false,
          "text": "",
          "x": 22,
          "xref": "x",
          "y": "Load_StatusPlugLoadToaster_ON",
          "yref": "y"
         },
         {
          "showarrow": false,
          "text": "",
          "x": 23,
          "xref": "x",
          "y": "Load_StatusPlugLoadToaster_ON",
          "yref": "y"
         },
         {
          "showarrow": false,
          "text": "0.09",
          "x": 0,
          "xref": "x",
          "y": "Load_StatusPlugLoadHandMixer_ON",
          "yref": "y"
         },
         {
          "showarrow": false,
          "text": "",
          "x": 1,
          "xref": "x",
          "y": "Load_StatusPlugLoadHandMixer_ON",
          "yref": "y"
         },
         {
          "showarrow": false,
          "text": "",
          "x": 2,
          "xref": "x",
          "y": "Load_StatusPlugLoadHandMixer_ON",
          "yref": "y"
         },
         {
          "showarrow": false,
          "text": "",
          "x": 3,
          "xref": "x",
          "y": "Load_StatusPlugLoadHandMixer_ON",
          "yref": "y"
         },
         {
          "showarrow": false,
          "text": "",
          "x": 4,
          "xref": "x",
          "y": "Load_StatusPlugLoadHandMixer_ON",
          "yref": "y"
         },
         {
          "showarrow": false,
          "text": "",
          "x": 5,
          "xref": "x",
          "y": "Load_StatusPlugLoadHandMixer_ON",
          "yref": "y"
         },
         {
          "showarrow": false,
          "text": "0.01",
          "x": 6,
          "xref": "x",
          "y": "Load_StatusPlugLoadHandMixer_ON",
          "yref": "y"
         },
         {
          "showarrow": false,
          "text": "",
          "x": 7,
          "xref": "x",
          "y": "Load_StatusPlugLoadHandMixer_ON",
          "yref": "y"
         },
         {
          "showarrow": false,
          "text": "",
          "x": 8,
          "xref": "x",
          "y": "Load_StatusPlugLoadHandMixer_ON",
          "yref": "y"
         },
         {
          "showarrow": false,
          "text": "",
          "x": 9,
          "xref": "x",
          "y": "Load_StatusPlugLoadHandMixer_ON",
          "yref": "y"
         },
         {
          "showarrow": false,
          "text": "",
          "x": 10,
          "xref": "x",
          "y": "Load_StatusPlugLoadHandMixer_ON",
          "yref": "y"
         },
         {
          "showarrow": false,
          "text": "",
          "x": 11,
          "xref": "x",
          "y": "Load_StatusPlugLoadHandMixer_ON",
          "yref": "y"
         },
         {
          "showarrow": false,
          "text": "",
          "x": 12,
          "xref": "x",
          "y": "Load_StatusPlugLoadHandMixer_ON",
          "yref": "y"
         },
         {
          "showarrow": false,
          "text": "",
          "x": 13,
          "xref": "x",
          "y": "Load_StatusPlugLoadHandMixer_ON",
          "yref": "y"
         },
         {
          "showarrow": false,
          "text": "",
          "x": 14,
          "xref": "x",
          "y": "Load_StatusPlugLoadHandMixer_ON",
          "yref": "y"
         },
         {
          "showarrow": false,
          "text": "",
          "x": 15,
          "xref": "x",
          "y": "Load_StatusPlugLoadHandMixer_ON",
          "yref": "y"
         },
         {
          "showarrow": false,
          "text": "",
          "x": 16,
          "xref": "x",
          "y": "Load_StatusPlugLoadHandMixer_ON",
          "yref": "y"
         },
         {
          "showarrow": false,
          "text": "",
          "x": 17,
          "xref": "x",
          "y": "Load_StatusPlugLoadHandMixer_ON",
          "yref": "y"
         },
         {
          "showarrow": false,
          "text": "",
          "x": 18,
          "xref": "x",
          "y": "Load_StatusPlugLoadHandMixer_ON",
          "yref": "y"
         },
         {
          "showarrow": false,
          "text": "",
          "x": 19,
          "xref": "x",
          "y": "Load_StatusPlugLoadHandMixer_ON",
          "yref": "y"
         },
         {
          "showarrow": false,
          "text": "",
          "x": 20,
          "xref": "x",
          "y": "Load_StatusPlugLoadHandMixer_ON",
          "yref": "y"
         },
         {
          "showarrow": false,
          "text": "",
          "x": 21,
          "xref": "x",
          "y": "Load_StatusPlugLoadHandMixer_ON",
          "yref": "y"
         },
         {
          "showarrow": false,
          "text": "1.0",
          "x": 22,
          "xref": "x",
          "y": "Load_StatusPlugLoadHandMixer_ON",
          "yref": "y"
         },
         {
          "showarrow": false,
          "text": "0.7",
          "x": 23,
          "xref": "x",
          "y": "Load_StatusPlugLoadHandMixer_ON",
          "yref": "y"
         },
         {
          "showarrow": false,
          "text": "0.1",
          "x": 0,
          "xref": "x",
          "y": "Load_StatusPlugLoadCanOpener_ON",
          "yref": "y"
         },
         {
          "showarrow": false,
          "text": "0.01",
          "x": 1,
          "xref": "x",
          "y": "Load_StatusPlugLoadCanOpener_ON",
          "yref": "y"
         },
         {
          "showarrow": false,
          "text": "0.01",
          "x": 2,
          "xref": "x",
          "y": "Load_StatusPlugLoadCanOpener_ON",
          "yref": "y"
         },
         {
          "showarrow": false,
          "text": "0.03",
          "x": 3,
          "xref": "x",
          "y": "Load_StatusPlugLoadCanOpener_ON",
          "yref": "y"
         },
         {
          "showarrow": false,
          "text": "",
          "x": 4,
          "xref": "x",
          "y": "Load_StatusPlugLoadCanOpener_ON",
          "yref": "y"
         },
         {
          "showarrow": false,
          "text": "",
          "x": 5,
          "xref": "x",
          "y": "Load_StatusPlugLoadCanOpener_ON",
          "yref": "y"
         },
         {
          "showarrow": false,
          "text": "0.01",
          "x": 6,
          "xref": "x",
          "y": "Load_StatusPlugLoadCanOpener_ON",
          "yref": "y"
         },
         {
          "showarrow": false,
          "text": "",
          "x": 7,
          "xref": "x",
          "y": "Load_StatusPlugLoadCanOpener_ON",
          "yref": "y"
         },
         {
          "showarrow": false,
          "text": "",
          "x": 8,
          "xref": "x",
          "y": "Load_StatusPlugLoadCanOpener_ON",
          "yref": "y"
         },
         {
          "showarrow": false,
          "text": "",
          "x": 9,
          "xref": "x",
          "y": "Load_StatusPlugLoadCanOpener_ON",
          "yref": "y"
         },
         {
          "showarrow": false,
          "text": "",
          "x": 10,
          "xref": "x",
          "y": "Load_StatusPlugLoadCanOpener_ON",
          "yref": "y"
         },
         {
          "showarrow": false,
          "text": "",
          "x": 11,
          "xref": "x",
          "y": "Load_StatusPlugLoadCanOpener_ON",
          "yref": "y"
         },
         {
          "showarrow": false,
          "text": "",
          "x": 12,
          "xref": "x",
          "y": "Load_StatusPlugLoadCanOpener_ON",
          "yref": "y"
         },
         {
          "showarrow": false,
          "text": "",
          "x": 13,
          "xref": "x",
          "y": "Load_StatusPlugLoadCanOpener_ON",
          "yref": "y"
         },
         {
          "showarrow": false,
          "text": "",
          "x": 14,
          "xref": "x",
          "y": "Load_StatusPlugLoadCanOpener_ON",
          "yref": "y"
         },
         {
          "showarrow": false,
          "text": "",
          "x": 15,
          "xref": "x",
          "y": "Load_StatusPlugLoadCanOpener_ON",
          "yref": "y"
         },
         {
          "showarrow": false,
          "text": "",
          "x": 16,
          "xref": "x",
          "y": "Load_StatusPlugLoadCanOpener_ON",
          "yref": "y"
         },
         {
          "showarrow": false,
          "text": "",
          "x": 17,
          "xref": "x",
          "y": "Load_StatusPlugLoadCanOpener_ON",
          "yref": "y"
         },
         {
          "showarrow": false,
          "text": "",
          "x": 18,
          "xref": "x",
          "y": "Load_StatusPlugLoadCanOpener_ON",
          "yref": "y"
         },
         {
          "showarrow": false,
          "text": "",
          "x": 19,
          "xref": "x",
          "y": "Load_StatusPlugLoadCanOpener_ON",
          "yref": "y"
         },
         {
          "showarrow": false,
          "text": "",
          "x": 20,
          "xref": "x",
          "y": "Load_StatusPlugLoadCanOpener_ON",
          "yref": "y"
         },
         {
          "showarrow": false,
          "text": "",
          "x": 21,
          "xref": "x",
          "y": "Load_StatusPlugLoadCanOpener_ON",
          "yref": "y"
         },
         {
          "showarrow": false,
          "text": "1.0",
          "x": 22,
          "xref": "x",
          "y": "Load_StatusPlugLoadCanOpener_ON",
          "yref": "y"
         },
         {
          "showarrow": false,
          "text": "0.7",
          "x": 23,
          "xref": "x",
          "y": "Load_StatusPlugLoadCanOpener_ON",
          "yref": "y"
         },
         {
          "showarrow": false,
          "text": "",
          "x": 0,
          "xref": "x",
          "y": "Load_StatusPlugLoadCoffeeMaker_ON",
          "yref": "y"
         },
         {
          "showarrow": false,
          "text": "",
          "x": 1,
          "xref": "x",
          "y": "Load_StatusPlugLoadCoffeeMaker_ON",
          "yref": "y"
         },
         {
          "showarrow": false,
          "text": "",
          "x": 2,
          "xref": "x",
          "y": "Load_StatusPlugLoadCoffeeMaker_ON",
          "yref": "y"
         },
         {
          "showarrow": false,
          "text": "",
          "x": 3,
          "xref": "x",
          "y": "Load_StatusPlugLoadCoffeeMaker_ON",
          "yref": "y"
         },
         {
          "showarrow": false,
          "text": "",
          "x": 4,
          "xref": "x",
          "y": "Load_StatusPlugLoadCoffeeMaker_ON",
          "yref": "y"
         },
         {
          "showarrow": false,
          "text": "",
          "x": 5,
          "xref": "x",
          "y": "Load_StatusPlugLoadCoffeeMaker_ON",
          "yref": "y"
         },
         {
          "showarrow": false,
          "text": "",
          "x": 6,
          "xref": "x",
          "y": "Load_StatusPlugLoadCoffeeMaker_ON",
          "yref": "y"
         },
         {
          "showarrow": false,
          "text": "",
          "x": 7,
          "xref": "x",
          "y": "Load_StatusPlugLoadCoffeeMaker_ON",
          "yref": "y"
         },
         {
          "showarrow": false,
          "text": "",
          "x": 8,
          "xref": "x",
          "y": "Load_StatusPlugLoadCoffeeMaker_ON",
          "yref": "y"
         },
         {
          "showarrow": false,
          "text": "",
          "x": 9,
          "xref": "x",
          "y": "Load_StatusPlugLoadCoffeeMaker_ON",
          "yref": "y"
         },
         {
          "showarrow": false,
          "text": "1.0",
          "x": 10,
          "xref": "x",
          "y": "Load_StatusPlugLoadCoffeeMaker_ON",
          "yref": "y"
         },
         {
          "showarrow": false,
          "text": "0.61",
          "x": 11,
          "xref": "x",
          "y": "Load_StatusPlugLoadCoffeeMaker_ON",
          "yref": "y"
         },
         {
          "showarrow": false,
          "text": "",
          "x": 12,
          "xref": "x",
          "y": "Load_StatusPlugLoadCoffeeMaker_ON",
          "yref": "y"
         },
         {
          "showarrow": false,
          "text": "0.39",
          "x": 13,
          "xref": "x",
          "y": "Load_StatusPlugLoadCoffeeMaker_ON",
          "yref": "y"
         },
         {
          "showarrow": false,
          "text": "0.25",
          "x": 14,
          "xref": "x",
          "y": "Load_StatusPlugLoadCoffeeMaker_ON",
          "yref": "y"
         },
         {
          "showarrow": false,
          "text": "",
          "x": 15,
          "xref": "x",
          "y": "Load_StatusPlugLoadCoffeeMaker_ON",
          "yref": "y"
         },
         {
          "showarrow": false,
          "text": "0.04",
          "x": 16,
          "xref": "x",
          "y": "Load_StatusPlugLoadCoffeeMaker_ON",
          "yref": "y"
         },
         {
          "showarrow": false,
          "text": "",
          "x": 17,
          "xref": "x",
          "y": "Load_StatusPlugLoadCoffeeMaker_ON",
          "yref": "y"
         },
         {
          "showarrow": false,
          "text": "",
          "x": 18,
          "xref": "x",
          "y": "Load_StatusPlugLoadCoffeeMaker_ON",
          "yref": "y"
         },
         {
          "showarrow": false,
          "text": "",
          "x": 19,
          "xref": "x",
          "y": "Load_StatusPlugLoadCoffeeMaker_ON",
          "yref": "y"
         },
         {
          "showarrow": false,
          "text": "0.01",
          "x": 20,
          "xref": "x",
          "y": "Load_StatusPlugLoadCoffeeMaker_ON",
          "yref": "y"
         },
         {
          "showarrow": false,
          "text": "0.01",
          "x": 21,
          "xref": "x",
          "y": "Load_StatusPlugLoadCoffeeMaker_ON",
          "yref": "y"
         },
         {
          "showarrow": false,
          "text": "0.1",
          "x": 22,
          "xref": "x",
          "y": "Load_StatusPlugLoadCoffeeMaker_ON",
          "yref": "y"
         },
         {
          "showarrow": false,
          "text": "",
          "x": 23,
          "xref": "x",
          "y": "Load_StatusPlugLoadCoffeeMaker_ON",
          "yref": "y"
         }
        ],
        "yaxis": {
         "title": {
          "text": "Appliance"
         },
         "showticklabels": false
        }
       },
       "config": {
        "plotlyServerURL": "https://plot.ly"
       }
      },
      "text/html": "<div>                            <div id=\"ade2e16f-59e5-4d66-8a80-c34a76ee7fbb\" class=\"plotly-graph-div\" style=\"height:525px; width:100%;\"></div>            <script type=\"text/javascript\">                require([\"plotly\"], function(Plotly) {                    window.PLOTLYENV=window.PLOTLYENV || {};                                    if (document.getElementById(\"ade2e16f-59e5-4d66-8a80-c34a76ee7fbb\")) {                    Plotly.newPlot(                        \"ade2e16f-59e5-4d66-8a80-c34a76ee7fbb\",                        [{\"colorscale\":[[0.0,\"rgb(209, 238, 234)\"],[0.16666666666666666,\"rgb(168, 219, 217)\"],[0.3333333333333333,\"rgb(133, 196, 201)\"],[0.5,\"rgb(104, 171, 184)\"],[0.6666666666666666,\"rgb(79, 144, 166)\"],[0.8333333333333334,\"rgb(59, 115, 143)\"],[1.0,\"rgb(42, 86, 116)\"]],\"x\":[0,1,2,3,4,5,6,7,8,9,10,11,12,13,14,15,16,17,18,19,20,21,22,23],\"y\":[\"Load_StatusPlugLoadBlender_ON\",\"Load_StatusPlugLoadToasterOven_ON\",\"Load_StatusPlugLoadSlowCooker_ON\",\"Load_StatusPlugLoadToaster_ON\",\"Load_StatusPlugLoadHandMixer_ON\",\"Load_StatusPlugLoadCanOpener_ON\",\"Load_StatusPlugLoadCoffeeMaker_ON\"],\"z\":[[0.0,0.0,0.0,0.0,0.0,0.0,0.0,0.0,0.0,0.0,1.0,0.53,0.0,0.39,0.22,0.0,0.0,0.0,0.0,0.0,0.0,0.01,0.0,0.0],[0.01,0.01,0.01,0.0,0.0,0.0,0.0,0.0,0.0,0.0,1.0,0.53,0.0,0.39,0.22,0.0,0.0,0.0,0.0,0.0,0.0,0.01,0.0,0.0],[0.0,0.0,0.0,0.0,0.0,0.0,0.0,0.0,0.0,0.0,0.0,0.0,0.4,1.0,0.81,0.21,0.0,0.0,0.0,0.0,0.0,0.0,0.0,0.0],[0.0,0.0,0.0,0.0,0.0,0.0,0.0,0.0,0.0,0.0,1.0,0.53,0.0,0.39,0.22,0.0,0.0,0.0,0.0,0.0,0.0,0.01,0.0,0.0],[0.09,0.0,0.0,0.0,0.0,0.0,0.01,0.0,0.0,0.0,0.0,0.0,0.0,0.0,0.0,0.0,0.0,0.0,0.0,0.0,0.0,0.0,1.0,0.7],[0.1,0.01,0.01,0.03,0.0,0.0,0.01,0.0,0.0,0.0,0.0,0.0,0.0,0.0,0.0,0.0,0.0,0.0,0.0,0.0,0.0,0.0,1.0,0.7],[0.0,0.0,0.0,0.0,0.0,0.0,0.0,0.0,0.0,0.0,1.0,0.61,0.0,0.39,0.25,0.0,0.04,0.0,0.0,0.0,0.01,0.01,0.1,0.0]],\"type\":\"heatmap\"}],                        {\"template\":{\"data\":{\"bar\":[{\"error_x\":{\"color\":\"#2a3f5f\"},\"error_y\":{\"color\":\"#2a3f5f\"},\"marker\":{\"line\":{\"color\":\"#E5ECF6\",\"width\":0.5},\"pattern\":{\"fillmode\":\"overlay\",\"size\":10,\"solidity\":0.2}},\"type\":\"bar\"}],\"barpolar\":[{\"marker\":{\"line\":{\"color\":\"#E5ECF6\",\"width\":0.5},\"pattern\":{\"fillmode\":\"overlay\",\"size\":10,\"solidity\":0.2}},\"type\":\"barpolar\"}],\"carpet\":[{\"aaxis\":{\"endlinecolor\":\"#2a3f5f\",\"gridcolor\":\"white\",\"linecolor\":\"white\",\"minorgridcolor\":\"white\",\"startlinecolor\":\"#2a3f5f\"},\"baxis\":{\"endlinecolor\":\"#2a3f5f\",\"gridcolor\":\"white\",\"linecolor\":\"white\",\"minorgridcolor\":\"white\",\"startlinecolor\":\"#2a3f5f\"},\"type\":\"carpet\"}],\"choropleth\":[{\"colorbar\":{\"outlinewidth\":0,\"ticks\":\"\"},\"type\":\"choropleth\"}],\"contour\":[{\"colorbar\":{\"outlinewidth\":0,\"ticks\":\"\"},\"colorscale\":[[0.0,\"#0d0887\"],[0.1111111111111111,\"#46039f\"],[0.2222222222222222,\"#7201a8\"],[0.3333333333333333,\"#9c179e\"],[0.4444444444444444,\"#bd3786\"],[0.5555555555555556,\"#d8576b\"],[0.6666666666666666,\"#ed7953\"],[0.7777777777777778,\"#fb9f3a\"],[0.8888888888888888,\"#fdca26\"],[1.0,\"#f0f921\"]],\"type\":\"contour\"}],\"contourcarpet\":[{\"colorbar\":{\"outlinewidth\":0,\"ticks\":\"\"},\"type\":\"contourcarpet\"}],\"heatmap\":[{\"colorbar\":{\"outlinewidth\":0,\"ticks\":\"\"},\"colorscale\":[[0.0,\"#0d0887\"],[0.1111111111111111,\"#46039f\"],[0.2222222222222222,\"#7201a8\"],[0.3333333333333333,\"#9c179e\"],[0.4444444444444444,\"#bd3786\"],[0.5555555555555556,\"#d8576b\"],[0.6666666666666666,\"#ed7953\"],[0.7777777777777778,\"#fb9f3a\"],[0.8888888888888888,\"#fdca26\"],[1.0,\"#f0f921\"]],\"type\":\"heatmap\"}],\"heatmapgl\":[{\"colorbar\":{\"outlinewidth\":0,\"ticks\":\"\"},\"colorscale\":[[0.0,\"#0d0887\"],[0.1111111111111111,\"#46039f\"],[0.2222222222222222,\"#7201a8\"],[0.3333333333333333,\"#9c179e\"],[0.4444444444444444,\"#bd3786\"],[0.5555555555555556,\"#d8576b\"],[0.6666666666666666,\"#ed7953\"],[0.7777777777777778,\"#fb9f3a\"],[0.8888888888888888,\"#fdca26\"],[1.0,\"#f0f921\"]],\"type\":\"heatmapgl\"}],\"histogram\":[{\"marker\":{\"pattern\":{\"fillmode\":\"overlay\",\"size\":10,\"solidity\":0.2}},\"type\":\"histogram\"}],\"histogram2d\":[{\"colorbar\":{\"outlinewidth\":0,\"ticks\":\"\"},\"colorscale\":[[0.0,\"#0d0887\"],[0.1111111111111111,\"#46039f\"],[0.2222222222222222,\"#7201a8\"],[0.3333333333333333,\"#9c179e\"],[0.4444444444444444,\"#bd3786\"],[0.5555555555555556,\"#d8576b\"],[0.6666666666666666,\"#ed7953\"],[0.7777777777777778,\"#fb9f3a\"],[0.8888888888888888,\"#fdca26\"],[1.0,\"#f0f921\"]],\"type\":\"histogram2d\"}],\"histogram2dcontour\":[{\"colorbar\":{\"outlinewidth\":0,\"ticks\":\"\"},\"colorscale\":[[0.0,\"#0d0887\"],[0.1111111111111111,\"#46039f\"],[0.2222222222222222,\"#7201a8\"],[0.3333333333333333,\"#9c179e\"],[0.4444444444444444,\"#bd3786\"],[0.5555555555555556,\"#d8576b\"],[0.6666666666666666,\"#ed7953\"],[0.7777777777777778,\"#fb9f3a\"],[0.8888888888888888,\"#fdca26\"],[1.0,\"#f0f921\"]],\"type\":\"histogram2dcontour\"}],\"mesh3d\":[{\"colorbar\":{\"outlinewidth\":0,\"ticks\":\"\"},\"type\":\"mesh3d\"}],\"parcoords\":[{\"line\":{\"colorbar\":{\"outlinewidth\":0,\"ticks\":\"\"}},\"type\":\"parcoords\"}],\"pie\":[{\"automargin\":true,\"type\":\"pie\"}],\"scatter\":[{\"marker\":{\"colorbar\":{\"outlinewidth\":0,\"ticks\":\"\"}},\"type\":\"scatter\"}],\"scatter3d\":[{\"line\":{\"colorbar\":{\"outlinewidth\":0,\"ticks\":\"\"}},\"marker\":{\"colorbar\":{\"outlinewidth\":0,\"ticks\":\"\"}},\"type\":\"scatter3d\"}],\"scattercarpet\":[{\"marker\":{\"colorbar\":{\"outlinewidth\":0,\"ticks\":\"\"}},\"type\":\"scattercarpet\"}],\"scattergeo\":[{\"marker\":{\"colorbar\":{\"outlinewidth\":0,\"ticks\":\"\"}},\"type\":\"scattergeo\"}],\"scattergl\":[{\"marker\":{\"colorbar\":{\"outlinewidth\":0,\"ticks\":\"\"}},\"type\":\"scattergl\"}],\"scattermapbox\":[{\"marker\":{\"colorbar\":{\"outlinewidth\":0,\"ticks\":\"\"}},\"type\":\"scattermapbox\"}],\"scatterpolar\":[{\"marker\":{\"colorbar\":{\"outlinewidth\":0,\"ticks\":\"\"}},\"type\":\"scatterpolar\"}],\"scatterpolargl\":[{\"marker\":{\"colorbar\":{\"outlinewidth\":0,\"ticks\":\"\"}},\"type\":\"scatterpolargl\"}],\"scatterternary\":[{\"marker\":{\"colorbar\":{\"outlinewidth\":0,\"ticks\":\"\"}},\"type\":\"scatterternary\"}],\"surface\":[{\"colorbar\":{\"outlinewidth\":0,\"ticks\":\"\"},\"colorscale\":[[0.0,\"#0d0887\"],[0.1111111111111111,\"#46039f\"],[0.2222222222222222,\"#7201a8\"],[0.3333333333333333,\"#9c179e\"],[0.4444444444444444,\"#bd3786\"],[0.5555555555555556,\"#d8576b\"],[0.6666666666666666,\"#ed7953\"],[0.7777777777777778,\"#fb9f3a\"],[0.8888888888888888,\"#fdca26\"],[1.0,\"#f0f921\"]],\"type\":\"surface\"}],\"table\":[{\"cells\":{\"fill\":{\"color\":\"#EBF0F8\"},\"line\":{\"color\":\"white\"}},\"header\":{\"fill\":{\"color\":\"#C8D4E3\"},\"line\":{\"color\":\"white\"}},\"type\":\"table\"}]},\"layout\":{\"annotationdefaults\":{\"arrowcolor\":\"#2a3f5f\",\"arrowhead\":0,\"arrowwidth\":1},\"autotypenumbers\":\"strict\",\"coloraxis\":{\"colorbar\":{\"outlinewidth\":0,\"ticks\":\"\"}},\"colorscale\":{\"diverging\":[[0,\"#8e0152\"],[0.1,\"#c51b7d\"],[0.2,\"#de77ae\"],[0.3,\"#f1b6da\"],[0.4,\"#fde0ef\"],[0.5,\"#f7f7f7\"],[0.6,\"#e6f5d0\"],[0.7,\"#b8e186\"],[0.8,\"#7fbc41\"],[0.9,\"#4d9221\"],[1,\"#276419\"]],\"sequential\":[[0.0,\"#0d0887\"],[0.1111111111111111,\"#46039f\"],[0.2222222222222222,\"#7201a8\"],[0.3333333333333333,\"#9c179e\"],[0.4444444444444444,\"#bd3786\"],[0.5555555555555556,\"#d8576b\"],[0.6666666666666666,\"#ed7953\"],[0.7777777777777778,\"#fb9f3a\"],[0.8888888888888888,\"#fdca26\"],[1.0,\"#f0f921\"]],\"sequentialminus\":[[0.0,\"#0d0887\"],[0.1111111111111111,\"#46039f\"],[0.2222222222222222,\"#7201a8\"],[0.3333333333333333,\"#9c179e\"],[0.4444444444444444,\"#bd3786\"],[0.5555555555555556,\"#d8576b\"],[0.6666666666666666,\"#ed7953\"],[0.7777777777777778,\"#fb9f3a\"],[0.8888888888888888,\"#fdca26\"],[1.0,\"#f0f921\"]]},\"colorway\":[\"#636efa\",\"#EF553B\",\"#00cc96\",\"#ab63fa\",\"#FFA15A\",\"#19d3f3\",\"#FF6692\",\"#B6E880\",\"#FF97FF\",\"#FECB52\"],\"font\":{\"color\":\"#2a3f5f\"},\"geo\":{\"bgcolor\":\"white\",\"lakecolor\":\"white\",\"landcolor\":\"#E5ECF6\",\"showlakes\":true,\"showland\":true,\"subunitcolor\":\"white\"},\"hoverlabel\":{\"align\":\"left\"},\"hovermode\":\"closest\",\"mapbox\":{\"style\":\"light\"},\"paper_bgcolor\":\"white\",\"plot_bgcolor\":\"#E5ECF6\",\"polar\":{\"angularaxis\":{\"gridcolor\":\"white\",\"linecolor\":\"white\",\"ticks\":\"\"},\"bgcolor\":\"#E5ECF6\",\"radialaxis\":{\"gridcolor\":\"white\",\"linecolor\":\"white\",\"ticks\":\"\"}},\"scene\":{\"xaxis\":{\"backgroundcolor\":\"#E5ECF6\",\"gridcolor\":\"white\",\"gridwidth\":2,\"linecolor\":\"white\",\"showbackground\":true,\"ticks\":\"\",\"zerolinecolor\":\"white\"},\"yaxis\":{\"backgroundcolor\":\"#E5ECF6\",\"gridcolor\":\"white\",\"gridwidth\":2,\"linecolor\":\"white\",\"showbackground\":true,\"ticks\":\"\",\"zerolinecolor\":\"white\"},\"zaxis\":{\"backgroundcolor\":\"#E5ECF6\",\"gridcolor\":\"white\",\"gridwidth\":2,\"linecolor\":\"white\",\"showbackground\":true,\"ticks\":\"\",\"zerolinecolor\":\"white\"}},\"shapedefaults\":{\"line\":{\"color\":\"#2a3f5f\"}},\"ternary\":{\"aaxis\":{\"gridcolor\":\"white\",\"linecolor\":\"white\",\"ticks\":\"\"},\"baxis\":{\"gridcolor\":\"white\",\"linecolor\":\"white\",\"ticks\":\"\"},\"bgcolor\":\"#E5ECF6\",\"caxis\":{\"gridcolor\":\"white\",\"linecolor\":\"white\",\"ticks\":\"\"}},\"title\":{\"x\":0.05},\"xaxis\":{\"automargin\":true,\"gridcolor\":\"white\",\"linecolor\":\"white\",\"ticks\":\"\",\"title\":{\"standoff\":15},\"zerolinecolor\":\"white\",\"zerolinewidth\":2},\"yaxis\":{\"automargin\":true,\"gridcolor\":\"white\",\"linecolor\":\"white\",\"ticks\":\"\",\"title\":{\"standoff\":15},\"zerolinecolor\":\"white\",\"zerolinewidth\":2}}},\"margin\":{\"l\":30,\"r\":30,\"b\":30,\"t\":50},\"xaxis\":{\"nticks\":30,\"title\":{\"text\":\"Hour on day\"}},\"annotations\":[{\"showarrow\":false,\"text\":\"\",\"x\":0,\"xref\":\"x\",\"y\":\"Load_StatusPlugLoadBlender_ON\",\"yref\":\"y\"},{\"showarrow\":false,\"text\":\"\",\"x\":1,\"xref\":\"x\",\"y\":\"Load_StatusPlugLoadBlender_ON\",\"yref\":\"y\"},{\"showarrow\":false,\"text\":\"\",\"x\":2,\"xref\":\"x\",\"y\":\"Load_StatusPlugLoadBlender_ON\",\"yref\":\"y\"},{\"showarrow\":false,\"text\":\"\",\"x\":3,\"xref\":\"x\",\"y\":\"Load_StatusPlugLoadBlender_ON\",\"yref\":\"y\"},{\"showarrow\":false,\"text\":\"\",\"x\":4,\"xref\":\"x\",\"y\":\"Load_StatusPlugLoadBlender_ON\",\"yref\":\"y\"},{\"showarrow\":false,\"text\":\"\",\"x\":5,\"xref\":\"x\",\"y\":\"Load_StatusPlugLoadBlender_ON\",\"yref\":\"y\"},{\"showarrow\":false,\"text\":\"\",\"x\":6,\"xref\":\"x\",\"y\":\"Load_StatusPlugLoadBlender_ON\",\"yref\":\"y\"},{\"showarrow\":false,\"text\":\"\",\"x\":7,\"xref\":\"x\",\"y\":\"Load_StatusPlugLoadBlender_ON\",\"yref\":\"y\"},{\"showarrow\":false,\"text\":\"\",\"x\":8,\"xref\":\"x\",\"y\":\"Load_StatusPlugLoadBlender_ON\",\"yref\":\"y\"},{\"showarrow\":false,\"text\":\"\",\"x\":9,\"xref\":\"x\",\"y\":\"Load_StatusPlugLoadBlender_ON\",\"yref\":\"y\"},{\"showarrow\":false,\"text\":\"1.0\",\"x\":10,\"xref\":\"x\",\"y\":\"Load_StatusPlugLoadBlender_ON\",\"yref\":\"y\"},{\"showarrow\":false,\"text\":\"0.53\",\"x\":11,\"xref\":\"x\",\"y\":\"Load_StatusPlugLoadBlender_ON\",\"yref\":\"y\"},{\"showarrow\":false,\"text\":\"\",\"x\":12,\"xref\":\"x\",\"y\":\"Load_StatusPlugLoadBlender_ON\",\"yref\":\"y\"},{\"showarrow\":false,\"text\":\"0.39\",\"x\":13,\"xref\":\"x\",\"y\":\"Load_StatusPlugLoadBlender_ON\",\"yref\":\"y\"},{\"showarrow\":false,\"text\":\"0.22\",\"x\":14,\"xref\":\"x\",\"y\":\"Load_StatusPlugLoadBlender_ON\",\"yref\":\"y\"},{\"showarrow\":false,\"text\":\"\",\"x\":15,\"xref\":\"x\",\"y\":\"Load_StatusPlugLoadBlender_ON\",\"yref\":\"y\"},{\"showarrow\":false,\"text\":\"\",\"x\":16,\"xref\":\"x\",\"y\":\"Load_StatusPlugLoadBlender_ON\",\"yref\":\"y\"},{\"showarrow\":false,\"text\":\"\",\"x\":17,\"xref\":\"x\",\"y\":\"Load_StatusPlugLoadBlender_ON\",\"yref\":\"y\"},{\"showarrow\":false,\"text\":\"\",\"x\":18,\"xref\":\"x\",\"y\":\"Load_StatusPlugLoadBlender_ON\",\"yref\":\"y\"},{\"showarrow\":false,\"text\":\"\",\"x\":19,\"xref\":\"x\",\"y\":\"Load_StatusPlugLoadBlender_ON\",\"yref\":\"y\"},{\"showarrow\":false,\"text\":\"\",\"x\":20,\"xref\":\"x\",\"y\":\"Load_StatusPlugLoadBlender_ON\",\"yref\":\"y\"},{\"showarrow\":false,\"text\":\"0.01\",\"x\":21,\"xref\":\"x\",\"y\":\"Load_StatusPlugLoadBlender_ON\",\"yref\":\"y\"},{\"showarrow\":false,\"text\":\"\",\"x\":22,\"xref\":\"x\",\"y\":\"Load_StatusPlugLoadBlender_ON\",\"yref\":\"y\"},{\"showarrow\":false,\"text\":\"\",\"x\":23,\"xref\":\"x\",\"y\":\"Load_StatusPlugLoadBlender_ON\",\"yref\":\"y\"},{\"showarrow\":false,\"text\":\"0.01\",\"x\":0,\"xref\":\"x\",\"y\":\"Load_StatusPlugLoadToasterOven_ON\",\"yref\":\"y\"},{\"showarrow\":false,\"text\":\"0.01\",\"x\":1,\"xref\":\"x\",\"y\":\"Load_StatusPlugLoadToasterOven_ON\",\"yref\":\"y\"},{\"showarrow\":false,\"text\":\"0.01\",\"x\":2,\"xref\":\"x\",\"y\":\"Load_StatusPlugLoadToasterOven_ON\",\"yref\":\"y\"},{\"showarrow\":false,\"text\":\"\",\"x\":3,\"xref\":\"x\",\"y\":\"Load_StatusPlugLoadToasterOven_ON\",\"yref\":\"y\"},{\"showarrow\":false,\"text\":\"\",\"x\":4,\"xref\":\"x\",\"y\":\"Load_StatusPlugLoadToasterOven_ON\",\"yref\":\"y\"},{\"showarrow\":false,\"text\":\"\",\"x\":5,\"xref\":\"x\",\"y\":\"Load_StatusPlugLoadToasterOven_ON\",\"yref\":\"y\"},{\"showarrow\":false,\"text\":\"\",\"x\":6,\"xref\":\"x\",\"y\":\"Load_StatusPlugLoadToasterOven_ON\",\"yref\":\"y\"},{\"showarrow\":false,\"text\":\"\",\"x\":7,\"xref\":\"x\",\"y\":\"Load_StatusPlugLoadToasterOven_ON\",\"yref\":\"y\"},{\"showarrow\":false,\"text\":\"\",\"x\":8,\"xref\":\"x\",\"y\":\"Load_StatusPlugLoadToasterOven_ON\",\"yref\":\"y\"},{\"showarrow\":false,\"text\":\"\",\"x\":9,\"xref\":\"x\",\"y\":\"Load_StatusPlugLoadToasterOven_ON\",\"yref\":\"y\"},{\"showarrow\":false,\"text\":\"1.0\",\"x\":10,\"xref\":\"x\",\"y\":\"Load_StatusPlugLoadToasterOven_ON\",\"yref\":\"y\"},{\"showarrow\":false,\"text\":\"0.53\",\"x\":11,\"xref\":\"x\",\"y\":\"Load_StatusPlugLoadToasterOven_ON\",\"yref\":\"y\"},{\"showarrow\":false,\"text\":\"\",\"x\":12,\"xref\":\"x\",\"y\":\"Load_StatusPlugLoadToasterOven_ON\",\"yref\":\"y\"},{\"showarrow\":false,\"text\":\"0.39\",\"x\":13,\"xref\":\"x\",\"y\":\"Load_StatusPlugLoadToasterOven_ON\",\"yref\":\"y\"},{\"showarrow\":false,\"text\":\"0.22\",\"x\":14,\"xref\":\"x\",\"y\":\"Load_StatusPlugLoadToasterOven_ON\",\"yref\":\"y\"},{\"showarrow\":false,\"text\":\"\",\"x\":15,\"xref\":\"x\",\"y\":\"Load_StatusPlugLoadToasterOven_ON\",\"yref\":\"y\"},{\"showarrow\":false,\"text\":\"\",\"x\":16,\"xref\":\"x\",\"y\":\"Load_StatusPlugLoadToasterOven_ON\",\"yref\":\"y\"},{\"showarrow\":false,\"text\":\"\",\"x\":17,\"xref\":\"x\",\"y\":\"Load_StatusPlugLoadToasterOven_ON\",\"yref\":\"y\"},{\"showarrow\":false,\"text\":\"\",\"x\":18,\"xref\":\"x\",\"y\":\"Load_StatusPlugLoadToasterOven_ON\",\"yref\":\"y\"},{\"showarrow\":false,\"text\":\"\",\"x\":19,\"xref\":\"x\",\"y\":\"Load_StatusPlugLoadToasterOven_ON\",\"yref\":\"y\"},{\"showarrow\":false,\"text\":\"\",\"x\":20,\"xref\":\"x\",\"y\":\"Load_StatusPlugLoadToasterOven_ON\",\"yref\":\"y\"},{\"showarrow\":false,\"text\":\"0.01\",\"x\":21,\"xref\":\"x\",\"y\":\"Load_StatusPlugLoadToasterOven_ON\",\"yref\":\"y\"},{\"showarrow\":false,\"text\":\"\",\"x\":22,\"xref\":\"x\",\"y\":\"Load_StatusPlugLoadToasterOven_ON\",\"yref\":\"y\"},{\"showarrow\":false,\"text\":\"\",\"x\":23,\"xref\":\"x\",\"y\":\"Load_StatusPlugLoadToasterOven_ON\",\"yref\":\"y\"},{\"showarrow\":false,\"text\":\"\",\"x\":0,\"xref\":\"x\",\"y\":\"Load_StatusPlugLoadSlowCooker_ON\",\"yref\":\"y\"},{\"showarrow\":false,\"text\":\"\",\"x\":1,\"xref\":\"x\",\"y\":\"Load_StatusPlugLoadSlowCooker_ON\",\"yref\":\"y\"},{\"showarrow\":false,\"text\":\"\",\"x\":2,\"xref\":\"x\",\"y\":\"Load_StatusPlugLoadSlowCooker_ON\",\"yref\":\"y\"},{\"showarrow\":false,\"text\":\"\",\"x\":3,\"xref\":\"x\",\"y\":\"Load_StatusPlugLoadSlowCooker_ON\",\"yref\":\"y\"},{\"showarrow\":false,\"text\":\"\",\"x\":4,\"xref\":\"x\",\"y\":\"Load_StatusPlugLoadSlowCooker_ON\",\"yref\":\"y\"},{\"showarrow\":false,\"text\":\"\",\"x\":5,\"xref\":\"x\",\"y\":\"Load_StatusPlugLoadSlowCooker_ON\",\"yref\":\"y\"},{\"showarrow\":false,\"text\":\"\",\"x\":6,\"xref\":\"x\",\"y\":\"Load_StatusPlugLoadSlowCooker_ON\",\"yref\":\"y\"},{\"showarrow\":false,\"text\":\"\",\"x\":7,\"xref\":\"x\",\"y\":\"Load_StatusPlugLoadSlowCooker_ON\",\"yref\":\"y\"},{\"showarrow\":false,\"text\":\"\",\"x\":8,\"xref\":\"x\",\"y\":\"Load_StatusPlugLoadSlowCooker_ON\",\"yref\":\"y\"},{\"showarrow\":false,\"text\":\"\",\"x\":9,\"xref\":\"x\",\"y\":\"Load_StatusPlugLoadSlowCooker_ON\",\"yref\":\"y\"},{\"showarrow\":false,\"text\":\"\",\"x\":10,\"xref\":\"x\",\"y\":\"Load_StatusPlugLoadSlowCooker_ON\",\"yref\":\"y\"},{\"showarrow\":false,\"text\":\"\",\"x\":11,\"xref\":\"x\",\"y\":\"Load_StatusPlugLoadSlowCooker_ON\",\"yref\":\"y\"},{\"showarrow\":false,\"text\":\"0.4\",\"x\":12,\"xref\":\"x\",\"y\":\"Load_StatusPlugLoadSlowCooker_ON\",\"yref\":\"y\"},{\"showarrow\":false,\"text\":\"1.0\",\"x\":13,\"xref\":\"x\",\"y\":\"Load_StatusPlugLoadSlowCooker_ON\",\"yref\":\"y\"},{\"showarrow\":false,\"text\":\"0.81\",\"x\":14,\"xref\":\"x\",\"y\":\"Load_StatusPlugLoadSlowCooker_ON\",\"yref\":\"y\"},{\"showarrow\":false,\"text\":\"0.21\",\"x\":15,\"xref\":\"x\",\"y\":\"Load_StatusPlugLoadSlowCooker_ON\",\"yref\":\"y\"},{\"showarrow\":false,\"text\":\"\",\"x\":16,\"xref\":\"x\",\"y\":\"Load_StatusPlugLoadSlowCooker_ON\",\"yref\":\"y\"},{\"showarrow\":false,\"text\":\"\",\"x\":17,\"xref\":\"x\",\"y\":\"Load_StatusPlugLoadSlowCooker_ON\",\"yref\":\"y\"},{\"showarrow\":false,\"text\":\"\",\"x\":18,\"xref\":\"x\",\"y\":\"Load_StatusPlugLoadSlowCooker_ON\",\"yref\":\"y\"},{\"showarrow\":false,\"text\":\"\",\"x\":19,\"xref\":\"x\",\"y\":\"Load_StatusPlugLoadSlowCooker_ON\",\"yref\":\"y\"},{\"showarrow\":false,\"text\":\"\",\"x\":20,\"xref\":\"x\",\"y\":\"Load_StatusPlugLoadSlowCooker_ON\",\"yref\":\"y\"},{\"showarrow\":false,\"text\":\"\",\"x\":21,\"xref\":\"x\",\"y\":\"Load_StatusPlugLoadSlowCooker_ON\",\"yref\":\"y\"},{\"showarrow\":false,\"text\":\"\",\"x\":22,\"xref\":\"x\",\"y\":\"Load_StatusPlugLoadSlowCooker_ON\",\"yref\":\"y\"},{\"showarrow\":false,\"text\":\"\",\"x\":23,\"xref\":\"x\",\"y\":\"Load_StatusPlugLoadSlowCooker_ON\",\"yref\":\"y\"},{\"showarrow\":false,\"text\":\"\",\"x\":0,\"xref\":\"x\",\"y\":\"Load_StatusPlugLoadToaster_ON\",\"yref\":\"y\"},{\"showarrow\":false,\"text\":\"\",\"x\":1,\"xref\":\"x\",\"y\":\"Load_StatusPlugLoadToaster_ON\",\"yref\":\"y\"},{\"showarrow\":false,\"text\":\"\",\"x\":2,\"xref\":\"x\",\"y\":\"Load_StatusPlugLoadToaster_ON\",\"yref\":\"y\"},{\"showarrow\":false,\"text\":\"\",\"x\":3,\"xref\":\"x\",\"y\":\"Load_StatusPlugLoadToaster_ON\",\"yref\":\"y\"},{\"showarrow\":false,\"text\":\"\",\"x\":4,\"xref\":\"x\",\"y\":\"Load_StatusPlugLoadToaster_ON\",\"yref\":\"y\"},{\"showarrow\":false,\"text\":\"\",\"x\":5,\"xref\":\"x\",\"y\":\"Load_StatusPlugLoadToaster_ON\",\"yref\":\"y\"},{\"showarrow\":false,\"text\":\"\",\"x\":6,\"xref\":\"x\",\"y\":\"Load_StatusPlugLoadToaster_ON\",\"yref\":\"y\"},{\"showarrow\":false,\"text\":\"\",\"x\":7,\"xref\":\"x\",\"y\":\"Load_StatusPlugLoadToaster_ON\",\"yref\":\"y\"},{\"showarrow\":false,\"text\":\"\",\"x\":8,\"xref\":\"x\",\"y\":\"Load_StatusPlugLoadToaster_ON\",\"yref\":\"y\"},{\"showarrow\":false,\"text\":\"\",\"x\":9,\"xref\":\"x\",\"y\":\"Load_StatusPlugLoadToaster_ON\",\"yref\":\"y\"},{\"showarrow\":false,\"text\":\"1.0\",\"x\":10,\"xref\":\"x\",\"y\":\"Load_StatusPlugLoadToaster_ON\",\"yref\":\"y\"},{\"showarrow\":false,\"text\":\"0.53\",\"x\":11,\"xref\":\"x\",\"y\":\"Load_StatusPlugLoadToaster_ON\",\"yref\":\"y\"},{\"showarrow\":false,\"text\":\"\",\"x\":12,\"xref\":\"x\",\"y\":\"Load_StatusPlugLoadToaster_ON\",\"yref\":\"y\"},{\"showarrow\":false,\"text\":\"0.39\",\"x\":13,\"xref\":\"x\",\"y\":\"Load_StatusPlugLoadToaster_ON\",\"yref\":\"y\"},{\"showarrow\":false,\"text\":\"0.22\",\"x\":14,\"xref\":\"x\",\"y\":\"Load_StatusPlugLoadToaster_ON\",\"yref\":\"y\"},{\"showarrow\":false,\"text\":\"\",\"x\":15,\"xref\":\"x\",\"y\":\"Load_StatusPlugLoadToaster_ON\",\"yref\":\"y\"},{\"showarrow\":false,\"text\":\"\",\"x\":16,\"xref\":\"x\",\"y\":\"Load_StatusPlugLoadToaster_ON\",\"yref\":\"y\"},{\"showarrow\":false,\"text\":\"\",\"x\":17,\"xref\":\"x\",\"y\":\"Load_StatusPlugLoadToaster_ON\",\"yref\":\"y\"},{\"showarrow\":false,\"text\":\"\",\"x\":18,\"xref\":\"x\",\"y\":\"Load_StatusPlugLoadToaster_ON\",\"yref\":\"y\"},{\"showarrow\":false,\"text\":\"\",\"x\":19,\"xref\":\"x\",\"y\":\"Load_StatusPlugLoadToaster_ON\",\"yref\":\"y\"},{\"showarrow\":false,\"text\":\"\",\"x\":20,\"xref\":\"x\",\"y\":\"Load_StatusPlugLoadToaster_ON\",\"yref\":\"y\"},{\"showarrow\":false,\"text\":\"0.01\",\"x\":21,\"xref\":\"x\",\"y\":\"Load_StatusPlugLoadToaster_ON\",\"yref\":\"y\"},{\"showarrow\":false,\"text\":\"\",\"x\":22,\"xref\":\"x\",\"y\":\"Load_StatusPlugLoadToaster_ON\",\"yref\":\"y\"},{\"showarrow\":false,\"text\":\"\",\"x\":23,\"xref\":\"x\",\"y\":\"Load_StatusPlugLoadToaster_ON\",\"yref\":\"y\"},{\"showarrow\":false,\"text\":\"0.09\",\"x\":0,\"xref\":\"x\",\"y\":\"Load_StatusPlugLoadHandMixer_ON\",\"yref\":\"y\"},{\"showarrow\":false,\"text\":\"\",\"x\":1,\"xref\":\"x\",\"y\":\"Load_StatusPlugLoadHandMixer_ON\",\"yref\":\"y\"},{\"showarrow\":false,\"text\":\"\",\"x\":2,\"xref\":\"x\",\"y\":\"Load_StatusPlugLoadHandMixer_ON\",\"yref\":\"y\"},{\"showarrow\":false,\"text\":\"\",\"x\":3,\"xref\":\"x\",\"y\":\"Load_StatusPlugLoadHandMixer_ON\",\"yref\":\"y\"},{\"showarrow\":false,\"text\":\"\",\"x\":4,\"xref\":\"x\",\"y\":\"Load_StatusPlugLoadHandMixer_ON\",\"yref\":\"y\"},{\"showarrow\":false,\"text\":\"\",\"x\":5,\"xref\":\"x\",\"y\":\"Load_StatusPlugLoadHandMixer_ON\",\"yref\":\"y\"},{\"showarrow\":false,\"text\":\"0.01\",\"x\":6,\"xref\":\"x\",\"y\":\"Load_StatusPlugLoadHandMixer_ON\",\"yref\":\"y\"},{\"showarrow\":false,\"text\":\"\",\"x\":7,\"xref\":\"x\",\"y\":\"Load_StatusPlugLoadHandMixer_ON\",\"yref\":\"y\"},{\"showarrow\":false,\"text\":\"\",\"x\":8,\"xref\":\"x\",\"y\":\"Load_StatusPlugLoadHandMixer_ON\",\"yref\":\"y\"},{\"showarrow\":false,\"text\":\"\",\"x\":9,\"xref\":\"x\",\"y\":\"Load_StatusPlugLoadHandMixer_ON\",\"yref\":\"y\"},{\"showarrow\":false,\"text\":\"\",\"x\":10,\"xref\":\"x\",\"y\":\"Load_StatusPlugLoadHandMixer_ON\",\"yref\":\"y\"},{\"showarrow\":false,\"text\":\"\",\"x\":11,\"xref\":\"x\",\"y\":\"Load_StatusPlugLoadHandMixer_ON\",\"yref\":\"y\"},{\"showarrow\":false,\"text\":\"\",\"x\":12,\"xref\":\"x\",\"y\":\"Load_StatusPlugLoadHandMixer_ON\",\"yref\":\"y\"},{\"showarrow\":false,\"text\":\"\",\"x\":13,\"xref\":\"x\",\"y\":\"Load_StatusPlugLoadHandMixer_ON\",\"yref\":\"y\"},{\"showarrow\":false,\"text\":\"\",\"x\":14,\"xref\":\"x\",\"y\":\"Load_StatusPlugLoadHandMixer_ON\",\"yref\":\"y\"},{\"showarrow\":false,\"text\":\"\",\"x\":15,\"xref\":\"x\",\"y\":\"Load_StatusPlugLoadHandMixer_ON\",\"yref\":\"y\"},{\"showarrow\":false,\"text\":\"\",\"x\":16,\"xref\":\"x\",\"y\":\"Load_StatusPlugLoadHandMixer_ON\",\"yref\":\"y\"},{\"showarrow\":false,\"text\":\"\",\"x\":17,\"xref\":\"x\",\"y\":\"Load_StatusPlugLoadHandMixer_ON\",\"yref\":\"y\"},{\"showarrow\":false,\"text\":\"\",\"x\":18,\"xref\":\"x\",\"y\":\"Load_StatusPlugLoadHandMixer_ON\",\"yref\":\"y\"},{\"showarrow\":false,\"text\":\"\",\"x\":19,\"xref\":\"x\",\"y\":\"Load_StatusPlugLoadHandMixer_ON\",\"yref\":\"y\"},{\"showarrow\":false,\"text\":\"\",\"x\":20,\"xref\":\"x\",\"y\":\"Load_StatusPlugLoadHandMixer_ON\",\"yref\":\"y\"},{\"showarrow\":false,\"text\":\"\",\"x\":21,\"xref\":\"x\",\"y\":\"Load_StatusPlugLoadHandMixer_ON\",\"yref\":\"y\"},{\"showarrow\":false,\"text\":\"1.0\",\"x\":22,\"xref\":\"x\",\"y\":\"Load_StatusPlugLoadHandMixer_ON\",\"yref\":\"y\"},{\"showarrow\":false,\"text\":\"0.7\",\"x\":23,\"xref\":\"x\",\"y\":\"Load_StatusPlugLoadHandMixer_ON\",\"yref\":\"y\"},{\"showarrow\":false,\"text\":\"0.1\",\"x\":0,\"xref\":\"x\",\"y\":\"Load_StatusPlugLoadCanOpener_ON\",\"yref\":\"y\"},{\"showarrow\":false,\"text\":\"0.01\",\"x\":1,\"xref\":\"x\",\"y\":\"Load_StatusPlugLoadCanOpener_ON\",\"yref\":\"y\"},{\"showarrow\":false,\"text\":\"0.01\",\"x\":2,\"xref\":\"x\",\"y\":\"Load_StatusPlugLoadCanOpener_ON\",\"yref\":\"y\"},{\"showarrow\":false,\"text\":\"0.03\",\"x\":3,\"xref\":\"x\",\"y\":\"Load_StatusPlugLoadCanOpener_ON\",\"yref\":\"y\"},{\"showarrow\":false,\"text\":\"\",\"x\":4,\"xref\":\"x\",\"y\":\"Load_StatusPlugLoadCanOpener_ON\",\"yref\":\"y\"},{\"showarrow\":false,\"text\":\"\",\"x\":5,\"xref\":\"x\",\"y\":\"Load_StatusPlugLoadCanOpener_ON\",\"yref\":\"y\"},{\"showarrow\":false,\"text\":\"0.01\",\"x\":6,\"xref\":\"x\",\"y\":\"Load_StatusPlugLoadCanOpener_ON\",\"yref\":\"y\"},{\"showarrow\":false,\"text\":\"\",\"x\":7,\"xref\":\"x\",\"y\":\"Load_StatusPlugLoadCanOpener_ON\",\"yref\":\"y\"},{\"showarrow\":false,\"text\":\"\",\"x\":8,\"xref\":\"x\",\"y\":\"Load_StatusPlugLoadCanOpener_ON\",\"yref\":\"y\"},{\"showarrow\":false,\"text\":\"\",\"x\":9,\"xref\":\"x\",\"y\":\"Load_StatusPlugLoadCanOpener_ON\",\"yref\":\"y\"},{\"showarrow\":false,\"text\":\"\",\"x\":10,\"xref\":\"x\",\"y\":\"Load_StatusPlugLoadCanOpener_ON\",\"yref\":\"y\"},{\"showarrow\":false,\"text\":\"\",\"x\":11,\"xref\":\"x\",\"y\":\"Load_StatusPlugLoadCanOpener_ON\",\"yref\":\"y\"},{\"showarrow\":false,\"text\":\"\",\"x\":12,\"xref\":\"x\",\"y\":\"Load_StatusPlugLoadCanOpener_ON\",\"yref\":\"y\"},{\"showarrow\":false,\"text\":\"\",\"x\":13,\"xref\":\"x\",\"y\":\"Load_StatusPlugLoadCanOpener_ON\",\"yref\":\"y\"},{\"showarrow\":false,\"text\":\"\",\"x\":14,\"xref\":\"x\",\"y\":\"Load_StatusPlugLoadCanOpener_ON\",\"yref\":\"y\"},{\"showarrow\":false,\"text\":\"\",\"x\":15,\"xref\":\"x\",\"y\":\"Load_StatusPlugLoadCanOpener_ON\",\"yref\":\"y\"},{\"showarrow\":false,\"text\":\"\",\"x\":16,\"xref\":\"x\",\"y\":\"Load_StatusPlugLoadCanOpener_ON\",\"yref\":\"y\"},{\"showarrow\":false,\"text\":\"\",\"x\":17,\"xref\":\"x\",\"y\":\"Load_StatusPlugLoadCanOpener_ON\",\"yref\":\"y\"},{\"showarrow\":false,\"text\":\"\",\"x\":18,\"xref\":\"x\",\"y\":\"Load_StatusPlugLoadCanOpener_ON\",\"yref\":\"y\"},{\"showarrow\":false,\"text\":\"\",\"x\":19,\"xref\":\"x\",\"y\":\"Load_StatusPlugLoadCanOpener_ON\",\"yref\":\"y\"},{\"showarrow\":false,\"text\":\"\",\"x\":20,\"xref\":\"x\",\"y\":\"Load_StatusPlugLoadCanOpener_ON\",\"yref\":\"y\"},{\"showarrow\":false,\"text\":\"\",\"x\":21,\"xref\":\"x\",\"y\":\"Load_StatusPlugLoadCanOpener_ON\",\"yref\":\"y\"},{\"showarrow\":false,\"text\":\"1.0\",\"x\":22,\"xref\":\"x\",\"y\":\"Load_StatusPlugLoadCanOpener_ON\",\"yref\":\"y\"},{\"showarrow\":false,\"text\":\"0.7\",\"x\":23,\"xref\":\"x\",\"y\":\"Load_StatusPlugLoadCanOpener_ON\",\"yref\":\"y\"},{\"showarrow\":false,\"text\":\"\",\"x\":0,\"xref\":\"x\",\"y\":\"Load_StatusPlugLoadCoffeeMaker_ON\",\"yref\":\"y\"},{\"showarrow\":false,\"text\":\"\",\"x\":1,\"xref\":\"x\",\"y\":\"Load_StatusPlugLoadCoffeeMaker_ON\",\"yref\":\"y\"},{\"showarrow\":false,\"text\":\"\",\"x\":2,\"xref\":\"x\",\"y\":\"Load_StatusPlugLoadCoffeeMaker_ON\",\"yref\":\"y\"},{\"showarrow\":false,\"text\":\"\",\"x\":3,\"xref\":\"x\",\"y\":\"Load_StatusPlugLoadCoffeeMaker_ON\",\"yref\":\"y\"},{\"showarrow\":false,\"text\":\"\",\"x\":4,\"xref\":\"x\",\"y\":\"Load_StatusPlugLoadCoffeeMaker_ON\",\"yref\":\"y\"},{\"showarrow\":false,\"text\":\"\",\"x\":5,\"xref\":\"x\",\"y\":\"Load_StatusPlugLoadCoffeeMaker_ON\",\"yref\":\"y\"},{\"showarrow\":false,\"text\":\"\",\"x\":6,\"xref\":\"x\",\"y\":\"Load_StatusPlugLoadCoffeeMaker_ON\",\"yref\":\"y\"},{\"showarrow\":false,\"text\":\"\",\"x\":7,\"xref\":\"x\",\"y\":\"Load_StatusPlugLoadCoffeeMaker_ON\",\"yref\":\"y\"},{\"showarrow\":false,\"text\":\"\",\"x\":8,\"xref\":\"x\",\"y\":\"Load_StatusPlugLoadCoffeeMaker_ON\",\"yref\":\"y\"},{\"showarrow\":false,\"text\":\"\",\"x\":9,\"xref\":\"x\",\"y\":\"Load_StatusPlugLoadCoffeeMaker_ON\",\"yref\":\"y\"},{\"showarrow\":false,\"text\":\"1.0\",\"x\":10,\"xref\":\"x\",\"y\":\"Load_StatusPlugLoadCoffeeMaker_ON\",\"yref\":\"y\"},{\"showarrow\":false,\"text\":\"0.61\",\"x\":11,\"xref\":\"x\",\"y\":\"Load_StatusPlugLoadCoffeeMaker_ON\",\"yref\":\"y\"},{\"showarrow\":false,\"text\":\"\",\"x\":12,\"xref\":\"x\",\"y\":\"Load_StatusPlugLoadCoffeeMaker_ON\",\"yref\":\"y\"},{\"showarrow\":false,\"text\":\"0.39\",\"x\":13,\"xref\":\"x\",\"y\":\"Load_StatusPlugLoadCoffeeMaker_ON\",\"yref\":\"y\"},{\"showarrow\":false,\"text\":\"0.25\",\"x\":14,\"xref\":\"x\",\"y\":\"Load_StatusPlugLoadCoffeeMaker_ON\",\"yref\":\"y\"},{\"showarrow\":false,\"text\":\"\",\"x\":15,\"xref\":\"x\",\"y\":\"Load_StatusPlugLoadCoffeeMaker_ON\",\"yref\":\"y\"},{\"showarrow\":false,\"text\":\"0.04\",\"x\":16,\"xref\":\"x\",\"y\":\"Load_StatusPlugLoadCoffeeMaker_ON\",\"yref\":\"y\"},{\"showarrow\":false,\"text\":\"\",\"x\":17,\"xref\":\"x\",\"y\":\"Load_StatusPlugLoadCoffeeMaker_ON\",\"yref\":\"y\"},{\"showarrow\":false,\"text\":\"\",\"x\":18,\"xref\":\"x\",\"y\":\"Load_StatusPlugLoadCoffeeMaker_ON\",\"yref\":\"y\"},{\"showarrow\":false,\"text\":\"\",\"x\":19,\"xref\":\"x\",\"y\":\"Load_StatusPlugLoadCoffeeMaker_ON\",\"yref\":\"y\"},{\"showarrow\":false,\"text\":\"0.01\",\"x\":20,\"xref\":\"x\",\"y\":\"Load_StatusPlugLoadCoffeeMaker_ON\",\"yref\":\"y\"},{\"showarrow\":false,\"text\":\"0.01\",\"x\":21,\"xref\":\"x\",\"y\":\"Load_StatusPlugLoadCoffeeMaker_ON\",\"yref\":\"y\"},{\"showarrow\":false,\"text\":\"0.1\",\"x\":22,\"xref\":\"x\",\"y\":\"Load_StatusPlugLoadCoffeeMaker_ON\",\"yref\":\"y\"},{\"showarrow\":false,\"text\":\"\",\"x\":23,\"xref\":\"x\",\"y\":\"Load_StatusPlugLoadCoffeeMaker_ON\",\"yref\":\"y\"}],\"yaxis\":{\"title\":{\"text\":\"Appliance\"},\"showticklabels\":false}},                        {\"responsive\": true}                    ).then(function(){\n                            \nvar gd = document.getElementById('ade2e16f-59e5-4d66-8a80-c34a76ee7fbb');\nvar x = new MutationObserver(function (mutations, observer) {{\n        var display = window.getComputedStyle(gd).display;\n        if (!display || display === 'none') {{\n            console.log([gd, 'removed!']);\n            Plotly.purge(gd);\n            observer.disconnect();\n        }}\n}});\n\n// Listen for the removal of the full notebook cells\nvar notebookContainer = gd.closest('#notebook-container');\nif (notebookContainer) {{\n    x.observe(notebookContainer, {childList: true});\n}}\n\n// Listen for the clearing of the current output cell\nvar outputEl = gd.closest('.output');\nif (outputEl) {{\n    x.observe(outputEl, {childList: true});\n}}\n\n                        })                };                });            </script>        </div>"
     },
     "metadata": {},
     "output_type": "display_data"
    }
   ],
   "source": [
    "import plotly.graph_objects as go\n",
    "\n",
    "#set up data to heatmap\n",
    "columns = hourON.columns[1:].tolist()\n",
    "hourON[columns] = normalise_dataframe(hourON[columns])\n",
    "z_data = []\n",
    "for i in hourON[columns]:\n",
    "    data_list = hourON[i].round(2).values.tolist()\n",
    "    z_data.append(data_list)\n",
    "\n",
    "#Annotate z_values\n",
    "annotations = go.Annotations()\n",
    "for n, row in enumerate(z_data):\n",
    "    for m, val in enumerate(row):\n",
    "        annotations.append(go.Annotation(text=\"\" if z_data[n][m] == 0 else str(z_data[n][m]),\n",
    "                                         x=hourON[\"HourOfTimestamp\"][m], y=columns[n], xref='x1', yref='y1',\n",
    "                                         showarrow=False))\n",
    "\n",
    "#Create heatmap\n",
    "fig = go.Figure(data=go.Heatmap(\n",
    "    z=z_data,\n",
    "    x=hourON[\"HourOfTimestamp\"],\n",
    "    y=columns,\n",
    "    colorscale='Teal')\n",
    ")\n",
    "\n",
    "fig.update_layout(margin=dict(\n",
    "    l=30,\n",
    "    r=30,\n",
    "    b=30,\n",
    "    t=50,\n",
    "), xaxis_nticks=30, annotations=annotations, )\n",
    "\n",
    "fig.update_xaxes(title=\"Hour on day\")\n",
    "fig.update_yaxes(title=\"Appliance\", showticklabels=False)\n",
    "fig.show()"
   ],
   "metadata": {
    "collapsed": false,
    "pycharm": {
     "name": "#%%\n"
    }
   }
  },
  {
   "cell_type": "code",
   "execution_count": null,
   "outputs": [],
   "source": [],
   "metadata": {
    "collapsed": false,
    "pycharm": {
     "name": "#%%\n"
    }
   }
  }
 ],
 "metadata": {
  "kernelspec": {
   "display_name": "Python 3",
   "language": "python",
   "name": "python3"
  },
  "language_info": {
   "codemirror_mode": {
    "name": "ipython",
    "version": 2
   },
   "file_extension": ".py",
   "mimetype": "text/x-python",
   "name": "python",
   "nbconvert_exporter": "python",
   "pygments_lexer": "ipython2",
   "version": "2.7.6"
  }
 },
 "nbformat": 4,
 "nbformat_minor": 0
}
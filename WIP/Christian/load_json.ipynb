{
 "cells": [
  {
   "cell_type": "code",
   "execution_count": 1,
   "outputs": [],
   "source": [
    "import pandas as pd\n",
    "import plotly.express as px\n",
    "import re\n",
    "import datetime\n",
    "import numpy as np\n",
    "\n",
    "from Project.Database import Db"
   ],
   "metadata": {
    "collapsed": false,
    "pycharm": {
     "name": "#%%\n"
    }
   }
  },
  {
   "cell_type": "code",
   "execution_count": 2,
   "metadata": {
    "collapsed": true
   },
   "outputs": [],
   "source": [
    "level2=pd.read_json(path_or_buf=\"/Users/christiannielsen/Documents/GitHub/Datavidenskab-P6/Project/TPM/output/Experiment_minsup0.1_minconf_0.5/level2.json\")"
   ]
  },
  {
   "cell_type": "code",
   "execution_count": 3,
   "outputs": [
    {
     "data": {
      "text/plain": "                                 name_node  \\\n0                M B A Lights,M B A Lights   \n1             M B A Lights,Kitchen  Lights   \n2           M B A Lights,Plug Load Blender   \n3      M B A Lights,Plug Load Coffee Maker   \n4         M B A Lights,Plug Load M B R T V   \n..                                     ...   \n461  Plug Load L R Blue Ray,Plug Load Iron   \n462        Plug Load Vacuum,Appliance Oven   \n463        Plug Load Vacuum,Plug Load Iron   \n464          Plug Load Iron,Appliance Oven   \n465  Plug Load Iron,Plug Load L R Blue Ray   \n\n                                              patterns  \n0    [{'pattern': 'M B A Lights->M B A Lights', 'su...  \n1    [{'pattern': 'M B A Lights->Kitchen  Lights', ...  \n2    [{'pattern': 'M B A Lights->Plug Load Blender'...  \n3    [{'pattern': 'M B A Lights->Plug Load Coffee M...  \n4    [{'pattern': 'M B A Lights->Plug Load M B R T ...  \n..                                                 ...  \n461  [{'pattern': 'Plug Load L R Blue Ray->Plug Loa...  \n462  [{'pattern': 'Plug Load Vacuum|Appliance Oven'...  \n463  [{'pattern': 'Plug Load Vacuum>Plug Load Iron'...  \n464  [{'pattern': 'Plug Load Iron->Appliance Oven',...  \n465  [{'pattern': 'Plug Load Iron->Plug Load L R Bl...  \n\n[466 rows x 2 columns]",
      "text/html": "<div>\n<style scoped>\n    .dataframe tbody tr th:only-of-type {\n        vertical-align: middle;\n    }\n\n    .dataframe tbody tr th {\n        vertical-align: top;\n    }\n\n    .dataframe thead th {\n        text-align: right;\n    }\n</style>\n<table border=\"1\" class=\"dataframe\">\n  <thead>\n    <tr style=\"text-align: right;\">\n      <th></th>\n      <th>name_node</th>\n      <th>patterns</th>\n    </tr>\n  </thead>\n  <tbody>\n    <tr>\n      <th>0</th>\n      <td>M B A Lights,M B A Lights</td>\n      <td>[{'pattern': 'M B A Lights-&gt;M B A Lights', 'su...</td>\n    </tr>\n    <tr>\n      <th>1</th>\n      <td>M B A Lights,Kitchen  Lights</td>\n      <td>[{'pattern': 'M B A Lights-&gt;Kitchen  Lights', ...</td>\n    </tr>\n    <tr>\n      <th>2</th>\n      <td>M B A Lights,Plug Load Blender</td>\n      <td>[{'pattern': 'M B A Lights-&gt;Plug Load Blender'...</td>\n    </tr>\n    <tr>\n      <th>3</th>\n      <td>M B A Lights,Plug Load Coffee Maker</td>\n      <td>[{'pattern': 'M B A Lights-&gt;Plug Load Coffee M...</td>\n    </tr>\n    <tr>\n      <th>4</th>\n      <td>M B A Lights,Plug Load M B R T V</td>\n      <td>[{'pattern': 'M B A Lights-&gt;Plug Load M B R T ...</td>\n    </tr>\n    <tr>\n      <th>...</th>\n      <td>...</td>\n      <td>...</td>\n    </tr>\n    <tr>\n      <th>461</th>\n      <td>Plug Load L R Blue Ray,Plug Load Iron</td>\n      <td>[{'pattern': 'Plug Load L R Blue Ray-&gt;Plug Loa...</td>\n    </tr>\n    <tr>\n      <th>462</th>\n      <td>Plug Load Vacuum,Appliance Oven</td>\n      <td>[{'pattern': 'Plug Load Vacuum|Appliance Oven'...</td>\n    </tr>\n    <tr>\n      <th>463</th>\n      <td>Plug Load Vacuum,Plug Load Iron</td>\n      <td>[{'pattern': 'Plug Load Vacuum&gt;Plug Load Iron'...</td>\n    </tr>\n    <tr>\n      <th>464</th>\n      <td>Plug Load Iron,Appliance Oven</td>\n      <td>[{'pattern': 'Plug Load Iron-&gt;Appliance Oven',...</td>\n    </tr>\n    <tr>\n      <th>465</th>\n      <td>Plug Load Iron,Plug Load L R Blue Ray</td>\n      <td>[{'pattern': 'Plug Load Iron-&gt;Plug Load L R Bl...</td>\n    </tr>\n  </tbody>\n</table>\n<p>466 rows × 2 columns</p>\n</div>"
     },
     "execution_count": 3,
     "metadata": {},
     "output_type": "execute_result"
    }
   ],
   "source": [
    "level2"
   ],
   "metadata": {
    "collapsed": false,
    "pycharm": {
     "name": "#%%\n"
    }
   }
  },
  {
   "cell_type": "code",
   "execution_count": 4,
   "outputs": [],
   "source": [
    "# level2.loc[level2[\"name_node\"] == \"Entry Hall Lights,Plug Load L R Blue Ray\", \"patterns\"].values[0][0][\"conf\"]"
   ],
   "metadata": {
    "collapsed": false,
    "pycharm": {
     "name": "#%%\n"
    }
   }
  },
  {
   "cell_type": "code",
   "execution_count": null,
   "outputs": [],
   "source": [
    "level3=pd.read_json(path_or_buf=Db.get_project_path(\"Project/TPM/output/Experiment_minsup0.1_minconf_0.5/level3.json\"))"
   ],
   "metadata": {
    "collapsed": false,
    "pycharm": {
     "name": "#%%\n",
     "is_executing": true
    }
   }
  }
 ],
 "metadata": {
  "kernelspec": {
   "display_name": "Python 3",
   "language": "python",
   "name": "python3"
  },
  "language_info": {
   "codemirror_mode": {
    "name": "ipython",
    "version": 2
   },
   "file_extension": ".py",
   "mimetype": "text/x-python",
   "name": "python",
   "nbconvert_exporter": "python",
   "pygments_lexer": "ipython2",
   "version": "2.7.6"
  }
 },
 "nbformat": 4,
 "nbformat_minor": 0
}
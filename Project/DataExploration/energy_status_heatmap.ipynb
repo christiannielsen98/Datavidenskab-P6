{
 "cells": [
  {
   "cell_type": "code",
   "execution_count": 13,
   "outputs": [],
   "source": [
    "import pandas as pd\n",
    "import plotly.express as px\n",
    "import re\n",
    "import datetime\n",
    "from concurrent.futures import ThreadPoolExecutor, as_completed\n",
    "\n",
    "from Project.Database import Db"
   ],
   "metadata": {
    "collapsed": false,
    "pycharm": {
     "name": "#%%\n"
    }
   }
  },
  {
   "cell_type": "code",
   "execution_count": 14,
   "outputs": [],
   "source": [
    "year1_hourly, meta = Db.load_data(hourly=True, meta=True, year=1)"
   ],
   "metadata": {
    "collapsed": false,
    "pycharm": {
     "name": "#%%\n"
    }
   }
  },
  {
   "cell_type": "code",
   "execution_count": 15,
   "outputs": [],
   "source": [
    "year2_hourly, meta = Db.load_data(hourly=True, meta=True, year=2)"
   ],
   "metadata": {
    "collapsed": false,
    "pycharm": {
     "name": "#%%\n"
    }
   }
  },
  {
   "cell_type": "code",
   "execution_count": 16,
   "outputs": [],
   "source": [
    "plugs = meta.loc[(meta['Parameter'] == \"Status_OnOff\") & (meta[\"Measurement_Location\"] == \"Kitchen\") & (\n",
    "    meta[\"Unnamed: 0\"].str.contains(\"Plug\"))][\"Unnamed: 0\"].tolist()  #"
   ],
   "metadata": {
    "collapsed": false,
    "pycharm": {
     "name": "#%%\n"
    }
   }
  },
  {
   "cell_type": "code",
   "execution_count": 17,
   "outputs": [],
   "source": [
    "consumption = meta.loc[((meta['Parameter'] == \"Power_Electrical\") | (meta['Parameter'] == \"Power_Thermal\")) & (\n",
    "    meta[\"Description\"].str.contains(\"power consumption\" or \"used\"))][\"Unnamed: 0\"].tolist()"
   ],
   "metadata": {
    "collapsed": false,
    "pycharm": {
     "name": "#%%\n"
    }
   }
  },
  {
   "cell_type": "code",
   "execution_count": 18,
   "outputs": [
    {
     "data": {
      "text/plain": "                      Timestamp  Load_StatusPlugLoadBlender  \\\n0     2013-07-01 00:00:00-04:00                         0.0   \n1     2013-07-01 01:00:00-04:00                         0.0   \n2     2013-07-01 02:00:00-04:00                         0.0   \n3     2013-07-01 03:00:00-04:00                         0.0   \n4     2013-07-01 04:00:00-04:00                         0.0   \n...                         ...                         ...   \n8756  2014-06-30 20:00:00-04:00                         0.0   \n8757  2014-06-30 21:00:00-04:00                         0.0   \n8758  2014-06-30 22:00:00-04:00                         0.0   \n8759  2014-06-30 23:00:00-04:00                         0.0   \n8760  2014-07-01 00:00:00-04:00                         0.0   \n\n      Load_StatusPlugLoadToasterOven  Load_StatusPlugLoadSlowCooker  \\\n0                                0.0                            0.0   \n1                                0.0                            0.0   \n2                                0.0                            0.0   \n3                                0.0                            0.0   \n4                                0.0                            0.0   \n...                              ...                            ...   \n8756                             0.0                            0.0   \n8757                             0.0                            0.0   \n8758                             0.0                            0.0   \n8759                             0.0                            0.0   \n8760                             0.0                            0.0   \n\n      Load_StatusPlugLoadToaster  Load_StatusPlugLoadHandMixer  \\\n0                            0.0                           0.0   \n1                            0.0                           0.0   \n2                            0.0                           0.0   \n3                            0.0                           0.0   \n4                            0.0                           0.0   \n...                          ...                           ...   \n8756                         0.0                           0.0   \n8757                         0.0                           0.0   \n8758                         0.0                           0.0   \n8759                         0.0                           0.0   \n8760                         0.0                           0.0   \n\n      Load_StatusPlugLoadCanOpener  Load_StatusPlugLoadCoffeeMaker  Status  \n0                              0.0                             0.0     0.0  \n1                              0.0                             0.0     0.0  \n2                              0.0                             0.0     0.0  \n3                              0.0                             0.0     0.0  \n4                              0.0                             0.0     0.0  \n...                            ...                             ...     ...  \n8756                           0.0                             0.0     0.0  \n8757                           0.0                             0.0     0.0  \n8758                           0.0                             0.0     0.0  \n8759                           0.0                             0.0     0.0  \n8760                           0.0                             0.0     0.0  \n\n[8761 rows x 9 columns]",
      "text/html": "<div>\n<style scoped>\n    .dataframe tbody tr th:only-of-type {\n        vertical-align: middle;\n    }\n\n    .dataframe tbody tr th {\n        vertical-align: top;\n    }\n\n    .dataframe thead th {\n        text-align: right;\n    }\n</style>\n<table border=\"1\" class=\"dataframe\">\n  <thead>\n    <tr style=\"text-align: right;\">\n      <th></th>\n      <th>Timestamp</th>\n      <th>Load_StatusPlugLoadBlender</th>\n      <th>Load_StatusPlugLoadToasterOven</th>\n      <th>Load_StatusPlugLoadSlowCooker</th>\n      <th>Load_StatusPlugLoadToaster</th>\n      <th>Load_StatusPlugLoadHandMixer</th>\n      <th>Load_StatusPlugLoadCanOpener</th>\n      <th>Load_StatusPlugLoadCoffeeMaker</th>\n      <th>Status</th>\n    </tr>\n  </thead>\n  <tbody>\n    <tr>\n      <th>0</th>\n      <td>2013-07-01 00:00:00-04:00</td>\n      <td>0.0</td>\n      <td>0.0</td>\n      <td>0.0</td>\n      <td>0.0</td>\n      <td>0.0</td>\n      <td>0.0</td>\n      <td>0.0</td>\n      <td>0.0</td>\n    </tr>\n    <tr>\n      <th>1</th>\n      <td>2013-07-01 01:00:00-04:00</td>\n      <td>0.0</td>\n      <td>0.0</td>\n      <td>0.0</td>\n      <td>0.0</td>\n      <td>0.0</td>\n      <td>0.0</td>\n      <td>0.0</td>\n      <td>0.0</td>\n    </tr>\n    <tr>\n      <th>2</th>\n      <td>2013-07-01 02:00:00-04:00</td>\n      <td>0.0</td>\n      <td>0.0</td>\n      <td>0.0</td>\n      <td>0.0</td>\n      <td>0.0</td>\n      <td>0.0</td>\n      <td>0.0</td>\n      <td>0.0</td>\n    </tr>\n    <tr>\n      <th>3</th>\n      <td>2013-07-01 03:00:00-04:00</td>\n      <td>0.0</td>\n      <td>0.0</td>\n      <td>0.0</td>\n      <td>0.0</td>\n      <td>0.0</td>\n      <td>0.0</td>\n      <td>0.0</td>\n      <td>0.0</td>\n    </tr>\n    <tr>\n      <th>4</th>\n      <td>2013-07-01 04:00:00-04:00</td>\n      <td>0.0</td>\n      <td>0.0</td>\n      <td>0.0</td>\n      <td>0.0</td>\n      <td>0.0</td>\n      <td>0.0</td>\n      <td>0.0</td>\n      <td>0.0</td>\n    </tr>\n    <tr>\n      <th>...</th>\n      <td>...</td>\n      <td>...</td>\n      <td>...</td>\n      <td>...</td>\n      <td>...</td>\n      <td>...</td>\n      <td>...</td>\n      <td>...</td>\n      <td>...</td>\n    </tr>\n    <tr>\n      <th>8756</th>\n      <td>2014-06-30 20:00:00-04:00</td>\n      <td>0.0</td>\n      <td>0.0</td>\n      <td>0.0</td>\n      <td>0.0</td>\n      <td>0.0</td>\n      <td>0.0</td>\n      <td>0.0</td>\n      <td>0.0</td>\n    </tr>\n    <tr>\n      <th>8757</th>\n      <td>2014-06-30 21:00:00-04:00</td>\n      <td>0.0</td>\n      <td>0.0</td>\n      <td>0.0</td>\n      <td>0.0</td>\n      <td>0.0</td>\n      <td>0.0</td>\n      <td>0.0</td>\n      <td>0.0</td>\n    </tr>\n    <tr>\n      <th>8758</th>\n      <td>2014-06-30 22:00:00-04:00</td>\n      <td>0.0</td>\n      <td>0.0</td>\n      <td>0.0</td>\n      <td>0.0</td>\n      <td>0.0</td>\n      <td>0.0</td>\n      <td>0.0</td>\n      <td>0.0</td>\n    </tr>\n    <tr>\n      <th>8759</th>\n      <td>2014-06-30 23:00:00-04:00</td>\n      <td>0.0</td>\n      <td>0.0</td>\n      <td>0.0</td>\n      <td>0.0</td>\n      <td>0.0</td>\n      <td>0.0</td>\n      <td>0.0</td>\n      <td>0.0</td>\n    </tr>\n    <tr>\n      <th>8760</th>\n      <td>2014-07-01 00:00:00-04:00</td>\n      <td>0.0</td>\n      <td>0.0</td>\n      <td>0.0</td>\n      <td>0.0</td>\n      <td>0.0</td>\n      <td>0.0</td>\n      <td>0.0</td>\n      <td>0.0</td>\n    </tr>\n  </tbody>\n</table>\n<p>8761 rows × 9 columns</p>\n</div>"
     },
     "execution_count": 18,
     "metadata": {},
     "output_type": "execute_result"
    }
   ],
   "source": [
    "kitchenplugs = year1_hourly[[\"Timestamp\"] + plugs].copy()\n",
    "kitchenplugs[\"Status\"] = kitchenplugs[plugs].sum(axis=1)\n",
    "kitchenplugs"
   ],
   "metadata": {
    "collapsed": false,
    "pycharm": {
     "name": "#%%\n"
    }
   }
  },
  {
   "cell_type": "code",
   "execution_count": 19,
   "outputs": [
    {
     "data": {
      "text/plain": "                     Timestamp  Load_StatusPlugLoadBlender  \\\n0    2013-07-01 00:00:00+00:00                         0.0   \n1    2013-07-01 01:00:00+00:00                         0.0   \n2    2013-07-01 02:00:00+00:00                         0.0   \n3    2013-07-01 03:00:00+00:00                         0.0   \n4    2013-07-01 04:00:00+00:00                         0.0   \n...                        ...                         ...   \n8756 2014-06-30 20:00:00+00:00                         0.0   \n8757 2014-06-30 21:00:00+00:00                         0.0   \n8758 2014-06-30 22:00:00+00:00                         0.0   \n8759 2014-06-30 23:00:00+00:00                         0.0   \n8760 2014-07-01 00:00:00+00:00                         0.0   \n\n      Load_StatusPlugLoadToasterOven  Load_StatusPlugLoadSlowCooker  \\\n0                                0.0                            0.0   \n1                                0.0                            0.0   \n2                                0.0                            0.0   \n3                                0.0                            0.0   \n4                                0.0                            0.0   \n...                              ...                            ...   \n8756                             0.0                            0.0   \n8757                             0.0                            0.0   \n8758                             0.0                            0.0   \n8759                             0.0                            0.0   \n8760                             0.0                            0.0   \n\n      Load_StatusPlugLoadToaster  Load_StatusPlugLoadHandMixer  \\\n0                            0.0                           0.0   \n1                            0.0                           0.0   \n2                            0.0                           0.0   \n3                            0.0                           0.0   \n4                            0.0                           0.0   \n...                          ...                           ...   \n8756                         0.0                           0.0   \n8757                         0.0                           0.0   \n8758                         0.0                           0.0   \n8759                         0.0                           0.0   \n8760                         0.0                           0.0   \n\n      Load_StatusPlugLoadCanOpener  Load_StatusPlugLoadCoffeeMaker  Status  \\\n0                              0.0                             0.0     0.0   \n1                              0.0                             0.0     0.0   \n2                              0.0                             0.0     0.0   \n3                              0.0                             0.0     0.0   \n4                              0.0                             0.0     0.0   \n...                            ...                             ...     ...   \n8756                           0.0                             0.0     0.0   \n8757                           0.0                             0.0     0.0   \n8758                           0.0                             0.0     0.0   \n8759                           0.0                             0.0     0.0   \n8760                           0.0                             0.0     0.0   \n\n      HourOfTimestamp  \n0                   0  \n1                   1  \n2                   2  \n3                   3  \n4                   4  \n...               ...  \n8756               20  \n8757               21  \n8758               22  \n8759               23  \n8760                0  \n\n[8761 rows x 10 columns]",
      "text/html": "<div>\n<style scoped>\n    .dataframe tbody tr th:only-of-type {\n        vertical-align: middle;\n    }\n\n    .dataframe tbody tr th {\n        vertical-align: top;\n    }\n\n    .dataframe thead th {\n        text-align: right;\n    }\n</style>\n<table border=\"1\" class=\"dataframe\">\n  <thead>\n    <tr style=\"text-align: right;\">\n      <th></th>\n      <th>Timestamp</th>\n      <th>Load_StatusPlugLoadBlender</th>\n      <th>Load_StatusPlugLoadToasterOven</th>\n      <th>Load_StatusPlugLoadSlowCooker</th>\n      <th>Load_StatusPlugLoadToaster</th>\n      <th>Load_StatusPlugLoadHandMixer</th>\n      <th>Load_StatusPlugLoadCanOpener</th>\n      <th>Load_StatusPlugLoadCoffeeMaker</th>\n      <th>Status</th>\n      <th>HourOfTimestamp</th>\n    </tr>\n  </thead>\n  <tbody>\n    <tr>\n      <th>0</th>\n      <td>2013-07-01 00:00:00+00:00</td>\n      <td>0.0</td>\n      <td>0.0</td>\n      <td>0.0</td>\n      <td>0.0</td>\n      <td>0.0</td>\n      <td>0.0</td>\n      <td>0.0</td>\n      <td>0.0</td>\n      <td>0</td>\n    </tr>\n    <tr>\n      <th>1</th>\n      <td>2013-07-01 01:00:00+00:00</td>\n      <td>0.0</td>\n      <td>0.0</td>\n      <td>0.0</td>\n      <td>0.0</td>\n      <td>0.0</td>\n      <td>0.0</td>\n      <td>0.0</td>\n      <td>0.0</td>\n      <td>1</td>\n    </tr>\n    <tr>\n      <th>2</th>\n      <td>2013-07-01 02:00:00+00:00</td>\n      <td>0.0</td>\n      <td>0.0</td>\n      <td>0.0</td>\n      <td>0.0</td>\n      <td>0.0</td>\n      <td>0.0</td>\n      <td>0.0</td>\n      <td>0.0</td>\n      <td>2</td>\n    </tr>\n    <tr>\n      <th>3</th>\n      <td>2013-07-01 03:00:00+00:00</td>\n      <td>0.0</td>\n      <td>0.0</td>\n      <td>0.0</td>\n      <td>0.0</td>\n      <td>0.0</td>\n      <td>0.0</td>\n      <td>0.0</td>\n      <td>0.0</td>\n      <td>3</td>\n    </tr>\n    <tr>\n      <th>4</th>\n      <td>2013-07-01 04:00:00+00:00</td>\n      <td>0.0</td>\n      <td>0.0</td>\n      <td>0.0</td>\n      <td>0.0</td>\n      <td>0.0</td>\n      <td>0.0</td>\n      <td>0.0</td>\n      <td>0.0</td>\n      <td>4</td>\n    </tr>\n    <tr>\n      <th>...</th>\n      <td>...</td>\n      <td>...</td>\n      <td>...</td>\n      <td>...</td>\n      <td>...</td>\n      <td>...</td>\n      <td>...</td>\n      <td>...</td>\n      <td>...</td>\n      <td>...</td>\n    </tr>\n    <tr>\n      <th>8756</th>\n      <td>2014-06-30 20:00:00+00:00</td>\n      <td>0.0</td>\n      <td>0.0</td>\n      <td>0.0</td>\n      <td>0.0</td>\n      <td>0.0</td>\n      <td>0.0</td>\n      <td>0.0</td>\n      <td>0.0</td>\n      <td>20</td>\n    </tr>\n    <tr>\n      <th>8757</th>\n      <td>2014-06-30 21:00:00+00:00</td>\n      <td>0.0</td>\n      <td>0.0</td>\n      <td>0.0</td>\n      <td>0.0</td>\n      <td>0.0</td>\n      <td>0.0</td>\n      <td>0.0</td>\n      <td>0.0</td>\n      <td>21</td>\n    </tr>\n    <tr>\n      <th>8758</th>\n      <td>2014-06-30 22:00:00+00:00</td>\n      <td>0.0</td>\n      <td>0.0</td>\n      <td>0.0</td>\n      <td>0.0</td>\n      <td>0.0</td>\n      <td>0.0</td>\n      <td>0.0</td>\n      <td>0.0</td>\n      <td>22</td>\n    </tr>\n    <tr>\n      <th>8759</th>\n      <td>2014-06-30 23:00:00+00:00</td>\n      <td>0.0</td>\n      <td>0.0</td>\n      <td>0.0</td>\n      <td>0.0</td>\n      <td>0.0</td>\n      <td>0.0</td>\n      <td>0.0</td>\n      <td>0.0</td>\n      <td>23</td>\n    </tr>\n    <tr>\n      <th>8760</th>\n      <td>2014-07-01 00:00:00+00:00</td>\n      <td>0.0</td>\n      <td>0.0</td>\n      <td>0.0</td>\n      <td>0.0</td>\n      <td>0.0</td>\n      <td>0.0</td>\n      <td>0.0</td>\n      <td>0.0</td>\n      <td>0</td>\n    </tr>\n  </tbody>\n</table>\n<p>8761 rows × 10 columns</p>\n</div>"
     },
     "execution_count": 19,
     "metadata": {},
     "output_type": "execute_result"
    }
   ],
   "source": [
    "#Forces Timestamp to the type of datetime, to extract the hour of Timestamp.\n",
    "kitchenplugs['Timestamp'] = pd.to_datetime(kitchenplugs['Timestamp'], errors=\"coerce\", utc=True,\n",
    "                                           format=\"%Y-%m-%d %H:%M:%S%z\")\n",
    "\n",
    "for index in kitchenplugs.index:\n",
    "    kitchenplugs.loc[index, \"Timestamp\"] = kitchenplugs.loc[index, \"Timestamp\"] - datetime.timedelta(\n",
    "        seconds=(int(str(year1_hourly.loc[index, \"Timestamp\"]).split(\"-\")[-1][1])) * 3_600)\n",
    "\n",
    "#Extracts hour of Timestamp.\n",
    "kitchenplugs[\"HourOfTimestamp\"] = kitchenplugs.Timestamp.dt.hour\n",
    "\n",
    "#Replaces values to be binary 0 or 1.\n",
    "for i in plugs:\n",
    "    kitchenplugs.loc[kitchenplugs[i] < 0, i] = 0\n",
    "    kitchenplugs.loc[kitchenplugs[i] > 0, i] = 1\n",
    "\n",
    "kitchenplugs"
   ],
   "metadata": {
    "collapsed": false,
    "pycharm": {
     "name": "#%%\n"
    }
   }
  },
  {
   "cell_type": "code",
   "execution_count": 20,
   "outputs": [
    {
     "data": {
      "text/plain": "    HourOfTimestamp  Load_StatusPlugLoadHandMixer  size\n3                 2                           1.0     2\n20               18                           1.0   309\n22               19                           1.0    51",
      "text/html": "<div>\n<style scoped>\n    .dataframe tbody tr th:only-of-type {\n        vertical-align: middle;\n    }\n\n    .dataframe tbody tr th {\n        vertical-align: top;\n    }\n\n    .dataframe thead th {\n        text-align: right;\n    }\n</style>\n<table border=\"1\" class=\"dataframe\">\n  <thead>\n    <tr style=\"text-align: right;\">\n      <th></th>\n      <th>HourOfTimestamp</th>\n      <th>Load_StatusPlugLoadHandMixer</th>\n      <th>size</th>\n    </tr>\n  </thead>\n  <tbody>\n    <tr>\n      <th>3</th>\n      <td>2</td>\n      <td>1.0</td>\n      <td>2</td>\n    </tr>\n    <tr>\n      <th>20</th>\n      <td>18</td>\n      <td>1.0</td>\n      <td>309</td>\n    </tr>\n    <tr>\n      <th>22</th>\n      <td>19</td>\n      <td>1.0</td>\n      <td>51</td>\n    </tr>\n  </tbody>\n</table>\n</div>"
     },
     "execution_count": 20,
     "metadata": {},
     "output_type": "execute_result"
    }
   ],
   "source": [
    "#Creates a dataframe with counts of \"StatusOffOn\" = 1, grouped by HourOfTimestamp for a selected attribute in kitchenplugs\n",
    "count_series = kitchenplugs.groupby([\"HourOfTimestamp\", \"Load_StatusPlugLoadHandMixer\"]).size().copy()\n",
    "\n",
    "new_df = count_series.to_frame(name='size').reset_index()\n",
    "\n",
    "only_on = new_df.loc[new_df[\"Load_StatusPlugLoadHandMixer\"] == 1]\n",
    "only_on"
   ],
   "metadata": {
    "collapsed": false,
    "pycharm": {
     "name": "#%%\n"
    }
   }
  },
  {
   "cell_type": "code",
   "execution_count": 21,
   "outputs": [
    {
     "data": {
      "text/plain": "                 Load_StatusPlugLoadBlender  Load_StatusPlugLoadToasterOven  \\\nHourOfTimestamp                                                               \n0                                       0.0                             0.0   \n1                                       0.0                             0.0   \n2                                       0.0                             0.0   \n3                                       0.0                             0.0   \n4                                       0.0                             0.0   \n5                                       0.0                             0.0   \n6                                     256.0                           256.0   \n7                                       0.0                             0.0   \n8                                       0.0                             0.0   \n9                                     101.0                           101.0   \n10                                      0.0                             0.0   \n11                                      0.0                             0.0   \n12                                      0.0                             0.0   \n13                                      0.0                             0.0   \n14                                      0.0                             0.0   \n15                                      0.0                             0.0   \n16                                      0.0                             0.0   \n17                                      1.0                             1.0   \n18                                      0.0                             0.0   \n19                                      0.0                             0.0   \n20                                      0.0                             1.0   \n21                                      0.0                             2.0   \n22                                      0.0                             2.0   \n23                                      0.0                             0.0   \n\n                 Load_StatusPlugLoadSlowCooker  Load_StatusPlugLoadToaster  \\\nHourOfTimestamp                                                              \n0                                          0.0                         0.0   \n1                                          0.0                         0.0   \n2                                          0.0                         0.0   \n3                                          0.0                         0.0   \n4                                          0.0                         0.0   \n5                                          0.0                         0.0   \n6                                          0.0                       256.0   \n7                                          0.0                         0.0   \n8                                         52.0                         0.0   \n9                                        102.0                       101.0   \n10                                        50.0                         0.0   \n11                                         0.0                         0.0   \n12                                         0.0                         0.0   \n13                                         0.0                         0.0   \n14                                         0.0                         0.0   \n15                                         0.0                         0.0   \n16                                         0.0                         0.0   \n17                                         0.0                         1.0   \n18                                         0.0                         0.0   \n19                                         0.0                         0.0   \n20                                         0.0                         0.0   \n21                                         0.0                         0.0   \n22                                         0.0                         0.0   \n23                                         0.0                         0.0   \n\n                 Load_StatusPlugLoadHandMixer  Load_StatusPlugLoadCanOpener  \\\nHourOfTimestamp                                                               \n0                                         0.0                           0.0   \n1                                         0.0                           0.0   \n2                                         2.0                           2.0   \n3                                         0.0                           0.0   \n4                                         0.0                           0.0   \n5                                         0.0                           0.0   \n6                                         0.0                           0.0   \n7                                         0.0                           0.0   \n8                                         0.0                           0.0   \n9                                         0.0                           0.0   \n10                                        0.0                           0.0   \n11                                        0.0                           0.0   \n12                                        0.0                           0.0   \n13                                        0.0                           0.0   \n14                                        0.0                           0.0   \n15                                        0.0                           0.0   \n16                                        0.0                           0.0   \n17                                        0.0                           0.0   \n18                                      309.0                         309.0   \n19                                       51.0                          51.0   \n20                                        0.0                           2.0   \n21                                        0.0                           2.0   \n22                                        0.0                           3.0   \n23                                        0.0                           6.0   \n\n                 Load_StatusPlugLoadCoffeeMaker  \nHourOfTimestamp                                  \n0                                           0.0  \n1                                           0.0  \n2                                           0.0  \n3                                           0.0  \n4                                           0.0  \n5                                           0.0  \n6                                         256.0  \n7                                          13.0  \n8                                           0.0  \n9                                         101.0  \n10                                          6.0  \n11                                          0.0  \n12                                          6.0  \n13                                          0.0  \n14                                          0.0  \n15                                          0.0  \n16                                          1.0  \n17                                          1.0  \n18                                         16.0  \n19                                          0.0  \n20                                          0.0  \n21                                          0.0  \n22                                          0.0  \n23                                          0.0  ",
      "text/html": "<div>\n<style scoped>\n    .dataframe tbody tr th:only-of-type {\n        vertical-align: middle;\n    }\n\n    .dataframe tbody tr th {\n        vertical-align: top;\n    }\n\n    .dataframe thead th {\n        text-align: right;\n    }\n</style>\n<table border=\"1\" class=\"dataframe\">\n  <thead>\n    <tr style=\"text-align: right;\">\n      <th></th>\n      <th>Load_StatusPlugLoadBlender</th>\n      <th>Load_StatusPlugLoadToasterOven</th>\n      <th>Load_StatusPlugLoadSlowCooker</th>\n      <th>Load_StatusPlugLoadToaster</th>\n      <th>Load_StatusPlugLoadHandMixer</th>\n      <th>Load_StatusPlugLoadCanOpener</th>\n      <th>Load_StatusPlugLoadCoffeeMaker</th>\n    </tr>\n    <tr>\n      <th>HourOfTimestamp</th>\n      <th></th>\n      <th></th>\n      <th></th>\n      <th></th>\n      <th></th>\n      <th></th>\n      <th></th>\n    </tr>\n  </thead>\n  <tbody>\n    <tr>\n      <th>0</th>\n      <td>0.0</td>\n      <td>0.0</td>\n      <td>0.0</td>\n      <td>0.0</td>\n      <td>0.0</td>\n      <td>0.0</td>\n      <td>0.0</td>\n    </tr>\n    <tr>\n      <th>1</th>\n      <td>0.0</td>\n      <td>0.0</td>\n      <td>0.0</td>\n      <td>0.0</td>\n      <td>0.0</td>\n      <td>0.0</td>\n      <td>0.0</td>\n    </tr>\n    <tr>\n      <th>2</th>\n      <td>0.0</td>\n      <td>0.0</td>\n      <td>0.0</td>\n      <td>0.0</td>\n      <td>2.0</td>\n      <td>2.0</td>\n      <td>0.0</td>\n    </tr>\n    <tr>\n      <th>3</th>\n      <td>0.0</td>\n      <td>0.0</td>\n      <td>0.0</td>\n      <td>0.0</td>\n      <td>0.0</td>\n      <td>0.0</td>\n      <td>0.0</td>\n    </tr>\n    <tr>\n      <th>4</th>\n      <td>0.0</td>\n      <td>0.0</td>\n      <td>0.0</td>\n      <td>0.0</td>\n      <td>0.0</td>\n      <td>0.0</td>\n      <td>0.0</td>\n    </tr>\n    <tr>\n      <th>5</th>\n      <td>0.0</td>\n      <td>0.0</td>\n      <td>0.0</td>\n      <td>0.0</td>\n      <td>0.0</td>\n      <td>0.0</td>\n      <td>0.0</td>\n    </tr>\n    <tr>\n      <th>6</th>\n      <td>256.0</td>\n      <td>256.0</td>\n      <td>0.0</td>\n      <td>256.0</td>\n      <td>0.0</td>\n      <td>0.0</td>\n      <td>256.0</td>\n    </tr>\n    <tr>\n      <th>7</th>\n      <td>0.0</td>\n      <td>0.0</td>\n      <td>0.0</td>\n      <td>0.0</td>\n      <td>0.0</td>\n      <td>0.0</td>\n      <td>13.0</td>\n    </tr>\n    <tr>\n      <th>8</th>\n      <td>0.0</td>\n      <td>0.0</td>\n      <td>52.0</td>\n      <td>0.0</td>\n      <td>0.0</td>\n      <td>0.0</td>\n      <td>0.0</td>\n    </tr>\n    <tr>\n      <th>9</th>\n      <td>101.0</td>\n      <td>101.0</td>\n      <td>102.0</td>\n      <td>101.0</td>\n      <td>0.0</td>\n      <td>0.0</td>\n      <td>101.0</td>\n    </tr>\n    <tr>\n      <th>10</th>\n      <td>0.0</td>\n      <td>0.0</td>\n      <td>50.0</td>\n      <td>0.0</td>\n      <td>0.0</td>\n      <td>0.0</td>\n      <td>6.0</td>\n    </tr>\n    <tr>\n      <th>11</th>\n      <td>0.0</td>\n      <td>0.0</td>\n      <td>0.0</td>\n      <td>0.0</td>\n      <td>0.0</td>\n      <td>0.0</td>\n      <td>0.0</td>\n    </tr>\n    <tr>\n      <th>12</th>\n      <td>0.0</td>\n      <td>0.0</td>\n      <td>0.0</td>\n      <td>0.0</td>\n      <td>0.0</td>\n      <td>0.0</td>\n      <td>6.0</td>\n    </tr>\n    <tr>\n      <th>13</th>\n      <td>0.0</td>\n      <td>0.0</td>\n      <td>0.0</td>\n      <td>0.0</td>\n      <td>0.0</td>\n      <td>0.0</td>\n      <td>0.0</td>\n    </tr>\n    <tr>\n      <th>14</th>\n      <td>0.0</td>\n      <td>0.0</td>\n      <td>0.0</td>\n      <td>0.0</td>\n      <td>0.0</td>\n      <td>0.0</td>\n      <td>0.0</td>\n    </tr>\n    <tr>\n      <th>15</th>\n      <td>0.0</td>\n      <td>0.0</td>\n      <td>0.0</td>\n      <td>0.0</td>\n      <td>0.0</td>\n      <td>0.0</td>\n      <td>0.0</td>\n    </tr>\n    <tr>\n      <th>16</th>\n      <td>0.0</td>\n      <td>0.0</td>\n      <td>0.0</td>\n      <td>0.0</td>\n      <td>0.0</td>\n      <td>0.0</td>\n      <td>1.0</td>\n    </tr>\n    <tr>\n      <th>17</th>\n      <td>1.0</td>\n      <td>1.0</td>\n      <td>0.0</td>\n      <td>1.0</td>\n      <td>0.0</td>\n      <td>0.0</td>\n      <td>1.0</td>\n    </tr>\n    <tr>\n      <th>18</th>\n      <td>0.0</td>\n      <td>0.0</td>\n      <td>0.0</td>\n      <td>0.0</td>\n      <td>309.0</td>\n      <td>309.0</td>\n      <td>16.0</td>\n    </tr>\n    <tr>\n      <th>19</th>\n      <td>0.0</td>\n      <td>0.0</td>\n      <td>0.0</td>\n      <td>0.0</td>\n      <td>51.0</td>\n      <td>51.0</td>\n      <td>0.0</td>\n    </tr>\n    <tr>\n      <th>20</th>\n      <td>0.0</td>\n      <td>1.0</td>\n      <td>0.0</td>\n      <td>0.0</td>\n      <td>0.0</td>\n      <td>2.0</td>\n      <td>0.0</td>\n    </tr>\n    <tr>\n      <th>21</th>\n      <td>0.0</td>\n      <td>2.0</td>\n      <td>0.0</td>\n      <td>0.0</td>\n      <td>0.0</td>\n      <td>2.0</td>\n      <td>0.0</td>\n    </tr>\n    <tr>\n      <th>22</th>\n      <td>0.0</td>\n      <td>2.0</td>\n      <td>0.0</td>\n      <td>0.0</td>\n      <td>0.0</td>\n      <td>3.0</td>\n      <td>0.0</td>\n    </tr>\n    <tr>\n      <th>23</th>\n      <td>0.0</td>\n      <td>0.0</td>\n      <td>0.0</td>\n      <td>0.0</td>\n      <td>0.0</td>\n      <td>6.0</td>\n      <td>0.0</td>\n    </tr>\n  </tbody>\n</table>\n</div>"
     },
     "execution_count": 21,
     "metadata": {},
     "output_type": "execute_result"
    }
   ],
   "source": [
    "hourON = kitchenplugs.groupby([\"HourOfTimestamp\"])[plugs].sum()\n",
    "hourON"
   ],
   "metadata": {
    "collapsed": false,
    "pycharm": {
     "name": "#%%\n"
    }
   }
  },
  {
   "cell_type": "code",
   "execution_count": 22,
   "outputs": [
    {
     "data": {
      "text/plain": "    HourOfTimestamp  Load_StatusPlugLoadBlender   \\\n0                 0                          0.0   \n1                 1                          0.0   \n2                 2                          0.0   \n3                 3                          0.0   \n4                 4                          0.0   \n5                 5                          0.0   \n6                 6                        256.0   \n7                 7                          0.0   \n8                 8                          0.0   \n9                 9                        101.0   \n10               10                          0.0   \n11               11                          0.0   \n12               12                          0.0   \n13               13                          0.0   \n14               14                          0.0   \n15               15                          0.0   \n16               16                          0.0   \n17               17                          1.0   \n18               18                          0.0   \n19               19                          0.0   \n20               20                          0.0   \n21               21                          0.0   \n22               22                          0.0   \n23               23                          0.0   \n\n    Load_StatusPlugLoadToasterOven   Load_StatusPlugLoadSlowCooker   \\\n0                               0.0                             0.0   \n1                               0.0                             0.0   \n2                               0.0                             0.0   \n3                               0.0                             0.0   \n4                               0.0                             0.0   \n5                               0.0                             0.0   \n6                             256.0                             0.0   \n7                               0.0                             0.0   \n8                               0.0                            52.0   \n9                             101.0                           102.0   \n10                              0.0                            50.0   \n11                              0.0                             0.0   \n12                              0.0                             0.0   \n13                              0.0                             0.0   \n14                              0.0                             0.0   \n15                              0.0                             0.0   \n16                              0.0                             0.0   \n17                              1.0                             0.0   \n18                              0.0                             0.0   \n19                              0.0                             0.0   \n20                              1.0                             0.0   \n21                              2.0                             0.0   \n22                              2.0                             0.0   \n23                              0.0                             0.0   \n\n    Load_StatusPlugLoadToaster   Load_StatusPlugLoadHandMixer   \\\n0                           0.0                            0.0   \n1                           0.0                            0.0   \n2                           0.0                            2.0   \n3                           0.0                            0.0   \n4                           0.0                            0.0   \n5                           0.0                            0.0   \n6                         256.0                            0.0   \n7                           0.0                            0.0   \n8                           0.0                            0.0   \n9                         101.0                            0.0   \n10                          0.0                            0.0   \n11                          0.0                            0.0   \n12                          0.0                            0.0   \n13                          0.0                            0.0   \n14                          0.0                            0.0   \n15                          0.0                            0.0   \n16                          0.0                            0.0   \n17                          1.0                            0.0   \n18                          0.0                          309.0   \n19                          0.0                           51.0   \n20                          0.0                            0.0   \n21                          0.0                            0.0   \n22                          0.0                            0.0   \n23                          0.0                            0.0   \n\n    Load_StatusPlugLoadCanOpener   Load_StatusPlugLoadCoffeeMaker   \n0                             0.0                              0.0  \n1                             0.0                              0.0  \n2                             2.0                              0.0  \n3                             0.0                              0.0  \n4                             0.0                              0.0  \n5                             0.0                              0.0  \n6                             0.0                            256.0  \n7                             0.0                             13.0  \n8                             0.0                              0.0  \n9                             0.0                            101.0  \n10                            0.0                              6.0  \n11                            0.0                              0.0  \n12                            0.0                              6.0  \n13                            0.0                              0.0  \n14                            0.0                              0.0  \n15                            0.0                              0.0  \n16                            0.0                              1.0  \n17                            0.0                              1.0  \n18                          309.0                             16.0  \n19                           51.0                              0.0  \n20                            2.0                              0.0  \n21                            2.0                              0.0  \n22                            3.0                              0.0  \n23                            6.0                              0.0  ",
      "text/html": "<div>\n<style scoped>\n    .dataframe tbody tr th:only-of-type {\n        vertical-align: middle;\n    }\n\n    .dataframe tbody tr th {\n        vertical-align: top;\n    }\n\n    .dataframe thead th {\n        text-align: right;\n    }\n</style>\n<table border=\"1\" class=\"dataframe\">\n  <thead>\n    <tr style=\"text-align: right;\">\n      <th></th>\n      <th>HourOfTimestamp</th>\n      <th>Load_StatusPlugLoadBlender</th>\n      <th>Load_StatusPlugLoadToasterOven</th>\n      <th>Load_StatusPlugLoadSlowCooker</th>\n      <th>Load_StatusPlugLoadToaster</th>\n      <th>Load_StatusPlugLoadHandMixer</th>\n      <th>Load_StatusPlugLoadCanOpener</th>\n      <th>Load_StatusPlugLoadCoffeeMaker</th>\n    </tr>\n  </thead>\n  <tbody>\n    <tr>\n      <th>0</th>\n      <td>0</td>\n      <td>0.0</td>\n      <td>0.0</td>\n      <td>0.0</td>\n      <td>0.0</td>\n      <td>0.0</td>\n      <td>0.0</td>\n      <td>0.0</td>\n    </tr>\n    <tr>\n      <th>1</th>\n      <td>1</td>\n      <td>0.0</td>\n      <td>0.0</td>\n      <td>0.0</td>\n      <td>0.0</td>\n      <td>0.0</td>\n      <td>0.0</td>\n      <td>0.0</td>\n    </tr>\n    <tr>\n      <th>2</th>\n      <td>2</td>\n      <td>0.0</td>\n      <td>0.0</td>\n      <td>0.0</td>\n      <td>0.0</td>\n      <td>2.0</td>\n      <td>2.0</td>\n      <td>0.0</td>\n    </tr>\n    <tr>\n      <th>3</th>\n      <td>3</td>\n      <td>0.0</td>\n      <td>0.0</td>\n      <td>0.0</td>\n      <td>0.0</td>\n      <td>0.0</td>\n      <td>0.0</td>\n      <td>0.0</td>\n    </tr>\n    <tr>\n      <th>4</th>\n      <td>4</td>\n      <td>0.0</td>\n      <td>0.0</td>\n      <td>0.0</td>\n      <td>0.0</td>\n      <td>0.0</td>\n      <td>0.0</td>\n      <td>0.0</td>\n    </tr>\n    <tr>\n      <th>5</th>\n      <td>5</td>\n      <td>0.0</td>\n      <td>0.0</td>\n      <td>0.0</td>\n      <td>0.0</td>\n      <td>0.0</td>\n      <td>0.0</td>\n      <td>0.0</td>\n    </tr>\n    <tr>\n      <th>6</th>\n      <td>6</td>\n      <td>256.0</td>\n      <td>256.0</td>\n      <td>0.0</td>\n      <td>256.0</td>\n      <td>0.0</td>\n      <td>0.0</td>\n      <td>256.0</td>\n    </tr>\n    <tr>\n      <th>7</th>\n      <td>7</td>\n      <td>0.0</td>\n      <td>0.0</td>\n      <td>0.0</td>\n      <td>0.0</td>\n      <td>0.0</td>\n      <td>0.0</td>\n      <td>13.0</td>\n    </tr>\n    <tr>\n      <th>8</th>\n      <td>8</td>\n      <td>0.0</td>\n      <td>0.0</td>\n      <td>52.0</td>\n      <td>0.0</td>\n      <td>0.0</td>\n      <td>0.0</td>\n      <td>0.0</td>\n    </tr>\n    <tr>\n      <th>9</th>\n      <td>9</td>\n      <td>101.0</td>\n      <td>101.0</td>\n      <td>102.0</td>\n      <td>101.0</td>\n      <td>0.0</td>\n      <td>0.0</td>\n      <td>101.0</td>\n    </tr>\n    <tr>\n      <th>10</th>\n      <td>10</td>\n      <td>0.0</td>\n      <td>0.0</td>\n      <td>50.0</td>\n      <td>0.0</td>\n      <td>0.0</td>\n      <td>0.0</td>\n      <td>6.0</td>\n    </tr>\n    <tr>\n      <th>11</th>\n      <td>11</td>\n      <td>0.0</td>\n      <td>0.0</td>\n      <td>0.0</td>\n      <td>0.0</td>\n      <td>0.0</td>\n      <td>0.0</td>\n      <td>0.0</td>\n    </tr>\n    <tr>\n      <th>12</th>\n      <td>12</td>\n      <td>0.0</td>\n      <td>0.0</td>\n      <td>0.0</td>\n      <td>0.0</td>\n      <td>0.0</td>\n      <td>0.0</td>\n      <td>6.0</td>\n    </tr>\n    <tr>\n      <th>13</th>\n      <td>13</td>\n      <td>0.0</td>\n      <td>0.0</td>\n      <td>0.0</td>\n      <td>0.0</td>\n      <td>0.0</td>\n      <td>0.0</td>\n      <td>0.0</td>\n    </tr>\n    <tr>\n      <th>14</th>\n      <td>14</td>\n      <td>0.0</td>\n      <td>0.0</td>\n      <td>0.0</td>\n      <td>0.0</td>\n      <td>0.0</td>\n      <td>0.0</td>\n      <td>0.0</td>\n    </tr>\n    <tr>\n      <th>15</th>\n      <td>15</td>\n      <td>0.0</td>\n      <td>0.0</td>\n      <td>0.0</td>\n      <td>0.0</td>\n      <td>0.0</td>\n      <td>0.0</td>\n      <td>0.0</td>\n    </tr>\n    <tr>\n      <th>16</th>\n      <td>16</td>\n      <td>0.0</td>\n      <td>0.0</td>\n      <td>0.0</td>\n      <td>0.0</td>\n      <td>0.0</td>\n      <td>0.0</td>\n      <td>1.0</td>\n    </tr>\n    <tr>\n      <th>17</th>\n      <td>17</td>\n      <td>1.0</td>\n      <td>1.0</td>\n      <td>0.0</td>\n      <td>1.0</td>\n      <td>0.0</td>\n      <td>0.0</td>\n      <td>1.0</td>\n    </tr>\n    <tr>\n      <th>18</th>\n      <td>18</td>\n      <td>0.0</td>\n      <td>0.0</td>\n      <td>0.0</td>\n      <td>0.0</td>\n      <td>309.0</td>\n      <td>309.0</td>\n      <td>16.0</td>\n    </tr>\n    <tr>\n      <th>19</th>\n      <td>19</td>\n      <td>0.0</td>\n      <td>0.0</td>\n      <td>0.0</td>\n      <td>0.0</td>\n      <td>51.0</td>\n      <td>51.0</td>\n      <td>0.0</td>\n    </tr>\n    <tr>\n      <th>20</th>\n      <td>20</td>\n      <td>0.0</td>\n      <td>1.0</td>\n      <td>0.0</td>\n      <td>0.0</td>\n      <td>0.0</td>\n      <td>2.0</td>\n      <td>0.0</td>\n    </tr>\n    <tr>\n      <th>21</th>\n      <td>21</td>\n      <td>0.0</td>\n      <td>2.0</td>\n      <td>0.0</td>\n      <td>0.0</td>\n      <td>0.0</td>\n      <td>2.0</td>\n      <td>0.0</td>\n    </tr>\n    <tr>\n      <th>22</th>\n      <td>22</td>\n      <td>0.0</td>\n      <td>2.0</td>\n      <td>0.0</td>\n      <td>0.0</td>\n      <td>0.0</td>\n      <td>3.0</td>\n      <td>0.0</td>\n    </tr>\n    <tr>\n      <th>23</th>\n      <td>23</td>\n      <td>0.0</td>\n      <td>0.0</td>\n      <td>0.0</td>\n      <td>0.0</td>\n      <td>0.0</td>\n      <td>6.0</td>\n      <td>0.0</td>\n    </tr>\n  </tbody>\n</table>\n</div>"
     },
     "execution_count": 22,
     "metadata": {},
     "output_type": "execute_result"
    }
   ],
   "source": [
    "#Creates a dataframe with counts of \"StatusOffOn\" = 1, grouped by HourOfTimestamp for all attributes in kitchenplugs\n",
    "\n",
    "dataframes = list()\n",
    "for i in plugs:\n",
    "    count_series = kitchenplugs.groupby([\"HourOfTimestamp\", i]).size()\n",
    "\n",
    "    new_df = count_series.to_frame(name=f'{i} ').reset_index()\n",
    "\n",
    "    only_on = new_df.loc[new_df[i] == 1].copy()\n",
    "    only_on.drop(columns=[i], inplace=True)\n",
    "    dataframes.append(only_on)\n",
    "\n",
    "hourON = pd.DataFrame(list(range(0, 24)), columns=[\"HourOfTimestamp\"])\n",
    "for i in dataframes:\n",
    "    hourON = hourON.merge(i, how=\"outer\", on=\"HourOfTimestamp\").fillna(0).sort_values(by='HourOfTimestamp',\n",
    "                                                                                      ascending=True)\n",
    "\n",
    "hourON"
   ],
   "metadata": {
    "collapsed": false,
    "pycharm": {
     "name": "#%%\n"
    }
   }
  },
  {
   "cell_type": "code",
   "execution_count": 23,
   "outputs": [],
   "source": [
    "def normalise_dataframe(df):\n",
    "    '''\n",
    "    Normalises values of all attributes in a dataframe, with minmax method.\n",
    "    :param df:\n",
    "    :type df:\n",
    "    :return:\n",
    "    :rtype:\n",
    "    '''\n",
    "    normalised_df = df.copy()\n",
    "\n",
    "    for column in normalised_df:\n",
    "        try:\n",
    "            normalised_df[column] = (normalised_df[column] - normalised_df[column].min()) / (\n",
    "                    normalised_df[column].max() - normalised_df[column].min())\n",
    "        except:\n",
    "            normalised_df[column] = normalised_df[column]\n",
    "\n",
    "    return normalised_df"
   ],
   "metadata": {
    "collapsed": false,
    "pycharm": {
     "name": "#%%\n"
    }
   }
  },
  {
   "cell_type": "code",
   "execution_count": 29,
   "metadata": {
    "collapsed": true
   },
   "outputs": [
    {
     "name": "stderr",
     "output_type": "stream",
     "text": [
      "/Users/christiannielsen/Documents/Conda_environments/lib/python3.9/site-packages/plotly/graph_objs/_deprecations.py:62: DeprecationWarning:\n",
      "\n",
      "plotly.graph_objs.Annotations is deprecated.\n",
      "Please replace it with a list or tuple of instances of the following types\n",
      "  - plotly.graph_objs.layout.Annotation\n",
      "  - plotly.graph_objs.layout.scene.Annotation\n",
      "\n",
      "\n",
      "/Users/christiannielsen/Documents/Conda_environments/lib/python3.9/site-packages/plotly/graph_objs/_deprecations.py:143: DeprecationWarning:\n",
      "\n",
      "plotly.graph_objs.Annotation is deprecated.\n",
      "Please replace it with one of the following more specific types\n",
      "  - plotly.graph_objs.layout.Annotation\n",
      "  - plotly.graph_objs.layout.scene.Annotation\n",
      "\n",
      "\n"
     ]
    },
    {
     "data": {
      "application/vnd.plotly.v1+json": {
       "config": {
        "plotlyServerURL": "https://plot.ly"
       },
       "data": [
        {
         "colorscale": [
          [
           0.0,
           "rgb(209, 238, 234)"
          ],
          [
           0.16666666666666666,
           "rgb(168, 219, 217)"
          ],
          [
           0.3333333333333333,
           "rgb(133, 196, 201)"
          ],
          [
           0.5,
           "rgb(104, 171, 184)"
          ],
          [
           0.6666666666666666,
           "rgb(79, 144, 166)"
          ],
          [
           0.8333333333333334,
           "rgb(59, 115, 143)"
          ],
          [
           1.0,
           "rgb(42, 86, 116)"
          ]
         ],
         "type": "heatmap",
         "x": [
          0,
          1,
          2,
          3,
          4,
          5,
          6,
          7,
          8,
          9,
          10,
          11,
          12,
          13,
          14,
          15,
          16,
          17,
          18,
          19,
          20,
          21,
          22,
          23
         ],
         "y": [
          "Load_StatusPlugLoadBlender ",
          "Load_StatusPlugLoadToasterOven ",
          "Load_StatusPlugLoadSlowCooker ",
          "Load_StatusPlugLoadToaster ",
          "Load_StatusPlugLoadHandMixer ",
          "Load_StatusPlugLoadCanOpener ",
          "Load_StatusPlugLoadCoffeeMaker "
         ],
         "z": [
          [
           0.0,
           0.0,
           0.0,
           0.0,
           0.0,
           0.0,
           1.0,
           0.0,
           0.0,
           0.39,
           0.0,
           0.0,
           0.0,
           0.0,
           0.0,
           0.0,
           0.0,
           0.0,
           0.0,
           0.0,
           0.0,
           0.0,
           0.0,
           0.0
          ],
          [
           0.0,
           0.0,
           0.0,
           0.0,
           0.0,
           0.0,
           1.0,
           0.0,
           0.0,
           0.39,
           0.0,
           0.0,
           0.0,
           0.0,
           0.0,
           0.0,
           0.0,
           0.0,
           0.0,
           0.0,
           0.0,
           0.01,
           0.01,
           0.0
          ],
          [
           0.0,
           0.0,
           0.0,
           0.0,
           0.0,
           0.0,
           0.0,
           0.0,
           0.51,
           1.0,
           0.49,
           0.0,
           0.0,
           0.0,
           0.0,
           0.0,
           0.0,
           0.0,
           0.0,
           0.0,
           0.0,
           0.0,
           0.0,
           0.0
          ],
          [
           0.0,
           0.0,
           0.0,
           0.0,
           0.0,
           0.0,
           1.0,
           0.0,
           0.0,
           0.39,
           0.0,
           0.0,
           0.0,
           0.0,
           0.0,
           0.0,
           0.0,
           0.0,
           0.0,
           0.0,
           0.0,
           0.0,
           0.0,
           0.0
          ],
          [
           0.0,
           0.0,
           0.01,
           0.0,
           0.0,
           0.0,
           0.0,
           0.0,
           0.0,
           0.0,
           0.0,
           0.0,
           0.0,
           0.0,
           0.0,
           0.0,
           0.0,
           0.0,
           1.0,
           0.17,
           0.0,
           0.0,
           0.0,
           0.0
          ],
          [
           0.0,
           0.0,
           0.01,
           0.0,
           0.0,
           0.0,
           0.0,
           0.0,
           0.0,
           0.0,
           0.0,
           0.0,
           0.0,
           0.0,
           0.0,
           0.0,
           0.0,
           0.0,
           1.0,
           0.17,
           0.01,
           0.01,
           0.01,
           0.02
          ],
          [
           0.0,
           0.0,
           0.0,
           0.0,
           0.0,
           0.0,
           1.0,
           0.05,
           0.0,
           0.39,
           0.02,
           0.0,
           0.02,
           0.0,
           0.0,
           0.0,
           0.0,
           0.0,
           0.06,
           0.0,
           0.0,
           0.0,
           0.0,
           0.0
          ]
         ]
        }
       ],
       "layout": {
        "annotations": [
         {
          "showarrow": false,
          "text": "",
          "x": 0,
          "xref": "x",
          "y": "Load_StatusPlugLoadBlender ",
          "yref": "y"
         },
         {
          "showarrow": false,
          "text": "",
          "x": 1,
          "xref": "x",
          "y": "Load_StatusPlugLoadBlender ",
          "yref": "y"
         },
         {
          "showarrow": false,
          "text": "",
          "x": 2,
          "xref": "x",
          "y": "Load_StatusPlugLoadBlender ",
          "yref": "y"
         },
         {
          "showarrow": false,
          "text": "",
          "x": 3,
          "xref": "x",
          "y": "Load_StatusPlugLoadBlender ",
          "yref": "y"
         },
         {
          "showarrow": false,
          "text": "",
          "x": 4,
          "xref": "x",
          "y": "Load_StatusPlugLoadBlender ",
          "yref": "y"
         },
         {
          "showarrow": false,
          "text": "",
          "x": 5,
          "xref": "x",
          "y": "Load_StatusPlugLoadBlender ",
          "yref": "y"
         },
         {
          "showarrow": false,
          "text": "1.0",
          "x": 6,
          "xref": "x",
          "y": "Load_StatusPlugLoadBlender ",
          "yref": "y"
         },
         {
          "showarrow": false,
          "text": "",
          "x": 7,
          "xref": "x",
          "y": "Load_StatusPlugLoadBlender ",
          "yref": "y"
         },
         {
          "showarrow": false,
          "text": "",
          "x": 8,
          "xref": "x",
          "y": "Load_StatusPlugLoadBlender ",
          "yref": "y"
         },
         {
          "showarrow": false,
          "text": "0.39",
          "x": 9,
          "xref": "x",
          "y": "Load_StatusPlugLoadBlender ",
          "yref": "y"
         },
         {
          "showarrow": false,
          "text": "",
          "x": 10,
          "xref": "x",
          "y": "Load_StatusPlugLoadBlender ",
          "yref": "y"
         },
         {
          "showarrow": false,
          "text": "",
          "x": 11,
          "xref": "x",
          "y": "Load_StatusPlugLoadBlender ",
          "yref": "y"
         },
         {
          "showarrow": false,
          "text": "",
          "x": 12,
          "xref": "x",
          "y": "Load_StatusPlugLoadBlender ",
          "yref": "y"
         },
         {
          "showarrow": false,
          "text": "",
          "x": 13,
          "xref": "x",
          "y": "Load_StatusPlugLoadBlender ",
          "yref": "y"
         },
         {
          "showarrow": false,
          "text": "",
          "x": 14,
          "xref": "x",
          "y": "Load_StatusPlugLoadBlender ",
          "yref": "y"
         },
         {
          "showarrow": false,
          "text": "",
          "x": 15,
          "xref": "x",
          "y": "Load_StatusPlugLoadBlender ",
          "yref": "y"
         },
         {
          "showarrow": false,
          "text": "",
          "x": 16,
          "xref": "x",
          "y": "Load_StatusPlugLoadBlender ",
          "yref": "y"
         },
         {
          "showarrow": false,
          "text": "",
          "x": 17,
          "xref": "x",
          "y": "Load_StatusPlugLoadBlender ",
          "yref": "y"
         },
         {
          "showarrow": false,
          "text": "",
          "x": 18,
          "xref": "x",
          "y": "Load_StatusPlugLoadBlender ",
          "yref": "y"
         },
         {
          "showarrow": false,
          "text": "",
          "x": 19,
          "xref": "x",
          "y": "Load_StatusPlugLoadBlender ",
          "yref": "y"
         },
         {
          "showarrow": false,
          "text": "",
          "x": 20,
          "xref": "x",
          "y": "Load_StatusPlugLoadBlender ",
          "yref": "y"
         },
         {
          "showarrow": false,
          "text": "",
          "x": 21,
          "xref": "x",
          "y": "Load_StatusPlugLoadBlender ",
          "yref": "y"
         },
         {
          "showarrow": false,
          "text": "",
          "x": 22,
          "xref": "x",
          "y": "Load_StatusPlugLoadBlender ",
          "yref": "y"
         },
         {
          "showarrow": false,
          "text": "",
          "x": 23,
          "xref": "x",
          "y": "Load_StatusPlugLoadBlender ",
          "yref": "y"
         },
         {
          "showarrow": false,
          "text": "",
          "x": 0,
          "xref": "x",
          "y": "Load_StatusPlugLoadToasterOven ",
          "yref": "y"
         },
         {
          "showarrow": false,
          "text": "",
          "x": 1,
          "xref": "x",
          "y": "Load_StatusPlugLoadToasterOven ",
          "yref": "y"
         },
         {
          "showarrow": false,
          "text": "",
          "x": 2,
          "xref": "x",
          "y": "Load_StatusPlugLoadToasterOven ",
          "yref": "y"
         },
         {
          "showarrow": false,
          "text": "",
          "x": 3,
          "xref": "x",
          "y": "Load_StatusPlugLoadToasterOven ",
          "yref": "y"
         },
         {
          "showarrow": false,
          "text": "",
          "x": 4,
          "xref": "x",
          "y": "Load_StatusPlugLoadToasterOven ",
          "yref": "y"
         },
         {
          "showarrow": false,
          "text": "",
          "x": 5,
          "xref": "x",
          "y": "Load_StatusPlugLoadToasterOven ",
          "yref": "y"
         },
         {
          "showarrow": false,
          "text": "1.0",
          "x": 6,
          "xref": "x",
          "y": "Load_StatusPlugLoadToasterOven ",
          "yref": "y"
         },
         {
          "showarrow": false,
          "text": "",
          "x": 7,
          "xref": "x",
          "y": "Load_StatusPlugLoadToasterOven ",
          "yref": "y"
         },
         {
          "showarrow": false,
          "text": "",
          "x": 8,
          "xref": "x",
          "y": "Load_StatusPlugLoadToasterOven ",
          "yref": "y"
         },
         {
          "showarrow": false,
          "text": "0.39",
          "x": 9,
          "xref": "x",
          "y": "Load_StatusPlugLoadToasterOven ",
          "yref": "y"
         },
         {
          "showarrow": false,
          "text": "",
          "x": 10,
          "xref": "x",
          "y": "Load_StatusPlugLoadToasterOven ",
          "yref": "y"
         },
         {
          "showarrow": false,
          "text": "",
          "x": 11,
          "xref": "x",
          "y": "Load_StatusPlugLoadToasterOven ",
          "yref": "y"
         },
         {
          "showarrow": false,
          "text": "",
          "x": 12,
          "xref": "x",
          "y": "Load_StatusPlugLoadToasterOven ",
          "yref": "y"
         },
         {
          "showarrow": false,
          "text": "",
          "x": 13,
          "xref": "x",
          "y": "Load_StatusPlugLoadToasterOven ",
          "yref": "y"
         },
         {
          "showarrow": false,
          "text": "",
          "x": 14,
          "xref": "x",
          "y": "Load_StatusPlugLoadToasterOven ",
          "yref": "y"
         },
         {
          "showarrow": false,
          "text": "",
          "x": 15,
          "xref": "x",
          "y": "Load_StatusPlugLoadToasterOven ",
          "yref": "y"
         },
         {
          "showarrow": false,
          "text": "",
          "x": 16,
          "xref": "x",
          "y": "Load_StatusPlugLoadToasterOven ",
          "yref": "y"
         },
         {
          "showarrow": false,
          "text": "",
          "x": 17,
          "xref": "x",
          "y": "Load_StatusPlugLoadToasterOven ",
          "yref": "y"
         },
         {
          "showarrow": false,
          "text": "",
          "x": 18,
          "xref": "x",
          "y": "Load_StatusPlugLoadToasterOven ",
          "yref": "y"
         },
         {
          "showarrow": false,
          "text": "",
          "x": 19,
          "xref": "x",
          "y": "Load_StatusPlugLoadToasterOven ",
          "yref": "y"
         },
         {
          "showarrow": false,
          "text": "",
          "x": 20,
          "xref": "x",
          "y": "Load_StatusPlugLoadToasterOven ",
          "yref": "y"
         },
         {
          "showarrow": false,
          "text": "0.01",
          "x": 21,
          "xref": "x",
          "y": "Load_StatusPlugLoadToasterOven ",
          "yref": "y"
         },
         {
          "showarrow": false,
          "text": "0.01",
          "x": 22,
          "xref": "x",
          "y": "Load_StatusPlugLoadToasterOven ",
          "yref": "y"
         },
         {
          "showarrow": false,
          "text": "",
          "x": 23,
          "xref": "x",
          "y": "Load_StatusPlugLoadToasterOven ",
          "yref": "y"
         },
         {
          "showarrow": false,
          "text": "",
          "x": 0,
          "xref": "x",
          "y": "Load_StatusPlugLoadSlowCooker ",
          "yref": "y"
         },
         {
          "showarrow": false,
          "text": "",
          "x": 1,
          "xref": "x",
          "y": "Load_StatusPlugLoadSlowCooker ",
          "yref": "y"
         },
         {
          "showarrow": false,
          "text": "",
          "x": 2,
          "xref": "x",
          "y": "Load_StatusPlugLoadSlowCooker ",
          "yref": "y"
         },
         {
          "showarrow": false,
          "text": "",
          "x": 3,
          "xref": "x",
          "y": "Load_StatusPlugLoadSlowCooker ",
          "yref": "y"
         },
         {
          "showarrow": false,
          "text": "",
          "x": 4,
          "xref": "x",
          "y": "Load_StatusPlugLoadSlowCooker ",
          "yref": "y"
         },
         {
          "showarrow": false,
          "text": "",
          "x": 5,
          "xref": "x",
          "y": "Load_StatusPlugLoadSlowCooker ",
          "yref": "y"
         },
         {
          "showarrow": false,
          "text": "",
          "x": 6,
          "xref": "x",
          "y": "Load_StatusPlugLoadSlowCooker ",
          "yref": "y"
         },
         {
          "showarrow": false,
          "text": "",
          "x": 7,
          "xref": "x",
          "y": "Load_StatusPlugLoadSlowCooker ",
          "yref": "y"
         },
         {
          "showarrow": false,
          "text": "0.51",
          "x": 8,
          "xref": "x",
          "y": "Load_StatusPlugLoadSlowCooker ",
          "yref": "y"
         },
         {
          "showarrow": false,
          "text": "1.0",
          "x": 9,
          "xref": "x",
          "y": "Load_StatusPlugLoadSlowCooker ",
          "yref": "y"
         },
         {
          "showarrow": false,
          "text": "0.49",
          "x": 10,
          "xref": "x",
          "y": "Load_StatusPlugLoadSlowCooker ",
          "yref": "y"
         },
         {
          "showarrow": false,
          "text": "",
          "x": 11,
          "xref": "x",
          "y": "Load_StatusPlugLoadSlowCooker ",
          "yref": "y"
         },
         {
          "showarrow": false,
          "text": "",
          "x": 12,
          "xref": "x",
          "y": "Load_StatusPlugLoadSlowCooker ",
          "yref": "y"
         },
         {
          "showarrow": false,
          "text": "",
          "x": 13,
          "xref": "x",
          "y": "Load_StatusPlugLoadSlowCooker ",
          "yref": "y"
         },
         {
          "showarrow": false,
          "text": "",
          "x": 14,
          "xref": "x",
          "y": "Load_StatusPlugLoadSlowCooker ",
          "yref": "y"
         },
         {
          "showarrow": false,
          "text": "",
          "x": 15,
          "xref": "x",
          "y": "Load_StatusPlugLoadSlowCooker ",
          "yref": "y"
         },
         {
          "showarrow": false,
          "text": "",
          "x": 16,
          "xref": "x",
          "y": "Load_StatusPlugLoadSlowCooker ",
          "yref": "y"
         },
         {
          "showarrow": false,
          "text": "",
          "x": 17,
          "xref": "x",
          "y": "Load_StatusPlugLoadSlowCooker ",
          "yref": "y"
         },
         {
          "showarrow": false,
          "text": "",
          "x": 18,
          "xref": "x",
          "y": "Load_StatusPlugLoadSlowCooker ",
          "yref": "y"
         },
         {
          "showarrow": false,
          "text": "",
          "x": 19,
          "xref": "x",
          "y": "Load_StatusPlugLoadSlowCooker ",
          "yref": "y"
         },
         {
          "showarrow": false,
          "text": "",
          "x": 20,
          "xref": "x",
          "y": "Load_StatusPlugLoadSlowCooker ",
          "yref": "y"
         },
         {
          "showarrow": false,
          "text": "",
          "x": 21,
          "xref": "x",
          "y": "Load_StatusPlugLoadSlowCooker ",
          "yref": "y"
         },
         {
          "showarrow": false,
          "text": "",
          "x": 22,
          "xref": "x",
          "y": "Load_StatusPlugLoadSlowCooker ",
          "yref": "y"
         },
         {
          "showarrow": false,
          "text": "",
          "x": 23,
          "xref": "x",
          "y": "Load_StatusPlugLoadSlowCooker ",
          "yref": "y"
         },
         {
          "showarrow": false,
          "text": "",
          "x": 0,
          "xref": "x",
          "y": "Load_StatusPlugLoadToaster ",
          "yref": "y"
         },
         {
          "showarrow": false,
          "text": "",
          "x": 1,
          "xref": "x",
          "y": "Load_StatusPlugLoadToaster ",
          "yref": "y"
         },
         {
          "showarrow": false,
          "text": "",
          "x": 2,
          "xref": "x",
          "y": "Load_StatusPlugLoadToaster ",
          "yref": "y"
         },
         {
          "showarrow": false,
          "text": "",
          "x": 3,
          "xref": "x",
          "y": "Load_StatusPlugLoadToaster ",
          "yref": "y"
         },
         {
          "showarrow": false,
          "text": "",
          "x": 4,
          "xref": "x",
          "y": "Load_StatusPlugLoadToaster ",
          "yref": "y"
         },
         {
          "showarrow": false,
          "text": "",
          "x": 5,
          "xref": "x",
          "y": "Load_StatusPlugLoadToaster ",
          "yref": "y"
         },
         {
          "showarrow": false,
          "text": "1.0",
          "x": 6,
          "xref": "x",
          "y": "Load_StatusPlugLoadToaster ",
          "yref": "y"
         },
         {
          "showarrow": false,
          "text": "",
          "x": 7,
          "xref": "x",
          "y": "Load_StatusPlugLoadToaster ",
          "yref": "y"
         },
         {
          "showarrow": false,
          "text": "",
          "x": 8,
          "xref": "x",
          "y": "Load_StatusPlugLoadToaster ",
          "yref": "y"
         },
         {
          "showarrow": false,
          "text": "0.39",
          "x": 9,
          "xref": "x",
          "y": "Load_StatusPlugLoadToaster ",
          "yref": "y"
         },
         {
          "showarrow": false,
          "text": "",
          "x": 10,
          "xref": "x",
          "y": "Load_StatusPlugLoadToaster ",
          "yref": "y"
         },
         {
          "showarrow": false,
          "text": "",
          "x": 11,
          "xref": "x",
          "y": "Load_StatusPlugLoadToaster ",
          "yref": "y"
         },
         {
          "showarrow": false,
          "text": "",
          "x": 12,
          "xref": "x",
          "y": "Load_StatusPlugLoadToaster ",
          "yref": "y"
         },
         {
          "showarrow": false,
          "text": "",
          "x": 13,
          "xref": "x",
          "y": "Load_StatusPlugLoadToaster ",
          "yref": "y"
         },
         {
          "showarrow": false,
          "text": "",
          "x": 14,
          "xref": "x",
          "y": "Load_StatusPlugLoadToaster ",
          "yref": "y"
         },
         {
          "showarrow": false,
          "text": "",
          "x": 15,
          "xref": "x",
          "y": "Load_StatusPlugLoadToaster ",
          "yref": "y"
         },
         {
          "showarrow": false,
          "text": "",
          "x": 16,
          "xref": "x",
          "y": "Load_StatusPlugLoadToaster ",
          "yref": "y"
         },
         {
          "showarrow": false,
          "text": "",
          "x": 17,
          "xref": "x",
          "y": "Load_StatusPlugLoadToaster ",
          "yref": "y"
         },
         {
          "showarrow": false,
          "text": "",
          "x": 18,
          "xref": "x",
          "y": "Load_StatusPlugLoadToaster ",
          "yref": "y"
         },
         {
          "showarrow": false,
          "text": "",
          "x": 19,
          "xref": "x",
          "y": "Load_StatusPlugLoadToaster ",
          "yref": "y"
         },
         {
          "showarrow": false,
          "text": "",
          "x": 20,
          "xref": "x",
          "y": "Load_StatusPlugLoadToaster ",
          "yref": "y"
         },
         {
          "showarrow": false,
          "text": "",
          "x": 21,
          "xref": "x",
          "y": "Load_StatusPlugLoadToaster ",
          "yref": "y"
         },
         {
          "showarrow": false,
          "text": "",
          "x": 22,
          "xref": "x",
          "y": "Load_StatusPlugLoadToaster ",
          "yref": "y"
         },
         {
          "showarrow": false,
          "text": "",
          "x": 23,
          "xref": "x",
          "y": "Load_StatusPlugLoadToaster ",
          "yref": "y"
         },
         {
          "showarrow": false,
          "text": "",
          "x": 0,
          "xref": "x",
          "y": "Load_StatusPlugLoadHandMixer ",
          "yref": "y"
         },
         {
          "showarrow": false,
          "text": "",
          "x": 1,
          "xref": "x",
          "y": "Load_StatusPlugLoadHandMixer ",
          "yref": "y"
         },
         {
          "showarrow": false,
          "text": "0.01",
          "x": 2,
          "xref": "x",
          "y": "Load_StatusPlugLoadHandMixer ",
          "yref": "y"
         },
         {
          "showarrow": false,
          "text": "",
          "x": 3,
          "xref": "x",
          "y": "Load_StatusPlugLoadHandMixer ",
          "yref": "y"
         },
         {
          "showarrow": false,
          "text": "",
          "x": 4,
          "xref": "x",
          "y": "Load_StatusPlugLoadHandMixer ",
          "yref": "y"
         },
         {
          "showarrow": false,
          "text": "",
          "x": 5,
          "xref": "x",
          "y": "Load_StatusPlugLoadHandMixer ",
          "yref": "y"
         },
         {
          "showarrow": false,
          "text": "",
          "x": 6,
          "xref": "x",
          "y": "Load_StatusPlugLoadHandMixer ",
          "yref": "y"
         },
         {
          "showarrow": false,
          "text": "",
          "x": 7,
          "xref": "x",
          "y": "Load_StatusPlugLoadHandMixer ",
          "yref": "y"
         },
         {
          "showarrow": false,
          "text": "",
          "x": 8,
          "xref": "x",
          "y": "Load_StatusPlugLoadHandMixer ",
          "yref": "y"
         },
         {
          "showarrow": false,
          "text": "",
          "x": 9,
          "xref": "x",
          "y": "Load_StatusPlugLoadHandMixer ",
          "yref": "y"
         },
         {
          "showarrow": false,
          "text": "",
          "x": 10,
          "xref": "x",
          "y": "Load_StatusPlugLoadHandMixer ",
          "yref": "y"
         },
         {
          "showarrow": false,
          "text": "",
          "x": 11,
          "xref": "x",
          "y": "Load_StatusPlugLoadHandMixer ",
          "yref": "y"
         },
         {
          "showarrow": false,
          "text": "",
          "x": 12,
          "xref": "x",
          "y": "Load_StatusPlugLoadHandMixer ",
          "yref": "y"
         },
         {
          "showarrow": false,
          "text": "",
          "x": 13,
          "xref": "x",
          "y": "Load_StatusPlugLoadHandMixer ",
          "yref": "y"
         },
         {
          "showarrow": false,
          "text": "",
          "x": 14,
          "xref": "x",
          "y": "Load_StatusPlugLoadHandMixer ",
          "yref": "y"
         },
         {
          "showarrow": false,
          "text": "",
          "x": 15,
          "xref": "x",
          "y": "Load_StatusPlugLoadHandMixer ",
          "yref": "y"
         },
         {
          "showarrow": false,
          "text": "",
          "x": 16,
          "xref": "x",
          "y": "Load_StatusPlugLoadHandMixer ",
          "yref": "y"
         },
         {
          "showarrow": false,
          "text": "",
          "x": 17,
          "xref": "x",
          "y": "Load_StatusPlugLoadHandMixer ",
          "yref": "y"
         },
         {
          "showarrow": false,
          "text": "1.0",
          "x": 18,
          "xref": "x",
          "y": "Load_StatusPlugLoadHandMixer ",
          "yref": "y"
         },
         {
          "showarrow": false,
          "text": "0.17",
          "x": 19,
          "xref": "x",
          "y": "Load_StatusPlugLoadHandMixer ",
          "yref": "y"
         },
         {
          "showarrow": false,
          "text": "",
          "x": 20,
          "xref": "x",
          "y": "Load_StatusPlugLoadHandMixer ",
          "yref": "y"
         },
         {
          "showarrow": false,
          "text": "",
          "x": 21,
          "xref": "x",
          "y": "Load_StatusPlugLoadHandMixer ",
          "yref": "y"
         },
         {
          "showarrow": false,
          "text": "",
          "x": 22,
          "xref": "x",
          "y": "Load_StatusPlugLoadHandMixer ",
          "yref": "y"
         },
         {
          "showarrow": false,
          "text": "",
          "x": 23,
          "xref": "x",
          "y": "Load_StatusPlugLoadHandMixer ",
          "yref": "y"
         },
         {
          "showarrow": false,
          "text": "",
          "x": 0,
          "xref": "x",
          "y": "Load_StatusPlugLoadCanOpener ",
          "yref": "y"
         },
         {
          "showarrow": false,
          "text": "",
          "x": 1,
          "xref": "x",
          "y": "Load_StatusPlugLoadCanOpener ",
          "yref": "y"
         },
         {
          "showarrow": false,
          "text": "0.01",
          "x": 2,
          "xref": "x",
          "y": "Load_StatusPlugLoadCanOpener ",
          "yref": "y"
         },
         {
          "showarrow": false,
          "text": "",
          "x": 3,
          "xref": "x",
          "y": "Load_StatusPlugLoadCanOpener ",
          "yref": "y"
         },
         {
          "showarrow": false,
          "text": "",
          "x": 4,
          "xref": "x",
          "y": "Load_StatusPlugLoadCanOpener ",
          "yref": "y"
         },
         {
          "showarrow": false,
          "text": "",
          "x": 5,
          "xref": "x",
          "y": "Load_StatusPlugLoadCanOpener ",
          "yref": "y"
         },
         {
          "showarrow": false,
          "text": "",
          "x": 6,
          "xref": "x",
          "y": "Load_StatusPlugLoadCanOpener ",
          "yref": "y"
         },
         {
          "showarrow": false,
          "text": "",
          "x": 7,
          "xref": "x",
          "y": "Load_StatusPlugLoadCanOpener ",
          "yref": "y"
         },
         {
          "showarrow": false,
          "text": "",
          "x": 8,
          "xref": "x",
          "y": "Load_StatusPlugLoadCanOpener ",
          "yref": "y"
         },
         {
          "showarrow": false,
          "text": "",
          "x": 9,
          "xref": "x",
          "y": "Load_StatusPlugLoadCanOpener ",
          "yref": "y"
         },
         {
          "showarrow": false,
          "text": "",
          "x": 10,
          "xref": "x",
          "y": "Load_StatusPlugLoadCanOpener ",
          "yref": "y"
         },
         {
          "showarrow": false,
          "text": "",
          "x": 11,
          "xref": "x",
          "y": "Load_StatusPlugLoadCanOpener ",
          "yref": "y"
         },
         {
          "showarrow": false,
          "text": "",
          "x": 12,
          "xref": "x",
          "y": "Load_StatusPlugLoadCanOpener ",
          "yref": "y"
         },
         {
          "showarrow": false,
          "text": "",
          "x": 13,
          "xref": "x",
          "y": "Load_StatusPlugLoadCanOpener ",
          "yref": "y"
         },
         {
          "showarrow": false,
          "text": "",
          "x": 14,
          "xref": "x",
          "y": "Load_StatusPlugLoadCanOpener ",
          "yref": "y"
         },
         {
          "showarrow": false,
          "text": "",
          "x": 15,
          "xref": "x",
          "y": "Load_StatusPlugLoadCanOpener ",
          "yref": "y"
         },
         {
          "showarrow": false,
          "text": "",
          "x": 16,
          "xref": "x",
          "y": "Load_StatusPlugLoadCanOpener ",
          "yref": "y"
         },
         {
          "showarrow": false,
          "text": "",
          "x": 17,
          "xref": "x",
          "y": "Load_StatusPlugLoadCanOpener ",
          "yref": "y"
         },
         {
          "showarrow": false,
          "text": "1.0",
          "x": 18,
          "xref": "x",
          "y": "Load_StatusPlugLoadCanOpener ",
          "yref": "y"
         },
         {
          "showarrow": false,
          "text": "0.17",
          "x": 19,
          "xref": "x",
          "y": "Load_StatusPlugLoadCanOpener ",
          "yref": "y"
         },
         {
          "showarrow": false,
          "text": "0.01",
          "x": 20,
          "xref": "x",
          "y": "Load_StatusPlugLoadCanOpener ",
          "yref": "y"
         },
         {
          "showarrow": false,
          "text": "0.01",
          "x": 21,
          "xref": "x",
          "y": "Load_StatusPlugLoadCanOpener ",
          "yref": "y"
         },
         {
          "showarrow": false,
          "text": "0.01",
          "x": 22,
          "xref": "x",
          "y": "Load_StatusPlugLoadCanOpener ",
          "yref": "y"
         },
         {
          "showarrow": false,
          "text": "0.02",
          "x": 23,
          "xref": "x",
          "y": "Load_StatusPlugLoadCanOpener ",
          "yref": "y"
         },
         {
          "showarrow": false,
          "text": "",
          "x": 0,
          "xref": "x",
          "y": "Load_StatusPlugLoadCoffeeMaker ",
          "yref": "y"
         },
         {
          "showarrow": false,
          "text": "",
          "x": 1,
          "xref": "x",
          "y": "Load_StatusPlugLoadCoffeeMaker ",
          "yref": "y"
         },
         {
          "showarrow": false,
          "text": "",
          "x": 2,
          "xref": "x",
          "y": "Load_StatusPlugLoadCoffeeMaker ",
          "yref": "y"
         },
         {
          "showarrow": false,
          "text": "",
          "x": 3,
          "xref": "x",
          "y": "Load_StatusPlugLoadCoffeeMaker ",
          "yref": "y"
         },
         {
          "showarrow": false,
          "text": "",
          "x": 4,
          "xref": "x",
          "y": "Load_StatusPlugLoadCoffeeMaker ",
          "yref": "y"
         },
         {
          "showarrow": false,
          "text": "",
          "x": 5,
          "xref": "x",
          "y": "Load_StatusPlugLoadCoffeeMaker ",
          "yref": "y"
         },
         {
          "showarrow": false,
          "text": "1.0",
          "x": 6,
          "xref": "x",
          "y": "Load_StatusPlugLoadCoffeeMaker ",
          "yref": "y"
         },
         {
          "showarrow": false,
          "text": "0.05",
          "x": 7,
          "xref": "x",
          "y": "Load_StatusPlugLoadCoffeeMaker ",
          "yref": "y"
         },
         {
          "showarrow": false,
          "text": "",
          "x": 8,
          "xref": "x",
          "y": "Load_StatusPlugLoadCoffeeMaker ",
          "yref": "y"
         },
         {
          "showarrow": false,
          "text": "0.39",
          "x": 9,
          "xref": "x",
          "y": "Load_StatusPlugLoadCoffeeMaker ",
          "yref": "y"
         },
         {
          "showarrow": false,
          "text": "0.02",
          "x": 10,
          "xref": "x",
          "y": "Load_StatusPlugLoadCoffeeMaker ",
          "yref": "y"
         },
         {
          "showarrow": false,
          "text": "",
          "x": 11,
          "xref": "x",
          "y": "Load_StatusPlugLoadCoffeeMaker ",
          "yref": "y"
         },
         {
          "showarrow": false,
          "text": "0.02",
          "x": 12,
          "xref": "x",
          "y": "Load_StatusPlugLoadCoffeeMaker ",
          "yref": "y"
         },
         {
          "showarrow": false,
          "text": "",
          "x": 13,
          "xref": "x",
          "y": "Load_StatusPlugLoadCoffeeMaker ",
          "yref": "y"
         },
         {
          "showarrow": false,
          "text": "",
          "x": 14,
          "xref": "x",
          "y": "Load_StatusPlugLoadCoffeeMaker ",
          "yref": "y"
         },
         {
          "showarrow": false,
          "text": "",
          "x": 15,
          "xref": "x",
          "y": "Load_StatusPlugLoadCoffeeMaker ",
          "yref": "y"
         },
         {
          "showarrow": false,
          "text": "",
          "x": 16,
          "xref": "x",
          "y": "Load_StatusPlugLoadCoffeeMaker ",
          "yref": "y"
         },
         {
          "showarrow": false,
          "text": "",
          "x": 17,
          "xref": "x",
          "y": "Load_StatusPlugLoadCoffeeMaker ",
          "yref": "y"
         },
         {
          "showarrow": false,
          "text": "0.06",
          "x": 18,
          "xref": "x",
          "y": "Load_StatusPlugLoadCoffeeMaker ",
          "yref": "y"
         },
         {
          "showarrow": false,
          "text": "",
          "x": 19,
          "xref": "x",
          "y": "Load_StatusPlugLoadCoffeeMaker ",
          "yref": "y"
         },
         {
          "showarrow": false,
          "text": "",
          "x": 20,
          "xref": "x",
          "y": "Load_StatusPlugLoadCoffeeMaker ",
          "yref": "y"
         },
         {
          "showarrow": false,
          "text": "",
          "x": 21,
          "xref": "x",
          "y": "Load_StatusPlugLoadCoffeeMaker ",
          "yref": "y"
         },
         {
          "showarrow": false,
          "text": "",
          "x": 22,
          "xref": "x",
          "y": "Load_StatusPlugLoadCoffeeMaker ",
          "yref": "y"
         },
         {
          "showarrow": false,
          "text": "",
          "x": 23,
          "xref": "x",
          "y": "Load_StatusPlugLoadCoffeeMaker ",
          "yref": "y"
         }
        ],
        "font": {
         "size": 16
        },
        "margin": {
         "b": 30,
         "l": 30,
         "r": 30,
         "t": 50
        },
        "template": {
         "data": {
          "bar": [
           {
            "error_x": {
             "color": "#2a3f5f"
            },
            "error_y": {
             "color": "#2a3f5f"
            },
            "marker": {
             "line": {
              "color": "#E5ECF6",
              "width": 0.5
             },
             "pattern": {
              "fillmode": "overlay",
              "size": 10,
              "solidity": 0.2
             }
            },
            "type": "bar"
           }
          ],
          "barpolar": [
           {
            "marker": {
             "line": {
              "color": "#E5ECF6",
              "width": 0.5
             },
             "pattern": {
              "fillmode": "overlay",
              "size": 10,
              "solidity": 0.2
             }
            },
            "type": "barpolar"
           }
          ],
          "carpet": [
           {
            "aaxis": {
             "endlinecolor": "#2a3f5f",
             "gridcolor": "white",
             "linecolor": "white",
             "minorgridcolor": "white",
             "startlinecolor": "#2a3f5f"
            },
            "baxis": {
             "endlinecolor": "#2a3f5f",
             "gridcolor": "white",
             "linecolor": "white",
             "minorgridcolor": "white",
             "startlinecolor": "#2a3f5f"
            },
            "type": "carpet"
           }
          ],
          "choropleth": [
           {
            "colorbar": {
             "outlinewidth": 0,
             "ticks": ""
            },
            "type": "choropleth"
           }
          ],
          "contour": [
           {
            "colorbar": {
             "outlinewidth": 0,
             "ticks": ""
            },
            "colorscale": [
             [
              0.0,
              "#0d0887"
             ],
             [
              0.1111111111111111,
              "#46039f"
             ],
             [
              0.2222222222222222,
              "#7201a8"
             ],
             [
              0.3333333333333333,
              "#9c179e"
             ],
             [
              0.4444444444444444,
              "#bd3786"
             ],
             [
              0.5555555555555556,
              "#d8576b"
             ],
             [
              0.6666666666666666,
              "#ed7953"
             ],
             [
              0.7777777777777778,
              "#fb9f3a"
             ],
             [
              0.8888888888888888,
              "#fdca26"
             ],
             [
              1.0,
              "#f0f921"
             ]
            ],
            "type": "contour"
           }
          ],
          "contourcarpet": [
           {
            "colorbar": {
             "outlinewidth": 0,
             "ticks": ""
            },
            "type": "contourcarpet"
           }
          ],
          "heatmap": [
           {
            "colorbar": {
             "outlinewidth": 0,
             "ticks": ""
            },
            "colorscale": [
             [
              0.0,
              "#0d0887"
             ],
             [
              0.1111111111111111,
              "#46039f"
             ],
             [
              0.2222222222222222,
              "#7201a8"
             ],
             [
              0.3333333333333333,
              "#9c179e"
             ],
             [
              0.4444444444444444,
              "#bd3786"
             ],
             [
              0.5555555555555556,
              "#d8576b"
             ],
             [
              0.6666666666666666,
              "#ed7953"
             ],
             [
              0.7777777777777778,
              "#fb9f3a"
             ],
             [
              0.8888888888888888,
              "#fdca26"
             ],
             [
              1.0,
              "#f0f921"
             ]
            ],
            "type": "heatmap"
           }
          ],
          "heatmapgl": [
           {
            "colorbar": {
             "outlinewidth": 0,
             "ticks": ""
            },
            "colorscale": [
             [
              0.0,
              "#0d0887"
             ],
             [
              0.1111111111111111,
              "#46039f"
             ],
             [
              0.2222222222222222,
              "#7201a8"
             ],
             [
              0.3333333333333333,
              "#9c179e"
             ],
             [
              0.4444444444444444,
              "#bd3786"
             ],
             [
              0.5555555555555556,
              "#d8576b"
             ],
             [
              0.6666666666666666,
              "#ed7953"
             ],
             [
              0.7777777777777778,
              "#fb9f3a"
             ],
             [
              0.8888888888888888,
              "#fdca26"
             ],
             [
              1.0,
              "#f0f921"
             ]
            ],
            "type": "heatmapgl"
           }
          ],
          "histogram": [
           {
            "marker": {
             "pattern": {
              "fillmode": "overlay",
              "size": 10,
              "solidity": 0.2
             }
            },
            "type": "histogram"
           }
          ],
          "histogram2d": [
           {
            "colorbar": {
             "outlinewidth": 0,
             "ticks": ""
            },
            "colorscale": [
             [
              0.0,
              "#0d0887"
             ],
             [
              0.1111111111111111,
              "#46039f"
             ],
             [
              0.2222222222222222,
              "#7201a8"
             ],
             [
              0.3333333333333333,
              "#9c179e"
             ],
             [
              0.4444444444444444,
              "#bd3786"
             ],
             [
              0.5555555555555556,
              "#d8576b"
             ],
             [
              0.6666666666666666,
              "#ed7953"
             ],
             [
              0.7777777777777778,
              "#fb9f3a"
             ],
             [
              0.8888888888888888,
              "#fdca26"
             ],
             [
              1.0,
              "#f0f921"
             ]
            ],
            "type": "histogram2d"
           }
          ],
          "histogram2dcontour": [
           {
            "colorbar": {
             "outlinewidth": 0,
             "ticks": ""
            },
            "colorscale": [
             [
              0.0,
              "#0d0887"
             ],
             [
              0.1111111111111111,
              "#46039f"
             ],
             [
              0.2222222222222222,
              "#7201a8"
             ],
             [
              0.3333333333333333,
              "#9c179e"
             ],
             [
              0.4444444444444444,
              "#bd3786"
             ],
             [
              0.5555555555555556,
              "#d8576b"
             ],
             [
              0.6666666666666666,
              "#ed7953"
             ],
             [
              0.7777777777777778,
              "#fb9f3a"
             ],
             [
              0.8888888888888888,
              "#fdca26"
             ],
             [
              1.0,
              "#f0f921"
             ]
            ],
            "type": "histogram2dcontour"
           }
          ],
          "mesh3d": [
           {
            "colorbar": {
             "outlinewidth": 0,
             "ticks": ""
            },
            "type": "mesh3d"
           }
          ],
          "parcoords": [
           {
            "line": {
             "colorbar": {
              "outlinewidth": 0,
              "ticks": ""
             }
            },
            "type": "parcoords"
           }
          ],
          "pie": [
           {
            "automargin": true,
            "type": "pie"
           }
          ],
          "scatter": [
           {
            "marker": {
             "colorbar": {
              "outlinewidth": 0,
              "ticks": ""
             }
            },
            "type": "scatter"
           }
          ],
          "scatter3d": [
           {
            "line": {
             "colorbar": {
              "outlinewidth": 0,
              "ticks": ""
             }
            },
            "marker": {
             "colorbar": {
              "outlinewidth": 0,
              "ticks": ""
             }
            },
            "type": "scatter3d"
           }
          ],
          "scattercarpet": [
           {
            "marker": {
             "colorbar": {
              "outlinewidth": 0,
              "ticks": ""
             }
            },
            "type": "scattercarpet"
           }
          ],
          "scattergeo": [
           {
            "marker": {
             "colorbar": {
              "outlinewidth": 0,
              "ticks": ""
             }
            },
            "type": "scattergeo"
           }
          ],
          "scattergl": [
           {
            "marker": {
             "colorbar": {
              "outlinewidth": 0,
              "ticks": ""
             }
            },
            "type": "scattergl"
           }
          ],
          "scattermapbox": [
           {
            "marker": {
             "colorbar": {
              "outlinewidth": 0,
              "ticks": ""
             }
            },
            "type": "scattermapbox"
           }
          ],
          "scatterpolar": [
           {
            "marker": {
             "colorbar": {
              "outlinewidth": 0,
              "ticks": ""
             }
            },
            "type": "scatterpolar"
           }
          ],
          "scatterpolargl": [
           {
            "marker": {
             "colorbar": {
              "outlinewidth": 0,
              "ticks": ""
             }
            },
            "type": "scatterpolargl"
           }
          ],
          "scatterternary": [
           {
            "marker": {
             "colorbar": {
              "outlinewidth": 0,
              "ticks": ""
             }
            },
            "type": "scatterternary"
           }
          ],
          "surface": [
           {
            "colorbar": {
             "outlinewidth": 0,
             "ticks": ""
            },
            "colorscale": [
             [
              0.0,
              "#0d0887"
             ],
             [
              0.1111111111111111,
              "#46039f"
             ],
             [
              0.2222222222222222,
              "#7201a8"
             ],
             [
              0.3333333333333333,
              "#9c179e"
             ],
             [
              0.4444444444444444,
              "#bd3786"
             ],
             [
              0.5555555555555556,
              "#d8576b"
             ],
             [
              0.6666666666666666,
              "#ed7953"
             ],
             [
              0.7777777777777778,
              "#fb9f3a"
             ],
             [
              0.8888888888888888,
              "#fdca26"
             ],
             [
              1.0,
              "#f0f921"
             ]
            ],
            "type": "surface"
           }
          ],
          "table": [
           {
            "cells": {
             "fill": {
              "color": "#EBF0F8"
             },
             "line": {
              "color": "white"
             }
            },
            "header": {
             "fill": {
              "color": "#C8D4E3"
             },
             "line": {
              "color": "white"
             }
            },
            "type": "table"
           }
          ]
         },
         "layout": {
          "annotationdefaults": {
           "arrowcolor": "#2a3f5f",
           "arrowhead": 0,
           "arrowwidth": 1
          },
          "autotypenumbers": "strict",
          "coloraxis": {
           "colorbar": {
            "outlinewidth": 0,
            "ticks": ""
           }
          },
          "colorscale": {
           "diverging": [
            [
             0,
             "#8e0152"
            ],
            [
             0.1,
             "#c51b7d"
            ],
            [
             0.2,
             "#de77ae"
            ],
            [
             0.3,
             "#f1b6da"
            ],
            [
             0.4,
             "#fde0ef"
            ],
            [
             0.5,
             "#f7f7f7"
            ],
            [
             0.6,
             "#e6f5d0"
            ],
            [
             0.7,
             "#b8e186"
            ],
            [
             0.8,
             "#7fbc41"
            ],
            [
             0.9,
             "#4d9221"
            ],
            [
             1,
             "#276419"
            ]
           ],
           "sequential": [
            [
             0.0,
             "#0d0887"
            ],
            [
             0.1111111111111111,
             "#46039f"
            ],
            [
             0.2222222222222222,
             "#7201a8"
            ],
            [
             0.3333333333333333,
             "#9c179e"
            ],
            [
             0.4444444444444444,
             "#bd3786"
            ],
            [
             0.5555555555555556,
             "#d8576b"
            ],
            [
             0.6666666666666666,
             "#ed7953"
            ],
            [
             0.7777777777777778,
             "#fb9f3a"
            ],
            [
             0.8888888888888888,
             "#fdca26"
            ],
            [
             1.0,
             "#f0f921"
            ]
           ],
           "sequentialminus": [
            [
             0.0,
             "#0d0887"
            ],
            [
             0.1111111111111111,
             "#46039f"
            ],
            [
             0.2222222222222222,
             "#7201a8"
            ],
            [
             0.3333333333333333,
             "#9c179e"
            ],
            [
             0.4444444444444444,
             "#bd3786"
            ],
            [
             0.5555555555555556,
             "#d8576b"
            ],
            [
             0.6666666666666666,
             "#ed7953"
            ],
            [
             0.7777777777777778,
             "#fb9f3a"
            ],
            [
             0.8888888888888888,
             "#fdca26"
            ],
            [
             1.0,
             "#f0f921"
            ]
           ]
          },
          "colorway": [
           "#636efa",
           "#EF553B",
           "#00cc96",
           "#ab63fa",
           "#FFA15A",
           "#19d3f3",
           "#FF6692",
           "#B6E880",
           "#FF97FF",
           "#FECB52"
          ],
          "font": {
           "color": "#2a3f5f"
          },
          "geo": {
           "bgcolor": "white",
           "lakecolor": "white",
           "landcolor": "#E5ECF6",
           "showlakes": true,
           "showland": true,
           "subunitcolor": "white"
          },
          "hoverlabel": {
           "align": "left"
          },
          "hovermode": "closest",
          "mapbox": {
           "style": "light"
          },
          "paper_bgcolor": "white",
          "plot_bgcolor": "#E5ECF6",
          "polar": {
           "angularaxis": {
            "gridcolor": "white",
            "linecolor": "white",
            "ticks": ""
           },
           "bgcolor": "#E5ECF6",
           "radialaxis": {
            "gridcolor": "white",
            "linecolor": "white",
            "ticks": ""
           }
          },
          "scene": {
           "xaxis": {
            "backgroundcolor": "#E5ECF6",
            "gridcolor": "white",
            "gridwidth": 2,
            "linecolor": "white",
            "showbackground": true,
            "ticks": "",
            "zerolinecolor": "white"
           },
           "yaxis": {
            "backgroundcolor": "#E5ECF6",
            "gridcolor": "white",
            "gridwidth": 2,
            "linecolor": "white",
            "showbackground": true,
            "ticks": "",
            "zerolinecolor": "white"
           },
           "zaxis": {
            "backgroundcolor": "#E5ECF6",
            "gridcolor": "white",
            "gridwidth": 2,
            "linecolor": "white",
            "showbackground": true,
            "ticks": "",
            "zerolinecolor": "white"
           }
          },
          "shapedefaults": {
           "line": {
            "color": "#2a3f5f"
           }
          },
          "ternary": {
           "aaxis": {
            "gridcolor": "white",
            "linecolor": "white",
            "ticks": ""
           },
           "baxis": {
            "gridcolor": "white",
            "linecolor": "white",
            "ticks": ""
           },
           "bgcolor": "#E5ECF6",
           "caxis": {
            "gridcolor": "white",
            "linecolor": "white",
            "ticks": ""
           }
          },
          "title": {
           "x": 0.05
          },
          "xaxis": {
           "automargin": true,
           "gridcolor": "white",
           "linecolor": "white",
           "ticks": "",
           "title": {
            "standoff": 15
           },
           "zerolinecolor": "white",
           "zerolinewidth": 2
          },
          "yaxis": {
           "automargin": true,
           "gridcolor": "white",
           "linecolor": "white",
           "ticks": "",
           "title": {
            "standoff": 15
           },
           "zerolinecolor": "white",
           "zerolinewidth": 2
          }
         }
        },
        "xaxis": {
         "nticks": 30,
         "title": {
          "text": "Hour of day"
         }
        },
        "yaxis": {
         "showticklabels": true,
         "title": {
          "text": "Appliance"
         }
        }
       }
      },
      "text/html": "<div>                            <div id=\"4402fe8d-0a8a-42db-bddb-ff3b702fb51a\" class=\"plotly-graph-div\" style=\"height:525px; width:100%;\"></div>            <script type=\"text/javascript\">                require([\"plotly\"], function(Plotly) {                    window.PLOTLYENV=window.PLOTLYENV || {};                                    if (document.getElementById(\"4402fe8d-0a8a-42db-bddb-ff3b702fb51a\")) {                    Plotly.newPlot(                        \"4402fe8d-0a8a-42db-bddb-ff3b702fb51a\",                        [{\"colorscale\":[[0.0,\"rgb(209, 238, 234)\"],[0.16666666666666666,\"rgb(168, 219, 217)\"],[0.3333333333333333,\"rgb(133, 196, 201)\"],[0.5,\"rgb(104, 171, 184)\"],[0.6666666666666666,\"rgb(79, 144, 166)\"],[0.8333333333333334,\"rgb(59, 115, 143)\"],[1.0,\"rgb(42, 86, 116)\"]],\"type\":\"heatmap\",\"x\":[0,1,2,3,4,5,6,7,8,9,10,11,12,13,14,15,16,17,18,19,20,21,22,23],\"y\":[\"Load_StatusPlugLoadBlender \",\"Load_StatusPlugLoadToasterOven \",\"Load_StatusPlugLoadSlowCooker \",\"Load_StatusPlugLoadToaster \",\"Load_StatusPlugLoadHandMixer \",\"Load_StatusPlugLoadCanOpener \",\"Load_StatusPlugLoadCoffeeMaker \"],\"z\":[[0.0,0.0,0.0,0.0,0.0,0.0,1.0,0.0,0.0,0.39,0.0,0.0,0.0,0.0,0.0,0.0,0.0,0.0,0.0,0.0,0.0,0.0,0.0,0.0],[0.0,0.0,0.0,0.0,0.0,0.0,1.0,0.0,0.0,0.39,0.0,0.0,0.0,0.0,0.0,0.0,0.0,0.0,0.0,0.0,0.0,0.01,0.01,0.0],[0.0,0.0,0.0,0.0,0.0,0.0,0.0,0.0,0.51,1.0,0.49,0.0,0.0,0.0,0.0,0.0,0.0,0.0,0.0,0.0,0.0,0.0,0.0,0.0],[0.0,0.0,0.0,0.0,0.0,0.0,1.0,0.0,0.0,0.39,0.0,0.0,0.0,0.0,0.0,0.0,0.0,0.0,0.0,0.0,0.0,0.0,0.0,0.0],[0.0,0.0,0.01,0.0,0.0,0.0,0.0,0.0,0.0,0.0,0.0,0.0,0.0,0.0,0.0,0.0,0.0,0.0,1.0,0.17,0.0,0.0,0.0,0.0],[0.0,0.0,0.01,0.0,0.0,0.0,0.0,0.0,0.0,0.0,0.0,0.0,0.0,0.0,0.0,0.0,0.0,0.0,1.0,0.17,0.01,0.01,0.01,0.02],[0.0,0.0,0.0,0.0,0.0,0.0,1.0,0.05,0.0,0.39,0.02,0.0,0.02,0.0,0.0,0.0,0.0,0.0,0.06,0.0,0.0,0.0,0.0,0.0]]}],                        {\"annotations\":[{\"showarrow\":false,\"text\":\"\",\"x\":0,\"xref\":\"x\",\"y\":\"Load_StatusPlugLoadBlender \",\"yref\":\"y\"},{\"showarrow\":false,\"text\":\"\",\"x\":1,\"xref\":\"x\",\"y\":\"Load_StatusPlugLoadBlender \",\"yref\":\"y\"},{\"showarrow\":false,\"text\":\"\",\"x\":2,\"xref\":\"x\",\"y\":\"Load_StatusPlugLoadBlender \",\"yref\":\"y\"},{\"showarrow\":false,\"text\":\"\",\"x\":3,\"xref\":\"x\",\"y\":\"Load_StatusPlugLoadBlender \",\"yref\":\"y\"},{\"showarrow\":false,\"text\":\"\",\"x\":4,\"xref\":\"x\",\"y\":\"Load_StatusPlugLoadBlender \",\"yref\":\"y\"},{\"showarrow\":false,\"text\":\"\",\"x\":5,\"xref\":\"x\",\"y\":\"Load_StatusPlugLoadBlender \",\"yref\":\"y\"},{\"showarrow\":false,\"text\":\"1.0\",\"x\":6,\"xref\":\"x\",\"y\":\"Load_StatusPlugLoadBlender \",\"yref\":\"y\"},{\"showarrow\":false,\"text\":\"\",\"x\":7,\"xref\":\"x\",\"y\":\"Load_StatusPlugLoadBlender \",\"yref\":\"y\"},{\"showarrow\":false,\"text\":\"\",\"x\":8,\"xref\":\"x\",\"y\":\"Load_StatusPlugLoadBlender \",\"yref\":\"y\"},{\"showarrow\":false,\"text\":\"0.39\",\"x\":9,\"xref\":\"x\",\"y\":\"Load_StatusPlugLoadBlender \",\"yref\":\"y\"},{\"showarrow\":false,\"text\":\"\",\"x\":10,\"xref\":\"x\",\"y\":\"Load_StatusPlugLoadBlender \",\"yref\":\"y\"},{\"showarrow\":false,\"text\":\"\",\"x\":11,\"xref\":\"x\",\"y\":\"Load_StatusPlugLoadBlender \",\"yref\":\"y\"},{\"showarrow\":false,\"text\":\"\",\"x\":12,\"xref\":\"x\",\"y\":\"Load_StatusPlugLoadBlender \",\"yref\":\"y\"},{\"showarrow\":false,\"text\":\"\",\"x\":13,\"xref\":\"x\",\"y\":\"Load_StatusPlugLoadBlender \",\"yref\":\"y\"},{\"showarrow\":false,\"text\":\"\",\"x\":14,\"xref\":\"x\",\"y\":\"Load_StatusPlugLoadBlender \",\"yref\":\"y\"},{\"showarrow\":false,\"text\":\"\",\"x\":15,\"xref\":\"x\",\"y\":\"Load_StatusPlugLoadBlender \",\"yref\":\"y\"},{\"showarrow\":false,\"text\":\"\",\"x\":16,\"xref\":\"x\",\"y\":\"Load_StatusPlugLoadBlender \",\"yref\":\"y\"},{\"showarrow\":false,\"text\":\"\",\"x\":17,\"xref\":\"x\",\"y\":\"Load_StatusPlugLoadBlender \",\"yref\":\"y\"},{\"showarrow\":false,\"text\":\"\",\"x\":18,\"xref\":\"x\",\"y\":\"Load_StatusPlugLoadBlender \",\"yref\":\"y\"},{\"showarrow\":false,\"text\":\"\",\"x\":19,\"xref\":\"x\",\"y\":\"Load_StatusPlugLoadBlender \",\"yref\":\"y\"},{\"showarrow\":false,\"text\":\"\",\"x\":20,\"xref\":\"x\",\"y\":\"Load_StatusPlugLoadBlender \",\"yref\":\"y\"},{\"showarrow\":false,\"text\":\"\",\"x\":21,\"xref\":\"x\",\"y\":\"Load_StatusPlugLoadBlender \",\"yref\":\"y\"},{\"showarrow\":false,\"text\":\"\",\"x\":22,\"xref\":\"x\",\"y\":\"Load_StatusPlugLoadBlender \",\"yref\":\"y\"},{\"showarrow\":false,\"text\":\"\",\"x\":23,\"xref\":\"x\",\"y\":\"Load_StatusPlugLoadBlender \",\"yref\":\"y\"},{\"showarrow\":false,\"text\":\"\",\"x\":0,\"xref\":\"x\",\"y\":\"Load_StatusPlugLoadToasterOven \",\"yref\":\"y\"},{\"showarrow\":false,\"text\":\"\",\"x\":1,\"xref\":\"x\",\"y\":\"Load_StatusPlugLoadToasterOven \",\"yref\":\"y\"},{\"showarrow\":false,\"text\":\"\",\"x\":2,\"xref\":\"x\",\"y\":\"Load_StatusPlugLoadToasterOven \",\"yref\":\"y\"},{\"showarrow\":false,\"text\":\"\",\"x\":3,\"xref\":\"x\",\"y\":\"Load_StatusPlugLoadToasterOven \",\"yref\":\"y\"},{\"showarrow\":false,\"text\":\"\",\"x\":4,\"xref\":\"x\",\"y\":\"Load_StatusPlugLoadToasterOven \",\"yref\":\"y\"},{\"showarrow\":false,\"text\":\"\",\"x\":5,\"xref\":\"x\",\"y\":\"Load_StatusPlugLoadToasterOven \",\"yref\":\"y\"},{\"showarrow\":false,\"text\":\"1.0\",\"x\":6,\"xref\":\"x\",\"y\":\"Load_StatusPlugLoadToasterOven \",\"yref\":\"y\"},{\"showarrow\":false,\"text\":\"\",\"x\":7,\"xref\":\"x\",\"y\":\"Load_StatusPlugLoadToasterOven \",\"yref\":\"y\"},{\"showarrow\":false,\"text\":\"\",\"x\":8,\"xref\":\"x\",\"y\":\"Load_StatusPlugLoadToasterOven \",\"yref\":\"y\"},{\"showarrow\":false,\"text\":\"0.39\",\"x\":9,\"xref\":\"x\",\"y\":\"Load_StatusPlugLoadToasterOven \",\"yref\":\"y\"},{\"showarrow\":false,\"text\":\"\",\"x\":10,\"xref\":\"x\",\"y\":\"Load_StatusPlugLoadToasterOven \",\"yref\":\"y\"},{\"showarrow\":false,\"text\":\"\",\"x\":11,\"xref\":\"x\",\"y\":\"Load_StatusPlugLoadToasterOven \",\"yref\":\"y\"},{\"showarrow\":false,\"text\":\"\",\"x\":12,\"xref\":\"x\",\"y\":\"Load_StatusPlugLoadToasterOven \",\"yref\":\"y\"},{\"showarrow\":false,\"text\":\"\",\"x\":13,\"xref\":\"x\",\"y\":\"Load_StatusPlugLoadToasterOven \",\"yref\":\"y\"},{\"showarrow\":false,\"text\":\"\",\"x\":14,\"xref\":\"x\",\"y\":\"Load_StatusPlugLoadToasterOven \",\"yref\":\"y\"},{\"showarrow\":false,\"text\":\"\",\"x\":15,\"xref\":\"x\",\"y\":\"Load_StatusPlugLoadToasterOven \",\"yref\":\"y\"},{\"showarrow\":false,\"text\":\"\",\"x\":16,\"xref\":\"x\",\"y\":\"Load_StatusPlugLoadToasterOven \",\"yref\":\"y\"},{\"showarrow\":false,\"text\":\"\",\"x\":17,\"xref\":\"x\",\"y\":\"Load_StatusPlugLoadToasterOven \",\"yref\":\"y\"},{\"showarrow\":false,\"text\":\"\",\"x\":18,\"xref\":\"x\",\"y\":\"Load_StatusPlugLoadToasterOven \",\"yref\":\"y\"},{\"showarrow\":false,\"text\":\"\",\"x\":19,\"xref\":\"x\",\"y\":\"Load_StatusPlugLoadToasterOven \",\"yref\":\"y\"},{\"showarrow\":false,\"text\":\"\",\"x\":20,\"xref\":\"x\",\"y\":\"Load_StatusPlugLoadToasterOven \",\"yref\":\"y\"},{\"showarrow\":false,\"text\":\"0.01\",\"x\":21,\"xref\":\"x\",\"y\":\"Load_StatusPlugLoadToasterOven \",\"yref\":\"y\"},{\"showarrow\":false,\"text\":\"0.01\",\"x\":22,\"xref\":\"x\",\"y\":\"Load_StatusPlugLoadToasterOven \",\"yref\":\"y\"},{\"showarrow\":false,\"text\":\"\",\"x\":23,\"xref\":\"x\",\"y\":\"Load_StatusPlugLoadToasterOven \",\"yref\":\"y\"},{\"showarrow\":false,\"text\":\"\",\"x\":0,\"xref\":\"x\",\"y\":\"Load_StatusPlugLoadSlowCooker \",\"yref\":\"y\"},{\"showarrow\":false,\"text\":\"\",\"x\":1,\"xref\":\"x\",\"y\":\"Load_StatusPlugLoadSlowCooker \",\"yref\":\"y\"},{\"showarrow\":false,\"text\":\"\",\"x\":2,\"xref\":\"x\",\"y\":\"Load_StatusPlugLoadSlowCooker \",\"yref\":\"y\"},{\"showarrow\":false,\"text\":\"\",\"x\":3,\"xref\":\"x\",\"y\":\"Load_StatusPlugLoadSlowCooker \",\"yref\":\"y\"},{\"showarrow\":false,\"text\":\"\",\"x\":4,\"xref\":\"x\",\"y\":\"Load_StatusPlugLoadSlowCooker \",\"yref\":\"y\"},{\"showarrow\":false,\"text\":\"\",\"x\":5,\"xref\":\"x\",\"y\":\"Load_StatusPlugLoadSlowCooker \",\"yref\":\"y\"},{\"showarrow\":false,\"text\":\"\",\"x\":6,\"xref\":\"x\",\"y\":\"Load_StatusPlugLoadSlowCooker \",\"yref\":\"y\"},{\"showarrow\":false,\"text\":\"\",\"x\":7,\"xref\":\"x\",\"y\":\"Load_StatusPlugLoadSlowCooker \",\"yref\":\"y\"},{\"showarrow\":false,\"text\":\"0.51\",\"x\":8,\"xref\":\"x\",\"y\":\"Load_StatusPlugLoadSlowCooker \",\"yref\":\"y\"},{\"showarrow\":false,\"text\":\"1.0\",\"x\":9,\"xref\":\"x\",\"y\":\"Load_StatusPlugLoadSlowCooker \",\"yref\":\"y\"},{\"showarrow\":false,\"text\":\"0.49\",\"x\":10,\"xref\":\"x\",\"y\":\"Load_StatusPlugLoadSlowCooker \",\"yref\":\"y\"},{\"showarrow\":false,\"text\":\"\",\"x\":11,\"xref\":\"x\",\"y\":\"Load_StatusPlugLoadSlowCooker \",\"yref\":\"y\"},{\"showarrow\":false,\"text\":\"\",\"x\":12,\"xref\":\"x\",\"y\":\"Load_StatusPlugLoadSlowCooker \",\"yref\":\"y\"},{\"showarrow\":false,\"text\":\"\",\"x\":13,\"xref\":\"x\",\"y\":\"Load_StatusPlugLoadSlowCooker \",\"yref\":\"y\"},{\"showarrow\":false,\"text\":\"\",\"x\":14,\"xref\":\"x\",\"y\":\"Load_StatusPlugLoadSlowCooker \",\"yref\":\"y\"},{\"showarrow\":false,\"text\":\"\",\"x\":15,\"xref\":\"x\",\"y\":\"Load_StatusPlugLoadSlowCooker \",\"yref\":\"y\"},{\"showarrow\":false,\"text\":\"\",\"x\":16,\"xref\":\"x\",\"y\":\"Load_StatusPlugLoadSlowCooker \",\"yref\":\"y\"},{\"showarrow\":false,\"text\":\"\",\"x\":17,\"xref\":\"x\",\"y\":\"Load_StatusPlugLoadSlowCooker \",\"yref\":\"y\"},{\"showarrow\":false,\"text\":\"\",\"x\":18,\"xref\":\"x\",\"y\":\"Load_StatusPlugLoadSlowCooker \",\"yref\":\"y\"},{\"showarrow\":false,\"text\":\"\",\"x\":19,\"xref\":\"x\",\"y\":\"Load_StatusPlugLoadSlowCooker \",\"yref\":\"y\"},{\"showarrow\":false,\"text\":\"\",\"x\":20,\"xref\":\"x\",\"y\":\"Load_StatusPlugLoadSlowCooker \",\"yref\":\"y\"},{\"showarrow\":false,\"text\":\"\",\"x\":21,\"xref\":\"x\",\"y\":\"Load_StatusPlugLoadSlowCooker \",\"yref\":\"y\"},{\"showarrow\":false,\"text\":\"\",\"x\":22,\"xref\":\"x\",\"y\":\"Load_StatusPlugLoadSlowCooker \",\"yref\":\"y\"},{\"showarrow\":false,\"text\":\"\",\"x\":23,\"xref\":\"x\",\"y\":\"Load_StatusPlugLoadSlowCooker \",\"yref\":\"y\"},{\"showarrow\":false,\"text\":\"\",\"x\":0,\"xref\":\"x\",\"y\":\"Load_StatusPlugLoadToaster \",\"yref\":\"y\"},{\"showarrow\":false,\"text\":\"\",\"x\":1,\"xref\":\"x\",\"y\":\"Load_StatusPlugLoadToaster \",\"yref\":\"y\"},{\"showarrow\":false,\"text\":\"\",\"x\":2,\"xref\":\"x\",\"y\":\"Load_StatusPlugLoadToaster \",\"yref\":\"y\"},{\"showarrow\":false,\"text\":\"\",\"x\":3,\"xref\":\"x\",\"y\":\"Load_StatusPlugLoadToaster \",\"yref\":\"y\"},{\"showarrow\":false,\"text\":\"\",\"x\":4,\"xref\":\"x\",\"y\":\"Load_StatusPlugLoadToaster \",\"yref\":\"y\"},{\"showarrow\":false,\"text\":\"\",\"x\":5,\"xref\":\"x\",\"y\":\"Load_StatusPlugLoadToaster \",\"yref\":\"y\"},{\"showarrow\":false,\"text\":\"1.0\",\"x\":6,\"xref\":\"x\",\"y\":\"Load_StatusPlugLoadToaster \",\"yref\":\"y\"},{\"showarrow\":false,\"text\":\"\",\"x\":7,\"xref\":\"x\",\"y\":\"Load_StatusPlugLoadToaster \",\"yref\":\"y\"},{\"showarrow\":false,\"text\":\"\",\"x\":8,\"xref\":\"x\",\"y\":\"Load_StatusPlugLoadToaster \",\"yref\":\"y\"},{\"showarrow\":false,\"text\":\"0.39\",\"x\":9,\"xref\":\"x\",\"y\":\"Load_StatusPlugLoadToaster \",\"yref\":\"y\"},{\"showarrow\":false,\"text\":\"\",\"x\":10,\"xref\":\"x\",\"y\":\"Load_StatusPlugLoadToaster \",\"yref\":\"y\"},{\"showarrow\":false,\"text\":\"\",\"x\":11,\"xref\":\"x\",\"y\":\"Load_StatusPlugLoadToaster \",\"yref\":\"y\"},{\"showarrow\":false,\"text\":\"\",\"x\":12,\"xref\":\"x\",\"y\":\"Load_StatusPlugLoadToaster \",\"yref\":\"y\"},{\"showarrow\":false,\"text\":\"\",\"x\":13,\"xref\":\"x\",\"y\":\"Load_StatusPlugLoadToaster \",\"yref\":\"y\"},{\"showarrow\":false,\"text\":\"\",\"x\":14,\"xref\":\"x\",\"y\":\"Load_StatusPlugLoadToaster \",\"yref\":\"y\"},{\"showarrow\":false,\"text\":\"\",\"x\":15,\"xref\":\"x\",\"y\":\"Load_StatusPlugLoadToaster \",\"yref\":\"y\"},{\"showarrow\":false,\"text\":\"\",\"x\":16,\"xref\":\"x\",\"y\":\"Load_StatusPlugLoadToaster \",\"yref\":\"y\"},{\"showarrow\":false,\"text\":\"\",\"x\":17,\"xref\":\"x\",\"y\":\"Load_StatusPlugLoadToaster \",\"yref\":\"y\"},{\"showarrow\":false,\"text\":\"\",\"x\":18,\"xref\":\"x\",\"y\":\"Load_StatusPlugLoadToaster \",\"yref\":\"y\"},{\"showarrow\":false,\"text\":\"\",\"x\":19,\"xref\":\"x\",\"y\":\"Load_StatusPlugLoadToaster \",\"yref\":\"y\"},{\"showarrow\":false,\"text\":\"\",\"x\":20,\"xref\":\"x\",\"y\":\"Load_StatusPlugLoadToaster \",\"yref\":\"y\"},{\"showarrow\":false,\"text\":\"\",\"x\":21,\"xref\":\"x\",\"y\":\"Load_StatusPlugLoadToaster \",\"yref\":\"y\"},{\"showarrow\":false,\"text\":\"\",\"x\":22,\"xref\":\"x\",\"y\":\"Load_StatusPlugLoadToaster \",\"yref\":\"y\"},{\"showarrow\":false,\"text\":\"\",\"x\":23,\"xref\":\"x\",\"y\":\"Load_StatusPlugLoadToaster \",\"yref\":\"y\"},{\"showarrow\":false,\"text\":\"\",\"x\":0,\"xref\":\"x\",\"y\":\"Load_StatusPlugLoadHandMixer \",\"yref\":\"y\"},{\"showarrow\":false,\"text\":\"\",\"x\":1,\"xref\":\"x\",\"y\":\"Load_StatusPlugLoadHandMixer \",\"yref\":\"y\"},{\"showarrow\":false,\"text\":\"0.01\",\"x\":2,\"xref\":\"x\",\"y\":\"Load_StatusPlugLoadHandMixer \",\"yref\":\"y\"},{\"showarrow\":false,\"text\":\"\",\"x\":3,\"xref\":\"x\",\"y\":\"Load_StatusPlugLoadHandMixer \",\"yref\":\"y\"},{\"showarrow\":false,\"text\":\"\",\"x\":4,\"xref\":\"x\",\"y\":\"Load_StatusPlugLoadHandMixer \",\"yref\":\"y\"},{\"showarrow\":false,\"text\":\"\",\"x\":5,\"xref\":\"x\",\"y\":\"Load_StatusPlugLoadHandMixer \",\"yref\":\"y\"},{\"showarrow\":false,\"text\":\"\",\"x\":6,\"xref\":\"x\",\"y\":\"Load_StatusPlugLoadHandMixer \",\"yref\":\"y\"},{\"showarrow\":false,\"text\":\"\",\"x\":7,\"xref\":\"x\",\"y\":\"Load_StatusPlugLoadHandMixer \",\"yref\":\"y\"},{\"showarrow\":false,\"text\":\"\",\"x\":8,\"xref\":\"x\",\"y\":\"Load_StatusPlugLoadHandMixer \",\"yref\":\"y\"},{\"showarrow\":false,\"text\":\"\",\"x\":9,\"xref\":\"x\",\"y\":\"Load_StatusPlugLoadHandMixer \",\"yref\":\"y\"},{\"showarrow\":false,\"text\":\"\",\"x\":10,\"xref\":\"x\",\"y\":\"Load_StatusPlugLoadHandMixer \",\"yref\":\"y\"},{\"showarrow\":false,\"text\":\"\",\"x\":11,\"xref\":\"x\",\"y\":\"Load_StatusPlugLoadHandMixer \",\"yref\":\"y\"},{\"showarrow\":false,\"text\":\"\",\"x\":12,\"xref\":\"x\",\"y\":\"Load_StatusPlugLoadHandMixer \",\"yref\":\"y\"},{\"showarrow\":false,\"text\":\"\",\"x\":13,\"xref\":\"x\",\"y\":\"Load_StatusPlugLoadHandMixer \",\"yref\":\"y\"},{\"showarrow\":false,\"text\":\"\",\"x\":14,\"xref\":\"x\",\"y\":\"Load_StatusPlugLoadHandMixer \",\"yref\":\"y\"},{\"showarrow\":false,\"text\":\"\",\"x\":15,\"xref\":\"x\",\"y\":\"Load_StatusPlugLoadHandMixer \",\"yref\":\"y\"},{\"showarrow\":false,\"text\":\"\",\"x\":16,\"xref\":\"x\",\"y\":\"Load_StatusPlugLoadHandMixer \",\"yref\":\"y\"},{\"showarrow\":false,\"text\":\"\",\"x\":17,\"xref\":\"x\",\"y\":\"Load_StatusPlugLoadHandMixer \",\"yref\":\"y\"},{\"showarrow\":false,\"text\":\"1.0\",\"x\":18,\"xref\":\"x\",\"y\":\"Load_StatusPlugLoadHandMixer \",\"yref\":\"y\"},{\"showarrow\":false,\"text\":\"0.17\",\"x\":19,\"xref\":\"x\",\"y\":\"Load_StatusPlugLoadHandMixer \",\"yref\":\"y\"},{\"showarrow\":false,\"text\":\"\",\"x\":20,\"xref\":\"x\",\"y\":\"Load_StatusPlugLoadHandMixer \",\"yref\":\"y\"},{\"showarrow\":false,\"text\":\"\",\"x\":21,\"xref\":\"x\",\"y\":\"Load_StatusPlugLoadHandMixer \",\"yref\":\"y\"},{\"showarrow\":false,\"text\":\"\",\"x\":22,\"xref\":\"x\",\"y\":\"Load_StatusPlugLoadHandMixer \",\"yref\":\"y\"},{\"showarrow\":false,\"text\":\"\",\"x\":23,\"xref\":\"x\",\"y\":\"Load_StatusPlugLoadHandMixer \",\"yref\":\"y\"},{\"showarrow\":false,\"text\":\"\",\"x\":0,\"xref\":\"x\",\"y\":\"Load_StatusPlugLoadCanOpener \",\"yref\":\"y\"},{\"showarrow\":false,\"text\":\"\",\"x\":1,\"xref\":\"x\",\"y\":\"Load_StatusPlugLoadCanOpener \",\"yref\":\"y\"},{\"showarrow\":false,\"text\":\"0.01\",\"x\":2,\"xref\":\"x\",\"y\":\"Load_StatusPlugLoadCanOpener \",\"yref\":\"y\"},{\"showarrow\":false,\"text\":\"\",\"x\":3,\"xref\":\"x\",\"y\":\"Load_StatusPlugLoadCanOpener \",\"yref\":\"y\"},{\"showarrow\":false,\"text\":\"\",\"x\":4,\"xref\":\"x\",\"y\":\"Load_StatusPlugLoadCanOpener \",\"yref\":\"y\"},{\"showarrow\":false,\"text\":\"\",\"x\":5,\"xref\":\"x\",\"y\":\"Load_StatusPlugLoadCanOpener \",\"yref\":\"y\"},{\"showarrow\":false,\"text\":\"\",\"x\":6,\"xref\":\"x\",\"y\":\"Load_StatusPlugLoadCanOpener \",\"yref\":\"y\"},{\"showarrow\":false,\"text\":\"\",\"x\":7,\"xref\":\"x\",\"y\":\"Load_StatusPlugLoadCanOpener \",\"yref\":\"y\"},{\"showarrow\":false,\"text\":\"\",\"x\":8,\"xref\":\"x\",\"y\":\"Load_StatusPlugLoadCanOpener \",\"yref\":\"y\"},{\"showarrow\":false,\"text\":\"\",\"x\":9,\"xref\":\"x\",\"y\":\"Load_StatusPlugLoadCanOpener \",\"yref\":\"y\"},{\"showarrow\":false,\"text\":\"\",\"x\":10,\"xref\":\"x\",\"y\":\"Load_StatusPlugLoadCanOpener \",\"yref\":\"y\"},{\"showarrow\":false,\"text\":\"\",\"x\":11,\"xref\":\"x\",\"y\":\"Load_StatusPlugLoadCanOpener \",\"yref\":\"y\"},{\"showarrow\":false,\"text\":\"\",\"x\":12,\"xref\":\"x\",\"y\":\"Load_StatusPlugLoadCanOpener \",\"yref\":\"y\"},{\"showarrow\":false,\"text\":\"\",\"x\":13,\"xref\":\"x\",\"y\":\"Load_StatusPlugLoadCanOpener \",\"yref\":\"y\"},{\"showarrow\":false,\"text\":\"\",\"x\":14,\"xref\":\"x\",\"y\":\"Load_StatusPlugLoadCanOpener \",\"yref\":\"y\"},{\"showarrow\":false,\"text\":\"\",\"x\":15,\"xref\":\"x\",\"y\":\"Load_StatusPlugLoadCanOpener \",\"yref\":\"y\"},{\"showarrow\":false,\"text\":\"\",\"x\":16,\"xref\":\"x\",\"y\":\"Load_StatusPlugLoadCanOpener \",\"yref\":\"y\"},{\"showarrow\":false,\"text\":\"\",\"x\":17,\"xref\":\"x\",\"y\":\"Load_StatusPlugLoadCanOpener \",\"yref\":\"y\"},{\"showarrow\":false,\"text\":\"1.0\",\"x\":18,\"xref\":\"x\",\"y\":\"Load_StatusPlugLoadCanOpener \",\"yref\":\"y\"},{\"showarrow\":false,\"text\":\"0.17\",\"x\":19,\"xref\":\"x\",\"y\":\"Load_StatusPlugLoadCanOpener \",\"yref\":\"y\"},{\"showarrow\":false,\"text\":\"0.01\",\"x\":20,\"xref\":\"x\",\"y\":\"Load_StatusPlugLoadCanOpener \",\"yref\":\"y\"},{\"showarrow\":false,\"text\":\"0.01\",\"x\":21,\"xref\":\"x\",\"y\":\"Load_StatusPlugLoadCanOpener \",\"yref\":\"y\"},{\"showarrow\":false,\"text\":\"0.01\",\"x\":22,\"xref\":\"x\",\"y\":\"Load_StatusPlugLoadCanOpener \",\"yref\":\"y\"},{\"showarrow\":false,\"text\":\"0.02\",\"x\":23,\"xref\":\"x\",\"y\":\"Load_StatusPlugLoadCanOpener \",\"yref\":\"y\"},{\"showarrow\":false,\"text\":\"\",\"x\":0,\"xref\":\"x\",\"y\":\"Load_StatusPlugLoadCoffeeMaker \",\"yref\":\"y\"},{\"showarrow\":false,\"text\":\"\",\"x\":1,\"xref\":\"x\",\"y\":\"Load_StatusPlugLoadCoffeeMaker \",\"yref\":\"y\"},{\"showarrow\":false,\"text\":\"\",\"x\":2,\"xref\":\"x\",\"y\":\"Load_StatusPlugLoadCoffeeMaker \",\"yref\":\"y\"},{\"showarrow\":false,\"text\":\"\",\"x\":3,\"xref\":\"x\",\"y\":\"Load_StatusPlugLoadCoffeeMaker \",\"yref\":\"y\"},{\"showarrow\":false,\"text\":\"\",\"x\":4,\"xref\":\"x\",\"y\":\"Load_StatusPlugLoadCoffeeMaker \",\"yref\":\"y\"},{\"showarrow\":false,\"text\":\"\",\"x\":5,\"xref\":\"x\",\"y\":\"Load_StatusPlugLoadCoffeeMaker \",\"yref\":\"y\"},{\"showarrow\":false,\"text\":\"1.0\",\"x\":6,\"xref\":\"x\",\"y\":\"Load_StatusPlugLoadCoffeeMaker \",\"yref\":\"y\"},{\"showarrow\":false,\"text\":\"0.05\",\"x\":7,\"xref\":\"x\",\"y\":\"Load_StatusPlugLoadCoffeeMaker \",\"yref\":\"y\"},{\"showarrow\":false,\"text\":\"\",\"x\":8,\"xref\":\"x\",\"y\":\"Load_StatusPlugLoadCoffeeMaker \",\"yref\":\"y\"},{\"showarrow\":false,\"text\":\"0.39\",\"x\":9,\"xref\":\"x\",\"y\":\"Load_StatusPlugLoadCoffeeMaker \",\"yref\":\"y\"},{\"showarrow\":false,\"text\":\"0.02\",\"x\":10,\"xref\":\"x\",\"y\":\"Load_StatusPlugLoadCoffeeMaker \",\"yref\":\"y\"},{\"showarrow\":false,\"text\":\"\",\"x\":11,\"xref\":\"x\",\"y\":\"Load_StatusPlugLoadCoffeeMaker \",\"yref\":\"y\"},{\"showarrow\":false,\"text\":\"0.02\",\"x\":12,\"xref\":\"x\",\"y\":\"Load_StatusPlugLoadCoffeeMaker \",\"yref\":\"y\"},{\"showarrow\":false,\"text\":\"\",\"x\":13,\"xref\":\"x\",\"y\":\"Load_StatusPlugLoadCoffeeMaker \",\"yref\":\"y\"},{\"showarrow\":false,\"text\":\"\",\"x\":14,\"xref\":\"x\",\"y\":\"Load_StatusPlugLoadCoffeeMaker \",\"yref\":\"y\"},{\"showarrow\":false,\"text\":\"\",\"x\":15,\"xref\":\"x\",\"y\":\"Load_StatusPlugLoadCoffeeMaker \",\"yref\":\"y\"},{\"showarrow\":false,\"text\":\"\",\"x\":16,\"xref\":\"x\",\"y\":\"Load_StatusPlugLoadCoffeeMaker \",\"yref\":\"y\"},{\"showarrow\":false,\"text\":\"\",\"x\":17,\"xref\":\"x\",\"y\":\"Load_StatusPlugLoadCoffeeMaker \",\"yref\":\"y\"},{\"showarrow\":false,\"text\":\"0.06\",\"x\":18,\"xref\":\"x\",\"y\":\"Load_StatusPlugLoadCoffeeMaker \",\"yref\":\"y\"},{\"showarrow\":false,\"text\":\"\",\"x\":19,\"xref\":\"x\",\"y\":\"Load_StatusPlugLoadCoffeeMaker \",\"yref\":\"y\"},{\"showarrow\":false,\"text\":\"\",\"x\":20,\"xref\":\"x\",\"y\":\"Load_StatusPlugLoadCoffeeMaker \",\"yref\":\"y\"},{\"showarrow\":false,\"text\":\"\",\"x\":21,\"xref\":\"x\",\"y\":\"Load_StatusPlugLoadCoffeeMaker \",\"yref\":\"y\"},{\"showarrow\":false,\"text\":\"\",\"x\":22,\"xref\":\"x\",\"y\":\"Load_StatusPlugLoadCoffeeMaker \",\"yref\":\"y\"},{\"showarrow\":false,\"text\":\"\",\"x\":23,\"xref\":\"x\",\"y\":\"Load_StatusPlugLoadCoffeeMaker \",\"yref\":\"y\"}],\"font\":{\"size\":16},\"margin\":{\"b\":30,\"l\":30,\"r\":30,\"t\":50},\"template\":{\"data\":{\"bar\":[{\"error_x\":{\"color\":\"#2a3f5f\"},\"error_y\":{\"color\":\"#2a3f5f\"},\"marker\":{\"line\":{\"color\":\"#E5ECF6\",\"width\":0.5},\"pattern\":{\"fillmode\":\"overlay\",\"size\":10,\"solidity\":0.2}},\"type\":\"bar\"}],\"barpolar\":[{\"marker\":{\"line\":{\"color\":\"#E5ECF6\",\"width\":0.5},\"pattern\":{\"fillmode\":\"overlay\",\"size\":10,\"solidity\":0.2}},\"type\":\"barpolar\"}],\"carpet\":[{\"aaxis\":{\"endlinecolor\":\"#2a3f5f\",\"gridcolor\":\"white\",\"linecolor\":\"white\",\"minorgridcolor\":\"white\",\"startlinecolor\":\"#2a3f5f\"},\"baxis\":{\"endlinecolor\":\"#2a3f5f\",\"gridcolor\":\"white\",\"linecolor\":\"white\",\"minorgridcolor\":\"white\",\"startlinecolor\":\"#2a3f5f\"},\"type\":\"carpet\"}],\"choropleth\":[{\"colorbar\":{\"outlinewidth\":0,\"ticks\":\"\"},\"type\":\"choropleth\"}],\"contour\":[{\"colorbar\":{\"outlinewidth\":0,\"ticks\":\"\"},\"colorscale\":[[0.0,\"#0d0887\"],[0.1111111111111111,\"#46039f\"],[0.2222222222222222,\"#7201a8\"],[0.3333333333333333,\"#9c179e\"],[0.4444444444444444,\"#bd3786\"],[0.5555555555555556,\"#d8576b\"],[0.6666666666666666,\"#ed7953\"],[0.7777777777777778,\"#fb9f3a\"],[0.8888888888888888,\"#fdca26\"],[1.0,\"#f0f921\"]],\"type\":\"contour\"}],\"contourcarpet\":[{\"colorbar\":{\"outlinewidth\":0,\"ticks\":\"\"},\"type\":\"contourcarpet\"}],\"heatmap\":[{\"colorbar\":{\"outlinewidth\":0,\"ticks\":\"\"},\"colorscale\":[[0.0,\"#0d0887\"],[0.1111111111111111,\"#46039f\"],[0.2222222222222222,\"#7201a8\"],[0.3333333333333333,\"#9c179e\"],[0.4444444444444444,\"#bd3786\"],[0.5555555555555556,\"#d8576b\"],[0.6666666666666666,\"#ed7953\"],[0.7777777777777778,\"#fb9f3a\"],[0.8888888888888888,\"#fdca26\"],[1.0,\"#f0f921\"]],\"type\":\"heatmap\"}],\"heatmapgl\":[{\"colorbar\":{\"outlinewidth\":0,\"ticks\":\"\"},\"colorscale\":[[0.0,\"#0d0887\"],[0.1111111111111111,\"#46039f\"],[0.2222222222222222,\"#7201a8\"],[0.3333333333333333,\"#9c179e\"],[0.4444444444444444,\"#bd3786\"],[0.5555555555555556,\"#d8576b\"],[0.6666666666666666,\"#ed7953\"],[0.7777777777777778,\"#fb9f3a\"],[0.8888888888888888,\"#fdca26\"],[1.0,\"#f0f921\"]],\"type\":\"heatmapgl\"}],\"histogram\":[{\"marker\":{\"pattern\":{\"fillmode\":\"overlay\",\"size\":10,\"solidity\":0.2}},\"type\":\"histogram\"}],\"histogram2d\":[{\"colorbar\":{\"outlinewidth\":0,\"ticks\":\"\"},\"colorscale\":[[0.0,\"#0d0887\"],[0.1111111111111111,\"#46039f\"],[0.2222222222222222,\"#7201a8\"],[0.3333333333333333,\"#9c179e\"],[0.4444444444444444,\"#bd3786\"],[0.5555555555555556,\"#d8576b\"],[0.6666666666666666,\"#ed7953\"],[0.7777777777777778,\"#fb9f3a\"],[0.8888888888888888,\"#fdca26\"],[1.0,\"#f0f921\"]],\"type\":\"histogram2d\"}],\"histogram2dcontour\":[{\"colorbar\":{\"outlinewidth\":0,\"ticks\":\"\"},\"colorscale\":[[0.0,\"#0d0887\"],[0.1111111111111111,\"#46039f\"],[0.2222222222222222,\"#7201a8\"],[0.3333333333333333,\"#9c179e\"],[0.4444444444444444,\"#bd3786\"],[0.5555555555555556,\"#d8576b\"],[0.6666666666666666,\"#ed7953\"],[0.7777777777777778,\"#fb9f3a\"],[0.8888888888888888,\"#fdca26\"],[1.0,\"#f0f921\"]],\"type\":\"histogram2dcontour\"}],\"mesh3d\":[{\"colorbar\":{\"outlinewidth\":0,\"ticks\":\"\"},\"type\":\"mesh3d\"}],\"parcoords\":[{\"line\":{\"colorbar\":{\"outlinewidth\":0,\"ticks\":\"\"}},\"type\":\"parcoords\"}],\"pie\":[{\"automargin\":true,\"type\":\"pie\"}],\"scatter\":[{\"marker\":{\"colorbar\":{\"outlinewidth\":0,\"ticks\":\"\"}},\"type\":\"scatter\"}],\"scatter3d\":[{\"line\":{\"colorbar\":{\"outlinewidth\":0,\"ticks\":\"\"}},\"marker\":{\"colorbar\":{\"outlinewidth\":0,\"ticks\":\"\"}},\"type\":\"scatter3d\"}],\"scattercarpet\":[{\"marker\":{\"colorbar\":{\"outlinewidth\":0,\"ticks\":\"\"}},\"type\":\"scattercarpet\"}],\"scattergeo\":[{\"marker\":{\"colorbar\":{\"outlinewidth\":0,\"ticks\":\"\"}},\"type\":\"scattergeo\"}],\"scattergl\":[{\"marker\":{\"colorbar\":{\"outlinewidth\":0,\"ticks\":\"\"}},\"type\":\"scattergl\"}],\"scattermapbox\":[{\"marker\":{\"colorbar\":{\"outlinewidth\":0,\"ticks\":\"\"}},\"type\":\"scattermapbox\"}],\"scatterpolar\":[{\"marker\":{\"colorbar\":{\"outlinewidth\":0,\"ticks\":\"\"}},\"type\":\"scatterpolar\"}],\"scatterpolargl\":[{\"marker\":{\"colorbar\":{\"outlinewidth\":0,\"ticks\":\"\"}},\"type\":\"scatterpolargl\"}],\"scatterternary\":[{\"marker\":{\"colorbar\":{\"outlinewidth\":0,\"ticks\":\"\"}},\"type\":\"scatterternary\"}],\"surface\":[{\"colorbar\":{\"outlinewidth\":0,\"ticks\":\"\"},\"colorscale\":[[0.0,\"#0d0887\"],[0.1111111111111111,\"#46039f\"],[0.2222222222222222,\"#7201a8\"],[0.3333333333333333,\"#9c179e\"],[0.4444444444444444,\"#bd3786\"],[0.5555555555555556,\"#d8576b\"],[0.6666666666666666,\"#ed7953\"],[0.7777777777777778,\"#fb9f3a\"],[0.8888888888888888,\"#fdca26\"],[1.0,\"#f0f921\"]],\"type\":\"surface\"}],\"table\":[{\"cells\":{\"fill\":{\"color\":\"#EBF0F8\"},\"line\":{\"color\":\"white\"}},\"header\":{\"fill\":{\"color\":\"#C8D4E3\"},\"line\":{\"color\":\"white\"}},\"type\":\"table\"}]},\"layout\":{\"annotationdefaults\":{\"arrowcolor\":\"#2a3f5f\",\"arrowhead\":0,\"arrowwidth\":1},\"autotypenumbers\":\"strict\",\"coloraxis\":{\"colorbar\":{\"outlinewidth\":0,\"ticks\":\"\"}},\"colorscale\":{\"diverging\":[[0,\"#8e0152\"],[0.1,\"#c51b7d\"],[0.2,\"#de77ae\"],[0.3,\"#f1b6da\"],[0.4,\"#fde0ef\"],[0.5,\"#f7f7f7\"],[0.6,\"#e6f5d0\"],[0.7,\"#b8e186\"],[0.8,\"#7fbc41\"],[0.9,\"#4d9221\"],[1,\"#276419\"]],\"sequential\":[[0.0,\"#0d0887\"],[0.1111111111111111,\"#46039f\"],[0.2222222222222222,\"#7201a8\"],[0.3333333333333333,\"#9c179e\"],[0.4444444444444444,\"#bd3786\"],[0.5555555555555556,\"#d8576b\"],[0.6666666666666666,\"#ed7953\"],[0.7777777777777778,\"#fb9f3a\"],[0.8888888888888888,\"#fdca26\"],[1.0,\"#f0f921\"]],\"sequentialminus\":[[0.0,\"#0d0887\"],[0.1111111111111111,\"#46039f\"],[0.2222222222222222,\"#7201a8\"],[0.3333333333333333,\"#9c179e\"],[0.4444444444444444,\"#bd3786\"],[0.5555555555555556,\"#d8576b\"],[0.6666666666666666,\"#ed7953\"],[0.7777777777777778,\"#fb9f3a\"],[0.8888888888888888,\"#fdca26\"],[1.0,\"#f0f921\"]]},\"colorway\":[\"#636efa\",\"#EF553B\",\"#00cc96\",\"#ab63fa\",\"#FFA15A\",\"#19d3f3\",\"#FF6692\",\"#B6E880\",\"#FF97FF\",\"#FECB52\"],\"font\":{\"color\":\"#2a3f5f\"},\"geo\":{\"bgcolor\":\"white\",\"lakecolor\":\"white\",\"landcolor\":\"#E5ECF6\",\"showlakes\":true,\"showland\":true,\"subunitcolor\":\"white\"},\"hoverlabel\":{\"align\":\"left\"},\"hovermode\":\"closest\",\"mapbox\":{\"style\":\"light\"},\"paper_bgcolor\":\"white\",\"plot_bgcolor\":\"#E5ECF6\",\"polar\":{\"angularaxis\":{\"gridcolor\":\"white\",\"linecolor\":\"white\",\"ticks\":\"\"},\"bgcolor\":\"#E5ECF6\",\"radialaxis\":{\"gridcolor\":\"white\",\"linecolor\":\"white\",\"ticks\":\"\"}},\"scene\":{\"xaxis\":{\"backgroundcolor\":\"#E5ECF6\",\"gridcolor\":\"white\",\"gridwidth\":2,\"linecolor\":\"white\",\"showbackground\":true,\"ticks\":\"\",\"zerolinecolor\":\"white\"},\"yaxis\":{\"backgroundcolor\":\"#E5ECF6\",\"gridcolor\":\"white\",\"gridwidth\":2,\"linecolor\":\"white\",\"showbackground\":true,\"ticks\":\"\",\"zerolinecolor\":\"white\"},\"zaxis\":{\"backgroundcolor\":\"#E5ECF6\",\"gridcolor\":\"white\",\"gridwidth\":2,\"linecolor\":\"white\",\"showbackground\":true,\"ticks\":\"\",\"zerolinecolor\":\"white\"}},\"shapedefaults\":{\"line\":{\"color\":\"#2a3f5f\"}},\"ternary\":{\"aaxis\":{\"gridcolor\":\"white\",\"linecolor\":\"white\",\"ticks\":\"\"},\"baxis\":{\"gridcolor\":\"white\",\"linecolor\":\"white\",\"ticks\":\"\"},\"bgcolor\":\"#E5ECF6\",\"caxis\":{\"gridcolor\":\"white\",\"linecolor\":\"white\",\"ticks\":\"\"}},\"title\":{\"x\":0.05},\"xaxis\":{\"automargin\":true,\"gridcolor\":\"white\",\"linecolor\":\"white\",\"ticks\":\"\",\"title\":{\"standoff\":15},\"zerolinecolor\":\"white\",\"zerolinewidth\":2},\"yaxis\":{\"automargin\":true,\"gridcolor\":\"white\",\"linecolor\":\"white\",\"ticks\":\"\",\"title\":{\"standoff\":15},\"zerolinecolor\":\"white\",\"zerolinewidth\":2}}},\"xaxis\":{\"nticks\":30,\"title\":{\"text\":\"Hour of day\"}},\"yaxis\":{\"showticklabels\":true,\"title\":{\"text\":\"Appliance\"}}},                        {\"responsive\": true}                    ).then(function(){\n                            \nvar gd = document.getElementById('4402fe8d-0a8a-42db-bddb-ff3b702fb51a');\nvar x = new MutationObserver(function (mutations, observer) {{\n        var display = window.getComputedStyle(gd).display;\n        if (!display || display === 'none') {{\n            console.log([gd, 'removed!']);\n            Plotly.purge(gd);\n            observer.disconnect();\n        }}\n}});\n\n// Listen for the removal of the full notebook cells\nvar notebookContainer = gd.closest('#notebook-container');\nif (notebookContainer) {{\n    x.observe(notebookContainer, {childList: true});\n}}\n\n// Listen for the clearing of the current output cell\nvar outputEl = gd.closest('.output');\nif (outputEl) {{\n    x.observe(outputEl, {childList: true});\n}}\n\n                        })                };                });            </script>        </div>"
     },
     "metadata": {},
     "output_type": "display_data"
    }
   ],
   "source": [
    "import plotly.graph_objects as go\n",
    "\n",
    "#set up data to heatmap\n",
    "columns = hourON.columns[1:].tolist()\n",
    "hourON[columns] = normalise_dataframe(hourON[columns])\n",
    "z_data = []\n",
    "for i in hourON[columns]:\n",
    "    data_list = hourON[i].round(2).values.tolist()\n",
    "    z_data.append(data_list)\n",
    "\n",
    "#Annotate z_values\n",
    "annotations = go.Annotations()\n",
    "for n, row in enumerate(z_data):\n",
    "    for m, val in enumerate(row):\n",
    "        annotations.append(go.Annotation(text=\"\" if z_data[n][m] == 0 else str(z_data[n][m]),\n",
    "                                         x=hourON[\"HourOfTimestamp\"][m], y=columns[n], xref='x1', yref='y1',\n",
    "                                         showarrow=False))\n",
    "\n",
    "#Create heatmap\n",
    "fig = go.Figure(data=go.Heatmap(\n",
    "    z=z_data,\n",
    "    x=hourON[\"HourOfTimestamp\"],\n",
    "    y=columns,\n",
    "    colorscale='Teal')\n",
    ")\n",
    "\n",
    "fig.update_layout(margin=dict(\n",
    "    l=30,\n",
    "    r=30,\n",
    "    b=30,\n",
    "    t=50,),\n",
    "    font=dict(size=16),\n",
    "    xaxis_nticks=30,\n",
    "    annotations=annotations, )\n",
    "\n",
    "fig.update_xaxes(title=\"Hour of day\")\n",
    "fig.update_yaxes(title=\"Appliance\", showticklabels=True)\n",
    "fig.write_html(Db.get_save_file_directory(f\"Appliance_on_ratio_heatmap.html\"))\n",
    "fig.show()"
   ]
  },
  {
   "cell_type": "code",
   "execution_count": 25,
   "outputs": [
    {
     "name": "stderr",
     "output_type": "stream",
     "text": [
      "/Users/christiannielsen/Documents/Conda_environments/lib/python3.9/site-packages/plotly/graph_objs/_deprecations.py:62: DeprecationWarning:\n",
      "\n",
      "plotly.graph_objs.Annotations is deprecated.\n",
      "Please replace it with a list or tuple of instances of the following types\n",
      "  - plotly.graph_objs.layout.Annotation\n",
      "  - plotly.graph_objs.layout.scene.Annotation\n",
      "\n",
      "\n",
      "/Users/christiannielsen/Documents/Conda_environments/lib/python3.9/site-packages/plotly/graph_objs/_deprecations.py:143: DeprecationWarning:\n",
      "\n",
      "plotly.graph_objs.Annotation is deprecated.\n",
      "Please replace it with one of the following more specific types\n",
      "  - plotly.graph_objs.layout.Annotation\n",
      "  - plotly.graph_objs.layout.scene.Annotation\n",
      "\n",
      "\n"
     ]
    },
    {
     "data": {
      "application/vnd.plotly.v1+json": {
       "config": {
        "plotlyServerURL": "https://plot.ly"
       },
       "data": [
        {
         "colorscale": [
          [
           0.0,
           "rgb(209, 238, 234)"
          ],
          [
           0.16666666666666666,
           "rgb(168, 219, 217)"
          ],
          [
           0.3333333333333333,
           "rgb(133, 196, 201)"
          ],
          [
           0.5,
           "rgb(104, 171, 184)"
          ],
          [
           0.6666666666666666,
           "rgb(79, 144, 166)"
          ],
          [
           0.8333333333333334,
           "rgb(59, 115, 143)"
          ],
          [
           1.0,
           "rgb(42, 86, 116)"
          ]
         ],
         "type": "heatmap",
         "x": [
          0,
          1,
          2,
          3,
          4,
          5,
          6,
          7,
          8,
          9,
          10,
          11,
          12,
          13,
          14,
          15,
          16,
          17,
          18,
          19,
          20,
          21,
          22,
          23
         ],
         "y": [
          "Load_KPlugLoadsPowerUsage",
          "Load_MBRPlugLoadsPowerUsage",
          "Load_BR2PlugLoadsPowerUsage",
          "Load_BR3PlugLoadsPowerUsage",
          "Load_BR4PlugLoadsPowerUsage",
          "Load_1stFloorSensHeatPowerUsage",
          "Load_2ndFloorSensHeatPowerUsage",
          "Load_1stFloorLightsPowerUsage",
          "Load_2ndFloorLightsPowerUsage",
          "Load_LatentHeatPowerUsage",
          "Load_DryerPowerTotal",
          "Load_OvenPowerTotal",
          "Load_BasementPlugLoadsPowerUsage",
          "Load_ClothesWasherPowerWithStandby",
          "Load_RefrigeratorPowerWithStandby",
          "Load_MicrowavePowerWithStandby",
          "Elec_PowerDryer1of2",
          "Elec_PowerDryer2of2",
          "Elec_PowerHRV",
          "Elec_PowerHeatPumpWH1of2",
          "Elec_PowerHeatPumpWH2of2",
          "Elec_PowerMakeUpAirDamper",
          "Elec_PowerLights2ndFloor",
          "Elec_PowerPlugsMBAEast",
          "Elec_PowerPlugsBA2South",
          "Elec_PowerPlugsMBAWest",
          "Elec_PowerPlugsBA2North",
          "Elec_PowerPlugsBR3",
          "Elec_PowerRefrigerator",
          "Elec_PowerPlugsKitSink",
          "Elec_PowerGarbageDisposal",
          "Elec_PowerPlugsKitRange",
          "Elec_PowerPlugsKitPeninsula",
          "Elec_PowerMicrowave",
          "Elec_PowerPlugs2ndFloor",
          "Elec_PowerSpare2",
          "Elec_PowerPlugsBR2",
          "Elec_PowerPlugsMBR",
          "Elec_PowerLights1stFloorA",
          "Elec_PowerLights1stFloorB",
          "Elec_PowerDishwasher",
          "Elec_PowerPlugsGSHPInstrumentation",
          "Elec_PowerPlugsInstMudroomA",
          "Elec_PowerPlugsHVACInstrumentation",
          "Elec_PowerPlugsInstBA1",
          "Elec_PowerLightsAttic",
          "Elec_PowerPlugsInstKitA",
          "Elec_PowerPlugsInstMudroomB",
          "Elec_PowerParentADownstairs",
          "Elec_PowerPlugsInstDRA",
          "Elec_PowerPlugsInstBR4A",
          "Elec_PowerChildBDownstairs",
          "Elec_PowerPlugsInstBR4B",
          "Elec_PowerPlugsInstLRA",
          "Elec_PowerChildADownstairs",
          "Elec_PowerPlugsInstLRB",
          "Elec_PowerPlugsInstBA2",
          "Elec_PowerPlugsInstMBAB",
          "Elec_PowerPlugsInstBR2Hall",
          "Elec_PowerParentAUpstairs",
          "Elec_PowerPlugsInstHall",
          "Elec_PowerLightingControlPanelRPS1",
          "Elec_PowerPlugsInstBR3",
          "Elec_PowerChildAUpstairs",
          "Elec_PowerChildBUpstairs",
          "Elec_PowerLightingControlPanelRPS2",
          "Elec_PowerLightsBasement",
          "Elec_PowerParentBUpstairs",
          "Elec_PowerParentBDownstairs",
          "Elec_PowerPlugsInstKitD",
          "Elec_PowerPlugsDRB",
          "Elec_PowerPlugsAttic",
          "DHW_HeatPumpWaterHeaterPowerTotal",
          "DHW_SHWPumpsPowerWithStandby",
          "HVAC_HeatPumpIndoorUnitPower",
          "HVAC_HeatPumpOutdoorUnitPower",
          "HVAC_DehumidifierPower"
         ],
         "z": [
          [
           1.0,
           1.0,
           0.0,
           0.25,
           0.25,
           0.25,
           0.25,
           0.25,
           0.75,
           0.75,
           0.75,
           0.75,
           0.5,
           0.5,
           0.0,
           0.0,
           0.25,
           0.5,
           0.75,
           0.5,
           0.5,
           0.5,
           0.5,
           0.5
          ],
          [
           0.17,
           0.0,
           0.0,
           0.0,
           0.0,
           0.0,
           0.71,
           0.04,
           0.0,
           0.0,
           0.0,
           0.0,
           0.0,
           0.0,
           0.14,
           0.0,
           0.0,
           0.07,
           0.14,
           0.0,
           0.0,
           0.35,
           0.72,
           1.0
          ],
          [
           1.0,
           1.0,
           0.0,
           0.25,
           0.25,
           0.25,
           0.25,
           0.25,
           0.75,
           0.75,
           0.75,
           0.75,
           0.75,
           0.75,
           0.25,
           0.25,
           0.5,
           0.75,
           0.75,
           0.75,
           0.75,
           0.75,
           0.75,
           0.75
          ],
          [
           0.0,
           0.0,
           0.01,
           0.01,
           0.0,
           0.0,
           0.0,
           0.0,
           0.0,
           0.0,
           0.0,
           0.0,
           0.0,
           0.0,
           0.0,
           0.0,
           0.0,
           0.07,
           1.0,
           1.0,
           0.86,
           0.0,
           0.0,
           0.0
          ],
          [
           0.0,
           0.01,
           0.01,
           0.0,
           0.0,
           0.0,
           0.0,
           0.0,
           0.28,
           0.28,
           0.28,
           0.28,
           0.28,
           0.28,
           0.28,
           0.28,
           0.28,
           0.28,
           1.0,
           0.86,
           0.71,
           0.71,
           0.71,
           0.0
          ],
          [
           0.0,
           0.0,
           0.0,
           0.0,
           0.0,
           0.33,
           0.71,
           0.71,
           0.99,
           0.28,
           0.28,
           0.28,
           0.28,
           0.28,
           0.28,
           0.42,
           0.57,
           0.59,
           0.93,
           1.0,
           1.0,
           1.0,
           1.0,
           0.28
          ],
          [
           0.98,
           0.99,
           0.98,
           0.98,
           0.98,
           0.98,
           0.99,
           0.31,
           0.28,
           0.22,
           0.28,
           0.28,
           0.28,
           0.08,
           0.14,
           0.0,
           0.29,
           0.6,
           1.0,
           1.0,
           1.0,
           0.85,
           1.0,
           1.0
          ],
          [
           0.0,
           0.0,
           0.01,
           0.01,
           0.01,
           0.34,
           0.72,
           0.72,
           0.99,
           0.47,
           0.24,
           0.19,
           0.09,
           0.16,
           0.24,
           0.23,
           0.37,
           0.46,
           0.93,
           1.0,
           1.0,
           1.0,
           1.0,
           0.28
          ],
          [
           0.08,
           0.0,
           0.0,
           0.71,
           0.71,
           0.33,
           0.71,
           0.21,
           0.31,
           0.28,
           0.28,
           0.01,
           0.13,
           0.06,
           0.14,
           0.0,
           0.29,
           0.45,
           1.0,
           0.99,
           1.0,
           0.85,
           1.0,
           0.44
          ],
          [
           0.99,
           0.99,
           0.98,
           0.98,
           0.98,
           0.98,
           0.97,
           0.98,
           0.98,
           0.01,
           0.0,
           0.01,
           0.02,
           0.03,
           0.03,
           0.49,
           0.99,
           1.0,
           1.0,
           1.0,
           1.0,
           1.0,
           1.0,
           1.0
          ],
          [
           0.0,
           0.0,
           0.0,
           0.0,
           0.0,
           0.0,
           0.0,
           0.02,
           0.02,
           0.01,
           0.02,
           0.01,
           0.98,
           0.99,
           0.41,
           1.0,
           0.0,
           0.0,
           0.02,
           0.0,
           0.51,
           0.5,
           0.01,
           0.01
          ],
          [
           1.0,
           1.0,
           0.0,
           0.25,
           0.25,
           0.25,
           0.25,
           0.25,
           0.75,
           0.75,
           0.75,
           0.75,
           0.75,
           0.75,
           0.25,
           0.25,
           0.5,
           0.75,
           0.75,
           0.75,
           0.75,
           0.75,
           0.75,
           0.75
          ],
          [
           1.0,
           1.0,
           0.0,
           0.25,
           0.25,
           0.25,
           0.25,
           0.25,
           0.75,
           0.5,
           0.5,
           0.5,
           0.5,
           0.5,
           0.0,
           0.0,
           0.25,
           0.5,
           0.75,
           0.75,
           0.75,
           0.75,
           0.75,
           0.5
          ],
          [
           1.0,
           1.0,
           0.0,
           0.25,
           0.25,
           0.25,
           0.25,
           0.25,
           0.75,
           0.75,
           0.75,
           0.75,
           0.5,
           0.5,
           0.0,
           0.0,
           0.25,
           0.5,
           0.5,
           0.5,
           0.5,
           0.5,
           0.5,
           0.5
          ],
          [
           1.0,
           1.0,
           0.0,
           0.25,
           0.25,
           0.25,
           0.25,
           0.25,
           0.75,
           0.75,
           0.75,
           0.75,
           0.75,
           0.75,
           0.25,
           0.25,
           0.5,
           0.75,
           0.75,
           0.75,
           0.75,
           0.75,
           0.75,
           0.75
          ],
          [
           1.0,
           1.0,
           0.0,
           0.25,
           0.25,
           0.25,
           0.25,
           0.25,
           0.75,
           0.75,
           0.75,
           0.75,
           0.75,
           0.75,
           0.25,
           0.25,
           0.5,
           0.75,
           0.75,
           0.75,
           0.75,
           0.75,
           0.75,
           0.75
          ],
          [
           0.0,
           0.0,
           0.0,
           0.0,
           0.0,
           0.0,
           0.0,
           0.02,
           0.02,
           0.01,
           0.02,
           0.01,
           0.98,
           0.99,
           0.41,
           1.0,
           0.0,
           0.0,
           0.02,
           0.0,
           0.51,
           0.5,
           0.01,
           0.01
          ],
          [
           0.0,
           0.0,
           0.0,
           0.0,
           0.0,
           0.0,
           0.0,
           0.0,
           0.0,
           0.0,
           0.0,
           0.0,
           1.0,
           0.71,
           0.2,
           1.0,
           0.0,
           0.0,
           0.0,
           0.0,
           0.52,
           0.38,
           0.01,
           0.01
          ],
          [
           1.0,
           1.0,
           0.0,
           0.25,
           0.25,
           0.25,
           0.25,
           0.25,
           0.75,
           0.75,
           0.75,
           0.75,
           0.5,
           0.5,
           0.25,
           0.25,
           0.25,
           0.75,
           0.75,
           0.75,
           0.75,
           0.75,
           0.75,
           0.75
          ],
          [
           null,
           null,
           null,
           null,
           null,
           null,
           null,
           null,
           null,
           null,
           null,
           null,
           null,
           null,
           null,
           null,
           null,
           null,
           null,
           null,
           null,
           null,
           null,
           null
          ],
          [
           0.09,
           0.02,
           0.0,
           0.04,
           0.23,
           0.24,
           0.99,
           0.85,
           0.85,
           0.52,
           0.37,
           0.05,
           0.32,
           0.52,
           0.45,
           0.21,
           0.21,
           0.16,
           0.9,
           0.73,
           0.73,
           1.0,
           0.93,
           0.34
          ],
          [
           0.0,
           0.0,
           0.01,
           0.0,
           0.0,
           0.0,
           0.02,
           0.0,
           0.3,
           0.06,
           0.0,
           0.0,
           0.3,
           0.31,
           0.12,
           0.3,
           0.0,
           0.01,
           1.0,
           0.16,
           0.16,
           0.17,
           0.01,
           0.01
          ],
          [
           0.08,
           0.0,
           0.0,
           0.71,
           0.71,
           0.33,
           0.71,
           0.21,
           0.31,
           0.28,
           0.28,
           0.01,
           0.13,
           0.06,
           0.14,
           0.0,
           0.29,
           0.45,
           1.0,
           0.99,
           1.0,
           0.85,
           1.0,
           0.44
          ],
          [
           0.0,
           0.0,
           0.0,
           0.0,
           0.0,
           0.0,
           1.0,
           0.0,
           0.0,
           0.0,
           0.39,
           0.0,
           0.0,
           0.0,
           0.0,
           0.0,
           0.0,
           0.0,
           0.0,
           0.0,
           0.0,
           0.0,
           0.0,
           0.0
          ],
          [
           null,
           null,
           null,
           null,
           null,
           null,
           null,
           null,
           null,
           null,
           null,
           null,
           null,
           null,
           null,
           null,
           null,
           null,
           null,
           null,
           null,
           null,
           null,
           null
          ],
          [
           0.33,
           0.33,
           0.0,
           0.33,
           0.33,
           0.33,
           0.33,
           0.33,
           0.67,
           0.33,
           0.33,
           0.33,
           0.33,
           0.33,
           0.0,
           0.33,
           0.67,
           1.0,
           1.0,
           1.0,
           1.0,
           1.0,
           1.0,
           1.0
          ],
          [
           0.0,
           0.0,
           0.0,
           0.0,
           0.0,
           0.0,
           0.0,
           0.0,
           0.0,
           1.0,
           1.0,
           1.0,
           0.0,
           0.0,
           1.0,
           0.0,
           0.0,
           0.0,
           1.0,
           0.0,
           1.0,
           0.0,
           1.0,
           0.0
          ],
          [
           0.0,
           0.0,
           0.01,
           0.01,
           0.0,
           0.0,
           0.0,
           0.0,
           0.0,
           0.0,
           0.0,
           0.0,
           0.0,
           0.0,
           0.0,
           0.0,
           0.0,
           0.07,
           1.0,
           1.0,
           0.86,
           0.0,
           0.0,
           0.0
          ],
          [
           1.0,
           0.75,
           0.0,
           0.25,
           0.25,
           0.25,
           0.0,
           0.25,
           0.5,
           0.5,
           0.5,
           0.5,
           0.5,
           0.5,
           0.0,
           0.0,
           0.25,
           0.25,
           0.5,
           0.5,
           0.5,
           0.5,
           0.5,
           0.5
          ],
          [
           0.0,
           0.0,
           0.0,
           0.0,
           0.0,
           0.0,
           1.0,
           0.0,
           0.2,
           0.59,
           0.2,
           0.0,
           0.0,
           0.0,
           0.0,
           0.0,
           0.0,
           0.0,
           0.0,
           0.0,
           0.0,
           0.0,
           0.0,
           0.0
          ],
          [
           0.0,
           0.0,
           0.01,
           0.0,
           0.0,
           0.0,
           0.0,
           0.0,
           0.3,
           0.0,
           0.0,
           0.0,
           0.3,
           0.0,
           0.0,
           0.0,
           0.0,
           0.01,
           1.0,
           0.16,
           0.01,
           0.0,
           0.0,
           0.0
          ],
          [
           0.0,
           0.0,
           0.01,
           0.0,
           0.0,
           0.0,
           0.77,
           0.0,
           0.3,
           0.3,
           0.0,
           0.0,
           0.3,
           0.0,
           0.0,
           0.0,
           0.0,
           0.02,
           1.0,
           0.16,
           0.0,
           0.0,
           0.0,
           0.0
          ],
          [
           0.0,
           0.0,
           0.01,
           0.0,
           0.0,
           0.0,
           0.0,
           0.0,
           0.0,
           0.0,
           0.0,
           0.0,
           0.0,
           0.0,
           0.0,
           0.0,
           0.0,
           0.0,
           1.0,
           0.17,
           0.0,
           0.0,
           0.0,
           0.0
          ],
          [
           0.0,
           0.0,
           0.0,
           0.0,
           0.0,
           0.03,
           0.84,
           0.0,
           0.01,
           0.35,
           0.0,
           0.0,
           0.33,
           0.01,
           0.0,
           0.0,
           0.0,
           0.0,
           1.0,
           0.0,
           0.0,
           0.0,
           0.0,
           0.0
          ],
          [
           1.0,
           1.0,
           0.0,
           0.25,
           0.25,
           0.25,
           0.25,
           0.25,
           0.75,
           0.75,
           0.75,
           0.75,
           0.75,
           0.75,
           0.25,
           0.25,
           0.5,
           0.75,
           0.75,
           0.75,
           0.75,
           0.75,
           0.75,
           0.75
          ],
          [
           0.33,
           0.33,
           0.0,
           0.33,
           0.33,
           0.33,
           0.33,
           0.33,
           0.67,
           0.33,
           0.33,
           0.33,
           0.33,
           0.33,
           0.33,
           0.33,
           0.67,
           1.0,
           1.0,
           1.0,
           1.0,
           1.0,
           1.0,
           1.0
          ],
          [
           1.0,
           1.0,
           0.0,
           0.25,
           0.25,
           0.25,
           0.25,
           0.25,
           0.75,
           0.75,
           0.75,
           0.75,
           0.75,
           0.75,
           0.25,
           0.25,
           0.5,
           0.75,
           0.75,
           0.75,
           0.75,
           0.75,
           0.75,
           0.75
          ],
          [
           0.17,
           0.0,
           0.0,
           0.0,
           0.0,
           0.0,
           0.71,
           0.04,
           0.0,
           0.0,
           0.0,
           0.0,
           0.0,
           0.0,
           0.14,
           0.0,
           0.0,
           0.07,
           0.14,
           0.0,
           0.0,
           0.35,
           0.72,
           1.0
          ],
          [
           0.0,
           0.01,
           0.01,
           0.01,
           0.01,
           0.01,
           0.01,
           0.34,
           0.71,
           0.0,
           0.0,
           0.0,
           0.0,
           0.0,
           0.0,
           0.0,
           0.0,
           0.35,
           0.86,
           0.86,
           0.93,
           1.0,
           1.0,
           0.29
          ],
          [
           0.0,
           0.0,
           0.01,
           0.01,
           0.01,
           0.34,
           0.72,
           0.72,
           0.99,
           0.29,
           0.03,
           0.01,
           0.01,
           0.01,
           0.01,
           0.02,
           0.29,
           0.42,
           0.93,
           1.0,
           1.0,
           1.0,
           1.0,
           0.28
          ],
          [
           0.0,
           0.0,
           0.0,
           0.0,
           0.0,
           0.01,
           0.01,
           0.0,
           0.0,
           0.0,
           0.0,
           0.0,
           0.0,
           0.0,
           0.0,
           0.0,
           0.0,
           0.0,
           0.0,
           0.0,
           0.8,
           1.0,
           0.88,
           0.01
          ],
          [
           0.14,
           0.11,
           0.07,
           0.04,
           0.0,
           0.0,
           0.04,
           0.09,
           0.22,
           0.65,
           0.84,
           0.84,
           0.92,
           0.96,
           0.98,
           1.0,
           0.8,
           0.13,
           0.18,
           0.16,
           0.15,
           0.17,
           0.21,
           0.19
          ],
          [
           1.0,
           0.06,
           0.06,
           0.06,
           0.06,
           0.06,
           0.0,
           0.12,
           0.12,
           0.12,
           0.06,
           0.18,
           0.06,
           0.0,
           0.12,
           0.12,
           0.12,
           0.06,
           0.06,
           0.29,
           0.24,
           0.12,
           0.12,
           0.12
          ],
          [
           1.0,
           0.25,
           0.1,
           0.1,
           0.1,
           0.1,
           0.05,
           0.2,
           0.25,
           0.0,
           0.1,
           0.15,
           0.15,
           0.1,
           0.15,
           0.1,
           0.15,
           0.05,
           0.05,
           0.25,
           0.2,
           0.1,
           0.1,
           0.1
          ],
          [
           null,
           null,
           null,
           null,
           null,
           null,
           null,
           null,
           null,
           null,
           null,
           null,
           null,
           null,
           null,
           null,
           null,
           null,
           null,
           null,
           null,
           null,
           null,
           null
          ],
          [
           0.2,
           0.0,
           0.0,
           0.0,
           0.0,
           0.0,
           0.0,
           0.0,
           0.2,
           0.4,
           0.2,
           0.2,
           0.2,
           1.0,
           0.4,
           0.4,
           0.2,
           0.2,
           0.6,
           0.0,
           0.4,
           0.4,
           0.8,
           1.0
          ],
          [
           1.0,
           0.06,
           0.06,
           0.06,
           0.06,
           0.06,
           0.0,
           0.12,
           0.06,
           0.06,
           0.12,
           0.12,
           0.0,
           0.0,
           0.06,
           0.18,
           0.06,
           0.06,
           0.06,
           0.29,
           0.24,
           0.12,
           0.12,
           0.12
          ],
          [
           null,
           null,
           null,
           null,
           null,
           null,
           null,
           null,
           null,
           null,
           null,
           null,
           null,
           null,
           null,
           null,
           null,
           null,
           null,
           null,
           null,
           null,
           null,
           null
          ],
          [
           0.0,
           0.0,
           0.0,
           0.0,
           0.0,
           0.0,
           0.71,
           0.71,
           0.99,
           0.28,
           0.02,
           0.0,
           0.28,
           0.28,
           0.28,
           0.28,
           0.28,
           0.28,
           0.86,
           0.86,
           1.0,
           1.0,
           1.0,
           0.29
          ],
          [
           1.0,
           0.06,
           0.06,
           0.06,
           0.06,
           0.06,
           0.0,
           0.18,
           0.41,
           0.59,
           0.53,
           0.29,
           0.18,
           0.29,
           0.35,
           0.18,
           0.12,
           0.0,
           0.0,
           0.24,
           0.18,
           0.06,
           0.06,
           0.06
          ],
          [
           0.0,
           0.0,
           0.0,
           0.0,
           0.0,
           0.0,
           0.0,
           0.0,
           0.0,
           0.5,
           0.5,
           0.5,
           0.5,
           0.0,
           0.5,
           1.0,
           0.5,
           0.0,
           0.0,
           0.0,
           0.0,
           0.0,
           0.0,
           0.0
          ],
          [
           0.01,
           0.01,
           0.0,
           0.0,
           0.01,
           0.0,
           0.33,
           0.71,
           0.11,
           0.28,
           0.02,
           0.0,
           0.13,
           0.28,
           0.28,
           0.28,
           0.28,
           0.58,
           0.86,
           0.86,
           1.0,
           0.29,
           0.01,
           0.0
          ],
          [
           1.0,
           0.06,
           0.06,
           0.06,
           0.06,
           0.06,
           0.0,
           0.12,
           0.12,
           0.06,
           0.06,
           0.12,
           0.06,
           0.0,
           0.06,
           0.12,
           0.06,
           0.0,
           0.0,
           0.24,
           0.18,
           0.06,
           0.06,
           0.06
          ],
          [
           1.0,
           0.06,
           0.06,
           0.06,
           0.06,
           0.06,
           0.0,
           0.12,
           0.12,
           0.12,
           0.0,
           0.18,
           0.12,
           0.12,
           0.06,
           0.29,
           0.18,
           0.06,
           0.0,
           0.24,
           0.18,
           0.06,
           0.06,
           0.06
          ],
          [
           0.01,
           0.01,
           0.0,
           0.0,
           0.01,
           0.0,
           0.34,
           0.71,
           0.11,
           0.28,
           0.28,
           0.02,
           0.13,
           0.28,
           0.28,
           0.14,
           0.42,
           0.4,
           0.3,
           0.86,
           1.0,
           0.29,
           0.29,
           0.01
          ],
          [
           null,
           null,
           null,
           null,
           null,
           null,
           null,
           null,
           null,
           null,
           null,
           null,
           null,
           null,
           null,
           null,
           null,
           null,
           null,
           null,
           null,
           null,
           null,
           null
          ],
          [
           1.0,
           0.06,
           0.06,
           0.06,
           0.06,
           0.06,
           0.0,
           0.12,
           0.12,
           0.06,
           0.0,
           0.12,
           0.06,
           0.0,
           0.06,
           0.12,
           0.06,
           0.0,
           0.06,
           0.29,
           0.24,
           0.12,
           0.12,
           0.06
          ],
          [
           0.0,
           0.0,
           0.0,
           0.0,
           0.0,
           0.0,
           0.0,
           0.0,
           0.0,
           0.33,
           0.33,
           0.33,
           0.33,
           1.0,
           1.0,
           0.67,
           0.33,
           0.33,
           0.33,
           0.33,
           0.67,
           0.33,
           0.33,
           0.33
          ],
          [
           1.0,
           0.06,
           0.06,
           0.06,
           0.06,
           0.06,
           0.0,
           0.12,
           0.12,
           0.18,
           0.53,
           0.76,
           0.47,
           0.24,
           0.41,
           0.29,
           0.12,
           0.06,
           0.06,
           0.29,
           0.24,
           0.12,
           0.12,
           0.12
          ],
          [
           0.99,
           0.99,
           0.98,
           0.98,
           0.98,
           0.98,
           0.98,
           0.28,
           0.29,
           0.01,
           0.0,
           0.0,
           0.0,
           0.07,
           0.15,
           0.01,
           0.0,
           0.35,
           0.86,
           0.07,
           0.14,
           0.0,
           0.72,
           1.0
          ],
          [
           null,
           null,
           null,
           null,
           null,
           null,
           null,
           null,
           null,
           null,
           null,
           null,
           null,
           null,
           null,
           null,
           null,
           null,
           null,
           null,
           null,
           null,
           null,
           null
          ],
          [
           1.0,
           1.0,
           0.0,
           0.25,
           0.25,
           0.25,
           0.25,
           0.25,
           0.75,
           0.75,
           0.75,
           0.75,
           0.75,
           0.75,
           0.25,
           0.25,
           0.5,
           0.75,
           0.75,
           0.75,
           0.75,
           0.75,
           0.75,
           0.75
          ],
          [
           1.0,
           0.06,
           0.06,
           0.06,
           0.06,
           0.06,
           0.0,
           0.12,
           0.12,
           0.12,
           0.53,
           0.53,
           0.29,
           0.0,
           0.18,
           0.29,
           0.06,
           0.0,
           0.0,
           0.24,
           0.18,
           0.06,
           0.06,
           0.06
          ],
          [
           0.98,
           0.99,
           0.98,
           0.98,
           0.98,
           0.98,
           0.98,
           0.31,
           0.28,
           0.15,
           0.13,
           0.28,
           0.28,
           0.01,
           0.0,
           0.0,
           0.29,
           0.59,
           1.0,
           1.0,
           0.86,
           0.71,
           0.85,
           1.0
          ],
          [
           0.98,
           0.99,
           0.98,
           0.98,
           0.98,
           0.98,
           0.98,
           0.32,
           0.28,
           0.03,
           0.0,
           0.0,
           0.28,
           0.02,
           0.0,
           0.0,
           0.0,
           0.06,
           1.0,
           1.0,
           1.0,
           0.85,
           1.0,
           1.0
          ],
          [
           1.0,
           1.0,
           0.0,
           0.25,
           0.25,
           0.25,
           0.25,
           0.25,
           0.75,
           0.75,
           0.75,
           0.75,
           0.75,
           0.75,
           0.25,
           0.25,
           0.5,
           0.75,
           0.75,
           0.75,
           0.75,
           0.75,
           0.75,
           0.75
          ],
          [
           0.0,
           0.0,
           0.0,
           0.0,
           0.0,
           0.02,
           0.04,
           0.22,
           0.68,
           0.78,
           0.97,
           0.79,
           0.43,
           0.69,
           1.0,
           0.97,
           0.58,
           0.29,
           0.06,
           0.02,
           0.0,
           0.01,
           0.01,
           0.0
          ],
          [
           0.99,
           0.99,
           0.98,
           0.98,
           0.98,
           0.98,
           1.0,
           0.32,
           0.29,
           0.14,
           0.29,
           0.02,
           0.01,
           0.01,
           0.01,
           0.01,
           0.0,
           0.06,
           0.14,
           0.01,
           0.0,
           0.33,
           0.72,
           1.0
          ],
          [
           0.0,
           0.0,
           0.0,
           0.0,
           0.0,
           0.33,
           0.71,
           0.71,
           0.99,
           0.28,
           0.15,
           0.28,
           0.28,
           0.28,
           0.28,
           0.0,
           0.13,
           0.57,
           0.93,
           1.0,
           1.0,
           1.0,
           0.31,
           0.28
          ],
          [
           0.99,
           0.99,
           0.98,
           0.98,
           0.98,
           0.98,
           0.97,
           0.98,
           0.98,
           0.01,
           0.0,
           0.01,
           0.02,
           0.03,
           0.03,
           0.49,
           0.99,
           1.0,
           1.0,
           1.0,
           1.0,
           1.0,
           1.0,
           1.0
          ],
          [
           0.0,
           0.0,
           0.0,
           0.0,
           0.0,
           0.0,
           0.0,
           0.0,
           0.55,
           1.0,
           0.82,
           0.18,
           0.27,
           0.18,
           0.27,
           0.0,
           0.0,
           0.0,
           0.0,
           0.0,
           0.0,
           0.0,
           0.0,
           0.0
          ],
          [
           0.0,
           0.0,
           0.0,
           0.0,
           0.0,
           0.0,
           0.0,
           0.0,
           0.0,
           0.0,
           0.0,
           0.0,
           0.0,
           0.0,
           0.0,
           0.0,
           0.0,
           0.0,
           0.0,
           0.0,
           0.0,
           0.0,
           1.0,
           1.0
          ],
          [
           1.0,
           1.0,
           0.0,
           0.25,
           0.25,
           0.25,
           0.25,
           0.25,
           0.75,
           0.75,
           0.75,
           0.75,
           0.75,
           0.75,
           0.25,
           0.25,
           0.5,
           0.75,
           0.75,
           0.75,
           0.75,
           0.75,
           0.75,
           0.75
          ],
          [
           1.0,
           1.0,
           0.0,
           0.25,
           0.25,
           0.25,
           0.25,
           0.25,
           0.75,
           0.75,
           0.75,
           0.75,
           0.5,
           0.5,
           0.0,
           0.0,
           0.25,
           0.5,
           0.5,
           0.5,
           0.5,
           0.5,
           0.5,
           0.5
          ],
          [
           0.75,
           0.75,
           0.0,
           0.25,
           0.25,
           0.25,
           0.25,
           0.25,
           0.75,
           1.0,
           1.0,
           0.75,
           0.75,
           0.75,
           0.25,
           0.25,
           0.5,
           0.5,
           0.75,
           0.75,
           0.75,
           0.75,
           0.75,
           0.5
          ],
          [
           1.0,
           1.0,
           0.0,
           0.33,
           0.33,
           0.33,
           0.33,
           0.33,
           1.0,
           1.0,
           1.0,
           0.67,
           0.67,
           0.67,
           0.0,
           0.0,
           0.33,
           0.67,
           0.67,
           0.67,
           0.67,
           0.67,
           0.67,
           0.33
          ],
          [
           null,
           null,
           null,
           null,
           null,
           null,
           null,
           null,
           null,
           null,
           null,
           null,
           null,
           null,
           null,
           null,
           null,
           null,
           null,
           null,
           null,
           null,
           null,
           null
          ]
         ]
        }
       ],
       "layout": {
        "annotations": [
         {
          "showarrow": false,
          "text": "1.0",
          "x": 0,
          "xref": "x",
          "y": "Load_KPlugLoadsPowerUsage",
          "yref": "y"
         },
         {
          "showarrow": false,
          "text": "1.0",
          "x": 1,
          "xref": "x",
          "y": "Load_KPlugLoadsPowerUsage",
          "yref": "y"
         },
         {
          "showarrow": false,
          "text": "",
          "x": 2,
          "xref": "x",
          "y": "Load_KPlugLoadsPowerUsage",
          "yref": "y"
         },
         {
          "showarrow": false,
          "text": "0.25",
          "x": 3,
          "xref": "x",
          "y": "Load_KPlugLoadsPowerUsage",
          "yref": "y"
         },
         {
          "showarrow": false,
          "text": "0.25",
          "x": 4,
          "xref": "x",
          "y": "Load_KPlugLoadsPowerUsage",
          "yref": "y"
         },
         {
          "showarrow": false,
          "text": "0.25",
          "x": 5,
          "xref": "x",
          "y": "Load_KPlugLoadsPowerUsage",
          "yref": "y"
         },
         {
          "showarrow": false,
          "text": "0.25",
          "x": 6,
          "xref": "x",
          "y": "Load_KPlugLoadsPowerUsage",
          "yref": "y"
         },
         {
          "showarrow": false,
          "text": "0.25",
          "x": 7,
          "xref": "x",
          "y": "Load_KPlugLoadsPowerUsage",
          "yref": "y"
         },
         {
          "showarrow": false,
          "text": "0.75",
          "x": 8,
          "xref": "x",
          "y": "Load_KPlugLoadsPowerUsage",
          "yref": "y"
         },
         {
          "showarrow": false,
          "text": "0.75",
          "x": 9,
          "xref": "x",
          "y": "Load_KPlugLoadsPowerUsage",
          "yref": "y"
         },
         {
          "showarrow": false,
          "text": "0.75",
          "x": 10,
          "xref": "x",
          "y": "Load_KPlugLoadsPowerUsage",
          "yref": "y"
         },
         {
          "showarrow": false,
          "text": "0.75",
          "x": 11,
          "xref": "x",
          "y": "Load_KPlugLoadsPowerUsage",
          "yref": "y"
         },
         {
          "showarrow": false,
          "text": "0.5",
          "x": 12,
          "xref": "x",
          "y": "Load_KPlugLoadsPowerUsage",
          "yref": "y"
         },
         {
          "showarrow": false,
          "text": "0.5",
          "x": 13,
          "xref": "x",
          "y": "Load_KPlugLoadsPowerUsage",
          "yref": "y"
         },
         {
          "showarrow": false,
          "text": "",
          "x": 14,
          "xref": "x",
          "y": "Load_KPlugLoadsPowerUsage",
          "yref": "y"
         },
         {
          "showarrow": false,
          "text": "",
          "x": 15,
          "xref": "x",
          "y": "Load_KPlugLoadsPowerUsage",
          "yref": "y"
         },
         {
          "showarrow": false,
          "text": "0.25",
          "x": 16,
          "xref": "x",
          "y": "Load_KPlugLoadsPowerUsage",
          "yref": "y"
         },
         {
          "showarrow": false,
          "text": "0.5",
          "x": 17,
          "xref": "x",
          "y": "Load_KPlugLoadsPowerUsage",
          "yref": "y"
         },
         {
          "showarrow": false,
          "text": "0.75",
          "x": 18,
          "xref": "x",
          "y": "Load_KPlugLoadsPowerUsage",
          "yref": "y"
         },
         {
          "showarrow": false,
          "text": "0.5",
          "x": 19,
          "xref": "x",
          "y": "Load_KPlugLoadsPowerUsage",
          "yref": "y"
         },
         {
          "showarrow": false,
          "text": "0.5",
          "x": 20,
          "xref": "x",
          "y": "Load_KPlugLoadsPowerUsage",
          "yref": "y"
         },
         {
          "showarrow": false,
          "text": "0.5",
          "x": 21,
          "xref": "x",
          "y": "Load_KPlugLoadsPowerUsage",
          "yref": "y"
         },
         {
          "showarrow": false,
          "text": "0.5",
          "x": 22,
          "xref": "x",
          "y": "Load_KPlugLoadsPowerUsage",
          "yref": "y"
         },
         {
          "showarrow": false,
          "text": "0.5",
          "x": 23,
          "xref": "x",
          "y": "Load_KPlugLoadsPowerUsage",
          "yref": "y"
         },
         {
          "showarrow": false,
          "text": "0.17",
          "x": 0,
          "xref": "x",
          "y": "Load_MBRPlugLoadsPowerUsage",
          "yref": "y"
         },
         {
          "showarrow": false,
          "text": "",
          "x": 1,
          "xref": "x",
          "y": "Load_MBRPlugLoadsPowerUsage",
          "yref": "y"
         },
         {
          "showarrow": false,
          "text": "",
          "x": 2,
          "xref": "x",
          "y": "Load_MBRPlugLoadsPowerUsage",
          "yref": "y"
         },
         {
          "showarrow": false,
          "text": "",
          "x": 3,
          "xref": "x",
          "y": "Load_MBRPlugLoadsPowerUsage",
          "yref": "y"
         },
         {
          "showarrow": false,
          "text": "",
          "x": 4,
          "xref": "x",
          "y": "Load_MBRPlugLoadsPowerUsage",
          "yref": "y"
         },
         {
          "showarrow": false,
          "text": "",
          "x": 5,
          "xref": "x",
          "y": "Load_MBRPlugLoadsPowerUsage",
          "yref": "y"
         },
         {
          "showarrow": false,
          "text": "0.71",
          "x": 6,
          "xref": "x",
          "y": "Load_MBRPlugLoadsPowerUsage",
          "yref": "y"
         },
         {
          "showarrow": false,
          "text": "0.04",
          "x": 7,
          "xref": "x",
          "y": "Load_MBRPlugLoadsPowerUsage",
          "yref": "y"
         },
         {
          "showarrow": false,
          "text": "",
          "x": 8,
          "xref": "x",
          "y": "Load_MBRPlugLoadsPowerUsage",
          "yref": "y"
         },
         {
          "showarrow": false,
          "text": "",
          "x": 9,
          "xref": "x",
          "y": "Load_MBRPlugLoadsPowerUsage",
          "yref": "y"
         },
         {
          "showarrow": false,
          "text": "",
          "x": 10,
          "xref": "x",
          "y": "Load_MBRPlugLoadsPowerUsage",
          "yref": "y"
         },
         {
          "showarrow": false,
          "text": "",
          "x": 11,
          "xref": "x",
          "y": "Load_MBRPlugLoadsPowerUsage",
          "yref": "y"
         },
         {
          "showarrow": false,
          "text": "",
          "x": 12,
          "xref": "x",
          "y": "Load_MBRPlugLoadsPowerUsage",
          "yref": "y"
         },
         {
          "showarrow": false,
          "text": "",
          "x": 13,
          "xref": "x",
          "y": "Load_MBRPlugLoadsPowerUsage",
          "yref": "y"
         },
         {
          "showarrow": false,
          "text": "0.14",
          "x": 14,
          "xref": "x",
          "y": "Load_MBRPlugLoadsPowerUsage",
          "yref": "y"
         },
         {
          "showarrow": false,
          "text": "",
          "x": 15,
          "xref": "x",
          "y": "Load_MBRPlugLoadsPowerUsage",
          "yref": "y"
         },
         {
          "showarrow": false,
          "text": "",
          "x": 16,
          "xref": "x",
          "y": "Load_MBRPlugLoadsPowerUsage",
          "yref": "y"
         },
         {
          "showarrow": false,
          "text": "0.07",
          "x": 17,
          "xref": "x",
          "y": "Load_MBRPlugLoadsPowerUsage",
          "yref": "y"
         },
         {
          "showarrow": false,
          "text": "0.14",
          "x": 18,
          "xref": "x",
          "y": "Load_MBRPlugLoadsPowerUsage",
          "yref": "y"
         },
         {
          "showarrow": false,
          "text": "",
          "x": 19,
          "xref": "x",
          "y": "Load_MBRPlugLoadsPowerUsage",
          "yref": "y"
         },
         {
          "showarrow": false,
          "text": "",
          "x": 20,
          "xref": "x",
          "y": "Load_MBRPlugLoadsPowerUsage",
          "yref": "y"
         },
         {
          "showarrow": false,
          "text": "0.35",
          "x": 21,
          "xref": "x",
          "y": "Load_MBRPlugLoadsPowerUsage",
          "yref": "y"
         },
         {
          "showarrow": false,
          "text": "0.72",
          "x": 22,
          "xref": "x",
          "y": "Load_MBRPlugLoadsPowerUsage",
          "yref": "y"
         },
         {
          "showarrow": false,
          "text": "1.0",
          "x": 23,
          "xref": "x",
          "y": "Load_MBRPlugLoadsPowerUsage",
          "yref": "y"
         },
         {
          "showarrow": false,
          "text": "1.0",
          "x": 0,
          "xref": "x",
          "y": "Load_BR2PlugLoadsPowerUsage",
          "yref": "y"
         },
         {
          "showarrow": false,
          "text": "1.0",
          "x": 1,
          "xref": "x",
          "y": "Load_BR2PlugLoadsPowerUsage",
          "yref": "y"
         },
         {
          "showarrow": false,
          "text": "",
          "x": 2,
          "xref": "x",
          "y": "Load_BR2PlugLoadsPowerUsage",
          "yref": "y"
         },
         {
          "showarrow": false,
          "text": "0.25",
          "x": 3,
          "xref": "x",
          "y": "Load_BR2PlugLoadsPowerUsage",
          "yref": "y"
         },
         {
          "showarrow": false,
          "text": "0.25",
          "x": 4,
          "xref": "x",
          "y": "Load_BR2PlugLoadsPowerUsage",
          "yref": "y"
         },
         {
          "showarrow": false,
          "text": "0.25",
          "x": 5,
          "xref": "x",
          "y": "Load_BR2PlugLoadsPowerUsage",
          "yref": "y"
         },
         {
          "showarrow": false,
          "text": "0.25",
          "x": 6,
          "xref": "x",
          "y": "Load_BR2PlugLoadsPowerUsage",
          "yref": "y"
         },
         {
          "showarrow": false,
          "text": "0.25",
          "x": 7,
          "xref": "x",
          "y": "Load_BR2PlugLoadsPowerUsage",
          "yref": "y"
         },
         {
          "showarrow": false,
          "text": "0.75",
          "x": 8,
          "xref": "x",
          "y": "Load_BR2PlugLoadsPowerUsage",
          "yref": "y"
         },
         {
          "showarrow": false,
          "text": "0.75",
          "x": 9,
          "xref": "x",
          "y": "Load_BR2PlugLoadsPowerUsage",
          "yref": "y"
         },
         {
          "showarrow": false,
          "text": "0.75",
          "x": 10,
          "xref": "x",
          "y": "Load_BR2PlugLoadsPowerUsage",
          "yref": "y"
         },
         {
          "showarrow": false,
          "text": "0.75",
          "x": 11,
          "xref": "x",
          "y": "Load_BR2PlugLoadsPowerUsage",
          "yref": "y"
         },
         {
          "showarrow": false,
          "text": "0.75",
          "x": 12,
          "xref": "x",
          "y": "Load_BR2PlugLoadsPowerUsage",
          "yref": "y"
         },
         {
          "showarrow": false,
          "text": "0.75",
          "x": 13,
          "xref": "x",
          "y": "Load_BR2PlugLoadsPowerUsage",
          "yref": "y"
         },
         {
          "showarrow": false,
          "text": "0.25",
          "x": 14,
          "xref": "x",
          "y": "Load_BR2PlugLoadsPowerUsage",
          "yref": "y"
         },
         {
          "showarrow": false,
          "text": "0.25",
          "x": 15,
          "xref": "x",
          "y": "Load_BR2PlugLoadsPowerUsage",
          "yref": "y"
         },
         {
          "showarrow": false,
          "text": "0.5",
          "x": 16,
          "xref": "x",
          "y": "Load_BR2PlugLoadsPowerUsage",
          "yref": "y"
         },
         {
          "showarrow": false,
          "text": "0.75",
          "x": 17,
          "xref": "x",
          "y": "Load_BR2PlugLoadsPowerUsage",
          "yref": "y"
         },
         {
          "showarrow": false,
          "text": "0.75",
          "x": 18,
          "xref": "x",
          "y": "Load_BR2PlugLoadsPowerUsage",
          "yref": "y"
         },
         {
          "showarrow": false,
          "text": "0.75",
          "x": 19,
          "xref": "x",
          "y": "Load_BR2PlugLoadsPowerUsage",
          "yref": "y"
         },
         {
          "showarrow": false,
          "text": "0.75",
          "x": 20,
          "xref": "x",
          "y": "Load_BR2PlugLoadsPowerUsage",
          "yref": "y"
         },
         {
          "showarrow": false,
          "text": "0.75",
          "x": 21,
          "xref": "x",
          "y": "Load_BR2PlugLoadsPowerUsage",
          "yref": "y"
         },
         {
          "showarrow": false,
          "text": "0.75",
          "x": 22,
          "xref": "x",
          "y": "Load_BR2PlugLoadsPowerUsage",
          "yref": "y"
         },
         {
          "showarrow": false,
          "text": "0.75",
          "x": 23,
          "xref": "x",
          "y": "Load_BR2PlugLoadsPowerUsage",
          "yref": "y"
         },
         {
          "showarrow": false,
          "text": "",
          "x": 0,
          "xref": "x",
          "y": "Load_BR3PlugLoadsPowerUsage",
          "yref": "y"
         },
         {
          "showarrow": false,
          "text": "",
          "x": 1,
          "xref": "x",
          "y": "Load_BR3PlugLoadsPowerUsage",
          "yref": "y"
         },
         {
          "showarrow": false,
          "text": "0.01",
          "x": 2,
          "xref": "x",
          "y": "Load_BR3PlugLoadsPowerUsage",
          "yref": "y"
         },
         {
          "showarrow": false,
          "text": "0.01",
          "x": 3,
          "xref": "x",
          "y": "Load_BR3PlugLoadsPowerUsage",
          "yref": "y"
         },
         {
          "showarrow": false,
          "text": "",
          "x": 4,
          "xref": "x",
          "y": "Load_BR3PlugLoadsPowerUsage",
          "yref": "y"
         },
         {
          "showarrow": false,
          "text": "",
          "x": 5,
          "xref": "x",
          "y": "Load_BR3PlugLoadsPowerUsage",
          "yref": "y"
         },
         {
          "showarrow": false,
          "text": "",
          "x": 6,
          "xref": "x",
          "y": "Load_BR3PlugLoadsPowerUsage",
          "yref": "y"
         },
         {
          "showarrow": false,
          "text": "",
          "x": 7,
          "xref": "x",
          "y": "Load_BR3PlugLoadsPowerUsage",
          "yref": "y"
         },
         {
          "showarrow": false,
          "text": "",
          "x": 8,
          "xref": "x",
          "y": "Load_BR3PlugLoadsPowerUsage",
          "yref": "y"
         },
         {
          "showarrow": false,
          "text": "",
          "x": 9,
          "xref": "x",
          "y": "Load_BR3PlugLoadsPowerUsage",
          "yref": "y"
         },
         {
          "showarrow": false,
          "text": "",
          "x": 10,
          "xref": "x",
          "y": "Load_BR3PlugLoadsPowerUsage",
          "yref": "y"
         },
         {
          "showarrow": false,
          "text": "",
          "x": 11,
          "xref": "x",
          "y": "Load_BR3PlugLoadsPowerUsage",
          "yref": "y"
         },
         {
          "showarrow": false,
          "text": "",
          "x": 12,
          "xref": "x",
          "y": "Load_BR3PlugLoadsPowerUsage",
          "yref": "y"
         },
         {
          "showarrow": false,
          "text": "",
          "x": 13,
          "xref": "x",
          "y": "Load_BR3PlugLoadsPowerUsage",
          "yref": "y"
         },
         {
          "showarrow": false,
          "text": "",
          "x": 14,
          "xref": "x",
          "y": "Load_BR3PlugLoadsPowerUsage",
          "yref": "y"
         },
         {
          "showarrow": false,
          "text": "",
          "x": 15,
          "xref": "x",
          "y": "Load_BR3PlugLoadsPowerUsage",
          "yref": "y"
         },
         {
          "showarrow": false,
          "text": "",
          "x": 16,
          "xref": "x",
          "y": "Load_BR3PlugLoadsPowerUsage",
          "yref": "y"
         },
         {
          "showarrow": false,
          "text": "0.07",
          "x": 17,
          "xref": "x",
          "y": "Load_BR3PlugLoadsPowerUsage",
          "yref": "y"
         },
         {
          "showarrow": false,
          "text": "1.0",
          "x": 18,
          "xref": "x",
          "y": "Load_BR3PlugLoadsPowerUsage",
          "yref": "y"
         },
         {
          "showarrow": false,
          "text": "1.0",
          "x": 19,
          "xref": "x",
          "y": "Load_BR3PlugLoadsPowerUsage",
          "yref": "y"
         },
         {
          "showarrow": false,
          "text": "0.86",
          "x": 20,
          "xref": "x",
          "y": "Load_BR3PlugLoadsPowerUsage",
          "yref": "y"
         },
         {
          "showarrow": false,
          "text": "",
          "x": 21,
          "xref": "x",
          "y": "Load_BR3PlugLoadsPowerUsage",
          "yref": "y"
         },
         {
          "showarrow": false,
          "text": "",
          "x": 22,
          "xref": "x",
          "y": "Load_BR3PlugLoadsPowerUsage",
          "yref": "y"
         },
         {
          "showarrow": false,
          "text": "",
          "x": 23,
          "xref": "x",
          "y": "Load_BR3PlugLoadsPowerUsage",
          "yref": "y"
         },
         {
          "showarrow": false,
          "text": "",
          "x": 0,
          "xref": "x",
          "y": "Load_BR4PlugLoadsPowerUsage",
          "yref": "y"
         },
         {
          "showarrow": false,
          "text": "0.01",
          "x": 1,
          "xref": "x",
          "y": "Load_BR4PlugLoadsPowerUsage",
          "yref": "y"
         },
         {
          "showarrow": false,
          "text": "0.01",
          "x": 2,
          "xref": "x",
          "y": "Load_BR4PlugLoadsPowerUsage",
          "yref": "y"
         },
         {
          "showarrow": false,
          "text": "",
          "x": 3,
          "xref": "x",
          "y": "Load_BR4PlugLoadsPowerUsage",
          "yref": "y"
         },
         {
          "showarrow": false,
          "text": "",
          "x": 4,
          "xref": "x",
          "y": "Load_BR4PlugLoadsPowerUsage",
          "yref": "y"
         },
         {
          "showarrow": false,
          "text": "",
          "x": 5,
          "xref": "x",
          "y": "Load_BR4PlugLoadsPowerUsage",
          "yref": "y"
         },
         {
          "showarrow": false,
          "text": "",
          "x": 6,
          "xref": "x",
          "y": "Load_BR4PlugLoadsPowerUsage",
          "yref": "y"
         },
         {
          "showarrow": false,
          "text": "",
          "x": 7,
          "xref": "x",
          "y": "Load_BR4PlugLoadsPowerUsage",
          "yref": "y"
         },
         {
          "showarrow": false,
          "text": "0.28",
          "x": 8,
          "xref": "x",
          "y": "Load_BR4PlugLoadsPowerUsage",
          "yref": "y"
         },
         {
          "showarrow": false,
          "text": "0.28",
          "x": 9,
          "xref": "x",
          "y": "Load_BR4PlugLoadsPowerUsage",
          "yref": "y"
         },
         {
          "showarrow": false,
          "text": "0.28",
          "x": 10,
          "xref": "x",
          "y": "Load_BR4PlugLoadsPowerUsage",
          "yref": "y"
         },
         {
          "showarrow": false,
          "text": "0.28",
          "x": 11,
          "xref": "x",
          "y": "Load_BR4PlugLoadsPowerUsage",
          "yref": "y"
         },
         {
          "showarrow": false,
          "text": "0.28",
          "x": 12,
          "xref": "x",
          "y": "Load_BR4PlugLoadsPowerUsage",
          "yref": "y"
         },
         {
          "showarrow": false,
          "text": "0.28",
          "x": 13,
          "xref": "x",
          "y": "Load_BR4PlugLoadsPowerUsage",
          "yref": "y"
         },
         {
          "showarrow": false,
          "text": "0.28",
          "x": 14,
          "xref": "x",
          "y": "Load_BR4PlugLoadsPowerUsage",
          "yref": "y"
         },
         {
          "showarrow": false,
          "text": "0.28",
          "x": 15,
          "xref": "x",
          "y": "Load_BR4PlugLoadsPowerUsage",
          "yref": "y"
         },
         {
          "showarrow": false,
          "text": "0.28",
          "x": 16,
          "xref": "x",
          "y": "Load_BR4PlugLoadsPowerUsage",
          "yref": "y"
         },
         {
          "showarrow": false,
          "text": "0.28",
          "x": 17,
          "xref": "x",
          "y": "Load_BR4PlugLoadsPowerUsage",
          "yref": "y"
         },
         {
          "showarrow": false,
          "text": "1.0",
          "x": 18,
          "xref": "x",
          "y": "Load_BR4PlugLoadsPowerUsage",
          "yref": "y"
         },
         {
          "showarrow": false,
          "text": "0.86",
          "x": 19,
          "xref": "x",
          "y": "Load_BR4PlugLoadsPowerUsage",
          "yref": "y"
         },
         {
          "showarrow": false,
          "text": "0.71",
          "x": 20,
          "xref": "x",
          "y": "Load_BR4PlugLoadsPowerUsage",
          "yref": "y"
         },
         {
          "showarrow": false,
          "text": "0.71",
          "x": 21,
          "xref": "x",
          "y": "Load_BR4PlugLoadsPowerUsage",
          "yref": "y"
         },
         {
          "showarrow": false,
          "text": "0.71",
          "x": 22,
          "xref": "x",
          "y": "Load_BR4PlugLoadsPowerUsage",
          "yref": "y"
         },
         {
          "showarrow": false,
          "text": "",
          "x": 23,
          "xref": "x",
          "y": "Load_BR4PlugLoadsPowerUsage",
          "yref": "y"
         },
         {
          "showarrow": false,
          "text": "",
          "x": 0,
          "xref": "x",
          "y": "Load_1stFloorSensHeatPowerUsage",
          "yref": "y"
         },
         {
          "showarrow": false,
          "text": "",
          "x": 1,
          "xref": "x",
          "y": "Load_1stFloorSensHeatPowerUsage",
          "yref": "y"
         },
         {
          "showarrow": false,
          "text": "",
          "x": 2,
          "xref": "x",
          "y": "Load_1stFloorSensHeatPowerUsage",
          "yref": "y"
         },
         {
          "showarrow": false,
          "text": "",
          "x": 3,
          "xref": "x",
          "y": "Load_1stFloorSensHeatPowerUsage",
          "yref": "y"
         },
         {
          "showarrow": false,
          "text": "",
          "x": 4,
          "xref": "x",
          "y": "Load_1stFloorSensHeatPowerUsage",
          "yref": "y"
         },
         {
          "showarrow": false,
          "text": "0.33",
          "x": 5,
          "xref": "x",
          "y": "Load_1stFloorSensHeatPowerUsage",
          "yref": "y"
         },
         {
          "showarrow": false,
          "text": "0.71",
          "x": 6,
          "xref": "x",
          "y": "Load_1stFloorSensHeatPowerUsage",
          "yref": "y"
         },
         {
          "showarrow": false,
          "text": "0.71",
          "x": 7,
          "xref": "x",
          "y": "Load_1stFloorSensHeatPowerUsage",
          "yref": "y"
         },
         {
          "showarrow": false,
          "text": "0.99",
          "x": 8,
          "xref": "x",
          "y": "Load_1stFloorSensHeatPowerUsage",
          "yref": "y"
         },
         {
          "showarrow": false,
          "text": "0.28",
          "x": 9,
          "xref": "x",
          "y": "Load_1stFloorSensHeatPowerUsage",
          "yref": "y"
         },
         {
          "showarrow": false,
          "text": "0.28",
          "x": 10,
          "xref": "x",
          "y": "Load_1stFloorSensHeatPowerUsage",
          "yref": "y"
         },
         {
          "showarrow": false,
          "text": "0.28",
          "x": 11,
          "xref": "x",
          "y": "Load_1stFloorSensHeatPowerUsage",
          "yref": "y"
         },
         {
          "showarrow": false,
          "text": "0.28",
          "x": 12,
          "xref": "x",
          "y": "Load_1stFloorSensHeatPowerUsage",
          "yref": "y"
         },
         {
          "showarrow": false,
          "text": "0.28",
          "x": 13,
          "xref": "x",
          "y": "Load_1stFloorSensHeatPowerUsage",
          "yref": "y"
         },
         {
          "showarrow": false,
          "text": "0.28",
          "x": 14,
          "xref": "x",
          "y": "Load_1stFloorSensHeatPowerUsage",
          "yref": "y"
         },
         {
          "showarrow": false,
          "text": "0.42",
          "x": 15,
          "xref": "x",
          "y": "Load_1stFloorSensHeatPowerUsage",
          "yref": "y"
         },
         {
          "showarrow": false,
          "text": "0.57",
          "x": 16,
          "xref": "x",
          "y": "Load_1stFloorSensHeatPowerUsage",
          "yref": "y"
         },
         {
          "showarrow": false,
          "text": "0.59",
          "x": 17,
          "xref": "x",
          "y": "Load_1stFloorSensHeatPowerUsage",
          "yref": "y"
         },
         {
          "showarrow": false,
          "text": "0.93",
          "x": 18,
          "xref": "x",
          "y": "Load_1stFloorSensHeatPowerUsage",
          "yref": "y"
         },
         {
          "showarrow": false,
          "text": "1.0",
          "x": 19,
          "xref": "x",
          "y": "Load_1stFloorSensHeatPowerUsage",
          "yref": "y"
         },
         {
          "showarrow": false,
          "text": "1.0",
          "x": 20,
          "xref": "x",
          "y": "Load_1stFloorSensHeatPowerUsage",
          "yref": "y"
         },
         {
          "showarrow": false,
          "text": "1.0",
          "x": 21,
          "xref": "x",
          "y": "Load_1stFloorSensHeatPowerUsage",
          "yref": "y"
         },
         {
          "showarrow": false,
          "text": "1.0",
          "x": 22,
          "xref": "x",
          "y": "Load_1stFloorSensHeatPowerUsage",
          "yref": "y"
         },
         {
          "showarrow": false,
          "text": "0.28",
          "x": 23,
          "xref": "x",
          "y": "Load_1stFloorSensHeatPowerUsage",
          "yref": "y"
         },
         {
          "showarrow": false,
          "text": "0.98",
          "x": 0,
          "xref": "x",
          "y": "Load_2ndFloorSensHeatPowerUsage",
          "yref": "y"
         },
         {
          "showarrow": false,
          "text": "0.99",
          "x": 1,
          "xref": "x",
          "y": "Load_2ndFloorSensHeatPowerUsage",
          "yref": "y"
         },
         {
          "showarrow": false,
          "text": "0.98",
          "x": 2,
          "xref": "x",
          "y": "Load_2ndFloorSensHeatPowerUsage",
          "yref": "y"
         },
         {
          "showarrow": false,
          "text": "0.98",
          "x": 3,
          "xref": "x",
          "y": "Load_2ndFloorSensHeatPowerUsage",
          "yref": "y"
         },
         {
          "showarrow": false,
          "text": "0.98",
          "x": 4,
          "xref": "x",
          "y": "Load_2ndFloorSensHeatPowerUsage",
          "yref": "y"
         },
         {
          "showarrow": false,
          "text": "0.98",
          "x": 5,
          "xref": "x",
          "y": "Load_2ndFloorSensHeatPowerUsage",
          "yref": "y"
         },
         {
          "showarrow": false,
          "text": "0.99",
          "x": 6,
          "xref": "x",
          "y": "Load_2ndFloorSensHeatPowerUsage",
          "yref": "y"
         },
         {
          "showarrow": false,
          "text": "0.31",
          "x": 7,
          "xref": "x",
          "y": "Load_2ndFloorSensHeatPowerUsage",
          "yref": "y"
         },
         {
          "showarrow": false,
          "text": "0.28",
          "x": 8,
          "xref": "x",
          "y": "Load_2ndFloorSensHeatPowerUsage",
          "yref": "y"
         },
         {
          "showarrow": false,
          "text": "0.22",
          "x": 9,
          "xref": "x",
          "y": "Load_2ndFloorSensHeatPowerUsage",
          "yref": "y"
         },
         {
          "showarrow": false,
          "text": "0.28",
          "x": 10,
          "xref": "x",
          "y": "Load_2ndFloorSensHeatPowerUsage",
          "yref": "y"
         },
         {
          "showarrow": false,
          "text": "0.28",
          "x": 11,
          "xref": "x",
          "y": "Load_2ndFloorSensHeatPowerUsage",
          "yref": "y"
         },
         {
          "showarrow": false,
          "text": "0.28",
          "x": 12,
          "xref": "x",
          "y": "Load_2ndFloorSensHeatPowerUsage",
          "yref": "y"
         },
         {
          "showarrow": false,
          "text": "0.08",
          "x": 13,
          "xref": "x",
          "y": "Load_2ndFloorSensHeatPowerUsage",
          "yref": "y"
         },
         {
          "showarrow": false,
          "text": "0.14",
          "x": 14,
          "xref": "x",
          "y": "Load_2ndFloorSensHeatPowerUsage",
          "yref": "y"
         },
         {
          "showarrow": false,
          "text": "",
          "x": 15,
          "xref": "x",
          "y": "Load_2ndFloorSensHeatPowerUsage",
          "yref": "y"
         },
         {
          "showarrow": false,
          "text": "0.29",
          "x": 16,
          "xref": "x",
          "y": "Load_2ndFloorSensHeatPowerUsage",
          "yref": "y"
         },
         {
          "showarrow": false,
          "text": "0.6",
          "x": 17,
          "xref": "x",
          "y": "Load_2ndFloorSensHeatPowerUsage",
          "yref": "y"
         },
         {
          "showarrow": false,
          "text": "1.0",
          "x": 18,
          "xref": "x",
          "y": "Load_2ndFloorSensHeatPowerUsage",
          "yref": "y"
         },
         {
          "showarrow": false,
          "text": "1.0",
          "x": 19,
          "xref": "x",
          "y": "Load_2ndFloorSensHeatPowerUsage",
          "yref": "y"
         },
         {
          "showarrow": false,
          "text": "1.0",
          "x": 20,
          "xref": "x",
          "y": "Load_2ndFloorSensHeatPowerUsage",
          "yref": "y"
         },
         {
          "showarrow": false,
          "text": "0.85",
          "x": 21,
          "xref": "x",
          "y": "Load_2ndFloorSensHeatPowerUsage",
          "yref": "y"
         },
         {
          "showarrow": false,
          "text": "1.0",
          "x": 22,
          "xref": "x",
          "y": "Load_2ndFloorSensHeatPowerUsage",
          "yref": "y"
         },
         {
          "showarrow": false,
          "text": "1.0",
          "x": 23,
          "xref": "x",
          "y": "Load_2ndFloorSensHeatPowerUsage",
          "yref": "y"
         },
         {
          "showarrow": false,
          "text": "",
          "x": 0,
          "xref": "x",
          "y": "Load_1stFloorLightsPowerUsage",
          "yref": "y"
         },
         {
          "showarrow": false,
          "text": "",
          "x": 1,
          "xref": "x",
          "y": "Load_1stFloorLightsPowerUsage",
          "yref": "y"
         },
         {
          "showarrow": false,
          "text": "0.01",
          "x": 2,
          "xref": "x",
          "y": "Load_1stFloorLightsPowerUsage",
          "yref": "y"
         },
         {
          "showarrow": false,
          "text": "0.01",
          "x": 3,
          "xref": "x",
          "y": "Load_1stFloorLightsPowerUsage",
          "yref": "y"
         },
         {
          "showarrow": false,
          "text": "0.01",
          "x": 4,
          "xref": "x",
          "y": "Load_1stFloorLightsPowerUsage",
          "yref": "y"
         },
         {
          "showarrow": false,
          "text": "0.34",
          "x": 5,
          "xref": "x",
          "y": "Load_1stFloorLightsPowerUsage",
          "yref": "y"
         },
         {
          "showarrow": false,
          "text": "0.72",
          "x": 6,
          "xref": "x",
          "y": "Load_1stFloorLightsPowerUsage",
          "yref": "y"
         },
         {
          "showarrow": false,
          "text": "0.72",
          "x": 7,
          "xref": "x",
          "y": "Load_1stFloorLightsPowerUsage",
          "yref": "y"
         },
         {
          "showarrow": false,
          "text": "0.99",
          "x": 8,
          "xref": "x",
          "y": "Load_1stFloorLightsPowerUsage",
          "yref": "y"
         },
         {
          "showarrow": false,
          "text": "0.47",
          "x": 9,
          "xref": "x",
          "y": "Load_1stFloorLightsPowerUsage",
          "yref": "y"
         },
         {
          "showarrow": false,
          "text": "0.24",
          "x": 10,
          "xref": "x",
          "y": "Load_1stFloorLightsPowerUsage",
          "yref": "y"
         },
         {
          "showarrow": false,
          "text": "0.19",
          "x": 11,
          "xref": "x",
          "y": "Load_1stFloorLightsPowerUsage",
          "yref": "y"
         },
         {
          "showarrow": false,
          "text": "0.09",
          "x": 12,
          "xref": "x",
          "y": "Load_1stFloorLightsPowerUsage",
          "yref": "y"
         },
         {
          "showarrow": false,
          "text": "0.16",
          "x": 13,
          "xref": "x",
          "y": "Load_1stFloorLightsPowerUsage",
          "yref": "y"
         },
         {
          "showarrow": false,
          "text": "0.24",
          "x": 14,
          "xref": "x",
          "y": "Load_1stFloorLightsPowerUsage",
          "yref": "y"
         },
         {
          "showarrow": false,
          "text": "0.23",
          "x": 15,
          "xref": "x",
          "y": "Load_1stFloorLightsPowerUsage",
          "yref": "y"
         },
         {
          "showarrow": false,
          "text": "0.37",
          "x": 16,
          "xref": "x",
          "y": "Load_1stFloorLightsPowerUsage",
          "yref": "y"
         },
         {
          "showarrow": false,
          "text": "0.46",
          "x": 17,
          "xref": "x",
          "y": "Load_1stFloorLightsPowerUsage",
          "yref": "y"
         },
         {
          "showarrow": false,
          "text": "0.93",
          "x": 18,
          "xref": "x",
          "y": "Load_1stFloorLightsPowerUsage",
          "yref": "y"
         },
         {
          "showarrow": false,
          "text": "1.0",
          "x": 19,
          "xref": "x",
          "y": "Load_1stFloorLightsPowerUsage",
          "yref": "y"
         },
         {
          "showarrow": false,
          "text": "1.0",
          "x": 20,
          "xref": "x",
          "y": "Load_1stFloorLightsPowerUsage",
          "yref": "y"
         },
         {
          "showarrow": false,
          "text": "1.0",
          "x": 21,
          "xref": "x",
          "y": "Load_1stFloorLightsPowerUsage",
          "yref": "y"
         },
         {
          "showarrow": false,
          "text": "1.0",
          "x": 22,
          "xref": "x",
          "y": "Load_1stFloorLightsPowerUsage",
          "yref": "y"
         },
         {
          "showarrow": false,
          "text": "0.28",
          "x": 23,
          "xref": "x",
          "y": "Load_1stFloorLightsPowerUsage",
          "yref": "y"
         },
         {
          "showarrow": false,
          "text": "0.08",
          "x": 0,
          "xref": "x",
          "y": "Load_2ndFloorLightsPowerUsage",
          "yref": "y"
         },
         {
          "showarrow": false,
          "text": "",
          "x": 1,
          "xref": "x",
          "y": "Load_2ndFloorLightsPowerUsage",
          "yref": "y"
         },
         {
          "showarrow": false,
          "text": "",
          "x": 2,
          "xref": "x",
          "y": "Load_2ndFloorLightsPowerUsage",
          "yref": "y"
         },
         {
          "showarrow": false,
          "text": "0.71",
          "x": 3,
          "xref": "x",
          "y": "Load_2ndFloorLightsPowerUsage",
          "yref": "y"
         },
         {
          "showarrow": false,
          "text": "0.71",
          "x": 4,
          "xref": "x",
          "y": "Load_2ndFloorLightsPowerUsage",
          "yref": "y"
         },
         {
          "showarrow": false,
          "text": "0.33",
          "x": 5,
          "xref": "x",
          "y": "Load_2ndFloorLightsPowerUsage",
          "yref": "y"
         },
         {
          "showarrow": false,
          "text": "0.71",
          "x": 6,
          "xref": "x",
          "y": "Load_2ndFloorLightsPowerUsage",
          "yref": "y"
         },
         {
          "showarrow": false,
          "text": "0.21",
          "x": 7,
          "xref": "x",
          "y": "Load_2ndFloorLightsPowerUsage",
          "yref": "y"
         },
         {
          "showarrow": false,
          "text": "0.31",
          "x": 8,
          "xref": "x",
          "y": "Load_2ndFloorLightsPowerUsage",
          "yref": "y"
         },
         {
          "showarrow": false,
          "text": "0.28",
          "x": 9,
          "xref": "x",
          "y": "Load_2ndFloorLightsPowerUsage",
          "yref": "y"
         },
         {
          "showarrow": false,
          "text": "0.28",
          "x": 10,
          "xref": "x",
          "y": "Load_2ndFloorLightsPowerUsage",
          "yref": "y"
         },
         {
          "showarrow": false,
          "text": "0.01",
          "x": 11,
          "xref": "x",
          "y": "Load_2ndFloorLightsPowerUsage",
          "yref": "y"
         },
         {
          "showarrow": false,
          "text": "0.13",
          "x": 12,
          "xref": "x",
          "y": "Load_2ndFloorLightsPowerUsage",
          "yref": "y"
         },
         {
          "showarrow": false,
          "text": "0.06",
          "x": 13,
          "xref": "x",
          "y": "Load_2ndFloorLightsPowerUsage",
          "yref": "y"
         },
         {
          "showarrow": false,
          "text": "0.14",
          "x": 14,
          "xref": "x",
          "y": "Load_2ndFloorLightsPowerUsage",
          "yref": "y"
         },
         {
          "showarrow": false,
          "text": "",
          "x": 15,
          "xref": "x",
          "y": "Load_2ndFloorLightsPowerUsage",
          "yref": "y"
         },
         {
          "showarrow": false,
          "text": "0.29",
          "x": 16,
          "xref": "x",
          "y": "Load_2ndFloorLightsPowerUsage",
          "yref": "y"
         },
         {
          "showarrow": false,
          "text": "0.45",
          "x": 17,
          "xref": "x",
          "y": "Load_2ndFloorLightsPowerUsage",
          "yref": "y"
         },
         {
          "showarrow": false,
          "text": "1.0",
          "x": 18,
          "xref": "x",
          "y": "Load_2ndFloorLightsPowerUsage",
          "yref": "y"
         },
         {
          "showarrow": false,
          "text": "0.99",
          "x": 19,
          "xref": "x",
          "y": "Load_2ndFloorLightsPowerUsage",
          "yref": "y"
         },
         {
          "showarrow": false,
          "text": "1.0",
          "x": 20,
          "xref": "x",
          "y": "Load_2ndFloorLightsPowerUsage",
          "yref": "y"
         },
         {
          "showarrow": false,
          "text": "0.85",
          "x": 21,
          "xref": "x",
          "y": "Load_2ndFloorLightsPowerUsage",
          "yref": "y"
         },
         {
          "showarrow": false,
          "text": "1.0",
          "x": 22,
          "xref": "x",
          "y": "Load_2ndFloorLightsPowerUsage",
          "yref": "y"
         },
         {
          "showarrow": false,
          "text": "0.44",
          "x": 23,
          "xref": "x",
          "y": "Load_2ndFloorLightsPowerUsage",
          "yref": "y"
         },
         {
          "showarrow": false,
          "text": "0.99",
          "x": 0,
          "xref": "x",
          "y": "Load_LatentHeatPowerUsage",
          "yref": "y"
         },
         {
          "showarrow": false,
          "text": "0.99",
          "x": 1,
          "xref": "x",
          "y": "Load_LatentHeatPowerUsage",
          "yref": "y"
         },
         {
          "showarrow": false,
          "text": "0.98",
          "x": 2,
          "xref": "x",
          "y": "Load_LatentHeatPowerUsage",
          "yref": "y"
         },
         {
          "showarrow": false,
          "text": "0.98",
          "x": 3,
          "xref": "x",
          "y": "Load_LatentHeatPowerUsage",
          "yref": "y"
         },
         {
          "showarrow": false,
          "text": "0.98",
          "x": 4,
          "xref": "x",
          "y": "Load_LatentHeatPowerUsage",
          "yref": "y"
         },
         {
          "showarrow": false,
          "text": "0.98",
          "x": 5,
          "xref": "x",
          "y": "Load_LatentHeatPowerUsage",
          "yref": "y"
         },
         {
          "showarrow": false,
          "text": "0.97",
          "x": 6,
          "xref": "x",
          "y": "Load_LatentHeatPowerUsage",
          "yref": "y"
         },
         {
          "showarrow": false,
          "text": "0.98",
          "x": 7,
          "xref": "x",
          "y": "Load_LatentHeatPowerUsage",
          "yref": "y"
         },
         {
          "showarrow": false,
          "text": "0.98",
          "x": 8,
          "xref": "x",
          "y": "Load_LatentHeatPowerUsage",
          "yref": "y"
         },
         {
          "showarrow": false,
          "text": "0.01",
          "x": 9,
          "xref": "x",
          "y": "Load_LatentHeatPowerUsage",
          "yref": "y"
         },
         {
          "showarrow": false,
          "text": "",
          "x": 10,
          "xref": "x",
          "y": "Load_LatentHeatPowerUsage",
          "yref": "y"
         },
         {
          "showarrow": false,
          "text": "0.01",
          "x": 11,
          "xref": "x",
          "y": "Load_LatentHeatPowerUsage",
          "yref": "y"
         },
         {
          "showarrow": false,
          "text": "0.02",
          "x": 12,
          "xref": "x",
          "y": "Load_LatentHeatPowerUsage",
          "yref": "y"
         },
         {
          "showarrow": false,
          "text": "0.03",
          "x": 13,
          "xref": "x",
          "y": "Load_LatentHeatPowerUsage",
          "yref": "y"
         },
         {
          "showarrow": false,
          "text": "0.03",
          "x": 14,
          "xref": "x",
          "y": "Load_LatentHeatPowerUsage",
          "yref": "y"
         },
         {
          "showarrow": false,
          "text": "0.49",
          "x": 15,
          "xref": "x",
          "y": "Load_LatentHeatPowerUsage",
          "yref": "y"
         },
         {
          "showarrow": false,
          "text": "0.99",
          "x": 16,
          "xref": "x",
          "y": "Load_LatentHeatPowerUsage",
          "yref": "y"
         },
         {
          "showarrow": false,
          "text": "1.0",
          "x": 17,
          "xref": "x",
          "y": "Load_LatentHeatPowerUsage",
          "yref": "y"
         },
         {
          "showarrow": false,
          "text": "1.0",
          "x": 18,
          "xref": "x",
          "y": "Load_LatentHeatPowerUsage",
          "yref": "y"
         },
         {
          "showarrow": false,
          "text": "1.0",
          "x": 19,
          "xref": "x",
          "y": "Load_LatentHeatPowerUsage",
          "yref": "y"
         },
         {
          "showarrow": false,
          "text": "1.0",
          "x": 20,
          "xref": "x",
          "y": "Load_LatentHeatPowerUsage",
          "yref": "y"
         },
         {
          "showarrow": false,
          "text": "1.0",
          "x": 21,
          "xref": "x",
          "y": "Load_LatentHeatPowerUsage",
          "yref": "y"
         },
         {
          "showarrow": false,
          "text": "1.0",
          "x": 22,
          "xref": "x",
          "y": "Load_LatentHeatPowerUsage",
          "yref": "y"
         },
         {
          "showarrow": false,
          "text": "1.0",
          "x": 23,
          "xref": "x",
          "y": "Load_LatentHeatPowerUsage",
          "yref": "y"
         },
         {
          "showarrow": false,
          "text": "",
          "x": 0,
          "xref": "x",
          "y": "Load_DryerPowerTotal",
          "yref": "y"
         },
         {
          "showarrow": false,
          "text": "",
          "x": 1,
          "xref": "x",
          "y": "Load_DryerPowerTotal",
          "yref": "y"
         },
         {
          "showarrow": false,
          "text": "",
          "x": 2,
          "xref": "x",
          "y": "Load_DryerPowerTotal",
          "yref": "y"
         },
         {
          "showarrow": false,
          "text": "",
          "x": 3,
          "xref": "x",
          "y": "Load_DryerPowerTotal",
          "yref": "y"
         },
         {
          "showarrow": false,
          "text": "",
          "x": 4,
          "xref": "x",
          "y": "Load_DryerPowerTotal",
          "yref": "y"
         },
         {
          "showarrow": false,
          "text": "",
          "x": 5,
          "xref": "x",
          "y": "Load_DryerPowerTotal",
          "yref": "y"
         },
         {
          "showarrow": false,
          "text": "",
          "x": 6,
          "xref": "x",
          "y": "Load_DryerPowerTotal",
          "yref": "y"
         },
         {
          "showarrow": false,
          "text": "0.02",
          "x": 7,
          "xref": "x",
          "y": "Load_DryerPowerTotal",
          "yref": "y"
         },
         {
          "showarrow": false,
          "text": "0.02",
          "x": 8,
          "xref": "x",
          "y": "Load_DryerPowerTotal",
          "yref": "y"
         },
         {
          "showarrow": false,
          "text": "0.01",
          "x": 9,
          "xref": "x",
          "y": "Load_DryerPowerTotal",
          "yref": "y"
         },
         {
          "showarrow": false,
          "text": "0.02",
          "x": 10,
          "xref": "x",
          "y": "Load_DryerPowerTotal",
          "yref": "y"
         },
         {
          "showarrow": false,
          "text": "0.01",
          "x": 11,
          "xref": "x",
          "y": "Load_DryerPowerTotal",
          "yref": "y"
         },
         {
          "showarrow": false,
          "text": "0.98",
          "x": 12,
          "xref": "x",
          "y": "Load_DryerPowerTotal",
          "yref": "y"
         },
         {
          "showarrow": false,
          "text": "0.99",
          "x": 13,
          "xref": "x",
          "y": "Load_DryerPowerTotal",
          "yref": "y"
         },
         {
          "showarrow": false,
          "text": "0.41",
          "x": 14,
          "xref": "x",
          "y": "Load_DryerPowerTotal",
          "yref": "y"
         },
         {
          "showarrow": false,
          "text": "1.0",
          "x": 15,
          "xref": "x",
          "y": "Load_DryerPowerTotal",
          "yref": "y"
         },
         {
          "showarrow": false,
          "text": "",
          "x": 16,
          "xref": "x",
          "y": "Load_DryerPowerTotal",
          "yref": "y"
         },
         {
          "showarrow": false,
          "text": "",
          "x": 17,
          "xref": "x",
          "y": "Load_DryerPowerTotal",
          "yref": "y"
         },
         {
          "showarrow": false,
          "text": "0.02",
          "x": 18,
          "xref": "x",
          "y": "Load_DryerPowerTotal",
          "yref": "y"
         },
         {
          "showarrow": false,
          "text": "",
          "x": 19,
          "xref": "x",
          "y": "Load_DryerPowerTotal",
          "yref": "y"
         },
         {
          "showarrow": false,
          "text": "0.51",
          "x": 20,
          "xref": "x",
          "y": "Load_DryerPowerTotal",
          "yref": "y"
         },
         {
          "showarrow": false,
          "text": "0.5",
          "x": 21,
          "xref": "x",
          "y": "Load_DryerPowerTotal",
          "yref": "y"
         },
         {
          "showarrow": false,
          "text": "0.01",
          "x": 22,
          "xref": "x",
          "y": "Load_DryerPowerTotal",
          "yref": "y"
         },
         {
          "showarrow": false,
          "text": "0.01",
          "x": 23,
          "xref": "x",
          "y": "Load_DryerPowerTotal",
          "yref": "y"
         },
         {
          "showarrow": false,
          "text": "1.0",
          "x": 0,
          "xref": "x",
          "y": "Load_OvenPowerTotal",
          "yref": "y"
         },
         {
          "showarrow": false,
          "text": "1.0",
          "x": 1,
          "xref": "x",
          "y": "Load_OvenPowerTotal",
          "yref": "y"
         },
         {
          "showarrow": false,
          "text": "",
          "x": 2,
          "xref": "x",
          "y": "Load_OvenPowerTotal",
          "yref": "y"
         },
         {
          "showarrow": false,
          "text": "0.25",
          "x": 3,
          "xref": "x",
          "y": "Load_OvenPowerTotal",
          "yref": "y"
         },
         {
          "showarrow": false,
          "text": "0.25",
          "x": 4,
          "xref": "x",
          "y": "Load_OvenPowerTotal",
          "yref": "y"
         },
         {
          "showarrow": false,
          "text": "0.25",
          "x": 5,
          "xref": "x",
          "y": "Load_OvenPowerTotal",
          "yref": "y"
         },
         {
          "showarrow": false,
          "text": "0.25",
          "x": 6,
          "xref": "x",
          "y": "Load_OvenPowerTotal",
          "yref": "y"
         },
         {
          "showarrow": false,
          "text": "0.25",
          "x": 7,
          "xref": "x",
          "y": "Load_OvenPowerTotal",
          "yref": "y"
         },
         {
          "showarrow": false,
          "text": "0.75",
          "x": 8,
          "xref": "x",
          "y": "Load_OvenPowerTotal",
          "yref": "y"
         },
         {
          "showarrow": false,
          "text": "0.75",
          "x": 9,
          "xref": "x",
          "y": "Load_OvenPowerTotal",
          "yref": "y"
         },
         {
          "showarrow": false,
          "text": "0.75",
          "x": 10,
          "xref": "x",
          "y": "Load_OvenPowerTotal",
          "yref": "y"
         },
         {
          "showarrow": false,
          "text": "0.75",
          "x": 11,
          "xref": "x",
          "y": "Load_OvenPowerTotal",
          "yref": "y"
         },
         {
          "showarrow": false,
          "text": "0.75",
          "x": 12,
          "xref": "x",
          "y": "Load_OvenPowerTotal",
          "yref": "y"
         },
         {
          "showarrow": false,
          "text": "0.75",
          "x": 13,
          "xref": "x",
          "y": "Load_OvenPowerTotal",
          "yref": "y"
         },
         {
          "showarrow": false,
          "text": "0.25",
          "x": 14,
          "xref": "x",
          "y": "Load_OvenPowerTotal",
          "yref": "y"
         },
         {
          "showarrow": false,
          "text": "0.25",
          "x": 15,
          "xref": "x",
          "y": "Load_OvenPowerTotal",
          "yref": "y"
         },
         {
          "showarrow": false,
          "text": "0.5",
          "x": 16,
          "xref": "x",
          "y": "Load_OvenPowerTotal",
          "yref": "y"
         },
         {
          "showarrow": false,
          "text": "0.75",
          "x": 17,
          "xref": "x",
          "y": "Load_OvenPowerTotal",
          "yref": "y"
         },
         {
          "showarrow": false,
          "text": "0.75",
          "x": 18,
          "xref": "x",
          "y": "Load_OvenPowerTotal",
          "yref": "y"
         },
         {
          "showarrow": false,
          "text": "0.75",
          "x": 19,
          "xref": "x",
          "y": "Load_OvenPowerTotal",
          "yref": "y"
         },
         {
          "showarrow": false,
          "text": "0.75",
          "x": 20,
          "xref": "x",
          "y": "Load_OvenPowerTotal",
          "yref": "y"
         },
         {
          "showarrow": false,
          "text": "0.75",
          "x": 21,
          "xref": "x",
          "y": "Load_OvenPowerTotal",
          "yref": "y"
         },
         {
          "showarrow": false,
          "text": "0.75",
          "x": 22,
          "xref": "x",
          "y": "Load_OvenPowerTotal",
          "yref": "y"
         },
         {
          "showarrow": false,
          "text": "0.75",
          "x": 23,
          "xref": "x",
          "y": "Load_OvenPowerTotal",
          "yref": "y"
         },
         {
          "showarrow": false,
          "text": "1.0",
          "x": 0,
          "xref": "x",
          "y": "Load_BasementPlugLoadsPowerUsage",
          "yref": "y"
         },
         {
          "showarrow": false,
          "text": "1.0",
          "x": 1,
          "xref": "x",
          "y": "Load_BasementPlugLoadsPowerUsage",
          "yref": "y"
         },
         {
          "showarrow": false,
          "text": "",
          "x": 2,
          "xref": "x",
          "y": "Load_BasementPlugLoadsPowerUsage",
          "yref": "y"
         },
         {
          "showarrow": false,
          "text": "0.25",
          "x": 3,
          "xref": "x",
          "y": "Load_BasementPlugLoadsPowerUsage",
          "yref": "y"
         },
         {
          "showarrow": false,
          "text": "0.25",
          "x": 4,
          "xref": "x",
          "y": "Load_BasementPlugLoadsPowerUsage",
          "yref": "y"
         },
         {
          "showarrow": false,
          "text": "0.25",
          "x": 5,
          "xref": "x",
          "y": "Load_BasementPlugLoadsPowerUsage",
          "yref": "y"
         },
         {
          "showarrow": false,
          "text": "0.25",
          "x": 6,
          "xref": "x",
          "y": "Load_BasementPlugLoadsPowerUsage",
          "yref": "y"
         },
         {
          "showarrow": false,
          "text": "0.25",
          "x": 7,
          "xref": "x",
          "y": "Load_BasementPlugLoadsPowerUsage",
          "yref": "y"
         },
         {
          "showarrow": false,
          "text": "0.75",
          "x": 8,
          "xref": "x",
          "y": "Load_BasementPlugLoadsPowerUsage",
          "yref": "y"
         },
         {
          "showarrow": false,
          "text": "0.5",
          "x": 9,
          "xref": "x",
          "y": "Load_BasementPlugLoadsPowerUsage",
          "yref": "y"
         },
         {
          "showarrow": false,
          "text": "0.5",
          "x": 10,
          "xref": "x",
          "y": "Load_BasementPlugLoadsPowerUsage",
          "yref": "y"
         },
         {
          "showarrow": false,
          "text": "0.5",
          "x": 11,
          "xref": "x",
          "y": "Load_BasementPlugLoadsPowerUsage",
          "yref": "y"
         },
         {
          "showarrow": false,
          "text": "0.5",
          "x": 12,
          "xref": "x",
          "y": "Load_BasementPlugLoadsPowerUsage",
          "yref": "y"
         },
         {
          "showarrow": false,
          "text": "0.5",
          "x": 13,
          "xref": "x",
          "y": "Load_BasementPlugLoadsPowerUsage",
          "yref": "y"
         },
         {
          "showarrow": false,
          "text": "",
          "x": 14,
          "xref": "x",
          "y": "Load_BasementPlugLoadsPowerUsage",
          "yref": "y"
         },
         {
          "showarrow": false,
          "text": "",
          "x": 15,
          "xref": "x",
          "y": "Load_BasementPlugLoadsPowerUsage",
          "yref": "y"
         },
         {
          "showarrow": false,
          "text": "0.25",
          "x": 16,
          "xref": "x",
          "y": "Load_BasementPlugLoadsPowerUsage",
          "yref": "y"
         },
         {
          "showarrow": false,
          "text": "0.5",
          "x": 17,
          "xref": "x",
          "y": "Load_BasementPlugLoadsPowerUsage",
          "yref": "y"
         },
         {
          "showarrow": false,
          "text": "0.75",
          "x": 18,
          "xref": "x",
          "y": "Load_BasementPlugLoadsPowerUsage",
          "yref": "y"
         },
         {
          "showarrow": false,
          "text": "0.75",
          "x": 19,
          "xref": "x",
          "y": "Load_BasementPlugLoadsPowerUsage",
          "yref": "y"
         },
         {
          "showarrow": false,
          "text": "0.75",
          "x": 20,
          "xref": "x",
          "y": "Load_BasementPlugLoadsPowerUsage",
          "yref": "y"
         },
         {
          "showarrow": false,
          "text": "0.75",
          "x": 21,
          "xref": "x",
          "y": "Load_BasementPlugLoadsPowerUsage",
          "yref": "y"
         },
         {
          "showarrow": false,
          "text": "0.75",
          "x": 22,
          "xref": "x",
          "y": "Load_BasementPlugLoadsPowerUsage",
          "yref": "y"
         },
         {
          "showarrow": false,
          "text": "0.5",
          "x": 23,
          "xref": "x",
          "y": "Load_BasementPlugLoadsPowerUsage",
          "yref": "y"
         },
         {
          "showarrow": false,
          "text": "1.0",
          "x": 0,
          "xref": "x",
          "y": "Load_ClothesWasherPowerWithStandby",
          "yref": "y"
         },
         {
          "showarrow": false,
          "text": "1.0",
          "x": 1,
          "xref": "x",
          "y": "Load_ClothesWasherPowerWithStandby",
          "yref": "y"
         },
         {
          "showarrow": false,
          "text": "",
          "x": 2,
          "xref": "x",
          "y": "Load_ClothesWasherPowerWithStandby",
          "yref": "y"
         },
         {
          "showarrow": false,
          "text": "0.25",
          "x": 3,
          "xref": "x",
          "y": "Load_ClothesWasherPowerWithStandby",
          "yref": "y"
         },
         {
          "showarrow": false,
          "text": "0.25",
          "x": 4,
          "xref": "x",
          "y": "Load_ClothesWasherPowerWithStandby",
          "yref": "y"
         },
         {
          "showarrow": false,
          "text": "0.25",
          "x": 5,
          "xref": "x",
          "y": "Load_ClothesWasherPowerWithStandby",
          "yref": "y"
         },
         {
          "showarrow": false,
          "text": "0.25",
          "x": 6,
          "xref": "x",
          "y": "Load_ClothesWasherPowerWithStandby",
          "yref": "y"
         },
         {
          "showarrow": false,
          "text": "0.25",
          "x": 7,
          "xref": "x",
          "y": "Load_ClothesWasherPowerWithStandby",
          "yref": "y"
         },
         {
          "showarrow": false,
          "text": "0.75",
          "x": 8,
          "xref": "x",
          "y": "Load_ClothesWasherPowerWithStandby",
          "yref": "y"
         },
         {
          "showarrow": false,
          "text": "0.75",
          "x": 9,
          "xref": "x",
          "y": "Load_ClothesWasherPowerWithStandby",
          "yref": "y"
         },
         {
          "showarrow": false,
          "text": "0.75",
          "x": 10,
          "xref": "x",
          "y": "Load_ClothesWasherPowerWithStandby",
          "yref": "y"
         },
         {
          "showarrow": false,
          "text": "0.75",
          "x": 11,
          "xref": "x",
          "y": "Load_ClothesWasherPowerWithStandby",
          "yref": "y"
         },
         {
          "showarrow": false,
          "text": "0.5",
          "x": 12,
          "xref": "x",
          "y": "Load_ClothesWasherPowerWithStandby",
          "yref": "y"
         },
         {
          "showarrow": false,
          "text": "0.5",
          "x": 13,
          "xref": "x",
          "y": "Load_ClothesWasherPowerWithStandby",
          "yref": "y"
         },
         {
          "showarrow": false,
          "text": "",
          "x": 14,
          "xref": "x",
          "y": "Load_ClothesWasherPowerWithStandby",
          "yref": "y"
         },
         {
          "showarrow": false,
          "text": "",
          "x": 15,
          "xref": "x",
          "y": "Load_ClothesWasherPowerWithStandby",
          "yref": "y"
         },
         {
          "showarrow": false,
          "text": "0.25",
          "x": 16,
          "xref": "x",
          "y": "Load_ClothesWasherPowerWithStandby",
          "yref": "y"
         },
         {
          "showarrow": false,
          "text": "0.5",
          "x": 17,
          "xref": "x",
          "y": "Load_ClothesWasherPowerWithStandby",
          "yref": "y"
         },
         {
          "showarrow": false,
          "text": "0.5",
          "x": 18,
          "xref": "x",
          "y": "Load_ClothesWasherPowerWithStandby",
          "yref": "y"
         },
         {
          "showarrow": false,
          "text": "0.5",
          "x": 19,
          "xref": "x",
          "y": "Load_ClothesWasherPowerWithStandby",
          "yref": "y"
         },
         {
          "showarrow": false,
          "text": "0.5",
          "x": 20,
          "xref": "x",
          "y": "Load_ClothesWasherPowerWithStandby",
          "yref": "y"
         },
         {
          "showarrow": false,
          "text": "0.5",
          "x": 21,
          "xref": "x",
          "y": "Load_ClothesWasherPowerWithStandby",
          "yref": "y"
         },
         {
          "showarrow": false,
          "text": "0.5",
          "x": 22,
          "xref": "x",
          "y": "Load_ClothesWasherPowerWithStandby",
          "yref": "y"
         },
         {
          "showarrow": false,
          "text": "0.5",
          "x": 23,
          "xref": "x",
          "y": "Load_ClothesWasherPowerWithStandby",
          "yref": "y"
         },
         {
          "showarrow": false,
          "text": "1.0",
          "x": 0,
          "xref": "x",
          "y": "Load_RefrigeratorPowerWithStandby",
          "yref": "y"
         },
         {
          "showarrow": false,
          "text": "1.0",
          "x": 1,
          "xref": "x",
          "y": "Load_RefrigeratorPowerWithStandby",
          "yref": "y"
         },
         {
          "showarrow": false,
          "text": "",
          "x": 2,
          "xref": "x",
          "y": "Load_RefrigeratorPowerWithStandby",
          "yref": "y"
         },
         {
          "showarrow": false,
          "text": "0.25",
          "x": 3,
          "xref": "x",
          "y": "Load_RefrigeratorPowerWithStandby",
          "yref": "y"
         },
         {
          "showarrow": false,
          "text": "0.25",
          "x": 4,
          "xref": "x",
          "y": "Load_RefrigeratorPowerWithStandby",
          "yref": "y"
         },
         {
          "showarrow": false,
          "text": "0.25",
          "x": 5,
          "xref": "x",
          "y": "Load_RefrigeratorPowerWithStandby",
          "yref": "y"
         },
         {
          "showarrow": false,
          "text": "0.25",
          "x": 6,
          "xref": "x",
          "y": "Load_RefrigeratorPowerWithStandby",
          "yref": "y"
         },
         {
          "showarrow": false,
          "text": "0.25",
          "x": 7,
          "xref": "x",
          "y": "Load_RefrigeratorPowerWithStandby",
          "yref": "y"
         },
         {
          "showarrow": false,
          "text": "0.75",
          "x": 8,
          "xref": "x",
          "y": "Load_RefrigeratorPowerWithStandby",
          "yref": "y"
         },
         {
          "showarrow": false,
          "text": "0.75",
          "x": 9,
          "xref": "x",
          "y": "Load_RefrigeratorPowerWithStandby",
          "yref": "y"
         },
         {
          "showarrow": false,
          "text": "0.75",
          "x": 10,
          "xref": "x",
          "y": "Load_RefrigeratorPowerWithStandby",
          "yref": "y"
         },
         {
          "showarrow": false,
          "text": "0.75",
          "x": 11,
          "xref": "x",
          "y": "Load_RefrigeratorPowerWithStandby",
          "yref": "y"
         },
         {
          "showarrow": false,
          "text": "0.75",
          "x": 12,
          "xref": "x",
          "y": "Load_RefrigeratorPowerWithStandby",
          "yref": "y"
         },
         {
          "showarrow": false,
          "text": "0.75",
          "x": 13,
          "xref": "x",
          "y": "Load_RefrigeratorPowerWithStandby",
          "yref": "y"
         },
         {
          "showarrow": false,
          "text": "0.25",
          "x": 14,
          "xref": "x",
          "y": "Load_RefrigeratorPowerWithStandby",
          "yref": "y"
         },
         {
          "showarrow": false,
          "text": "0.25",
          "x": 15,
          "xref": "x",
          "y": "Load_RefrigeratorPowerWithStandby",
          "yref": "y"
         },
         {
          "showarrow": false,
          "text": "0.5",
          "x": 16,
          "xref": "x",
          "y": "Load_RefrigeratorPowerWithStandby",
          "yref": "y"
         },
         {
          "showarrow": false,
          "text": "0.75",
          "x": 17,
          "xref": "x",
          "y": "Load_RefrigeratorPowerWithStandby",
          "yref": "y"
         },
         {
          "showarrow": false,
          "text": "0.75",
          "x": 18,
          "xref": "x",
          "y": "Load_RefrigeratorPowerWithStandby",
          "yref": "y"
         },
         {
          "showarrow": false,
          "text": "0.75",
          "x": 19,
          "xref": "x",
          "y": "Load_RefrigeratorPowerWithStandby",
          "yref": "y"
         },
         {
          "showarrow": false,
          "text": "0.75",
          "x": 20,
          "xref": "x",
          "y": "Load_RefrigeratorPowerWithStandby",
          "yref": "y"
         },
         {
          "showarrow": false,
          "text": "0.75",
          "x": 21,
          "xref": "x",
          "y": "Load_RefrigeratorPowerWithStandby",
          "yref": "y"
         },
         {
          "showarrow": false,
          "text": "0.75",
          "x": 22,
          "xref": "x",
          "y": "Load_RefrigeratorPowerWithStandby",
          "yref": "y"
         },
         {
          "showarrow": false,
          "text": "0.75",
          "x": 23,
          "xref": "x",
          "y": "Load_RefrigeratorPowerWithStandby",
          "yref": "y"
         },
         {
          "showarrow": false,
          "text": "1.0",
          "x": 0,
          "xref": "x",
          "y": "Load_MicrowavePowerWithStandby",
          "yref": "y"
         },
         {
          "showarrow": false,
          "text": "1.0",
          "x": 1,
          "xref": "x",
          "y": "Load_MicrowavePowerWithStandby",
          "yref": "y"
         },
         {
          "showarrow": false,
          "text": "",
          "x": 2,
          "xref": "x",
          "y": "Load_MicrowavePowerWithStandby",
          "yref": "y"
         },
         {
          "showarrow": false,
          "text": "0.25",
          "x": 3,
          "xref": "x",
          "y": "Load_MicrowavePowerWithStandby",
          "yref": "y"
         },
         {
          "showarrow": false,
          "text": "0.25",
          "x": 4,
          "xref": "x",
          "y": "Load_MicrowavePowerWithStandby",
          "yref": "y"
         },
         {
          "showarrow": false,
          "text": "0.25",
          "x": 5,
          "xref": "x",
          "y": "Load_MicrowavePowerWithStandby",
          "yref": "y"
         },
         {
          "showarrow": false,
          "text": "0.25",
          "x": 6,
          "xref": "x",
          "y": "Load_MicrowavePowerWithStandby",
          "yref": "y"
         },
         {
          "showarrow": false,
          "text": "0.25",
          "x": 7,
          "xref": "x",
          "y": "Load_MicrowavePowerWithStandby",
          "yref": "y"
         },
         {
          "showarrow": false,
          "text": "0.75",
          "x": 8,
          "xref": "x",
          "y": "Load_MicrowavePowerWithStandby",
          "yref": "y"
         },
         {
          "showarrow": false,
          "text": "0.75",
          "x": 9,
          "xref": "x",
          "y": "Load_MicrowavePowerWithStandby",
          "yref": "y"
         },
         {
          "showarrow": false,
          "text": "0.75",
          "x": 10,
          "xref": "x",
          "y": "Load_MicrowavePowerWithStandby",
          "yref": "y"
         },
         {
          "showarrow": false,
          "text": "0.75",
          "x": 11,
          "xref": "x",
          "y": "Load_MicrowavePowerWithStandby",
          "yref": "y"
         },
         {
          "showarrow": false,
          "text": "0.75",
          "x": 12,
          "xref": "x",
          "y": "Load_MicrowavePowerWithStandby",
          "yref": "y"
         },
         {
          "showarrow": false,
          "text": "0.75",
          "x": 13,
          "xref": "x",
          "y": "Load_MicrowavePowerWithStandby",
          "yref": "y"
         },
         {
          "showarrow": false,
          "text": "0.25",
          "x": 14,
          "xref": "x",
          "y": "Load_MicrowavePowerWithStandby",
          "yref": "y"
         },
         {
          "showarrow": false,
          "text": "0.25",
          "x": 15,
          "xref": "x",
          "y": "Load_MicrowavePowerWithStandby",
          "yref": "y"
         },
         {
          "showarrow": false,
          "text": "0.5",
          "x": 16,
          "xref": "x",
          "y": "Load_MicrowavePowerWithStandby",
          "yref": "y"
         },
         {
          "showarrow": false,
          "text": "0.75",
          "x": 17,
          "xref": "x",
          "y": "Load_MicrowavePowerWithStandby",
          "yref": "y"
         },
         {
          "showarrow": false,
          "text": "0.75",
          "x": 18,
          "xref": "x",
          "y": "Load_MicrowavePowerWithStandby",
          "yref": "y"
         },
         {
          "showarrow": false,
          "text": "0.75",
          "x": 19,
          "xref": "x",
          "y": "Load_MicrowavePowerWithStandby",
          "yref": "y"
         },
         {
          "showarrow": false,
          "text": "0.75",
          "x": 20,
          "xref": "x",
          "y": "Load_MicrowavePowerWithStandby",
          "yref": "y"
         },
         {
          "showarrow": false,
          "text": "0.75",
          "x": 21,
          "xref": "x",
          "y": "Load_MicrowavePowerWithStandby",
          "yref": "y"
         },
         {
          "showarrow": false,
          "text": "0.75",
          "x": 22,
          "xref": "x",
          "y": "Load_MicrowavePowerWithStandby",
          "yref": "y"
         },
         {
          "showarrow": false,
          "text": "0.75",
          "x": 23,
          "xref": "x",
          "y": "Load_MicrowavePowerWithStandby",
          "yref": "y"
         },
         {
          "showarrow": false,
          "text": "",
          "x": 0,
          "xref": "x",
          "y": "Elec_PowerDryer1of2",
          "yref": "y"
         },
         {
          "showarrow": false,
          "text": "",
          "x": 1,
          "xref": "x",
          "y": "Elec_PowerDryer1of2",
          "yref": "y"
         },
         {
          "showarrow": false,
          "text": "",
          "x": 2,
          "xref": "x",
          "y": "Elec_PowerDryer1of2",
          "yref": "y"
         },
         {
          "showarrow": false,
          "text": "",
          "x": 3,
          "xref": "x",
          "y": "Elec_PowerDryer1of2",
          "yref": "y"
         },
         {
          "showarrow": false,
          "text": "",
          "x": 4,
          "xref": "x",
          "y": "Elec_PowerDryer1of2",
          "yref": "y"
         },
         {
          "showarrow": false,
          "text": "",
          "x": 5,
          "xref": "x",
          "y": "Elec_PowerDryer1of2",
          "yref": "y"
         },
         {
          "showarrow": false,
          "text": "",
          "x": 6,
          "xref": "x",
          "y": "Elec_PowerDryer1of2",
          "yref": "y"
         },
         {
          "showarrow": false,
          "text": "0.02",
          "x": 7,
          "xref": "x",
          "y": "Elec_PowerDryer1of2",
          "yref": "y"
         },
         {
          "showarrow": false,
          "text": "0.02",
          "x": 8,
          "xref": "x",
          "y": "Elec_PowerDryer1of2",
          "yref": "y"
         },
         {
          "showarrow": false,
          "text": "0.01",
          "x": 9,
          "xref": "x",
          "y": "Elec_PowerDryer1of2",
          "yref": "y"
         },
         {
          "showarrow": false,
          "text": "0.02",
          "x": 10,
          "xref": "x",
          "y": "Elec_PowerDryer1of2",
          "yref": "y"
         },
         {
          "showarrow": false,
          "text": "0.01",
          "x": 11,
          "xref": "x",
          "y": "Elec_PowerDryer1of2",
          "yref": "y"
         },
         {
          "showarrow": false,
          "text": "0.98",
          "x": 12,
          "xref": "x",
          "y": "Elec_PowerDryer1of2",
          "yref": "y"
         },
         {
          "showarrow": false,
          "text": "0.99",
          "x": 13,
          "xref": "x",
          "y": "Elec_PowerDryer1of2",
          "yref": "y"
         },
         {
          "showarrow": false,
          "text": "0.41",
          "x": 14,
          "xref": "x",
          "y": "Elec_PowerDryer1of2",
          "yref": "y"
         },
         {
          "showarrow": false,
          "text": "1.0",
          "x": 15,
          "xref": "x",
          "y": "Elec_PowerDryer1of2",
          "yref": "y"
         },
         {
          "showarrow": false,
          "text": "",
          "x": 16,
          "xref": "x",
          "y": "Elec_PowerDryer1of2",
          "yref": "y"
         },
         {
          "showarrow": false,
          "text": "",
          "x": 17,
          "xref": "x",
          "y": "Elec_PowerDryer1of2",
          "yref": "y"
         },
         {
          "showarrow": false,
          "text": "0.02",
          "x": 18,
          "xref": "x",
          "y": "Elec_PowerDryer1of2",
          "yref": "y"
         },
         {
          "showarrow": false,
          "text": "",
          "x": 19,
          "xref": "x",
          "y": "Elec_PowerDryer1of2",
          "yref": "y"
         },
         {
          "showarrow": false,
          "text": "0.51",
          "x": 20,
          "xref": "x",
          "y": "Elec_PowerDryer1of2",
          "yref": "y"
         },
         {
          "showarrow": false,
          "text": "0.5",
          "x": 21,
          "xref": "x",
          "y": "Elec_PowerDryer1of2",
          "yref": "y"
         },
         {
          "showarrow": false,
          "text": "0.01",
          "x": 22,
          "xref": "x",
          "y": "Elec_PowerDryer1of2",
          "yref": "y"
         },
         {
          "showarrow": false,
          "text": "0.01",
          "x": 23,
          "xref": "x",
          "y": "Elec_PowerDryer1of2",
          "yref": "y"
         },
         {
          "showarrow": false,
          "text": "",
          "x": 0,
          "xref": "x",
          "y": "Elec_PowerDryer2of2",
          "yref": "y"
         },
         {
          "showarrow": false,
          "text": "",
          "x": 1,
          "xref": "x",
          "y": "Elec_PowerDryer2of2",
          "yref": "y"
         },
         {
          "showarrow": false,
          "text": "",
          "x": 2,
          "xref": "x",
          "y": "Elec_PowerDryer2of2",
          "yref": "y"
         },
         {
          "showarrow": false,
          "text": "",
          "x": 3,
          "xref": "x",
          "y": "Elec_PowerDryer2of2",
          "yref": "y"
         },
         {
          "showarrow": false,
          "text": "",
          "x": 4,
          "xref": "x",
          "y": "Elec_PowerDryer2of2",
          "yref": "y"
         },
         {
          "showarrow": false,
          "text": "",
          "x": 5,
          "xref": "x",
          "y": "Elec_PowerDryer2of2",
          "yref": "y"
         },
         {
          "showarrow": false,
          "text": "",
          "x": 6,
          "xref": "x",
          "y": "Elec_PowerDryer2of2",
          "yref": "y"
         },
         {
          "showarrow": false,
          "text": "",
          "x": 7,
          "xref": "x",
          "y": "Elec_PowerDryer2of2",
          "yref": "y"
         },
         {
          "showarrow": false,
          "text": "",
          "x": 8,
          "xref": "x",
          "y": "Elec_PowerDryer2of2",
          "yref": "y"
         },
         {
          "showarrow": false,
          "text": "",
          "x": 9,
          "xref": "x",
          "y": "Elec_PowerDryer2of2",
          "yref": "y"
         },
         {
          "showarrow": false,
          "text": "",
          "x": 10,
          "xref": "x",
          "y": "Elec_PowerDryer2of2",
          "yref": "y"
         },
         {
          "showarrow": false,
          "text": "",
          "x": 11,
          "xref": "x",
          "y": "Elec_PowerDryer2of2",
          "yref": "y"
         },
         {
          "showarrow": false,
          "text": "1.0",
          "x": 12,
          "xref": "x",
          "y": "Elec_PowerDryer2of2",
          "yref": "y"
         },
         {
          "showarrow": false,
          "text": "0.71",
          "x": 13,
          "xref": "x",
          "y": "Elec_PowerDryer2of2",
          "yref": "y"
         },
         {
          "showarrow": false,
          "text": "0.2",
          "x": 14,
          "xref": "x",
          "y": "Elec_PowerDryer2of2",
          "yref": "y"
         },
         {
          "showarrow": false,
          "text": "1.0",
          "x": 15,
          "xref": "x",
          "y": "Elec_PowerDryer2of2",
          "yref": "y"
         },
         {
          "showarrow": false,
          "text": "",
          "x": 16,
          "xref": "x",
          "y": "Elec_PowerDryer2of2",
          "yref": "y"
         },
         {
          "showarrow": false,
          "text": "",
          "x": 17,
          "xref": "x",
          "y": "Elec_PowerDryer2of2",
          "yref": "y"
         },
         {
          "showarrow": false,
          "text": "",
          "x": 18,
          "xref": "x",
          "y": "Elec_PowerDryer2of2",
          "yref": "y"
         },
         {
          "showarrow": false,
          "text": "",
          "x": 19,
          "xref": "x",
          "y": "Elec_PowerDryer2of2",
          "yref": "y"
         },
         {
          "showarrow": false,
          "text": "0.52",
          "x": 20,
          "xref": "x",
          "y": "Elec_PowerDryer2of2",
          "yref": "y"
         },
         {
          "showarrow": false,
          "text": "0.38",
          "x": 21,
          "xref": "x",
          "y": "Elec_PowerDryer2of2",
          "yref": "y"
         },
         {
          "showarrow": false,
          "text": "0.01",
          "x": 22,
          "xref": "x",
          "y": "Elec_PowerDryer2of2",
          "yref": "y"
         },
         {
          "showarrow": false,
          "text": "0.01",
          "x": 23,
          "xref": "x",
          "y": "Elec_PowerDryer2of2",
          "yref": "y"
         },
         {
          "showarrow": false,
          "text": "1.0",
          "x": 0,
          "xref": "x",
          "y": "Elec_PowerHRV",
          "yref": "y"
         },
         {
          "showarrow": false,
          "text": "1.0",
          "x": 1,
          "xref": "x",
          "y": "Elec_PowerHRV",
          "yref": "y"
         },
         {
          "showarrow": false,
          "text": "",
          "x": 2,
          "xref": "x",
          "y": "Elec_PowerHRV",
          "yref": "y"
         },
         {
          "showarrow": false,
          "text": "0.25",
          "x": 3,
          "xref": "x",
          "y": "Elec_PowerHRV",
          "yref": "y"
         },
         {
          "showarrow": false,
          "text": "0.25",
          "x": 4,
          "xref": "x",
          "y": "Elec_PowerHRV",
          "yref": "y"
         },
         {
          "showarrow": false,
          "text": "0.25",
          "x": 5,
          "xref": "x",
          "y": "Elec_PowerHRV",
          "yref": "y"
         },
         {
          "showarrow": false,
          "text": "0.25",
          "x": 6,
          "xref": "x",
          "y": "Elec_PowerHRV",
          "yref": "y"
         },
         {
          "showarrow": false,
          "text": "0.25",
          "x": 7,
          "xref": "x",
          "y": "Elec_PowerHRV",
          "yref": "y"
         },
         {
          "showarrow": false,
          "text": "0.75",
          "x": 8,
          "xref": "x",
          "y": "Elec_PowerHRV",
          "yref": "y"
         },
         {
          "showarrow": false,
          "text": "0.75",
          "x": 9,
          "xref": "x",
          "y": "Elec_PowerHRV",
          "yref": "y"
         },
         {
          "showarrow": false,
          "text": "0.75",
          "x": 10,
          "xref": "x",
          "y": "Elec_PowerHRV",
          "yref": "y"
         },
         {
          "showarrow": false,
          "text": "0.75",
          "x": 11,
          "xref": "x",
          "y": "Elec_PowerHRV",
          "yref": "y"
         },
         {
          "showarrow": false,
          "text": "0.5",
          "x": 12,
          "xref": "x",
          "y": "Elec_PowerHRV",
          "yref": "y"
         },
         {
          "showarrow": false,
          "text": "0.5",
          "x": 13,
          "xref": "x",
          "y": "Elec_PowerHRV",
          "yref": "y"
         },
         {
          "showarrow": false,
          "text": "0.25",
          "x": 14,
          "xref": "x",
          "y": "Elec_PowerHRV",
          "yref": "y"
         },
         {
          "showarrow": false,
          "text": "0.25",
          "x": 15,
          "xref": "x",
          "y": "Elec_PowerHRV",
          "yref": "y"
         },
         {
          "showarrow": false,
          "text": "0.25",
          "x": 16,
          "xref": "x",
          "y": "Elec_PowerHRV",
          "yref": "y"
         },
         {
          "showarrow": false,
          "text": "0.75",
          "x": 17,
          "xref": "x",
          "y": "Elec_PowerHRV",
          "yref": "y"
         },
         {
          "showarrow": false,
          "text": "0.75",
          "x": 18,
          "xref": "x",
          "y": "Elec_PowerHRV",
          "yref": "y"
         },
         {
          "showarrow": false,
          "text": "0.75",
          "x": 19,
          "xref": "x",
          "y": "Elec_PowerHRV",
          "yref": "y"
         },
         {
          "showarrow": false,
          "text": "0.75",
          "x": 20,
          "xref": "x",
          "y": "Elec_PowerHRV",
          "yref": "y"
         },
         {
          "showarrow": false,
          "text": "0.75",
          "x": 21,
          "xref": "x",
          "y": "Elec_PowerHRV",
          "yref": "y"
         },
         {
          "showarrow": false,
          "text": "0.75",
          "x": 22,
          "xref": "x",
          "y": "Elec_PowerHRV",
          "yref": "y"
         },
         {
          "showarrow": false,
          "text": "0.75",
          "x": 23,
          "xref": "x",
          "y": "Elec_PowerHRV",
          "yref": "y"
         },
         {
          "showarrow": false,
          "text": "nan",
          "x": 0,
          "xref": "x",
          "y": "Elec_PowerHeatPumpWH1of2",
          "yref": "y"
         },
         {
          "showarrow": false,
          "text": "nan",
          "x": 1,
          "xref": "x",
          "y": "Elec_PowerHeatPumpWH1of2",
          "yref": "y"
         },
         {
          "showarrow": false,
          "text": "nan",
          "x": 2,
          "xref": "x",
          "y": "Elec_PowerHeatPumpWH1of2",
          "yref": "y"
         },
         {
          "showarrow": false,
          "text": "nan",
          "x": 3,
          "xref": "x",
          "y": "Elec_PowerHeatPumpWH1of2",
          "yref": "y"
         },
         {
          "showarrow": false,
          "text": "nan",
          "x": 4,
          "xref": "x",
          "y": "Elec_PowerHeatPumpWH1of2",
          "yref": "y"
         },
         {
          "showarrow": false,
          "text": "nan",
          "x": 5,
          "xref": "x",
          "y": "Elec_PowerHeatPumpWH1of2",
          "yref": "y"
         },
         {
          "showarrow": false,
          "text": "nan",
          "x": 6,
          "xref": "x",
          "y": "Elec_PowerHeatPumpWH1of2",
          "yref": "y"
         },
         {
          "showarrow": false,
          "text": "nan",
          "x": 7,
          "xref": "x",
          "y": "Elec_PowerHeatPumpWH1of2",
          "yref": "y"
         },
         {
          "showarrow": false,
          "text": "nan",
          "x": 8,
          "xref": "x",
          "y": "Elec_PowerHeatPumpWH1of2",
          "yref": "y"
         },
         {
          "showarrow": false,
          "text": "nan",
          "x": 9,
          "xref": "x",
          "y": "Elec_PowerHeatPumpWH1of2",
          "yref": "y"
         },
         {
          "showarrow": false,
          "text": "nan",
          "x": 10,
          "xref": "x",
          "y": "Elec_PowerHeatPumpWH1of2",
          "yref": "y"
         },
         {
          "showarrow": false,
          "text": "nan",
          "x": 11,
          "xref": "x",
          "y": "Elec_PowerHeatPumpWH1of2",
          "yref": "y"
         },
         {
          "showarrow": false,
          "text": "nan",
          "x": 12,
          "xref": "x",
          "y": "Elec_PowerHeatPumpWH1of2",
          "yref": "y"
         },
         {
          "showarrow": false,
          "text": "nan",
          "x": 13,
          "xref": "x",
          "y": "Elec_PowerHeatPumpWH1of2",
          "yref": "y"
         },
         {
          "showarrow": false,
          "text": "nan",
          "x": 14,
          "xref": "x",
          "y": "Elec_PowerHeatPumpWH1of2",
          "yref": "y"
         },
         {
          "showarrow": false,
          "text": "nan",
          "x": 15,
          "xref": "x",
          "y": "Elec_PowerHeatPumpWH1of2",
          "yref": "y"
         },
         {
          "showarrow": false,
          "text": "nan",
          "x": 16,
          "xref": "x",
          "y": "Elec_PowerHeatPumpWH1of2",
          "yref": "y"
         },
         {
          "showarrow": false,
          "text": "nan",
          "x": 17,
          "xref": "x",
          "y": "Elec_PowerHeatPumpWH1of2",
          "yref": "y"
         },
         {
          "showarrow": false,
          "text": "nan",
          "x": 18,
          "xref": "x",
          "y": "Elec_PowerHeatPumpWH1of2",
          "yref": "y"
         },
         {
          "showarrow": false,
          "text": "nan",
          "x": 19,
          "xref": "x",
          "y": "Elec_PowerHeatPumpWH1of2",
          "yref": "y"
         },
         {
          "showarrow": false,
          "text": "nan",
          "x": 20,
          "xref": "x",
          "y": "Elec_PowerHeatPumpWH1of2",
          "yref": "y"
         },
         {
          "showarrow": false,
          "text": "nan",
          "x": 21,
          "xref": "x",
          "y": "Elec_PowerHeatPumpWH1of2",
          "yref": "y"
         },
         {
          "showarrow": false,
          "text": "nan",
          "x": 22,
          "xref": "x",
          "y": "Elec_PowerHeatPumpWH1of2",
          "yref": "y"
         },
         {
          "showarrow": false,
          "text": "nan",
          "x": 23,
          "xref": "x",
          "y": "Elec_PowerHeatPumpWH1of2",
          "yref": "y"
         },
         {
          "showarrow": false,
          "text": "0.09",
          "x": 0,
          "xref": "x",
          "y": "Elec_PowerHeatPumpWH2of2",
          "yref": "y"
         },
         {
          "showarrow": false,
          "text": "0.02",
          "x": 1,
          "xref": "x",
          "y": "Elec_PowerHeatPumpWH2of2",
          "yref": "y"
         },
         {
          "showarrow": false,
          "text": "",
          "x": 2,
          "xref": "x",
          "y": "Elec_PowerHeatPumpWH2of2",
          "yref": "y"
         },
         {
          "showarrow": false,
          "text": "0.04",
          "x": 3,
          "xref": "x",
          "y": "Elec_PowerHeatPumpWH2of2",
          "yref": "y"
         },
         {
          "showarrow": false,
          "text": "0.23",
          "x": 4,
          "xref": "x",
          "y": "Elec_PowerHeatPumpWH2of2",
          "yref": "y"
         },
         {
          "showarrow": false,
          "text": "0.24",
          "x": 5,
          "xref": "x",
          "y": "Elec_PowerHeatPumpWH2of2",
          "yref": "y"
         },
         {
          "showarrow": false,
          "text": "0.99",
          "x": 6,
          "xref": "x",
          "y": "Elec_PowerHeatPumpWH2of2",
          "yref": "y"
         },
         {
          "showarrow": false,
          "text": "0.85",
          "x": 7,
          "xref": "x",
          "y": "Elec_PowerHeatPumpWH2of2",
          "yref": "y"
         },
         {
          "showarrow": false,
          "text": "0.85",
          "x": 8,
          "xref": "x",
          "y": "Elec_PowerHeatPumpWH2of2",
          "yref": "y"
         },
         {
          "showarrow": false,
          "text": "0.52",
          "x": 9,
          "xref": "x",
          "y": "Elec_PowerHeatPumpWH2of2",
          "yref": "y"
         },
         {
          "showarrow": false,
          "text": "0.37",
          "x": 10,
          "xref": "x",
          "y": "Elec_PowerHeatPumpWH2of2",
          "yref": "y"
         },
         {
          "showarrow": false,
          "text": "0.05",
          "x": 11,
          "xref": "x",
          "y": "Elec_PowerHeatPumpWH2of2",
          "yref": "y"
         },
         {
          "showarrow": false,
          "text": "0.32",
          "x": 12,
          "xref": "x",
          "y": "Elec_PowerHeatPumpWH2of2",
          "yref": "y"
         },
         {
          "showarrow": false,
          "text": "0.52",
          "x": 13,
          "xref": "x",
          "y": "Elec_PowerHeatPumpWH2of2",
          "yref": "y"
         },
         {
          "showarrow": false,
          "text": "0.45",
          "x": 14,
          "xref": "x",
          "y": "Elec_PowerHeatPumpWH2of2",
          "yref": "y"
         },
         {
          "showarrow": false,
          "text": "0.21",
          "x": 15,
          "xref": "x",
          "y": "Elec_PowerHeatPumpWH2of2",
          "yref": "y"
         },
         {
          "showarrow": false,
          "text": "0.21",
          "x": 16,
          "xref": "x",
          "y": "Elec_PowerHeatPumpWH2of2",
          "yref": "y"
         },
         {
          "showarrow": false,
          "text": "0.16",
          "x": 17,
          "xref": "x",
          "y": "Elec_PowerHeatPumpWH2of2",
          "yref": "y"
         },
         {
          "showarrow": false,
          "text": "0.9",
          "x": 18,
          "xref": "x",
          "y": "Elec_PowerHeatPumpWH2of2",
          "yref": "y"
         },
         {
          "showarrow": false,
          "text": "0.73",
          "x": 19,
          "xref": "x",
          "y": "Elec_PowerHeatPumpWH2of2",
          "yref": "y"
         },
         {
          "showarrow": false,
          "text": "0.73",
          "x": 20,
          "xref": "x",
          "y": "Elec_PowerHeatPumpWH2of2",
          "yref": "y"
         },
         {
          "showarrow": false,
          "text": "1.0",
          "x": 21,
          "xref": "x",
          "y": "Elec_PowerHeatPumpWH2of2",
          "yref": "y"
         },
         {
          "showarrow": false,
          "text": "0.93",
          "x": 22,
          "xref": "x",
          "y": "Elec_PowerHeatPumpWH2of2",
          "yref": "y"
         },
         {
          "showarrow": false,
          "text": "0.34",
          "x": 23,
          "xref": "x",
          "y": "Elec_PowerHeatPumpWH2of2",
          "yref": "y"
         },
         {
          "showarrow": false,
          "text": "",
          "x": 0,
          "xref": "x",
          "y": "Elec_PowerMakeUpAirDamper",
          "yref": "y"
         },
         {
          "showarrow": false,
          "text": "",
          "x": 1,
          "xref": "x",
          "y": "Elec_PowerMakeUpAirDamper",
          "yref": "y"
         },
         {
          "showarrow": false,
          "text": "0.01",
          "x": 2,
          "xref": "x",
          "y": "Elec_PowerMakeUpAirDamper",
          "yref": "y"
         },
         {
          "showarrow": false,
          "text": "",
          "x": 3,
          "xref": "x",
          "y": "Elec_PowerMakeUpAirDamper",
          "yref": "y"
         },
         {
          "showarrow": false,
          "text": "",
          "x": 4,
          "xref": "x",
          "y": "Elec_PowerMakeUpAirDamper",
          "yref": "y"
         },
         {
          "showarrow": false,
          "text": "",
          "x": 5,
          "xref": "x",
          "y": "Elec_PowerMakeUpAirDamper",
          "yref": "y"
         },
         {
          "showarrow": false,
          "text": "0.02",
          "x": 6,
          "xref": "x",
          "y": "Elec_PowerMakeUpAirDamper",
          "yref": "y"
         },
         {
          "showarrow": false,
          "text": "",
          "x": 7,
          "xref": "x",
          "y": "Elec_PowerMakeUpAirDamper",
          "yref": "y"
         },
         {
          "showarrow": false,
          "text": "0.3",
          "x": 8,
          "xref": "x",
          "y": "Elec_PowerMakeUpAirDamper",
          "yref": "y"
         },
         {
          "showarrow": false,
          "text": "0.06",
          "x": 9,
          "xref": "x",
          "y": "Elec_PowerMakeUpAirDamper",
          "yref": "y"
         },
         {
          "showarrow": false,
          "text": "",
          "x": 10,
          "xref": "x",
          "y": "Elec_PowerMakeUpAirDamper",
          "yref": "y"
         },
         {
          "showarrow": false,
          "text": "",
          "x": 11,
          "xref": "x",
          "y": "Elec_PowerMakeUpAirDamper",
          "yref": "y"
         },
         {
          "showarrow": false,
          "text": "0.3",
          "x": 12,
          "xref": "x",
          "y": "Elec_PowerMakeUpAirDamper",
          "yref": "y"
         },
         {
          "showarrow": false,
          "text": "0.31",
          "x": 13,
          "xref": "x",
          "y": "Elec_PowerMakeUpAirDamper",
          "yref": "y"
         },
         {
          "showarrow": false,
          "text": "0.12",
          "x": 14,
          "xref": "x",
          "y": "Elec_PowerMakeUpAirDamper",
          "yref": "y"
         },
         {
          "showarrow": false,
          "text": "0.3",
          "x": 15,
          "xref": "x",
          "y": "Elec_PowerMakeUpAirDamper",
          "yref": "y"
         },
         {
          "showarrow": false,
          "text": "",
          "x": 16,
          "xref": "x",
          "y": "Elec_PowerMakeUpAirDamper",
          "yref": "y"
         },
         {
          "showarrow": false,
          "text": "0.01",
          "x": 17,
          "xref": "x",
          "y": "Elec_PowerMakeUpAirDamper",
          "yref": "y"
         },
         {
          "showarrow": false,
          "text": "1.0",
          "x": 18,
          "xref": "x",
          "y": "Elec_PowerMakeUpAirDamper",
          "yref": "y"
         },
         {
          "showarrow": false,
          "text": "0.16",
          "x": 19,
          "xref": "x",
          "y": "Elec_PowerMakeUpAirDamper",
          "yref": "y"
         },
         {
          "showarrow": false,
          "text": "0.16",
          "x": 20,
          "xref": "x",
          "y": "Elec_PowerMakeUpAirDamper",
          "yref": "y"
         },
         {
          "showarrow": false,
          "text": "0.17",
          "x": 21,
          "xref": "x",
          "y": "Elec_PowerMakeUpAirDamper",
          "yref": "y"
         },
         {
          "showarrow": false,
          "text": "0.01",
          "x": 22,
          "xref": "x",
          "y": "Elec_PowerMakeUpAirDamper",
          "yref": "y"
         },
         {
          "showarrow": false,
          "text": "0.01",
          "x": 23,
          "xref": "x",
          "y": "Elec_PowerMakeUpAirDamper",
          "yref": "y"
         },
         {
          "showarrow": false,
          "text": "0.08",
          "x": 0,
          "xref": "x",
          "y": "Elec_PowerLights2ndFloor",
          "yref": "y"
         },
         {
          "showarrow": false,
          "text": "",
          "x": 1,
          "xref": "x",
          "y": "Elec_PowerLights2ndFloor",
          "yref": "y"
         },
         {
          "showarrow": false,
          "text": "",
          "x": 2,
          "xref": "x",
          "y": "Elec_PowerLights2ndFloor",
          "yref": "y"
         },
         {
          "showarrow": false,
          "text": "0.71",
          "x": 3,
          "xref": "x",
          "y": "Elec_PowerLights2ndFloor",
          "yref": "y"
         },
         {
          "showarrow": false,
          "text": "0.71",
          "x": 4,
          "xref": "x",
          "y": "Elec_PowerLights2ndFloor",
          "yref": "y"
         },
         {
          "showarrow": false,
          "text": "0.33",
          "x": 5,
          "xref": "x",
          "y": "Elec_PowerLights2ndFloor",
          "yref": "y"
         },
         {
          "showarrow": false,
          "text": "0.71",
          "x": 6,
          "xref": "x",
          "y": "Elec_PowerLights2ndFloor",
          "yref": "y"
         },
         {
          "showarrow": false,
          "text": "0.21",
          "x": 7,
          "xref": "x",
          "y": "Elec_PowerLights2ndFloor",
          "yref": "y"
         },
         {
          "showarrow": false,
          "text": "0.31",
          "x": 8,
          "xref": "x",
          "y": "Elec_PowerLights2ndFloor",
          "yref": "y"
         },
         {
          "showarrow": false,
          "text": "0.28",
          "x": 9,
          "xref": "x",
          "y": "Elec_PowerLights2ndFloor",
          "yref": "y"
         },
         {
          "showarrow": false,
          "text": "0.28",
          "x": 10,
          "xref": "x",
          "y": "Elec_PowerLights2ndFloor",
          "yref": "y"
         },
         {
          "showarrow": false,
          "text": "0.01",
          "x": 11,
          "xref": "x",
          "y": "Elec_PowerLights2ndFloor",
          "yref": "y"
         },
         {
          "showarrow": false,
          "text": "0.13",
          "x": 12,
          "xref": "x",
          "y": "Elec_PowerLights2ndFloor",
          "yref": "y"
         },
         {
          "showarrow": false,
          "text": "0.06",
          "x": 13,
          "xref": "x",
          "y": "Elec_PowerLights2ndFloor",
          "yref": "y"
         },
         {
          "showarrow": false,
          "text": "0.14",
          "x": 14,
          "xref": "x",
          "y": "Elec_PowerLights2ndFloor",
          "yref": "y"
         },
         {
          "showarrow": false,
          "text": "",
          "x": 15,
          "xref": "x",
          "y": "Elec_PowerLights2ndFloor",
          "yref": "y"
         },
         {
          "showarrow": false,
          "text": "0.29",
          "x": 16,
          "xref": "x",
          "y": "Elec_PowerLights2ndFloor",
          "yref": "y"
         },
         {
          "showarrow": false,
          "text": "0.45",
          "x": 17,
          "xref": "x",
          "y": "Elec_PowerLights2ndFloor",
          "yref": "y"
         },
         {
          "showarrow": false,
          "text": "1.0",
          "x": 18,
          "xref": "x",
          "y": "Elec_PowerLights2ndFloor",
          "yref": "y"
         },
         {
          "showarrow": false,
          "text": "0.99",
          "x": 19,
          "xref": "x",
          "y": "Elec_PowerLights2ndFloor",
          "yref": "y"
         },
         {
          "showarrow": false,
          "text": "1.0",
          "x": 20,
          "xref": "x",
          "y": "Elec_PowerLights2ndFloor",
          "yref": "y"
         },
         {
          "showarrow": false,
          "text": "0.85",
          "x": 21,
          "xref": "x",
          "y": "Elec_PowerLights2ndFloor",
          "yref": "y"
         },
         {
          "showarrow": false,
          "text": "1.0",
          "x": 22,
          "xref": "x",
          "y": "Elec_PowerLights2ndFloor",
          "yref": "y"
         },
         {
          "showarrow": false,
          "text": "0.44",
          "x": 23,
          "xref": "x",
          "y": "Elec_PowerLights2ndFloor",
          "yref": "y"
         },
         {
          "showarrow": false,
          "text": "",
          "x": 0,
          "xref": "x",
          "y": "Elec_PowerPlugsMBAEast",
          "yref": "y"
         },
         {
          "showarrow": false,
          "text": "",
          "x": 1,
          "xref": "x",
          "y": "Elec_PowerPlugsMBAEast",
          "yref": "y"
         },
         {
          "showarrow": false,
          "text": "",
          "x": 2,
          "xref": "x",
          "y": "Elec_PowerPlugsMBAEast",
          "yref": "y"
         },
         {
          "showarrow": false,
          "text": "",
          "x": 3,
          "xref": "x",
          "y": "Elec_PowerPlugsMBAEast",
          "yref": "y"
         },
         {
          "showarrow": false,
          "text": "",
          "x": 4,
          "xref": "x",
          "y": "Elec_PowerPlugsMBAEast",
          "yref": "y"
         },
         {
          "showarrow": false,
          "text": "",
          "x": 5,
          "xref": "x",
          "y": "Elec_PowerPlugsMBAEast",
          "yref": "y"
         },
         {
          "showarrow": false,
          "text": "1.0",
          "x": 6,
          "xref": "x",
          "y": "Elec_PowerPlugsMBAEast",
          "yref": "y"
         },
         {
          "showarrow": false,
          "text": "",
          "x": 7,
          "xref": "x",
          "y": "Elec_PowerPlugsMBAEast",
          "yref": "y"
         },
         {
          "showarrow": false,
          "text": "",
          "x": 8,
          "xref": "x",
          "y": "Elec_PowerPlugsMBAEast",
          "yref": "y"
         },
         {
          "showarrow": false,
          "text": "",
          "x": 9,
          "xref": "x",
          "y": "Elec_PowerPlugsMBAEast",
          "yref": "y"
         },
         {
          "showarrow": false,
          "text": "0.39",
          "x": 10,
          "xref": "x",
          "y": "Elec_PowerPlugsMBAEast",
          "yref": "y"
         },
         {
          "showarrow": false,
          "text": "",
          "x": 11,
          "xref": "x",
          "y": "Elec_PowerPlugsMBAEast",
          "yref": "y"
         },
         {
          "showarrow": false,
          "text": "",
          "x": 12,
          "xref": "x",
          "y": "Elec_PowerPlugsMBAEast",
          "yref": "y"
         },
         {
          "showarrow": false,
          "text": "",
          "x": 13,
          "xref": "x",
          "y": "Elec_PowerPlugsMBAEast",
          "yref": "y"
         },
         {
          "showarrow": false,
          "text": "",
          "x": 14,
          "xref": "x",
          "y": "Elec_PowerPlugsMBAEast",
          "yref": "y"
         },
         {
          "showarrow": false,
          "text": "",
          "x": 15,
          "xref": "x",
          "y": "Elec_PowerPlugsMBAEast",
          "yref": "y"
         },
         {
          "showarrow": false,
          "text": "",
          "x": 16,
          "xref": "x",
          "y": "Elec_PowerPlugsMBAEast",
          "yref": "y"
         },
         {
          "showarrow": false,
          "text": "",
          "x": 17,
          "xref": "x",
          "y": "Elec_PowerPlugsMBAEast",
          "yref": "y"
         },
         {
          "showarrow": false,
          "text": "",
          "x": 18,
          "xref": "x",
          "y": "Elec_PowerPlugsMBAEast",
          "yref": "y"
         },
         {
          "showarrow": false,
          "text": "",
          "x": 19,
          "xref": "x",
          "y": "Elec_PowerPlugsMBAEast",
          "yref": "y"
         },
         {
          "showarrow": false,
          "text": "",
          "x": 20,
          "xref": "x",
          "y": "Elec_PowerPlugsMBAEast",
          "yref": "y"
         },
         {
          "showarrow": false,
          "text": "",
          "x": 21,
          "xref": "x",
          "y": "Elec_PowerPlugsMBAEast",
          "yref": "y"
         },
         {
          "showarrow": false,
          "text": "",
          "x": 22,
          "xref": "x",
          "y": "Elec_PowerPlugsMBAEast",
          "yref": "y"
         },
         {
          "showarrow": false,
          "text": "",
          "x": 23,
          "xref": "x",
          "y": "Elec_PowerPlugsMBAEast",
          "yref": "y"
         },
         {
          "showarrow": false,
          "text": "nan",
          "x": 0,
          "xref": "x",
          "y": "Elec_PowerPlugsBA2South",
          "yref": "y"
         },
         {
          "showarrow": false,
          "text": "nan",
          "x": 1,
          "xref": "x",
          "y": "Elec_PowerPlugsBA2South",
          "yref": "y"
         },
         {
          "showarrow": false,
          "text": "nan",
          "x": 2,
          "xref": "x",
          "y": "Elec_PowerPlugsBA2South",
          "yref": "y"
         },
         {
          "showarrow": false,
          "text": "nan",
          "x": 3,
          "xref": "x",
          "y": "Elec_PowerPlugsBA2South",
          "yref": "y"
         },
         {
          "showarrow": false,
          "text": "nan",
          "x": 4,
          "xref": "x",
          "y": "Elec_PowerPlugsBA2South",
          "yref": "y"
         },
         {
          "showarrow": false,
          "text": "nan",
          "x": 5,
          "xref": "x",
          "y": "Elec_PowerPlugsBA2South",
          "yref": "y"
         },
         {
          "showarrow": false,
          "text": "nan",
          "x": 6,
          "xref": "x",
          "y": "Elec_PowerPlugsBA2South",
          "yref": "y"
         },
         {
          "showarrow": false,
          "text": "nan",
          "x": 7,
          "xref": "x",
          "y": "Elec_PowerPlugsBA2South",
          "yref": "y"
         },
         {
          "showarrow": false,
          "text": "nan",
          "x": 8,
          "xref": "x",
          "y": "Elec_PowerPlugsBA2South",
          "yref": "y"
         },
         {
          "showarrow": false,
          "text": "nan",
          "x": 9,
          "xref": "x",
          "y": "Elec_PowerPlugsBA2South",
          "yref": "y"
         },
         {
          "showarrow": false,
          "text": "nan",
          "x": 10,
          "xref": "x",
          "y": "Elec_PowerPlugsBA2South",
          "yref": "y"
         },
         {
          "showarrow": false,
          "text": "nan",
          "x": 11,
          "xref": "x",
          "y": "Elec_PowerPlugsBA2South",
          "yref": "y"
         },
         {
          "showarrow": false,
          "text": "nan",
          "x": 12,
          "xref": "x",
          "y": "Elec_PowerPlugsBA2South",
          "yref": "y"
         },
         {
          "showarrow": false,
          "text": "nan",
          "x": 13,
          "xref": "x",
          "y": "Elec_PowerPlugsBA2South",
          "yref": "y"
         },
         {
          "showarrow": false,
          "text": "nan",
          "x": 14,
          "xref": "x",
          "y": "Elec_PowerPlugsBA2South",
          "yref": "y"
         },
         {
          "showarrow": false,
          "text": "nan",
          "x": 15,
          "xref": "x",
          "y": "Elec_PowerPlugsBA2South",
          "yref": "y"
         },
         {
          "showarrow": false,
          "text": "nan",
          "x": 16,
          "xref": "x",
          "y": "Elec_PowerPlugsBA2South",
          "yref": "y"
         },
         {
          "showarrow": false,
          "text": "nan",
          "x": 17,
          "xref": "x",
          "y": "Elec_PowerPlugsBA2South",
          "yref": "y"
         },
         {
          "showarrow": false,
          "text": "nan",
          "x": 18,
          "xref": "x",
          "y": "Elec_PowerPlugsBA2South",
          "yref": "y"
         },
         {
          "showarrow": false,
          "text": "nan",
          "x": 19,
          "xref": "x",
          "y": "Elec_PowerPlugsBA2South",
          "yref": "y"
         },
         {
          "showarrow": false,
          "text": "nan",
          "x": 20,
          "xref": "x",
          "y": "Elec_PowerPlugsBA2South",
          "yref": "y"
         },
         {
          "showarrow": false,
          "text": "nan",
          "x": 21,
          "xref": "x",
          "y": "Elec_PowerPlugsBA2South",
          "yref": "y"
         },
         {
          "showarrow": false,
          "text": "nan",
          "x": 22,
          "xref": "x",
          "y": "Elec_PowerPlugsBA2South",
          "yref": "y"
         },
         {
          "showarrow": false,
          "text": "nan",
          "x": 23,
          "xref": "x",
          "y": "Elec_PowerPlugsBA2South",
          "yref": "y"
         },
         {
          "showarrow": false,
          "text": "0.33",
          "x": 0,
          "xref": "x",
          "y": "Elec_PowerPlugsMBAWest",
          "yref": "y"
         },
         {
          "showarrow": false,
          "text": "0.33",
          "x": 1,
          "xref": "x",
          "y": "Elec_PowerPlugsMBAWest",
          "yref": "y"
         },
         {
          "showarrow": false,
          "text": "",
          "x": 2,
          "xref": "x",
          "y": "Elec_PowerPlugsMBAWest",
          "yref": "y"
         },
         {
          "showarrow": false,
          "text": "0.33",
          "x": 3,
          "xref": "x",
          "y": "Elec_PowerPlugsMBAWest",
          "yref": "y"
         },
         {
          "showarrow": false,
          "text": "0.33",
          "x": 4,
          "xref": "x",
          "y": "Elec_PowerPlugsMBAWest",
          "yref": "y"
         },
         {
          "showarrow": false,
          "text": "0.33",
          "x": 5,
          "xref": "x",
          "y": "Elec_PowerPlugsMBAWest",
          "yref": "y"
         },
         {
          "showarrow": false,
          "text": "0.33",
          "x": 6,
          "xref": "x",
          "y": "Elec_PowerPlugsMBAWest",
          "yref": "y"
         },
         {
          "showarrow": false,
          "text": "0.33",
          "x": 7,
          "xref": "x",
          "y": "Elec_PowerPlugsMBAWest",
          "yref": "y"
         },
         {
          "showarrow": false,
          "text": "0.67",
          "x": 8,
          "xref": "x",
          "y": "Elec_PowerPlugsMBAWest",
          "yref": "y"
         },
         {
          "showarrow": false,
          "text": "0.33",
          "x": 9,
          "xref": "x",
          "y": "Elec_PowerPlugsMBAWest",
          "yref": "y"
         },
         {
          "showarrow": false,
          "text": "0.33",
          "x": 10,
          "xref": "x",
          "y": "Elec_PowerPlugsMBAWest",
          "yref": "y"
         },
         {
          "showarrow": false,
          "text": "0.33",
          "x": 11,
          "xref": "x",
          "y": "Elec_PowerPlugsMBAWest",
          "yref": "y"
         },
         {
          "showarrow": false,
          "text": "0.33",
          "x": 12,
          "xref": "x",
          "y": "Elec_PowerPlugsMBAWest",
          "yref": "y"
         },
         {
          "showarrow": false,
          "text": "0.33",
          "x": 13,
          "xref": "x",
          "y": "Elec_PowerPlugsMBAWest",
          "yref": "y"
         },
         {
          "showarrow": false,
          "text": "",
          "x": 14,
          "xref": "x",
          "y": "Elec_PowerPlugsMBAWest",
          "yref": "y"
         },
         {
          "showarrow": false,
          "text": "0.33",
          "x": 15,
          "xref": "x",
          "y": "Elec_PowerPlugsMBAWest",
          "yref": "y"
         },
         {
          "showarrow": false,
          "text": "0.67",
          "x": 16,
          "xref": "x",
          "y": "Elec_PowerPlugsMBAWest",
          "yref": "y"
         },
         {
          "showarrow": false,
          "text": "1.0",
          "x": 17,
          "xref": "x",
          "y": "Elec_PowerPlugsMBAWest",
          "yref": "y"
         },
         {
          "showarrow": false,
          "text": "1.0",
          "x": 18,
          "xref": "x",
          "y": "Elec_PowerPlugsMBAWest",
          "yref": "y"
         },
         {
          "showarrow": false,
          "text": "1.0",
          "x": 19,
          "xref": "x",
          "y": "Elec_PowerPlugsMBAWest",
          "yref": "y"
         },
         {
          "showarrow": false,
          "text": "1.0",
          "x": 20,
          "xref": "x",
          "y": "Elec_PowerPlugsMBAWest",
          "yref": "y"
         },
         {
          "showarrow": false,
          "text": "1.0",
          "x": 21,
          "xref": "x",
          "y": "Elec_PowerPlugsMBAWest",
          "yref": "y"
         },
         {
          "showarrow": false,
          "text": "1.0",
          "x": 22,
          "xref": "x",
          "y": "Elec_PowerPlugsMBAWest",
          "yref": "y"
         },
         {
          "showarrow": false,
          "text": "1.0",
          "x": 23,
          "xref": "x",
          "y": "Elec_PowerPlugsMBAWest",
          "yref": "y"
         },
         {
          "showarrow": false,
          "text": "",
          "x": 0,
          "xref": "x",
          "y": "Elec_PowerPlugsBA2North",
          "yref": "y"
         },
         {
          "showarrow": false,
          "text": "",
          "x": 1,
          "xref": "x",
          "y": "Elec_PowerPlugsBA2North",
          "yref": "y"
         },
         {
          "showarrow": false,
          "text": "",
          "x": 2,
          "xref": "x",
          "y": "Elec_PowerPlugsBA2North",
          "yref": "y"
         },
         {
          "showarrow": false,
          "text": "",
          "x": 3,
          "xref": "x",
          "y": "Elec_PowerPlugsBA2North",
          "yref": "y"
         },
         {
          "showarrow": false,
          "text": "",
          "x": 4,
          "xref": "x",
          "y": "Elec_PowerPlugsBA2North",
          "yref": "y"
         },
         {
          "showarrow": false,
          "text": "",
          "x": 5,
          "xref": "x",
          "y": "Elec_PowerPlugsBA2North",
          "yref": "y"
         },
         {
          "showarrow": false,
          "text": "",
          "x": 6,
          "xref": "x",
          "y": "Elec_PowerPlugsBA2North",
          "yref": "y"
         },
         {
          "showarrow": false,
          "text": "",
          "x": 7,
          "xref": "x",
          "y": "Elec_PowerPlugsBA2North",
          "yref": "y"
         },
         {
          "showarrow": false,
          "text": "",
          "x": 8,
          "xref": "x",
          "y": "Elec_PowerPlugsBA2North",
          "yref": "y"
         },
         {
          "showarrow": false,
          "text": "1.0",
          "x": 9,
          "xref": "x",
          "y": "Elec_PowerPlugsBA2North",
          "yref": "y"
         },
         {
          "showarrow": false,
          "text": "1.0",
          "x": 10,
          "xref": "x",
          "y": "Elec_PowerPlugsBA2North",
          "yref": "y"
         },
         {
          "showarrow": false,
          "text": "1.0",
          "x": 11,
          "xref": "x",
          "y": "Elec_PowerPlugsBA2North",
          "yref": "y"
         },
         {
          "showarrow": false,
          "text": "",
          "x": 12,
          "xref": "x",
          "y": "Elec_PowerPlugsBA2North",
          "yref": "y"
         },
         {
          "showarrow": false,
          "text": "",
          "x": 13,
          "xref": "x",
          "y": "Elec_PowerPlugsBA2North",
          "yref": "y"
         },
         {
          "showarrow": false,
          "text": "1.0",
          "x": 14,
          "xref": "x",
          "y": "Elec_PowerPlugsBA2North",
          "yref": "y"
         },
         {
          "showarrow": false,
          "text": "",
          "x": 15,
          "xref": "x",
          "y": "Elec_PowerPlugsBA2North",
          "yref": "y"
         },
         {
          "showarrow": false,
          "text": "",
          "x": 16,
          "xref": "x",
          "y": "Elec_PowerPlugsBA2North",
          "yref": "y"
         },
         {
          "showarrow": false,
          "text": "",
          "x": 17,
          "xref": "x",
          "y": "Elec_PowerPlugsBA2North",
          "yref": "y"
         },
         {
          "showarrow": false,
          "text": "1.0",
          "x": 18,
          "xref": "x",
          "y": "Elec_PowerPlugsBA2North",
          "yref": "y"
         },
         {
          "showarrow": false,
          "text": "",
          "x": 19,
          "xref": "x",
          "y": "Elec_PowerPlugsBA2North",
          "yref": "y"
         },
         {
          "showarrow": false,
          "text": "1.0",
          "x": 20,
          "xref": "x",
          "y": "Elec_PowerPlugsBA2North",
          "yref": "y"
         },
         {
          "showarrow": false,
          "text": "",
          "x": 21,
          "xref": "x",
          "y": "Elec_PowerPlugsBA2North",
          "yref": "y"
         },
         {
          "showarrow": false,
          "text": "1.0",
          "x": 22,
          "xref": "x",
          "y": "Elec_PowerPlugsBA2North",
          "yref": "y"
         },
         {
          "showarrow": false,
          "text": "",
          "x": 23,
          "xref": "x",
          "y": "Elec_PowerPlugsBA2North",
          "yref": "y"
         },
         {
          "showarrow": false,
          "text": "",
          "x": 0,
          "xref": "x",
          "y": "Elec_PowerPlugsBR3",
          "yref": "y"
         },
         {
          "showarrow": false,
          "text": "",
          "x": 1,
          "xref": "x",
          "y": "Elec_PowerPlugsBR3",
          "yref": "y"
         },
         {
          "showarrow": false,
          "text": "0.01",
          "x": 2,
          "xref": "x",
          "y": "Elec_PowerPlugsBR3",
          "yref": "y"
         },
         {
          "showarrow": false,
          "text": "0.01",
          "x": 3,
          "xref": "x",
          "y": "Elec_PowerPlugsBR3",
          "yref": "y"
         },
         {
          "showarrow": false,
          "text": "",
          "x": 4,
          "xref": "x",
          "y": "Elec_PowerPlugsBR3",
          "yref": "y"
         },
         {
          "showarrow": false,
          "text": "",
          "x": 5,
          "xref": "x",
          "y": "Elec_PowerPlugsBR3",
          "yref": "y"
         },
         {
          "showarrow": false,
          "text": "",
          "x": 6,
          "xref": "x",
          "y": "Elec_PowerPlugsBR3",
          "yref": "y"
         },
         {
          "showarrow": false,
          "text": "",
          "x": 7,
          "xref": "x",
          "y": "Elec_PowerPlugsBR3",
          "yref": "y"
         },
         {
          "showarrow": false,
          "text": "",
          "x": 8,
          "xref": "x",
          "y": "Elec_PowerPlugsBR3",
          "yref": "y"
         },
         {
          "showarrow": false,
          "text": "",
          "x": 9,
          "xref": "x",
          "y": "Elec_PowerPlugsBR3",
          "yref": "y"
         },
         {
          "showarrow": false,
          "text": "",
          "x": 10,
          "xref": "x",
          "y": "Elec_PowerPlugsBR3",
          "yref": "y"
         },
         {
          "showarrow": false,
          "text": "",
          "x": 11,
          "xref": "x",
          "y": "Elec_PowerPlugsBR3",
          "yref": "y"
         },
         {
          "showarrow": false,
          "text": "",
          "x": 12,
          "xref": "x",
          "y": "Elec_PowerPlugsBR3",
          "yref": "y"
         },
         {
          "showarrow": false,
          "text": "",
          "x": 13,
          "xref": "x",
          "y": "Elec_PowerPlugsBR3",
          "yref": "y"
         },
         {
          "showarrow": false,
          "text": "",
          "x": 14,
          "xref": "x",
          "y": "Elec_PowerPlugsBR3",
          "yref": "y"
         },
         {
          "showarrow": false,
          "text": "",
          "x": 15,
          "xref": "x",
          "y": "Elec_PowerPlugsBR3",
          "yref": "y"
         },
         {
          "showarrow": false,
          "text": "",
          "x": 16,
          "xref": "x",
          "y": "Elec_PowerPlugsBR3",
          "yref": "y"
         },
         {
          "showarrow": false,
          "text": "0.07",
          "x": 17,
          "xref": "x",
          "y": "Elec_PowerPlugsBR3",
          "yref": "y"
         },
         {
          "showarrow": false,
          "text": "1.0",
          "x": 18,
          "xref": "x",
          "y": "Elec_PowerPlugsBR3",
          "yref": "y"
         },
         {
          "showarrow": false,
          "text": "1.0",
          "x": 19,
          "xref": "x",
          "y": "Elec_PowerPlugsBR3",
          "yref": "y"
         },
         {
          "showarrow": false,
          "text": "0.86",
          "x": 20,
          "xref": "x",
          "y": "Elec_PowerPlugsBR3",
          "yref": "y"
         },
         {
          "showarrow": false,
          "text": "",
          "x": 21,
          "xref": "x",
          "y": "Elec_PowerPlugsBR3",
          "yref": "y"
         },
         {
          "showarrow": false,
          "text": "",
          "x": 22,
          "xref": "x",
          "y": "Elec_PowerPlugsBR3",
          "yref": "y"
         },
         {
          "showarrow": false,
          "text": "",
          "x": 23,
          "xref": "x",
          "y": "Elec_PowerPlugsBR3",
          "yref": "y"
         },
         {
          "showarrow": false,
          "text": "1.0",
          "x": 0,
          "xref": "x",
          "y": "Elec_PowerRefrigerator",
          "yref": "y"
         },
         {
          "showarrow": false,
          "text": "0.75",
          "x": 1,
          "xref": "x",
          "y": "Elec_PowerRefrigerator",
          "yref": "y"
         },
         {
          "showarrow": false,
          "text": "",
          "x": 2,
          "xref": "x",
          "y": "Elec_PowerRefrigerator",
          "yref": "y"
         },
         {
          "showarrow": false,
          "text": "0.25",
          "x": 3,
          "xref": "x",
          "y": "Elec_PowerRefrigerator",
          "yref": "y"
         },
         {
          "showarrow": false,
          "text": "0.25",
          "x": 4,
          "xref": "x",
          "y": "Elec_PowerRefrigerator",
          "yref": "y"
         },
         {
          "showarrow": false,
          "text": "0.25",
          "x": 5,
          "xref": "x",
          "y": "Elec_PowerRefrigerator",
          "yref": "y"
         },
         {
          "showarrow": false,
          "text": "",
          "x": 6,
          "xref": "x",
          "y": "Elec_PowerRefrigerator",
          "yref": "y"
         },
         {
          "showarrow": false,
          "text": "0.25",
          "x": 7,
          "xref": "x",
          "y": "Elec_PowerRefrigerator",
          "yref": "y"
         },
         {
          "showarrow": false,
          "text": "0.5",
          "x": 8,
          "xref": "x",
          "y": "Elec_PowerRefrigerator",
          "yref": "y"
         },
         {
          "showarrow": false,
          "text": "0.5",
          "x": 9,
          "xref": "x",
          "y": "Elec_PowerRefrigerator",
          "yref": "y"
         },
         {
          "showarrow": false,
          "text": "0.5",
          "x": 10,
          "xref": "x",
          "y": "Elec_PowerRefrigerator",
          "yref": "y"
         },
         {
          "showarrow": false,
          "text": "0.5",
          "x": 11,
          "xref": "x",
          "y": "Elec_PowerRefrigerator",
          "yref": "y"
         },
         {
          "showarrow": false,
          "text": "0.5",
          "x": 12,
          "xref": "x",
          "y": "Elec_PowerRefrigerator",
          "yref": "y"
         },
         {
          "showarrow": false,
          "text": "0.5",
          "x": 13,
          "xref": "x",
          "y": "Elec_PowerRefrigerator",
          "yref": "y"
         },
         {
          "showarrow": false,
          "text": "",
          "x": 14,
          "xref": "x",
          "y": "Elec_PowerRefrigerator",
          "yref": "y"
         },
         {
          "showarrow": false,
          "text": "",
          "x": 15,
          "xref": "x",
          "y": "Elec_PowerRefrigerator",
          "yref": "y"
         },
         {
          "showarrow": false,
          "text": "0.25",
          "x": 16,
          "xref": "x",
          "y": "Elec_PowerRefrigerator",
          "yref": "y"
         },
         {
          "showarrow": false,
          "text": "0.25",
          "x": 17,
          "xref": "x",
          "y": "Elec_PowerRefrigerator",
          "yref": "y"
         },
         {
          "showarrow": false,
          "text": "0.5",
          "x": 18,
          "xref": "x",
          "y": "Elec_PowerRefrigerator",
          "yref": "y"
         },
         {
          "showarrow": false,
          "text": "0.5",
          "x": 19,
          "xref": "x",
          "y": "Elec_PowerRefrigerator",
          "yref": "y"
         },
         {
          "showarrow": false,
          "text": "0.5",
          "x": 20,
          "xref": "x",
          "y": "Elec_PowerRefrigerator",
          "yref": "y"
         },
         {
          "showarrow": false,
          "text": "0.5",
          "x": 21,
          "xref": "x",
          "y": "Elec_PowerRefrigerator",
          "yref": "y"
         },
         {
          "showarrow": false,
          "text": "0.5",
          "x": 22,
          "xref": "x",
          "y": "Elec_PowerRefrigerator",
          "yref": "y"
         },
         {
          "showarrow": false,
          "text": "0.5",
          "x": 23,
          "xref": "x",
          "y": "Elec_PowerRefrigerator",
          "yref": "y"
         },
         {
          "showarrow": false,
          "text": "",
          "x": 0,
          "xref": "x",
          "y": "Elec_PowerPlugsKitSink",
          "yref": "y"
         },
         {
          "showarrow": false,
          "text": "",
          "x": 1,
          "xref": "x",
          "y": "Elec_PowerPlugsKitSink",
          "yref": "y"
         },
         {
          "showarrow": false,
          "text": "",
          "x": 2,
          "xref": "x",
          "y": "Elec_PowerPlugsKitSink",
          "yref": "y"
         },
         {
          "showarrow": false,
          "text": "",
          "x": 3,
          "xref": "x",
          "y": "Elec_PowerPlugsKitSink",
          "yref": "y"
         },
         {
          "showarrow": false,
          "text": "",
          "x": 4,
          "xref": "x",
          "y": "Elec_PowerPlugsKitSink",
          "yref": "y"
         },
         {
          "showarrow": false,
          "text": "",
          "x": 5,
          "xref": "x",
          "y": "Elec_PowerPlugsKitSink",
          "yref": "y"
         },
         {
          "showarrow": false,
          "text": "1.0",
          "x": 6,
          "xref": "x",
          "y": "Elec_PowerPlugsKitSink",
          "yref": "y"
         },
         {
          "showarrow": false,
          "text": "",
          "x": 7,
          "xref": "x",
          "y": "Elec_PowerPlugsKitSink",
          "yref": "y"
         },
         {
          "showarrow": false,
          "text": "0.2",
          "x": 8,
          "xref": "x",
          "y": "Elec_PowerPlugsKitSink",
          "yref": "y"
         },
         {
          "showarrow": false,
          "text": "0.59",
          "x": 9,
          "xref": "x",
          "y": "Elec_PowerPlugsKitSink",
          "yref": "y"
         },
         {
          "showarrow": false,
          "text": "0.2",
          "x": 10,
          "xref": "x",
          "y": "Elec_PowerPlugsKitSink",
          "yref": "y"
         },
         {
          "showarrow": false,
          "text": "",
          "x": 11,
          "xref": "x",
          "y": "Elec_PowerPlugsKitSink",
          "yref": "y"
         },
         {
          "showarrow": false,
          "text": "",
          "x": 12,
          "xref": "x",
          "y": "Elec_PowerPlugsKitSink",
          "yref": "y"
         },
         {
          "showarrow": false,
          "text": "",
          "x": 13,
          "xref": "x",
          "y": "Elec_PowerPlugsKitSink",
          "yref": "y"
         },
         {
          "showarrow": false,
          "text": "",
          "x": 14,
          "xref": "x",
          "y": "Elec_PowerPlugsKitSink",
          "yref": "y"
         },
         {
          "showarrow": false,
          "text": "",
          "x": 15,
          "xref": "x",
          "y": "Elec_PowerPlugsKitSink",
          "yref": "y"
         },
         {
          "showarrow": false,
          "text": "",
          "x": 16,
          "xref": "x",
          "y": "Elec_PowerPlugsKitSink",
          "yref": "y"
         },
         {
          "showarrow": false,
          "text": "",
          "x": 17,
          "xref": "x",
          "y": "Elec_PowerPlugsKitSink",
          "yref": "y"
         },
         {
          "showarrow": false,
          "text": "",
          "x": 18,
          "xref": "x",
          "y": "Elec_PowerPlugsKitSink",
          "yref": "y"
         },
         {
          "showarrow": false,
          "text": "",
          "x": 19,
          "xref": "x",
          "y": "Elec_PowerPlugsKitSink",
          "yref": "y"
         },
         {
          "showarrow": false,
          "text": "",
          "x": 20,
          "xref": "x",
          "y": "Elec_PowerPlugsKitSink",
          "yref": "y"
         },
         {
          "showarrow": false,
          "text": "",
          "x": 21,
          "xref": "x",
          "y": "Elec_PowerPlugsKitSink",
          "yref": "y"
         },
         {
          "showarrow": false,
          "text": "",
          "x": 22,
          "xref": "x",
          "y": "Elec_PowerPlugsKitSink",
          "yref": "y"
         },
         {
          "showarrow": false,
          "text": "",
          "x": 23,
          "xref": "x",
          "y": "Elec_PowerPlugsKitSink",
          "yref": "y"
         },
         {
          "showarrow": false,
          "text": "",
          "x": 0,
          "xref": "x",
          "y": "Elec_PowerGarbageDisposal",
          "yref": "y"
         },
         {
          "showarrow": false,
          "text": "",
          "x": 1,
          "xref": "x",
          "y": "Elec_PowerGarbageDisposal",
          "yref": "y"
         },
         {
          "showarrow": false,
          "text": "0.01",
          "x": 2,
          "xref": "x",
          "y": "Elec_PowerGarbageDisposal",
          "yref": "y"
         },
         {
          "showarrow": false,
          "text": "",
          "x": 3,
          "xref": "x",
          "y": "Elec_PowerGarbageDisposal",
          "yref": "y"
         },
         {
          "showarrow": false,
          "text": "",
          "x": 4,
          "xref": "x",
          "y": "Elec_PowerGarbageDisposal",
          "yref": "y"
         },
         {
          "showarrow": false,
          "text": "",
          "x": 5,
          "xref": "x",
          "y": "Elec_PowerGarbageDisposal",
          "yref": "y"
         },
         {
          "showarrow": false,
          "text": "",
          "x": 6,
          "xref": "x",
          "y": "Elec_PowerGarbageDisposal",
          "yref": "y"
         },
         {
          "showarrow": false,
          "text": "",
          "x": 7,
          "xref": "x",
          "y": "Elec_PowerGarbageDisposal",
          "yref": "y"
         },
         {
          "showarrow": false,
          "text": "0.3",
          "x": 8,
          "xref": "x",
          "y": "Elec_PowerGarbageDisposal",
          "yref": "y"
         },
         {
          "showarrow": false,
          "text": "",
          "x": 9,
          "xref": "x",
          "y": "Elec_PowerGarbageDisposal",
          "yref": "y"
         },
         {
          "showarrow": false,
          "text": "",
          "x": 10,
          "xref": "x",
          "y": "Elec_PowerGarbageDisposal",
          "yref": "y"
         },
         {
          "showarrow": false,
          "text": "",
          "x": 11,
          "xref": "x",
          "y": "Elec_PowerGarbageDisposal",
          "yref": "y"
         },
         {
          "showarrow": false,
          "text": "0.3",
          "x": 12,
          "xref": "x",
          "y": "Elec_PowerGarbageDisposal",
          "yref": "y"
         },
         {
          "showarrow": false,
          "text": "",
          "x": 13,
          "xref": "x",
          "y": "Elec_PowerGarbageDisposal",
          "yref": "y"
         },
         {
          "showarrow": false,
          "text": "",
          "x": 14,
          "xref": "x",
          "y": "Elec_PowerGarbageDisposal",
          "yref": "y"
         },
         {
          "showarrow": false,
          "text": "",
          "x": 15,
          "xref": "x",
          "y": "Elec_PowerGarbageDisposal",
          "yref": "y"
         },
         {
          "showarrow": false,
          "text": "",
          "x": 16,
          "xref": "x",
          "y": "Elec_PowerGarbageDisposal",
          "yref": "y"
         },
         {
          "showarrow": false,
          "text": "0.01",
          "x": 17,
          "xref": "x",
          "y": "Elec_PowerGarbageDisposal",
          "yref": "y"
         },
         {
          "showarrow": false,
          "text": "1.0",
          "x": 18,
          "xref": "x",
          "y": "Elec_PowerGarbageDisposal",
          "yref": "y"
         },
         {
          "showarrow": false,
          "text": "0.16",
          "x": 19,
          "xref": "x",
          "y": "Elec_PowerGarbageDisposal",
          "yref": "y"
         },
         {
          "showarrow": false,
          "text": "0.01",
          "x": 20,
          "xref": "x",
          "y": "Elec_PowerGarbageDisposal",
          "yref": "y"
         },
         {
          "showarrow": false,
          "text": "",
          "x": 21,
          "xref": "x",
          "y": "Elec_PowerGarbageDisposal",
          "yref": "y"
         },
         {
          "showarrow": false,
          "text": "",
          "x": 22,
          "xref": "x",
          "y": "Elec_PowerGarbageDisposal",
          "yref": "y"
         },
         {
          "showarrow": false,
          "text": "",
          "x": 23,
          "xref": "x",
          "y": "Elec_PowerGarbageDisposal",
          "yref": "y"
         },
         {
          "showarrow": false,
          "text": "",
          "x": 0,
          "xref": "x",
          "y": "Elec_PowerPlugsKitRange",
          "yref": "y"
         },
         {
          "showarrow": false,
          "text": "",
          "x": 1,
          "xref": "x",
          "y": "Elec_PowerPlugsKitRange",
          "yref": "y"
         },
         {
          "showarrow": false,
          "text": "0.01",
          "x": 2,
          "xref": "x",
          "y": "Elec_PowerPlugsKitRange",
          "yref": "y"
         },
         {
          "showarrow": false,
          "text": "",
          "x": 3,
          "xref": "x",
          "y": "Elec_PowerPlugsKitRange",
          "yref": "y"
         },
         {
          "showarrow": false,
          "text": "",
          "x": 4,
          "xref": "x",
          "y": "Elec_PowerPlugsKitRange",
          "yref": "y"
         },
         {
          "showarrow": false,
          "text": "",
          "x": 5,
          "xref": "x",
          "y": "Elec_PowerPlugsKitRange",
          "yref": "y"
         },
         {
          "showarrow": false,
          "text": "0.77",
          "x": 6,
          "xref": "x",
          "y": "Elec_PowerPlugsKitRange",
          "yref": "y"
         },
         {
          "showarrow": false,
          "text": "",
          "x": 7,
          "xref": "x",
          "y": "Elec_PowerPlugsKitRange",
          "yref": "y"
         },
         {
          "showarrow": false,
          "text": "0.3",
          "x": 8,
          "xref": "x",
          "y": "Elec_PowerPlugsKitRange",
          "yref": "y"
         },
         {
          "showarrow": false,
          "text": "0.3",
          "x": 9,
          "xref": "x",
          "y": "Elec_PowerPlugsKitRange",
          "yref": "y"
         },
         {
          "showarrow": false,
          "text": "",
          "x": 10,
          "xref": "x",
          "y": "Elec_PowerPlugsKitRange",
          "yref": "y"
         },
         {
          "showarrow": false,
          "text": "",
          "x": 11,
          "xref": "x",
          "y": "Elec_PowerPlugsKitRange",
          "yref": "y"
         },
         {
          "showarrow": false,
          "text": "0.3",
          "x": 12,
          "xref": "x",
          "y": "Elec_PowerPlugsKitRange",
          "yref": "y"
         },
         {
          "showarrow": false,
          "text": "",
          "x": 13,
          "xref": "x",
          "y": "Elec_PowerPlugsKitRange",
          "yref": "y"
         },
         {
          "showarrow": false,
          "text": "",
          "x": 14,
          "xref": "x",
          "y": "Elec_PowerPlugsKitRange",
          "yref": "y"
         },
         {
          "showarrow": false,
          "text": "",
          "x": 15,
          "xref": "x",
          "y": "Elec_PowerPlugsKitRange",
          "yref": "y"
         },
         {
          "showarrow": false,
          "text": "",
          "x": 16,
          "xref": "x",
          "y": "Elec_PowerPlugsKitRange",
          "yref": "y"
         },
         {
          "showarrow": false,
          "text": "0.02",
          "x": 17,
          "xref": "x",
          "y": "Elec_PowerPlugsKitRange",
          "yref": "y"
         },
         {
          "showarrow": false,
          "text": "1.0",
          "x": 18,
          "xref": "x",
          "y": "Elec_PowerPlugsKitRange",
          "yref": "y"
         },
         {
          "showarrow": false,
          "text": "0.16",
          "x": 19,
          "xref": "x",
          "y": "Elec_PowerPlugsKitRange",
          "yref": "y"
         },
         {
          "showarrow": false,
          "text": "",
          "x": 20,
          "xref": "x",
          "y": "Elec_PowerPlugsKitRange",
          "yref": "y"
         },
         {
          "showarrow": false,
          "text": "",
          "x": 21,
          "xref": "x",
          "y": "Elec_PowerPlugsKitRange",
          "yref": "y"
         },
         {
          "showarrow": false,
          "text": "",
          "x": 22,
          "xref": "x",
          "y": "Elec_PowerPlugsKitRange",
          "yref": "y"
         },
         {
          "showarrow": false,
          "text": "",
          "x": 23,
          "xref": "x",
          "y": "Elec_PowerPlugsKitRange",
          "yref": "y"
         },
         {
          "showarrow": false,
          "text": "",
          "x": 0,
          "xref": "x",
          "y": "Elec_PowerPlugsKitPeninsula",
          "yref": "y"
         },
         {
          "showarrow": false,
          "text": "",
          "x": 1,
          "xref": "x",
          "y": "Elec_PowerPlugsKitPeninsula",
          "yref": "y"
         },
         {
          "showarrow": false,
          "text": "0.01",
          "x": 2,
          "xref": "x",
          "y": "Elec_PowerPlugsKitPeninsula",
          "yref": "y"
         },
         {
          "showarrow": false,
          "text": "",
          "x": 3,
          "xref": "x",
          "y": "Elec_PowerPlugsKitPeninsula",
          "yref": "y"
         },
         {
          "showarrow": false,
          "text": "",
          "x": 4,
          "xref": "x",
          "y": "Elec_PowerPlugsKitPeninsula",
          "yref": "y"
         },
         {
          "showarrow": false,
          "text": "",
          "x": 5,
          "xref": "x",
          "y": "Elec_PowerPlugsKitPeninsula",
          "yref": "y"
         },
         {
          "showarrow": false,
          "text": "",
          "x": 6,
          "xref": "x",
          "y": "Elec_PowerPlugsKitPeninsula",
          "yref": "y"
         },
         {
          "showarrow": false,
          "text": "",
          "x": 7,
          "xref": "x",
          "y": "Elec_PowerPlugsKitPeninsula",
          "yref": "y"
         },
         {
          "showarrow": false,
          "text": "",
          "x": 8,
          "xref": "x",
          "y": "Elec_PowerPlugsKitPeninsula",
          "yref": "y"
         },
         {
          "showarrow": false,
          "text": "",
          "x": 9,
          "xref": "x",
          "y": "Elec_PowerPlugsKitPeninsula",
          "yref": "y"
         },
         {
          "showarrow": false,
          "text": "",
          "x": 10,
          "xref": "x",
          "y": "Elec_PowerPlugsKitPeninsula",
          "yref": "y"
         },
         {
          "showarrow": false,
          "text": "",
          "x": 11,
          "xref": "x",
          "y": "Elec_PowerPlugsKitPeninsula",
          "yref": "y"
         },
         {
          "showarrow": false,
          "text": "",
          "x": 12,
          "xref": "x",
          "y": "Elec_PowerPlugsKitPeninsula",
          "yref": "y"
         },
         {
          "showarrow": false,
          "text": "",
          "x": 13,
          "xref": "x",
          "y": "Elec_PowerPlugsKitPeninsula",
          "yref": "y"
         },
         {
          "showarrow": false,
          "text": "",
          "x": 14,
          "xref": "x",
          "y": "Elec_PowerPlugsKitPeninsula",
          "yref": "y"
         },
         {
          "showarrow": false,
          "text": "",
          "x": 15,
          "xref": "x",
          "y": "Elec_PowerPlugsKitPeninsula",
          "yref": "y"
         },
         {
          "showarrow": false,
          "text": "",
          "x": 16,
          "xref": "x",
          "y": "Elec_PowerPlugsKitPeninsula",
          "yref": "y"
         },
         {
          "showarrow": false,
          "text": "",
          "x": 17,
          "xref": "x",
          "y": "Elec_PowerPlugsKitPeninsula",
          "yref": "y"
         },
         {
          "showarrow": false,
          "text": "1.0",
          "x": 18,
          "xref": "x",
          "y": "Elec_PowerPlugsKitPeninsula",
          "yref": "y"
         },
         {
          "showarrow": false,
          "text": "0.17",
          "x": 19,
          "xref": "x",
          "y": "Elec_PowerPlugsKitPeninsula",
          "yref": "y"
         },
         {
          "showarrow": false,
          "text": "",
          "x": 20,
          "xref": "x",
          "y": "Elec_PowerPlugsKitPeninsula",
          "yref": "y"
         },
         {
          "showarrow": false,
          "text": "",
          "x": 21,
          "xref": "x",
          "y": "Elec_PowerPlugsKitPeninsula",
          "yref": "y"
         },
         {
          "showarrow": false,
          "text": "",
          "x": 22,
          "xref": "x",
          "y": "Elec_PowerPlugsKitPeninsula",
          "yref": "y"
         },
         {
          "showarrow": false,
          "text": "",
          "x": 23,
          "xref": "x",
          "y": "Elec_PowerPlugsKitPeninsula",
          "yref": "y"
         },
         {
          "showarrow": false,
          "text": "",
          "x": 0,
          "xref": "x",
          "y": "Elec_PowerMicrowave",
          "yref": "y"
         },
         {
          "showarrow": false,
          "text": "",
          "x": 1,
          "xref": "x",
          "y": "Elec_PowerMicrowave",
          "yref": "y"
         },
         {
          "showarrow": false,
          "text": "",
          "x": 2,
          "xref": "x",
          "y": "Elec_PowerMicrowave",
          "yref": "y"
         },
         {
          "showarrow": false,
          "text": "",
          "x": 3,
          "xref": "x",
          "y": "Elec_PowerMicrowave",
          "yref": "y"
         },
         {
          "showarrow": false,
          "text": "",
          "x": 4,
          "xref": "x",
          "y": "Elec_PowerMicrowave",
          "yref": "y"
         },
         {
          "showarrow": false,
          "text": "0.03",
          "x": 5,
          "xref": "x",
          "y": "Elec_PowerMicrowave",
          "yref": "y"
         },
         {
          "showarrow": false,
          "text": "0.84",
          "x": 6,
          "xref": "x",
          "y": "Elec_PowerMicrowave",
          "yref": "y"
         },
         {
          "showarrow": false,
          "text": "",
          "x": 7,
          "xref": "x",
          "y": "Elec_PowerMicrowave",
          "yref": "y"
         },
         {
          "showarrow": false,
          "text": "0.01",
          "x": 8,
          "xref": "x",
          "y": "Elec_PowerMicrowave",
          "yref": "y"
         },
         {
          "showarrow": false,
          "text": "0.35",
          "x": 9,
          "xref": "x",
          "y": "Elec_PowerMicrowave",
          "yref": "y"
         },
         {
          "showarrow": false,
          "text": "",
          "x": 10,
          "xref": "x",
          "y": "Elec_PowerMicrowave",
          "yref": "y"
         },
         {
          "showarrow": false,
          "text": "",
          "x": 11,
          "xref": "x",
          "y": "Elec_PowerMicrowave",
          "yref": "y"
         },
         {
          "showarrow": false,
          "text": "0.33",
          "x": 12,
          "xref": "x",
          "y": "Elec_PowerMicrowave",
          "yref": "y"
         },
         {
          "showarrow": false,
          "text": "0.01",
          "x": 13,
          "xref": "x",
          "y": "Elec_PowerMicrowave",
          "yref": "y"
         },
         {
          "showarrow": false,
          "text": "",
          "x": 14,
          "xref": "x",
          "y": "Elec_PowerMicrowave",
          "yref": "y"
         },
         {
          "showarrow": false,
          "text": "",
          "x": 15,
          "xref": "x",
          "y": "Elec_PowerMicrowave",
          "yref": "y"
         },
         {
          "showarrow": false,
          "text": "",
          "x": 16,
          "xref": "x",
          "y": "Elec_PowerMicrowave",
          "yref": "y"
         },
         {
          "showarrow": false,
          "text": "",
          "x": 17,
          "xref": "x",
          "y": "Elec_PowerMicrowave",
          "yref": "y"
         },
         {
          "showarrow": false,
          "text": "1.0",
          "x": 18,
          "xref": "x",
          "y": "Elec_PowerMicrowave",
          "yref": "y"
         },
         {
          "showarrow": false,
          "text": "",
          "x": 19,
          "xref": "x",
          "y": "Elec_PowerMicrowave",
          "yref": "y"
         },
         {
          "showarrow": false,
          "text": "",
          "x": 20,
          "xref": "x",
          "y": "Elec_PowerMicrowave",
          "yref": "y"
         },
         {
          "showarrow": false,
          "text": "",
          "x": 21,
          "xref": "x",
          "y": "Elec_PowerMicrowave",
          "yref": "y"
         },
         {
          "showarrow": false,
          "text": "",
          "x": 22,
          "xref": "x",
          "y": "Elec_PowerMicrowave",
          "yref": "y"
         },
         {
          "showarrow": false,
          "text": "",
          "x": 23,
          "xref": "x",
          "y": "Elec_PowerMicrowave",
          "yref": "y"
         },
         {
          "showarrow": false,
          "text": "1.0",
          "x": 0,
          "xref": "x",
          "y": "Elec_PowerPlugs2ndFloor",
          "yref": "y"
         },
         {
          "showarrow": false,
          "text": "1.0",
          "x": 1,
          "xref": "x",
          "y": "Elec_PowerPlugs2ndFloor",
          "yref": "y"
         },
         {
          "showarrow": false,
          "text": "",
          "x": 2,
          "xref": "x",
          "y": "Elec_PowerPlugs2ndFloor",
          "yref": "y"
         },
         {
          "showarrow": false,
          "text": "0.25",
          "x": 3,
          "xref": "x",
          "y": "Elec_PowerPlugs2ndFloor",
          "yref": "y"
         },
         {
          "showarrow": false,
          "text": "0.25",
          "x": 4,
          "xref": "x",
          "y": "Elec_PowerPlugs2ndFloor",
          "yref": "y"
         },
         {
          "showarrow": false,
          "text": "0.25",
          "x": 5,
          "xref": "x",
          "y": "Elec_PowerPlugs2ndFloor",
          "yref": "y"
         },
         {
          "showarrow": false,
          "text": "0.25",
          "x": 6,
          "xref": "x",
          "y": "Elec_PowerPlugs2ndFloor",
          "yref": "y"
         },
         {
          "showarrow": false,
          "text": "0.25",
          "x": 7,
          "xref": "x",
          "y": "Elec_PowerPlugs2ndFloor",
          "yref": "y"
         },
         {
          "showarrow": false,
          "text": "0.75",
          "x": 8,
          "xref": "x",
          "y": "Elec_PowerPlugs2ndFloor",
          "yref": "y"
         },
         {
          "showarrow": false,
          "text": "0.75",
          "x": 9,
          "xref": "x",
          "y": "Elec_PowerPlugs2ndFloor",
          "yref": "y"
         },
         {
          "showarrow": false,
          "text": "0.75",
          "x": 10,
          "xref": "x",
          "y": "Elec_PowerPlugs2ndFloor",
          "yref": "y"
         },
         {
          "showarrow": false,
          "text": "0.75",
          "x": 11,
          "xref": "x",
          "y": "Elec_PowerPlugs2ndFloor",
          "yref": "y"
         },
         {
          "showarrow": false,
          "text": "0.75",
          "x": 12,
          "xref": "x",
          "y": "Elec_PowerPlugs2ndFloor",
          "yref": "y"
         },
         {
          "showarrow": false,
          "text": "0.75",
          "x": 13,
          "xref": "x",
          "y": "Elec_PowerPlugs2ndFloor",
          "yref": "y"
         },
         {
          "showarrow": false,
          "text": "0.25",
          "x": 14,
          "xref": "x",
          "y": "Elec_PowerPlugs2ndFloor",
          "yref": "y"
         },
         {
          "showarrow": false,
          "text": "0.25",
          "x": 15,
          "xref": "x",
          "y": "Elec_PowerPlugs2ndFloor",
          "yref": "y"
         },
         {
          "showarrow": false,
          "text": "0.5",
          "x": 16,
          "xref": "x",
          "y": "Elec_PowerPlugs2ndFloor",
          "yref": "y"
         },
         {
          "showarrow": false,
          "text": "0.75",
          "x": 17,
          "xref": "x",
          "y": "Elec_PowerPlugs2ndFloor",
          "yref": "y"
         },
         {
          "showarrow": false,
          "text": "0.75",
          "x": 18,
          "xref": "x",
          "y": "Elec_PowerPlugs2ndFloor",
          "yref": "y"
         },
         {
          "showarrow": false,
          "text": "0.75",
          "x": 19,
          "xref": "x",
          "y": "Elec_PowerPlugs2ndFloor",
          "yref": "y"
         },
         {
          "showarrow": false,
          "text": "0.75",
          "x": 20,
          "xref": "x",
          "y": "Elec_PowerPlugs2ndFloor",
          "yref": "y"
         },
         {
          "showarrow": false,
          "text": "0.75",
          "x": 21,
          "xref": "x",
          "y": "Elec_PowerPlugs2ndFloor",
          "yref": "y"
         },
         {
          "showarrow": false,
          "text": "0.75",
          "x": 22,
          "xref": "x",
          "y": "Elec_PowerPlugs2ndFloor",
          "yref": "y"
         },
         {
          "showarrow": false,
          "text": "0.75",
          "x": 23,
          "xref": "x",
          "y": "Elec_PowerPlugs2ndFloor",
          "yref": "y"
         },
         {
          "showarrow": false,
          "text": "0.33",
          "x": 0,
          "xref": "x",
          "y": "Elec_PowerSpare2",
          "yref": "y"
         },
         {
          "showarrow": false,
          "text": "0.33",
          "x": 1,
          "xref": "x",
          "y": "Elec_PowerSpare2",
          "yref": "y"
         },
         {
          "showarrow": false,
          "text": "",
          "x": 2,
          "xref": "x",
          "y": "Elec_PowerSpare2",
          "yref": "y"
         },
         {
          "showarrow": false,
          "text": "0.33",
          "x": 3,
          "xref": "x",
          "y": "Elec_PowerSpare2",
          "yref": "y"
         },
         {
          "showarrow": false,
          "text": "0.33",
          "x": 4,
          "xref": "x",
          "y": "Elec_PowerSpare2",
          "yref": "y"
         },
         {
          "showarrow": false,
          "text": "0.33",
          "x": 5,
          "xref": "x",
          "y": "Elec_PowerSpare2",
          "yref": "y"
         },
         {
          "showarrow": false,
          "text": "0.33",
          "x": 6,
          "xref": "x",
          "y": "Elec_PowerSpare2",
          "yref": "y"
         },
         {
          "showarrow": false,
          "text": "0.33",
          "x": 7,
          "xref": "x",
          "y": "Elec_PowerSpare2",
          "yref": "y"
         },
         {
          "showarrow": false,
          "text": "0.67",
          "x": 8,
          "xref": "x",
          "y": "Elec_PowerSpare2",
          "yref": "y"
         },
         {
          "showarrow": false,
          "text": "0.33",
          "x": 9,
          "xref": "x",
          "y": "Elec_PowerSpare2",
          "yref": "y"
         },
         {
          "showarrow": false,
          "text": "0.33",
          "x": 10,
          "xref": "x",
          "y": "Elec_PowerSpare2",
          "yref": "y"
         },
         {
          "showarrow": false,
          "text": "0.33",
          "x": 11,
          "xref": "x",
          "y": "Elec_PowerSpare2",
          "yref": "y"
         },
         {
          "showarrow": false,
          "text": "0.33",
          "x": 12,
          "xref": "x",
          "y": "Elec_PowerSpare2",
          "yref": "y"
         },
         {
          "showarrow": false,
          "text": "0.33",
          "x": 13,
          "xref": "x",
          "y": "Elec_PowerSpare2",
          "yref": "y"
         },
         {
          "showarrow": false,
          "text": "0.33",
          "x": 14,
          "xref": "x",
          "y": "Elec_PowerSpare2",
          "yref": "y"
         },
         {
          "showarrow": false,
          "text": "0.33",
          "x": 15,
          "xref": "x",
          "y": "Elec_PowerSpare2",
          "yref": "y"
         },
         {
          "showarrow": false,
          "text": "0.67",
          "x": 16,
          "xref": "x",
          "y": "Elec_PowerSpare2",
          "yref": "y"
         },
         {
          "showarrow": false,
          "text": "1.0",
          "x": 17,
          "xref": "x",
          "y": "Elec_PowerSpare2",
          "yref": "y"
         },
         {
          "showarrow": false,
          "text": "1.0",
          "x": 18,
          "xref": "x",
          "y": "Elec_PowerSpare2",
          "yref": "y"
         },
         {
          "showarrow": false,
          "text": "1.0",
          "x": 19,
          "xref": "x",
          "y": "Elec_PowerSpare2",
          "yref": "y"
         },
         {
          "showarrow": false,
          "text": "1.0",
          "x": 20,
          "xref": "x",
          "y": "Elec_PowerSpare2",
          "yref": "y"
         },
         {
          "showarrow": false,
          "text": "1.0",
          "x": 21,
          "xref": "x",
          "y": "Elec_PowerSpare2",
          "yref": "y"
         },
         {
          "showarrow": false,
          "text": "1.0",
          "x": 22,
          "xref": "x",
          "y": "Elec_PowerSpare2",
          "yref": "y"
         },
         {
          "showarrow": false,
          "text": "1.0",
          "x": 23,
          "xref": "x",
          "y": "Elec_PowerSpare2",
          "yref": "y"
         },
         {
          "showarrow": false,
          "text": "1.0",
          "x": 0,
          "xref": "x",
          "y": "Elec_PowerPlugsBR2",
          "yref": "y"
         },
         {
          "showarrow": false,
          "text": "1.0",
          "x": 1,
          "xref": "x",
          "y": "Elec_PowerPlugsBR2",
          "yref": "y"
         },
         {
          "showarrow": false,
          "text": "",
          "x": 2,
          "xref": "x",
          "y": "Elec_PowerPlugsBR2",
          "yref": "y"
         },
         {
          "showarrow": false,
          "text": "0.25",
          "x": 3,
          "xref": "x",
          "y": "Elec_PowerPlugsBR2",
          "yref": "y"
         },
         {
          "showarrow": false,
          "text": "0.25",
          "x": 4,
          "xref": "x",
          "y": "Elec_PowerPlugsBR2",
          "yref": "y"
         },
         {
          "showarrow": false,
          "text": "0.25",
          "x": 5,
          "xref": "x",
          "y": "Elec_PowerPlugsBR2",
          "yref": "y"
         },
         {
          "showarrow": false,
          "text": "0.25",
          "x": 6,
          "xref": "x",
          "y": "Elec_PowerPlugsBR2",
          "yref": "y"
         },
         {
          "showarrow": false,
          "text": "0.25",
          "x": 7,
          "xref": "x",
          "y": "Elec_PowerPlugsBR2",
          "yref": "y"
         },
         {
          "showarrow": false,
          "text": "0.75",
          "x": 8,
          "xref": "x",
          "y": "Elec_PowerPlugsBR2",
          "yref": "y"
         },
         {
          "showarrow": false,
          "text": "0.75",
          "x": 9,
          "xref": "x",
          "y": "Elec_PowerPlugsBR2",
          "yref": "y"
         },
         {
          "showarrow": false,
          "text": "0.75",
          "x": 10,
          "xref": "x",
          "y": "Elec_PowerPlugsBR2",
          "yref": "y"
         },
         {
          "showarrow": false,
          "text": "0.75",
          "x": 11,
          "xref": "x",
          "y": "Elec_PowerPlugsBR2",
          "yref": "y"
         },
         {
          "showarrow": false,
          "text": "0.75",
          "x": 12,
          "xref": "x",
          "y": "Elec_PowerPlugsBR2",
          "yref": "y"
         },
         {
          "showarrow": false,
          "text": "0.75",
          "x": 13,
          "xref": "x",
          "y": "Elec_PowerPlugsBR2",
          "yref": "y"
         },
         {
          "showarrow": false,
          "text": "0.25",
          "x": 14,
          "xref": "x",
          "y": "Elec_PowerPlugsBR2",
          "yref": "y"
         },
         {
          "showarrow": false,
          "text": "0.25",
          "x": 15,
          "xref": "x",
          "y": "Elec_PowerPlugsBR2",
          "yref": "y"
         },
         {
          "showarrow": false,
          "text": "0.5",
          "x": 16,
          "xref": "x",
          "y": "Elec_PowerPlugsBR2",
          "yref": "y"
         },
         {
          "showarrow": false,
          "text": "0.75",
          "x": 17,
          "xref": "x",
          "y": "Elec_PowerPlugsBR2",
          "yref": "y"
         },
         {
          "showarrow": false,
          "text": "0.75",
          "x": 18,
          "xref": "x",
          "y": "Elec_PowerPlugsBR2",
          "yref": "y"
         },
         {
          "showarrow": false,
          "text": "0.75",
          "x": 19,
          "xref": "x",
          "y": "Elec_PowerPlugsBR2",
          "yref": "y"
         },
         {
          "showarrow": false,
          "text": "0.75",
          "x": 20,
          "xref": "x",
          "y": "Elec_PowerPlugsBR2",
          "yref": "y"
         },
         {
          "showarrow": false,
          "text": "0.75",
          "x": 21,
          "xref": "x",
          "y": "Elec_PowerPlugsBR2",
          "yref": "y"
         },
         {
          "showarrow": false,
          "text": "0.75",
          "x": 22,
          "xref": "x",
          "y": "Elec_PowerPlugsBR2",
          "yref": "y"
         },
         {
          "showarrow": false,
          "text": "0.75",
          "x": 23,
          "xref": "x",
          "y": "Elec_PowerPlugsBR2",
          "yref": "y"
         },
         {
          "showarrow": false,
          "text": "0.17",
          "x": 0,
          "xref": "x",
          "y": "Elec_PowerPlugsMBR",
          "yref": "y"
         },
         {
          "showarrow": false,
          "text": "",
          "x": 1,
          "xref": "x",
          "y": "Elec_PowerPlugsMBR",
          "yref": "y"
         },
         {
          "showarrow": false,
          "text": "",
          "x": 2,
          "xref": "x",
          "y": "Elec_PowerPlugsMBR",
          "yref": "y"
         },
         {
          "showarrow": false,
          "text": "",
          "x": 3,
          "xref": "x",
          "y": "Elec_PowerPlugsMBR",
          "yref": "y"
         },
         {
          "showarrow": false,
          "text": "",
          "x": 4,
          "xref": "x",
          "y": "Elec_PowerPlugsMBR",
          "yref": "y"
         },
         {
          "showarrow": false,
          "text": "",
          "x": 5,
          "xref": "x",
          "y": "Elec_PowerPlugsMBR",
          "yref": "y"
         },
         {
          "showarrow": false,
          "text": "0.71",
          "x": 6,
          "xref": "x",
          "y": "Elec_PowerPlugsMBR",
          "yref": "y"
         },
         {
          "showarrow": false,
          "text": "0.04",
          "x": 7,
          "xref": "x",
          "y": "Elec_PowerPlugsMBR",
          "yref": "y"
         },
         {
          "showarrow": false,
          "text": "",
          "x": 8,
          "xref": "x",
          "y": "Elec_PowerPlugsMBR",
          "yref": "y"
         },
         {
          "showarrow": false,
          "text": "",
          "x": 9,
          "xref": "x",
          "y": "Elec_PowerPlugsMBR",
          "yref": "y"
         },
         {
          "showarrow": false,
          "text": "",
          "x": 10,
          "xref": "x",
          "y": "Elec_PowerPlugsMBR",
          "yref": "y"
         },
         {
          "showarrow": false,
          "text": "",
          "x": 11,
          "xref": "x",
          "y": "Elec_PowerPlugsMBR",
          "yref": "y"
         },
         {
          "showarrow": false,
          "text": "",
          "x": 12,
          "xref": "x",
          "y": "Elec_PowerPlugsMBR",
          "yref": "y"
         },
         {
          "showarrow": false,
          "text": "",
          "x": 13,
          "xref": "x",
          "y": "Elec_PowerPlugsMBR",
          "yref": "y"
         },
         {
          "showarrow": false,
          "text": "0.14",
          "x": 14,
          "xref": "x",
          "y": "Elec_PowerPlugsMBR",
          "yref": "y"
         },
         {
          "showarrow": false,
          "text": "",
          "x": 15,
          "xref": "x",
          "y": "Elec_PowerPlugsMBR",
          "yref": "y"
         },
         {
          "showarrow": false,
          "text": "",
          "x": 16,
          "xref": "x",
          "y": "Elec_PowerPlugsMBR",
          "yref": "y"
         },
         {
          "showarrow": false,
          "text": "0.07",
          "x": 17,
          "xref": "x",
          "y": "Elec_PowerPlugsMBR",
          "yref": "y"
         },
         {
          "showarrow": false,
          "text": "0.14",
          "x": 18,
          "xref": "x",
          "y": "Elec_PowerPlugsMBR",
          "yref": "y"
         },
         {
          "showarrow": false,
          "text": "",
          "x": 19,
          "xref": "x",
          "y": "Elec_PowerPlugsMBR",
          "yref": "y"
         },
         {
          "showarrow": false,
          "text": "",
          "x": 20,
          "xref": "x",
          "y": "Elec_PowerPlugsMBR",
          "yref": "y"
         },
         {
          "showarrow": false,
          "text": "0.35",
          "x": 21,
          "xref": "x",
          "y": "Elec_PowerPlugsMBR",
          "yref": "y"
         },
         {
          "showarrow": false,
          "text": "0.72",
          "x": 22,
          "xref": "x",
          "y": "Elec_PowerPlugsMBR",
          "yref": "y"
         },
         {
          "showarrow": false,
          "text": "1.0",
          "x": 23,
          "xref": "x",
          "y": "Elec_PowerPlugsMBR",
          "yref": "y"
         },
         {
          "showarrow": false,
          "text": "",
          "x": 0,
          "xref": "x",
          "y": "Elec_PowerLights1stFloorA",
          "yref": "y"
         },
         {
          "showarrow": false,
          "text": "0.01",
          "x": 1,
          "xref": "x",
          "y": "Elec_PowerLights1stFloorA",
          "yref": "y"
         },
         {
          "showarrow": false,
          "text": "0.01",
          "x": 2,
          "xref": "x",
          "y": "Elec_PowerLights1stFloorA",
          "yref": "y"
         },
         {
          "showarrow": false,
          "text": "0.01",
          "x": 3,
          "xref": "x",
          "y": "Elec_PowerLights1stFloorA",
          "yref": "y"
         },
         {
          "showarrow": false,
          "text": "0.01",
          "x": 4,
          "xref": "x",
          "y": "Elec_PowerLights1stFloorA",
          "yref": "y"
         },
         {
          "showarrow": false,
          "text": "0.01",
          "x": 5,
          "xref": "x",
          "y": "Elec_PowerLights1stFloorA",
          "yref": "y"
         },
         {
          "showarrow": false,
          "text": "0.01",
          "x": 6,
          "xref": "x",
          "y": "Elec_PowerLights1stFloorA",
          "yref": "y"
         },
         {
          "showarrow": false,
          "text": "0.34",
          "x": 7,
          "xref": "x",
          "y": "Elec_PowerLights1stFloorA",
          "yref": "y"
         },
         {
          "showarrow": false,
          "text": "0.71",
          "x": 8,
          "xref": "x",
          "y": "Elec_PowerLights1stFloorA",
          "yref": "y"
         },
         {
          "showarrow": false,
          "text": "",
          "x": 9,
          "xref": "x",
          "y": "Elec_PowerLights1stFloorA",
          "yref": "y"
         },
         {
          "showarrow": false,
          "text": "",
          "x": 10,
          "xref": "x",
          "y": "Elec_PowerLights1stFloorA",
          "yref": "y"
         },
         {
          "showarrow": false,
          "text": "",
          "x": 11,
          "xref": "x",
          "y": "Elec_PowerLights1stFloorA",
          "yref": "y"
         },
         {
          "showarrow": false,
          "text": "",
          "x": 12,
          "xref": "x",
          "y": "Elec_PowerLights1stFloorA",
          "yref": "y"
         },
         {
          "showarrow": false,
          "text": "",
          "x": 13,
          "xref": "x",
          "y": "Elec_PowerLights1stFloorA",
          "yref": "y"
         },
         {
          "showarrow": false,
          "text": "",
          "x": 14,
          "xref": "x",
          "y": "Elec_PowerLights1stFloorA",
          "yref": "y"
         },
         {
          "showarrow": false,
          "text": "",
          "x": 15,
          "xref": "x",
          "y": "Elec_PowerLights1stFloorA",
          "yref": "y"
         },
         {
          "showarrow": false,
          "text": "",
          "x": 16,
          "xref": "x",
          "y": "Elec_PowerLights1stFloorA",
          "yref": "y"
         },
         {
          "showarrow": false,
          "text": "0.35",
          "x": 17,
          "xref": "x",
          "y": "Elec_PowerLights1stFloorA",
          "yref": "y"
         },
         {
          "showarrow": false,
          "text": "0.86",
          "x": 18,
          "xref": "x",
          "y": "Elec_PowerLights1stFloorA",
          "yref": "y"
         },
         {
          "showarrow": false,
          "text": "0.86",
          "x": 19,
          "xref": "x",
          "y": "Elec_PowerLights1stFloorA",
          "yref": "y"
         },
         {
          "showarrow": false,
          "text": "0.93",
          "x": 20,
          "xref": "x",
          "y": "Elec_PowerLights1stFloorA",
          "yref": "y"
         },
         {
          "showarrow": false,
          "text": "1.0",
          "x": 21,
          "xref": "x",
          "y": "Elec_PowerLights1stFloorA",
          "yref": "y"
         },
         {
          "showarrow": false,
          "text": "1.0",
          "x": 22,
          "xref": "x",
          "y": "Elec_PowerLights1stFloorA",
          "yref": "y"
         },
         {
          "showarrow": false,
          "text": "0.29",
          "x": 23,
          "xref": "x",
          "y": "Elec_PowerLights1stFloorA",
          "yref": "y"
         },
         {
          "showarrow": false,
          "text": "",
          "x": 0,
          "xref": "x",
          "y": "Elec_PowerLights1stFloorB",
          "yref": "y"
         },
         {
          "showarrow": false,
          "text": "",
          "x": 1,
          "xref": "x",
          "y": "Elec_PowerLights1stFloorB",
          "yref": "y"
         },
         {
          "showarrow": false,
          "text": "0.01",
          "x": 2,
          "xref": "x",
          "y": "Elec_PowerLights1stFloorB",
          "yref": "y"
         },
         {
          "showarrow": false,
          "text": "0.01",
          "x": 3,
          "xref": "x",
          "y": "Elec_PowerLights1stFloorB",
          "yref": "y"
         },
         {
          "showarrow": false,
          "text": "0.01",
          "x": 4,
          "xref": "x",
          "y": "Elec_PowerLights1stFloorB",
          "yref": "y"
         },
         {
          "showarrow": false,
          "text": "0.34",
          "x": 5,
          "xref": "x",
          "y": "Elec_PowerLights1stFloorB",
          "yref": "y"
         },
         {
          "showarrow": false,
          "text": "0.72",
          "x": 6,
          "xref": "x",
          "y": "Elec_PowerLights1stFloorB",
          "yref": "y"
         },
         {
          "showarrow": false,
          "text": "0.72",
          "x": 7,
          "xref": "x",
          "y": "Elec_PowerLights1stFloorB",
          "yref": "y"
         },
         {
          "showarrow": false,
          "text": "0.99",
          "x": 8,
          "xref": "x",
          "y": "Elec_PowerLights1stFloorB",
          "yref": "y"
         },
         {
          "showarrow": false,
          "text": "0.29",
          "x": 9,
          "xref": "x",
          "y": "Elec_PowerLights1stFloorB",
          "yref": "y"
         },
         {
          "showarrow": false,
          "text": "0.03",
          "x": 10,
          "xref": "x",
          "y": "Elec_PowerLights1stFloorB",
          "yref": "y"
         },
         {
          "showarrow": false,
          "text": "0.01",
          "x": 11,
          "xref": "x",
          "y": "Elec_PowerLights1stFloorB",
          "yref": "y"
         },
         {
          "showarrow": false,
          "text": "0.01",
          "x": 12,
          "xref": "x",
          "y": "Elec_PowerLights1stFloorB",
          "yref": "y"
         },
         {
          "showarrow": false,
          "text": "0.01",
          "x": 13,
          "xref": "x",
          "y": "Elec_PowerLights1stFloorB",
          "yref": "y"
         },
         {
          "showarrow": false,
          "text": "0.01",
          "x": 14,
          "xref": "x",
          "y": "Elec_PowerLights1stFloorB",
          "yref": "y"
         },
         {
          "showarrow": false,
          "text": "0.02",
          "x": 15,
          "xref": "x",
          "y": "Elec_PowerLights1stFloorB",
          "yref": "y"
         },
         {
          "showarrow": false,
          "text": "0.29",
          "x": 16,
          "xref": "x",
          "y": "Elec_PowerLights1stFloorB",
          "yref": "y"
         },
         {
          "showarrow": false,
          "text": "0.42",
          "x": 17,
          "xref": "x",
          "y": "Elec_PowerLights1stFloorB",
          "yref": "y"
         },
         {
          "showarrow": false,
          "text": "0.93",
          "x": 18,
          "xref": "x",
          "y": "Elec_PowerLights1stFloorB",
          "yref": "y"
         },
         {
          "showarrow": false,
          "text": "1.0",
          "x": 19,
          "xref": "x",
          "y": "Elec_PowerLights1stFloorB",
          "yref": "y"
         },
         {
          "showarrow": false,
          "text": "1.0",
          "x": 20,
          "xref": "x",
          "y": "Elec_PowerLights1stFloorB",
          "yref": "y"
         },
         {
          "showarrow": false,
          "text": "1.0",
          "x": 21,
          "xref": "x",
          "y": "Elec_PowerLights1stFloorB",
          "yref": "y"
         },
         {
          "showarrow": false,
          "text": "1.0",
          "x": 22,
          "xref": "x",
          "y": "Elec_PowerLights1stFloorB",
          "yref": "y"
         },
         {
          "showarrow": false,
          "text": "0.28",
          "x": 23,
          "xref": "x",
          "y": "Elec_PowerLights1stFloorB",
          "yref": "y"
         },
         {
          "showarrow": false,
          "text": "",
          "x": 0,
          "xref": "x",
          "y": "Elec_PowerDishwasher",
          "yref": "y"
         },
         {
          "showarrow": false,
          "text": "",
          "x": 1,
          "xref": "x",
          "y": "Elec_PowerDishwasher",
          "yref": "y"
         },
         {
          "showarrow": false,
          "text": "",
          "x": 2,
          "xref": "x",
          "y": "Elec_PowerDishwasher",
          "yref": "y"
         },
         {
          "showarrow": false,
          "text": "",
          "x": 3,
          "xref": "x",
          "y": "Elec_PowerDishwasher",
          "yref": "y"
         },
         {
          "showarrow": false,
          "text": "",
          "x": 4,
          "xref": "x",
          "y": "Elec_PowerDishwasher",
          "yref": "y"
         },
         {
          "showarrow": false,
          "text": "0.01",
          "x": 5,
          "xref": "x",
          "y": "Elec_PowerDishwasher",
          "yref": "y"
         },
         {
          "showarrow": false,
          "text": "0.01",
          "x": 6,
          "xref": "x",
          "y": "Elec_PowerDishwasher",
          "yref": "y"
         },
         {
          "showarrow": false,
          "text": "",
          "x": 7,
          "xref": "x",
          "y": "Elec_PowerDishwasher",
          "yref": "y"
         },
         {
          "showarrow": false,
          "text": "",
          "x": 8,
          "xref": "x",
          "y": "Elec_PowerDishwasher",
          "yref": "y"
         },
         {
          "showarrow": false,
          "text": "",
          "x": 9,
          "xref": "x",
          "y": "Elec_PowerDishwasher",
          "yref": "y"
         },
         {
          "showarrow": false,
          "text": "",
          "x": 10,
          "xref": "x",
          "y": "Elec_PowerDishwasher",
          "yref": "y"
         },
         {
          "showarrow": false,
          "text": "",
          "x": 11,
          "xref": "x",
          "y": "Elec_PowerDishwasher",
          "yref": "y"
         },
         {
          "showarrow": false,
          "text": "",
          "x": 12,
          "xref": "x",
          "y": "Elec_PowerDishwasher",
          "yref": "y"
         },
         {
          "showarrow": false,
          "text": "",
          "x": 13,
          "xref": "x",
          "y": "Elec_PowerDishwasher",
          "yref": "y"
         },
         {
          "showarrow": false,
          "text": "",
          "x": 14,
          "xref": "x",
          "y": "Elec_PowerDishwasher",
          "yref": "y"
         },
         {
          "showarrow": false,
          "text": "",
          "x": 15,
          "xref": "x",
          "y": "Elec_PowerDishwasher",
          "yref": "y"
         },
         {
          "showarrow": false,
          "text": "",
          "x": 16,
          "xref": "x",
          "y": "Elec_PowerDishwasher",
          "yref": "y"
         },
         {
          "showarrow": false,
          "text": "",
          "x": 17,
          "xref": "x",
          "y": "Elec_PowerDishwasher",
          "yref": "y"
         },
         {
          "showarrow": false,
          "text": "",
          "x": 18,
          "xref": "x",
          "y": "Elec_PowerDishwasher",
          "yref": "y"
         },
         {
          "showarrow": false,
          "text": "",
          "x": 19,
          "xref": "x",
          "y": "Elec_PowerDishwasher",
          "yref": "y"
         },
         {
          "showarrow": false,
          "text": "0.8",
          "x": 20,
          "xref": "x",
          "y": "Elec_PowerDishwasher",
          "yref": "y"
         },
         {
          "showarrow": false,
          "text": "1.0",
          "x": 21,
          "xref": "x",
          "y": "Elec_PowerDishwasher",
          "yref": "y"
         },
         {
          "showarrow": false,
          "text": "0.88",
          "x": 22,
          "xref": "x",
          "y": "Elec_PowerDishwasher",
          "yref": "y"
         },
         {
          "showarrow": false,
          "text": "0.01",
          "x": 23,
          "xref": "x",
          "y": "Elec_PowerDishwasher",
          "yref": "y"
         },
         {
          "showarrow": false,
          "text": "0.14",
          "x": 0,
          "xref": "x",
          "y": "Elec_PowerPlugsGSHPInstrumentation",
          "yref": "y"
         },
         {
          "showarrow": false,
          "text": "0.11",
          "x": 1,
          "xref": "x",
          "y": "Elec_PowerPlugsGSHPInstrumentation",
          "yref": "y"
         },
         {
          "showarrow": false,
          "text": "0.07",
          "x": 2,
          "xref": "x",
          "y": "Elec_PowerPlugsGSHPInstrumentation",
          "yref": "y"
         },
         {
          "showarrow": false,
          "text": "0.04",
          "x": 3,
          "xref": "x",
          "y": "Elec_PowerPlugsGSHPInstrumentation",
          "yref": "y"
         },
         {
          "showarrow": false,
          "text": "",
          "x": 4,
          "xref": "x",
          "y": "Elec_PowerPlugsGSHPInstrumentation",
          "yref": "y"
         },
         {
          "showarrow": false,
          "text": "",
          "x": 5,
          "xref": "x",
          "y": "Elec_PowerPlugsGSHPInstrumentation",
          "yref": "y"
         },
         {
          "showarrow": false,
          "text": "0.04",
          "x": 6,
          "xref": "x",
          "y": "Elec_PowerPlugsGSHPInstrumentation",
          "yref": "y"
         },
         {
          "showarrow": false,
          "text": "0.09",
          "x": 7,
          "xref": "x",
          "y": "Elec_PowerPlugsGSHPInstrumentation",
          "yref": "y"
         },
         {
          "showarrow": false,
          "text": "0.22",
          "x": 8,
          "xref": "x",
          "y": "Elec_PowerPlugsGSHPInstrumentation",
          "yref": "y"
         },
         {
          "showarrow": false,
          "text": "0.65",
          "x": 9,
          "xref": "x",
          "y": "Elec_PowerPlugsGSHPInstrumentation",
          "yref": "y"
         },
         {
          "showarrow": false,
          "text": "0.84",
          "x": 10,
          "xref": "x",
          "y": "Elec_PowerPlugsGSHPInstrumentation",
          "yref": "y"
         },
         {
          "showarrow": false,
          "text": "0.84",
          "x": 11,
          "xref": "x",
          "y": "Elec_PowerPlugsGSHPInstrumentation",
          "yref": "y"
         },
         {
          "showarrow": false,
          "text": "0.92",
          "x": 12,
          "xref": "x",
          "y": "Elec_PowerPlugsGSHPInstrumentation",
          "yref": "y"
         },
         {
          "showarrow": false,
          "text": "0.96",
          "x": 13,
          "xref": "x",
          "y": "Elec_PowerPlugsGSHPInstrumentation",
          "yref": "y"
         },
         {
          "showarrow": false,
          "text": "0.98",
          "x": 14,
          "xref": "x",
          "y": "Elec_PowerPlugsGSHPInstrumentation",
          "yref": "y"
         },
         {
          "showarrow": false,
          "text": "1.0",
          "x": 15,
          "xref": "x",
          "y": "Elec_PowerPlugsGSHPInstrumentation",
          "yref": "y"
         },
         {
          "showarrow": false,
          "text": "0.8",
          "x": 16,
          "xref": "x",
          "y": "Elec_PowerPlugsGSHPInstrumentation",
          "yref": "y"
         },
         {
          "showarrow": false,
          "text": "0.13",
          "x": 17,
          "xref": "x",
          "y": "Elec_PowerPlugsGSHPInstrumentation",
          "yref": "y"
         },
         {
          "showarrow": false,
          "text": "0.18",
          "x": 18,
          "xref": "x",
          "y": "Elec_PowerPlugsGSHPInstrumentation",
          "yref": "y"
         },
         {
          "showarrow": false,
          "text": "0.16",
          "x": 19,
          "xref": "x",
          "y": "Elec_PowerPlugsGSHPInstrumentation",
          "yref": "y"
         },
         {
          "showarrow": false,
          "text": "0.15",
          "x": 20,
          "xref": "x",
          "y": "Elec_PowerPlugsGSHPInstrumentation",
          "yref": "y"
         },
         {
          "showarrow": false,
          "text": "0.17",
          "x": 21,
          "xref": "x",
          "y": "Elec_PowerPlugsGSHPInstrumentation",
          "yref": "y"
         },
         {
          "showarrow": false,
          "text": "0.21",
          "x": 22,
          "xref": "x",
          "y": "Elec_PowerPlugsGSHPInstrumentation",
          "yref": "y"
         },
         {
          "showarrow": false,
          "text": "0.19",
          "x": 23,
          "xref": "x",
          "y": "Elec_PowerPlugsGSHPInstrumentation",
          "yref": "y"
         },
         {
          "showarrow": false,
          "text": "1.0",
          "x": 0,
          "xref": "x",
          "y": "Elec_PowerPlugsInstMudroomA",
          "yref": "y"
         },
         {
          "showarrow": false,
          "text": "0.06",
          "x": 1,
          "xref": "x",
          "y": "Elec_PowerPlugsInstMudroomA",
          "yref": "y"
         },
         {
          "showarrow": false,
          "text": "0.06",
          "x": 2,
          "xref": "x",
          "y": "Elec_PowerPlugsInstMudroomA",
          "yref": "y"
         },
         {
          "showarrow": false,
          "text": "0.06",
          "x": 3,
          "xref": "x",
          "y": "Elec_PowerPlugsInstMudroomA",
          "yref": "y"
         },
         {
          "showarrow": false,
          "text": "0.06",
          "x": 4,
          "xref": "x",
          "y": "Elec_PowerPlugsInstMudroomA",
          "yref": "y"
         },
         {
          "showarrow": false,
          "text": "0.06",
          "x": 5,
          "xref": "x",
          "y": "Elec_PowerPlugsInstMudroomA",
          "yref": "y"
         },
         {
          "showarrow": false,
          "text": "",
          "x": 6,
          "xref": "x",
          "y": "Elec_PowerPlugsInstMudroomA",
          "yref": "y"
         },
         {
          "showarrow": false,
          "text": "0.12",
          "x": 7,
          "xref": "x",
          "y": "Elec_PowerPlugsInstMudroomA",
          "yref": "y"
         },
         {
          "showarrow": false,
          "text": "0.12",
          "x": 8,
          "xref": "x",
          "y": "Elec_PowerPlugsInstMudroomA",
          "yref": "y"
         },
         {
          "showarrow": false,
          "text": "0.12",
          "x": 9,
          "xref": "x",
          "y": "Elec_PowerPlugsInstMudroomA",
          "yref": "y"
         },
         {
          "showarrow": false,
          "text": "0.06",
          "x": 10,
          "xref": "x",
          "y": "Elec_PowerPlugsInstMudroomA",
          "yref": "y"
         },
         {
          "showarrow": false,
          "text": "0.18",
          "x": 11,
          "xref": "x",
          "y": "Elec_PowerPlugsInstMudroomA",
          "yref": "y"
         },
         {
          "showarrow": false,
          "text": "0.06",
          "x": 12,
          "xref": "x",
          "y": "Elec_PowerPlugsInstMudroomA",
          "yref": "y"
         },
         {
          "showarrow": false,
          "text": "",
          "x": 13,
          "xref": "x",
          "y": "Elec_PowerPlugsInstMudroomA",
          "yref": "y"
         },
         {
          "showarrow": false,
          "text": "0.12",
          "x": 14,
          "xref": "x",
          "y": "Elec_PowerPlugsInstMudroomA",
          "yref": "y"
         },
         {
          "showarrow": false,
          "text": "0.12",
          "x": 15,
          "xref": "x",
          "y": "Elec_PowerPlugsInstMudroomA",
          "yref": "y"
         },
         {
          "showarrow": false,
          "text": "0.12",
          "x": 16,
          "xref": "x",
          "y": "Elec_PowerPlugsInstMudroomA",
          "yref": "y"
         },
         {
          "showarrow": false,
          "text": "0.06",
          "x": 17,
          "xref": "x",
          "y": "Elec_PowerPlugsInstMudroomA",
          "yref": "y"
         },
         {
          "showarrow": false,
          "text": "0.06",
          "x": 18,
          "xref": "x",
          "y": "Elec_PowerPlugsInstMudroomA",
          "yref": "y"
         },
         {
          "showarrow": false,
          "text": "0.29",
          "x": 19,
          "xref": "x",
          "y": "Elec_PowerPlugsInstMudroomA",
          "yref": "y"
         },
         {
          "showarrow": false,
          "text": "0.24",
          "x": 20,
          "xref": "x",
          "y": "Elec_PowerPlugsInstMudroomA",
          "yref": "y"
         },
         {
          "showarrow": false,
          "text": "0.12",
          "x": 21,
          "xref": "x",
          "y": "Elec_PowerPlugsInstMudroomA",
          "yref": "y"
         },
         {
          "showarrow": false,
          "text": "0.12",
          "x": 22,
          "xref": "x",
          "y": "Elec_PowerPlugsInstMudroomA",
          "yref": "y"
         },
         {
          "showarrow": false,
          "text": "0.12",
          "x": 23,
          "xref": "x",
          "y": "Elec_PowerPlugsInstMudroomA",
          "yref": "y"
         },
         {
          "showarrow": false,
          "text": "1.0",
          "x": 0,
          "xref": "x",
          "y": "Elec_PowerPlugsHVACInstrumentation",
          "yref": "y"
         },
         {
          "showarrow": false,
          "text": "0.25",
          "x": 1,
          "xref": "x",
          "y": "Elec_PowerPlugsHVACInstrumentation",
          "yref": "y"
         },
         {
          "showarrow": false,
          "text": "0.1",
          "x": 2,
          "xref": "x",
          "y": "Elec_PowerPlugsHVACInstrumentation",
          "yref": "y"
         },
         {
          "showarrow": false,
          "text": "0.1",
          "x": 3,
          "xref": "x",
          "y": "Elec_PowerPlugsHVACInstrumentation",
          "yref": "y"
         },
         {
          "showarrow": false,
          "text": "0.1",
          "x": 4,
          "xref": "x",
          "y": "Elec_PowerPlugsHVACInstrumentation",
          "yref": "y"
         },
         {
          "showarrow": false,
          "text": "0.1",
          "x": 5,
          "xref": "x",
          "y": "Elec_PowerPlugsHVACInstrumentation",
          "yref": "y"
         },
         {
          "showarrow": false,
          "text": "0.05",
          "x": 6,
          "xref": "x",
          "y": "Elec_PowerPlugsHVACInstrumentation",
          "yref": "y"
         },
         {
          "showarrow": false,
          "text": "0.2",
          "x": 7,
          "xref": "x",
          "y": "Elec_PowerPlugsHVACInstrumentation",
          "yref": "y"
         },
         {
          "showarrow": false,
          "text": "0.25",
          "x": 8,
          "xref": "x",
          "y": "Elec_PowerPlugsHVACInstrumentation",
          "yref": "y"
         },
         {
          "showarrow": false,
          "text": "",
          "x": 9,
          "xref": "x",
          "y": "Elec_PowerPlugsHVACInstrumentation",
          "yref": "y"
         },
         {
          "showarrow": false,
          "text": "0.1",
          "x": 10,
          "xref": "x",
          "y": "Elec_PowerPlugsHVACInstrumentation",
          "yref": "y"
         },
         {
          "showarrow": false,
          "text": "0.15",
          "x": 11,
          "xref": "x",
          "y": "Elec_PowerPlugsHVACInstrumentation",
          "yref": "y"
         },
         {
          "showarrow": false,
          "text": "0.15",
          "x": 12,
          "xref": "x",
          "y": "Elec_PowerPlugsHVACInstrumentation",
          "yref": "y"
         },
         {
          "showarrow": false,
          "text": "0.1",
          "x": 13,
          "xref": "x",
          "y": "Elec_PowerPlugsHVACInstrumentation",
          "yref": "y"
         },
         {
          "showarrow": false,
          "text": "0.15",
          "x": 14,
          "xref": "x",
          "y": "Elec_PowerPlugsHVACInstrumentation",
          "yref": "y"
         },
         {
          "showarrow": false,
          "text": "0.1",
          "x": 15,
          "xref": "x",
          "y": "Elec_PowerPlugsHVACInstrumentation",
          "yref": "y"
         },
         {
          "showarrow": false,
          "text": "0.15",
          "x": 16,
          "xref": "x",
          "y": "Elec_PowerPlugsHVACInstrumentation",
          "yref": "y"
         },
         {
          "showarrow": false,
          "text": "0.05",
          "x": 17,
          "xref": "x",
          "y": "Elec_PowerPlugsHVACInstrumentation",
          "yref": "y"
         },
         {
          "showarrow": false,
          "text": "0.05",
          "x": 18,
          "xref": "x",
          "y": "Elec_PowerPlugsHVACInstrumentation",
          "yref": "y"
         },
         {
          "showarrow": false,
          "text": "0.25",
          "x": 19,
          "xref": "x",
          "y": "Elec_PowerPlugsHVACInstrumentation",
          "yref": "y"
         },
         {
          "showarrow": false,
          "text": "0.2",
          "x": 20,
          "xref": "x",
          "y": "Elec_PowerPlugsHVACInstrumentation",
          "yref": "y"
         },
         {
          "showarrow": false,
          "text": "0.1",
          "x": 21,
          "xref": "x",
          "y": "Elec_PowerPlugsHVACInstrumentation",
          "yref": "y"
         },
         {
          "showarrow": false,
          "text": "0.1",
          "x": 22,
          "xref": "x",
          "y": "Elec_PowerPlugsHVACInstrumentation",
          "yref": "y"
         },
         {
          "showarrow": false,
          "text": "0.1",
          "x": 23,
          "xref": "x",
          "y": "Elec_PowerPlugsHVACInstrumentation",
          "yref": "y"
         },
         {
          "showarrow": false,
          "text": "nan",
          "x": 0,
          "xref": "x",
          "y": "Elec_PowerPlugsInstBA1",
          "yref": "y"
         },
         {
          "showarrow": false,
          "text": "nan",
          "x": 1,
          "xref": "x",
          "y": "Elec_PowerPlugsInstBA1",
          "yref": "y"
         },
         {
          "showarrow": false,
          "text": "nan",
          "x": 2,
          "xref": "x",
          "y": "Elec_PowerPlugsInstBA1",
          "yref": "y"
         },
         {
          "showarrow": false,
          "text": "nan",
          "x": 3,
          "xref": "x",
          "y": "Elec_PowerPlugsInstBA1",
          "yref": "y"
         },
         {
          "showarrow": false,
          "text": "nan",
          "x": 4,
          "xref": "x",
          "y": "Elec_PowerPlugsInstBA1",
          "yref": "y"
         },
         {
          "showarrow": false,
          "text": "nan",
          "x": 5,
          "xref": "x",
          "y": "Elec_PowerPlugsInstBA1",
          "yref": "y"
         },
         {
          "showarrow": false,
          "text": "nan",
          "x": 6,
          "xref": "x",
          "y": "Elec_PowerPlugsInstBA1",
          "yref": "y"
         },
         {
          "showarrow": false,
          "text": "nan",
          "x": 7,
          "xref": "x",
          "y": "Elec_PowerPlugsInstBA1",
          "yref": "y"
         },
         {
          "showarrow": false,
          "text": "nan",
          "x": 8,
          "xref": "x",
          "y": "Elec_PowerPlugsInstBA1",
          "yref": "y"
         },
         {
          "showarrow": false,
          "text": "nan",
          "x": 9,
          "xref": "x",
          "y": "Elec_PowerPlugsInstBA1",
          "yref": "y"
         },
         {
          "showarrow": false,
          "text": "nan",
          "x": 10,
          "xref": "x",
          "y": "Elec_PowerPlugsInstBA1",
          "yref": "y"
         },
         {
          "showarrow": false,
          "text": "nan",
          "x": 11,
          "xref": "x",
          "y": "Elec_PowerPlugsInstBA1",
          "yref": "y"
         },
         {
          "showarrow": false,
          "text": "nan",
          "x": 12,
          "xref": "x",
          "y": "Elec_PowerPlugsInstBA1",
          "yref": "y"
         },
         {
          "showarrow": false,
          "text": "nan",
          "x": 13,
          "xref": "x",
          "y": "Elec_PowerPlugsInstBA1",
          "yref": "y"
         },
         {
          "showarrow": false,
          "text": "nan",
          "x": 14,
          "xref": "x",
          "y": "Elec_PowerPlugsInstBA1",
          "yref": "y"
         },
         {
          "showarrow": false,
          "text": "nan",
          "x": 15,
          "xref": "x",
          "y": "Elec_PowerPlugsInstBA1",
          "yref": "y"
         },
         {
          "showarrow": false,
          "text": "nan",
          "x": 16,
          "xref": "x",
          "y": "Elec_PowerPlugsInstBA1",
          "yref": "y"
         },
         {
          "showarrow": false,
          "text": "nan",
          "x": 17,
          "xref": "x",
          "y": "Elec_PowerPlugsInstBA1",
          "yref": "y"
         },
         {
          "showarrow": false,
          "text": "nan",
          "x": 18,
          "xref": "x",
          "y": "Elec_PowerPlugsInstBA1",
          "yref": "y"
         },
         {
          "showarrow": false,
          "text": "nan",
          "x": 19,
          "xref": "x",
          "y": "Elec_PowerPlugsInstBA1",
          "yref": "y"
         },
         {
          "showarrow": false,
          "text": "nan",
          "x": 20,
          "xref": "x",
          "y": "Elec_PowerPlugsInstBA1",
          "yref": "y"
         },
         {
          "showarrow": false,
          "text": "nan",
          "x": 21,
          "xref": "x",
          "y": "Elec_PowerPlugsInstBA1",
          "yref": "y"
         },
         {
          "showarrow": false,
          "text": "nan",
          "x": 22,
          "xref": "x",
          "y": "Elec_PowerPlugsInstBA1",
          "yref": "y"
         },
         {
          "showarrow": false,
          "text": "nan",
          "x": 23,
          "xref": "x",
          "y": "Elec_PowerPlugsInstBA1",
          "yref": "y"
         },
         {
          "showarrow": false,
          "text": "0.2",
          "x": 0,
          "xref": "x",
          "y": "Elec_PowerLightsAttic",
          "yref": "y"
         },
         {
          "showarrow": false,
          "text": "",
          "x": 1,
          "xref": "x",
          "y": "Elec_PowerLightsAttic",
          "yref": "y"
         },
         {
          "showarrow": false,
          "text": "",
          "x": 2,
          "xref": "x",
          "y": "Elec_PowerLightsAttic",
          "yref": "y"
         },
         {
          "showarrow": false,
          "text": "",
          "x": 3,
          "xref": "x",
          "y": "Elec_PowerLightsAttic",
          "yref": "y"
         },
         {
          "showarrow": false,
          "text": "",
          "x": 4,
          "xref": "x",
          "y": "Elec_PowerLightsAttic",
          "yref": "y"
         },
         {
          "showarrow": false,
          "text": "",
          "x": 5,
          "xref": "x",
          "y": "Elec_PowerLightsAttic",
          "yref": "y"
         },
         {
          "showarrow": false,
          "text": "",
          "x": 6,
          "xref": "x",
          "y": "Elec_PowerLightsAttic",
          "yref": "y"
         },
         {
          "showarrow": false,
          "text": "",
          "x": 7,
          "xref": "x",
          "y": "Elec_PowerLightsAttic",
          "yref": "y"
         },
         {
          "showarrow": false,
          "text": "0.2",
          "x": 8,
          "xref": "x",
          "y": "Elec_PowerLightsAttic",
          "yref": "y"
         },
         {
          "showarrow": false,
          "text": "0.4",
          "x": 9,
          "xref": "x",
          "y": "Elec_PowerLightsAttic",
          "yref": "y"
         },
         {
          "showarrow": false,
          "text": "0.2",
          "x": 10,
          "xref": "x",
          "y": "Elec_PowerLightsAttic",
          "yref": "y"
         },
         {
          "showarrow": false,
          "text": "0.2",
          "x": 11,
          "xref": "x",
          "y": "Elec_PowerLightsAttic",
          "yref": "y"
         },
         {
          "showarrow": false,
          "text": "0.2",
          "x": 12,
          "xref": "x",
          "y": "Elec_PowerLightsAttic",
          "yref": "y"
         },
         {
          "showarrow": false,
          "text": "1.0",
          "x": 13,
          "xref": "x",
          "y": "Elec_PowerLightsAttic",
          "yref": "y"
         },
         {
          "showarrow": false,
          "text": "0.4",
          "x": 14,
          "xref": "x",
          "y": "Elec_PowerLightsAttic",
          "yref": "y"
         },
         {
          "showarrow": false,
          "text": "0.4",
          "x": 15,
          "xref": "x",
          "y": "Elec_PowerLightsAttic",
          "yref": "y"
         },
         {
          "showarrow": false,
          "text": "0.2",
          "x": 16,
          "xref": "x",
          "y": "Elec_PowerLightsAttic",
          "yref": "y"
         },
         {
          "showarrow": false,
          "text": "0.2",
          "x": 17,
          "xref": "x",
          "y": "Elec_PowerLightsAttic",
          "yref": "y"
         },
         {
          "showarrow": false,
          "text": "0.6",
          "x": 18,
          "xref": "x",
          "y": "Elec_PowerLightsAttic",
          "yref": "y"
         },
         {
          "showarrow": false,
          "text": "",
          "x": 19,
          "xref": "x",
          "y": "Elec_PowerLightsAttic",
          "yref": "y"
         },
         {
          "showarrow": false,
          "text": "0.4",
          "x": 20,
          "xref": "x",
          "y": "Elec_PowerLightsAttic",
          "yref": "y"
         },
         {
          "showarrow": false,
          "text": "0.4",
          "x": 21,
          "xref": "x",
          "y": "Elec_PowerLightsAttic",
          "yref": "y"
         },
         {
          "showarrow": false,
          "text": "0.8",
          "x": 22,
          "xref": "x",
          "y": "Elec_PowerLightsAttic",
          "yref": "y"
         },
         {
          "showarrow": false,
          "text": "1.0",
          "x": 23,
          "xref": "x",
          "y": "Elec_PowerLightsAttic",
          "yref": "y"
         },
         {
          "showarrow": false,
          "text": "1.0",
          "x": 0,
          "xref": "x",
          "y": "Elec_PowerPlugsInstKitA",
          "yref": "y"
         },
         {
          "showarrow": false,
          "text": "0.06",
          "x": 1,
          "xref": "x",
          "y": "Elec_PowerPlugsInstKitA",
          "yref": "y"
         },
         {
          "showarrow": false,
          "text": "0.06",
          "x": 2,
          "xref": "x",
          "y": "Elec_PowerPlugsInstKitA",
          "yref": "y"
         },
         {
          "showarrow": false,
          "text": "0.06",
          "x": 3,
          "xref": "x",
          "y": "Elec_PowerPlugsInstKitA",
          "yref": "y"
         },
         {
          "showarrow": false,
          "text": "0.06",
          "x": 4,
          "xref": "x",
          "y": "Elec_PowerPlugsInstKitA",
          "yref": "y"
         },
         {
          "showarrow": false,
          "text": "0.06",
          "x": 5,
          "xref": "x",
          "y": "Elec_PowerPlugsInstKitA",
          "yref": "y"
         },
         {
          "showarrow": false,
          "text": "",
          "x": 6,
          "xref": "x",
          "y": "Elec_PowerPlugsInstKitA",
          "yref": "y"
         },
         {
          "showarrow": false,
          "text": "0.12",
          "x": 7,
          "xref": "x",
          "y": "Elec_PowerPlugsInstKitA",
          "yref": "y"
         },
         {
          "showarrow": false,
          "text": "0.06",
          "x": 8,
          "xref": "x",
          "y": "Elec_PowerPlugsInstKitA",
          "yref": "y"
         },
         {
          "showarrow": false,
          "text": "0.06",
          "x": 9,
          "xref": "x",
          "y": "Elec_PowerPlugsInstKitA",
          "yref": "y"
         },
         {
          "showarrow": false,
          "text": "0.12",
          "x": 10,
          "xref": "x",
          "y": "Elec_PowerPlugsInstKitA",
          "yref": "y"
         },
         {
          "showarrow": false,
          "text": "0.12",
          "x": 11,
          "xref": "x",
          "y": "Elec_PowerPlugsInstKitA",
          "yref": "y"
         },
         {
          "showarrow": false,
          "text": "",
          "x": 12,
          "xref": "x",
          "y": "Elec_PowerPlugsInstKitA",
          "yref": "y"
         },
         {
          "showarrow": false,
          "text": "",
          "x": 13,
          "xref": "x",
          "y": "Elec_PowerPlugsInstKitA",
          "yref": "y"
         },
         {
          "showarrow": false,
          "text": "0.06",
          "x": 14,
          "xref": "x",
          "y": "Elec_PowerPlugsInstKitA",
          "yref": "y"
         },
         {
          "showarrow": false,
          "text": "0.18",
          "x": 15,
          "xref": "x",
          "y": "Elec_PowerPlugsInstKitA",
          "yref": "y"
         },
         {
          "showarrow": false,
          "text": "0.06",
          "x": 16,
          "xref": "x",
          "y": "Elec_PowerPlugsInstKitA",
          "yref": "y"
         },
         {
          "showarrow": false,
          "text": "0.06",
          "x": 17,
          "xref": "x",
          "y": "Elec_PowerPlugsInstKitA",
          "yref": "y"
         },
         {
          "showarrow": false,
          "text": "0.06",
          "x": 18,
          "xref": "x",
          "y": "Elec_PowerPlugsInstKitA",
          "yref": "y"
         },
         {
          "showarrow": false,
          "text": "0.29",
          "x": 19,
          "xref": "x",
          "y": "Elec_PowerPlugsInstKitA",
          "yref": "y"
         },
         {
          "showarrow": false,
          "text": "0.24",
          "x": 20,
          "xref": "x",
          "y": "Elec_PowerPlugsInstKitA",
          "yref": "y"
         },
         {
          "showarrow": false,
          "text": "0.12",
          "x": 21,
          "xref": "x",
          "y": "Elec_PowerPlugsInstKitA",
          "yref": "y"
         },
         {
          "showarrow": false,
          "text": "0.12",
          "x": 22,
          "xref": "x",
          "y": "Elec_PowerPlugsInstKitA",
          "yref": "y"
         },
         {
          "showarrow": false,
          "text": "0.12",
          "x": 23,
          "xref": "x",
          "y": "Elec_PowerPlugsInstKitA",
          "yref": "y"
         },
         {
          "showarrow": false,
          "text": "nan",
          "x": 0,
          "xref": "x",
          "y": "Elec_PowerPlugsInstMudroomB",
          "yref": "y"
         },
         {
          "showarrow": false,
          "text": "nan",
          "x": 1,
          "xref": "x",
          "y": "Elec_PowerPlugsInstMudroomB",
          "yref": "y"
         },
         {
          "showarrow": false,
          "text": "nan",
          "x": 2,
          "xref": "x",
          "y": "Elec_PowerPlugsInstMudroomB",
          "yref": "y"
         },
         {
          "showarrow": false,
          "text": "nan",
          "x": 3,
          "xref": "x",
          "y": "Elec_PowerPlugsInstMudroomB",
          "yref": "y"
         },
         {
          "showarrow": false,
          "text": "nan",
          "x": 4,
          "xref": "x",
          "y": "Elec_PowerPlugsInstMudroomB",
          "yref": "y"
         },
         {
          "showarrow": false,
          "text": "nan",
          "x": 5,
          "xref": "x",
          "y": "Elec_PowerPlugsInstMudroomB",
          "yref": "y"
         },
         {
          "showarrow": false,
          "text": "nan",
          "x": 6,
          "xref": "x",
          "y": "Elec_PowerPlugsInstMudroomB",
          "yref": "y"
         },
         {
          "showarrow": false,
          "text": "nan",
          "x": 7,
          "xref": "x",
          "y": "Elec_PowerPlugsInstMudroomB",
          "yref": "y"
         },
         {
          "showarrow": false,
          "text": "nan",
          "x": 8,
          "xref": "x",
          "y": "Elec_PowerPlugsInstMudroomB",
          "yref": "y"
         },
         {
          "showarrow": false,
          "text": "nan",
          "x": 9,
          "xref": "x",
          "y": "Elec_PowerPlugsInstMudroomB",
          "yref": "y"
         },
         {
          "showarrow": false,
          "text": "nan",
          "x": 10,
          "xref": "x",
          "y": "Elec_PowerPlugsInstMudroomB",
          "yref": "y"
         },
         {
          "showarrow": false,
          "text": "nan",
          "x": 11,
          "xref": "x",
          "y": "Elec_PowerPlugsInstMudroomB",
          "yref": "y"
         },
         {
          "showarrow": false,
          "text": "nan",
          "x": 12,
          "xref": "x",
          "y": "Elec_PowerPlugsInstMudroomB",
          "yref": "y"
         },
         {
          "showarrow": false,
          "text": "nan",
          "x": 13,
          "xref": "x",
          "y": "Elec_PowerPlugsInstMudroomB",
          "yref": "y"
         },
         {
          "showarrow": false,
          "text": "nan",
          "x": 14,
          "xref": "x",
          "y": "Elec_PowerPlugsInstMudroomB",
          "yref": "y"
         },
         {
          "showarrow": false,
          "text": "nan",
          "x": 15,
          "xref": "x",
          "y": "Elec_PowerPlugsInstMudroomB",
          "yref": "y"
         },
         {
          "showarrow": false,
          "text": "nan",
          "x": 16,
          "xref": "x",
          "y": "Elec_PowerPlugsInstMudroomB",
          "yref": "y"
         },
         {
          "showarrow": false,
          "text": "nan",
          "x": 17,
          "xref": "x",
          "y": "Elec_PowerPlugsInstMudroomB",
          "yref": "y"
         },
         {
          "showarrow": false,
          "text": "nan",
          "x": 18,
          "xref": "x",
          "y": "Elec_PowerPlugsInstMudroomB",
          "yref": "y"
         },
         {
          "showarrow": false,
          "text": "nan",
          "x": 19,
          "xref": "x",
          "y": "Elec_PowerPlugsInstMudroomB",
          "yref": "y"
         },
         {
          "showarrow": false,
          "text": "nan",
          "x": 20,
          "xref": "x",
          "y": "Elec_PowerPlugsInstMudroomB",
          "yref": "y"
         },
         {
          "showarrow": false,
          "text": "nan",
          "x": 21,
          "xref": "x",
          "y": "Elec_PowerPlugsInstMudroomB",
          "yref": "y"
         },
         {
          "showarrow": false,
          "text": "nan",
          "x": 22,
          "xref": "x",
          "y": "Elec_PowerPlugsInstMudroomB",
          "yref": "y"
         },
         {
          "showarrow": false,
          "text": "nan",
          "x": 23,
          "xref": "x",
          "y": "Elec_PowerPlugsInstMudroomB",
          "yref": "y"
         },
         {
          "showarrow": false,
          "text": "",
          "x": 0,
          "xref": "x",
          "y": "Elec_PowerParentADownstairs",
          "yref": "y"
         },
         {
          "showarrow": false,
          "text": "",
          "x": 1,
          "xref": "x",
          "y": "Elec_PowerParentADownstairs",
          "yref": "y"
         },
         {
          "showarrow": false,
          "text": "",
          "x": 2,
          "xref": "x",
          "y": "Elec_PowerParentADownstairs",
          "yref": "y"
         },
         {
          "showarrow": false,
          "text": "",
          "x": 3,
          "xref": "x",
          "y": "Elec_PowerParentADownstairs",
          "yref": "y"
         },
         {
          "showarrow": false,
          "text": "",
          "x": 4,
          "xref": "x",
          "y": "Elec_PowerParentADownstairs",
          "yref": "y"
         },
         {
          "showarrow": false,
          "text": "",
          "x": 5,
          "xref": "x",
          "y": "Elec_PowerParentADownstairs",
          "yref": "y"
         },
         {
          "showarrow": false,
          "text": "0.71",
          "x": 6,
          "xref": "x",
          "y": "Elec_PowerParentADownstairs",
          "yref": "y"
         },
         {
          "showarrow": false,
          "text": "0.71",
          "x": 7,
          "xref": "x",
          "y": "Elec_PowerParentADownstairs",
          "yref": "y"
         },
         {
          "showarrow": false,
          "text": "0.99",
          "x": 8,
          "xref": "x",
          "y": "Elec_PowerParentADownstairs",
          "yref": "y"
         },
         {
          "showarrow": false,
          "text": "0.28",
          "x": 9,
          "xref": "x",
          "y": "Elec_PowerParentADownstairs",
          "yref": "y"
         },
         {
          "showarrow": false,
          "text": "0.02",
          "x": 10,
          "xref": "x",
          "y": "Elec_PowerParentADownstairs",
          "yref": "y"
         },
         {
          "showarrow": false,
          "text": "",
          "x": 11,
          "xref": "x",
          "y": "Elec_PowerParentADownstairs",
          "yref": "y"
         },
         {
          "showarrow": false,
          "text": "0.28",
          "x": 12,
          "xref": "x",
          "y": "Elec_PowerParentADownstairs",
          "yref": "y"
         },
         {
          "showarrow": false,
          "text": "0.28",
          "x": 13,
          "xref": "x",
          "y": "Elec_PowerParentADownstairs",
          "yref": "y"
         },
         {
          "showarrow": false,
          "text": "0.28",
          "x": 14,
          "xref": "x",
          "y": "Elec_PowerParentADownstairs",
          "yref": "y"
         },
         {
          "showarrow": false,
          "text": "0.28",
          "x": 15,
          "xref": "x",
          "y": "Elec_PowerParentADownstairs",
          "yref": "y"
         },
         {
          "showarrow": false,
          "text": "0.28",
          "x": 16,
          "xref": "x",
          "y": "Elec_PowerParentADownstairs",
          "yref": "y"
         },
         {
          "showarrow": false,
          "text": "0.28",
          "x": 17,
          "xref": "x",
          "y": "Elec_PowerParentADownstairs",
          "yref": "y"
         },
         {
          "showarrow": false,
          "text": "0.86",
          "x": 18,
          "xref": "x",
          "y": "Elec_PowerParentADownstairs",
          "yref": "y"
         },
         {
          "showarrow": false,
          "text": "0.86",
          "x": 19,
          "xref": "x",
          "y": "Elec_PowerParentADownstairs",
          "yref": "y"
         },
         {
          "showarrow": false,
          "text": "1.0",
          "x": 20,
          "xref": "x",
          "y": "Elec_PowerParentADownstairs",
          "yref": "y"
         },
         {
          "showarrow": false,
          "text": "1.0",
          "x": 21,
          "xref": "x",
          "y": "Elec_PowerParentADownstairs",
          "yref": "y"
         },
         {
          "showarrow": false,
          "text": "1.0",
          "x": 22,
          "xref": "x",
          "y": "Elec_PowerParentADownstairs",
          "yref": "y"
         },
         {
          "showarrow": false,
          "text": "0.29",
          "x": 23,
          "xref": "x",
          "y": "Elec_PowerParentADownstairs",
          "yref": "y"
         },
         {
          "showarrow": false,
          "text": "1.0",
          "x": 0,
          "xref": "x",
          "y": "Elec_PowerPlugsInstDRA",
          "yref": "y"
         },
         {
          "showarrow": false,
          "text": "0.06",
          "x": 1,
          "xref": "x",
          "y": "Elec_PowerPlugsInstDRA",
          "yref": "y"
         },
         {
          "showarrow": false,
          "text": "0.06",
          "x": 2,
          "xref": "x",
          "y": "Elec_PowerPlugsInstDRA",
          "yref": "y"
         },
         {
          "showarrow": false,
          "text": "0.06",
          "x": 3,
          "xref": "x",
          "y": "Elec_PowerPlugsInstDRA",
          "yref": "y"
         },
         {
          "showarrow": false,
          "text": "0.06",
          "x": 4,
          "xref": "x",
          "y": "Elec_PowerPlugsInstDRA",
          "yref": "y"
         },
         {
          "showarrow": false,
          "text": "0.06",
          "x": 5,
          "xref": "x",
          "y": "Elec_PowerPlugsInstDRA",
          "yref": "y"
         },
         {
          "showarrow": false,
          "text": "",
          "x": 6,
          "xref": "x",
          "y": "Elec_PowerPlugsInstDRA",
          "yref": "y"
         },
         {
          "showarrow": false,
          "text": "0.18",
          "x": 7,
          "xref": "x",
          "y": "Elec_PowerPlugsInstDRA",
          "yref": "y"
         },
         {
          "showarrow": false,
          "text": "0.41",
          "x": 8,
          "xref": "x",
          "y": "Elec_PowerPlugsInstDRA",
          "yref": "y"
         },
         {
          "showarrow": false,
          "text": "0.59",
          "x": 9,
          "xref": "x",
          "y": "Elec_PowerPlugsInstDRA",
          "yref": "y"
         },
         {
          "showarrow": false,
          "text": "0.53",
          "x": 10,
          "xref": "x",
          "y": "Elec_PowerPlugsInstDRA",
          "yref": "y"
         },
         {
          "showarrow": false,
          "text": "0.29",
          "x": 11,
          "xref": "x",
          "y": "Elec_PowerPlugsInstDRA",
          "yref": "y"
         },
         {
          "showarrow": false,
          "text": "0.18",
          "x": 12,
          "xref": "x",
          "y": "Elec_PowerPlugsInstDRA",
          "yref": "y"
         },
         {
          "showarrow": false,
          "text": "0.29",
          "x": 13,
          "xref": "x",
          "y": "Elec_PowerPlugsInstDRA",
          "yref": "y"
         },
         {
          "showarrow": false,
          "text": "0.35",
          "x": 14,
          "xref": "x",
          "y": "Elec_PowerPlugsInstDRA",
          "yref": "y"
         },
         {
          "showarrow": false,
          "text": "0.18",
          "x": 15,
          "xref": "x",
          "y": "Elec_PowerPlugsInstDRA",
          "yref": "y"
         },
         {
          "showarrow": false,
          "text": "0.12",
          "x": 16,
          "xref": "x",
          "y": "Elec_PowerPlugsInstDRA",
          "yref": "y"
         },
         {
          "showarrow": false,
          "text": "",
          "x": 17,
          "xref": "x",
          "y": "Elec_PowerPlugsInstDRA",
          "yref": "y"
         },
         {
          "showarrow": false,
          "text": "",
          "x": 18,
          "xref": "x",
          "y": "Elec_PowerPlugsInstDRA",
          "yref": "y"
         },
         {
          "showarrow": false,
          "text": "0.24",
          "x": 19,
          "xref": "x",
          "y": "Elec_PowerPlugsInstDRA",
          "yref": "y"
         },
         {
          "showarrow": false,
          "text": "0.18",
          "x": 20,
          "xref": "x",
          "y": "Elec_PowerPlugsInstDRA",
          "yref": "y"
         },
         {
          "showarrow": false,
          "text": "0.06",
          "x": 21,
          "xref": "x",
          "y": "Elec_PowerPlugsInstDRA",
          "yref": "y"
         },
         {
          "showarrow": false,
          "text": "0.06",
          "x": 22,
          "xref": "x",
          "y": "Elec_PowerPlugsInstDRA",
          "yref": "y"
         },
         {
          "showarrow": false,
          "text": "0.06",
          "x": 23,
          "xref": "x",
          "y": "Elec_PowerPlugsInstDRA",
          "yref": "y"
         },
         {
          "showarrow": false,
          "text": "",
          "x": 0,
          "xref": "x",
          "y": "Elec_PowerPlugsInstBR4A",
          "yref": "y"
         },
         {
          "showarrow": false,
          "text": "",
          "x": 1,
          "xref": "x",
          "y": "Elec_PowerPlugsInstBR4A",
          "yref": "y"
         },
         {
          "showarrow": false,
          "text": "",
          "x": 2,
          "xref": "x",
          "y": "Elec_PowerPlugsInstBR4A",
          "yref": "y"
         },
         {
          "showarrow": false,
          "text": "",
          "x": 3,
          "xref": "x",
          "y": "Elec_PowerPlugsInstBR4A",
          "yref": "y"
         },
         {
          "showarrow": false,
          "text": "",
          "x": 4,
          "xref": "x",
          "y": "Elec_PowerPlugsInstBR4A",
          "yref": "y"
         },
         {
          "showarrow": false,
          "text": "",
          "x": 5,
          "xref": "x",
          "y": "Elec_PowerPlugsInstBR4A",
          "yref": "y"
         },
         {
          "showarrow": false,
          "text": "",
          "x": 6,
          "xref": "x",
          "y": "Elec_PowerPlugsInstBR4A",
          "yref": "y"
         },
         {
          "showarrow": false,
          "text": "",
          "x": 7,
          "xref": "x",
          "y": "Elec_PowerPlugsInstBR4A",
          "yref": "y"
         },
         {
          "showarrow": false,
          "text": "",
          "x": 8,
          "xref": "x",
          "y": "Elec_PowerPlugsInstBR4A",
          "yref": "y"
         },
         {
          "showarrow": false,
          "text": "0.5",
          "x": 9,
          "xref": "x",
          "y": "Elec_PowerPlugsInstBR4A",
          "yref": "y"
         },
         {
          "showarrow": false,
          "text": "0.5",
          "x": 10,
          "xref": "x",
          "y": "Elec_PowerPlugsInstBR4A",
          "yref": "y"
         },
         {
          "showarrow": false,
          "text": "0.5",
          "x": 11,
          "xref": "x",
          "y": "Elec_PowerPlugsInstBR4A",
          "yref": "y"
         },
         {
          "showarrow": false,
          "text": "0.5",
          "x": 12,
          "xref": "x",
          "y": "Elec_PowerPlugsInstBR4A",
          "yref": "y"
         },
         {
          "showarrow": false,
          "text": "",
          "x": 13,
          "xref": "x",
          "y": "Elec_PowerPlugsInstBR4A",
          "yref": "y"
         },
         {
          "showarrow": false,
          "text": "0.5",
          "x": 14,
          "xref": "x",
          "y": "Elec_PowerPlugsInstBR4A",
          "yref": "y"
         },
         {
          "showarrow": false,
          "text": "1.0",
          "x": 15,
          "xref": "x",
          "y": "Elec_PowerPlugsInstBR4A",
          "yref": "y"
         },
         {
          "showarrow": false,
          "text": "0.5",
          "x": 16,
          "xref": "x",
          "y": "Elec_PowerPlugsInstBR4A",
          "yref": "y"
         },
         {
          "showarrow": false,
          "text": "",
          "x": 17,
          "xref": "x",
          "y": "Elec_PowerPlugsInstBR4A",
          "yref": "y"
         },
         {
          "showarrow": false,
          "text": "",
          "x": 18,
          "xref": "x",
          "y": "Elec_PowerPlugsInstBR4A",
          "yref": "y"
         },
         {
          "showarrow": false,
          "text": "",
          "x": 19,
          "xref": "x",
          "y": "Elec_PowerPlugsInstBR4A",
          "yref": "y"
         },
         {
          "showarrow": false,
          "text": "",
          "x": 20,
          "xref": "x",
          "y": "Elec_PowerPlugsInstBR4A",
          "yref": "y"
         },
         {
          "showarrow": false,
          "text": "",
          "x": 21,
          "xref": "x",
          "y": "Elec_PowerPlugsInstBR4A",
          "yref": "y"
         },
         {
          "showarrow": false,
          "text": "",
          "x": 22,
          "xref": "x",
          "y": "Elec_PowerPlugsInstBR4A",
          "yref": "y"
         },
         {
          "showarrow": false,
          "text": "",
          "x": 23,
          "xref": "x",
          "y": "Elec_PowerPlugsInstBR4A",
          "yref": "y"
         },
         {
          "showarrow": false,
          "text": "0.01",
          "x": 0,
          "xref": "x",
          "y": "Elec_PowerChildBDownstairs",
          "yref": "y"
         },
         {
          "showarrow": false,
          "text": "0.01",
          "x": 1,
          "xref": "x",
          "y": "Elec_PowerChildBDownstairs",
          "yref": "y"
         },
         {
          "showarrow": false,
          "text": "",
          "x": 2,
          "xref": "x",
          "y": "Elec_PowerChildBDownstairs",
          "yref": "y"
         },
         {
          "showarrow": false,
          "text": "",
          "x": 3,
          "xref": "x",
          "y": "Elec_PowerChildBDownstairs",
          "yref": "y"
         },
         {
          "showarrow": false,
          "text": "0.01",
          "x": 4,
          "xref": "x",
          "y": "Elec_PowerChildBDownstairs",
          "yref": "y"
         },
         {
          "showarrow": false,
          "text": "",
          "x": 5,
          "xref": "x",
          "y": "Elec_PowerChildBDownstairs",
          "yref": "y"
         },
         {
          "showarrow": false,
          "text": "0.33",
          "x": 6,
          "xref": "x",
          "y": "Elec_PowerChildBDownstairs",
          "yref": "y"
         },
         {
          "showarrow": false,
          "text": "0.71",
          "x": 7,
          "xref": "x",
          "y": "Elec_PowerChildBDownstairs",
          "yref": "y"
         },
         {
          "showarrow": false,
          "text": "0.11",
          "x": 8,
          "xref": "x",
          "y": "Elec_PowerChildBDownstairs",
          "yref": "y"
         },
         {
          "showarrow": false,
          "text": "0.28",
          "x": 9,
          "xref": "x",
          "y": "Elec_PowerChildBDownstairs",
          "yref": "y"
         },
         {
          "showarrow": false,
          "text": "0.02",
          "x": 10,
          "xref": "x",
          "y": "Elec_PowerChildBDownstairs",
          "yref": "y"
         },
         {
          "showarrow": false,
          "text": "",
          "x": 11,
          "xref": "x",
          "y": "Elec_PowerChildBDownstairs",
          "yref": "y"
         },
         {
          "showarrow": false,
          "text": "0.13",
          "x": 12,
          "xref": "x",
          "y": "Elec_PowerChildBDownstairs",
          "yref": "y"
         },
         {
          "showarrow": false,
          "text": "0.28",
          "x": 13,
          "xref": "x",
          "y": "Elec_PowerChildBDownstairs",
          "yref": "y"
         },
         {
          "showarrow": false,
          "text": "0.28",
          "x": 14,
          "xref": "x",
          "y": "Elec_PowerChildBDownstairs",
          "yref": "y"
         },
         {
          "showarrow": false,
          "text": "0.28",
          "x": 15,
          "xref": "x",
          "y": "Elec_PowerChildBDownstairs",
          "yref": "y"
         },
         {
          "showarrow": false,
          "text": "0.28",
          "x": 16,
          "xref": "x",
          "y": "Elec_PowerChildBDownstairs",
          "yref": "y"
         },
         {
          "showarrow": false,
          "text": "0.58",
          "x": 17,
          "xref": "x",
          "y": "Elec_PowerChildBDownstairs",
          "yref": "y"
         },
         {
          "showarrow": false,
          "text": "0.86",
          "x": 18,
          "xref": "x",
          "y": "Elec_PowerChildBDownstairs",
          "yref": "y"
         },
         {
          "showarrow": false,
          "text": "0.86",
          "x": 19,
          "xref": "x",
          "y": "Elec_PowerChildBDownstairs",
          "yref": "y"
         },
         {
          "showarrow": false,
          "text": "1.0",
          "x": 20,
          "xref": "x",
          "y": "Elec_PowerChildBDownstairs",
          "yref": "y"
         },
         {
          "showarrow": false,
          "text": "0.29",
          "x": 21,
          "xref": "x",
          "y": "Elec_PowerChildBDownstairs",
          "yref": "y"
         },
         {
          "showarrow": false,
          "text": "0.01",
          "x": 22,
          "xref": "x",
          "y": "Elec_PowerChildBDownstairs",
          "yref": "y"
         },
         {
          "showarrow": false,
          "text": "",
          "x": 23,
          "xref": "x",
          "y": "Elec_PowerChildBDownstairs",
          "yref": "y"
         },
         {
          "showarrow": false,
          "text": "1.0",
          "x": 0,
          "xref": "x",
          "y": "Elec_PowerPlugsInstBR4B",
          "yref": "y"
         },
         {
          "showarrow": false,
          "text": "0.06",
          "x": 1,
          "xref": "x",
          "y": "Elec_PowerPlugsInstBR4B",
          "yref": "y"
         },
         {
          "showarrow": false,
          "text": "0.06",
          "x": 2,
          "xref": "x",
          "y": "Elec_PowerPlugsInstBR4B",
          "yref": "y"
         },
         {
          "showarrow": false,
          "text": "0.06",
          "x": 3,
          "xref": "x",
          "y": "Elec_PowerPlugsInstBR4B",
          "yref": "y"
         },
         {
          "showarrow": false,
          "text": "0.06",
          "x": 4,
          "xref": "x",
          "y": "Elec_PowerPlugsInstBR4B",
          "yref": "y"
         },
         {
          "showarrow": false,
          "text": "0.06",
          "x": 5,
          "xref": "x",
          "y": "Elec_PowerPlugsInstBR4B",
          "yref": "y"
         },
         {
          "showarrow": false,
          "text": "",
          "x": 6,
          "xref": "x",
          "y": "Elec_PowerPlugsInstBR4B",
          "yref": "y"
         },
         {
          "showarrow": false,
          "text": "0.12",
          "x": 7,
          "xref": "x",
          "y": "Elec_PowerPlugsInstBR4B",
          "yref": "y"
         },
         {
          "showarrow": false,
          "text": "0.12",
          "x": 8,
          "xref": "x",
          "y": "Elec_PowerPlugsInstBR4B",
          "yref": "y"
         },
         {
          "showarrow": false,
          "text": "0.06",
          "x": 9,
          "xref": "x",
          "y": "Elec_PowerPlugsInstBR4B",
          "yref": "y"
         },
         {
          "showarrow": false,
          "text": "0.06",
          "x": 10,
          "xref": "x",
          "y": "Elec_PowerPlugsInstBR4B",
          "yref": "y"
         },
         {
          "showarrow": false,
          "text": "0.12",
          "x": 11,
          "xref": "x",
          "y": "Elec_PowerPlugsInstBR4B",
          "yref": "y"
         },
         {
          "showarrow": false,
          "text": "0.06",
          "x": 12,
          "xref": "x",
          "y": "Elec_PowerPlugsInstBR4B",
          "yref": "y"
         },
         {
          "showarrow": false,
          "text": "",
          "x": 13,
          "xref": "x",
          "y": "Elec_PowerPlugsInstBR4B",
          "yref": "y"
         },
         {
          "showarrow": false,
          "text": "0.06",
          "x": 14,
          "xref": "x",
          "y": "Elec_PowerPlugsInstBR4B",
          "yref": "y"
         },
         {
          "showarrow": false,
          "text": "0.12",
          "x": 15,
          "xref": "x",
          "y": "Elec_PowerPlugsInstBR4B",
          "yref": "y"
         },
         {
          "showarrow": false,
          "text": "0.06",
          "x": 16,
          "xref": "x",
          "y": "Elec_PowerPlugsInstBR4B",
          "yref": "y"
         },
         {
          "showarrow": false,
          "text": "",
          "x": 17,
          "xref": "x",
          "y": "Elec_PowerPlugsInstBR4B",
          "yref": "y"
         },
         {
          "showarrow": false,
          "text": "",
          "x": 18,
          "xref": "x",
          "y": "Elec_PowerPlugsInstBR4B",
          "yref": "y"
         },
         {
          "showarrow": false,
          "text": "0.24",
          "x": 19,
          "xref": "x",
          "y": "Elec_PowerPlugsInstBR4B",
          "yref": "y"
         },
         {
          "showarrow": false,
          "text": "0.18",
          "x": 20,
          "xref": "x",
          "y": "Elec_PowerPlugsInstBR4B",
          "yref": "y"
         },
         {
          "showarrow": false,
          "text": "0.06",
          "x": 21,
          "xref": "x",
          "y": "Elec_PowerPlugsInstBR4B",
          "yref": "y"
         },
         {
          "showarrow": false,
          "text": "0.06",
          "x": 22,
          "xref": "x",
          "y": "Elec_PowerPlugsInstBR4B",
          "yref": "y"
         },
         {
          "showarrow": false,
          "text": "0.06",
          "x": 23,
          "xref": "x",
          "y": "Elec_PowerPlugsInstBR4B",
          "yref": "y"
         },
         {
          "showarrow": false,
          "text": "1.0",
          "x": 0,
          "xref": "x",
          "y": "Elec_PowerPlugsInstLRA",
          "yref": "y"
         },
         {
          "showarrow": false,
          "text": "0.06",
          "x": 1,
          "xref": "x",
          "y": "Elec_PowerPlugsInstLRA",
          "yref": "y"
         },
         {
          "showarrow": false,
          "text": "0.06",
          "x": 2,
          "xref": "x",
          "y": "Elec_PowerPlugsInstLRA",
          "yref": "y"
         },
         {
          "showarrow": false,
          "text": "0.06",
          "x": 3,
          "xref": "x",
          "y": "Elec_PowerPlugsInstLRA",
          "yref": "y"
         },
         {
          "showarrow": false,
          "text": "0.06",
          "x": 4,
          "xref": "x",
          "y": "Elec_PowerPlugsInstLRA",
          "yref": "y"
         },
         {
          "showarrow": false,
          "text": "0.06",
          "x": 5,
          "xref": "x",
          "y": "Elec_PowerPlugsInstLRA",
          "yref": "y"
         },
         {
          "showarrow": false,
          "text": "",
          "x": 6,
          "xref": "x",
          "y": "Elec_PowerPlugsInstLRA",
          "yref": "y"
         },
         {
          "showarrow": false,
          "text": "0.12",
          "x": 7,
          "xref": "x",
          "y": "Elec_PowerPlugsInstLRA",
          "yref": "y"
         },
         {
          "showarrow": false,
          "text": "0.12",
          "x": 8,
          "xref": "x",
          "y": "Elec_PowerPlugsInstLRA",
          "yref": "y"
         },
         {
          "showarrow": false,
          "text": "0.12",
          "x": 9,
          "xref": "x",
          "y": "Elec_PowerPlugsInstLRA",
          "yref": "y"
         },
         {
          "showarrow": false,
          "text": "",
          "x": 10,
          "xref": "x",
          "y": "Elec_PowerPlugsInstLRA",
          "yref": "y"
         },
         {
          "showarrow": false,
          "text": "0.18",
          "x": 11,
          "xref": "x",
          "y": "Elec_PowerPlugsInstLRA",
          "yref": "y"
         },
         {
          "showarrow": false,
          "text": "0.12",
          "x": 12,
          "xref": "x",
          "y": "Elec_PowerPlugsInstLRA",
          "yref": "y"
         },
         {
          "showarrow": false,
          "text": "0.12",
          "x": 13,
          "xref": "x",
          "y": "Elec_PowerPlugsInstLRA",
          "yref": "y"
         },
         {
          "showarrow": false,
          "text": "0.06",
          "x": 14,
          "xref": "x",
          "y": "Elec_PowerPlugsInstLRA",
          "yref": "y"
         },
         {
          "showarrow": false,
          "text": "0.29",
          "x": 15,
          "xref": "x",
          "y": "Elec_PowerPlugsInstLRA",
          "yref": "y"
         },
         {
          "showarrow": false,
          "text": "0.18",
          "x": 16,
          "xref": "x",
          "y": "Elec_PowerPlugsInstLRA",
          "yref": "y"
         },
         {
          "showarrow": false,
          "text": "0.06",
          "x": 17,
          "xref": "x",
          "y": "Elec_PowerPlugsInstLRA",
          "yref": "y"
         },
         {
          "showarrow": false,
          "text": "",
          "x": 18,
          "xref": "x",
          "y": "Elec_PowerPlugsInstLRA",
          "yref": "y"
         },
         {
          "showarrow": false,
          "text": "0.24",
          "x": 19,
          "xref": "x",
          "y": "Elec_PowerPlugsInstLRA",
          "yref": "y"
         },
         {
          "showarrow": false,
          "text": "0.18",
          "x": 20,
          "xref": "x",
          "y": "Elec_PowerPlugsInstLRA",
          "yref": "y"
         },
         {
          "showarrow": false,
          "text": "0.06",
          "x": 21,
          "xref": "x",
          "y": "Elec_PowerPlugsInstLRA",
          "yref": "y"
         },
         {
          "showarrow": false,
          "text": "0.06",
          "x": 22,
          "xref": "x",
          "y": "Elec_PowerPlugsInstLRA",
          "yref": "y"
         },
         {
          "showarrow": false,
          "text": "0.06",
          "x": 23,
          "xref": "x",
          "y": "Elec_PowerPlugsInstLRA",
          "yref": "y"
         },
         {
          "showarrow": false,
          "text": "0.01",
          "x": 0,
          "xref": "x",
          "y": "Elec_PowerChildADownstairs",
          "yref": "y"
         },
         {
          "showarrow": false,
          "text": "0.01",
          "x": 1,
          "xref": "x",
          "y": "Elec_PowerChildADownstairs",
          "yref": "y"
         },
         {
          "showarrow": false,
          "text": "",
          "x": 2,
          "xref": "x",
          "y": "Elec_PowerChildADownstairs",
          "yref": "y"
         },
         {
          "showarrow": false,
          "text": "",
          "x": 3,
          "xref": "x",
          "y": "Elec_PowerChildADownstairs",
          "yref": "y"
         },
         {
          "showarrow": false,
          "text": "0.01",
          "x": 4,
          "xref": "x",
          "y": "Elec_PowerChildADownstairs",
          "yref": "y"
         },
         {
          "showarrow": false,
          "text": "",
          "x": 5,
          "xref": "x",
          "y": "Elec_PowerChildADownstairs",
          "yref": "y"
         },
         {
          "showarrow": false,
          "text": "0.34",
          "x": 6,
          "xref": "x",
          "y": "Elec_PowerChildADownstairs",
          "yref": "y"
         },
         {
          "showarrow": false,
          "text": "0.71",
          "x": 7,
          "xref": "x",
          "y": "Elec_PowerChildADownstairs",
          "yref": "y"
         },
         {
          "showarrow": false,
          "text": "0.11",
          "x": 8,
          "xref": "x",
          "y": "Elec_PowerChildADownstairs",
          "yref": "y"
         },
         {
          "showarrow": false,
          "text": "0.28",
          "x": 9,
          "xref": "x",
          "y": "Elec_PowerChildADownstairs",
          "yref": "y"
         },
         {
          "showarrow": false,
          "text": "0.28",
          "x": 10,
          "xref": "x",
          "y": "Elec_PowerChildADownstairs",
          "yref": "y"
         },
         {
          "showarrow": false,
          "text": "0.02",
          "x": 11,
          "xref": "x",
          "y": "Elec_PowerChildADownstairs",
          "yref": "y"
         },
         {
          "showarrow": false,
          "text": "0.13",
          "x": 12,
          "xref": "x",
          "y": "Elec_PowerChildADownstairs",
          "yref": "y"
         },
         {
          "showarrow": false,
          "text": "0.28",
          "x": 13,
          "xref": "x",
          "y": "Elec_PowerChildADownstairs",
          "yref": "y"
         },
         {
          "showarrow": false,
          "text": "0.28",
          "x": 14,
          "xref": "x",
          "y": "Elec_PowerChildADownstairs",
          "yref": "y"
         },
         {
          "showarrow": false,
          "text": "0.14",
          "x": 15,
          "xref": "x",
          "y": "Elec_PowerChildADownstairs",
          "yref": "y"
         },
         {
          "showarrow": false,
          "text": "0.42",
          "x": 16,
          "xref": "x",
          "y": "Elec_PowerChildADownstairs",
          "yref": "y"
         },
         {
          "showarrow": false,
          "text": "0.4",
          "x": 17,
          "xref": "x",
          "y": "Elec_PowerChildADownstairs",
          "yref": "y"
         },
         {
          "showarrow": false,
          "text": "0.3",
          "x": 18,
          "xref": "x",
          "y": "Elec_PowerChildADownstairs",
          "yref": "y"
         },
         {
          "showarrow": false,
          "text": "0.86",
          "x": 19,
          "xref": "x",
          "y": "Elec_PowerChildADownstairs",
          "yref": "y"
         },
         {
          "showarrow": false,
          "text": "1.0",
          "x": 20,
          "xref": "x",
          "y": "Elec_PowerChildADownstairs",
          "yref": "y"
         },
         {
          "showarrow": false,
          "text": "0.29",
          "x": 21,
          "xref": "x",
          "y": "Elec_PowerChildADownstairs",
          "yref": "y"
         },
         {
          "showarrow": false,
          "text": "0.29",
          "x": 22,
          "xref": "x",
          "y": "Elec_PowerChildADownstairs",
          "yref": "y"
         },
         {
          "showarrow": false,
          "text": "0.01",
          "x": 23,
          "xref": "x",
          "y": "Elec_PowerChildADownstairs",
          "yref": "y"
         },
         {
          "showarrow": false,
          "text": "nan",
          "x": 0,
          "xref": "x",
          "y": "Elec_PowerPlugsInstLRB",
          "yref": "y"
         },
         {
          "showarrow": false,
          "text": "nan",
          "x": 1,
          "xref": "x",
          "y": "Elec_PowerPlugsInstLRB",
          "yref": "y"
         },
         {
          "showarrow": false,
          "text": "nan",
          "x": 2,
          "xref": "x",
          "y": "Elec_PowerPlugsInstLRB",
          "yref": "y"
         },
         {
          "showarrow": false,
          "text": "nan",
          "x": 3,
          "xref": "x",
          "y": "Elec_PowerPlugsInstLRB",
          "yref": "y"
         },
         {
          "showarrow": false,
          "text": "nan",
          "x": 4,
          "xref": "x",
          "y": "Elec_PowerPlugsInstLRB",
          "yref": "y"
         },
         {
          "showarrow": false,
          "text": "nan",
          "x": 5,
          "xref": "x",
          "y": "Elec_PowerPlugsInstLRB",
          "yref": "y"
         },
         {
          "showarrow": false,
          "text": "nan",
          "x": 6,
          "xref": "x",
          "y": "Elec_PowerPlugsInstLRB",
          "yref": "y"
         },
         {
          "showarrow": false,
          "text": "nan",
          "x": 7,
          "xref": "x",
          "y": "Elec_PowerPlugsInstLRB",
          "yref": "y"
         },
         {
          "showarrow": false,
          "text": "nan",
          "x": 8,
          "xref": "x",
          "y": "Elec_PowerPlugsInstLRB",
          "yref": "y"
         },
         {
          "showarrow": false,
          "text": "nan",
          "x": 9,
          "xref": "x",
          "y": "Elec_PowerPlugsInstLRB",
          "yref": "y"
         },
         {
          "showarrow": false,
          "text": "nan",
          "x": 10,
          "xref": "x",
          "y": "Elec_PowerPlugsInstLRB",
          "yref": "y"
         },
         {
          "showarrow": false,
          "text": "nan",
          "x": 11,
          "xref": "x",
          "y": "Elec_PowerPlugsInstLRB",
          "yref": "y"
         },
         {
          "showarrow": false,
          "text": "nan",
          "x": 12,
          "xref": "x",
          "y": "Elec_PowerPlugsInstLRB",
          "yref": "y"
         },
         {
          "showarrow": false,
          "text": "nan",
          "x": 13,
          "xref": "x",
          "y": "Elec_PowerPlugsInstLRB",
          "yref": "y"
         },
         {
          "showarrow": false,
          "text": "nan",
          "x": 14,
          "xref": "x",
          "y": "Elec_PowerPlugsInstLRB",
          "yref": "y"
         },
         {
          "showarrow": false,
          "text": "nan",
          "x": 15,
          "xref": "x",
          "y": "Elec_PowerPlugsInstLRB",
          "yref": "y"
         },
         {
          "showarrow": false,
          "text": "nan",
          "x": 16,
          "xref": "x",
          "y": "Elec_PowerPlugsInstLRB",
          "yref": "y"
         },
         {
          "showarrow": false,
          "text": "nan",
          "x": 17,
          "xref": "x",
          "y": "Elec_PowerPlugsInstLRB",
          "yref": "y"
         },
         {
          "showarrow": false,
          "text": "nan",
          "x": 18,
          "xref": "x",
          "y": "Elec_PowerPlugsInstLRB",
          "yref": "y"
         },
         {
          "showarrow": false,
          "text": "nan",
          "x": 19,
          "xref": "x",
          "y": "Elec_PowerPlugsInstLRB",
          "yref": "y"
         },
         {
          "showarrow": false,
          "text": "nan",
          "x": 20,
          "xref": "x",
          "y": "Elec_PowerPlugsInstLRB",
          "yref": "y"
         },
         {
          "showarrow": false,
          "text": "nan",
          "x": 21,
          "xref": "x",
          "y": "Elec_PowerPlugsInstLRB",
          "yref": "y"
         },
         {
          "showarrow": false,
          "text": "nan",
          "x": 22,
          "xref": "x",
          "y": "Elec_PowerPlugsInstLRB",
          "yref": "y"
         },
         {
          "showarrow": false,
          "text": "nan",
          "x": 23,
          "xref": "x",
          "y": "Elec_PowerPlugsInstLRB",
          "yref": "y"
         },
         {
          "showarrow": false,
          "text": "1.0",
          "x": 0,
          "xref": "x",
          "y": "Elec_PowerPlugsInstBA2",
          "yref": "y"
         },
         {
          "showarrow": false,
          "text": "0.06",
          "x": 1,
          "xref": "x",
          "y": "Elec_PowerPlugsInstBA2",
          "yref": "y"
         },
         {
          "showarrow": false,
          "text": "0.06",
          "x": 2,
          "xref": "x",
          "y": "Elec_PowerPlugsInstBA2",
          "yref": "y"
         },
         {
          "showarrow": false,
          "text": "0.06",
          "x": 3,
          "xref": "x",
          "y": "Elec_PowerPlugsInstBA2",
          "yref": "y"
         },
         {
          "showarrow": false,
          "text": "0.06",
          "x": 4,
          "xref": "x",
          "y": "Elec_PowerPlugsInstBA2",
          "yref": "y"
         },
         {
          "showarrow": false,
          "text": "0.06",
          "x": 5,
          "xref": "x",
          "y": "Elec_PowerPlugsInstBA2",
          "yref": "y"
         },
         {
          "showarrow": false,
          "text": "",
          "x": 6,
          "xref": "x",
          "y": "Elec_PowerPlugsInstBA2",
          "yref": "y"
         },
         {
          "showarrow": false,
          "text": "0.12",
          "x": 7,
          "xref": "x",
          "y": "Elec_PowerPlugsInstBA2",
          "yref": "y"
         },
         {
          "showarrow": false,
          "text": "0.12",
          "x": 8,
          "xref": "x",
          "y": "Elec_PowerPlugsInstBA2",
          "yref": "y"
         },
         {
          "showarrow": false,
          "text": "0.06",
          "x": 9,
          "xref": "x",
          "y": "Elec_PowerPlugsInstBA2",
          "yref": "y"
         },
         {
          "showarrow": false,
          "text": "",
          "x": 10,
          "xref": "x",
          "y": "Elec_PowerPlugsInstBA2",
          "yref": "y"
         },
         {
          "showarrow": false,
          "text": "0.12",
          "x": 11,
          "xref": "x",
          "y": "Elec_PowerPlugsInstBA2",
          "yref": "y"
         },
         {
          "showarrow": false,
          "text": "0.06",
          "x": 12,
          "xref": "x",
          "y": "Elec_PowerPlugsInstBA2",
          "yref": "y"
         },
         {
          "showarrow": false,
          "text": "",
          "x": 13,
          "xref": "x",
          "y": "Elec_PowerPlugsInstBA2",
          "yref": "y"
         },
         {
          "showarrow": false,
          "text": "0.06",
          "x": 14,
          "xref": "x",
          "y": "Elec_PowerPlugsInstBA2",
          "yref": "y"
         },
         {
          "showarrow": false,
          "text": "0.12",
          "x": 15,
          "xref": "x",
          "y": "Elec_PowerPlugsInstBA2",
          "yref": "y"
         },
         {
          "showarrow": false,
          "text": "0.06",
          "x": 16,
          "xref": "x",
          "y": "Elec_PowerPlugsInstBA2",
          "yref": "y"
         },
         {
          "showarrow": false,
          "text": "",
          "x": 17,
          "xref": "x",
          "y": "Elec_PowerPlugsInstBA2",
          "yref": "y"
         },
         {
          "showarrow": false,
          "text": "0.06",
          "x": 18,
          "xref": "x",
          "y": "Elec_PowerPlugsInstBA2",
          "yref": "y"
         },
         {
          "showarrow": false,
          "text": "0.29",
          "x": 19,
          "xref": "x",
          "y": "Elec_PowerPlugsInstBA2",
          "yref": "y"
         },
         {
          "showarrow": false,
          "text": "0.24",
          "x": 20,
          "xref": "x",
          "y": "Elec_PowerPlugsInstBA2",
          "yref": "y"
         },
         {
          "showarrow": false,
          "text": "0.12",
          "x": 21,
          "xref": "x",
          "y": "Elec_PowerPlugsInstBA2",
          "yref": "y"
         },
         {
          "showarrow": false,
          "text": "0.12",
          "x": 22,
          "xref": "x",
          "y": "Elec_PowerPlugsInstBA2",
          "yref": "y"
         },
         {
          "showarrow": false,
          "text": "0.06",
          "x": 23,
          "xref": "x",
          "y": "Elec_PowerPlugsInstBA2",
          "yref": "y"
         },
         {
          "showarrow": false,
          "text": "",
          "x": 0,
          "xref": "x",
          "y": "Elec_PowerPlugsInstMBAB",
          "yref": "y"
         },
         {
          "showarrow": false,
          "text": "",
          "x": 1,
          "xref": "x",
          "y": "Elec_PowerPlugsInstMBAB",
          "yref": "y"
         },
         {
          "showarrow": false,
          "text": "",
          "x": 2,
          "xref": "x",
          "y": "Elec_PowerPlugsInstMBAB",
          "yref": "y"
         },
         {
          "showarrow": false,
          "text": "",
          "x": 3,
          "xref": "x",
          "y": "Elec_PowerPlugsInstMBAB",
          "yref": "y"
         },
         {
          "showarrow": false,
          "text": "",
          "x": 4,
          "xref": "x",
          "y": "Elec_PowerPlugsInstMBAB",
          "yref": "y"
         },
         {
          "showarrow": false,
          "text": "",
          "x": 5,
          "xref": "x",
          "y": "Elec_PowerPlugsInstMBAB",
          "yref": "y"
         },
         {
          "showarrow": false,
          "text": "",
          "x": 6,
          "xref": "x",
          "y": "Elec_PowerPlugsInstMBAB",
          "yref": "y"
         },
         {
          "showarrow": false,
          "text": "",
          "x": 7,
          "xref": "x",
          "y": "Elec_PowerPlugsInstMBAB",
          "yref": "y"
         },
         {
          "showarrow": false,
          "text": "",
          "x": 8,
          "xref": "x",
          "y": "Elec_PowerPlugsInstMBAB",
          "yref": "y"
         },
         {
          "showarrow": false,
          "text": "0.33",
          "x": 9,
          "xref": "x",
          "y": "Elec_PowerPlugsInstMBAB",
          "yref": "y"
         },
         {
          "showarrow": false,
          "text": "0.33",
          "x": 10,
          "xref": "x",
          "y": "Elec_PowerPlugsInstMBAB",
          "yref": "y"
         },
         {
          "showarrow": false,
          "text": "0.33",
          "x": 11,
          "xref": "x",
          "y": "Elec_PowerPlugsInstMBAB",
          "yref": "y"
         },
         {
          "showarrow": false,
          "text": "0.33",
          "x": 12,
          "xref": "x",
          "y": "Elec_PowerPlugsInstMBAB",
          "yref": "y"
         },
         {
          "showarrow": false,
          "text": "1.0",
          "x": 13,
          "xref": "x",
          "y": "Elec_PowerPlugsInstMBAB",
          "yref": "y"
         },
         {
          "showarrow": false,
          "text": "1.0",
          "x": 14,
          "xref": "x",
          "y": "Elec_PowerPlugsInstMBAB",
          "yref": "y"
         },
         {
          "showarrow": false,
          "text": "0.67",
          "x": 15,
          "xref": "x",
          "y": "Elec_PowerPlugsInstMBAB",
          "yref": "y"
         },
         {
          "showarrow": false,
          "text": "0.33",
          "x": 16,
          "xref": "x",
          "y": "Elec_PowerPlugsInstMBAB",
          "yref": "y"
         },
         {
          "showarrow": false,
          "text": "0.33",
          "x": 17,
          "xref": "x",
          "y": "Elec_PowerPlugsInstMBAB",
          "yref": "y"
         },
         {
          "showarrow": false,
          "text": "0.33",
          "x": 18,
          "xref": "x",
          "y": "Elec_PowerPlugsInstMBAB",
          "yref": "y"
         },
         {
          "showarrow": false,
          "text": "0.33",
          "x": 19,
          "xref": "x",
          "y": "Elec_PowerPlugsInstMBAB",
          "yref": "y"
         },
         {
          "showarrow": false,
          "text": "0.67",
          "x": 20,
          "xref": "x",
          "y": "Elec_PowerPlugsInstMBAB",
          "yref": "y"
         },
         {
          "showarrow": false,
          "text": "0.33",
          "x": 21,
          "xref": "x",
          "y": "Elec_PowerPlugsInstMBAB",
          "yref": "y"
         },
         {
          "showarrow": false,
          "text": "0.33",
          "x": 22,
          "xref": "x",
          "y": "Elec_PowerPlugsInstMBAB",
          "yref": "y"
         },
         {
          "showarrow": false,
          "text": "0.33",
          "x": 23,
          "xref": "x",
          "y": "Elec_PowerPlugsInstMBAB",
          "yref": "y"
         },
         {
          "showarrow": false,
          "text": "1.0",
          "x": 0,
          "xref": "x",
          "y": "Elec_PowerPlugsInstBR2Hall",
          "yref": "y"
         },
         {
          "showarrow": false,
          "text": "0.06",
          "x": 1,
          "xref": "x",
          "y": "Elec_PowerPlugsInstBR2Hall",
          "yref": "y"
         },
         {
          "showarrow": false,
          "text": "0.06",
          "x": 2,
          "xref": "x",
          "y": "Elec_PowerPlugsInstBR2Hall",
          "yref": "y"
         },
         {
          "showarrow": false,
          "text": "0.06",
          "x": 3,
          "xref": "x",
          "y": "Elec_PowerPlugsInstBR2Hall",
          "yref": "y"
         },
         {
          "showarrow": false,
          "text": "0.06",
          "x": 4,
          "xref": "x",
          "y": "Elec_PowerPlugsInstBR2Hall",
          "yref": "y"
         },
         {
          "showarrow": false,
          "text": "0.06",
          "x": 5,
          "xref": "x",
          "y": "Elec_PowerPlugsInstBR2Hall",
          "yref": "y"
         },
         {
          "showarrow": false,
          "text": "",
          "x": 6,
          "xref": "x",
          "y": "Elec_PowerPlugsInstBR2Hall",
          "yref": "y"
         },
         {
          "showarrow": false,
          "text": "0.12",
          "x": 7,
          "xref": "x",
          "y": "Elec_PowerPlugsInstBR2Hall",
          "yref": "y"
         },
         {
          "showarrow": false,
          "text": "0.12",
          "x": 8,
          "xref": "x",
          "y": "Elec_PowerPlugsInstBR2Hall",
          "yref": "y"
         },
         {
          "showarrow": false,
          "text": "0.18",
          "x": 9,
          "xref": "x",
          "y": "Elec_PowerPlugsInstBR2Hall",
          "yref": "y"
         },
         {
          "showarrow": false,
          "text": "0.53",
          "x": 10,
          "xref": "x",
          "y": "Elec_PowerPlugsInstBR2Hall",
          "yref": "y"
         },
         {
          "showarrow": false,
          "text": "0.76",
          "x": 11,
          "xref": "x",
          "y": "Elec_PowerPlugsInstBR2Hall",
          "yref": "y"
         },
         {
          "showarrow": false,
          "text": "0.47",
          "x": 12,
          "xref": "x",
          "y": "Elec_PowerPlugsInstBR2Hall",
          "yref": "y"
         },
         {
          "showarrow": false,
          "text": "0.24",
          "x": 13,
          "xref": "x",
          "y": "Elec_PowerPlugsInstBR2Hall",
          "yref": "y"
         },
         {
          "showarrow": false,
          "text": "0.41",
          "x": 14,
          "xref": "x",
          "y": "Elec_PowerPlugsInstBR2Hall",
          "yref": "y"
         },
         {
          "showarrow": false,
          "text": "0.29",
          "x": 15,
          "xref": "x",
          "y": "Elec_PowerPlugsInstBR2Hall",
          "yref": "y"
         },
         {
          "showarrow": false,
          "text": "0.12",
          "x": 16,
          "xref": "x",
          "y": "Elec_PowerPlugsInstBR2Hall",
          "yref": "y"
         },
         {
          "showarrow": false,
          "text": "0.06",
          "x": 17,
          "xref": "x",
          "y": "Elec_PowerPlugsInstBR2Hall",
          "yref": "y"
         },
         {
          "showarrow": false,
          "text": "0.06",
          "x": 18,
          "xref": "x",
          "y": "Elec_PowerPlugsInstBR2Hall",
          "yref": "y"
         },
         {
          "showarrow": false,
          "text": "0.29",
          "x": 19,
          "xref": "x",
          "y": "Elec_PowerPlugsInstBR2Hall",
          "yref": "y"
         },
         {
          "showarrow": false,
          "text": "0.24",
          "x": 20,
          "xref": "x",
          "y": "Elec_PowerPlugsInstBR2Hall",
          "yref": "y"
         },
         {
          "showarrow": false,
          "text": "0.12",
          "x": 21,
          "xref": "x",
          "y": "Elec_PowerPlugsInstBR2Hall",
          "yref": "y"
         },
         {
          "showarrow": false,
          "text": "0.12",
          "x": 22,
          "xref": "x",
          "y": "Elec_PowerPlugsInstBR2Hall",
          "yref": "y"
         },
         {
          "showarrow": false,
          "text": "0.12",
          "x": 23,
          "xref": "x",
          "y": "Elec_PowerPlugsInstBR2Hall",
          "yref": "y"
         },
         {
          "showarrow": false,
          "text": "0.99",
          "x": 0,
          "xref": "x",
          "y": "Elec_PowerParentAUpstairs",
          "yref": "y"
         },
         {
          "showarrow": false,
          "text": "0.99",
          "x": 1,
          "xref": "x",
          "y": "Elec_PowerParentAUpstairs",
          "yref": "y"
         },
         {
          "showarrow": false,
          "text": "0.98",
          "x": 2,
          "xref": "x",
          "y": "Elec_PowerParentAUpstairs",
          "yref": "y"
         },
         {
          "showarrow": false,
          "text": "0.98",
          "x": 3,
          "xref": "x",
          "y": "Elec_PowerParentAUpstairs",
          "yref": "y"
         },
         {
          "showarrow": false,
          "text": "0.98",
          "x": 4,
          "xref": "x",
          "y": "Elec_PowerParentAUpstairs",
          "yref": "y"
         },
         {
          "showarrow": false,
          "text": "0.98",
          "x": 5,
          "xref": "x",
          "y": "Elec_PowerParentAUpstairs",
          "yref": "y"
         },
         {
          "showarrow": false,
          "text": "0.98",
          "x": 6,
          "xref": "x",
          "y": "Elec_PowerParentAUpstairs",
          "yref": "y"
         },
         {
          "showarrow": false,
          "text": "0.28",
          "x": 7,
          "xref": "x",
          "y": "Elec_PowerParentAUpstairs",
          "yref": "y"
         },
         {
          "showarrow": false,
          "text": "0.29",
          "x": 8,
          "xref": "x",
          "y": "Elec_PowerParentAUpstairs",
          "yref": "y"
         },
         {
          "showarrow": false,
          "text": "0.01",
          "x": 9,
          "xref": "x",
          "y": "Elec_PowerParentAUpstairs",
          "yref": "y"
         },
         {
          "showarrow": false,
          "text": "",
          "x": 10,
          "xref": "x",
          "y": "Elec_PowerParentAUpstairs",
          "yref": "y"
         },
         {
          "showarrow": false,
          "text": "",
          "x": 11,
          "xref": "x",
          "y": "Elec_PowerParentAUpstairs",
          "yref": "y"
         },
         {
          "showarrow": false,
          "text": "",
          "x": 12,
          "xref": "x",
          "y": "Elec_PowerParentAUpstairs",
          "yref": "y"
         },
         {
          "showarrow": false,
          "text": "0.07",
          "x": 13,
          "xref": "x",
          "y": "Elec_PowerParentAUpstairs",
          "yref": "y"
         },
         {
          "showarrow": false,
          "text": "0.15",
          "x": 14,
          "xref": "x",
          "y": "Elec_PowerParentAUpstairs",
          "yref": "y"
         },
         {
          "showarrow": false,
          "text": "0.01",
          "x": 15,
          "xref": "x",
          "y": "Elec_PowerParentAUpstairs",
          "yref": "y"
         },
         {
          "showarrow": false,
          "text": "",
          "x": 16,
          "xref": "x",
          "y": "Elec_PowerParentAUpstairs",
          "yref": "y"
         },
         {
          "showarrow": false,
          "text": "0.35",
          "x": 17,
          "xref": "x",
          "y": "Elec_PowerParentAUpstairs",
          "yref": "y"
         },
         {
          "showarrow": false,
          "text": "0.86",
          "x": 18,
          "xref": "x",
          "y": "Elec_PowerParentAUpstairs",
          "yref": "y"
         },
         {
          "showarrow": false,
          "text": "0.07",
          "x": 19,
          "xref": "x",
          "y": "Elec_PowerParentAUpstairs",
          "yref": "y"
         },
         {
          "showarrow": false,
          "text": "0.14",
          "x": 20,
          "xref": "x",
          "y": "Elec_PowerParentAUpstairs",
          "yref": "y"
         },
         {
          "showarrow": false,
          "text": "",
          "x": 21,
          "xref": "x",
          "y": "Elec_PowerParentAUpstairs",
          "yref": "y"
         },
         {
          "showarrow": false,
          "text": "0.72",
          "x": 22,
          "xref": "x",
          "y": "Elec_PowerParentAUpstairs",
          "yref": "y"
         },
         {
          "showarrow": false,
          "text": "1.0",
          "x": 23,
          "xref": "x",
          "y": "Elec_PowerParentAUpstairs",
          "yref": "y"
         },
         {
          "showarrow": false,
          "text": "nan",
          "x": 0,
          "xref": "x",
          "y": "Elec_PowerPlugsInstHall",
          "yref": "y"
         },
         {
          "showarrow": false,
          "text": "nan",
          "x": 1,
          "xref": "x",
          "y": "Elec_PowerPlugsInstHall",
          "yref": "y"
         },
         {
          "showarrow": false,
          "text": "nan",
          "x": 2,
          "xref": "x",
          "y": "Elec_PowerPlugsInstHall",
          "yref": "y"
         },
         {
          "showarrow": false,
          "text": "nan",
          "x": 3,
          "xref": "x",
          "y": "Elec_PowerPlugsInstHall",
          "yref": "y"
         },
         {
          "showarrow": false,
          "text": "nan",
          "x": 4,
          "xref": "x",
          "y": "Elec_PowerPlugsInstHall",
          "yref": "y"
         },
         {
          "showarrow": false,
          "text": "nan",
          "x": 5,
          "xref": "x",
          "y": "Elec_PowerPlugsInstHall",
          "yref": "y"
         },
         {
          "showarrow": false,
          "text": "nan",
          "x": 6,
          "xref": "x",
          "y": "Elec_PowerPlugsInstHall",
          "yref": "y"
         },
         {
          "showarrow": false,
          "text": "nan",
          "x": 7,
          "xref": "x",
          "y": "Elec_PowerPlugsInstHall",
          "yref": "y"
         },
         {
          "showarrow": false,
          "text": "nan",
          "x": 8,
          "xref": "x",
          "y": "Elec_PowerPlugsInstHall",
          "yref": "y"
         },
         {
          "showarrow": false,
          "text": "nan",
          "x": 9,
          "xref": "x",
          "y": "Elec_PowerPlugsInstHall",
          "yref": "y"
         },
         {
          "showarrow": false,
          "text": "nan",
          "x": 10,
          "xref": "x",
          "y": "Elec_PowerPlugsInstHall",
          "yref": "y"
         },
         {
          "showarrow": false,
          "text": "nan",
          "x": 11,
          "xref": "x",
          "y": "Elec_PowerPlugsInstHall",
          "yref": "y"
         },
         {
          "showarrow": false,
          "text": "nan",
          "x": 12,
          "xref": "x",
          "y": "Elec_PowerPlugsInstHall",
          "yref": "y"
         },
         {
          "showarrow": false,
          "text": "nan",
          "x": 13,
          "xref": "x",
          "y": "Elec_PowerPlugsInstHall",
          "yref": "y"
         },
         {
          "showarrow": false,
          "text": "nan",
          "x": 14,
          "xref": "x",
          "y": "Elec_PowerPlugsInstHall",
          "yref": "y"
         },
         {
          "showarrow": false,
          "text": "nan",
          "x": 15,
          "xref": "x",
          "y": "Elec_PowerPlugsInstHall",
          "yref": "y"
         },
         {
          "showarrow": false,
          "text": "nan",
          "x": 16,
          "xref": "x",
          "y": "Elec_PowerPlugsInstHall",
          "yref": "y"
         },
         {
          "showarrow": false,
          "text": "nan",
          "x": 17,
          "xref": "x",
          "y": "Elec_PowerPlugsInstHall",
          "yref": "y"
         },
         {
          "showarrow": false,
          "text": "nan",
          "x": 18,
          "xref": "x",
          "y": "Elec_PowerPlugsInstHall",
          "yref": "y"
         },
         {
          "showarrow": false,
          "text": "nan",
          "x": 19,
          "xref": "x",
          "y": "Elec_PowerPlugsInstHall",
          "yref": "y"
         },
         {
          "showarrow": false,
          "text": "nan",
          "x": 20,
          "xref": "x",
          "y": "Elec_PowerPlugsInstHall",
          "yref": "y"
         },
         {
          "showarrow": false,
          "text": "nan",
          "x": 21,
          "xref": "x",
          "y": "Elec_PowerPlugsInstHall",
          "yref": "y"
         },
         {
          "showarrow": false,
          "text": "nan",
          "x": 22,
          "xref": "x",
          "y": "Elec_PowerPlugsInstHall",
          "yref": "y"
         },
         {
          "showarrow": false,
          "text": "nan",
          "x": 23,
          "xref": "x",
          "y": "Elec_PowerPlugsInstHall",
          "yref": "y"
         },
         {
          "showarrow": false,
          "text": "1.0",
          "x": 0,
          "xref": "x",
          "y": "Elec_PowerLightingControlPanelRPS1",
          "yref": "y"
         },
         {
          "showarrow": false,
          "text": "1.0",
          "x": 1,
          "xref": "x",
          "y": "Elec_PowerLightingControlPanelRPS1",
          "yref": "y"
         },
         {
          "showarrow": false,
          "text": "",
          "x": 2,
          "xref": "x",
          "y": "Elec_PowerLightingControlPanelRPS1",
          "yref": "y"
         },
         {
          "showarrow": false,
          "text": "0.25",
          "x": 3,
          "xref": "x",
          "y": "Elec_PowerLightingControlPanelRPS1",
          "yref": "y"
         },
         {
          "showarrow": false,
          "text": "0.25",
          "x": 4,
          "xref": "x",
          "y": "Elec_PowerLightingControlPanelRPS1",
          "yref": "y"
         },
         {
          "showarrow": false,
          "text": "0.25",
          "x": 5,
          "xref": "x",
          "y": "Elec_PowerLightingControlPanelRPS1",
          "yref": "y"
         },
         {
          "showarrow": false,
          "text": "0.25",
          "x": 6,
          "xref": "x",
          "y": "Elec_PowerLightingControlPanelRPS1",
          "yref": "y"
         },
         {
          "showarrow": false,
          "text": "0.25",
          "x": 7,
          "xref": "x",
          "y": "Elec_PowerLightingControlPanelRPS1",
          "yref": "y"
         },
         {
          "showarrow": false,
          "text": "0.75",
          "x": 8,
          "xref": "x",
          "y": "Elec_PowerLightingControlPanelRPS1",
          "yref": "y"
         },
         {
          "showarrow": false,
          "text": "0.75",
          "x": 9,
          "xref": "x",
          "y": "Elec_PowerLightingControlPanelRPS1",
          "yref": "y"
         },
         {
          "showarrow": false,
          "text": "0.75",
          "x": 10,
          "xref": "x",
          "y": "Elec_PowerLightingControlPanelRPS1",
          "yref": "y"
         },
         {
          "showarrow": false,
          "text": "0.75",
          "x": 11,
          "xref": "x",
          "y": "Elec_PowerLightingControlPanelRPS1",
          "yref": "y"
         },
         {
          "showarrow": false,
          "text": "0.75",
          "x": 12,
          "xref": "x",
          "y": "Elec_PowerLightingControlPanelRPS1",
          "yref": "y"
         },
         {
          "showarrow": false,
          "text": "0.75",
          "x": 13,
          "xref": "x",
          "y": "Elec_PowerLightingControlPanelRPS1",
          "yref": "y"
         },
         {
          "showarrow": false,
          "text": "0.25",
          "x": 14,
          "xref": "x",
          "y": "Elec_PowerLightingControlPanelRPS1",
          "yref": "y"
         },
         {
          "showarrow": false,
          "text": "0.25",
          "x": 15,
          "xref": "x",
          "y": "Elec_PowerLightingControlPanelRPS1",
          "yref": "y"
         },
         {
          "showarrow": false,
          "text": "0.5",
          "x": 16,
          "xref": "x",
          "y": "Elec_PowerLightingControlPanelRPS1",
          "yref": "y"
         },
         {
          "showarrow": false,
          "text": "0.75",
          "x": 17,
          "xref": "x",
          "y": "Elec_PowerLightingControlPanelRPS1",
          "yref": "y"
         },
         {
          "showarrow": false,
          "text": "0.75",
          "x": 18,
          "xref": "x",
          "y": "Elec_PowerLightingControlPanelRPS1",
          "yref": "y"
         },
         {
          "showarrow": false,
          "text": "0.75",
          "x": 19,
          "xref": "x",
          "y": "Elec_PowerLightingControlPanelRPS1",
          "yref": "y"
         },
         {
          "showarrow": false,
          "text": "0.75",
          "x": 20,
          "xref": "x",
          "y": "Elec_PowerLightingControlPanelRPS1",
          "yref": "y"
         },
         {
          "showarrow": false,
          "text": "0.75",
          "x": 21,
          "xref": "x",
          "y": "Elec_PowerLightingControlPanelRPS1",
          "yref": "y"
         },
         {
          "showarrow": false,
          "text": "0.75",
          "x": 22,
          "xref": "x",
          "y": "Elec_PowerLightingControlPanelRPS1",
          "yref": "y"
         },
         {
          "showarrow": false,
          "text": "0.75",
          "x": 23,
          "xref": "x",
          "y": "Elec_PowerLightingControlPanelRPS1",
          "yref": "y"
         },
         {
          "showarrow": false,
          "text": "1.0",
          "x": 0,
          "xref": "x",
          "y": "Elec_PowerPlugsInstBR3",
          "yref": "y"
         },
         {
          "showarrow": false,
          "text": "0.06",
          "x": 1,
          "xref": "x",
          "y": "Elec_PowerPlugsInstBR3",
          "yref": "y"
         },
         {
          "showarrow": false,
          "text": "0.06",
          "x": 2,
          "xref": "x",
          "y": "Elec_PowerPlugsInstBR3",
          "yref": "y"
         },
         {
          "showarrow": false,
          "text": "0.06",
          "x": 3,
          "xref": "x",
          "y": "Elec_PowerPlugsInstBR3",
          "yref": "y"
         },
         {
          "showarrow": false,
          "text": "0.06",
          "x": 4,
          "xref": "x",
          "y": "Elec_PowerPlugsInstBR3",
          "yref": "y"
         },
         {
          "showarrow": false,
          "text": "0.06",
          "x": 5,
          "xref": "x",
          "y": "Elec_PowerPlugsInstBR3",
          "yref": "y"
         },
         {
          "showarrow": false,
          "text": "",
          "x": 6,
          "xref": "x",
          "y": "Elec_PowerPlugsInstBR3",
          "yref": "y"
         },
         {
          "showarrow": false,
          "text": "0.12",
          "x": 7,
          "xref": "x",
          "y": "Elec_PowerPlugsInstBR3",
          "yref": "y"
         },
         {
          "showarrow": false,
          "text": "0.12",
          "x": 8,
          "xref": "x",
          "y": "Elec_PowerPlugsInstBR3",
          "yref": "y"
         },
         {
          "showarrow": false,
          "text": "0.12",
          "x": 9,
          "xref": "x",
          "y": "Elec_PowerPlugsInstBR3",
          "yref": "y"
         },
         {
          "showarrow": false,
          "text": "0.53",
          "x": 10,
          "xref": "x",
          "y": "Elec_PowerPlugsInstBR3",
          "yref": "y"
         },
         {
          "showarrow": false,
          "text": "0.53",
          "x": 11,
          "xref": "x",
          "y": "Elec_PowerPlugsInstBR3",
          "yref": "y"
         },
         {
          "showarrow": false,
          "text": "0.29",
          "x": 12,
          "xref": "x",
          "y": "Elec_PowerPlugsInstBR3",
          "yref": "y"
         },
         {
          "showarrow": false,
          "text": "",
          "x": 13,
          "xref": "x",
          "y": "Elec_PowerPlugsInstBR3",
          "yref": "y"
         },
         {
          "showarrow": false,
          "text": "0.18",
          "x": 14,
          "xref": "x",
          "y": "Elec_PowerPlugsInstBR3",
          "yref": "y"
         },
         {
          "showarrow": false,
          "text": "0.29",
          "x": 15,
          "xref": "x",
          "y": "Elec_PowerPlugsInstBR3",
          "yref": "y"
         },
         {
          "showarrow": false,
          "text": "0.06",
          "x": 16,
          "xref": "x",
          "y": "Elec_PowerPlugsInstBR3",
          "yref": "y"
         },
         {
          "showarrow": false,
          "text": "",
          "x": 17,
          "xref": "x",
          "y": "Elec_PowerPlugsInstBR3",
          "yref": "y"
         },
         {
          "showarrow": false,
          "text": "",
          "x": 18,
          "xref": "x",
          "y": "Elec_PowerPlugsInstBR3",
          "yref": "y"
         },
         {
          "showarrow": false,
          "text": "0.24",
          "x": 19,
          "xref": "x",
          "y": "Elec_PowerPlugsInstBR3",
          "yref": "y"
         },
         {
          "showarrow": false,
          "text": "0.18",
          "x": 20,
          "xref": "x",
          "y": "Elec_PowerPlugsInstBR3",
          "yref": "y"
         },
         {
          "showarrow": false,
          "text": "0.06",
          "x": 21,
          "xref": "x",
          "y": "Elec_PowerPlugsInstBR3",
          "yref": "y"
         },
         {
          "showarrow": false,
          "text": "0.06",
          "x": 22,
          "xref": "x",
          "y": "Elec_PowerPlugsInstBR3",
          "yref": "y"
         },
         {
          "showarrow": false,
          "text": "0.06",
          "x": 23,
          "xref": "x",
          "y": "Elec_PowerPlugsInstBR3",
          "yref": "y"
         },
         {
          "showarrow": false,
          "text": "0.98",
          "x": 0,
          "xref": "x",
          "y": "Elec_PowerChildAUpstairs",
          "yref": "y"
         },
         {
          "showarrow": false,
          "text": "0.99",
          "x": 1,
          "xref": "x",
          "y": "Elec_PowerChildAUpstairs",
          "yref": "y"
         },
         {
          "showarrow": false,
          "text": "0.98",
          "x": 2,
          "xref": "x",
          "y": "Elec_PowerChildAUpstairs",
          "yref": "y"
         },
         {
          "showarrow": false,
          "text": "0.98",
          "x": 3,
          "xref": "x",
          "y": "Elec_PowerChildAUpstairs",
          "yref": "y"
         },
         {
          "showarrow": false,
          "text": "0.98",
          "x": 4,
          "xref": "x",
          "y": "Elec_PowerChildAUpstairs",
          "yref": "y"
         },
         {
          "showarrow": false,
          "text": "0.98",
          "x": 5,
          "xref": "x",
          "y": "Elec_PowerChildAUpstairs",
          "yref": "y"
         },
         {
          "showarrow": false,
          "text": "0.98",
          "x": 6,
          "xref": "x",
          "y": "Elec_PowerChildAUpstairs",
          "yref": "y"
         },
         {
          "showarrow": false,
          "text": "0.31",
          "x": 7,
          "xref": "x",
          "y": "Elec_PowerChildAUpstairs",
          "yref": "y"
         },
         {
          "showarrow": false,
          "text": "0.28",
          "x": 8,
          "xref": "x",
          "y": "Elec_PowerChildAUpstairs",
          "yref": "y"
         },
         {
          "showarrow": false,
          "text": "0.15",
          "x": 9,
          "xref": "x",
          "y": "Elec_PowerChildAUpstairs",
          "yref": "y"
         },
         {
          "showarrow": false,
          "text": "0.13",
          "x": 10,
          "xref": "x",
          "y": "Elec_PowerChildAUpstairs",
          "yref": "y"
         },
         {
          "showarrow": false,
          "text": "0.28",
          "x": 11,
          "xref": "x",
          "y": "Elec_PowerChildAUpstairs",
          "yref": "y"
         },
         {
          "showarrow": false,
          "text": "0.28",
          "x": 12,
          "xref": "x",
          "y": "Elec_PowerChildAUpstairs",
          "yref": "y"
         },
         {
          "showarrow": false,
          "text": "0.01",
          "x": 13,
          "xref": "x",
          "y": "Elec_PowerChildAUpstairs",
          "yref": "y"
         },
         {
          "showarrow": false,
          "text": "",
          "x": 14,
          "xref": "x",
          "y": "Elec_PowerChildAUpstairs",
          "yref": "y"
         },
         {
          "showarrow": false,
          "text": "",
          "x": 15,
          "xref": "x",
          "y": "Elec_PowerChildAUpstairs",
          "yref": "y"
         },
         {
          "showarrow": false,
          "text": "0.29",
          "x": 16,
          "xref": "x",
          "y": "Elec_PowerChildAUpstairs",
          "yref": "y"
         },
         {
          "showarrow": false,
          "text": "0.59",
          "x": 17,
          "xref": "x",
          "y": "Elec_PowerChildAUpstairs",
          "yref": "y"
         },
         {
          "showarrow": false,
          "text": "1.0",
          "x": 18,
          "xref": "x",
          "y": "Elec_PowerChildAUpstairs",
          "yref": "y"
         },
         {
          "showarrow": false,
          "text": "1.0",
          "x": 19,
          "xref": "x",
          "y": "Elec_PowerChildAUpstairs",
          "yref": "y"
         },
         {
          "showarrow": false,
          "text": "0.86",
          "x": 20,
          "xref": "x",
          "y": "Elec_PowerChildAUpstairs",
          "yref": "y"
         },
         {
          "showarrow": false,
          "text": "0.71",
          "x": 21,
          "xref": "x",
          "y": "Elec_PowerChildAUpstairs",
          "yref": "y"
         },
         {
          "showarrow": false,
          "text": "0.85",
          "x": 22,
          "xref": "x",
          "y": "Elec_PowerChildAUpstairs",
          "yref": "y"
         },
         {
          "showarrow": false,
          "text": "1.0",
          "x": 23,
          "xref": "x",
          "y": "Elec_PowerChildAUpstairs",
          "yref": "y"
         },
         {
          "showarrow": false,
          "text": "0.98",
          "x": 0,
          "xref": "x",
          "y": "Elec_PowerChildBUpstairs",
          "yref": "y"
         },
         {
          "showarrow": false,
          "text": "0.99",
          "x": 1,
          "xref": "x",
          "y": "Elec_PowerChildBUpstairs",
          "yref": "y"
         },
         {
          "showarrow": false,
          "text": "0.98",
          "x": 2,
          "xref": "x",
          "y": "Elec_PowerChildBUpstairs",
          "yref": "y"
         },
         {
          "showarrow": false,
          "text": "0.98",
          "x": 3,
          "xref": "x",
          "y": "Elec_PowerChildBUpstairs",
          "yref": "y"
         },
         {
          "showarrow": false,
          "text": "0.98",
          "x": 4,
          "xref": "x",
          "y": "Elec_PowerChildBUpstairs",
          "yref": "y"
         },
         {
          "showarrow": false,
          "text": "0.98",
          "x": 5,
          "xref": "x",
          "y": "Elec_PowerChildBUpstairs",
          "yref": "y"
         },
         {
          "showarrow": false,
          "text": "0.98",
          "x": 6,
          "xref": "x",
          "y": "Elec_PowerChildBUpstairs",
          "yref": "y"
         },
         {
          "showarrow": false,
          "text": "0.32",
          "x": 7,
          "xref": "x",
          "y": "Elec_PowerChildBUpstairs",
          "yref": "y"
         },
         {
          "showarrow": false,
          "text": "0.28",
          "x": 8,
          "xref": "x",
          "y": "Elec_PowerChildBUpstairs",
          "yref": "y"
         },
         {
          "showarrow": false,
          "text": "0.03",
          "x": 9,
          "xref": "x",
          "y": "Elec_PowerChildBUpstairs",
          "yref": "y"
         },
         {
          "showarrow": false,
          "text": "",
          "x": 10,
          "xref": "x",
          "y": "Elec_PowerChildBUpstairs",
          "yref": "y"
         },
         {
          "showarrow": false,
          "text": "",
          "x": 11,
          "xref": "x",
          "y": "Elec_PowerChildBUpstairs",
          "yref": "y"
         },
         {
          "showarrow": false,
          "text": "0.28",
          "x": 12,
          "xref": "x",
          "y": "Elec_PowerChildBUpstairs",
          "yref": "y"
         },
         {
          "showarrow": false,
          "text": "0.02",
          "x": 13,
          "xref": "x",
          "y": "Elec_PowerChildBUpstairs",
          "yref": "y"
         },
         {
          "showarrow": false,
          "text": "",
          "x": 14,
          "xref": "x",
          "y": "Elec_PowerChildBUpstairs",
          "yref": "y"
         },
         {
          "showarrow": false,
          "text": "",
          "x": 15,
          "xref": "x",
          "y": "Elec_PowerChildBUpstairs",
          "yref": "y"
         },
         {
          "showarrow": false,
          "text": "",
          "x": 16,
          "xref": "x",
          "y": "Elec_PowerChildBUpstairs",
          "yref": "y"
         },
         {
          "showarrow": false,
          "text": "0.06",
          "x": 17,
          "xref": "x",
          "y": "Elec_PowerChildBUpstairs",
          "yref": "y"
         },
         {
          "showarrow": false,
          "text": "1.0",
          "x": 18,
          "xref": "x",
          "y": "Elec_PowerChildBUpstairs",
          "yref": "y"
         },
         {
          "showarrow": false,
          "text": "1.0",
          "x": 19,
          "xref": "x",
          "y": "Elec_PowerChildBUpstairs",
          "yref": "y"
         },
         {
          "showarrow": false,
          "text": "1.0",
          "x": 20,
          "xref": "x",
          "y": "Elec_PowerChildBUpstairs",
          "yref": "y"
         },
         {
          "showarrow": false,
          "text": "0.85",
          "x": 21,
          "xref": "x",
          "y": "Elec_PowerChildBUpstairs",
          "yref": "y"
         },
         {
          "showarrow": false,
          "text": "1.0",
          "x": 22,
          "xref": "x",
          "y": "Elec_PowerChildBUpstairs",
          "yref": "y"
         },
         {
          "showarrow": false,
          "text": "1.0",
          "x": 23,
          "xref": "x",
          "y": "Elec_PowerChildBUpstairs",
          "yref": "y"
         },
         {
          "showarrow": false,
          "text": "1.0",
          "x": 0,
          "xref": "x",
          "y": "Elec_PowerLightingControlPanelRPS2",
          "yref": "y"
         },
         {
          "showarrow": false,
          "text": "1.0",
          "x": 1,
          "xref": "x",
          "y": "Elec_PowerLightingControlPanelRPS2",
          "yref": "y"
         },
         {
          "showarrow": false,
          "text": "",
          "x": 2,
          "xref": "x",
          "y": "Elec_PowerLightingControlPanelRPS2",
          "yref": "y"
         },
         {
          "showarrow": false,
          "text": "0.25",
          "x": 3,
          "xref": "x",
          "y": "Elec_PowerLightingControlPanelRPS2",
          "yref": "y"
         },
         {
          "showarrow": false,
          "text": "0.25",
          "x": 4,
          "xref": "x",
          "y": "Elec_PowerLightingControlPanelRPS2",
          "yref": "y"
         },
         {
          "showarrow": false,
          "text": "0.25",
          "x": 5,
          "xref": "x",
          "y": "Elec_PowerLightingControlPanelRPS2",
          "yref": "y"
         },
         {
          "showarrow": false,
          "text": "0.25",
          "x": 6,
          "xref": "x",
          "y": "Elec_PowerLightingControlPanelRPS2",
          "yref": "y"
         },
         {
          "showarrow": false,
          "text": "0.25",
          "x": 7,
          "xref": "x",
          "y": "Elec_PowerLightingControlPanelRPS2",
          "yref": "y"
         },
         {
          "showarrow": false,
          "text": "0.75",
          "x": 8,
          "xref": "x",
          "y": "Elec_PowerLightingControlPanelRPS2",
          "yref": "y"
         },
         {
          "showarrow": false,
          "text": "0.75",
          "x": 9,
          "xref": "x",
          "y": "Elec_PowerLightingControlPanelRPS2",
          "yref": "y"
         },
         {
          "showarrow": false,
          "text": "0.75",
          "x": 10,
          "xref": "x",
          "y": "Elec_PowerLightingControlPanelRPS2",
          "yref": "y"
         },
         {
          "showarrow": false,
          "text": "0.75",
          "x": 11,
          "xref": "x",
          "y": "Elec_PowerLightingControlPanelRPS2",
          "yref": "y"
         },
         {
          "showarrow": false,
          "text": "0.75",
          "x": 12,
          "xref": "x",
          "y": "Elec_PowerLightingControlPanelRPS2",
          "yref": "y"
         },
         {
          "showarrow": false,
          "text": "0.75",
          "x": 13,
          "xref": "x",
          "y": "Elec_PowerLightingControlPanelRPS2",
          "yref": "y"
         },
         {
          "showarrow": false,
          "text": "0.25",
          "x": 14,
          "xref": "x",
          "y": "Elec_PowerLightingControlPanelRPS2",
          "yref": "y"
         },
         {
          "showarrow": false,
          "text": "0.25",
          "x": 15,
          "xref": "x",
          "y": "Elec_PowerLightingControlPanelRPS2",
          "yref": "y"
         },
         {
          "showarrow": false,
          "text": "0.5",
          "x": 16,
          "xref": "x",
          "y": "Elec_PowerLightingControlPanelRPS2",
          "yref": "y"
         },
         {
          "showarrow": false,
          "text": "0.75",
          "x": 17,
          "xref": "x",
          "y": "Elec_PowerLightingControlPanelRPS2",
          "yref": "y"
         },
         {
          "showarrow": false,
          "text": "0.75",
          "x": 18,
          "xref": "x",
          "y": "Elec_PowerLightingControlPanelRPS2",
          "yref": "y"
         },
         {
          "showarrow": false,
          "text": "0.75",
          "x": 19,
          "xref": "x",
          "y": "Elec_PowerLightingControlPanelRPS2",
          "yref": "y"
         },
         {
          "showarrow": false,
          "text": "0.75",
          "x": 20,
          "xref": "x",
          "y": "Elec_PowerLightingControlPanelRPS2",
          "yref": "y"
         },
         {
          "showarrow": false,
          "text": "0.75",
          "x": 21,
          "xref": "x",
          "y": "Elec_PowerLightingControlPanelRPS2",
          "yref": "y"
         },
         {
          "showarrow": false,
          "text": "0.75",
          "x": 22,
          "xref": "x",
          "y": "Elec_PowerLightingControlPanelRPS2",
          "yref": "y"
         },
         {
          "showarrow": false,
          "text": "0.75",
          "x": 23,
          "xref": "x",
          "y": "Elec_PowerLightingControlPanelRPS2",
          "yref": "y"
         },
         {
          "showarrow": false,
          "text": "",
          "x": 0,
          "xref": "x",
          "y": "Elec_PowerLightsBasement",
          "yref": "y"
         },
         {
          "showarrow": false,
          "text": "",
          "x": 1,
          "xref": "x",
          "y": "Elec_PowerLightsBasement",
          "yref": "y"
         },
         {
          "showarrow": false,
          "text": "",
          "x": 2,
          "xref": "x",
          "y": "Elec_PowerLightsBasement",
          "yref": "y"
         },
         {
          "showarrow": false,
          "text": "",
          "x": 3,
          "xref": "x",
          "y": "Elec_PowerLightsBasement",
          "yref": "y"
         },
         {
          "showarrow": false,
          "text": "",
          "x": 4,
          "xref": "x",
          "y": "Elec_PowerLightsBasement",
          "yref": "y"
         },
         {
          "showarrow": false,
          "text": "0.02",
          "x": 5,
          "xref": "x",
          "y": "Elec_PowerLightsBasement",
          "yref": "y"
         },
         {
          "showarrow": false,
          "text": "0.04",
          "x": 6,
          "xref": "x",
          "y": "Elec_PowerLightsBasement",
          "yref": "y"
         },
         {
          "showarrow": false,
          "text": "0.22",
          "x": 7,
          "xref": "x",
          "y": "Elec_PowerLightsBasement",
          "yref": "y"
         },
         {
          "showarrow": false,
          "text": "0.68",
          "x": 8,
          "xref": "x",
          "y": "Elec_PowerLightsBasement",
          "yref": "y"
         },
         {
          "showarrow": false,
          "text": "0.78",
          "x": 9,
          "xref": "x",
          "y": "Elec_PowerLightsBasement",
          "yref": "y"
         },
         {
          "showarrow": false,
          "text": "0.97",
          "x": 10,
          "xref": "x",
          "y": "Elec_PowerLightsBasement",
          "yref": "y"
         },
         {
          "showarrow": false,
          "text": "0.79",
          "x": 11,
          "xref": "x",
          "y": "Elec_PowerLightsBasement",
          "yref": "y"
         },
         {
          "showarrow": false,
          "text": "0.43",
          "x": 12,
          "xref": "x",
          "y": "Elec_PowerLightsBasement",
          "yref": "y"
         },
         {
          "showarrow": false,
          "text": "0.69",
          "x": 13,
          "xref": "x",
          "y": "Elec_PowerLightsBasement",
          "yref": "y"
         },
         {
          "showarrow": false,
          "text": "1.0",
          "x": 14,
          "xref": "x",
          "y": "Elec_PowerLightsBasement",
          "yref": "y"
         },
         {
          "showarrow": false,
          "text": "0.97",
          "x": 15,
          "xref": "x",
          "y": "Elec_PowerLightsBasement",
          "yref": "y"
         },
         {
          "showarrow": false,
          "text": "0.58",
          "x": 16,
          "xref": "x",
          "y": "Elec_PowerLightsBasement",
          "yref": "y"
         },
         {
          "showarrow": false,
          "text": "0.29",
          "x": 17,
          "xref": "x",
          "y": "Elec_PowerLightsBasement",
          "yref": "y"
         },
         {
          "showarrow": false,
          "text": "0.06",
          "x": 18,
          "xref": "x",
          "y": "Elec_PowerLightsBasement",
          "yref": "y"
         },
         {
          "showarrow": false,
          "text": "0.02",
          "x": 19,
          "xref": "x",
          "y": "Elec_PowerLightsBasement",
          "yref": "y"
         },
         {
          "showarrow": false,
          "text": "",
          "x": 20,
          "xref": "x",
          "y": "Elec_PowerLightsBasement",
          "yref": "y"
         },
         {
          "showarrow": false,
          "text": "0.01",
          "x": 21,
          "xref": "x",
          "y": "Elec_PowerLightsBasement",
          "yref": "y"
         },
         {
          "showarrow": false,
          "text": "0.01",
          "x": 22,
          "xref": "x",
          "y": "Elec_PowerLightsBasement",
          "yref": "y"
         },
         {
          "showarrow": false,
          "text": "",
          "x": 23,
          "xref": "x",
          "y": "Elec_PowerLightsBasement",
          "yref": "y"
         },
         {
          "showarrow": false,
          "text": "0.99",
          "x": 0,
          "xref": "x",
          "y": "Elec_PowerParentBUpstairs",
          "yref": "y"
         },
         {
          "showarrow": false,
          "text": "0.99",
          "x": 1,
          "xref": "x",
          "y": "Elec_PowerParentBUpstairs",
          "yref": "y"
         },
         {
          "showarrow": false,
          "text": "0.98",
          "x": 2,
          "xref": "x",
          "y": "Elec_PowerParentBUpstairs",
          "yref": "y"
         },
         {
          "showarrow": false,
          "text": "0.98",
          "x": 3,
          "xref": "x",
          "y": "Elec_PowerParentBUpstairs",
          "yref": "y"
         },
         {
          "showarrow": false,
          "text": "0.98",
          "x": 4,
          "xref": "x",
          "y": "Elec_PowerParentBUpstairs",
          "yref": "y"
         },
         {
          "showarrow": false,
          "text": "0.98",
          "x": 5,
          "xref": "x",
          "y": "Elec_PowerParentBUpstairs",
          "yref": "y"
         },
         {
          "showarrow": false,
          "text": "1.0",
          "x": 6,
          "xref": "x",
          "y": "Elec_PowerParentBUpstairs",
          "yref": "y"
         },
         {
          "showarrow": false,
          "text": "0.32",
          "x": 7,
          "xref": "x",
          "y": "Elec_PowerParentBUpstairs",
          "yref": "y"
         },
         {
          "showarrow": false,
          "text": "0.29",
          "x": 8,
          "xref": "x",
          "y": "Elec_PowerParentBUpstairs",
          "yref": "y"
         },
         {
          "showarrow": false,
          "text": "0.14",
          "x": 9,
          "xref": "x",
          "y": "Elec_PowerParentBUpstairs",
          "yref": "y"
         },
         {
          "showarrow": false,
          "text": "0.29",
          "x": 10,
          "xref": "x",
          "y": "Elec_PowerParentBUpstairs",
          "yref": "y"
         },
         {
          "showarrow": false,
          "text": "0.02",
          "x": 11,
          "xref": "x",
          "y": "Elec_PowerParentBUpstairs",
          "yref": "y"
         },
         {
          "showarrow": false,
          "text": "0.01",
          "x": 12,
          "xref": "x",
          "y": "Elec_PowerParentBUpstairs",
          "yref": "y"
         },
         {
          "showarrow": false,
          "text": "0.01",
          "x": 13,
          "xref": "x",
          "y": "Elec_PowerParentBUpstairs",
          "yref": "y"
         },
         {
          "showarrow": false,
          "text": "0.01",
          "x": 14,
          "xref": "x",
          "y": "Elec_PowerParentBUpstairs",
          "yref": "y"
         },
         {
          "showarrow": false,
          "text": "0.01",
          "x": 15,
          "xref": "x",
          "y": "Elec_PowerParentBUpstairs",
          "yref": "y"
         },
         {
          "showarrow": false,
          "text": "",
          "x": 16,
          "xref": "x",
          "y": "Elec_PowerParentBUpstairs",
          "yref": "y"
         },
         {
          "showarrow": false,
          "text": "0.06",
          "x": 17,
          "xref": "x",
          "y": "Elec_PowerParentBUpstairs",
          "yref": "y"
         },
         {
          "showarrow": false,
          "text": "0.14",
          "x": 18,
          "xref": "x",
          "y": "Elec_PowerParentBUpstairs",
          "yref": "y"
         },
         {
          "showarrow": false,
          "text": "0.01",
          "x": 19,
          "xref": "x",
          "y": "Elec_PowerParentBUpstairs",
          "yref": "y"
         },
         {
          "showarrow": false,
          "text": "",
          "x": 20,
          "xref": "x",
          "y": "Elec_PowerParentBUpstairs",
          "yref": "y"
         },
         {
          "showarrow": false,
          "text": "0.33",
          "x": 21,
          "xref": "x",
          "y": "Elec_PowerParentBUpstairs",
          "yref": "y"
         },
         {
          "showarrow": false,
          "text": "0.72",
          "x": 22,
          "xref": "x",
          "y": "Elec_PowerParentBUpstairs",
          "yref": "y"
         },
         {
          "showarrow": false,
          "text": "1.0",
          "x": 23,
          "xref": "x",
          "y": "Elec_PowerParentBUpstairs",
          "yref": "y"
         },
         {
          "showarrow": false,
          "text": "",
          "x": 0,
          "xref": "x",
          "y": "Elec_PowerParentBDownstairs",
          "yref": "y"
         },
         {
          "showarrow": false,
          "text": "",
          "x": 1,
          "xref": "x",
          "y": "Elec_PowerParentBDownstairs",
          "yref": "y"
         },
         {
          "showarrow": false,
          "text": "",
          "x": 2,
          "xref": "x",
          "y": "Elec_PowerParentBDownstairs",
          "yref": "y"
         },
         {
          "showarrow": false,
          "text": "",
          "x": 3,
          "xref": "x",
          "y": "Elec_PowerParentBDownstairs",
          "yref": "y"
         },
         {
          "showarrow": false,
          "text": "",
          "x": 4,
          "xref": "x",
          "y": "Elec_PowerParentBDownstairs",
          "yref": "y"
         },
         {
          "showarrow": false,
          "text": "0.33",
          "x": 5,
          "xref": "x",
          "y": "Elec_PowerParentBDownstairs",
          "yref": "y"
         },
         {
          "showarrow": false,
          "text": "0.71",
          "x": 6,
          "xref": "x",
          "y": "Elec_PowerParentBDownstairs",
          "yref": "y"
         },
         {
          "showarrow": false,
          "text": "0.71",
          "x": 7,
          "xref": "x",
          "y": "Elec_PowerParentBDownstairs",
          "yref": "y"
         },
         {
          "showarrow": false,
          "text": "0.99",
          "x": 8,
          "xref": "x",
          "y": "Elec_PowerParentBDownstairs",
          "yref": "y"
         },
         {
          "showarrow": false,
          "text": "0.28",
          "x": 9,
          "xref": "x",
          "y": "Elec_PowerParentBDownstairs",
          "yref": "y"
         },
         {
          "showarrow": false,
          "text": "0.15",
          "x": 10,
          "xref": "x",
          "y": "Elec_PowerParentBDownstairs",
          "yref": "y"
         },
         {
          "showarrow": false,
          "text": "0.28",
          "x": 11,
          "xref": "x",
          "y": "Elec_PowerParentBDownstairs",
          "yref": "y"
         },
         {
          "showarrow": false,
          "text": "0.28",
          "x": 12,
          "xref": "x",
          "y": "Elec_PowerParentBDownstairs",
          "yref": "y"
         },
         {
          "showarrow": false,
          "text": "0.28",
          "x": 13,
          "xref": "x",
          "y": "Elec_PowerParentBDownstairs",
          "yref": "y"
         },
         {
          "showarrow": false,
          "text": "0.28",
          "x": 14,
          "xref": "x",
          "y": "Elec_PowerParentBDownstairs",
          "yref": "y"
         },
         {
          "showarrow": false,
          "text": "",
          "x": 15,
          "xref": "x",
          "y": "Elec_PowerParentBDownstairs",
          "yref": "y"
         },
         {
          "showarrow": false,
          "text": "0.13",
          "x": 16,
          "xref": "x",
          "y": "Elec_PowerParentBDownstairs",
          "yref": "y"
         },
         {
          "showarrow": false,
          "text": "0.57",
          "x": 17,
          "xref": "x",
          "y": "Elec_PowerParentBDownstairs",
          "yref": "y"
         },
         {
          "showarrow": false,
          "text": "0.93",
          "x": 18,
          "xref": "x",
          "y": "Elec_PowerParentBDownstairs",
          "yref": "y"
         },
         {
          "showarrow": false,
          "text": "1.0",
          "x": 19,
          "xref": "x",
          "y": "Elec_PowerParentBDownstairs",
          "yref": "y"
         },
         {
          "showarrow": false,
          "text": "1.0",
          "x": 20,
          "xref": "x",
          "y": "Elec_PowerParentBDownstairs",
          "yref": "y"
         },
         {
          "showarrow": false,
          "text": "1.0",
          "x": 21,
          "xref": "x",
          "y": "Elec_PowerParentBDownstairs",
          "yref": "y"
         },
         {
          "showarrow": false,
          "text": "0.31",
          "x": 22,
          "xref": "x",
          "y": "Elec_PowerParentBDownstairs",
          "yref": "y"
         },
         {
          "showarrow": false,
          "text": "0.28",
          "x": 23,
          "xref": "x",
          "y": "Elec_PowerParentBDownstairs",
          "yref": "y"
         },
         {
          "showarrow": false,
          "text": "0.99",
          "x": 0,
          "xref": "x",
          "y": "Elec_PowerPlugsInstKitD",
          "yref": "y"
         },
         {
          "showarrow": false,
          "text": "0.99",
          "x": 1,
          "xref": "x",
          "y": "Elec_PowerPlugsInstKitD",
          "yref": "y"
         },
         {
          "showarrow": false,
          "text": "0.98",
          "x": 2,
          "xref": "x",
          "y": "Elec_PowerPlugsInstKitD",
          "yref": "y"
         },
         {
          "showarrow": false,
          "text": "0.98",
          "x": 3,
          "xref": "x",
          "y": "Elec_PowerPlugsInstKitD",
          "yref": "y"
         },
         {
          "showarrow": false,
          "text": "0.98",
          "x": 4,
          "xref": "x",
          "y": "Elec_PowerPlugsInstKitD",
          "yref": "y"
         },
         {
          "showarrow": false,
          "text": "0.98",
          "x": 5,
          "xref": "x",
          "y": "Elec_PowerPlugsInstKitD",
          "yref": "y"
         },
         {
          "showarrow": false,
          "text": "0.97",
          "x": 6,
          "xref": "x",
          "y": "Elec_PowerPlugsInstKitD",
          "yref": "y"
         },
         {
          "showarrow": false,
          "text": "0.98",
          "x": 7,
          "xref": "x",
          "y": "Elec_PowerPlugsInstKitD",
          "yref": "y"
         },
         {
          "showarrow": false,
          "text": "0.98",
          "x": 8,
          "xref": "x",
          "y": "Elec_PowerPlugsInstKitD",
          "yref": "y"
         },
         {
          "showarrow": false,
          "text": "0.01",
          "x": 9,
          "xref": "x",
          "y": "Elec_PowerPlugsInstKitD",
          "yref": "y"
         },
         {
          "showarrow": false,
          "text": "",
          "x": 10,
          "xref": "x",
          "y": "Elec_PowerPlugsInstKitD",
          "yref": "y"
         },
         {
          "showarrow": false,
          "text": "0.01",
          "x": 11,
          "xref": "x",
          "y": "Elec_PowerPlugsInstKitD",
          "yref": "y"
         },
         {
          "showarrow": false,
          "text": "0.02",
          "x": 12,
          "xref": "x",
          "y": "Elec_PowerPlugsInstKitD",
          "yref": "y"
         },
         {
          "showarrow": false,
          "text": "0.03",
          "x": 13,
          "xref": "x",
          "y": "Elec_PowerPlugsInstKitD",
          "yref": "y"
         },
         {
          "showarrow": false,
          "text": "0.03",
          "x": 14,
          "xref": "x",
          "y": "Elec_PowerPlugsInstKitD",
          "yref": "y"
         },
         {
          "showarrow": false,
          "text": "0.49",
          "x": 15,
          "xref": "x",
          "y": "Elec_PowerPlugsInstKitD",
          "yref": "y"
         },
         {
          "showarrow": false,
          "text": "0.99",
          "x": 16,
          "xref": "x",
          "y": "Elec_PowerPlugsInstKitD",
          "yref": "y"
         },
         {
          "showarrow": false,
          "text": "1.0",
          "x": 17,
          "xref": "x",
          "y": "Elec_PowerPlugsInstKitD",
          "yref": "y"
         },
         {
          "showarrow": false,
          "text": "1.0",
          "x": 18,
          "xref": "x",
          "y": "Elec_PowerPlugsInstKitD",
          "yref": "y"
         },
         {
          "showarrow": false,
          "text": "1.0",
          "x": 19,
          "xref": "x",
          "y": "Elec_PowerPlugsInstKitD",
          "yref": "y"
         },
         {
          "showarrow": false,
          "text": "1.0",
          "x": 20,
          "xref": "x",
          "y": "Elec_PowerPlugsInstKitD",
          "yref": "y"
         },
         {
          "showarrow": false,
          "text": "1.0",
          "x": 21,
          "xref": "x",
          "y": "Elec_PowerPlugsInstKitD",
          "yref": "y"
         },
         {
          "showarrow": false,
          "text": "1.0",
          "x": 22,
          "xref": "x",
          "y": "Elec_PowerPlugsInstKitD",
          "yref": "y"
         },
         {
          "showarrow": false,
          "text": "1.0",
          "x": 23,
          "xref": "x",
          "y": "Elec_PowerPlugsInstKitD",
          "yref": "y"
         },
         {
          "showarrow": false,
          "text": "",
          "x": 0,
          "xref": "x",
          "y": "Elec_PowerPlugsDRB",
          "yref": "y"
         },
         {
          "showarrow": false,
          "text": "",
          "x": 1,
          "xref": "x",
          "y": "Elec_PowerPlugsDRB",
          "yref": "y"
         },
         {
          "showarrow": false,
          "text": "",
          "x": 2,
          "xref": "x",
          "y": "Elec_PowerPlugsDRB",
          "yref": "y"
         },
         {
          "showarrow": false,
          "text": "",
          "x": 3,
          "xref": "x",
          "y": "Elec_PowerPlugsDRB",
          "yref": "y"
         },
         {
          "showarrow": false,
          "text": "",
          "x": 4,
          "xref": "x",
          "y": "Elec_PowerPlugsDRB",
          "yref": "y"
         },
         {
          "showarrow": false,
          "text": "",
          "x": 5,
          "xref": "x",
          "y": "Elec_PowerPlugsDRB",
          "yref": "y"
         },
         {
          "showarrow": false,
          "text": "",
          "x": 6,
          "xref": "x",
          "y": "Elec_PowerPlugsDRB",
          "yref": "y"
         },
         {
          "showarrow": false,
          "text": "",
          "x": 7,
          "xref": "x",
          "y": "Elec_PowerPlugsDRB",
          "yref": "y"
         },
         {
          "showarrow": false,
          "text": "0.55",
          "x": 8,
          "xref": "x",
          "y": "Elec_PowerPlugsDRB",
          "yref": "y"
         },
         {
          "showarrow": false,
          "text": "1.0",
          "x": 9,
          "xref": "x",
          "y": "Elec_PowerPlugsDRB",
          "yref": "y"
         },
         {
          "showarrow": false,
          "text": "0.82",
          "x": 10,
          "xref": "x",
          "y": "Elec_PowerPlugsDRB",
          "yref": "y"
         },
         {
          "showarrow": false,
          "text": "0.18",
          "x": 11,
          "xref": "x",
          "y": "Elec_PowerPlugsDRB",
          "yref": "y"
         },
         {
          "showarrow": false,
          "text": "0.27",
          "x": 12,
          "xref": "x",
          "y": "Elec_PowerPlugsDRB",
          "yref": "y"
         },
         {
          "showarrow": false,
          "text": "0.18",
          "x": 13,
          "xref": "x",
          "y": "Elec_PowerPlugsDRB",
          "yref": "y"
         },
         {
          "showarrow": false,
          "text": "0.27",
          "x": 14,
          "xref": "x",
          "y": "Elec_PowerPlugsDRB",
          "yref": "y"
         },
         {
          "showarrow": false,
          "text": "",
          "x": 15,
          "xref": "x",
          "y": "Elec_PowerPlugsDRB",
          "yref": "y"
         },
         {
          "showarrow": false,
          "text": "",
          "x": 16,
          "xref": "x",
          "y": "Elec_PowerPlugsDRB",
          "yref": "y"
         },
         {
          "showarrow": false,
          "text": "",
          "x": 17,
          "xref": "x",
          "y": "Elec_PowerPlugsDRB",
          "yref": "y"
         },
         {
          "showarrow": false,
          "text": "",
          "x": 18,
          "xref": "x",
          "y": "Elec_PowerPlugsDRB",
          "yref": "y"
         },
         {
          "showarrow": false,
          "text": "",
          "x": 19,
          "xref": "x",
          "y": "Elec_PowerPlugsDRB",
          "yref": "y"
         },
         {
          "showarrow": false,
          "text": "",
          "x": 20,
          "xref": "x",
          "y": "Elec_PowerPlugsDRB",
          "yref": "y"
         },
         {
          "showarrow": false,
          "text": "",
          "x": 21,
          "xref": "x",
          "y": "Elec_PowerPlugsDRB",
          "yref": "y"
         },
         {
          "showarrow": false,
          "text": "",
          "x": 22,
          "xref": "x",
          "y": "Elec_PowerPlugsDRB",
          "yref": "y"
         },
         {
          "showarrow": false,
          "text": "",
          "x": 23,
          "xref": "x",
          "y": "Elec_PowerPlugsDRB",
          "yref": "y"
         },
         {
          "showarrow": false,
          "text": "",
          "x": 0,
          "xref": "x",
          "y": "Elec_PowerPlugsAttic",
          "yref": "y"
         },
         {
          "showarrow": false,
          "text": "",
          "x": 1,
          "xref": "x",
          "y": "Elec_PowerPlugsAttic",
          "yref": "y"
         },
         {
          "showarrow": false,
          "text": "",
          "x": 2,
          "xref": "x",
          "y": "Elec_PowerPlugsAttic",
          "yref": "y"
         },
         {
          "showarrow": false,
          "text": "",
          "x": 3,
          "xref": "x",
          "y": "Elec_PowerPlugsAttic",
          "yref": "y"
         },
         {
          "showarrow": false,
          "text": "",
          "x": 4,
          "xref": "x",
          "y": "Elec_PowerPlugsAttic",
          "yref": "y"
         },
         {
          "showarrow": false,
          "text": "",
          "x": 5,
          "xref": "x",
          "y": "Elec_PowerPlugsAttic",
          "yref": "y"
         },
         {
          "showarrow": false,
          "text": "",
          "x": 6,
          "xref": "x",
          "y": "Elec_PowerPlugsAttic",
          "yref": "y"
         },
         {
          "showarrow": false,
          "text": "",
          "x": 7,
          "xref": "x",
          "y": "Elec_PowerPlugsAttic",
          "yref": "y"
         },
         {
          "showarrow": false,
          "text": "",
          "x": 8,
          "xref": "x",
          "y": "Elec_PowerPlugsAttic",
          "yref": "y"
         },
         {
          "showarrow": false,
          "text": "",
          "x": 9,
          "xref": "x",
          "y": "Elec_PowerPlugsAttic",
          "yref": "y"
         },
         {
          "showarrow": false,
          "text": "",
          "x": 10,
          "xref": "x",
          "y": "Elec_PowerPlugsAttic",
          "yref": "y"
         },
         {
          "showarrow": false,
          "text": "",
          "x": 11,
          "xref": "x",
          "y": "Elec_PowerPlugsAttic",
          "yref": "y"
         },
         {
          "showarrow": false,
          "text": "",
          "x": 12,
          "xref": "x",
          "y": "Elec_PowerPlugsAttic",
          "yref": "y"
         },
         {
          "showarrow": false,
          "text": "",
          "x": 13,
          "xref": "x",
          "y": "Elec_PowerPlugsAttic",
          "yref": "y"
         },
         {
          "showarrow": false,
          "text": "",
          "x": 14,
          "xref": "x",
          "y": "Elec_PowerPlugsAttic",
          "yref": "y"
         },
         {
          "showarrow": false,
          "text": "",
          "x": 15,
          "xref": "x",
          "y": "Elec_PowerPlugsAttic",
          "yref": "y"
         },
         {
          "showarrow": false,
          "text": "",
          "x": 16,
          "xref": "x",
          "y": "Elec_PowerPlugsAttic",
          "yref": "y"
         },
         {
          "showarrow": false,
          "text": "",
          "x": 17,
          "xref": "x",
          "y": "Elec_PowerPlugsAttic",
          "yref": "y"
         },
         {
          "showarrow": false,
          "text": "",
          "x": 18,
          "xref": "x",
          "y": "Elec_PowerPlugsAttic",
          "yref": "y"
         },
         {
          "showarrow": false,
          "text": "",
          "x": 19,
          "xref": "x",
          "y": "Elec_PowerPlugsAttic",
          "yref": "y"
         },
         {
          "showarrow": false,
          "text": "",
          "x": 20,
          "xref": "x",
          "y": "Elec_PowerPlugsAttic",
          "yref": "y"
         },
         {
          "showarrow": false,
          "text": "",
          "x": 21,
          "xref": "x",
          "y": "Elec_PowerPlugsAttic",
          "yref": "y"
         },
         {
          "showarrow": false,
          "text": "1.0",
          "x": 22,
          "xref": "x",
          "y": "Elec_PowerPlugsAttic",
          "yref": "y"
         },
         {
          "showarrow": false,
          "text": "1.0",
          "x": 23,
          "xref": "x",
          "y": "Elec_PowerPlugsAttic",
          "yref": "y"
         },
         {
          "showarrow": false,
          "text": "1.0",
          "x": 0,
          "xref": "x",
          "y": "DHW_HeatPumpWaterHeaterPowerTotal",
          "yref": "y"
         },
         {
          "showarrow": false,
          "text": "1.0",
          "x": 1,
          "xref": "x",
          "y": "DHW_HeatPumpWaterHeaterPowerTotal",
          "yref": "y"
         },
         {
          "showarrow": false,
          "text": "",
          "x": 2,
          "xref": "x",
          "y": "DHW_HeatPumpWaterHeaterPowerTotal",
          "yref": "y"
         },
         {
          "showarrow": false,
          "text": "0.25",
          "x": 3,
          "xref": "x",
          "y": "DHW_HeatPumpWaterHeaterPowerTotal",
          "yref": "y"
         },
         {
          "showarrow": false,
          "text": "0.25",
          "x": 4,
          "xref": "x",
          "y": "DHW_HeatPumpWaterHeaterPowerTotal",
          "yref": "y"
         },
         {
          "showarrow": false,
          "text": "0.25",
          "x": 5,
          "xref": "x",
          "y": "DHW_HeatPumpWaterHeaterPowerTotal",
          "yref": "y"
         },
         {
          "showarrow": false,
          "text": "0.25",
          "x": 6,
          "xref": "x",
          "y": "DHW_HeatPumpWaterHeaterPowerTotal",
          "yref": "y"
         },
         {
          "showarrow": false,
          "text": "0.25",
          "x": 7,
          "xref": "x",
          "y": "DHW_HeatPumpWaterHeaterPowerTotal",
          "yref": "y"
         },
         {
          "showarrow": false,
          "text": "0.75",
          "x": 8,
          "xref": "x",
          "y": "DHW_HeatPumpWaterHeaterPowerTotal",
          "yref": "y"
         },
         {
          "showarrow": false,
          "text": "0.75",
          "x": 9,
          "xref": "x",
          "y": "DHW_HeatPumpWaterHeaterPowerTotal",
          "yref": "y"
         },
         {
          "showarrow": false,
          "text": "0.75",
          "x": 10,
          "xref": "x",
          "y": "DHW_HeatPumpWaterHeaterPowerTotal",
          "yref": "y"
         },
         {
          "showarrow": false,
          "text": "0.75",
          "x": 11,
          "xref": "x",
          "y": "DHW_HeatPumpWaterHeaterPowerTotal",
          "yref": "y"
         },
         {
          "showarrow": false,
          "text": "0.75",
          "x": 12,
          "xref": "x",
          "y": "DHW_HeatPumpWaterHeaterPowerTotal",
          "yref": "y"
         },
         {
          "showarrow": false,
          "text": "0.75",
          "x": 13,
          "xref": "x",
          "y": "DHW_HeatPumpWaterHeaterPowerTotal",
          "yref": "y"
         },
         {
          "showarrow": false,
          "text": "0.25",
          "x": 14,
          "xref": "x",
          "y": "DHW_HeatPumpWaterHeaterPowerTotal",
          "yref": "y"
         },
         {
          "showarrow": false,
          "text": "0.25",
          "x": 15,
          "xref": "x",
          "y": "DHW_HeatPumpWaterHeaterPowerTotal",
          "yref": "y"
         },
         {
          "showarrow": false,
          "text": "0.5",
          "x": 16,
          "xref": "x",
          "y": "DHW_HeatPumpWaterHeaterPowerTotal",
          "yref": "y"
         },
         {
          "showarrow": false,
          "text": "0.75",
          "x": 17,
          "xref": "x",
          "y": "DHW_HeatPumpWaterHeaterPowerTotal",
          "yref": "y"
         },
         {
          "showarrow": false,
          "text": "0.75",
          "x": 18,
          "xref": "x",
          "y": "DHW_HeatPumpWaterHeaterPowerTotal",
          "yref": "y"
         },
         {
          "showarrow": false,
          "text": "0.75",
          "x": 19,
          "xref": "x",
          "y": "DHW_HeatPumpWaterHeaterPowerTotal",
          "yref": "y"
         },
         {
          "showarrow": false,
          "text": "0.75",
          "x": 20,
          "xref": "x",
          "y": "DHW_HeatPumpWaterHeaterPowerTotal",
          "yref": "y"
         },
         {
          "showarrow": false,
          "text": "0.75",
          "x": 21,
          "xref": "x",
          "y": "DHW_HeatPumpWaterHeaterPowerTotal",
          "yref": "y"
         },
         {
          "showarrow": false,
          "text": "0.75",
          "x": 22,
          "xref": "x",
          "y": "DHW_HeatPumpWaterHeaterPowerTotal",
          "yref": "y"
         },
         {
          "showarrow": false,
          "text": "0.75",
          "x": 23,
          "xref": "x",
          "y": "DHW_HeatPumpWaterHeaterPowerTotal",
          "yref": "y"
         },
         {
          "showarrow": false,
          "text": "1.0",
          "x": 0,
          "xref": "x",
          "y": "DHW_SHWPumpsPowerWithStandby",
          "yref": "y"
         },
         {
          "showarrow": false,
          "text": "1.0",
          "x": 1,
          "xref": "x",
          "y": "DHW_SHWPumpsPowerWithStandby",
          "yref": "y"
         },
         {
          "showarrow": false,
          "text": "",
          "x": 2,
          "xref": "x",
          "y": "DHW_SHWPumpsPowerWithStandby",
          "yref": "y"
         },
         {
          "showarrow": false,
          "text": "0.25",
          "x": 3,
          "xref": "x",
          "y": "DHW_SHWPumpsPowerWithStandby",
          "yref": "y"
         },
         {
          "showarrow": false,
          "text": "0.25",
          "x": 4,
          "xref": "x",
          "y": "DHW_SHWPumpsPowerWithStandby",
          "yref": "y"
         },
         {
          "showarrow": false,
          "text": "0.25",
          "x": 5,
          "xref": "x",
          "y": "DHW_SHWPumpsPowerWithStandby",
          "yref": "y"
         },
         {
          "showarrow": false,
          "text": "0.25",
          "x": 6,
          "xref": "x",
          "y": "DHW_SHWPumpsPowerWithStandby",
          "yref": "y"
         },
         {
          "showarrow": false,
          "text": "0.25",
          "x": 7,
          "xref": "x",
          "y": "DHW_SHWPumpsPowerWithStandby",
          "yref": "y"
         },
         {
          "showarrow": false,
          "text": "0.75",
          "x": 8,
          "xref": "x",
          "y": "DHW_SHWPumpsPowerWithStandby",
          "yref": "y"
         },
         {
          "showarrow": false,
          "text": "0.75",
          "x": 9,
          "xref": "x",
          "y": "DHW_SHWPumpsPowerWithStandby",
          "yref": "y"
         },
         {
          "showarrow": false,
          "text": "0.75",
          "x": 10,
          "xref": "x",
          "y": "DHW_SHWPumpsPowerWithStandby",
          "yref": "y"
         },
         {
          "showarrow": false,
          "text": "0.75",
          "x": 11,
          "xref": "x",
          "y": "DHW_SHWPumpsPowerWithStandby",
          "yref": "y"
         },
         {
          "showarrow": false,
          "text": "0.5",
          "x": 12,
          "xref": "x",
          "y": "DHW_SHWPumpsPowerWithStandby",
          "yref": "y"
         },
         {
          "showarrow": false,
          "text": "0.5",
          "x": 13,
          "xref": "x",
          "y": "DHW_SHWPumpsPowerWithStandby",
          "yref": "y"
         },
         {
          "showarrow": false,
          "text": "",
          "x": 14,
          "xref": "x",
          "y": "DHW_SHWPumpsPowerWithStandby",
          "yref": "y"
         },
         {
          "showarrow": false,
          "text": "",
          "x": 15,
          "xref": "x",
          "y": "DHW_SHWPumpsPowerWithStandby",
          "yref": "y"
         },
         {
          "showarrow": false,
          "text": "0.25",
          "x": 16,
          "xref": "x",
          "y": "DHW_SHWPumpsPowerWithStandby",
          "yref": "y"
         },
         {
          "showarrow": false,
          "text": "0.5",
          "x": 17,
          "xref": "x",
          "y": "DHW_SHWPumpsPowerWithStandby",
          "yref": "y"
         },
         {
          "showarrow": false,
          "text": "0.5",
          "x": 18,
          "xref": "x",
          "y": "DHW_SHWPumpsPowerWithStandby",
          "yref": "y"
         },
         {
          "showarrow": false,
          "text": "0.5",
          "x": 19,
          "xref": "x",
          "y": "DHW_SHWPumpsPowerWithStandby",
          "yref": "y"
         },
         {
          "showarrow": false,
          "text": "0.5",
          "x": 20,
          "xref": "x",
          "y": "DHW_SHWPumpsPowerWithStandby",
          "yref": "y"
         },
         {
          "showarrow": false,
          "text": "0.5",
          "x": 21,
          "xref": "x",
          "y": "DHW_SHWPumpsPowerWithStandby",
          "yref": "y"
         },
         {
          "showarrow": false,
          "text": "0.5",
          "x": 22,
          "xref": "x",
          "y": "DHW_SHWPumpsPowerWithStandby",
          "yref": "y"
         },
         {
          "showarrow": false,
          "text": "0.5",
          "x": 23,
          "xref": "x",
          "y": "DHW_SHWPumpsPowerWithStandby",
          "yref": "y"
         },
         {
          "showarrow": false,
          "text": "0.75",
          "x": 0,
          "xref": "x",
          "y": "HVAC_HeatPumpIndoorUnitPower",
          "yref": "y"
         },
         {
          "showarrow": false,
          "text": "0.75",
          "x": 1,
          "xref": "x",
          "y": "HVAC_HeatPumpIndoorUnitPower",
          "yref": "y"
         },
         {
          "showarrow": false,
          "text": "",
          "x": 2,
          "xref": "x",
          "y": "HVAC_HeatPumpIndoorUnitPower",
          "yref": "y"
         },
         {
          "showarrow": false,
          "text": "0.25",
          "x": 3,
          "xref": "x",
          "y": "HVAC_HeatPumpIndoorUnitPower",
          "yref": "y"
         },
         {
          "showarrow": false,
          "text": "0.25",
          "x": 4,
          "xref": "x",
          "y": "HVAC_HeatPumpIndoorUnitPower",
          "yref": "y"
         },
         {
          "showarrow": false,
          "text": "0.25",
          "x": 5,
          "xref": "x",
          "y": "HVAC_HeatPumpIndoorUnitPower",
          "yref": "y"
         },
         {
          "showarrow": false,
          "text": "0.25",
          "x": 6,
          "xref": "x",
          "y": "HVAC_HeatPumpIndoorUnitPower",
          "yref": "y"
         },
         {
          "showarrow": false,
          "text": "0.25",
          "x": 7,
          "xref": "x",
          "y": "HVAC_HeatPumpIndoorUnitPower",
          "yref": "y"
         },
         {
          "showarrow": false,
          "text": "0.75",
          "x": 8,
          "xref": "x",
          "y": "HVAC_HeatPumpIndoorUnitPower",
          "yref": "y"
         },
         {
          "showarrow": false,
          "text": "1.0",
          "x": 9,
          "xref": "x",
          "y": "HVAC_HeatPumpIndoorUnitPower",
          "yref": "y"
         },
         {
          "showarrow": false,
          "text": "1.0",
          "x": 10,
          "xref": "x",
          "y": "HVAC_HeatPumpIndoorUnitPower",
          "yref": "y"
         },
         {
          "showarrow": false,
          "text": "0.75",
          "x": 11,
          "xref": "x",
          "y": "HVAC_HeatPumpIndoorUnitPower",
          "yref": "y"
         },
         {
          "showarrow": false,
          "text": "0.75",
          "x": 12,
          "xref": "x",
          "y": "HVAC_HeatPumpIndoorUnitPower",
          "yref": "y"
         },
         {
          "showarrow": false,
          "text": "0.75",
          "x": 13,
          "xref": "x",
          "y": "HVAC_HeatPumpIndoorUnitPower",
          "yref": "y"
         },
         {
          "showarrow": false,
          "text": "0.25",
          "x": 14,
          "xref": "x",
          "y": "HVAC_HeatPumpIndoorUnitPower",
          "yref": "y"
         },
         {
          "showarrow": false,
          "text": "0.25",
          "x": 15,
          "xref": "x",
          "y": "HVAC_HeatPumpIndoorUnitPower",
          "yref": "y"
         },
         {
          "showarrow": false,
          "text": "0.5",
          "x": 16,
          "xref": "x",
          "y": "HVAC_HeatPumpIndoorUnitPower",
          "yref": "y"
         },
         {
          "showarrow": false,
          "text": "0.5",
          "x": 17,
          "xref": "x",
          "y": "HVAC_HeatPumpIndoorUnitPower",
          "yref": "y"
         },
         {
          "showarrow": false,
          "text": "0.75",
          "x": 18,
          "xref": "x",
          "y": "HVAC_HeatPumpIndoorUnitPower",
          "yref": "y"
         },
         {
          "showarrow": false,
          "text": "0.75",
          "x": 19,
          "xref": "x",
          "y": "HVAC_HeatPumpIndoorUnitPower",
          "yref": "y"
         },
         {
          "showarrow": false,
          "text": "0.75",
          "x": 20,
          "xref": "x",
          "y": "HVAC_HeatPumpIndoorUnitPower",
          "yref": "y"
         },
         {
          "showarrow": false,
          "text": "0.75",
          "x": 21,
          "xref": "x",
          "y": "HVAC_HeatPumpIndoorUnitPower",
          "yref": "y"
         },
         {
          "showarrow": false,
          "text": "0.75",
          "x": 22,
          "xref": "x",
          "y": "HVAC_HeatPumpIndoorUnitPower",
          "yref": "y"
         },
         {
          "showarrow": false,
          "text": "0.5",
          "x": 23,
          "xref": "x",
          "y": "HVAC_HeatPumpIndoorUnitPower",
          "yref": "y"
         },
         {
          "showarrow": false,
          "text": "1.0",
          "x": 0,
          "xref": "x",
          "y": "HVAC_HeatPumpOutdoorUnitPower",
          "yref": "y"
         },
         {
          "showarrow": false,
          "text": "1.0",
          "x": 1,
          "xref": "x",
          "y": "HVAC_HeatPumpOutdoorUnitPower",
          "yref": "y"
         },
         {
          "showarrow": false,
          "text": "",
          "x": 2,
          "xref": "x",
          "y": "HVAC_HeatPumpOutdoorUnitPower",
          "yref": "y"
         },
         {
          "showarrow": false,
          "text": "0.33",
          "x": 3,
          "xref": "x",
          "y": "HVAC_HeatPumpOutdoorUnitPower",
          "yref": "y"
         },
         {
          "showarrow": false,
          "text": "0.33",
          "x": 4,
          "xref": "x",
          "y": "HVAC_HeatPumpOutdoorUnitPower",
          "yref": "y"
         },
         {
          "showarrow": false,
          "text": "0.33",
          "x": 5,
          "xref": "x",
          "y": "HVAC_HeatPumpOutdoorUnitPower",
          "yref": "y"
         },
         {
          "showarrow": false,
          "text": "0.33",
          "x": 6,
          "xref": "x",
          "y": "HVAC_HeatPumpOutdoorUnitPower",
          "yref": "y"
         },
         {
          "showarrow": false,
          "text": "0.33",
          "x": 7,
          "xref": "x",
          "y": "HVAC_HeatPumpOutdoorUnitPower",
          "yref": "y"
         },
         {
          "showarrow": false,
          "text": "1.0",
          "x": 8,
          "xref": "x",
          "y": "HVAC_HeatPumpOutdoorUnitPower",
          "yref": "y"
         },
         {
          "showarrow": false,
          "text": "1.0",
          "x": 9,
          "xref": "x",
          "y": "HVAC_HeatPumpOutdoorUnitPower",
          "yref": "y"
         },
         {
          "showarrow": false,
          "text": "1.0",
          "x": 10,
          "xref": "x",
          "y": "HVAC_HeatPumpOutdoorUnitPower",
          "yref": "y"
         },
         {
          "showarrow": false,
          "text": "0.67",
          "x": 11,
          "xref": "x",
          "y": "HVAC_HeatPumpOutdoorUnitPower",
          "yref": "y"
         },
         {
          "showarrow": false,
          "text": "0.67",
          "x": 12,
          "xref": "x",
          "y": "HVAC_HeatPumpOutdoorUnitPower",
          "yref": "y"
         },
         {
          "showarrow": false,
          "text": "0.67",
          "x": 13,
          "xref": "x",
          "y": "HVAC_HeatPumpOutdoorUnitPower",
          "yref": "y"
         },
         {
          "showarrow": false,
          "text": "",
          "x": 14,
          "xref": "x",
          "y": "HVAC_HeatPumpOutdoorUnitPower",
          "yref": "y"
         },
         {
          "showarrow": false,
          "text": "",
          "x": 15,
          "xref": "x",
          "y": "HVAC_HeatPumpOutdoorUnitPower",
          "yref": "y"
         },
         {
          "showarrow": false,
          "text": "0.33",
          "x": 16,
          "xref": "x",
          "y": "HVAC_HeatPumpOutdoorUnitPower",
          "yref": "y"
         },
         {
          "showarrow": false,
          "text": "0.67",
          "x": 17,
          "xref": "x",
          "y": "HVAC_HeatPumpOutdoorUnitPower",
          "yref": "y"
         },
         {
          "showarrow": false,
          "text": "0.67",
          "x": 18,
          "xref": "x",
          "y": "HVAC_HeatPumpOutdoorUnitPower",
          "yref": "y"
         },
         {
          "showarrow": false,
          "text": "0.67",
          "x": 19,
          "xref": "x",
          "y": "HVAC_HeatPumpOutdoorUnitPower",
          "yref": "y"
         },
         {
          "showarrow": false,
          "text": "0.67",
          "x": 20,
          "xref": "x",
          "y": "HVAC_HeatPumpOutdoorUnitPower",
          "yref": "y"
         },
         {
          "showarrow": false,
          "text": "0.67",
          "x": 21,
          "xref": "x",
          "y": "HVAC_HeatPumpOutdoorUnitPower",
          "yref": "y"
         },
         {
          "showarrow": false,
          "text": "0.67",
          "x": 22,
          "xref": "x",
          "y": "HVAC_HeatPumpOutdoorUnitPower",
          "yref": "y"
         },
         {
          "showarrow": false,
          "text": "0.33",
          "x": 23,
          "xref": "x",
          "y": "HVAC_HeatPumpOutdoorUnitPower",
          "yref": "y"
         },
         {
          "showarrow": false,
          "text": "nan",
          "x": 0,
          "xref": "x",
          "y": "HVAC_DehumidifierPower",
          "yref": "y"
         },
         {
          "showarrow": false,
          "text": "nan",
          "x": 1,
          "xref": "x",
          "y": "HVAC_DehumidifierPower",
          "yref": "y"
         },
         {
          "showarrow": false,
          "text": "nan",
          "x": 2,
          "xref": "x",
          "y": "HVAC_DehumidifierPower",
          "yref": "y"
         },
         {
          "showarrow": false,
          "text": "nan",
          "x": 3,
          "xref": "x",
          "y": "HVAC_DehumidifierPower",
          "yref": "y"
         },
         {
          "showarrow": false,
          "text": "nan",
          "x": 4,
          "xref": "x",
          "y": "HVAC_DehumidifierPower",
          "yref": "y"
         },
         {
          "showarrow": false,
          "text": "nan",
          "x": 5,
          "xref": "x",
          "y": "HVAC_DehumidifierPower",
          "yref": "y"
         },
         {
          "showarrow": false,
          "text": "nan",
          "x": 6,
          "xref": "x",
          "y": "HVAC_DehumidifierPower",
          "yref": "y"
         },
         {
          "showarrow": false,
          "text": "nan",
          "x": 7,
          "xref": "x",
          "y": "HVAC_DehumidifierPower",
          "yref": "y"
         },
         {
          "showarrow": false,
          "text": "nan",
          "x": 8,
          "xref": "x",
          "y": "HVAC_DehumidifierPower",
          "yref": "y"
         },
         {
          "showarrow": false,
          "text": "nan",
          "x": 9,
          "xref": "x",
          "y": "HVAC_DehumidifierPower",
          "yref": "y"
         },
         {
          "showarrow": false,
          "text": "nan",
          "x": 10,
          "xref": "x",
          "y": "HVAC_DehumidifierPower",
          "yref": "y"
         },
         {
          "showarrow": false,
          "text": "nan",
          "x": 11,
          "xref": "x",
          "y": "HVAC_DehumidifierPower",
          "yref": "y"
         },
         {
          "showarrow": false,
          "text": "nan",
          "x": 12,
          "xref": "x",
          "y": "HVAC_DehumidifierPower",
          "yref": "y"
         },
         {
          "showarrow": false,
          "text": "nan",
          "x": 13,
          "xref": "x",
          "y": "HVAC_DehumidifierPower",
          "yref": "y"
         },
         {
          "showarrow": false,
          "text": "nan",
          "x": 14,
          "xref": "x",
          "y": "HVAC_DehumidifierPower",
          "yref": "y"
         },
         {
          "showarrow": false,
          "text": "nan",
          "x": 15,
          "xref": "x",
          "y": "HVAC_DehumidifierPower",
          "yref": "y"
         },
         {
          "showarrow": false,
          "text": "nan",
          "x": 16,
          "xref": "x",
          "y": "HVAC_DehumidifierPower",
          "yref": "y"
         },
         {
          "showarrow": false,
          "text": "nan",
          "x": 17,
          "xref": "x",
          "y": "HVAC_DehumidifierPower",
          "yref": "y"
         },
         {
          "showarrow": false,
          "text": "nan",
          "x": 18,
          "xref": "x",
          "y": "HVAC_DehumidifierPower",
          "yref": "y"
         },
         {
          "showarrow": false,
          "text": "nan",
          "x": 19,
          "xref": "x",
          "y": "HVAC_DehumidifierPower",
          "yref": "y"
         },
         {
          "showarrow": false,
          "text": "nan",
          "x": 20,
          "xref": "x",
          "y": "HVAC_DehumidifierPower",
          "yref": "y"
         },
         {
          "showarrow": false,
          "text": "nan",
          "x": 21,
          "xref": "x",
          "y": "HVAC_DehumidifierPower",
          "yref": "y"
         },
         {
          "showarrow": false,
          "text": "nan",
          "x": 22,
          "xref": "x",
          "y": "HVAC_DehumidifierPower",
          "yref": "y"
         },
         {
          "showarrow": false,
          "text": "nan",
          "x": 23,
          "xref": "x",
          "y": "HVAC_DehumidifierPower",
          "yref": "y"
         }
        ],
        "margin": {
         "b": 30,
         "l": 30,
         "r": 30,
         "t": 50
        },
        "template": {
         "data": {
          "bar": [
           {
            "error_x": {
             "color": "#2a3f5f"
            },
            "error_y": {
             "color": "#2a3f5f"
            },
            "marker": {
             "line": {
              "color": "#E5ECF6",
              "width": 0.5
             },
             "pattern": {
              "fillmode": "overlay",
              "size": 10,
              "solidity": 0.2
             }
            },
            "type": "bar"
           }
          ],
          "barpolar": [
           {
            "marker": {
             "line": {
              "color": "#E5ECF6",
              "width": 0.5
             },
             "pattern": {
              "fillmode": "overlay",
              "size": 10,
              "solidity": 0.2
             }
            },
            "type": "barpolar"
           }
          ],
          "carpet": [
           {
            "aaxis": {
             "endlinecolor": "#2a3f5f",
             "gridcolor": "white",
             "linecolor": "white",
             "minorgridcolor": "white",
             "startlinecolor": "#2a3f5f"
            },
            "baxis": {
             "endlinecolor": "#2a3f5f",
             "gridcolor": "white",
             "linecolor": "white",
             "minorgridcolor": "white",
             "startlinecolor": "#2a3f5f"
            },
            "type": "carpet"
           }
          ],
          "choropleth": [
           {
            "colorbar": {
             "outlinewidth": 0,
             "ticks": ""
            },
            "type": "choropleth"
           }
          ],
          "contour": [
           {
            "colorbar": {
             "outlinewidth": 0,
             "ticks": ""
            },
            "colorscale": [
             [
              0.0,
              "#0d0887"
             ],
             [
              0.1111111111111111,
              "#46039f"
             ],
             [
              0.2222222222222222,
              "#7201a8"
             ],
             [
              0.3333333333333333,
              "#9c179e"
             ],
             [
              0.4444444444444444,
              "#bd3786"
             ],
             [
              0.5555555555555556,
              "#d8576b"
             ],
             [
              0.6666666666666666,
              "#ed7953"
             ],
             [
              0.7777777777777778,
              "#fb9f3a"
             ],
             [
              0.8888888888888888,
              "#fdca26"
             ],
             [
              1.0,
              "#f0f921"
             ]
            ],
            "type": "contour"
           }
          ],
          "contourcarpet": [
           {
            "colorbar": {
             "outlinewidth": 0,
             "ticks": ""
            },
            "type": "contourcarpet"
           }
          ],
          "heatmap": [
           {
            "colorbar": {
             "outlinewidth": 0,
             "ticks": ""
            },
            "colorscale": [
             [
              0.0,
              "#0d0887"
             ],
             [
              0.1111111111111111,
              "#46039f"
             ],
             [
              0.2222222222222222,
              "#7201a8"
             ],
             [
              0.3333333333333333,
              "#9c179e"
             ],
             [
              0.4444444444444444,
              "#bd3786"
             ],
             [
              0.5555555555555556,
              "#d8576b"
             ],
             [
              0.6666666666666666,
              "#ed7953"
             ],
             [
              0.7777777777777778,
              "#fb9f3a"
             ],
             [
              0.8888888888888888,
              "#fdca26"
             ],
             [
              1.0,
              "#f0f921"
             ]
            ],
            "type": "heatmap"
           }
          ],
          "heatmapgl": [
           {
            "colorbar": {
             "outlinewidth": 0,
             "ticks": ""
            },
            "colorscale": [
             [
              0.0,
              "#0d0887"
             ],
             [
              0.1111111111111111,
              "#46039f"
             ],
             [
              0.2222222222222222,
              "#7201a8"
             ],
             [
              0.3333333333333333,
              "#9c179e"
             ],
             [
              0.4444444444444444,
              "#bd3786"
             ],
             [
              0.5555555555555556,
              "#d8576b"
             ],
             [
              0.6666666666666666,
              "#ed7953"
             ],
             [
              0.7777777777777778,
              "#fb9f3a"
             ],
             [
              0.8888888888888888,
              "#fdca26"
             ],
             [
              1.0,
              "#f0f921"
             ]
            ],
            "type": "heatmapgl"
           }
          ],
          "histogram": [
           {
            "marker": {
             "pattern": {
              "fillmode": "overlay",
              "size": 10,
              "solidity": 0.2
             }
            },
            "type": "histogram"
           }
          ],
          "histogram2d": [
           {
            "colorbar": {
             "outlinewidth": 0,
             "ticks": ""
            },
            "colorscale": [
             [
              0.0,
              "#0d0887"
             ],
             [
              0.1111111111111111,
              "#46039f"
             ],
             [
              0.2222222222222222,
              "#7201a8"
             ],
             [
              0.3333333333333333,
              "#9c179e"
             ],
             [
              0.4444444444444444,
              "#bd3786"
             ],
             [
              0.5555555555555556,
              "#d8576b"
             ],
             [
              0.6666666666666666,
              "#ed7953"
             ],
             [
              0.7777777777777778,
              "#fb9f3a"
             ],
             [
              0.8888888888888888,
              "#fdca26"
             ],
             [
              1.0,
              "#f0f921"
             ]
            ],
            "type": "histogram2d"
           }
          ],
          "histogram2dcontour": [
           {
            "colorbar": {
             "outlinewidth": 0,
             "ticks": ""
            },
            "colorscale": [
             [
              0.0,
              "#0d0887"
             ],
             [
              0.1111111111111111,
              "#46039f"
             ],
             [
              0.2222222222222222,
              "#7201a8"
             ],
             [
              0.3333333333333333,
              "#9c179e"
             ],
             [
              0.4444444444444444,
              "#bd3786"
             ],
             [
              0.5555555555555556,
              "#d8576b"
             ],
             [
              0.6666666666666666,
              "#ed7953"
             ],
             [
              0.7777777777777778,
              "#fb9f3a"
             ],
             [
              0.8888888888888888,
              "#fdca26"
             ],
             [
              1.0,
              "#f0f921"
             ]
            ],
            "type": "histogram2dcontour"
           }
          ],
          "mesh3d": [
           {
            "colorbar": {
             "outlinewidth": 0,
             "ticks": ""
            },
            "type": "mesh3d"
           }
          ],
          "parcoords": [
           {
            "line": {
             "colorbar": {
              "outlinewidth": 0,
              "ticks": ""
             }
            },
            "type": "parcoords"
           }
          ],
          "pie": [
           {
            "automargin": true,
            "type": "pie"
           }
          ],
          "scatter": [
           {
            "marker": {
             "colorbar": {
              "outlinewidth": 0,
              "ticks": ""
             }
            },
            "type": "scatter"
           }
          ],
          "scatter3d": [
           {
            "line": {
             "colorbar": {
              "outlinewidth": 0,
              "ticks": ""
             }
            },
            "marker": {
             "colorbar": {
              "outlinewidth": 0,
              "ticks": ""
             }
            },
            "type": "scatter3d"
           }
          ],
          "scattercarpet": [
           {
            "marker": {
             "colorbar": {
              "outlinewidth": 0,
              "ticks": ""
             }
            },
            "type": "scattercarpet"
           }
          ],
          "scattergeo": [
           {
            "marker": {
             "colorbar": {
              "outlinewidth": 0,
              "ticks": ""
             }
            },
            "type": "scattergeo"
           }
          ],
          "scattergl": [
           {
            "marker": {
             "colorbar": {
              "outlinewidth": 0,
              "ticks": ""
             }
            },
            "type": "scattergl"
           }
          ],
          "scattermapbox": [
           {
            "marker": {
             "colorbar": {
              "outlinewidth": 0,
              "ticks": ""
             }
            },
            "type": "scattermapbox"
           }
          ],
          "scatterpolar": [
           {
            "marker": {
             "colorbar": {
              "outlinewidth": 0,
              "ticks": ""
             }
            },
            "type": "scatterpolar"
           }
          ],
          "scatterpolargl": [
           {
            "marker": {
             "colorbar": {
              "outlinewidth": 0,
              "ticks": ""
             }
            },
            "type": "scatterpolargl"
           }
          ],
          "scatterternary": [
           {
            "marker": {
             "colorbar": {
              "outlinewidth": 0,
              "ticks": ""
             }
            },
            "type": "scatterternary"
           }
          ],
          "surface": [
           {
            "colorbar": {
             "outlinewidth": 0,
             "ticks": ""
            },
            "colorscale": [
             [
              0.0,
              "#0d0887"
             ],
             [
              0.1111111111111111,
              "#46039f"
             ],
             [
              0.2222222222222222,
              "#7201a8"
             ],
             [
              0.3333333333333333,
              "#9c179e"
             ],
             [
              0.4444444444444444,
              "#bd3786"
             ],
             [
              0.5555555555555556,
              "#d8576b"
             ],
             [
              0.6666666666666666,
              "#ed7953"
             ],
             [
              0.7777777777777778,
              "#fb9f3a"
             ],
             [
              0.8888888888888888,
              "#fdca26"
             ],
             [
              1.0,
              "#f0f921"
             ]
            ],
            "type": "surface"
           }
          ],
          "table": [
           {
            "cells": {
             "fill": {
              "color": "#EBF0F8"
             },
             "line": {
              "color": "white"
             }
            },
            "header": {
             "fill": {
              "color": "#C8D4E3"
             },
             "line": {
              "color": "white"
             }
            },
            "type": "table"
           }
          ]
         },
         "layout": {
          "annotationdefaults": {
           "arrowcolor": "#2a3f5f",
           "arrowhead": 0,
           "arrowwidth": 1
          },
          "autotypenumbers": "strict",
          "coloraxis": {
           "colorbar": {
            "outlinewidth": 0,
            "ticks": ""
           }
          },
          "colorscale": {
           "diverging": [
            [
             0,
             "#8e0152"
            ],
            [
             0.1,
             "#c51b7d"
            ],
            [
             0.2,
             "#de77ae"
            ],
            [
             0.3,
             "#f1b6da"
            ],
            [
             0.4,
             "#fde0ef"
            ],
            [
             0.5,
             "#f7f7f7"
            ],
            [
             0.6,
             "#e6f5d0"
            ],
            [
             0.7,
             "#b8e186"
            ],
            [
             0.8,
             "#7fbc41"
            ],
            [
             0.9,
             "#4d9221"
            ],
            [
             1,
             "#276419"
            ]
           ],
           "sequential": [
            [
             0.0,
             "#0d0887"
            ],
            [
             0.1111111111111111,
             "#46039f"
            ],
            [
             0.2222222222222222,
             "#7201a8"
            ],
            [
             0.3333333333333333,
             "#9c179e"
            ],
            [
             0.4444444444444444,
             "#bd3786"
            ],
            [
             0.5555555555555556,
             "#d8576b"
            ],
            [
             0.6666666666666666,
             "#ed7953"
            ],
            [
             0.7777777777777778,
             "#fb9f3a"
            ],
            [
             0.8888888888888888,
             "#fdca26"
            ],
            [
             1.0,
             "#f0f921"
            ]
           ],
           "sequentialminus": [
            [
             0.0,
             "#0d0887"
            ],
            [
             0.1111111111111111,
             "#46039f"
            ],
            [
             0.2222222222222222,
             "#7201a8"
            ],
            [
             0.3333333333333333,
             "#9c179e"
            ],
            [
             0.4444444444444444,
             "#bd3786"
            ],
            [
             0.5555555555555556,
             "#d8576b"
            ],
            [
             0.6666666666666666,
             "#ed7953"
            ],
            [
             0.7777777777777778,
             "#fb9f3a"
            ],
            [
             0.8888888888888888,
             "#fdca26"
            ],
            [
             1.0,
             "#f0f921"
            ]
           ]
          },
          "colorway": [
           "#636efa",
           "#EF553B",
           "#00cc96",
           "#ab63fa",
           "#FFA15A",
           "#19d3f3",
           "#FF6692",
           "#B6E880",
           "#FF97FF",
           "#FECB52"
          ],
          "font": {
           "color": "#2a3f5f"
          },
          "geo": {
           "bgcolor": "white",
           "lakecolor": "white",
           "landcolor": "#E5ECF6",
           "showlakes": true,
           "showland": true,
           "subunitcolor": "white"
          },
          "hoverlabel": {
           "align": "left"
          },
          "hovermode": "closest",
          "mapbox": {
           "style": "light"
          },
          "paper_bgcolor": "white",
          "plot_bgcolor": "#E5ECF6",
          "polar": {
           "angularaxis": {
            "gridcolor": "white",
            "linecolor": "white",
            "ticks": ""
           },
           "bgcolor": "#E5ECF6",
           "radialaxis": {
            "gridcolor": "white",
            "linecolor": "white",
            "ticks": ""
           }
          },
          "scene": {
           "xaxis": {
            "backgroundcolor": "#E5ECF6",
            "gridcolor": "white",
            "gridwidth": 2,
            "linecolor": "white",
            "showbackground": true,
            "ticks": "",
            "zerolinecolor": "white"
           },
           "yaxis": {
            "backgroundcolor": "#E5ECF6",
            "gridcolor": "white",
            "gridwidth": 2,
            "linecolor": "white",
            "showbackground": true,
            "ticks": "",
            "zerolinecolor": "white"
           },
           "zaxis": {
            "backgroundcolor": "#E5ECF6",
            "gridcolor": "white",
            "gridwidth": 2,
            "linecolor": "white",
            "showbackground": true,
            "ticks": "",
            "zerolinecolor": "white"
           }
          },
          "shapedefaults": {
           "line": {
            "color": "#2a3f5f"
           }
          },
          "ternary": {
           "aaxis": {
            "gridcolor": "white",
            "linecolor": "white",
            "ticks": ""
           },
           "baxis": {
            "gridcolor": "white",
            "linecolor": "white",
            "ticks": ""
           },
           "bgcolor": "#E5ECF6",
           "caxis": {
            "gridcolor": "white",
            "linecolor": "white",
            "ticks": ""
           }
          },
          "title": {
           "x": 0.05
          },
          "xaxis": {
           "automargin": true,
           "gridcolor": "white",
           "linecolor": "white",
           "ticks": "",
           "title": {
            "standoff": 15
           },
           "zerolinecolor": "white",
           "zerolinewidth": 2
          },
          "yaxis": {
           "automargin": true,
           "gridcolor": "white",
           "linecolor": "white",
           "ticks": "",
           "title": {
            "standoff": 15
           },
           "zerolinecolor": "white",
           "zerolinewidth": 2
          }
         }
        },
        "xaxis": {
         "nticks": 30,
         "title": {
          "text": "Hour of day"
         }
        },
        "yaxis": {
         "showticklabels": true,
         "title": {
          "text": "Appliance"
         }
        }
       }
      },
      "text/html": "<div>                            <div id=\"42aaaa36-fdd3-4c4b-8848-d651f94c650e\" class=\"plotly-graph-div\" style=\"height:525px; width:100%;\"></div>            <script type=\"text/javascript\">                require([\"plotly\"], function(Plotly) {                    window.PLOTLYENV=window.PLOTLYENV || {};                                    if (document.getElementById(\"42aaaa36-fdd3-4c4b-8848-d651f94c650e\")) {                    Plotly.newPlot(                        \"42aaaa36-fdd3-4c4b-8848-d651f94c650e\",                        [{\"colorscale\":[[0.0,\"rgb(209, 238, 234)\"],[0.16666666666666666,\"rgb(168, 219, 217)\"],[0.3333333333333333,\"rgb(133, 196, 201)\"],[0.5,\"rgb(104, 171, 184)\"],[0.6666666666666666,\"rgb(79, 144, 166)\"],[0.8333333333333334,\"rgb(59, 115, 143)\"],[1.0,\"rgb(42, 86, 116)\"]],\"type\":\"heatmap\",\"x\":[0,1,2,3,4,5,6,7,8,9,10,11,12,13,14,15,16,17,18,19,20,21,22,23],\"y\":[\"Load_KPlugLoadsPowerUsage\",\"Load_MBRPlugLoadsPowerUsage\",\"Load_BR2PlugLoadsPowerUsage\",\"Load_BR3PlugLoadsPowerUsage\",\"Load_BR4PlugLoadsPowerUsage\",\"Load_1stFloorSensHeatPowerUsage\",\"Load_2ndFloorSensHeatPowerUsage\",\"Load_1stFloorLightsPowerUsage\",\"Load_2ndFloorLightsPowerUsage\",\"Load_LatentHeatPowerUsage\",\"Load_DryerPowerTotal\",\"Load_OvenPowerTotal\",\"Load_BasementPlugLoadsPowerUsage\",\"Load_ClothesWasherPowerWithStandby\",\"Load_RefrigeratorPowerWithStandby\",\"Load_MicrowavePowerWithStandby\",\"Elec_PowerDryer1of2\",\"Elec_PowerDryer2of2\",\"Elec_PowerHRV\",\"Elec_PowerHeatPumpWH1of2\",\"Elec_PowerHeatPumpWH2of2\",\"Elec_PowerMakeUpAirDamper\",\"Elec_PowerLights2ndFloor\",\"Elec_PowerPlugsMBAEast\",\"Elec_PowerPlugsBA2South\",\"Elec_PowerPlugsMBAWest\",\"Elec_PowerPlugsBA2North\",\"Elec_PowerPlugsBR3\",\"Elec_PowerRefrigerator\",\"Elec_PowerPlugsKitSink\",\"Elec_PowerGarbageDisposal\",\"Elec_PowerPlugsKitRange\",\"Elec_PowerPlugsKitPeninsula\",\"Elec_PowerMicrowave\",\"Elec_PowerPlugs2ndFloor\",\"Elec_PowerSpare2\",\"Elec_PowerPlugsBR2\",\"Elec_PowerPlugsMBR\",\"Elec_PowerLights1stFloorA\",\"Elec_PowerLights1stFloorB\",\"Elec_PowerDishwasher\",\"Elec_PowerPlugsGSHPInstrumentation\",\"Elec_PowerPlugsInstMudroomA\",\"Elec_PowerPlugsHVACInstrumentation\",\"Elec_PowerPlugsInstBA1\",\"Elec_PowerLightsAttic\",\"Elec_PowerPlugsInstKitA\",\"Elec_PowerPlugsInstMudroomB\",\"Elec_PowerParentADownstairs\",\"Elec_PowerPlugsInstDRA\",\"Elec_PowerPlugsInstBR4A\",\"Elec_PowerChildBDownstairs\",\"Elec_PowerPlugsInstBR4B\",\"Elec_PowerPlugsInstLRA\",\"Elec_PowerChildADownstairs\",\"Elec_PowerPlugsInstLRB\",\"Elec_PowerPlugsInstBA2\",\"Elec_PowerPlugsInstMBAB\",\"Elec_PowerPlugsInstBR2Hall\",\"Elec_PowerParentAUpstairs\",\"Elec_PowerPlugsInstHall\",\"Elec_PowerLightingControlPanelRPS1\",\"Elec_PowerPlugsInstBR3\",\"Elec_PowerChildAUpstairs\",\"Elec_PowerChildBUpstairs\",\"Elec_PowerLightingControlPanelRPS2\",\"Elec_PowerLightsBasement\",\"Elec_PowerParentBUpstairs\",\"Elec_PowerParentBDownstairs\",\"Elec_PowerPlugsInstKitD\",\"Elec_PowerPlugsDRB\",\"Elec_PowerPlugsAttic\",\"DHW_HeatPumpWaterHeaterPowerTotal\",\"DHW_SHWPumpsPowerWithStandby\",\"HVAC_HeatPumpIndoorUnitPower\",\"HVAC_HeatPumpOutdoorUnitPower\",\"HVAC_DehumidifierPower\"],\"z\":[[1.0,1.0,0.0,0.25,0.25,0.25,0.25,0.25,0.75,0.75,0.75,0.75,0.5,0.5,0.0,0.0,0.25,0.5,0.75,0.5,0.5,0.5,0.5,0.5],[0.17,0.0,0.0,0.0,0.0,0.0,0.71,0.04,0.0,0.0,0.0,0.0,0.0,0.0,0.14,0.0,0.0,0.07,0.14,0.0,0.0,0.35,0.72,1.0],[1.0,1.0,0.0,0.25,0.25,0.25,0.25,0.25,0.75,0.75,0.75,0.75,0.75,0.75,0.25,0.25,0.5,0.75,0.75,0.75,0.75,0.75,0.75,0.75],[0.0,0.0,0.01,0.01,0.0,0.0,0.0,0.0,0.0,0.0,0.0,0.0,0.0,0.0,0.0,0.0,0.0,0.07,1.0,1.0,0.86,0.0,0.0,0.0],[0.0,0.01,0.01,0.0,0.0,0.0,0.0,0.0,0.28,0.28,0.28,0.28,0.28,0.28,0.28,0.28,0.28,0.28,1.0,0.86,0.71,0.71,0.71,0.0],[0.0,0.0,0.0,0.0,0.0,0.33,0.71,0.71,0.99,0.28,0.28,0.28,0.28,0.28,0.28,0.42,0.57,0.59,0.93,1.0,1.0,1.0,1.0,0.28],[0.98,0.99,0.98,0.98,0.98,0.98,0.99,0.31,0.28,0.22,0.28,0.28,0.28,0.08,0.14,0.0,0.29,0.6,1.0,1.0,1.0,0.85,1.0,1.0],[0.0,0.0,0.01,0.01,0.01,0.34,0.72,0.72,0.99,0.47,0.24,0.19,0.09,0.16,0.24,0.23,0.37,0.46,0.93,1.0,1.0,1.0,1.0,0.28],[0.08,0.0,0.0,0.71,0.71,0.33,0.71,0.21,0.31,0.28,0.28,0.01,0.13,0.06,0.14,0.0,0.29,0.45,1.0,0.99,1.0,0.85,1.0,0.44],[0.99,0.99,0.98,0.98,0.98,0.98,0.97,0.98,0.98,0.01,0.0,0.01,0.02,0.03,0.03,0.49,0.99,1.0,1.0,1.0,1.0,1.0,1.0,1.0],[0.0,0.0,0.0,0.0,0.0,0.0,0.0,0.02,0.02,0.01,0.02,0.01,0.98,0.99,0.41,1.0,0.0,0.0,0.02,0.0,0.51,0.5,0.01,0.01],[1.0,1.0,0.0,0.25,0.25,0.25,0.25,0.25,0.75,0.75,0.75,0.75,0.75,0.75,0.25,0.25,0.5,0.75,0.75,0.75,0.75,0.75,0.75,0.75],[1.0,1.0,0.0,0.25,0.25,0.25,0.25,0.25,0.75,0.5,0.5,0.5,0.5,0.5,0.0,0.0,0.25,0.5,0.75,0.75,0.75,0.75,0.75,0.5],[1.0,1.0,0.0,0.25,0.25,0.25,0.25,0.25,0.75,0.75,0.75,0.75,0.5,0.5,0.0,0.0,0.25,0.5,0.5,0.5,0.5,0.5,0.5,0.5],[1.0,1.0,0.0,0.25,0.25,0.25,0.25,0.25,0.75,0.75,0.75,0.75,0.75,0.75,0.25,0.25,0.5,0.75,0.75,0.75,0.75,0.75,0.75,0.75],[1.0,1.0,0.0,0.25,0.25,0.25,0.25,0.25,0.75,0.75,0.75,0.75,0.75,0.75,0.25,0.25,0.5,0.75,0.75,0.75,0.75,0.75,0.75,0.75],[0.0,0.0,0.0,0.0,0.0,0.0,0.0,0.02,0.02,0.01,0.02,0.01,0.98,0.99,0.41,1.0,0.0,0.0,0.02,0.0,0.51,0.5,0.01,0.01],[0.0,0.0,0.0,0.0,0.0,0.0,0.0,0.0,0.0,0.0,0.0,0.0,1.0,0.71,0.2,1.0,0.0,0.0,0.0,0.0,0.52,0.38,0.01,0.01],[1.0,1.0,0.0,0.25,0.25,0.25,0.25,0.25,0.75,0.75,0.75,0.75,0.5,0.5,0.25,0.25,0.25,0.75,0.75,0.75,0.75,0.75,0.75,0.75],[null,null,null,null,null,null,null,null,null,null,null,null,null,null,null,null,null,null,null,null,null,null,null,null],[0.09,0.02,0.0,0.04,0.23,0.24,0.99,0.85,0.85,0.52,0.37,0.05,0.32,0.52,0.45,0.21,0.21,0.16,0.9,0.73,0.73,1.0,0.93,0.34],[0.0,0.0,0.01,0.0,0.0,0.0,0.02,0.0,0.3,0.06,0.0,0.0,0.3,0.31,0.12,0.3,0.0,0.01,1.0,0.16,0.16,0.17,0.01,0.01],[0.08,0.0,0.0,0.71,0.71,0.33,0.71,0.21,0.31,0.28,0.28,0.01,0.13,0.06,0.14,0.0,0.29,0.45,1.0,0.99,1.0,0.85,1.0,0.44],[0.0,0.0,0.0,0.0,0.0,0.0,1.0,0.0,0.0,0.0,0.39,0.0,0.0,0.0,0.0,0.0,0.0,0.0,0.0,0.0,0.0,0.0,0.0,0.0],[null,null,null,null,null,null,null,null,null,null,null,null,null,null,null,null,null,null,null,null,null,null,null,null],[0.33,0.33,0.0,0.33,0.33,0.33,0.33,0.33,0.67,0.33,0.33,0.33,0.33,0.33,0.0,0.33,0.67,1.0,1.0,1.0,1.0,1.0,1.0,1.0],[0.0,0.0,0.0,0.0,0.0,0.0,0.0,0.0,0.0,1.0,1.0,1.0,0.0,0.0,1.0,0.0,0.0,0.0,1.0,0.0,1.0,0.0,1.0,0.0],[0.0,0.0,0.01,0.01,0.0,0.0,0.0,0.0,0.0,0.0,0.0,0.0,0.0,0.0,0.0,0.0,0.0,0.07,1.0,1.0,0.86,0.0,0.0,0.0],[1.0,0.75,0.0,0.25,0.25,0.25,0.0,0.25,0.5,0.5,0.5,0.5,0.5,0.5,0.0,0.0,0.25,0.25,0.5,0.5,0.5,0.5,0.5,0.5],[0.0,0.0,0.0,0.0,0.0,0.0,1.0,0.0,0.2,0.59,0.2,0.0,0.0,0.0,0.0,0.0,0.0,0.0,0.0,0.0,0.0,0.0,0.0,0.0],[0.0,0.0,0.01,0.0,0.0,0.0,0.0,0.0,0.3,0.0,0.0,0.0,0.3,0.0,0.0,0.0,0.0,0.01,1.0,0.16,0.01,0.0,0.0,0.0],[0.0,0.0,0.01,0.0,0.0,0.0,0.77,0.0,0.3,0.3,0.0,0.0,0.3,0.0,0.0,0.0,0.0,0.02,1.0,0.16,0.0,0.0,0.0,0.0],[0.0,0.0,0.01,0.0,0.0,0.0,0.0,0.0,0.0,0.0,0.0,0.0,0.0,0.0,0.0,0.0,0.0,0.0,1.0,0.17,0.0,0.0,0.0,0.0],[0.0,0.0,0.0,0.0,0.0,0.03,0.84,0.0,0.01,0.35,0.0,0.0,0.33,0.01,0.0,0.0,0.0,0.0,1.0,0.0,0.0,0.0,0.0,0.0],[1.0,1.0,0.0,0.25,0.25,0.25,0.25,0.25,0.75,0.75,0.75,0.75,0.75,0.75,0.25,0.25,0.5,0.75,0.75,0.75,0.75,0.75,0.75,0.75],[0.33,0.33,0.0,0.33,0.33,0.33,0.33,0.33,0.67,0.33,0.33,0.33,0.33,0.33,0.33,0.33,0.67,1.0,1.0,1.0,1.0,1.0,1.0,1.0],[1.0,1.0,0.0,0.25,0.25,0.25,0.25,0.25,0.75,0.75,0.75,0.75,0.75,0.75,0.25,0.25,0.5,0.75,0.75,0.75,0.75,0.75,0.75,0.75],[0.17,0.0,0.0,0.0,0.0,0.0,0.71,0.04,0.0,0.0,0.0,0.0,0.0,0.0,0.14,0.0,0.0,0.07,0.14,0.0,0.0,0.35,0.72,1.0],[0.0,0.01,0.01,0.01,0.01,0.01,0.01,0.34,0.71,0.0,0.0,0.0,0.0,0.0,0.0,0.0,0.0,0.35,0.86,0.86,0.93,1.0,1.0,0.29],[0.0,0.0,0.01,0.01,0.01,0.34,0.72,0.72,0.99,0.29,0.03,0.01,0.01,0.01,0.01,0.02,0.29,0.42,0.93,1.0,1.0,1.0,1.0,0.28],[0.0,0.0,0.0,0.0,0.0,0.01,0.01,0.0,0.0,0.0,0.0,0.0,0.0,0.0,0.0,0.0,0.0,0.0,0.0,0.0,0.8,1.0,0.88,0.01],[0.14,0.11,0.07,0.04,0.0,0.0,0.04,0.09,0.22,0.65,0.84,0.84,0.92,0.96,0.98,1.0,0.8,0.13,0.18,0.16,0.15,0.17,0.21,0.19],[1.0,0.06,0.06,0.06,0.06,0.06,0.0,0.12,0.12,0.12,0.06,0.18,0.06,0.0,0.12,0.12,0.12,0.06,0.06,0.29,0.24,0.12,0.12,0.12],[1.0,0.25,0.1,0.1,0.1,0.1,0.05,0.2,0.25,0.0,0.1,0.15,0.15,0.1,0.15,0.1,0.15,0.05,0.05,0.25,0.2,0.1,0.1,0.1],[null,null,null,null,null,null,null,null,null,null,null,null,null,null,null,null,null,null,null,null,null,null,null,null],[0.2,0.0,0.0,0.0,0.0,0.0,0.0,0.0,0.2,0.4,0.2,0.2,0.2,1.0,0.4,0.4,0.2,0.2,0.6,0.0,0.4,0.4,0.8,1.0],[1.0,0.06,0.06,0.06,0.06,0.06,0.0,0.12,0.06,0.06,0.12,0.12,0.0,0.0,0.06,0.18,0.06,0.06,0.06,0.29,0.24,0.12,0.12,0.12],[null,null,null,null,null,null,null,null,null,null,null,null,null,null,null,null,null,null,null,null,null,null,null,null],[0.0,0.0,0.0,0.0,0.0,0.0,0.71,0.71,0.99,0.28,0.02,0.0,0.28,0.28,0.28,0.28,0.28,0.28,0.86,0.86,1.0,1.0,1.0,0.29],[1.0,0.06,0.06,0.06,0.06,0.06,0.0,0.18,0.41,0.59,0.53,0.29,0.18,0.29,0.35,0.18,0.12,0.0,0.0,0.24,0.18,0.06,0.06,0.06],[0.0,0.0,0.0,0.0,0.0,0.0,0.0,0.0,0.0,0.5,0.5,0.5,0.5,0.0,0.5,1.0,0.5,0.0,0.0,0.0,0.0,0.0,0.0,0.0],[0.01,0.01,0.0,0.0,0.01,0.0,0.33,0.71,0.11,0.28,0.02,0.0,0.13,0.28,0.28,0.28,0.28,0.58,0.86,0.86,1.0,0.29,0.01,0.0],[1.0,0.06,0.06,0.06,0.06,0.06,0.0,0.12,0.12,0.06,0.06,0.12,0.06,0.0,0.06,0.12,0.06,0.0,0.0,0.24,0.18,0.06,0.06,0.06],[1.0,0.06,0.06,0.06,0.06,0.06,0.0,0.12,0.12,0.12,0.0,0.18,0.12,0.12,0.06,0.29,0.18,0.06,0.0,0.24,0.18,0.06,0.06,0.06],[0.01,0.01,0.0,0.0,0.01,0.0,0.34,0.71,0.11,0.28,0.28,0.02,0.13,0.28,0.28,0.14,0.42,0.4,0.3,0.86,1.0,0.29,0.29,0.01],[null,null,null,null,null,null,null,null,null,null,null,null,null,null,null,null,null,null,null,null,null,null,null,null],[1.0,0.06,0.06,0.06,0.06,0.06,0.0,0.12,0.12,0.06,0.0,0.12,0.06,0.0,0.06,0.12,0.06,0.0,0.06,0.29,0.24,0.12,0.12,0.06],[0.0,0.0,0.0,0.0,0.0,0.0,0.0,0.0,0.0,0.33,0.33,0.33,0.33,1.0,1.0,0.67,0.33,0.33,0.33,0.33,0.67,0.33,0.33,0.33],[1.0,0.06,0.06,0.06,0.06,0.06,0.0,0.12,0.12,0.18,0.53,0.76,0.47,0.24,0.41,0.29,0.12,0.06,0.06,0.29,0.24,0.12,0.12,0.12],[0.99,0.99,0.98,0.98,0.98,0.98,0.98,0.28,0.29,0.01,0.0,0.0,0.0,0.07,0.15,0.01,0.0,0.35,0.86,0.07,0.14,0.0,0.72,1.0],[null,null,null,null,null,null,null,null,null,null,null,null,null,null,null,null,null,null,null,null,null,null,null,null],[1.0,1.0,0.0,0.25,0.25,0.25,0.25,0.25,0.75,0.75,0.75,0.75,0.75,0.75,0.25,0.25,0.5,0.75,0.75,0.75,0.75,0.75,0.75,0.75],[1.0,0.06,0.06,0.06,0.06,0.06,0.0,0.12,0.12,0.12,0.53,0.53,0.29,0.0,0.18,0.29,0.06,0.0,0.0,0.24,0.18,0.06,0.06,0.06],[0.98,0.99,0.98,0.98,0.98,0.98,0.98,0.31,0.28,0.15,0.13,0.28,0.28,0.01,0.0,0.0,0.29,0.59,1.0,1.0,0.86,0.71,0.85,1.0],[0.98,0.99,0.98,0.98,0.98,0.98,0.98,0.32,0.28,0.03,0.0,0.0,0.28,0.02,0.0,0.0,0.0,0.06,1.0,1.0,1.0,0.85,1.0,1.0],[1.0,1.0,0.0,0.25,0.25,0.25,0.25,0.25,0.75,0.75,0.75,0.75,0.75,0.75,0.25,0.25,0.5,0.75,0.75,0.75,0.75,0.75,0.75,0.75],[0.0,0.0,0.0,0.0,0.0,0.02,0.04,0.22,0.68,0.78,0.97,0.79,0.43,0.69,1.0,0.97,0.58,0.29,0.06,0.02,0.0,0.01,0.01,0.0],[0.99,0.99,0.98,0.98,0.98,0.98,1.0,0.32,0.29,0.14,0.29,0.02,0.01,0.01,0.01,0.01,0.0,0.06,0.14,0.01,0.0,0.33,0.72,1.0],[0.0,0.0,0.0,0.0,0.0,0.33,0.71,0.71,0.99,0.28,0.15,0.28,0.28,0.28,0.28,0.0,0.13,0.57,0.93,1.0,1.0,1.0,0.31,0.28],[0.99,0.99,0.98,0.98,0.98,0.98,0.97,0.98,0.98,0.01,0.0,0.01,0.02,0.03,0.03,0.49,0.99,1.0,1.0,1.0,1.0,1.0,1.0,1.0],[0.0,0.0,0.0,0.0,0.0,0.0,0.0,0.0,0.55,1.0,0.82,0.18,0.27,0.18,0.27,0.0,0.0,0.0,0.0,0.0,0.0,0.0,0.0,0.0],[0.0,0.0,0.0,0.0,0.0,0.0,0.0,0.0,0.0,0.0,0.0,0.0,0.0,0.0,0.0,0.0,0.0,0.0,0.0,0.0,0.0,0.0,1.0,1.0],[1.0,1.0,0.0,0.25,0.25,0.25,0.25,0.25,0.75,0.75,0.75,0.75,0.75,0.75,0.25,0.25,0.5,0.75,0.75,0.75,0.75,0.75,0.75,0.75],[1.0,1.0,0.0,0.25,0.25,0.25,0.25,0.25,0.75,0.75,0.75,0.75,0.5,0.5,0.0,0.0,0.25,0.5,0.5,0.5,0.5,0.5,0.5,0.5],[0.75,0.75,0.0,0.25,0.25,0.25,0.25,0.25,0.75,1.0,1.0,0.75,0.75,0.75,0.25,0.25,0.5,0.5,0.75,0.75,0.75,0.75,0.75,0.5],[1.0,1.0,0.0,0.33,0.33,0.33,0.33,0.33,1.0,1.0,1.0,0.67,0.67,0.67,0.0,0.0,0.33,0.67,0.67,0.67,0.67,0.67,0.67,0.33],[null,null,null,null,null,null,null,null,null,null,null,null,null,null,null,null,null,null,null,null,null,null,null,null]]}],                        {\"annotations\":[{\"showarrow\":false,\"text\":\"1.0\",\"x\":0,\"xref\":\"x\",\"y\":\"Load_KPlugLoadsPowerUsage\",\"yref\":\"y\"},{\"showarrow\":false,\"text\":\"1.0\",\"x\":1,\"xref\":\"x\",\"y\":\"Load_KPlugLoadsPowerUsage\",\"yref\":\"y\"},{\"showarrow\":false,\"text\":\"\",\"x\":2,\"xref\":\"x\",\"y\":\"Load_KPlugLoadsPowerUsage\",\"yref\":\"y\"},{\"showarrow\":false,\"text\":\"0.25\",\"x\":3,\"xref\":\"x\",\"y\":\"Load_KPlugLoadsPowerUsage\",\"yref\":\"y\"},{\"showarrow\":false,\"text\":\"0.25\",\"x\":4,\"xref\":\"x\",\"y\":\"Load_KPlugLoadsPowerUsage\",\"yref\":\"y\"},{\"showarrow\":false,\"text\":\"0.25\",\"x\":5,\"xref\":\"x\",\"y\":\"Load_KPlugLoadsPowerUsage\",\"yref\":\"y\"},{\"showarrow\":false,\"text\":\"0.25\",\"x\":6,\"xref\":\"x\",\"y\":\"Load_KPlugLoadsPowerUsage\",\"yref\":\"y\"},{\"showarrow\":false,\"text\":\"0.25\",\"x\":7,\"xref\":\"x\",\"y\":\"Load_KPlugLoadsPowerUsage\",\"yref\":\"y\"},{\"showarrow\":false,\"text\":\"0.75\",\"x\":8,\"xref\":\"x\",\"y\":\"Load_KPlugLoadsPowerUsage\",\"yref\":\"y\"},{\"showarrow\":false,\"text\":\"0.75\",\"x\":9,\"xref\":\"x\",\"y\":\"Load_KPlugLoadsPowerUsage\",\"yref\":\"y\"},{\"showarrow\":false,\"text\":\"0.75\",\"x\":10,\"xref\":\"x\",\"y\":\"Load_KPlugLoadsPowerUsage\",\"yref\":\"y\"},{\"showarrow\":false,\"text\":\"0.75\",\"x\":11,\"xref\":\"x\",\"y\":\"Load_KPlugLoadsPowerUsage\",\"yref\":\"y\"},{\"showarrow\":false,\"text\":\"0.5\",\"x\":12,\"xref\":\"x\",\"y\":\"Load_KPlugLoadsPowerUsage\",\"yref\":\"y\"},{\"showarrow\":false,\"text\":\"0.5\",\"x\":13,\"xref\":\"x\",\"y\":\"Load_KPlugLoadsPowerUsage\",\"yref\":\"y\"},{\"showarrow\":false,\"text\":\"\",\"x\":14,\"xref\":\"x\",\"y\":\"Load_KPlugLoadsPowerUsage\",\"yref\":\"y\"},{\"showarrow\":false,\"text\":\"\",\"x\":15,\"xref\":\"x\",\"y\":\"Load_KPlugLoadsPowerUsage\",\"yref\":\"y\"},{\"showarrow\":false,\"text\":\"0.25\",\"x\":16,\"xref\":\"x\",\"y\":\"Load_KPlugLoadsPowerUsage\",\"yref\":\"y\"},{\"showarrow\":false,\"text\":\"0.5\",\"x\":17,\"xref\":\"x\",\"y\":\"Load_KPlugLoadsPowerUsage\",\"yref\":\"y\"},{\"showarrow\":false,\"text\":\"0.75\",\"x\":18,\"xref\":\"x\",\"y\":\"Load_KPlugLoadsPowerUsage\",\"yref\":\"y\"},{\"showarrow\":false,\"text\":\"0.5\",\"x\":19,\"xref\":\"x\",\"y\":\"Load_KPlugLoadsPowerUsage\",\"yref\":\"y\"},{\"showarrow\":false,\"text\":\"0.5\",\"x\":20,\"xref\":\"x\",\"y\":\"Load_KPlugLoadsPowerUsage\",\"yref\":\"y\"},{\"showarrow\":false,\"text\":\"0.5\",\"x\":21,\"xref\":\"x\",\"y\":\"Load_KPlugLoadsPowerUsage\",\"yref\":\"y\"},{\"showarrow\":false,\"text\":\"0.5\",\"x\":22,\"xref\":\"x\",\"y\":\"Load_KPlugLoadsPowerUsage\",\"yref\":\"y\"},{\"showarrow\":false,\"text\":\"0.5\",\"x\":23,\"xref\":\"x\",\"y\":\"Load_KPlugLoadsPowerUsage\",\"yref\":\"y\"},{\"showarrow\":false,\"text\":\"0.17\",\"x\":0,\"xref\":\"x\",\"y\":\"Load_MBRPlugLoadsPowerUsage\",\"yref\":\"y\"},{\"showarrow\":false,\"text\":\"\",\"x\":1,\"xref\":\"x\",\"y\":\"Load_MBRPlugLoadsPowerUsage\",\"yref\":\"y\"},{\"showarrow\":false,\"text\":\"\",\"x\":2,\"xref\":\"x\",\"y\":\"Load_MBRPlugLoadsPowerUsage\",\"yref\":\"y\"},{\"showarrow\":false,\"text\":\"\",\"x\":3,\"xref\":\"x\",\"y\":\"Load_MBRPlugLoadsPowerUsage\",\"yref\":\"y\"},{\"showarrow\":false,\"text\":\"\",\"x\":4,\"xref\":\"x\",\"y\":\"Load_MBRPlugLoadsPowerUsage\",\"yref\":\"y\"},{\"showarrow\":false,\"text\":\"\",\"x\":5,\"xref\":\"x\",\"y\":\"Load_MBRPlugLoadsPowerUsage\",\"yref\":\"y\"},{\"showarrow\":false,\"text\":\"0.71\",\"x\":6,\"xref\":\"x\",\"y\":\"Load_MBRPlugLoadsPowerUsage\",\"yref\":\"y\"},{\"showarrow\":false,\"text\":\"0.04\",\"x\":7,\"xref\":\"x\",\"y\":\"Load_MBRPlugLoadsPowerUsage\",\"yref\":\"y\"},{\"showarrow\":false,\"text\":\"\",\"x\":8,\"xref\":\"x\",\"y\":\"Load_MBRPlugLoadsPowerUsage\",\"yref\":\"y\"},{\"showarrow\":false,\"text\":\"\",\"x\":9,\"xref\":\"x\",\"y\":\"Load_MBRPlugLoadsPowerUsage\",\"yref\":\"y\"},{\"showarrow\":false,\"text\":\"\",\"x\":10,\"xref\":\"x\",\"y\":\"Load_MBRPlugLoadsPowerUsage\",\"yref\":\"y\"},{\"showarrow\":false,\"text\":\"\",\"x\":11,\"xref\":\"x\",\"y\":\"Load_MBRPlugLoadsPowerUsage\",\"yref\":\"y\"},{\"showarrow\":false,\"text\":\"\",\"x\":12,\"xref\":\"x\",\"y\":\"Load_MBRPlugLoadsPowerUsage\",\"yref\":\"y\"},{\"showarrow\":false,\"text\":\"\",\"x\":13,\"xref\":\"x\",\"y\":\"Load_MBRPlugLoadsPowerUsage\",\"yref\":\"y\"},{\"showarrow\":false,\"text\":\"0.14\",\"x\":14,\"xref\":\"x\",\"y\":\"Load_MBRPlugLoadsPowerUsage\",\"yref\":\"y\"},{\"showarrow\":false,\"text\":\"\",\"x\":15,\"xref\":\"x\",\"y\":\"Load_MBRPlugLoadsPowerUsage\",\"yref\":\"y\"},{\"showarrow\":false,\"text\":\"\",\"x\":16,\"xref\":\"x\",\"y\":\"Load_MBRPlugLoadsPowerUsage\",\"yref\":\"y\"},{\"showarrow\":false,\"text\":\"0.07\",\"x\":17,\"xref\":\"x\",\"y\":\"Load_MBRPlugLoadsPowerUsage\",\"yref\":\"y\"},{\"showarrow\":false,\"text\":\"0.14\",\"x\":18,\"xref\":\"x\",\"y\":\"Load_MBRPlugLoadsPowerUsage\",\"yref\":\"y\"},{\"showarrow\":false,\"text\":\"\",\"x\":19,\"xref\":\"x\",\"y\":\"Load_MBRPlugLoadsPowerUsage\",\"yref\":\"y\"},{\"showarrow\":false,\"text\":\"\",\"x\":20,\"xref\":\"x\",\"y\":\"Load_MBRPlugLoadsPowerUsage\",\"yref\":\"y\"},{\"showarrow\":false,\"text\":\"0.35\",\"x\":21,\"xref\":\"x\",\"y\":\"Load_MBRPlugLoadsPowerUsage\",\"yref\":\"y\"},{\"showarrow\":false,\"text\":\"0.72\",\"x\":22,\"xref\":\"x\",\"y\":\"Load_MBRPlugLoadsPowerUsage\",\"yref\":\"y\"},{\"showarrow\":false,\"text\":\"1.0\",\"x\":23,\"xref\":\"x\",\"y\":\"Load_MBRPlugLoadsPowerUsage\",\"yref\":\"y\"},{\"showarrow\":false,\"text\":\"1.0\",\"x\":0,\"xref\":\"x\",\"y\":\"Load_BR2PlugLoadsPowerUsage\",\"yref\":\"y\"},{\"showarrow\":false,\"text\":\"1.0\",\"x\":1,\"xref\":\"x\",\"y\":\"Load_BR2PlugLoadsPowerUsage\",\"yref\":\"y\"},{\"showarrow\":false,\"text\":\"\",\"x\":2,\"xref\":\"x\",\"y\":\"Load_BR2PlugLoadsPowerUsage\",\"yref\":\"y\"},{\"showarrow\":false,\"text\":\"0.25\",\"x\":3,\"xref\":\"x\",\"y\":\"Load_BR2PlugLoadsPowerUsage\",\"yref\":\"y\"},{\"showarrow\":false,\"text\":\"0.25\",\"x\":4,\"xref\":\"x\",\"y\":\"Load_BR2PlugLoadsPowerUsage\",\"yref\":\"y\"},{\"showarrow\":false,\"text\":\"0.25\",\"x\":5,\"xref\":\"x\",\"y\":\"Load_BR2PlugLoadsPowerUsage\",\"yref\":\"y\"},{\"showarrow\":false,\"text\":\"0.25\",\"x\":6,\"xref\":\"x\",\"y\":\"Load_BR2PlugLoadsPowerUsage\",\"yref\":\"y\"},{\"showarrow\":false,\"text\":\"0.25\",\"x\":7,\"xref\":\"x\",\"y\":\"Load_BR2PlugLoadsPowerUsage\",\"yref\":\"y\"},{\"showarrow\":false,\"text\":\"0.75\",\"x\":8,\"xref\":\"x\",\"y\":\"Load_BR2PlugLoadsPowerUsage\",\"yref\":\"y\"},{\"showarrow\":false,\"text\":\"0.75\",\"x\":9,\"xref\":\"x\",\"y\":\"Load_BR2PlugLoadsPowerUsage\",\"yref\":\"y\"},{\"showarrow\":false,\"text\":\"0.75\",\"x\":10,\"xref\":\"x\",\"y\":\"Load_BR2PlugLoadsPowerUsage\",\"yref\":\"y\"},{\"showarrow\":false,\"text\":\"0.75\",\"x\":11,\"xref\":\"x\",\"y\":\"Load_BR2PlugLoadsPowerUsage\",\"yref\":\"y\"},{\"showarrow\":false,\"text\":\"0.75\",\"x\":12,\"xref\":\"x\",\"y\":\"Load_BR2PlugLoadsPowerUsage\",\"yref\":\"y\"},{\"showarrow\":false,\"text\":\"0.75\",\"x\":13,\"xref\":\"x\",\"y\":\"Load_BR2PlugLoadsPowerUsage\",\"yref\":\"y\"},{\"showarrow\":false,\"text\":\"0.25\",\"x\":14,\"xref\":\"x\",\"y\":\"Load_BR2PlugLoadsPowerUsage\",\"yref\":\"y\"},{\"showarrow\":false,\"text\":\"0.25\",\"x\":15,\"xref\":\"x\",\"y\":\"Load_BR2PlugLoadsPowerUsage\",\"yref\":\"y\"},{\"showarrow\":false,\"text\":\"0.5\",\"x\":16,\"xref\":\"x\",\"y\":\"Load_BR2PlugLoadsPowerUsage\",\"yref\":\"y\"},{\"showarrow\":false,\"text\":\"0.75\",\"x\":17,\"xref\":\"x\",\"y\":\"Load_BR2PlugLoadsPowerUsage\",\"yref\":\"y\"},{\"showarrow\":false,\"text\":\"0.75\",\"x\":18,\"xref\":\"x\",\"y\":\"Load_BR2PlugLoadsPowerUsage\",\"yref\":\"y\"},{\"showarrow\":false,\"text\":\"0.75\",\"x\":19,\"xref\":\"x\",\"y\":\"Load_BR2PlugLoadsPowerUsage\",\"yref\":\"y\"},{\"showarrow\":false,\"text\":\"0.75\",\"x\":20,\"xref\":\"x\",\"y\":\"Load_BR2PlugLoadsPowerUsage\",\"yref\":\"y\"},{\"showarrow\":false,\"text\":\"0.75\",\"x\":21,\"xref\":\"x\",\"y\":\"Load_BR2PlugLoadsPowerUsage\",\"yref\":\"y\"},{\"showarrow\":false,\"text\":\"0.75\",\"x\":22,\"xref\":\"x\",\"y\":\"Load_BR2PlugLoadsPowerUsage\",\"yref\":\"y\"},{\"showarrow\":false,\"text\":\"0.75\",\"x\":23,\"xref\":\"x\",\"y\":\"Load_BR2PlugLoadsPowerUsage\",\"yref\":\"y\"},{\"showarrow\":false,\"text\":\"\",\"x\":0,\"xref\":\"x\",\"y\":\"Load_BR3PlugLoadsPowerUsage\",\"yref\":\"y\"},{\"showarrow\":false,\"text\":\"\",\"x\":1,\"xref\":\"x\",\"y\":\"Load_BR3PlugLoadsPowerUsage\",\"yref\":\"y\"},{\"showarrow\":false,\"text\":\"0.01\",\"x\":2,\"xref\":\"x\",\"y\":\"Load_BR3PlugLoadsPowerUsage\",\"yref\":\"y\"},{\"showarrow\":false,\"text\":\"0.01\",\"x\":3,\"xref\":\"x\",\"y\":\"Load_BR3PlugLoadsPowerUsage\",\"yref\":\"y\"},{\"showarrow\":false,\"text\":\"\",\"x\":4,\"xref\":\"x\",\"y\":\"Load_BR3PlugLoadsPowerUsage\",\"yref\":\"y\"},{\"showarrow\":false,\"text\":\"\",\"x\":5,\"xref\":\"x\",\"y\":\"Load_BR3PlugLoadsPowerUsage\",\"yref\":\"y\"},{\"showarrow\":false,\"text\":\"\",\"x\":6,\"xref\":\"x\",\"y\":\"Load_BR3PlugLoadsPowerUsage\",\"yref\":\"y\"},{\"showarrow\":false,\"text\":\"\",\"x\":7,\"xref\":\"x\",\"y\":\"Load_BR3PlugLoadsPowerUsage\",\"yref\":\"y\"},{\"showarrow\":false,\"text\":\"\",\"x\":8,\"xref\":\"x\",\"y\":\"Load_BR3PlugLoadsPowerUsage\",\"yref\":\"y\"},{\"showarrow\":false,\"text\":\"\",\"x\":9,\"xref\":\"x\",\"y\":\"Load_BR3PlugLoadsPowerUsage\",\"yref\":\"y\"},{\"showarrow\":false,\"text\":\"\",\"x\":10,\"xref\":\"x\",\"y\":\"Load_BR3PlugLoadsPowerUsage\",\"yref\":\"y\"},{\"showarrow\":false,\"text\":\"\",\"x\":11,\"xref\":\"x\",\"y\":\"Load_BR3PlugLoadsPowerUsage\",\"yref\":\"y\"},{\"showarrow\":false,\"text\":\"\",\"x\":12,\"xref\":\"x\",\"y\":\"Load_BR3PlugLoadsPowerUsage\",\"yref\":\"y\"},{\"showarrow\":false,\"text\":\"\",\"x\":13,\"xref\":\"x\",\"y\":\"Load_BR3PlugLoadsPowerUsage\",\"yref\":\"y\"},{\"showarrow\":false,\"text\":\"\",\"x\":14,\"xref\":\"x\",\"y\":\"Load_BR3PlugLoadsPowerUsage\",\"yref\":\"y\"},{\"showarrow\":false,\"text\":\"\",\"x\":15,\"xref\":\"x\",\"y\":\"Load_BR3PlugLoadsPowerUsage\",\"yref\":\"y\"},{\"showarrow\":false,\"text\":\"\",\"x\":16,\"xref\":\"x\",\"y\":\"Load_BR3PlugLoadsPowerUsage\",\"yref\":\"y\"},{\"showarrow\":false,\"text\":\"0.07\",\"x\":17,\"xref\":\"x\",\"y\":\"Load_BR3PlugLoadsPowerUsage\",\"yref\":\"y\"},{\"showarrow\":false,\"text\":\"1.0\",\"x\":18,\"xref\":\"x\",\"y\":\"Load_BR3PlugLoadsPowerUsage\",\"yref\":\"y\"},{\"showarrow\":false,\"text\":\"1.0\",\"x\":19,\"xref\":\"x\",\"y\":\"Load_BR3PlugLoadsPowerUsage\",\"yref\":\"y\"},{\"showarrow\":false,\"text\":\"0.86\",\"x\":20,\"xref\":\"x\",\"y\":\"Load_BR3PlugLoadsPowerUsage\",\"yref\":\"y\"},{\"showarrow\":false,\"text\":\"\",\"x\":21,\"xref\":\"x\",\"y\":\"Load_BR3PlugLoadsPowerUsage\",\"yref\":\"y\"},{\"showarrow\":false,\"text\":\"\",\"x\":22,\"xref\":\"x\",\"y\":\"Load_BR3PlugLoadsPowerUsage\",\"yref\":\"y\"},{\"showarrow\":false,\"text\":\"\",\"x\":23,\"xref\":\"x\",\"y\":\"Load_BR3PlugLoadsPowerUsage\",\"yref\":\"y\"},{\"showarrow\":false,\"text\":\"\",\"x\":0,\"xref\":\"x\",\"y\":\"Load_BR4PlugLoadsPowerUsage\",\"yref\":\"y\"},{\"showarrow\":false,\"text\":\"0.01\",\"x\":1,\"xref\":\"x\",\"y\":\"Load_BR4PlugLoadsPowerUsage\",\"yref\":\"y\"},{\"showarrow\":false,\"text\":\"0.01\",\"x\":2,\"xref\":\"x\",\"y\":\"Load_BR4PlugLoadsPowerUsage\",\"yref\":\"y\"},{\"showarrow\":false,\"text\":\"\",\"x\":3,\"xref\":\"x\",\"y\":\"Load_BR4PlugLoadsPowerUsage\",\"yref\":\"y\"},{\"showarrow\":false,\"text\":\"\",\"x\":4,\"xref\":\"x\",\"y\":\"Load_BR4PlugLoadsPowerUsage\",\"yref\":\"y\"},{\"showarrow\":false,\"text\":\"\",\"x\":5,\"xref\":\"x\",\"y\":\"Load_BR4PlugLoadsPowerUsage\",\"yref\":\"y\"},{\"showarrow\":false,\"text\":\"\",\"x\":6,\"xref\":\"x\",\"y\":\"Load_BR4PlugLoadsPowerUsage\",\"yref\":\"y\"},{\"showarrow\":false,\"text\":\"\",\"x\":7,\"xref\":\"x\",\"y\":\"Load_BR4PlugLoadsPowerUsage\",\"yref\":\"y\"},{\"showarrow\":false,\"text\":\"0.28\",\"x\":8,\"xref\":\"x\",\"y\":\"Load_BR4PlugLoadsPowerUsage\",\"yref\":\"y\"},{\"showarrow\":false,\"text\":\"0.28\",\"x\":9,\"xref\":\"x\",\"y\":\"Load_BR4PlugLoadsPowerUsage\",\"yref\":\"y\"},{\"showarrow\":false,\"text\":\"0.28\",\"x\":10,\"xref\":\"x\",\"y\":\"Load_BR4PlugLoadsPowerUsage\",\"yref\":\"y\"},{\"showarrow\":false,\"text\":\"0.28\",\"x\":11,\"xref\":\"x\",\"y\":\"Load_BR4PlugLoadsPowerUsage\",\"yref\":\"y\"},{\"showarrow\":false,\"text\":\"0.28\",\"x\":12,\"xref\":\"x\",\"y\":\"Load_BR4PlugLoadsPowerUsage\",\"yref\":\"y\"},{\"showarrow\":false,\"text\":\"0.28\",\"x\":13,\"xref\":\"x\",\"y\":\"Load_BR4PlugLoadsPowerUsage\",\"yref\":\"y\"},{\"showarrow\":false,\"text\":\"0.28\",\"x\":14,\"xref\":\"x\",\"y\":\"Load_BR4PlugLoadsPowerUsage\",\"yref\":\"y\"},{\"showarrow\":false,\"text\":\"0.28\",\"x\":15,\"xref\":\"x\",\"y\":\"Load_BR4PlugLoadsPowerUsage\",\"yref\":\"y\"},{\"showarrow\":false,\"text\":\"0.28\",\"x\":16,\"xref\":\"x\",\"y\":\"Load_BR4PlugLoadsPowerUsage\",\"yref\":\"y\"},{\"showarrow\":false,\"text\":\"0.28\",\"x\":17,\"xref\":\"x\",\"y\":\"Load_BR4PlugLoadsPowerUsage\",\"yref\":\"y\"},{\"showarrow\":false,\"text\":\"1.0\",\"x\":18,\"xref\":\"x\",\"y\":\"Load_BR4PlugLoadsPowerUsage\",\"yref\":\"y\"},{\"showarrow\":false,\"text\":\"0.86\",\"x\":19,\"xref\":\"x\",\"y\":\"Load_BR4PlugLoadsPowerUsage\",\"yref\":\"y\"},{\"showarrow\":false,\"text\":\"0.71\",\"x\":20,\"xref\":\"x\",\"y\":\"Load_BR4PlugLoadsPowerUsage\",\"yref\":\"y\"},{\"showarrow\":false,\"text\":\"0.71\",\"x\":21,\"xref\":\"x\",\"y\":\"Load_BR4PlugLoadsPowerUsage\",\"yref\":\"y\"},{\"showarrow\":false,\"text\":\"0.71\",\"x\":22,\"xref\":\"x\",\"y\":\"Load_BR4PlugLoadsPowerUsage\",\"yref\":\"y\"},{\"showarrow\":false,\"text\":\"\",\"x\":23,\"xref\":\"x\",\"y\":\"Load_BR4PlugLoadsPowerUsage\",\"yref\":\"y\"},{\"showarrow\":false,\"text\":\"\",\"x\":0,\"xref\":\"x\",\"y\":\"Load_1stFloorSensHeatPowerUsage\",\"yref\":\"y\"},{\"showarrow\":false,\"text\":\"\",\"x\":1,\"xref\":\"x\",\"y\":\"Load_1stFloorSensHeatPowerUsage\",\"yref\":\"y\"},{\"showarrow\":false,\"text\":\"\",\"x\":2,\"xref\":\"x\",\"y\":\"Load_1stFloorSensHeatPowerUsage\",\"yref\":\"y\"},{\"showarrow\":false,\"text\":\"\",\"x\":3,\"xref\":\"x\",\"y\":\"Load_1stFloorSensHeatPowerUsage\",\"yref\":\"y\"},{\"showarrow\":false,\"text\":\"\",\"x\":4,\"xref\":\"x\",\"y\":\"Load_1stFloorSensHeatPowerUsage\",\"yref\":\"y\"},{\"showarrow\":false,\"text\":\"0.33\",\"x\":5,\"xref\":\"x\",\"y\":\"Load_1stFloorSensHeatPowerUsage\",\"yref\":\"y\"},{\"showarrow\":false,\"text\":\"0.71\",\"x\":6,\"xref\":\"x\",\"y\":\"Load_1stFloorSensHeatPowerUsage\",\"yref\":\"y\"},{\"showarrow\":false,\"text\":\"0.71\",\"x\":7,\"xref\":\"x\",\"y\":\"Load_1stFloorSensHeatPowerUsage\",\"yref\":\"y\"},{\"showarrow\":false,\"text\":\"0.99\",\"x\":8,\"xref\":\"x\",\"y\":\"Load_1stFloorSensHeatPowerUsage\",\"yref\":\"y\"},{\"showarrow\":false,\"text\":\"0.28\",\"x\":9,\"xref\":\"x\",\"y\":\"Load_1stFloorSensHeatPowerUsage\",\"yref\":\"y\"},{\"showarrow\":false,\"text\":\"0.28\",\"x\":10,\"xref\":\"x\",\"y\":\"Load_1stFloorSensHeatPowerUsage\",\"yref\":\"y\"},{\"showarrow\":false,\"text\":\"0.28\",\"x\":11,\"xref\":\"x\",\"y\":\"Load_1stFloorSensHeatPowerUsage\",\"yref\":\"y\"},{\"showarrow\":false,\"text\":\"0.28\",\"x\":12,\"xref\":\"x\",\"y\":\"Load_1stFloorSensHeatPowerUsage\",\"yref\":\"y\"},{\"showarrow\":false,\"text\":\"0.28\",\"x\":13,\"xref\":\"x\",\"y\":\"Load_1stFloorSensHeatPowerUsage\",\"yref\":\"y\"},{\"showarrow\":false,\"text\":\"0.28\",\"x\":14,\"xref\":\"x\",\"y\":\"Load_1stFloorSensHeatPowerUsage\",\"yref\":\"y\"},{\"showarrow\":false,\"text\":\"0.42\",\"x\":15,\"xref\":\"x\",\"y\":\"Load_1stFloorSensHeatPowerUsage\",\"yref\":\"y\"},{\"showarrow\":false,\"text\":\"0.57\",\"x\":16,\"xref\":\"x\",\"y\":\"Load_1stFloorSensHeatPowerUsage\",\"yref\":\"y\"},{\"showarrow\":false,\"text\":\"0.59\",\"x\":17,\"xref\":\"x\",\"y\":\"Load_1stFloorSensHeatPowerUsage\",\"yref\":\"y\"},{\"showarrow\":false,\"text\":\"0.93\",\"x\":18,\"xref\":\"x\",\"y\":\"Load_1stFloorSensHeatPowerUsage\",\"yref\":\"y\"},{\"showarrow\":false,\"text\":\"1.0\",\"x\":19,\"xref\":\"x\",\"y\":\"Load_1stFloorSensHeatPowerUsage\",\"yref\":\"y\"},{\"showarrow\":false,\"text\":\"1.0\",\"x\":20,\"xref\":\"x\",\"y\":\"Load_1stFloorSensHeatPowerUsage\",\"yref\":\"y\"},{\"showarrow\":false,\"text\":\"1.0\",\"x\":21,\"xref\":\"x\",\"y\":\"Load_1stFloorSensHeatPowerUsage\",\"yref\":\"y\"},{\"showarrow\":false,\"text\":\"1.0\",\"x\":22,\"xref\":\"x\",\"y\":\"Load_1stFloorSensHeatPowerUsage\",\"yref\":\"y\"},{\"showarrow\":false,\"text\":\"0.28\",\"x\":23,\"xref\":\"x\",\"y\":\"Load_1stFloorSensHeatPowerUsage\",\"yref\":\"y\"},{\"showarrow\":false,\"text\":\"0.98\",\"x\":0,\"xref\":\"x\",\"y\":\"Load_2ndFloorSensHeatPowerUsage\",\"yref\":\"y\"},{\"showarrow\":false,\"text\":\"0.99\",\"x\":1,\"xref\":\"x\",\"y\":\"Load_2ndFloorSensHeatPowerUsage\",\"yref\":\"y\"},{\"showarrow\":false,\"text\":\"0.98\",\"x\":2,\"xref\":\"x\",\"y\":\"Load_2ndFloorSensHeatPowerUsage\",\"yref\":\"y\"},{\"showarrow\":false,\"text\":\"0.98\",\"x\":3,\"xref\":\"x\",\"y\":\"Load_2ndFloorSensHeatPowerUsage\",\"yref\":\"y\"},{\"showarrow\":false,\"text\":\"0.98\",\"x\":4,\"xref\":\"x\",\"y\":\"Load_2ndFloorSensHeatPowerUsage\",\"yref\":\"y\"},{\"showarrow\":false,\"text\":\"0.98\",\"x\":5,\"xref\":\"x\",\"y\":\"Load_2ndFloorSensHeatPowerUsage\",\"yref\":\"y\"},{\"showarrow\":false,\"text\":\"0.99\",\"x\":6,\"xref\":\"x\",\"y\":\"Load_2ndFloorSensHeatPowerUsage\",\"yref\":\"y\"},{\"showarrow\":false,\"text\":\"0.31\",\"x\":7,\"xref\":\"x\",\"y\":\"Load_2ndFloorSensHeatPowerUsage\",\"yref\":\"y\"},{\"showarrow\":false,\"text\":\"0.28\",\"x\":8,\"xref\":\"x\",\"y\":\"Load_2ndFloorSensHeatPowerUsage\",\"yref\":\"y\"},{\"showarrow\":false,\"text\":\"0.22\",\"x\":9,\"xref\":\"x\",\"y\":\"Load_2ndFloorSensHeatPowerUsage\",\"yref\":\"y\"},{\"showarrow\":false,\"text\":\"0.28\",\"x\":10,\"xref\":\"x\",\"y\":\"Load_2ndFloorSensHeatPowerUsage\",\"yref\":\"y\"},{\"showarrow\":false,\"text\":\"0.28\",\"x\":11,\"xref\":\"x\",\"y\":\"Load_2ndFloorSensHeatPowerUsage\",\"yref\":\"y\"},{\"showarrow\":false,\"text\":\"0.28\",\"x\":12,\"xref\":\"x\",\"y\":\"Load_2ndFloorSensHeatPowerUsage\",\"yref\":\"y\"},{\"showarrow\":false,\"text\":\"0.08\",\"x\":13,\"xref\":\"x\",\"y\":\"Load_2ndFloorSensHeatPowerUsage\",\"yref\":\"y\"},{\"showarrow\":false,\"text\":\"0.14\",\"x\":14,\"xref\":\"x\",\"y\":\"Load_2ndFloorSensHeatPowerUsage\",\"yref\":\"y\"},{\"showarrow\":false,\"text\":\"\",\"x\":15,\"xref\":\"x\",\"y\":\"Load_2ndFloorSensHeatPowerUsage\",\"yref\":\"y\"},{\"showarrow\":false,\"text\":\"0.29\",\"x\":16,\"xref\":\"x\",\"y\":\"Load_2ndFloorSensHeatPowerUsage\",\"yref\":\"y\"},{\"showarrow\":false,\"text\":\"0.6\",\"x\":17,\"xref\":\"x\",\"y\":\"Load_2ndFloorSensHeatPowerUsage\",\"yref\":\"y\"},{\"showarrow\":false,\"text\":\"1.0\",\"x\":18,\"xref\":\"x\",\"y\":\"Load_2ndFloorSensHeatPowerUsage\",\"yref\":\"y\"},{\"showarrow\":false,\"text\":\"1.0\",\"x\":19,\"xref\":\"x\",\"y\":\"Load_2ndFloorSensHeatPowerUsage\",\"yref\":\"y\"},{\"showarrow\":false,\"text\":\"1.0\",\"x\":20,\"xref\":\"x\",\"y\":\"Load_2ndFloorSensHeatPowerUsage\",\"yref\":\"y\"},{\"showarrow\":false,\"text\":\"0.85\",\"x\":21,\"xref\":\"x\",\"y\":\"Load_2ndFloorSensHeatPowerUsage\",\"yref\":\"y\"},{\"showarrow\":false,\"text\":\"1.0\",\"x\":22,\"xref\":\"x\",\"y\":\"Load_2ndFloorSensHeatPowerUsage\",\"yref\":\"y\"},{\"showarrow\":false,\"text\":\"1.0\",\"x\":23,\"xref\":\"x\",\"y\":\"Load_2ndFloorSensHeatPowerUsage\",\"yref\":\"y\"},{\"showarrow\":false,\"text\":\"\",\"x\":0,\"xref\":\"x\",\"y\":\"Load_1stFloorLightsPowerUsage\",\"yref\":\"y\"},{\"showarrow\":false,\"text\":\"\",\"x\":1,\"xref\":\"x\",\"y\":\"Load_1stFloorLightsPowerUsage\",\"yref\":\"y\"},{\"showarrow\":false,\"text\":\"0.01\",\"x\":2,\"xref\":\"x\",\"y\":\"Load_1stFloorLightsPowerUsage\",\"yref\":\"y\"},{\"showarrow\":false,\"text\":\"0.01\",\"x\":3,\"xref\":\"x\",\"y\":\"Load_1stFloorLightsPowerUsage\",\"yref\":\"y\"},{\"showarrow\":false,\"text\":\"0.01\",\"x\":4,\"xref\":\"x\",\"y\":\"Load_1stFloorLightsPowerUsage\",\"yref\":\"y\"},{\"showarrow\":false,\"text\":\"0.34\",\"x\":5,\"xref\":\"x\",\"y\":\"Load_1stFloorLightsPowerUsage\",\"yref\":\"y\"},{\"showarrow\":false,\"text\":\"0.72\",\"x\":6,\"xref\":\"x\",\"y\":\"Load_1stFloorLightsPowerUsage\",\"yref\":\"y\"},{\"showarrow\":false,\"text\":\"0.72\",\"x\":7,\"xref\":\"x\",\"y\":\"Load_1stFloorLightsPowerUsage\",\"yref\":\"y\"},{\"showarrow\":false,\"text\":\"0.99\",\"x\":8,\"xref\":\"x\",\"y\":\"Load_1stFloorLightsPowerUsage\",\"yref\":\"y\"},{\"showarrow\":false,\"text\":\"0.47\",\"x\":9,\"xref\":\"x\",\"y\":\"Load_1stFloorLightsPowerUsage\",\"yref\":\"y\"},{\"showarrow\":false,\"text\":\"0.24\",\"x\":10,\"xref\":\"x\",\"y\":\"Load_1stFloorLightsPowerUsage\",\"yref\":\"y\"},{\"showarrow\":false,\"text\":\"0.19\",\"x\":11,\"xref\":\"x\",\"y\":\"Load_1stFloorLightsPowerUsage\",\"yref\":\"y\"},{\"showarrow\":false,\"text\":\"0.09\",\"x\":12,\"xref\":\"x\",\"y\":\"Load_1stFloorLightsPowerUsage\",\"yref\":\"y\"},{\"showarrow\":false,\"text\":\"0.16\",\"x\":13,\"xref\":\"x\",\"y\":\"Load_1stFloorLightsPowerUsage\",\"yref\":\"y\"},{\"showarrow\":false,\"text\":\"0.24\",\"x\":14,\"xref\":\"x\",\"y\":\"Load_1stFloorLightsPowerUsage\",\"yref\":\"y\"},{\"showarrow\":false,\"text\":\"0.23\",\"x\":15,\"xref\":\"x\",\"y\":\"Load_1stFloorLightsPowerUsage\",\"yref\":\"y\"},{\"showarrow\":false,\"text\":\"0.37\",\"x\":16,\"xref\":\"x\",\"y\":\"Load_1stFloorLightsPowerUsage\",\"yref\":\"y\"},{\"showarrow\":false,\"text\":\"0.46\",\"x\":17,\"xref\":\"x\",\"y\":\"Load_1stFloorLightsPowerUsage\",\"yref\":\"y\"},{\"showarrow\":false,\"text\":\"0.93\",\"x\":18,\"xref\":\"x\",\"y\":\"Load_1stFloorLightsPowerUsage\",\"yref\":\"y\"},{\"showarrow\":false,\"text\":\"1.0\",\"x\":19,\"xref\":\"x\",\"y\":\"Load_1stFloorLightsPowerUsage\",\"yref\":\"y\"},{\"showarrow\":false,\"text\":\"1.0\",\"x\":20,\"xref\":\"x\",\"y\":\"Load_1stFloorLightsPowerUsage\",\"yref\":\"y\"},{\"showarrow\":false,\"text\":\"1.0\",\"x\":21,\"xref\":\"x\",\"y\":\"Load_1stFloorLightsPowerUsage\",\"yref\":\"y\"},{\"showarrow\":false,\"text\":\"1.0\",\"x\":22,\"xref\":\"x\",\"y\":\"Load_1stFloorLightsPowerUsage\",\"yref\":\"y\"},{\"showarrow\":false,\"text\":\"0.28\",\"x\":23,\"xref\":\"x\",\"y\":\"Load_1stFloorLightsPowerUsage\",\"yref\":\"y\"},{\"showarrow\":false,\"text\":\"0.08\",\"x\":0,\"xref\":\"x\",\"y\":\"Load_2ndFloorLightsPowerUsage\",\"yref\":\"y\"},{\"showarrow\":false,\"text\":\"\",\"x\":1,\"xref\":\"x\",\"y\":\"Load_2ndFloorLightsPowerUsage\",\"yref\":\"y\"},{\"showarrow\":false,\"text\":\"\",\"x\":2,\"xref\":\"x\",\"y\":\"Load_2ndFloorLightsPowerUsage\",\"yref\":\"y\"},{\"showarrow\":false,\"text\":\"0.71\",\"x\":3,\"xref\":\"x\",\"y\":\"Load_2ndFloorLightsPowerUsage\",\"yref\":\"y\"},{\"showarrow\":false,\"text\":\"0.71\",\"x\":4,\"xref\":\"x\",\"y\":\"Load_2ndFloorLightsPowerUsage\",\"yref\":\"y\"},{\"showarrow\":false,\"text\":\"0.33\",\"x\":5,\"xref\":\"x\",\"y\":\"Load_2ndFloorLightsPowerUsage\",\"yref\":\"y\"},{\"showarrow\":false,\"text\":\"0.71\",\"x\":6,\"xref\":\"x\",\"y\":\"Load_2ndFloorLightsPowerUsage\",\"yref\":\"y\"},{\"showarrow\":false,\"text\":\"0.21\",\"x\":7,\"xref\":\"x\",\"y\":\"Load_2ndFloorLightsPowerUsage\",\"yref\":\"y\"},{\"showarrow\":false,\"text\":\"0.31\",\"x\":8,\"xref\":\"x\",\"y\":\"Load_2ndFloorLightsPowerUsage\",\"yref\":\"y\"},{\"showarrow\":false,\"text\":\"0.28\",\"x\":9,\"xref\":\"x\",\"y\":\"Load_2ndFloorLightsPowerUsage\",\"yref\":\"y\"},{\"showarrow\":false,\"text\":\"0.28\",\"x\":10,\"xref\":\"x\",\"y\":\"Load_2ndFloorLightsPowerUsage\",\"yref\":\"y\"},{\"showarrow\":false,\"text\":\"0.01\",\"x\":11,\"xref\":\"x\",\"y\":\"Load_2ndFloorLightsPowerUsage\",\"yref\":\"y\"},{\"showarrow\":false,\"text\":\"0.13\",\"x\":12,\"xref\":\"x\",\"y\":\"Load_2ndFloorLightsPowerUsage\",\"yref\":\"y\"},{\"showarrow\":false,\"text\":\"0.06\",\"x\":13,\"xref\":\"x\",\"y\":\"Load_2ndFloorLightsPowerUsage\",\"yref\":\"y\"},{\"showarrow\":false,\"text\":\"0.14\",\"x\":14,\"xref\":\"x\",\"y\":\"Load_2ndFloorLightsPowerUsage\",\"yref\":\"y\"},{\"showarrow\":false,\"text\":\"\",\"x\":15,\"xref\":\"x\",\"y\":\"Load_2ndFloorLightsPowerUsage\",\"yref\":\"y\"},{\"showarrow\":false,\"text\":\"0.29\",\"x\":16,\"xref\":\"x\",\"y\":\"Load_2ndFloorLightsPowerUsage\",\"yref\":\"y\"},{\"showarrow\":false,\"text\":\"0.45\",\"x\":17,\"xref\":\"x\",\"y\":\"Load_2ndFloorLightsPowerUsage\",\"yref\":\"y\"},{\"showarrow\":false,\"text\":\"1.0\",\"x\":18,\"xref\":\"x\",\"y\":\"Load_2ndFloorLightsPowerUsage\",\"yref\":\"y\"},{\"showarrow\":false,\"text\":\"0.99\",\"x\":19,\"xref\":\"x\",\"y\":\"Load_2ndFloorLightsPowerUsage\",\"yref\":\"y\"},{\"showarrow\":false,\"text\":\"1.0\",\"x\":20,\"xref\":\"x\",\"y\":\"Load_2ndFloorLightsPowerUsage\",\"yref\":\"y\"},{\"showarrow\":false,\"text\":\"0.85\",\"x\":21,\"xref\":\"x\",\"y\":\"Load_2ndFloorLightsPowerUsage\",\"yref\":\"y\"},{\"showarrow\":false,\"text\":\"1.0\",\"x\":22,\"xref\":\"x\",\"y\":\"Load_2ndFloorLightsPowerUsage\",\"yref\":\"y\"},{\"showarrow\":false,\"text\":\"0.44\",\"x\":23,\"xref\":\"x\",\"y\":\"Load_2ndFloorLightsPowerUsage\",\"yref\":\"y\"},{\"showarrow\":false,\"text\":\"0.99\",\"x\":0,\"xref\":\"x\",\"y\":\"Load_LatentHeatPowerUsage\",\"yref\":\"y\"},{\"showarrow\":false,\"text\":\"0.99\",\"x\":1,\"xref\":\"x\",\"y\":\"Load_LatentHeatPowerUsage\",\"yref\":\"y\"},{\"showarrow\":false,\"text\":\"0.98\",\"x\":2,\"xref\":\"x\",\"y\":\"Load_LatentHeatPowerUsage\",\"yref\":\"y\"},{\"showarrow\":false,\"text\":\"0.98\",\"x\":3,\"xref\":\"x\",\"y\":\"Load_LatentHeatPowerUsage\",\"yref\":\"y\"},{\"showarrow\":false,\"text\":\"0.98\",\"x\":4,\"xref\":\"x\",\"y\":\"Load_LatentHeatPowerUsage\",\"yref\":\"y\"},{\"showarrow\":false,\"text\":\"0.98\",\"x\":5,\"xref\":\"x\",\"y\":\"Load_LatentHeatPowerUsage\",\"yref\":\"y\"},{\"showarrow\":false,\"text\":\"0.97\",\"x\":6,\"xref\":\"x\",\"y\":\"Load_LatentHeatPowerUsage\",\"yref\":\"y\"},{\"showarrow\":false,\"text\":\"0.98\",\"x\":7,\"xref\":\"x\",\"y\":\"Load_LatentHeatPowerUsage\",\"yref\":\"y\"},{\"showarrow\":false,\"text\":\"0.98\",\"x\":8,\"xref\":\"x\",\"y\":\"Load_LatentHeatPowerUsage\",\"yref\":\"y\"},{\"showarrow\":false,\"text\":\"0.01\",\"x\":9,\"xref\":\"x\",\"y\":\"Load_LatentHeatPowerUsage\",\"yref\":\"y\"},{\"showarrow\":false,\"text\":\"\",\"x\":10,\"xref\":\"x\",\"y\":\"Load_LatentHeatPowerUsage\",\"yref\":\"y\"},{\"showarrow\":false,\"text\":\"0.01\",\"x\":11,\"xref\":\"x\",\"y\":\"Load_LatentHeatPowerUsage\",\"yref\":\"y\"},{\"showarrow\":false,\"text\":\"0.02\",\"x\":12,\"xref\":\"x\",\"y\":\"Load_LatentHeatPowerUsage\",\"yref\":\"y\"},{\"showarrow\":false,\"text\":\"0.03\",\"x\":13,\"xref\":\"x\",\"y\":\"Load_LatentHeatPowerUsage\",\"yref\":\"y\"},{\"showarrow\":false,\"text\":\"0.03\",\"x\":14,\"xref\":\"x\",\"y\":\"Load_LatentHeatPowerUsage\",\"yref\":\"y\"},{\"showarrow\":false,\"text\":\"0.49\",\"x\":15,\"xref\":\"x\",\"y\":\"Load_LatentHeatPowerUsage\",\"yref\":\"y\"},{\"showarrow\":false,\"text\":\"0.99\",\"x\":16,\"xref\":\"x\",\"y\":\"Load_LatentHeatPowerUsage\",\"yref\":\"y\"},{\"showarrow\":false,\"text\":\"1.0\",\"x\":17,\"xref\":\"x\",\"y\":\"Load_LatentHeatPowerUsage\",\"yref\":\"y\"},{\"showarrow\":false,\"text\":\"1.0\",\"x\":18,\"xref\":\"x\",\"y\":\"Load_LatentHeatPowerUsage\",\"yref\":\"y\"},{\"showarrow\":false,\"text\":\"1.0\",\"x\":19,\"xref\":\"x\",\"y\":\"Load_LatentHeatPowerUsage\",\"yref\":\"y\"},{\"showarrow\":false,\"text\":\"1.0\",\"x\":20,\"xref\":\"x\",\"y\":\"Load_LatentHeatPowerUsage\",\"yref\":\"y\"},{\"showarrow\":false,\"text\":\"1.0\",\"x\":21,\"xref\":\"x\",\"y\":\"Load_LatentHeatPowerUsage\",\"yref\":\"y\"},{\"showarrow\":false,\"text\":\"1.0\",\"x\":22,\"xref\":\"x\",\"y\":\"Load_LatentHeatPowerUsage\",\"yref\":\"y\"},{\"showarrow\":false,\"text\":\"1.0\",\"x\":23,\"xref\":\"x\",\"y\":\"Load_LatentHeatPowerUsage\",\"yref\":\"y\"},{\"showarrow\":false,\"text\":\"\",\"x\":0,\"xref\":\"x\",\"y\":\"Load_DryerPowerTotal\",\"yref\":\"y\"},{\"showarrow\":false,\"text\":\"\",\"x\":1,\"xref\":\"x\",\"y\":\"Load_DryerPowerTotal\",\"yref\":\"y\"},{\"showarrow\":false,\"text\":\"\",\"x\":2,\"xref\":\"x\",\"y\":\"Load_DryerPowerTotal\",\"yref\":\"y\"},{\"showarrow\":false,\"text\":\"\",\"x\":3,\"xref\":\"x\",\"y\":\"Load_DryerPowerTotal\",\"yref\":\"y\"},{\"showarrow\":false,\"text\":\"\",\"x\":4,\"xref\":\"x\",\"y\":\"Load_DryerPowerTotal\",\"yref\":\"y\"},{\"showarrow\":false,\"text\":\"\",\"x\":5,\"xref\":\"x\",\"y\":\"Load_DryerPowerTotal\",\"yref\":\"y\"},{\"showarrow\":false,\"text\":\"\",\"x\":6,\"xref\":\"x\",\"y\":\"Load_DryerPowerTotal\",\"yref\":\"y\"},{\"showarrow\":false,\"text\":\"0.02\",\"x\":7,\"xref\":\"x\",\"y\":\"Load_DryerPowerTotal\",\"yref\":\"y\"},{\"showarrow\":false,\"text\":\"0.02\",\"x\":8,\"xref\":\"x\",\"y\":\"Load_DryerPowerTotal\",\"yref\":\"y\"},{\"showarrow\":false,\"text\":\"0.01\",\"x\":9,\"xref\":\"x\",\"y\":\"Load_DryerPowerTotal\",\"yref\":\"y\"},{\"showarrow\":false,\"text\":\"0.02\",\"x\":10,\"xref\":\"x\",\"y\":\"Load_DryerPowerTotal\",\"yref\":\"y\"},{\"showarrow\":false,\"text\":\"0.01\",\"x\":11,\"xref\":\"x\",\"y\":\"Load_DryerPowerTotal\",\"yref\":\"y\"},{\"showarrow\":false,\"text\":\"0.98\",\"x\":12,\"xref\":\"x\",\"y\":\"Load_DryerPowerTotal\",\"yref\":\"y\"},{\"showarrow\":false,\"text\":\"0.99\",\"x\":13,\"xref\":\"x\",\"y\":\"Load_DryerPowerTotal\",\"yref\":\"y\"},{\"showarrow\":false,\"text\":\"0.41\",\"x\":14,\"xref\":\"x\",\"y\":\"Load_DryerPowerTotal\",\"yref\":\"y\"},{\"showarrow\":false,\"text\":\"1.0\",\"x\":15,\"xref\":\"x\",\"y\":\"Load_DryerPowerTotal\",\"yref\":\"y\"},{\"showarrow\":false,\"text\":\"\",\"x\":16,\"xref\":\"x\",\"y\":\"Load_DryerPowerTotal\",\"yref\":\"y\"},{\"showarrow\":false,\"text\":\"\",\"x\":17,\"xref\":\"x\",\"y\":\"Load_DryerPowerTotal\",\"yref\":\"y\"},{\"showarrow\":false,\"text\":\"0.02\",\"x\":18,\"xref\":\"x\",\"y\":\"Load_DryerPowerTotal\",\"yref\":\"y\"},{\"showarrow\":false,\"text\":\"\",\"x\":19,\"xref\":\"x\",\"y\":\"Load_DryerPowerTotal\",\"yref\":\"y\"},{\"showarrow\":false,\"text\":\"0.51\",\"x\":20,\"xref\":\"x\",\"y\":\"Load_DryerPowerTotal\",\"yref\":\"y\"},{\"showarrow\":false,\"text\":\"0.5\",\"x\":21,\"xref\":\"x\",\"y\":\"Load_DryerPowerTotal\",\"yref\":\"y\"},{\"showarrow\":false,\"text\":\"0.01\",\"x\":22,\"xref\":\"x\",\"y\":\"Load_DryerPowerTotal\",\"yref\":\"y\"},{\"showarrow\":false,\"text\":\"0.01\",\"x\":23,\"xref\":\"x\",\"y\":\"Load_DryerPowerTotal\",\"yref\":\"y\"},{\"showarrow\":false,\"text\":\"1.0\",\"x\":0,\"xref\":\"x\",\"y\":\"Load_OvenPowerTotal\",\"yref\":\"y\"},{\"showarrow\":false,\"text\":\"1.0\",\"x\":1,\"xref\":\"x\",\"y\":\"Load_OvenPowerTotal\",\"yref\":\"y\"},{\"showarrow\":false,\"text\":\"\",\"x\":2,\"xref\":\"x\",\"y\":\"Load_OvenPowerTotal\",\"yref\":\"y\"},{\"showarrow\":false,\"text\":\"0.25\",\"x\":3,\"xref\":\"x\",\"y\":\"Load_OvenPowerTotal\",\"yref\":\"y\"},{\"showarrow\":false,\"text\":\"0.25\",\"x\":4,\"xref\":\"x\",\"y\":\"Load_OvenPowerTotal\",\"yref\":\"y\"},{\"showarrow\":false,\"text\":\"0.25\",\"x\":5,\"xref\":\"x\",\"y\":\"Load_OvenPowerTotal\",\"yref\":\"y\"},{\"showarrow\":false,\"text\":\"0.25\",\"x\":6,\"xref\":\"x\",\"y\":\"Load_OvenPowerTotal\",\"yref\":\"y\"},{\"showarrow\":false,\"text\":\"0.25\",\"x\":7,\"xref\":\"x\",\"y\":\"Load_OvenPowerTotal\",\"yref\":\"y\"},{\"showarrow\":false,\"text\":\"0.75\",\"x\":8,\"xref\":\"x\",\"y\":\"Load_OvenPowerTotal\",\"yref\":\"y\"},{\"showarrow\":false,\"text\":\"0.75\",\"x\":9,\"xref\":\"x\",\"y\":\"Load_OvenPowerTotal\",\"yref\":\"y\"},{\"showarrow\":false,\"text\":\"0.75\",\"x\":10,\"xref\":\"x\",\"y\":\"Load_OvenPowerTotal\",\"yref\":\"y\"},{\"showarrow\":false,\"text\":\"0.75\",\"x\":11,\"xref\":\"x\",\"y\":\"Load_OvenPowerTotal\",\"yref\":\"y\"},{\"showarrow\":false,\"text\":\"0.75\",\"x\":12,\"xref\":\"x\",\"y\":\"Load_OvenPowerTotal\",\"yref\":\"y\"},{\"showarrow\":false,\"text\":\"0.75\",\"x\":13,\"xref\":\"x\",\"y\":\"Load_OvenPowerTotal\",\"yref\":\"y\"},{\"showarrow\":false,\"text\":\"0.25\",\"x\":14,\"xref\":\"x\",\"y\":\"Load_OvenPowerTotal\",\"yref\":\"y\"},{\"showarrow\":false,\"text\":\"0.25\",\"x\":15,\"xref\":\"x\",\"y\":\"Load_OvenPowerTotal\",\"yref\":\"y\"},{\"showarrow\":false,\"text\":\"0.5\",\"x\":16,\"xref\":\"x\",\"y\":\"Load_OvenPowerTotal\",\"yref\":\"y\"},{\"showarrow\":false,\"text\":\"0.75\",\"x\":17,\"xref\":\"x\",\"y\":\"Load_OvenPowerTotal\",\"yref\":\"y\"},{\"showarrow\":false,\"text\":\"0.75\",\"x\":18,\"xref\":\"x\",\"y\":\"Load_OvenPowerTotal\",\"yref\":\"y\"},{\"showarrow\":false,\"text\":\"0.75\",\"x\":19,\"xref\":\"x\",\"y\":\"Load_OvenPowerTotal\",\"yref\":\"y\"},{\"showarrow\":false,\"text\":\"0.75\",\"x\":20,\"xref\":\"x\",\"y\":\"Load_OvenPowerTotal\",\"yref\":\"y\"},{\"showarrow\":false,\"text\":\"0.75\",\"x\":21,\"xref\":\"x\",\"y\":\"Load_OvenPowerTotal\",\"yref\":\"y\"},{\"showarrow\":false,\"text\":\"0.75\",\"x\":22,\"xref\":\"x\",\"y\":\"Load_OvenPowerTotal\",\"yref\":\"y\"},{\"showarrow\":false,\"text\":\"0.75\",\"x\":23,\"xref\":\"x\",\"y\":\"Load_OvenPowerTotal\",\"yref\":\"y\"},{\"showarrow\":false,\"text\":\"1.0\",\"x\":0,\"xref\":\"x\",\"y\":\"Load_BasementPlugLoadsPowerUsage\",\"yref\":\"y\"},{\"showarrow\":false,\"text\":\"1.0\",\"x\":1,\"xref\":\"x\",\"y\":\"Load_BasementPlugLoadsPowerUsage\",\"yref\":\"y\"},{\"showarrow\":false,\"text\":\"\",\"x\":2,\"xref\":\"x\",\"y\":\"Load_BasementPlugLoadsPowerUsage\",\"yref\":\"y\"},{\"showarrow\":false,\"text\":\"0.25\",\"x\":3,\"xref\":\"x\",\"y\":\"Load_BasementPlugLoadsPowerUsage\",\"yref\":\"y\"},{\"showarrow\":false,\"text\":\"0.25\",\"x\":4,\"xref\":\"x\",\"y\":\"Load_BasementPlugLoadsPowerUsage\",\"yref\":\"y\"},{\"showarrow\":false,\"text\":\"0.25\",\"x\":5,\"xref\":\"x\",\"y\":\"Load_BasementPlugLoadsPowerUsage\",\"yref\":\"y\"},{\"showarrow\":false,\"text\":\"0.25\",\"x\":6,\"xref\":\"x\",\"y\":\"Load_BasementPlugLoadsPowerUsage\",\"yref\":\"y\"},{\"showarrow\":false,\"text\":\"0.25\",\"x\":7,\"xref\":\"x\",\"y\":\"Load_BasementPlugLoadsPowerUsage\",\"yref\":\"y\"},{\"showarrow\":false,\"text\":\"0.75\",\"x\":8,\"xref\":\"x\",\"y\":\"Load_BasementPlugLoadsPowerUsage\",\"yref\":\"y\"},{\"showarrow\":false,\"text\":\"0.5\",\"x\":9,\"xref\":\"x\",\"y\":\"Load_BasementPlugLoadsPowerUsage\",\"yref\":\"y\"},{\"showarrow\":false,\"text\":\"0.5\",\"x\":10,\"xref\":\"x\",\"y\":\"Load_BasementPlugLoadsPowerUsage\",\"yref\":\"y\"},{\"showarrow\":false,\"text\":\"0.5\",\"x\":11,\"xref\":\"x\",\"y\":\"Load_BasementPlugLoadsPowerUsage\",\"yref\":\"y\"},{\"showarrow\":false,\"text\":\"0.5\",\"x\":12,\"xref\":\"x\",\"y\":\"Load_BasementPlugLoadsPowerUsage\",\"yref\":\"y\"},{\"showarrow\":false,\"text\":\"0.5\",\"x\":13,\"xref\":\"x\",\"y\":\"Load_BasementPlugLoadsPowerUsage\",\"yref\":\"y\"},{\"showarrow\":false,\"text\":\"\",\"x\":14,\"xref\":\"x\",\"y\":\"Load_BasementPlugLoadsPowerUsage\",\"yref\":\"y\"},{\"showarrow\":false,\"text\":\"\",\"x\":15,\"xref\":\"x\",\"y\":\"Load_BasementPlugLoadsPowerUsage\",\"yref\":\"y\"},{\"showarrow\":false,\"text\":\"0.25\",\"x\":16,\"xref\":\"x\",\"y\":\"Load_BasementPlugLoadsPowerUsage\",\"yref\":\"y\"},{\"showarrow\":false,\"text\":\"0.5\",\"x\":17,\"xref\":\"x\",\"y\":\"Load_BasementPlugLoadsPowerUsage\",\"yref\":\"y\"},{\"showarrow\":false,\"text\":\"0.75\",\"x\":18,\"xref\":\"x\",\"y\":\"Load_BasementPlugLoadsPowerUsage\",\"yref\":\"y\"},{\"showarrow\":false,\"text\":\"0.75\",\"x\":19,\"xref\":\"x\",\"y\":\"Load_BasementPlugLoadsPowerUsage\",\"yref\":\"y\"},{\"showarrow\":false,\"text\":\"0.75\",\"x\":20,\"xref\":\"x\",\"y\":\"Load_BasementPlugLoadsPowerUsage\",\"yref\":\"y\"},{\"showarrow\":false,\"text\":\"0.75\",\"x\":21,\"xref\":\"x\",\"y\":\"Load_BasementPlugLoadsPowerUsage\",\"yref\":\"y\"},{\"showarrow\":false,\"text\":\"0.75\",\"x\":22,\"xref\":\"x\",\"y\":\"Load_BasementPlugLoadsPowerUsage\",\"yref\":\"y\"},{\"showarrow\":false,\"text\":\"0.5\",\"x\":23,\"xref\":\"x\",\"y\":\"Load_BasementPlugLoadsPowerUsage\",\"yref\":\"y\"},{\"showarrow\":false,\"text\":\"1.0\",\"x\":0,\"xref\":\"x\",\"y\":\"Load_ClothesWasherPowerWithStandby\",\"yref\":\"y\"},{\"showarrow\":false,\"text\":\"1.0\",\"x\":1,\"xref\":\"x\",\"y\":\"Load_ClothesWasherPowerWithStandby\",\"yref\":\"y\"},{\"showarrow\":false,\"text\":\"\",\"x\":2,\"xref\":\"x\",\"y\":\"Load_ClothesWasherPowerWithStandby\",\"yref\":\"y\"},{\"showarrow\":false,\"text\":\"0.25\",\"x\":3,\"xref\":\"x\",\"y\":\"Load_ClothesWasherPowerWithStandby\",\"yref\":\"y\"},{\"showarrow\":false,\"text\":\"0.25\",\"x\":4,\"xref\":\"x\",\"y\":\"Load_ClothesWasherPowerWithStandby\",\"yref\":\"y\"},{\"showarrow\":false,\"text\":\"0.25\",\"x\":5,\"xref\":\"x\",\"y\":\"Load_ClothesWasherPowerWithStandby\",\"yref\":\"y\"},{\"showarrow\":false,\"text\":\"0.25\",\"x\":6,\"xref\":\"x\",\"y\":\"Load_ClothesWasherPowerWithStandby\",\"yref\":\"y\"},{\"showarrow\":false,\"text\":\"0.25\",\"x\":7,\"xref\":\"x\",\"y\":\"Load_ClothesWasherPowerWithStandby\",\"yref\":\"y\"},{\"showarrow\":false,\"text\":\"0.75\",\"x\":8,\"xref\":\"x\",\"y\":\"Load_ClothesWasherPowerWithStandby\",\"yref\":\"y\"},{\"showarrow\":false,\"text\":\"0.75\",\"x\":9,\"xref\":\"x\",\"y\":\"Load_ClothesWasherPowerWithStandby\",\"yref\":\"y\"},{\"showarrow\":false,\"text\":\"0.75\",\"x\":10,\"xref\":\"x\",\"y\":\"Load_ClothesWasherPowerWithStandby\",\"yref\":\"y\"},{\"showarrow\":false,\"text\":\"0.75\",\"x\":11,\"xref\":\"x\",\"y\":\"Load_ClothesWasherPowerWithStandby\",\"yref\":\"y\"},{\"showarrow\":false,\"text\":\"0.5\",\"x\":12,\"xref\":\"x\",\"y\":\"Load_ClothesWasherPowerWithStandby\",\"yref\":\"y\"},{\"showarrow\":false,\"text\":\"0.5\",\"x\":13,\"xref\":\"x\",\"y\":\"Load_ClothesWasherPowerWithStandby\",\"yref\":\"y\"},{\"showarrow\":false,\"text\":\"\",\"x\":14,\"xref\":\"x\",\"y\":\"Load_ClothesWasherPowerWithStandby\",\"yref\":\"y\"},{\"showarrow\":false,\"text\":\"\",\"x\":15,\"xref\":\"x\",\"y\":\"Load_ClothesWasherPowerWithStandby\",\"yref\":\"y\"},{\"showarrow\":false,\"text\":\"0.25\",\"x\":16,\"xref\":\"x\",\"y\":\"Load_ClothesWasherPowerWithStandby\",\"yref\":\"y\"},{\"showarrow\":false,\"text\":\"0.5\",\"x\":17,\"xref\":\"x\",\"y\":\"Load_ClothesWasherPowerWithStandby\",\"yref\":\"y\"},{\"showarrow\":false,\"text\":\"0.5\",\"x\":18,\"xref\":\"x\",\"y\":\"Load_ClothesWasherPowerWithStandby\",\"yref\":\"y\"},{\"showarrow\":false,\"text\":\"0.5\",\"x\":19,\"xref\":\"x\",\"y\":\"Load_ClothesWasherPowerWithStandby\",\"yref\":\"y\"},{\"showarrow\":false,\"text\":\"0.5\",\"x\":20,\"xref\":\"x\",\"y\":\"Load_ClothesWasherPowerWithStandby\",\"yref\":\"y\"},{\"showarrow\":false,\"text\":\"0.5\",\"x\":21,\"xref\":\"x\",\"y\":\"Load_ClothesWasherPowerWithStandby\",\"yref\":\"y\"},{\"showarrow\":false,\"text\":\"0.5\",\"x\":22,\"xref\":\"x\",\"y\":\"Load_ClothesWasherPowerWithStandby\",\"yref\":\"y\"},{\"showarrow\":false,\"text\":\"0.5\",\"x\":23,\"xref\":\"x\",\"y\":\"Load_ClothesWasherPowerWithStandby\",\"yref\":\"y\"},{\"showarrow\":false,\"text\":\"1.0\",\"x\":0,\"xref\":\"x\",\"y\":\"Load_RefrigeratorPowerWithStandby\",\"yref\":\"y\"},{\"showarrow\":false,\"text\":\"1.0\",\"x\":1,\"xref\":\"x\",\"y\":\"Load_RefrigeratorPowerWithStandby\",\"yref\":\"y\"},{\"showarrow\":false,\"text\":\"\",\"x\":2,\"xref\":\"x\",\"y\":\"Load_RefrigeratorPowerWithStandby\",\"yref\":\"y\"},{\"showarrow\":false,\"text\":\"0.25\",\"x\":3,\"xref\":\"x\",\"y\":\"Load_RefrigeratorPowerWithStandby\",\"yref\":\"y\"},{\"showarrow\":false,\"text\":\"0.25\",\"x\":4,\"xref\":\"x\",\"y\":\"Load_RefrigeratorPowerWithStandby\",\"yref\":\"y\"},{\"showarrow\":false,\"text\":\"0.25\",\"x\":5,\"xref\":\"x\",\"y\":\"Load_RefrigeratorPowerWithStandby\",\"yref\":\"y\"},{\"showarrow\":false,\"text\":\"0.25\",\"x\":6,\"xref\":\"x\",\"y\":\"Load_RefrigeratorPowerWithStandby\",\"yref\":\"y\"},{\"showarrow\":false,\"text\":\"0.25\",\"x\":7,\"xref\":\"x\",\"y\":\"Load_RefrigeratorPowerWithStandby\",\"yref\":\"y\"},{\"showarrow\":false,\"text\":\"0.75\",\"x\":8,\"xref\":\"x\",\"y\":\"Load_RefrigeratorPowerWithStandby\",\"yref\":\"y\"},{\"showarrow\":false,\"text\":\"0.75\",\"x\":9,\"xref\":\"x\",\"y\":\"Load_RefrigeratorPowerWithStandby\",\"yref\":\"y\"},{\"showarrow\":false,\"text\":\"0.75\",\"x\":10,\"xref\":\"x\",\"y\":\"Load_RefrigeratorPowerWithStandby\",\"yref\":\"y\"},{\"showarrow\":false,\"text\":\"0.75\",\"x\":11,\"xref\":\"x\",\"y\":\"Load_RefrigeratorPowerWithStandby\",\"yref\":\"y\"},{\"showarrow\":false,\"text\":\"0.75\",\"x\":12,\"xref\":\"x\",\"y\":\"Load_RefrigeratorPowerWithStandby\",\"yref\":\"y\"},{\"showarrow\":false,\"text\":\"0.75\",\"x\":13,\"xref\":\"x\",\"y\":\"Load_RefrigeratorPowerWithStandby\",\"yref\":\"y\"},{\"showarrow\":false,\"text\":\"0.25\",\"x\":14,\"xref\":\"x\",\"y\":\"Load_RefrigeratorPowerWithStandby\",\"yref\":\"y\"},{\"showarrow\":false,\"text\":\"0.25\",\"x\":15,\"xref\":\"x\",\"y\":\"Load_RefrigeratorPowerWithStandby\",\"yref\":\"y\"},{\"showarrow\":false,\"text\":\"0.5\",\"x\":16,\"xref\":\"x\",\"y\":\"Load_RefrigeratorPowerWithStandby\",\"yref\":\"y\"},{\"showarrow\":false,\"text\":\"0.75\",\"x\":17,\"xref\":\"x\",\"y\":\"Load_RefrigeratorPowerWithStandby\",\"yref\":\"y\"},{\"showarrow\":false,\"text\":\"0.75\",\"x\":18,\"xref\":\"x\",\"y\":\"Load_RefrigeratorPowerWithStandby\",\"yref\":\"y\"},{\"showarrow\":false,\"text\":\"0.75\",\"x\":19,\"xref\":\"x\",\"y\":\"Load_RefrigeratorPowerWithStandby\",\"yref\":\"y\"},{\"showarrow\":false,\"text\":\"0.75\",\"x\":20,\"xref\":\"x\",\"y\":\"Load_RefrigeratorPowerWithStandby\",\"yref\":\"y\"},{\"showarrow\":false,\"text\":\"0.75\",\"x\":21,\"xref\":\"x\",\"y\":\"Load_RefrigeratorPowerWithStandby\",\"yref\":\"y\"},{\"showarrow\":false,\"text\":\"0.75\",\"x\":22,\"xref\":\"x\",\"y\":\"Load_RefrigeratorPowerWithStandby\",\"yref\":\"y\"},{\"showarrow\":false,\"text\":\"0.75\",\"x\":23,\"xref\":\"x\",\"y\":\"Load_RefrigeratorPowerWithStandby\",\"yref\":\"y\"},{\"showarrow\":false,\"text\":\"1.0\",\"x\":0,\"xref\":\"x\",\"y\":\"Load_MicrowavePowerWithStandby\",\"yref\":\"y\"},{\"showarrow\":false,\"text\":\"1.0\",\"x\":1,\"xref\":\"x\",\"y\":\"Load_MicrowavePowerWithStandby\",\"yref\":\"y\"},{\"showarrow\":false,\"text\":\"\",\"x\":2,\"xref\":\"x\",\"y\":\"Load_MicrowavePowerWithStandby\",\"yref\":\"y\"},{\"showarrow\":false,\"text\":\"0.25\",\"x\":3,\"xref\":\"x\",\"y\":\"Load_MicrowavePowerWithStandby\",\"yref\":\"y\"},{\"showarrow\":false,\"text\":\"0.25\",\"x\":4,\"xref\":\"x\",\"y\":\"Load_MicrowavePowerWithStandby\",\"yref\":\"y\"},{\"showarrow\":false,\"text\":\"0.25\",\"x\":5,\"xref\":\"x\",\"y\":\"Load_MicrowavePowerWithStandby\",\"yref\":\"y\"},{\"showarrow\":false,\"text\":\"0.25\",\"x\":6,\"xref\":\"x\",\"y\":\"Load_MicrowavePowerWithStandby\",\"yref\":\"y\"},{\"showarrow\":false,\"text\":\"0.25\",\"x\":7,\"xref\":\"x\",\"y\":\"Load_MicrowavePowerWithStandby\",\"yref\":\"y\"},{\"showarrow\":false,\"text\":\"0.75\",\"x\":8,\"xref\":\"x\",\"y\":\"Load_MicrowavePowerWithStandby\",\"yref\":\"y\"},{\"showarrow\":false,\"text\":\"0.75\",\"x\":9,\"xref\":\"x\",\"y\":\"Load_MicrowavePowerWithStandby\",\"yref\":\"y\"},{\"showarrow\":false,\"text\":\"0.75\",\"x\":10,\"xref\":\"x\",\"y\":\"Load_MicrowavePowerWithStandby\",\"yref\":\"y\"},{\"showarrow\":false,\"text\":\"0.75\",\"x\":11,\"xref\":\"x\",\"y\":\"Load_MicrowavePowerWithStandby\",\"yref\":\"y\"},{\"showarrow\":false,\"text\":\"0.75\",\"x\":12,\"xref\":\"x\",\"y\":\"Load_MicrowavePowerWithStandby\",\"yref\":\"y\"},{\"showarrow\":false,\"text\":\"0.75\",\"x\":13,\"xref\":\"x\",\"y\":\"Load_MicrowavePowerWithStandby\",\"yref\":\"y\"},{\"showarrow\":false,\"text\":\"0.25\",\"x\":14,\"xref\":\"x\",\"y\":\"Load_MicrowavePowerWithStandby\",\"yref\":\"y\"},{\"showarrow\":false,\"text\":\"0.25\",\"x\":15,\"xref\":\"x\",\"y\":\"Load_MicrowavePowerWithStandby\",\"yref\":\"y\"},{\"showarrow\":false,\"text\":\"0.5\",\"x\":16,\"xref\":\"x\",\"y\":\"Load_MicrowavePowerWithStandby\",\"yref\":\"y\"},{\"showarrow\":false,\"text\":\"0.75\",\"x\":17,\"xref\":\"x\",\"y\":\"Load_MicrowavePowerWithStandby\",\"yref\":\"y\"},{\"showarrow\":false,\"text\":\"0.75\",\"x\":18,\"xref\":\"x\",\"y\":\"Load_MicrowavePowerWithStandby\",\"yref\":\"y\"},{\"showarrow\":false,\"text\":\"0.75\",\"x\":19,\"xref\":\"x\",\"y\":\"Load_MicrowavePowerWithStandby\",\"yref\":\"y\"},{\"showarrow\":false,\"text\":\"0.75\",\"x\":20,\"xref\":\"x\",\"y\":\"Load_MicrowavePowerWithStandby\",\"yref\":\"y\"},{\"showarrow\":false,\"text\":\"0.75\",\"x\":21,\"xref\":\"x\",\"y\":\"Load_MicrowavePowerWithStandby\",\"yref\":\"y\"},{\"showarrow\":false,\"text\":\"0.75\",\"x\":22,\"xref\":\"x\",\"y\":\"Load_MicrowavePowerWithStandby\",\"yref\":\"y\"},{\"showarrow\":false,\"text\":\"0.75\",\"x\":23,\"xref\":\"x\",\"y\":\"Load_MicrowavePowerWithStandby\",\"yref\":\"y\"},{\"showarrow\":false,\"text\":\"\",\"x\":0,\"xref\":\"x\",\"y\":\"Elec_PowerDryer1of2\",\"yref\":\"y\"},{\"showarrow\":false,\"text\":\"\",\"x\":1,\"xref\":\"x\",\"y\":\"Elec_PowerDryer1of2\",\"yref\":\"y\"},{\"showarrow\":false,\"text\":\"\",\"x\":2,\"xref\":\"x\",\"y\":\"Elec_PowerDryer1of2\",\"yref\":\"y\"},{\"showarrow\":false,\"text\":\"\",\"x\":3,\"xref\":\"x\",\"y\":\"Elec_PowerDryer1of2\",\"yref\":\"y\"},{\"showarrow\":false,\"text\":\"\",\"x\":4,\"xref\":\"x\",\"y\":\"Elec_PowerDryer1of2\",\"yref\":\"y\"},{\"showarrow\":false,\"text\":\"\",\"x\":5,\"xref\":\"x\",\"y\":\"Elec_PowerDryer1of2\",\"yref\":\"y\"},{\"showarrow\":false,\"text\":\"\",\"x\":6,\"xref\":\"x\",\"y\":\"Elec_PowerDryer1of2\",\"yref\":\"y\"},{\"showarrow\":false,\"text\":\"0.02\",\"x\":7,\"xref\":\"x\",\"y\":\"Elec_PowerDryer1of2\",\"yref\":\"y\"},{\"showarrow\":false,\"text\":\"0.02\",\"x\":8,\"xref\":\"x\",\"y\":\"Elec_PowerDryer1of2\",\"yref\":\"y\"},{\"showarrow\":false,\"text\":\"0.01\",\"x\":9,\"xref\":\"x\",\"y\":\"Elec_PowerDryer1of2\",\"yref\":\"y\"},{\"showarrow\":false,\"text\":\"0.02\",\"x\":10,\"xref\":\"x\",\"y\":\"Elec_PowerDryer1of2\",\"yref\":\"y\"},{\"showarrow\":false,\"text\":\"0.01\",\"x\":11,\"xref\":\"x\",\"y\":\"Elec_PowerDryer1of2\",\"yref\":\"y\"},{\"showarrow\":false,\"text\":\"0.98\",\"x\":12,\"xref\":\"x\",\"y\":\"Elec_PowerDryer1of2\",\"yref\":\"y\"},{\"showarrow\":false,\"text\":\"0.99\",\"x\":13,\"xref\":\"x\",\"y\":\"Elec_PowerDryer1of2\",\"yref\":\"y\"},{\"showarrow\":false,\"text\":\"0.41\",\"x\":14,\"xref\":\"x\",\"y\":\"Elec_PowerDryer1of2\",\"yref\":\"y\"},{\"showarrow\":false,\"text\":\"1.0\",\"x\":15,\"xref\":\"x\",\"y\":\"Elec_PowerDryer1of2\",\"yref\":\"y\"},{\"showarrow\":false,\"text\":\"\",\"x\":16,\"xref\":\"x\",\"y\":\"Elec_PowerDryer1of2\",\"yref\":\"y\"},{\"showarrow\":false,\"text\":\"\",\"x\":17,\"xref\":\"x\",\"y\":\"Elec_PowerDryer1of2\",\"yref\":\"y\"},{\"showarrow\":false,\"text\":\"0.02\",\"x\":18,\"xref\":\"x\",\"y\":\"Elec_PowerDryer1of2\",\"yref\":\"y\"},{\"showarrow\":false,\"text\":\"\",\"x\":19,\"xref\":\"x\",\"y\":\"Elec_PowerDryer1of2\",\"yref\":\"y\"},{\"showarrow\":false,\"text\":\"0.51\",\"x\":20,\"xref\":\"x\",\"y\":\"Elec_PowerDryer1of2\",\"yref\":\"y\"},{\"showarrow\":false,\"text\":\"0.5\",\"x\":21,\"xref\":\"x\",\"y\":\"Elec_PowerDryer1of2\",\"yref\":\"y\"},{\"showarrow\":false,\"text\":\"0.01\",\"x\":22,\"xref\":\"x\",\"y\":\"Elec_PowerDryer1of2\",\"yref\":\"y\"},{\"showarrow\":false,\"text\":\"0.01\",\"x\":23,\"xref\":\"x\",\"y\":\"Elec_PowerDryer1of2\",\"yref\":\"y\"},{\"showarrow\":false,\"text\":\"\",\"x\":0,\"xref\":\"x\",\"y\":\"Elec_PowerDryer2of2\",\"yref\":\"y\"},{\"showarrow\":false,\"text\":\"\",\"x\":1,\"xref\":\"x\",\"y\":\"Elec_PowerDryer2of2\",\"yref\":\"y\"},{\"showarrow\":false,\"text\":\"\",\"x\":2,\"xref\":\"x\",\"y\":\"Elec_PowerDryer2of2\",\"yref\":\"y\"},{\"showarrow\":false,\"text\":\"\",\"x\":3,\"xref\":\"x\",\"y\":\"Elec_PowerDryer2of2\",\"yref\":\"y\"},{\"showarrow\":false,\"text\":\"\",\"x\":4,\"xref\":\"x\",\"y\":\"Elec_PowerDryer2of2\",\"yref\":\"y\"},{\"showarrow\":false,\"text\":\"\",\"x\":5,\"xref\":\"x\",\"y\":\"Elec_PowerDryer2of2\",\"yref\":\"y\"},{\"showarrow\":false,\"text\":\"\",\"x\":6,\"xref\":\"x\",\"y\":\"Elec_PowerDryer2of2\",\"yref\":\"y\"},{\"showarrow\":false,\"text\":\"\",\"x\":7,\"xref\":\"x\",\"y\":\"Elec_PowerDryer2of2\",\"yref\":\"y\"},{\"showarrow\":false,\"text\":\"\",\"x\":8,\"xref\":\"x\",\"y\":\"Elec_PowerDryer2of2\",\"yref\":\"y\"},{\"showarrow\":false,\"text\":\"\",\"x\":9,\"xref\":\"x\",\"y\":\"Elec_PowerDryer2of2\",\"yref\":\"y\"},{\"showarrow\":false,\"text\":\"\",\"x\":10,\"xref\":\"x\",\"y\":\"Elec_PowerDryer2of2\",\"yref\":\"y\"},{\"showarrow\":false,\"text\":\"\",\"x\":11,\"xref\":\"x\",\"y\":\"Elec_PowerDryer2of2\",\"yref\":\"y\"},{\"showarrow\":false,\"text\":\"1.0\",\"x\":12,\"xref\":\"x\",\"y\":\"Elec_PowerDryer2of2\",\"yref\":\"y\"},{\"showarrow\":false,\"text\":\"0.71\",\"x\":13,\"xref\":\"x\",\"y\":\"Elec_PowerDryer2of2\",\"yref\":\"y\"},{\"showarrow\":false,\"text\":\"0.2\",\"x\":14,\"xref\":\"x\",\"y\":\"Elec_PowerDryer2of2\",\"yref\":\"y\"},{\"showarrow\":false,\"text\":\"1.0\",\"x\":15,\"xref\":\"x\",\"y\":\"Elec_PowerDryer2of2\",\"yref\":\"y\"},{\"showarrow\":false,\"text\":\"\",\"x\":16,\"xref\":\"x\",\"y\":\"Elec_PowerDryer2of2\",\"yref\":\"y\"},{\"showarrow\":false,\"text\":\"\",\"x\":17,\"xref\":\"x\",\"y\":\"Elec_PowerDryer2of2\",\"yref\":\"y\"},{\"showarrow\":false,\"text\":\"\",\"x\":18,\"xref\":\"x\",\"y\":\"Elec_PowerDryer2of2\",\"yref\":\"y\"},{\"showarrow\":false,\"text\":\"\",\"x\":19,\"xref\":\"x\",\"y\":\"Elec_PowerDryer2of2\",\"yref\":\"y\"},{\"showarrow\":false,\"text\":\"0.52\",\"x\":20,\"xref\":\"x\",\"y\":\"Elec_PowerDryer2of2\",\"yref\":\"y\"},{\"showarrow\":false,\"text\":\"0.38\",\"x\":21,\"xref\":\"x\",\"y\":\"Elec_PowerDryer2of2\",\"yref\":\"y\"},{\"showarrow\":false,\"text\":\"0.01\",\"x\":22,\"xref\":\"x\",\"y\":\"Elec_PowerDryer2of2\",\"yref\":\"y\"},{\"showarrow\":false,\"text\":\"0.01\",\"x\":23,\"xref\":\"x\",\"y\":\"Elec_PowerDryer2of2\",\"yref\":\"y\"},{\"showarrow\":false,\"text\":\"1.0\",\"x\":0,\"xref\":\"x\",\"y\":\"Elec_PowerHRV\",\"yref\":\"y\"},{\"showarrow\":false,\"text\":\"1.0\",\"x\":1,\"xref\":\"x\",\"y\":\"Elec_PowerHRV\",\"yref\":\"y\"},{\"showarrow\":false,\"text\":\"\",\"x\":2,\"xref\":\"x\",\"y\":\"Elec_PowerHRV\",\"yref\":\"y\"},{\"showarrow\":false,\"text\":\"0.25\",\"x\":3,\"xref\":\"x\",\"y\":\"Elec_PowerHRV\",\"yref\":\"y\"},{\"showarrow\":false,\"text\":\"0.25\",\"x\":4,\"xref\":\"x\",\"y\":\"Elec_PowerHRV\",\"yref\":\"y\"},{\"showarrow\":false,\"text\":\"0.25\",\"x\":5,\"xref\":\"x\",\"y\":\"Elec_PowerHRV\",\"yref\":\"y\"},{\"showarrow\":false,\"text\":\"0.25\",\"x\":6,\"xref\":\"x\",\"y\":\"Elec_PowerHRV\",\"yref\":\"y\"},{\"showarrow\":false,\"text\":\"0.25\",\"x\":7,\"xref\":\"x\",\"y\":\"Elec_PowerHRV\",\"yref\":\"y\"},{\"showarrow\":false,\"text\":\"0.75\",\"x\":8,\"xref\":\"x\",\"y\":\"Elec_PowerHRV\",\"yref\":\"y\"},{\"showarrow\":false,\"text\":\"0.75\",\"x\":9,\"xref\":\"x\",\"y\":\"Elec_PowerHRV\",\"yref\":\"y\"},{\"showarrow\":false,\"text\":\"0.75\",\"x\":10,\"xref\":\"x\",\"y\":\"Elec_PowerHRV\",\"yref\":\"y\"},{\"showarrow\":false,\"text\":\"0.75\",\"x\":11,\"xref\":\"x\",\"y\":\"Elec_PowerHRV\",\"yref\":\"y\"},{\"showarrow\":false,\"text\":\"0.5\",\"x\":12,\"xref\":\"x\",\"y\":\"Elec_PowerHRV\",\"yref\":\"y\"},{\"showarrow\":false,\"text\":\"0.5\",\"x\":13,\"xref\":\"x\",\"y\":\"Elec_PowerHRV\",\"yref\":\"y\"},{\"showarrow\":false,\"text\":\"0.25\",\"x\":14,\"xref\":\"x\",\"y\":\"Elec_PowerHRV\",\"yref\":\"y\"},{\"showarrow\":false,\"text\":\"0.25\",\"x\":15,\"xref\":\"x\",\"y\":\"Elec_PowerHRV\",\"yref\":\"y\"},{\"showarrow\":false,\"text\":\"0.25\",\"x\":16,\"xref\":\"x\",\"y\":\"Elec_PowerHRV\",\"yref\":\"y\"},{\"showarrow\":false,\"text\":\"0.75\",\"x\":17,\"xref\":\"x\",\"y\":\"Elec_PowerHRV\",\"yref\":\"y\"},{\"showarrow\":false,\"text\":\"0.75\",\"x\":18,\"xref\":\"x\",\"y\":\"Elec_PowerHRV\",\"yref\":\"y\"},{\"showarrow\":false,\"text\":\"0.75\",\"x\":19,\"xref\":\"x\",\"y\":\"Elec_PowerHRV\",\"yref\":\"y\"},{\"showarrow\":false,\"text\":\"0.75\",\"x\":20,\"xref\":\"x\",\"y\":\"Elec_PowerHRV\",\"yref\":\"y\"},{\"showarrow\":false,\"text\":\"0.75\",\"x\":21,\"xref\":\"x\",\"y\":\"Elec_PowerHRV\",\"yref\":\"y\"},{\"showarrow\":false,\"text\":\"0.75\",\"x\":22,\"xref\":\"x\",\"y\":\"Elec_PowerHRV\",\"yref\":\"y\"},{\"showarrow\":false,\"text\":\"0.75\",\"x\":23,\"xref\":\"x\",\"y\":\"Elec_PowerHRV\",\"yref\":\"y\"},{\"showarrow\":false,\"text\":\"nan\",\"x\":0,\"xref\":\"x\",\"y\":\"Elec_PowerHeatPumpWH1of2\",\"yref\":\"y\"},{\"showarrow\":false,\"text\":\"nan\",\"x\":1,\"xref\":\"x\",\"y\":\"Elec_PowerHeatPumpWH1of2\",\"yref\":\"y\"},{\"showarrow\":false,\"text\":\"nan\",\"x\":2,\"xref\":\"x\",\"y\":\"Elec_PowerHeatPumpWH1of2\",\"yref\":\"y\"},{\"showarrow\":false,\"text\":\"nan\",\"x\":3,\"xref\":\"x\",\"y\":\"Elec_PowerHeatPumpWH1of2\",\"yref\":\"y\"},{\"showarrow\":false,\"text\":\"nan\",\"x\":4,\"xref\":\"x\",\"y\":\"Elec_PowerHeatPumpWH1of2\",\"yref\":\"y\"},{\"showarrow\":false,\"text\":\"nan\",\"x\":5,\"xref\":\"x\",\"y\":\"Elec_PowerHeatPumpWH1of2\",\"yref\":\"y\"},{\"showarrow\":false,\"text\":\"nan\",\"x\":6,\"xref\":\"x\",\"y\":\"Elec_PowerHeatPumpWH1of2\",\"yref\":\"y\"},{\"showarrow\":false,\"text\":\"nan\",\"x\":7,\"xref\":\"x\",\"y\":\"Elec_PowerHeatPumpWH1of2\",\"yref\":\"y\"},{\"showarrow\":false,\"text\":\"nan\",\"x\":8,\"xref\":\"x\",\"y\":\"Elec_PowerHeatPumpWH1of2\",\"yref\":\"y\"},{\"showarrow\":false,\"text\":\"nan\",\"x\":9,\"xref\":\"x\",\"y\":\"Elec_PowerHeatPumpWH1of2\",\"yref\":\"y\"},{\"showarrow\":false,\"text\":\"nan\",\"x\":10,\"xref\":\"x\",\"y\":\"Elec_PowerHeatPumpWH1of2\",\"yref\":\"y\"},{\"showarrow\":false,\"text\":\"nan\",\"x\":11,\"xref\":\"x\",\"y\":\"Elec_PowerHeatPumpWH1of2\",\"yref\":\"y\"},{\"showarrow\":false,\"text\":\"nan\",\"x\":12,\"xref\":\"x\",\"y\":\"Elec_PowerHeatPumpWH1of2\",\"yref\":\"y\"},{\"showarrow\":false,\"text\":\"nan\",\"x\":13,\"xref\":\"x\",\"y\":\"Elec_PowerHeatPumpWH1of2\",\"yref\":\"y\"},{\"showarrow\":false,\"text\":\"nan\",\"x\":14,\"xref\":\"x\",\"y\":\"Elec_PowerHeatPumpWH1of2\",\"yref\":\"y\"},{\"showarrow\":false,\"text\":\"nan\",\"x\":15,\"xref\":\"x\",\"y\":\"Elec_PowerHeatPumpWH1of2\",\"yref\":\"y\"},{\"showarrow\":false,\"text\":\"nan\",\"x\":16,\"xref\":\"x\",\"y\":\"Elec_PowerHeatPumpWH1of2\",\"yref\":\"y\"},{\"showarrow\":false,\"text\":\"nan\",\"x\":17,\"xref\":\"x\",\"y\":\"Elec_PowerHeatPumpWH1of2\",\"yref\":\"y\"},{\"showarrow\":false,\"text\":\"nan\",\"x\":18,\"xref\":\"x\",\"y\":\"Elec_PowerHeatPumpWH1of2\",\"yref\":\"y\"},{\"showarrow\":false,\"text\":\"nan\",\"x\":19,\"xref\":\"x\",\"y\":\"Elec_PowerHeatPumpWH1of2\",\"yref\":\"y\"},{\"showarrow\":false,\"text\":\"nan\",\"x\":20,\"xref\":\"x\",\"y\":\"Elec_PowerHeatPumpWH1of2\",\"yref\":\"y\"},{\"showarrow\":false,\"text\":\"nan\",\"x\":21,\"xref\":\"x\",\"y\":\"Elec_PowerHeatPumpWH1of2\",\"yref\":\"y\"},{\"showarrow\":false,\"text\":\"nan\",\"x\":22,\"xref\":\"x\",\"y\":\"Elec_PowerHeatPumpWH1of2\",\"yref\":\"y\"},{\"showarrow\":false,\"text\":\"nan\",\"x\":23,\"xref\":\"x\",\"y\":\"Elec_PowerHeatPumpWH1of2\",\"yref\":\"y\"},{\"showarrow\":false,\"text\":\"0.09\",\"x\":0,\"xref\":\"x\",\"y\":\"Elec_PowerHeatPumpWH2of2\",\"yref\":\"y\"},{\"showarrow\":false,\"text\":\"0.02\",\"x\":1,\"xref\":\"x\",\"y\":\"Elec_PowerHeatPumpWH2of2\",\"yref\":\"y\"},{\"showarrow\":false,\"text\":\"\",\"x\":2,\"xref\":\"x\",\"y\":\"Elec_PowerHeatPumpWH2of2\",\"yref\":\"y\"},{\"showarrow\":false,\"text\":\"0.04\",\"x\":3,\"xref\":\"x\",\"y\":\"Elec_PowerHeatPumpWH2of2\",\"yref\":\"y\"},{\"showarrow\":false,\"text\":\"0.23\",\"x\":4,\"xref\":\"x\",\"y\":\"Elec_PowerHeatPumpWH2of2\",\"yref\":\"y\"},{\"showarrow\":false,\"text\":\"0.24\",\"x\":5,\"xref\":\"x\",\"y\":\"Elec_PowerHeatPumpWH2of2\",\"yref\":\"y\"},{\"showarrow\":false,\"text\":\"0.99\",\"x\":6,\"xref\":\"x\",\"y\":\"Elec_PowerHeatPumpWH2of2\",\"yref\":\"y\"},{\"showarrow\":false,\"text\":\"0.85\",\"x\":7,\"xref\":\"x\",\"y\":\"Elec_PowerHeatPumpWH2of2\",\"yref\":\"y\"},{\"showarrow\":false,\"text\":\"0.85\",\"x\":8,\"xref\":\"x\",\"y\":\"Elec_PowerHeatPumpWH2of2\",\"yref\":\"y\"},{\"showarrow\":false,\"text\":\"0.52\",\"x\":9,\"xref\":\"x\",\"y\":\"Elec_PowerHeatPumpWH2of2\",\"yref\":\"y\"},{\"showarrow\":false,\"text\":\"0.37\",\"x\":10,\"xref\":\"x\",\"y\":\"Elec_PowerHeatPumpWH2of2\",\"yref\":\"y\"},{\"showarrow\":false,\"text\":\"0.05\",\"x\":11,\"xref\":\"x\",\"y\":\"Elec_PowerHeatPumpWH2of2\",\"yref\":\"y\"},{\"showarrow\":false,\"text\":\"0.32\",\"x\":12,\"xref\":\"x\",\"y\":\"Elec_PowerHeatPumpWH2of2\",\"yref\":\"y\"},{\"showarrow\":false,\"text\":\"0.52\",\"x\":13,\"xref\":\"x\",\"y\":\"Elec_PowerHeatPumpWH2of2\",\"yref\":\"y\"},{\"showarrow\":false,\"text\":\"0.45\",\"x\":14,\"xref\":\"x\",\"y\":\"Elec_PowerHeatPumpWH2of2\",\"yref\":\"y\"},{\"showarrow\":false,\"text\":\"0.21\",\"x\":15,\"xref\":\"x\",\"y\":\"Elec_PowerHeatPumpWH2of2\",\"yref\":\"y\"},{\"showarrow\":false,\"text\":\"0.21\",\"x\":16,\"xref\":\"x\",\"y\":\"Elec_PowerHeatPumpWH2of2\",\"yref\":\"y\"},{\"showarrow\":false,\"text\":\"0.16\",\"x\":17,\"xref\":\"x\",\"y\":\"Elec_PowerHeatPumpWH2of2\",\"yref\":\"y\"},{\"showarrow\":false,\"text\":\"0.9\",\"x\":18,\"xref\":\"x\",\"y\":\"Elec_PowerHeatPumpWH2of2\",\"yref\":\"y\"},{\"showarrow\":false,\"text\":\"0.73\",\"x\":19,\"xref\":\"x\",\"y\":\"Elec_PowerHeatPumpWH2of2\",\"yref\":\"y\"},{\"showarrow\":false,\"text\":\"0.73\",\"x\":20,\"xref\":\"x\",\"y\":\"Elec_PowerHeatPumpWH2of2\",\"yref\":\"y\"},{\"showarrow\":false,\"text\":\"1.0\",\"x\":21,\"xref\":\"x\",\"y\":\"Elec_PowerHeatPumpWH2of2\",\"yref\":\"y\"},{\"showarrow\":false,\"text\":\"0.93\",\"x\":22,\"xref\":\"x\",\"y\":\"Elec_PowerHeatPumpWH2of2\",\"yref\":\"y\"},{\"showarrow\":false,\"text\":\"0.34\",\"x\":23,\"xref\":\"x\",\"y\":\"Elec_PowerHeatPumpWH2of2\",\"yref\":\"y\"},{\"showarrow\":false,\"text\":\"\",\"x\":0,\"xref\":\"x\",\"y\":\"Elec_PowerMakeUpAirDamper\",\"yref\":\"y\"},{\"showarrow\":false,\"text\":\"\",\"x\":1,\"xref\":\"x\",\"y\":\"Elec_PowerMakeUpAirDamper\",\"yref\":\"y\"},{\"showarrow\":false,\"text\":\"0.01\",\"x\":2,\"xref\":\"x\",\"y\":\"Elec_PowerMakeUpAirDamper\",\"yref\":\"y\"},{\"showarrow\":false,\"text\":\"\",\"x\":3,\"xref\":\"x\",\"y\":\"Elec_PowerMakeUpAirDamper\",\"yref\":\"y\"},{\"showarrow\":false,\"text\":\"\",\"x\":4,\"xref\":\"x\",\"y\":\"Elec_PowerMakeUpAirDamper\",\"yref\":\"y\"},{\"showarrow\":false,\"text\":\"\",\"x\":5,\"xref\":\"x\",\"y\":\"Elec_PowerMakeUpAirDamper\",\"yref\":\"y\"},{\"showarrow\":false,\"text\":\"0.02\",\"x\":6,\"xref\":\"x\",\"y\":\"Elec_PowerMakeUpAirDamper\",\"yref\":\"y\"},{\"showarrow\":false,\"text\":\"\",\"x\":7,\"xref\":\"x\",\"y\":\"Elec_PowerMakeUpAirDamper\",\"yref\":\"y\"},{\"showarrow\":false,\"text\":\"0.3\",\"x\":8,\"xref\":\"x\",\"y\":\"Elec_PowerMakeUpAirDamper\",\"yref\":\"y\"},{\"showarrow\":false,\"text\":\"0.06\",\"x\":9,\"xref\":\"x\",\"y\":\"Elec_PowerMakeUpAirDamper\",\"yref\":\"y\"},{\"showarrow\":false,\"text\":\"\",\"x\":10,\"xref\":\"x\",\"y\":\"Elec_PowerMakeUpAirDamper\",\"yref\":\"y\"},{\"showarrow\":false,\"text\":\"\",\"x\":11,\"xref\":\"x\",\"y\":\"Elec_PowerMakeUpAirDamper\",\"yref\":\"y\"},{\"showarrow\":false,\"text\":\"0.3\",\"x\":12,\"xref\":\"x\",\"y\":\"Elec_PowerMakeUpAirDamper\",\"yref\":\"y\"},{\"showarrow\":false,\"text\":\"0.31\",\"x\":13,\"xref\":\"x\",\"y\":\"Elec_PowerMakeUpAirDamper\",\"yref\":\"y\"},{\"showarrow\":false,\"text\":\"0.12\",\"x\":14,\"xref\":\"x\",\"y\":\"Elec_PowerMakeUpAirDamper\",\"yref\":\"y\"},{\"showarrow\":false,\"text\":\"0.3\",\"x\":15,\"xref\":\"x\",\"y\":\"Elec_PowerMakeUpAirDamper\",\"yref\":\"y\"},{\"showarrow\":false,\"text\":\"\",\"x\":16,\"xref\":\"x\",\"y\":\"Elec_PowerMakeUpAirDamper\",\"yref\":\"y\"},{\"showarrow\":false,\"text\":\"0.01\",\"x\":17,\"xref\":\"x\",\"y\":\"Elec_PowerMakeUpAirDamper\",\"yref\":\"y\"},{\"showarrow\":false,\"text\":\"1.0\",\"x\":18,\"xref\":\"x\",\"y\":\"Elec_PowerMakeUpAirDamper\",\"yref\":\"y\"},{\"showarrow\":false,\"text\":\"0.16\",\"x\":19,\"xref\":\"x\",\"y\":\"Elec_PowerMakeUpAirDamper\",\"yref\":\"y\"},{\"showarrow\":false,\"text\":\"0.16\",\"x\":20,\"xref\":\"x\",\"y\":\"Elec_PowerMakeUpAirDamper\",\"yref\":\"y\"},{\"showarrow\":false,\"text\":\"0.17\",\"x\":21,\"xref\":\"x\",\"y\":\"Elec_PowerMakeUpAirDamper\",\"yref\":\"y\"},{\"showarrow\":false,\"text\":\"0.01\",\"x\":22,\"xref\":\"x\",\"y\":\"Elec_PowerMakeUpAirDamper\",\"yref\":\"y\"},{\"showarrow\":false,\"text\":\"0.01\",\"x\":23,\"xref\":\"x\",\"y\":\"Elec_PowerMakeUpAirDamper\",\"yref\":\"y\"},{\"showarrow\":false,\"text\":\"0.08\",\"x\":0,\"xref\":\"x\",\"y\":\"Elec_PowerLights2ndFloor\",\"yref\":\"y\"},{\"showarrow\":false,\"text\":\"\",\"x\":1,\"xref\":\"x\",\"y\":\"Elec_PowerLights2ndFloor\",\"yref\":\"y\"},{\"showarrow\":false,\"text\":\"\",\"x\":2,\"xref\":\"x\",\"y\":\"Elec_PowerLights2ndFloor\",\"yref\":\"y\"},{\"showarrow\":false,\"text\":\"0.71\",\"x\":3,\"xref\":\"x\",\"y\":\"Elec_PowerLights2ndFloor\",\"yref\":\"y\"},{\"showarrow\":false,\"text\":\"0.71\",\"x\":4,\"xref\":\"x\",\"y\":\"Elec_PowerLights2ndFloor\",\"yref\":\"y\"},{\"showarrow\":false,\"text\":\"0.33\",\"x\":5,\"xref\":\"x\",\"y\":\"Elec_PowerLights2ndFloor\",\"yref\":\"y\"},{\"showarrow\":false,\"text\":\"0.71\",\"x\":6,\"xref\":\"x\",\"y\":\"Elec_PowerLights2ndFloor\",\"yref\":\"y\"},{\"showarrow\":false,\"text\":\"0.21\",\"x\":7,\"xref\":\"x\",\"y\":\"Elec_PowerLights2ndFloor\",\"yref\":\"y\"},{\"showarrow\":false,\"text\":\"0.31\",\"x\":8,\"xref\":\"x\",\"y\":\"Elec_PowerLights2ndFloor\",\"yref\":\"y\"},{\"showarrow\":false,\"text\":\"0.28\",\"x\":9,\"xref\":\"x\",\"y\":\"Elec_PowerLights2ndFloor\",\"yref\":\"y\"},{\"showarrow\":false,\"text\":\"0.28\",\"x\":10,\"xref\":\"x\",\"y\":\"Elec_PowerLights2ndFloor\",\"yref\":\"y\"},{\"showarrow\":false,\"text\":\"0.01\",\"x\":11,\"xref\":\"x\",\"y\":\"Elec_PowerLights2ndFloor\",\"yref\":\"y\"},{\"showarrow\":false,\"text\":\"0.13\",\"x\":12,\"xref\":\"x\",\"y\":\"Elec_PowerLights2ndFloor\",\"yref\":\"y\"},{\"showarrow\":false,\"text\":\"0.06\",\"x\":13,\"xref\":\"x\",\"y\":\"Elec_PowerLights2ndFloor\",\"yref\":\"y\"},{\"showarrow\":false,\"text\":\"0.14\",\"x\":14,\"xref\":\"x\",\"y\":\"Elec_PowerLights2ndFloor\",\"yref\":\"y\"},{\"showarrow\":false,\"text\":\"\",\"x\":15,\"xref\":\"x\",\"y\":\"Elec_PowerLights2ndFloor\",\"yref\":\"y\"},{\"showarrow\":false,\"text\":\"0.29\",\"x\":16,\"xref\":\"x\",\"y\":\"Elec_PowerLights2ndFloor\",\"yref\":\"y\"},{\"showarrow\":false,\"text\":\"0.45\",\"x\":17,\"xref\":\"x\",\"y\":\"Elec_PowerLights2ndFloor\",\"yref\":\"y\"},{\"showarrow\":false,\"text\":\"1.0\",\"x\":18,\"xref\":\"x\",\"y\":\"Elec_PowerLights2ndFloor\",\"yref\":\"y\"},{\"showarrow\":false,\"text\":\"0.99\",\"x\":19,\"xref\":\"x\",\"y\":\"Elec_PowerLights2ndFloor\",\"yref\":\"y\"},{\"showarrow\":false,\"text\":\"1.0\",\"x\":20,\"xref\":\"x\",\"y\":\"Elec_PowerLights2ndFloor\",\"yref\":\"y\"},{\"showarrow\":false,\"text\":\"0.85\",\"x\":21,\"xref\":\"x\",\"y\":\"Elec_PowerLights2ndFloor\",\"yref\":\"y\"},{\"showarrow\":false,\"text\":\"1.0\",\"x\":22,\"xref\":\"x\",\"y\":\"Elec_PowerLights2ndFloor\",\"yref\":\"y\"},{\"showarrow\":false,\"text\":\"0.44\",\"x\":23,\"xref\":\"x\",\"y\":\"Elec_PowerLights2ndFloor\",\"yref\":\"y\"},{\"showarrow\":false,\"text\":\"\",\"x\":0,\"xref\":\"x\",\"y\":\"Elec_PowerPlugsMBAEast\",\"yref\":\"y\"},{\"showarrow\":false,\"text\":\"\",\"x\":1,\"xref\":\"x\",\"y\":\"Elec_PowerPlugsMBAEast\",\"yref\":\"y\"},{\"showarrow\":false,\"text\":\"\",\"x\":2,\"xref\":\"x\",\"y\":\"Elec_PowerPlugsMBAEast\",\"yref\":\"y\"},{\"showarrow\":false,\"text\":\"\",\"x\":3,\"xref\":\"x\",\"y\":\"Elec_PowerPlugsMBAEast\",\"yref\":\"y\"},{\"showarrow\":false,\"text\":\"\",\"x\":4,\"xref\":\"x\",\"y\":\"Elec_PowerPlugsMBAEast\",\"yref\":\"y\"},{\"showarrow\":false,\"text\":\"\",\"x\":5,\"xref\":\"x\",\"y\":\"Elec_PowerPlugsMBAEast\",\"yref\":\"y\"},{\"showarrow\":false,\"text\":\"1.0\",\"x\":6,\"xref\":\"x\",\"y\":\"Elec_PowerPlugsMBAEast\",\"yref\":\"y\"},{\"showarrow\":false,\"text\":\"\",\"x\":7,\"xref\":\"x\",\"y\":\"Elec_PowerPlugsMBAEast\",\"yref\":\"y\"},{\"showarrow\":false,\"text\":\"\",\"x\":8,\"xref\":\"x\",\"y\":\"Elec_PowerPlugsMBAEast\",\"yref\":\"y\"},{\"showarrow\":false,\"text\":\"\",\"x\":9,\"xref\":\"x\",\"y\":\"Elec_PowerPlugsMBAEast\",\"yref\":\"y\"},{\"showarrow\":false,\"text\":\"0.39\",\"x\":10,\"xref\":\"x\",\"y\":\"Elec_PowerPlugsMBAEast\",\"yref\":\"y\"},{\"showarrow\":false,\"text\":\"\",\"x\":11,\"xref\":\"x\",\"y\":\"Elec_PowerPlugsMBAEast\",\"yref\":\"y\"},{\"showarrow\":false,\"text\":\"\",\"x\":12,\"xref\":\"x\",\"y\":\"Elec_PowerPlugsMBAEast\",\"yref\":\"y\"},{\"showarrow\":false,\"text\":\"\",\"x\":13,\"xref\":\"x\",\"y\":\"Elec_PowerPlugsMBAEast\",\"yref\":\"y\"},{\"showarrow\":false,\"text\":\"\",\"x\":14,\"xref\":\"x\",\"y\":\"Elec_PowerPlugsMBAEast\",\"yref\":\"y\"},{\"showarrow\":false,\"text\":\"\",\"x\":15,\"xref\":\"x\",\"y\":\"Elec_PowerPlugsMBAEast\",\"yref\":\"y\"},{\"showarrow\":false,\"text\":\"\",\"x\":16,\"xref\":\"x\",\"y\":\"Elec_PowerPlugsMBAEast\",\"yref\":\"y\"},{\"showarrow\":false,\"text\":\"\",\"x\":17,\"xref\":\"x\",\"y\":\"Elec_PowerPlugsMBAEast\",\"yref\":\"y\"},{\"showarrow\":false,\"text\":\"\",\"x\":18,\"xref\":\"x\",\"y\":\"Elec_PowerPlugsMBAEast\",\"yref\":\"y\"},{\"showarrow\":false,\"text\":\"\",\"x\":19,\"xref\":\"x\",\"y\":\"Elec_PowerPlugsMBAEast\",\"yref\":\"y\"},{\"showarrow\":false,\"text\":\"\",\"x\":20,\"xref\":\"x\",\"y\":\"Elec_PowerPlugsMBAEast\",\"yref\":\"y\"},{\"showarrow\":false,\"text\":\"\",\"x\":21,\"xref\":\"x\",\"y\":\"Elec_PowerPlugsMBAEast\",\"yref\":\"y\"},{\"showarrow\":false,\"text\":\"\",\"x\":22,\"xref\":\"x\",\"y\":\"Elec_PowerPlugsMBAEast\",\"yref\":\"y\"},{\"showarrow\":false,\"text\":\"\",\"x\":23,\"xref\":\"x\",\"y\":\"Elec_PowerPlugsMBAEast\",\"yref\":\"y\"},{\"showarrow\":false,\"text\":\"nan\",\"x\":0,\"xref\":\"x\",\"y\":\"Elec_PowerPlugsBA2South\",\"yref\":\"y\"},{\"showarrow\":false,\"text\":\"nan\",\"x\":1,\"xref\":\"x\",\"y\":\"Elec_PowerPlugsBA2South\",\"yref\":\"y\"},{\"showarrow\":false,\"text\":\"nan\",\"x\":2,\"xref\":\"x\",\"y\":\"Elec_PowerPlugsBA2South\",\"yref\":\"y\"},{\"showarrow\":false,\"text\":\"nan\",\"x\":3,\"xref\":\"x\",\"y\":\"Elec_PowerPlugsBA2South\",\"yref\":\"y\"},{\"showarrow\":false,\"text\":\"nan\",\"x\":4,\"xref\":\"x\",\"y\":\"Elec_PowerPlugsBA2South\",\"yref\":\"y\"},{\"showarrow\":false,\"text\":\"nan\",\"x\":5,\"xref\":\"x\",\"y\":\"Elec_PowerPlugsBA2South\",\"yref\":\"y\"},{\"showarrow\":false,\"text\":\"nan\",\"x\":6,\"xref\":\"x\",\"y\":\"Elec_PowerPlugsBA2South\",\"yref\":\"y\"},{\"showarrow\":false,\"text\":\"nan\",\"x\":7,\"xref\":\"x\",\"y\":\"Elec_PowerPlugsBA2South\",\"yref\":\"y\"},{\"showarrow\":false,\"text\":\"nan\",\"x\":8,\"xref\":\"x\",\"y\":\"Elec_PowerPlugsBA2South\",\"yref\":\"y\"},{\"showarrow\":false,\"text\":\"nan\",\"x\":9,\"xref\":\"x\",\"y\":\"Elec_PowerPlugsBA2South\",\"yref\":\"y\"},{\"showarrow\":false,\"text\":\"nan\",\"x\":10,\"xref\":\"x\",\"y\":\"Elec_PowerPlugsBA2South\",\"yref\":\"y\"},{\"showarrow\":false,\"text\":\"nan\",\"x\":11,\"xref\":\"x\",\"y\":\"Elec_PowerPlugsBA2South\",\"yref\":\"y\"},{\"showarrow\":false,\"text\":\"nan\",\"x\":12,\"xref\":\"x\",\"y\":\"Elec_PowerPlugsBA2South\",\"yref\":\"y\"},{\"showarrow\":false,\"text\":\"nan\",\"x\":13,\"xref\":\"x\",\"y\":\"Elec_PowerPlugsBA2South\",\"yref\":\"y\"},{\"showarrow\":false,\"text\":\"nan\",\"x\":14,\"xref\":\"x\",\"y\":\"Elec_PowerPlugsBA2South\",\"yref\":\"y\"},{\"showarrow\":false,\"text\":\"nan\",\"x\":15,\"xref\":\"x\",\"y\":\"Elec_PowerPlugsBA2South\",\"yref\":\"y\"},{\"showarrow\":false,\"text\":\"nan\",\"x\":16,\"xref\":\"x\",\"y\":\"Elec_PowerPlugsBA2South\",\"yref\":\"y\"},{\"showarrow\":false,\"text\":\"nan\",\"x\":17,\"xref\":\"x\",\"y\":\"Elec_PowerPlugsBA2South\",\"yref\":\"y\"},{\"showarrow\":false,\"text\":\"nan\",\"x\":18,\"xref\":\"x\",\"y\":\"Elec_PowerPlugsBA2South\",\"yref\":\"y\"},{\"showarrow\":false,\"text\":\"nan\",\"x\":19,\"xref\":\"x\",\"y\":\"Elec_PowerPlugsBA2South\",\"yref\":\"y\"},{\"showarrow\":false,\"text\":\"nan\",\"x\":20,\"xref\":\"x\",\"y\":\"Elec_PowerPlugsBA2South\",\"yref\":\"y\"},{\"showarrow\":false,\"text\":\"nan\",\"x\":21,\"xref\":\"x\",\"y\":\"Elec_PowerPlugsBA2South\",\"yref\":\"y\"},{\"showarrow\":false,\"text\":\"nan\",\"x\":22,\"xref\":\"x\",\"y\":\"Elec_PowerPlugsBA2South\",\"yref\":\"y\"},{\"showarrow\":false,\"text\":\"nan\",\"x\":23,\"xref\":\"x\",\"y\":\"Elec_PowerPlugsBA2South\",\"yref\":\"y\"},{\"showarrow\":false,\"text\":\"0.33\",\"x\":0,\"xref\":\"x\",\"y\":\"Elec_PowerPlugsMBAWest\",\"yref\":\"y\"},{\"showarrow\":false,\"text\":\"0.33\",\"x\":1,\"xref\":\"x\",\"y\":\"Elec_PowerPlugsMBAWest\",\"yref\":\"y\"},{\"showarrow\":false,\"text\":\"\",\"x\":2,\"xref\":\"x\",\"y\":\"Elec_PowerPlugsMBAWest\",\"yref\":\"y\"},{\"showarrow\":false,\"text\":\"0.33\",\"x\":3,\"xref\":\"x\",\"y\":\"Elec_PowerPlugsMBAWest\",\"yref\":\"y\"},{\"showarrow\":false,\"text\":\"0.33\",\"x\":4,\"xref\":\"x\",\"y\":\"Elec_PowerPlugsMBAWest\",\"yref\":\"y\"},{\"showarrow\":false,\"text\":\"0.33\",\"x\":5,\"xref\":\"x\",\"y\":\"Elec_PowerPlugsMBAWest\",\"yref\":\"y\"},{\"showarrow\":false,\"text\":\"0.33\",\"x\":6,\"xref\":\"x\",\"y\":\"Elec_PowerPlugsMBAWest\",\"yref\":\"y\"},{\"showarrow\":false,\"text\":\"0.33\",\"x\":7,\"xref\":\"x\",\"y\":\"Elec_PowerPlugsMBAWest\",\"yref\":\"y\"},{\"showarrow\":false,\"text\":\"0.67\",\"x\":8,\"xref\":\"x\",\"y\":\"Elec_PowerPlugsMBAWest\",\"yref\":\"y\"},{\"showarrow\":false,\"text\":\"0.33\",\"x\":9,\"xref\":\"x\",\"y\":\"Elec_PowerPlugsMBAWest\",\"yref\":\"y\"},{\"showarrow\":false,\"text\":\"0.33\",\"x\":10,\"xref\":\"x\",\"y\":\"Elec_PowerPlugsMBAWest\",\"yref\":\"y\"},{\"showarrow\":false,\"text\":\"0.33\",\"x\":11,\"xref\":\"x\",\"y\":\"Elec_PowerPlugsMBAWest\",\"yref\":\"y\"},{\"showarrow\":false,\"text\":\"0.33\",\"x\":12,\"xref\":\"x\",\"y\":\"Elec_PowerPlugsMBAWest\",\"yref\":\"y\"},{\"showarrow\":false,\"text\":\"0.33\",\"x\":13,\"xref\":\"x\",\"y\":\"Elec_PowerPlugsMBAWest\",\"yref\":\"y\"},{\"showarrow\":false,\"text\":\"\",\"x\":14,\"xref\":\"x\",\"y\":\"Elec_PowerPlugsMBAWest\",\"yref\":\"y\"},{\"showarrow\":false,\"text\":\"0.33\",\"x\":15,\"xref\":\"x\",\"y\":\"Elec_PowerPlugsMBAWest\",\"yref\":\"y\"},{\"showarrow\":false,\"text\":\"0.67\",\"x\":16,\"xref\":\"x\",\"y\":\"Elec_PowerPlugsMBAWest\",\"yref\":\"y\"},{\"showarrow\":false,\"text\":\"1.0\",\"x\":17,\"xref\":\"x\",\"y\":\"Elec_PowerPlugsMBAWest\",\"yref\":\"y\"},{\"showarrow\":false,\"text\":\"1.0\",\"x\":18,\"xref\":\"x\",\"y\":\"Elec_PowerPlugsMBAWest\",\"yref\":\"y\"},{\"showarrow\":false,\"text\":\"1.0\",\"x\":19,\"xref\":\"x\",\"y\":\"Elec_PowerPlugsMBAWest\",\"yref\":\"y\"},{\"showarrow\":false,\"text\":\"1.0\",\"x\":20,\"xref\":\"x\",\"y\":\"Elec_PowerPlugsMBAWest\",\"yref\":\"y\"},{\"showarrow\":false,\"text\":\"1.0\",\"x\":21,\"xref\":\"x\",\"y\":\"Elec_PowerPlugsMBAWest\",\"yref\":\"y\"},{\"showarrow\":false,\"text\":\"1.0\",\"x\":22,\"xref\":\"x\",\"y\":\"Elec_PowerPlugsMBAWest\",\"yref\":\"y\"},{\"showarrow\":false,\"text\":\"1.0\",\"x\":23,\"xref\":\"x\",\"y\":\"Elec_PowerPlugsMBAWest\",\"yref\":\"y\"},{\"showarrow\":false,\"text\":\"\",\"x\":0,\"xref\":\"x\",\"y\":\"Elec_PowerPlugsBA2North\",\"yref\":\"y\"},{\"showarrow\":false,\"text\":\"\",\"x\":1,\"xref\":\"x\",\"y\":\"Elec_PowerPlugsBA2North\",\"yref\":\"y\"},{\"showarrow\":false,\"text\":\"\",\"x\":2,\"xref\":\"x\",\"y\":\"Elec_PowerPlugsBA2North\",\"yref\":\"y\"},{\"showarrow\":false,\"text\":\"\",\"x\":3,\"xref\":\"x\",\"y\":\"Elec_PowerPlugsBA2North\",\"yref\":\"y\"},{\"showarrow\":false,\"text\":\"\",\"x\":4,\"xref\":\"x\",\"y\":\"Elec_PowerPlugsBA2North\",\"yref\":\"y\"},{\"showarrow\":false,\"text\":\"\",\"x\":5,\"xref\":\"x\",\"y\":\"Elec_PowerPlugsBA2North\",\"yref\":\"y\"},{\"showarrow\":false,\"text\":\"\",\"x\":6,\"xref\":\"x\",\"y\":\"Elec_PowerPlugsBA2North\",\"yref\":\"y\"},{\"showarrow\":false,\"text\":\"\",\"x\":7,\"xref\":\"x\",\"y\":\"Elec_PowerPlugsBA2North\",\"yref\":\"y\"},{\"showarrow\":false,\"text\":\"\",\"x\":8,\"xref\":\"x\",\"y\":\"Elec_PowerPlugsBA2North\",\"yref\":\"y\"},{\"showarrow\":false,\"text\":\"1.0\",\"x\":9,\"xref\":\"x\",\"y\":\"Elec_PowerPlugsBA2North\",\"yref\":\"y\"},{\"showarrow\":false,\"text\":\"1.0\",\"x\":10,\"xref\":\"x\",\"y\":\"Elec_PowerPlugsBA2North\",\"yref\":\"y\"},{\"showarrow\":false,\"text\":\"1.0\",\"x\":11,\"xref\":\"x\",\"y\":\"Elec_PowerPlugsBA2North\",\"yref\":\"y\"},{\"showarrow\":false,\"text\":\"\",\"x\":12,\"xref\":\"x\",\"y\":\"Elec_PowerPlugsBA2North\",\"yref\":\"y\"},{\"showarrow\":false,\"text\":\"\",\"x\":13,\"xref\":\"x\",\"y\":\"Elec_PowerPlugsBA2North\",\"yref\":\"y\"},{\"showarrow\":false,\"text\":\"1.0\",\"x\":14,\"xref\":\"x\",\"y\":\"Elec_PowerPlugsBA2North\",\"yref\":\"y\"},{\"showarrow\":false,\"text\":\"\",\"x\":15,\"xref\":\"x\",\"y\":\"Elec_PowerPlugsBA2North\",\"yref\":\"y\"},{\"showarrow\":false,\"text\":\"\",\"x\":16,\"xref\":\"x\",\"y\":\"Elec_PowerPlugsBA2North\",\"yref\":\"y\"},{\"showarrow\":false,\"text\":\"\",\"x\":17,\"xref\":\"x\",\"y\":\"Elec_PowerPlugsBA2North\",\"yref\":\"y\"},{\"showarrow\":false,\"text\":\"1.0\",\"x\":18,\"xref\":\"x\",\"y\":\"Elec_PowerPlugsBA2North\",\"yref\":\"y\"},{\"showarrow\":false,\"text\":\"\",\"x\":19,\"xref\":\"x\",\"y\":\"Elec_PowerPlugsBA2North\",\"yref\":\"y\"},{\"showarrow\":false,\"text\":\"1.0\",\"x\":20,\"xref\":\"x\",\"y\":\"Elec_PowerPlugsBA2North\",\"yref\":\"y\"},{\"showarrow\":false,\"text\":\"\",\"x\":21,\"xref\":\"x\",\"y\":\"Elec_PowerPlugsBA2North\",\"yref\":\"y\"},{\"showarrow\":false,\"text\":\"1.0\",\"x\":22,\"xref\":\"x\",\"y\":\"Elec_PowerPlugsBA2North\",\"yref\":\"y\"},{\"showarrow\":false,\"text\":\"\",\"x\":23,\"xref\":\"x\",\"y\":\"Elec_PowerPlugsBA2North\",\"yref\":\"y\"},{\"showarrow\":false,\"text\":\"\",\"x\":0,\"xref\":\"x\",\"y\":\"Elec_PowerPlugsBR3\",\"yref\":\"y\"},{\"showarrow\":false,\"text\":\"\",\"x\":1,\"xref\":\"x\",\"y\":\"Elec_PowerPlugsBR3\",\"yref\":\"y\"},{\"showarrow\":false,\"text\":\"0.01\",\"x\":2,\"xref\":\"x\",\"y\":\"Elec_PowerPlugsBR3\",\"yref\":\"y\"},{\"showarrow\":false,\"text\":\"0.01\",\"x\":3,\"xref\":\"x\",\"y\":\"Elec_PowerPlugsBR3\",\"yref\":\"y\"},{\"showarrow\":false,\"text\":\"\",\"x\":4,\"xref\":\"x\",\"y\":\"Elec_PowerPlugsBR3\",\"yref\":\"y\"},{\"showarrow\":false,\"text\":\"\",\"x\":5,\"xref\":\"x\",\"y\":\"Elec_PowerPlugsBR3\",\"yref\":\"y\"},{\"showarrow\":false,\"text\":\"\",\"x\":6,\"xref\":\"x\",\"y\":\"Elec_PowerPlugsBR3\",\"yref\":\"y\"},{\"showarrow\":false,\"text\":\"\",\"x\":7,\"xref\":\"x\",\"y\":\"Elec_PowerPlugsBR3\",\"yref\":\"y\"},{\"showarrow\":false,\"text\":\"\",\"x\":8,\"xref\":\"x\",\"y\":\"Elec_PowerPlugsBR3\",\"yref\":\"y\"},{\"showarrow\":false,\"text\":\"\",\"x\":9,\"xref\":\"x\",\"y\":\"Elec_PowerPlugsBR3\",\"yref\":\"y\"},{\"showarrow\":false,\"text\":\"\",\"x\":10,\"xref\":\"x\",\"y\":\"Elec_PowerPlugsBR3\",\"yref\":\"y\"},{\"showarrow\":false,\"text\":\"\",\"x\":11,\"xref\":\"x\",\"y\":\"Elec_PowerPlugsBR3\",\"yref\":\"y\"},{\"showarrow\":false,\"text\":\"\",\"x\":12,\"xref\":\"x\",\"y\":\"Elec_PowerPlugsBR3\",\"yref\":\"y\"},{\"showarrow\":false,\"text\":\"\",\"x\":13,\"xref\":\"x\",\"y\":\"Elec_PowerPlugsBR3\",\"yref\":\"y\"},{\"showarrow\":false,\"text\":\"\",\"x\":14,\"xref\":\"x\",\"y\":\"Elec_PowerPlugsBR3\",\"yref\":\"y\"},{\"showarrow\":false,\"text\":\"\",\"x\":15,\"xref\":\"x\",\"y\":\"Elec_PowerPlugsBR3\",\"yref\":\"y\"},{\"showarrow\":false,\"text\":\"\",\"x\":16,\"xref\":\"x\",\"y\":\"Elec_PowerPlugsBR3\",\"yref\":\"y\"},{\"showarrow\":false,\"text\":\"0.07\",\"x\":17,\"xref\":\"x\",\"y\":\"Elec_PowerPlugsBR3\",\"yref\":\"y\"},{\"showarrow\":false,\"text\":\"1.0\",\"x\":18,\"xref\":\"x\",\"y\":\"Elec_PowerPlugsBR3\",\"yref\":\"y\"},{\"showarrow\":false,\"text\":\"1.0\",\"x\":19,\"xref\":\"x\",\"y\":\"Elec_PowerPlugsBR3\",\"yref\":\"y\"},{\"showarrow\":false,\"text\":\"0.86\",\"x\":20,\"xref\":\"x\",\"y\":\"Elec_PowerPlugsBR3\",\"yref\":\"y\"},{\"showarrow\":false,\"text\":\"\",\"x\":21,\"xref\":\"x\",\"y\":\"Elec_PowerPlugsBR3\",\"yref\":\"y\"},{\"showarrow\":false,\"text\":\"\",\"x\":22,\"xref\":\"x\",\"y\":\"Elec_PowerPlugsBR3\",\"yref\":\"y\"},{\"showarrow\":false,\"text\":\"\",\"x\":23,\"xref\":\"x\",\"y\":\"Elec_PowerPlugsBR3\",\"yref\":\"y\"},{\"showarrow\":false,\"text\":\"1.0\",\"x\":0,\"xref\":\"x\",\"y\":\"Elec_PowerRefrigerator\",\"yref\":\"y\"},{\"showarrow\":false,\"text\":\"0.75\",\"x\":1,\"xref\":\"x\",\"y\":\"Elec_PowerRefrigerator\",\"yref\":\"y\"},{\"showarrow\":false,\"text\":\"\",\"x\":2,\"xref\":\"x\",\"y\":\"Elec_PowerRefrigerator\",\"yref\":\"y\"},{\"showarrow\":false,\"text\":\"0.25\",\"x\":3,\"xref\":\"x\",\"y\":\"Elec_PowerRefrigerator\",\"yref\":\"y\"},{\"showarrow\":false,\"text\":\"0.25\",\"x\":4,\"xref\":\"x\",\"y\":\"Elec_PowerRefrigerator\",\"yref\":\"y\"},{\"showarrow\":false,\"text\":\"0.25\",\"x\":5,\"xref\":\"x\",\"y\":\"Elec_PowerRefrigerator\",\"yref\":\"y\"},{\"showarrow\":false,\"text\":\"\",\"x\":6,\"xref\":\"x\",\"y\":\"Elec_PowerRefrigerator\",\"yref\":\"y\"},{\"showarrow\":false,\"text\":\"0.25\",\"x\":7,\"xref\":\"x\",\"y\":\"Elec_PowerRefrigerator\",\"yref\":\"y\"},{\"showarrow\":false,\"text\":\"0.5\",\"x\":8,\"xref\":\"x\",\"y\":\"Elec_PowerRefrigerator\",\"yref\":\"y\"},{\"showarrow\":false,\"text\":\"0.5\",\"x\":9,\"xref\":\"x\",\"y\":\"Elec_PowerRefrigerator\",\"yref\":\"y\"},{\"showarrow\":false,\"text\":\"0.5\",\"x\":10,\"xref\":\"x\",\"y\":\"Elec_PowerRefrigerator\",\"yref\":\"y\"},{\"showarrow\":false,\"text\":\"0.5\",\"x\":11,\"xref\":\"x\",\"y\":\"Elec_PowerRefrigerator\",\"yref\":\"y\"},{\"showarrow\":false,\"text\":\"0.5\",\"x\":12,\"xref\":\"x\",\"y\":\"Elec_PowerRefrigerator\",\"yref\":\"y\"},{\"showarrow\":false,\"text\":\"0.5\",\"x\":13,\"xref\":\"x\",\"y\":\"Elec_PowerRefrigerator\",\"yref\":\"y\"},{\"showarrow\":false,\"text\":\"\",\"x\":14,\"xref\":\"x\",\"y\":\"Elec_PowerRefrigerator\",\"yref\":\"y\"},{\"showarrow\":false,\"text\":\"\",\"x\":15,\"xref\":\"x\",\"y\":\"Elec_PowerRefrigerator\",\"yref\":\"y\"},{\"showarrow\":false,\"text\":\"0.25\",\"x\":16,\"xref\":\"x\",\"y\":\"Elec_PowerRefrigerator\",\"yref\":\"y\"},{\"showarrow\":false,\"text\":\"0.25\",\"x\":17,\"xref\":\"x\",\"y\":\"Elec_PowerRefrigerator\",\"yref\":\"y\"},{\"showarrow\":false,\"text\":\"0.5\",\"x\":18,\"xref\":\"x\",\"y\":\"Elec_PowerRefrigerator\",\"yref\":\"y\"},{\"showarrow\":false,\"text\":\"0.5\",\"x\":19,\"xref\":\"x\",\"y\":\"Elec_PowerRefrigerator\",\"yref\":\"y\"},{\"showarrow\":false,\"text\":\"0.5\",\"x\":20,\"xref\":\"x\",\"y\":\"Elec_PowerRefrigerator\",\"yref\":\"y\"},{\"showarrow\":false,\"text\":\"0.5\",\"x\":21,\"xref\":\"x\",\"y\":\"Elec_PowerRefrigerator\",\"yref\":\"y\"},{\"showarrow\":false,\"text\":\"0.5\",\"x\":22,\"xref\":\"x\",\"y\":\"Elec_PowerRefrigerator\",\"yref\":\"y\"},{\"showarrow\":false,\"text\":\"0.5\",\"x\":23,\"xref\":\"x\",\"y\":\"Elec_PowerRefrigerator\",\"yref\":\"y\"},{\"showarrow\":false,\"text\":\"\",\"x\":0,\"xref\":\"x\",\"y\":\"Elec_PowerPlugsKitSink\",\"yref\":\"y\"},{\"showarrow\":false,\"text\":\"\",\"x\":1,\"xref\":\"x\",\"y\":\"Elec_PowerPlugsKitSink\",\"yref\":\"y\"},{\"showarrow\":false,\"text\":\"\",\"x\":2,\"xref\":\"x\",\"y\":\"Elec_PowerPlugsKitSink\",\"yref\":\"y\"},{\"showarrow\":false,\"text\":\"\",\"x\":3,\"xref\":\"x\",\"y\":\"Elec_PowerPlugsKitSink\",\"yref\":\"y\"},{\"showarrow\":false,\"text\":\"\",\"x\":4,\"xref\":\"x\",\"y\":\"Elec_PowerPlugsKitSink\",\"yref\":\"y\"},{\"showarrow\":false,\"text\":\"\",\"x\":5,\"xref\":\"x\",\"y\":\"Elec_PowerPlugsKitSink\",\"yref\":\"y\"},{\"showarrow\":false,\"text\":\"1.0\",\"x\":6,\"xref\":\"x\",\"y\":\"Elec_PowerPlugsKitSink\",\"yref\":\"y\"},{\"showarrow\":false,\"text\":\"\",\"x\":7,\"xref\":\"x\",\"y\":\"Elec_PowerPlugsKitSink\",\"yref\":\"y\"},{\"showarrow\":false,\"text\":\"0.2\",\"x\":8,\"xref\":\"x\",\"y\":\"Elec_PowerPlugsKitSink\",\"yref\":\"y\"},{\"showarrow\":false,\"text\":\"0.59\",\"x\":9,\"xref\":\"x\",\"y\":\"Elec_PowerPlugsKitSink\",\"yref\":\"y\"},{\"showarrow\":false,\"text\":\"0.2\",\"x\":10,\"xref\":\"x\",\"y\":\"Elec_PowerPlugsKitSink\",\"yref\":\"y\"},{\"showarrow\":false,\"text\":\"\",\"x\":11,\"xref\":\"x\",\"y\":\"Elec_PowerPlugsKitSink\",\"yref\":\"y\"},{\"showarrow\":false,\"text\":\"\",\"x\":12,\"xref\":\"x\",\"y\":\"Elec_PowerPlugsKitSink\",\"yref\":\"y\"},{\"showarrow\":false,\"text\":\"\",\"x\":13,\"xref\":\"x\",\"y\":\"Elec_PowerPlugsKitSink\",\"yref\":\"y\"},{\"showarrow\":false,\"text\":\"\",\"x\":14,\"xref\":\"x\",\"y\":\"Elec_PowerPlugsKitSink\",\"yref\":\"y\"},{\"showarrow\":false,\"text\":\"\",\"x\":15,\"xref\":\"x\",\"y\":\"Elec_PowerPlugsKitSink\",\"yref\":\"y\"},{\"showarrow\":false,\"text\":\"\",\"x\":16,\"xref\":\"x\",\"y\":\"Elec_PowerPlugsKitSink\",\"yref\":\"y\"},{\"showarrow\":false,\"text\":\"\",\"x\":17,\"xref\":\"x\",\"y\":\"Elec_PowerPlugsKitSink\",\"yref\":\"y\"},{\"showarrow\":false,\"text\":\"\",\"x\":18,\"xref\":\"x\",\"y\":\"Elec_PowerPlugsKitSink\",\"yref\":\"y\"},{\"showarrow\":false,\"text\":\"\",\"x\":19,\"xref\":\"x\",\"y\":\"Elec_PowerPlugsKitSink\",\"yref\":\"y\"},{\"showarrow\":false,\"text\":\"\",\"x\":20,\"xref\":\"x\",\"y\":\"Elec_PowerPlugsKitSink\",\"yref\":\"y\"},{\"showarrow\":false,\"text\":\"\",\"x\":21,\"xref\":\"x\",\"y\":\"Elec_PowerPlugsKitSink\",\"yref\":\"y\"},{\"showarrow\":false,\"text\":\"\",\"x\":22,\"xref\":\"x\",\"y\":\"Elec_PowerPlugsKitSink\",\"yref\":\"y\"},{\"showarrow\":false,\"text\":\"\",\"x\":23,\"xref\":\"x\",\"y\":\"Elec_PowerPlugsKitSink\",\"yref\":\"y\"},{\"showarrow\":false,\"text\":\"\",\"x\":0,\"xref\":\"x\",\"y\":\"Elec_PowerGarbageDisposal\",\"yref\":\"y\"},{\"showarrow\":false,\"text\":\"\",\"x\":1,\"xref\":\"x\",\"y\":\"Elec_PowerGarbageDisposal\",\"yref\":\"y\"},{\"showarrow\":false,\"text\":\"0.01\",\"x\":2,\"xref\":\"x\",\"y\":\"Elec_PowerGarbageDisposal\",\"yref\":\"y\"},{\"showarrow\":false,\"text\":\"\",\"x\":3,\"xref\":\"x\",\"y\":\"Elec_PowerGarbageDisposal\",\"yref\":\"y\"},{\"showarrow\":false,\"text\":\"\",\"x\":4,\"xref\":\"x\",\"y\":\"Elec_PowerGarbageDisposal\",\"yref\":\"y\"},{\"showarrow\":false,\"text\":\"\",\"x\":5,\"xref\":\"x\",\"y\":\"Elec_PowerGarbageDisposal\",\"yref\":\"y\"},{\"showarrow\":false,\"text\":\"\",\"x\":6,\"xref\":\"x\",\"y\":\"Elec_PowerGarbageDisposal\",\"yref\":\"y\"},{\"showarrow\":false,\"text\":\"\",\"x\":7,\"xref\":\"x\",\"y\":\"Elec_PowerGarbageDisposal\",\"yref\":\"y\"},{\"showarrow\":false,\"text\":\"0.3\",\"x\":8,\"xref\":\"x\",\"y\":\"Elec_PowerGarbageDisposal\",\"yref\":\"y\"},{\"showarrow\":false,\"text\":\"\",\"x\":9,\"xref\":\"x\",\"y\":\"Elec_PowerGarbageDisposal\",\"yref\":\"y\"},{\"showarrow\":false,\"text\":\"\",\"x\":10,\"xref\":\"x\",\"y\":\"Elec_PowerGarbageDisposal\",\"yref\":\"y\"},{\"showarrow\":false,\"text\":\"\",\"x\":11,\"xref\":\"x\",\"y\":\"Elec_PowerGarbageDisposal\",\"yref\":\"y\"},{\"showarrow\":false,\"text\":\"0.3\",\"x\":12,\"xref\":\"x\",\"y\":\"Elec_PowerGarbageDisposal\",\"yref\":\"y\"},{\"showarrow\":false,\"text\":\"\",\"x\":13,\"xref\":\"x\",\"y\":\"Elec_PowerGarbageDisposal\",\"yref\":\"y\"},{\"showarrow\":false,\"text\":\"\",\"x\":14,\"xref\":\"x\",\"y\":\"Elec_PowerGarbageDisposal\",\"yref\":\"y\"},{\"showarrow\":false,\"text\":\"\",\"x\":15,\"xref\":\"x\",\"y\":\"Elec_PowerGarbageDisposal\",\"yref\":\"y\"},{\"showarrow\":false,\"text\":\"\",\"x\":16,\"xref\":\"x\",\"y\":\"Elec_PowerGarbageDisposal\",\"yref\":\"y\"},{\"showarrow\":false,\"text\":\"0.01\",\"x\":17,\"xref\":\"x\",\"y\":\"Elec_PowerGarbageDisposal\",\"yref\":\"y\"},{\"showarrow\":false,\"text\":\"1.0\",\"x\":18,\"xref\":\"x\",\"y\":\"Elec_PowerGarbageDisposal\",\"yref\":\"y\"},{\"showarrow\":false,\"text\":\"0.16\",\"x\":19,\"xref\":\"x\",\"y\":\"Elec_PowerGarbageDisposal\",\"yref\":\"y\"},{\"showarrow\":false,\"text\":\"0.01\",\"x\":20,\"xref\":\"x\",\"y\":\"Elec_PowerGarbageDisposal\",\"yref\":\"y\"},{\"showarrow\":false,\"text\":\"\",\"x\":21,\"xref\":\"x\",\"y\":\"Elec_PowerGarbageDisposal\",\"yref\":\"y\"},{\"showarrow\":false,\"text\":\"\",\"x\":22,\"xref\":\"x\",\"y\":\"Elec_PowerGarbageDisposal\",\"yref\":\"y\"},{\"showarrow\":false,\"text\":\"\",\"x\":23,\"xref\":\"x\",\"y\":\"Elec_PowerGarbageDisposal\",\"yref\":\"y\"},{\"showarrow\":false,\"text\":\"\",\"x\":0,\"xref\":\"x\",\"y\":\"Elec_PowerPlugsKitRange\",\"yref\":\"y\"},{\"showarrow\":false,\"text\":\"\",\"x\":1,\"xref\":\"x\",\"y\":\"Elec_PowerPlugsKitRange\",\"yref\":\"y\"},{\"showarrow\":false,\"text\":\"0.01\",\"x\":2,\"xref\":\"x\",\"y\":\"Elec_PowerPlugsKitRange\",\"yref\":\"y\"},{\"showarrow\":false,\"text\":\"\",\"x\":3,\"xref\":\"x\",\"y\":\"Elec_PowerPlugsKitRange\",\"yref\":\"y\"},{\"showarrow\":false,\"text\":\"\",\"x\":4,\"xref\":\"x\",\"y\":\"Elec_PowerPlugsKitRange\",\"yref\":\"y\"},{\"showarrow\":false,\"text\":\"\",\"x\":5,\"xref\":\"x\",\"y\":\"Elec_PowerPlugsKitRange\",\"yref\":\"y\"},{\"showarrow\":false,\"text\":\"0.77\",\"x\":6,\"xref\":\"x\",\"y\":\"Elec_PowerPlugsKitRange\",\"yref\":\"y\"},{\"showarrow\":false,\"text\":\"\",\"x\":7,\"xref\":\"x\",\"y\":\"Elec_PowerPlugsKitRange\",\"yref\":\"y\"},{\"showarrow\":false,\"text\":\"0.3\",\"x\":8,\"xref\":\"x\",\"y\":\"Elec_PowerPlugsKitRange\",\"yref\":\"y\"},{\"showarrow\":false,\"text\":\"0.3\",\"x\":9,\"xref\":\"x\",\"y\":\"Elec_PowerPlugsKitRange\",\"yref\":\"y\"},{\"showarrow\":false,\"text\":\"\",\"x\":10,\"xref\":\"x\",\"y\":\"Elec_PowerPlugsKitRange\",\"yref\":\"y\"},{\"showarrow\":false,\"text\":\"\",\"x\":11,\"xref\":\"x\",\"y\":\"Elec_PowerPlugsKitRange\",\"yref\":\"y\"},{\"showarrow\":false,\"text\":\"0.3\",\"x\":12,\"xref\":\"x\",\"y\":\"Elec_PowerPlugsKitRange\",\"yref\":\"y\"},{\"showarrow\":false,\"text\":\"\",\"x\":13,\"xref\":\"x\",\"y\":\"Elec_PowerPlugsKitRange\",\"yref\":\"y\"},{\"showarrow\":false,\"text\":\"\",\"x\":14,\"xref\":\"x\",\"y\":\"Elec_PowerPlugsKitRange\",\"yref\":\"y\"},{\"showarrow\":false,\"text\":\"\",\"x\":15,\"xref\":\"x\",\"y\":\"Elec_PowerPlugsKitRange\",\"yref\":\"y\"},{\"showarrow\":false,\"text\":\"\",\"x\":16,\"xref\":\"x\",\"y\":\"Elec_PowerPlugsKitRange\",\"yref\":\"y\"},{\"showarrow\":false,\"text\":\"0.02\",\"x\":17,\"xref\":\"x\",\"y\":\"Elec_PowerPlugsKitRange\",\"yref\":\"y\"},{\"showarrow\":false,\"text\":\"1.0\",\"x\":18,\"xref\":\"x\",\"y\":\"Elec_PowerPlugsKitRange\",\"yref\":\"y\"},{\"showarrow\":false,\"text\":\"0.16\",\"x\":19,\"xref\":\"x\",\"y\":\"Elec_PowerPlugsKitRange\",\"yref\":\"y\"},{\"showarrow\":false,\"text\":\"\",\"x\":20,\"xref\":\"x\",\"y\":\"Elec_PowerPlugsKitRange\",\"yref\":\"y\"},{\"showarrow\":false,\"text\":\"\",\"x\":21,\"xref\":\"x\",\"y\":\"Elec_PowerPlugsKitRange\",\"yref\":\"y\"},{\"showarrow\":false,\"text\":\"\",\"x\":22,\"xref\":\"x\",\"y\":\"Elec_PowerPlugsKitRange\",\"yref\":\"y\"},{\"showarrow\":false,\"text\":\"\",\"x\":23,\"xref\":\"x\",\"y\":\"Elec_PowerPlugsKitRange\",\"yref\":\"y\"},{\"showarrow\":false,\"text\":\"\",\"x\":0,\"xref\":\"x\",\"y\":\"Elec_PowerPlugsKitPeninsula\",\"yref\":\"y\"},{\"showarrow\":false,\"text\":\"\",\"x\":1,\"xref\":\"x\",\"y\":\"Elec_PowerPlugsKitPeninsula\",\"yref\":\"y\"},{\"showarrow\":false,\"text\":\"0.01\",\"x\":2,\"xref\":\"x\",\"y\":\"Elec_PowerPlugsKitPeninsula\",\"yref\":\"y\"},{\"showarrow\":false,\"text\":\"\",\"x\":3,\"xref\":\"x\",\"y\":\"Elec_PowerPlugsKitPeninsula\",\"yref\":\"y\"},{\"showarrow\":false,\"text\":\"\",\"x\":4,\"xref\":\"x\",\"y\":\"Elec_PowerPlugsKitPeninsula\",\"yref\":\"y\"},{\"showarrow\":false,\"text\":\"\",\"x\":5,\"xref\":\"x\",\"y\":\"Elec_PowerPlugsKitPeninsula\",\"yref\":\"y\"},{\"showarrow\":false,\"text\":\"\",\"x\":6,\"xref\":\"x\",\"y\":\"Elec_PowerPlugsKitPeninsula\",\"yref\":\"y\"},{\"showarrow\":false,\"text\":\"\",\"x\":7,\"xref\":\"x\",\"y\":\"Elec_PowerPlugsKitPeninsula\",\"yref\":\"y\"},{\"showarrow\":false,\"text\":\"\",\"x\":8,\"xref\":\"x\",\"y\":\"Elec_PowerPlugsKitPeninsula\",\"yref\":\"y\"},{\"showarrow\":false,\"text\":\"\",\"x\":9,\"xref\":\"x\",\"y\":\"Elec_PowerPlugsKitPeninsula\",\"yref\":\"y\"},{\"showarrow\":false,\"text\":\"\",\"x\":10,\"xref\":\"x\",\"y\":\"Elec_PowerPlugsKitPeninsula\",\"yref\":\"y\"},{\"showarrow\":false,\"text\":\"\",\"x\":11,\"xref\":\"x\",\"y\":\"Elec_PowerPlugsKitPeninsula\",\"yref\":\"y\"},{\"showarrow\":false,\"text\":\"\",\"x\":12,\"xref\":\"x\",\"y\":\"Elec_PowerPlugsKitPeninsula\",\"yref\":\"y\"},{\"showarrow\":false,\"text\":\"\",\"x\":13,\"xref\":\"x\",\"y\":\"Elec_PowerPlugsKitPeninsula\",\"yref\":\"y\"},{\"showarrow\":false,\"text\":\"\",\"x\":14,\"xref\":\"x\",\"y\":\"Elec_PowerPlugsKitPeninsula\",\"yref\":\"y\"},{\"showarrow\":false,\"text\":\"\",\"x\":15,\"xref\":\"x\",\"y\":\"Elec_PowerPlugsKitPeninsula\",\"yref\":\"y\"},{\"showarrow\":false,\"text\":\"\",\"x\":16,\"xref\":\"x\",\"y\":\"Elec_PowerPlugsKitPeninsula\",\"yref\":\"y\"},{\"showarrow\":false,\"text\":\"\",\"x\":17,\"xref\":\"x\",\"y\":\"Elec_PowerPlugsKitPeninsula\",\"yref\":\"y\"},{\"showarrow\":false,\"text\":\"1.0\",\"x\":18,\"xref\":\"x\",\"y\":\"Elec_PowerPlugsKitPeninsula\",\"yref\":\"y\"},{\"showarrow\":false,\"text\":\"0.17\",\"x\":19,\"xref\":\"x\",\"y\":\"Elec_PowerPlugsKitPeninsula\",\"yref\":\"y\"},{\"showarrow\":false,\"text\":\"\",\"x\":20,\"xref\":\"x\",\"y\":\"Elec_PowerPlugsKitPeninsula\",\"yref\":\"y\"},{\"showarrow\":false,\"text\":\"\",\"x\":21,\"xref\":\"x\",\"y\":\"Elec_PowerPlugsKitPeninsula\",\"yref\":\"y\"},{\"showarrow\":false,\"text\":\"\",\"x\":22,\"xref\":\"x\",\"y\":\"Elec_PowerPlugsKitPeninsula\",\"yref\":\"y\"},{\"showarrow\":false,\"text\":\"\",\"x\":23,\"xref\":\"x\",\"y\":\"Elec_PowerPlugsKitPeninsula\",\"yref\":\"y\"},{\"showarrow\":false,\"text\":\"\",\"x\":0,\"xref\":\"x\",\"y\":\"Elec_PowerMicrowave\",\"yref\":\"y\"},{\"showarrow\":false,\"text\":\"\",\"x\":1,\"xref\":\"x\",\"y\":\"Elec_PowerMicrowave\",\"yref\":\"y\"},{\"showarrow\":false,\"text\":\"\",\"x\":2,\"xref\":\"x\",\"y\":\"Elec_PowerMicrowave\",\"yref\":\"y\"},{\"showarrow\":false,\"text\":\"\",\"x\":3,\"xref\":\"x\",\"y\":\"Elec_PowerMicrowave\",\"yref\":\"y\"},{\"showarrow\":false,\"text\":\"\",\"x\":4,\"xref\":\"x\",\"y\":\"Elec_PowerMicrowave\",\"yref\":\"y\"},{\"showarrow\":false,\"text\":\"0.03\",\"x\":5,\"xref\":\"x\",\"y\":\"Elec_PowerMicrowave\",\"yref\":\"y\"},{\"showarrow\":false,\"text\":\"0.84\",\"x\":6,\"xref\":\"x\",\"y\":\"Elec_PowerMicrowave\",\"yref\":\"y\"},{\"showarrow\":false,\"text\":\"\",\"x\":7,\"xref\":\"x\",\"y\":\"Elec_PowerMicrowave\",\"yref\":\"y\"},{\"showarrow\":false,\"text\":\"0.01\",\"x\":8,\"xref\":\"x\",\"y\":\"Elec_PowerMicrowave\",\"yref\":\"y\"},{\"showarrow\":false,\"text\":\"0.35\",\"x\":9,\"xref\":\"x\",\"y\":\"Elec_PowerMicrowave\",\"yref\":\"y\"},{\"showarrow\":false,\"text\":\"\",\"x\":10,\"xref\":\"x\",\"y\":\"Elec_PowerMicrowave\",\"yref\":\"y\"},{\"showarrow\":false,\"text\":\"\",\"x\":11,\"xref\":\"x\",\"y\":\"Elec_PowerMicrowave\",\"yref\":\"y\"},{\"showarrow\":false,\"text\":\"0.33\",\"x\":12,\"xref\":\"x\",\"y\":\"Elec_PowerMicrowave\",\"yref\":\"y\"},{\"showarrow\":false,\"text\":\"0.01\",\"x\":13,\"xref\":\"x\",\"y\":\"Elec_PowerMicrowave\",\"yref\":\"y\"},{\"showarrow\":false,\"text\":\"\",\"x\":14,\"xref\":\"x\",\"y\":\"Elec_PowerMicrowave\",\"yref\":\"y\"},{\"showarrow\":false,\"text\":\"\",\"x\":15,\"xref\":\"x\",\"y\":\"Elec_PowerMicrowave\",\"yref\":\"y\"},{\"showarrow\":false,\"text\":\"\",\"x\":16,\"xref\":\"x\",\"y\":\"Elec_PowerMicrowave\",\"yref\":\"y\"},{\"showarrow\":false,\"text\":\"\",\"x\":17,\"xref\":\"x\",\"y\":\"Elec_PowerMicrowave\",\"yref\":\"y\"},{\"showarrow\":false,\"text\":\"1.0\",\"x\":18,\"xref\":\"x\",\"y\":\"Elec_PowerMicrowave\",\"yref\":\"y\"},{\"showarrow\":false,\"text\":\"\",\"x\":19,\"xref\":\"x\",\"y\":\"Elec_PowerMicrowave\",\"yref\":\"y\"},{\"showarrow\":false,\"text\":\"\",\"x\":20,\"xref\":\"x\",\"y\":\"Elec_PowerMicrowave\",\"yref\":\"y\"},{\"showarrow\":false,\"text\":\"\",\"x\":21,\"xref\":\"x\",\"y\":\"Elec_PowerMicrowave\",\"yref\":\"y\"},{\"showarrow\":false,\"text\":\"\",\"x\":22,\"xref\":\"x\",\"y\":\"Elec_PowerMicrowave\",\"yref\":\"y\"},{\"showarrow\":false,\"text\":\"\",\"x\":23,\"xref\":\"x\",\"y\":\"Elec_PowerMicrowave\",\"yref\":\"y\"},{\"showarrow\":false,\"text\":\"1.0\",\"x\":0,\"xref\":\"x\",\"y\":\"Elec_PowerPlugs2ndFloor\",\"yref\":\"y\"},{\"showarrow\":false,\"text\":\"1.0\",\"x\":1,\"xref\":\"x\",\"y\":\"Elec_PowerPlugs2ndFloor\",\"yref\":\"y\"},{\"showarrow\":false,\"text\":\"\",\"x\":2,\"xref\":\"x\",\"y\":\"Elec_PowerPlugs2ndFloor\",\"yref\":\"y\"},{\"showarrow\":false,\"text\":\"0.25\",\"x\":3,\"xref\":\"x\",\"y\":\"Elec_PowerPlugs2ndFloor\",\"yref\":\"y\"},{\"showarrow\":false,\"text\":\"0.25\",\"x\":4,\"xref\":\"x\",\"y\":\"Elec_PowerPlugs2ndFloor\",\"yref\":\"y\"},{\"showarrow\":false,\"text\":\"0.25\",\"x\":5,\"xref\":\"x\",\"y\":\"Elec_PowerPlugs2ndFloor\",\"yref\":\"y\"},{\"showarrow\":false,\"text\":\"0.25\",\"x\":6,\"xref\":\"x\",\"y\":\"Elec_PowerPlugs2ndFloor\",\"yref\":\"y\"},{\"showarrow\":false,\"text\":\"0.25\",\"x\":7,\"xref\":\"x\",\"y\":\"Elec_PowerPlugs2ndFloor\",\"yref\":\"y\"},{\"showarrow\":false,\"text\":\"0.75\",\"x\":8,\"xref\":\"x\",\"y\":\"Elec_PowerPlugs2ndFloor\",\"yref\":\"y\"},{\"showarrow\":false,\"text\":\"0.75\",\"x\":9,\"xref\":\"x\",\"y\":\"Elec_PowerPlugs2ndFloor\",\"yref\":\"y\"},{\"showarrow\":false,\"text\":\"0.75\",\"x\":10,\"xref\":\"x\",\"y\":\"Elec_PowerPlugs2ndFloor\",\"yref\":\"y\"},{\"showarrow\":false,\"text\":\"0.75\",\"x\":11,\"xref\":\"x\",\"y\":\"Elec_PowerPlugs2ndFloor\",\"yref\":\"y\"},{\"showarrow\":false,\"text\":\"0.75\",\"x\":12,\"xref\":\"x\",\"y\":\"Elec_PowerPlugs2ndFloor\",\"yref\":\"y\"},{\"showarrow\":false,\"text\":\"0.75\",\"x\":13,\"xref\":\"x\",\"y\":\"Elec_PowerPlugs2ndFloor\",\"yref\":\"y\"},{\"showarrow\":false,\"text\":\"0.25\",\"x\":14,\"xref\":\"x\",\"y\":\"Elec_PowerPlugs2ndFloor\",\"yref\":\"y\"},{\"showarrow\":false,\"text\":\"0.25\",\"x\":15,\"xref\":\"x\",\"y\":\"Elec_PowerPlugs2ndFloor\",\"yref\":\"y\"},{\"showarrow\":false,\"text\":\"0.5\",\"x\":16,\"xref\":\"x\",\"y\":\"Elec_PowerPlugs2ndFloor\",\"yref\":\"y\"},{\"showarrow\":false,\"text\":\"0.75\",\"x\":17,\"xref\":\"x\",\"y\":\"Elec_PowerPlugs2ndFloor\",\"yref\":\"y\"},{\"showarrow\":false,\"text\":\"0.75\",\"x\":18,\"xref\":\"x\",\"y\":\"Elec_PowerPlugs2ndFloor\",\"yref\":\"y\"},{\"showarrow\":false,\"text\":\"0.75\",\"x\":19,\"xref\":\"x\",\"y\":\"Elec_PowerPlugs2ndFloor\",\"yref\":\"y\"},{\"showarrow\":false,\"text\":\"0.75\",\"x\":20,\"xref\":\"x\",\"y\":\"Elec_PowerPlugs2ndFloor\",\"yref\":\"y\"},{\"showarrow\":false,\"text\":\"0.75\",\"x\":21,\"xref\":\"x\",\"y\":\"Elec_PowerPlugs2ndFloor\",\"yref\":\"y\"},{\"showarrow\":false,\"text\":\"0.75\",\"x\":22,\"xref\":\"x\",\"y\":\"Elec_PowerPlugs2ndFloor\",\"yref\":\"y\"},{\"showarrow\":false,\"text\":\"0.75\",\"x\":23,\"xref\":\"x\",\"y\":\"Elec_PowerPlugs2ndFloor\",\"yref\":\"y\"},{\"showarrow\":false,\"text\":\"0.33\",\"x\":0,\"xref\":\"x\",\"y\":\"Elec_PowerSpare2\",\"yref\":\"y\"},{\"showarrow\":false,\"text\":\"0.33\",\"x\":1,\"xref\":\"x\",\"y\":\"Elec_PowerSpare2\",\"yref\":\"y\"},{\"showarrow\":false,\"text\":\"\",\"x\":2,\"xref\":\"x\",\"y\":\"Elec_PowerSpare2\",\"yref\":\"y\"},{\"showarrow\":false,\"text\":\"0.33\",\"x\":3,\"xref\":\"x\",\"y\":\"Elec_PowerSpare2\",\"yref\":\"y\"},{\"showarrow\":false,\"text\":\"0.33\",\"x\":4,\"xref\":\"x\",\"y\":\"Elec_PowerSpare2\",\"yref\":\"y\"},{\"showarrow\":false,\"text\":\"0.33\",\"x\":5,\"xref\":\"x\",\"y\":\"Elec_PowerSpare2\",\"yref\":\"y\"},{\"showarrow\":false,\"text\":\"0.33\",\"x\":6,\"xref\":\"x\",\"y\":\"Elec_PowerSpare2\",\"yref\":\"y\"},{\"showarrow\":false,\"text\":\"0.33\",\"x\":7,\"xref\":\"x\",\"y\":\"Elec_PowerSpare2\",\"yref\":\"y\"},{\"showarrow\":false,\"text\":\"0.67\",\"x\":8,\"xref\":\"x\",\"y\":\"Elec_PowerSpare2\",\"yref\":\"y\"},{\"showarrow\":false,\"text\":\"0.33\",\"x\":9,\"xref\":\"x\",\"y\":\"Elec_PowerSpare2\",\"yref\":\"y\"},{\"showarrow\":false,\"text\":\"0.33\",\"x\":10,\"xref\":\"x\",\"y\":\"Elec_PowerSpare2\",\"yref\":\"y\"},{\"showarrow\":false,\"text\":\"0.33\",\"x\":11,\"xref\":\"x\",\"y\":\"Elec_PowerSpare2\",\"yref\":\"y\"},{\"showarrow\":false,\"text\":\"0.33\",\"x\":12,\"xref\":\"x\",\"y\":\"Elec_PowerSpare2\",\"yref\":\"y\"},{\"showarrow\":false,\"text\":\"0.33\",\"x\":13,\"xref\":\"x\",\"y\":\"Elec_PowerSpare2\",\"yref\":\"y\"},{\"showarrow\":false,\"text\":\"0.33\",\"x\":14,\"xref\":\"x\",\"y\":\"Elec_PowerSpare2\",\"yref\":\"y\"},{\"showarrow\":false,\"text\":\"0.33\",\"x\":15,\"xref\":\"x\",\"y\":\"Elec_PowerSpare2\",\"yref\":\"y\"},{\"showarrow\":false,\"text\":\"0.67\",\"x\":16,\"xref\":\"x\",\"y\":\"Elec_PowerSpare2\",\"yref\":\"y\"},{\"showarrow\":false,\"text\":\"1.0\",\"x\":17,\"xref\":\"x\",\"y\":\"Elec_PowerSpare2\",\"yref\":\"y\"},{\"showarrow\":false,\"text\":\"1.0\",\"x\":18,\"xref\":\"x\",\"y\":\"Elec_PowerSpare2\",\"yref\":\"y\"},{\"showarrow\":false,\"text\":\"1.0\",\"x\":19,\"xref\":\"x\",\"y\":\"Elec_PowerSpare2\",\"yref\":\"y\"},{\"showarrow\":false,\"text\":\"1.0\",\"x\":20,\"xref\":\"x\",\"y\":\"Elec_PowerSpare2\",\"yref\":\"y\"},{\"showarrow\":false,\"text\":\"1.0\",\"x\":21,\"xref\":\"x\",\"y\":\"Elec_PowerSpare2\",\"yref\":\"y\"},{\"showarrow\":false,\"text\":\"1.0\",\"x\":22,\"xref\":\"x\",\"y\":\"Elec_PowerSpare2\",\"yref\":\"y\"},{\"showarrow\":false,\"text\":\"1.0\",\"x\":23,\"xref\":\"x\",\"y\":\"Elec_PowerSpare2\",\"yref\":\"y\"},{\"showarrow\":false,\"text\":\"1.0\",\"x\":0,\"xref\":\"x\",\"y\":\"Elec_PowerPlugsBR2\",\"yref\":\"y\"},{\"showarrow\":false,\"text\":\"1.0\",\"x\":1,\"xref\":\"x\",\"y\":\"Elec_PowerPlugsBR2\",\"yref\":\"y\"},{\"showarrow\":false,\"text\":\"\",\"x\":2,\"xref\":\"x\",\"y\":\"Elec_PowerPlugsBR2\",\"yref\":\"y\"},{\"showarrow\":false,\"text\":\"0.25\",\"x\":3,\"xref\":\"x\",\"y\":\"Elec_PowerPlugsBR2\",\"yref\":\"y\"},{\"showarrow\":false,\"text\":\"0.25\",\"x\":4,\"xref\":\"x\",\"y\":\"Elec_PowerPlugsBR2\",\"yref\":\"y\"},{\"showarrow\":false,\"text\":\"0.25\",\"x\":5,\"xref\":\"x\",\"y\":\"Elec_PowerPlugsBR2\",\"yref\":\"y\"},{\"showarrow\":false,\"text\":\"0.25\",\"x\":6,\"xref\":\"x\",\"y\":\"Elec_PowerPlugsBR2\",\"yref\":\"y\"},{\"showarrow\":false,\"text\":\"0.25\",\"x\":7,\"xref\":\"x\",\"y\":\"Elec_PowerPlugsBR2\",\"yref\":\"y\"},{\"showarrow\":false,\"text\":\"0.75\",\"x\":8,\"xref\":\"x\",\"y\":\"Elec_PowerPlugsBR2\",\"yref\":\"y\"},{\"showarrow\":false,\"text\":\"0.75\",\"x\":9,\"xref\":\"x\",\"y\":\"Elec_PowerPlugsBR2\",\"yref\":\"y\"},{\"showarrow\":false,\"text\":\"0.75\",\"x\":10,\"xref\":\"x\",\"y\":\"Elec_PowerPlugsBR2\",\"yref\":\"y\"},{\"showarrow\":false,\"text\":\"0.75\",\"x\":11,\"xref\":\"x\",\"y\":\"Elec_PowerPlugsBR2\",\"yref\":\"y\"},{\"showarrow\":false,\"text\":\"0.75\",\"x\":12,\"xref\":\"x\",\"y\":\"Elec_PowerPlugsBR2\",\"yref\":\"y\"},{\"showarrow\":false,\"text\":\"0.75\",\"x\":13,\"xref\":\"x\",\"y\":\"Elec_PowerPlugsBR2\",\"yref\":\"y\"},{\"showarrow\":false,\"text\":\"0.25\",\"x\":14,\"xref\":\"x\",\"y\":\"Elec_PowerPlugsBR2\",\"yref\":\"y\"},{\"showarrow\":false,\"text\":\"0.25\",\"x\":15,\"xref\":\"x\",\"y\":\"Elec_PowerPlugsBR2\",\"yref\":\"y\"},{\"showarrow\":false,\"text\":\"0.5\",\"x\":16,\"xref\":\"x\",\"y\":\"Elec_PowerPlugsBR2\",\"yref\":\"y\"},{\"showarrow\":false,\"text\":\"0.75\",\"x\":17,\"xref\":\"x\",\"y\":\"Elec_PowerPlugsBR2\",\"yref\":\"y\"},{\"showarrow\":false,\"text\":\"0.75\",\"x\":18,\"xref\":\"x\",\"y\":\"Elec_PowerPlugsBR2\",\"yref\":\"y\"},{\"showarrow\":false,\"text\":\"0.75\",\"x\":19,\"xref\":\"x\",\"y\":\"Elec_PowerPlugsBR2\",\"yref\":\"y\"},{\"showarrow\":false,\"text\":\"0.75\",\"x\":20,\"xref\":\"x\",\"y\":\"Elec_PowerPlugsBR2\",\"yref\":\"y\"},{\"showarrow\":false,\"text\":\"0.75\",\"x\":21,\"xref\":\"x\",\"y\":\"Elec_PowerPlugsBR2\",\"yref\":\"y\"},{\"showarrow\":false,\"text\":\"0.75\",\"x\":22,\"xref\":\"x\",\"y\":\"Elec_PowerPlugsBR2\",\"yref\":\"y\"},{\"showarrow\":false,\"text\":\"0.75\",\"x\":23,\"xref\":\"x\",\"y\":\"Elec_PowerPlugsBR2\",\"yref\":\"y\"},{\"showarrow\":false,\"text\":\"0.17\",\"x\":0,\"xref\":\"x\",\"y\":\"Elec_PowerPlugsMBR\",\"yref\":\"y\"},{\"showarrow\":false,\"text\":\"\",\"x\":1,\"xref\":\"x\",\"y\":\"Elec_PowerPlugsMBR\",\"yref\":\"y\"},{\"showarrow\":false,\"text\":\"\",\"x\":2,\"xref\":\"x\",\"y\":\"Elec_PowerPlugsMBR\",\"yref\":\"y\"},{\"showarrow\":false,\"text\":\"\",\"x\":3,\"xref\":\"x\",\"y\":\"Elec_PowerPlugsMBR\",\"yref\":\"y\"},{\"showarrow\":false,\"text\":\"\",\"x\":4,\"xref\":\"x\",\"y\":\"Elec_PowerPlugsMBR\",\"yref\":\"y\"},{\"showarrow\":false,\"text\":\"\",\"x\":5,\"xref\":\"x\",\"y\":\"Elec_PowerPlugsMBR\",\"yref\":\"y\"},{\"showarrow\":false,\"text\":\"0.71\",\"x\":6,\"xref\":\"x\",\"y\":\"Elec_PowerPlugsMBR\",\"yref\":\"y\"},{\"showarrow\":false,\"text\":\"0.04\",\"x\":7,\"xref\":\"x\",\"y\":\"Elec_PowerPlugsMBR\",\"yref\":\"y\"},{\"showarrow\":false,\"text\":\"\",\"x\":8,\"xref\":\"x\",\"y\":\"Elec_PowerPlugsMBR\",\"yref\":\"y\"},{\"showarrow\":false,\"text\":\"\",\"x\":9,\"xref\":\"x\",\"y\":\"Elec_PowerPlugsMBR\",\"yref\":\"y\"},{\"showarrow\":false,\"text\":\"\",\"x\":10,\"xref\":\"x\",\"y\":\"Elec_PowerPlugsMBR\",\"yref\":\"y\"},{\"showarrow\":false,\"text\":\"\",\"x\":11,\"xref\":\"x\",\"y\":\"Elec_PowerPlugsMBR\",\"yref\":\"y\"},{\"showarrow\":false,\"text\":\"\",\"x\":12,\"xref\":\"x\",\"y\":\"Elec_PowerPlugsMBR\",\"yref\":\"y\"},{\"showarrow\":false,\"text\":\"\",\"x\":13,\"xref\":\"x\",\"y\":\"Elec_PowerPlugsMBR\",\"yref\":\"y\"},{\"showarrow\":false,\"text\":\"0.14\",\"x\":14,\"xref\":\"x\",\"y\":\"Elec_PowerPlugsMBR\",\"yref\":\"y\"},{\"showarrow\":false,\"text\":\"\",\"x\":15,\"xref\":\"x\",\"y\":\"Elec_PowerPlugsMBR\",\"yref\":\"y\"},{\"showarrow\":false,\"text\":\"\",\"x\":16,\"xref\":\"x\",\"y\":\"Elec_PowerPlugsMBR\",\"yref\":\"y\"},{\"showarrow\":false,\"text\":\"0.07\",\"x\":17,\"xref\":\"x\",\"y\":\"Elec_PowerPlugsMBR\",\"yref\":\"y\"},{\"showarrow\":false,\"text\":\"0.14\",\"x\":18,\"xref\":\"x\",\"y\":\"Elec_PowerPlugsMBR\",\"yref\":\"y\"},{\"showarrow\":false,\"text\":\"\",\"x\":19,\"xref\":\"x\",\"y\":\"Elec_PowerPlugsMBR\",\"yref\":\"y\"},{\"showarrow\":false,\"text\":\"\",\"x\":20,\"xref\":\"x\",\"y\":\"Elec_PowerPlugsMBR\",\"yref\":\"y\"},{\"showarrow\":false,\"text\":\"0.35\",\"x\":21,\"xref\":\"x\",\"y\":\"Elec_PowerPlugsMBR\",\"yref\":\"y\"},{\"showarrow\":false,\"text\":\"0.72\",\"x\":22,\"xref\":\"x\",\"y\":\"Elec_PowerPlugsMBR\",\"yref\":\"y\"},{\"showarrow\":false,\"text\":\"1.0\",\"x\":23,\"xref\":\"x\",\"y\":\"Elec_PowerPlugsMBR\",\"yref\":\"y\"},{\"showarrow\":false,\"text\":\"\",\"x\":0,\"xref\":\"x\",\"y\":\"Elec_PowerLights1stFloorA\",\"yref\":\"y\"},{\"showarrow\":false,\"text\":\"0.01\",\"x\":1,\"xref\":\"x\",\"y\":\"Elec_PowerLights1stFloorA\",\"yref\":\"y\"},{\"showarrow\":false,\"text\":\"0.01\",\"x\":2,\"xref\":\"x\",\"y\":\"Elec_PowerLights1stFloorA\",\"yref\":\"y\"},{\"showarrow\":false,\"text\":\"0.01\",\"x\":3,\"xref\":\"x\",\"y\":\"Elec_PowerLights1stFloorA\",\"yref\":\"y\"},{\"showarrow\":false,\"text\":\"0.01\",\"x\":4,\"xref\":\"x\",\"y\":\"Elec_PowerLights1stFloorA\",\"yref\":\"y\"},{\"showarrow\":false,\"text\":\"0.01\",\"x\":5,\"xref\":\"x\",\"y\":\"Elec_PowerLights1stFloorA\",\"yref\":\"y\"},{\"showarrow\":false,\"text\":\"0.01\",\"x\":6,\"xref\":\"x\",\"y\":\"Elec_PowerLights1stFloorA\",\"yref\":\"y\"},{\"showarrow\":false,\"text\":\"0.34\",\"x\":7,\"xref\":\"x\",\"y\":\"Elec_PowerLights1stFloorA\",\"yref\":\"y\"},{\"showarrow\":false,\"text\":\"0.71\",\"x\":8,\"xref\":\"x\",\"y\":\"Elec_PowerLights1stFloorA\",\"yref\":\"y\"},{\"showarrow\":false,\"text\":\"\",\"x\":9,\"xref\":\"x\",\"y\":\"Elec_PowerLights1stFloorA\",\"yref\":\"y\"},{\"showarrow\":false,\"text\":\"\",\"x\":10,\"xref\":\"x\",\"y\":\"Elec_PowerLights1stFloorA\",\"yref\":\"y\"},{\"showarrow\":false,\"text\":\"\",\"x\":11,\"xref\":\"x\",\"y\":\"Elec_PowerLights1stFloorA\",\"yref\":\"y\"},{\"showarrow\":false,\"text\":\"\",\"x\":12,\"xref\":\"x\",\"y\":\"Elec_PowerLights1stFloorA\",\"yref\":\"y\"},{\"showarrow\":false,\"text\":\"\",\"x\":13,\"xref\":\"x\",\"y\":\"Elec_PowerLights1stFloorA\",\"yref\":\"y\"},{\"showarrow\":false,\"text\":\"\",\"x\":14,\"xref\":\"x\",\"y\":\"Elec_PowerLights1stFloorA\",\"yref\":\"y\"},{\"showarrow\":false,\"text\":\"\",\"x\":15,\"xref\":\"x\",\"y\":\"Elec_PowerLights1stFloorA\",\"yref\":\"y\"},{\"showarrow\":false,\"text\":\"\",\"x\":16,\"xref\":\"x\",\"y\":\"Elec_PowerLights1stFloorA\",\"yref\":\"y\"},{\"showarrow\":false,\"text\":\"0.35\",\"x\":17,\"xref\":\"x\",\"y\":\"Elec_PowerLights1stFloorA\",\"yref\":\"y\"},{\"showarrow\":false,\"text\":\"0.86\",\"x\":18,\"xref\":\"x\",\"y\":\"Elec_PowerLights1stFloorA\",\"yref\":\"y\"},{\"showarrow\":false,\"text\":\"0.86\",\"x\":19,\"xref\":\"x\",\"y\":\"Elec_PowerLights1stFloorA\",\"yref\":\"y\"},{\"showarrow\":false,\"text\":\"0.93\",\"x\":20,\"xref\":\"x\",\"y\":\"Elec_PowerLights1stFloorA\",\"yref\":\"y\"},{\"showarrow\":false,\"text\":\"1.0\",\"x\":21,\"xref\":\"x\",\"y\":\"Elec_PowerLights1stFloorA\",\"yref\":\"y\"},{\"showarrow\":false,\"text\":\"1.0\",\"x\":22,\"xref\":\"x\",\"y\":\"Elec_PowerLights1stFloorA\",\"yref\":\"y\"},{\"showarrow\":false,\"text\":\"0.29\",\"x\":23,\"xref\":\"x\",\"y\":\"Elec_PowerLights1stFloorA\",\"yref\":\"y\"},{\"showarrow\":false,\"text\":\"\",\"x\":0,\"xref\":\"x\",\"y\":\"Elec_PowerLights1stFloorB\",\"yref\":\"y\"},{\"showarrow\":false,\"text\":\"\",\"x\":1,\"xref\":\"x\",\"y\":\"Elec_PowerLights1stFloorB\",\"yref\":\"y\"},{\"showarrow\":false,\"text\":\"0.01\",\"x\":2,\"xref\":\"x\",\"y\":\"Elec_PowerLights1stFloorB\",\"yref\":\"y\"},{\"showarrow\":false,\"text\":\"0.01\",\"x\":3,\"xref\":\"x\",\"y\":\"Elec_PowerLights1stFloorB\",\"yref\":\"y\"},{\"showarrow\":false,\"text\":\"0.01\",\"x\":4,\"xref\":\"x\",\"y\":\"Elec_PowerLights1stFloorB\",\"yref\":\"y\"},{\"showarrow\":false,\"text\":\"0.34\",\"x\":5,\"xref\":\"x\",\"y\":\"Elec_PowerLights1stFloorB\",\"yref\":\"y\"},{\"showarrow\":false,\"text\":\"0.72\",\"x\":6,\"xref\":\"x\",\"y\":\"Elec_PowerLights1stFloorB\",\"yref\":\"y\"},{\"showarrow\":false,\"text\":\"0.72\",\"x\":7,\"xref\":\"x\",\"y\":\"Elec_PowerLights1stFloorB\",\"yref\":\"y\"},{\"showarrow\":false,\"text\":\"0.99\",\"x\":8,\"xref\":\"x\",\"y\":\"Elec_PowerLights1stFloorB\",\"yref\":\"y\"},{\"showarrow\":false,\"text\":\"0.29\",\"x\":9,\"xref\":\"x\",\"y\":\"Elec_PowerLights1stFloorB\",\"yref\":\"y\"},{\"showarrow\":false,\"text\":\"0.03\",\"x\":10,\"xref\":\"x\",\"y\":\"Elec_PowerLights1stFloorB\",\"yref\":\"y\"},{\"showarrow\":false,\"text\":\"0.01\",\"x\":11,\"xref\":\"x\",\"y\":\"Elec_PowerLights1stFloorB\",\"yref\":\"y\"},{\"showarrow\":false,\"text\":\"0.01\",\"x\":12,\"xref\":\"x\",\"y\":\"Elec_PowerLights1stFloorB\",\"yref\":\"y\"},{\"showarrow\":false,\"text\":\"0.01\",\"x\":13,\"xref\":\"x\",\"y\":\"Elec_PowerLights1stFloorB\",\"yref\":\"y\"},{\"showarrow\":false,\"text\":\"0.01\",\"x\":14,\"xref\":\"x\",\"y\":\"Elec_PowerLights1stFloorB\",\"yref\":\"y\"},{\"showarrow\":false,\"text\":\"0.02\",\"x\":15,\"xref\":\"x\",\"y\":\"Elec_PowerLights1stFloorB\",\"yref\":\"y\"},{\"showarrow\":false,\"text\":\"0.29\",\"x\":16,\"xref\":\"x\",\"y\":\"Elec_PowerLights1stFloorB\",\"yref\":\"y\"},{\"showarrow\":false,\"text\":\"0.42\",\"x\":17,\"xref\":\"x\",\"y\":\"Elec_PowerLights1stFloorB\",\"yref\":\"y\"},{\"showarrow\":false,\"text\":\"0.93\",\"x\":18,\"xref\":\"x\",\"y\":\"Elec_PowerLights1stFloorB\",\"yref\":\"y\"},{\"showarrow\":false,\"text\":\"1.0\",\"x\":19,\"xref\":\"x\",\"y\":\"Elec_PowerLights1stFloorB\",\"yref\":\"y\"},{\"showarrow\":false,\"text\":\"1.0\",\"x\":20,\"xref\":\"x\",\"y\":\"Elec_PowerLights1stFloorB\",\"yref\":\"y\"},{\"showarrow\":false,\"text\":\"1.0\",\"x\":21,\"xref\":\"x\",\"y\":\"Elec_PowerLights1stFloorB\",\"yref\":\"y\"},{\"showarrow\":false,\"text\":\"1.0\",\"x\":22,\"xref\":\"x\",\"y\":\"Elec_PowerLights1stFloorB\",\"yref\":\"y\"},{\"showarrow\":false,\"text\":\"0.28\",\"x\":23,\"xref\":\"x\",\"y\":\"Elec_PowerLights1stFloorB\",\"yref\":\"y\"},{\"showarrow\":false,\"text\":\"\",\"x\":0,\"xref\":\"x\",\"y\":\"Elec_PowerDishwasher\",\"yref\":\"y\"},{\"showarrow\":false,\"text\":\"\",\"x\":1,\"xref\":\"x\",\"y\":\"Elec_PowerDishwasher\",\"yref\":\"y\"},{\"showarrow\":false,\"text\":\"\",\"x\":2,\"xref\":\"x\",\"y\":\"Elec_PowerDishwasher\",\"yref\":\"y\"},{\"showarrow\":false,\"text\":\"\",\"x\":3,\"xref\":\"x\",\"y\":\"Elec_PowerDishwasher\",\"yref\":\"y\"},{\"showarrow\":false,\"text\":\"\",\"x\":4,\"xref\":\"x\",\"y\":\"Elec_PowerDishwasher\",\"yref\":\"y\"},{\"showarrow\":false,\"text\":\"0.01\",\"x\":5,\"xref\":\"x\",\"y\":\"Elec_PowerDishwasher\",\"yref\":\"y\"},{\"showarrow\":false,\"text\":\"0.01\",\"x\":6,\"xref\":\"x\",\"y\":\"Elec_PowerDishwasher\",\"yref\":\"y\"},{\"showarrow\":false,\"text\":\"\",\"x\":7,\"xref\":\"x\",\"y\":\"Elec_PowerDishwasher\",\"yref\":\"y\"},{\"showarrow\":false,\"text\":\"\",\"x\":8,\"xref\":\"x\",\"y\":\"Elec_PowerDishwasher\",\"yref\":\"y\"},{\"showarrow\":false,\"text\":\"\",\"x\":9,\"xref\":\"x\",\"y\":\"Elec_PowerDishwasher\",\"yref\":\"y\"},{\"showarrow\":false,\"text\":\"\",\"x\":10,\"xref\":\"x\",\"y\":\"Elec_PowerDishwasher\",\"yref\":\"y\"},{\"showarrow\":false,\"text\":\"\",\"x\":11,\"xref\":\"x\",\"y\":\"Elec_PowerDishwasher\",\"yref\":\"y\"},{\"showarrow\":false,\"text\":\"\",\"x\":12,\"xref\":\"x\",\"y\":\"Elec_PowerDishwasher\",\"yref\":\"y\"},{\"showarrow\":false,\"text\":\"\",\"x\":13,\"xref\":\"x\",\"y\":\"Elec_PowerDishwasher\",\"yref\":\"y\"},{\"showarrow\":false,\"text\":\"\",\"x\":14,\"xref\":\"x\",\"y\":\"Elec_PowerDishwasher\",\"yref\":\"y\"},{\"showarrow\":false,\"text\":\"\",\"x\":15,\"xref\":\"x\",\"y\":\"Elec_PowerDishwasher\",\"yref\":\"y\"},{\"showarrow\":false,\"text\":\"\",\"x\":16,\"xref\":\"x\",\"y\":\"Elec_PowerDishwasher\",\"yref\":\"y\"},{\"showarrow\":false,\"text\":\"\",\"x\":17,\"xref\":\"x\",\"y\":\"Elec_PowerDishwasher\",\"yref\":\"y\"},{\"showarrow\":false,\"text\":\"\",\"x\":18,\"xref\":\"x\",\"y\":\"Elec_PowerDishwasher\",\"yref\":\"y\"},{\"showarrow\":false,\"text\":\"\",\"x\":19,\"xref\":\"x\",\"y\":\"Elec_PowerDishwasher\",\"yref\":\"y\"},{\"showarrow\":false,\"text\":\"0.8\",\"x\":20,\"xref\":\"x\",\"y\":\"Elec_PowerDishwasher\",\"yref\":\"y\"},{\"showarrow\":false,\"text\":\"1.0\",\"x\":21,\"xref\":\"x\",\"y\":\"Elec_PowerDishwasher\",\"yref\":\"y\"},{\"showarrow\":false,\"text\":\"0.88\",\"x\":22,\"xref\":\"x\",\"y\":\"Elec_PowerDishwasher\",\"yref\":\"y\"},{\"showarrow\":false,\"text\":\"0.01\",\"x\":23,\"xref\":\"x\",\"y\":\"Elec_PowerDishwasher\",\"yref\":\"y\"},{\"showarrow\":false,\"text\":\"0.14\",\"x\":0,\"xref\":\"x\",\"y\":\"Elec_PowerPlugsGSHPInstrumentation\",\"yref\":\"y\"},{\"showarrow\":false,\"text\":\"0.11\",\"x\":1,\"xref\":\"x\",\"y\":\"Elec_PowerPlugsGSHPInstrumentation\",\"yref\":\"y\"},{\"showarrow\":false,\"text\":\"0.07\",\"x\":2,\"xref\":\"x\",\"y\":\"Elec_PowerPlugsGSHPInstrumentation\",\"yref\":\"y\"},{\"showarrow\":false,\"text\":\"0.04\",\"x\":3,\"xref\":\"x\",\"y\":\"Elec_PowerPlugsGSHPInstrumentation\",\"yref\":\"y\"},{\"showarrow\":false,\"text\":\"\",\"x\":4,\"xref\":\"x\",\"y\":\"Elec_PowerPlugsGSHPInstrumentation\",\"yref\":\"y\"},{\"showarrow\":false,\"text\":\"\",\"x\":5,\"xref\":\"x\",\"y\":\"Elec_PowerPlugsGSHPInstrumentation\",\"yref\":\"y\"},{\"showarrow\":false,\"text\":\"0.04\",\"x\":6,\"xref\":\"x\",\"y\":\"Elec_PowerPlugsGSHPInstrumentation\",\"yref\":\"y\"},{\"showarrow\":false,\"text\":\"0.09\",\"x\":7,\"xref\":\"x\",\"y\":\"Elec_PowerPlugsGSHPInstrumentation\",\"yref\":\"y\"},{\"showarrow\":false,\"text\":\"0.22\",\"x\":8,\"xref\":\"x\",\"y\":\"Elec_PowerPlugsGSHPInstrumentation\",\"yref\":\"y\"},{\"showarrow\":false,\"text\":\"0.65\",\"x\":9,\"xref\":\"x\",\"y\":\"Elec_PowerPlugsGSHPInstrumentation\",\"yref\":\"y\"},{\"showarrow\":false,\"text\":\"0.84\",\"x\":10,\"xref\":\"x\",\"y\":\"Elec_PowerPlugsGSHPInstrumentation\",\"yref\":\"y\"},{\"showarrow\":false,\"text\":\"0.84\",\"x\":11,\"xref\":\"x\",\"y\":\"Elec_PowerPlugsGSHPInstrumentation\",\"yref\":\"y\"},{\"showarrow\":false,\"text\":\"0.92\",\"x\":12,\"xref\":\"x\",\"y\":\"Elec_PowerPlugsGSHPInstrumentation\",\"yref\":\"y\"},{\"showarrow\":false,\"text\":\"0.96\",\"x\":13,\"xref\":\"x\",\"y\":\"Elec_PowerPlugsGSHPInstrumentation\",\"yref\":\"y\"},{\"showarrow\":false,\"text\":\"0.98\",\"x\":14,\"xref\":\"x\",\"y\":\"Elec_PowerPlugsGSHPInstrumentation\",\"yref\":\"y\"},{\"showarrow\":false,\"text\":\"1.0\",\"x\":15,\"xref\":\"x\",\"y\":\"Elec_PowerPlugsGSHPInstrumentation\",\"yref\":\"y\"},{\"showarrow\":false,\"text\":\"0.8\",\"x\":16,\"xref\":\"x\",\"y\":\"Elec_PowerPlugsGSHPInstrumentation\",\"yref\":\"y\"},{\"showarrow\":false,\"text\":\"0.13\",\"x\":17,\"xref\":\"x\",\"y\":\"Elec_PowerPlugsGSHPInstrumentation\",\"yref\":\"y\"},{\"showarrow\":false,\"text\":\"0.18\",\"x\":18,\"xref\":\"x\",\"y\":\"Elec_PowerPlugsGSHPInstrumentation\",\"yref\":\"y\"},{\"showarrow\":false,\"text\":\"0.16\",\"x\":19,\"xref\":\"x\",\"y\":\"Elec_PowerPlugsGSHPInstrumentation\",\"yref\":\"y\"},{\"showarrow\":false,\"text\":\"0.15\",\"x\":20,\"xref\":\"x\",\"y\":\"Elec_PowerPlugsGSHPInstrumentation\",\"yref\":\"y\"},{\"showarrow\":false,\"text\":\"0.17\",\"x\":21,\"xref\":\"x\",\"y\":\"Elec_PowerPlugsGSHPInstrumentation\",\"yref\":\"y\"},{\"showarrow\":false,\"text\":\"0.21\",\"x\":22,\"xref\":\"x\",\"y\":\"Elec_PowerPlugsGSHPInstrumentation\",\"yref\":\"y\"},{\"showarrow\":false,\"text\":\"0.19\",\"x\":23,\"xref\":\"x\",\"y\":\"Elec_PowerPlugsGSHPInstrumentation\",\"yref\":\"y\"},{\"showarrow\":false,\"text\":\"1.0\",\"x\":0,\"xref\":\"x\",\"y\":\"Elec_PowerPlugsInstMudroomA\",\"yref\":\"y\"},{\"showarrow\":false,\"text\":\"0.06\",\"x\":1,\"xref\":\"x\",\"y\":\"Elec_PowerPlugsInstMudroomA\",\"yref\":\"y\"},{\"showarrow\":false,\"text\":\"0.06\",\"x\":2,\"xref\":\"x\",\"y\":\"Elec_PowerPlugsInstMudroomA\",\"yref\":\"y\"},{\"showarrow\":false,\"text\":\"0.06\",\"x\":3,\"xref\":\"x\",\"y\":\"Elec_PowerPlugsInstMudroomA\",\"yref\":\"y\"},{\"showarrow\":false,\"text\":\"0.06\",\"x\":4,\"xref\":\"x\",\"y\":\"Elec_PowerPlugsInstMudroomA\",\"yref\":\"y\"},{\"showarrow\":false,\"text\":\"0.06\",\"x\":5,\"xref\":\"x\",\"y\":\"Elec_PowerPlugsInstMudroomA\",\"yref\":\"y\"},{\"showarrow\":false,\"text\":\"\",\"x\":6,\"xref\":\"x\",\"y\":\"Elec_PowerPlugsInstMudroomA\",\"yref\":\"y\"},{\"showarrow\":false,\"text\":\"0.12\",\"x\":7,\"xref\":\"x\",\"y\":\"Elec_PowerPlugsInstMudroomA\",\"yref\":\"y\"},{\"showarrow\":false,\"text\":\"0.12\",\"x\":8,\"xref\":\"x\",\"y\":\"Elec_PowerPlugsInstMudroomA\",\"yref\":\"y\"},{\"showarrow\":false,\"text\":\"0.12\",\"x\":9,\"xref\":\"x\",\"y\":\"Elec_PowerPlugsInstMudroomA\",\"yref\":\"y\"},{\"showarrow\":false,\"text\":\"0.06\",\"x\":10,\"xref\":\"x\",\"y\":\"Elec_PowerPlugsInstMudroomA\",\"yref\":\"y\"},{\"showarrow\":false,\"text\":\"0.18\",\"x\":11,\"xref\":\"x\",\"y\":\"Elec_PowerPlugsInstMudroomA\",\"yref\":\"y\"},{\"showarrow\":false,\"text\":\"0.06\",\"x\":12,\"xref\":\"x\",\"y\":\"Elec_PowerPlugsInstMudroomA\",\"yref\":\"y\"},{\"showarrow\":false,\"text\":\"\",\"x\":13,\"xref\":\"x\",\"y\":\"Elec_PowerPlugsInstMudroomA\",\"yref\":\"y\"},{\"showarrow\":false,\"text\":\"0.12\",\"x\":14,\"xref\":\"x\",\"y\":\"Elec_PowerPlugsInstMudroomA\",\"yref\":\"y\"},{\"showarrow\":false,\"text\":\"0.12\",\"x\":15,\"xref\":\"x\",\"y\":\"Elec_PowerPlugsInstMudroomA\",\"yref\":\"y\"},{\"showarrow\":false,\"text\":\"0.12\",\"x\":16,\"xref\":\"x\",\"y\":\"Elec_PowerPlugsInstMudroomA\",\"yref\":\"y\"},{\"showarrow\":false,\"text\":\"0.06\",\"x\":17,\"xref\":\"x\",\"y\":\"Elec_PowerPlugsInstMudroomA\",\"yref\":\"y\"},{\"showarrow\":false,\"text\":\"0.06\",\"x\":18,\"xref\":\"x\",\"y\":\"Elec_PowerPlugsInstMudroomA\",\"yref\":\"y\"},{\"showarrow\":false,\"text\":\"0.29\",\"x\":19,\"xref\":\"x\",\"y\":\"Elec_PowerPlugsInstMudroomA\",\"yref\":\"y\"},{\"showarrow\":false,\"text\":\"0.24\",\"x\":20,\"xref\":\"x\",\"y\":\"Elec_PowerPlugsInstMudroomA\",\"yref\":\"y\"},{\"showarrow\":false,\"text\":\"0.12\",\"x\":21,\"xref\":\"x\",\"y\":\"Elec_PowerPlugsInstMudroomA\",\"yref\":\"y\"},{\"showarrow\":false,\"text\":\"0.12\",\"x\":22,\"xref\":\"x\",\"y\":\"Elec_PowerPlugsInstMudroomA\",\"yref\":\"y\"},{\"showarrow\":false,\"text\":\"0.12\",\"x\":23,\"xref\":\"x\",\"y\":\"Elec_PowerPlugsInstMudroomA\",\"yref\":\"y\"},{\"showarrow\":false,\"text\":\"1.0\",\"x\":0,\"xref\":\"x\",\"y\":\"Elec_PowerPlugsHVACInstrumentation\",\"yref\":\"y\"},{\"showarrow\":false,\"text\":\"0.25\",\"x\":1,\"xref\":\"x\",\"y\":\"Elec_PowerPlugsHVACInstrumentation\",\"yref\":\"y\"},{\"showarrow\":false,\"text\":\"0.1\",\"x\":2,\"xref\":\"x\",\"y\":\"Elec_PowerPlugsHVACInstrumentation\",\"yref\":\"y\"},{\"showarrow\":false,\"text\":\"0.1\",\"x\":3,\"xref\":\"x\",\"y\":\"Elec_PowerPlugsHVACInstrumentation\",\"yref\":\"y\"},{\"showarrow\":false,\"text\":\"0.1\",\"x\":4,\"xref\":\"x\",\"y\":\"Elec_PowerPlugsHVACInstrumentation\",\"yref\":\"y\"},{\"showarrow\":false,\"text\":\"0.1\",\"x\":5,\"xref\":\"x\",\"y\":\"Elec_PowerPlugsHVACInstrumentation\",\"yref\":\"y\"},{\"showarrow\":false,\"text\":\"0.05\",\"x\":6,\"xref\":\"x\",\"y\":\"Elec_PowerPlugsHVACInstrumentation\",\"yref\":\"y\"},{\"showarrow\":false,\"text\":\"0.2\",\"x\":7,\"xref\":\"x\",\"y\":\"Elec_PowerPlugsHVACInstrumentation\",\"yref\":\"y\"},{\"showarrow\":false,\"text\":\"0.25\",\"x\":8,\"xref\":\"x\",\"y\":\"Elec_PowerPlugsHVACInstrumentation\",\"yref\":\"y\"},{\"showarrow\":false,\"text\":\"\",\"x\":9,\"xref\":\"x\",\"y\":\"Elec_PowerPlugsHVACInstrumentation\",\"yref\":\"y\"},{\"showarrow\":false,\"text\":\"0.1\",\"x\":10,\"xref\":\"x\",\"y\":\"Elec_PowerPlugsHVACInstrumentation\",\"yref\":\"y\"},{\"showarrow\":false,\"text\":\"0.15\",\"x\":11,\"xref\":\"x\",\"y\":\"Elec_PowerPlugsHVACInstrumentation\",\"yref\":\"y\"},{\"showarrow\":false,\"text\":\"0.15\",\"x\":12,\"xref\":\"x\",\"y\":\"Elec_PowerPlugsHVACInstrumentation\",\"yref\":\"y\"},{\"showarrow\":false,\"text\":\"0.1\",\"x\":13,\"xref\":\"x\",\"y\":\"Elec_PowerPlugsHVACInstrumentation\",\"yref\":\"y\"},{\"showarrow\":false,\"text\":\"0.15\",\"x\":14,\"xref\":\"x\",\"y\":\"Elec_PowerPlugsHVACInstrumentation\",\"yref\":\"y\"},{\"showarrow\":false,\"text\":\"0.1\",\"x\":15,\"xref\":\"x\",\"y\":\"Elec_PowerPlugsHVACInstrumentation\",\"yref\":\"y\"},{\"showarrow\":false,\"text\":\"0.15\",\"x\":16,\"xref\":\"x\",\"y\":\"Elec_PowerPlugsHVACInstrumentation\",\"yref\":\"y\"},{\"showarrow\":false,\"text\":\"0.05\",\"x\":17,\"xref\":\"x\",\"y\":\"Elec_PowerPlugsHVACInstrumentation\",\"yref\":\"y\"},{\"showarrow\":false,\"text\":\"0.05\",\"x\":18,\"xref\":\"x\",\"y\":\"Elec_PowerPlugsHVACInstrumentation\",\"yref\":\"y\"},{\"showarrow\":false,\"text\":\"0.25\",\"x\":19,\"xref\":\"x\",\"y\":\"Elec_PowerPlugsHVACInstrumentation\",\"yref\":\"y\"},{\"showarrow\":false,\"text\":\"0.2\",\"x\":20,\"xref\":\"x\",\"y\":\"Elec_PowerPlugsHVACInstrumentation\",\"yref\":\"y\"},{\"showarrow\":false,\"text\":\"0.1\",\"x\":21,\"xref\":\"x\",\"y\":\"Elec_PowerPlugsHVACInstrumentation\",\"yref\":\"y\"},{\"showarrow\":false,\"text\":\"0.1\",\"x\":22,\"xref\":\"x\",\"y\":\"Elec_PowerPlugsHVACInstrumentation\",\"yref\":\"y\"},{\"showarrow\":false,\"text\":\"0.1\",\"x\":23,\"xref\":\"x\",\"y\":\"Elec_PowerPlugsHVACInstrumentation\",\"yref\":\"y\"},{\"showarrow\":false,\"text\":\"nan\",\"x\":0,\"xref\":\"x\",\"y\":\"Elec_PowerPlugsInstBA1\",\"yref\":\"y\"},{\"showarrow\":false,\"text\":\"nan\",\"x\":1,\"xref\":\"x\",\"y\":\"Elec_PowerPlugsInstBA1\",\"yref\":\"y\"},{\"showarrow\":false,\"text\":\"nan\",\"x\":2,\"xref\":\"x\",\"y\":\"Elec_PowerPlugsInstBA1\",\"yref\":\"y\"},{\"showarrow\":false,\"text\":\"nan\",\"x\":3,\"xref\":\"x\",\"y\":\"Elec_PowerPlugsInstBA1\",\"yref\":\"y\"},{\"showarrow\":false,\"text\":\"nan\",\"x\":4,\"xref\":\"x\",\"y\":\"Elec_PowerPlugsInstBA1\",\"yref\":\"y\"},{\"showarrow\":false,\"text\":\"nan\",\"x\":5,\"xref\":\"x\",\"y\":\"Elec_PowerPlugsInstBA1\",\"yref\":\"y\"},{\"showarrow\":false,\"text\":\"nan\",\"x\":6,\"xref\":\"x\",\"y\":\"Elec_PowerPlugsInstBA1\",\"yref\":\"y\"},{\"showarrow\":false,\"text\":\"nan\",\"x\":7,\"xref\":\"x\",\"y\":\"Elec_PowerPlugsInstBA1\",\"yref\":\"y\"},{\"showarrow\":false,\"text\":\"nan\",\"x\":8,\"xref\":\"x\",\"y\":\"Elec_PowerPlugsInstBA1\",\"yref\":\"y\"},{\"showarrow\":false,\"text\":\"nan\",\"x\":9,\"xref\":\"x\",\"y\":\"Elec_PowerPlugsInstBA1\",\"yref\":\"y\"},{\"showarrow\":false,\"text\":\"nan\",\"x\":10,\"xref\":\"x\",\"y\":\"Elec_PowerPlugsInstBA1\",\"yref\":\"y\"},{\"showarrow\":false,\"text\":\"nan\",\"x\":11,\"xref\":\"x\",\"y\":\"Elec_PowerPlugsInstBA1\",\"yref\":\"y\"},{\"showarrow\":false,\"text\":\"nan\",\"x\":12,\"xref\":\"x\",\"y\":\"Elec_PowerPlugsInstBA1\",\"yref\":\"y\"},{\"showarrow\":false,\"text\":\"nan\",\"x\":13,\"xref\":\"x\",\"y\":\"Elec_PowerPlugsInstBA1\",\"yref\":\"y\"},{\"showarrow\":false,\"text\":\"nan\",\"x\":14,\"xref\":\"x\",\"y\":\"Elec_PowerPlugsInstBA1\",\"yref\":\"y\"},{\"showarrow\":false,\"text\":\"nan\",\"x\":15,\"xref\":\"x\",\"y\":\"Elec_PowerPlugsInstBA1\",\"yref\":\"y\"},{\"showarrow\":false,\"text\":\"nan\",\"x\":16,\"xref\":\"x\",\"y\":\"Elec_PowerPlugsInstBA1\",\"yref\":\"y\"},{\"showarrow\":false,\"text\":\"nan\",\"x\":17,\"xref\":\"x\",\"y\":\"Elec_PowerPlugsInstBA1\",\"yref\":\"y\"},{\"showarrow\":false,\"text\":\"nan\",\"x\":18,\"xref\":\"x\",\"y\":\"Elec_PowerPlugsInstBA1\",\"yref\":\"y\"},{\"showarrow\":false,\"text\":\"nan\",\"x\":19,\"xref\":\"x\",\"y\":\"Elec_PowerPlugsInstBA1\",\"yref\":\"y\"},{\"showarrow\":false,\"text\":\"nan\",\"x\":20,\"xref\":\"x\",\"y\":\"Elec_PowerPlugsInstBA1\",\"yref\":\"y\"},{\"showarrow\":false,\"text\":\"nan\",\"x\":21,\"xref\":\"x\",\"y\":\"Elec_PowerPlugsInstBA1\",\"yref\":\"y\"},{\"showarrow\":false,\"text\":\"nan\",\"x\":22,\"xref\":\"x\",\"y\":\"Elec_PowerPlugsInstBA1\",\"yref\":\"y\"},{\"showarrow\":false,\"text\":\"nan\",\"x\":23,\"xref\":\"x\",\"y\":\"Elec_PowerPlugsInstBA1\",\"yref\":\"y\"},{\"showarrow\":false,\"text\":\"0.2\",\"x\":0,\"xref\":\"x\",\"y\":\"Elec_PowerLightsAttic\",\"yref\":\"y\"},{\"showarrow\":false,\"text\":\"\",\"x\":1,\"xref\":\"x\",\"y\":\"Elec_PowerLightsAttic\",\"yref\":\"y\"},{\"showarrow\":false,\"text\":\"\",\"x\":2,\"xref\":\"x\",\"y\":\"Elec_PowerLightsAttic\",\"yref\":\"y\"},{\"showarrow\":false,\"text\":\"\",\"x\":3,\"xref\":\"x\",\"y\":\"Elec_PowerLightsAttic\",\"yref\":\"y\"},{\"showarrow\":false,\"text\":\"\",\"x\":4,\"xref\":\"x\",\"y\":\"Elec_PowerLightsAttic\",\"yref\":\"y\"},{\"showarrow\":false,\"text\":\"\",\"x\":5,\"xref\":\"x\",\"y\":\"Elec_PowerLightsAttic\",\"yref\":\"y\"},{\"showarrow\":false,\"text\":\"\",\"x\":6,\"xref\":\"x\",\"y\":\"Elec_PowerLightsAttic\",\"yref\":\"y\"},{\"showarrow\":false,\"text\":\"\",\"x\":7,\"xref\":\"x\",\"y\":\"Elec_PowerLightsAttic\",\"yref\":\"y\"},{\"showarrow\":false,\"text\":\"0.2\",\"x\":8,\"xref\":\"x\",\"y\":\"Elec_PowerLightsAttic\",\"yref\":\"y\"},{\"showarrow\":false,\"text\":\"0.4\",\"x\":9,\"xref\":\"x\",\"y\":\"Elec_PowerLightsAttic\",\"yref\":\"y\"},{\"showarrow\":false,\"text\":\"0.2\",\"x\":10,\"xref\":\"x\",\"y\":\"Elec_PowerLightsAttic\",\"yref\":\"y\"},{\"showarrow\":false,\"text\":\"0.2\",\"x\":11,\"xref\":\"x\",\"y\":\"Elec_PowerLightsAttic\",\"yref\":\"y\"},{\"showarrow\":false,\"text\":\"0.2\",\"x\":12,\"xref\":\"x\",\"y\":\"Elec_PowerLightsAttic\",\"yref\":\"y\"},{\"showarrow\":false,\"text\":\"1.0\",\"x\":13,\"xref\":\"x\",\"y\":\"Elec_PowerLightsAttic\",\"yref\":\"y\"},{\"showarrow\":false,\"text\":\"0.4\",\"x\":14,\"xref\":\"x\",\"y\":\"Elec_PowerLightsAttic\",\"yref\":\"y\"},{\"showarrow\":false,\"text\":\"0.4\",\"x\":15,\"xref\":\"x\",\"y\":\"Elec_PowerLightsAttic\",\"yref\":\"y\"},{\"showarrow\":false,\"text\":\"0.2\",\"x\":16,\"xref\":\"x\",\"y\":\"Elec_PowerLightsAttic\",\"yref\":\"y\"},{\"showarrow\":false,\"text\":\"0.2\",\"x\":17,\"xref\":\"x\",\"y\":\"Elec_PowerLightsAttic\",\"yref\":\"y\"},{\"showarrow\":false,\"text\":\"0.6\",\"x\":18,\"xref\":\"x\",\"y\":\"Elec_PowerLightsAttic\",\"yref\":\"y\"},{\"showarrow\":false,\"text\":\"\",\"x\":19,\"xref\":\"x\",\"y\":\"Elec_PowerLightsAttic\",\"yref\":\"y\"},{\"showarrow\":false,\"text\":\"0.4\",\"x\":20,\"xref\":\"x\",\"y\":\"Elec_PowerLightsAttic\",\"yref\":\"y\"},{\"showarrow\":false,\"text\":\"0.4\",\"x\":21,\"xref\":\"x\",\"y\":\"Elec_PowerLightsAttic\",\"yref\":\"y\"},{\"showarrow\":false,\"text\":\"0.8\",\"x\":22,\"xref\":\"x\",\"y\":\"Elec_PowerLightsAttic\",\"yref\":\"y\"},{\"showarrow\":false,\"text\":\"1.0\",\"x\":23,\"xref\":\"x\",\"y\":\"Elec_PowerLightsAttic\",\"yref\":\"y\"},{\"showarrow\":false,\"text\":\"1.0\",\"x\":0,\"xref\":\"x\",\"y\":\"Elec_PowerPlugsInstKitA\",\"yref\":\"y\"},{\"showarrow\":false,\"text\":\"0.06\",\"x\":1,\"xref\":\"x\",\"y\":\"Elec_PowerPlugsInstKitA\",\"yref\":\"y\"},{\"showarrow\":false,\"text\":\"0.06\",\"x\":2,\"xref\":\"x\",\"y\":\"Elec_PowerPlugsInstKitA\",\"yref\":\"y\"},{\"showarrow\":false,\"text\":\"0.06\",\"x\":3,\"xref\":\"x\",\"y\":\"Elec_PowerPlugsInstKitA\",\"yref\":\"y\"},{\"showarrow\":false,\"text\":\"0.06\",\"x\":4,\"xref\":\"x\",\"y\":\"Elec_PowerPlugsInstKitA\",\"yref\":\"y\"},{\"showarrow\":false,\"text\":\"0.06\",\"x\":5,\"xref\":\"x\",\"y\":\"Elec_PowerPlugsInstKitA\",\"yref\":\"y\"},{\"showarrow\":false,\"text\":\"\",\"x\":6,\"xref\":\"x\",\"y\":\"Elec_PowerPlugsInstKitA\",\"yref\":\"y\"},{\"showarrow\":false,\"text\":\"0.12\",\"x\":7,\"xref\":\"x\",\"y\":\"Elec_PowerPlugsInstKitA\",\"yref\":\"y\"},{\"showarrow\":false,\"text\":\"0.06\",\"x\":8,\"xref\":\"x\",\"y\":\"Elec_PowerPlugsInstKitA\",\"yref\":\"y\"},{\"showarrow\":false,\"text\":\"0.06\",\"x\":9,\"xref\":\"x\",\"y\":\"Elec_PowerPlugsInstKitA\",\"yref\":\"y\"},{\"showarrow\":false,\"text\":\"0.12\",\"x\":10,\"xref\":\"x\",\"y\":\"Elec_PowerPlugsInstKitA\",\"yref\":\"y\"},{\"showarrow\":false,\"text\":\"0.12\",\"x\":11,\"xref\":\"x\",\"y\":\"Elec_PowerPlugsInstKitA\",\"yref\":\"y\"},{\"showarrow\":false,\"text\":\"\",\"x\":12,\"xref\":\"x\",\"y\":\"Elec_PowerPlugsInstKitA\",\"yref\":\"y\"},{\"showarrow\":false,\"text\":\"\",\"x\":13,\"xref\":\"x\",\"y\":\"Elec_PowerPlugsInstKitA\",\"yref\":\"y\"},{\"showarrow\":false,\"text\":\"0.06\",\"x\":14,\"xref\":\"x\",\"y\":\"Elec_PowerPlugsInstKitA\",\"yref\":\"y\"},{\"showarrow\":false,\"text\":\"0.18\",\"x\":15,\"xref\":\"x\",\"y\":\"Elec_PowerPlugsInstKitA\",\"yref\":\"y\"},{\"showarrow\":false,\"text\":\"0.06\",\"x\":16,\"xref\":\"x\",\"y\":\"Elec_PowerPlugsInstKitA\",\"yref\":\"y\"},{\"showarrow\":false,\"text\":\"0.06\",\"x\":17,\"xref\":\"x\",\"y\":\"Elec_PowerPlugsInstKitA\",\"yref\":\"y\"},{\"showarrow\":false,\"text\":\"0.06\",\"x\":18,\"xref\":\"x\",\"y\":\"Elec_PowerPlugsInstKitA\",\"yref\":\"y\"},{\"showarrow\":false,\"text\":\"0.29\",\"x\":19,\"xref\":\"x\",\"y\":\"Elec_PowerPlugsInstKitA\",\"yref\":\"y\"},{\"showarrow\":false,\"text\":\"0.24\",\"x\":20,\"xref\":\"x\",\"y\":\"Elec_PowerPlugsInstKitA\",\"yref\":\"y\"},{\"showarrow\":false,\"text\":\"0.12\",\"x\":21,\"xref\":\"x\",\"y\":\"Elec_PowerPlugsInstKitA\",\"yref\":\"y\"},{\"showarrow\":false,\"text\":\"0.12\",\"x\":22,\"xref\":\"x\",\"y\":\"Elec_PowerPlugsInstKitA\",\"yref\":\"y\"},{\"showarrow\":false,\"text\":\"0.12\",\"x\":23,\"xref\":\"x\",\"y\":\"Elec_PowerPlugsInstKitA\",\"yref\":\"y\"},{\"showarrow\":false,\"text\":\"nan\",\"x\":0,\"xref\":\"x\",\"y\":\"Elec_PowerPlugsInstMudroomB\",\"yref\":\"y\"},{\"showarrow\":false,\"text\":\"nan\",\"x\":1,\"xref\":\"x\",\"y\":\"Elec_PowerPlugsInstMudroomB\",\"yref\":\"y\"},{\"showarrow\":false,\"text\":\"nan\",\"x\":2,\"xref\":\"x\",\"y\":\"Elec_PowerPlugsInstMudroomB\",\"yref\":\"y\"},{\"showarrow\":false,\"text\":\"nan\",\"x\":3,\"xref\":\"x\",\"y\":\"Elec_PowerPlugsInstMudroomB\",\"yref\":\"y\"},{\"showarrow\":false,\"text\":\"nan\",\"x\":4,\"xref\":\"x\",\"y\":\"Elec_PowerPlugsInstMudroomB\",\"yref\":\"y\"},{\"showarrow\":false,\"text\":\"nan\",\"x\":5,\"xref\":\"x\",\"y\":\"Elec_PowerPlugsInstMudroomB\",\"yref\":\"y\"},{\"showarrow\":false,\"text\":\"nan\",\"x\":6,\"xref\":\"x\",\"y\":\"Elec_PowerPlugsInstMudroomB\",\"yref\":\"y\"},{\"showarrow\":false,\"text\":\"nan\",\"x\":7,\"xref\":\"x\",\"y\":\"Elec_PowerPlugsInstMudroomB\",\"yref\":\"y\"},{\"showarrow\":false,\"text\":\"nan\",\"x\":8,\"xref\":\"x\",\"y\":\"Elec_PowerPlugsInstMudroomB\",\"yref\":\"y\"},{\"showarrow\":false,\"text\":\"nan\",\"x\":9,\"xref\":\"x\",\"y\":\"Elec_PowerPlugsInstMudroomB\",\"yref\":\"y\"},{\"showarrow\":false,\"text\":\"nan\",\"x\":10,\"xref\":\"x\",\"y\":\"Elec_PowerPlugsInstMudroomB\",\"yref\":\"y\"},{\"showarrow\":false,\"text\":\"nan\",\"x\":11,\"xref\":\"x\",\"y\":\"Elec_PowerPlugsInstMudroomB\",\"yref\":\"y\"},{\"showarrow\":false,\"text\":\"nan\",\"x\":12,\"xref\":\"x\",\"y\":\"Elec_PowerPlugsInstMudroomB\",\"yref\":\"y\"},{\"showarrow\":false,\"text\":\"nan\",\"x\":13,\"xref\":\"x\",\"y\":\"Elec_PowerPlugsInstMudroomB\",\"yref\":\"y\"},{\"showarrow\":false,\"text\":\"nan\",\"x\":14,\"xref\":\"x\",\"y\":\"Elec_PowerPlugsInstMudroomB\",\"yref\":\"y\"},{\"showarrow\":false,\"text\":\"nan\",\"x\":15,\"xref\":\"x\",\"y\":\"Elec_PowerPlugsInstMudroomB\",\"yref\":\"y\"},{\"showarrow\":false,\"text\":\"nan\",\"x\":16,\"xref\":\"x\",\"y\":\"Elec_PowerPlugsInstMudroomB\",\"yref\":\"y\"},{\"showarrow\":false,\"text\":\"nan\",\"x\":17,\"xref\":\"x\",\"y\":\"Elec_PowerPlugsInstMudroomB\",\"yref\":\"y\"},{\"showarrow\":false,\"text\":\"nan\",\"x\":18,\"xref\":\"x\",\"y\":\"Elec_PowerPlugsInstMudroomB\",\"yref\":\"y\"},{\"showarrow\":false,\"text\":\"nan\",\"x\":19,\"xref\":\"x\",\"y\":\"Elec_PowerPlugsInstMudroomB\",\"yref\":\"y\"},{\"showarrow\":false,\"text\":\"nan\",\"x\":20,\"xref\":\"x\",\"y\":\"Elec_PowerPlugsInstMudroomB\",\"yref\":\"y\"},{\"showarrow\":false,\"text\":\"nan\",\"x\":21,\"xref\":\"x\",\"y\":\"Elec_PowerPlugsInstMudroomB\",\"yref\":\"y\"},{\"showarrow\":false,\"text\":\"nan\",\"x\":22,\"xref\":\"x\",\"y\":\"Elec_PowerPlugsInstMudroomB\",\"yref\":\"y\"},{\"showarrow\":false,\"text\":\"nan\",\"x\":23,\"xref\":\"x\",\"y\":\"Elec_PowerPlugsInstMudroomB\",\"yref\":\"y\"},{\"showarrow\":false,\"text\":\"\",\"x\":0,\"xref\":\"x\",\"y\":\"Elec_PowerParentADownstairs\",\"yref\":\"y\"},{\"showarrow\":false,\"text\":\"\",\"x\":1,\"xref\":\"x\",\"y\":\"Elec_PowerParentADownstairs\",\"yref\":\"y\"},{\"showarrow\":false,\"text\":\"\",\"x\":2,\"xref\":\"x\",\"y\":\"Elec_PowerParentADownstairs\",\"yref\":\"y\"},{\"showarrow\":false,\"text\":\"\",\"x\":3,\"xref\":\"x\",\"y\":\"Elec_PowerParentADownstairs\",\"yref\":\"y\"},{\"showarrow\":false,\"text\":\"\",\"x\":4,\"xref\":\"x\",\"y\":\"Elec_PowerParentADownstairs\",\"yref\":\"y\"},{\"showarrow\":false,\"text\":\"\",\"x\":5,\"xref\":\"x\",\"y\":\"Elec_PowerParentADownstairs\",\"yref\":\"y\"},{\"showarrow\":false,\"text\":\"0.71\",\"x\":6,\"xref\":\"x\",\"y\":\"Elec_PowerParentADownstairs\",\"yref\":\"y\"},{\"showarrow\":false,\"text\":\"0.71\",\"x\":7,\"xref\":\"x\",\"y\":\"Elec_PowerParentADownstairs\",\"yref\":\"y\"},{\"showarrow\":false,\"text\":\"0.99\",\"x\":8,\"xref\":\"x\",\"y\":\"Elec_PowerParentADownstairs\",\"yref\":\"y\"},{\"showarrow\":false,\"text\":\"0.28\",\"x\":9,\"xref\":\"x\",\"y\":\"Elec_PowerParentADownstairs\",\"yref\":\"y\"},{\"showarrow\":false,\"text\":\"0.02\",\"x\":10,\"xref\":\"x\",\"y\":\"Elec_PowerParentADownstairs\",\"yref\":\"y\"},{\"showarrow\":false,\"text\":\"\",\"x\":11,\"xref\":\"x\",\"y\":\"Elec_PowerParentADownstairs\",\"yref\":\"y\"},{\"showarrow\":false,\"text\":\"0.28\",\"x\":12,\"xref\":\"x\",\"y\":\"Elec_PowerParentADownstairs\",\"yref\":\"y\"},{\"showarrow\":false,\"text\":\"0.28\",\"x\":13,\"xref\":\"x\",\"y\":\"Elec_PowerParentADownstairs\",\"yref\":\"y\"},{\"showarrow\":false,\"text\":\"0.28\",\"x\":14,\"xref\":\"x\",\"y\":\"Elec_PowerParentADownstairs\",\"yref\":\"y\"},{\"showarrow\":false,\"text\":\"0.28\",\"x\":15,\"xref\":\"x\",\"y\":\"Elec_PowerParentADownstairs\",\"yref\":\"y\"},{\"showarrow\":false,\"text\":\"0.28\",\"x\":16,\"xref\":\"x\",\"y\":\"Elec_PowerParentADownstairs\",\"yref\":\"y\"},{\"showarrow\":false,\"text\":\"0.28\",\"x\":17,\"xref\":\"x\",\"y\":\"Elec_PowerParentADownstairs\",\"yref\":\"y\"},{\"showarrow\":false,\"text\":\"0.86\",\"x\":18,\"xref\":\"x\",\"y\":\"Elec_PowerParentADownstairs\",\"yref\":\"y\"},{\"showarrow\":false,\"text\":\"0.86\",\"x\":19,\"xref\":\"x\",\"y\":\"Elec_PowerParentADownstairs\",\"yref\":\"y\"},{\"showarrow\":false,\"text\":\"1.0\",\"x\":20,\"xref\":\"x\",\"y\":\"Elec_PowerParentADownstairs\",\"yref\":\"y\"},{\"showarrow\":false,\"text\":\"1.0\",\"x\":21,\"xref\":\"x\",\"y\":\"Elec_PowerParentADownstairs\",\"yref\":\"y\"},{\"showarrow\":false,\"text\":\"1.0\",\"x\":22,\"xref\":\"x\",\"y\":\"Elec_PowerParentADownstairs\",\"yref\":\"y\"},{\"showarrow\":false,\"text\":\"0.29\",\"x\":23,\"xref\":\"x\",\"y\":\"Elec_PowerParentADownstairs\",\"yref\":\"y\"},{\"showarrow\":false,\"text\":\"1.0\",\"x\":0,\"xref\":\"x\",\"y\":\"Elec_PowerPlugsInstDRA\",\"yref\":\"y\"},{\"showarrow\":false,\"text\":\"0.06\",\"x\":1,\"xref\":\"x\",\"y\":\"Elec_PowerPlugsInstDRA\",\"yref\":\"y\"},{\"showarrow\":false,\"text\":\"0.06\",\"x\":2,\"xref\":\"x\",\"y\":\"Elec_PowerPlugsInstDRA\",\"yref\":\"y\"},{\"showarrow\":false,\"text\":\"0.06\",\"x\":3,\"xref\":\"x\",\"y\":\"Elec_PowerPlugsInstDRA\",\"yref\":\"y\"},{\"showarrow\":false,\"text\":\"0.06\",\"x\":4,\"xref\":\"x\",\"y\":\"Elec_PowerPlugsInstDRA\",\"yref\":\"y\"},{\"showarrow\":false,\"text\":\"0.06\",\"x\":5,\"xref\":\"x\",\"y\":\"Elec_PowerPlugsInstDRA\",\"yref\":\"y\"},{\"showarrow\":false,\"text\":\"\",\"x\":6,\"xref\":\"x\",\"y\":\"Elec_PowerPlugsInstDRA\",\"yref\":\"y\"},{\"showarrow\":false,\"text\":\"0.18\",\"x\":7,\"xref\":\"x\",\"y\":\"Elec_PowerPlugsInstDRA\",\"yref\":\"y\"},{\"showarrow\":false,\"text\":\"0.41\",\"x\":8,\"xref\":\"x\",\"y\":\"Elec_PowerPlugsInstDRA\",\"yref\":\"y\"},{\"showarrow\":false,\"text\":\"0.59\",\"x\":9,\"xref\":\"x\",\"y\":\"Elec_PowerPlugsInstDRA\",\"yref\":\"y\"},{\"showarrow\":false,\"text\":\"0.53\",\"x\":10,\"xref\":\"x\",\"y\":\"Elec_PowerPlugsInstDRA\",\"yref\":\"y\"},{\"showarrow\":false,\"text\":\"0.29\",\"x\":11,\"xref\":\"x\",\"y\":\"Elec_PowerPlugsInstDRA\",\"yref\":\"y\"},{\"showarrow\":false,\"text\":\"0.18\",\"x\":12,\"xref\":\"x\",\"y\":\"Elec_PowerPlugsInstDRA\",\"yref\":\"y\"},{\"showarrow\":false,\"text\":\"0.29\",\"x\":13,\"xref\":\"x\",\"y\":\"Elec_PowerPlugsInstDRA\",\"yref\":\"y\"},{\"showarrow\":false,\"text\":\"0.35\",\"x\":14,\"xref\":\"x\",\"y\":\"Elec_PowerPlugsInstDRA\",\"yref\":\"y\"},{\"showarrow\":false,\"text\":\"0.18\",\"x\":15,\"xref\":\"x\",\"y\":\"Elec_PowerPlugsInstDRA\",\"yref\":\"y\"},{\"showarrow\":false,\"text\":\"0.12\",\"x\":16,\"xref\":\"x\",\"y\":\"Elec_PowerPlugsInstDRA\",\"yref\":\"y\"},{\"showarrow\":false,\"text\":\"\",\"x\":17,\"xref\":\"x\",\"y\":\"Elec_PowerPlugsInstDRA\",\"yref\":\"y\"},{\"showarrow\":false,\"text\":\"\",\"x\":18,\"xref\":\"x\",\"y\":\"Elec_PowerPlugsInstDRA\",\"yref\":\"y\"},{\"showarrow\":false,\"text\":\"0.24\",\"x\":19,\"xref\":\"x\",\"y\":\"Elec_PowerPlugsInstDRA\",\"yref\":\"y\"},{\"showarrow\":false,\"text\":\"0.18\",\"x\":20,\"xref\":\"x\",\"y\":\"Elec_PowerPlugsInstDRA\",\"yref\":\"y\"},{\"showarrow\":false,\"text\":\"0.06\",\"x\":21,\"xref\":\"x\",\"y\":\"Elec_PowerPlugsInstDRA\",\"yref\":\"y\"},{\"showarrow\":false,\"text\":\"0.06\",\"x\":22,\"xref\":\"x\",\"y\":\"Elec_PowerPlugsInstDRA\",\"yref\":\"y\"},{\"showarrow\":false,\"text\":\"0.06\",\"x\":23,\"xref\":\"x\",\"y\":\"Elec_PowerPlugsInstDRA\",\"yref\":\"y\"},{\"showarrow\":false,\"text\":\"\",\"x\":0,\"xref\":\"x\",\"y\":\"Elec_PowerPlugsInstBR4A\",\"yref\":\"y\"},{\"showarrow\":false,\"text\":\"\",\"x\":1,\"xref\":\"x\",\"y\":\"Elec_PowerPlugsInstBR4A\",\"yref\":\"y\"},{\"showarrow\":false,\"text\":\"\",\"x\":2,\"xref\":\"x\",\"y\":\"Elec_PowerPlugsInstBR4A\",\"yref\":\"y\"},{\"showarrow\":false,\"text\":\"\",\"x\":3,\"xref\":\"x\",\"y\":\"Elec_PowerPlugsInstBR4A\",\"yref\":\"y\"},{\"showarrow\":false,\"text\":\"\",\"x\":4,\"xref\":\"x\",\"y\":\"Elec_PowerPlugsInstBR4A\",\"yref\":\"y\"},{\"showarrow\":false,\"text\":\"\",\"x\":5,\"xref\":\"x\",\"y\":\"Elec_PowerPlugsInstBR4A\",\"yref\":\"y\"},{\"showarrow\":false,\"text\":\"\",\"x\":6,\"xref\":\"x\",\"y\":\"Elec_PowerPlugsInstBR4A\",\"yref\":\"y\"},{\"showarrow\":false,\"text\":\"\",\"x\":7,\"xref\":\"x\",\"y\":\"Elec_PowerPlugsInstBR4A\",\"yref\":\"y\"},{\"showarrow\":false,\"text\":\"\",\"x\":8,\"xref\":\"x\",\"y\":\"Elec_PowerPlugsInstBR4A\",\"yref\":\"y\"},{\"showarrow\":false,\"text\":\"0.5\",\"x\":9,\"xref\":\"x\",\"y\":\"Elec_PowerPlugsInstBR4A\",\"yref\":\"y\"},{\"showarrow\":false,\"text\":\"0.5\",\"x\":10,\"xref\":\"x\",\"y\":\"Elec_PowerPlugsInstBR4A\",\"yref\":\"y\"},{\"showarrow\":false,\"text\":\"0.5\",\"x\":11,\"xref\":\"x\",\"y\":\"Elec_PowerPlugsInstBR4A\",\"yref\":\"y\"},{\"showarrow\":false,\"text\":\"0.5\",\"x\":12,\"xref\":\"x\",\"y\":\"Elec_PowerPlugsInstBR4A\",\"yref\":\"y\"},{\"showarrow\":false,\"text\":\"\",\"x\":13,\"xref\":\"x\",\"y\":\"Elec_PowerPlugsInstBR4A\",\"yref\":\"y\"},{\"showarrow\":false,\"text\":\"0.5\",\"x\":14,\"xref\":\"x\",\"y\":\"Elec_PowerPlugsInstBR4A\",\"yref\":\"y\"},{\"showarrow\":false,\"text\":\"1.0\",\"x\":15,\"xref\":\"x\",\"y\":\"Elec_PowerPlugsInstBR4A\",\"yref\":\"y\"},{\"showarrow\":false,\"text\":\"0.5\",\"x\":16,\"xref\":\"x\",\"y\":\"Elec_PowerPlugsInstBR4A\",\"yref\":\"y\"},{\"showarrow\":false,\"text\":\"\",\"x\":17,\"xref\":\"x\",\"y\":\"Elec_PowerPlugsInstBR4A\",\"yref\":\"y\"},{\"showarrow\":false,\"text\":\"\",\"x\":18,\"xref\":\"x\",\"y\":\"Elec_PowerPlugsInstBR4A\",\"yref\":\"y\"},{\"showarrow\":false,\"text\":\"\",\"x\":19,\"xref\":\"x\",\"y\":\"Elec_PowerPlugsInstBR4A\",\"yref\":\"y\"},{\"showarrow\":false,\"text\":\"\",\"x\":20,\"xref\":\"x\",\"y\":\"Elec_PowerPlugsInstBR4A\",\"yref\":\"y\"},{\"showarrow\":false,\"text\":\"\",\"x\":21,\"xref\":\"x\",\"y\":\"Elec_PowerPlugsInstBR4A\",\"yref\":\"y\"},{\"showarrow\":false,\"text\":\"\",\"x\":22,\"xref\":\"x\",\"y\":\"Elec_PowerPlugsInstBR4A\",\"yref\":\"y\"},{\"showarrow\":false,\"text\":\"\",\"x\":23,\"xref\":\"x\",\"y\":\"Elec_PowerPlugsInstBR4A\",\"yref\":\"y\"},{\"showarrow\":false,\"text\":\"0.01\",\"x\":0,\"xref\":\"x\",\"y\":\"Elec_PowerChildBDownstairs\",\"yref\":\"y\"},{\"showarrow\":false,\"text\":\"0.01\",\"x\":1,\"xref\":\"x\",\"y\":\"Elec_PowerChildBDownstairs\",\"yref\":\"y\"},{\"showarrow\":false,\"text\":\"\",\"x\":2,\"xref\":\"x\",\"y\":\"Elec_PowerChildBDownstairs\",\"yref\":\"y\"},{\"showarrow\":false,\"text\":\"\",\"x\":3,\"xref\":\"x\",\"y\":\"Elec_PowerChildBDownstairs\",\"yref\":\"y\"},{\"showarrow\":false,\"text\":\"0.01\",\"x\":4,\"xref\":\"x\",\"y\":\"Elec_PowerChildBDownstairs\",\"yref\":\"y\"},{\"showarrow\":false,\"text\":\"\",\"x\":5,\"xref\":\"x\",\"y\":\"Elec_PowerChildBDownstairs\",\"yref\":\"y\"},{\"showarrow\":false,\"text\":\"0.33\",\"x\":6,\"xref\":\"x\",\"y\":\"Elec_PowerChildBDownstairs\",\"yref\":\"y\"},{\"showarrow\":false,\"text\":\"0.71\",\"x\":7,\"xref\":\"x\",\"y\":\"Elec_PowerChildBDownstairs\",\"yref\":\"y\"},{\"showarrow\":false,\"text\":\"0.11\",\"x\":8,\"xref\":\"x\",\"y\":\"Elec_PowerChildBDownstairs\",\"yref\":\"y\"},{\"showarrow\":false,\"text\":\"0.28\",\"x\":9,\"xref\":\"x\",\"y\":\"Elec_PowerChildBDownstairs\",\"yref\":\"y\"},{\"showarrow\":false,\"text\":\"0.02\",\"x\":10,\"xref\":\"x\",\"y\":\"Elec_PowerChildBDownstairs\",\"yref\":\"y\"},{\"showarrow\":false,\"text\":\"\",\"x\":11,\"xref\":\"x\",\"y\":\"Elec_PowerChildBDownstairs\",\"yref\":\"y\"},{\"showarrow\":false,\"text\":\"0.13\",\"x\":12,\"xref\":\"x\",\"y\":\"Elec_PowerChildBDownstairs\",\"yref\":\"y\"},{\"showarrow\":false,\"text\":\"0.28\",\"x\":13,\"xref\":\"x\",\"y\":\"Elec_PowerChildBDownstairs\",\"yref\":\"y\"},{\"showarrow\":false,\"text\":\"0.28\",\"x\":14,\"xref\":\"x\",\"y\":\"Elec_PowerChildBDownstairs\",\"yref\":\"y\"},{\"showarrow\":false,\"text\":\"0.28\",\"x\":15,\"xref\":\"x\",\"y\":\"Elec_PowerChildBDownstairs\",\"yref\":\"y\"},{\"showarrow\":false,\"text\":\"0.28\",\"x\":16,\"xref\":\"x\",\"y\":\"Elec_PowerChildBDownstairs\",\"yref\":\"y\"},{\"showarrow\":false,\"text\":\"0.58\",\"x\":17,\"xref\":\"x\",\"y\":\"Elec_PowerChildBDownstairs\",\"yref\":\"y\"},{\"showarrow\":false,\"text\":\"0.86\",\"x\":18,\"xref\":\"x\",\"y\":\"Elec_PowerChildBDownstairs\",\"yref\":\"y\"},{\"showarrow\":false,\"text\":\"0.86\",\"x\":19,\"xref\":\"x\",\"y\":\"Elec_PowerChildBDownstairs\",\"yref\":\"y\"},{\"showarrow\":false,\"text\":\"1.0\",\"x\":20,\"xref\":\"x\",\"y\":\"Elec_PowerChildBDownstairs\",\"yref\":\"y\"},{\"showarrow\":false,\"text\":\"0.29\",\"x\":21,\"xref\":\"x\",\"y\":\"Elec_PowerChildBDownstairs\",\"yref\":\"y\"},{\"showarrow\":false,\"text\":\"0.01\",\"x\":22,\"xref\":\"x\",\"y\":\"Elec_PowerChildBDownstairs\",\"yref\":\"y\"},{\"showarrow\":false,\"text\":\"\",\"x\":23,\"xref\":\"x\",\"y\":\"Elec_PowerChildBDownstairs\",\"yref\":\"y\"},{\"showarrow\":false,\"text\":\"1.0\",\"x\":0,\"xref\":\"x\",\"y\":\"Elec_PowerPlugsInstBR4B\",\"yref\":\"y\"},{\"showarrow\":false,\"text\":\"0.06\",\"x\":1,\"xref\":\"x\",\"y\":\"Elec_PowerPlugsInstBR4B\",\"yref\":\"y\"},{\"showarrow\":false,\"text\":\"0.06\",\"x\":2,\"xref\":\"x\",\"y\":\"Elec_PowerPlugsInstBR4B\",\"yref\":\"y\"},{\"showarrow\":false,\"text\":\"0.06\",\"x\":3,\"xref\":\"x\",\"y\":\"Elec_PowerPlugsInstBR4B\",\"yref\":\"y\"},{\"showarrow\":false,\"text\":\"0.06\",\"x\":4,\"xref\":\"x\",\"y\":\"Elec_PowerPlugsInstBR4B\",\"yref\":\"y\"},{\"showarrow\":false,\"text\":\"0.06\",\"x\":5,\"xref\":\"x\",\"y\":\"Elec_PowerPlugsInstBR4B\",\"yref\":\"y\"},{\"showarrow\":false,\"text\":\"\",\"x\":6,\"xref\":\"x\",\"y\":\"Elec_PowerPlugsInstBR4B\",\"yref\":\"y\"},{\"showarrow\":false,\"text\":\"0.12\",\"x\":7,\"xref\":\"x\",\"y\":\"Elec_PowerPlugsInstBR4B\",\"yref\":\"y\"},{\"showarrow\":false,\"text\":\"0.12\",\"x\":8,\"xref\":\"x\",\"y\":\"Elec_PowerPlugsInstBR4B\",\"yref\":\"y\"},{\"showarrow\":false,\"text\":\"0.06\",\"x\":9,\"xref\":\"x\",\"y\":\"Elec_PowerPlugsInstBR4B\",\"yref\":\"y\"},{\"showarrow\":false,\"text\":\"0.06\",\"x\":10,\"xref\":\"x\",\"y\":\"Elec_PowerPlugsInstBR4B\",\"yref\":\"y\"},{\"showarrow\":false,\"text\":\"0.12\",\"x\":11,\"xref\":\"x\",\"y\":\"Elec_PowerPlugsInstBR4B\",\"yref\":\"y\"},{\"showarrow\":false,\"text\":\"0.06\",\"x\":12,\"xref\":\"x\",\"y\":\"Elec_PowerPlugsInstBR4B\",\"yref\":\"y\"},{\"showarrow\":false,\"text\":\"\",\"x\":13,\"xref\":\"x\",\"y\":\"Elec_PowerPlugsInstBR4B\",\"yref\":\"y\"},{\"showarrow\":false,\"text\":\"0.06\",\"x\":14,\"xref\":\"x\",\"y\":\"Elec_PowerPlugsInstBR4B\",\"yref\":\"y\"},{\"showarrow\":false,\"text\":\"0.12\",\"x\":15,\"xref\":\"x\",\"y\":\"Elec_PowerPlugsInstBR4B\",\"yref\":\"y\"},{\"showarrow\":false,\"text\":\"0.06\",\"x\":16,\"xref\":\"x\",\"y\":\"Elec_PowerPlugsInstBR4B\",\"yref\":\"y\"},{\"showarrow\":false,\"text\":\"\",\"x\":17,\"xref\":\"x\",\"y\":\"Elec_PowerPlugsInstBR4B\",\"yref\":\"y\"},{\"showarrow\":false,\"text\":\"\",\"x\":18,\"xref\":\"x\",\"y\":\"Elec_PowerPlugsInstBR4B\",\"yref\":\"y\"},{\"showarrow\":false,\"text\":\"0.24\",\"x\":19,\"xref\":\"x\",\"y\":\"Elec_PowerPlugsInstBR4B\",\"yref\":\"y\"},{\"showarrow\":false,\"text\":\"0.18\",\"x\":20,\"xref\":\"x\",\"y\":\"Elec_PowerPlugsInstBR4B\",\"yref\":\"y\"},{\"showarrow\":false,\"text\":\"0.06\",\"x\":21,\"xref\":\"x\",\"y\":\"Elec_PowerPlugsInstBR4B\",\"yref\":\"y\"},{\"showarrow\":false,\"text\":\"0.06\",\"x\":22,\"xref\":\"x\",\"y\":\"Elec_PowerPlugsInstBR4B\",\"yref\":\"y\"},{\"showarrow\":false,\"text\":\"0.06\",\"x\":23,\"xref\":\"x\",\"y\":\"Elec_PowerPlugsInstBR4B\",\"yref\":\"y\"},{\"showarrow\":false,\"text\":\"1.0\",\"x\":0,\"xref\":\"x\",\"y\":\"Elec_PowerPlugsInstLRA\",\"yref\":\"y\"},{\"showarrow\":false,\"text\":\"0.06\",\"x\":1,\"xref\":\"x\",\"y\":\"Elec_PowerPlugsInstLRA\",\"yref\":\"y\"},{\"showarrow\":false,\"text\":\"0.06\",\"x\":2,\"xref\":\"x\",\"y\":\"Elec_PowerPlugsInstLRA\",\"yref\":\"y\"},{\"showarrow\":false,\"text\":\"0.06\",\"x\":3,\"xref\":\"x\",\"y\":\"Elec_PowerPlugsInstLRA\",\"yref\":\"y\"},{\"showarrow\":false,\"text\":\"0.06\",\"x\":4,\"xref\":\"x\",\"y\":\"Elec_PowerPlugsInstLRA\",\"yref\":\"y\"},{\"showarrow\":false,\"text\":\"0.06\",\"x\":5,\"xref\":\"x\",\"y\":\"Elec_PowerPlugsInstLRA\",\"yref\":\"y\"},{\"showarrow\":false,\"text\":\"\",\"x\":6,\"xref\":\"x\",\"y\":\"Elec_PowerPlugsInstLRA\",\"yref\":\"y\"},{\"showarrow\":false,\"text\":\"0.12\",\"x\":7,\"xref\":\"x\",\"y\":\"Elec_PowerPlugsInstLRA\",\"yref\":\"y\"},{\"showarrow\":false,\"text\":\"0.12\",\"x\":8,\"xref\":\"x\",\"y\":\"Elec_PowerPlugsInstLRA\",\"yref\":\"y\"},{\"showarrow\":false,\"text\":\"0.12\",\"x\":9,\"xref\":\"x\",\"y\":\"Elec_PowerPlugsInstLRA\",\"yref\":\"y\"},{\"showarrow\":false,\"text\":\"\",\"x\":10,\"xref\":\"x\",\"y\":\"Elec_PowerPlugsInstLRA\",\"yref\":\"y\"},{\"showarrow\":false,\"text\":\"0.18\",\"x\":11,\"xref\":\"x\",\"y\":\"Elec_PowerPlugsInstLRA\",\"yref\":\"y\"},{\"showarrow\":false,\"text\":\"0.12\",\"x\":12,\"xref\":\"x\",\"y\":\"Elec_PowerPlugsInstLRA\",\"yref\":\"y\"},{\"showarrow\":false,\"text\":\"0.12\",\"x\":13,\"xref\":\"x\",\"y\":\"Elec_PowerPlugsInstLRA\",\"yref\":\"y\"},{\"showarrow\":false,\"text\":\"0.06\",\"x\":14,\"xref\":\"x\",\"y\":\"Elec_PowerPlugsInstLRA\",\"yref\":\"y\"},{\"showarrow\":false,\"text\":\"0.29\",\"x\":15,\"xref\":\"x\",\"y\":\"Elec_PowerPlugsInstLRA\",\"yref\":\"y\"},{\"showarrow\":false,\"text\":\"0.18\",\"x\":16,\"xref\":\"x\",\"y\":\"Elec_PowerPlugsInstLRA\",\"yref\":\"y\"},{\"showarrow\":false,\"text\":\"0.06\",\"x\":17,\"xref\":\"x\",\"y\":\"Elec_PowerPlugsInstLRA\",\"yref\":\"y\"},{\"showarrow\":false,\"text\":\"\",\"x\":18,\"xref\":\"x\",\"y\":\"Elec_PowerPlugsInstLRA\",\"yref\":\"y\"},{\"showarrow\":false,\"text\":\"0.24\",\"x\":19,\"xref\":\"x\",\"y\":\"Elec_PowerPlugsInstLRA\",\"yref\":\"y\"},{\"showarrow\":false,\"text\":\"0.18\",\"x\":20,\"xref\":\"x\",\"y\":\"Elec_PowerPlugsInstLRA\",\"yref\":\"y\"},{\"showarrow\":false,\"text\":\"0.06\",\"x\":21,\"xref\":\"x\",\"y\":\"Elec_PowerPlugsInstLRA\",\"yref\":\"y\"},{\"showarrow\":false,\"text\":\"0.06\",\"x\":22,\"xref\":\"x\",\"y\":\"Elec_PowerPlugsInstLRA\",\"yref\":\"y\"},{\"showarrow\":false,\"text\":\"0.06\",\"x\":23,\"xref\":\"x\",\"y\":\"Elec_PowerPlugsInstLRA\",\"yref\":\"y\"},{\"showarrow\":false,\"text\":\"0.01\",\"x\":0,\"xref\":\"x\",\"y\":\"Elec_PowerChildADownstairs\",\"yref\":\"y\"},{\"showarrow\":false,\"text\":\"0.01\",\"x\":1,\"xref\":\"x\",\"y\":\"Elec_PowerChildADownstairs\",\"yref\":\"y\"},{\"showarrow\":false,\"text\":\"\",\"x\":2,\"xref\":\"x\",\"y\":\"Elec_PowerChildADownstairs\",\"yref\":\"y\"},{\"showarrow\":false,\"text\":\"\",\"x\":3,\"xref\":\"x\",\"y\":\"Elec_PowerChildADownstairs\",\"yref\":\"y\"},{\"showarrow\":false,\"text\":\"0.01\",\"x\":4,\"xref\":\"x\",\"y\":\"Elec_PowerChildADownstairs\",\"yref\":\"y\"},{\"showarrow\":false,\"text\":\"\",\"x\":5,\"xref\":\"x\",\"y\":\"Elec_PowerChildADownstairs\",\"yref\":\"y\"},{\"showarrow\":false,\"text\":\"0.34\",\"x\":6,\"xref\":\"x\",\"y\":\"Elec_PowerChildADownstairs\",\"yref\":\"y\"},{\"showarrow\":false,\"text\":\"0.71\",\"x\":7,\"xref\":\"x\",\"y\":\"Elec_PowerChildADownstairs\",\"yref\":\"y\"},{\"showarrow\":false,\"text\":\"0.11\",\"x\":8,\"xref\":\"x\",\"y\":\"Elec_PowerChildADownstairs\",\"yref\":\"y\"},{\"showarrow\":false,\"text\":\"0.28\",\"x\":9,\"xref\":\"x\",\"y\":\"Elec_PowerChildADownstairs\",\"yref\":\"y\"},{\"showarrow\":false,\"text\":\"0.28\",\"x\":10,\"xref\":\"x\",\"y\":\"Elec_PowerChildADownstairs\",\"yref\":\"y\"},{\"showarrow\":false,\"text\":\"0.02\",\"x\":11,\"xref\":\"x\",\"y\":\"Elec_PowerChildADownstairs\",\"yref\":\"y\"},{\"showarrow\":false,\"text\":\"0.13\",\"x\":12,\"xref\":\"x\",\"y\":\"Elec_PowerChildADownstairs\",\"yref\":\"y\"},{\"showarrow\":false,\"text\":\"0.28\",\"x\":13,\"xref\":\"x\",\"y\":\"Elec_PowerChildADownstairs\",\"yref\":\"y\"},{\"showarrow\":false,\"text\":\"0.28\",\"x\":14,\"xref\":\"x\",\"y\":\"Elec_PowerChildADownstairs\",\"yref\":\"y\"},{\"showarrow\":false,\"text\":\"0.14\",\"x\":15,\"xref\":\"x\",\"y\":\"Elec_PowerChildADownstairs\",\"yref\":\"y\"},{\"showarrow\":false,\"text\":\"0.42\",\"x\":16,\"xref\":\"x\",\"y\":\"Elec_PowerChildADownstairs\",\"yref\":\"y\"},{\"showarrow\":false,\"text\":\"0.4\",\"x\":17,\"xref\":\"x\",\"y\":\"Elec_PowerChildADownstairs\",\"yref\":\"y\"},{\"showarrow\":false,\"text\":\"0.3\",\"x\":18,\"xref\":\"x\",\"y\":\"Elec_PowerChildADownstairs\",\"yref\":\"y\"},{\"showarrow\":false,\"text\":\"0.86\",\"x\":19,\"xref\":\"x\",\"y\":\"Elec_PowerChildADownstairs\",\"yref\":\"y\"},{\"showarrow\":false,\"text\":\"1.0\",\"x\":20,\"xref\":\"x\",\"y\":\"Elec_PowerChildADownstairs\",\"yref\":\"y\"},{\"showarrow\":false,\"text\":\"0.29\",\"x\":21,\"xref\":\"x\",\"y\":\"Elec_PowerChildADownstairs\",\"yref\":\"y\"},{\"showarrow\":false,\"text\":\"0.29\",\"x\":22,\"xref\":\"x\",\"y\":\"Elec_PowerChildADownstairs\",\"yref\":\"y\"},{\"showarrow\":false,\"text\":\"0.01\",\"x\":23,\"xref\":\"x\",\"y\":\"Elec_PowerChildADownstairs\",\"yref\":\"y\"},{\"showarrow\":false,\"text\":\"nan\",\"x\":0,\"xref\":\"x\",\"y\":\"Elec_PowerPlugsInstLRB\",\"yref\":\"y\"},{\"showarrow\":false,\"text\":\"nan\",\"x\":1,\"xref\":\"x\",\"y\":\"Elec_PowerPlugsInstLRB\",\"yref\":\"y\"},{\"showarrow\":false,\"text\":\"nan\",\"x\":2,\"xref\":\"x\",\"y\":\"Elec_PowerPlugsInstLRB\",\"yref\":\"y\"},{\"showarrow\":false,\"text\":\"nan\",\"x\":3,\"xref\":\"x\",\"y\":\"Elec_PowerPlugsInstLRB\",\"yref\":\"y\"},{\"showarrow\":false,\"text\":\"nan\",\"x\":4,\"xref\":\"x\",\"y\":\"Elec_PowerPlugsInstLRB\",\"yref\":\"y\"},{\"showarrow\":false,\"text\":\"nan\",\"x\":5,\"xref\":\"x\",\"y\":\"Elec_PowerPlugsInstLRB\",\"yref\":\"y\"},{\"showarrow\":false,\"text\":\"nan\",\"x\":6,\"xref\":\"x\",\"y\":\"Elec_PowerPlugsInstLRB\",\"yref\":\"y\"},{\"showarrow\":false,\"text\":\"nan\",\"x\":7,\"xref\":\"x\",\"y\":\"Elec_PowerPlugsInstLRB\",\"yref\":\"y\"},{\"showarrow\":false,\"text\":\"nan\",\"x\":8,\"xref\":\"x\",\"y\":\"Elec_PowerPlugsInstLRB\",\"yref\":\"y\"},{\"showarrow\":false,\"text\":\"nan\",\"x\":9,\"xref\":\"x\",\"y\":\"Elec_PowerPlugsInstLRB\",\"yref\":\"y\"},{\"showarrow\":false,\"text\":\"nan\",\"x\":10,\"xref\":\"x\",\"y\":\"Elec_PowerPlugsInstLRB\",\"yref\":\"y\"},{\"showarrow\":false,\"text\":\"nan\",\"x\":11,\"xref\":\"x\",\"y\":\"Elec_PowerPlugsInstLRB\",\"yref\":\"y\"},{\"showarrow\":false,\"text\":\"nan\",\"x\":12,\"xref\":\"x\",\"y\":\"Elec_PowerPlugsInstLRB\",\"yref\":\"y\"},{\"showarrow\":false,\"text\":\"nan\",\"x\":13,\"xref\":\"x\",\"y\":\"Elec_PowerPlugsInstLRB\",\"yref\":\"y\"},{\"showarrow\":false,\"text\":\"nan\",\"x\":14,\"xref\":\"x\",\"y\":\"Elec_PowerPlugsInstLRB\",\"yref\":\"y\"},{\"showarrow\":false,\"text\":\"nan\",\"x\":15,\"xref\":\"x\",\"y\":\"Elec_PowerPlugsInstLRB\",\"yref\":\"y\"},{\"showarrow\":false,\"text\":\"nan\",\"x\":16,\"xref\":\"x\",\"y\":\"Elec_PowerPlugsInstLRB\",\"yref\":\"y\"},{\"showarrow\":false,\"text\":\"nan\",\"x\":17,\"xref\":\"x\",\"y\":\"Elec_PowerPlugsInstLRB\",\"yref\":\"y\"},{\"showarrow\":false,\"text\":\"nan\",\"x\":18,\"xref\":\"x\",\"y\":\"Elec_PowerPlugsInstLRB\",\"yref\":\"y\"},{\"showarrow\":false,\"text\":\"nan\",\"x\":19,\"xref\":\"x\",\"y\":\"Elec_PowerPlugsInstLRB\",\"yref\":\"y\"},{\"showarrow\":false,\"text\":\"nan\",\"x\":20,\"xref\":\"x\",\"y\":\"Elec_PowerPlugsInstLRB\",\"yref\":\"y\"},{\"showarrow\":false,\"text\":\"nan\",\"x\":21,\"xref\":\"x\",\"y\":\"Elec_PowerPlugsInstLRB\",\"yref\":\"y\"},{\"showarrow\":false,\"text\":\"nan\",\"x\":22,\"xref\":\"x\",\"y\":\"Elec_PowerPlugsInstLRB\",\"yref\":\"y\"},{\"showarrow\":false,\"text\":\"nan\",\"x\":23,\"xref\":\"x\",\"y\":\"Elec_PowerPlugsInstLRB\",\"yref\":\"y\"},{\"showarrow\":false,\"text\":\"1.0\",\"x\":0,\"xref\":\"x\",\"y\":\"Elec_PowerPlugsInstBA2\",\"yref\":\"y\"},{\"showarrow\":false,\"text\":\"0.06\",\"x\":1,\"xref\":\"x\",\"y\":\"Elec_PowerPlugsInstBA2\",\"yref\":\"y\"},{\"showarrow\":false,\"text\":\"0.06\",\"x\":2,\"xref\":\"x\",\"y\":\"Elec_PowerPlugsInstBA2\",\"yref\":\"y\"},{\"showarrow\":false,\"text\":\"0.06\",\"x\":3,\"xref\":\"x\",\"y\":\"Elec_PowerPlugsInstBA2\",\"yref\":\"y\"},{\"showarrow\":false,\"text\":\"0.06\",\"x\":4,\"xref\":\"x\",\"y\":\"Elec_PowerPlugsInstBA2\",\"yref\":\"y\"},{\"showarrow\":false,\"text\":\"0.06\",\"x\":5,\"xref\":\"x\",\"y\":\"Elec_PowerPlugsInstBA2\",\"yref\":\"y\"},{\"showarrow\":false,\"text\":\"\",\"x\":6,\"xref\":\"x\",\"y\":\"Elec_PowerPlugsInstBA2\",\"yref\":\"y\"},{\"showarrow\":false,\"text\":\"0.12\",\"x\":7,\"xref\":\"x\",\"y\":\"Elec_PowerPlugsInstBA2\",\"yref\":\"y\"},{\"showarrow\":false,\"text\":\"0.12\",\"x\":8,\"xref\":\"x\",\"y\":\"Elec_PowerPlugsInstBA2\",\"yref\":\"y\"},{\"showarrow\":false,\"text\":\"0.06\",\"x\":9,\"xref\":\"x\",\"y\":\"Elec_PowerPlugsInstBA2\",\"yref\":\"y\"},{\"showarrow\":false,\"text\":\"\",\"x\":10,\"xref\":\"x\",\"y\":\"Elec_PowerPlugsInstBA2\",\"yref\":\"y\"},{\"showarrow\":false,\"text\":\"0.12\",\"x\":11,\"xref\":\"x\",\"y\":\"Elec_PowerPlugsInstBA2\",\"yref\":\"y\"},{\"showarrow\":false,\"text\":\"0.06\",\"x\":12,\"xref\":\"x\",\"y\":\"Elec_PowerPlugsInstBA2\",\"yref\":\"y\"},{\"showarrow\":false,\"text\":\"\",\"x\":13,\"xref\":\"x\",\"y\":\"Elec_PowerPlugsInstBA2\",\"yref\":\"y\"},{\"showarrow\":false,\"text\":\"0.06\",\"x\":14,\"xref\":\"x\",\"y\":\"Elec_PowerPlugsInstBA2\",\"yref\":\"y\"},{\"showarrow\":false,\"text\":\"0.12\",\"x\":15,\"xref\":\"x\",\"y\":\"Elec_PowerPlugsInstBA2\",\"yref\":\"y\"},{\"showarrow\":false,\"text\":\"0.06\",\"x\":16,\"xref\":\"x\",\"y\":\"Elec_PowerPlugsInstBA2\",\"yref\":\"y\"},{\"showarrow\":false,\"text\":\"\",\"x\":17,\"xref\":\"x\",\"y\":\"Elec_PowerPlugsInstBA2\",\"yref\":\"y\"},{\"showarrow\":false,\"text\":\"0.06\",\"x\":18,\"xref\":\"x\",\"y\":\"Elec_PowerPlugsInstBA2\",\"yref\":\"y\"},{\"showarrow\":false,\"text\":\"0.29\",\"x\":19,\"xref\":\"x\",\"y\":\"Elec_PowerPlugsInstBA2\",\"yref\":\"y\"},{\"showarrow\":false,\"text\":\"0.24\",\"x\":20,\"xref\":\"x\",\"y\":\"Elec_PowerPlugsInstBA2\",\"yref\":\"y\"},{\"showarrow\":false,\"text\":\"0.12\",\"x\":21,\"xref\":\"x\",\"y\":\"Elec_PowerPlugsInstBA2\",\"yref\":\"y\"},{\"showarrow\":false,\"text\":\"0.12\",\"x\":22,\"xref\":\"x\",\"y\":\"Elec_PowerPlugsInstBA2\",\"yref\":\"y\"},{\"showarrow\":false,\"text\":\"0.06\",\"x\":23,\"xref\":\"x\",\"y\":\"Elec_PowerPlugsInstBA2\",\"yref\":\"y\"},{\"showarrow\":false,\"text\":\"\",\"x\":0,\"xref\":\"x\",\"y\":\"Elec_PowerPlugsInstMBAB\",\"yref\":\"y\"},{\"showarrow\":false,\"text\":\"\",\"x\":1,\"xref\":\"x\",\"y\":\"Elec_PowerPlugsInstMBAB\",\"yref\":\"y\"},{\"showarrow\":false,\"text\":\"\",\"x\":2,\"xref\":\"x\",\"y\":\"Elec_PowerPlugsInstMBAB\",\"yref\":\"y\"},{\"showarrow\":false,\"text\":\"\",\"x\":3,\"xref\":\"x\",\"y\":\"Elec_PowerPlugsInstMBAB\",\"yref\":\"y\"},{\"showarrow\":false,\"text\":\"\",\"x\":4,\"xref\":\"x\",\"y\":\"Elec_PowerPlugsInstMBAB\",\"yref\":\"y\"},{\"showarrow\":false,\"text\":\"\",\"x\":5,\"xref\":\"x\",\"y\":\"Elec_PowerPlugsInstMBAB\",\"yref\":\"y\"},{\"showarrow\":false,\"text\":\"\",\"x\":6,\"xref\":\"x\",\"y\":\"Elec_PowerPlugsInstMBAB\",\"yref\":\"y\"},{\"showarrow\":false,\"text\":\"\",\"x\":7,\"xref\":\"x\",\"y\":\"Elec_PowerPlugsInstMBAB\",\"yref\":\"y\"},{\"showarrow\":false,\"text\":\"\",\"x\":8,\"xref\":\"x\",\"y\":\"Elec_PowerPlugsInstMBAB\",\"yref\":\"y\"},{\"showarrow\":false,\"text\":\"0.33\",\"x\":9,\"xref\":\"x\",\"y\":\"Elec_PowerPlugsInstMBAB\",\"yref\":\"y\"},{\"showarrow\":false,\"text\":\"0.33\",\"x\":10,\"xref\":\"x\",\"y\":\"Elec_PowerPlugsInstMBAB\",\"yref\":\"y\"},{\"showarrow\":false,\"text\":\"0.33\",\"x\":11,\"xref\":\"x\",\"y\":\"Elec_PowerPlugsInstMBAB\",\"yref\":\"y\"},{\"showarrow\":false,\"text\":\"0.33\",\"x\":12,\"xref\":\"x\",\"y\":\"Elec_PowerPlugsInstMBAB\",\"yref\":\"y\"},{\"showarrow\":false,\"text\":\"1.0\",\"x\":13,\"xref\":\"x\",\"y\":\"Elec_PowerPlugsInstMBAB\",\"yref\":\"y\"},{\"showarrow\":false,\"text\":\"1.0\",\"x\":14,\"xref\":\"x\",\"y\":\"Elec_PowerPlugsInstMBAB\",\"yref\":\"y\"},{\"showarrow\":false,\"text\":\"0.67\",\"x\":15,\"xref\":\"x\",\"y\":\"Elec_PowerPlugsInstMBAB\",\"yref\":\"y\"},{\"showarrow\":false,\"text\":\"0.33\",\"x\":16,\"xref\":\"x\",\"y\":\"Elec_PowerPlugsInstMBAB\",\"yref\":\"y\"},{\"showarrow\":false,\"text\":\"0.33\",\"x\":17,\"xref\":\"x\",\"y\":\"Elec_PowerPlugsInstMBAB\",\"yref\":\"y\"},{\"showarrow\":false,\"text\":\"0.33\",\"x\":18,\"xref\":\"x\",\"y\":\"Elec_PowerPlugsInstMBAB\",\"yref\":\"y\"},{\"showarrow\":false,\"text\":\"0.33\",\"x\":19,\"xref\":\"x\",\"y\":\"Elec_PowerPlugsInstMBAB\",\"yref\":\"y\"},{\"showarrow\":false,\"text\":\"0.67\",\"x\":20,\"xref\":\"x\",\"y\":\"Elec_PowerPlugsInstMBAB\",\"yref\":\"y\"},{\"showarrow\":false,\"text\":\"0.33\",\"x\":21,\"xref\":\"x\",\"y\":\"Elec_PowerPlugsInstMBAB\",\"yref\":\"y\"},{\"showarrow\":false,\"text\":\"0.33\",\"x\":22,\"xref\":\"x\",\"y\":\"Elec_PowerPlugsInstMBAB\",\"yref\":\"y\"},{\"showarrow\":false,\"text\":\"0.33\",\"x\":23,\"xref\":\"x\",\"y\":\"Elec_PowerPlugsInstMBAB\",\"yref\":\"y\"},{\"showarrow\":false,\"text\":\"1.0\",\"x\":0,\"xref\":\"x\",\"y\":\"Elec_PowerPlugsInstBR2Hall\",\"yref\":\"y\"},{\"showarrow\":false,\"text\":\"0.06\",\"x\":1,\"xref\":\"x\",\"y\":\"Elec_PowerPlugsInstBR2Hall\",\"yref\":\"y\"},{\"showarrow\":false,\"text\":\"0.06\",\"x\":2,\"xref\":\"x\",\"y\":\"Elec_PowerPlugsInstBR2Hall\",\"yref\":\"y\"},{\"showarrow\":false,\"text\":\"0.06\",\"x\":3,\"xref\":\"x\",\"y\":\"Elec_PowerPlugsInstBR2Hall\",\"yref\":\"y\"},{\"showarrow\":false,\"text\":\"0.06\",\"x\":4,\"xref\":\"x\",\"y\":\"Elec_PowerPlugsInstBR2Hall\",\"yref\":\"y\"},{\"showarrow\":false,\"text\":\"0.06\",\"x\":5,\"xref\":\"x\",\"y\":\"Elec_PowerPlugsInstBR2Hall\",\"yref\":\"y\"},{\"showarrow\":false,\"text\":\"\",\"x\":6,\"xref\":\"x\",\"y\":\"Elec_PowerPlugsInstBR2Hall\",\"yref\":\"y\"},{\"showarrow\":false,\"text\":\"0.12\",\"x\":7,\"xref\":\"x\",\"y\":\"Elec_PowerPlugsInstBR2Hall\",\"yref\":\"y\"},{\"showarrow\":false,\"text\":\"0.12\",\"x\":8,\"xref\":\"x\",\"y\":\"Elec_PowerPlugsInstBR2Hall\",\"yref\":\"y\"},{\"showarrow\":false,\"text\":\"0.18\",\"x\":9,\"xref\":\"x\",\"y\":\"Elec_PowerPlugsInstBR2Hall\",\"yref\":\"y\"},{\"showarrow\":false,\"text\":\"0.53\",\"x\":10,\"xref\":\"x\",\"y\":\"Elec_PowerPlugsInstBR2Hall\",\"yref\":\"y\"},{\"showarrow\":false,\"text\":\"0.76\",\"x\":11,\"xref\":\"x\",\"y\":\"Elec_PowerPlugsInstBR2Hall\",\"yref\":\"y\"},{\"showarrow\":false,\"text\":\"0.47\",\"x\":12,\"xref\":\"x\",\"y\":\"Elec_PowerPlugsInstBR2Hall\",\"yref\":\"y\"},{\"showarrow\":false,\"text\":\"0.24\",\"x\":13,\"xref\":\"x\",\"y\":\"Elec_PowerPlugsInstBR2Hall\",\"yref\":\"y\"},{\"showarrow\":false,\"text\":\"0.41\",\"x\":14,\"xref\":\"x\",\"y\":\"Elec_PowerPlugsInstBR2Hall\",\"yref\":\"y\"},{\"showarrow\":false,\"text\":\"0.29\",\"x\":15,\"xref\":\"x\",\"y\":\"Elec_PowerPlugsInstBR2Hall\",\"yref\":\"y\"},{\"showarrow\":false,\"text\":\"0.12\",\"x\":16,\"xref\":\"x\",\"y\":\"Elec_PowerPlugsInstBR2Hall\",\"yref\":\"y\"},{\"showarrow\":false,\"text\":\"0.06\",\"x\":17,\"xref\":\"x\",\"y\":\"Elec_PowerPlugsInstBR2Hall\",\"yref\":\"y\"},{\"showarrow\":false,\"text\":\"0.06\",\"x\":18,\"xref\":\"x\",\"y\":\"Elec_PowerPlugsInstBR2Hall\",\"yref\":\"y\"},{\"showarrow\":false,\"text\":\"0.29\",\"x\":19,\"xref\":\"x\",\"y\":\"Elec_PowerPlugsInstBR2Hall\",\"yref\":\"y\"},{\"showarrow\":false,\"text\":\"0.24\",\"x\":20,\"xref\":\"x\",\"y\":\"Elec_PowerPlugsInstBR2Hall\",\"yref\":\"y\"},{\"showarrow\":false,\"text\":\"0.12\",\"x\":21,\"xref\":\"x\",\"y\":\"Elec_PowerPlugsInstBR2Hall\",\"yref\":\"y\"},{\"showarrow\":false,\"text\":\"0.12\",\"x\":22,\"xref\":\"x\",\"y\":\"Elec_PowerPlugsInstBR2Hall\",\"yref\":\"y\"},{\"showarrow\":false,\"text\":\"0.12\",\"x\":23,\"xref\":\"x\",\"y\":\"Elec_PowerPlugsInstBR2Hall\",\"yref\":\"y\"},{\"showarrow\":false,\"text\":\"0.99\",\"x\":0,\"xref\":\"x\",\"y\":\"Elec_PowerParentAUpstairs\",\"yref\":\"y\"},{\"showarrow\":false,\"text\":\"0.99\",\"x\":1,\"xref\":\"x\",\"y\":\"Elec_PowerParentAUpstairs\",\"yref\":\"y\"},{\"showarrow\":false,\"text\":\"0.98\",\"x\":2,\"xref\":\"x\",\"y\":\"Elec_PowerParentAUpstairs\",\"yref\":\"y\"},{\"showarrow\":false,\"text\":\"0.98\",\"x\":3,\"xref\":\"x\",\"y\":\"Elec_PowerParentAUpstairs\",\"yref\":\"y\"},{\"showarrow\":false,\"text\":\"0.98\",\"x\":4,\"xref\":\"x\",\"y\":\"Elec_PowerParentAUpstairs\",\"yref\":\"y\"},{\"showarrow\":false,\"text\":\"0.98\",\"x\":5,\"xref\":\"x\",\"y\":\"Elec_PowerParentAUpstairs\",\"yref\":\"y\"},{\"showarrow\":false,\"text\":\"0.98\",\"x\":6,\"xref\":\"x\",\"y\":\"Elec_PowerParentAUpstairs\",\"yref\":\"y\"},{\"showarrow\":false,\"text\":\"0.28\",\"x\":7,\"xref\":\"x\",\"y\":\"Elec_PowerParentAUpstairs\",\"yref\":\"y\"},{\"showarrow\":false,\"text\":\"0.29\",\"x\":8,\"xref\":\"x\",\"y\":\"Elec_PowerParentAUpstairs\",\"yref\":\"y\"},{\"showarrow\":false,\"text\":\"0.01\",\"x\":9,\"xref\":\"x\",\"y\":\"Elec_PowerParentAUpstairs\",\"yref\":\"y\"},{\"showarrow\":false,\"text\":\"\",\"x\":10,\"xref\":\"x\",\"y\":\"Elec_PowerParentAUpstairs\",\"yref\":\"y\"},{\"showarrow\":false,\"text\":\"\",\"x\":11,\"xref\":\"x\",\"y\":\"Elec_PowerParentAUpstairs\",\"yref\":\"y\"},{\"showarrow\":false,\"text\":\"\",\"x\":12,\"xref\":\"x\",\"y\":\"Elec_PowerParentAUpstairs\",\"yref\":\"y\"},{\"showarrow\":false,\"text\":\"0.07\",\"x\":13,\"xref\":\"x\",\"y\":\"Elec_PowerParentAUpstairs\",\"yref\":\"y\"},{\"showarrow\":false,\"text\":\"0.15\",\"x\":14,\"xref\":\"x\",\"y\":\"Elec_PowerParentAUpstairs\",\"yref\":\"y\"},{\"showarrow\":false,\"text\":\"0.01\",\"x\":15,\"xref\":\"x\",\"y\":\"Elec_PowerParentAUpstairs\",\"yref\":\"y\"},{\"showarrow\":false,\"text\":\"\",\"x\":16,\"xref\":\"x\",\"y\":\"Elec_PowerParentAUpstairs\",\"yref\":\"y\"},{\"showarrow\":false,\"text\":\"0.35\",\"x\":17,\"xref\":\"x\",\"y\":\"Elec_PowerParentAUpstairs\",\"yref\":\"y\"},{\"showarrow\":false,\"text\":\"0.86\",\"x\":18,\"xref\":\"x\",\"y\":\"Elec_PowerParentAUpstairs\",\"yref\":\"y\"},{\"showarrow\":false,\"text\":\"0.07\",\"x\":19,\"xref\":\"x\",\"y\":\"Elec_PowerParentAUpstairs\",\"yref\":\"y\"},{\"showarrow\":false,\"text\":\"0.14\",\"x\":20,\"xref\":\"x\",\"y\":\"Elec_PowerParentAUpstairs\",\"yref\":\"y\"},{\"showarrow\":false,\"text\":\"\",\"x\":21,\"xref\":\"x\",\"y\":\"Elec_PowerParentAUpstairs\",\"yref\":\"y\"},{\"showarrow\":false,\"text\":\"0.72\",\"x\":22,\"xref\":\"x\",\"y\":\"Elec_PowerParentAUpstairs\",\"yref\":\"y\"},{\"showarrow\":false,\"text\":\"1.0\",\"x\":23,\"xref\":\"x\",\"y\":\"Elec_PowerParentAUpstairs\",\"yref\":\"y\"},{\"showarrow\":false,\"text\":\"nan\",\"x\":0,\"xref\":\"x\",\"y\":\"Elec_PowerPlugsInstHall\",\"yref\":\"y\"},{\"showarrow\":false,\"text\":\"nan\",\"x\":1,\"xref\":\"x\",\"y\":\"Elec_PowerPlugsInstHall\",\"yref\":\"y\"},{\"showarrow\":false,\"text\":\"nan\",\"x\":2,\"xref\":\"x\",\"y\":\"Elec_PowerPlugsInstHall\",\"yref\":\"y\"},{\"showarrow\":false,\"text\":\"nan\",\"x\":3,\"xref\":\"x\",\"y\":\"Elec_PowerPlugsInstHall\",\"yref\":\"y\"},{\"showarrow\":false,\"text\":\"nan\",\"x\":4,\"xref\":\"x\",\"y\":\"Elec_PowerPlugsInstHall\",\"yref\":\"y\"},{\"showarrow\":false,\"text\":\"nan\",\"x\":5,\"xref\":\"x\",\"y\":\"Elec_PowerPlugsInstHall\",\"yref\":\"y\"},{\"showarrow\":false,\"text\":\"nan\",\"x\":6,\"xref\":\"x\",\"y\":\"Elec_PowerPlugsInstHall\",\"yref\":\"y\"},{\"showarrow\":false,\"text\":\"nan\",\"x\":7,\"xref\":\"x\",\"y\":\"Elec_PowerPlugsInstHall\",\"yref\":\"y\"},{\"showarrow\":false,\"text\":\"nan\",\"x\":8,\"xref\":\"x\",\"y\":\"Elec_PowerPlugsInstHall\",\"yref\":\"y\"},{\"showarrow\":false,\"text\":\"nan\",\"x\":9,\"xref\":\"x\",\"y\":\"Elec_PowerPlugsInstHall\",\"yref\":\"y\"},{\"showarrow\":false,\"text\":\"nan\",\"x\":10,\"xref\":\"x\",\"y\":\"Elec_PowerPlugsInstHall\",\"yref\":\"y\"},{\"showarrow\":false,\"text\":\"nan\",\"x\":11,\"xref\":\"x\",\"y\":\"Elec_PowerPlugsInstHall\",\"yref\":\"y\"},{\"showarrow\":false,\"text\":\"nan\",\"x\":12,\"xref\":\"x\",\"y\":\"Elec_PowerPlugsInstHall\",\"yref\":\"y\"},{\"showarrow\":false,\"text\":\"nan\",\"x\":13,\"xref\":\"x\",\"y\":\"Elec_PowerPlugsInstHall\",\"yref\":\"y\"},{\"showarrow\":false,\"text\":\"nan\",\"x\":14,\"xref\":\"x\",\"y\":\"Elec_PowerPlugsInstHall\",\"yref\":\"y\"},{\"showarrow\":false,\"text\":\"nan\",\"x\":15,\"xref\":\"x\",\"y\":\"Elec_PowerPlugsInstHall\",\"yref\":\"y\"},{\"showarrow\":false,\"text\":\"nan\",\"x\":16,\"xref\":\"x\",\"y\":\"Elec_PowerPlugsInstHall\",\"yref\":\"y\"},{\"showarrow\":false,\"text\":\"nan\",\"x\":17,\"xref\":\"x\",\"y\":\"Elec_PowerPlugsInstHall\",\"yref\":\"y\"},{\"showarrow\":false,\"text\":\"nan\",\"x\":18,\"xref\":\"x\",\"y\":\"Elec_PowerPlugsInstHall\",\"yref\":\"y\"},{\"showarrow\":false,\"text\":\"nan\",\"x\":19,\"xref\":\"x\",\"y\":\"Elec_PowerPlugsInstHall\",\"yref\":\"y\"},{\"showarrow\":false,\"text\":\"nan\",\"x\":20,\"xref\":\"x\",\"y\":\"Elec_PowerPlugsInstHall\",\"yref\":\"y\"},{\"showarrow\":false,\"text\":\"nan\",\"x\":21,\"xref\":\"x\",\"y\":\"Elec_PowerPlugsInstHall\",\"yref\":\"y\"},{\"showarrow\":false,\"text\":\"nan\",\"x\":22,\"xref\":\"x\",\"y\":\"Elec_PowerPlugsInstHall\",\"yref\":\"y\"},{\"showarrow\":false,\"text\":\"nan\",\"x\":23,\"xref\":\"x\",\"y\":\"Elec_PowerPlugsInstHall\",\"yref\":\"y\"},{\"showarrow\":false,\"text\":\"1.0\",\"x\":0,\"xref\":\"x\",\"y\":\"Elec_PowerLightingControlPanelRPS1\",\"yref\":\"y\"},{\"showarrow\":false,\"text\":\"1.0\",\"x\":1,\"xref\":\"x\",\"y\":\"Elec_PowerLightingControlPanelRPS1\",\"yref\":\"y\"},{\"showarrow\":false,\"text\":\"\",\"x\":2,\"xref\":\"x\",\"y\":\"Elec_PowerLightingControlPanelRPS1\",\"yref\":\"y\"},{\"showarrow\":false,\"text\":\"0.25\",\"x\":3,\"xref\":\"x\",\"y\":\"Elec_PowerLightingControlPanelRPS1\",\"yref\":\"y\"},{\"showarrow\":false,\"text\":\"0.25\",\"x\":4,\"xref\":\"x\",\"y\":\"Elec_PowerLightingControlPanelRPS1\",\"yref\":\"y\"},{\"showarrow\":false,\"text\":\"0.25\",\"x\":5,\"xref\":\"x\",\"y\":\"Elec_PowerLightingControlPanelRPS1\",\"yref\":\"y\"},{\"showarrow\":false,\"text\":\"0.25\",\"x\":6,\"xref\":\"x\",\"y\":\"Elec_PowerLightingControlPanelRPS1\",\"yref\":\"y\"},{\"showarrow\":false,\"text\":\"0.25\",\"x\":7,\"xref\":\"x\",\"y\":\"Elec_PowerLightingControlPanelRPS1\",\"yref\":\"y\"},{\"showarrow\":false,\"text\":\"0.75\",\"x\":8,\"xref\":\"x\",\"y\":\"Elec_PowerLightingControlPanelRPS1\",\"yref\":\"y\"},{\"showarrow\":false,\"text\":\"0.75\",\"x\":9,\"xref\":\"x\",\"y\":\"Elec_PowerLightingControlPanelRPS1\",\"yref\":\"y\"},{\"showarrow\":false,\"text\":\"0.75\",\"x\":10,\"xref\":\"x\",\"y\":\"Elec_PowerLightingControlPanelRPS1\",\"yref\":\"y\"},{\"showarrow\":false,\"text\":\"0.75\",\"x\":11,\"xref\":\"x\",\"y\":\"Elec_PowerLightingControlPanelRPS1\",\"yref\":\"y\"},{\"showarrow\":false,\"text\":\"0.75\",\"x\":12,\"xref\":\"x\",\"y\":\"Elec_PowerLightingControlPanelRPS1\",\"yref\":\"y\"},{\"showarrow\":false,\"text\":\"0.75\",\"x\":13,\"xref\":\"x\",\"y\":\"Elec_PowerLightingControlPanelRPS1\",\"yref\":\"y\"},{\"showarrow\":false,\"text\":\"0.25\",\"x\":14,\"xref\":\"x\",\"y\":\"Elec_PowerLightingControlPanelRPS1\",\"yref\":\"y\"},{\"showarrow\":false,\"text\":\"0.25\",\"x\":15,\"xref\":\"x\",\"y\":\"Elec_PowerLightingControlPanelRPS1\",\"yref\":\"y\"},{\"showarrow\":false,\"text\":\"0.5\",\"x\":16,\"xref\":\"x\",\"y\":\"Elec_PowerLightingControlPanelRPS1\",\"yref\":\"y\"},{\"showarrow\":false,\"text\":\"0.75\",\"x\":17,\"xref\":\"x\",\"y\":\"Elec_PowerLightingControlPanelRPS1\",\"yref\":\"y\"},{\"showarrow\":false,\"text\":\"0.75\",\"x\":18,\"xref\":\"x\",\"y\":\"Elec_PowerLightingControlPanelRPS1\",\"yref\":\"y\"},{\"showarrow\":false,\"text\":\"0.75\",\"x\":19,\"xref\":\"x\",\"y\":\"Elec_PowerLightingControlPanelRPS1\",\"yref\":\"y\"},{\"showarrow\":false,\"text\":\"0.75\",\"x\":20,\"xref\":\"x\",\"y\":\"Elec_PowerLightingControlPanelRPS1\",\"yref\":\"y\"},{\"showarrow\":false,\"text\":\"0.75\",\"x\":21,\"xref\":\"x\",\"y\":\"Elec_PowerLightingControlPanelRPS1\",\"yref\":\"y\"},{\"showarrow\":false,\"text\":\"0.75\",\"x\":22,\"xref\":\"x\",\"y\":\"Elec_PowerLightingControlPanelRPS1\",\"yref\":\"y\"},{\"showarrow\":false,\"text\":\"0.75\",\"x\":23,\"xref\":\"x\",\"y\":\"Elec_PowerLightingControlPanelRPS1\",\"yref\":\"y\"},{\"showarrow\":false,\"text\":\"1.0\",\"x\":0,\"xref\":\"x\",\"y\":\"Elec_PowerPlugsInstBR3\",\"yref\":\"y\"},{\"showarrow\":false,\"text\":\"0.06\",\"x\":1,\"xref\":\"x\",\"y\":\"Elec_PowerPlugsInstBR3\",\"yref\":\"y\"},{\"showarrow\":false,\"text\":\"0.06\",\"x\":2,\"xref\":\"x\",\"y\":\"Elec_PowerPlugsInstBR3\",\"yref\":\"y\"},{\"showarrow\":false,\"text\":\"0.06\",\"x\":3,\"xref\":\"x\",\"y\":\"Elec_PowerPlugsInstBR3\",\"yref\":\"y\"},{\"showarrow\":false,\"text\":\"0.06\",\"x\":4,\"xref\":\"x\",\"y\":\"Elec_PowerPlugsInstBR3\",\"yref\":\"y\"},{\"showarrow\":false,\"text\":\"0.06\",\"x\":5,\"xref\":\"x\",\"y\":\"Elec_PowerPlugsInstBR3\",\"yref\":\"y\"},{\"showarrow\":false,\"text\":\"\",\"x\":6,\"xref\":\"x\",\"y\":\"Elec_PowerPlugsInstBR3\",\"yref\":\"y\"},{\"showarrow\":false,\"text\":\"0.12\",\"x\":7,\"xref\":\"x\",\"y\":\"Elec_PowerPlugsInstBR3\",\"yref\":\"y\"},{\"showarrow\":false,\"text\":\"0.12\",\"x\":8,\"xref\":\"x\",\"y\":\"Elec_PowerPlugsInstBR3\",\"yref\":\"y\"},{\"showarrow\":false,\"text\":\"0.12\",\"x\":9,\"xref\":\"x\",\"y\":\"Elec_PowerPlugsInstBR3\",\"yref\":\"y\"},{\"showarrow\":false,\"text\":\"0.53\",\"x\":10,\"xref\":\"x\",\"y\":\"Elec_PowerPlugsInstBR3\",\"yref\":\"y\"},{\"showarrow\":false,\"text\":\"0.53\",\"x\":11,\"xref\":\"x\",\"y\":\"Elec_PowerPlugsInstBR3\",\"yref\":\"y\"},{\"showarrow\":false,\"text\":\"0.29\",\"x\":12,\"xref\":\"x\",\"y\":\"Elec_PowerPlugsInstBR3\",\"yref\":\"y\"},{\"showarrow\":false,\"text\":\"\",\"x\":13,\"xref\":\"x\",\"y\":\"Elec_PowerPlugsInstBR3\",\"yref\":\"y\"},{\"showarrow\":false,\"text\":\"0.18\",\"x\":14,\"xref\":\"x\",\"y\":\"Elec_PowerPlugsInstBR3\",\"yref\":\"y\"},{\"showarrow\":false,\"text\":\"0.29\",\"x\":15,\"xref\":\"x\",\"y\":\"Elec_PowerPlugsInstBR3\",\"yref\":\"y\"},{\"showarrow\":false,\"text\":\"0.06\",\"x\":16,\"xref\":\"x\",\"y\":\"Elec_PowerPlugsInstBR3\",\"yref\":\"y\"},{\"showarrow\":false,\"text\":\"\",\"x\":17,\"xref\":\"x\",\"y\":\"Elec_PowerPlugsInstBR3\",\"yref\":\"y\"},{\"showarrow\":false,\"text\":\"\",\"x\":18,\"xref\":\"x\",\"y\":\"Elec_PowerPlugsInstBR3\",\"yref\":\"y\"},{\"showarrow\":false,\"text\":\"0.24\",\"x\":19,\"xref\":\"x\",\"y\":\"Elec_PowerPlugsInstBR3\",\"yref\":\"y\"},{\"showarrow\":false,\"text\":\"0.18\",\"x\":20,\"xref\":\"x\",\"y\":\"Elec_PowerPlugsInstBR3\",\"yref\":\"y\"},{\"showarrow\":false,\"text\":\"0.06\",\"x\":21,\"xref\":\"x\",\"y\":\"Elec_PowerPlugsInstBR3\",\"yref\":\"y\"},{\"showarrow\":false,\"text\":\"0.06\",\"x\":22,\"xref\":\"x\",\"y\":\"Elec_PowerPlugsInstBR3\",\"yref\":\"y\"},{\"showarrow\":false,\"text\":\"0.06\",\"x\":23,\"xref\":\"x\",\"y\":\"Elec_PowerPlugsInstBR3\",\"yref\":\"y\"},{\"showarrow\":false,\"text\":\"0.98\",\"x\":0,\"xref\":\"x\",\"y\":\"Elec_PowerChildAUpstairs\",\"yref\":\"y\"},{\"showarrow\":false,\"text\":\"0.99\",\"x\":1,\"xref\":\"x\",\"y\":\"Elec_PowerChildAUpstairs\",\"yref\":\"y\"},{\"showarrow\":false,\"text\":\"0.98\",\"x\":2,\"xref\":\"x\",\"y\":\"Elec_PowerChildAUpstairs\",\"yref\":\"y\"},{\"showarrow\":false,\"text\":\"0.98\",\"x\":3,\"xref\":\"x\",\"y\":\"Elec_PowerChildAUpstairs\",\"yref\":\"y\"},{\"showarrow\":false,\"text\":\"0.98\",\"x\":4,\"xref\":\"x\",\"y\":\"Elec_PowerChildAUpstairs\",\"yref\":\"y\"},{\"showarrow\":false,\"text\":\"0.98\",\"x\":5,\"xref\":\"x\",\"y\":\"Elec_PowerChildAUpstairs\",\"yref\":\"y\"},{\"showarrow\":false,\"text\":\"0.98\",\"x\":6,\"xref\":\"x\",\"y\":\"Elec_PowerChildAUpstairs\",\"yref\":\"y\"},{\"showarrow\":false,\"text\":\"0.31\",\"x\":7,\"xref\":\"x\",\"y\":\"Elec_PowerChildAUpstairs\",\"yref\":\"y\"},{\"showarrow\":false,\"text\":\"0.28\",\"x\":8,\"xref\":\"x\",\"y\":\"Elec_PowerChildAUpstairs\",\"yref\":\"y\"},{\"showarrow\":false,\"text\":\"0.15\",\"x\":9,\"xref\":\"x\",\"y\":\"Elec_PowerChildAUpstairs\",\"yref\":\"y\"},{\"showarrow\":false,\"text\":\"0.13\",\"x\":10,\"xref\":\"x\",\"y\":\"Elec_PowerChildAUpstairs\",\"yref\":\"y\"},{\"showarrow\":false,\"text\":\"0.28\",\"x\":11,\"xref\":\"x\",\"y\":\"Elec_PowerChildAUpstairs\",\"yref\":\"y\"},{\"showarrow\":false,\"text\":\"0.28\",\"x\":12,\"xref\":\"x\",\"y\":\"Elec_PowerChildAUpstairs\",\"yref\":\"y\"},{\"showarrow\":false,\"text\":\"0.01\",\"x\":13,\"xref\":\"x\",\"y\":\"Elec_PowerChildAUpstairs\",\"yref\":\"y\"},{\"showarrow\":false,\"text\":\"\",\"x\":14,\"xref\":\"x\",\"y\":\"Elec_PowerChildAUpstairs\",\"yref\":\"y\"},{\"showarrow\":false,\"text\":\"\",\"x\":15,\"xref\":\"x\",\"y\":\"Elec_PowerChildAUpstairs\",\"yref\":\"y\"},{\"showarrow\":false,\"text\":\"0.29\",\"x\":16,\"xref\":\"x\",\"y\":\"Elec_PowerChildAUpstairs\",\"yref\":\"y\"},{\"showarrow\":false,\"text\":\"0.59\",\"x\":17,\"xref\":\"x\",\"y\":\"Elec_PowerChildAUpstairs\",\"yref\":\"y\"},{\"showarrow\":false,\"text\":\"1.0\",\"x\":18,\"xref\":\"x\",\"y\":\"Elec_PowerChildAUpstairs\",\"yref\":\"y\"},{\"showarrow\":false,\"text\":\"1.0\",\"x\":19,\"xref\":\"x\",\"y\":\"Elec_PowerChildAUpstairs\",\"yref\":\"y\"},{\"showarrow\":false,\"text\":\"0.86\",\"x\":20,\"xref\":\"x\",\"y\":\"Elec_PowerChildAUpstairs\",\"yref\":\"y\"},{\"showarrow\":false,\"text\":\"0.71\",\"x\":21,\"xref\":\"x\",\"y\":\"Elec_PowerChildAUpstairs\",\"yref\":\"y\"},{\"showarrow\":false,\"text\":\"0.85\",\"x\":22,\"xref\":\"x\",\"y\":\"Elec_PowerChildAUpstairs\",\"yref\":\"y\"},{\"showarrow\":false,\"text\":\"1.0\",\"x\":23,\"xref\":\"x\",\"y\":\"Elec_PowerChildAUpstairs\",\"yref\":\"y\"},{\"showarrow\":false,\"text\":\"0.98\",\"x\":0,\"xref\":\"x\",\"y\":\"Elec_PowerChildBUpstairs\",\"yref\":\"y\"},{\"showarrow\":false,\"text\":\"0.99\",\"x\":1,\"xref\":\"x\",\"y\":\"Elec_PowerChildBUpstairs\",\"yref\":\"y\"},{\"showarrow\":false,\"text\":\"0.98\",\"x\":2,\"xref\":\"x\",\"y\":\"Elec_PowerChildBUpstairs\",\"yref\":\"y\"},{\"showarrow\":false,\"text\":\"0.98\",\"x\":3,\"xref\":\"x\",\"y\":\"Elec_PowerChildBUpstairs\",\"yref\":\"y\"},{\"showarrow\":false,\"text\":\"0.98\",\"x\":4,\"xref\":\"x\",\"y\":\"Elec_PowerChildBUpstairs\",\"yref\":\"y\"},{\"showarrow\":false,\"text\":\"0.98\",\"x\":5,\"xref\":\"x\",\"y\":\"Elec_PowerChildBUpstairs\",\"yref\":\"y\"},{\"showarrow\":false,\"text\":\"0.98\",\"x\":6,\"xref\":\"x\",\"y\":\"Elec_PowerChildBUpstairs\",\"yref\":\"y\"},{\"showarrow\":false,\"text\":\"0.32\",\"x\":7,\"xref\":\"x\",\"y\":\"Elec_PowerChildBUpstairs\",\"yref\":\"y\"},{\"showarrow\":false,\"text\":\"0.28\",\"x\":8,\"xref\":\"x\",\"y\":\"Elec_PowerChildBUpstairs\",\"yref\":\"y\"},{\"showarrow\":false,\"text\":\"0.03\",\"x\":9,\"xref\":\"x\",\"y\":\"Elec_PowerChildBUpstairs\",\"yref\":\"y\"},{\"showarrow\":false,\"text\":\"\",\"x\":10,\"xref\":\"x\",\"y\":\"Elec_PowerChildBUpstairs\",\"yref\":\"y\"},{\"showarrow\":false,\"text\":\"\",\"x\":11,\"xref\":\"x\",\"y\":\"Elec_PowerChildBUpstairs\",\"yref\":\"y\"},{\"showarrow\":false,\"text\":\"0.28\",\"x\":12,\"xref\":\"x\",\"y\":\"Elec_PowerChildBUpstairs\",\"yref\":\"y\"},{\"showarrow\":false,\"text\":\"0.02\",\"x\":13,\"xref\":\"x\",\"y\":\"Elec_PowerChildBUpstairs\",\"yref\":\"y\"},{\"showarrow\":false,\"text\":\"\",\"x\":14,\"xref\":\"x\",\"y\":\"Elec_PowerChildBUpstairs\",\"yref\":\"y\"},{\"showarrow\":false,\"text\":\"\",\"x\":15,\"xref\":\"x\",\"y\":\"Elec_PowerChildBUpstairs\",\"yref\":\"y\"},{\"showarrow\":false,\"text\":\"\",\"x\":16,\"xref\":\"x\",\"y\":\"Elec_PowerChildBUpstairs\",\"yref\":\"y\"},{\"showarrow\":false,\"text\":\"0.06\",\"x\":17,\"xref\":\"x\",\"y\":\"Elec_PowerChildBUpstairs\",\"yref\":\"y\"},{\"showarrow\":false,\"text\":\"1.0\",\"x\":18,\"xref\":\"x\",\"y\":\"Elec_PowerChildBUpstairs\",\"yref\":\"y\"},{\"showarrow\":false,\"text\":\"1.0\",\"x\":19,\"xref\":\"x\",\"y\":\"Elec_PowerChildBUpstairs\",\"yref\":\"y\"},{\"showarrow\":false,\"text\":\"1.0\",\"x\":20,\"xref\":\"x\",\"y\":\"Elec_PowerChildBUpstairs\",\"yref\":\"y\"},{\"showarrow\":false,\"text\":\"0.85\",\"x\":21,\"xref\":\"x\",\"y\":\"Elec_PowerChildBUpstairs\",\"yref\":\"y\"},{\"showarrow\":false,\"text\":\"1.0\",\"x\":22,\"xref\":\"x\",\"y\":\"Elec_PowerChildBUpstairs\",\"yref\":\"y\"},{\"showarrow\":false,\"text\":\"1.0\",\"x\":23,\"xref\":\"x\",\"y\":\"Elec_PowerChildBUpstairs\",\"yref\":\"y\"},{\"showarrow\":false,\"text\":\"1.0\",\"x\":0,\"xref\":\"x\",\"y\":\"Elec_PowerLightingControlPanelRPS2\",\"yref\":\"y\"},{\"showarrow\":false,\"text\":\"1.0\",\"x\":1,\"xref\":\"x\",\"y\":\"Elec_PowerLightingControlPanelRPS2\",\"yref\":\"y\"},{\"showarrow\":false,\"text\":\"\",\"x\":2,\"xref\":\"x\",\"y\":\"Elec_PowerLightingControlPanelRPS2\",\"yref\":\"y\"},{\"showarrow\":false,\"text\":\"0.25\",\"x\":3,\"xref\":\"x\",\"y\":\"Elec_PowerLightingControlPanelRPS2\",\"yref\":\"y\"},{\"showarrow\":false,\"text\":\"0.25\",\"x\":4,\"xref\":\"x\",\"y\":\"Elec_PowerLightingControlPanelRPS2\",\"yref\":\"y\"},{\"showarrow\":false,\"text\":\"0.25\",\"x\":5,\"xref\":\"x\",\"y\":\"Elec_PowerLightingControlPanelRPS2\",\"yref\":\"y\"},{\"showarrow\":false,\"text\":\"0.25\",\"x\":6,\"xref\":\"x\",\"y\":\"Elec_PowerLightingControlPanelRPS2\",\"yref\":\"y\"},{\"showarrow\":false,\"text\":\"0.25\",\"x\":7,\"xref\":\"x\",\"y\":\"Elec_PowerLightingControlPanelRPS2\",\"yref\":\"y\"},{\"showarrow\":false,\"text\":\"0.75\",\"x\":8,\"xref\":\"x\",\"y\":\"Elec_PowerLightingControlPanelRPS2\",\"yref\":\"y\"},{\"showarrow\":false,\"text\":\"0.75\",\"x\":9,\"xref\":\"x\",\"y\":\"Elec_PowerLightingControlPanelRPS2\",\"yref\":\"y\"},{\"showarrow\":false,\"text\":\"0.75\",\"x\":10,\"xref\":\"x\",\"y\":\"Elec_PowerLightingControlPanelRPS2\",\"yref\":\"y\"},{\"showarrow\":false,\"text\":\"0.75\",\"x\":11,\"xref\":\"x\",\"y\":\"Elec_PowerLightingControlPanelRPS2\",\"yref\":\"y\"},{\"showarrow\":false,\"text\":\"0.75\",\"x\":12,\"xref\":\"x\",\"y\":\"Elec_PowerLightingControlPanelRPS2\",\"yref\":\"y\"},{\"showarrow\":false,\"text\":\"0.75\",\"x\":13,\"xref\":\"x\",\"y\":\"Elec_PowerLightingControlPanelRPS2\",\"yref\":\"y\"},{\"showarrow\":false,\"text\":\"0.25\",\"x\":14,\"xref\":\"x\",\"y\":\"Elec_PowerLightingControlPanelRPS2\",\"yref\":\"y\"},{\"showarrow\":false,\"text\":\"0.25\",\"x\":15,\"xref\":\"x\",\"y\":\"Elec_PowerLightingControlPanelRPS2\",\"yref\":\"y\"},{\"showarrow\":false,\"text\":\"0.5\",\"x\":16,\"xref\":\"x\",\"y\":\"Elec_PowerLightingControlPanelRPS2\",\"yref\":\"y\"},{\"showarrow\":false,\"text\":\"0.75\",\"x\":17,\"xref\":\"x\",\"y\":\"Elec_PowerLightingControlPanelRPS2\",\"yref\":\"y\"},{\"showarrow\":false,\"text\":\"0.75\",\"x\":18,\"xref\":\"x\",\"y\":\"Elec_PowerLightingControlPanelRPS2\",\"yref\":\"y\"},{\"showarrow\":false,\"text\":\"0.75\",\"x\":19,\"xref\":\"x\",\"y\":\"Elec_PowerLightingControlPanelRPS2\",\"yref\":\"y\"},{\"showarrow\":false,\"text\":\"0.75\",\"x\":20,\"xref\":\"x\",\"y\":\"Elec_PowerLightingControlPanelRPS2\",\"yref\":\"y\"},{\"showarrow\":false,\"text\":\"0.75\",\"x\":21,\"xref\":\"x\",\"y\":\"Elec_PowerLightingControlPanelRPS2\",\"yref\":\"y\"},{\"showarrow\":false,\"text\":\"0.75\",\"x\":22,\"xref\":\"x\",\"y\":\"Elec_PowerLightingControlPanelRPS2\",\"yref\":\"y\"},{\"showarrow\":false,\"text\":\"0.75\",\"x\":23,\"xref\":\"x\",\"y\":\"Elec_PowerLightingControlPanelRPS2\",\"yref\":\"y\"},{\"showarrow\":false,\"text\":\"\",\"x\":0,\"xref\":\"x\",\"y\":\"Elec_PowerLightsBasement\",\"yref\":\"y\"},{\"showarrow\":false,\"text\":\"\",\"x\":1,\"xref\":\"x\",\"y\":\"Elec_PowerLightsBasement\",\"yref\":\"y\"},{\"showarrow\":false,\"text\":\"\",\"x\":2,\"xref\":\"x\",\"y\":\"Elec_PowerLightsBasement\",\"yref\":\"y\"},{\"showarrow\":false,\"text\":\"\",\"x\":3,\"xref\":\"x\",\"y\":\"Elec_PowerLightsBasement\",\"yref\":\"y\"},{\"showarrow\":false,\"text\":\"\",\"x\":4,\"xref\":\"x\",\"y\":\"Elec_PowerLightsBasement\",\"yref\":\"y\"},{\"showarrow\":false,\"text\":\"0.02\",\"x\":5,\"xref\":\"x\",\"y\":\"Elec_PowerLightsBasement\",\"yref\":\"y\"},{\"showarrow\":false,\"text\":\"0.04\",\"x\":6,\"xref\":\"x\",\"y\":\"Elec_PowerLightsBasement\",\"yref\":\"y\"},{\"showarrow\":false,\"text\":\"0.22\",\"x\":7,\"xref\":\"x\",\"y\":\"Elec_PowerLightsBasement\",\"yref\":\"y\"},{\"showarrow\":false,\"text\":\"0.68\",\"x\":8,\"xref\":\"x\",\"y\":\"Elec_PowerLightsBasement\",\"yref\":\"y\"},{\"showarrow\":false,\"text\":\"0.78\",\"x\":9,\"xref\":\"x\",\"y\":\"Elec_PowerLightsBasement\",\"yref\":\"y\"},{\"showarrow\":false,\"text\":\"0.97\",\"x\":10,\"xref\":\"x\",\"y\":\"Elec_PowerLightsBasement\",\"yref\":\"y\"},{\"showarrow\":false,\"text\":\"0.79\",\"x\":11,\"xref\":\"x\",\"y\":\"Elec_PowerLightsBasement\",\"yref\":\"y\"},{\"showarrow\":false,\"text\":\"0.43\",\"x\":12,\"xref\":\"x\",\"y\":\"Elec_PowerLightsBasement\",\"yref\":\"y\"},{\"showarrow\":false,\"text\":\"0.69\",\"x\":13,\"xref\":\"x\",\"y\":\"Elec_PowerLightsBasement\",\"yref\":\"y\"},{\"showarrow\":false,\"text\":\"1.0\",\"x\":14,\"xref\":\"x\",\"y\":\"Elec_PowerLightsBasement\",\"yref\":\"y\"},{\"showarrow\":false,\"text\":\"0.97\",\"x\":15,\"xref\":\"x\",\"y\":\"Elec_PowerLightsBasement\",\"yref\":\"y\"},{\"showarrow\":false,\"text\":\"0.58\",\"x\":16,\"xref\":\"x\",\"y\":\"Elec_PowerLightsBasement\",\"yref\":\"y\"},{\"showarrow\":false,\"text\":\"0.29\",\"x\":17,\"xref\":\"x\",\"y\":\"Elec_PowerLightsBasement\",\"yref\":\"y\"},{\"showarrow\":false,\"text\":\"0.06\",\"x\":18,\"xref\":\"x\",\"y\":\"Elec_PowerLightsBasement\",\"yref\":\"y\"},{\"showarrow\":false,\"text\":\"0.02\",\"x\":19,\"xref\":\"x\",\"y\":\"Elec_PowerLightsBasement\",\"yref\":\"y\"},{\"showarrow\":false,\"text\":\"\",\"x\":20,\"xref\":\"x\",\"y\":\"Elec_PowerLightsBasement\",\"yref\":\"y\"},{\"showarrow\":false,\"text\":\"0.01\",\"x\":21,\"xref\":\"x\",\"y\":\"Elec_PowerLightsBasement\",\"yref\":\"y\"},{\"showarrow\":false,\"text\":\"0.01\",\"x\":22,\"xref\":\"x\",\"y\":\"Elec_PowerLightsBasement\",\"yref\":\"y\"},{\"showarrow\":false,\"text\":\"\",\"x\":23,\"xref\":\"x\",\"y\":\"Elec_PowerLightsBasement\",\"yref\":\"y\"},{\"showarrow\":false,\"text\":\"0.99\",\"x\":0,\"xref\":\"x\",\"y\":\"Elec_PowerParentBUpstairs\",\"yref\":\"y\"},{\"showarrow\":false,\"text\":\"0.99\",\"x\":1,\"xref\":\"x\",\"y\":\"Elec_PowerParentBUpstairs\",\"yref\":\"y\"},{\"showarrow\":false,\"text\":\"0.98\",\"x\":2,\"xref\":\"x\",\"y\":\"Elec_PowerParentBUpstairs\",\"yref\":\"y\"},{\"showarrow\":false,\"text\":\"0.98\",\"x\":3,\"xref\":\"x\",\"y\":\"Elec_PowerParentBUpstairs\",\"yref\":\"y\"},{\"showarrow\":false,\"text\":\"0.98\",\"x\":4,\"xref\":\"x\",\"y\":\"Elec_PowerParentBUpstairs\",\"yref\":\"y\"},{\"showarrow\":false,\"text\":\"0.98\",\"x\":5,\"xref\":\"x\",\"y\":\"Elec_PowerParentBUpstairs\",\"yref\":\"y\"},{\"showarrow\":false,\"text\":\"1.0\",\"x\":6,\"xref\":\"x\",\"y\":\"Elec_PowerParentBUpstairs\",\"yref\":\"y\"},{\"showarrow\":false,\"text\":\"0.32\",\"x\":7,\"xref\":\"x\",\"y\":\"Elec_PowerParentBUpstairs\",\"yref\":\"y\"},{\"showarrow\":false,\"text\":\"0.29\",\"x\":8,\"xref\":\"x\",\"y\":\"Elec_PowerParentBUpstairs\",\"yref\":\"y\"},{\"showarrow\":false,\"text\":\"0.14\",\"x\":9,\"xref\":\"x\",\"y\":\"Elec_PowerParentBUpstairs\",\"yref\":\"y\"},{\"showarrow\":false,\"text\":\"0.29\",\"x\":10,\"xref\":\"x\",\"y\":\"Elec_PowerParentBUpstairs\",\"yref\":\"y\"},{\"showarrow\":false,\"text\":\"0.02\",\"x\":11,\"xref\":\"x\",\"y\":\"Elec_PowerParentBUpstairs\",\"yref\":\"y\"},{\"showarrow\":false,\"text\":\"0.01\",\"x\":12,\"xref\":\"x\",\"y\":\"Elec_PowerParentBUpstairs\",\"yref\":\"y\"},{\"showarrow\":false,\"text\":\"0.01\",\"x\":13,\"xref\":\"x\",\"y\":\"Elec_PowerParentBUpstairs\",\"yref\":\"y\"},{\"showarrow\":false,\"text\":\"0.01\",\"x\":14,\"xref\":\"x\",\"y\":\"Elec_PowerParentBUpstairs\",\"yref\":\"y\"},{\"showarrow\":false,\"text\":\"0.01\",\"x\":15,\"xref\":\"x\",\"y\":\"Elec_PowerParentBUpstairs\",\"yref\":\"y\"},{\"showarrow\":false,\"text\":\"\",\"x\":16,\"xref\":\"x\",\"y\":\"Elec_PowerParentBUpstairs\",\"yref\":\"y\"},{\"showarrow\":false,\"text\":\"0.06\",\"x\":17,\"xref\":\"x\",\"y\":\"Elec_PowerParentBUpstairs\",\"yref\":\"y\"},{\"showarrow\":false,\"text\":\"0.14\",\"x\":18,\"xref\":\"x\",\"y\":\"Elec_PowerParentBUpstairs\",\"yref\":\"y\"},{\"showarrow\":false,\"text\":\"0.01\",\"x\":19,\"xref\":\"x\",\"y\":\"Elec_PowerParentBUpstairs\",\"yref\":\"y\"},{\"showarrow\":false,\"text\":\"\",\"x\":20,\"xref\":\"x\",\"y\":\"Elec_PowerParentBUpstairs\",\"yref\":\"y\"},{\"showarrow\":false,\"text\":\"0.33\",\"x\":21,\"xref\":\"x\",\"y\":\"Elec_PowerParentBUpstairs\",\"yref\":\"y\"},{\"showarrow\":false,\"text\":\"0.72\",\"x\":22,\"xref\":\"x\",\"y\":\"Elec_PowerParentBUpstairs\",\"yref\":\"y\"},{\"showarrow\":false,\"text\":\"1.0\",\"x\":23,\"xref\":\"x\",\"y\":\"Elec_PowerParentBUpstairs\",\"yref\":\"y\"},{\"showarrow\":false,\"text\":\"\",\"x\":0,\"xref\":\"x\",\"y\":\"Elec_PowerParentBDownstairs\",\"yref\":\"y\"},{\"showarrow\":false,\"text\":\"\",\"x\":1,\"xref\":\"x\",\"y\":\"Elec_PowerParentBDownstairs\",\"yref\":\"y\"},{\"showarrow\":false,\"text\":\"\",\"x\":2,\"xref\":\"x\",\"y\":\"Elec_PowerParentBDownstairs\",\"yref\":\"y\"},{\"showarrow\":false,\"text\":\"\",\"x\":3,\"xref\":\"x\",\"y\":\"Elec_PowerParentBDownstairs\",\"yref\":\"y\"},{\"showarrow\":false,\"text\":\"\",\"x\":4,\"xref\":\"x\",\"y\":\"Elec_PowerParentBDownstairs\",\"yref\":\"y\"},{\"showarrow\":false,\"text\":\"0.33\",\"x\":5,\"xref\":\"x\",\"y\":\"Elec_PowerParentBDownstairs\",\"yref\":\"y\"},{\"showarrow\":false,\"text\":\"0.71\",\"x\":6,\"xref\":\"x\",\"y\":\"Elec_PowerParentBDownstairs\",\"yref\":\"y\"},{\"showarrow\":false,\"text\":\"0.71\",\"x\":7,\"xref\":\"x\",\"y\":\"Elec_PowerParentBDownstairs\",\"yref\":\"y\"},{\"showarrow\":false,\"text\":\"0.99\",\"x\":8,\"xref\":\"x\",\"y\":\"Elec_PowerParentBDownstairs\",\"yref\":\"y\"},{\"showarrow\":false,\"text\":\"0.28\",\"x\":9,\"xref\":\"x\",\"y\":\"Elec_PowerParentBDownstairs\",\"yref\":\"y\"},{\"showarrow\":false,\"text\":\"0.15\",\"x\":10,\"xref\":\"x\",\"y\":\"Elec_PowerParentBDownstairs\",\"yref\":\"y\"},{\"showarrow\":false,\"text\":\"0.28\",\"x\":11,\"xref\":\"x\",\"y\":\"Elec_PowerParentBDownstairs\",\"yref\":\"y\"},{\"showarrow\":false,\"text\":\"0.28\",\"x\":12,\"xref\":\"x\",\"y\":\"Elec_PowerParentBDownstairs\",\"yref\":\"y\"},{\"showarrow\":false,\"text\":\"0.28\",\"x\":13,\"xref\":\"x\",\"y\":\"Elec_PowerParentBDownstairs\",\"yref\":\"y\"},{\"showarrow\":false,\"text\":\"0.28\",\"x\":14,\"xref\":\"x\",\"y\":\"Elec_PowerParentBDownstairs\",\"yref\":\"y\"},{\"showarrow\":false,\"text\":\"\",\"x\":15,\"xref\":\"x\",\"y\":\"Elec_PowerParentBDownstairs\",\"yref\":\"y\"},{\"showarrow\":false,\"text\":\"0.13\",\"x\":16,\"xref\":\"x\",\"y\":\"Elec_PowerParentBDownstairs\",\"yref\":\"y\"},{\"showarrow\":false,\"text\":\"0.57\",\"x\":17,\"xref\":\"x\",\"y\":\"Elec_PowerParentBDownstairs\",\"yref\":\"y\"},{\"showarrow\":false,\"text\":\"0.93\",\"x\":18,\"xref\":\"x\",\"y\":\"Elec_PowerParentBDownstairs\",\"yref\":\"y\"},{\"showarrow\":false,\"text\":\"1.0\",\"x\":19,\"xref\":\"x\",\"y\":\"Elec_PowerParentBDownstairs\",\"yref\":\"y\"},{\"showarrow\":false,\"text\":\"1.0\",\"x\":20,\"xref\":\"x\",\"y\":\"Elec_PowerParentBDownstairs\",\"yref\":\"y\"},{\"showarrow\":false,\"text\":\"1.0\",\"x\":21,\"xref\":\"x\",\"y\":\"Elec_PowerParentBDownstairs\",\"yref\":\"y\"},{\"showarrow\":false,\"text\":\"0.31\",\"x\":22,\"xref\":\"x\",\"y\":\"Elec_PowerParentBDownstairs\",\"yref\":\"y\"},{\"showarrow\":false,\"text\":\"0.28\",\"x\":23,\"xref\":\"x\",\"y\":\"Elec_PowerParentBDownstairs\",\"yref\":\"y\"},{\"showarrow\":false,\"text\":\"0.99\",\"x\":0,\"xref\":\"x\",\"y\":\"Elec_PowerPlugsInstKitD\",\"yref\":\"y\"},{\"showarrow\":false,\"text\":\"0.99\",\"x\":1,\"xref\":\"x\",\"y\":\"Elec_PowerPlugsInstKitD\",\"yref\":\"y\"},{\"showarrow\":false,\"text\":\"0.98\",\"x\":2,\"xref\":\"x\",\"y\":\"Elec_PowerPlugsInstKitD\",\"yref\":\"y\"},{\"showarrow\":false,\"text\":\"0.98\",\"x\":3,\"xref\":\"x\",\"y\":\"Elec_PowerPlugsInstKitD\",\"yref\":\"y\"},{\"showarrow\":false,\"text\":\"0.98\",\"x\":4,\"xref\":\"x\",\"y\":\"Elec_PowerPlugsInstKitD\",\"yref\":\"y\"},{\"showarrow\":false,\"text\":\"0.98\",\"x\":5,\"xref\":\"x\",\"y\":\"Elec_PowerPlugsInstKitD\",\"yref\":\"y\"},{\"showarrow\":false,\"text\":\"0.97\",\"x\":6,\"xref\":\"x\",\"y\":\"Elec_PowerPlugsInstKitD\",\"yref\":\"y\"},{\"showarrow\":false,\"text\":\"0.98\",\"x\":7,\"xref\":\"x\",\"y\":\"Elec_PowerPlugsInstKitD\",\"yref\":\"y\"},{\"showarrow\":false,\"text\":\"0.98\",\"x\":8,\"xref\":\"x\",\"y\":\"Elec_PowerPlugsInstKitD\",\"yref\":\"y\"},{\"showarrow\":false,\"text\":\"0.01\",\"x\":9,\"xref\":\"x\",\"y\":\"Elec_PowerPlugsInstKitD\",\"yref\":\"y\"},{\"showarrow\":false,\"text\":\"\",\"x\":10,\"xref\":\"x\",\"y\":\"Elec_PowerPlugsInstKitD\",\"yref\":\"y\"},{\"showarrow\":false,\"text\":\"0.01\",\"x\":11,\"xref\":\"x\",\"y\":\"Elec_PowerPlugsInstKitD\",\"yref\":\"y\"},{\"showarrow\":false,\"text\":\"0.02\",\"x\":12,\"xref\":\"x\",\"y\":\"Elec_PowerPlugsInstKitD\",\"yref\":\"y\"},{\"showarrow\":false,\"text\":\"0.03\",\"x\":13,\"xref\":\"x\",\"y\":\"Elec_PowerPlugsInstKitD\",\"yref\":\"y\"},{\"showarrow\":false,\"text\":\"0.03\",\"x\":14,\"xref\":\"x\",\"y\":\"Elec_PowerPlugsInstKitD\",\"yref\":\"y\"},{\"showarrow\":false,\"text\":\"0.49\",\"x\":15,\"xref\":\"x\",\"y\":\"Elec_PowerPlugsInstKitD\",\"yref\":\"y\"},{\"showarrow\":false,\"text\":\"0.99\",\"x\":16,\"xref\":\"x\",\"y\":\"Elec_PowerPlugsInstKitD\",\"yref\":\"y\"},{\"showarrow\":false,\"text\":\"1.0\",\"x\":17,\"xref\":\"x\",\"y\":\"Elec_PowerPlugsInstKitD\",\"yref\":\"y\"},{\"showarrow\":false,\"text\":\"1.0\",\"x\":18,\"xref\":\"x\",\"y\":\"Elec_PowerPlugsInstKitD\",\"yref\":\"y\"},{\"showarrow\":false,\"text\":\"1.0\",\"x\":19,\"xref\":\"x\",\"y\":\"Elec_PowerPlugsInstKitD\",\"yref\":\"y\"},{\"showarrow\":false,\"text\":\"1.0\",\"x\":20,\"xref\":\"x\",\"y\":\"Elec_PowerPlugsInstKitD\",\"yref\":\"y\"},{\"showarrow\":false,\"text\":\"1.0\",\"x\":21,\"xref\":\"x\",\"y\":\"Elec_PowerPlugsInstKitD\",\"yref\":\"y\"},{\"showarrow\":false,\"text\":\"1.0\",\"x\":22,\"xref\":\"x\",\"y\":\"Elec_PowerPlugsInstKitD\",\"yref\":\"y\"},{\"showarrow\":false,\"text\":\"1.0\",\"x\":23,\"xref\":\"x\",\"y\":\"Elec_PowerPlugsInstKitD\",\"yref\":\"y\"},{\"showarrow\":false,\"text\":\"\",\"x\":0,\"xref\":\"x\",\"y\":\"Elec_PowerPlugsDRB\",\"yref\":\"y\"},{\"showarrow\":false,\"text\":\"\",\"x\":1,\"xref\":\"x\",\"y\":\"Elec_PowerPlugsDRB\",\"yref\":\"y\"},{\"showarrow\":false,\"text\":\"\",\"x\":2,\"xref\":\"x\",\"y\":\"Elec_PowerPlugsDRB\",\"yref\":\"y\"},{\"showarrow\":false,\"text\":\"\",\"x\":3,\"xref\":\"x\",\"y\":\"Elec_PowerPlugsDRB\",\"yref\":\"y\"},{\"showarrow\":false,\"text\":\"\",\"x\":4,\"xref\":\"x\",\"y\":\"Elec_PowerPlugsDRB\",\"yref\":\"y\"},{\"showarrow\":false,\"text\":\"\",\"x\":5,\"xref\":\"x\",\"y\":\"Elec_PowerPlugsDRB\",\"yref\":\"y\"},{\"showarrow\":false,\"text\":\"\",\"x\":6,\"xref\":\"x\",\"y\":\"Elec_PowerPlugsDRB\",\"yref\":\"y\"},{\"showarrow\":false,\"text\":\"\",\"x\":7,\"xref\":\"x\",\"y\":\"Elec_PowerPlugsDRB\",\"yref\":\"y\"},{\"showarrow\":false,\"text\":\"0.55\",\"x\":8,\"xref\":\"x\",\"y\":\"Elec_PowerPlugsDRB\",\"yref\":\"y\"},{\"showarrow\":false,\"text\":\"1.0\",\"x\":9,\"xref\":\"x\",\"y\":\"Elec_PowerPlugsDRB\",\"yref\":\"y\"},{\"showarrow\":false,\"text\":\"0.82\",\"x\":10,\"xref\":\"x\",\"y\":\"Elec_PowerPlugsDRB\",\"yref\":\"y\"},{\"showarrow\":false,\"text\":\"0.18\",\"x\":11,\"xref\":\"x\",\"y\":\"Elec_PowerPlugsDRB\",\"yref\":\"y\"},{\"showarrow\":false,\"text\":\"0.27\",\"x\":12,\"xref\":\"x\",\"y\":\"Elec_PowerPlugsDRB\",\"yref\":\"y\"},{\"showarrow\":false,\"text\":\"0.18\",\"x\":13,\"xref\":\"x\",\"y\":\"Elec_PowerPlugsDRB\",\"yref\":\"y\"},{\"showarrow\":false,\"text\":\"0.27\",\"x\":14,\"xref\":\"x\",\"y\":\"Elec_PowerPlugsDRB\",\"yref\":\"y\"},{\"showarrow\":false,\"text\":\"\",\"x\":15,\"xref\":\"x\",\"y\":\"Elec_PowerPlugsDRB\",\"yref\":\"y\"},{\"showarrow\":false,\"text\":\"\",\"x\":16,\"xref\":\"x\",\"y\":\"Elec_PowerPlugsDRB\",\"yref\":\"y\"},{\"showarrow\":false,\"text\":\"\",\"x\":17,\"xref\":\"x\",\"y\":\"Elec_PowerPlugsDRB\",\"yref\":\"y\"},{\"showarrow\":false,\"text\":\"\",\"x\":18,\"xref\":\"x\",\"y\":\"Elec_PowerPlugsDRB\",\"yref\":\"y\"},{\"showarrow\":false,\"text\":\"\",\"x\":19,\"xref\":\"x\",\"y\":\"Elec_PowerPlugsDRB\",\"yref\":\"y\"},{\"showarrow\":false,\"text\":\"\",\"x\":20,\"xref\":\"x\",\"y\":\"Elec_PowerPlugsDRB\",\"yref\":\"y\"},{\"showarrow\":false,\"text\":\"\",\"x\":21,\"xref\":\"x\",\"y\":\"Elec_PowerPlugsDRB\",\"yref\":\"y\"},{\"showarrow\":false,\"text\":\"\",\"x\":22,\"xref\":\"x\",\"y\":\"Elec_PowerPlugsDRB\",\"yref\":\"y\"},{\"showarrow\":false,\"text\":\"\",\"x\":23,\"xref\":\"x\",\"y\":\"Elec_PowerPlugsDRB\",\"yref\":\"y\"},{\"showarrow\":false,\"text\":\"\",\"x\":0,\"xref\":\"x\",\"y\":\"Elec_PowerPlugsAttic\",\"yref\":\"y\"},{\"showarrow\":false,\"text\":\"\",\"x\":1,\"xref\":\"x\",\"y\":\"Elec_PowerPlugsAttic\",\"yref\":\"y\"},{\"showarrow\":false,\"text\":\"\",\"x\":2,\"xref\":\"x\",\"y\":\"Elec_PowerPlugsAttic\",\"yref\":\"y\"},{\"showarrow\":false,\"text\":\"\",\"x\":3,\"xref\":\"x\",\"y\":\"Elec_PowerPlugsAttic\",\"yref\":\"y\"},{\"showarrow\":false,\"text\":\"\",\"x\":4,\"xref\":\"x\",\"y\":\"Elec_PowerPlugsAttic\",\"yref\":\"y\"},{\"showarrow\":false,\"text\":\"\",\"x\":5,\"xref\":\"x\",\"y\":\"Elec_PowerPlugsAttic\",\"yref\":\"y\"},{\"showarrow\":false,\"text\":\"\",\"x\":6,\"xref\":\"x\",\"y\":\"Elec_PowerPlugsAttic\",\"yref\":\"y\"},{\"showarrow\":false,\"text\":\"\",\"x\":7,\"xref\":\"x\",\"y\":\"Elec_PowerPlugsAttic\",\"yref\":\"y\"},{\"showarrow\":false,\"text\":\"\",\"x\":8,\"xref\":\"x\",\"y\":\"Elec_PowerPlugsAttic\",\"yref\":\"y\"},{\"showarrow\":false,\"text\":\"\",\"x\":9,\"xref\":\"x\",\"y\":\"Elec_PowerPlugsAttic\",\"yref\":\"y\"},{\"showarrow\":false,\"text\":\"\",\"x\":10,\"xref\":\"x\",\"y\":\"Elec_PowerPlugsAttic\",\"yref\":\"y\"},{\"showarrow\":false,\"text\":\"\",\"x\":11,\"xref\":\"x\",\"y\":\"Elec_PowerPlugsAttic\",\"yref\":\"y\"},{\"showarrow\":false,\"text\":\"\",\"x\":12,\"xref\":\"x\",\"y\":\"Elec_PowerPlugsAttic\",\"yref\":\"y\"},{\"showarrow\":false,\"text\":\"\",\"x\":13,\"xref\":\"x\",\"y\":\"Elec_PowerPlugsAttic\",\"yref\":\"y\"},{\"showarrow\":false,\"text\":\"\",\"x\":14,\"xref\":\"x\",\"y\":\"Elec_PowerPlugsAttic\",\"yref\":\"y\"},{\"showarrow\":false,\"text\":\"\",\"x\":15,\"xref\":\"x\",\"y\":\"Elec_PowerPlugsAttic\",\"yref\":\"y\"},{\"showarrow\":false,\"text\":\"\",\"x\":16,\"xref\":\"x\",\"y\":\"Elec_PowerPlugsAttic\",\"yref\":\"y\"},{\"showarrow\":false,\"text\":\"\",\"x\":17,\"xref\":\"x\",\"y\":\"Elec_PowerPlugsAttic\",\"yref\":\"y\"},{\"showarrow\":false,\"text\":\"\",\"x\":18,\"xref\":\"x\",\"y\":\"Elec_PowerPlugsAttic\",\"yref\":\"y\"},{\"showarrow\":false,\"text\":\"\",\"x\":19,\"xref\":\"x\",\"y\":\"Elec_PowerPlugsAttic\",\"yref\":\"y\"},{\"showarrow\":false,\"text\":\"\",\"x\":20,\"xref\":\"x\",\"y\":\"Elec_PowerPlugsAttic\",\"yref\":\"y\"},{\"showarrow\":false,\"text\":\"\",\"x\":21,\"xref\":\"x\",\"y\":\"Elec_PowerPlugsAttic\",\"yref\":\"y\"},{\"showarrow\":false,\"text\":\"1.0\",\"x\":22,\"xref\":\"x\",\"y\":\"Elec_PowerPlugsAttic\",\"yref\":\"y\"},{\"showarrow\":false,\"text\":\"1.0\",\"x\":23,\"xref\":\"x\",\"y\":\"Elec_PowerPlugsAttic\",\"yref\":\"y\"},{\"showarrow\":false,\"text\":\"1.0\",\"x\":0,\"xref\":\"x\",\"y\":\"DHW_HeatPumpWaterHeaterPowerTotal\",\"yref\":\"y\"},{\"showarrow\":false,\"text\":\"1.0\",\"x\":1,\"xref\":\"x\",\"y\":\"DHW_HeatPumpWaterHeaterPowerTotal\",\"yref\":\"y\"},{\"showarrow\":false,\"text\":\"\",\"x\":2,\"xref\":\"x\",\"y\":\"DHW_HeatPumpWaterHeaterPowerTotal\",\"yref\":\"y\"},{\"showarrow\":false,\"text\":\"0.25\",\"x\":3,\"xref\":\"x\",\"y\":\"DHW_HeatPumpWaterHeaterPowerTotal\",\"yref\":\"y\"},{\"showarrow\":false,\"text\":\"0.25\",\"x\":4,\"xref\":\"x\",\"y\":\"DHW_HeatPumpWaterHeaterPowerTotal\",\"yref\":\"y\"},{\"showarrow\":false,\"text\":\"0.25\",\"x\":5,\"xref\":\"x\",\"y\":\"DHW_HeatPumpWaterHeaterPowerTotal\",\"yref\":\"y\"},{\"showarrow\":false,\"text\":\"0.25\",\"x\":6,\"xref\":\"x\",\"y\":\"DHW_HeatPumpWaterHeaterPowerTotal\",\"yref\":\"y\"},{\"showarrow\":false,\"text\":\"0.25\",\"x\":7,\"xref\":\"x\",\"y\":\"DHW_HeatPumpWaterHeaterPowerTotal\",\"yref\":\"y\"},{\"showarrow\":false,\"text\":\"0.75\",\"x\":8,\"xref\":\"x\",\"y\":\"DHW_HeatPumpWaterHeaterPowerTotal\",\"yref\":\"y\"},{\"showarrow\":false,\"text\":\"0.75\",\"x\":9,\"xref\":\"x\",\"y\":\"DHW_HeatPumpWaterHeaterPowerTotal\",\"yref\":\"y\"},{\"showarrow\":false,\"text\":\"0.75\",\"x\":10,\"xref\":\"x\",\"y\":\"DHW_HeatPumpWaterHeaterPowerTotal\",\"yref\":\"y\"},{\"showarrow\":false,\"text\":\"0.75\",\"x\":11,\"xref\":\"x\",\"y\":\"DHW_HeatPumpWaterHeaterPowerTotal\",\"yref\":\"y\"},{\"showarrow\":false,\"text\":\"0.75\",\"x\":12,\"xref\":\"x\",\"y\":\"DHW_HeatPumpWaterHeaterPowerTotal\",\"yref\":\"y\"},{\"showarrow\":false,\"text\":\"0.75\",\"x\":13,\"xref\":\"x\",\"y\":\"DHW_HeatPumpWaterHeaterPowerTotal\",\"yref\":\"y\"},{\"showarrow\":false,\"text\":\"0.25\",\"x\":14,\"xref\":\"x\",\"y\":\"DHW_HeatPumpWaterHeaterPowerTotal\",\"yref\":\"y\"},{\"showarrow\":false,\"text\":\"0.25\",\"x\":15,\"xref\":\"x\",\"y\":\"DHW_HeatPumpWaterHeaterPowerTotal\",\"yref\":\"y\"},{\"showarrow\":false,\"text\":\"0.5\",\"x\":16,\"xref\":\"x\",\"y\":\"DHW_HeatPumpWaterHeaterPowerTotal\",\"yref\":\"y\"},{\"showarrow\":false,\"text\":\"0.75\",\"x\":17,\"xref\":\"x\",\"y\":\"DHW_HeatPumpWaterHeaterPowerTotal\",\"yref\":\"y\"},{\"showarrow\":false,\"text\":\"0.75\",\"x\":18,\"xref\":\"x\",\"y\":\"DHW_HeatPumpWaterHeaterPowerTotal\",\"yref\":\"y\"},{\"showarrow\":false,\"text\":\"0.75\",\"x\":19,\"xref\":\"x\",\"y\":\"DHW_HeatPumpWaterHeaterPowerTotal\",\"yref\":\"y\"},{\"showarrow\":false,\"text\":\"0.75\",\"x\":20,\"xref\":\"x\",\"y\":\"DHW_HeatPumpWaterHeaterPowerTotal\",\"yref\":\"y\"},{\"showarrow\":false,\"text\":\"0.75\",\"x\":21,\"xref\":\"x\",\"y\":\"DHW_HeatPumpWaterHeaterPowerTotal\",\"yref\":\"y\"},{\"showarrow\":false,\"text\":\"0.75\",\"x\":22,\"xref\":\"x\",\"y\":\"DHW_HeatPumpWaterHeaterPowerTotal\",\"yref\":\"y\"},{\"showarrow\":false,\"text\":\"0.75\",\"x\":23,\"xref\":\"x\",\"y\":\"DHW_HeatPumpWaterHeaterPowerTotal\",\"yref\":\"y\"},{\"showarrow\":false,\"text\":\"1.0\",\"x\":0,\"xref\":\"x\",\"y\":\"DHW_SHWPumpsPowerWithStandby\",\"yref\":\"y\"},{\"showarrow\":false,\"text\":\"1.0\",\"x\":1,\"xref\":\"x\",\"y\":\"DHW_SHWPumpsPowerWithStandby\",\"yref\":\"y\"},{\"showarrow\":false,\"text\":\"\",\"x\":2,\"xref\":\"x\",\"y\":\"DHW_SHWPumpsPowerWithStandby\",\"yref\":\"y\"},{\"showarrow\":false,\"text\":\"0.25\",\"x\":3,\"xref\":\"x\",\"y\":\"DHW_SHWPumpsPowerWithStandby\",\"yref\":\"y\"},{\"showarrow\":false,\"text\":\"0.25\",\"x\":4,\"xref\":\"x\",\"y\":\"DHW_SHWPumpsPowerWithStandby\",\"yref\":\"y\"},{\"showarrow\":false,\"text\":\"0.25\",\"x\":5,\"xref\":\"x\",\"y\":\"DHW_SHWPumpsPowerWithStandby\",\"yref\":\"y\"},{\"showarrow\":false,\"text\":\"0.25\",\"x\":6,\"xref\":\"x\",\"y\":\"DHW_SHWPumpsPowerWithStandby\",\"yref\":\"y\"},{\"showarrow\":false,\"text\":\"0.25\",\"x\":7,\"xref\":\"x\",\"y\":\"DHW_SHWPumpsPowerWithStandby\",\"yref\":\"y\"},{\"showarrow\":false,\"text\":\"0.75\",\"x\":8,\"xref\":\"x\",\"y\":\"DHW_SHWPumpsPowerWithStandby\",\"yref\":\"y\"},{\"showarrow\":false,\"text\":\"0.75\",\"x\":9,\"xref\":\"x\",\"y\":\"DHW_SHWPumpsPowerWithStandby\",\"yref\":\"y\"},{\"showarrow\":false,\"text\":\"0.75\",\"x\":10,\"xref\":\"x\",\"y\":\"DHW_SHWPumpsPowerWithStandby\",\"yref\":\"y\"},{\"showarrow\":false,\"text\":\"0.75\",\"x\":11,\"xref\":\"x\",\"y\":\"DHW_SHWPumpsPowerWithStandby\",\"yref\":\"y\"},{\"showarrow\":false,\"text\":\"0.5\",\"x\":12,\"xref\":\"x\",\"y\":\"DHW_SHWPumpsPowerWithStandby\",\"yref\":\"y\"},{\"showarrow\":false,\"text\":\"0.5\",\"x\":13,\"xref\":\"x\",\"y\":\"DHW_SHWPumpsPowerWithStandby\",\"yref\":\"y\"},{\"showarrow\":false,\"text\":\"\",\"x\":14,\"xref\":\"x\",\"y\":\"DHW_SHWPumpsPowerWithStandby\",\"yref\":\"y\"},{\"showarrow\":false,\"text\":\"\",\"x\":15,\"xref\":\"x\",\"y\":\"DHW_SHWPumpsPowerWithStandby\",\"yref\":\"y\"},{\"showarrow\":false,\"text\":\"0.25\",\"x\":16,\"xref\":\"x\",\"y\":\"DHW_SHWPumpsPowerWithStandby\",\"yref\":\"y\"},{\"showarrow\":false,\"text\":\"0.5\",\"x\":17,\"xref\":\"x\",\"y\":\"DHW_SHWPumpsPowerWithStandby\",\"yref\":\"y\"},{\"showarrow\":false,\"text\":\"0.5\",\"x\":18,\"xref\":\"x\",\"y\":\"DHW_SHWPumpsPowerWithStandby\",\"yref\":\"y\"},{\"showarrow\":false,\"text\":\"0.5\",\"x\":19,\"xref\":\"x\",\"y\":\"DHW_SHWPumpsPowerWithStandby\",\"yref\":\"y\"},{\"showarrow\":false,\"text\":\"0.5\",\"x\":20,\"xref\":\"x\",\"y\":\"DHW_SHWPumpsPowerWithStandby\",\"yref\":\"y\"},{\"showarrow\":false,\"text\":\"0.5\",\"x\":21,\"xref\":\"x\",\"y\":\"DHW_SHWPumpsPowerWithStandby\",\"yref\":\"y\"},{\"showarrow\":false,\"text\":\"0.5\",\"x\":22,\"xref\":\"x\",\"y\":\"DHW_SHWPumpsPowerWithStandby\",\"yref\":\"y\"},{\"showarrow\":false,\"text\":\"0.5\",\"x\":23,\"xref\":\"x\",\"y\":\"DHW_SHWPumpsPowerWithStandby\",\"yref\":\"y\"},{\"showarrow\":false,\"text\":\"0.75\",\"x\":0,\"xref\":\"x\",\"y\":\"HVAC_HeatPumpIndoorUnitPower\",\"yref\":\"y\"},{\"showarrow\":false,\"text\":\"0.75\",\"x\":1,\"xref\":\"x\",\"y\":\"HVAC_HeatPumpIndoorUnitPower\",\"yref\":\"y\"},{\"showarrow\":false,\"text\":\"\",\"x\":2,\"xref\":\"x\",\"y\":\"HVAC_HeatPumpIndoorUnitPower\",\"yref\":\"y\"},{\"showarrow\":false,\"text\":\"0.25\",\"x\":3,\"xref\":\"x\",\"y\":\"HVAC_HeatPumpIndoorUnitPower\",\"yref\":\"y\"},{\"showarrow\":false,\"text\":\"0.25\",\"x\":4,\"xref\":\"x\",\"y\":\"HVAC_HeatPumpIndoorUnitPower\",\"yref\":\"y\"},{\"showarrow\":false,\"text\":\"0.25\",\"x\":5,\"xref\":\"x\",\"y\":\"HVAC_HeatPumpIndoorUnitPower\",\"yref\":\"y\"},{\"showarrow\":false,\"text\":\"0.25\",\"x\":6,\"xref\":\"x\",\"y\":\"HVAC_HeatPumpIndoorUnitPower\",\"yref\":\"y\"},{\"showarrow\":false,\"text\":\"0.25\",\"x\":7,\"xref\":\"x\",\"y\":\"HVAC_HeatPumpIndoorUnitPower\",\"yref\":\"y\"},{\"showarrow\":false,\"text\":\"0.75\",\"x\":8,\"xref\":\"x\",\"y\":\"HVAC_HeatPumpIndoorUnitPower\",\"yref\":\"y\"},{\"showarrow\":false,\"text\":\"1.0\",\"x\":9,\"xref\":\"x\",\"y\":\"HVAC_HeatPumpIndoorUnitPower\",\"yref\":\"y\"},{\"showarrow\":false,\"text\":\"1.0\",\"x\":10,\"xref\":\"x\",\"y\":\"HVAC_HeatPumpIndoorUnitPower\",\"yref\":\"y\"},{\"showarrow\":false,\"text\":\"0.75\",\"x\":11,\"xref\":\"x\",\"y\":\"HVAC_HeatPumpIndoorUnitPower\",\"yref\":\"y\"},{\"showarrow\":false,\"text\":\"0.75\",\"x\":12,\"xref\":\"x\",\"y\":\"HVAC_HeatPumpIndoorUnitPower\",\"yref\":\"y\"},{\"showarrow\":false,\"text\":\"0.75\",\"x\":13,\"xref\":\"x\",\"y\":\"HVAC_HeatPumpIndoorUnitPower\",\"yref\":\"y\"},{\"showarrow\":false,\"text\":\"0.25\",\"x\":14,\"xref\":\"x\",\"y\":\"HVAC_HeatPumpIndoorUnitPower\",\"yref\":\"y\"},{\"showarrow\":false,\"text\":\"0.25\",\"x\":15,\"xref\":\"x\",\"y\":\"HVAC_HeatPumpIndoorUnitPower\",\"yref\":\"y\"},{\"showarrow\":false,\"text\":\"0.5\",\"x\":16,\"xref\":\"x\",\"y\":\"HVAC_HeatPumpIndoorUnitPower\",\"yref\":\"y\"},{\"showarrow\":false,\"text\":\"0.5\",\"x\":17,\"xref\":\"x\",\"y\":\"HVAC_HeatPumpIndoorUnitPower\",\"yref\":\"y\"},{\"showarrow\":false,\"text\":\"0.75\",\"x\":18,\"xref\":\"x\",\"y\":\"HVAC_HeatPumpIndoorUnitPower\",\"yref\":\"y\"},{\"showarrow\":false,\"text\":\"0.75\",\"x\":19,\"xref\":\"x\",\"y\":\"HVAC_HeatPumpIndoorUnitPower\",\"yref\":\"y\"},{\"showarrow\":false,\"text\":\"0.75\",\"x\":20,\"xref\":\"x\",\"y\":\"HVAC_HeatPumpIndoorUnitPower\",\"yref\":\"y\"},{\"showarrow\":false,\"text\":\"0.75\",\"x\":21,\"xref\":\"x\",\"y\":\"HVAC_HeatPumpIndoorUnitPower\",\"yref\":\"y\"},{\"showarrow\":false,\"text\":\"0.75\",\"x\":22,\"xref\":\"x\",\"y\":\"HVAC_HeatPumpIndoorUnitPower\",\"yref\":\"y\"},{\"showarrow\":false,\"text\":\"0.5\",\"x\":23,\"xref\":\"x\",\"y\":\"HVAC_HeatPumpIndoorUnitPower\",\"yref\":\"y\"},{\"showarrow\":false,\"text\":\"1.0\",\"x\":0,\"xref\":\"x\",\"y\":\"HVAC_HeatPumpOutdoorUnitPower\",\"yref\":\"y\"},{\"showarrow\":false,\"text\":\"1.0\",\"x\":1,\"xref\":\"x\",\"y\":\"HVAC_HeatPumpOutdoorUnitPower\",\"yref\":\"y\"},{\"showarrow\":false,\"text\":\"\",\"x\":2,\"xref\":\"x\",\"y\":\"HVAC_HeatPumpOutdoorUnitPower\",\"yref\":\"y\"},{\"showarrow\":false,\"text\":\"0.33\",\"x\":3,\"xref\":\"x\",\"y\":\"HVAC_HeatPumpOutdoorUnitPower\",\"yref\":\"y\"},{\"showarrow\":false,\"text\":\"0.33\",\"x\":4,\"xref\":\"x\",\"y\":\"HVAC_HeatPumpOutdoorUnitPower\",\"yref\":\"y\"},{\"showarrow\":false,\"text\":\"0.33\",\"x\":5,\"xref\":\"x\",\"y\":\"HVAC_HeatPumpOutdoorUnitPower\",\"yref\":\"y\"},{\"showarrow\":false,\"text\":\"0.33\",\"x\":6,\"xref\":\"x\",\"y\":\"HVAC_HeatPumpOutdoorUnitPower\",\"yref\":\"y\"},{\"showarrow\":false,\"text\":\"0.33\",\"x\":7,\"xref\":\"x\",\"y\":\"HVAC_HeatPumpOutdoorUnitPower\",\"yref\":\"y\"},{\"showarrow\":false,\"text\":\"1.0\",\"x\":8,\"xref\":\"x\",\"y\":\"HVAC_HeatPumpOutdoorUnitPower\",\"yref\":\"y\"},{\"showarrow\":false,\"text\":\"1.0\",\"x\":9,\"xref\":\"x\",\"y\":\"HVAC_HeatPumpOutdoorUnitPower\",\"yref\":\"y\"},{\"showarrow\":false,\"text\":\"1.0\",\"x\":10,\"xref\":\"x\",\"y\":\"HVAC_HeatPumpOutdoorUnitPower\",\"yref\":\"y\"},{\"showarrow\":false,\"text\":\"0.67\",\"x\":11,\"xref\":\"x\",\"y\":\"HVAC_HeatPumpOutdoorUnitPower\",\"yref\":\"y\"},{\"showarrow\":false,\"text\":\"0.67\",\"x\":12,\"xref\":\"x\",\"y\":\"HVAC_HeatPumpOutdoorUnitPower\",\"yref\":\"y\"},{\"showarrow\":false,\"text\":\"0.67\",\"x\":13,\"xref\":\"x\",\"y\":\"HVAC_HeatPumpOutdoorUnitPower\",\"yref\":\"y\"},{\"showarrow\":false,\"text\":\"\",\"x\":14,\"xref\":\"x\",\"y\":\"HVAC_HeatPumpOutdoorUnitPower\",\"yref\":\"y\"},{\"showarrow\":false,\"text\":\"\",\"x\":15,\"xref\":\"x\",\"y\":\"HVAC_HeatPumpOutdoorUnitPower\",\"yref\":\"y\"},{\"showarrow\":false,\"text\":\"0.33\",\"x\":16,\"xref\":\"x\",\"y\":\"HVAC_HeatPumpOutdoorUnitPower\",\"yref\":\"y\"},{\"showarrow\":false,\"text\":\"0.67\",\"x\":17,\"xref\":\"x\",\"y\":\"HVAC_HeatPumpOutdoorUnitPower\",\"yref\":\"y\"},{\"showarrow\":false,\"text\":\"0.67\",\"x\":18,\"xref\":\"x\",\"y\":\"HVAC_HeatPumpOutdoorUnitPower\",\"yref\":\"y\"},{\"showarrow\":false,\"text\":\"0.67\",\"x\":19,\"xref\":\"x\",\"y\":\"HVAC_HeatPumpOutdoorUnitPower\",\"yref\":\"y\"},{\"showarrow\":false,\"text\":\"0.67\",\"x\":20,\"xref\":\"x\",\"y\":\"HVAC_HeatPumpOutdoorUnitPower\",\"yref\":\"y\"},{\"showarrow\":false,\"text\":\"0.67\",\"x\":21,\"xref\":\"x\",\"y\":\"HVAC_HeatPumpOutdoorUnitPower\",\"yref\":\"y\"},{\"showarrow\":false,\"text\":\"0.67\",\"x\":22,\"xref\":\"x\",\"y\":\"HVAC_HeatPumpOutdoorUnitPower\",\"yref\":\"y\"},{\"showarrow\":false,\"text\":\"0.33\",\"x\":23,\"xref\":\"x\",\"y\":\"HVAC_HeatPumpOutdoorUnitPower\",\"yref\":\"y\"},{\"showarrow\":false,\"text\":\"nan\",\"x\":0,\"xref\":\"x\",\"y\":\"HVAC_DehumidifierPower\",\"yref\":\"y\"},{\"showarrow\":false,\"text\":\"nan\",\"x\":1,\"xref\":\"x\",\"y\":\"HVAC_DehumidifierPower\",\"yref\":\"y\"},{\"showarrow\":false,\"text\":\"nan\",\"x\":2,\"xref\":\"x\",\"y\":\"HVAC_DehumidifierPower\",\"yref\":\"y\"},{\"showarrow\":false,\"text\":\"nan\",\"x\":3,\"xref\":\"x\",\"y\":\"HVAC_DehumidifierPower\",\"yref\":\"y\"},{\"showarrow\":false,\"text\":\"nan\",\"x\":4,\"xref\":\"x\",\"y\":\"HVAC_DehumidifierPower\",\"yref\":\"y\"},{\"showarrow\":false,\"text\":\"nan\",\"x\":5,\"xref\":\"x\",\"y\":\"HVAC_DehumidifierPower\",\"yref\":\"y\"},{\"showarrow\":false,\"text\":\"nan\",\"x\":6,\"xref\":\"x\",\"y\":\"HVAC_DehumidifierPower\",\"yref\":\"y\"},{\"showarrow\":false,\"text\":\"nan\",\"x\":7,\"xref\":\"x\",\"y\":\"HVAC_DehumidifierPower\",\"yref\":\"y\"},{\"showarrow\":false,\"text\":\"nan\",\"x\":8,\"xref\":\"x\",\"y\":\"HVAC_DehumidifierPower\",\"yref\":\"y\"},{\"showarrow\":false,\"text\":\"nan\",\"x\":9,\"xref\":\"x\",\"y\":\"HVAC_DehumidifierPower\",\"yref\":\"y\"},{\"showarrow\":false,\"text\":\"nan\",\"x\":10,\"xref\":\"x\",\"y\":\"HVAC_DehumidifierPower\",\"yref\":\"y\"},{\"showarrow\":false,\"text\":\"nan\",\"x\":11,\"xref\":\"x\",\"y\":\"HVAC_DehumidifierPower\",\"yref\":\"y\"},{\"showarrow\":false,\"text\":\"nan\",\"x\":12,\"xref\":\"x\",\"y\":\"HVAC_DehumidifierPower\",\"yref\":\"y\"},{\"showarrow\":false,\"text\":\"nan\",\"x\":13,\"xref\":\"x\",\"y\":\"HVAC_DehumidifierPower\",\"yref\":\"y\"},{\"showarrow\":false,\"text\":\"nan\",\"x\":14,\"xref\":\"x\",\"y\":\"HVAC_DehumidifierPower\",\"yref\":\"y\"},{\"showarrow\":false,\"text\":\"nan\",\"x\":15,\"xref\":\"x\",\"y\":\"HVAC_DehumidifierPower\",\"yref\":\"y\"},{\"showarrow\":false,\"text\":\"nan\",\"x\":16,\"xref\":\"x\",\"y\":\"HVAC_DehumidifierPower\",\"yref\":\"y\"},{\"showarrow\":false,\"text\":\"nan\",\"x\":17,\"xref\":\"x\",\"y\":\"HVAC_DehumidifierPower\",\"yref\":\"y\"},{\"showarrow\":false,\"text\":\"nan\",\"x\":18,\"xref\":\"x\",\"y\":\"HVAC_DehumidifierPower\",\"yref\":\"y\"},{\"showarrow\":false,\"text\":\"nan\",\"x\":19,\"xref\":\"x\",\"y\":\"HVAC_DehumidifierPower\",\"yref\":\"y\"},{\"showarrow\":false,\"text\":\"nan\",\"x\":20,\"xref\":\"x\",\"y\":\"HVAC_DehumidifierPower\",\"yref\":\"y\"},{\"showarrow\":false,\"text\":\"nan\",\"x\":21,\"xref\":\"x\",\"y\":\"HVAC_DehumidifierPower\",\"yref\":\"y\"},{\"showarrow\":false,\"text\":\"nan\",\"x\":22,\"xref\":\"x\",\"y\":\"HVAC_DehumidifierPower\",\"yref\":\"y\"},{\"showarrow\":false,\"text\":\"nan\",\"x\":23,\"xref\":\"x\",\"y\":\"HVAC_DehumidifierPower\",\"yref\":\"y\"}],\"margin\":{\"b\":30,\"l\":30,\"r\":30,\"t\":50},\"template\":{\"data\":{\"bar\":[{\"error_x\":{\"color\":\"#2a3f5f\"},\"error_y\":{\"color\":\"#2a3f5f\"},\"marker\":{\"line\":{\"color\":\"#E5ECF6\",\"width\":0.5},\"pattern\":{\"fillmode\":\"overlay\",\"size\":10,\"solidity\":0.2}},\"type\":\"bar\"}],\"barpolar\":[{\"marker\":{\"line\":{\"color\":\"#E5ECF6\",\"width\":0.5},\"pattern\":{\"fillmode\":\"overlay\",\"size\":10,\"solidity\":0.2}},\"type\":\"barpolar\"}],\"carpet\":[{\"aaxis\":{\"endlinecolor\":\"#2a3f5f\",\"gridcolor\":\"white\",\"linecolor\":\"white\",\"minorgridcolor\":\"white\",\"startlinecolor\":\"#2a3f5f\"},\"baxis\":{\"endlinecolor\":\"#2a3f5f\",\"gridcolor\":\"white\",\"linecolor\":\"white\",\"minorgridcolor\":\"white\",\"startlinecolor\":\"#2a3f5f\"},\"type\":\"carpet\"}],\"choropleth\":[{\"colorbar\":{\"outlinewidth\":0,\"ticks\":\"\"},\"type\":\"choropleth\"}],\"contour\":[{\"colorbar\":{\"outlinewidth\":0,\"ticks\":\"\"},\"colorscale\":[[0.0,\"#0d0887\"],[0.1111111111111111,\"#46039f\"],[0.2222222222222222,\"#7201a8\"],[0.3333333333333333,\"#9c179e\"],[0.4444444444444444,\"#bd3786\"],[0.5555555555555556,\"#d8576b\"],[0.6666666666666666,\"#ed7953\"],[0.7777777777777778,\"#fb9f3a\"],[0.8888888888888888,\"#fdca26\"],[1.0,\"#f0f921\"]],\"type\":\"contour\"}],\"contourcarpet\":[{\"colorbar\":{\"outlinewidth\":0,\"ticks\":\"\"},\"type\":\"contourcarpet\"}],\"heatmap\":[{\"colorbar\":{\"outlinewidth\":0,\"ticks\":\"\"},\"colorscale\":[[0.0,\"#0d0887\"],[0.1111111111111111,\"#46039f\"],[0.2222222222222222,\"#7201a8\"],[0.3333333333333333,\"#9c179e\"],[0.4444444444444444,\"#bd3786\"],[0.5555555555555556,\"#d8576b\"],[0.6666666666666666,\"#ed7953\"],[0.7777777777777778,\"#fb9f3a\"],[0.8888888888888888,\"#fdca26\"],[1.0,\"#f0f921\"]],\"type\":\"heatmap\"}],\"heatmapgl\":[{\"colorbar\":{\"outlinewidth\":0,\"ticks\":\"\"},\"colorscale\":[[0.0,\"#0d0887\"],[0.1111111111111111,\"#46039f\"],[0.2222222222222222,\"#7201a8\"],[0.3333333333333333,\"#9c179e\"],[0.4444444444444444,\"#bd3786\"],[0.5555555555555556,\"#d8576b\"],[0.6666666666666666,\"#ed7953\"],[0.7777777777777778,\"#fb9f3a\"],[0.8888888888888888,\"#fdca26\"],[1.0,\"#f0f921\"]],\"type\":\"heatmapgl\"}],\"histogram\":[{\"marker\":{\"pattern\":{\"fillmode\":\"overlay\",\"size\":10,\"solidity\":0.2}},\"type\":\"histogram\"}],\"histogram2d\":[{\"colorbar\":{\"outlinewidth\":0,\"ticks\":\"\"},\"colorscale\":[[0.0,\"#0d0887\"],[0.1111111111111111,\"#46039f\"],[0.2222222222222222,\"#7201a8\"],[0.3333333333333333,\"#9c179e\"],[0.4444444444444444,\"#bd3786\"],[0.5555555555555556,\"#d8576b\"],[0.6666666666666666,\"#ed7953\"],[0.7777777777777778,\"#fb9f3a\"],[0.8888888888888888,\"#fdca26\"],[1.0,\"#f0f921\"]],\"type\":\"histogram2d\"}],\"histogram2dcontour\":[{\"colorbar\":{\"outlinewidth\":0,\"ticks\":\"\"},\"colorscale\":[[0.0,\"#0d0887\"],[0.1111111111111111,\"#46039f\"],[0.2222222222222222,\"#7201a8\"],[0.3333333333333333,\"#9c179e\"],[0.4444444444444444,\"#bd3786\"],[0.5555555555555556,\"#d8576b\"],[0.6666666666666666,\"#ed7953\"],[0.7777777777777778,\"#fb9f3a\"],[0.8888888888888888,\"#fdca26\"],[1.0,\"#f0f921\"]],\"type\":\"histogram2dcontour\"}],\"mesh3d\":[{\"colorbar\":{\"outlinewidth\":0,\"ticks\":\"\"},\"type\":\"mesh3d\"}],\"parcoords\":[{\"line\":{\"colorbar\":{\"outlinewidth\":0,\"ticks\":\"\"}},\"type\":\"parcoords\"}],\"pie\":[{\"automargin\":true,\"type\":\"pie\"}],\"scatter\":[{\"marker\":{\"colorbar\":{\"outlinewidth\":0,\"ticks\":\"\"}},\"type\":\"scatter\"}],\"scatter3d\":[{\"line\":{\"colorbar\":{\"outlinewidth\":0,\"ticks\":\"\"}},\"marker\":{\"colorbar\":{\"outlinewidth\":0,\"ticks\":\"\"}},\"type\":\"scatter3d\"}],\"scattercarpet\":[{\"marker\":{\"colorbar\":{\"outlinewidth\":0,\"ticks\":\"\"}},\"type\":\"scattercarpet\"}],\"scattergeo\":[{\"marker\":{\"colorbar\":{\"outlinewidth\":0,\"ticks\":\"\"}},\"type\":\"scattergeo\"}],\"scattergl\":[{\"marker\":{\"colorbar\":{\"outlinewidth\":0,\"ticks\":\"\"}},\"type\":\"scattergl\"}],\"scattermapbox\":[{\"marker\":{\"colorbar\":{\"outlinewidth\":0,\"ticks\":\"\"}},\"type\":\"scattermapbox\"}],\"scatterpolar\":[{\"marker\":{\"colorbar\":{\"outlinewidth\":0,\"ticks\":\"\"}},\"type\":\"scatterpolar\"}],\"scatterpolargl\":[{\"marker\":{\"colorbar\":{\"outlinewidth\":0,\"ticks\":\"\"}},\"type\":\"scatterpolargl\"}],\"scatterternary\":[{\"marker\":{\"colorbar\":{\"outlinewidth\":0,\"ticks\":\"\"}},\"type\":\"scatterternary\"}],\"surface\":[{\"colorbar\":{\"outlinewidth\":0,\"ticks\":\"\"},\"colorscale\":[[0.0,\"#0d0887\"],[0.1111111111111111,\"#46039f\"],[0.2222222222222222,\"#7201a8\"],[0.3333333333333333,\"#9c179e\"],[0.4444444444444444,\"#bd3786\"],[0.5555555555555556,\"#d8576b\"],[0.6666666666666666,\"#ed7953\"],[0.7777777777777778,\"#fb9f3a\"],[0.8888888888888888,\"#fdca26\"],[1.0,\"#f0f921\"]],\"type\":\"surface\"}],\"table\":[{\"cells\":{\"fill\":{\"color\":\"#EBF0F8\"},\"line\":{\"color\":\"white\"}},\"header\":{\"fill\":{\"color\":\"#C8D4E3\"},\"line\":{\"color\":\"white\"}},\"type\":\"table\"}]},\"layout\":{\"annotationdefaults\":{\"arrowcolor\":\"#2a3f5f\",\"arrowhead\":0,\"arrowwidth\":1},\"autotypenumbers\":\"strict\",\"coloraxis\":{\"colorbar\":{\"outlinewidth\":0,\"ticks\":\"\"}},\"colorscale\":{\"diverging\":[[0,\"#8e0152\"],[0.1,\"#c51b7d\"],[0.2,\"#de77ae\"],[0.3,\"#f1b6da\"],[0.4,\"#fde0ef\"],[0.5,\"#f7f7f7\"],[0.6,\"#e6f5d0\"],[0.7,\"#b8e186\"],[0.8,\"#7fbc41\"],[0.9,\"#4d9221\"],[1,\"#276419\"]],\"sequential\":[[0.0,\"#0d0887\"],[0.1111111111111111,\"#46039f\"],[0.2222222222222222,\"#7201a8\"],[0.3333333333333333,\"#9c179e\"],[0.4444444444444444,\"#bd3786\"],[0.5555555555555556,\"#d8576b\"],[0.6666666666666666,\"#ed7953\"],[0.7777777777777778,\"#fb9f3a\"],[0.8888888888888888,\"#fdca26\"],[1.0,\"#f0f921\"]],\"sequentialminus\":[[0.0,\"#0d0887\"],[0.1111111111111111,\"#46039f\"],[0.2222222222222222,\"#7201a8\"],[0.3333333333333333,\"#9c179e\"],[0.4444444444444444,\"#bd3786\"],[0.5555555555555556,\"#d8576b\"],[0.6666666666666666,\"#ed7953\"],[0.7777777777777778,\"#fb9f3a\"],[0.8888888888888888,\"#fdca26\"],[1.0,\"#f0f921\"]]},\"colorway\":[\"#636efa\",\"#EF553B\",\"#00cc96\",\"#ab63fa\",\"#FFA15A\",\"#19d3f3\",\"#FF6692\",\"#B6E880\",\"#FF97FF\",\"#FECB52\"],\"font\":{\"color\":\"#2a3f5f\"},\"geo\":{\"bgcolor\":\"white\",\"lakecolor\":\"white\",\"landcolor\":\"#E5ECF6\",\"showlakes\":true,\"showland\":true,\"subunitcolor\":\"white\"},\"hoverlabel\":{\"align\":\"left\"},\"hovermode\":\"closest\",\"mapbox\":{\"style\":\"light\"},\"paper_bgcolor\":\"white\",\"plot_bgcolor\":\"#E5ECF6\",\"polar\":{\"angularaxis\":{\"gridcolor\":\"white\",\"linecolor\":\"white\",\"ticks\":\"\"},\"bgcolor\":\"#E5ECF6\",\"radialaxis\":{\"gridcolor\":\"white\",\"linecolor\":\"white\",\"ticks\":\"\"}},\"scene\":{\"xaxis\":{\"backgroundcolor\":\"#E5ECF6\",\"gridcolor\":\"white\",\"gridwidth\":2,\"linecolor\":\"white\",\"showbackground\":true,\"ticks\":\"\",\"zerolinecolor\":\"white\"},\"yaxis\":{\"backgroundcolor\":\"#E5ECF6\",\"gridcolor\":\"white\",\"gridwidth\":2,\"linecolor\":\"white\",\"showbackground\":true,\"ticks\":\"\",\"zerolinecolor\":\"white\"},\"zaxis\":{\"backgroundcolor\":\"#E5ECF6\",\"gridcolor\":\"white\",\"gridwidth\":2,\"linecolor\":\"white\",\"showbackground\":true,\"ticks\":\"\",\"zerolinecolor\":\"white\"}},\"shapedefaults\":{\"line\":{\"color\":\"#2a3f5f\"}},\"ternary\":{\"aaxis\":{\"gridcolor\":\"white\",\"linecolor\":\"white\",\"ticks\":\"\"},\"baxis\":{\"gridcolor\":\"white\",\"linecolor\":\"white\",\"ticks\":\"\"},\"bgcolor\":\"#E5ECF6\",\"caxis\":{\"gridcolor\":\"white\",\"linecolor\":\"white\",\"ticks\":\"\"}},\"title\":{\"x\":0.05},\"xaxis\":{\"automargin\":true,\"gridcolor\":\"white\",\"linecolor\":\"white\",\"ticks\":\"\",\"title\":{\"standoff\":15},\"zerolinecolor\":\"white\",\"zerolinewidth\":2},\"yaxis\":{\"automargin\":true,\"gridcolor\":\"white\",\"linecolor\":\"white\",\"ticks\":\"\",\"title\":{\"standoff\":15},\"zerolinecolor\":\"white\",\"zerolinewidth\":2}}},\"xaxis\":{\"nticks\":30,\"title\":{\"text\":\"Hour of day\"}},\"yaxis\":{\"showticklabels\":true,\"title\":{\"text\":\"Appliance\"}}},                        {\"responsive\": true}                    ).then(function(){\n                            \nvar gd = document.getElementById('42aaaa36-fdd3-4c4b-8848-d651f94c650e');\nvar x = new MutationObserver(function (mutations, observer) {{\n        var display = window.getComputedStyle(gd).display;\n        if (!display || display === 'none') {{\n            console.log([gd, 'removed!']);\n            Plotly.purge(gd);\n            observer.disconnect();\n        }}\n}});\n\n// Listen for the removal of the full notebook cells\nvar notebookContainer = gd.closest('#notebook-container');\nif (notebookContainer) {{\n    x.observe(notebookContainer, {childList: true});\n}}\n\n// Listen for the clearing of the current output cell\nvar outputEl = gd.closest('.output');\nif (outputEl) {{\n    x.observe(outputEl, {childList: true});\n}}\n\n                        })                };                });            </script>        </div>"
     },
     "metadata": {},
     "output_type": "display_data"
    }
   ],
   "source": [
    "\"\"\"\n",
    "THIS CODE IS WRONG. IT TAKES CONSUMPTION COLUMNS. IT SHOULD TAKE STATUS COLUMNS.\n",
    "\"\"\"\n",
    "\n",
    "#Forces Timestamp to the type of datetime, to extract the hour of Timestamp.\n",
    "year1_hourly[\"Timestamp\"] = pd.to_datetime(year1_hourly[\"Timestamp\"], format=\"%Y-%m-%d %H:%M:%S%z\",\n",
    "                                           utc=True) - pd.to_timedelta(unit=\"h\", arg=(\n",
    "year1_hourly[\"Timestamp\"].str.split(pat=\"-\", expand=True)[lambda self: self.columns[-1]].str[1]).astype(int))\n",
    "\n",
    "#Extracts hour of Timestamp.\n",
    "year1_hourly[\"HourOfTimestamp\"] = year1_hourly.Timestamp.dt.hour\n",
    "\n",
    "#Replaces values to be binary 0 or 1.\n",
    "for i in consumption:\n",
    "    year1_hourly.loc[year1_hourly[i] < 0, i] = 0\n",
    "    year1_hourly.loc[year1_hourly[i] > 0, i] = 1\n",
    "\n",
    "#Creates a dataframe with counts of \"StatusOffOn\" = 1, grouped by HourOfTimestamp for all attributes in year1_hours\n",
    "hourON_all = year1_hourly.groupby([\"HourOfTimestamp\"])[consumption].sum()\n",
    "\n",
    "#set up data to heatmap\n",
    "columns = hourON_all.columns[1:].tolist()\n",
    "hourON_all[columns] = normalise_dataframe(hourON_all[columns])\n",
    "hourON_all[\"HourOfTimestamp\"] = hourON_all.index\n",
    "z_data = []\n",
    "for i in hourON_all[columns]:\n",
    "    data_list = hourON_all[i].round(2).values.tolist()\n",
    "    z_data.append(data_list)\n",
    "\n",
    "#Annotate z_values\n",
    "annotations = go.Annotations()\n",
    "for n, row in enumerate(z_data):\n",
    "    for m, val in enumerate(row):\n",
    "        annotations.append(go.Annotation(text=\"\" if z_data[n][m] == 0 else str(z_data[n][m]),\n",
    "                                         x=hourON_all[\"HourOfTimestamp\"][m], y=columns[n], xref='x1', yref='y1',\n",
    "                                         showarrow=False))\n",
    "\n",
    "#Create heatmap\n",
    "fig = go.Figure(data=go.Heatmap(\n",
    "    z=z_data,\n",
    "    x=hourON_all[\"HourOfTimestamp\"],\n",
    "    y=columns,\n",
    "    colorscale='Teal')\n",
    ")\n",
    "\n",
    "fig.update_layout(\n",
    "    margin=dict(\n",
    "        l=30,\n",
    "        r=30,\n",
    "        b=30,\n",
    "        t=50, ),\n",
    "    xaxis_nticks=30,\n",
    "    annotations=annotations)\n",
    "\n",
    "fig.update_xaxes(title=\"Hour of day\")\n",
    "fig.update_yaxes(title=\"Appliance\", showticklabels=True)\n",
    "\n",
    "fig.show()"
   ],
   "metadata": {
    "collapsed": false,
    "pycharm": {
     "name": "#%%\n"
    }
   }
  },
  {
   "cell_type": "code",
   "execution_count": null,
   "outputs": [],
   "source": [],
   "metadata": {
    "collapsed": false,
    "pycharm": {
     "name": "#%%\n"
    }
   }
  }
 ],
 "metadata": {
  "kernelspec": {
   "display_name": "Python 3",
   "language": "python",
   "name": "python3"
  },
  "language_info": {
   "codemirror_mode": {
    "name": "ipython",
    "version": 2
   },
   "file_extension": ".py",
   "mimetype": "text/x-python",
   "name": "python",
   "nbconvert_exporter": "python",
   "pygments_lexer": "ipython2",
   "version": "2.7.6"
  }
 },
 "nbformat": 4,
 "nbformat_minor": 0
}
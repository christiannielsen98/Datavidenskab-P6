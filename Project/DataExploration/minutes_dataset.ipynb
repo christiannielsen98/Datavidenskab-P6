{
 "cells": [
  {
   "cell_type": "code",
   "execution_count": null,
   "outputs": [],
   "source": [
    "import re\n",
    "\n",
    "import pandas as pd\n",
    "import plotly.express as px\n",
    "\n",
    "from Database import Db"
   ],
   "metadata": {
    "collapsed": false,
    "pycharm": {
     "name": "#%%\n"
    }
   }
  },
  {
   "cell_type": "code",
   "execution_count": null,
   "outputs": [],
   "source": [
    "year1_minutes, meta = Db.load_data(hourly=False, meta=True)\n",
    "year2_minutes = Db.load_data(hourly=False, year=2)"
   ],
   "metadata": {
    "collapsed": false,
    "pycharm": {
     "name": "#%%\n"
    }
   }
  },
  {
   "cell_type": "code",
   "execution_count": null,
   "outputs": [],
   "source": [
    "year1_minutes[\"Timestamp\"] = pd.to_datetime(year1_minutes[\"Timestamp\"], format=\"%Y-%m-%d %H:%M:%S%z\")"
   ],
   "metadata": {
    "collapsed": false,
    "pycharm": {
     "name": "#%%\n"
    }
   }
  },
  {
   "cell_type": "code",
   "execution_count": null,
   "outputs": [],
   "source": [
    "year1_minutes.head()"
   ],
   "metadata": {
    "collapsed": false,
    "pycharm": {
     "name": "#%%\n"
    }
   }
  },
  {
   "cell_type": "code",
   "execution_count": null,
   "outputs": [],
   "source": [
    "year1_minutes.describe().T"
   ],
   "metadata": {
    "collapsed": false,
    "pycharm": {
     "name": "#%%\n"
    }
   }
  },
  {
   "cell_type": "code",
   "execution_count": null,
   "outputs": [],
   "source": [
    "year1_minutes.columns.difference(year2_minutes.columns)"
   ],
   "metadata": {
    "collapsed": false,
    "pycharm": {
     "name": "#%%\n"
    }
   }
  },
  {
   "cell_type": "code",
   "execution_count": null,
   "outputs": [],
   "source": [
    "year2_minutes.columns.difference(year1_minutes.columns)"
   ],
   "metadata": {
    "collapsed": false,
    "pycharm": {
     "name": "#%%\n"
    }
   }
  },
  {
   "cell_type": "code",
   "execution_count": null,
   "outputs": [],
   "source": [
    "del year2_minutes"
   ],
   "metadata": {
    "collapsed": false,
    "pycharm": {
     "name": "#%%\n"
    }
   }
  },
  {
   "cell_type": "code",
   "execution_count": null,
   "outputs": [],
   "source": [
    "totals = [x for x in year1_minutes.columns if \"Total\" in x]\n",
    "totals"
   ],
   "metadata": {
    "collapsed": false,
    "pycharm": {
     "name": "#%%\n"
    }
   }
  },
  {
   "cell_type": "code",
   "execution_count": null,
   "outputs": [],
   "source": [
    "fig = px.scatter(year1_minutes, x=\"Timestamp\", y=\"Load_KPlugLoadsPowerUsage\", color=\"Load_StatusPlugLoadToaster\")\n",
    "fig.show()"
   ],
   "metadata": {
    "collapsed": false,
    "pycharm": {
     "name": "#%%\n"
    }
   }
  },
  {
   "cell_type": "code",
   "execution_count": null,
   "outputs": [],
   "source": [
    "plugs = meta.loc[(meta['Parameter'] == \"Status_OnOff\") & (meta[\"Measurement_Location\"] == \"Kitchen\") & (\n",
    "    meta[\"Unnamed: 0\"].str.contains(\"Plug\"))][\"Unnamed: 0\"].tolist()"
   ],
   "metadata": {
    "collapsed": false,
    "pycharm": {
     "name": "#%%\n"
    }
   }
  },
  {
   "cell_type": "code",
   "execution_count": null,
   "outputs": [],
   "source": [
    "kitchenplugs = year1_minutes.loc[0:10000, [\"Timestamp\", \"Load_KPlugLoadsPowerUsage\"] + plugs].copy()\n",
    "del year1_minutes\n",
    "kitchenplugs[\"Status\"] = kitchenplugs[plugs].sum(axis=1)"
   ],
   "metadata": {
    "collapsed": false,
    "pycharm": {
     "name": "#%%\n"
    }
   }
  },
  {
   "cell_type": "code",
   "execution_count": null,
   "outputs": [],
   "source": [
    "(kitchenplugs[plugs] < 0) | (kitchenplugs[plugs] > 1)"
   ],
   "metadata": {
    "collapsed": false,
    "pycharm": {
     "name": "#%%\n"
    }
   }
  },
  {
   "cell_type": "code",
   "execution_count": null,
   "outputs": [],
   "source": [
    "appliance_dict = {}\n",
    "for appliance in plugs:\n",
    "    name = \" \".join(re.findall('[A-Z][^A-Z]*', appliance.split(\"Load\")[-1]))\n",
    "    appliance_switch = kitchenplugs[(kitchenplugs[appliance] != kitchenplugs[appliance].shift(1))][\n",
    "                           [\"Timestamp\", appliance]][1:]\n",
    "    appliance_dict[name] = pd.DataFrame(\n",
    "        {\"Timestamp\": [appliance_switch.loc[index, \"Timestamp\"] for index in appliance_switch.index],\n",
    "         \"Appliance\": name,\n",
    "         \"Color\": [\"green\" if appliance_switch.loc[index, appliance] == 1 else \"red\" for index in\n",
    "                   appliance_switch.index]})\n",
    "\n",
    "appliance_dict"
   ],
   "metadata": {
    "collapsed": false,
    "pycharm": {
     "name": "#%%\n"
    }
   }
  },
  {
   "cell_type": "code",
   "execution_count": null,
   "outputs": [],
   "source": [
    "fig = px.scatter(kitchenplugs, x=kitchenplugs[\"Timestamp\"], y=\"Load_KPlugLoadsPowerUsage\", color=\"Status\")\n",
    "\n",
    "height = 1\n",
    "for appliance, df in appliance_dict.items():\n",
    "    for index in df.index:\n",
    "        x = df.loc[index, \"Timestamp\"].timestamp() * 1000 - (2 + int(str(df.loc[index, \"Timestamp\"]).split(\"-\")[-1][\n",
    "                                                                         1])) * 3_600_000  #Plotly bug work around. Computes unix time with offset\n",
    "        fig.add_vline(x=x,\n",
    "                      line_width=3,\n",
    "                      line_dash=\"dash\",\n",
    "                      annotation_text=df.loc[index, \"Appliance\"],\n",
    "                      line_color=df.loc[index, \"Color\"],\n",
    "                      annotation_y=height)\n",
    "    height -= 0.05\n",
    "\n",
    "fig.update_layout(\n",
    "    xaxis={'type': 'date', 'tickformat': '%Y-%m-%d %H:%M:%S'}\n",
    ")\n",
    "\n",
    "fig.update_layout(\n",
    "    xaxis_tickformatstops=[\n",
    "        dict(dtickrange=[None, 60000], value=\"%H:%M:%S\\n%d %b %y\"),\n",
    "        dict(dtickrange=[60000, 3600000], value=\"%H:%M\\n%d %b %y\"),\n",
    "        dict(dtickrange=[3600000, 86400000], value=\"%d %b %Y\")\n",
    "    ]\n",
    ")\n",
    "\n",
    "fig.show()"
   ],
   "metadata": {
    "collapsed": false,
    "pycharm": {
     "name": "#%%\n"
    }
   }
  },
  {
   "cell_type": "code",
   "execution_count": null,
   "outputs": [],
   "source": [
    "kitchenplugs[kitchenplugs[\"Load_StatusPlugLoadToasterOven\"] == 1][[\"Timestamp\", \"Load_StatusPlugLoadToasterOven\"]]"
   ],
   "metadata": {
    "collapsed": false,
    "pycharm": {
     "name": "#%%\n"
    }
   }
  },
  {
   "cell_type": "code",
   "execution_count": null,
   "outputs": [],
   "source": [],
   "metadata": {
    "collapsed": false,
    "pycharm": {
     "name": "#%%\n"
    }
   }
  }
 ],
 "metadata": {
  "kernelspec": {
   "display_name": "Python 3",
   "language": "python",
   "name": "python3"
  },
  "language_info": {
   "codemirror_mode": {
    "name": "ipython",
    "version": 2
   },
   "file_extension": ".py",
   "mimetype": "text/x-python",
   "name": "python",
   "nbconvert_exporter": "python",
   "pygments_lexer": "ipython2",
   "version": "2.7.6"
  }
 },
 "nbformat": 4,
 "nbformat_minor": 0
}
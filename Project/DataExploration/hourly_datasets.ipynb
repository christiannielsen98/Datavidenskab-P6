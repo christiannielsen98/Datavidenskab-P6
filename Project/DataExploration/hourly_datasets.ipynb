{
 "cells": [
  {
   "cell_type": "code",
   "execution_count": null,
   "outputs": [],
   "source": [
    "import re\n",
    "\n",
    "import pandas as pd\n",
    "import plotly.express as px\n",
    "\n",
    "from Database import Db\n"
   ],
   "metadata": {
    "collapsed": false,
    "pycharm": {
     "name": "#%%\n"
    }
   }
  },
  {
   "cell_type": "code",
   "execution_count": null,
   "outputs": [],
   "source": [
    "year1_hour = Db.load_data(hourly=True)\n",
    "year2_hour = Db.load_data(hourly=True, year=2)"
   ],
   "metadata": {
    "collapsed": false,
    "pycharm": {
     "name": "#%%\n"
    }
   }
  },
  {
   "cell_type": "code",
   "execution_count": null,
   "outputs": [],
   "source": [
    "total_instant_energy_produced1 = year1_hour[production].sum(axis=1)\n",
    "\n",
    "total_instant_energy_consumed1 = year1_hour[consumption].sum(axis=1)\n",
    "\n",
    "instant_power_balance1 = total_instant_energy_produced1 - total_instant_energy_consumed1\n",
    "\n",
    "instant_power_balance_cummulative1 = instant_power_balance1.cumsum()\n",
    "\n",
    "total_instant_energy_produced2 = year2_hour[production].sum(axis=1)\n",
    "\n",
    "total_instant_energy_consumed2 = year2_hour[consumption].sum(axis=1)\n",
    "\n",
    "instant_power_balance2 = total_instant_energy_produced2 - total_instant_energy_consumed2\n",
    "\n",
    "instant_power_balance_cummulative2 = instant_power_balance2.cumsum()"
   ],
   "metadata": {
    "collapsed": false,
    "pycharm": {
     "name": "#%%\n"
    }
   }
  },
  {
   "cell_type": "code",
   "execution_count": null,
   "outputs": [],
   "source": [
    "fig = px.scatter(year1_hour, x=\"Timestamp\", y=total_instant_energy_produced1.cumsum())\n",
    "fig.show()"
   ],
   "metadata": {
    "collapsed": false,
    "pycharm": {
     "name": "#%%\n"
    }
   }
  },
  {
   "cell_type": "code",
   "execution_count": null,
   "outputs": [],
   "source": [
    "fig = px.scatter(year1_hour, x=\"Timestamp\", y=total_instant_energy_consumed1.cumsum())\n",
    "fig.show()"
   ],
   "metadata": {
    "collapsed": false,
    "pycharm": {
     "name": "#%%\n"
    }
   }
  },
  {
   "cell_type": "code",
   "execution_count": null,
   "outputs": [],
   "source": [
    "fig = px.scatter(year1_hour, x=\"Timestamp\", y=instant_power_balance1)\n",
    "fig.show()"
   ],
   "metadata": {
    "collapsed": false,
    "pycharm": {
     "name": "#%%\n"
    }
   }
  },
  {
   "cell_type": "code",
   "execution_count": null,
   "outputs": [],
   "source": [
    "fig = px.line(year1_hour, x=\"Timestamp\", y=instant_power_balance_cummulative1)\n",
    "fig.show()"
   ],
   "metadata": {
    "collapsed": false,
    "pycharm": {
     "name": "#%%\n"
    }
   }
  },
  {
   "cell_type": "code",
   "execution_count": null,
   "outputs": [],
   "source": [
    "fig = px.line(year2_hour, x=\"Timestamp\", y=instant_power_balance_cummulative2)\n",
    "fig.show()"
   ],
   "metadata": {
    "collapsed": false,
    "pycharm": {
     "name": "#%%\n"
    }
   }
  },
  {
   "cell_type": "code",
   "execution_count": null,
   "outputs": [],
   "source": [
    "instant_power_balance1.loc[instant_power_balance1 > 0].sum()"
   ],
   "metadata": {
    "collapsed": false,
    "pycharm": {
     "name": "#%%\n"
    }
   }
  },
  {
   "cell_type": "code",
   "execution_count": null,
   "outputs": [],
   "source": [
    "instant_power_balance2.loc[instant_power_balance2 > 0].sum()"
   ],
   "metadata": {
    "collapsed": false,
    "pycharm": {
     "name": "#%%\n"
    }
   }
  }
 ],
 "metadata": {
  "kernelspec": {
   "display_name": "Python 3",
   "language": "python",
   "name": "python3"
  },
  "language_info": {
   "codemirror_mode": {
    "name": "ipython",
    "version": 2
   },
   "file_extension": ".py",
   "mimetype": "text/x-python",
   "name": "python",
   "nbconvert_exporter": "python",
   "pygments_lexer": "ipython2",
   "version": "2.7.6"
  }
 },
 "nbformat": 4,
 "nbformat_minor": 0
}
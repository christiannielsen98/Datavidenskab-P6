{
 "cells": [
  {
   "cell_type": "code",
   "execution_count": 21,
   "outputs": [],
   "source": [
    "import plotly.express as px\n",
    "from Project.Database import Db\n",
    "from Project._07OptimiseConsumption.emission_reduction import create_gantt_data_and_event_dataframes, emission_reduction"
   ],
   "metadata": {
    "collapsed": false,
    "pycharm": {
     "name": "#%%\n"
    }
   }
  },
  {
   "cell_type": "code",
   "execution_count": 5,
   "outputs": [],
   "source": [
    "movable_appliances = ['Load_StatusApplianceDishwasher', 'Load_StatusPlugLoadVacuum', 'Load_StatusClothesWasher',\n",
    "                          'Load_StatusDryerPowerTotal', 'Load_StatusPlugLoadIron']"
   ],
   "metadata": {
    "collapsed": false,
    "pycharm": {
     "name": "#%%\n"
    }
   }
  },
  {
   "cell_type": "code",
   "execution_count": 6,
   "outputs": [],
   "source": [
    "%%time\n",
    "optim_year2 = emission_reduction(year=2)[0]"
   ],
   "metadata": {
    "collapsed": false,
    "pycharm": {
     "name": "#%%\n"
    }
   }
  },
  {
   "cell_type": "code",
   "execution_count": 7,
   "outputs": [],
   "source": [
    "appliance_job_list, uo_event_df, o_event_df = create_gantt_data_and_event_dataframes(optim=optim_year2)"
   ],
   "metadata": {
    "collapsed": false,
    "pycharm": {
     "name": "#%%\n"
    }
   }
  },
  {
   "cell_type": "code",
   "execution_count": 22,
   "outputs": [
    {
     "name": "stdout",
     "output_type": "stream",
     "text": [
      "CPU times: user 127 ms, sys: 21.1 ms, total: 148 ms\n",
      "Wall time: 153 ms\n"
     ]
    }
   ],
   "source": [
    "fig = px.timeline(appliance_job_list,\n",
    "                  x_start=\"start\",\n",
    "                  x_end=\"end\",\n",
    "                  y=\"appliance\",\n",
    "                  color='CO2 Emission (kg)',\n",
    "                  text='CO2 Emission (kg)',\n",
    "                  category_orders={\n",
    "                      \"appliance\": ['Dishwasher after',\n",
    "                                    'Dishwasher before',\n",
    "                                    'Clothes Washer after',\n",
    "                                    'Clothes Washer before',\n",
    "                                    'Dryer after',\n",
    "                                    'Dryer before',\n",
    "                                    'Iron after',\n",
    "                                    'Iron before',\n",
    "                                    'Vacuum after',\n",
    "                                    'Vacuum before']})\n",
    "fig.update_layout(template='plotly')\n",
    "fig.write_html(Db.get_save_file_directory(f\"Gantt/Gantt_of_optimisation.html\"))"
   ],
   "metadata": {
    "collapsed": false,
    "pycharm": {
     "name": "#%%\n"
    }
   }
  },
  {
   "cell_type": "code",
   "execution_count": 9,
   "outputs": [],
   "source": [
    "def compute_optimised_reduction(uo_event_df, o_event_df):\n",
    "    event_difference = (o_event_df.groupby('Day').size() - uo_event_df.groupby('Day').size() > 0).loc[lambda self: self]\n",
    "    uo_event_df.sum(), o_event_df.sum(), o_event_df.loc[\n",
    "        lambda self: self['Day'].isin(event_difference.index.tolist())].groupby(\n",
    "        'Day').max().sum()\n",
    "    unoptimised_emission = uo_event_df['CO2 Emission (kg)'].sum()\n",
    "    optimised_emission = o_event_df['CO2 Emission (kg)'].sum()\n",
    "    real_optimised_emission = (o_event_df['CO2 Emission (kg)'].sum() - o_event_df.loc[\n",
    "        lambda self: self['Day'].isin(event_difference.index.tolist())].groupby('Day').max().sum()).values[0]\n",
    "\n",
    "    print('Unoptimised emission value:', unoptimised_emission,\n",
    "          '\\nFalse optimised emission:  ', optimised_emission,\n",
    "          '\\nTrue Optimised emission value:  ', round(real_optimised_emission, 2),\n",
    "          '\\nEvent difference:\\n', event_difference)\n",
    "    return round(unoptimised_emission - real_optimised_emission, 2)"
   ],
   "metadata": {
    "collapsed": false,
    "pycharm": {
     "name": "#%%\n"
    }
   }
  },
  {
   "cell_type": "code",
   "execution_count": 10,
   "outputs": [
    {
     "name": "stdout",
     "output_type": "stream",
     "text": [
      "Unoptimised emission value: 301.49 \n",
      "False optimised emission:   320.85 \n",
      "True Optimised emission value:   268.14 \n",
      "Event difference:\n",
      " Day\n",
      "3      True\n",
      "10     True\n",
      "17     True\n",
      "24     True\n",
      "31     True\n",
      "38     True\n",
      "45     True\n",
      "52     True\n",
      "59     True\n",
      "66     True\n",
      "73     True\n",
      "80     True\n",
      "87     True\n",
      "94     True\n",
      "101    True\n",
      "108    True\n",
      "115    True\n",
      "122    True\n",
      "129    True\n",
      "136    True\n",
      "143    True\n",
      "150    True\n",
      "157    True\n",
      "164    True\n",
      "171    True\n",
      "178    True\n",
      "185    True\n",
      "192    True\n",
      "199    True\n",
      "206    True\n",
      "213    True\n",
      "220    True\n",
      "234    True\n",
      "241    True\n",
      "248    True\n",
      "255    True\n",
      "269    True\n",
      "276    True\n",
      "283    True\n",
      "290    True\n",
      "297    True\n",
      "304    True\n",
      "311    True\n",
      "318    True\n",
      "325    True\n",
      "332    True\n",
      "339    True\n",
      "346    True\n",
      "353    True\n",
      "360    True\n",
      "dtype: bool\n"
     ]
    }
   ],
   "source": [
    "emission_reduction_dict = {}\n",
    "emission_reduction_dict[f'Year2'] = compute_optimised_reduction(uo_event_df, o_event_df)"
   ],
   "metadata": {
    "collapsed": false,
    "pycharm": {
     "name": "#%%\n"
    }
   }
  },
  {
   "cell_type": "code",
   "execution_count": 11,
   "outputs": [],
   "source": [
    "optim_year1 = emission_reduction(year=1)[0]"
   ],
   "metadata": {
    "collapsed": false,
    "pycharm": {
     "name": "#%%\n"
    }
   }
  },
  {
   "cell_type": "code",
   "execution_count": 12,
   "outputs": [
    {
     "name": "stdout",
     "output_type": "stream",
     "text": [
      "Unoptimised emission value: 447.91999999999996 \n",
      "False optimised emission:   448.65999999999997 \n",
      "True Optimised emission value:   375.11 \n",
      "Event difference:\n",
      " Day\n",
      "16     True\n",
      "23     True\n",
      "30     True\n",
      "37     True\n",
      "44     True\n",
      "51     True\n",
      "58     True\n",
      "65     True\n",
      "72     True\n",
      "79     True\n",
      "86     True\n",
      "93     True\n",
      "100    True\n",
      "107    True\n",
      "114    True\n",
      "121    True\n",
      "128    True\n",
      "135    True\n",
      "142    True\n",
      "149    True\n",
      "156    True\n",
      "163    True\n",
      "170    True\n",
      "177    True\n",
      "184    True\n",
      "191    True\n",
      "198    True\n",
      "205    True\n",
      "212    True\n",
      "219    True\n",
      "226    True\n",
      "233    True\n",
      "240    True\n",
      "247    True\n",
      "254    True\n",
      "261    True\n",
      "268    True\n",
      "275    True\n",
      "282    True\n",
      "289    True\n",
      "296    True\n",
      "303    True\n",
      "310    True\n",
      "317    True\n",
      "324    True\n",
      "331    True\n",
      "338    True\n",
      "345    True\n",
      "352    True\n",
      "359    True\n",
      "dtype: bool\n"
     ]
    }
   ],
   "source": [
    "emission_reduction_dict[f'Year1'] = compute_optimised_reduction(*create_gantt_data_and_event_dataframes(optim=optim_year1)[1:])"
   ],
   "metadata": {
    "collapsed": false,
    "pycharm": {
     "name": "#%%\n"
    }
   }
  },
  {
   "cell_type": "code",
   "execution_count": 13,
   "outputs": [
    {
     "data": {
      "text/plain": "{'Year2': 33.35, 'Year1': 72.81}"
     },
     "execution_count": 13,
     "metadata": {},
     "output_type": "execute_result"
    }
   ],
   "source": [
    "emission_reduction_dict"
   ],
   "metadata": {
    "collapsed": false,
    "pycharm": {
     "name": "#%%\n"
    }
   }
  },
  {
   "cell_type": "code",
   "execution_count": 17,
   "outputs": [],
   "source": [
    "emmision_reduction_year1 = optim_year1['m.a.u.o'][[f'{appliance}Emission' for appliance in movable_appliances if 'Dryer' not in appliance]].sum()-optim_year1['m.a.o'][[f'{appliance}Emission' for appliance in movable_appliances if 'Dryer' not in appliance]].sum()\n",
    "\n",
    "emmision_reduction_year2 = optim_year2['m.a.u.o'][[f'{appliance}Emission' for appliance in movable_appliances if 'Dryer' not in appliance]].sum()-optim_year2['m.a.o'][[f'{appliance}Emission' for appliance in movable_appliances if 'Dryer' not in appliance]].sum()"
   ],
   "metadata": {
    "collapsed": false,
    "pycharm": {
     "name": "#%%\n"
    }
   }
  },
  {
   "cell_type": "code",
   "execution_count": 18,
   "outputs": [],
   "source": [
    "emmision_reduction_year1['Dryer'] = emission_reduction_dict['Year1']\n",
    "emmision_reduction_year2['Dryer'] = emission_reduction_dict['Year2']"
   ],
   "metadata": {
    "collapsed": false,
    "pycharm": {
     "name": "#%%\n"
    }
   }
  },
  {
   "cell_type": "code",
   "execution_count": 19,
   "outputs": [
    {
     "data": {
      "text/plain": "(82.45953076957892, 46.76056941574669)"
     },
     "execution_count": 19,
     "metadata": {},
     "output_type": "execute_result"
    }
   ],
   "source": [
    "emmision_reduction_year1.sum(), emmision_reduction_year2.sum()"
   ],
   "metadata": {
    "collapsed": false,
    "pycharm": {
     "name": "#%%\n"
    }
   }
  },
  {
   "cell_type": "code",
   "execution_count": null,
   "outputs": [],
   "source": [],
   "metadata": {
    "collapsed": false,
    "pycharm": {
     "name": "#%%\n"
    }
   }
  }
 ],
 "metadata": {
  "kernelspec": {
   "display_name": "Python 3",
   "language": "python",
   "name": "python3"
  },
  "language_info": {
   "codemirror_mode": {
    "name": "ipython",
    "version": 2
   },
   "file_extension": ".py",
   "mimetype": "text/x-python",
   "name": "python",
   "nbconvert_exporter": "python",
   "pygments_lexer": "ipython2",
   "version": "2.7.6"
  }
 },
 "nbformat": 4,
 "nbformat_minor": 0
}
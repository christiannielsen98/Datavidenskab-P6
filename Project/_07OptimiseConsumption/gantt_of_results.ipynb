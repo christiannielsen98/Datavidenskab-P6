{
 "cells": [
  {
   "cell_type": "code",
   "execution_count": 1,
   "outputs": [],
   "source": [
    "import pandas as pd\n",
    "import numpy as np\n",
    "import re\n",
    "\n",
    "import plotly.express as px\n",
    "import datetime\n",
    "from Project.Database import Db\n",
    "from Project._05InferKnowledgeOfRules.infer_rules_functions import SE_time_df, json_to_dataframe\n",
    "from Project._07OptimiseConsumption.optimisation_problem import NZERTF_optimiser, hourly_house_df\n",
    "from Project._07OptimiseConsumption.emission_reduction import emission_reduction"
   ],
   "metadata": {
    "collapsed": false,
    "pycharm": {
     "name": "#%%\n"
    }
   }
  },
  {
   "cell_type": "code",
   "execution_count": null,
   "outputs": [],
   "source": [
    "NZERTF_optimisation, NZERTF_emission = emission_reduction(year=2)"
   ],
   "metadata": {
    "collapsed": false,
    "pycharm": {
     "name": "#%%\n",
     "is_executing": true
    }
   }
  },
  {
   "cell_type": "code",
   "execution_count": null,
   "outputs": [],
   "source": [
    "NZERTF_meta = Db.load_data(hourly=False, meta=True, year=2, with_redundancy=True, consumption=False)"
   ],
   "metadata": {
    "collapsed": false,
    "pycharm": {
     "name": "#%%\n",
     "is_executing": true
    }
   }
  },
  {
   "cell_type": "code",
   "execution_count": null,
   "outputs": [],
   "source": [
    "def create_intervals(start_, end_, start_index_, end_index_, start_frac_, end_frac_):\n",
    "    if start_index_ != end_index_:\n",
    "        diff_start_ = start_ + pd.DateOffset(hours=1, minutes=0) - start_\n",
    "        minutes_start_ = diff_start_.seconds / 60 * start_frac_\n",
    "        start_ = start_ + pd.DateOffset(hours=1, minutes=0) - pd.DateOffset(hours=0, minutes=minutes_start_)\n",
    "\n",
    "        diff_end_ = end_ - (end_ - pd.DateOffset(hours=1, minutes=0))\n",
    "        minutes_end_ = diff_end_.seconds / 60 * end_frac_\n",
    "        end_ = end_ + pd.DateOffset(hours=0, minutes=minutes_end_)\n",
    "    else:\n",
    "        diff_start_ = start_ + pd.DateOffset(hours=1, minutes=0) - start_\n",
    "        minutes_start_ = diff_start_.seconds / 60 * start_frac_\n",
    "        start_ = start_ + pd.DateOffset(hours=1, minutes=0) - pd.DateOffset(hours=0, minutes=minutes_start_)\n",
    "\n",
    "        end_ = end_ + pd.DateOffset(hours=1, minutes=0)\n",
    "\n",
    "    return start_, end_"
   ],
   "metadata": {
    "collapsed": false,
    "pycharm": {
     "name": "#%%\n",
     "is_executing": true
    }
   }
  },
  {
   "cell_type": "code",
   "execution_count": null,
   "outputs": [],
   "source": [
    "appliance_job_list = []\n",
    "for df in [NZERTF_optimisation['m.a.u.o'], NZERTF_optimisation['m.a.o']]:\n",
    "    #Extract appliances from the meta data\n",
    "    appliance_condition = [x for x in NZERTF_optimisation['m.a.o'].columns.tolist() if \"Status\" in x and 'Emission' not in x and 'EventProportion' not in x]\n",
    "    appliance_location = pd.DataFrame(NZERTF_meta.loc[appliance_condition, \"Measurement_Location\"].sort_values(ascending=True))\n",
    "    #Combine minute data with the extracted appliances into a dataframe\n",
    "    minute_appliances_status = df[[\"Timestamp\"] + appliance_location.index.tolist()].copy()\n",
    "    for appliance, appliance_row in appliance_location.iterrows():\n",
    "        name = \" \".join(re.findall('[A-Z][^A-Z]*', ''.join(''.join(''.join(appliance.split('PowerTotal')).split('Appliance')).split('PlugLoad')).split(\"Load_Status\")[-1]))\n",
    "        appliance_switch = minute_appliances_status[(np.where(minute_appliances_status[appliance] > 0, 1, 0) != np.where(minute_appliances_status[appliance].shift(1)>0,1,0))][[\"Timestamp\", appliance]][1:]\n",
    "        appliance_switch.reset_index(inplace=True, drop=True)\n",
    "        event_length = df.loc[lambda self: self[appliance + 'EventProportion'] > 0, appliance].div(df.loc[lambda self: self[appliance + 'EventProportion'] > 0, appliance + 'EventProportion']).mean().round(4)\n",
    "        for index, row in appliance_switch.iterrows():\n",
    "            if row[appliance]:\n",
    "                try:\n",
    "                    start = row[\"Timestamp\"]\n",
    "                    end = appliance_switch.loc[index + 1, \"Timestamp\"] - pd.DateOffset(hours=1, minutes=0)\n",
    "                    start_index = df.loc[lambda self: self['Timestamp']==start].index.tolist()[0]\n",
    "                    end_index = df.loc[lambda self: self['Timestamp']==end].index.tolist()[0]\n",
    "                    start_frac = df.loc[lambda self: self['Timestamp']==start,appliance].values[0]\n",
    "                    end_frac = df.loc[lambda self: self['Timestamp']==end,appliance].values[0]\n",
    "\n",
    "                    events_indexes = df.loc[lambda self: self['Timestamp'].between(start, end)].index.tolist()\n",
    "                    events_length = df.loc[events_indexes, appliance].sum()\n",
    "                    event_proportion = df.loc[events_indexes, appliance + 'EventProportion'].sum()\n",
    "                    event_count = int(max(round(event_proportion, 0), 1))\n",
    "                    event_length = events_length / event_count\n",
    "\n",
    "                    start_row_frac = 1\n",
    "                    temp_start = start\n",
    "                    temp_start_index = start_index\n",
    "                    temp_start_frac = start_frac\n",
    "\n",
    "                    temp_end = start + pd.DateOffset(hours=int(event_length), minutes=0)\n",
    "                    temp_end_frac = df.loc[lambda self: self['Timestamp']==temp_end,appliance].values[0]\n",
    "\n",
    "                    for number in range(event_count):\n",
    "                        temp_end_index = df.loc[start_index: end_index+1].loc[lambda self: self[appliance].cumsum().div(event_length).subtract(number) >= 1, appliance].index[0]\n",
    "                        temp_end = df.loc[temp_end_index, 'Timestamp']\n",
    "                        end_row_frac = df.loc[start_index: temp_end_index, appliance].cumsum().div(event_length).subtract(number).round(4).values[-1]\n",
    "                        emission = df.loc[temp_start_index: temp_end_index, appliance + 'Emission'].round(2)\n",
    "                        emission[temp_start_index] = round(emission[temp_start_index] * start_row_frac, 2)\n",
    "\n",
    "                        if end_row_frac > 1:\n",
    "                            end_row_frac = round(2 - end_row_frac, 4)\n",
    "                            temp_end_frac = df.loc[temp_end_index, appliance] * end_row_frac\n",
    "                            emission[temp_end_index] = round(emission[temp_end_index] * end_row_frac, 2)\n",
    "                            next_start_row_frac = round(1 - end_row_frac, 4)\n",
    "                            next_start_index = temp_end_index.copy()\n",
    "                            next_start_frac = round(df.loc[temp_end_index, appliance] * next_start_row_frac, 4)\n",
    "                        else:\n",
    "                            temp_end_frac = df.loc[temp_end_index, appliance]\n",
    "                            next_start_row_frac = 1\n",
    "                            next_start_index = temp_end_index + 1\n",
    "                            next_start_frac = df.loc[temp_end_index + 1, appliance]\n",
    "\n",
    "                        event_start, event_end = create_intervals(temp_start, temp_end, temp_start_index, temp_end_index, temp_start_frac, temp_end_frac)\n",
    "\n",
    "                        if NZERTF_optimisation['m.a.u.o']['Emission'].sum() == df['Emission'].sum():\n",
    "                            appliance_job_list.append({\"appliance\": name+' before', \"start\": event_start,\n",
    "                                                           \"end\": event_end,\n",
    "                                                           \"location\": appliance_row[\"Measurement_Location\"],\n",
    "                                                       'CO2 Emission (kg)': round(emission.sum(), 2)})\n",
    "                        else:\n",
    "                            appliance_job_list.append({\"appliance\": name+' after',\n",
    "                                                       \"start\": event_start,\n",
    "                                                       \"end\": event_end,\n",
    "                                                       \"location\": appliance_row[\"Measurement_Location\"],\n",
    "                                                       'CO2 Emission (kg)': round(emission.sum(), 2)})\n",
    "\n",
    "                        start_row_frac = next_start_row_frac\n",
    "                        temp_start_index = next_start_index\n",
    "                        temp_start = df.loc[temp_start_index, 'Timestamp']\n",
    "                        temp_start_frac = next_start_frac\n",
    "\n",
    "                except:\n",
    "                    continue"
   ],
   "metadata": {
    "collapsed": false,
    "pycharm": {
     "name": "#%%\n",
     "is_executing": true
    }
   }
  },
  {
   "cell_type": "code",
   "execution_count": null,
   "outputs": [],
   "source": [
    "%%time\n",
    "fig = px.timeline(appliance_job_list, x_start=\"start\", x_end=\"end\", y=\"appliance\", color='CO2 Emission (kg)', text='CO2 Emission (kg)', category_orders={\"appliance\": [\n",
    "    'Dishwasher after',\n",
    "    'Dishwasher before',\n",
    "    'Clothes Washer after',\n",
    "    'Clothes Washer before',\n",
    "    'Dryer after',\n",
    "    'Dryer before',\n",
    "    'Iron after',\n",
    "    'Iron before',\n",
    "    'Vacuum after',\n",
    "    'Vacuum before']})\n",
    "fig.update_layout(template='plotly')"
   ],
   "metadata": {
    "collapsed": false,
    "pycharm": {
     "name": "#%%\n",
     "is_executing": true
    }
   }
  }
 ],
 "metadata": {
  "kernelspec": {
   "display_name": "Python 3",
   "language": "python",
   "name": "python3"
  },
  "language_info": {
   "codemirror_mode": {
    "name": "ipython",
    "version": 2
   },
   "file_extension": ".py",
   "mimetype": "text/x-python",
   "name": "python",
   "nbconvert_exporter": "python",
   "pygments_lexer": "ipython2",
   "version": "2.7.6"
  }
 },
 "nbformat": 4,
 "nbformat_minor": 0
}
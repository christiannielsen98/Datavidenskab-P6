{
 "cells": [
  {
   "cell_type": "code",
   "execution_count": 87,
   "metadata": {
    "collapsed": true,
    "pycharm": {
     "name": "#%%\n"
    }
   },
   "outputs": [],
   "source": [
    "import pandas as pd\n",
    "\n",
    "from Project.Database import Db\n",
    "from optimisation_problem import hourly_house_df, slice_emission_vector, power_consumption_vector, NZERTF_optimiser, SE_time_df, json_to_dataframe\n",
    "from Project._07OptimiseConsumption.emission_reduction import emission_reduction"
   ]
  },
  {
   "cell_type": "code",
   "execution_count": 88,
   "outputs": [],
   "source": [
    "NZERTF_optimisation, NZERTF_emission = emission_reduction(year=1)"
   ],
   "metadata": {
    "collapsed": false,
    "pycharm": {
     "name": "#%%\n"
    }
   }
  },
  {
   "cell_type": "code",
   "execution_count": 89,
   "outputs": [
    {
     "name": "stdout",
     "output_type": "stream",
     "text": [
      "w.r: 0        254.850252\n",
      "1        265.986256\n",
      "2        252.701087\n",
      "3        377.294215\n",
      "4        276.959899\n",
      "           ...     \n",
      "8668    1203.430614\n",
      "8669    1350.703262\n",
      "8670    1064.570910\n",
      "8671     867.918481\n",
      "8672     101.736097\n",
      "Name: Emission, Length: 8673, dtype: float64\n",
      "w.o.r: 0        254.850252\n",
      "1        265.986256\n",
      "2        252.701087\n",
      "3        340.100208\n",
      "4        269.361940\n",
      "           ...     \n",
      "8668    1188.654172\n",
      "8669    1350.703262\n",
      "8670    1064.570910\n",
      "8671     867.918481\n",
      "8672     101.736097\n",
      "Name: Emission, Length: 8673, dtype: float64\n",
      "m.a.u.o: 0         0.000000\n",
      "1         0.000000\n",
      "2         0.000000\n",
      "3         0.000000\n",
      "4         0.000000\n",
      "           ...    \n",
      "8668    112.914477\n",
      "8669    205.299050\n",
      "8670    130.022731\n",
      "8671      0.000000\n",
      "8672      0.000000\n",
      "Name: Emission, Length: 8673, dtype: float64\n",
      "m.a.o: 0          0.000000\n",
      "1          0.000000\n",
      "2          0.000000\n",
      "3          0.000000\n",
      "4          0.000000\n",
      "           ...     \n",
      "8667       0.000000\n",
      "8668      48.797821\n",
      "8669    1069.285258\n",
      "8670     118.589460\n",
      "8671      29.647365\n",
      "Name: Emission, Length: 8672, dtype: float64\n"
     ]
    }
   ],
   "source": [
    "for key, value in NZERTF_optimisation.items():\n",
    "    print(f'{key}: {value[\"Emission\"]}')"
   ],
   "metadata": {
    "collapsed": false,
    "pycharm": {
     "name": "#%%\n"
    }
   }
  },
  {
   "cell_type": "code",
   "execution_count": 90,
   "outputs": [
    {
     "data": {
      "text/plain": "{'w.r': 6943587.30903113,\n 'w.o.r': 6808693.4608922275,\n 'm.a.u.o': 664541.8682200217,\n 'm.a.o': 539569.892249094}"
     },
     "execution_count": 90,
     "metadata": {},
     "output_type": "execute_result"
    }
   ],
   "source": [
    "NZERTF_emission"
   ],
   "metadata": {
    "collapsed": false,
    "pycharm": {
     "name": "#%%\n"
    }
   }
  },
  {
   "cell_type": "markdown",
   "source": [
    "year1= {'w.r': 6943587.30903113,\n",
    " 'w.o.r': 6808693.4608922275,\n",
    " 'm.a.u.o': 664541.8682200217,\n",
    " 'm.a.o': 539569.892249094}\n",
    "\n",
    "year2 = {'w.r': 8371902.086841607,\n",
    " 'w.o.r': 8242621.19712289,\n",
    " 'm.a.u.o': 511242.76383277134,\n",
    " 'm.a.o': 539569.892249094}"
   ],
   "metadata": {
    "collapsed": false,
    "pycharm": {
     "name": "#%% md\n"
    }
   }
  },
  {
   "cell_type": "code",
   "execution_count": 91,
   "outputs": [],
   "source": [
    "redundancy_reduction = NZERTF_emission['w.r'] - NZERTF_emission['w.o.r']\n",
    "optimisation_reduction = NZERTF_emission['m.a.u.o'] - NZERTF_emission['m.a.o']\n",
    "total_reduction = redundancy_reduction + optimisation_reduction"
   ],
   "metadata": {
    "collapsed": false,
    "pycharm": {
     "name": "#%%\n"
    }
   }
  },
  {
   "cell_type": "code",
   "execution_count": 92,
   "outputs": [
    {
     "data": {
      "text/plain": "134893.84813890234"
     },
     "execution_count": 92,
     "metadata": {},
     "output_type": "execute_result"
    }
   ],
   "source": [
    "redundancy_reduction"
   ],
   "metadata": {
    "collapsed": false,
    "pycharm": {
     "name": "#%%\n"
    }
   }
  },
  {
   "cell_type": "code",
   "execution_count": 93,
   "outputs": [
    {
     "data": {
      "text/plain": "124971.97597092774"
     },
     "execution_count": 93,
     "metadata": {},
     "output_type": "execute_result"
    }
   ],
   "source": [
    "optimisation_reduction"
   ],
   "metadata": {
    "collapsed": false,
    "pycharm": {
     "name": "#%%\n"
    }
   }
  },
  {
   "cell_type": "code",
   "execution_count": 94,
   "outputs": [
    {
     "data": {
      "text/plain": "259865.82410983008"
     },
     "execution_count": 94,
     "metadata": {},
     "output_type": "execute_result"
    }
   ],
   "source": [
    "total_reduction"
   ],
   "metadata": {
    "collapsed": false,
    "pycharm": {
     "name": "#%%\n"
    }
   }
  },
  {
   "cell_type": "code",
   "execution_count": 95,
   "outputs": [
    {
     "data": {
      "text/plain": "      Day  Hour Timestamp  Load_StatusApplianceDishwasher  \\\n0       0     0       NaT                               0   \n1       0     1       NaT                               0   \n2       0     2       NaT                               0   \n3       0     3       NaT                               0   \n4       0     4       NaT                               0   \n...   ...   ...       ...                             ...   \n8667  364    19       NaT                               0   \n8668  364    20       NaT                               0   \n8669  364    21       NaT                               1   \n8670  364    22       NaT                               1   \n8671  364    23       NaT                               1   \n\n      Load_StatusPlugLoadVacuum  Load_StatusClothesWasher  \\\n0                             0                         0   \n1                             0                         0   \n2                             0                         0   \n3                             0                         0   \n4                             0                         0   \n...                         ...                       ...   \n8667                          0                         0   \n8668                          0                         1   \n8669                          0                         1   \n8670                          0                         0   \n8671                          0                         0   \n\n      Load_StatusDryerPowerTotal  Load_StatusPlugLoadIron     Emission  \\\n0                              0                        0     0.000000   \n1                              0                        0     0.000000   \n2                              0                        0     0.000000   \n3                              0                        0     0.000000   \n4                              0                        0     0.000000   \n...                          ...                      ...          ...   \n8667                           0                        0     0.000000   \n8668                           0                        0    48.797821   \n8669                           0                        0  1069.285258   \n8670                           0                        0   118.589460   \n8671                           0                        0    29.647365   \n\n      CumulativeEmission  \n0               0.000000  \n1               0.000000  \n2               0.000000  \n3               0.000000  \n4               0.000000  \n...                  ...  \n8667       538303.572346  \n8668       538352.370166  \n8669       539421.655424  \n8670       539540.244884  \n8671       539569.892249  \n\n[8672 rows x 10 columns]",
      "text/html": "<div>\n<style scoped>\n    .dataframe tbody tr th:only-of-type {\n        vertical-align: middle;\n    }\n\n    .dataframe tbody tr th {\n        vertical-align: top;\n    }\n\n    .dataframe thead th {\n        text-align: right;\n    }\n</style>\n<table border=\"1\" class=\"dataframe\">\n  <thead>\n    <tr style=\"text-align: right;\">\n      <th></th>\n      <th>Day</th>\n      <th>Hour</th>\n      <th>Timestamp</th>\n      <th>Load_StatusApplianceDishwasher</th>\n      <th>Load_StatusPlugLoadVacuum</th>\n      <th>Load_StatusClothesWasher</th>\n      <th>Load_StatusDryerPowerTotal</th>\n      <th>Load_StatusPlugLoadIron</th>\n      <th>Emission</th>\n      <th>CumulativeEmission</th>\n    </tr>\n  </thead>\n  <tbody>\n    <tr>\n      <th>0</th>\n      <td>0</td>\n      <td>0</td>\n      <td>NaT</td>\n      <td>0</td>\n      <td>0</td>\n      <td>0</td>\n      <td>0</td>\n      <td>0</td>\n      <td>0.000000</td>\n      <td>0.000000</td>\n    </tr>\n    <tr>\n      <th>1</th>\n      <td>0</td>\n      <td>1</td>\n      <td>NaT</td>\n      <td>0</td>\n      <td>0</td>\n      <td>0</td>\n      <td>0</td>\n      <td>0</td>\n      <td>0.000000</td>\n      <td>0.000000</td>\n    </tr>\n    <tr>\n      <th>2</th>\n      <td>0</td>\n      <td>2</td>\n      <td>NaT</td>\n      <td>0</td>\n      <td>0</td>\n      <td>0</td>\n      <td>0</td>\n      <td>0</td>\n      <td>0.000000</td>\n      <td>0.000000</td>\n    </tr>\n    <tr>\n      <th>3</th>\n      <td>0</td>\n      <td>3</td>\n      <td>NaT</td>\n      <td>0</td>\n      <td>0</td>\n      <td>0</td>\n      <td>0</td>\n      <td>0</td>\n      <td>0.000000</td>\n      <td>0.000000</td>\n    </tr>\n    <tr>\n      <th>4</th>\n      <td>0</td>\n      <td>4</td>\n      <td>NaT</td>\n      <td>0</td>\n      <td>0</td>\n      <td>0</td>\n      <td>0</td>\n      <td>0</td>\n      <td>0.000000</td>\n      <td>0.000000</td>\n    </tr>\n    <tr>\n      <th>...</th>\n      <td>...</td>\n      <td>...</td>\n      <td>...</td>\n      <td>...</td>\n      <td>...</td>\n      <td>...</td>\n      <td>...</td>\n      <td>...</td>\n      <td>...</td>\n      <td>...</td>\n    </tr>\n    <tr>\n      <th>8667</th>\n      <td>364</td>\n      <td>19</td>\n      <td>NaT</td>\n      <td>0</td>\n      <td>0</td>\n      <td>0</td>\n      <td>0</td>\n      <td>0</td>\n      <td>0.000000</td>\n      <td>538303.572346</td>\n    </tr>\n    <tr>\n      <th>8668</th>\n      <td>364</td>\n      <td>20</td>\n      <td>NaT</td>\n      <td>0</td>\n      <td>0</td>\n      <td>1</td>\n      <td>0</td>\n      <td>0</td>\n      <td>48.797821</td>\n      <td>538352.370166</td>\n    </tr>\n    <tr>\n      <th>8669</th>\n      <td>364</td>\n      <td>21</td>\n      <td>NaT</td>\n      <td>1</td>\n      <td>0</td>\n      <td>1</td>\n      <td>0</td>\n      <td>0</td>\n      <td>1069.285258</td>\n      <td>539421.655424</td>\n    </tr>\n    <tr>\n      <th>8670</th>\n      <td>364</td>\n      <td>22</td>\n      <td>NaT</td>\n      <td>1</td>\n      <td>0</td>\n      <td>0</td>\n      <td>0</td>\n      <td>0</td>\n      <td>118.589460</td>\n      <td>539540.244884</td>\n    </tr>\n    <tr>\n      <th>8671</th>\n      <td>364</td>\n      <td>23</td>\n      <td>NaT</td>\n      <td>1</td>\n      <td>0</td>\n      <td>0</td>\n      <td>0</td>\n      <td>0</td>\n      <td>29.647365</td>\n      <td>539569.892249</td>\n    </tr>\n  </tbody>\n</table>\n<p>8672 rows × 10 columns</p>\n</div>"
     },
     "execution_count": 95,
     "metadata": {},
     "output_type": "execute_result"
    }
   ],
   "source": [
    "NZERTF_optimisation['m.a.o']"
   ],
   "metadata": {
    "collapsed": false,
    "pycharm": {
     "name": "#%%\n"
    }
   }
  },
  {
   "cell_type": "code",
   "execution_count": 96,
   "outputs": [
    {
     "data": {
      "text/plain": "      Day  Hour  Load_StatusApplianceDishwasher  Load_StatusPlugLoadVacuum  \\\n0       0     0                        0.000000                        0.0   \n1       0     1                        0.000000                        0.0   \n2       0     2                        0.000000                        0.0   \n3       0     3                        0.000000                        0.0   \n4       0     4                        0.000000                        0.0   \n...   ...   ...                             ...                        ...   \n8668  364    20                        0.550000                        0.0   \n8669  364    21                        1.000000                        0.0   \n8670  364    22                        0.633333                        0.0   \n8671  364    23                        0.000000                        0.0   \n8672  365     0                        0.000000                        0.0   \n\n      Load_StatusClothesWasher  Load_StatusDryerPowerTotal  \\\n0                          0.0                         0.0   \n1                          0.0                         0.0   \n2                          0.0                         0.0   \n3                          0.0                         0.0   \n4                          0.0                         0.0   \n...                        ...                         ...   \n8668                       0.0                         0.0   \n8669                       0.0                         0.0   \n8670                       0.0                         0.0   \n8671                       0.0                         0.0   \n8672                       0.0                         0.0   \n\n      Load_StatusPlugLoadIron Timestamp    Emission  Consumption  \n0                         0.0       NaT    0.000000       0.0000  \n1                         0.0       NaT    0.000000       0.0000  \n2                         0.0       NaT    0.000000       0.0000  \n3                         0.0       NaT    0.000000       0.0000  \n4                         0.0       NaT    0.000000       0.0000  \n...                       ...       ...         ...          ...  \n8668                      0.0       NaT  112.914477       0.1551  \n8669                      0.0       NaT  205.299050       0.2820  \n8670                      0.0       NaT  130.022731       0.1786  \n8671                      0.0       NaT    0.000000       0.0000  \n8672                      0.0       NaT    0.000000       0.0000  \n\n[8673 rows x 10 columns]",
      "text/html": "<div>\n<style scoped>\n    .dataframe tbody tr th:only-of-type {\n        vertical-align: middle;\n    }\n\n    .dataframe tbody tr th {\n        vertical-align: top;\n    }\n\n    .dataframe thead th {\n        text-align: right;\n    }\n</style>\n<table border=\"1\" class=\"dataframe\">\n  <thead>\n    <tr style=\"text-align: right;\">\n      <th></th>\n      <th>Day</th>\n      <th>Hour</th>\n      <th>Load_StatusApplianceDishwasher</th>\n      <th>Load_StatusPlugLoadVacuum</th>\n      <th>Load_StatusClothesWasher</th>\n      <th>Load_StatusDryerPowerTotal</th>\n      <th>Load_StatusPlugLoadIron</th>\n      <th>Timestamp</th>\n      <th>Emission</th>\n      <th>Consumption</th>\n    </tr>\n  </thead>\n  <tbody>\n    <tr>\n      <th>0</th>\n      <td>0</td>\n      <td>0</td>\n      <td>0.000000</td>\n      <td>0.0</td>\n      <td>0.0</td>\n      <td>0.0</td>\n      <td>0.0</td>\n      <td>NaT</td>\n      <td>0.000000</td>\n      <td>0.0000</td>\n    </tr>\n    <tr>\n      <th>1</th>\n      <td>0</td>\n      <td>1</td>\n      <td>0.000000</td>\n      <td>0.0</td>\n      <td>0.0</td>\n      <td>0.0</td>\n      <td>0.0</td>\n      <td>NaT</td>\n      <td>0.000000</td>\n      <td>0.0000</td>\n    </tr>\n    <tr>\n      <th>2</th>\n      <td>0</td>\n      <td>2</td>\n      <td>0.000000</td>\n      <td>0.0</td>\n      <td>0.0</td>\n      <td>0.0</td>\n      <td>0.0</td>\n      <td>NaT</td>\n      <td>0.000000</td>\n      <td>0.0000</td>\n    </tr>\n    <tr>\n      <th>3</th>\n      <td>0</td>\n      <td>3</td>\n      <td>0.000000</td>\n      <td>0.0</td>\n      <td>0.0</td>\n      <td>0.0</td>\n      <td>0.0</td>\n      <td>NaT</td>\n      <td>0.000000</td>\n      <td>0.0000</td>\n    </tr>\n    <tr>\n      <th>4</th>\n      <td>0</td>\n      <td>4</td>\n      <td>0.000000</td>\n      <td>0.0</td>\n      <td>0.0</td>\n      <td>0.0</td>\n      <td>0.0</td>\n      <td>NaT</td>\n      <td>0.000000</td>\n      <td>0.0000</td>\n    </tr>\n    <tr>\n      <th>...</th>\n      <td>...</td>\n      <td>...</td>\n      <td>...</td>\n      <td>...</td>\n      <td>...</td>\n      <td>...</td>\n      <td>...</td>\n      <td>...</td>\n      <td>...</td>\n      <td>...</td>\n    </tr>\n    <tr>\n      <th>8668</th>\n      <td>364</td>\n      <td>20</td>\n      <td>0.550000</td>\n      <td>0.0</td>\n      <td>0.0</td>\n      <td>0.0</td>\n      <td>0.0</td>\n      <td>NaT</td>\n      <td>112.914477</td>\n      <td>0.1551</td>\n    </tr>\n    <tr>\n      <th>8669</th>\n      <td>364</td>\n      <td>21</td>\n      <td>1.000000</td>\n      <td>0.0</td>\n      <td>0.0</td>\n      <td>0.0</td>\n      <td>0.0</td>\n      <td>NaT</td>\n      <td>205.299050</td>\n      <td>0.2820</td>\n    </tr>\n    <tr>\n      <th>8670</th>\n      <td>364</td>\n      <td>22</td>\n      <td>0.633333</td>\n      <td>0.0</td>\n      <td>0.0</td>\n      <td>0.0</td>\n      <td>0.0</td>\n      <td>NaT</td>\n      <td>130.022731</td>\n      <td>0.1786</td>\n    </tr>\n    <tr>\n      <th>8671</th>\n      <td>364</td>\n      <td>23</td>\n      <td>0.000000</td>\n      <td>0.0</td>\n      <td>0.0</td>\n      <td>0.0</td>\n      <td>0.0</td>\n      <td>NaT</td>\n      <td>0.000000</td>\n      <td>0.0000</td>\n    </tr>\n    <tr>\n      <th>8672</th>\n      <td>365</td>\n      <td>0</td>\n      <td>0.000000</td>\n      <td>0.0</td>\n      <td>0.0</td>\n      <td>0.0</td>\n      <td>0.0</td>\n      <td>NaT</td>\n      <td>0.000000</td>\n      <td>0.0000</td>\n    </tr>\n  </tbody>\n</table>\n<p>8673 rows × 10 columns</p>\n</div>"
     },
     "execution_count": 96,
     "metadata": {},
     "output_type": "execute_result"
    }
   ],
   "source": [
    "NZERTF_optimisation['m.a.u.o']"
   ],
   "metadata": {
    "collapsed": false,
    "pycharm": {
     "name": "#%%\n"
    }
   }
  },
  {
   "cell_type": "code",
   "execution_count": 97,
   "outputs": [
    {
     "data": {
      "text/plain": "183.57255390817772"
     },
     "execution_count": 97,
     "metadata": {},
     "output_type": "execute_result"
    }
   ],
   "source": [
    "NZERTF_optimisation['w.r']['Consumption'].sum()-NZERTF_optimisation['w.o.r']['Consumption'].sum()"
   ],
   "metadata": {
    "collapsed": false,
    "pycharm": {
     "name": "#%%\n"
    }
   }
  },
  {
   "cell_type": "code",
   "execution_count": 98,
   "outputs": [
    {
     "data": {
      "text/plain": "0     1.273943\n1     1.167084\n2     0.944542\n3     0.704382\n4     0.724481\n5     0.984135\n6     1.126662\n7     0.883952\n8     0.760245\n9     1.504106\n10    0.967332\n11    1.030459\n12    0.877086\n13    0.634826\n14    0.737784\n15    0.946388\n16    0.604700\n17    1.106767\n18    1.483960\n19    1.103912\n20    1.202882\n21    2.151338\n22    1.700271\n23    1.529787\nName: Consumption, dtype: float64"
     },
     "execution_count": 98,
     "metadata": {},
     "output_type": "execute_result"
    }
   ],
   "source": [
    "NZERTF_optimisation['w.r']['Consumption'].groupby(NZERTF_optimisation['w.r']['Consumption'].index % 24).mean()"
   ],
   "metadata": {
    "collapsed": false,
    "pycharm": {
     "name": "#%%\n"
    }
   }
  },
  {
   "cell_type": "code",
   "execution_count": 98,
   "outputs": [],
   "source": [],
   "metadata": {
    "collapsed": false,
    "pycharm": {
     "name": "#%%\n"
    }
   }
  }
 ],
 "metadata": {
  "kernelspec": {
   "display_name": "Python 3",
   "language": "python",
   "name": "python3"
  },
  "language_info": {
   "codemirror_mode": {
    "name": "ipython",
    "version": 2
   },
   "file_extension": ".py",
   "mimetype": "text/x-python",
   "name": "python",
   "nbconvert_exporter": "python",
   "pygments_lexer": "ipython2",
   "version": "2.7.6"
  }
 },
 "nbformat": 4,
 "nbformat_minor": 0
}
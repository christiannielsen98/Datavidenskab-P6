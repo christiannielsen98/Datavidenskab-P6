{
 "cells": [
  {
   "cell_type": "code",
   "execution_count": 1,
   "outputs": [],
   "source": [
    "from Project.Database import Db\n",
    "import pandas as pd\n",
    "import plotly.express as px\n",
    "from Project._07OptimiseConsumption.emission_reduction import emission_reduction\n",
    "from Project._07OptimiseConsumption.optimisation_problem import power_consumption"
   ],
   "metadata": {
    "collapsed": false,
    "pycharm": {
     "name": "#%%\n"
    }
   }
  },
  {
   "cell_type": "code",
   "execution_count": 2,
   "outputs": [],
   "source": [
    "NZERTF_optimisation_year1, NZERTF_emission_year1 = emission_reduction(year=1)"
   ],
   "metadata": {
    "collapsed": false,
    "pycharm": {
     "name": "#%%\n"
    }
   }
  },
  {
   "cell_type": "code",
   "execution_count": 3,
   "outputs": [],
   "source": [
    "NZERTF_optimisation_year2, NZERTF_emission_year2 = emission_reduction(year=2)"
   ],
   "metadata": {
    "collapsed": false,
    "pycharm": {
     "name": "#%%\n"
    }
   }
  },
  {
   "cell_type": "code",
   "execution_count": 4,
   "outputs": [
    {
     "data": {
      "text/plain": "{'w.r':                Timestamp  Day  Hour  Load_LatentHeatWaterVolume  \\\n 0    2015-02-01 00:00:00    0     0                    0.027909   \n 1    2015-02-01 01:00:00    0     1                    0.095475   \n 2    2015-02-01 02:00:00    0     2                    0.163375   \n 3    2015-02-01 03:00:00    0     3                    0.227850   \n 4    2015-02-01 04:00:00    0     4                    0.291952   \n ...                  ...  ...   ...                         ...   \n 8755 2016-01-31 19:00:00  364    19                    1.434078   \n 8756 2016-01-31 20:00:00  364    20                    1.509165   \n 8757 2016-01-31 21:00:00  364    21                    1.582327   \n 8758 2016-01-31 22:00:00  364    22                    1.654222   \n 8759 2016-01-31 23:00:00  364    23                    1.726894   \n \n       Load_RefrigeratorTemp  Load_StatusBA1Lights  Load_StatusKitchenLightsA  \\\n 0                  4.957915                   0.0                   0.000000   \n 1                  4.904702                   0.0                   0.000000   \n 2                  5.054887                   0.0                   0.000000   \n 3                  4.991525                   0.0                   0.000000   \n 4                  5.040868                   0.0                   0.000000   \n ...                     ...                   ...                        ...   \n 8755               4.810046                   0.0                   0.750000   \n 8756               4.917617                   0.0                   0.750000   \n 8757               4.820712                   0.0                   1.000000   \n 8758               4.945030                   0.0                   0.483333   \n 8759               4.826671                   0.0                   0.000000   \n \n       Load_StatusKitchenLightsB  Load_StatusKitchenLightsC  \\\n 0                      0.000000                   0.000000   \n 1                      0.000000                   0.000000   \n 2                      0.000000                   0.000000   \n 3                      0.000000                   0.000000   \n 4                      0.000000                   0.000000   \n ...                         ...                        ...   \n 8755                   0.750000                   0.750000   \n 8756                   0.750000                   0.750000   \n 8757                   1.000000                   1.000000   \n 8758                   0.483333                   0.483333   \n 8759                   0.000000                   0.000000   \n \n       Load_StatusDRLights  ...  Load_StatusPlugLoadMBRTVEmission  \\\n 0                0.000000  ...                          0.000000   \n 1                0.000000  ...                          0.000000   \n 2                0.000000  ...                          0.000000   \n 3                0.000000  ...                          0.000000   \n 4                0.000000  ...                          0.000000   \n ...                   ...  ...                               ...   \n 8755             0.766667  ...                          0.000000   \n 8756             0.483333  ...                          0.000000   \n 8757             0.000000  ...                          0.001417   \n 8758             0.000000  ...                          0.065602   \n 8759             0.000000  ...                          0.032245   \n \n       Load_StatusPlugLoadMBRBlueRayEmission  Load_StatusPlugLoadFanEmission  \\\n 0                                  0.000000                        0.000000   \n 1                                  0.000000                        0.000000   \n 2                                  0.000000                        0.000000   \n 3                                  0.000000                        0.000000   \n 4                                  0.000000                        0.000000   \n ...                                     ...                             ...   \n 8755                               0.000000                        0.000000   \n 8756                               0.000000                        0.000000   \n 8757                               0.000309                        0.000454   \n 8758                               0.014298                        0.021026   \n 8759                               0.007028                        0.020670   \n \n       Load_StatusPlugLoadHeatingPadEmission  Load_StatusPlugLoadIronEmission  \\\n 0                                  0.000000                              0.0   \n 1                                  0.000000                              0.0   \n 2                                  0.000000                              0.0   \n 3                                  0.000000                              0.0   \n 4                                  0.000000                              0.0   \n ...                                     ...                              ...   \n 8755                               0.000000                              0.0   \n 8756                               0.000000                              0.0   \n 8757                               0.000345                              0.0   \n 8758                               0.003729                              0.0   \n 8759                               0.000000                              0.0   \n \n       Load_StatusRefrigeratorEmission  Load_StatusMicrowaveEmission  \\\n 0                            0.041283                           0.0   \n 1                            0.022810                           0.0   \n 2                            0.039435                           0.0   \n 3                            0.020923                           0.0   \n 4                            0.036503                           0.0   \n ...                               ...                           ...   \n 8755                         0.032959                           0.0   \n 8756                         0.027350                           0.0   \n 8757                         0.025270                           0.0   \n 8758                         0.016499                           0.0   \n 8759                         0.019066                           0.0   \n \n       Load_StatusClothesWasherEmission  Load_StatusDryerPowerTotalEmission  \\\n 0                                  0.0                                 0.0   \n 1                                  0.0                                 0.0   \n 2                                  0.0                                 0.0   \n 3                                  0.0                                 0.0   \n 4                                  0.0                                 0.0   \n ...                                ...                                 ...   \n 8755                               0.0                                 0.0   \n 8756                               0.0                                 0.0   \n 8757                               0.0                                 0.0   \n 8758                               0.0                                 0.0   \n 8759                               0.0                                 0.0   \n \n       Load_StatusHeatPumpWaterHeaterEmission  \n 0                                   0.000000  \n 1                                   0.233246  \n 2                                   0.000000  \n 3                                   0.000000  \n 4                                   0.000000  \n ...                                      ...  \n 8755                                0.247564  \n 8756                                0.000000  \n 8757                                0.190068  \n 8758                                0.027159  \n 8759                                0.110478  \n \n [8760 rows x 414 columns],\n 'w.o.r':                Timestamp  Day  Hour  Load_LatentHeatWaterVolume  \\\n 0    2015-02-01 00:00:00    0     0                    0.027909   \n 1    2015-02-01 01:00:00    0     1                    0.095475   \n 2    2015-02-01 02:00:00    0     2                    0.163375   \n 3    2015-02-01 03:00:00    0     3                    0.227850   \n 4    2015-02-01 04:00:00    0     4                    0.291952   \n ...                  ...  ...   ...                         ...   \n 8755 2016-01-31 19:00:00  364    19                    1.434078   \n 8756 2016-01-31 20:00:00  364    20                    1.509165   \n 8757 2016-01-31 21:00:00  364    21                    1.582327   \n 8758 2016-01-31 22:00:00  364    22                    1.654222   \n 8759 2016-01-31 23:00:00  364    23                    1.726894   \n \n       Load_RefrigeratorTemp  Load_StatusBA1Lights  Load_StatusKitchenLightsA  \\\n 0                  4.957915                   0.0                   0.000000   \n 1                  4.904702                   0.0                   0.000000   \n 2                  5.054887                   0.0                   0.000000   \n 3                  4.991525                   0.0                   0.000000   \n 4                  5.040868                   0.0                   0.000000   \n ...                     ...                   ...                        ...   \n 8755               4.810046                   0.0                   0.750000   \n 8756               4.917617                   0.0                   0.750000   \n 8757               4.820712                   0.0                   1.000000   \n 8758               4.945030                   0.0                   0.483333   \n 8759               4.826671                   0.0                   0.000000   \n \n       Load_StatusKitchenLightsB  Load_StatusKitchenLightsC  \\\n 0                      0.000000                   0.000000   \n 1                      0.000000                   0.000000   \n 2                      0.000000                   0.000000   \n 3                      0.000000                   0.000000   \n 4                      0.000000                   0.000000   \n ...                         ...                        ...   \n 8755                   0.750000                   0.750000   \n 8756                   0.750000                   0.750000   \n 8757                   1.000000                   1.000000   \n 8758                   0.483333                   0.483333   \n 8759                   0.000000                   0.000000   \n \n       Load_StatusDRLights  ...  Load_StatusPlugLoadMBRTVEmission  \\\n 0                0.000000  ...                          0.000000   \n 1                0.000000  ...                          0.000000   \n 2                0.000000  ...                          0.000000   \n 3                0.000000  ...                          0.000000   \n 4                0.000000  ...                          0.000000   \n ...                   ...  ...                               ...   \n 8755             0.766667  ...                          0.000000   \n 8756             0.483333  ...                          0.000000   \n 8757             0.000000  ...                          0.001417   \n 8758             0.000000  ...                          0.065602   \n 8759             0.000000  ...                          0.032245   \n \n       Load_StatusPlugLoadMBRBlueRayEmission  Load_StatusPlugLoadFanEmission  \\\n 0                                  0.000000                        0.000000   \n 1                                  0.000000                        0.000000   \n 2                                  0.000000                        0.000000   \n 3                                  0.000000                        0.000000   \n 4                                  0.000000                        0.000000   \n ...                                     ...                             ...   \n 8755                               0.000000                        0.000000   \n 8756                               0.000000                        0.000000   \n 8757                               0.000309                        0.000454   \n 8758                               0.014298                        0.021026   \n 8759                               0.007028                        0.020670   \n \n       Load_StatusPlugLoadHeatingPadEmission  Load_StatusPlugLoadIronEmission  \\\n 0                                  0.000000                              0.0   \n 1                                  0.000000                              0.0   \n 2                                  0.000000                              0.0   \n 3                                  0.000000                              0.0   \n 4                                  0.000000                              0.0   \n ...                                     ...                              ...   \n 8755                               0.000000                              0.0   \n 8756                               0.000000                              0.0   \n 8757                               0.000345                              0.0   \n 8758                               0.003729                              0.0   \n 8759                               0.000000                              0.0   \n \n       Load_StatusRefrigeratorEmission  Load_StatusMicrowaveEmission  \\\n 0                            0.041283                           0.0   \n 1                            0.022810                           0.0   \n 2                            0.039435                           0.0   \n 3                            0.020923                           0.0   \n 4                            0.036503                           0.0   \n ...                               ...                           ...   \n 8755                         0.032959                           0.0   \n 8756                         0.027350                           0.0   \n 8757                         0.025270                           0.0   \n 8758                         0.016499                           0.0   \n 8759                         0.019066                           0.0   \n \n       Load_StatusClothesWasherEmission  Load_StatusDryerPowerTotalEmission  \\\n 0                                  0.0                                 0.0   \n 1                                  0.0                                 0.0   \n 2                                  0.0                                 0.0   \n 3                                  0.0                                 0.0   \n 4                                  0.0                                 0.0   \n ...                                ...                                 ...   \n 8755                               0.0                                 0.0   \n 8756                               0.0                                 0.0   \n 8757                               0.0                                 0.0   \n 8758                               0.0                                 0.0   \n 8759                               0.0                                 0.0   \n \n       Load_StatusHeatPumpWaterHeaterEmission  \n 0                                   0.000000  \n 1                                   0.233246  \n 2                                   0.000000  \n 3                                   0.000000  \n 4                                   0.000000  \n ...                                      ...  \n 8755                                0.247564  \n 8756                                0.000000  \n 8757                                0.190068  \n 8758                                0.027159  \n 8759                                0.110478  \n \n [8760 rows x 414 columns],\n 'm.a.o':                Timestamp  Day  Hour  Load_StatusApplianceDishwasher  \\\n 0    2015-02-01 00:00:00    0     0                          0.0000   \n 1    2015-02-01 01:00:00    0     1                          0.0000   \n 2    2015-02-01 02:00:00    0     2                          0.0000   \n 3    2015-02-01 03:00:00    0     3                          0.0000   \n 4    2015-02-01 04:00:00    0     4                          0.0000   \n ...                  ...  ...   ...                             ...   \n 8755 2016-01-31 19:00:00  364    19                          0.0000   \n 8756 2016-01-31 20:00:00  364    20                          0.0000   \n 8757 2016-01-31 21:00:00  364    21                          0.2167   \n 8758 2016-01-31 22:00:00  364    22                          1.0000   \n 8759 2016-01-31 23:00:00  364    23                          1.0000   \n \n       Load_StatusPlugLoadVacuum  Load_StatusClothesWasher  \\\n 0                           0.0                       0.0   \n 1                           0.0                       0.0   \n 2                           0.0                       0.0   \n 3                           0.0                       0.0   \n 4                           0.0                       0.0   \n ...                         ...                       ...   \n 8755                        0.0                       0.0   \n 8756                        0.0                       0.0   \n 8757                        0.0                       0.0   \n 8758                        0.0                       0.0   \n 8759                        0.0                       0.0   \n \n       Load_StatusDryerPowerTotal  Load_StatusPlugLoadIron  Emission(g/Wh)  \\\n 0                            0.0                      0.0        0.734305   \n 1                            0.0                      0.0        0.752407   \n 2                            0.0                      0.0        0.737095   \n 3                            0.0                      0.0        0.733298   \n 4                            0.0                      0.0        0.731043   \n ...                          ...                      ...             ...   \n 8755                         0.0                      0.0        0.684510   \n 8756                         0.0                      0.0        0.697113   \n 8757                         0.0                      0.0        0.544998   \n 8758                         0.0                      0.0        0.420529   \n 8759                         0.0                      0.0        0.420529   \n \n       Emission  Load_StatusApplianceDishwasherEmission  \\\n 0     0.000000                                0.000000   \n 1     0.000000                                0.000000   \n 2     0.000000                                0.000000   \n 3     0.000000                                0.000000   \n 4     0.000000                                0.000000   \n ...        ...                                     ...   \n 8755  0.000000                                0.000000   \n 8756  0.000000                                0.000000   \n 8757  0.033034                                0.033034   \n 8758  0.117626                                0.117626   \n 8759  0.117626                                0.117626   \n \n       Load_StatusPlugLoadVacuumEmission  Load_StatusClothesWasherEmission  \\\n 0                                   0.0                               0.0   \n 1                                   0.0                               0.0   \n 2                                   0.0                               0.0   \n 3                                   0.0                               0.0   \n 4                                   0.0                               0.0   \n ...                                 ...                               ...   \n 8755                                0.0                               0.0   \n 8756                                0.0                               0.0   \n 8757                                0.0                               0.0   \n 8758                                0.0                               0.0   \n 8759                                0.0                               0.0   \n \n       Load_StatusDryerPowerTotalEmission  Load_StatusPlugLoadIronEmission  \n 0                                    0.0                              0.0  \n 1                                    0.0                              0.0  \n 2                                    0.0                              0.0  \n 3                                    0.0                              0.0  \n 4                                    0.0                              0.0  \n ...                                  ...                              ...  \n 8755                                 0.0                              0.0  \n 8756                                 0.0                              0.0  \n 8757                                 0.0                              0.0  \n 8758                                 0.0                              0.0  \n 8759                                 0.0                              0.0  \n \n [8760 rows x 15 columns],\n 'm.a.u.o':                Timestamp  Day  Hour  Load_StatusApplianceDishwasher  \\\n 0    2015-02-01 00:00:00    0     0                        0.000000   \n 1    2015-02-01 01:00:00    0     1                        0.000000   \n 2    2015-02-01 02:00:00    0     2                        0.000000   \n 3    2015-02-01 03:00:00    0     3                        0.000000   \n 4    2015-02-01 04:00:00    0     4                        0.000000   \n ...                  ...  ...   ...                             ...   \n 8755 2016-01-31 19:00:00  364    19                        0.000000   \n 8756 2016-01-31 20:00:00  364    20                        0.550000   \n 8757 2016-01-31 21:00:00  364    21                        1.000000   \n 8758 2016-01-31 22:00:00  364    22                        0.666667   \n 8759 2016-01-31 23:00:00  364    23                        0.000000   \n \n       Load_StatusPlugLoadVacuum  Load_StatusClothesWasher  \\\n 0                           0.0                       0.0   \n 1                           0.0                       0.0   \n 2                           0.0                       0.0   \n 3                           0.0                       0.0   \n 4                           0.0                       0.0   \n ...                         ...                       ...   \n 8755                        0.0                       0.0   \n 8756                        0.0                       0.0   \n 8757                        0.0                       0.0   \n 8758                        0.0                       0.0   \n 8759                        0.0                       0.0   \n \n       Load_StatusDryerPowerTotal  Load_StatusPlugLoadIron  Emission(g/Wh)  \\\n 0                            0.0                      0.0        0.734305   \n 1                            0.0                      0.0        0.752407   \n 2                            0.0                      0.0        0.737095   \n 3                            0.0                      0.0        0.733298   \n 4                            0.0                      0.0        0.731043   \n ...                          ...                      ...             ...   \n 8755                         0.0                      0.0        0.684510   \n 8756                         0.0                      0.0        0.697113   \n 8757                         0.0                      0.0        0.544998   \n 8758                         0.0                      0.0        0.420529   \n 8759                         0.0                      0.0        0.420529   \n \n       Emission  Load_StatusApplianceDishwasherEmission  \\\n 0     0.000000                                0.000000   \n 1     0.000000                                0.000000   \n 2     0.000000                                0.000000   \n 3     0.000000                                0.000000   \n 4     0.000000                                0.000000   \n ...        ...                                     ...   \n 8755  0.000000                                0.000000   \n 8756  0.108122                                0.108122   \n 8757  0.153689                                0.153689   \n 8758  0.079059                                0.079059   \n 8759  0.000000                                0.000000   \n \n       Load_StatusPlugLoadVacuumEmission  Load_StatusClothesWasherEmission  \\\n 0                                   0.0                               0.0   \n 1                                   0.0                               0.0   \n 2                                   0.0                               0.0   \n 3                                   0.0                               0.0   \n 4                                   0.0                               0.0   \n ...                                 ...                               ...   \n 8755                                0.0                               0.0   \n 8756                                0.0                               0.0   \n 8757                                0.0                               0.0   \n 8758                                0.0                               0.0   \n 8759                                0.0                               0.0   \n \n       Load_StatusDryerPowerTotalEmission  Load_StatusPlugLoadIronEmission  \n 0                                    0.0                              0.0  \n 1                                    0.0                              0.0  \n 2                                    0.0                              0.0  \n 3                                    0.0                              0.0  \n 4                                    0.0                              0.0  \n ...                                  ...                              ...  \n 8755                                 0.0                              0.0  \n 8756                                 0.0                              0.0  \n 8757                                 0.0                              0.0  \n 8758                                 0.0                              0.0  \n 8759                                 0.0                              0.0  \n \n [8760 rows x 15 columns]}"
     },
     "execution_count": 4,
     "metadata": {},
     "output_type": "execute_result"
    }
   ],
   "source": [
    "NZERTF_optimisation_year2"
   ],
   "metadata": {
    "collapsed": false,
    "pycharm": {
     "name": "#%%\n"
    }
   }
  },
  {
   "cell_type": "code",
   "execution_count": 5,
   "outputs": [
    {
     "name": "stdout",
     "output_type": "stream",
     "text": [
      "w.r: 0       0.508536\n",
      "1       0.727316\n",
      "2       0.525879\n",
      "3       0.508214\n",
      "4       0.520379\n",
      "          ...   \n",
      "8755    1.642831\n",
      "8756    1.360740\n",
      "8757    1.407198\n",
      "8758    0.939420\n",
      "8759    0.602089\n",
      "Name: Emission, Length: 8760, dtype: float64\n",
      "w.o.r: 0       0.508536\n",
      "1       0.727316\n",
      "2       0.525879\n",
      "3       0.508214\n",
      "4       0.520379\n",
      "          ...   \n",
      "8755    1.462738\n",
      "8756    1.278009\n",
      "8757    1.407198\n",
      "8758    0.926533\n",
      "8759    0.600439\n",
      "Name: Emission, Length: 8760, dtype: float64\n",
      "m.a.o: 0       0.000000\n",
      "1       0.000000\n",
      "2       0.000000\n",
      "3       0.000000\n",
      "4       0.000000\n",
      "          ...   \n",
      "8755    0.000000\n",
      "8756    0.000000\n",
      "8757    0.033034\n",
      "8758    0.117626\n",
      "8759    0.117626\n",
      "Name: Emission, Length: 8760, dtype: float64\n",
      "m.a.u.o: 0       0.000000\n",
      "1       0.000000\n",
      "2       0.000000\n",
      "3       0.000000\n",
      "4       0.000000\n",
      "          ...   \n",
      "8755    0.000000\n",
      "8756    0.108122\n",
      "8757    0.153689\n",
      "8758    0.079059\n",
      "8759    0.000000\n",
      "Name: Emission, Length: 8760, dtype: float64\n"
     ]
    }
   ],
   "source": [
    "for key, value in NZERTF_optimisation_year2.items():\n",
    "    print(f'{key}: {value[\"Emission\"]}')"
   ],
   "metadata": {
    "collapsed": false,
    "pycharm": {
     "name": "#%%\n"
    }
   }
  },
  {
   "cell_type": "code",
   "execution_count": 50,
   "outputs": [
    {
     "data": {
      "text/plain": "{'w.r': 7067.381688897962,\n 'w.o.r': 6930.435837229237,\n 'm.a.o': 670.645964402705,\n 'm.a.u.o': 680.062579708695}"
     },
     "execution_count": 50,
     "metadata": {},
     "output_type": "execute_result"
    }
   ],
   "source": [
    "NZERTF_emission_year1"
   ],
   "metadata": {
    "collapsed": false,
    "pycharm": {
     "name": "#%%\n"
    }
   }
  },
  {
   "cell_type": "code",
   "execution_count": 6,
   "outputs": [
    {
     "data": {
      "text/plain": "{'w.r': 8388.657846296948,\n 'w.o.r': 8257.25142366896,\n 'm.a.o': 533.8225279357321,\n 'm.a.u.o': 528.1785737581545}"
     },
     "execution_count": 6,
     "metadata": {},
     "output_type": "execute_result"
    }
   ],
   "source": [
    "NZERTF_emission_year2"
   ],
   "metadata": {
    "collapsed": false,
    "pycharm": {
     "name": "#%%\n"
    }
   }
  },
  {
   "cell_type": "code",
   "execution_count": 51,
   "outputs": [
    {
     "data": {
      "text/plain": "(136.94585166872457, 9.416615305990035, 146.3624669747146)"
     },
     "execution_count": 51,
     "metadata": {},
     "output_type": "execute_result"
    }
   ],
   "source": [
    "redundancy_reduction = NZERTF_emission_year1['w.r'] - NZERTF_emission_year1['w.o.r']\n",
    "optimisation_reduction = NZERTF_emission_year1['m.a.u.o'] - NZERTF_emission_year1['m.a.o']\n",
    "total_reduction = redundancy_reduction + optimisation_reduction\n",
    "redundancy_reduction, optimisation_reduction, total_reduction"
   ],
   "metadata": {
    "collapsed": false,
    "pycharm": {
     "name": "#%%\n"
    }
   }
  },
  {
   "cell_type": "code",
   "execution_count": 7,
   "outputs": [],
   "source": [
    "redundancy_reduction = NZERTF_emission_year2['w.r'] - NZERTF_emission_year2['w.o.r']\n",
    "optimisation_reduction = NZERTF_emission_year2['m.a.u.o'] - NZERTF_emission_year2['m.a.o']\n",
    "total_reduction = redundancy_reduction + optimisation_reduction"
   ],
   "metadata": {
    "collapsed": false,
    "pycharm": {
     "name": "#%%\n"
    }
   }
  },
  {
   "cell_type": "code",
   "execution_count": 49,
   "outputs": [
    {
     "data": {
      "text/plain": "(131.40642262798792, -5.643954177577598, 125.76246845041032)"
     },
     "execution_count": 49,
     "metadata": {},
     "output_type": "execute_result"
    }
   ],
   "source": [
    "redundancy_reduction, optimisation_reduction, total_reduction"
   ],
   "metadata": {
    "collapsed": false,
    "pycharm": {
     "name": "#%%\n"
    }
   }
  },
  {
   "cell_type": "code",
   "execution_count": 11,
   "outputs": [
    {
     "data": {
      "text/plain": "               Timestamp  Day  Hour  Load_StatusApplianceDishwasher  \\\n0    2015-02-01 00:00:00    0     0                          0.0000   \n1    2015-02-01 01:00:00    0     1                          0.0000   \n2    2015-02-01 02:00:00    0     2                          0.0000   \n3    2015-02-01 03:00:00    0     3                          0.0000   \n4    2015-02-01 04:00:00    0     4                          0.0000   \n...                  ...  ...   ...                             ...   \n8755 2016-01-31 19:00:00  364    19                          0.0000   \n8756 2016-01-31 20:00:00  364    20                          0.0000   \n8757 2016-01-31 21:00:00  364    21                          0.2167   \n8758 2016-01-31 22:00:00  364    22                          1.0000   \n8759 2016-01-31 23:00:00  364    23                          1.0000   \n\n      Load_StatusPlugLoadVacuum  Load_StatusClothesWasher  \\\n0                           0.0                       0.0   \n1                           0.0                       0.0   \n2                           0.0                       0.0   \n3                           0.0                       0.0   \n4                           0.0                       0.0   \n...                         ...                       ...   \n8755                        0.0                       0.0   \n8756                        0.0                       0.0   \n8757                        0.0                       0.0   \n8758                        0.0                       0.0   \n8759                        0.0                       0.0   \n\n      Load_StatusDryerPowerTotal  Load_StatusPlugLoadIron  Emission(g/Wh)  \\\n0                            0.0                      0.0        0.734305   \n1                            0.0                      0.0        0.752407   \n2                            0.0                      0.0        0.737095   \n3                            0.0                      0.0        0.733298   \n4                            0.0                      0.0        0.731043   \n...                          ...                      ...             ...   \n8755                         0.0                      0.0        0.684510   \n8756                         0.0                      0.0        0.697113   \n8757                         0.0                      0.0        0.544998   \n8758                         0.0                      0.0        0.420529   \n8759                         0.0                      0.0        0.420529   \n\n      Emission  Load_StatusApplianceDishwasherEmission  \\\n0     0.000000                                0.000000   \n1     0.000000                                0.000000   \n2     0.000000                                0.000000   \n3     0.000000                                0.000000   \n4     0.000000                                0.000000   \n...        ...                                     ...   \n8755  0.000000                                0.000000   \n8756  0.000000                                0.000000   \n8757  0.033034                                0.033034   \n8758  0.117626                                0.117626   \n8759  0.117626                                0.117626   \n\n      Load_StatusPlugLoadVacuumEmission  Load_StatusClothesWasherEmission  \\\n0                                   0.0                               0.0   \n1                                   0.0                               0.0   \n2                                   0.0                               0.0   \n3                                   0.0                               0.0   \n4                                   0.0                               0.0   \n...                                 ...                               ...   \n8755                                0.0                               0.0   \n8756                                0.0                               0.0   \n8757                                0.0                               0.0   \n8758                                0.0                               0.0   \n8759                                0.0                               0.0   \n\n      Load_StatusDryerPowerTotalEmission  Load_StatusPlugLoadIronEmission  \n0                                    0.0                              0.0  \n1                                    0.0                              0.0  \n2                                    0.0                              0.0  \n3                                    0.0                              0.0  \n4                                    0.0                              0.0  \n...                                  ...                              ...  \n8755                                 0.0                              0.0  \n8756                                 0.0                              0.0  \n8757                                 0.0                              0.0  \n8758                                 0.0                              0.0  \n8759                                 0.0                              0.0  \n\n[8760 rows x 15 columns]",
      "text/html": "<div>\n<style scoped>\n    .dataframe tbody tr th:only-of-type {\n        vertical-align: middle;\n    }\n\n    .dataframe tbody tr th {\n        vertical-align: top;\n    }\n\n    .dataframe thead th {\n        text-align: right;\n    }\n</style>\n<table border=\"1\" class=\"dataframe\">\n  <thead>\n    <tr style=\"text-align: right;\">\n      <th></th>\n      <th>Timestamp</th>\n      <th>Day</th>\n      <th>Hour</th>\n      <th>Load_StatusApplianceDishwasher</th>\n      <th>Load_StatusPlugLoadVacuum</th>\n      <th>Load_StatusClothesWasher</th>\n      <th>Load_StatusDryerPowerTotal</th>\n      <th>Load_StatusPlugLoadIron</th>\n      <th>Emission(g/Wh)</th>\n      <th>Emission</th>\n      <th>Load_StatusApplianceDishwasherEmission</th>\n      <th>Load_StatusPlugLoadVacuumEmission</th>\n      <th>Load_StatusClothesWasherEmission</th>\n      <th>Load_StatusDryerPowerTotalEmission</th>\n      <th>Load_StatusPlugLoadIronEmission</th>\n    </tr>\n  </thead>\n  <tbody>\n    <tr>\n      <th>0</th>\n      <td>2015-02-01 00:00:00</td>\n      <td>0</td>\n      <td>0</td>\n      <td>0.0000</td>\n      <td>0.0</td>\n      <td>0.0</td>\n      <td>0.0</td>\n      <td>0.0</td>\n      <td>0.734305</td>\n      <td>0.000000</td>\n      <td>0.000000</td>\n      <td>0.0</td>\n      <td>0.0</td>\n      <td>0.0</td>\n      <td>0.0</td>\n    </tr>\n    <tr>\n      <th>1</th>\n      <td>2015-02-01 01:00:00</td>\n      <td>0</td>\n      <td>1</td>\n      <td>0.0000</td>\n      <td>0.0</td>\n      <td>0.0</td>\n      <td>0.0</td>\n      <td>0.0</td>\n      <td>0.752407</td>\n      <td>0.000000</td>\n      <td>0.000000</td>\n      <td>0.0</td>\n      <td>0.0</td>\n      <td>0.0</td>\n      <td>0.0</td>\n    </tr>\n    <tr>\n      <th>2</th>\n      <td>2015-02-01 02:00:00</td>\n      <td>0</td>\n      <td>2</td>\n      <td>0.0000</td>\n      <td>0.0</td>\n      <td>0.0</td>\n      <td>0.0</td>\n      <td>0.0</td>\n      <td>0.737095</td>\n      <td>0.000000</td>\n      <td>0.000000</td>\n      <td>0.0</td>\n      <td>0.0</td>\n      <td>0.0</td>\n      <td>0.0</td>\n    </tr>\n    <tr>\n      <th>3</th>\n      <td>2015-02-01 03:00:00</td>\n      <td>0</td>\n      <td>3</td>\n      <td>0.0000</td>\n      <td>0.0</td>\n      <td>0.0</td>\n      <td>0.0</td>\n      <td>0.0</td>\n      <td>0.733298</td>\n      <td>0.000000</td>\n      <td>0.000000</td>\n      <td>0.0</td>\n      <td>0.0</td>\n      <td>0.0</td>\n      <td>0.0</td>\n    </tr>\n    <tr>\n      <th>4</th>\n      <td>2015-02-01 04:00:00</td>\n      <td>0</td>\n      <td>4</td>\n      <td>0.0000</td>\n      <td>0.0</td>\n      <td>0.0</td>\n      <td>0.0</td>\n      <td>0.0</td>\n      <td>0.731043</td>\n      <td>0.000000</td>\n      <td>0.000000</td>\n      <td>0.0</td>\n      <td>0.0</td>\n      <td>0.0</td>\n      <td>0.0</td>\n    </tr>\n    <tr>\n      <th>...</th>\n      <td>...</td>\n      <td>...</td>\n      <td>...</td>\n      <td>...</td>\n      <td>...</td>\n      <td>...</td>\n      <td>...</td>\n      <td>...</td>\n      <td>...</td>\n      <td>...</td>\n      <td>...</td>\n      <td>...</td>\n      <td>...</td>\n      <td>...</td>\n      <td>...</td>\n    </tr>\n    <tr>\n      <th>8755</th>\n      <td>2016-01-31 19:00:00</td>\n      <td>364</td>\n      <td>19</td>\n      <td>0.0000</td>\n      <td>0.0</td>\n      <td>0.0</td>\n      <td>0.0</td>\n      <td>0.0</td>\n      <td>0.684510</td>\n      <td>0.000000</td>\n      <td>0.000000</td>\n      <td>0.0</td>\n      <td>0.0</td>\n      <td>0.0</td>\n      <td>0.0</td>\n    </tr>\n    <tr>\n      <th>8756</th>\n      <td>2016-01-31 20:00:00</td>\n      <td>364</td>\n      <td>20</td>\n      <td>0.0000</td>\n      <td>0.0</td>\n      <td>0.0</td>\n      <td>0.0</td>\n      <td>0.0</td>\n      <td>0.697113</td>\n      <td>0.000000</td>\n      <td>0.000000</td>\n      <td>0.0</td>\n      <td>0.0</td>\n      <td>0.0</td>\n      <td>0.0</td>\n    </tr>\n    <tr>\n      <th>8757</th>\n      <td>2016-01-31 21:00:00</td>\n      <td>364</td>\n      <td>21</td>\n      <td>0.2167</td>\n      <td>0.0</td>\n      <td>0.0</td>\n      <td>0.0</td>\n      <td>0.0</td>\n      <td>0.544998</td>\n      <td>0.033034</td>\n      <td>0.033034</td>\n      <td>0.0</td>\n      <td>0.0</td>\n      <td>0.0</td>\n      <td>0.0</td>\n    </tr>\n    <tr>\n      <th>8758</th>\n      <td>2016-01-31 22:00:00</td>\n      <td>364</td>\n      <td>22</td>\n      <td>1.0000</td>\n      <td>0.0</td>\n      <td>0.0</td>\n      <td>0.0</td>\n      <td>0.0</td>\n      <td>0.420529</td>\n      <td>0.117626</td>\n      <td>0.117626</td>\n      <td>0.0</td>\n      <td>0.0</td>\n      <td>0.0</td>\n      <td>0.0</td>\n    </tr>\n    <tr>\n      <th>8759</th>\n      <td>2016-01-31 23:00:00</td>\n      <td>364</td>\n      <td>23</td>\n      <td>1.0000</td>\n      <td>0.0</td>\n      <td>0.0</td>\n      <td>0.0</td>\n      <td>0.0</td>\n      <td>0.420529</td>\n      <td>0.117626</td>\n      <td>0.117626</td>\n      <td>0.0</td>\n      <td>0.0</td>\n      <td>0.0</td>\n      <td>0.0</td>\n    </tr>\n  </tbody>\n</table>\n<p>8760 rows × 15 columns</p>\n</div>"
     },
     "execution_count": 11,
     "metadata": {},
     "output_type": "execute_result"
    }
   ],
   "source": [
    "NZERTF_optimisation_year2['m.a.o']"
   ],
   "metadata": {
    "collapsed": false,
    "pycharm": {
     "name": "#%%\n"
    }
   }
  },
  {
   "cell_type": "code",
   "execution_count": 12,
   "outputs": [
    {
     "data": {
      "text/plain": "182974.74609446712"
     },
     "execution_count": 12,
     "metadata": {},
     "output_type": "execute_result"
    }
   ],
   "source": [
    "NZERTF_optimisation_year2['w.r']['Consumption'].sum()-NZERTF_optimisation_year2['w.o.r']['Consumption'].sum()"
   ],
   "metadata": {
    "collapsed": false,
    "pycharm": {
     "name": "#%%\n"
    }
   }
  },
  {
   "cell_type": "code",
   "execution_count": 13,
   "outputs": [
    {
     "data": {
      "text/plain": "0      698.788280\n1      709.881802\n2      702.950804\n3      725.324320\n4      772.492298\n5      739.047235\n6     2977.813052\n7     1597.746481\n8     1640.184101\n9     1367.349349\n10    1109.436437\n11     559.195413\n12    1260.300588\n13     710.009025\n14    1027.502203\n15    1109.782531\n16     665.280911\n17     748.913165\n18    2941.576315\n19    2525.628646\n20    2473.697660\n21    2272.299162\n22    1995.166929\n23    1131.257300\nName: Consumption, dtype: float64"
     },
     "execution_count": 13,
     "metadata": {},
     "output_type": "execute_result"
    }
   ],
   "source": [
    "NZERTF_optimisation_year2['w.r']['Consumption'].groupby(NZERTF_optimisation_year2['w.r']['Consumption'].index % 24).mean()"
   ],
   "metadata": {
    "collapsed": false,
    "pycharm": {
     "name": "#%%\n"
    }
   }
  },
  {
   "cell_type": "markdown",
   "source": [
    "## Emission reduction from redundancy removal"
   ],
   "metadata": {
    "collapsed": false,
    "pycharm": {
     "name": "#%% md\n"
    }
   }
  },
  {
   "cell_type": "code",
   "execution_count": 14,
   "outputs": [],
   "source": [
    "meta = Db.load_data(year=2, hourly=False, consumption=False, production=False, meta=True, with_redundancy=True)"
   ],
   "metadata": {
    "collapsed": false,
    "pycharm": {
     "name": "#%%\n"
    }
   }
  },
  {
   "cell_type": "code",
   "execution_count": 15,
   "outputs": [],
   "source": [
    "status_constraint = meta.loc[(lambda self:\n",
    "                           (~self['Consumer_Match'].isna()) &\n",
    "                           (~self.index.str.contains(\"SensHeat\")) &\n",
    "                           (self[\"Subsystem\"] == \"Loads\"))].index.to_list()"
   ],
   "metadata": {
    "collapsed": false,
    "pycharm": {
     "name": "#%%\n"
    }
   }
  },
  {
   "cell_type": "code",
   "execution_count": 53,
   "outputs": [],
   "source": [
    "appliance_emission_diff_year1 = NZERTF_optimisation_year1['w.r'].copy()[[status + 'Emission' for status in status_constraint]].sum() - NZERTF_optimisation_year1['w.o.r'].copy()[[status + 'Emission' for status in status_constraint]].sum()"
   ],
   "metadata": {
    "collapsed": false,
    "pycharm": {
     "name": "#%%\n"
    }
   }
  },
  {
   "cell_type": "code",
   "execution_count": 54,
   "outputs": [],
   "source": [
    "appliance_emission_diff_year2 = NZERTF_optimisation_year2['w.r'].copy()[[status + 'Emission' for status in status_constraint]].sum() - NZERTF_optimisation_year2['w.o.r'].copy()[[status + 'Emission' for status in status_constraint]].sum()"
   ],
   "metadata": {
    "collapsed": false,
    "pycharm": {
     "name": "#%%\n"
    }
   }
  },
  {
   "cell_type": "code",
   "execution_count": 55,
   "outputs": [],
   "source": [
    "appliance_emission_diff = pd.concat([appliance_emission_diff_year1, appliance_emission_diff_year2], axis=1)\n",
    "appliance_emission_diff.rename(columns={0: 'year1', 1: 'year2'},\n",
    "                           index={index: index.split('Status')[-1].split('Emission')[0] for index in appliance_emission_diff.index},\n",
    "                           inplace=True)\n",
    "appliance_emission_diff = appliance_emission_diff.loc[lambda self: self.sum(1) > 0].sort_values(by='year1', ascending=False).multiply(1000)"
   ],
   "metadata": {
    "collapsed": false,
    "pycharm": {
     "name": "#%%\n"
    }
   }
  },
  {
   "cell_type": "code",
   "execution_count": 58,
   "outputs": [
    {
     "data": {
      "text/plain": "                            year1    year2\nPlugLoadBR2Laptop         9158.19  9180.48\nPlugLoadIron              8622.50  8060.28\nPlugLoadDesktopPCMonitor  6923.15  6904.55\nBR2Lights                 5798.11  5592.95\nPlugLoadBR3Laptop         5720.85  5675.20\nBR3Lights                 4608.88  4593.68\nPlugLoadCanOpener          714.56     0.00\nPlugLoadLRTV               446.04   438.69\nLRLights2                  321.65     0.00\nBA2Lights                  212.19   211.98\nPlugLoadMBRTV              148.03     0.00\nBA1Lights                  120.73     0.00\nMBALights                  119.55     0.00\nPlugLoadFan                108.84    59.38\nMBRLights2                  25.58     0.18\nMBRLights1                  23.72     0.18\nBR4Lights                   19.52     0.00\nKitchenLightsB               5.77     0.00\nDRLights                     0.57     0.00\nPlugLoadVideoGame            0.48     0.00\nKitchenLightsA               0.42     0.00\nEntryHallLights              0.24     0.00",
      "text/html": "<div>\n<style scoped>\n    .dataframe tbody tr th:only-of-type {\n        vertical-align: middle;\n    }\n\n    .dataframe tbody tr th {\n        vertical-align: top;\n    }\n\n    .dataframe thead th {\n        text-align: right;\n    }\n</style>\n<table border=\"1\" class=\"dataframe\">\n  <thead>\n    <tr style=\"text-align: right;\">\n      <th></th>\n      <th>year1</th>\n      <th>year2</th>\n    </tr>\n  </thead>\n  <tbody>\n    <tr>\n      <th>PlugLoadBR2Laptop</th>\n      <td>9158.19</td>\n      <td>9180.48</td>\n    </tr>\n    <tr>\n      <th>PlugLoadIron</th>\n      <td>8622.50</td>\n      <td>8060.28</td>\n    </tr>\n    <tr>\n      <th>PlugLoadDesktopPCMonitor</th>\n      <td>6923.15</td>\n      <td>6904.55</td>\n    </tr>\n    <tr>\n      <th>BR2Lights</th>\n      <td>5798.11</td>\n      <td>5592.95</td>\n    </tr>\n    <tr>\n      <th>PlugLoadBR3Laptop</th>\n      <td>5720.85</td>\n      <td>5675.20</td>\n    </tr>\n    <tr>\n      <th>BR3Lights</th>\n      <td>4608.88</td>\n      <td>4593.68</td>\n    </tr>\n    <tr>\n      <th>PlugLoadCanOpener</th>\n      <td>714.56</td>\n      <td>0.00</td>\n    </tr>\n    <tr>\n      <th>PlugLoadLRTV</th>\n      <td>446.04</td>\n      <td>438.69</td>\n    </tr>\n    <tr>\n      <th>LRLights2</th>\n      <td>321.65</td>\n      <td>0.00</td>\n    </tr>\n    <tr>\n      <th>BA2Lights</th>\n      <td>212.19</td>\n      <td>211.98</td>\n    </tr>\n    <tr>\n      <th>PlugLoadMBRTV</th>\n      <td>148.03</td>\n      <td>0.00</td>\n    </tr>\n    <tr>\n      <th>BA1Lights</th>\n      <td>120.73</td>\n      <td>0.00</td>\n    </tr>\n    <tr>\n      <th>MBALights</th>\n      <td>119.55</td>\n      <td>0.00</td>\n    </tr>\n    <tr>\n      <th>PlugLoadFan</th>\n      <td>108.84</td>\n      <td>59.38</td>\n    </tr>\n    <tr>\n      <th>MBRLights2</th>\n      <td>25.58</td>\n      <td>0.18</td>\n    </tr>\n    <tr>\n      <th>MBRLights1</th>\n      <td>23.72</td>\n      <td>0.18</td>\n    </tr>\n    <tr>\n      <th>BR4Lights</th>\n      <td>19.52</td>\n      <td>0.00</td>\n    </tr>\n    <tr>\n      <th>KitchenLightsB</th>\n      <td>5.77</td>\n      <td>0.00</td>\n    </tr>\n    <tr>\n      <th>DRLights</th>\n      <td>0.57</td>\n      <td>0.00</td>\n    </tr>\n    <tr>\n      <th>PlugLoadVideoGame</th>\n      <td>0.48</td>\n      <td>0.00</td>\n    </tr>\n    <tr>\n      <th>KitchenLightsA</th>\n      <td>0.42</td>\n      <td>0.00</td>\n    </tr>\n    <tr>\n      <th>EntryHallLights</th>\n      <td>0.24</td>\n      <td>0.00</td>\n    </tr>\n  </tbody>\n</table>\n</div>"
     },
     "execution_count": 58,
     "metadata": {},
     "output_type": "execute_result"
    }
   ],
   "source": [
    "appliance_emission_diff.round(2)"
   ],
   "metadata": {
    "collapsed": false,
    "pycharm": {
     "name": "#%%\n"
    }
   }
  },
  {
   "cell_type": "code",
   "execution_count": 56,
   "outputs": [],
   "source": [
    "fig = px.bar(appliance_emission_diff, barmode=\"group\", text_auto='.2s', log_y=True,\n",
    "             labels={'value': 'Redundant emissions (g)', 'index': 'Appliances'})\n",
    "fig.update_layout(template='plotly')\n",
    "fig.write_html(Db.get_save_file_directory(f\"Bar/redundant_emission_per_appliance.html\"))"
   ],
   "metadata": {
    "collapsed": false,
    "pycharm": {
     "name": "#%%\n"
    }
   }
  },
  {
   "cell_type": "markdown",
   "source": [
    "## Hours and kWh reduced by redundancy removal"
   ],
   "metadata": {
    "collapsed": false,
    "pycharm": {
     "name": "#%% md\n"
    }
   }
  },
  {
   "cell_type": "code",
   "execution_count": 17,
   "outputs": [
    {
     "data": {
      "text/plain": "36004.79570102835"
     },
     "execution_count": 17,
     "metadata": {},
     "output_type": "execute_result"
    }
   ],
   "source": [
    "before_red_remov_year2 = NZERTF_optimisation_year2['w.r'][status_constraint].sum()\n",
    "before_red_remov_year2.sum()"
   ],
   "metadata": {
    "collapsed": false,
    "pycharm": {
     "name": "#%%\n"
    }
   }
  },
  {
   "cell_type": "code",
   "execution_count": 18,
   "outputs": [
    {
     "data": {
      "text/plain": "35001.24298024334"
     },
     "execution_count": 18,
     "metadata": {},
     "output_type": "execute_result"
    }
   ],
   "source": [
    "after_red_remov_year2 = NZERTF_optimisation_year2['w.o.r'][status_constraint].sum()\n",
    "after_red_remov_year2.sum()"
   ],
   "metadata": {
    "collapsed": false,
    "pycharm": {
     "name": "#%%\n"
    }
   }
  },
  {
   "cell_type": "code",
   "execution_count": 19,
   "outputs": [],
   "source": [
    "appliance_hour_diff_year2 = before_red_remov_year2-after_red_remov_year2"
   ],
   "metadata": {
    "collapsed": false,
    "pycharm": {
     "name": "#%%\n"
    }
   }
  },
  {
   "cell_type": "code",
   "execution_count": 20,
   "outputs": [
    {
     "data": {
      "text/plain": "2.787275142784235"
     },
     "execution_count": 20,
     "metadata": {},
     "output_type": "execute_result"
    }
   ],
   "source": [
    "(before_red_remov_year2.sum()-after_red_remov_year2.sum())/before_red_remov_year2.sum()*100"
   ],
   "metadata": {
    "collapsed": false,
    "pycharm": {
     "name": "#%%\n"
    }
   }
  },
  {
   "cell_type": "code",
   "execution_count": 21,
   "outputs": [],
   "source": [
    "before_red_remov_year1 = NZERTF_optimisation_year1['w.r'][status_constraint].sum()\n",
    "before_red_remov_year1.sum()\n",
    "after_red_remov_year1 = NZERTF_optimisation_year1['w.o.r'][status_constraint].sum()\n",
    "after_red_remov_year1.sum()\n",
    "appliance_hour_diff_year1 = before_red_remov_year1 - after_red_remov_year1"
   ],
   "metadata": {
    "collapsed": false,
    "pycharm": {
     "name": "#%%\n"
    }
   }
  },
  {
   "cell_type": "code",
   "execution_count": 45,
   "outputs": [],
   "source": [
    "appliance_hour_diff = pd.concat([appliance_hour_diff_year1, appliance_hour_diff_year2], axis=1)\n",
    "appliance_hour_diff.rename(columns={0: 'year1', 1: 'year2'},\n",
    "                      index={index: index.split('Status')[-1] for index in appliance_hour_diff.index}, inplace=True)\n",
    "appliance_hour_diff = appliance_hour_diff.loc[lambda self: self.sum(1) > 0].sort_values(by='year1', ascending=False)"
   ],
   "metadata": {
    "collapsed": false,
    "pycharm": {
     "name": "#%%\n"
    }
   }
  },
  {
   "cell_type": "code",
   "execution_count": 46,
   "outputs": [],
   "source": [
    "import plotly.express as px\n",
    "\n",
    "fig = px.bar(appliance_hour_diff, barmode=\"group\",text_auto='.2s', log_y=True, labels={'value':'Redundant hours', 'index': 'Appliances'})\n",
    "fig.update_layout(template='plotly')\n",
    "fig.write_html(Db.get_save_file_directory(f\"Bar/redundant_hours_per_appliance.html\"))"
   ],
   "metadata": {
    "collapsed": false,
    "pycharm": {
     "name": "#%%\n"
    }
   }
  },
  {
   "cell_type": "markdown",
   "source": [
    "## kWh"
   ],
   "metadata": {
    "collapsed": false,
    "pycharm": {
     "name": "#%% md\n"
    }
   }
  },
  {
   "cell_type": "code",
   "execution_count": 24,
   "outputs": [],
   "source": [
    "power_consumption = power_consumption(status_constraint)"
   ],
   "metadata": {
    "collapsed": false,
    "pycharm": {
     "name": "#%%\n"
    }
   }
  },
  {
   "cell_type": "code",
   "execution_count": 25,
   "outputs": [],
   "source": [
    "before_red_remov_kWh = NZERTF_optimisation_year2['w.r'].copy()[status_constraint].multiply(power_consumption).sum()"
   ],
   "metadata": {
    "collapsed": false,
    "pycharm": {
     "name": "#%%\n"
    }
   }
  },
  {
   "cell_type": "code",
   "execution_count": 26,
   "outputs": [],
   "source": [
    "after_red_remov_kWh = NZERTF_optimisation_year2['w.o.r'].copy()[status_constraint].multiply(power_consumption).sum()"
   ],
   "metadata": {
    "collapsed": false,
    "pycharm": {
     "name": "#%%\n"
    }
   }
  },
  {
   "cell_type": "code",
   "execution_count": 27,
   "outputs": [],
   "source": [
    "appliance_diff_year2 = before_red_remov_kWh-after_red_remov_kWh"
   ],
   "metadata": {
    "collapsed": false,
    "pycharm": {
     "name": "#%%\n"
    }
   }
  },
  {
   "cell_type": "code",
   "execution_count": 28,
   "outputs": [
    {
     "data": {
      "text/plain": "Load_StatusBA1Lights                     0.000000\nLoad_StatusKitchenLightsA                0.000000\nLoad_StatusKitchenLightsB                0.000000\nLoad_StatusKitchenLightsC                0.000000\nLoad_StatusDRLights                      0.000000\nLoad_StatusLRLights3                     0.000000\nLoad_StatusEntryHallLights                    NaN\nLoad_StatusBR4Lights                          NaN\nLoad_StatusMBALights                     0.000000\nLoad_StatusMBRLights1                    0.002423\nLoad_StatusMBRLights2                    0.002423\nLoad_StatusBA2Lights                     6.532195\nLoad_StatusBR2Lights                    13.390014\nLoad_StatusBR3Lights                    26.593327\nLoad_StatusLRLights1                          NaN\nLoad_StatusLRLights2                     0.000000\nLoad_StatusPlugLoadBlender               0.000000\nLoad_StatusPlugLoadToasterOven           0.000000\nLoad_StatusApplianceRangeHood            0.000000\nLoad_StatusApplianceCooktop              0.000000\nLoad_StatusApplianceOven                 0.000000\nLoad_StatusPlugLoadSlowCooker            0.000000\nLoad_StatusPlugLoadToaster               0.000000\nLoad_StatusApplianceDishwasher           0.000000\nLoad_StatusPlugLoadHandMixer             0.000000\nLoad_StatusPlugLoadCanOpener             0.000000\nLoad_StatusLatentload                    0.000000\nLoad_StatusPlugLoadCoffeeMaker           0.000000\nLoad_StatusPlugLoadLRTV                  0.463770\nLoad_StatusPlugLoadLRBlueRay             0.000000\nLoad_StatusPlugLoadVideoGame             0.000000\nLoad_StatusPlugLoadVacuum                0.000000\nLoad_StatusPlugLoadDesktopPCMonitor      5.213725\nLoad_StatusPlugLoadHairDryerCurlIron          NaN\nLoad_StatusPlugLoadBR2Laptop            17.614558\nLoad_StatusPlugLoadBR3Laptop            35.256284\nLoad_StatusPlugLoadMBRTV                 0.000000\nLoad_StatusPlugLoadMBRBlueRay            0.000000\nLoad_StatusPlugLoadFan                   0.304237\nLoad_StatusPlugLoadHeatingPad            0.000000\nLoad_StatusPlugLoadIron                 20.983213\nLoad_StatusRefrigerator                  0.000000\nLoad_StatusMicrowave                     0.000000\nLoad_StatusClothesWasher                 0.000000\nLoad_StatusDryerPowerTotal               0.000000\nLoad_StatusHeatPumpWaterHeater           0.000000\ndtype: float64"
     },
     "execution_count": 28,
     "metadata": {},
     "output_type": "execute_result"
    }
   ],
   "source": [
    "appliance_diff_year2/before_red_remov_kWh*100"
   ],
   "metadata": {
    "collapsed": false,
    "pycharm": {
     "name": "#%%\n"
    }
   }
  },
  {
   "cell_type": "markdown",
   "source": [],
   "metadata": {
    "collapsed": false,
    "pycharm": {
     "name": "#%% md\n"
    }
   }
  },
  {
   "cell_type": "code",
   "execution_count": 29,
   "outputs": [],
   "source": [
    "before_red_remov = NZERTF_optimisation_year1['w.r'].copy()[status_constraint].multiply(power_consumption).sum()\n",
    "after_red_remov = NZERTF_optimisation_year1['w.o.r'].copy()[status_constraint].multiply(power_consumption).sum()\n",
    "appliance_diff_year1 = before_red_remov - after_red_remov"
   ],
   "metadata": {
    "collapsed": false,
    "pycharm": {
     "name": "#%%\n"
    }
   }
  },
  {
   "cell_type": "code",
   "execution_count": 29,
   "outputs": [],
   "source": [],
   "metadata": {
    "collapsed": false,
    "pycharm": {
     "name": "#%%\n"
    }
   }
  },
  {
   "cell_type": "code",
   "execution_count": 30,
   "outputs": [],
   "source": [
    "appliance_diff = pd.concat([appliance_diff_year1,appliance_diff_year2], axis=1)\n",
    "appliance_diff.rename(columns={0: 'year1', 1: 'year2'}, index= {index: index.split('Status')[-1] for index in appliance_diff.index}, inplace=True)"
   ],
   "metadata": {
    "collapsed": false,
    "pycharm": {
     "name": "#%%\n"
    }
   }
  },
  {
   "cell_type": "code",
   "execution_count": 31,
   "outputs": [],
   "source": [
    "appliance_diff = appliance_diff.loc[lambda self: self.sum(1) > 0].sort_values(by='year1', ascending=False)"
   ],
   "metadata": {
    "collapsed": false,
    "pycharm": {
     "name": "#%%\n"
    }
   }
  },
  {
   "cell_type": "code",
   "execution_count": 42,
   "outputs": [],
   "source": [
    "fig = px.bar(appliance_diff, barmode=\"group\",text_auto='.2s', log_y=True, labels={'value':'Redundant Watt hours', 'index': 'Appliances'})\n",
    "fig.update_layout(template='plotly')\n",
    "fig.write_html(Db.get_save_file_directory(f\"Bar/redundant_energy_per_appliance.html\"))"
   ],
   "metadata": {
    "collapsed": false,
    "pycharm": {
     "name": "#%%\n"
    }
   }
  },
  {
   "cell_type": "markdown",
   "source": [
    "## Emission reduction from optimisation"
   ],
   "metadata": {
    "collapsed": false,
    "pycharm": {
     "name": "#%% md\n"
    }
   }
  },
  {
   "cell_type": "code",
   "execution_count": 60,
   "outputs": [],
   "source": [
    "movable_appliances = ['Load_StatusApplianceDishwasher', 'Load_StatusPlugLoadVacuum','Load_StatusClothesWasher', 'Load_StatusDryerPowerTotal', 'Load_StatusPlugLoadIron']"
   ],
   "metadata": {
    "collapsed": false,
    "pycharm": {
     "name": "#%%\n"
    }
   }
  },
  {
   "cell_type": "code",
   "execution_count": 72,
   "outputs": [],
   "source": [
    "appliance_emission_optim_diff_year1 = NZERTF_optimisation_year1['m.a.u.o'].copy()[\n",
    "                                    [status + 'Emission' for status in movable_appliances]].sum() - NZERTF_optimisation_year1['m.a.o'].copy()[\n",
    "                                    [status + 'Emission' for status in movable_appliances]].sum()\n",
    "appliance_emission_optim_diff_year2 = NZERTF_optimisation_year2['m.a.u.o'].copy()[\n",
    "                                    [status + 'Emission' for status in movable_appliances]].sum() - NZERTF_optimisation_year2['m.a.o'].copy()[\n",
    "                                    [status + 'Emission' for status in movable_appliances]].sum()\n",
    "appliance_emission_optim_diff = pd.concat([appliance_emission_optim_diff_year1, appliance_emission_optim_diff_year2], axis=1)\n",
    "appliance_emission_optim_diff.rename(columns={0: 'year1', 1: 'year2'},\n",
    "                                     index={index: index.split('Status')[-1].split('Emission')[0] for index in appliance_emission_optim_diff.index}, inplace=True)\n",
    "appliance_emission_optim_diff = appliance_emission_optim_diff.sort_values(by='year1', ascending=False).multiply(1000)"
   ],
   "metadata": {
    "collapsed": false,
    "pycharm": {
     "name": "#%%\n"
    }
   }
  },
  {
   "cell_type": "code",
   "execution_count": 75,
   "outputs": [
    {
     "data": {
      "text/plain": "                           year1         year2\nApplianceDishwasher  5121.987980   7231.130484\nPlugLoadIron         3260.740673   2763.167474\nPlugLoadVacuum        800.766068   1199.690137\nClothesWasher         466.036049   2216.581320\nDryerPowerTotal      -232.915464 -19054.523593",
      "text/html": "<div>\n<style scoped>\n    .dataframe tbody tr th:only-of-type {\n        vertical-align: middle;\n    }\n\n    .dataframe tbody tr th {\n        vertical-align: top;\n    }\n\n    .dataframe thead th {\n        text-align: right;\n    }\n</style>\n<table border=\"1\" class=\"dataframe\">\n  <thead>\n    <tr style=\"text-align: right;\">\n      <th></th>\n      <th>year1</th>\n      <th>year2</th>\n    </tr>\n  </thead>\n  <tbody>\n    <tr>\n      <th>ApplianceDishwasher</th>\n      <td>5121.987980</td>\n      <td>7231.130484</td>\n    </tr>\n    <tr>\n      <th>PlugLoadIron</th>\n      <td>3260.740673</td>\n      <td>2763.167474</td>\n    </tr>\n    <tr>\n      <th>PlugLoadVacuum</th>\n      <td>800.766068</td>\n      <td>1199.690137</td>\n    </tr>\n    <tr>\n      <th>ClothesWasher</th>\n      <td>466.036049</td>\n      <td>2216.581320</td>\n    </tr>\n    <tr>\n      <th>DryerPowerTotal</th>\n      <td>-232.915464</td>\n      <td>-19054.523593</td>\n    </tr>\n  </tbody>\n</table>\n</div>"
     },
     "execution_count": 75,
     "metadata": {},
     "output_type": "execute_result"
    }
   ],
   "source": [
    "appliance_emission_optim_diff"
   ],
   "metadata": {
    "collapsed": false,
    "pycharm": {
     "name": "#%%\n"
    }
   }
  },
  {
   "cell_type": "code",
   "execution_count": 90,
   "outputs": [],
   "source": [
    "fig = px.bar(appliance_emission_optim_diff, barmode=\"group\",text_auto='.2s', labels={'value':'Optimised CO2 emission (g) reduction', 'index': 'Appliances'}, )\n",
    "fig.update_layout(template='plotly')\n",
    "fig.write_html(Db.get_save_file_directory(f\"Bar/optimised_emission_per_appliance.html\"))"
   ],
   "metadata": {
    "collapsed": false,
    "pycharm": {
     "name": "#%%\n"
    }
   }
  },
  {
   "cell_type": "code",
   "execution_count": null,
   "outputs": [],
   "source": [],
   "metadata": {
    "collapsed": false,
    "pycharm": {
     "name": "#%%\n"
    }
   }
  }
 ],
 "metadata": {
  "kernelspec": {
   "display_name": "Python 3",
   "language": "python",
   "name": "python3"
  },
  "language_info": {
   "codemirror_mode": {
    "name": "ipython",
    "version": 2
   },
   "file_extension": ".py",
   "mimetype": "text/x-python",
   "name": "python",
   "nbconvert_exporter": "python",
   "pygments_lexer": "ipython2",
   "version": "2.7.6"
  }
 },
 "nbformat": 4,
 "nbformat_minor": 0
}
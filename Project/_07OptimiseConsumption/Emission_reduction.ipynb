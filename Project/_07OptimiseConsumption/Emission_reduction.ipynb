{
 "cells": [
  {
   "cell_type": "code",
   "execution_count": 1,
   "metadata": {
    "collapsed": true
   },
   "outputs": [],
   "source": [
    "from Project.Database import Db\n",
    "from optimisation_problem import hourly_house_df, slice_emission_vector, NZERTF_optimiser"
   ]
  },
  {
   "cell_type": "code",
   "execution_count": 2,
   "outputs": [],
   "source": [
    "def find_emissions(df, emission_vec):\n",
    "    energy_vec = df.loc[lambda self: self['Day'] == day, 'Consumption'].reset_index(drop=True)\n",
    "    energy_consumed = energy_vec.multiply(emission_vec)\n",
    "    for index, emission in energy_consumed[lambda self: self > 0].iteritems():\n",
    "        df.loc[lambda self: (self['Day'] == day) & (self['Hour'] == index), 'Emission'] += emission\n",
    "    return df"
   ],
   "metadata": {
    "collapsed": false,
    "pycharm": {
     "name": "#%%\n"
    }
   }
  },
  {
   "cell_type": "code",
   "execution_count": null,
   "outputs": [],
   "source": [
    "# year2_orig = year2.copy()\n",
    "# \n",
    "# for app in movable_appliances:\n",
    "#     lifespan = app_stats[app]['Timespan'][0]\n",
    "#     hour_slots = int(np.ceil(lifespan / 60))\n",
    "#     average_power_consumption = average_power_consumption_df.loc[lambda self: self.index == app].values[0]\n",
    "#     energy_consumption_per_hour = round(average_power_consumption * lifespan / 60_000 / hour_slots, 4)\n",
    "# \n",
    "#     for day in year2_orig['Day'].unique():\n",
    "#         emission_vector = slice_emission_vector(day)\n",
    "#         energy_vector = year2_orig.loc[lambda self: self['Day'] == day, app].multiply(\n",
    "#             energy_consumption_per_hour).reset_index(drop=True)\n",
    "#         energy_consumed = energy_vector.multiply(emission_vector)\n",
    "#         for index, emission in energy_consumed[lambda self: self > 0].iteritems():\n",
    "#             year2_orig.loc[lambda self: (self['Day'] == day) & (self['Hour'] == index), 'Emission'] += emission\n",
    "# \n",
    "# year2_orig"
   ],
   "metadata": {
    "collapsed": false,
    "pycharm": {
     "name": "#%%\n"
    }
   }
  },
  {
   "cell_type": "code",
   "execution_count": 16,
   "outputs": [
    {
     "name": "stdout",
     "output_type": "stream",
     "text": [
      "      Day  Hour     Emission  Consumption\n",
      "0       0     0  1305.908727     1.778433\n",
      "1       0     1  1577.101483     2.096081\n",
      "2       0     2  1357.877709     1.842206\n",
      "3       0     3  1338.298088     1.825044\n",
      "4       0     4  1347.814095     1.843692\n",
      "...   ...   ...          ...          ...\n",
      "8667  364    19  6204.609403     9.064332\n",
      "8668  364    20  5643.307791     8.095270\n",
      "8669  364    21  4622.137879     8.481025\n",
      "8670  364    22  4098.899884     9.746986\n",
      "8671  364    23  1944.977733     4.625063\n",
      "\n",
      "[8672 rows x 4 columns]\n",
      "      Day  Hour     Emission  Consumption\n",
      "0       0     0  1305.908727     1.778433\n",
      "1       0     1  1577.101483     2.096081\n",
      "2       0     2  1357.877709     1.842206\n",
      "3       0     3  1338.298088     1.825044\n",
      "4       0     4  1347.814095     1.843692\n",
      "...   ...   ...          ...          ...\n",
      "8667  364    19  5280.096184     7.713708\n",
      "8668  364    20  5218.675840     7.486140\n",
      "8669  364    21  4622.137879     8.481025\n",
      "8670  364    22  4060.237849     9.655049\n",
      "8671  364    23  1935.239586     4.601906\n",
      "\n",
      "[8672 rows x 4 columns]\n"
     ]
    }
   ],
   "source": [
    "meta = Db.load_data(meta=True, hourly=False, year=2, consumption=False).loc[\n",
    "    lambda self: (~self['Consumer_Match'].isna()), 'Consumer_Match']\n",
    "\n",
    "production = Db.load_data(\n",
    "    consumption=False,\n",
    "    production=True,\n",
    "    year=2)\n",
    "\n",
    "production = production.groupby(\n",
    "    [production.index.strftime('%Y-%m-%d'),\n",
    "     production.index.hour]).sum()['CO2(Grams)/kWh']\n",
    "\n",
    "movable_appliances = ['Load_StatusApplianceDishwasher', 'Load_StatusPlugLoadVacuum', 'Load_StatusClothesWasher', 'Load_StatusDryerPowerTotal', 'Load_StatusPlugLoadIron']\n",
    "\n",
    "appliances = ['Timestamp'] + meta.tolist()\n",
    "\n",
    "# with redundancy <- w.r\n",
    "# without redundancy <- w.o.r\n",
    "# movable appliances unoptimised <- m.a.u.o\n",
    "# movable appliances optimised <- m.a.o\n",
    "NZERTF_optimisation = {\n",
    "    'w.r': Db.load_data(year=2, hourly=False)[appliances],\n",
    "    'w.o.r': Db.load_data(year=2, hourly=False, with_redundancy=False)[appliances]\n",
    "}\n",
    "\n",
    "NZERTF_optimisation.update({\n",
    "    'm.a.u.o': NZERTF_optimisation['without_redundancy'].copy()[['Timestamp'] + movable_appliances]\n",
    "})\n",
    "\n",
    "NZERTF_emission = {}\n",
    "\n",
    "for key in NZERTF_optimisation.keys():\n",
    "    NZERTF_optimisation[key] = hourly_house_df(NZERTF_optimisation[key], aggregate_func='sum')\n",
    "    NZERTF_optimisation[key]['Consumption'] = NZERTF_optimisation[key][meta.tolist()].sum(1).div(60_000)\n",
    "    try:\n",
    "        NZERTF_optimisation[key].drop(meta.tolist(), inplace=True, axis=1)\n",
    "    except:\n",
    "        NZERTF_optimisation[key].drop(meta.loc[movable_appliances].tolist(), inplace=True, axis=1)\n",
    "    \n",
    "    NZERTF_emission.update({\n",
    "        key: NZERTF_optimisation[key].groupby(['Day']).sum()['Emission'].sum()\n",
    "    })\n",
    "    for day in NZERTF_optimisation[key]['Day'].unique():\n",
    "        emission_vector = slice_emission_vector(production_vectors=production,\n",
    "                                                day_number=day)\n",
    "        NZERTF_optimisation[key] = find_emissions(NZERTF_optimisation[key],\n",
    "                                                emission_vec=emission_vector)\n",
    "\n",
    "NZERTF_optimisation.update({\n",
    "    'm.a.o': NZERTF_optimiser()\n",
    "})\n",
    "\n",
    "NZERTF_optimisation"
   ],
   "metadata": {
    "collapsed": false,
    "pycharm": {
     "name": "#%%\n"
    }
   }
  },
  {
   "cell_type": "code",
   "execution_count": null,
   "outputs": [],
   "source": [
    "redundancy_reduction = NZERTF_optimisation['']['Emission'].sum() - NZERTF_optimisation['']['Emission'].sum()\n",
    "optimisation_reduction = NZERTF_optimisation['']['Emission'].sum() - NZERTF_optimisation['']['Emission'].sum()\n",
    "total_reduction = redundancy_reduction + optimisation_reduction"
   ],
   "metadata": {
    "collapsed": false,
    "pycharm": {
     "name": "#%%\n"
    }
   }
  },
  {
   "cell_type": "code",
   "execution_count": null,
   "outputs": [],
   "source": [
    "redundancy_reduction"
   ],
   "metadata": {
    "collapsed": false,
    "pycharm": {
     "name": "#%%\n"
    }
   }
  },
  {
   "cell_type": "code",
   "execution_count": null,
   "outputs": [],
   "source": [
    "optimisation_reduction"
   ],
   "metadata": {
    "collapsed": false,
    "pycharm": {
     "name": "#%%\n"
    }
   }
  },
  {
   "cell_type": "code",
   "execution_count": null,
   "outputs": [],
   "source": [
    "total_reduction"
   ],
   "metadata": {
    "collapsed": false,
    "pycharm": {
     "name": "#%%\n"
    }
   }
  },
  {
   "cell_type": "markdown",
   "source": [],
   "metadata": {
    "collapsed": false
   }
  }
 ],
 "metadata": {
  "kernelspec": {
   "display_name": "Python 3",
   "language": "python",
   "name": "python3"
  },
  "language_info": {
   "codemirror_mode": {
    "name": "ipython",
    "version": 2
   },
   "file_extension": ".py",
   "mimetype": "text/x-python",
   "name": "python",
   "nbconvert_exporter": "python",
   "pygments_lexer": "ipython2",
   "version": "2.7.6"
  }
 },
 "nbformat": 4,
 "nbformat_minor": 0
}
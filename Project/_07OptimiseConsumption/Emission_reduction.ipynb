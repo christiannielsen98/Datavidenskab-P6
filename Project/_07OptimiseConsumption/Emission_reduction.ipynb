{
 "cells": [
  {
   "cell_type": "code",
   "execution_count": 1,
   "metadata": {
    "collapsed": true,
    "pycharm": {
     "name": "#%%\n"
    }
   },
   "outputs": [],
   "source": [
    "from Project.Database import Db\n",
    "from Project._07OptimiseConsumption.emission_reduction import emission_reduction"
   ]
  },
  {
   "cell_type": "code",
   "execution_count": 2,
   "outputs": [],
   "source": [
    "NZERTF_optimisation, NZERTF_emission = emission_reduction(year=2)"
   ],
   "metadata": {
    "collapsed": false,
    "pycharm": {
     "name": "#%%\n"
    }
   }
  },
  {
   "cell_type": "code",
   "execution_count": 3,
   "outputs": [
    {
     "data": {
      "text/plain": "{'w.r':                Timestamp  Day  Hour  Load_LatentHeatWaterVolume  \\\n 0    2015-02-01 00:00:00    0     0                    0.027909   \n 1    2015-02-01 01:00:00    0     1                    0.095475   \n 2    2015-02-01 02:00:00    0     2                    0.163375   \n 3    2015-02-01 03:00:00    0     3                    0.227850   \n 4    2015-02-01 04:00:00    0     4                    0.291952   \n ...                  ...  ...   ...                         ...   \n 8755 2016-01-31 19:00:00  364    19                    1.434078   \n 8756 2016-01-31 20:00:00  364    20                    1.509165   \n 8757 2016-01-31 21:00:00  364    21                    1.582327   \n 8758 2016-01-31 22:00:00  364    22                    1.654222   \n 8759 2016-01-31 23:00:00  364    23                    1.726894   \n \n       Load_RefrigeratorTemp  Load_StatusBA1Lights  Load_StatusKitchenLightsA  \\\n 0                  4.957915                   0.0                   0.000000   \n 1                  4.904702                   0.0                   0.000000   \n 2                  5.054887                   0.0                   0.000000   \n 3                  4.991525                   0.0                   0.000000   \n 4                  5.040868                   0.0                   0.000000   \n ...                     ...                   ...                        ...   \n 8755               4.810046                   0.0                   0.750000   \n 8756               4.917617                   0.0                   0.750000   \n 8757               4.820712                   0.0                   1.000000   \n 8758               4.945030                   0.0                   0.483333   \n 8759               4.826671                   0.0                   0.000000   \n \n       Load_StatusKitchenLightsB  Load_StatusKitchenLightsC  \\\n 0                      0.000000                   0.000000   \n 1                      0.000000                   0.000000   \n 2                      0.000000                   0.000000   \n 3                      0.000000                   0.000000   \n 4                      0.000000                   0.000000   \n ...                         ...                        ...   \n 8755                   0.750000                   0.750000   \n 8756                   0.750000                   0.750000   \n 8757                   1.000000                   1.000000   \n 8758                   0.483333                   0.483333   \n 8759                   0.000000                   0.000000   \n \n       Load_StatusDRLights  ...  HVAC_DehumidifierInletAirTemp  \\\n 0                0.000000  ...                      72.228102   \n 1                0.000000  ...                      71.963450   \n 2                0.000000  ...                      71.921017   \n 3                0.000000  ...                      71.844683   \n 4                0.000000  ...                      71.959983   \n ...                   ...  ...                            ...   \n 8755             0.766667  ...                      67.764183   \n 8756             0.483333  ...                      67.889300   \n 8757             0.000000  ...                      67.785950   \n 8758             0.000000  ...                      67.797883   \n 8759             0.000000  ...                      67.656831   \n \n       HVAC_DehumidifierExitAirTemp  HVAC_DehumidifierAirflow  \\\n 0                        74.959034                       0.0   \n 1                        73.979483                       0.0   \n 2                        73.818717                       0.0   \n 3                        74.535050                       0.0   \n 4                        74.741467                       0.0   \n ...                            ...                       ...   \n 8755                     68.643883                       0.0   \n 8756                     68.772900                       0.0   \n 8757                     68.651417                       0.0   \n 8758                     68.694500                       0.0   \n 8759                     68.539610                       0.0   \n \n       Load_StatusRefrigerator  Load_StatusMicrowave  Load_StatusClothesWasher  \\\n 0                    0.525424                   0.0                       0.0   \n 1                    0.283333                   0.0                       0.0   \n 2                    0.500000                   0.0                       0.0   \n 3                    0.266667                   0.0                       0.0   \n 4                    0.466667                   0.0                       0.0   \n ...                       ...                   ...                       ...   \n 8755                 0.450000                   0.0                       0.0   \n 8756                 0.366667                   0.0                       0.0   \n 8757                 0.433333                   0.0                       0.0   \n 8758                 0.366667                   0.0                       0.0   \n 8759                 0.423729                   0.0                       0.0   \n \n       Load_StatusDryerPowerTotal  Load_StatusHeatPumpWaterHeater  Consumption  \\\n 0                            0.0                        0.000000   692.540781   \n 1                            0.0                        0.400000   966.651848   \n 2                            0.0                        0.000000   713.447302   \n 3                            0.0                        0.000000   693.051796   \n 4                            0.0                        0.000000   711.831708   \n ...                          ...                             ...          ...   \n 8755                         0.0                        0.466667  2400.011367   \n 8756                         0.0                        0.000000  1951.963461   \n 8757                         0.0                        0.450000  2582.026532   \n 8758                         0.0                        0.083333  2233.902356   \n 8759                         0.0                        0.338983  1431.743983   \n \n       Emission  \n 0     0.508536  \n 1     0.727316  \n 2     0.525879  \n 3     0.508214  \n 4     0.520379  \n ...        ...  \n 8755  1.642831  \n 8756  1.360740  \n 8757  1.407198  \n 8758  0.939420  \n 8759  0.602089  \n \n [8760 rows x 360 columns],\n 'w.o.r':                Timestamp  Day  Hour  Load_LatentHeatWaterVolume  \\\n 0    2015-02-01 00:00:00    0     0                    0.027909   \n 1    2015-02-01 01:00:00    0     1                    0.095475   \n 2    2015-02-01 02:00:00    0     2                    0.163375   \n 3    2015-02-01 03:00:00    0     3                    0.227850   \n 4    2015-02-01 04:00:00    0     4                    0.291952   \n ...                  ...  ...   ...                         ...   \n 8755 2016-01-31 19:00:00  364    19                    1.434078   \n 8756 2016-01-31 20:00:00  364    20                    1.509165   \n 8757 2016-01-31 21:00:00  364    21                    1.582327   \n 8758 2016-01-31 22:00:00  364    22                    1.654222   \n 8759 2016-01-31 23:00:00  364    23                    1.726894   \n \n       Load_RefrigeratorTemp  Load_StatusBA1Lights  Load_StatusKitchenLightsA  \\\n 0                  4.957915                   0.0                   0.000000   \n 1                  4.904702                   0.0                   0.000000   \n 2                  5.054887                   0.0                   0.000000   \n 3                  4.991525                   0.0                   0.000000   \n 4                  5.040868                   0.0                   0.000000   \n ...                     ...                   ...                        ...   \n 8755               4.810046                   0.0                   0.750000   \n 8756               4.917617                   0.0                   0.750000   \n 8757               4.820712                   0.0                   1.000000   \n 8758               4.945030                   0.0                   0.483333   \n 8759               4.826671                   0.0                   0.000000   \n \n       Load_StatusKitchenLightsB  Load_StatusKitchenLightsC  \\\n 0                      0.000000                   0.000000   \n 1                      0.000000                   0.000000   \n 2                      0.000000                   0.000000   \n 3                      0.000000                   0.000000   \n 4                      0.000000                   0.000000   \n ...                         ...                        ...   \n 8755                   0.750000                   0.750000   \n 8756                   0.750000                   0.750000   \n 8757                   1.000000                   1.000000   \n 8758                   0.483333                   0.483333   \n 8759                   0.000000                   0.000000   \n \n       Load_StatusDRLights  ...  HVAC_DehumidifierInletAirTemp  \\\n 0                0.000000  ...                      72.228102   \n 1                0.000000  ...                      71.963450   \n 2                0.000000  ...                      71.921017   \n 3                0.000000  ...                      71.844683   \n 4                0.000000  ...                      71.959983   \n ...                   ...  ...                            ...   \n 8755             0.766667  ...                      67.764183   \n 8756             0.483333  ...                      67.889300   \n 8757             0.000000  ...                      67.785950   \n 8758             0.000000  ...                      67.797883   \n 8759             0.000000  ...                      67.656831   \n \n       HVAC_DehumidifierExitAirTemp  HVAC_DehumidifierAirflow  \\\n 0                        74.959034                       0.0   \n 1                        73.979483                       0.0   \n 2                        73.818717                       0.0   \n 3                        74.535050                       0.0   \n 4                        74.741467                       0.0   \n ...                            ...                       ...   \n 8755                     68.643883                       0.0   \n 8756                     68.772900                       0.0   \n 8757                     68.651417                       0.0   \n 8758                     68.694500                       0.0   \n 8759                     68.539610                       0.0   \n \n       Load_StatusRefrigerator  Load_StatusMicrowave  Load_StatusClothesWasher  \\\n 0                    0.525424                   0.0                       0.0   \n 1                    0.283333                   0.0                       0.0   \n 2                    0.500000                   0.0                       0.0   \n 3                    0.266667                   0.0                       0.0   \n 4                    0.466667                   0.0                       0.0   \n ...                       ...                   ...                       ...   \n 8755                 0.450000                   0.0                       0.0   \n 8756                 0.366667                   0.0                       0.0   \n 8757                 0.433333                   0.0                       0.0   \n 8758                 0.366667                   0.0                       0.0   \n 8759                 0.423729                   0.0                       0.0   \n \n       Load_StatusDryerPowerTotal  Load_StatusHeatPumpWaterHeater  Consumption  \\\n 0                            0.0                        0.000000   692.540781   \n 1                            0.0                        0.400000   966.651848   \n 2                            0.0                        0.000000   713.447302   \n 3                            0.0                        0.000000   693.051796   \n 4                            0.0                        0.000000   711.831708   \n ...                          ...                             ...          ...   \n 8755                         0.0                        0.466667  2136.914121   \n 8756                         0.0                        0.000000  1833.287193   \n 8757                         0.0                        0.450000  2582.026532   \n 8758                         0.0                        0.083333  2203.256873   \n 8759                         0.0                        0.338983  1427.819095   \n \n       Emission  \n 0     0.508536  \n 1     0.727316  \n 2     0.525879  \n 3     0.508214  \n 4     0.520379  \n ...        ...  \n 8755  1.462738  \n 8756  1.278009  \n 8757  1.407198  \n 8758  0.926533  \n 8759  0.600439  \n \n [8760 rows x 360 columns],\n 'm.a.o':                Timestamp  Day  Hour  Load_StatusApplianceDishwasher  \\\n 0    2015-02-01 00:00:00    0     0                          0.0000   \n 1    2015-02-01 01:00:00    0     1                          0.0000   \n 2    2015-02-01 02:00:00    0     2                          0.0000   \n 3    2015-02-01 03:00:00    0     3                          0.0000   \n 4    2015-02-01 04:00:00    0     4                          0.0000   \n ...                  ...  ...   ...                             ...   \n 8755 2016-01-31 19:00:00  364    19                          0.0000   \n 8756 2016-01-31 20:00:00  364    20                          0.0000   \n 8757 2016-01-31 21:00:00  364    21                          0.2167   \n 8758 2016-01-31 22:00:00  364    22                          1.0000   \n 8759 2016-01-31 23:00:00  364    23                          1.0000   \n \n       Load_StatusPlugLoadVacuum  Load_StatusClothesWasher  \\\n 0                           0.0                       0.0   \n 1                           0.0                       0.0   \n 2                           0.0                       0.0   \n 3                           0.0                       0.0   \n 4                           0.0                       0.0   \n ...                         ...                       ...   \n 8755                        0.0                       0.0   \n 8756                        0.0                       0.0   \n 8757                        0.0                       0.0   \n 8758                        0.0                       0.0   \n 8759                        0.0                       0.0   \n \n       Load_StatusDryerPowerTotal  Load_StatusPlugLoadIron  Emission(g/Wh)  \\\n 0                            0.0                      0.0        0.734305   \n 1                            0.0                      0.0        0.752407   \n 2                            0.0                      0.0        0.737095   \n 3                            0.0                      0.0        0.733298   \n 4                            0.0                      0.0        0.731043   \n ...                          ...                      ...             ...   \n 8755                         0.0                      0.0        0.684510   \n 8756                         0.0                      0.0        0.697113   \n 8757                         0.0                      0.0        0.544998   \n 8758                         0.0                      0.0        0.420529   \n 8759                         0.0                      0.0        0.420529   \n \n       Emission  OldLoad_StatusApplianceDishwasher  \\\n 0     0.000000                           0.000000   \n 1     0.000000                           0.000000   \n 2     0.000000                           0.000000   \n 3     0.000000                           0.000000   \n 4     0.000000                           0.000000   \n ...        ...                                ...   \n 8755  0.000000                           0.000000   \n 8756  0.000000                           0.550000   \n 8757  0.033034                           1.000000   \n 8758  0.117626                           0.666667   \n 8759  0.117626                           0.000000   \n \n       OldLoad_StatusPlugLoadVacuum  OldLoad_StatusClothesWasher  \\\n 0                              0.0                          0.0   \n 1                              0.0                          0.0   \n 2                              0.0                          0.0   \n 3                              0.0                          0.0   \n 4                              0.0                          0.0   \n ...                            ...                          ...   \n 8755                           0.0                          0.0   \n 8756                           0.0                          0.0   \n 8757                           0.0                          0.0   \n 8758                           0.0                          0.0   \n 8759                           0.0                          0.0   \n \n       OldLoad_StatusDryerPowerTotal  OldLoad_StatusPlugLoadIron  OldEmission  \n 0                               0.0                         0.0     0.000000  \n 1                               0.0                         0.0     0.000000  \n 2                               0.0                         0.0     0.000000  \n 3                               0.0                         0.0     0.000000  \n 4                               0.0                         0.0     0.000000  \n ...                             ...                         ...          ...  \n 8755                            0.0                         0.0     0.000000  \n 8756                            0.0                         0.0     0.108122  \n 8757                            0.0                         0.0     0.153689  \n 8758                            0.0                         0.0     0.079059  \n 8759                            0.0                         0.0     0.000000  \n \n [8760 rows x 16 columns]}"
     },
     "execution_count": 3,
     "metadata": {},
     "output_type": "execute_result"
    }
   ],
   "source": [
    "NZERTF_optimisation"
   ],
   "metadata": {
    "collapsed": false,
    "pycharm": {
     "name": "#%%\n"
    }
   }
  },
  {
   "cell_type": "code",
   "execution_count": 4,
   "outputs": [
    {
     "name": "stdout",
     "output_type": "stream",
     "text": [
      "w.r: 0       0.508536\n",
      "1       0.727316\n",
      "2       0.525879\n",
      "3       0.508214\n",
      "4       0.520379\n",
      "          ...   \n",
      "8755    1.642831\n",
      "8756    1.360740\n",
      "8757    1.407198\n",
      "8758    0.939420\n",
      "8759    0.602089\n",
      "Name: Emission, Length: 8760, dtype: float64\n",
      "w.o.r: 0       0.508536\n",
      "1       0.727316\n",
      "2       0.525879\n",
      "3       0.508214\n",
      "4       0.520379\n",
      "          ...   \n",
      "8755    1.462738\n",
      "8756    1.278009\n",
      "8757    1.407198\n",
      "8758    0.926533\n",
      "8759    0.600439\n",
      "Name: Emission, Length: 8760, dtype: float64\n",
      "m.a.o: 0       0.000000\n",
      "1       0.000000\n",
      "2       0.000000\n",
      "3       0.000000\n",
      "4       0.000000\n",
      "          ...   \n",
      "8755    0.000000\n",
      "8756    0.000000\n",
      "8757    0.033034\n",
      "8758    0.117626\n",
      "8759    0.117626\n",
      "Name: Emission, Length: 8760, dtype: float64\n"
     ]
    }
   ],
   "source": [
    "for key, value in NZERTF_optimisation.items():\n",
    "    print(f'{key}: {value[\"Emission\"]}')"
   ],
   "metadata": {
    "collapsed": false,
    "pycharm": {
     "name": "#%%\n"
    }
   }
  },
  {
   "cell_type": "code",
   "execution_count": 5,
   "outputs": [
    {
     "data": {
      "text/plain": "{'w.r': 8388.657846296948,\n 'w.o.r': 8257.25142366896,\n 'm.a.o': 377.724896268213,\n 'm.a.u.o': 528.1785737581545}"
     },
     "execution_count": 5,
     "metadata": {},
     "output_type": "execute_result"
    }
   ],
   "source": [
    "NZERTF_emission"
   ],
   "metadata": {
    "collapsed": false,
    "pycharm": {
     "name": "#%%\n"
    }
   }
  },
  {
   "cell_type": "markdown",
   "source": [
    "year1= {'w.r': 6943587.30903113,\n",
    " 'w.o.r': 6808693.4608922275,\n",
    " 'm.a.u.o': 664541.8682200217,\n",
    " 'm.a.o': 539569.892249094}\n",
    "\n",
    "year2 = {'w.r': 8371902.086841607,\n",
    " 'w.o.r': 8242621.19712289,\n",
    " 'm.a.u.o': 511242.76383277134,\n",
    " 'm.a.o': 603731.4005264738}"
   ],
   "metadata": {
    "collapsed": false,
    "pycharm": {
     "name": "#%% md\n"
    }
   }
  },
  {
   "cell_type": "code",
   "execution_count": 6,
   "outputs": [],
   "source": [
    "redundancy_reduction = NZERTF_emission['w.r'] - NZERTF_emission['w.o.r']\n",
    "optimisation_reduction = NZERTF_emission['m.a.u.o'] - NZERTF_emission['m.a.o']\n",
    "total_reduction = redundancy_reduction + optimisation_reduction"
   ],
   "metadata": {
    "collapsed": false,
    "pycharm": {
     "name": "#%%\n"
    }
   }
  },
  {
   "cell_type": "code",
   "execution_count": 7,
   "outputs": [
    {
     "data": {
      "text/plain": "131.40642262798792"
     },
     "execution_count": 7,
     "metadata": {},
     "output_type": "execute_result"
    }
   ],
   "source": [
    "redundancy_reduction"
   ],
   "metadata": {
    "collapsed": false,
    "pycharm": {
     "name": "#%%\n"
    }
   }
  },
  {
   "cell_type": "code",
   "execution_count": 8,
   "outputs": [
    {
     "data": {
      "text/plain": "150.45367748994147"
     },
     "execution_count": 8,
     "metadata": {},
     "output_type": "execute_result"
    }
   ],
   "source": [
    "optimisation_reduction"
   ],
   "metadata": {
    "collapsed": false,
    "pycharm": {
     "name": "#%%\n"
    }
   }
  },
  {
   "cell_type": "code",
   "execution_count": 9,
   "outputs": [
    {
     "data": {
      "text/plain": "281.8601001179294"
     },
     "execution_count": 9,
     "metadata": {},
     "output_type": "execute_result"
    }
   ],
   "source": [
    "total_reduction"
   ],
   "metadata": {
    "collapsed": false,
    "pycharm": {
     "name": "#%%\n"
    }
   }
  },
  {
   "cell_type": "code",
   "execution_count": 10,
   "outputs": [
    {
     "data": {
      "text/plain": "               Timestamp  Day  Hour  Load_StatusApplianceDishwasher  \\\n0    2015-02-01 00:00:00    0     0                          0.0000   \n1    2015-02-01 01:00:00    0     1                          0.0000   \n2    2015-02-01 02:00:00    0     2                          0.0000   \n3    2015-02-01 03:00:00    0     3                          0.0000   \n4    2015-02-01 04:00:00    0     4                          0.0000   \n...                  ...  ...   ...                             ...   \n8755 2016-01-31 19:00:00  364    19                          0.0000   \n8756 2016-01-31 20:00:00  364    20                          0.0000   \n8757 2016-01-31 21:00:00  364    21                          0.2167   \n8758 2016-01-31 22:00:00  364    22                          1.0000   \n8759 2016-01-31 23:00:00  364    23                          1.0000   \n\n      Load_StatusPlugLoadVacuum  Load_StatusClothesWasher  \\\n0                           0.0                       0.0   \n1                           0.0                       0.0   \n2                           0.0                       0.0   \n3                           0.0                       0.0   \n4                           0.0                       0.0   \n...                         ...                       ...   \n8755                        0.0                       0.0   \n8756                        0.0                       0.0   \n8757                        0.0                       0.0   \n8758                        0.0                       0.0   \n8759                        0.0                       0.0   \n\n      Load_StatusDryerPowerTotal  Load_StatusPlugLoadIron  Emission(g/Wh)  \\\n0                            0.0                      0.0        0.734305   \n1                            0.0                      0.0        0.752407   \n2                            0.0                      0.0        0.737095   \n3                            0.0                      0.0        0.733298   \n4                            0.0                      0.0        0.731043   \n...                          ...                      ...             ...   \n8755                         0.0                      0.0        0.684510   \n8756                         0.0                      0.0        0.697113   \n8757                         0.0                      0.0        0.544998   \n8758                         0.0                      0.0        0.420529   \n8759                         0.0                      0.0        0.420529   \n\n      Emission  OldLoad_StatusApplianceDishwasher  \\\n0     0.000000                           0.000000   \n1     0.000000                           0.000000   \n2     0.000000                           0.000000   \n3     0.000000                           0.000000   \n4     0.000000                           0.000000   \n...        ...                                ...   \n8755  0.000000                           0.000000   \n8756  0.000000                           0.550000   \n8757  0.033034                           1.000000   \n8758  0.117626                           0.666667   \n8759  0.117626                           0.000000   \n\n      OldLoad_StatusPlugLoadVacuum  OldLoad_StatusClothesWasher  \\\n0                              0.0                          0.0   \n1                              0.0                          0.0   \n2                              0.0                          0.0   \n3                              0.0                          0.0   \n4                              0.0                          0.0   \n...                            ...                          ...   \n8755                           0.0                          0.0   \n8756                           0.0                          0.0   \n8757                           0.0                          0.0   \n8758                           0.0                          0.0   \n8759                           0.0                          0.0   \n\n      OldLoad_StatusDryerPowerTotal  OldLoad_StatusPlugLoadIron  OldEmission  \n0                               0.0                         0.0     0.000000  \n1                               0.0                         0.0     0.000000  \n2                               0.0                         0.0     0.000000  \n3                               0.0                         0.0     0.000000  \n4                               0.0                         0.0     0.000000  \n...                             ...                         ...          ...  \n8755                            0.0                         0.0     0.000000  \n8756                            0.0                         0.0     0.108122  \n8757                            0.0                         0.0     0.153689  \n8758                            0.0                         0.0     0.079059  \n8759                            0.0                         0.0     0.000000  \n\n[8760 rows x 16 columns]",
      "text/html": "<div>\n<style scoped>\n    .dataframe tbody tr th:only-of-type {\n        vertical-align: middle;\n    }\n\n    .dataframe tbody tr th {\n        vertical-align: top;\n    }\n\n    .dataframe thead th {\n        text-align: right;\n    }\n</style>\n<table border=\"1\" class=\"dataframe\">\n  <thead>\n    <tr style=\"text-align: right;\">\n      <th></th>\n      <th>Timestamp</th>\n      <th>Day</th>\n      <th>Hour</th>\n      <th>Load_StatusApplianceDishwasher</th>\n      <th>Load_StatusPlugLoadVacuum</th>\n      <th>Load_StatusClothesWasher</th>\n      <th>Load_StatusDryerPowerTotal</th>\n      <th>Load_StatusPlugLoadIron</th>\n      <th>Emission(g/Wh)</th>\n      <th>Emission</th>\n      <th>OldLoad_StatusApplianceDishwasher</th>\n      <th>OldLoad_StatusPlugLoadVacuum</th>\n      <th>OldLoad_StatusClothesWasher</th>\n      <th>OldLoad_StatusDryerPowerTotal</th>\n      <th>OldLoad_StatusPlugLoadIron</th>\n      <th>OldEmission</th>\n    </tr>\n  </thead>\n  <tbody>\n    <tr>\n      <th>0</th>\n      <td>2015-02-01 00:00:00</td>\n      <td>0</td>\n      <td>0</td>\n      <td>0.0000</td>\n      <td>0.0</td>\n      <td>0.0</td>\n      <td>0.0</td>\n      <td>0.0</td>\n      <td>0.734305</td>\n      <td>0.000000</td>\n      <td>0.000000</td>\n      <td>0.0</td>\n      <td>0.0</td>\n      <td>0.0</td>\n      <td>0.0</td>\n      <td>0.000000</td>\n    </tr>\n    <tr>\n      <th>1</th>\n      <td>2015-02-01 01:00:00</td>\n      <td>0</td>\n      <td>1</td>\n      <td>0.0000</td>\n      <td>0.0</td>\n      <td>0.0</td>\n      <td>0.0</td>\n      <td>0.0</td>\n      <td>0.752407</td>\n      <td>0.000000</td>\n      <td>0.000000</td>\n      <td>0.0</td>\n      <td>0.0</td>\n      <td>0.0</td>\n      <td>0.0</td>\n      <td>0.000000</td>\n    </tr>\n    <tr>\n      <th>2</th>\n      <td>2015-02-01 02:00:00</td>\n      <td>0</td>\n      <td>2</td>\n      <td>0.0000</td>\n      <td>0.0</td>\n      <td>0.0</td>\n      <td>0.0</td>\n      <td>0.0</td>\n      <td>0.737095</td>\n      <td>0.000000</td>\n      <td>0.000000</td>\n      <td>0.0</td>\n      <td>0.0</td>\n      <td>0.0</td>\n      <td>0.0</td>\n      <td>0.000000</td>\n    </tr>\n    <tr>\n      <th>3</th>\n      <td>2015-02-01 03:00:00</td>\n      <td>0</td>\n      <td>3</td>\n      <td>0.0000</td>\n      <td>0.0</td>\n      <td>0.0</td>\n      <td>0.0</td>\n      <td>0.0</td>\n      <td>0.733298</td>\n      <td>0.000000</td>\n      <td>0.000000</td>\n      <td>0.0</td>\n      <td>0.0</td>\n      <td>0.0</td>\n      <td>0.0</td>\n      <td>0.000000</td>\n    </tr>\n    <tr>\n      <th>4</th>\n      <td>2015-02-01 04:00:00</td>\n      <td>0</td>\n      <td>4</td>\n      <td>0.0000</td>\n      <td>0.0</td>\n      <td>0.0</td>\n      <td>0.0</td>\n      <td>0.0</td>\n      <td>0.731043</td>\n      <td>0.000000</td>\n      <td>0.000000</td>\n      <td>0.0</td>\n      <td>0.0</td>\n      <td>0.0</td>\n      <td>0.0</td>\n      <td>0.000000</td>\n    </tr>\n    <tr>\n      <th>...</th>\n      <td>...</td>\n      <td>...</td>\n      <td>...</td>\n      <td>...</td>\n      <td>...</td>\n      <td>...</td>\n      <td>...</td>\n      <td>...</td>\n      <td>...</td>\n      <td>...</td>\n      <td>...</td>\n      <td>...</td>\n      <td>...</td>\n      <td>...</td>\n      <td>...</td>\n      <td>...</td>\n    </tr>\n    <tr>\n      <th>8755</th>\n      <td>2016-01-31 19:00:00</td>\n      <td>364</td>\n      <td>19</td>\n      <td>0.0000</td>\n      <td>0.0</td>\n      <td>0.0</td>\n      <td>0.0</td>\n      <td>0.0</td>\n      <td>0.684510</td>\n      <td>0.000000</td>\n      <td>0.000000</td>\n      <td>0.0</td>\n      <td>0.0</td>\n      <td>0.0</td>\n      <td>0.0</td>\n      <td>0.000000</td>\n    </tr>\n    <tr>\n      <th>8756</th>\n      <td>2016-01-31 20:00:00</td>\n      <td>364</td>\n      <td>20</td>\n      <td>0.0000</td>\n      <td>0.0</td>\n      <td>0.0</td>\n      <td>0.0</td>\n      <td>0.0</td>\n      <td>0.697113</td>\n      <td>0.000000</td>\n      <td>0.550000</td>\n      <td>0.0</td>\n      <td>0.0</td>\n      <td>0.0</td>\n      <td>0.0</td>\n      <td>0.108122</td>\n    </tr>\n    <tr>\n      <th>8757</th>\n      <td>2016-01-31 21:00:00</td>\n      <td>364</td>\n      <td>21</td>\n      <td>0.2167</td>\n      <td>0.0</td>\n      <td>0.0</td>\n      <td>0.0</td>\n      <td>0.0</td>\n      <td>0.544998</td>\n      <td>0.033034</td>\n      <td>1.000000</td>\n      <td>0.0</td>\n      <td>0.0</td>\n      <td>0.0</td>\n      <td>0.0</td>\n      <td>0.153689</td>\n    </tr>\n    <tr>\n      <th>8758</th>\n      <td>2016-01-31 22:00:00</td>\n      <td>364</td>\n      <td>22</td>\n      <td>1.0000</td>\n      <td>0.0</td>\n      <td>0.0</td>\n      <td>0.0</td>\n      <td>0.0</td>\n      <td>0.420529</td>\n      <td>0.117626</td>\n      <td>0.666667</td>\n      <td>0.0</td>\n      <td>0.0</td>\n      <td>0.0</td>\n      <td>0.0</td>\n      <td>0.079059</td>\n    </tr>\n    <tr>\n      <th>8759</th>\n      <td>2016-01-31 23:00:00</td>\n      <td>364</td>\n      <td>23</td>\n      <td>1.0000</td>\n      <td>0.0</td>\n      <td>0.0</td>\n      <td>0.0</td>\n      <td>0.0</td>\n      <td>0.420529</td>\n      <td>0.117626</td>\n      <td>0.000000</td>\n      <td>0.0</td>\n      <td>0.0</td>\n      <td>0.0</td>\n      <td>0.0</td>\n      <td>0.000000</td>\n    </tr>\n  </tbody>\n</table>\n<p>8760 rows × 16 columns</p>\n</div>"
     },
     "execution_count": 10,
     "metadata": {},
     "output_type": "execute_result"
    }
   ],
   "source": [
    "NZERTF_optimisation['m.a.o']"
   ],
   "metadata": {
    "collapsed": false,
    "pycharm": {
     "name": "#%%\n"
    }
   }
  },
  {
   "cell_type": "code",
   "execution_count": 11,
   "outputs": [
    {
     "data": {
      "text/plain": "182974.74609446712"
     },
     "execution_count": 11,
     "metadata": {},
     "output_type": "execute_result"
    }
   ],
   "source": [
    "NZERTF_optimisation['w.r']['Consumption'].sum()-NZERTF_optimisation['w.o.r']['Consumption'].sum()"
   ],
   "metadata": {
    "collapsed": false,
    "pycharm": {
     "name": "#%%\n"
    }
   }
  },
  {
   "cell_type": "code",
   "execution_count": 12,
   "outputs": [
    {
     "data": {
      "text/plain": "0      698.788280\n1      709.881802\n2      702.950804\n3      725.324320\n4      772.492298\n5      739.047235\n6     2977.813052\n7     1597.746481\n8     1640.184101\n9     1367.349349\n10    1109.436437\n11     559.195413\n12    1260.300588\n13     710.009025\n14    1027.502203\n15    1109.782531\n16     665.280911\n17     748.913165\n18    2941.576315\n19    2525.628646\n20    2473.697660\n21    2272.299162\n22    1995.166929\n23    1131.257300\nName: Consumption, dtype: float64"
     },
     "execution_count": 12,
     "metadata": {},
     "output_type": "execute_result"
    }
   ],
   "source": [
    "NZERTF_optimisation['w.r']['Consumption'].groupby(NZERTF_optimisation['w.r']['Consumption'].index % 24).mean()"
   ],
   "metadata": {
    "collapsed": false,
    "pycharm": {
     "name": "#%%\n"
    }
   }
  },
  {
   "cell_type": "markdown",
   "source": [
    "## Hours and kWh reduced by redundancy removal"
   ],
   "metadata": {
    "collapsed": false,
    "pycharm": {
     "name": "#%% md\n"
    }
   }
  },
  {
   "cell_type": "code",
   "execution_count": 13,
   "outputs": [],
   "source": [
    "house_df, meta = Db.load_data(year=2, hourly=False, consumption=True, production=False, meta=True, with_redundancy=True)"
   ],
   "metadata": {
    "collapsed": false,
    "pycharm": {
     "name": "#%%\n"
    }
   }
  },
  {
   "cell_type": "code",
   "execution_count": 14,
   "outputs": [],
   "source": [
    "status_constraint = meta.loc[(lambda self:\n",
    "                           (self[\"Parameter\"] == \"Status_OnOff\") &\n",
    "                           (~self.index.str.contains(\"SensHeat\")) &\n",
    "                           (self[\"Subsystem\"] == \"Loads\"))].index.to_list()"
   ],
   "metadata": {
    "collapsed": false,
    "pycharm": {
     "name": "#%%\n"
    }
   }
  },
  {
   "cell_type": "code",
   "execution_count": 15,
   "outputs": [
    {
     "data": {
      "text/plain": "35973.56666666667"
     },
     "execution_count": 15,
     "metadata": {},
     "output_type": "execute_result"
    }
   ],
   "source": [
    "before_red_remov = house_df[status_constraint].sum()/60\n",
    "before_red_remov.sum()"
   ],
   "metadata": {
    "collapsed": false,
    "pycharm": {
     "name": "#%%\n"
    }
   }
  },
  {
   "cell_type": "code",
   "execution_count": 16,
   "outputs": [],
   "source": [
    "after_red_remov = NZERTF_optimisation['w.o.r'][status_constraint].sum()"
   ],
   "metadata": {
    "collapsed": false,
    "pycharm": {
     "name": "#%%\n"
    }
   }
  },
  {
   "cell_type": "code",
   "execution_count": 17,
   "outputs": [
    {
     "data": {
      "text/plain": "972.3236864233331"
     },
     "execution_count": 17,
     "metadata": {},
     "output_type": "execute_result"
    }
   ],
   "source": [
    "before_red_remov.sum()-after_red_remov.sum()"
   ],
   "metadata": {
    "collapsed": false,
    "pycharm": {
     "name": "#%%\n"
    }
   }
  },
  {
   "cell_type": "code",
   "execution_count": 18,
   "outputs": [
    {
     "data": {
      "text/plain": "2.7028837463711772"
     },
     "execution_count": 18,
     "metadata": {},
     "output_type": "execute_result"
    }
   ],
   "source": [
    "(before_red_remov.sum()-after_red_remov.sum())/before_red_remov.sum()*100"
   ],
   "metadata": {
    "collapsed": false,
    "pycharm": {
     "name": "#%%\n"
    }
   }
  }
 ],
 "metadata": {
  "kernelspec": {
   "display_name": "Python 3",
   "language": "python",
   "name": "python3"
  },
  "language_info": {
   "codemirror_mode": {
    "name": "ipython",
    "version": 2
   },
   "file_extension": ".py",
   "mimetype": "text/x-python",
   "name": "python",
   "nbconvert_exporter": "python",
   "pygments_lexer": "ipython2",
   "version": "2.7.6"
  }
 },
 "nbformat": 4,
 "nbformat_minor": 0
}
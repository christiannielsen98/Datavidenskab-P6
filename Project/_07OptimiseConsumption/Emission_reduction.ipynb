{
 "cells": [
  {
   "cell_type": "code",
   "execution_count": 70,
   "metadata": {
    "collapsed": true,
    "pycharm": {
     "name": "#%%\n"
    }
   },
   "outputs": [],
   "source": [
    "import pandas as pd\n",
    "\n",
    "from Project.Database import Db\n",
    "from optimisation_problem import hourly_house_df, slice_emission_vector, power_consumption_vector, NZERTF_optimiser, SE_time_df, json_to_dataframe"
   ]
  },
  {
   "cell_type": "code",
   "execution_count": 71,
   "outputs": [],
   "source": [
    "def find_emissions(df, emission_vec):\n",
    "    energy_vec = df.copy()['Consumption'].reset_index(drop=True)\n",
    "    emission_vector = energy_vec.multiply(emission_vec)\n",
    "    for index, emission in emission_vector[lambda self: self > 0].iteritems():\n",
    "        df.loc[lambda self: (self['Hour'] == index), 'Emission'] += emission\n",
    "    return df['Emission']"
   ],
   "metadata": {
    "collapsed": false,
    "pycharm": {
     "name": "#%%\n"
    }
   }
  },
  {
   "cell_type": "code",
   "execution_count": 72,
   "outputs": [
    {
     "name": "stderr",
     "output_type": "stream",
     "text": [
      "/var/folders/bd/t85lw5j14_vc55x5tn1xbmr00000gn/T/ipykernel_5862/1747781345.py:5: SettingWithCopyWarning: \n",
      "A value is trying to be set on a copy of a slice from a DataFrame.\n",
      "Try using .loc[row_indexer,col_indexer] = value instead\n",
      "\n",
      "See the caveats in the documentation: https://pandas.pydata.org/pandas-docs/stable/user_guide/indexing.html#returning-a-view-versus-a-copy\n",
      "  df.loc[lambda self: (self['Hour'] == index), 'Emission'] += emission\n",
      "/var/folders/bd/t85lw5j14_vc55x5tn1xbmr00000gn/T/ipykernel_5862/1747781345.py:5: SettingWithCopyWarning: \n",
      "A value is trying to be set on a copy of a slice from a DataFrame.\n",
      "Try using .loc[row_indexer,col_indexer] = value instead\n",
      "\n",
      "See the caveats in the documentation: https://pandas.pydata.org/pandas-docs/stable/user_guide/indexing.html#returning-a-view-versus-a-copy\n",
      "  df.loc[lambda self: (self['Hour'] == index), 'Emission'] += emission\n",
      "/var/folders/bd/t85lw5j14_vc55x5tn1xbmr00000gn/T/ipykernel_5862/1747781345.py:5: SettingWithCopyWarning: \n",
      "A value is trying to be set on a copy of a slice from a DataFrame.\n",
      "Try using .loc[row_indexer,col_indexer] = value instead\n",
      "\n",
      "See the caveats in the documentation: https://pandas.pydata.org/pandas-docs/stable/user_guide/indexing.html#returning-a-view-versus-a-copy\n",
      "  df.loc[lambda self: (self['Hour'] == index), 'Emission'] += emission\n"
     ]
    }
   ],
   "source": [
    "meta = Db.load_data(meta=True, hourly=False, year=2, consumption=False).loc[\n",
    "    lambda self: (~self['Consumer_Match'].isna()), 'Consumer_Match']\n",
    "\n",
    "movable_appliances = ['Load_StatusApplianceDishwasher', 'Load_StatusPlugLoadVacuum', 'Load_StatusClothesWasher',\n",
    "                      'Load_StatusDryerPowerTotal', 'Load_StatusPlugLoadIron']\n",
    "\n",
    "appliances = meta.index.tolist()\n",
    "consumers = meta.tolist()\n",
    "\n",
    "patterns = SE_time_df(\n",
    "    dataframe=json_to_dataframe(\n",
    "        year=2,\n",
    "        level=1,\n",
    "        exclude_follows=True,\n",
    "        with_redundancy=False).loc[lambda self: self['pattern'].isin(movable_appliances)],\n",
    "    TAT=0.1,\n",
    "    TS_method='mean')\n",
    "\n",
    "power_consumption = power_consumption_vector(movable_appliances=movable_appliances)\n",
    "\n",
    "# with redundancy <- w.r\n",
    "# without redundancy <- w.o.r\n",
    "# movable appliances unoptimised <- m.a.u.o\n",
    "# movable appliances optimised <- m.a.o\n",
    "NZERTF_optimisation = {\n",
    "    'w.r': Db.load_data(year=2, hourly=False),\n",
    "    'w.o.r': Db.load_data(year=2, hourly=False, with_redundancy=False)\n",
    "}\n",
    "\n",
    "NZERTF_optimisation.update({\n",
    "    'm.a.u.o': NZERTF_optimisation['w.o.r'].copy()[['Timestamp'] + movable_appliances]\n",
    "})\n",
    "\n",
    "timestamps = pd.to_datetime(\n",
    "    NZERTF_optimisation['w.r']['Timestamp'].dt.strftime('%Y-%m-%d %H').unique(),\n",
    "    format='%Y-%m-%d %H')\n",
    "\n",
    "production = Db.load_data(\n",
    "    consumption=False,\n",
    "    production=True,\n",
    "    year=2)['CO2(Grams)/kWh'][lambda self: self.index.isin(timestamps)]\n",
    "production = production.groupby(pd.to_datetime(production.index.strftime('%Y-%m-%d %H'))).sum()\n",
    "\n",
    "for key, value in NZERTF_optimisation.items():\n",
    "    df = value.copy()\n",
    "    if all([att in df.columns for att in consumers]):\n",
    "        df =  hourly_house_df(house_df=df.copy(), aggregate_func='mean')\n",
    "        df['Consumption'] = df[consumers].div(1_000).sum(1)\n",
    "        df.drop(labels=consumers, inplace=True, axis=1)\n",
    "    else:\n",
    "        df = hourly_house_df(house_df=df, aggregate_func='mean')\n",
    "\n",
    "        df['Consumption'] = df[movable_appliances].dot(\n",
    "            power_consumption).div(1_000)\n",
    "\n",
    "    for day in df['Day'].unique():\n",
    "        df.loc[(lambda self: (self['Day'] == day)),\n",
    "               'Emission'] = find_emissions(df=df.loc[lambda self: self['Day'] == day],\n",
    "                                            emission_vec=slice_emission_vector(\n",
    "                                                production_vectors=production,\n",
    "                                                day_number=day))\n",
    "    NZERTF_optimisation.update({\n",
    "        key: df\n",
    "    })\n",
    "\n",
    "NZERTF_optimisation.update({\n",
    "    'm.a.o': NZERTF_optimiser()\n",
    "})\n",
    "\n",
    "NZERTF_emission = {}\n",
    "\n",
    "for key in NZERTF_optimisation.keys():\n",
    "    NZERTF_emission.update({\n",
    "        key: NZERTF_optimisation[key]['Emission'].sum()\n",
    "    })"
   ],
   "metadata": {
    "collapsed": false,
    "pycharm": {
     "name": "#%%\n"
    }
   }
  },
  {
   "cell_type": "code",
   "execution_count": 73,
   "outputs": [
    {
     "name": "stdout",
     "output_type": "stream",
     "text": [
      "w.r: 0        508.534908\n",
      "1        709.815540\n",
      "2        523.886634\n",
      "3        508.910148\n",
      "4        522.700297\n",
      "           ...     \n",
      "8667    1848.906611\n",
      "8668    1503.742106\n",
      "8669    1989.126381\n",
      "8670    1720.940530\n",
      "8671    1102.978491\n",
      "Name: Emission, Length: 8672, dtype: float64\n",
      "w.o.r: 0        508.534908\n",
      "1        709.815540\n",
      "2        523.886634\n",
      "3        508.910148\n",
      "4        522.700297\n",
      "           ...     \n",
      "8667    1646.223306\n",
      "8668    1412.316982\n",
      "8669    1989.126381\n",
      "8670    1697.332044\n",
      "8671    1099.954859\n",
      "Name: Emission, Length: 8672, dtype: float64\n",
      "m.a.u.o: 0         0.000000\n",
      "1         0.000000\n",
      "2         0.000000\n",
      "3         0.000000\n",
      "4         0.000000\n",
      "           ...    \n",
      "8667      0.000000\n",
      "8668    119.485024\n",
      "8669    217.245498\n",
      "8670    144.830332\n",
      "8671      0.000000\n",
      "Name: Emission, Length: 8672, dtype: float64\n",
      "m.a.o: 0          0.000000\n",
      "1          0.000000\n",
      "2          0.000000\n",
      "3          0.000000\n",
      "4          0.000000\n",
      "           ...     \n",
      "8667       0.000000\n",
      "8668      48.797821\n",
      "8669    1069.285258\n",
      "8670     118.589460\n",
      "8671      29.647365\n",
      "Name: Emission, Length: 8672, dtype: float64\n"
     ]
    }
   ],
   "source": [
    "for key, value in NZERTF_optimisation.items():\n",
    "    print(f'{key}: {value[\"Emission\"]}')"
   ],
   "metadata": {
    "collapsed": false,
    "pycharm": {
     "name": "#%%\n"
    }
   }
  },
  {
   "cell_type": "code",
   "execution_count": 74,
   "outputs": [
    {
     "data": {
      "text/plain": "{'w.r': 8371902.086841607,\n 'w.o.r': 8242621.19712289,\n 'm.a.u.o': 511242.76383277134,\n 'm.a.o': 539569.892249094}"
     },
     "execution_count": 74,
     "metadata": {},
     "output_type": "execute_result"
    }
   ],
   "source": [
    "NZERTF_emission"
   ],
   "metadata": {
    "collapsed": false,
    "pycharm": {
     "name": "#%%\n"
    }
   }
  },
  {
   "cell_type": "code",
   "execution_count": 75,
   "outputs": [],
   "source": [
    "redundancy_reduction = NZERTF_emission['w.r'] - NZERTF_emission['w.o.r']\n",
    "optimisation_reduction = NZERTF_emission['m.a.u.o'] - NZERTF_emission['m.a.o']\n",
    "total_reduction = redundancy_reduction + optimisation_reduction"
   ],
   "metadata": {
    "collapsed": false,
    "pycharm": {
     "name": "#%%\n"
    }
   }
  },
  {
   "cell_type": "code",
   "execution_count": 76,
   "outputs": [
    {
     "data": {
      "text/plain": "129280.88971871696"
     },
     "execution_count": 76,
     "metadata": {},
     "output_type": "execute_result"
    }
   ],
   "source": [
    "redundancy_reduction"
   ],
   "metadata": {
    "collapsed": false,
    "pycharm": {
     "name": "#%%\n"
    }
   }
  },
  {
   "cell_type": "code",
   "execution_count": 77,
   "outputs": [
    {
     "data": {
      "text/plain": "-28327.128416322637"
     },
     "execution_count": 77,
     "metadata": {},
     "output_type": "execute_result"
    }
   ],
   "source": [
    "optimisation_reduction"
   ],
   "metadata": {
    "collapsed": false,
    "pycharm": {
     "name": "#%%\n"
    }
   }
  },
  {
   "cell_type": "code",
   "execution_count": 78,
   "outputs": [
    {
     "data": {
      "text/plain": "100953.76130239433"
     },
     "execution_count": 78,
     "metadata": {},
     "output_type": "execute_result"
    }
   ],
   "source": [
    "total_reduction"
   ],
   "metadata": {
    "collapsed": false,
    "pycharm": {
     "name": "#%%\n"
    }
   }
  },
  {
   "cell_type": "code",
   "execution_count": 79,
   "outputs": [
    {
     "data": {
      "text/plain": "      Day  Hour           Timestamp  Load_StatusApplianceDishwasher  \\\n0       0     0 2015-02-01 00:00:00                               0   \n1       0     1 2015-02-01 01:00:00                               0   \n2       0     2 2015-02-01 02:00:00                               0   \n3       0     3 2015-02-01 03:00:00                               0   \n4       0     4 2015-02-01 04:00:00                               0   \n...   ...   ...                 ...                             ...   \n8667  364    19 2016-01-31 19:00:00                               0   \n8668  364    20 2016-01-31 20:00:00                               0   \n8669  364    21 2016-01-31 21:00:00                               1   \n8670  364    22 2016-01-31 22:00:00                               1   \n8671  364    23 2016-01-31 23:00:00                               1   \n\n      Load_StatusPlugLoadVacuum  Load_StatusClothesWasher  \\\n0                             0                         0   \n1                             0                         0   \n2                             0                         0   \n3                             0                         0   \n4                             0                         0   \n...                         ...                       ...   \n8667                          0                         0   \n8668                          0                         1   \n8669                          0                         1   \n8670                          0                         0   \n8671                          0                         0   \n\n      Load_StatusDryerPowerTotal  Load_StatusPlugLoadIron     Emission  \\\n0                              0                        0     0.000000   \n1                              0                        0     0.000000   \n2                              0                        0     0.000000   \n3                              0                        0     0.000000   \n4                              0                        0     0.000000   \n...                          ...                      ...          ...   \n8667                           0                        0     0.000000   \n8668                           0                        0    48.797821   \n8669                           0                        0  1069.285258   \n8670                           0                        0   118.589460   \n8671                           0                        0    29.647365   \n\n      CumulativeEmission  \n0               0.000000  \n1               0.000000  \n2               0.000000  \n3               0.000000  \n4               0.000000  \n...                  ...  \n8667       538303.572346  \n8668       538352.370166  \n8669       539421.655424  \n8670       539540.244884  \n8671       539569.892249  \n\n[8672 rows x 10 columns]",
      "text/html": "<div>\n<style scoped>\n    .dataframe tbody tr th:only-of-type {\n        vertical-align: middle;\n    }\n\n    .dataframe tbody tr th {\n        vertical-align: top;\n    }\n\n    .dataframe thead th {\n        text-align: right;\n    }\n</style>\n<table border=\"1\" class=\"dataframe\">\n  <thead>\n    <tr style=\"text-align: right;\">\n      <th></th>\n      <th>Day</th>\n      <th>Hour</th>\n      <th>Timestamp</th>\n      <th>Load_StatusApplianceDishwasher</th>\n      <th>Load_StatusPlugLoadVacuum</th>\n      <th>Load_StatusClothesWasher</th>\n      <th>Load_StatusDryerPowerTotal</th>\n      <th>Load_StatusPlugLoadIron</th>\n      <th>Emission</th>\n      <th>CumulativeEmission</th>\n    </tr>\n  </thead>\n  <tbody>\n    <tr>\n      <th>0</th>\n      <td>0</td>\n      <td>0</td>\n      <td>2015-02-01 00:00:00</td>\n      <td>0</td>\n      <td>0</td>\n      <td>0</td>\n      <td>0</td>\n      <td>0</td>\n      <td>0.000000</td>\n      <td>0.000000</td>\n    </tr>\n    <tr>\n      <th>1</th>\n      <td>0</td>\n      <td>1</td>\n      <td>2015-02-01 01:00:00</td>\n      <td>0</td>\n      <td>0</td>\n      <td>0</td>\n      <td>0</td>\n      <td>0</td>\n      <td>0.000000</td>\n      <td>0.000000</td>\n    </tr>\n    <tr>\n      <th>2</th>\n      <td>0</td>\n      <td>2</td>\n      <td>2015-02-01 02:00:00</td>\n      <td>0</td>\n      <td>0</td>\n      <td>0</td>\n      <td>0</td>\n      <td>0</td>\n      <td>0.000000</td>\n      <td>0.000000</td>\n    </tr>\n    <tr>\n      <th>3</th>\n      <td>0</td>\n      <td>3</td>\n      <td>2015-02-01 03:00:00</td>\n      <td>0</td>\n      <td>0</td>\n      <td>0</td>\n      <td>0</td>\n      <td>0</td>\n      <td>0.000000</td>\n      <td>0.000000</td>\n    </tr>\n    <tr>\n      <th>4</th>\n      <td>0</td>\n      <td>4</td>\n      <td>2015-02-01 04:00:00</td>\n      <td>0</td>\n      <td>0</td>\n      <td>0</td>\n      <td>0</td>\n      <td>0</td>\n      <td>0.000000</td>\n      <td>0.000000</td>\n    </tr>\n    <tr>\n      <th>...</th>\n      <td>...</td>\n      <td>...</td>\n      <td>...</td>\n      <td>...</td>\n      <td>...</td>\n      <td>...</td>\n      <td>...</td>\n      <td>...</td>\n      <td>...</td>\n      <td>...</td>\n    </tr>\n    <tr>\n      <th>8667</th>\n      <td>364</td>\n      <td>19</td>\n      <td>2016-01-31 19:00:00</td>\n      <td>0</td>\n      <td>0</td>\n      <td>0</td>\n      <td>0</td>\n      <td>0</td>\n      <td>0.000000</td>\n      <td>538303.572346</td>\n    </tr>\n    <tr>\n      <th>8668</th>\n      <td>364</td>\n      <td>20</td>\n      <td>2016-01-31 20:00:00</td>\n      <td>0</td>\n      <td>0</td>\n      <td>1</td>\n      <td>0</td>\n      <td>0</td>\n      <td>48.797821</td>\n      <td>538352.370166</td>\n    </tr>\n    <tr>\n      <th>8669</th>\n      <td>364</td>\n      <td>21</td>\n      <td>2016-01-31 21:00:00</td>\n      <td>1</td>\n      <td>0</td>\n      <td>1</td>\n      <td>0</td>\n      <td>0</td>\n      <td>1069.285258</td>\n      <td>539421.655424</td>\n    </tr>\n    <tr>\n      <th>8670</th>\n      <td>364</td>\n      <td>22</td>\n      <td>2016-01-31 22:00:00</td>\n      <td>1</td>\n      <td>0</td>\n      <td>0</td>\n      <td>0</td>\n      <td>0</td>\n      <td>118.589460</td>\n      <td>539540.244884</td>\n    </tr>\n    <tr>\n      <th>8671</th>\n      <td>364</td>\n      <td>23</td>\n      <td>2016-01-31 23:00:00</td>\n      <td>1</td>\n      <td>0</td>\n      <td>0</td>\n      <td>0</td>\n      <td>0</td>\n      <td>29.647365</td>\n      <td>539569.892249</td>\n    </tr>\n  </tbody>\n</table>\n<p>8672 rows × 10 columns</p>\n</div>"
     },
     "execution_count": 79,
     "metadata": {},
     "output_type": "execute_result"
    }
   ],
   "source": [
    "NZERTF_optimisation['m.a.o']"
   ],
   "metadata": {
    "collapsed": false,
    "pycharm": {
     "name": "#%%\n"
    }
   }
  },
  {
   "cell_type": "code",
   "execution_count": 80,
   "outputs": [
    {
     "data": {
      "text/plain": "      Day  Hour  Load_StatusApplianceDishwasher  Load_StatusPlugLoadVacuum  \\\n0       0     0                        0.000000                        0.0   \n1       0     1                        0.000000                        0.0   \n2       0     2                        0.000000                        0.0   \n3       0     3                        0.000000                        0.0   \n4       0     4                        0.000000                        0.0   \n...   ...   ...                             ...                        ...   \n8667  364    19                        0.000000                        0.0   \n8668  364    20                        0.550000                        0.0   \n8669  364    21                        1.000000                        0.0   \n8670  364    22                        0.666667                        0.0   \n8671  364    23                        0.000000                        0.0   \n\n      Load_StatusClothesWasher  Load_StatusDryerPowerTotal  \\\n0                          0.0                         0.0   \n1                          0.0                         0.0   \n2                          0.0                         0.0   \n3                          0.0                         0.0   \n4                          0.0                         0.0   \n...                        ...                         ...   \n8667                       0.0                         0.0   \n8668                       0.0                         0.0   \n8669                       0.0                         0.0   \n8670                       0.0                         0.0   \n8671                       0.0                         0.0   \n\n      Load_StatusPlugLoadIron    Emission  Consumption  \n0                         0.0    0.000000       0.0000  \n1                         0.0    0.000000       0.0000  \n2                         0.0    0.000000       0.0000  \n3                         0.0    0.000000       0.0000  \n4                         0.0    0.000000       0.0000  \n...                       ...         ...          ...  \n8667                      0.0    0.000000       0.0000  \n8668                      0.0  119.485024       0.1551  \n8669                      0.0  217.245498       0.2820  \n8670                      0.0  144.830332       0.1880  \n8671                      0.0    0.000000       0.0000  \n\n[8672 rows x 9 columns]",
      "text/html": "<div>\n<style scoped>\n    .dataframe tbody tr th:only-of-type {\n        vertical-align: middle;\n    }\n\n    .dataframe tbody tr th {\n        vertical-align: top;\n    }\n\n    .dataframe thead th {\n        text-align: right;\n    }\n</style>\n<table border=\"1\" class=\"dataframe\">\n  <thead>\n    <tr style=\"text-align: right;\">\n      <th></th>\n      <th>Day</th>\n      <th>Hour</th>\n      <th>Load_StatusApplianceDishwasher</th>\n      <th>Load_StatusPlugLoadVacuum</th>\n      <th>Load_StatusClothesWasher</th>\n      <th>Load_StatusDryerPowerTotal</th>\n      <th>Load_StatusPlugLoadIron</th>\n      <th>Emission</th>\n      <th>Consumption</th>\n    </tr>\n  </thead>\n  <tbody>\n    <tr>\n      <th>0</th>\n      <td>0</td>\n      <td>0</td>\n      <td>0.000000</td>\n      <td>0.0</td>\n      <td>0.0</td>\n      <td>0.0</td>\n      <td>0.0</td>\n      <td>0.000000</td>\n      <td>0.0000</td>\n    </tr>\n    <tr>\n      <th>1</th>\n      <td>0</td>\n      <td>1</td>\n      <td>0.000000</td>\n      <td>0.0</td>\n      <td>0.0</td>\n      <td>0.0</td>\n      <td>0.0</td>\n      <td>0.000000</td>\n      <td>0.0000</td>\n    </tr>\n    <tr>\n      <th>2</th>\n      <td>0</td>\n      <td>2</td>\n      <td>0.000000</td>\n      <td>0.0</td>\n      <td>0.0</td>\n      <td>0.0</td>\n      <td>0.0</td>\n      <td>0.000000</td>\n      <td>0.0000</td>\n    </tr>\n    <tr>\n      <th>3</th>\n      <td>0</td>\n      <td>3</td>\n      <td>0.000000</td>\n      <td>0.0</td>\n      <td>0.0</td>\n      <td>0.0</td>\n      <td>0.0</td>\n      <td>0.000000</td>\n      <td>0.0000</td>\n    </tr>\n    <tr>\n      <th>4</th>\n      <td>0</td>\n      <td>4</td>\n      <td>0.000000</td>\n      <td>0.0</td>\n      <td>0.0</td>\n      <td>0.0</td>\n      <td>0.0</td>\n      <td>0.000000</td>\n      <td>0.0000</td>\n    </tr>\n    <tr>\n      <th>...</th>\n      <td>...</td>\n      <td>...</td>\n      <td>...</td>\n      <td>...</td>\n      <td>...</td>\n      <td>...</td>\n      <td>...</td>\n      <td>...</td>\n      <td>...</td>\n    </tr>\n    <tr>\n      <th>8667</th>\n      <td>364</td>\n      <td>19</td>\n      <td>0.000000</td>\n      <td>0.0</td>\n      <td>0.0</td>\n      <td>0.0</td>\n      <td>0.0</td>\n      <td>0.000000</td>\n      <td>0.0000</td>\n    </tr>\n    <tr>\n      <th>8668</th>\n      <td>364</td>\n      <td>20</td>\n      <td>0.550000</td>\n      <td>0.0</td>\n      <td>0.0</td>\n      <td>0.0</td>\n      <td>0.0</td>\n      <td>119.485024</td>\n      <td>0.1551</td>\n    </tr>\n    <tr>\n      <th>8669</th>\n      <td>364</td>\n      <td>21</td>\n      <td>1.000000</td>\n      <td>0.0</td>\n      <td>0.0</td>\n      <td>0.0</td>\n      <td>0.0</td>\n      <td>217.245498</td>\n      <td>0.2820</td>\n    </tr>\n    <tr>\n      <th>8670</th>\n      <td>364</td>\n      <td>22</td>\n      <td>0.666667</td>\n      <td>0.0</td>\n      <td>0.0</td>\n      <td>0.0</td>\n      <td>0.0</td>\n      <td>144.830332</td>\n      <td>0.1880</td>\n    </tr>\n    <tr>\n      <th>8671</th>\n      <td>364</td>\n      <td>23</td>\n      <td>0.000000</td>\n      <td>0.0</td>\n      <td>0.0</td>\n      <td>0.0</td>\n      <td>0.0</td>\n      <td>0.000000</td>\n      <td>0.0000</td>\n    </tr>\n  </tbody>\n</table>\n<p>8672 rows × 9 columns</p>\n</div>"
     },
     "execution_count": 80,
     "metadata": {},
     "output_type": "execute_result"
    }
   ],
   "source": [
    "NZERTF_optimisation['m.a.u.o']"
   ],
   "metadata": {
    "collapsed": false,
    "pycharm": {
     "name": "#%%\n"
    }
   }
  },
  {
   "cell_type": "code",
   "execution_count": 81,
   "outputs": [
    {
     "data": {
      "text/plain": "182.9747460944709"
     },
     "execution_count": 81,
     "metadata": {},
     "output_type": "execute_result"
    }
   ],
   "source": [
    "NZERTF_optimisation['w.r']['Consumption'].sum()-NZERTF_optimisation['w.o.r']['Consumption'].sum()"
   ],
   "metadata": {
    "collapsed": false,
    "pycharm": {
     "name": "#%%\n"
    }
   }
  },
  {
   "cell_type": "code",
   "execution_count": 82,
   "outputs": [
    {
     "data": {
      "text/plain": "0     0.725440\n1     0.718262\n2     0.773034\n3     0.806631\n4     0.782573\n5     2.778843\n6     1.744991\n7     1.632203\n8     1.417562\n9     1.147923\n10    0.625064\n11    1.188962\n12    0.759670\n13    0.988327\n14    1.124459\n15    0.726056\n16    0.761961\n17    2.725864\n18    2.552129\n19    2.482216\n20    2.286384\n21    2.033767\n22    1.238514\n23    0.772881\nName: Consumption, dtype: float64"
     },
     "execution_count": 82,
     "metadata": {},
     "output_type": "execute_result"
    }
   ],
   "source": [
    "NZERTF_optimisation['w.r']['Consumption'].groupby(NZERTF_optimisation['w.r']['Consumption'].index % 24).mean()"
   ],
   "metadata": {
    "collapsed": false,
    "pycharm": {
     "name": "#%%\n"
    }
   }
  },
  {
   "cell_type": "code",
   "execution_count": 83,
   "outputs": [],
   "source": [],
   "metadata": {
    "collapsed": false,
    "pycharm": {
     "name": "#%%\n"
    }
   }
  }
 ],
 "metadata": {
  "kernelspec": {
   "display_name": "Python 3",
   "language": "python",
   "name": "python3"
  },
  "language_info": {
   "codemirror_mode": {
    "name": "ipython",
    "version": 2
   },
   "file_extension": ".py",
   "mimetype": "text/x-python",
   "name": "python",
   "nbconvert_exporter": "python",
   "pygments_lexer": "ipython2",
   "version": "2.7.6"
  }
 },
 "nbformat": 4,
 "nbformat_minor": 0
}
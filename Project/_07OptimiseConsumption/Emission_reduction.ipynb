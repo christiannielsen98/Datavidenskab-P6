{
 "cells": [
  {
   "cell_type": "code",
   "execution_count": 1,
   "metadata": {
    "collapsed": true,
    "pycharm": {
     "name": "#%%\n"
    }
   },
   "outputs": [],
   "source": [
    "import pandas as pd\n",
    "\n",
    "from Project.Database import Db\n",
    "from optimisation_problem import hourly_house_df, slice_emission_vector, power_consumption_vector, NZERTF_optimiser, SE_time_df, json_to_dataframe\n",
    "from Project._07OptimiseConsumption.emission_reduction import emission_reduction"
   ]
  },
  {
   "cell_type": "code",
   "execution_count": 2,
   "outputs": [],
   "source": [
    "NZERTF_optimisation, NZERTF_emission = emission_reduction(year=2)"
   ],
   "metadata": {
    "collapsed": false,
    "pycharm": {
     "name": "#%%\n"
    }
   }
  },
  {
   "cell_type": "code",
   "execution_count": 3,
   "outputs": [
    {
     "data": {
      "text/plain": "{'w.r':       Day  Hour  Load_LatentHeatWaterVolume  Load_RefrigeratorTemp  \\\n 0       0     0                    0.027909               4.957915   \n 1       0     1                    0.095475               4.904702   \n 2       0     2                    0.163375               5.054887   \n 3       0     3                    0.227850               4.991525   \n 4       0     4                    0.291952               5.040868   \n ...   ...   ...                         ...                    ...   \n 8667  364    19                    1.434078               4.810046   \n 8668  364    20                    1.509165               4.917617   \n 8669  364    21                    1.582327               4.820712   \n 8670  364    22                    1.654222               4.945030   \n 8671  364    23                    1.726894               4.826671   \n \n       Load_StatusBA1Lights  Load_StatusKitchenLightsA  \\\n 0                      0.0                   0.000000   \n 1                      0.0                   0.000000   \n 2                      0.0                   0.000000   \n 3                      0.0                   0.000000   \n 4                      0.0                   0.000000   \n ...                    ...                        ...   \n 8667                   0.0                   0.750000   \n 8668                   0.0                   0.750000   \n 8669                   0.0                   1.000000   \n 8670                   0.0                   0.483333   \n 8671                   0.0                   0.000000   \n \n       Load_StatusKitchenLightsB  Load_StatusKitchenLightsC  \\\n 0                      0.000000                   0.000000   \n 1                      0.000000                   0.000000   \n 2                      0.000000                   0.000000   \n 3                      0.000000                   0.000000   \n 4                      0.000000                   0.000000   \n ...                         ...                        ...   \n 8667                   0.750000                   0.750000   \n 8668                   0.750000                   0.750000   \n 8669                   1.000000                   1.000000   \n 8670                   0.483333                   0.483333   \n 8671                   0.000000                   0.000000   \n \n       Load_StatusDRLights  Load_StatusLRLights3  ...  \\\n 0                0.000000              0.000000  ...   \n 1                0.000000              0.000000  ...   \n 2                0.000000              0.000000  ...   \n 3                0.000000              0.000000  ...   \n 4                0.000000              0.000000  ...   \n ...                   ...                   ...  ...   \n 8667             0.766667              0.750000  ...   \n 8668             0.483333              1.000000  ...   \n 8669             0.000000              1.000000  ...   \n 8670             0.000000              0.483333  ...   \n 8671             0.000000              0.000000  ...   \n \n       HVAC_DehumidifierInletAirTemp  HVAC_DehumidifierExitAirTemp  \\\n 0                         72.228102                     74.959034   \n 1                         71.963450                     73.979483   \n 2                         71.921017                     73.818717   \n 3                         71.844683                     74.535050   \n 4                         71.959983                     74.741467   \n ...                             ...                           ...   \n 8667                      67.764183                     68.643883   \n 8668                      67.889300                     68.772900   \n 8669                      67.785950                     68.651417   \n 8670                      67.797883                     68.694500   \n 8671                      67.656831                     68.539610   \n \n       HVAC_DehumidifierAirflow  Load_StatusRefrigerator  Load_StatusMicrowave  \\\n 0                          0.0                 0.525424                   0.0   \n 1                          0.0                 0.283333                   0.0   \n 2                          0.0                 0.500000                   0.0   \n 3                          0.0                 0.266667                   0.0   \n 4                          0.0                 0.466667                   0.0   \n ...                        ...                      ...                   ...   \n 8667                       0.0                 0.450000                   0.0   \n 8668                       0.0                 0.366667                   0.0   \n 8669                       0.0                 0.433333                   0.0   \n 8670                       0.0                 0.366667                   0.0   \n 8671                       0.0                 0.423729                   0.0   \n \n       Load_StatusClothesWasher  Load_StatusDryerPowerTotal  \\\n 0                          0.0                         0.0   \n 1                          0.0                         0.0   \n 2                          0.0                         0.0   \n 3                          0.0                         0.0   \n 4                          0.0                         0.0   \n ...                        ...                         ...   \n 8667                       0.0                         0.0   \n 8668                       0.0                         0.0   \n 8669                       0.0                         0.0   \n 8670                       0.0                         0.0   \n 8671                       0.0                         0.0   \n \n       Load_StatusHeatPumpWaterHeater     Emission  Consumption  \n 0                           0.000000   508.534908     0.692541  \n 1                           0.400000   709.815540     0.966652  \n 2                           0.000000   523.886634     0.713447  \n 3                           0.000000   508.910148     0.693052  \n 4                           0.000000   522.700297     0.711832  \n ...                              ...          ...          ...  \n 8667                        0.466667  1848.906611     2.400011  \n 8668                        0.000000  1503.742106     1.951963  \n 8669                        0.450000  1989.126381     2.582027  \n 8670                        0.083333  1720.940530     2.233902  \n 8671                        0.338983  1102.978491     1.431744  \n \n [8672 rows x 359 columns],\n 'w.o.r':       Day  Hour  Load_LatentHeatWaterVolume  Load_RefrigeratorTemp  \\\n 0       0     0                    0.027909               4.957915   \n 1       0     1                    0.095475               4.904702   \n 2       0     2                    0.163375               5.054887   \n 3       0     3                    0.227850               4.991525   \n 4       0     4                    0.291952               5.040868   \n ...   ...   ...                         ...                    ...   \n 8667  364    19                    1.434078               4.810046   \n 8668  364    20                    1.509165               4.917617   \n 8669  364    21                    1.582327               4.820712   \n 8670  364    22                    1.654222               4.945030   \n 8671  364    23                    1.726894               4.826671   \n \n       Load_StatusBA1Lights  Load_StatusKitchenLightsA  \\\n 0                      0.0                   0.000000   \n 1                      0.0                   0.000000   \n 2                      0.0                   0.000000   \n 3                      0.0                   0.000000   \n 4                      0.0                   0.000000   \n ...                    ...                        ...   \n 8667                   0.0                   0.750000   \n 8668                   0.0                   0.750000   \n 8669                   0.0                   1.000000   \n 8670                   0.0                   0.483333   \n 8671                   0.0                   0.000000   \n \n       Load_StatusKitchenLightsB  Load_StatusKitchenLightsC  \\\n 0                      0.000000                   0.000000   \n 1                      0.000000                   0.000000   \n 2                      0.000000                   0.000000   \n 3                      0.000000                   0.000000   \n 4                      0.000000                   0.000000   \n ...                         ...                        ...   \n 8667                   0.750000                   0.750000   \n 8668                   0.750000                   0.750000   \n 8669                   1.000000                   1.000000   \n 8670                   0.483333                   0.483333   \n 8671                   0.000000                   0.000000   \n \n       Load_StatusDRLights  Load_StatusLRLights3  ...  \\\n 0                0.000000              0.000000  ...   \n 1                0.000000              0.000000  ...   \n 2                0.000000              0.000000  ...   \n 3                0.000000              0.000000  ...   \n 4                0.000000              0.000000  ...   \n ...                   ...                   ...  ...   \n 8667             0.766667              0.750000  ...   \n 8668             0.483333              1.000000  ...   \n 8669             0.000000              1.000000  ...   \n 8670             0.000000              0.483333  ...   \n 8671             0.000000              0.000000  ...   \n \n       HVAC_DehumidifierInletAirTemp  HVAC_DehumidifierExitAirTemp  \\\n 0                         72.228102                     74.959034   \n 1                         71.963450                     73.979483   \n 2                         71.921017                     73.818717   \n 3                         71.844683                     74.535050   \n 4                         71.959983                     74.741467   \n ...                             ...                           ...   \n 8667                      67.764183                     68.643883   \n 8668                      67.889300                     68.772900   \n 8669                      67.785950                     68.651417   \n 8670                      67.797883                     68.694500   \n 8671                      67.656831                     68.539610   \n \n       HVAC_DehumidifierAirflow  Load_StatusRefrigerator  Load_StatusMicrowave  \\\n 0                          0.0                 0.525424                   0.0   \n 1                          0.0                 0.283333                   0.0   \n 2                          0.0                 0.500000                   0.0   \n 3                          0.0                 0.266667                   0.0   \n 4                          0.0                 0.466667                   0.0   \n ...                        ...                      ...                   ...   \n 8667                       0.0                 0.450000                   0.0   \n 8668                       0.0                 0.366667                   0.0   \n 8669                       0.0                 0.433333                   0.0   \n 8670                       0.0                 0.366667                   0.0   \n 8671                       0.0                 0.423729                   0.0   \n \n       Load_StatusClothesWasher  Load_StatusDryerPowerTotal  \\\n 0                          0.0                         0.0   \n 1                          0.0                         0.0   \n 2                          0.0                         0.0   \n 3                          0.0                         0.0   \n 4                          0.0                         0.0   \n ...                        ...                         ...   \n 8667                       0.0                         0.0   \n 8668                       0.0                         0.0   \n 8669                       0.0                         0.0   \n 8670                       0.0                         0.0   \n 8671                       0.0                         0.0   \n \n       Load_StatusHeatPumpWaterHeater     Emission  Consumption  \n 0                           0.000000   508.534908     0.692541  \n 1                           0.400000   709.815540     0.966652  \n 2                           0.000000   523.886634     0.713447  \n 3                           0.000000   508.910148     0.693052  \n 4                           0.000000   522.700297     0.711832  \n ...                              ...          ...          ...  \n 8667                        0.466667  1646.223306     2.136914  \n 8668                        0.000000  1412.316982     1.833287  \n 8669                        0.450000  1989.126381     2.582027  \n 8670                        0.083333  1697.332044     2.203257  \n 8671                        0.338983  1099.954859     1.427819  \n \n [8672 rows x 359 columns],\n 'm.a.u.o':       Day  Hour  Load_StatusApplianceDishwasher  Load_StatusPlugLoadVacuum  \\\n 0       0     0                        0.000000                        0.0   \n 1       0     1                        0.000000                        0.0   \n 2       0     2                        0.000000                        0.0   \n 3       0     3                        0.000000                        0.0   \n 4       0     4                        0.000000                        0.0   \n ...   ...   ...                             ...                        ...   \n 8667  364    19                        0.000000                        0.0   \n 8668  364    20                        0.550000                        0.0   \n 8669  364    21                        1.000000                        0.0   \n 8670  364    22                        0.666667                        0.0   \n 8671  364    23                        0.000000                        0.0   \n \n       Load_StatusClothesWasher  Load_StatusDryerPowerTotal  \\\n 0                          0.0                         0.0   \n 1                          0.0                         0.0   \n 2                          0.0                         0.0   \n 3                          0.0                         0.0   \n 4                          0.0                         0.0   \n ...                        ...                         ...   \n 8667                       0.0                         0.0   \n 8668                       0.0                         0.0   \n 8669                       0.0                         0.0   \n 8670                       0.0                         0.0   \n 8671                       0.0                         0.0   \n \n       Load_StatusPlugLoadIron    Emission  Consumption  \n 0                         0.0    0.000000       0.0000  \n 1                         0.0    0.000000       0.0000  \n 2                         0.0    0.000000       0.0000  \n 3                         0.0    0.000000       0.0000  \n 4                         0.0    0.000000       0.0000  \n ...                       ...         ...          ...  \n 8667                      0.0    0.000000       0.0000  \n 8668                      0.0  119.485024       0.1551  \n 8669                      0.0  217.245498       0.2820  \n 8670                      0.0  144.830332       0.1880  \n 8671                      0.0    0.000000       0.0000  \n \n [8672 rows x 9 columns],\n 'm.a.o':       Day  Hour           Timestamp  Load_StatusApplianceDishwasher  \\\n 0       0     0 2015-02-01 00:00:00                               0   \n 1       0     1 2015-02-01 01:00:00                               0   \n 2       0     2 2015-02-01 02:00:00                               0   \n 3       0     3 2015-02-01 03:00:00                               0   \n 4       0     4 2015-02-01 04:00:00                               0   \n ...   ...   ...                 ...                             ...   \n 8667  364    19 2016-01-31 19:00:00                               0   \n 8668  364    20 2016-01-31 20:00:00                               0   \n 8669  364    21 2016-01-31 21:00:00                               1   \n 8670  364    22 2016-01-31 22:00:00                               1   \n 8671  364    23 2016-01-31 23:00:00                               1   \n \n       Load_StatusPlugLoadVacuum  Load_StatusClothesWasher  \\\n 0                             0                         0   \n 1                             0                         0   \n 2                             0                         0   \n 3                             0                         0   \n 4                             0                         0   \n ...                         ...                       ...   \n 8667                          0                         0   \n 8668                          0                         1   \n 8669                          0                         1   \n 8670                          0                         0   \n 8671                          0                         0   \n \n       Load_StatusDryerPowerTotal  Load_StatusPlugLoadIron     Emission  \\\n 0                              0                        0     0.000000   \n 1                              0                        0     0.000000   \n 2                              0                        0     0.000000   \n 3                              0                        0     0.000000   \n 4                              0                        0     0.000000   \n ...                          ...                      ...          ...   \n 8667                           0                        0     0.000000   \n 8668                           0                        0    58.557385   \n 8669                           0                        0  1217.252102   \n 8670                           0                        0   118.589460   \n 8671                           0                        0    25.694383   \n \n       CumulativeEmission  \n 0               0.000000  \n 1               0.000000  \n 2               0.000000  \n 3               0.000000  \n 4               0.000000  \n ...                  ...  \n 8667       602311.307197  \n 8668       602369.864582  \n 8669       603587.116683  \n 8670       603705.706143  \n 8671       603731.400526  \n \n [8672 rows x 10 columns]}"
     },
     "execution_count": 3,
     "metadata": {},
     "output_type": "execute_result"
    }
   ],
   "source": [
    "NZERTF_optimisation"
   ],
   "metadata": {
    "collapsed": false,
    "pycharm": {
     "name": "#%%\n"
    }
   }
  },
  {
   "cell_type": "code",
   "execution_count": 4,
   "outputs": [
    {
     "name": "stdout",
     "output_type": "stream",
     "text": [
      "w.r: 0        508.534908\n",
      "1        709.815540\n",
      "2        523.886634\n",
      "3        508.910148\n",
      "4        522.700297\n",
      "           ...     \n",
      "8667    1848.906611\n",
      "8668    1503.742106\n",
      "8669    1989.126381\n",
      "8670    1720.940530\n",
      "8671    1102.978491\n",
      "Name: Emission, Length: 8672, dtype: float64\n",
      "w.o.r: 0        508.534908\n",
      "1        709.815540\n",
      "2        523.886634\n",
      "3        508.910148\n",
      "4        522.700297\n",
      "           ...     \n",
      "8667    1646.223306\n",
      "8668    1412.316982\n",
      "8669    1989.126381\n",
      "8670    1697.332044\n",
      "8671    1099.954859\n",
      "Name: Emission, Length: 8672, dtype: float64\n",
      "m.a.u.o: 0         0.000000\n",
      "1         0.000000\n",
      "2         0.000000\n",
      "3         0.000000\n",
      "4         0.000000\n",
      "           ...    \n",
      "8667      0.000000\n",
      "8668    119.485024\n",
      "8669    217.245498\n",
      "8670    144.830332\n",
      "8671      0.000000\n",
      "Name: Emission, Length: 8672, dtype: float64\n",
      "m.a.o: 0          0.000000\n",
      "1          0.000000\n",
      "2          0.000000\n",
      "3          0.000000\n",
      "4          0.000000\n",
      "           ...     \n",
      "8667       0.000000\n",
      "8668      58.557385\n",
      "8669    1217.252102\n",
      "8670     118.589460\n",
      "8671      25.694383\n",
      "Name: Emission, Length: 8672, dtype: float64\n"
     ]
    }
   ],
   "source": [
    "for key, value in NZERTF_optimisation.items():\n",
    "    print(f'{key}: {value[\"Emission\"]}')"
   ],
   "metadata": {
    "collapsed": false,
    "pycharm": {
     "name": "#%%\n"
    }
   }
  },
  {
   "cell_type": "code",
   "execution_count": 5,
   "outputs": [
    {
     "data": {
      "text/plain": "{'w.r': 8371902.086841607,\n 'w.o.r': 8242621.19712289,\n 'm.a.u.o': 511242.76383277134,\n 'm.a.o': 603731.4005264738}"
     },
     "execution_count": 5,
     "metadata": {},
     "output_type": "execute_result"
    }
   ],
   "source": [
    "NZERTF_emission"
   ],
   "metadata": {
    "collapsed": false,
    "pycharm": {
     "name": "#%%\n"
    }
   }
  },
  {
   "cell_type": "markdown",
   "source": [
    "year1= {'w.r': 6943587.30903113,\n",
    " 'w.o.r': 6808693.4608922275,\n",
    " 'm.a.u.o': 664541.8682200217,\n",
    " 'm.a.o': 539569.892249094}\n",
    "\n",
    "year2 = {'w.r': 8371902.086841607,\n",
    " 'w.o.r': 8242621.19712289,\n",
    " 'm.a.u.o': 511242.76383277134,\n",
    " 'm.a.o': 603731.4005264738}"
   ],
   "metadata": {
    "collapsed": false,
    "pycharm": {
     "name": "#%% md\n"
    }
   }
  },
  {
   "cell_type": "code",
   "execution_count": 6,
   "outputs": [],
   "source": [
    "redundancy_reduction = NZERTF_emission['w.r'] - NZERTF_emission['w.o.r']\n",
    "optimisation_reduction = NZERTF_emission['m.a.u.o'] - NZERTF_emission['m.a.o']\n",
    "total_reduction = redundancy_reduction + optimisation_reduction"
   ],
   "metadata": {
    "collapsed": false,
    "pycharm": {
     "name": "#%%\n"
    }
   }
  },
  {
   "cell_type": "code",
   "execution_count": 7,
   "outputs": [
    {
     "data": {
      "text/plain": "129280.88971871696"
     },
     "execution_count": 7,
     "metadata": {},
     "output_type": "execute_result"
    }
   ],
   "source": [
    "redundancy_reduction"
   ],
   "metadata": {
    "collapsed": false,
    "pycharm": {
     "name": "#%%\n"
    }
   }
  },
  {
   "cell_type": "code",
   "execution_count": 8,
   "outputs": [
    {
     "data": {
      "text/plain": "-92488.63669370243"
     },
     "execution_count": 8,
     "metadata": {},
     "output_type": "execute_result"
    }
   ],
   "source": [
    "optimisation_reduction"
   ],
   "metadata": {
    "collapsed": false,
    "pycharm": {
     "name": "#%%\n"
    }
   }
  },
  {
   "cell_type": "code",
   "execution_count": 9,
   "outputs": [
    {
     "data": {
      "text/plain": "36792.253025014536"
     },
     "execution_count": 9,
     "metadata": {},
     "output_type": "execute_result"
    }
   ],
   "source": [
    "total_reduction"
   ],
   "metadata": {
    "collapsed": false,
    "pycharm": {
     "name": "#%%\n"
    }
   }
  },
  {
   "cell_type": "code",
   "execution_count": 10,
   "outputs": [
    {
     "data": {
      "text/plain": "      Day  Hour           Timestamp  Load_StatusApplianceDishwasher  \\\n0       0     0 2015-02-01 00:00:00                               0   \n1       0     1 2015-02-01 01:00:00                               0   \n2       0     2 2015-02-01 02:00:00                               0   \n3       0     3 2015-02-01 03:00:00                               0   \n4       0     4 2015-02-01 04:00:00                               0   \n...   ...   ...                 ...                             ...   \n8667  364    19 2016-01-31 19:00:00                               0   \n8668  364    20 2016-01-31 20:00:00                               0   \n8669  364    21 2016-01-31 21:00:00                               1   \n8670  364    22 2016-01-31 22:00:00                               1   \n8671  364    23 2016-01-31 23:00:00                               1   \n\n      Load_StatusPlugLoadVacuum  Load_StatusClothesWasher  \\\n0                             0                         0   \n1                             0                         0   \n2                             0                         0   \n3                             0                         0   \n4                             0                         0   \n...                         ...                       ...   \n8667                          0                         0   \n8668                          0                         1   \n8669                          0                         1   \n8670                          0                         0   \n8671                          0                         0   \n\n      Load_StatusDryerPowerTotal  Load_StatusPlugLoadIron     Emission  \\\n0                              0                        0     0.000000   \n1                              0                        0     0.000000   \n2                              0                        0     0.000000   \n3                              0                        0     0.000000   \n4                              0                        0     0.000000   \n...                          ...                      ...          ...   \n8667                           0                        0     0.000000   \n8668                           0                        0    58.557385   \n8669                           0                        0  1217.252102   \n8670                           0                        0   118.589460   \n8671                           0                        0    25.694383   \n\n      CumulativeEmission  \n0               0.000000  \n1               0.000000  \n2               0.000000  \n3               0.000000  \n4               0.000000  \n...                  ...  \n8667       602311.307197  \n8668       602369.864582  \n8669       603587.116683  \n8670       603705.706143  \n8671       603731.400526  \n\n[8672 rows x 10 columns]",
      "text/html": "<div>\n<style scoped>\n    .dataframe tbody tr th:only-of-type {\n        vertical-align: middle;\n    }\n\n    .dataframe tbody tr th {\n        vertical-align: top;\n    }\n\n    .dataframe thead th {\n        text-align: right;\n    }\n</style>\n<table border=\"1\" class=\"dataframe\">\n  <thead>\n    <tr style=\"text-align: right;\">\n      <th></th>\n      <th>Day</th>\n      <th>Hour</th>\n      <th>Timestamp</th>\n      <th>Load_StatusApplianceDishwasher</th>\n      <th>Load_StatusPlugLoadVacuum</th>\n      <th>Load_StatusClothesWasher</th>\n      <th>Load_StatusDryerPowerTotal</th>\n      <th>Load_StatusPlugLoadIron</th>\n      <th>Emission</th>\n      <th>CumulativeEmission</th>\n    </tr>\n  </thead>\n  <tbody>\n    <tr>\n      <th>0</th>\n      <td>0</td>\n      <td>0</td>\n      <td>2015-02-01 00:00:00</td>\n      <td>0</td>\n      <td>0</td>\n      <td>0</td>\n      <td>0</td>\n      <td>0</td>\n      <td>0.000000</td>\n      <td>0.000000</td>\n    </tr>\n    <tr>\n      <th>1</th>\n      <td>0</td>\n      <td>1</td>\n      <td>2015-02-01 01:00:00</td>\n      <td>0</td>\n      <td>0</td>\n      <td>0</td>\n      <td>0</td>\n      <td>0</td>\n      <td>0.000000</td>\n      <td>0.000000</td>\n    </tr>\n    <tr>\n      <th>2</th>\n      <td>0</td>\n      <td>2</td>\n      <td>2015-02-01 02:00:00</td>\n      <td>0</td>\n      <td>0</td>\n      <td>0</td>\n      <td>0</td>\n      <td>0</td>\n      <td>0.000000</td>\n      <td>0.000000</td>\n    </tr>\n    <tr>\n      <th>3</th>\n      <td>0</td>\n      <td>3</td>\n      <td>2015-02-01 03:00:00</td>\n      <td>0</td>\n      <td>0</td>\n      <td>0</td>\n      <td>0</td>\n      <td>0</td>\n      <td>0.000000</td>\n      <td>0.000000</td>\n    </tr>\n    <tr>\n      <th>4</th>\n      <td>0</td>\n      <td>4</td>\n      <td>2015-02-01 04:00:00</td>\n      <td>0</td>\n      <td>0</td>\n      <td>0</td>\n      <td>0</td>\n      <td>0</td>\n      <td>0.000000</td>\n      <td>0.000000</td>\n    </tr>\n    <tr>\n      <th>...</th>\n      <td>...</td>\n      <td>...</td>\n      <td>...</td>\n      <td>...</td>\n      <td>...</td>\n      <td>...</td>\n      <td>...</td>\n      <td>...</td>\n      <td>...</td>\n      <td>...</td>\n    </tr>\n    <tr>\n      <th>8667</th>\n      <td>364</td>\n      <td>19</td>\n      <td>2016-01-31 19:00:00</td>\n      <td>0</td>\n      <td>0</td>\n      <td>0</td>\n      <td>0</td>\n      <td>0</td>\n      <td>0.000000</td>\n      <td>602311.307197</td>\n    </tr>\n    <tr>\n      <th>8668</th>\n      <td>364</td>\n      <td>20</td>\n      <td>2016-01-31 20:00:00</td>\n      <td>0</td>\n      <td>0</td>\n      <td>1</td>\n      <td>0</td>\n      <td>0</td>\n      <td>58.557385</td>\n      <td>602369.864582</td>\n    </tr>\n    <tr>\n      <th>8669</th>\n      <td>364</td>\n      <td>21</td>\n      <td>2016-01-31 21:00:00</td>\n      <td>1</td>\n      <td>0</td>\n      <td>1</td>\n      <td>0</td>\n      <td>0</td>\n      <td>1217.252102</td>\n      <td>603587.116683</td>\n    </tr>\n    <tr>\n      <th>8670</th>\n      <td>364</td>\n      <td>22</td>\n      <td>2016-01-31 22:00:00</td>\n      <td>1</td>\n      <td>0</td>\n      <td>0</td>\n      <td>0</td>\n      <td>0</td>\n      <td>118.589460</td>\n      <td>603705.706143</td>\n    </tr>\n    <tr>\n      <th>8671</th>\n      <td>364</td>\n      <td>23</td>\n      <td>2016-01-31 23:00:00</td>\n      <td>1</td>\n      <td>0</td>\n      <td>0</td>\n      <td>0</td>\n      <td>0</td>\n      <td>25.694383</td>\n      <td>603731.400526</td>\n    </tr>\n  </tbody>\n</table>\n<p>8672 rows × 10 columns</p>\n</div>"
     },
     "execution_count": 10,
     "metadata": {},
     "output_type": "execute_result"
    }
   ],
   "source": [
    "NZERTF_optimisation['m.a.o']"
   ],
   "metadata": {
    "collapsed": false,
    "pycharm": {
     "name": "#%%\n"
    }
   }
  },
  {
   "cell_type": "code",
   "execution_count": 11,
   "outputs": [
    {
     "data": {
      "text/plain": "      Day  Hour  Load_StatusApplianceDishwasher  Load_StatusPlugLoadVacuum  \\\n0       0     0                        0.000000                        0.0   \n1       0     1                        0.000000                        0.0   \n2       0     2                        0.000000                        0.0   \n3       0     3                        0.000000                        0.0   \n4       0     4                        0.000000                        0.0   \n...   ...   ...                             ...                        ...   \n8667  364    19                        0.000000                        0.0   \n8668  364    20                        0.550000                        0.0   \n8669  364    21                        1.000000                        0.0   \n8670  364    22                        0.666667                        0.0   \n8671  364    23                        0.000000                        0.0   \n\n      Load_StatusClothesWasher  Load_StatusDryerPowerTotal  \\\n0                          0.0                         0.0   \n1                          0.0                         0.0   \n2                          0.0                         0.0   \n3                          0.0                         0.0   \n4                          0.0                         0.0   \n...                        ...                         ...   \n8667                       0.0                         0.0   \n8668                       0.0                         0.0   \n8669                       0.0                         0.0   \n8670                       0.0                         0.0   \n8671                       0.0                         0.0   \n\n      Load_StatusPlugLoadIron    Emission  Consumption  \n0                         0.0    0.000000       0.0000  \n1                         0.0    0.000000       0.0000  \n2                         0.0    0.000000       0.0000  \n3                         0.0    0.000000       0.0000  \n4                         0.0    0.000000       0.0000  \n...                       ...         ...          ...  \n8667                      0.0    0.000000       0.0000  \n8668                      0.0  119.485024       0.1551  \n8669                      0.0  217.245498       0.2820  \n8670                      0.0  144.830332       0.1880  \n8671                      0.0    0.000000       0.0000  \n\n[8672 rows x 9 columns]",
      "text/html": "<div>\n<style scoped>\n    .dataframe tbody tr th:only-of-type {\n        vertical-align: middle;\n    }\n\n    .dataframe tbody tr th {\n        vertical-align: top;\n    }\n\n    .dataframe thead th {\n        text-align: right;\n    }\n</style>\n<table border=\"1\" class=\"dataframe\">\n  <thead>\n    <tr style=\"text-align: right;\">\n      <th></th>\n      <th>Day</th>\n      <th>Hour</th>\n      <th>Load_StatusApplianceDishwasher</th>\n      <th>Load_StatusPlugLoadVacuum</th>\n      <th>Load_StatusClothesWasher</th>\n      <th>Load_StatusDryerPowerTotal</th>\n      <th>Load_StatusPlugLoadIron</th>\n      <th>Emission</th>\n      <th>Consumption</th>\n    </tr>\n  </thead>\n  <tbody>\n    <tr>\n      <th>0</th>\n      <td>0</td>\n      <td>0</td>\n      <td>0.000000</td>\n      <td>0.0</td>\n      <td>0.0</td>\n      <td>0.0</td>\n      <td>0.0</td>\n      <td>0.000000</td>\n      <td>0.0000</td>\n    </tr>\n    <tr>\n      <th>1</th>\n      <td>0</td>\n      <td>1</td>\n      <td>0.000000</td>\n      <td>0.0</td>\n      <td>0.0</td>\n      <td>0.0</td>\n      <td>0.0</td>\n      <td>0.000000</td>\n      <td>0.0000</td>\n    </tr>\n    <tr>\n      <th>2</th>\n      <td>0</td>\n      <td>2</td>\n      <td>0.000000</td>\n      <td>0.0</td>\n      <td>0.0</td>\n      <td>0.0</td>\n      <td>0.0</td>\n      <td>0.000000</td>\n      <td>0.0000</td>\n    </tr>\n    <tr>\n      <th>3</th>\n      <td>0</td>\n      <td>3</td>\n      <td>0.000000</td>\n      <td>0.0</td>\n      <td>0.0</td>\n      <td>0.0</td>\n      <td>0.0</td>\n      <td>0.000000</td>\n      <td>0.0000</td>\n    </tr>\n    <tr>\n      <th>4</th>\n      <td>0</td>\n      <td>4</td>\n      <td>0.000000</td>\n      <td>0.0</td>\n      <td>0.0</td>\n      <td>0.0</td>\n      <td>0.0</td>\n      <td>0.000000</td>\n      <td>0.0000</td>\n    </tr>\n    <tr>\n      <th>...</th>\n      <td>...</td>\n      <td>...</td>\n      <td>...</td>\n      <td>...</td>\n      <td>...</td>\n      <td>...</td>\n      <td>...</td>\n      <td>...</td>\n      <td>...</td>\n    </tr>\n    <tr>\n      <th>8667</th>\n      <td>364</td>\n      <td>19</td>\n      <td>0.000000</td>\n      <td>0.0</td>\n      <td>0.0</td>\n      <td>0.0</td>\n      <td>0.0</td>\n      <td>0.000000</td>\n      <td>0.0000</td>\n    </tr>\n    <tr>\n      <th>8668</th>\n      <td>364</td>\n      <td>20</td>\n      <td>0.550000</td>\n      <td>0.0</td>\n      <td>0.0</td>\n      <td>0.0</td>\n      <td>0.0</td>\n      <td>119.485024</td>\n      <td>0.1551</td>\n    </tr>\n    <tr>\n      <th>8669</th>\n      <td>364</td>\n      <td>21</td>\n      <td>1.000000</td>\n      <td>0.0</td>\n      <td>0.0</td>\n      <td>0.0</td>\n      <td>0.0</td>\n      <td>217.245498</td>\n      <td>0.2820</td>\n    </tr>\n    <tr>\n      <th>8670</th>\n      <td>364</td>\n      <td>22</td>\n      <td>0.666667</td>\n      <td>0.0</td>\n      <td>0.0</td>\n      <td>0.0</td>\n      <td>0.0</td>\n      <td>144.830332</td>\n      <td>0.1880</td>\n    </tr>\n    <tr>\n      <th>8671</th>\n      <td>364</td>\n      <td>23</td>\n      <td>0.000000</td>\n      <td>0.0</td>\n      <td>0.0</td>\n      <td>0.0</td>\n      <td>0.0</td>\n      <td>0.000000</td>\n      <td>0.0000</td>\n    </tr>\n  </tbody>\n</table>\n<p>8672 rows × 9 columns</p>\n</div>"
     },
     "execution_count": 11,
     "metadata": {},
     "output_type": "execute_result"
    }
   ],
   "source": [
    "NZERTF_optimisation['m.a.u.o']"
   ],
   "metadata": {
    "collapsed": false,
    "pycharm": {
     "name": "#%%\n"
    }
   }
  },
  {
   "cell_type": "code",
   "execution_count": 12,
   "outputs": [
    {
     "data": {
      "text/plain": "182.9747460944709"
     },
     "execution_count": 12,
     "metadata": {},
     "output_type": "execute_result"
    }
   ],
   "source": [
    "NZERTF_optimisation['w.r']['Consumption'].sum()-NZERTF_optimisation['w.o.r']['Consumption'].sum()"
   ],
   "metadata": {
    "collapsed": false,
    "pycharm": {
     "name": "#%%\n"
    }
   }
  },
  {
   "cell_type": "code",
   "execution_count": 13,
   "outputs": [
    {
     "data": {
      "text/plain": "0     0.725440\n1     0.718262\n2     0.773034\n3     0.806631\n4     0.782573\n5     2.778843\n6     1.744991\n7     1.632203\n8     1.417562\n9     1.147923\n10    0.625064\n11    1.188962\n12    0.759670\n13    0.988327\n14    1.124459\n15    0.726056\n16    0.761961\n17    2.725864\n18    2.552129\n19    2.482216\n20    2.286384\n21    2.033767\n22    1.238514\n23    0.772881\nName: Consumption, dtype: float64"
     },
     "execution_count": 13,
     "metadata": {},
     "output_type": "execute_result"
    }
   ],
   "source": [
    "NZERTF_optimisation['w.r']['Consumption'].groupby(NZERTF_optimisation['w.r']['Consumption'].index % 24).mean()"
   ],
   "metadata": {
    "collapsed": false,
    "pycharm": {
     "name": "#%%\n"
    }
   }
  },
  {
   "cell_type": "markdown",
   "source": [
    "## Hours and kWh reduced by redundancy removal"
   ],
   "metadata": {
    "collapsed": false,
    "pycharm": {
     "name": "#%% md\n"
    }
   }
  },
  {
   "cell_type": "code",
   "execution_count": null,
   "outputs": [],
   "source": [
    "house_df, meta = Db.load_data(year=2, hourly=False, consumption=True, production=False, meta=True, with_redundancy=True)"
   ],
   "metadata": {
    "collapsed": false,
    "pycharm": {
     "name": "#%%\n"
    }
   }
  },
  {
   "cell_type": "code",
   "execution_count": null,
   "outputs": [],
   "source": [
    "status_constraint = meta.loc[(lambda self:\n",
    "                           (self[\"Parameter\"] == \"Status_OnOff\") &\n",
    "                           (~self.index.str.contains(\"SensHeat\")) &\n",
    "                           (self[\"Subsystem\"] == \"Loads\"))].index.to_list()"
   ],
   "metadata": {
    "collapsed": false,
    "pycharm": {
     "name": "#%%\n"
    }
   }
  },
  {
   "cell_type": "code",
   "execution_count": null,
   "outputs": [],
   "source": [
    "before_red_remov = house_df[status_constraint].sum()/60\n",
    "before_red_remov.sum()"
   ],
   "metadata": {
    "collapsed": false,
    "pycharm": {
     "name": "#%%\n"
    }
   }
  },
  {
   "cell_type": "code",
   "execution_count": null,
   "outputs": [],
   "source": [
    "after_red_remov = NZERTF_optimisation['w.o.r'][status_constraint].sum()"
   ],
   "metadata": {
    "collapsed": false,
    "pycharm": {
     "name": "#%%\n"
    }
   }
  },
  {
   "cell_type": "code",
   "execution_count": null,
   "outputs": [],
   "source": [
    "before_red_remov.sum()-after_red_remov.sum()"
   ],
   "metadata": {
    "collapsed": false,
    "pycharm": {
     "name": "#%%\n"
    }
   }
  },
  {
   "cell_type": "code",
   "execution_count": null,
   "outputs": [],
   "source": [
    "(before_red_remov.sum()-after_red_remov.sum())/before_red_remov.sum()*100"
   ],
   "metadata": {
    "collapsed": false,
    "pycharm": {
     "name": "#%%\n"
    }
   }
  },
  {
   "cell_type": "code",
   "execution_count": null,
   "outputs": [],
   "source": [],
   "metadata": {
    "collapsed": false,
    "pycharm": {
     "name": "#%%\n"
    }
   }
  }
 ],
 "metadata": {
  "kernelspec": {
   "display_name": "Python 3",
   "language": "python",
   "name": "python3"
  },
  "language_info": {
   "codemirror_mode": {
    "name": "ipython",
    "version": 2
   },
   "file_extension": ".py",
   "mimetype": "text/x-python",
   "name": "python",
   "nbconvert_exporter": "python",
   "pygments_lexer": "ipython2",
   "version": "2.7.6"
  }
 },
 "nbformat": 4,
 "nbformat_minor": 0
}
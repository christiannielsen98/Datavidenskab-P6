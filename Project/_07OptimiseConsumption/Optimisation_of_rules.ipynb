{
 "cells": [
  {
   "cell_type": "code",
   "execution_count": 134,
   "outputs": [],
   "source": [
    "import numpy as np\n",
    "import pandas as pd\n",
    "import datetime\n",
    "import plotly.graph_objects as go\n",
    "import plotly.express as px\n",
    "\n",
    "from Project.Database import Db\n",
    "from Project._05InferKnowledgeOfRules.infer_rules_functions import json_to_dataframe"
   ],
   "metadata": {
    "collapsed": false,
    "pycharm": {
     "name": "#%%\n"
    }
   }
  },
  {
   "cell_type": "markdown",
   "source": [
    "# Phase 1\n",
    "Define available appliances"
   ],
   "metadata": {
    "collapsed": false
   }
  },
  {
   "cell_type": "code",
   "execution_count": 135,
   "metadata": {
    "collapsed": true
   },
   "outputs": [
    {
     "data": {
      "text/plain": "['DHW_StatusSolenoidHotKitchenSink',\n 'DHW_StatusSolenoidHotMBAShower',\n 'DHW_StatusSolenoidHotMBATub',\n 'Load_StatusApplianceCooktop',\n 'Load_StatusApplianceDishwasher',\n 'Load_StatusApplianceOven',\n 'Load_StatusApplianceRangeHood',\n 'Load_StatusBA1Lights',\n 'Load_StatusBA2Lights',\n 'Load_StatusBR2Lights',\n 'Load_StatusBR3Lights',\n 'Load_StatusBR4Lights',\n 'Load_StatusDRLights',\n 'Load_StatusEntryHallLights',\n 'Load_StatusKitchenLightsA',\n 'Load_StatusKitchenLightsB',\n 'Load_StatusKitchenLightsC',\n 'Load_StatusLRLights1',\n 'Load_StatusLRLights2',\n 'Load_StatusLRLights3',\n 'Load_StatusLatentload',\n 'Load_StatusMBALights',\n 'Load_StatusMBRLights1',\n 'Load_StatusMBRLights2',\n 'Load_StatusPlugLoadBR2Laptop',\n 'Load_StatusPlugLoadBR3Laptop',\n 'Load_StatusPlugLoadBlender',\n 'Load_StatusPlugLoadCanOpener',\n 'Load_StatusPlugLoadCoffeeMaker',\n 'Load_StatusPlugLoadDesktopPCMonitor',\n 'Load_StatusPlugLoadFan',\n 'Load_StatusPlugLoadHairDryerCurlIron',\n 'Load_StatusPlugLoadHandMixer',\n 'Load_StatusPlugLoadHeatingPad',\n 'Load_StatusPlugLoadIron',\n 'Load_StatusPlugLoadLRBlueRay',\n 'Load_StatusPlugLoadLRTV',\n 'Load_StatusPlugLoadMBRBlueRay',\n 'Load_StatusPlugLoadMBRTV',\n 'Load_StatusPlugLoadSlowCooker',\n 'Load_StatusPlugLoadToaster',\n 'Load_StatusPlugLoadToasterOven',\n 'Load_StatusPlugLoadVacuum',\n 'Load_StatusPlugLoadVideoGame',\n 'Load_StatusClothesWasher',\n 'Load_StatusDryerPowerTotal',\n 'DHW_StatusHeatPumpWaterHeaterPowerTotal']"
     },
     "execution_count": 135,
     "metadata": {},
     "output_type": "execute_result"
    }
   ],
   "source": [
    "meta = Db.load_data(meta=True, hourly=False, consumption=False)\n",
    "appliance_list = meta.loc[(lambda self:\n",
    "                           (self[\"Parameter\"] == \"Status_OnOff\") &\n",
    "                           (~ self.index.str.contains(\"SensHeat\")) &\n",
    "                           (~ self.index.str.contains(\"Cold\")))].index.to_list()\n",
    "appliance_list"
   ]
  },
  {
   "cell_type": "markdown",
   "source": [],
   "metadata": {
    "collapsed": false
   }
  },
  {
   "cell_type": "code",
   "execution_count": 136,
   "outputs": [
    {
     "data": {
      "text/plain": "                                                                 Load_Match  \\\nUnnamed: 0                                                                    \nDHW_ClothesWasherColdFlow                                               NaN   \nDHW_ClothesWasherHotFlow                                                NaN   \nDHW_DishwasherHotFlow                                                   NaN   \nDHW_HeatPumpWaterHeaterEnergyTotal                                      NaN   \nDHW_HeatPumpWaterHeaterPowerTotal                                       NaN   \n...                                                                     ...   \nHVAC_HeatPumpIndoorUnitPower                                            NaN   \nHVAC_HeatPumpOutdoorUnitPower                                           NaN   \nLoad_StatusClothesWasher                 Load_ClothesWasherPowerWithStandby   \nLoad_StatusDryerPowerTotal                             Load_DryerPowerTotal   \nDHW_StatusHeatPumpWaterHeaterPowerTotal                                 NaN   \n\n                                                       Elec_Match  \\\nUnnamed: 0                                                          \nDHW_ClothesWasherColdFlow                                     NaN   \nDHW_ClothesWasherHotFlow                                      NaN   \nDHW_DishwasherHotFlow                                         NaN   \nDHW_HeatPumpWaterHeaterEnergyTotal                            NaN   \nDHW_HeatPumpWaterHeaterPowerTotal                             NaN   \n...                                                           ...   \nHVAC_HeatPumpIndoorUnitPower                                  NaN   \nHVAC_HeatPumpOutdoorUnitPower                                 NaN   \nLoad_StatusClothesWasher                  Elec_PowerClothesWasher   \nLoad_StatusDryerPowerTotal                    Elec_PowerDryer1of2   \nDHW_StatusHeatPumpWaterHeaterPowerTotal  Elec_PowerHeatPumpWH2of2   \n\n                                                                 DHW_Match  \nUnnamed: 0                                                                  \nDHW_ClothesWasherColdFlow                                              NaN  \nDHW_ClothesWasherHotFlow                                               NaN  \nDHW_DishwasherHotFlow                                                  NaN  \nDHW_HeatPumpWaterHeaterEnergyTotal                                     NaN  \nDHW_HeatPumpWaterHeaterPowerTotal                                      NaN  \n...                                                                    ...  \nHVAC_HeatPumpIndoorUnitPower                                           NaN  \nHVAC_HeatPumpOutdoorUnitPower                                          NaN  \nLoad_StatusClothesWasher                                               NaN  \nLoad_StatusDryerPowerTotal                                             NaN  \nDHW_StatusHeatPumpWaterHeaterPowerTotal  DHW_HeatPumpWaterHeaterPowerTotal  \n\n[335 rows x 3 columns]",
      "text/html": "<div>\n<style scoped>\n    .dataframe tbody tr th:only-of-type {\n        vertical-align: middle;\n    }\n\n    .dataframe tbody tr th {\n        vertical-align: top;\n    }\n\n    .dataframe thead th {\n        text-align: right;\n    }\n</style>\n<table border=\"1\" class=\"dataframe\">\n  <thead>\n    <tr style=\"text-align: right;\">\n      <th></th>\n      <th>Load_Match</th>\n      <th>Elec_Match</th>\n      <th>DHW_Match</th>\n    </tr>\n    <tr>\n      <th>Unnamed: 0</th>\n      <th></th>\n      <th></th>\n      <th></th>\n    </tr>\n  </thead>\n  <tbody>\n    <tr>\n      <th>DHW_ClothesWasherColdFlow</th>\n      <td>NaN</td>\n      <td>NaN</td>\n      <td>NaN</td>\n    </tr>\n    <tr>\n      <th>DHW_ClothesWasherHotFlow</th>\n      <td>NaN</td>\n      <td>NaN</td>\n      <td>NaN</td>\n    </tr>\n    <tr>\n      <th>DHW_DishwasherHotFlow</th>\n      <td>NaN</td>\n      <td>NaN</td>\n      <td>NaN</td>\n    </tr>\n    <tr>\n      <th>DHW_HeatPumpWaterHeaterEnergyTotal</th>\n      <td>NaN</td>\n      <td>NaN</td>\n      <td>NaN</td>\n    </tr>\n    <tr>\n      <th>DHW_HeatPumpWaterHeaterPowerTotal</th>\n      <td>NaN</td>\n      <td>NaN</td>\n      <td>NaN</td>\n    </tr>\n    <tr>\n      <th>...</th>\n      <td>...</td>\n      <td>...</td>\n      <td>...</td>\n    </tr>\n    <tr>\n      <th>HVAC_HeatPumpIndoorUnitPower</th>\n      <td>NaN</td>\n      <td>NaN</td>\n      <td>NaN</td>\n    </tr>\n    <tr>\n      <th>HVAC_HeatPumpOutdoorUnitPower</th>\n      <td>NaN</td>\n      <td>NaN</td>\n      <td>NaN</td>\n    </tr>\n    <tr>\n      <th>Load_StatusClothesWasher</th>\n      <td>Load_ClothesWasherPowerWithStandby</td>\n      <td>Elec_PowerClothesWasher</td>\n      <td>NaN</td>\n    </tr>\n    <tr>\n      <th>Load_StatusDryerPowerTotal</th>\n      <td>Load_DryerPowerTotal</td>\n      <td>Elec_PowerDryer1of2</td>\n      <td>NaN</td>\n    </tr>\n    <tr>\n      <th>DHW_StatusHeatPumpWaterHeaterPowerTotal</th>\n      <td>NaN</td>\n      <td>Elec_PowerHeatPumpWH2of2</td>\n      <td>DHW_HeatPumpWaterHeaterPowerTotal</td>\n    </tr>\n  </tbody>\n</table>\n<p>335 rows × 3 columns</p>\n</div>"
     },
     "execution_count": 136,
     "metadata": {},
     "output_type": "execute_result"
    }
   ],
   "source": [
    "meta[['Load_Match', 'Elec_Match', 'DHW_Match']]"
   ],
   "metadata": {
    "collapsed": false,
    "pycharm": {
     "name": "#%%\n"
    }
   }
  },
  {
   "cell_type": "markdown",
   "source": [
    "# Phase 2\n",
    "Find constraints of devices:\n",
    "o\tIf there are hard constraints for this appliance only\n",
    "o\tDoes it have to be on in a continous period of time? How long does it last?\n",
    "o\tHow many watts pr second does it use?\n",
    "o\tHow much energy does it need from start to finish?\n"
   ],
   "metadata": {
    "collapsed": false
   }
  },
  {
   "cell_type": "code",
   "execution_count": 137,
   "outputs": [
    {
     "data": {
      "text/plain": "                                 pattern      supp  conf  \\\n0                   Load_StatusMBALights  0.991781   1.0   \n1           Load_StatusSensHeatPrntBDOWN  0.991781   1.0   \n2               Load_StatusKitchenLights  0.991781   1.0   \n3             Load_StatusPlugLoadBlender  0.980822   1.0   \n4         Load_StatusPlugLoadCoffeeMaker  0.980822   1.0   \n5               Load_StatusPlugLoadMBRTV  0.843836   1.0   \n6         Load_StatusPlugLoadToasterOven  0.980822   1.0   \n7         Load_StatusMasterBedroomLights  0.991781   1.0   \n8             Load_StatusPlugLoadToaster  0.980822   1.0   \n9                   Load_StatusBA2Lights  0.991781   1.0   \n10               Load_StatusPlugLoadLRTV  0.986301   1.0   \n11          Load_StatusSensHeatPrntADOWN  0.991781   1.0   \n12            Load_StatusSensHeatPrntBUP  1.000000   1.0   \n13                  Load_StatusBR2Lights  0.991781   1.0   \n14  Load_StatusPlugLoadHairDryerCurlIron  0.980822   1.0   \n15                  Load_StatusBR3Lights  0.991781   1.0   \n16                   Load_StatusDRLights  0.991781   1.0   \n17         Load_StatusSensHeatChildADOWN  0.991781   1.0   \n18         Load_StatusSensHeatChildBDOWN  0.991781   1.0   \n19           Load_StatusLivingRoomLights  0.989041   1.0   \n20                  Load_StatusBA1Lights  0.989041   1.0   \n21           Load_StatusSensHeatChildAUP  1.000000   1.0   \n22            Load_StatusSensHeatPrntAUP  1.000000   1.0   \n23           Load_StatusApplianceCooktop  0.986301   1.0   \n24         Load_StatusApplianceRangeHood  0.986301   1.0   \n25          Load_StatusPlugLoadBR2Laptop  0.986301   1.0   \n26          Load_StatusPlugLoadBR3Laptop  0.989041   1.0   \n27   Load_StatusPlugLoadDesktopPCMonitor  0.983562   1.0   \n28           Load_StatusSensHeatChildBUP  1.000000   1.0   \n29          Load_StatusPlugLoadCanOpener  0.989041   1.0   \n30          Load_StatusPlugLoadHandMixer  0.989041   1.0   \n31        Load_StatusApplianceDishwasher  0.704110   1.0   \n32                Load_StatusPlugLoadFan  0.978082   1.0   \n33         Load_StatusPlugLoadHeatingPad  0.978082   1.0   \n34         Load_StatusPlugLoadSlowCooker  0.279452   1.0   \n35            Load_StatusDryerPowerTotal  0.452055   1.0   \n36         Load_StatusPlugLoadMBRBlueRay  0.282192   1.0   \n37          Load_StatusPlugLoadVideoGame  0.419178   1.0   \n38              Load_StatusApplianceOven  0.282192   1.0   \n39              Load_StatusClothesWasher  0.424658   1.0   \n40          Load_StatusPlugLoadLRBlueRay  0.282192   1.0   \n41             Load_StatusPlugLoadVacuum  0.145205   1.0   \n42               Load_StatusPlugLoadIron  0.279452   1.0   \n\n                                                 time  \n0   {'0': [['2013-07-01 03:29:17', '2013-07-01 03:...  \n1   {'0': [['2013-07-01 05:58:17', '2013-07-01 06:...  \n2   {'0': [['2013-07-01 05:58:17', '2013-07-01 08:...  \n3   {'0': [['2013-07-01 06:03:17', '2013-07-01 06:...  \n4   {'0': [['2013-07-01 06:08:17', '2013-07-01 06:...  \n5   {'0': [['2013-07-01 06:13:17', '2013-07-01 06:...  \n6   {'0': [['2013-07-01 06:13:17', '2013-07-01 06:...  \n7   {'0': [['2013-07-01 06:13:17', '2013-07-01 06:...  \n8   {'0': [['2013-07-01 06:18:17', '2013-07-01 06:...  \n9   {'0': [['2013-07-01 06:28:17', '2013-07-01 06:...  \n10  {'0': [['2013-07-01 06:28:17', '2013-07-01 08:...  \n11  {'0': [['2013-07-01 06:28:17', '2013-07-01 08:...  \n12  {'0': [['2013-07-01 06:28:17', '2013-07-01 06:...  \n13  {'0': [['2013-07-01 06:38:17', '2013-07-01 06:...  \n14  {'0': [['2013-07-01 06:38:17', '2013-07-01 06:...  \n15  {'0': [['2013-07-01 06:48:17', '2013-07-01 06:...  \n16  {'0': [['2013-07-01 06:58:17', '2013-07-01 07:...  \n17  {'0': [['2013-07-01 06:58:17', '2013-07-01 07:...  \n18  {'0': [['2013-07-01 06:58:17', '2013-07-01 07:...  \n19  {'0': [['2013-07-01 07:58:17', '2013-07-01 08:...  \n20  {'0': [['2013-07-01 08:13:17', '2013-07-01 08:...  \n21  {'0': [['2013-07-01 17:58:31', '2013-07-01 19:...  \n22  {'0': [['2013-07-01 17:58:31', '2013-07-01 18:...  \n23  {'0': [['2013-07-01 18:00:31', '2013-07-01 18:...  \n24  {'0': [['2013-07-01 18:00:31', '2013-07-01 18:...  \n25  {'0': [['2013-07-01 18:28:31', '2013-07-01 21:...  \n26  {'0': [['2013-07-01 18:28:31', '2013-07-01 20:...  \n27  {'0': [['2013-07-01 18:28:31', '2013-07-01 22:...  \n28  {'0': [['2013-07-01 18:28:31', '2013-07-01 19:...  \n29  {'0': [['2013-07-01 18:38:31', '2013-07-01 18:...  \n30  {'0': [['2013-07-01 18:38:31', '2013-07-01 18:...  \n31  {'0': [['2013-07-01 20:26:31', '2013-07-01 22:...  \n32  {'0': [['2013-07-01 21:58:30', '2013-07-01 23:...  \n33  {'0': [['2013-07-01 21:58:30', '2013-07-01 22:...  \n34  {'1': [['2013-07-02 08:28:29', '2013-07-02 09:...  \n35  {'2': [['2013-07-03 20:28:27', '2013-07-03 21:...  \n36  {'2': [['2013-07-03 21:58:27', '2013-07-03 23:...  \n37  {'4': [['2013-07-05 20:58:27', '2013-07-05 21:...  \n38  {'5': [['2013-07-06 08:13:27', '2013-07-06 10:...  \n39  {'5': [['2013-07-06 11:00:27', '2013-07-06 11:...  \n40  {'5': [['2013-07-06 14:58:27', '2013-07-06 16:...  \n41  {'5': [['2013-07-06 17:28:27', '2013-07-06 19:...  \n42  {'5': [['2013-07-06 17:58:27', '2013-07-06 18:...  ",
      "text/html": "<div>\n<style scoped>\n    .dataframe tbody tr th:only-of-type {\n        vertical-align: middle;\n    }\n\n    .dataframe tbody tr th {\n        vertical-align: top;\n    }\n\n    .dataframe thead th {\n        text-align: right;\n    }\n</style>\n<table border=\"1\" class=\"dataframe\">\n  <thead>\n    <tr style=\"text-align: right;\">\n      <th></th>\n      <th>pattern</th>\n      <th>supp</th>\n      <th>conf</th>\n      <th>time</th>\n    </tr>\n  </thead>\n  <tbody>\n    <tr>\n      <th>0</th>\n      <td>Load_StatusMBALights</td>\n      <td>0.991781</td>\n      <td>1.0</td>\n      <td>{'0': [['2013-07-01 03:29:17', '2013-07-01 03:...</td>\n    </tr>\n    <tr>\n      <th>1</th>\n      <td>Load_StatusSensHeatPrntBDOWN</td>\n      <td>0.991781</td>\n      <td>1.0</td>\n      <td>{'0': [['2013-07-01 05:58:17', '2013-07-01 06:...</td>\n    </tr>\n    <tr>\n      <th>2</th>\n      <td>Load_StatusKitchenLights</td>\n      <td>0.991781</td>\n      <td>1.0</td>\n      <td>{'0': [['2013-07-01 05:58:17', '2013-07-01 08:...</td>\n    </tr>\n    <tr>\n      <th>3</th>\n      <td>Load_StatusPlugLoadBlender</td>\n      <td>0.980822</td>\n      <td>1.0</td>\n      <td>{'0': [['2013-07-01 06:03:17', '2013-07-01 06:...</td>\n    </tr>\n    <tr>\n      <th>4</th>\n      <td>Load_StatusPlugLoadCoffeeMaker</td>\n      <td>0.980822</td>\n      <td>1.0</td>\n      <td>{'0': [['2013-07-01 06:08:17', '2013-07-01 06:...</td>\n    </tr>\n    <tr>\n      <th>5</th>\n      <td>Load_StatusPlugLoadMBRTV</td>\n      <td>0.843836</td>\n      <td>1.0</td>\n      <td>{'0': [['2013-07-01 06:13:17', '2013-07-01 06:...</td>\n    </tr>\n    <tr>\n      <th>6</th>\n      <td>Load_StatusPlugLoadToasterOven</td>\n      <td>0.980822</td>\n      <td>1.0</td>\n      <td>{'0': [['2013-07-01 06:13:17', '2013-07-01 06:...</td>\n    </tr>\n    <tr>\n      <th>7</th>\n      <td>Load_StatusMasterBedroomLights</td>\n      <td>0.991781</td>\n      <td>1.0</td>\n      <td>{'0': [['2013-07-01 06:13:17', '2013-07-01 06:...</td>\n    </tr>\n    <tr>\n      <th>8</th>\n      <td>Load_StatusPlugLoadToaster</td>\n      <td>0.980822</td>\n      <td>1.0</td>\n      <td>{'0': [['2013-07-01 06:18:17', '2013-07-01 06:...</td>\n    </tr>\n    <tr>\n      <th>9</th>\n      <td>Load_StatusBA2Lights</td>\n      <td>0.991781</td>\n      <td>1.0</td>\n      <td>{'0': [['2013-07-01 06:28:17', '2013-07-01 06:...</td>\n    </tr>\n    <tr>\n      <th>10</th>\n      <td>Load_StatusPlugLoadLRTV</td>\n      <td>0.986301</td>\n      <td>1.0</td>\n      <td>{'0': [['2013-07-01 06:28:17', '2013-07-01 08:...</td>\n    </tr>\n    <tr>\n      <th>11</th>\n      <td>Load_StatusSensHeatPrntADOWN</td>\n      <td>0.991781</td>\n      <td>1.0</td>\n      <td>{'0': [['2013-07-01 06:28:17', '2013-07-01 08:...</td>\n    </tr>\n    <tr>\n      <th>12</th>\n      <td>Load_StatusSensHeatPrntBUP</td>\n      <td>1.000000</td>\n      <td>1.0</td>\n      <td>{'0': [['2013-07-01 06:28:17', '2013-07-01 06:...</td>\n    </tr>\n    <tr>\n      <th>13</th>\n      <td>Load_StatusBR2Lights</td>\n      <td>0.991781</td>\n      <td>1.0</td>\n      <td>{'0': [['2013-07-01 06:38:17', '2013-07-01 06:...</td>\n    </tr>\n    <tr>\n      <th>14</th>\n      <td>Load_StatusPlugLoadHairDryerCurlIron</td>\n      <td>0.980822</td>\n      <td>1.0</td>\n      <td>{'0': [['2013-07-01 06:38:17', '2013-07-01 06:...</td>\n    </tr>\n    <tr>\n      <th>15</th>\n      <td>Load_StatusBR3Lights</td>\n      <td>0.991781</td>\n      <td>1.0</td>\n      <td>{'0': [['2013-07-01 06:48:17', '2013-07-01 06:...</td>\n    </tr>\n    <tr>\n      <th>16</th>\n      <td>Load_StatusDRLights</td>\n      <td>0.991781</td>\n      <td>1.0</td>\n      <td>{'0': [['2013-07-01 06:58:17', '2013-07-01 07:...</td>\n    </tr>\n    <tr>\n      <th>17</th>\n      <td>Load_StatusSensHeatChildADOWN</td>\n      <td>0.991781</td>\n      <td>1.0</td>\n      <td>{'0': [['2013-07-01 06:58:17', '2013-07-01 07:...</td>\n    </tr>\n    <tr>\n      <th>18</th>\n      <td>Load_StatusSensHeatChildBDOWN</td>\n      <td>0.991781</td>\n      <td>1.0</td>\n      <td>{'0': [['2013-07-01 06:58:17', '2013-07-01 07:...</td>\n    </tr>\n    <tr>\n      <th>19</th>\n      <td>Load_StatusLivingRoomLights</td>\n      <td>0.989041</td>\n      <td>1.0</td>\n      <td>{'0': [['2013-07-01 07:58:17', '2013-07-01 08:...</td>\n    </tr>\n    <tr>\n      <th>20</th>\n      <td>Load_StatusBA1Lights</td>\n      <td>0.989041</td>\n      <td>1.0</td>\n      <td>{'0': [['2013-07-01 08:13:17', '2013-07-01 08:...</td>\n    </tr>\n    <tr>\n      <th>21</th>\n      <td>Load_StatusSensHeatChildAUP</td>\n      <td>1.000000</td>\n      <td>1.0</td>\n      <td>{'0': [['2013-07-01 17:58:31', '2013-07-01 19:...</td>\n    </tr>\n    <tr>\n      <th>22</th>\n      <td>Load_StatusSensHeatPrntAUP</td>\n      <td>1.000000</td>\n      <td>1.0</td>\n      <td>{'0': [['2013-07-01 17:58:31', '2013-07-01 18:...</td>\n    </tr>\n    <tr>\n      <th>23</th>\n      <td>Load_StatusApplianceCooktop</td>\n      <td>0.986301</td>\n      <td>1.0</td>\n      <td>{'0': [['2013-07-01 18:00:31', '2013-07-01 18:...</td>\n    </tr>\n    <tr>\n      <th>24</th>\n      <td>Load_StatusApplianceRangeHood</td>\n      <td>0.986301</td>\n      <td>1.0</td>\n      <td>{'0': [['2013-07-01 18:00:31', '2013-07-01 18:...</td>\n    </tr>\n    <tr>\n      <th>25</th>\n      <td>Load_StatusPlugLoadBR2Laptop</td>\n      <td>0.986301</td>\n      <td>1.0</td>\n      <td>{'0': [['2013-07-01 18:28:31', '2013-07-01 21:...</td>\n    </tr>\n    <tr>\n      <th>26</th>\n      <td>Load_StatusPlugLoadBR3Laptop</td>\n      <td>0.989041</td>\n      <td>1.0</td>\n      <td>{'0': [['2013-07-01 18:28:31', '2013-07-01 20:...</td>\n    </tr>\n    <tr>\n      <th>27</th>\n      <td>Load_StatusPlugLoadDesktopPCMonitor</td>\n      <td>0.983562</td>\n      <td>1.0</td>\n      <td>{'0': [['2013-07-01 18:28:31', '2013-07-01 22:...</td>\n    </tr>\n    <tr>\n      <th>28</th>\n      <td>Load_StatusSensHeatChildBUP</td>\n      <td>1.000000</td>\n      <td>1.0</td>\n      <td>{'0': [['2013-07-01 18:28:31', '2013-07-01 19:...</td>\n    </tr>\n    <tr>\n      <th>29</th>\n      <td>Load_StatusPlugLoadCanOpener</td>\n      <td>0.989041</td>\n      <td>1.0</td>\n      <td>{'0': [['2013-07-01 18:38:31', '2013-07-01 18:...</td>\n    </tr>\n    <tr>\n      <th>30</th>\n      <td>Load_StatusPlugLoadHandMixer</td>\n      <td>0.989041</td>\n      <td>1.0</td>\n      <td>{'0': [['2013-07-01 18:38:31', '2013-07-01 18:...</td>\n    </tr>\n    <tr>\n      <th>31</th>\n      <td>Load_StatusApplianceDishwasher</td>\n      <td>0.704110</td>\n      <td>1.0</td>\n      <td>{'0': [['2013-07-01 20:26:31', '2013-07-01 22:...</td>\n    </tr>\n    <tr>\n      <th>32</th>\n      <td>Load_StatusPlugLoadFan</td>\n      <td>0.978082</td>\n      <td>1.0</td>\n      <td>{'0': [['2013-07-01 21:58:30', '2013-07-01 23:...</td>\n    </tr>\n    <tr>\n      <th>33</th>\n      <td>Load_StatusPlugLoadHeatingPad</td>\n      <td>0.978082</td>\n      <td>1.0</td>\n      <td>{'0': [['2013-07-01 21:58:30', '2013-07-01 22:...</td>\n    </tr>\n    <tr>\n      <th>34</th>\n      <td>Load_StatusPlugLoadSlowCooker</td>\n      <td>0.279452</td>\n      <td>1.0</td>\n      <td>{'1': [['2013-07-02 08:28:29', '2013-07-02 09:...</td>\n    </tr>\n    <tr>\n      <th>35</th>\n      <td>Load_StatusDryerPowerTotal</td>\n      <td>0.452055</td>\n      <td>1.0</td>\n      <td>{'2': [['2013-07-03 20:28:27', '2013-07-03 21:...</td>\n    </tr>\n    <tr>\n      <th>36</th>\n      <td>Load_StatusPlugLoadMBRBlueRay</td>\n      <td>0.282192</td>\n      <td>1.0</td>\n      <td>{'2': [['2013-07-03 21:58:27', '2013-07-03 23:...</td>\n    </tr>\n    <tr>\n      <th>37</th>\n      <td>Load_StatusPlugLoadVideoGame</td>\n      <td>0.419178</td>\n      <td>1.0</td>\n      <td>{'4': [['2013-07-05 20:58:27', '2013-07-05 21:...</td>\n    </tr>\n    <tr>\n      <th>38</th>\n      <td>Load_StatusApplianceOven</td>\n      <td>0.282192</td>\n      <td>1.0</td>\n      <td>{'5': [['2013-07-06 08:13:27', '2013-07-06 10:...</td>\n    </tr>\n    <tr>\n      <th>39</th>\n      <td>Load_StatusClothesWasher</td>\n      <td>0.424658</td>\n      <td>1.0</td>\n      <td>{'5': [['2013-07-06 11:00:27', '2013-07-06 11:...</td>\n    </tr>\n    <tr>\n      <th>40</th>\n      <td>Load_StatusPlugLoadLRBlueRay</td>\n      <td>0.282192</td>\n      <td>1.0</td>\n      <td>{'5': [['2013-07-06 14:58:27', '2013-07-06 16:...</td>\n    </tr>\n    <tr>\n      <th>41</th>\n      <td>Load_StatusPlugLoadVacuum</td>\n      <td>0.145205</td>\n      <td>1.0</td>\n      <td>{'5': [['2013-07-06 17:28:27', '2013-07-06 19:...</td>\n    </tr>\n    <tr>\n      <th>42</th>\n      <td>Load_StatusPlugLoadIron</td>\n      <td>0.279452</td>\n      <td>1.0</td>\n      <td>{'5': [['2013-07-06 17:58:27', '2013-07-06 18:...</td>\n    </tr>\n  </tbody>\n</table>\n</div>"
     },
     "execution_count": 137,
     "metadata": {},
     "output_type": "execute_result"
    }
   ],
   "source": [
    "level1_rules_year1 = json_to_dataframe(year=1, level=1)\n",
    "level1_rules_year1"
   ],
   "metadata": {
    "collapsed": false,
    "pycharm": {
     "name": "#%%\n"
    }
   }
  },
  {
   "cell_type": "code",
   "execution_count": 144,
   "outputs": [],
   "source": [
    "def find_intervals():\n",
    "    time_delta_dict = {}\n",
    "    for year in [1, 2]:\n",
    "        time_delta_dict[f'year{year}'] = time_delta_dict.get(f'year{year}', {})\n",
    "        for index, row in json_to_dataframe(year=year, level=1).iterrows():\n",
    "            if 'SensHeat' not in row['pattern']:\n",
    "                time_delta_dict[f'year{year}'][row[\"pattern\"]] = pd.Series(dtype='float64')\n",
    "                for intervals in row[\"time\"].values():\n",
    "                   for interval in intervals:\n",
    "                       time_delta_dict[f'year{year}'][row[\"pattern\"]] = pd.concat((time_delta_dict[f'year{year}'][row[\"pattern\"]], pd.Series((pd.to_datetime(interval[1], format=\"%Y-%m-%d %H:%M:%S\") - pd.to_datetime(interval[0], format=\"%Y-%m-%d %H:%M:%S\")).total_seconds()/60)), ignore_index=True)\n",
    "    return time_delta_dict"
   ],
   "metadata": {
    "collapsed": false,
    "pycharm": {
     "name": "#%%\n"
    }
   }
  },
  {
   "cell_type": "code",
   "execution_count": 145,
   "outputs": [],
   "source": [
    "time_delta_dict = find_intervals()"
   ],
   "metadata": {
    "collapsed": false,
    "pycharm": {
     "name": "#%%\n"
    }
   }
  },
  {
   "cell_type": "code",
   "execution_count": 170,
   "outputs": [
    {
     "name": "stdout",
     "output_type": "stream",
     "text": [
      "Load_StatusDryerPowerTotal count    534.000000\n",
      "mean      32.749969\n",
      "std        8.882232\n",
      "min        1.000000\n",
      "25%       27.000000\n",
      "50%       32.000000\n",
      "75%       38.000000\n",
      "max       55.000000\n",
      "dtype: float64\n",
      "Load_StatusBA2Lights count    2881.000000\n",
      "mean       16.593168\n",
      "std         9.892030\n",
      "min         9.983333\n",
      "25%        10.000000\n",
      "50%        15.000000\n",
      "75%        15.016667\n",
      "max        60.000000\n",
      "dtype: float64\n",
      "Load_StatusPlugLoadToaster count    719.000000\n",
      "mean      10.999907\n",
      "std        0.052793\n",
      "min       10.000000\n",
      "25%       11.000000\n",
      "50%       11.000000\n",
      "75%       11.000000\n",
      "max       12.000000\n",
      "dtype: float64\n",
      "Load_StatusPlugLoadLRBlueRay count    209.000000\n",
      "mean      89.208692\n",
      "std        7.346551\n",
      "min       15.000000\n",
      "25%       90.000000\n",
      "50%       90.000000\n",
      "75%       90.000000\n",
      "max       90.000000\n",
      "dtype: float64\n",
      "Load_StatusPlugLoadHeatingPad count    719.000000\n",
      "mean      13.572346\n",
      "std        2.258394\n",
      "min        9.983333\n",
      "25%       10.000000\n",
      "50%       15.000000\n",
      "75%       15.000000\n",
      "max       15.016667\n",
      "dtype: float64\n",
      "Load_StatusMBALights count    4532.000000\n",
      "mean       10.959852\n",
      "std         6.144704\n",
      "min         2.833333\n",
      "25%         5.000000\n",
      "50%        15.000000\n",
      "75%        15.000000\n",
      "max       113.000000\n",
      "dtype: float64\n",
      "Load_StatusApplianceCooktop count    1146.000000\n",
      "mean       17.071422\n",
      "std         1.885314\n",
      "min         1.000000\n",
      "25%        17.000000\n",
      "50%        17.000000\n",
      "75%        17.000000\n",
      "max        27.000000\n",
      "dtype: float64\n",
      "Load_StatusLivingRoomLights count    2470.000000\n",
      "mean       70.075884\n",
      "std        79.537204\n",
      "min        14.983333\n",
      "25%        25.000000\n",
      "50%        30.000000\n",
      "75%       120.000000\n",
      "max      1085.433333\n",
      "dtype: float64\n",
      "Load_StatusPlugLoadVacuum count    105.000000\n",
      "mean     108.530635\n",
      "std       10.054470\n",
      "min        7.000000\n",
      "25%      109.000000\n",
      "50%      109.000000\n",
      "75%      110.000000\n",
      "max      116.000000\n",
      "dtype: float64\n",
      "Load_StatusPlugLoadIron count    208.000000\n",
      "mean      23.782933\n",
      "std        1.409483\n",
      "min        8.000000\n",
      "25%       24.000000\n",
      "50%       24.000000\n",
      "75%       24.000000\n",
      "max       25.000000\n",
      "dtype: float64\n",
      "Load_StatusPlugLoadLRTV count    1547.000000\n",
      "mean      146.762896\n",
      "std        53.397877\n",
      "min        15.000000\n",
      "25%       115.000000\n",
      "50%       139.983333\n",
      "75%       150.000000\n",
      "max       270.000000\n",
      "dtype: float64\n",
      "Load_StatusPlugLoadMBRBlueRay count    208.000000\n",
      "mean      89.281490\n",
      "std        5.839076\n",
      "min       28.000000\n",
      "25%       90.000000\n",
      "50%       90.000000\n",
      "75%       90.000000\n",
      "max       90.000000\n",
      "dtype: float64\n",
      "Load_StatusBR2Lights count    1649.000000\n",
      "mean      106.021407\n",
      "std        95.953099\n",
      "min        15.000000\n",
      "25%        20.000000\n",
      "50%        90.000000\n",
      "75%       209.966667\n",
      "max       950.433333\n",
      "dtype: float64\n",
      "Load_StatusKitchenLights count    3304.000000\n",
      "mean       78.083333\n",
      "std        62.811644\n",
      "min         4.000000\n",
      "25%        30.000000\n",
      "50%        45.000000\n",
      "75%       120.000000\n",
      "max       935.433333\n",
      "dtype: float64\n",
      "Load_StatusDRLights count    1445.000000\n",
      "mean       62.029919\n",
      "std        20.453005\n",
      "min         1.000000\n",
      "25%        59.983333\n",
      "50%        60.000000\n",
      "75%        75.000000\n",
      "max       105.000000\n",
      "dtype: float64\n",
      "Load_StatusPlugLoadDesktopPCMonitor count     722.000000\n",
      "mean      333.268560\n",
      "std       161.187769\n",
      "min        61.183333\n",
      "25%       232.000000\n",
      "50%       237.000000\n",
      "75%       547.995833\n",
      "max      1055.433333\n",
      "dtype: float64\n",
      "Load_StatusBA1Lights count    1345.000000\n",
      "mean        4.883494\n",
      "std        13.267184\n",
      "min         3.266667\n",
      "25%         4.000000\n",
      "50%         4.000000\n",
      "75%         5.000000\n",
      "max       467.266667\n",
      "dtype: float64\n",
      "Load_StatusPlugLoadBR2Laptop count     930.000000\n",
      "mean      170.679695\n",
      "std        55.250621\n",
      "min        89.983333\n",
      "25%       120.000000\n",
      "50%       209.983333\n",
      "75%       210.000000\n",
      "max      1055.433333\n",
      "dtype: float64\n",
      "Load_StatusPlugLoadBR3Laptop count    727.000000\n",
      "mean     108.902545\n",
      "std       18.149594\n",
      "min       12.000000\n",
      "25%      104.983333\n",
      "50%      105.000000\n",
      "75%      105.000000\n",
      "max      150.000000\n",
      "dtype: float64\n",
      "Load_StatusPlugLoadHairDryerCurlIron count    358.0\n",
      "mean       5.0\n",
      "std        0.0\n",
      "min        5.0\n",
      "25%        5.0\n",
      "50%        5.0\n",
      "75%        5.0\n",
      "max        5.0\n",
      "dtype: float64\n",
      "Load_StatusApplianceRangeHood count    1137.000000\n",
      "mean       17.238215\n",
      "std         1.353808\n",
      "min         1.000000\n",
      "25%        17.000000\n",
      "50%        17.000000\n",
      "75%        17.983333\n",
      "max        27.000000\n",
      "dtype: float64\n",
      "Load_StatusPlugLoadToasterOven count    734.000000\n",
      "mean       9.792916\n",
      "std        1.346271\n",
      "min        1.000000\n",
      "25%       10.000000\n",
      "50%       10.000000\n",
      "75%       10.000000\n",
      "max       10.000000\n",
      "dtype: float64\n",
      "Load_StatusPlugLoadCanOpener count    730.000000\n",
      "mean       7.815091\n",
      "std       11.254993\n",
      "min        7.000000\n",
      "25%        7.000000\n",
      "50%        7.000000\n",
      "75%        7.000000\n",
      "max      231.000000\n",
      "dtype: float64\n",
      "Load_StatusApplianceOven count    313.000000\n",
      "mean     149.773323\n",
      "std       12.030308\n",
      "min        1.000000\n",
      "25%      148.000000\n",
      "50%      149.000000\n",
      "75%      155.000000\n",
      "max      159.983333\n",
      "dtype: float64\n",
      "Load_StatusPlugLoadCoffeeMaker count    760.000000\n",
      "mean      18.098750\n",
      "std        1.429868\n",
      "min       17.000000\n",
      "25%       18.000000\n",
      "50%       18.000000\n",
      "75%       18.000000\n",
      "max       30.000000\n",
      "dtype: float64\n",
      "Load_StatusBR3Lights count    1340.000000\n",
      "mean       65.124080\n",
      "std        53.745152\n",
      "min        10.000000\n",
      "25%        10.000000\n",
      "50%        60.000000\n",
      "75%       120.000000\n",
      "max       150.000000\n",
      "dtype: float64\n",
      "Load_StatusPlugLoadFan count    720.000000\n",
      "mean      93.686435\n",
      "std       41.145137\n",
      "min       28.983333\n",
      "25%       29.000000\n",
      "50%      119.000000\n",
      "75%      121.000000\n",
      "max      123.050000\n",
      "dtype: float64\n",
      "Load_StatusClothesWasher count    623.000000\n",
      "mean      56.520251\n",
      "std        8.138590\n",
      "min        1.000000\n",
      "25%       57.000000\n",
      "50%       57.000000\n",
      "75%       58.983333\n",
      "max       68.000000\n",
      "dtype: float64\n",
      "Load_StatusPlugLoadHandMixer count    724.000000\n",
      "mean       2.002785\n",
      "std        0.052525\n",
      "min        2.000000\n",
      "25%        2.000000\n",
      "50%        2.000000\n",
      "75%        2.000000\n",
      "max        3.000000\n",
      "dtype: float64\n",
      "Load_StatusPlugLoadBlender count    719.000000\n",
      "mean       6.393649\n",
      "std        0.592022\n",
      "min        2.000000\n",
      "25%        6.000000\n",
      "50%        6.000000\n",
      "75%        7.000000\n",
      "max        8.000000\n",
      "dtype: float64\n",
      "Load_StatusMasterBedroomLights count    2778.000000\n",
      "mean       30.073812\n",
      "std        17.873402\n",
      "min        15.000000\n",
      "25%        15.000000\n",
      "50%        23.000000\n",
      "75%        45.000000\n",
      "max        61.000000\n",
      "dtype: float64\n",
      "Load_StatusPlugLoadSlowCooker count    204.000000\n",
      "mean      62.027369\n",
      "std        0.930916\n",
      "min       53.000000\n",
      "25%       61.995833\n",
      "50%       62.000000\n",
      "75%       62.000000\n",
      "max       65.000000\n",
      "dtype: float64\n",
      "Load_StatusApplianceDishwasher count    519.000000\n",
      "mean     133.201574\n",
      "std       37.747826\n",
      "min        1.000000\n",
      "25%      131.000000\n",
      "50%      132.000000\n",
      "75%      132.983333\n",
      "max      937.433333\n",
      "dtype: float64\n",
      "Load_StatusPlugLoadMBRTV count    720.000000\n",
      "mean      57.791736\n",
      "std       20.327704\n",
      "min       28.000000\n",
      "25%       45.000000\n",
      "50%       45.000000\n",
      "75%       89.983333\n",
      "max       90.000000\n",
      "dtype: float64\n",
      "Load_StatusPlugLoadVideoGame count    311.000000\n",
      "mean      59.808789\n",
      "std        3.345501\n",
      "min        1.000000\n",
      "25%       60.000000\n",
      "50%       60.000000\n",
      "75%       60.000000\n",
      "max       60.000000\n",
      "dtype: float64\n"
     ]
    }
   ],
   "source": [
    "def describe_intervals(att):\n",
    "    if att not in time_delta_dict['year1'].keys():\n",
    "        return time_delta_dict['year2'][att].describe()\n",
    "    elif att not in time_delta_dict['year2'].keys():\n",
    "        return time_delta_dict['year1'][att].describe()\n",
    "    else:\n",
    "        return pd.concat((time_delta_dict['year1'][att], time_delta_dict['year2'][att]), axis=0).describe()\n",
    "\n",
    "\n",
    "apps = set(list(time_delta_dict['year1'].keys()) + list(set(time_delta_dict['year2'].keys())))\n",
    "\n",
    "for pattern in apps:\n",
    "    if 'SensHeat' not in pattern:\n",
    "        print(pattern, describe_intervals(pattern))"
   ],
   "metadata": {
    "collapsed": false,
    "pycharm": {
     "name": "#%%\n"
    }
   }
  },
  {
   "cell_type": "code",
   "execution_count": null,
   "outputs": [],
   "source": [
    "time_delta_dict['year1']['Load_StatusClothesWasher'][lambda self: self <130]"
   ],
   "metadata": {
    "collapsed": false,
    "pycharm": {
     "name": "#%%\n"
    }
   }
  },
  {
   "cell_type": "code",
   "execution_count": 150,
   "outputs": [
    {
     "data": {
      "text/plain": "(20.0, 20.0)"
     },
     "execution_count": 150,
     "metadata": {},
     "output_type": "execute_result"
    }
   ],
   "source": [
    "def find_quantile(quantile, att):\n",
    "    return time_delta_dict['year1'][att].quantile(quantile), time_delta_dict['year2'][att].quantile(quantile)\n",
    "find_quantile(0.90, \"Load_StatusMBALights\")"
   ],
   "metadata": {
    "collapsed": false,
    "pycharm": {
     "name": "#%%\n"
    }
   }
  },
  {
   "cell_type": "code",
   "execution_count": 171,
   "outputs": [
    {
     "data": {
      "application/vnd.plotly.v1+json": {
       "data": [
        {
         "alignmentgroup": "True",
         "bingroup": "x",
         "hovertemplate": "variable=0<br>value=%{x}<br>count=%{y}<extra></extra>",
         "legendgroup": "0",
         "marker": {
          "color": "#636efa",
          "pattern": {
           "shape": ""
          }
         },
         "name": "0",
         "offsetgroup": "0",
         "orientation": "v",
         "showlegend": true,
         "x": [
          129.98333333333332,
          131.0,
          131.0,
          131.0,
          131.0,
          130.0,
          130.98333333333332,
          131.0,
          131.0,
          131.0,
          131.0,
          130.0,
          131.0,
          131.0,
          131.0,
          130.0,
          131.0,
          131.0,
          131.0,
          131.0,
          131.0,
          131.0,
          130.98333333333332,
          130.98333333333332,
          131.0,
          130.98333333333332,
          130.0,
          130.0,
          131.0,
          131.0,
          131.0,
          23.0,
          130.0,
          130.98333333333332,
          131.0,
          130.98333333333332,
          131.0,
          130.0,
          131.0,
          131.0,
          131.0,
          131.0,
          129.98333333333332,
          131.0,
          132.0,
          131.0,
          131.0,
          129.98333333333332,
          131.0,
          131.0,
          131.0,
          131.0,
          129.98333333333332,
          131.0,
          131.0,
          131.0,
          130.98333333333332,
          129.98333333333332,
          131.0,
          131.0,
          131.0,
          131.0,
          130.01666666666668,
          131.0,
          131.0,
          131.0,
          131.0,
          131.0,
          131.98333333333332,
          132.0,
          131.0,
          131.0,
          131.0,
          132.0,
          130.98333333333332,
          131.0,
          132.0,
          132.0,
          134.0,
          133.0,
          134.0,
          133.0,
          132.0,
          132.0,
          132.0,
          131.98333333333332,
          133.0,
          132.0,
          133.0,
          132.98333333333332,
          132.0,
          133.0,
          131.98333333333332,
          226.0,
          132.98333333333332,
          132.0,
          132.0,
          133.0,
          133.0,
          133.0,
          133.0,
          132.0,
          132.0,
          133.0,
          132.0,
          132.0,
          132.0,
          133.0,
          133.0,
          133.0,
          131.98333333333332,
          132.0,
          131.98333333333332,
          133.0,
          132.98333333333332,
          133.0,
          132.0,
          132.0,
          132.98333333333332,
          132.0,
          132.0,
          132.0,
          132.0,
          133.0,
          133.0,
          133.0,
          132.0,
          132.0,
          133.0,
          133.0,
          132.0,
          131.98333333333332,
          131.98333333333332,
          133.0,
          133.0,
          132.0,
          132.0,
          132.0,
          133.0,
          132.98333333333332,
          133.0,
          132.98333333333332,
          132.0,
          132.98333333333332,
          133.0,
          133.0,
          131.98333333333332,
          132.0,
          133.0,
          133.0,
          133.0,
          131.98333333333332,
          132.0,
          133.0,
          133.0,
          132.98333333333332,
          133.0,
          132.0,
          133.0,
          133.0,
          133.0,
          133.0,
          132.0,
          132.98333333333332,
          133.0,
          133.0,
          132.0,
          132.0,
          132.98333333333332,
          133.0,
          133.0,
          133.0,
          133.0,
          132.98333333333332,
          133.0,
          133.0,
          131.98333333333332,
          132.0,
          133.0,
          133.0,
          133.0,
          132.0,
          132.0,
          133.0,
          133.0,
          133.0,
          132.0,
          132.0,
          133.0,
          133.0,
          132.98333333333332,
          132.0,
          132.0,
          133.0,
          1.0,
          133.0,
          133.0,
          127.0,
          132.0,
          132.0,
          132.0,
          130.0,
          131.0,
          131.0,
          132.0,
          133.0,
          132.0,
          132.0,
          132.0,
          132.0,
          132.0,
          131.98333333333332,
          131.0,
          131.0,
          132.0,
          132.0,
          132.0,
          131.0,
          131.0,
          131.0,
          131.98333333333332,
          181.0,
          59.0,
          131.0,
          131.0,
          131.0,
          132.0,
          131.98333333333332,
          131.0,
          131.0,
          131.0,
          131.0,
          131.0,
          131.0,
          131.0,
          132.0,
          131.0,
          131.0,
          131.0,
          130.98333333333332,
          131.98333333333332,
          131.0,
          130.98333333333332,
          131.0,
          131.0,
          131.0,
          131.0,
          130.98333333333332,
          131.0,
          130.0,
          131.0,
          130.98333333333332,
          131.0,
          131.0,
          131.0,
          130.98333333333332,
          131.0,
          130.98333333333332,
          131.0
         ],
         "xaxis": "x",
         "yaxis": "y",
         "type": "histogram"
        }
       ],
       "layout": {
        "template": {
         "data": {
          "bar": [
           {
            "error_x": {
             "color": "#2a3f5f"
            },
            "error_y": {
             "color": "#2a3f5f"
            },
            "marker": {
             "line": {
              "color": "#E5ECF6",
              "width": 0.5
             },
             "pattern": {
              "fillmode": "overlay",
              "size": 10,
              "solidity": 0.2
             }
            },
            "type": "bar"
           }
          ],
          "barpolar": [
           {
            "marker": {
             "line": {
              "color": "#E5ECF6",
              "width": 0.5
             },
             "pattern": {
              "fillmode": "overlay",
              "size": 10,
              "solidity": 0.2
             }
            },
            "type": "barpolar"
           }
          ],
          "carpet": [
           {
            "aaxis": {
             "endlinecolor": "#2a3f5f",
             "gridcolor": "white",
             "linecolor": "white",
             "minorgridcolor": "white",
             "startlinecolor": "#2a3f5f"
            },
            "baxis": {
             "endlinecolor": "#2a3f5f",
             "gridcolor": "white",
             "linecolor": "white",
             "minorgridcolor": "white",
             "startlinecolor": "#2a3f5f"
            },
            "type": "carpet"
           }
          ],
          "choropleth": [
           {
            "colorbar": {
             "outlinewidth": 0,
             "ticks": ""
            },
            "type": "choropleth"
           }
          ],
          "contour": [
           {
            "colorbar": {
             "outlinewidth": 0,
             "ticks": ""
            },
            "colorscale": [
             [
              0.0,
              "#0d0887"
             ],
             [
              0.1111111111111111,
              "#46039f"
             ],
             [
              0.2222222222222222,
              "#7201a8"
             ],
             [
              0.3333333333333333,
              "#9c179e"
             ],
             [
              0.4444444444444444,
              "#bd3786"
             ],
             [
              0.5555555555555556,
              "#d8576b"
             ],
             [
              0.6666666666666666,
              "#ed7953"
             ],
             [
              0.7777777777777778,
              "#fb9f3a"
             ],
             [
              0.8888888888888888,
              "#fdca26"
             ],
             [
              1.0,
              "#f0f921"
             ]
            ],
            "type": "contour"
           }
          ],
          "contourcarpet": [
           {
            "colorbar": {
             "outlinewidth": 0,
             "ticks": ""
            },
            "type": "contourcarpet"
           }
          ],
          "heatmap": [
           {
            "colorbar": {
             "outlinewidth": 0,
             "ticks": ""
            },
            "colorscale": [
             [
              0.0,
              "#0d0887"
             ],
             [
              0.1111111111111111,
              "#46039f"
             ],
             [
              0.2222222222222222,
              "#7201a8"
             ],
             [
              0.3333333333333333,
              "#9c179e"
             ],
             [
              0.4444444444444444,
              "#bd3786"
             ],
             [
              0.5555555555555556,
              "#d8576b"
             ],
             [
              0.6666666666666666,
              "#ed7953"
             ],
             [
              0.7777777777777778,
              "#fb9f3a"
             ],
             [
              0.8888888888888888,
              "#fdca26"
             ],
             [
              1.0,
              "#f0f921"
             ]
            ],
            "type": "heatmap"
           }
          ],
          "heatmapgl": [
           {
            "colorbar": {
             "outlinewidth": 0,
             "ticks": ""
            },
            "colorscale": [
             [
              0.0,
              "#0d0887"
             ],
             [
              0.1111111111111111,
              "#46039f"
             ],
             [
              0.2222222222222222,
              "#7201a8"
             ],
             [
              0.3333333333333333,
              "#9c179e"
             ],
             [
              0.4444444444444444,
              "#bd3786"
             ],
             [
              0.5555555555555556,
              "#d8576b"
             ],
             [
              0.6666666666666666,
              "#ed7953"
             ],
             [
              0.7777777777777778,
              "#fb9f3a"
             ],
             [
              0.8888888888888888,
              "#fdca26"
             ],
             [
              1.0,
              "#f0f921"
             ]
            ],
            "type": "heatmapgl"
           }
          ],
          "histogram": [
           {
            "marker": {
             "pattern": {
              "fillmode": "overlay",
              "size": 10,
              "solidity": 0.2
             }
            },
            "type": "histogram"
           }
          ],
          "histogram2d": [
           {
            "colorbar": {
             "outlinewidth": 0,
             "ticks": ""
            },
            "colorscale": [
             [
              0.0,
              "#0d0887"
             ],
             [
              0.1111111111111111,
              "#46039f"
             ],
             [
              0.2222222222222222,
              "#7201a8"
             ],
             [
              0.3333333333333333,
              "#9c179e"
             ],
             [
              0.4444444444444444,
              "#bd3786"
             ],
             [
              0.5555555555555556,
              "#d8576b"
             ],
             [
              0.6666666666666666,
              "#ed7953"
             ],
             [
              0.7777777777777778,
              "#fb9f3a"
             ],
             [
              0.8888888888888888,
              "#fdca26"
             ],
             [
              1.0,
              "#f0f921"
             ]
            ],
            "type": "histogram2d"
           }
          ],
          "histogram2dcontour": [
           {
            "colorbar": {
             "outlinewidth": 0,
             "ticks": ""
            },
            "colorscale": [
             [
              0.0,
              "#0d0887"
             ],
             [
              0.1111111111111111,
              "#46039f"
             ],
             [
              0.2222222222222222,
              "#7201a8"
             ],
             [
              0.3333333333333333,
              "#9c179e"
             ],
             [
              0.4444444444444444,
              "#bd3786"
             ],
             [
              0.5555555555555556,
              "#d8576b"
             ],
             [
              0.6666666666666666,
              "#ed7953"
             ],
             [
              0.7777777777777778,
              "#fb9f3a"
             ],
             [
              0.8888888888888888,
              "#fdca26"
             ],
             [
              1.0,
              "#f0f921"
             ]
            ],
            "type": "histogram2dcontour"
           }
          ],
          "mesh3d": [
           {
            "colorbar": {
             "outlinewidth": 0,
             "ticks": ""
            },
            "type": "mesh3d"
           }
          ],
          "parcoords": [
           {
            "line": {
             "colorbar": {
              "outlinewidth": 0,
              "ticks": ""
             }
            },
            "type": "parcoords"
           }
          ],
          "pie": [
           {
            "automargin": true,
            "type": "pie"
           }
          ],
          "scatter": [
           {
            "marker": {
             "colorbar": {
              "outlinewidth": 0,
              "ticks": ""
             }
            },
            "type": "scatter"
           }
          ],
          "scatter3d": [
           {
            "line": {
             "colorbar": {
              "outlinewidth": 0,
              "ticks": ""
             }
            },
            "marker": {
             "colorbar": {
              "outlinewidth": 0,
              "ticks": ""
             }
            },
            "type": "scatter3d"
           }
          ],
          "scattercarpet": [
           {
            "marker": {
             "colorbar": {
              "outlinewidth": 0,
              "ticks": ""
             }
            },
            "type": "scattercarpet"
           }
          ],
          "scattergeo": [
           {
            "marker": {
             "colorbar": {
              "outlinewidth": 0,
              "ticks": ""
             }
            },
            "type": "scattergeo"
           }
          ],
          "scattergl": [
           {
            "marker": {
             "colorbar": {
              "outlinewidth": 0,
              "ticks": ""
             }
            },
            "type": "scattergl"
           }
          ],
          "scattermapbox": [
           {
            "marker": {
             "colorbar": {
              "outlinewidth": 0,
              "ticks": ""
             }
            },
            "type": "scattermapbox"
           }
          ],
          "scatterpolar": [
           {
            "marker": {
             "colorbar": {
              "outlinewidth": 0,
              "ticks": ""
             }
            },
            "type": "scatterpolar"
           }
          ],
          "scatterpolargl": [
           {
            "marker": {
             "colorbar": {
              "outlinewidth": 0,
              "ticks": ""
             }
            },
            "type": "scatterpolargl"
           }
          ],
          "scatterternary": [
           {
            "marker": {
             "colorbar": {
              "outlinewidth": 0,
              "ticks": ""
             }
            },
            "type": "scatterternary"
           }
          ],
          "surface": [
           {
            "colorbar": {
             "outlinewidth": 0,
             "ticks": ""
            },
            "colorscale": [
             [
              0.0,
              "#0d0887"
             ],
             [
              0.1111111111111111,
              "#46039f"
             ],
             [
              0.2222222222222222,
              "#7201a8"
             ],
             [
              0.3333333333333333,
              "#9c179e"
             ],
             [
              0.4444444444444444,
              "#bd3786"
             ],
             [
              0.5555555555555556,
              "#d8576b"
             ],
             [
              0.6666666666666666,
              "#ed7953"
             ],
             [
              0.7777777777777778,
              "#fb9f3a"
             ],
             [
              0.8888888888888888,
              "#fdca26"
             ],
             [
              1.0,
              "#f0f921"
             ]
            ],
            "type": "surface"
           }
          ],
          "table": [
           {
            "cells": {
             "fill": {
              "color": "#EBF0F8"
             },
             "line": {
              "color": "white"
             }
            },
            "header": {
             "fill": {
              "color": "#C8D4E3"
             },
             "line": {
              "color": "white"
             }
            },
            "type": "table"
           }
          ]
         },
         "layout": {
          "annotationdefaults": {
           "arrowcolor": "#2a3f5f",
           "arrowhead": 0,
           "arrowwidth": 1
          },
          "autotypenumbers": "strict",
          "coloraxis": {
           "colorbar": {
            "outlinewidth": 0,
            "ticks": ""
           }
          },
          "colorscale": {
           "diverging": [
            [
             0,
             "#8e0152"
            ],
            [
             0.1,
             "#c51b7d"
            ],
            [
             0.2,
             "#de77ae"
            ],
            [
             0.3,
             "#f1b6da"
            ],
            [
             0.4,
             "#fde0ef"
            ],
            [
             0.5,
             "#f7f7f7"
            ],
            [
             0.6,
             "#e6f5d0"
            ],
            [
             0.7,
             "#b8e186"
            ],
            [
             0.8,
             "#7fbc41"
            ],
            [
             0.9,
             "#4d9221"
            ],
            [
             1,
             "#276419"
            ]
           ],
           "sequential": [
            [
             0.0,
             "#0d0887"
            ],
            [
             0.1111111111111111,
             "#46039f"
            ],
            [
             0.2222222222222222,
             "#7201a8"
            ],
            [
             0.3333333333333333,
             "#9c179e"
            ],
            [
             0.4444444444444444,
             "#bd3786"
            ],
            [
             0.5555555555555556,
             "#d8576b"
            ],
            [
             0.6666666666666666,
             "#ed7953"
            ],
            [
             0.7777777777777778,
             "#fb9f3a"
            ],
            [
             0.8888888888888888,
             "#fdca26"
            ],
            [
             1.0,
             "#f0f921"
            ]
           ],
           "sequentialminus": [
            [
             0.0,
             "#0d0887"
            ],
            [
             0.1111111111111111,
             "#46039f"
            ],
            [
             0.2222222222222222,
             "#7201a8"
            ],
            [
             0.3333333333333333,
             "#9c179e"
            ],
            [
             0.4444444444444444,
             "#bd3786"
            ],
            [
             0.5555555555555556,
             "#d8576b"
            ],
            [
             0.6666666666666666,
             "#ed7953"
            ],
            [
             0.7777777777777778,
             "#fb9f3a"
            ],
            [
             0.8888888888888888,
             "#fdca26"
            ],
            [
             1.0,
             "#f0f921"
            ]
           ]
          },
          "colorway": [
           "#636efa",
           "#EF553B",
           "#00cc96",
           "#ab63fa",
           "#FFA15A",
           "#19d3f3",
           "#FF6692",
           "#B6E880",
           "#FF97FF",
           "#FECB52"
          ],
          "font": {
           "color": "#2a3f5f"
          },
          "geo": {
           "bgcolor": "white",
           "lakecolor": "white",
           "landcolor": "#E5ECF6",
           "showlakes": true,
           "showland": true,
           "subunitcolor": "white"
          },
          "hoverlabel": {
           "align": "left"
          },
          "hovermode": "closest",
          "mapbox": {
           "style": "light"
          },
          "paper_bgcolor": "white",
          "plot_bgcolor": "#E5ECF6",
          "polar": {
           "angularaxis": {
            "gridcolor": "white",
            "linecolor": "white",
            "ticks": ""
           },
           "bgcolor": "#E5ECF6",
           "radialaxis": {
            "gridcolor": "white",
            "linecolor": "white",
            "ticks": ""
           }
          },
          "scene": {
           "xaxis": {
            "backgroundcolor": "#E5ECF6",
            "gridcolor": "white",
            "gridwidth": 2,
            "linecolor": "white",
            "showbackground": true,
            "ticks": "",
            "zerolinecolor": "white"
           },
           "yaxis": {
            "backgroundcolor": "#E5ECF6",
            "gridcolor": "white",
            "gridwidth": 2,
            "linecolor": "white",
            "showbackground": true,
            "ticks": "",
            "zerolinecolor": "white"
           },
           "zaxis": {
            "backgroundcolor": "#E5ECF6",
            "gridcolor": "white",
            "gridwidth": 2,
            "linecolor": "white",
            "showbackground": true,
            "ticks": "",
            "zerolinecolor": "white"
           }
          },
          "shapedefaults": {
           "line": {
            "color": "#2a3f5f"
           }
          },
          "ternary": {
           "aaxis": {
            "gridcolor": "white",
            "linecolor": "white",
            "ticks": ""
           },
           "baxis": {
            "gridcolor": "white",
            "linecolor": "white",
            "ticks": ""
           },
           "bgcolor": "#E5ECF6",
           "caxis": {
            "gridcolor": "white",
            "linecolor": "white",
            "ticks": ""
           }
          },
          "title": {
           "x": 0.05
          },
          "xaxis": {
           "automargin": true,
           "gridcolor": "white",
           "linecolor": "white",
           "ticks": "",
           "title": {
            "standoff": 15
           },
           "zerolinecolor": "white",
           "zerolinewidth": 2
          },
          "yaxis": {
           "automargin": true,
           "gridcolor": "white",
           "linecolor": "white",
           "ticks": "",
           "title": {
            "standoff": 15
           },
           "zerolinecolor": "white",
           "zerolinewidth": 2
          }
         }
        },
        "xaxis": {
         "anchor": "y",
         "domain": [
          0.0,
          1.0
         ],
         "title": {
          "text": "value"
         }
        },
        "yaxis": {
         "anchor": "x",
         "domain": [
          0.0,
          1.0
         ],
         "title": {
          "text": "count"
         }
        },
        "legend": {
         "title": {
          "text": "variable"
         },
         "tracegroupgap": 0
        },
        "margin": {
         "t": 60
        },
        "barmode": "relative"
       },
       "config": {
        "plotlyServerURL": "https://plot.ly"
       }
      },
      "text/html": "<div>                            <div id=\"2e0a57c2-1aeb-45a7-b9ac-cbb78bc30f23\" class=\"plotly-graph-div\" style=\"height:525px; width:100%;\"></div>            <script type=\"text/javascript\">                require([\"plotly\"], function(Plotly) {                    window.PLOTLYENV=window.PLOTLYENV || {};                                    if (document.getElementById(\"2e0a57c2-1aeb-45a7-b9ac-cbb78bc30f23\")) {                    Plotly.newPlot(                        \"2e0a57c2-1aeb-45a7-b9ac-cbb78bc30f23\",                        [{\"alignmentgroup\":\"True\",\"bingroup\":\"x\",\"hovertemplate\":\"variable=0<br>value=%{x}<br>count=%{y}<extra></extra>\",\"legendgroup\":\"0\",\"marker\":{\"color\":\"#636efa\",\"pattern\":{\"shape\":\"\"}},\"name\":\"0\",\"offsetgroup\":\"0\",\"orientation\":\"v\",\"showlegend\":true,\"x\":[129.98333333333332,131.0,131.0,131.0,131.0,130.0,130.98333333333332,131.0,131.0,131.0,131.0,130.0,131.0,131.0,131.0,130.0,131.0,131.0,131.0,131.0,131.0,131.0,130.98333333333332,130.98333333333332,131.0,130.98333333333332,130.0,130.0,131.0,131.0,131.0,23.0,130.0,130.98333333333332,131.0,130.98333333333332,131.0,130.0,131.0,131.0,131.0,131.0,129.98333333333332,131.0,132.0,131.0,131.0,129.98333333333332,131.0,131.0,131.0,131.0,129.98333333333332,131.0,131.0,131.0,130.98333333333332,129.98333333333332,131.0,131.0,131.0,131.0,130.01666666666668,131.0,131.0,131.0,131.0,131.0,131.98333333333332,132.0,131.0,131.0,131.0,132.0,130.98333333333332,131.0,132.0,132.0,134.0,133.0,134.0,133.0,132.0,132.0,132.0,131.98333333333332,133.0,132.0,133.0,132.98333333333332,132.0,133.0,131.98333333333332,226.0,132.98333333333332,132.0,132.0,133.0,133.0,133.0,133.0,132.0,132.0,133.0,132.0,132.0,132.0,133.0,133.0,133.0,131.98333333333332,132.0,131.98333333333332,133.0,132.98333333333332,133.0,132.0,132.0,132.98333333333332,132.0,132.0,132.0,132.0,133.0,133.0,133.0,132.0,132.0,133.0,133.0,132.0,131.98333333333332,131.98333333333332,133.0,133.0,132.0,132.0,132.0,133.0,132.98333333333332,133.0,132.98333333333332,132.0,132.98333333333332,133.0,133.0,131.98333333333332,132.0,133.0,133.0,133.0,131.98333333333332,132.0,133.0,133.0,132.98333333333332,133.0,132.0,133.0,133.0,133.0,133.0,132.0,132.98333333333332,133.0,133.0,132.0,132.0,132.98333333333332,133.0,133.0,133.0,133.0,132.98333333333332,133.0,133.0,131.98333333333332,132.0,133.0,133.0,133.0,132.0,132.0,133.0,133.0,133.0,132.0,132.0,133.0,133.0,132.98333333333332,132.0,132.0,133.0,1.0,133.0,133.0,127.0,132.0,132.0,132.0,130.0,131.0,131.0,132.0,133.0,132.0,132.0,132.0,132.0,132.0,131.98333333333332,131.0,131.0,132.0,132.0,132.0,131.0,131.0,131.0,131.98333333333332,181.0,59.0,131.0,131.0,131.0,132.0,131.98333333333332,131.0,131.0,131.0,131.0,131.0,131.0,131.0,132.0,131.0,131.0,131.0,130.98333333333332,131.98333333333332,131.0,130.98333333333332,131.0,131.0,131.0,131.0,130.98333333333332,131.0,130.0,131.0,130.98333333333332,131.0,131.0,131.0,130.98333333333332,131.0,130.98333333333332,131.0],\"xaxis\":\"x\",\"yaxis\":\"y\",\"type\":\"histogram\"}],                        {\"template\":{\"data\":{\"bar\":[{\"error_x\":{\"color\":\"#2a3f5f\"},\"error_y\":{\"color\":\"#2a3f5f\"},\"marker\":{\"line\":{\"color\":\"#E5ECF6\",\"width\":0.5},\"pattern\":{\"fillmode\":\"overlay\",\"size\":10,\"solidity\":0.2}},\"type\":\"bar\"}],\"barpolar\":[{\"marker\":{\"line\":{\"color\":\"#E5ECF6\",\"width\":0.5},\"pattern\":{\"fillmode\":\"overlay\",\"size\":10,\"solidity\":0.2}},\"type\":\"barpolar\"}],\"carpet\":[{\"aaxis\":{\"endlinecolor\":\"#2a3f5f\",\"gridcolor\":\"white\",\"linecolor\":\"white\",\"minorgridcolor\":\"white\",\"startlinecolor\":\"#2a3f5f\"},\"baxis\":{\"endlinecolor\":\"#2a3f5f\",\"gridcolor\":\"white\",\"linecolor\":\"white\",\"minorgridcolor\":\"white\",\"startlinecolor\":\"#2a3f5f\"},\"type\":\"carpet\"}],\"choropleth\":[{\"colorbar\":{\"outlinewidth\":0,\"ticks\":\"\"},\"type\":\"choropleth\"}],\"contour\":[{\"colorbar\":{\"outlinewidth\":0,\"ticks\":\"\"},\"colorscale\":[[0.0,\"#0d0887\"],[0.1111111111111111,\"#46039f\"],[0.2222222222222222,\"#7201a8\"],[0.3333333333333333,\"#9c179e\"],[0.4444444444444444,\"#bd3786\"],[0.5555555555555556,\"#d8576b\"],[0.6666666666666666,\"#ed7953\"],[0.7777777777777778,\"#fb9f3a\"],[0.8888888888888888,\"#fdca26\"],[1.0,\"#f0f921\"]],\"type\":\"contour\"}],\"contourcarpet\":[{\"colorbar\":{\"outlinewidth\":0,\"ticks\":\"\"},\"type\":\"contourcarpet\"}],\"heatmap\":[{\"colorbar\":{\"outlinewidth\":0,\"ticks\":\"\"},\"colorscale\":[[0.0,\"#0d0887\"],[0.1111111111111111,\"#46039f\"],[0.2222222222222222,\"#7201a8\"],[0.3333333333333333,\"#9c179e\"],[0.4444444444444444,\"#bd3786\"],[0.5555555555555556,\"#d8576b\"],[0.6666666666666666,\"#ed7953\"],[0.7777777777777778,\"#fb9f3a\"],[0.8888888888888888,\"#fdca26\"],[1.0,\"#f0f921\"]],\"type\":\"heatmap\"}],\"heatmapgl\":[{\"colorbar\":{\"outlinewidth\":0,\"ticks\":\"\"},\"colorscale\":[[0.0,\"#0d0887\"],[0.1111111111111111,\"#46039f\"],[0.2222222222222222,\"#7201a8\"],[0.3333333333333333,\"#9c179e\"],[0.4444444444444444,\"#bd3786\"],[0.5555555555555556,\"#d8576b\"],[0.6666666666666666,\"#ed7953\"],[0.7777777777777778,\"#fb9f3a\"],[0.8888888888888888,\"#fdca26\"],[1.0,\"#f0f921\"]],\"type\":\"heatmapgl\"}],\"histogram\":[{\"marker\":{\"pattern\":{\"fillmode\":\"overlay\",\"size\":10,\"solidity\":0.2}},\"type\":\"histogram\"}],\"histogram2d\":[{\"colorbar\":{\"outlinewidth\":0,\"ticks\":\"\"},\"colorscale\":[[0.0,\"#0d0887\"],[0.1111111111111111,\"#46039f\"],[0.2222222222222222,\"#7201a8\"],[0.3333333333333333,\"#9c179e\"],[0.4444444444444444,\"#bd3786\"],[0.5555555555555556,\"#d8576b\"],[0.6666666666666666,\"#ed7953\"],[0.7777777777777778,\"#fb9f3a\"],[0.8888888888888888,\"#fdca26\"],[1.0,\"#f0f921\"]],\"type\":\"histogram2d\"}],\"histogram2dcontour\":[{\"colorbar\":{\"outlinewidth\":0,\"ticks\":\"\"},\"colorscale\":[[0.0,\"#0d0887\"],[0.1111111111111111,\"#46039f\"],[0.2222222222222222,\"#7201a8\"],[0.3333333333333333,\"#9c179e\"],[0.4444444444444444,\"#bd3786\"],[0.5555555555555556,\"#d8576b\"],[0.6666666666666666,\"#ed7953\"],[0.7777777777777778,\"#fb9f3a\"],[0.8888888888888888,\"#fdca26\"],[1.0,\"#f0f921\"]],\"type\":\"histogram2dcontour\"}],\"mesh3d\":[{\"colorbar\":{\"outlinewidth\":0,\"ticks\":\"\"},\"type\":\"mesh3d\"}],\"parcoords\":[{\"line\":{\"colorbar\":{\"outlinewidth\":0,\"ticks\":\"\"}},\"type\":\"parcoords\"}],\"pie\":[{\"automargin\":true,\"type\":\"pie\"}],\"scatter\":[{\"marker\":{\"colorbar\":{\"outlinewidth\":0,\"ticks\":\"\"}},\"type\":\"scatter\"}],\"scatter3d\":[{\"line\":{\"colorbar\":{\"outlinewidth\":0,\"ticks\":\"\"}},\"marker\":{\"colorbar\":{\"outlinewidth\":0,\"ticks\":\"\"}},\"type\":\"scatter3d\"}],\"scattercarpet\":[{\"marker\":{\"colorbar\":{\"outlinewidth\":0,\"ticks\":\"\"}},\"type\":\"scattercarpet\"}],\"scattergeo\":[{\"marker\":{\"colorbar\":{\"outlinewidth\":0,\"ticks\":\"\"}},\"type\":\"scattergeo\"}],\"scattergl\":[{\"marker\":{\"colorbar\":{\"outlinewidth\":0,\"ticks\":\"\"}},\"type\":\"scattergl\"}],\"scattermapbox\":[{\"marker\":{\"colorbar\":{\"outlinewidth\":0,\"ticks\":\"\"}},\"type\":\"scattermapbox\"}],\"scatterpolar\":[{\"marker\":{\"colorbar\":{\"outlinewidth\":0,\"ticks\":\"\"}},\"type\":\"scatterpolar\"}],\"scatterpolargl\":[{\"marker\":{\"colorbar\":{\"outlinewidth\":0,\"ticks\":\"\"}},\"type\":\"scatterpolargl\"}],\"scatterternary\":[{\"marker\":{\"colorbar\":{\"outlinewidth\":0,\"ticks\":\"\"}},\"type\":\"scatterternary\"}],\"surface\":[{\"colorbar\":{\"outlinewidth\":0,\"ticks\":\"\"},\"colorscale\":[[0.0,\"#0d0887\"],[0.1111111111111111,\"#46039f\"],[0.2222222222222222,\"#7201a8\"],[0.3333333333333333,\"#9c179e\"],[0.4444444444444444,\"#bd3786\"],[0.5555555555555556,\"#d8576b\"],[0.6666666666666666,\"#ed7953\"],[0.7777777777777778,\"#fb9f3a\"],[0.8888888888888888,\"#fdca26\"],[1.0,\"#f0f921\"]],\"type\":\"surface\"}],\"table\":[{\"cells\":{\"fill\":{\"color\":\"#EBF0F8\"},\"line\":{\"color\":\"white\"}},\"header\":{\"fill\":{\"color\":\"#C8D4E3\"},\"line\":{\"color\":\"white\"}},\"type\":\"table\"}]},\"layout\":{\"annotationdefaults\":{\"arrowcolor\":\"#2a3f5f\",\"arrowhead\":0,\"arrowwidth\":1},\"autotypenumbers\":\"strict\",\"coloraxis\":{\"colorbar\":{\"outlinewidth\":0,\"ticks\":\"\"}},\"colorscale\":{\"diverging\":[[0,\"#8e0152\"],[0.1,\"#c51b7d\"],[0.2,\"#de77ae\"],[0.3,\"#f1b6da\"],[0.4,\"#fde0ef\"],[0.5,\"#f7f7f7\"],[0.6,\"#e6f5d0\"],[0.7,\"#b8e186\"],[0.8,\"#7fbc41\"],[0.9,\"#4d9221\"],[1,\"#276419\"]],\"sequential\":[[0.0,\"#0d0887\"],[0.1111111111111111,\"#46039f\"],[0.2222222222222222,\"#7201a8\"],[0.3333333333333333,\"#9c179e\"],[0.4444444444444444,\"#bd3786\"],[0.5555555555555556,\"#d8576b\"],[0.6666666666666666,\"#ed7953\"],[0.7777777777777778,\"#fb9f3a\"],[0.8888888888888888,\"#fdca26\"],[1.0,\"#f0f921\"]],\"sequentialminus\":[[0.0,\"#0d0887\"],[0.1111111111111111,\"#46039f\"],[0.2222222222222222,\"#7201a8\"],[0.3333333333333333,\"#9c179e\"],[0.4444444444444444,\"#bd3786\"],[0.5555555555555556,\"#d8576b\"],[0.6666666666666666,\"#ed7953\"],[0.7777777777777778,\"#fb9f3a\"],[0.8888888888888888,\"#fdca26\"],[1.0,\"#f0f921\"]]},\"colorway\":[\"#636efa\",\"#EF553B\",\"#00cc96\",\"#ab63fa\",\"#FFA15A\",\"#19d3f3\",\"#FF6692\",\"#B6E880\",\"#FF97FF\",\"#FECB52\"],\"font\":{\"color\":\"#2a3f5f\"},\"geo\":{\"bgcolor\":\"white\",\"lakecolor\":\"white\",\"landcolor\":\"#E5ECF6\",\"showlakes\":true,\"showland\":true,\"subunitcolor\":\"white\"},\"hoverlabel\":{\"align\":\"left\"},\"hovermode\":\"closest\",\"mapbox\":{\"style\":\"light\"},\"paper_bgcolor\":\"white\",\"plot_bgcolor\":\"#E5ECF6\",\"polar\":{\"angularaxis\":{\"gridcolor\":\"white\",\"linecolor\":\"white\",\"ticks\":\"\"},\"bgcolor\":\"#E5ECF6\",\"radialaxis\":{\"gridcolor\":\"white\",\"linecolor\":\"white\",\"ticks\":\"\"}},\"scene\":{\"xaxis\":{\"backgroundcolor\":\"#E5ECF6\",\"gridcolor\":\"white\",\"gridwidth\":2,\"linecolor\":\"white\",\"showbackground\":true,\"ticks\":\"\",\"zerolinecolor\":\"white\"},\"yaxis\":{\"backgroundcolor\":\"#E5ECF6\",\"gridcolor\":\"white\",\"gridwidth\":2,\"linecolor\":\"white\",\"showbackground\":true,\"ticks\":\"\",\"zerolinecolor\":\"white\"},\"zaxis\":{\"backgroundcolor\":\"#E5ECF6\",\"gridcolor\":\"white\",\"gridwidth\":2,\"linecolor\":\"white\",\"showbackground\":true,\"ticks\":\"\",\"zerolinecolor\":\"white\"}},\"shapedefaults\":{\"line\":{\"color\":\"#2a3f5f\"}},\"ternary\":{\"aaxis\":{\"gridcolor\":\"white\",\"linecolor\":\"white\",\"ticks\":\"\"},\"baxis\":{\"gridcolor\":\"white\",\"linecolor\":\"white\",\"ticks\":\"\"},\"bgcolor\":\"#E5ECF6\",\"caxis\":{\"gridcolor\":\"white\",\"linecolor\":\"white\",\"ticks\":\"\"}},\"title\":{\"x\":0.05},\"xaxis\":{\"automargin\":true,\"gridcolor\":\"white\",\"linecolor\":\"white\",\"ticks\":\"\",\"title\":{\"standoff\":15},\"zerolinecolor\":\"white\",\"zerolinewidth\":2},\"yaxis\":{\"automargin\":true,\"gridcolor\":\"white\",\"linecolor\":\"white\",\"ticks\":\"\",\"title\":{\"standoff\":15},\"zerolinecolor\":\"white\",\"zerolinewidth\":2}}},\"xaxis\":{\"anchor\":\"y\",\"domain\":[0.0,1.0],\"title\":{\"text\":\"value\"}},\"yaxis\":{\"anchor\":\"x\",\"domain\":[0.0,1.0],\"title\":{\"text\":\"count\"}},\"legend\":{\"title\":{\"text\":\"variable\"},\"tracegroupgap\":0},\"margin\":{\"t\":60},\"barmode\":\"relative\"},                        {\"responsive\": true}                    ).then(function(){\n                            \nvar gd = document.getElementById('2e0a57c2-1aeb-45a7-b9ac-cbb78bc30f23');\nvar x = new MutationObserver(function (mutations, observer) {{\n        var display = window.getComputedStyle(gd).display;\n        if (!display || display === 'none') {{\n            console.log([gd, 'removed!']);\n            Plotly.purge(gd);\n            observer.disconnect();\n        }}\n}});\n\n// Listen for the removal of the full notebook cells\nvar notebookContainer = gd.closest('#notebook-container');\nif (notebookContainer) {{\n    x.observe(notebookContainer, {childList: true});\n}}\n\n// Listen for the clearing of the current output cell\nvar outputEl = gd.closest('.output');\nif (outputEl) {{\n    x.observe(outputEl, {childList: true});\n}}\n\n                        })                };                });            </script>        </div>"
     },
     "metadata": {},
     "output_type": "display_data"
    }
   ],
   "source": [
    "hist = pd.Series(time_delta_dict['year1'][\"Load_StatusApplianceDishwasher\"])\n",
    "fig = px.histogram(hist)\n",
    "fig.show()"
   ],
   "metadata": {
    "collapsed": false,
    "pycharm": {
     "name": "#%%\n"
    }
   }
  },
  {
   "cell_type": "code",
   "execution_count": null,
   "outputs": [],
   "source": [
    "\n",
    "fig = px.box(time_delta_dict['year1'], log_y=True)\n",
    "fig.update_traces(jitter= 0.3)\n",
    "# fig.show()\n",
    "fig.write_html(Db.get_save_file_directory(\"rule_constraints/time_delta_boxplot.html\"))"
   ],
   "metadata": {
    "collapsed": false,
    "pycharm": {
     "name": "#%%\n"
    }
   }
  },
  {
   "cell_type": "markdown",
   "source": [
    "# Phase 3\n",
    "Maybe the patterns can help some of the constraints\n",
    "    o\tWashing machine can be used at every hour, but maybe the constraints of the user can be found in the patterns\n",
    "        \tE.g. General constraint that the appliances cant be started when the users are not home\n",
    "        \tDryer have to be started after the clotheswasher, so the clotheswasher cannot be started right before they go out of the house."
   ],
   "metadata": {
    "collapsed": false
   }
  },
  {
   "cell_type": "code",
   "execution_count": null,
   "outputs": [],
   "source": [],
   "metadata": {
    "collapsed": false,
    "pycharm": {
     "name": "#%%\n"
    }
   }
  }
 ],
 "metadata": {
  "kernelspec": {
   "display_name": "Python 3",
   "language": "python",
   "name": "python3"
  },
  "language_info": {
   "codemirror_mode": {
    "name": "ipython",
    "version": 2
   },
   "file_extension": ".py",
   "mimetype": "text/x-python",
   "name": "python",
   "nbconvert_exporter": "python",
   "pygments_lexer": "ipython2",
   "version": "2.7.6"
  }
 },
 "nbformat": 4,
 "nbformat_minor": 0
}
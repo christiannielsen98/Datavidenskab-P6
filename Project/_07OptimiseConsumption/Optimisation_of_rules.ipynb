{
 "cells": [
  {
   "cell_type": "code",
   "execution_count": 72,
   "outputs": [],
   "source": [
    "\n",
    "import pandas as pd\n",
    "import plotly.express as px\n",
    "pd.options.display.max_colwidth = 200\n",
    "\n",
    "from Project.Database import Db\n",
    "from Project._05InferKnowledgeOfRules.infer_rules_functions import json_to_dataframe, SE_time_df, redundancy_filter_tool"
   ],
   "metadata": {
    "collapsed": false,
    "pycharm": {
     "name": "#%%\n"
    }
   }
  },
  {
   "cell_type": "markdown",
   "source": [
    "# Phase 1\n",
    "Define available appliances"
   ],
   "metadata": {
    "collapsed": false
   }
  },
  {
   "cell_type": "code",
   "execution_count": 73,
   "metadata": {
    "collapsed": true
   },
   "outputs": [
    {
     "data": {
      "text/plain": "['DHW_StatusSolenoidHotKitchenSink',\n 'DHW_StatusSolenoidHotMBAShower',\n 'DHW_StatusSolenoidHotMBATub',\n 'Load_StatusApplianceCooktop',\n 'Load_StatusApplianceDishwasher',\n 'Load_StatusApplianceOven',\n 'Load_StatusApplianceRangeHood',\n 'Load_StatusBA1Lights',\n 'Load_StatusBA2Lights',\n 'Load_StatusBR2Lights',\n 'Load_StatusBR3Lights',\n 'Load_StatusBR4Lights',\n 'Load_StatusDRLights',\n 'Load_StatusEntryHallLights',\n 'Load_StatusKitchenLightsA',\n 'Load_StatusKitchenLightsB',\n 'Load_StatusKitchenLightsC',\n 'Load_StatusLRLights1',\n 'Load_StatusLRLights2',\n 'Load_StatusLRLights3',\n 'Load_StatusLatentload',\n 'Load_StatusMBALights',\n 'Load_StatusMBRLights1',\n 'Load_StatusMBRLights2',\n 'Load_StatusPlugLoadBR2Laptop',\n 'Load_StatusPlugLoadBR3Laptop',\n 'Load_StatusPlugLoadBlender',\n 'Load_StatusPlugLoadCanOpener',\n 'Load_StatusPlugLoadCoffeeMaker',\n 'Load_StatusPlugLoadDesktopPCMonitor',\n 'Load_StatusPlugLoadFan',\n 'Load_StatusPlugLoadHairDryerCurlIron',\n 'Load_StatusPlugLoadHandMixer',\n 'Load_StatusPlugLoadHeatingPad',\n 'Load_StatusPlugLoadIron',\n 'Load_StatusPlugLoadLRBlueRay',\n 'Load_StatusPlugLoadLRTV',\n 'Load_StatusPlugLoadMBRBlueRay',\n 'Load_StatusPlugLoadMBRTV',\n 'Load_StatusPlugLoadSlowCooker',\n 'Load_StatusPlugLoadToaster',\n 'Load_StatusPlugLoadToasterOven',\n 'Load_StatusPlugLoadVacuum',\n 'Load_StatusPlugLoadVideoGame',\n 'Load_StatusClothesWasher',\n 'Load_StatusDryerPowerTotal',\n 'DHW_StatusHeatPumpWaterHeaterPowerTotal']"
     },
     "execution_count": 73,
     "metadata": {},
     "output_type": "execute_result"
    }
   ],
   "source": [
    "meta = Db.load_data(meta=True, hourly=False, consumption=False)\n",
    "appliance_list = meta.loc[(lambda self:\n",
    "                           (self[\"Parameter\"] == \"Status_OnOff\") &\n",
    "                           (~ self.index.str.contains(\"SensHeat\")) &\n",
    "                           (~ self.index.str.contains(\"Cold\")))].index.to_list()\n",
    "appliance_list"
   ]
  },
  {
   "cell_type": "markdown",
   "source": [],
   "metadata": {
    "collapsed": false
   }
  },
  {
   "cell_type": "code",
   "execution_count": 74,
   "outputs": [
    {
     "data": {
      "text/plain": "                                                                 Load_Match  \\\nUnnamed: 0                                                                    \nDHW_ClothesWasherColdFlow                                               NaN   \nDHW_ClothesWasherHotFlow                                                NaN   \nDHW_DishwasherHotFlow                                                   NaN   \nDHW_HeatPumpWaterHeaterEnergyTotal                                      NaN   \nDHW_HeatPumpWaterHeaterPowerTotal                                       NaN   \n...                                                                     ...   \nHVAC_HeatPumpIndoorUnitPower                                            NaN   \nHVAC_HeatPumpOutdoorUnitPower                                           NaN   \nLoad_StatusClothesWasher                 Load_ClothesWasherPowerWithStandby   \nLoad_StatusDryerPowerTotal                             Load_DryerPowerTotal   \nDHW_StatusHeatPumpWaterHeaterPowerTotal                                 NaN   \n\n                                                       Elec_Match  \\\nUnnamed: 0                                                          \nDHW_ClothesWasherColdFlow                                     NaN   \nDHW_ClothesWasherHotFlow                                      NaN   \nDHW_DishwasherHotFlow                                         NaN   \nDHW_HeatPumpWaterHeaterEnergyTotal                            NaN   \nDHW_HeatPumpWaterHeaterPowerTotal                             NaN   \n...                                                           ...   \nHVAC_HeatPumpIndoorUnitPower                                  NaN   \nHVAC_HeatPumpOutdoorUnitPower                                 NaN   \nLoad_StatusClothesWasher                  Elec_PowerClothesWasher   \nLoad_StatusDryerPowerTotal                    Elec_PowerDryer1of2   \nDHW_StatusHeatPumpWaterHeaterPowerTotal  Elec_PowerHeatPumpWH2of2   \n\n                                                                 DHW_Match  \nUnnamed: 0                                                                  \nDHW_ClothesWasherColdFlow                                              NaN  \nDHW_ClothesWasherHotFlow                                               NaN  \nDHW_DishwasherHotFlow                                                  NaN  \nDHW_HeatPumpWaterHeaterEnergyTotal                                     NaN  \nDHW_HeatPumpWaterHeaterPowerTotal                                      NaN  \n...                                                                    ...  \nHVAC_HeatPumpIndoorUnitPower                                           NaN  \nHVAC_HeatPumpOutdoorUnitPower                                          NaN  \nLoad_StatusClothesWasher                                               NaN  \nLoad_StatusDryerPowerTotal                                             NaN  \nDHW_StatusHeatPumpWaterHeaterPowerTotal  DHW_HeatPumpWaterHeaterPowerTotal  \n\n[335 rows x 3 columns]",
      "text/html": "<div>\n<style scoped>\n    .dataframe tbody tr th:only-of-type {\n        vertical-align: middle;\n    }\n\n    .dataframe tbody tr th {\n        vertical-align: top;\n    }\n\n    .dataframe thead th {\n        text-align: right;\n    }\n</style>\n<table border=\"1\" class=\"dataframe\">\n  <thead>\n    <tr style=\"text-align: right;\">\n      <th></th>\n      <th>Load_Match</th>\n      <th>Elec_Match</th>\n      <th>DHW_Match</th>\n    </tr>\n    <tr>\n      <th>Unnamed: 0</th>\n      <th></th>\n      <th></th>\n      <th></th>\n    </tr>\n  </thead>\n  <tbody>\n    <tr>\n      <th>DHW_ClothesWasherColdFlow</th>\n      <td>NaN</td>\n      <td>NaN</td>\n      <td>NaN</td>\n    </tr>\n    <tr>\n      <th>DHW_ClothesWasherHotFlow</th>\n      <td>NaN</td>\n      <td>NaN</td>\n      <td>NaN</td>\n    </tr>\n    <tr>\n      <th>DHW_DishwasherHotFlow</th>\n      <td>NaN</td>\n      <td>NaN</td>\n      <td>NaN</td>\n    </tr>\n    <tr>\n      <th>DHW_HeatPumpWaterHeaterEnergyTotal</th>\n      <td>NaN</td>\n      <td>NaN</td>\n      <td>NaN</td>\n    </tr>\n    <tr>\n      <th>DHW_HeatPumpWaterHeaterPowerTotal</th>\n      <td>NaN</td>\n      <td>NaN</td>\n      <td>NaN</td>\n    </tr>\n    <tr>\n      <th>...</th>\n      <td>...</td>\n      <td>...</td>\n      <td>...</td>\n    </tr>\n    <tr>\n      <th>HVAC_HeatPumpIndoorUnitPower</th>\n      <td>NaN</td>\n      <td>NaN</td>\n      <td>NaN</td>\n    </tr>\n    <tr>\n      <th>HVAC_HeatPumpOutdoorUnitPower</th>\n      <td>NaN</td>\n      <td>NaN</td>\n      <td>NaN</td>\n    </tr>\n    <tr>\n      <th>Load_StatusClothesWasher</th>\n      <td>Load_ClothesWasherPowerWithStandby</td>\n      <td>Elec_PowerClothesWasher</td>\n      <td>NaN</td>\n    </tr>\n    <tr>\n      <th>Load_StatusDryerPowerTotal</th>\n      <td>Load_DryerPowerTotal</td>\n      <td>Elec_PowerDryer1of2</td>\n      <td>NaN</td>\n    </tr>\n    <tr>\n      <th>DHW_StatusHeatPumpWaterHeaterPowerTotal</th>\n      <td>NaN</td>\n      <td>Elec_PowerHeatPumpWH2of2</td>\n      <td>DHW_HeatPumpWaterHeaterPowerTotal</td>\n    </tr>\n  </tbody>\n</table>\n<p>335 rows × 3 columns</p>\n</div>"
     },
     "execution_count": 74,
     "metadata": {},
     "output_type": "execute_result"
    }
   ],
   "source": [
    "meta[['Load_Match', 'Elec_Match', 'DHW_Match']]"
   ],
   "metadata": {
    "collapsed": false,
    "pycharm": {
     "name": "#%%\n"
    }
   }
  },
  {
   "cell_type": "markdown",
   "source": [
    "# Phase 2\n",
    "Find constraints of devices:\n",
    "o\tIf there are hard constraints for this appliance only\n",
    "o\tDoes it have to be on in a continous period of time? How long does it last?\n",
    "o\tHow many watts pr second does it use?\n",
    "o\tHow much energy does it need from start to finish?\n"
   ],
   "metadata": {
    "collapsed": false
   }
  },
  {
   "cell_type": "markdown",
   "source": [
    "## Time duration constraints"
   ],
   "metadata": {
    "collapsed": false
   }
  },
  {
   "cell_type": "code",
   "execution_count": 75,
   "outputs": [
    {
     "data": {
      "text/plain": "                                 pattern      supp  conf  \\\n0                   Load_StatusMBALights  0.991781   1.0   \n1           Load_StatusSensHeatPrntBDOWN  0.991781   1.0   \n2               Load_StatusKitchenLights  0.991781   1.0   \n3             Load_StatusPlugLoadBlender  0.980822   1.0   \n4         Load_StatusPlugLoadCoffeeMaker  0.980822   1.0   \n5               Load_StatusPlugLoadMBRTV  0.843836   1.0   \n6         Load_StatusPlugLoadToasterOven  0.980822   1.0   \n7         Load_StatusMasterBedroomLights  0.991781   1.0   \n8             Load_StatusPlugLoadToaster  0.980822   1.0   \n9                   Load_StatusBA2Lights  0.991781   1.0   \n10               Load_StatusPlugLoadLRTV  0.986301   1.0   \n11          Load_StatusSensHeatPrntADOWN  0.991781   1.0   \n12            Load_StatusSensHeatPrntBUP  1.000000   1.0   \n13                  Load_StatusBR2Lights  0.991781   1.0   \n14  Load_StatusPlugLoadHairDryerCurlIron  0.980822   1.0   \n15                  Load_StatusBR3Lights  0.991781   1.0   \n16                   Load_StatusDRLights  0.991781   1.0   \n17         Load_StatusSensHeatChildADOWN  0.991781   1.0   \n18         Load_StatusSensHeatChildBDOWN  0.991781   1.0   \n19           Load_StatusLivingRoomLights  0.989041   1.0   \n20                  Load_StatusBA1Lights  0.989041   1.0   \n21           Load_StatusSensHeatChildAUP  1.000000   1.0   \n22            Load_StatusSensHeatPrntAUP  1.000000   1.0   \n23           Load_StatusApplianceCooktop  0.986301   1.0   \n24         Load_StatusApplianceRangeHood  0.986301   1.0   \n25          Load_StatusPlugLoadBR2Laptop  0.986301   1.0   \n26          Load_StatusPlugLoadBR3Laptop  0.989041   1.0   \n27   Load_StatusPlugLoadDesktopPCMonitor  0.983562   1.0   \n28           Load_StatusSensHeatChildBUP  1.000000   1.0   \n29          Load_StatusPlugLoadCanOpener  0.989041   1.0   \n30          Load_StatusPlugLoadHandMixer  0.989041   1.0   \n31        Load_StatusApplianceDishwasher  0.704110   1.0   \n32                Load_StatusPlugLoadFan  0.978082   1.0   \n33         Load_StatusPlugLoadHeatingPad  0.978082   1.0   \n34         Load_StatusPlugLoadSlowCooker  0.279452   1.0   \n35            Load_StatusDryerPowerTotal  0.452055   1.0   \n36         Load_StatusPlugLoadMBRBlueRay  0.282192   1.0   \n37          Load_StatusPlugLoadVideoGame  0.419178   1.0   \n38              Load_StatusApplianceOven  0.282192   1.0   \n39              Load_StatusClothesWasher  0.424658   1.0   \n40          Load_StatusPlugLoadLRBlueRay  0.282192   1.0   \n41             Load_StatusPlugLoadVacuum  0.145205   1.0   \n42               Load_StatusPlugLoadIron  0.279452   1.0   \n\n                                                                                                                                                                                                       time  \\\n0   {'0': [['2013-07-01 03:29:17', '2013-07-01 03:32:17'], ['2013-07-01 03:58:17', '2013-07-01 04:01:17'], ['2013-07-01 05:58:17', '2013-07-01 06:13:17'], ['2013-07-01 06:28:17', '2013-07-01 06:43:17'...   \n1   {'0': [['2013-07-01 05:58:17', '2013-07-01 06:28:17'], ['2013-07-01 06:58:17', '2013-07-01 08:28:17'], ['2013-07-01 17:58:31', '2013-07-01 21:58:30']], '1': [['2013-07-02 05:58:29', '2013-07-02 06...   \n2   {'0': [['2013-07-01 05:58:17', '2013-07-01 08:23:17'], ['2013-07-01 17:58:31', '2013-07-01 18:28:31'], ['2013-07-01 18:58:31', '2013-07-01 19:13:31'], ['2013-07-01 19:28:31', '2013-07-01 20:13:31'...   \n3   {'0': [['2013-07-01 06:03:17', '2013-07-01 06:10:17']], '1': [['2013-07-02 06:03:29', '2013-07-02 06:10:29']], '2': [['2013-07-03 06:03:28', '2013-07-03 06:10:28']], '3': [['2013-07-04 06:03:27', ...   \n4   {'0': [['2013-07-01 06:08:17', '2013-07-01 06:26:17']], '1': [['2013-07-02 06:08:29', '2013-07-02 06:38:29']], '2': [['2013-07-03 06:08:28', '2013-07-03 06:38:28']], '3': [['2013-07-04 06:08:27', ...   \n5   {'0': [['2013-07-01 06:13:17', '2013-07-01 06:58:17']], '1': [['2013-07-02 06:13:29', '2013-07-02 06:58:29']], '2': [['2013-07-03 06:13:28', '2013-07-03 06:58:28'], ['2013-07-03 21:58:27', '2013-0...   \n6   {'0': [['2013-07-01 06:13:17', '2013-07-01 06:23:17']], '1': [['2013-07-02 06:13:29', '2013-07-02 06:23:29']], '2': [['2013-07-03 06:13:28', '2013-07-03 06:23:28']], '3': [['2013-07-04 06:13:27', ...   \n7   {'0': [['2013-07-01 06:13:17', '2013-07-01 06:28:17'], ['2013-07-01 06:43:17', '2013-07-01 06:58:17'], ['2013-07-01 18:05:31', '2013-07-01 18:28:31'], ['2013-07-01 21:58:30', '2013-07-01 22:58:30'...   \n8   {'0': [['2013-07-01 06:18:17', '2013-07-01 06:29:17']], '1': [['2013-07-02 06:18:29', '2013-07-02 06:29:29']], '2': [['2013-07-03 06:18:28', '2013-07-03 06:29:28']], '3': [['2013-07-04 06:18:27', ...   \n9   {'0': [['2013-07-01 06:28:17', '2013-07-01 06:48:17'], ['2013-07-01 18:06:31', '2013-07-01 18:16:31'], ['2013-07-01 20:13:31', '2013-07-01 20:23:31'], ['2013-07-01 21:43:30', '2013-07-01 21:58:30'...   \n10  {'0': [['2013-07-01 06:28:17', '2013-07-01 08:23:17'], ['2013-07-01 18:08:31', '2013-07-01 20:28:31']], '1': [['2013-07-02 06:28:29', '2013-07-02 08:23:29'], ['2013-07-02 18:08:28', '2013-07-02 20...   \n11  {'0': [['2013-07-01 06:28:17', '2013-07-01 08:28:17'], ['2013-07-01 18:28:31', '2013-07-01 22:28:30']], '1': [['2013-07-02 06:28:29', '2013-07-02 08:28:29'], ['2013-07-02 18:28:28', '2013-07-02 22...   \n12  {'0': [['2013-07-01 06:28:17', '2013-07-01 06:58:17'], ['2013-07-01 21:58:30', '2013-07-01 23:58:30']], '1': [['2013-07-02 06:28:29', '2013-07-02 06:58:29'], ['2013-07-02 21:58:28', '2013-07-02 23...   \n13  {'0': [['2013-07-01 06:38:17', '2013-07-01 06:58:17'], ['2013-07-01 18:18:31', '2013-07-01 19:28:31'], ['2013-07-01 20:13:31', '2013-07-01 21:43:30']], '1': [['2013-07-02 06:38:29', '2013-07-02 06...   \n14  {'0': [['2013-07-01 06:38:17', '2013-07-01 06:43:17']], '1': [['2013-07-02 06:38:29', '2013-07-02 06:43:29']], '2': [['2013-07-03 06:38:28', '2013-07-03 06:43:28']], '3': [['2013-07-04 06:38:27', ...   \n15  {'0': [['2013-07-01 06:48:17', '2013-07-01 06:58:17'], ['2013-07-01 18:28:31', '2013-07-01 19:28:31'], ['2013-07-01 20:13:31', '2013-07-01 20:28:31']], '1': [['2013-07-02 06:48:29', '2013-07-02 06...   \n16  {'0': [['2013-07-01 06:58:17', '2013-07-01 07:58:17'], ['2013-07-01 19:13:31', '2013-07-01 20:28:31']], '1': [['2013-07-02 06:58:29', '2013-07-02 07:58:29'], ['2013-07-02 19:13:28', '2013-07-02 20...   \n17  {'0': [['2013-07-01 06:58:17', '2013-07-01 07:58:17'], ['2013-07-01 19:28:31', '2013-07-01 20:13:31']], '1': [['2013-07-02 06:58:29', '2013-07-02 07:58:29'], ['2013-07-02 15:58:28', '2013-07-02 16...   \n18  {'0': [['2013-07-01 06:58:17', '2013-07-01 07:58:17'], ['2013-07-01 17:58:31', '2013-07-01 18:28:31'], ['2013-07-01 19:28:31', '2013-07-01 20:13:31']], '1': [['2013-07-02 06:58:29', '2013-07-02 07...   \n19  {'0': [['2013-07-01 07:58:17', '2013-07-01 08:23:17'], ['2013-07-01 17:58:31', '2013-07-01 22:28:30']], '1': [['2013-07-02 07:58:29', '2013-07-02 08:23:29'], ['2013-07-02 17:58:28', '2013-07-02 18...   \n20  {'0': [['2013-07-01 08:13:17', '2013-07-01 08:18:17'], ['2013-07-01 18:00:31', '2013-07-01 18:04:31']], '1': [['2013-07-02 15:59:28', '2013-07-02 16:04:28'], ['2013-07-02 18:00:28', '2013-07-02 18...   \n21  {'0': [['2013-07-01 17:58:31', '2013-07-01 19:28:31'], ['2013-07-01 20:13:31', '2013-07-01 23:58:30']], '1': [['2013-07-02 16:28:28', '2013-07-02 17:58:28'], ['2013-07-02 18:28:28', '2013-07-02 19...   \n22  {'0': [['2013-07-01 17:58:31', '2013-07-01 18:28:31'], ['2013-07-01 22:28:30', '2013-07-01 23:58:30']], '1': [['2013-07-02 17:58:28', '2013-07-02 18:28:28'], ['2013-07-02 22:28:28', '2013-07-02 23...   \n23  {'0': [['2013-07-01 18:00:31', '2013-07-01 18:17:31']], '1': [['2013-07-02 18:00:28', '2013-07-02 18:17:28']], '2': [['2013-07-03 18:00:27', '2013-07-03 18:17:27']], '3': [['2013-07-04 18:00:26', ...   \n24  {'0': [['2013-07-01 18:00:31', '2013-07-01 18:17:31']], '1': [['2013-07-02 18:00:28', '2013-07-02 18:17:28']], '2': [['2013-07-03 18:00:27', '2013-07-03 18:17:27']], '3': [['2013-07-04 18:00:26', ...   \n25  {'0': [['2013-07-01 18:28:31', '2013-07-01 21:58:30']], '1': [['2013-07-02 18:28:28', '2013-07-02 21:58:28']], '2': [['2013-07-03 18:28:27', '2013-07-03 21:58:27']], '3': [['2013-07-04 18:28:26', ...   \n26  {'0': [['2013-07-01 18:28:31', '2013-07-01 20:13:31']], '1': [['2013-07-02 18:28:28', '2013-07-02 20:13:28']], '2': [['2013-07-03 18:28:27', '2013-07-03 20:13:27']], '3': [['2013-07-04 18:28:26', ...   \n27  {'0': [['2013-07-01 18:28:31', '2013-07-01 22:28:30']], '1': [['2013-07-02 18:28:28', '2013-07-02 22:28:28']], '2': [['2013-07-03 18:28:27', '2013-07-03 22:28:27']], '3': [['2013-07-04 18:28:26', ...   \n28  {'0': [['2013-07-01 18:28:31', '2013-07-01 19:28:31'], ['2013-07-01 20:13:31', '2013-07-01 23:58:30']], '1': [['2013-07-02 18:28:28', '2013-07-02 19:28:28'], ['2013-07-02 20:13:28', '2013-07-02 23...   \n29  {'0': [['2013-07-01 18:38:31', '2013-07-01 18:45:31']], '1': [['2013-07-02 18:38:28', '2013-07-02 18:45:28']], '2': [['2013-07-03 18:38:27', '2013-07-03 18:45:27']], '3': [['2013-07-04 18:38:26', ...   \n30  {'0': [['2013-07-01 18:38:31', '2013-07-01 18:40:31']], '1': [['2013-07-02 18:38:28', '2013-07-02 18:40:28']], '2': [['2013-07-03 18:38:27', '2013-07-03 18:40:27']], '3': [['2013-07-04 18:38:26', ...   \n31  {'0': [['2013-07-01 20:26:31', '2013-07-01 22:36:30']], '2': [['2013-07-03 20:26:27', '2013-07-03 22:37:27']], '4': [['2013-07-05 20:13:27', '2013-07-05 22:24:27']], '5': [['2013-07-06 20:58:26', ...   \n32  {'0': [['2013-07-01 21:58:30', '2013-07-01 23:58:30']], '1': [['2013-07-02 21:58:28', '2013-07-02 23:59:28']], '2': [['2013-07-03 21:58:27', '2013-07-03 23:57:27']], '3': [['2013-07-04 21:58:25', ...   \n33  {'0': [['2013-07-01 21:58:30', '2013-07-01 22:13:30']], '1': [['2013-07-02 21:58:28', '2013-07-02 22:08:28']], '2': [['2013-07-03 21:58:27', '2013-07-03 22:13:27']], '3': [['2013-07-04 21:58:25', ...   \n34  {'1': [['2013-07-02 08:28:29', '2013-07-02 09:31:29']], '3': [['2013-07-04 08:28:27', '2013-07-04 09:31:27']], '5': [['2013-07-06 08:28:27', '2013-07-06 09:21:27']], '8': [['2013-07-09 08:29:35', ...   \n35  {'2': [['2013-07-03 20:28:27', '2013-07-03 21:15:27']], '5': [['2013-07-06 12:29:27', '2013-07-06 13:12:27'], ['2013-07-06 14:58:27', '2013-07-06 15:49:27']], '6': [['2013-07-07 12:28:27', '2013-0...   \n36  {'2': [['2013-07-03 21:58:27', '2013-07-03 23:28:27']], '6': [['2013-07-07 21:58:26', '2013-07-07 23:28:26']], '9': [['2013-07-10 21:59:30', '2013-07-10 23:29:30']], '13': [['2013-07-14 21:59:54',...   \n37  {'4': [['2013-07-05 20:58:27', '2013-07-05 21:58:27']], '5': [['2013-07-06 09:58:27', '2013-07-06 10:58:27']], '6': [['2013-07-07 09:58:27', '2013-07-07 10:58:27']], '11': [['2013-07-12 21:00:00',...   \n38  {'5': [['2013-07-06 08:13:27', '2013-07-06 10:46:27'], ['2013-07-06 18:58:26', '2013-07-06 21:32:26']], '6': [['2013-07-07 08:13:27', '2013-07-07 10:47:27']], '12': [['2013-07-13 08:14:57', '2013-...   \n39  {'5': [['2013-07-06 11:00:27', '2013-07-06 11:01:27'], ['2013-07-06 11:02:27', '2013-07-06 11:03:27'], ['2013-07-06 14:32:27', '2013-07-06 14:33:27']], '6': [['2013-07-07 14:29:27', '2013-07-07 14...   \n40  {'5': [['2013-07-06 14:58:27', '2013-07-06 16:28:27']], '6': [['2013-07-07 14:58:27', '2013-07-07 16:28:27']], '12': [['2013-07-13 14:59:57', '2013-07-13 16:29:56']], '13': [['2013-07-14 14:59:54'...   \n41  {'5': [['2013-07-06 17:28:27', '2013-07-06 19:18:26']], '12': [['2013-07-13 17:29:56', '2013-07-13 19:18:56']], '19': [['2013-07-20 17:29:37', '2013-07-20 19:18:37']], '26': [['2013-07-27 17:29:52...   \n42  {'5': [['2013-07-06 17:58:27', '2013-07-06 18:22:27']], '6': [['2013-07-07 14:14:27', '2013-07-07 14:38:27']], '12': [['2013-07-13 17:59:56', '2013-07-13 18:23:56']], '13': [['2013-07-14 14:15:54'...   \n\n   rule multi_floor     floor  \n0   app       False  2ndFloor  \n1   psn       False  1stFloor  \n2   app       False  1stFloor  \n3   app       False  1stFloor  \n4   app       False  1stFloor  \n5   app       False  2ndFloor  \n6   app       False  1stFloor  \n7   app       False  2ndFloor  \n8   app       False  1stFloor  \n9   app       False  2ndFloor  \n10  app       False  1stFloor  \n11  psn       False  1stFloor  \n12  psn       False  2ndFloor  \n13  app       False  2ndFloor  \n14  app       False  2ndFloor  \n15  app       False  2ndFloor  \n16  app       False  1stFloor  \n17  psn       False  1stFloor  \n18  psn       False  1stFloor  \n19  app       False  1stFloor  \n20  app       False  1stFloor  \n21  psn       False  2ndFloor  \n22  psn       False  2ndFloor  \n23  app       False  1stFloor  \n24  app       False  1stFloor  \n25  app       False  2ndFloor  \n26  app       False  2ndFloor  \n27  app       False  1stFloor  \n28  psn       False  2ndFloor  \n29  app       False  1stFloor  \n30  app       False  1stFloor  \n31  app       False  1stFloor  \n32  app       False  2ndFloor  \n33  app       False  2ndFloor  \n34  app       False  1stFloor  \n35  app       False  1stFloor  \n36  app       False  2ndFloor  \n37  app       False  1stFloor  \n38  app       False  1stFloor  \n39  app       False  1stFloor  \n40  app       False  1stFloor  \n41  app       False  1stFloor  \n42  app       False  2ndFloor  ",
      "text/html": "<div>\n<style scoped>\n    .dataframe tbody tr th:only-of-type {\n        vertical-align: middle;\n    }\n\n    .dataframe tbody tr th {\n        vertical-align: top;\n    }\n\n    .dataframe thead th {\n        text-align: right;\n    }\n</style>\n<table border=\"1\" class=\"dataframe\">\n  <thead>\n    <tr style=\"text-align: right;\">\n      <th></th>\n      <th>pattern</th>\n      <th>supp</th>\n      <th>conf</th>\n      <th>time</th>\n      <th>rule</th>\n      <th>multi_floor</th>\n      <th>floor</th>\n    </tr>\n  </thead>\n  <tbody>\n    <tr>\n      <th>0</th>\n      <td>Load_StatusMBALights</td>\n      <td>0.991781</td>\n      <td>1.0</td>\n      <td>{'0': [['2013-07-01 03:29:17', '2013-07-01 03:32:17'], ['2013-07-01 03:58:17', '2013-07-01 04:01:17'], ['2013-07-01 05:58:17', '2013-07-01 06:13:17'], ['2013-07-01 06:28:17', '2013-07-01 06:43:17'...</td>\n      <td>app</td>\n      <td>False</td>\n      <td>2ndFloor</td>\n    </tr>\n    <tr>\n      <th>1</th>\n      <td>Load_StatusSensHeatPrntBDOWN</td>\n      <td>0.991781</td>\n      <td>1.0</td>\n      <td>{'0': [['2013-07-01 05:58:17', '2013-07-01 06:28:17'], ['2013-07-01 06:58:17', '2013-07-01 08:28:17'], ['2013-07-01 17:58:31', '2013-07-01 21:58:30']], '1': [['2013-07-02 05:58:29', '2013-07-02 06...</td>\n      <td>psn</td>\n      <td>False</td>\n      <td>1stFloor</td>\n    </tr>\n    <tr>\n      <th>2</th>\n      <td>Load_StatusKitchenLights</td>\n      <td>0.991781</td>\n      <td>1.0</td>\n      <td>{'0': [['2013-07-01 05:58:17', '2013-07-01 08:23:17'], ['2013-07-01 17:58:31', '2013-07-01 18:28:31'], ['2013-07-01 18:58:31', '2013-07-01 19:13:31'], ['2013-07-01 19:28:31', '2013-07-01 20:13:31'...</td>\n      <td>app</td>\n      <td>False</td>\n      <td>1stFloor</td>\n    </tr>\n    <tr>\n      <th>3</th>\n      <td>Load_StatusPlugLoadBlender</td>\n      <td>0.980822</td>\n      <td>1.0</td>\n      <td>{'0': [['2013-07-01 06:03:17', '2013-07-01 06:10:17']], '1': [['2013-07-02 06:03:29', '2013-07-02 06:10:29']], '2': [['2013-07-03 06:03:28', '2013-07-03 06:10:28']], '3': [['2013-07-04 06:03:27', ...</td>\n      <td>app</td>\n      <td>False</td>\n      <td>1stFloor</td>\n    </tr>\n    <tr>\n      <th>4</th>\n      <td>Load_StatusPlugLoadCoffeeMaker</td>\n      <td>0.980822</td>\n      <td>1.0</td>\n      <td>{'0': [['2013-07-01 06:08:17', '2013-07-01 06:26:17']], '1': [['2013-07-02 06:08:29', '2013-07-02 06:38:29']], '2': [['2013-07-03 06:08:28', '2013-07-03 06:38:28']], '3': [['2013-07-04 06:08:27', ...</td>\n      <td>app</td>\n      <td>False</td>\n      <td>1stFloor</td>\n    </tr>\n    <tr>\n      <th>5</th>\n      <td>Load_StatusPlugLoadMBRTV</td>\n      <td>0.843836</td>\n      <td>1.0</td>\n      <td>{'0': [['2013-07-01 06:13:17', '2013-07-01 06:58:17']], '1': [['2013-07-02 06:13:29', '2013-07-02 06:58:29']], '2': [['2013-07-03 06:13:28', '2013-07-03 06:58:28'], ['2013-07-03 21:58:27', '2013-0...</td>\n      <td>app</td>\n      <td>False</td>\n      <td>2ndFloor</td>\n    </tr>\n    <tr>\n      <th>6</th>\n      <td>Load_StatusPlugLoadToasterOven</td>\n      <td>0.980822</td>\n      <td>1.0</td>\n      <td>{'0': [['2013-07-01 06:13:17', '2013-07-01 06:23:17']], '1': [['2013-07-02 06:13:29', '2013-07-02 06:23:29']], '2': [['2013-07-03 06:13:28', '2013-07-03 06:23:28']], '3': [['2013-07-04 06:13:27', ...</td>\n      <td>app</td>\n      <td>False</td>\n      <td>1stFloor</td>\n    </tr>\n    <tr>\n      <th>7</th>\n      <td>Load_StatusMasterBedroomLights</td>\n      <td>0.991781</td>\n      <td>1.0</td>\n      <td>{'0': [['2013-07-01 06:13:17', '2013-07-01 06:28:17'], ['2013-07-01 06:43:17', '2013-07-01 06:58:17'], ['2013-07-01 18:05:31', '2013-07-01 18:28:31'], ['2013-07-01 21:58:30', '2013-07-01 22:58:30'...</td>\n      <td>app</td>\n      <td>False</td>\n      <td>2ndFloor</td>\n    </tr>\n    <tr>\n      <th>8</th>\n      <td>Load_StatusPlugLoadToaster</td>\n      <td>0.980822</td>\n      <td>1.0</td>\n      <td>{'0': [['2013-07-01 06:18:17', '2013-07-01 06:29:17']], '1': [['2013-07-02 06:18:29', '2013-07-02 06:29:29']], '2': [['2013-07-03 06:18:28', '2013-07-03 06:29:28']], '3': [['2013-07-04 06:18:27', ...</td>\n      <td>app</td>\n      <td>False</td>\n      <td>1stFloor</td>\n    </tr>\n    <tr>\n      <th>9</th>\n      <td>Load_StatusBA2Lights</td>\n      <td>0.991781</td>\n      <td>1.0</td>\n      <td>{'0': [['2013-07-01 06:28:17', '2013-07-01 06:48:17'], ['2013-07-01 18:06:31', '2013-07-01 18:16:31'], ['2013-07-01 20:13:31', '2013-07-01 20:23:31'], ['2013-07-01 21:43:30', '2013-07-01 21:58:30'...</td>\n      <td>app</td>\n      <td>False</td>\n      <td>2ndFloor</td>\n    </tr>\n    <tr>\n      <th>10</th>\n      <td>Load_StatusPlugLoadLRTV</td>\n      <td>0.986301</td>\n      <td>1.0</td>\n      <td>{'0': [['2013-07-01 06:28:17', '2013-07-01 08:23:17'], ['2013-07-01 18:08:31', '2013-07-01 20:28:31']], '1': [['2013-07-02 06:28:29', '2013-07-02 08:23:29'], ['2013-07-02 18:08:28', '2013-07-02 20...</td>\n      <td>app</td>\n      <td>False</td>\n      <td>1stFloor</td>\n    </tr>\n    <tr>\n      <th>11</th>\n      <td>Load_StatusSensHeatPrntADOWN</td>\n      <td>0.991781</td>\n      <td>1.0</td>\n      <td>{'0': [['2013-07-01 06:28:17', '2013-07-01 08:28:17'], ['2013-07-01 18:28:31', '2013-07-01 22:28:30']], '1': [['2013-07-02 06:28:29', '2013-07-02 08:28:29'], ['2013-07-02 18:28:28', '2013-07-02 22...</td>\n      <td>psn</td>\n      <td>False</td>\n      <td>1stFloor</td>\n    </tr>\n    <tr>\n      <th>12</th>\n      <td>Load_StatusSensHeatPrntBUP</td>\n      <td>1.000000</td>\n      <td>1.0</td>\n      <td>{'0': [['2013-07-01 06:28:17', '2013-07-01 06:58:17'], ['2013-07-01 21:58:30', '2013-07-01 23:58:30']], '1': [['2013-07-02 06:28:29', '2013-07-02 06:58:29'], ['2013-07-02 21:58:28', '2013-07-02 23...</td>\n      <td>psn</td>\n      <td>False</td>\n      <td>2ndFloor</td>\n    </tr>\n    <tr>\n      <th>13</th>\n      <td>Load_StatusBR2Lights</td>\n      <td>0.991781</td>\n      <td>1.0</td>\n      <td>{'0': [['2013-07-01 06:38:17', '2013-07-01 06:58:17'], ['2013-07-01 18:18:31', '2013-07-01 19:28:31'], ['2013-07-01 20:13:31', '2013-07-01 21:43:30']], '1': [['2013-07-02 06:38:29', '2013-07-02 06...</td>\n      <td>app</td>\n      <td>False</td>\n      <td>2ndFloor</td>\n    </tr>\n    <tr>\n      <th>14</th>\n      <td>Load_StatusPlugLoadHairDryerCurlIron</td>\n      <td>0.980822</td>\n      <td>1.0</td>\n      <td>{'0': [['2013-07-01 06:38:17', '2013-07-01 06:43:17']], '1': [['2013-07-02 06:38:29', '2013-07-02 06:43:29']], '2': [['2013-07-03 06:38:28', '2013-07-03 06:43:28']], '3': [['2013-07-04 06:38:27', ...</td>\n      <td>app</td>\n      <td>False</td>\n      <td>2ndFloor</td>\n    </tr>\n    <tr>\n      <th>15</th>\n      <td>Load_StatusBR3Lights</td>\n      <td>0.991781</td>\n      <td>1.0</td>\n      <td>{'0': [['2013-07-01 06:48:17', '2013-07-01 06:58:17'], ['2013-07-01 18:28:31', '2013-07-01 19:28:31'], ['2013-07-01 20:13:31', '2013-07-01 20:28:31']], '1': [['2013-07-02 06:48:29', '2013-07-02 06...</td>\n      <td>app</td>\n      <td>False</td>\n      <td>2ndFloor</td>\n    </tr>\n    <tr>\n      <th>16</th>\n      <td>Load_StatusDRLights</td>\n      <td>0.991781</td>\n      <td>1.0</td>\n      <td>{'0': [['2013-07-01 06:58:17', '2013-07-01 07:58:17'], ['2013-07-01 19:13:31', '2013-07-01 20:28:31']], '1': [['2013-07-02 06:58:29', '2013-07-02 07:58:29'], ['2013-07-02 19:13:28', '2013-07-02 20...</td>\n      <td>app</td>\n      <td>False</td>\n      <td>1stFloor</td>\n    </tr>\n    <tr>\n      <th>17</th>\n      <td>Load_StatusSensHeatChildADOWN</td>\n      <td>0.991781</td>\n      <td>1.0</td>\n      <td>{'0': [['2013-07-01 06:58:17', '2013-07-01 07:58:17'], ['2013-07-01 19:28:31', '2013-07-01 20:13:31']], '1': [['2013-07-02 06:58:29', '2013-07-02 07:58:29'], ['2013-07-02 15:58:28', '2013-07-02 16...</td>\n      <td>psn</td>\n      <td>False</td>\n      <td>1stFloor</td>\n    </tr>\n    <tr>\n      <th>18</th>\n      <td>Load_StatusSensHeatChildBDOWN</td>\n      <td>0.991781</td>\n      <td>1.0</td>\n      <td>{'0': [['2013-07-01 06:58:17', '2013-07-01 07:58:17'], ['2013-07-01 17:58:31', '2013-07-01 18:28:31'], ['2013-07-01 19:28:31', '2013-07-01 20:13:31']], '1': [['2013-07-02 06:58:29', '2013-07-02 07...</td>\n      <td>psn</td>\n      <td>False</td>\n      <td>1stFloor</td>\n    </tr>\n    <tr>\n      <th>19</th>\n      <td>Load_StatusLivingRoomLights</td>\n      <td>0.989041</td>\n      <td>1.0</td>\n      <td>{'0': [['2013-07-01 07:58:17', '2013-07-01 08:23:17'], ['2013-07-01 17:58:31', '2013-07-01 22:28:30']], '1': [['2013-07-02 07:58:29', '2013-07-02 08:23:29'], ['2013-07-02 17:58:28', '2013-07-02 18...</td>\n      <td>app</td>\n      <td>False</td>\n      <td>1stFloor</td>\n    </tr>\n    <tr>\n      <th>20</th>\n      <td>Load_StatusBA1Lights</td>\n      <td>0.989041</td>\n      <td>1.0</td>\n      <td>{'0': [['2013-07-01 08:13:17', '2013-07-01 08:18:17'], ['2013-07-01 18:00:31', '2013-07-01 18:04:31']], '1': [['2013-07-02 15:59:28', '2013-07-02 16:04:28'], ['2013-07-02 18:00:28', '2013-07-02 18...</td>\n      <td>app</td>\n      <td>False</td>\n      <td>1stFloor</td>\n    </tr>\n    <tr>\n      <th>21</th>\n      <td>Load_StatusSensHeatChildAUP</td>\n      <td>1.000000</td>\n      <td>1.0</td>\n      <td>{'0': [['2013-07-01 17:58:31', '2013-07-01 19:28:31'], ['2013-07-01 20:13:31', '2013-07-01 23:58:30']], '1': [['2013-07-02 16:28:28', '2013-07-02 17:58:28'], ['2013-07-02 18:28:28', '2013-07-02 19...</td>\n      <td>psn</td>\n      <td>False</td>\n      <td>2ndFloor</td>\n    </tr>\n    <tr>\n      <th>22</th>\n      <td>Load_StatusSensHeatPrntAUP</td>\n      <td>1.000000</td>\n      <td>1.0</td>\n      <td>{'0': [['2013-07-01 17:58:31', '2013-07-01 18:28:31'], ['2013-07-01 22:28:30', '2013-07-01 23:58:30']], '1': [['2013-07-02 17:58:28', '2013-07-02 18:28:28'], ['2013-07-02 22:28:28', '2013-07-02 23...</td>\n      <td>psn</td>\n      <td>False</td>\n      <td>2ndFloor</td>\n    </tr>\n    <tr>\n      <th>23</th>\n      <td>Load_StatusApplianceCooktop</td>\n      <td>0.986301</td>\n      <td>1.0</td>\n      <td>{'0': [['2013-07-01 18:00:31', '2013-07-01 18:17:31']], '1': [['2013-07-02 18:00:28', '2013-07-02 18:17:28']], '2': [['2013-07-03 18:00:27', '2013-07-03 18:17:27']], '3': [['2013-07-04 18:00:26', ...</td>\n      <td>app</td>\n      <td>False</td>\n      <td>1stFloor</td>\n    </tr>\n    <tr>\n      <th>24</th>\n      <td>Load_StatusApplianceRangeHood</td>\n      <td>0.986301</td>\n      <td>1.0</td>\n      <td>{'0': [['2013-07-01 18:00:31', '2013-07-01 18:17:31']], '1': [['2013-07-02 18:00:28', '2013-07-02 18:17:28']], '2': [['2013-07-03 18:00:27', '2013-07-03 18:17:27']], '3': [['2013-07-04 18:00:26', ...</td>\n      <td>app</td>\n      <td>False</td>\n      <td>1stFloor</td>\n    </tr>\n    <tr>\n      <th>25</th>\n      <td>Load_StatusPlugLoadBR2Laptop</td>\n      <td>0.986301</td>\n      <td>1.0</td>\n      <td>{'0': [['2013-07-01 18:28:31', '2013-07-01 21:58:30']], '1': [['2013-07-02 18:28:28', '2013-07-02 21:58:28']], '2': [['2013-07-03 18:28:27', '2013-07-03 21:58:27']], '3': [['2013-07-04 18:28:26', ...</td>\n      <td>app</td>\n      <td>False</td>\n      <td>2ndFloor</td>\n    </tr>\n    <tr>\n      <th>26</th>\n      <td>Load_StatusPlugLoadBR3Laptop</td>\n      <td>0.989041</td>\n      <td>1.0</td>\n      <td>{'0': [['2013-07-01 18:28:31', '2013-07-01 20:13:31']], '1': [['2013-07-02 18:28:28', '2013-07-02 20:13:28']], '2': [['2013-07-03 18:28:27', '2013-07-03 20:13:27']], '3': [['2013-07-04 18:28:26', ...</td>\n      <td>app</td>\n      <td>False</td>\n      <td>2ndFloor</td>\n    </tr>\n    <tr>\n      <th>27</th>\n      <td>Load_StatusPlugLoadDesktopPCMonitor</td>\n      <td>0.983562</td>\n      <td>1.0</td>\n      <td>{'0': [['2013-07-01 18:28:31', '2013-07-01 22:28:30']], '1': [['2013-07-02 18:28:28', '2013-07-02 22:28:28']], '2': [['2013-07-03 18:28:27', '2013-07-03 22:28:27']], '3': [['2013-07-04 18:28:26', ...</td>\n      <td>app</td>\n      <td>False</td>\n      <td>1stFloor</td>\n    </tr>\n    <tr>\n      <th>28</th>\n      <td>Load_StatusSensHeatChildBUP</td>\n      <td>1.000000</td>\n      <td>1.0</td>\n      <td>{'0': [['2013-07-01 18:28:31', '2013-07-01 19:28:31'], ['2013-07-01 20:13:31', '2013-07-01 23:58:30']], '1': [['2013-07-02 18:28:28', '2013-07-02 19:28:28'], ['2013-07-02 20:13:28', '2013-07-02 23...</td>\n      <td>psn</td>\n      <td>False</td>\n      <td>2ndFloor</td>\n    </tr>\n    <tr>\n      <th>29</th>\n      <td>Load_StatusPlugLoadCanOpener</td>\n      <td>0.989041</td>\n      <td>1.0</td>\n      <td>{'0': [['2013-07-01 18:38:31', '2013-07-01 18:45:31']], '1': [['2013-07-02 18:38:28', '2013-07-02 18:45:28']], '2': [['2013-07-03 18:38:27', '2013-07-03 18:45:27']], '3': [['2013-07-04 18:38:26', ...</td>\n      <td>app</td>\n      <td>False</td>\n      <td>1stFloor</td>\n    </tr>\n    <tr>\n      <th>30</th>\n      <td>Load_StatusPlugLoadHandMixer</td>\n      <td>0.989041</td>\n      <td>1.0</td>\n      <td>{'0': [['2013-07-01 18:38:31', '2013-07-01 18:40:31']], '1': [['2013-07-02 18:38:28', '2013-07-02 18:40:28']], '2': [['2013-07-03 18:38:27', '2013-07-03 18:40:27']], '3': [['2013-07-04 18:38:26', ...</td>\n      <td>app</td>\n      <td>False</td>\n      <td>1stFloor</td>\n    </tr>\n    <tr>\n      <th>31</th>\n      <td>Load_StatusApplianceDishwasher</td>\n      <td>0.704110</td>\n      <td>1.0</td>\n      <td>{'0': [['2013-07-01 20:26:31', '2013-07-01 22:36:30']], '2': [['2013-07-03 20:26:27', '2013-07-03 22:37:27']], '4': [['2013-07-05 20:13:27', '2013-07-05 22:24:27']], '5': [['2013-07-06 20:58:26', ...</td>\n      <td>app</td>\n      <td>False</td>\n      <td>1stFloor</td>\n    </tr>\n    <tr>\n      <th>32</th>\n      <td>Load_StatusPlugLoadFan</td>\n      <td>0.978082</td>\n      <td>1.0</td>\n      <td>{'0': [['2013-07-01 21:58:30', '2013-07-01 23:58:30']], '1': [['2013-07-02 21:58:28', '2013-07-02 23:59:28']], '2': [['2013-07-03 21:58:27', '2013-07-03 23:57:27']], '3': [['2013-07-04 21:58:25', ...</td>\n      <td>app</td>\n      <td>False</td>\n      <td>2ndFloor</td>\n    </tr>\n    <tr>\n      <th>33</th>\n      <td>Load_StatusPlugLoadHeatingPad</td>\n      <td>0.978082</td>\n      <td>1.0</td>\n      <td>{'0': [['2013-07-01 21:58:30', '2013-07-01 22:13:30']], '1': [['2013-07-02 21:58:28', '2013-07-02 22:08:28']], '2': [['2013-07-03 21:58:27', '2013-07-03 22:13:27']], '3': [['2013-07-04 21:58:25', ...</td>\n      <td>app</td>\n      <td>False</td>\n      <td>2ndFloor</td>\n    </tr>\n    <tr>\n      <th>34</th>\n      <td>Load_StatusPlugLoadSlowCooker</td>\n      <td>0.279452</td>\n      <td>1.0</td>\n      <td>{'1': [['2013-07-02 08:28:29', '2013-07-02 09:31:29']], '3': [['2013-07-04 08:28:27', '2013-07-04 09:31:27']], '5': [['2013-07-06 08:28:27', '2013-07-06 09:21:27']], '8': [['2013-07-09 08:29:35', ...</td>\n      <td>app</td>\n      <td>False</td>\n      <td>1stFloor</td>\n    </tr>\n    <tr>\n      <th>35</th>\n      <td>Load_StatusDryerPowerTotal</td>\n      <td>0.452055</td>\n      <td>1.0</td>\n      <td>{'2': [['2013-07-03 20:28:27', '2013-07-03 21:15:27']], '5': [['2013-07-06 12:29:27', '2013-07-06 13:12:27'], ['2013-07-06 14:58:27', '2013-07-06 15:49:27']], '6': [['2013-07-07 12:28:27', '2013-0...</td>\n      <td>app</td>\n      <td>False</td>\n      <td>1stFloor</td>\n    </tr>\n    <tr>\n      <th>36</th>\n      <td>Load_StatusPlugLoadMBRBlueRay</td>\n      <td>0.282192</td>\n      <td>1.0</td>\n      <td>{'2': [['2013-07-03 21:58:27', '2013-07-03 23:28:27']], '6': [['2013-07-07 21:58:26', '2013-07-07 23:28:26']], '9': [['2013-07-10 21:59:30', '2013-07-10 23:29:30']], '13': [['2013-07-14 21:59:54',...</td>\n      <td>app</td>\n      <td>False</td>\n      <td>2ndFloor</td>\n    </tr>\n    <tr>\n      <th>37</th>\n      <td>Load_StatusPlugLoadVideoGame</td>\n      <td>0.419178</td>\n      <td>1.0</td>\n      <td>{'4': [['2013-07-05 20:58:27', '2013-07-05 21:58:27']], '5': [['2013-07-06 09:58:27', '2013-07-06 10:58:27']], '6': [['2013-07-07 09:58:27', '2013-07-07 10:58:27']], '11': [['2013-07-12 21:00:00',...</td>\n      <td>app</td>\n      <td>False</td>\n      <td>1stFloor</td>\n    </tr>\n    <tr>\n      <th>38</th>\n      <td>Load_StatusApplianceOven</td>\n      <td>0.282192</td>\n      <td>1.0</td>\n      <td>{'5': [['2013-07-06 08:13:27', '2013-07-06 10:46:27'], ['2013-07-06 18:58:26', '2013-07-06 21:32:26']], '6': [['2013-07-07 08:13:27', '2013-07-07 10:47:27']], '12': [['2013-07-13 08:14:57', '2013-...</td>\n      <td>app</td>\n      <td>False</td>\n      <td>1stFloor</td>\n    </tr>\n    <tr>\n      <th>39</th>\n      <td>Load_StatusClothesWasher</td>\n      <td>0.424658</td>\n      <td>1.0</td>\n      <td>{'5': [['2013-07-06 11:00:27', '2013-07-06 11:01:27'], ['2013-07-06 11:02:27', '2013-07-06 11:03:27'], ['2013-07-06 14:32:27', '2013-07-06 14:33:27']], '6': [['2013-07-07 14:29:27', '2013-07-07 14...</td>\n      <td>app</td>\n      <td>False</td>\n      <td>1stFloor</td>\n    </tr>\n    <tr>\n      <th>40</th>\n      <td>Load_StatusPlugLoadLRBlueRay</td>\n      <td>0.282192</td>\n      <td>1.0</td>\n      <td>{'5': [['2013-07-06 14:58:27', '2013-07-06 16:28:27']], '6': [['2013-07-07 14:58:27', '2013-07-07 16:28:27']], '12': [['2013-07-13 14:59:57', '2013-07-13 16:29:56']], '13': [['2013-07-14 14:59:54'...</td>\n      <td>app</td>\n      <td>False</td>\n      <td>1stFloor</td>\n    </tr>\n    <tr>\n      <th>41</th>\n      <td>Load_StatusPlugLoadVacuum</td>\n      <td>0.145205</td>\n      <td>1.0</td>\n      <td>{'5': [['2013-07-06 17:28:27', '2013-07-06 19:18:26']], '12': [['2013-07-13 17:29:56', '2013-07-13 19:18:56']], '19': [['2013-07-20 17:29:37', '2013-07-20 19:18:37']], '26': [['2013-07-27 17:29:52...</td>\n      <td>app</td>\n      <td>False</td>\n      <td>1stFloor</td>\n    </tr>\n    <tr>\n      <th>42</th>\n      <td>Load_StatusPlugLoadIron</td>\n      <td>0.279452</td>\n      <td>1.0</td>\n      <td>{'5': [['2013-07-06 17:58:27', '2013-07-06 18:22:27']], '6': [['2013-07-07 14:14:27', '2013-07-07 14:38:27']], '12': [['2013-07-13 17:59:56', '2013-07-13 18:23:56']], '13': [['2013-07-14 14:15:54'...</td>\n      <td>app</td>\n      <td>False</td>\n      <td>2ndFloor</td>\n    </tr>\n  </tbody>\n</table>\n</div>"
     },
     "execution_count": 75,
     "metadata": {},
     "output_type": "execute_result"
    }
   ],
   "source": [
    "level1_rules_year1 = json_to_dataframe(year=1, level=1)\n",
    "level1_rules_year1"
   ],
   "metadata": {
    "collapsed": false,
    "pycharm": {
     "name": "#%%\n"
    }
   }
  },
  {
   "cell_type": "code",
   "execution_count": 76,
   "outputs": [],
   "source": [
    "def find_intervals():\n",
    "    time_delta_dict = {}\n",
    "    for year in [1, 2]:\n",
    "        time_delta_dict[f'year{year}'] = time_delta_dict.get(f'year{year}', {})\n",
    "        for index, row in json_to_dataframe(year=year, level=1).iterrows():\n",
    "            if 'SensHeat' not in row['pattern']:\n",
    "                time_delta_dict[f'year{year}'][row[\"pattern\"]] = pd.Series(dtype='float64')\n",
    "                for intervals in row[\"time\"].values():\n",
    "                   for interval in intervals:\n",
    "                       time_delta_dict[f'year{year}'][row[\"pattern\"]] = pd.concat((time_delta_dict[f'year{year}'][row[\"pattern\"]], pd.Series((pd.to_datetime(interval[1], format=\"%Y-%m-%d %H:%M:%S\") - pd.to_datetime(interval[0], format=\"%Y-%m-%d %H:%M:%S\")).total_seconds()/60)), ignore_index=True)\n",
    "    return time_delta_dict"
   ],
   "metadata": {
    "collapsed": false,
    "pycharm": {
     "name": "#%%\n"
    }
   }
  },
  {
   "cell_type": "code",
   "execution_count": 77,
   "outputs": [],
   "source": [
    "time_delta_dict = find_intervals()"
   ],
   "metadata": {
    "collapsed": false,
    "pycharm": {
     "name": "#%%\n"
    }
   }
  },
  {
   "cell_type": "code",
   "execution_count": 78,
   "outputs": [
    {
     "name": "stdout",
     "output_type": "stream",
     "text": [
      "Load_StatusBA1Lights count    1345.000000\n",
      "mean        4.883494\n",
      "std        13.267184\n",
      "min         3.266667\n",
      "25%         4.000000\n",
      "50%         4.000000\n",
      "75%         5.000000\n",
      "max       467.266667\n",
      "dtype: float64\n",
      "Load_StatusPlugLoadIron count    208.000000\n",
      "mean      23.782933\n",
      "std        1.409483\n",
      "min        8.000000\n",
      "25%       24.000000\n",
      "50%       24.000000\n",
      "75%       24.000000\n",
      "max       25.000000\n",
      "dtype: float64\n",
      "Load_StatusMBALights count    4532.000000\n",
      "mean       10.959852\n",
      "std         6.144704\n",
      "min         2.833333\n",
      "25%         5.000000\n",
      "50%        15.000000\n",
      "75%        15.000000\n",
      "max       113.000000\n",
      "dtype: float64\n",
      "Load_StatusLivingRoomLights count    2470.000000\n",
      "mean       70.075884\n",
      "std        79.537204\n",
      "min        14.983333\n",
      "25%        25.000000\n",
      "50%        30.000000\n",
      "75%       120.000000\n",
      "max      1085.433333\n",
      "dtype: float64\n",
      "Load_StatusPlugLoadCoffeeMaker count    760.000000\n",
      "mean      18.098750\n",
      "std        1.429868\n",
      "min       17.000000\n",
      "25%       18.000000\n",
      "50%       18.000000\n",
      "75%       18.000000\n",
      "max       30.000000\n",
      "dtype: float64\n",
      "Load_StatusPlugLoadLRBlueRay count    209.000000\n",
      "mean      89.208692\n",
      "std        7.346551\n",
      "min       15.000000\n",
      "25%       90.000000\n",
      "50%       90.000000\n",
      "75%       90.000000\n",
      "max       90.000000\n",
      "dtype: float64\n",
      "Load_StatusBA2Lights count    2881.000000\n",
      "mean       16.593168\n",
      "std         9.892030\n",
      "min         9.983333\n",
      "25%        10.000000\n",
      "50%        15.000000\n",
      "75%        15.016667\n",
      "max        60.000000\n",
      "dtype: float64\n",
      "Load_StatusApplianceRangeHood count    1137.000000\n",
      "mean       17.238215\n",
      "std         1.353808\n",
      "min         1.000000\n",
      "25%        17.000000\n",
      "50%        17.000000\n",
      "75%        17.983333\n",
      "max        27.000000\n",
      "dtype: float64\n",
      "Load_StatusPlugLoadHeatingPad count    719.000000\n",
      "mean      13.572346\n",
      "std        2.258394\n",
      "min        9.983333\n",
      "25%       10.000000\n",
      "50%       15.000000\n",
      "75%       15.000000\n",
      "max       15.016667\n",
      "dtype: float64\n",
      "Load_StatusPlugLoadFan count    720.000000\n",
      "mean      93.686435\n",
      "std       41.145137\n",
      "min       28.983333\n",
      "25%       29.000000\n",
      "50%      119.000000\n",
      "75%      121.000000\n",
      "max      123.050000\n",
      "dtype: float64\n",
      "Load_StatusDryerPowerTotal count    534.000000\n",
      "mean      32.749969\n",
      "std        8.882232\n",
      "min        1.000000\n",
      "25%       27.000000\n",
      "50%       32.000000\n",
      "75%       38.000000\n",
      "max       55.000000\n",
      "dtype: float64\n",
      "Load_StatusPlugLoadVideoGame count    311.000000\n",
      "mean      59.808789\n",
      "std        3.345501\n",
      "min        1.000000\n",
      "25%       60.000000\n",
      "50%       60.000000\n",
      "75%       60.000000\n",
      "max       60.000000\n",
      "dtype: float64\n",
      "Load_StatusApplianceCooktop count    1146.000000\n",
      "mean       17.071422\n",
      "std         1.885314\n",
      "min         1.000000\n",
      "25%        17.000000\n",
      "50%        17.000000\n",
      "75%        17.000000\n",
      "max        27.000000\n",
      "dtype: float64\n",
      "Load_StatusPlugLoadToaster count    719.000000\n",
      "mean      10.999907\n",
      "std        0.052793\n",
      "min       10.000000\n",
      "25%       11.000000\n",
      "50%       11.000000\n",
      "75%       11.000000\n",
      "max       12.000000\n",
      "dtype: float64\n",
      "Load_StatusPlugLoadLRTV count    1547.000000\n",
      "mean      146.762896\n",
      "std        53.397877\n",
      "min        15.000000\n",
      "25%       115.000000\n",
      "50%       139.983333\n",
      "75%       150.000000\n",
      "max       270.000000\n",
      "dtype: float64\n",
      "Load_StatusPlugLoadDesktopPCMonitor count     722.000000\n",
      "mean      333.268560\n",
      "std       161.187769\n",
      "min        61.183333\n",
      "25%       232.000000\n",
      "50%       237.000000\n",
      "75%       547.995833\n",
      "max      1055.433333\n",
      "dtype: float64\n",
      "Load_StatusPlugLoadHandMixer count    724.000000\n",
      "mean       2.002785\n",
      "std        0.052525\n",
      "min        2.000000\n",
      "25%        2.000000\n",
      "50%        2.000000\n",
      "75%        2.000000\n",
      "max        3.000000\n",
      "dtype: float64\n",
      "Load_StatusApplianceDishwasher count    519.000000\n",
      "mean     133.201574\n",
      "std       37.747826\n",
      "min        1.000000\n",
      "25%      131.000000\n",
      "50%      132.000000\n",
      "75%      132.983333\n",
      "max      937.433333\n",
      "dtype: float64\n",
      "Load_StatusBR2Lights count    1649.000000\n",
      "mean      106.021407\n",
      "std        95.953099\n",
      "min        15.000000\n",
      "25%        20.000000\n",
      "50%        90.000000\n",
      "75%       209.966667\n",
      "max       950.433333\n",
      "dtype: float64\n",
      "Load_StatusPlugLoadMBRTV count    720.000000\n",
      "mean      57.791736\n",
      "std       20.327704\n",
      "min       28.000000\n",
      "25%       45.000000\n",
      "50%       45.000000\n",
      "75%       89.983333\n",
      "max       90.000000\n",
      "dtype: float64\n",
      "Load_StatusPlugLoadBR2Laptop count     930.000000\n",
      "mean      170.679695\n",
      "std        55.250621\n",
      "min        89.983333\n",
      "25%       120.000000\n",
      "50%       209.983333\n",
      "75%       210.000000\n",
      "max      1055.433333\n",
      "dtype: float64\n",
      "Load_StatusPlugLoadHairDryerCurlIron count    358.0\n",
      "mean       5.0\n",
      "std        0.0\n",
      "min        5.0\n",
      "25%        5.0\n",
      "50%        5.0\n",
      "75%        5.0\n",
      "max        5.0\n",
      "dtype: float64\n",
      "Load_StatusPlugLoadBR3Laptop count    727.000000\n",
      "mean     108.902545\n",
      "std       18.149594\n",
      "min       12.000000\n",
      "25%      104.983333\n",
      "50%      105.000000\n",
      "75%      105.000000\n",
      "max      150.000000\n",
      "dtype: float64\n",
      "Load_StatusPlugLoadBlender count    719.000000\n",
      "mean       6.393649\n",
      "std        0.592022\n",
      "min        2.000000\n",
      "25%        6.000000\n",
      "50%        6.000000\n",
      "75%        7.000000\n",
      "max        8.000000\n",
      "dtype: float64\n",
      "Load_StatusPlugLoadSlowCooker count    204.000000\n",
      "mean      62.027369\n",
      "std        0.930916\n",
      "min       53.000000\n",
      "25%       61.995833\n",
      "50%       62.000000\n",
      "75%       62.000000\n",
      "max       65.000000\n",
      "dtype: float64\n",
      "Load_StatusPlugLoadToasterOven count    734.000000\n",
      "mean       9.792916\n",
      "std        1.346271\n",
      "min        1.000000\n",
      "25%       10.000000\n",
      "50%       10.000000\n",
      "75%       10.000000\n",
      "max       10.000000\n",
      "dtype: float64\n",
      "Load_StatusDRLights count    1445.000000\n",
      "mean       62.029919\n",
      "std        20.453005\n",
      "min         1.000000\n",
      "25%        59.983333\n",
      "50%        60.000000\n",
      "75%        75.000000\n",
      "max       105.000000\n",
      "dtype: float64\n",
      "Load_StatusBR3Lights count    1340.000000\n",
      "mean       65.124080\n",
      "std        53.745152\n",
      "min        10.000000\n",
      "25%        10.000000\n",
      "50%        60.000000\n",
      "75%       120.000000\n",
      "max       150.000000\n",
      "dtype: float64\n",
      "Load_StatusPlugLoadMBRBlueRay count    208.000000\n",
      "mean      89.281490\n",
      "std        5.839076\n",
      "min       28.000000\n",
      "25%       90.000000\n",
      "50%       90.000000\n",
      "75%       90.000000\n",
      "max       90.000000\n",
      "dtype: float64\n",
      "Load_StatusClothesWasher count    623.000000\n",
      "mean      56.520251\n",
      "std        8.138590\n",
      "min        1.000000\n",
      "25%       57.000000\n",
      "50%       57.000000\n",
      "75%       58.983333\n",
      "max       68.000000\n",
      "dtype: float64\n",
      "Load_StatusMasterBedroomLights count    2778.000000\n",
      "mean       30.073812\n",
      "std        17.873402\n",
      "min        15.000000\n",
      "25%        15.000000\n",
      "50%        23.000000\n",
      "75%        45.000000\n",
      "max        61.000000\n",
      "dtype: float64\n",
      "Load_StatusPlugLoadCanOpener count    730.000000\n",
      "mean       7.815091\n",
      "std       11.254993\n",
      "min        7.000000\n",
      "25%        7.000000\n",
      "50%        7.000000\n",
      "75%        7.000000\n",
      "max      231.000000\n",
      "dtype: float64\n",
      "Load_StatusApplianceOven count    313.000000\n",
      "mean     149.773323\n",
      "std       12.030308\n",
      "min        1.000000\n",
      "25%      148.000000\n",
      "50%      149.000000\n",
      "75%      155.000000\n",
      "max      159.983333\n",
      "dtype: float64\n",
      "Load_StatusKitchenLights count    3304.000000\n",
      "mean       78.083333\n",
      "std        62.811644\n",
      "min         4.000000\n",
      "25%        30.000000\n",
      "50%        45.000000\n",
      "75%       120.000000\n",
      "max       935.433333\n",
      "dtype: float64\n",
      "Load_StatusPlugLoadVacuum count    105.000000\n",
      "mean     108.530635\n",
      "std       10.054470\n",
      "min        7.000000\n",
      "25%      109.000000\n",
      "50%      109.000000\n",
      "75%      110.000000\n",
      "max      116.000000\n",
      "dtype: float64\n"
     ]
    }
   ],
   "source": [
    "def describe_intervals(att):\n",
    "    if att not in time_delta_dict['year1'].keys():\n",
    "        return time_delta_dict['year2'][att].describe()\n",
    "    elif att not in time_delta_dict['year2'].keys():\n",
    "        return time_delta_dict['year1'][att].describe()\n",
    "    else:\n",
    "        return pd.concat((time_delta_dict['year1'][att], time_delta_dict['year2'][att]), axis=0).describe()\n",
    "\n",
    "\n",
    "apps = set(list(time_delta_dict['year1'].keys()) + list(set(time_delta_dict['year2'].keys())))\n",
    "\n",
    "for pattern in apps:\n",
    "    if 'SensHeat' not in pattern:\n",
    "        print(pattern, describe_intervals(pattern))"
   ],
   "metadata": {
    "collapsed": false,
    "pycharm": {
     "name": "#%%\n"
    }
   }
  },
  {
   "cell_type": "code",
   "execution_count": 79,
   "outputs": [
    {
     "data": {
      "text/plain": "0       1.0\n1       1.0\n2       1.0\n3       1.0\n4       1.0\n       ... \n306    57.0\n307    56.0\n308    57.0\n309    61.0\n310    57.0\nLength: 311, dtype: float64"
     },
     "execution_count": 79,
     "metadata": {},
     "output_type": "execute_result"
    }
   ],
   "source": [
    "time_delta_dict['year1']['Load_StatusClothesWasher'][lambda self: self <130]"
   ],
   "metadata": {
    "collapsed": false,
    "pycharm": {
     "name": "#%%\n"
    }
   }
  },
  {
   "cell_type": "code",
   "execution_count": 80,
   "outputs": [
    {
     "data": {
      "text/plain": "(20.0, 20.0)"
     },
     "execution_count": 80,
     "metadata": {},
     "output_type": "execute_result"
    }
   ],
   "source": [
    "def find_quantile(quantile, att):\n",
    "    return time_delta_dict['year1'][att].quantile(quantile), time_delta_dict['year2'][att].quantile(quantile)\n",
    "find_quantile(0.90, \"Load_StatusMBALights\")"
   ],
   "metadata": {
    "collapsed": false,
    "pycharm": {
     "name": "#%%\n"
    }
   }
  },
  {
   "cell_type": "code",
   "execution_count": 81,
   "outputs": [
    {
     "data": {
      "application/vnd.plotly.v1+json": {
       "data": [
        {
         "alignmentgroup": "True",
         "bingroup": "x",
         "hovertemplate": "variable=0<br>value=%{x}<br>count=%{y}<extra></extra>",
         "legendgroup": "0",
         "marker": {
          "color": "#636efa",
          "pattern": {
           "shape": ""
          }
         },
         "name": "0",
         "offsetgroup": "0",
         "orientation": "v",
         "showlegend": true,
         "x": [
          129.98333333333332,
          131.0,
          131.0,
          131.0,
          131.0,
          130.0,
          130.98333333333332,
          131.0,
          131.0,
          131.0,
          131.0,
          130.0,
          131.0,
          131.0,
          131.0,
          130.0,
          131.0,
          131.0,
          131.0,
          131.0,
          131.0,
          131.0,
          130.98333333333332,
          130.98333333333332,
          131.0,
          130.98333333333332,
          130.0,
          130.0,
          131.0,
          131.0,
          131.0,
          23.0,
          130.0,
          130.98333333333332,
          131.0,
          130.98333333333332,
          131.0,
          130.0,
          131.0,
          131.0,
          131.0,
          131.0,
          129.98333333333332,
          131.0,
          132.0,
          131.0,
          131.0,
          129.98333333333332,
          131.0,
          131.0,
          131.0,
          131.0,
          129.98333333333332,
          131.0,
          131.0,
          131.0,
          130.98333333333332,
          129.98333333333332,
          131.0,
          131.0,
          131.0,
          131.0,
          130.01666666666668,
          131.0,
          131.0,
          131.0,
          131.0,
          131.0,
          131.98333333333332,
          132.0,
          131.0,
          131.0,
          131.0,
          132.0,
          130.98333333333332,
          131.0,
          132.0,
          132.0,
          134.0,
          133.0,
          134.0,
          133.0,
          132.0,
          132.0,
          132.0,
          131.98333333333332,
          133.0,
          132.0,
          133.0,
          132.98333333333332,
          132.0,
          133.0,
          131.98333333333332,
          226.0,
          132.98333333333332,
          132.0,
          132.0,
          133.0,
          133.0,
          133.0,
          133.0,
          132.0,
          132.0,
          133.0,
          132.0,
          132.0,
          132.0,
          133.0,
          133.0,
          133.0,
          131.98333333333332,
          132.0,
          131.98333333333332,
          133.0,
          132.98333333333332,
          133.0,
          132.0,
          132.0,
          132.98333333333332,
          132.0,
          132.0,
          132.0,
          132.0,
          133.0,
          133.0,
          133.0,
          132.0,
          132.0,
          133.0,
          133.0,
          132.0,
          131.98333333333332,
          131.98333333333332,
          133.0,
          133.0,
          132.0,
          132.0,
          132.0,
          133.0,
          132.98333333333332,
          133.0,
          132.98333333333332,
          132.0,
          132.98333333333332,
          133.0,
          133.0,
          131.98333333333332,
          132.0,
          133.0,
          133.0,
          133.0,
          131.98333333333332,
          132.0,
          133.0,
          133.0,
          132.98333333333332,
          133.0,
          132.0,
          133.0,
          133.0,
          133.0,
          133.0,
          132.0,
          132.98333333333332,
          133.0,
          133.0,
          132.0,
          132.0,
          132.98333333333332,
          133.0,
          133.0,
          133.0,
          133.0,
          132.98333333333332,
          133.0,
          133.0,
          131.98333333333332,
          132.0,
          133.0,
          133.0,
          133.0,
          132.0,
          132.0,
          133.0,
          133.0,
          133.0,
          132.0,
          132.0,
          133.0,
          133.0,
          132.98333333333332,
          132.0,
          132.0,
          133.0,
          1.0,
          133.0,
          133.0,
          127.0,
          132.0,
          132.0,
          132.0,
          130.0,
          131.0,
          131.0,
          132.0,
          133.0,
          132.0,
          132.0,
          132.0,
          132.0,
          132.0,
          131.98333333333332,
          131.0,
          131.0,
          132.0,
          132.0,
          132.0,
          131.0,
          131.0,
          131.0,
          131.98333333333332,
          181.0,
          59.0,
          131.0,
          131.0,
          131.0,
          132.0,
          131.98333333333332,
          131.0,
          131.0,
          131.0,
          131.0,
          131.0,
          131.0,
          131.0,
          132.0,
          131.0,
          131.0,
          131.0,
          130.98333333333332,
          131.98333333333332,
          131.0,
          130.98333333333332,
          131.0,
          131.0,
          131.0,
          131.0,
          130.98333333333332,
          131.0,
          130.0,
          131.0,
          130.98333333333332,
          131.0,
          131.0,
          131.0,
          130.98333333333332,
          131.0,
          130.98333333333332,
          131.0
         ],
         "xaxis": "x",
         "yaxis": "y",
         "type": "histogram"
        }
       ],
       "layout": {
        "template": {
         "data": {
          "bar": [
           {
            "error_x": {
             "color": "#2a3f5f"
            },
            "error_y": {
             "color": "#2a3f5f"
            },
            "marker": {
             "line": {
              "color": "#E5ECF6",
              "width": 0.5
             },
             "pattern": {
              "fillmode": "overlay",
              "size": 10,
              "solidity": 0.2
             }
            },
            "type": "bar"
           }
          ],
          "barpolar": [
           {
            "marker": {
             "line": {
              "color": "#E5ECF6",
              "width": 0.5
             },
             "pattern": {
              "fillmode": "overlay",
              "size": 10,
              "solidity": 0.2
             }
            },
            "type": "barpolar"
           }
          ],
          "carpet": [
           {
            "aaxis": {
             "endlinecolor": "#2a3f5f",
             "gridcolor": "white",
             "linecolor": "white",
             "minorgridcolor": "white",
             "startlinecolor": "#2a3f5f"
            },
            "baxis": {
             "endlinecolor": "#2a3f5f",
             "gridcolor": "white",
             "linecolor": "white",
             "minorgridcolor": "white",
             "startlinecolor": "#2a3f5f"
            },
            "type": "carpet"
           }
          ],
          "choropleth": [
           {
            "colorbar": {
             "outlinewidth": 0,
             "ticks": ""
            },
            "type": "choropleth"
           }
          ],
          "contour": [
           {
            "colorbar": {
             "outlinewidth": 0,
             "ticks": ""
            },
            "colorscale": [
             [
              0.0,
              "#0d0887"
             ],
             [
              0.1111111111111111,
              "#46039f"
             ],
             [
              0.2222222222222222,
              "#7201a8"
             ],
             [
              0.3333333333333333,
              "#9c179e"
             ],
             [
              0.4444444444444444,
              "#bd3786"
             ],
             [
              0.5555555555555556,
              "#d8576b"
             ],
             [
              0.6666666666666666,
              "#ed7953"
             ],
             [
              0.7777777777777778,
              "#fb9f3a"
             ],
             [
              0.8888888888888888,
              "#fdca26"
             ],
             [
              1.0,
              "#f0f921"
             ]
            ],
            "type": "contour"
           }
          ],
          "contourcarpet": [
           {
            "colorbar": {
             "outlinewidth": 0,
             "ticks": ""
            },
            "type": "contourcarpet"
           }
          ],
          "heatmap": [
           {
            "colorbar": {
             "outlinewidth": 0,
             "ticks": ""
            },
            "colorscale": [
             [
              0.0,
              "#0d0887"
             ],
             [
              0.1111111111111111,
              "#46039f"
             ],
             [
              0.2222222222222222,
              "#7201a8"
             ],
             [
              0.3333333333333333,
              "#9c179e"
             ],
             [
              0.4444444444444444,
              "#bd3786"
             ],
             [
              0.5555555555555556,
              "#d8576b"
             ],
             [
              0.6666666666666666,
              "#ed7953"
             ],
             [
              0.7777777777777778,
              "#fb9f3a"
             ],
             [
              0.8888888888888888,
              "#fdca26"
             ],
             [
              1.0,
              "#f0f921"
             ]
            ],
            "type": "heatmap"
           }
          ],
          "heatmapgl": [
           {
            "colorbar": {
             "outlinewidth": 0,
             "ticks": ""
            },
            "colorscale": [
             [
              0.0,
              "#0d0887"
             ],
             [
              0.1111111111111111,
              "#46039f"
             ],
             [
              0.2222222222222222,
              "#7201a8"
             ],
             [
              0.3333333333333333,
              "#9c179e"
             ],
             [
              0.4444444444444444,
              "#bd3786"
             ],
             [
              0.5555555555555556,
              "#d8576b"
             ],
             [
              0.6666666666666666,
              "#ed7953"
             ],
             [
              0.7777777777777778,
              "#fb9f3a"
             ],
             [
              0.8888888888888888,
              "#fdca26"
             ],
             [
              1.0,
              "#f0f921"
             ]
            ],
            "type": "heatmapgl"
           }
          ],
          "histogram": [
           {
            "marker": {
             "pattern": {
              "fillmode": "overlay",
              "size": 10,
              "solidity": 0.2
             }
            },
            "type": "histogram"
           }
          ],
          "histogram2d": [
           {
            "colorbar": {
             "outlinewidth": 0,
             "ticks": ""
            },
            "colorscale": [
             [
              0.0,
              "#0d0887"
             ],
             [
              0.1111111111111111,
              "#46039f"
             ],
             [
              0.2222222222222222,
              "#7201a8"
             ],
             [
              0.3333333333333333,
              "#9c179e"
             ],
             [
              0.4444444444444444,
              "#bd3786"
             ],
             [
              0.5555555555555556,
              "#d8576b"
             ],
             [
              0.6666666666666666,
              "#ed7953"
             ],
             [
              0.7777777777777778,
              "#fb9f3a"
             ],
             [
              0.8888888888888888,
              "#fdca26"
             ],
             [
              1.0,
              "#f0f921"
             ]
            ],
            "type": "histogram2d"
           }
          ],
          "histogram2dcontour": [
           {
            "colorbar": {
             "outlinewidth": 0,
             "ticks": ""
            },
            "colorscale": [
             [
              0.0,
              "#0d0887"
             ],
             [
              0.1111111111111111,
              "#46039f"
             ],
             [
              0.2222222222222222,
              "#7201a8"
             ],
             [
              0.3333333333333333,
              "#9c179e"
             ],
             [
              0.4444444444444444,
              "#bd3786"
             ],
             [
              0.5555555555555556,
              "#d8576b"
             ],
             [
              0.6666666666666666,
              "#ed7953"
             ],
             [
              0.7777777777777778,
              "#fb9f3a"
             ],
             [
              0.8888888888888888,
              "#fdca26"
             ],
             [
              1.0,
              "#f0f921"
             ]
            ],
            "type": "histogram2dcontour"
           }
          ],
          "mesh3d": [
           {
            "colorbar": {
             "outlinewidth": 0,
             "ticks": ""
            },
            "type": "mesh3d"
           }
          ],
          "parcoords": [
           {
            "line": {
             "colorbar": {
              "outlinewidth": 0,
              "ticks": ""
             }
            },
            "type": "parcoords"
           }
          ],
          "pie": [
           {
            "automargin": true,
            "type": "pie"
           }
          ],
          "scatter": [
           {
            "marker": {
             "colorbar": {
              "outlinewidth": 0,
              "ticks": ""
             }
            },
            "type": "scatter"
           }
          ],
          "scatter3d": [
           {
            "line": {
             "colorbar": {
              "outlinewidth": 0,
              "ticks": ""
             }
            },
            "marker": {
             "colorbar": {
              "outlinewidth": 0,
              "ticks": ""
             }
            },
            "type": "scatter3d"
           }
          ],
          "scattercarpet": [
           {
            "marker": {
             "colorbar": {
              "outlinewidth": 0,
              "ticks": ""
             }
            },
            "type": "scattercarpet"
           }
          ],
          "scattergeo": [
           {
            "marker": {
             "colorbar": {
              "outlinewidth": 0,
              "ticks": ""
             }
            },
            "type": "scattergeo"
           }
          ],
          "scattergl": [
           {
            "marker": {
             "colorbar": {
              "outlinewidth": 0,
              "ticks": ""
             }
            },
            "type": "scattergl"
           }
          ],
          "scattermapbox": [
           {
            "marker": {
             "colorbar": {
              "outlinewidth": 0,
              "ticks": ""
             }
            },
            "type": "scattermapbox"
           }
          ],
          "scatterpolar": [
           {
            "marker": {
             "colorbar": {
              "outlinewidth": 0,
              "ticks": ""
             }
            },
            "type": "scatterpolar"
           }
          ],
          "scatterpolargl": [
           {
            "marker": {
             "colorbar": {
              "outlinewidth": 0,
              "ticks": ""
             }
            },
            "type": "scatterpolargl"
           }
          ],
          "scatterternary": [
           {
            "marker": {
             "colorbar": {
              "outlinewidth": 0,
              "ticks": ""
             }
            },
            "type": "scatterternary"
           }
          ],
          "surface": [
           {
            "colorbar": {
             "outlinewidth": 0,
             "ticks": ""
            },
            "colorscale": [
             [
              0.0,
              "#0d0887"
             ],
             [
              0.1111111111111111,
              "#46039f"
             ],
             [
              0.2222222222222222,
              "#7201a8"
             ],
             [
              0.3333333333333333,
              "#9c179e"
             ],
             [
              0.4444444444444444,
              "#bd3786"
             ],
             [
              0.5555555555555556,
              "#d8576b"
             ],
             [
              0.6666666666666666,
              "#ed7953"
             ],
             [
              0.7777777777777778,
              "#fb9f3a"
             ],
             [
              0.8888888888888888,
              "#fdca26"
             ],
             [
              1.0,
              "#f0f921"
             ]
            ],
            "type": "surface"
           }
          ],
          "table": [
           {
            "cells": {
             "fill": {
              "color": "#EBF0F8"
             },
             "line": {
              "color": "white"
             }
            },
            "header": {
             "fill": {
              "color": "#C8D4E3"
             },
             "line": {
              "color": "white"
             }
            },
            "type": "table"
           }
          ]
         },
         "layout": {
          "annotationdefaults": {
           "arrowcolor": "#2a3f5f",
           "arrowhead": 0,
           "arrowwidth": 1
          },
          "autotypenumbers": "strict",
          "coloraxis": {
           "colorbar": {
            "outlinewidth": 0,
            "ticks": ""
           }
          },
          "colorscale": {
           "diverging": [
            [
             0,
             "#8e0152"
            ],
            [
             0.1,
             "#c51b7d"
            ],
            [
             0.2,
             "#de77ae"
            ],
            [
             0.3,
             "#f1b6da"
            ],
            [
             0.4,
             "#fde0ef"
            ],
            [
             0.5,
             "#f7f7f7"
            ],
            [
             0.6,
             "#e6f5d0"
            ],
            [
             0.7,
             "#b8e186"
            ],
            [
             0.8,
             "#7fbc41"
            ],
            [
             0.9,
             "#4d9221"
            ],
            [
             1,
             "#276419"
            ]
           ],
           "sequential": [
            [
             0.0,
             "#0d0887"
            ],
            [
             0.1111111111111111,
             "#46039f"
            ],
            [
             0.2222222222222222,
             "#7201a8"
            ],
            [
             0.3333333333333333,
             "#9c179e"
            ],
            [
             0.4444444444444444,
             "#bd3786"
            ],
            [
             0.5555555555555556,
             "#d8576b"
            ],
            [
             0.6666666666666666,
             "#ed7953"
            ],
            [
             0.7777777777777778,
             "#fb9f3a"
            ],
            [
             0.8888888888888888,
             "#fdca26"
            ],
            [
             1.0,
             "#f0f921"
            ]
           ],
           "sequentialminus": [
            [
             0.0,
             "#0d0887"
            ],
            [
             0.1111111111111111,
             "#46039f"
            ],
            [
             0.2222222222222222,
             "#7201a8"
            ],
            [
             0.3333333333333333,
             "#9c179e"
            ],
            [
             0.4444444444444444,
             "#bd3786"
            ],
            [
             0.5555555555555556,
             "#d8576b"
            ],
            [
             0.6666666666666666,
             "#ed7953"
            ],
            [
             0.7777777777777778,
             "#fb9f3a"
            ],
            [
             0.8888888888888888,
             "#fdca26"
            ],
            [
             1.0,
             "#f0f921"
            ]
           ]
          },
          "colorway": [
           "#636efa",
           "#EF553B",
           "#00cc96",
           "#ab63fa",
           "#FFA15A",
           "#19d3f3",
           "#FF6692",
           "#B6E880",
           "#FF97FF",
           "#FECB52"
          ],
          "font": {
           "color": "#2a3f5f"
          },
          "geo": {
           "bgcolor": "white",
           "lakecolor": "white",
           "landcolor": "#E5ECF6",
           "showlakes": true,
           "showland": true,
           "subunitcolor": "white"
          },
          "hoverlabel": {
           "align": "left"
          },
          "hovermode": "closest",
          "mapbox": {
           "style": "light"
          },
          "paper_bgcolor": "white",
          "plot_bgcolor": "#E5ECF6",
          "polar": {
           "angularaxis": {
            "gridcolor": "white",
            "linecolor": "white",
            "ticks": ""
           },
           "bgcolor": "#E5ECF6",
           "radialaxis": {
            "gridcolor": "white",
            "linecolor": "white",
            "ticks": ""
           }
          },
          "scene": {
           "xaxis": {
            "backgroundcolor": "#E5ECF6",
            "gridcolor": "white",
            "gridwidth": 2,
            "linecolor": "white",
            "showbackground": true,
            "ticks": "",
            "zerolinecolor": "white"
           },
           "yaxis": {
            "backgroundcolor": "#E5ECF6",
            "gridcolor": "white",
            "gridwidth": 2,
            "linecolor": "white",
            "showbackground": true,
            "ticks": "",
            "zerolinecolor": "white"
           },
           "zaxis": {
            "backgroundcolor": "#E5ECF6",
            "gridcolor": "white",
            "gridwidth": 2,
            "linecolor": "white",
            "showbackground": true,
            "ticks": "",
            "zerolinecolor": "white"
           }
          },
          "shapedefaults": {
           "line": {
            "color": "#2a3f5f"
           }
          },
          "ternary": {
           "aaxis": {
            "gridcolor": "white",
            "linecolor": "white",
            "ticks": ""
           },
           "baxis": {
            "gridcolor": "white",
            "linecolor": "white",
            "ticks": ""
           },
           "bgcolor": "#E5ECF6",
           "caxis": {
            "gridcolor": "white",
            "linecolor": "white",
            "ticks": ""
           }
          },
          "title": {
           "x": 0.05
          },
          "xaxis": {
           "automargin": true,
           "gridcolor": "white",
           "linecolor": "white",
           "ticks": "",
           "title": {
            "standoff": 15
           },
           "zerolinecolor": "white",
           "zerolinewidth": 2
          },
          "yaxis": {
           "automargin": true,
           "gridcolor": "white",
           "linecolor": "white",
           "ticks": "",
           "title": {
            "standoff": 15
           },
           "zerolinecolor": "white",
           "zerolinewidth": 2
          }
         }
        },
        "xaxis": {
         "anchor": "y",
         "domain": [
          0.0,
          1.0
         ],
         "title": {
          "text": "value"
         }
        },
        "yaxis": {
         "anchor": "x",
         "domain": [
          0.0,
          1.0
         ],
         "title": {
          "text": "count"
         }
        },
        "legend": {
         "title": {
          "text": "variable"
         },
         "tracegroupgap": 0
        },
        "margin": {
         "t": 60
        },
        "barmode": "relative"
       },
       "config": {
        "plotlyServerURL": "https://plot.ly"
       }
      },
      "text/html": "<div>                            <div id=\"62ea85c1-0057-4290-89b2-63e9cab13f1c\" class=\"plotly-graph-div\" style=\"height:525px; width:100%;\"></div>            <script type=\"text/javascript\">                require([\"plotly\"], function(Plotly) {                    window.PLOTLYENV=window.PLOTLYENV || {};                                    if (document.getElementById(\"62ea85c1-0057-4290-89b2-63e9cab13f1c\")) {                    Plotly.newPlot(                        \"62ea85c1-0057-4290-89b2-63e9cab13f1c\",                        [{\"alignmentgroup\":\"True\",\"bingroup\":\"x\",\"hovertemplate\":\"variable=0<br>value=%{x}<br>count=%{y}<extra></extra>\",\"legendgroup\":\"0\",\"marker\":{\"color\":\"#636efa\",\"pattern\":{\"shape\":\"\"}},\"name\":\"0\",\"offsetgroup\":\"0\",\"orientation\":\"v\",\"showlegend\":true,\"x\":[129.98333333333332,131.0,131.0,131.0,131.0,130.0,130.98333333333332,131.0,131.0,131.0,131.0,130.0,131.0,131.0,131.0,130.0,131.0,131.0,131.0,131.0,131.0,131.0,130.98333333333332,130.98333333333332,131.0,130.98333333333332,130.0,130.0,131.0,131.0,131.0,23.0,130.0,130.98333333333332,131.0,130.98333333333332,131.0,130.0,131.0,131.0,131.0,131.0,129.98333333333332,131.0,132.0,131.0,131.0,129.98333333333332,131.0,131.0,131.0,131.0,129.98333333333332,131.0,131.0,131.0,130.98333333333332,129.98333333333332,131.0,131.0,131.0,131.0,130.01666666666668,131.0,131.0,131.0,131.0,131.0,131.98333333333332,132.0,131.0,131.0,131.0,132.0,130.98333333333332,131.0,132.0,132.0,134.0,133.0,134.0,133.0,132.0,132.0,132.0,131.98333333333332,133.0,132.0,133.0,132.98333333333332,132.0,133.0,131.98333333333332,226.0,132.98333333333332,132.0,132.0,133.0,133.0,133.0,133.0,132.0,132.0,133.0,132.0,132.0,132.0,133.0,133.0,133.0,131.98333333333332,132.0,131.98333333333332,133.0,132.98333333333332,133.0,132.0,132.0,132.98333333333332,132.0,132.0,132.0,132.0,133.0,133.0,133.0,132.0,132.0,133.0,133.0,132.0,131.98333333333332,131.98333333333332,133.0,133.0,132.0,132.0,132.0,133.0,132.98333333333332,133.0,132.98333333333332,132.0,132.98333333333332,133.0,133.0,131.98333333333332,132.0,133.0,133.0,133.0,131.98333333333332,132.0,133.0,133.0,132.98333333333332,133.0,132.0,133.0,133.0,133.0,133.0,132.0,132.98333333333332,133.0,133.0,132.0,132.0,132.98333333333332,133.0,133.0,133.0,133.0,132.98333333333332,133.0,133.0,131.98333333333332,132.0,133.0,133.0,133.0,132.0,132.0,133.0,133.0,133.0,132.0,132.0,133.0,133.0,132.98333333333332,132.0,132.0,133.0,1.0,133.0,133.0,127.0,132.0,132.0,132.0,130.0,131.0,131.0,132.0,133.0,132.0,132.0,132.0,132.0,132.0,131.98333333333332,131.0,131.0,132.0,132.0,132.0,131.0,131.0,131.0,131.98333333333332,181.0,59.0,131.0,131.0,131.0,132.0,131.98333333333332,131.0,131.0,131.0,131.0,131.0,131.0,131.0,132.0,131.0,131.0,131.0,130.98333333333332,131.98333333333332,131.0,130.98333333333332,131.0,131.0,131.0,131.0,130.98333333333332,131.0,130.0,131.0,130.98333333333332,131.0,131.0,131.0,130.98333333333332,131.0,130.98333333333332,131.0],\"xaxis\":\"x\",\"yaxis\":\"y\",\"type\":\"histogram\"}],                        {\"template\":{\"data\":{\"bar\":[{\"error_x\":{\"color\":\"#2a3f5f\"},\"error_y\":{\"color\":\"#2a3f5f\"},\"marker\":{\"line\":{\"color\":\"#E5ECF6\",\"width\":0.5},\"pattern\":{\"fillmode\":\"overlay\",\"size\":10,\"solidity\":0.2}},\"type\":\"bar\"}],\"barpolar\":[{\"marker\":{\"line\":{\"color\":\"#E5ECF6\",\"width\":0.5},\"pattern\":{\"fillmode\":\"overlay\",\"size\":10,\"solidity\":0.2}},\"type\":\"barpolar\"}],\"carpet\":[{\"aaxis\":{\"endlinecolor\":\"#2a3f5f\",\"gridcolor\":\"white\",\"linecolor\":\"white\",\"minorgridcolor\":\"white\",\"startlinecolor\":\"#2a3f5f\"},\"baxis\":{\"endlinecolor\":\"#2a3f5f\",\"gridcolor\":\"white\",\"linecolor\":\"white\",\"minorgridcolor\":\"white\",\"startlinecolor\":\"#2a3f5f\"},\"type\":\"carpet\"}],\"choropleth\":[{\"colorbar\":{\"outlinewidth\":0,\"ticks\":\"\"},\"type\":\"choropleth\"}],\"contour\":[{\"colorbar\":{\"outlinewidth\":0,\"ticks\":\"\"},\"colorscale\":[[0.0,\"#0d0887\"],[0.1111111111111111,\"#46039f\"],[0.2222222222222222,\"#7201a8\"],[0.3333333333333333,\"#9c179e\"],[0.4444444444444444,\"#bd3786\"],[0.5555555555555556,\"#d8576b\"],[0.6666666666666666,\"#ed7953\"],[0.7777777777777778,\"#fb9f3a\"],[0.8888888888888888,\"#fdca26\"],[1.0,\"#f0f921\"]],\"type\":\"contour\"}],\"contourcarpet\":[{\"colorbar\":{\"outlinewidth\":0,\"ticks\":\"\"},\"type\":\"contourcarpet\"}],\"heatmap\":[{\"colorbar\":{\"outlinewidth\":0,\"ticks\":\"\"},\"colorscale\":[[0.0,\"#0d0887\"],[0.1111111111111111,\"#46039f\"],[0.2222222222222222,\"#7201a8\"],[0.3333333333333333,\"#9c179e\"],[0.4444444444444444,\"#bd3786\"],[0.5555555555555556,\"#d8576b\"],[0.6666666666666666,\"#ed7953\"],[0.7777777777777778,\"#fb9f3a\"],[0.8888888888888888,\"#fdca26\"],[1.0,\"#f0f921\"]],\"type\":\"heatmap\"}],\"heatmapgl\":[{\"colorbar\":{\"outlinewidth\":0,\"ticks\":\"\"},\"colorscale\":[[0.0,\"#0d0887\"],[0.1111111111111111,\"#46039f\"],[0.2222222222222222,\"#7201a8\"],[0.3333333333333333,\"#9c179e\"],[0.4444444444444444,\"#bd3786\"],[0.5555555555555556,\"#d8576b\"],[0.6666666666666666,\"#ed7953\"],[0.7777777777777778,\"#fb9f3a\"],[0.8888888888888888,\"#fdca26\"],[1.0,\"#f0f921\"]],\"type\":\"heatmapgl\"}],\"histogram\":[{\"marker\":{\"pattern\":{\"fillmode\":\"overlay\",\"size\":10,\"solidity\":0.2}},\"type\":\"histogram\"}],\"histogram2d\":[{\"colorbar\":{\"outlinewidth\":0,\"ticks\":\"\"},\"colorscale\":[[0.0,\"#0d0887\"],[0.1111111111111111,\"#46039f\"],[0.2222222222222222,\"#7201a8\"],[0.3333333333333333,\"#9c179e\"],[0.4444444444444444,\"#bd3786\"],[0.5555555555555556,\"#d8576b\"],[0.6666666666666666,\"#ed7953\"],[0.7777777777777778,\"#fb9f3a\"],[0.8888888888888888,\"#fdca26\"],[1.0,\"#f0f921\"]],\"type\":\"histogram2d\"}],\"histogram2dcontour\":[{\"colorbar\":{\"outlinewidth\":0,\"ticks\":\"\"},\"colorscale\":[[0.0,\"#0d0887\"],[0.1111111111111111,\"#46039f\"],[0.2222222222222222,\"#7201a8\"],[0.3333333333333333,\"#9c179e\"],[0.4444444444444444,\"#bd3786\"],[0.5555555555555556,\"#d8576b\"],[0.6666666666666666,\"#ed7953\"],[0.7777777777777778,\"#fb9f3a\"],[0.8888888888888888,\"#fdca26\"],[1.0,\"#f0f921\"]],\"type\":\"histogram2dcontour\"}],\"mesh3d\":[{\"colorbar\":{\"outlinewidth\":0,\"ticks\":\"\"},\"type\":\"mesh3d\"}],\"parcoords\":[{\"line\":{\"colorbar\":{\"outlinewidth\":0,\"ticks\":\"\"}},\"type\":\"parcoords\"}],\"pie\":[{\"automargin\":true,\"type\":\"pie\"}],\"scatter\":[{\"marker\":{\"colorbar\":{\"outlinewidth\":0,\"ticks\":\"\"}},\"type\":\"scatter\"}],\"scatter3d\":[{\"line\":{\"colorbar\":{\"outlinewidth\":0,\"ticks\":\"\"}},\"marker\":{\"colorbar\":{\"outlinewidth\":0,\"ticks\":\"\"}},\"type\":\"scatter3d\"}],\"scattercarpet\":[{\"marker\":{\"colorbar\":{\"outlinewidth\":0,\"ticks\":\"\"}},\"type\":\"scattercarpet\"}],\"scattergeo\":[{\"marker\":{\"colorbar\":{\"outlinewidth\":0,\"ticks\":\"\"}},\"type\":\"scattergeo\"}],\"scattergl\":[{\"marker\":{\"colorbar\":{\"outlinewidth\":0,\"ticks\":\"\"}},\"type\":\"scattergl\"}],\"scattermapbox\":[{\"marker\":{\"colorbar\":{\"outlinewidth\":0,\"ticks\":\"\"}},\"type\":\"scattermapbox\"}],\"scatterpolar\":[{\"marker\":{\"colorbar\":{\"outlinewidth\":0,\"ticks\":\"\"}},\"type\":\"scatterpolar\"}],\"scatterpolargl\":[{\"marker\":{\"colorbar\":{\"outlinewidth\":0,\"ticks\":\"\"}},\"type\":\"scatterpolargl\"}],\"scatterternary\":[{\"marker\":{\"colorbar\":{\"outlinewidth\":0,\"ticks\":\"\"}},\"type\":\"scatterternary\"}],\"surface\":[{\"colorbar\":{\"outlinewidth\":0,\"ticks\":\"\"},\"colorscale\":[[0.0,\"#0d0887\"],[0.1111111111111111,\"#46039f\"],[0.2222222222222222,\"#7201a8\"],[0.3333333333333333,\"#9c179e\"],[0.4444444444444444,\"#bd3786\"],[0.5555555555555556,\"#d8576b\"],[0.6666666666666666,\"#ed7953\"],[0.7777777777777778,\"#fb9f3a\"],[0.8888888888888888,\"#fdca26\"],[1.0,\"#f0f921\"]],\"type\":\"surface\"}],\"table\":[{\"cells\":{\"fill\":{\"color\":\"#EBF0F8\"},\"line\":{\"color\":\"white\"}},\"header\":{\"fill\":{\"color\":\"#C8D4E3\"},\"line\":{\"color\":\"white\"}},\"type\":\"table\"}]},\"layout\":{\"annotationdefaults\":{\"arrowcolor\":\"#2a3f5f\",\"arrowhead\":0,\"arrowwidth\":1},\"autotypenumbers\":\"strict\",\"coloraxis\":{\"colorbar\":{\"outlinewidth\":0,\"ticks\":\"\"}},\"colorscale\":{\"diverging\":[[0,\"#8e0152\"],[0.1,\"#c51b7d\"],[0.2,\"#de77ae\"],[0.3,\"#f1b6da\"],[0.4,\"#fde0ef\"],[0.5,\"#f7f7f7\"],[0.6,\"#e6f5d0\"],[0.7,\"#b8e186\"],[0.8,\"#7fbc41\"],[0.9,\"#4d9221\"],[1,\"#276419\"]],\"sequential\":[[0.0,\"#0d0887\"],[0.1111111111111111,\"#46039f\"],[0.2222222222222222,\"#7201a8\"],[0.3333333333333333,\"#9c179e\"],[0.4444444444444444,\"#bd3786\"],[0.5555555555555556,\"#d8576b\"],[0.6666666666666666,\"#ed7953\"],[0.7777777777777778,\"#fb9f3a\"],[0.8888888888888888,\"#fdca26\"],[1.0,\"#f0f921\"]],\"sequentialminus\":[[0.0,\"#0d0887\"],[0.1111111111111111,\"#46039f\"],[0.2222222222222222,\"#7201a8\"],[0.3333333333333333,\"#9c179e\"],[0.4444444444444444,\"#bd3786\"],[0.5555555555555556,\"#d8576b\"],[0.6666666666666666,\"#ed7953\"],[0.7777777777777778,\"#fb9f3a\"],[0.8888888888888888,\"#fdca26\"],[1.0,\"#f0f921\"]]},\"colorway\":[\"#636efa\",\"#EF553B\",\"#00cc96\",\"#ab63fa\",\"#FFA15A\",\"#19d3f3\",\"#FF6692\",\"#B6E880\",\"#FF97FF\",\"#FECB52\"],\"font\":{\"color\":\"#2a3f5f\"},\"geo\":{\"bgcolor\":\"white\",\"lakecolor\":\"white\",\"landcolor\":\"#E5ECF6\",\"showlakes\":true,\"showland\":true,\"subunitcolor\":\"white\"},\"hoverlabel\":{\"align\":\"left\"},\"hovermode\":\"closest\",\"mapbox\":{\"style\":\"light\"},\"paper_bgcolor\":\"white\",\"plot_bgcolor\":\"#E5ECF6\",\"polar\":{\"angularaxis\":{\"gridcolor\":\"white\",\"linecolor\":\"white\",\"ticks\":\"\"},\"bgcolor\":\"#E5ECF6\",\"radialaxis\":{\"gridcolor\":\"white\",\"linecolor\":\"white\",\"ticks\":\"\"}},\"scene\":{\"xaxis\":{\"backgroundcolor\":\"#E5ECF6\",\"gridcolor\":\"white\",\"gridwidth\":2,\"linecolor\":\"white\",\"showbackground\":true,\"ticks\":\"\",\"zerolinecolor\":\"white\"},\"yaxis\":{\"backgroundcolor\":\"#E5ECF6\",\"gridcolor\":\"white\",\"gridwidth\":2,\"linecolor\":\"white\",\"showbackground\":true,\"ticks\":\"\",\"zerolinecolor\":\"white\"},\"zaxis\":{\"backgroundcolor\":\"#E5ECF6\",\"gridcolor\":\"white\",\"gridwidth\":2,\"linecolor\":\"white\",\"showbackground\":true,\"ticks\":\"\",\"zerolinecolor\":\"white\"}},\"shapedefaults\":{\"line\":{\"color\":\"#2a3f5f\"}},\"ternary\":{\"aaxis\":{\"gridcolor\":\"white\",\"linecolor\":\"white\",\"ticks\":\"\"},\"baxis\":{\"gridcolor\":\"white\",\"linecolor\":\"white\",\"ticks\":\"\"},\"bgcolor\":\"#E5ECF6\",\"caxis\":{\"gridcolor\":\"white\",\"linecolor\":\"white\",\"ticks\":\"\"}},\"title\":{\"x\":0.05},\"xaxis\":{\"automargin\":true,\"gridcolor\":\"white\",\"linecolor\":\"white\",\"ticks\":\"\",\"title\":{\"standoff\":15},\"zerolinecolor\":\"white\",\"zerolinewidth\":2},\"yaxis\":{\"automargin\":true,\"gridcolor\":\"white\",\"linecolor\":\"white\",\"ticks\":\"\",\"title\":{\"standoff\":15},\"zerolinecolor\":\"white\",\"zerolinewidth\":2}}},\"xaxis\":{\"anchor\":\"y\",\"domain\":[0.0,1.0],\"title\":{\"text\":\"value\"}},\"yaxis\":{\"anchor\":\"x\",\"domain\":[0.0,1.0],\"title\":{\"text\":\"count\"}},\"legend\":{\"title\":{\"text\":\"variable\"},\"tracegroupgap\":0},\"margin\":{\"t\":60},\"barmode\":\"relative\"},                        {\"responsive\": true}                    ).then(function(){\n                            \nvar gd = document.getElementById('62ea85c1-0057-4290-89b2-63e9cab13f1c');\nvar x = new MutationObserver(function (mutations, observer) {{\n        var display = window.getComputedStyle(gd).display;\n        if (!display || display === 'none') {{\n            console.log([gd, 'removed!']);\n            Plotly.purge(gd);\n            observer.disconnect();\n        }}\n}});\n\n// Listen for the removal of the full notebook cells\nvar notebookContainer = gd.closest('#notebook-container');\nif (notebookContainer) {{\n    x.observe(notebookContainer, {childList: true});\n}}\n\n// Listen for the clearing of the current output cell\nvar outputEl = gd.closest('.output');\nif (outputEl) {{\n    x.observe(outputEl, {childList: true});\n}}\n\n                        })                };                });            </script>        </div>"
     },
     "metadata": {},
     "output_type": "display_data"
    }
   ],
   "source": [
    "hist = pd.Series(time_delta_dict['year1'][\"Load_StatusApplianceDishwasher\"])\n",
    "fig = px.histogram(hist)\n",
    "fig.show()"
   ],
   "metadata": {
    "collapsed": false,
    "pycharm": {
     "name": "#%%\n"
    }
   }
  },
  {
   "cell_type": "code",
   "execution_count": 82,
   "outputs": [],
   "source": [
    "\n",
    "fig = px.box(time_delta_dict['year1'], log_y=True)\n",
    "fig.update_traces(jitter= 0.3)\n",
    "# fig.show()\n",
    "fig.write_html(Db.get_save_file_directory(\"rule_constraints/time_delta_boxplot.html\"))"
   ],
   "metadata": {
    "collapsed": false,
    "pycharm": {
     "name": "#%%\n"
    }
   }
  },
  {
   "cell_type": "markdown",
   "source": [
    "## Temporal associations constraints (Which hours is the appliances associated with)"
   ],
   "metadata": {
    "collapsed": false
   }
  },
  {
   "cell_type": "code",
   "execution_count": 83,
   "outputs": [
    {
     "data": {
      "text/plain": "{'Load_StatusMBALights':     TotalAbsSupport  AbsSupport  EventCount  ExternalUtility  RelSupport  \\\n 0                 0           0        2265         0.991781    0.000000   \n 1                 1           1        2265         0.991781    0.002740   \n 2                 0           0        2265         0.991781    0.000000   \n 3               495         258        2265         0.991781    0.706849   \n 4               258         258        2265         0.991781    0.706849   \n 5               238         238        2265         0.991781    0.652055   \n 6               514         257        2265         0.991781    0.704110   \n 7                96          96        2265         0.991781    0.263014   \n 8               101         101        2265         0.991781    0.276712   \n 9                95          95        2265         0.991781    0.260274   \n 10              101         101        2265         0.991781    0.276712   \n 11                2           1        2265         0.991781    0.002740   \n 12                0           0        2265         0.991781    0.000000   \n 13               48          48        2265         0.991781    0.131507   \n 14               50          50        2265         0.991781    0.136986   \n 15                1           1        2265         0.991781    0.002740   \n 16                1           1        2265         0.991781    0.002740   \n 17              155         155        2265         0.991781    0.424658   \n 18              310         310        2265         0.991781    0.849315   \n 19               49          49        2265         0.991781    0.134247   \n 20               53          53        2265         0.991781    0.145205   \n 21                4           4        2265         0.991781    0.010959   \n 22              514         258        2265         0.991781    0.706849   \n 23              102         102        2265         0.991781    0.279452   \n \n     TimeAssociation  \n 0          0.000000  \n 1          0.000442  \n 2          0.000000  \n 3          0.218543  \n 4          0.113907  \n 5          0.105077  \n 6          0.226932  \n 7          0.042384  \n 8          0.044592  \n 9          0.041943  \n 10         0.044592  \n 11         0.000883  \n 12         0.000000  \n 13         0.021192  \n 14         0.022075  \n 15         0.000442  \n 16         0.000442  \n 17         0.068433  \n 18         0.136865  \n 19         0.021634  \n 20         0.023400  \n 21         0.001766  \n 22         0.226932  \n 23         0.045033  ,\n 'Load_StatusSensHeatPrntBDOWN':     TotalAbsSupport  AbsSupport  EventCount  ExternalUtility  RelSupport  \\\n 0                 2           2        1133         0.991781    0.005479   \n 1                 2           2        1133         0.991781    0.005479   \n 2                 2           2        1133         0.991781    0.005479   \n 3                 2           2        1133         0.991781    0.005479   \n 4                 2           2        1133         0.991781    0.005479   \n 5               239         239        1133         0.991781    0.654795   \n 6               495         257        1133         0.991781    0.704110   \n 7               258         258        1133         0.991781    0.706849   \n 8               358         358        1133         0.991781    0.980822   \n 9               101         101        1133         0.991781    0.276712   \n 10              102         101        1133         0.991781    0.276712   \n 11              101         101        1133         0.991781    0.276712   \n 12              101         101        1133         0.991781    0.276712   \n 13              102         102        1133         0.991781    0.279452   \n 14              101         101        1133         0.991781    0.276712   \n 15                0           0        1133         0.991781    0.000000   \n 16               97          97        1133         0.991781    0.265753   \n 17              347         347        1133         0.991781    0.950685   \n 18              361         361        1133         0.991781    0.989041   \n 19              362         361        1133         0.991781    0.989041   \n 20              361         361        1133         0.991781    0.989041   \n 21              359         359        1133         0.991781    0.983562   \n 22              117         117        1133         0.991781    0.320548   \n 23              102         102        1133         0.991781    0.279452   \n \n     TimeAssociation  \n 0          0.001765  \n 1          0.001765  \n 2          0.001765  \n 3          0.001765  \n 4          0.001765  \n 5          0.210944  \n 6          0.436893  \n 7          0.227714  \n 8          0.315975  \n 9          0.089144  \n 10         0.090026  \n 11         0.089144  \n 12         0.089144  \n 13         0.090026  \n 14         0.089144  \n 15         0.000000  \n 16         0.085613  \n 17         0.306267  \n 18         0.318623  \n 19         0.319506  \n 20         0.318623  \n 21         0.316858  \n 22         0.103266  \n 23         0.090026  ,\n 'Load_StatusKitchenLights':     TotalAbsSupport  AbsSupport  EventCount  ExternalUtility  RelSupport  \\\n 0                 0           0        1651         0.991781    0.000000   \n 1                 1           1        1651         0.991781    0.002740   \n 2                 3           2        1651         0.991781    0.005479   \n 3                 3           2        1651         0.991781    0.005479   \n 4                 3           2        1651         0.991781    0.005479   \n 5               239         239        1651         0.991781    0.654795   \n 6               258         258        1651         0.991781    0.706849   \n 7               258         258        1651         0.991781    0.706849   \n 8               358         358        1651         0.991781    0.980822   \n 9               101         101        1651         0.991781    0.276712   \n 10                6           6        1651         0.991781    0.016438   \n 11                0           0        1651         0.991781    0.000000   \n 12                0           0        1651         0.991781    0.000000   \n 13                1           1        1651         0.991781    0.002740   \n 14                0           0        1651         0.991781    0.000000   \n 15                0           0        1651         0.991781    0.000000   \n 16                1           1        1651         0.991781    0.002740   \n 17              293         293        1651         0.991781    0.802740   \n 18              650         358        1651         0.991781    0.980822   \n 19              669         360        1651         0.991781    0.986301   \n 20              666         360        1651         0.991781    0.986301   \n 21              358         358        1651         0.991781    0.980822   \n 22              358         358        1651         0.991781    0.980822   \n 23              102         102        1651         0.991781    0.279452   \n \n     TimeAssociation  \n 0          0.000000  \n 1          0.000606  \n 2          0.001817  \n 3          0.001817  \n 4          0.001817  \n 5          0.144761  \n 6          0.156269  \n 7          0.156269  \n 8          0.216838  \n 9          0.061175  \n 10         0.003634  \n 11         0.000000  \n 12         0.000000  \n 13         0.000606  \n 14         0.000000  \n 15         0.000000  \n 16         0.000606  \n 17         0.177468  \n 18         0.393701  \n 19         0.405209  \n 20         0.403392  \n 21         0.216838  \n 22         0.216838  \n 23         0.061781  ,\n 'Load_StatusPlugLoadBlender':     TotalAbsSupport  AbsSupport  EventCount  ExternalUtility  RelSupport  \\\n 0                 0           0         358         0.980822    0.000000   \n 1                 0           0         358         0.980822    0.000000   \n 2                 0           0         358         0.980822    0.000000   \n 3                 0           0         358         0.980822    0.000000   \n 4                 0           0         358         0.980822    0.000000   \n 5                 0           0         358         0.980822    0.000000   \n 6               256         256         358         0.980822    0.701370   \n 7                 0           0         358         0.980822    0.000000   \n 8                 0           0         358         0.980822    0.000000   \n 9               101         101         358         0.980822    0.276712   \n 10                0           0         358         0.980822    0.000000   \n 11                0           0         358         0.980822    0.000000   \n 12                0           0         358         0.980822    0.000000   \n 13                0           0         358         0.980822    0.000000   \n 14                0           0         358         0.980822    0.000000   \n 15                0           0         358         0.980822    0.000000   \n 16                0           0         358         0.980822    0.000000   \n 17                1           1         358         0.980822    0.002740   \n 18                0           0         358         0.980822    0.000000   \n 19                0           0         358         0.980822    0.000000   \n 20                0           0         358         0.980822    0.000000   \n 21                0           0         358         0.980822    0.000000   \n 22                0           0         358         0.980822    0.000000   \n 23                0           0         358         0.980822    0.000000   \n \n     TimeAssociation  \n 0          0.000000  \n 1          0.000000  \n 2          0.000000  \n 3          0.000000  \n 4          0.000000  \n 5          0.000000  \n 6          0.715084  \n 7          0.000000  \n 8          0.000000  \n 9          0.282123  \n 10         0.000000  \n 11         0.000000  \n 12         0.000000  \n 13         0.000000  \n 14         0.000000  \n 15         0.000000  \n 16         0.000000  \n 17         0.002793  \n 18         0.000000  \n 19         0.000000  \n 20         0.000000  \n 21         0.000000  \n 22         0.000000  \n 23         0.000000  ,\n 'Load_StatusPlugLoadCoffeeMaker':     TotalAbsSupport  AbsSupport  EventCount  ExternalUtility  RelSupport  \\\n 0                 0           0         399         0.980822    0.000000   \n 1                 0           0         399         0.980822    0.000000   \n 2                 0           0         399         0.980822    0.000000   \n 3                 0           0         399         0.980822    0.000000   \n 4                 0           0         399         0.980822    0.000000   \n 5                 0           0         399         0.980822    0.000000   \n 6               269         256         399         0.980822    0.701370   \n 7                13          13         399         0.980822    0.035616   \n 8                 0           0         399         0.980822    0.000000   \n 9               101         101         399         0.980822    0.276712   \n 10                6           6         399         0.980822    0.016438   \n 11                0           0         399         0.980822    0.000000   \n 12                6           6         399         0.980822    0.016438   \n 13                0           0         399         0.980822    0.000000   \n 14                0           0         399         0.980822    0.000000   \n 15                0           0         399         0.980822    0.000000   \n 16                1           1         399         0.980822    0.002740   \n 17                1           1         399         0.980822    0.002740   \n 18               16          16         399         0.980822    0.043836   \n 19                0           0         399         0.980822    0.000000   \n 20                0           0         399         0.980822    0.000000   \n 21                0           0         399         0.980822    0.000000   \n 22                0           0         399         0.980822    0.000000   \n 23                0           0         399         0.980822    0.000000   \n \n     TimeAssociation  \n 0          0.000000  \n 1          0.000000  \n 2          0.000000  \n 3          0.000000  \n 4          0.000000  \n 5          0.000000  \n 6          0.674185  \n 7          0.032581  \n 8          0.000000  \n 9          0.253133  \n 10         0.015038  \n 11         0.000000  \n 12         0.015038  \n 13         0.000000  \n 14         0.000000  \n 15         0.000000  \n 16         0.002506  \n 17         0.002506  \n 18         0.040100  \n 19         0.000000  \n 20         0.000000  \n 21         0.000000  \n 22         0.000000  \n 23         0.000000  ,\n 'Load_StatusPlugLoadMBRTV':     TotalAbsSupport  AbsSupport  EventCount  ExternalUtility  RelSupport  \\\n 0                 0           0         359         0.843836    0.000000   \n 1                 0           0         359         0.843836    0.000000   \n 2                 0           0         359         0.843836    0.000000   \n 3                 0           0         359         0.843836    0.000000   \n 4                 0           0         359         0.843836    0.000000   \n 5                 1           1         359         0.843836    0.002740   \n 6               257         257         359         0.843836    0.704110   \n 7                19          19         359         0.843836    0.052055   \n 8                 0           0         359         0.843836    0.000000   \n 9                 0           0         359         0.843836    0.000000   \n 10                0           0         359         0.843836    0.000000   \n 11                0           0         359         0.843836    0.000000   \n 12                0           0         359         0.843836    0.000000   \n 13                0           0         359         0.843836    0.000000   \n 14                0           0         359         0.843836    0.000000   \n 15                0           0         359         0.843836    0.000000   \n 16                0           0         359         0.843836    0.000000   \n 17                0           0         359         0.843836    0.000000   \n 18                0           0         359         0.843836    0.000000   \n 19                0           0         359         0.843836    0.000000   \n 20                0           0         359         0.843836    0.000000   \n 21               99          99         359         0.843836    0.271233   \n 22              102         102         359         0.843836    0.279452   \n 23              101         101         359         0.843836    0.276712   \n \n     TimeAssociation  \n 0          0.000000  \n 1          0.000000  \n 2          0.000000  \n 3          0.000000  \n 4          0.000000  \n 5          0.002786  \n 6          0.715877  \n 7          0.052925  \n 8          0.000000  \n 9          0.000000  \n 10         0.000000  \n 11         0.000000  \n 12         0.000000  \n 13         0.000000  \n 14         0.000000  \n 15         0.000000  \n 16         0.000000  \n 17         0.000000  \n 18         0.000000  \n 19         0.000000  \n 20         0.000000  \n 21         0.275766  \n 22         0.284123  \n 23         0.281337  ,\n 'Load_StatusPlugLoadToasterOven':     TotalAbsSupport  AbsSupport  EventCount  ExternalUtility  RelSupport  \\\n 0                 0           0         373         0.980822    0.000000   \n 1                 0           0         373         0.980822    0.000000   \n 2                 0           0         373         0.980822    0.000000   \n 3                 0           0         373         0.980822    0.000000   \n 4                 0           0         373         0.980822    0.000000   \n 5                 0           0         373         0.980822    0.000000   \n 6               256         256         373         0.980822    0.701370   \n 7                 0           0         373         0.980822    0.000000   \n 8                 0           0         373         0.980822    0.000000   \n 9               101         101         373         0.980822    0.276712   \n 10                0           0         373         0.980822    0.000000   \n 11                0           0         373         0.980822    0.000000   \n 12                0           0         373         0.980822    0.000000   \n 13                0           0         373         0.980822    0.000000   \n 14                0           0         373         0.980822    0.000000   \n 15                0           0         373         0.980822    0.000000   \n 16                0           0         373         0.980822    0.000000   \n 17                1           1         373         0.980822    0.002740   \n 18                0           0         373         0.980822    0.000000   \n 19                0           0         373         0.980822    0.000000   \n 20                4           1         373         0.980822    0.002740   \n 21                8           2         373         0.980822    0.005479   \n 22                3           2         373         0.980822    0.005479   \n 23                0           0         373         0.980822    0.000000   \n \n     TimeAssociation  \n 0          0.000000  \n 1          0.000000  \n 2          0.000000  \n 3          0.000000  \n 4          0.000000  \n 5          0.000000  \n 6          0.686327  \n 7          0.000000  \n 8          0.000000  \n 9          0.270777  \n 10         0.000000  \n 11         0.000000  \n 12         0.000000  \n 13         0.000000  \n 14         0.000000  \n 15         0.000000  \n 16         0.000000  \n 17         0.002681  \n 18         0.000000  \n 19         0.000000  \n 20         0.010724  \n 21         0.021448  \n 22         0.008043  \n 23         0.000000  ,\n 'Load_StatusMasterBedroomLights':     TotalAbsSupport  AbsSupport  EventCount  ExternalUtility  RelSupport  \\\n 0                 0           0        1385         0.991781    0.000000   \n 1                 2           2        1385         0.991781    0.005479   \n 2                 2           2        1385         0.991781    0.005479   \n 3                 0           0        1385         0.991781    0.000000   \n 4                 1           1        1385         0.991781    0.002740   \n 5                 1           1        1385         0.991781    0.002740   \n 6               513         257        1385         0.991781    0.704110   \n 7                19          19        1385         0.991781    0.052055   \n 8                 0           0        1385         0.991781    0.000000   \n 9                 0           0        1385         0.991781    0.000000   \n 10              101         101        1385         0.991781    0.276712   \n 11                5           5        1385         0.991781    0.013699   \n 12                0           0        1385         0.991781    0.000000   \n 13                0           0        1385         0.991781    0.000000   \n 14                0           0        1385         0.991781    0.000000   \n 15                0           0        1385         0.991781    0.000000   \n 16                0           0        1385         0.991781    0.000000   \n 17               49          49        1385         0.991781    0.134247   \n 18              360         360        1385         0.991781    0.986301   \n 19                2           2        1385         0.991781    0.005479   \n 20               51          51        1385         0.991781    0.139726   \n 21              242         242        1385         0.991781    0.663014   \n 22              256         256        1385         0.991781    0.701370   \n 23              116         116        1385         0.991781    0.317808   \n \n     TimeAssociation  \n 0          0.000000  \n 1          0.001444  \n 2          0.001444  \n 3          0.000000  \n 4          0.000722  \n 5          0.000722  \n 6          0.370397  \n 7          0.013718  \n 8          0.000000  \n 9          0.000000  \n 10         0.072924  \n 11         0.003610  \n 12         0.000000  \n 13         0.000000  \n 14         0.000000  \n 15         0.000000  \n 16         0.000000  \n 17         0.035379  \n 18         0.259928  \n 19         0.001444  \n 20         0.036823  \n 21         0.174729  \n 22         0.184838  \n 23         0.083755  ,\n 'Load_StatusPlugLoadToaster':     TotalAbsSupport  AbsSupport  EventCount  ExternalUtility  RelSupport  \\\n 0                 0           0         358         0.980822    0.000000   \n 1                 0           0         358         0.980822    0.000000   \n 2                 0           0         358         0.980822    0.000000   \n 3                 0           0         358         0.980822    0.000000   \n 4                 0           0         358         0.980822    0.000000   \n 5                 0           0         358         0.980822    0.000000   \n 6               256         256         358         0.980822    0.701370   \n 7                 0           0         358         0.980822    0.000000   \n 8                 0           0         358         0.980822    0.000000   \n 9               101         101         358         0.980822    0.276712   \n 10                0           0         358         0.980822    0.000000   \n 11                0           0         358         0.980822    0.000000   \n 12                0           0         358         0.980822    0.000000   \n 13                0           0         358         0.980822    0.000000   \n 14                0           0         358         0.980822    0.000000   \n 15                0           0         358         0.980822    0.000000   \n 16                0           0         358         0.980822    0.000000   \n 17                1           1         358         0.980822    0.002740   \n 18                0           0         358         0.980822    0.000000   \n 19                0           0         358         0.980822    0.000000   \n 20                0           0         358         0.980822    0.000000   \n 21                0           0         358         0.980822    0.000000   \n 22                0           0         358         0.980822    0.000000   \n 23                0           0         358         0.980822    0.000000   \n \n     TimeAssociation  \n 0          0.000000  \n 1          0.000000  \n 2          0.000000  \n 3          0.000000  \n 4          0.000000  \n 5          0.000000  \n 6          0.715084  \n 7          0.000000  \n 8          0.000000  \n 9          0.282123  \n 10         0.000000  \n 11         0.000000  \n 12         0.000000  \n 13         0.000000  \n 14         0.000000  \n 15         0.000000  \n 16         0.000000  \n 17         0.002793  \n 18         0.000000  \n 19         0.000000  \n 20         0.000000  \n 21         0.000000  \n 22         0.000000  \n 23         0.000000  ,\n 'Load_StatusBA2Lights':     TotalAbsSupport  AbsSupport  EventCount  ExternalUtility  RelSupport  \\\n 0                 0           0        1432         0.991781    0.000000   \n 1                 1           1        1432         0.991781    0.002740   \n 2                 1           1        1432         0.991781    0.002740   \n 3                 0           0        1432         0.991781    0.000000   \n 4                 2           1        1432         0.991781    0.002740   \n 5                 3           2        1432         0.991781    0.005479   \n 6               258         257        1432         0.991781    0.704110   \n 7                 1           1        1432         0.991781    0.002740   \n 8               101         101        1432         0.991781    0.276712   \n 9               101         101        1432         0.991781    0.276712   \n 10                0           0        1432         0.991781    0.000000   \n 11                0           0        1432         0.991781    0.000000   \n 12               51          51        1432         0.991781    0.139726   \n 13                0           0        1432         0.991781    0.000000   \n 14                0           0        1432         0.991781    0.000000   \n 15                0           0        1432         0.991781    0.000000   \n 16                1           1        1432         0.991781    0.002740   \n 17                1           1        1432         0.991781    0.002740   \n 18              204         204        1432         0.991781    0.558904   \n 19               49          49        1432         0.991781    0.134247   \n 20              355         307        1432         0.991781    0.841096   \n 21              404         354        1432         0.991781    0.969863   \n 22              211         114        1432         0.991781    0.312329   \n 23              100         100        1432         0.991781    0.273973   \n \n     TimeAssociation  \n 0          0.000000  \n 1          0.000698  \n 2          0.000698  \n 3          0.000000  \n 4          0.001397  \n 5          0.002095  \n 6          0.180168  \n 7          0.000698  \n 8          0.070531  \n 9          0.070531  \n 10         0.000000  \n 11         0.000000  \n 12         0.035615  \n 13         0.000000  \n 14         0.000000  \n 15         0.000000  \n 16         0.000698  \n 17         0.000698  \n 18         0.142458  \n 19         0.034218  \n 20         0.247905  \n 21         0.282123  \n 22         0.147346  \n 23         0.069832  ,\n 'Load_StatusPlugLoadLRTV':     TotalAbsSupport  AbsSupport  EventCount  ExternalUtility  RelSupport  \\\n 0                 2           2         771         0.986301    0.005479   \n 1                 1           1         771         0.986301    0.002740   \n 2                 1           1         771         0.986301    0.002740   \n 3                 2           2         771         0.986301    0.005479   \n 4                 2           2         771         0.986301    0.005479   \n 5                 2           2         771         0.986301    0.005479   \n 6               206         206         771         0.986301    0.564384   \n 7               206         206         771         0.986301    0.564384   \n 8               306         306         771         0.986301    0.838356   \n 9               101         101         771         0.986301    0.276712   \n 10              101         101         771         0.986301    0.276712   \n 11                2           2         771         0.986301    0.005479   \n 12                0           0         771         0.986301    0.000000   \n 13                0           0         771         0.986301    0.000000   \n 14               96          96         771         0.986301    0.263014   \n 15              101         101         771         0.986301    0.276712   \n 16              102         102         771         0.986301    0.279452   \n 17                1           1         771         0.986301    0.002740   \n 18              309         309         771         0.986301    0.846575   \n 19              356         356         771         0.986301    0.975342   \n 20              358         358         771         0.986301    0.980822   \n 21              150         150         771         0.986301    0.410959   \n 22              151         151         771         0.986301    0.413699   \n 23               51          51         771         0.986301    0.139726   \n \n     TimeAssociation  \n 0          0.002594  \n 1          0.001297  \n 2          0.001297  \n 3          0.002594  \n 4          0.002594  \n 5          0.002594  \n 6          0.267185  \n 7          0.267185  \n 8          0.396887  \n 9          0.130999  \n 10         0.130999  \n 11         0.002594  \n 12         0.000000  \n 13         0.000000  \n 14         0.124514  \n 15         0.130999  \n 16         0.132296  \n 17         0.001297  \n 18         0.400778  \n 19         0.461738  \n 20         0.464332  \n 21         0.194553  \n 22         0.195850  \n 23         0.066148  ,\n 'Load_StatusSensHeatPrntADOWN':     TotalAbsSupport  AbsSupport  EventCount  ExternalUtility  RelSupport  \\\n 0                 2           2         874         0.991781    0.005479   \n 1                 2           2         874         0.991781    0.005479   \n 2                 1           1         874         0.991781    0.002740   \n 3                 1           1         874         0.991781    0.002740   \n 4                 2           2         874         0.991781    0.005479   \n 5                 2           2         874         0.991781    0.005479   \n 6               258         258         874         0.991781    0.706849   \n 7               258         258         874         0.991781    0.706849   \n 8               358         358         874         0.991781    0.980822   \n 9               101         101         874         0.991781    0.276712   \n 10                6           6         874         0.991781    0.016438   \n 11                0           0         874         0.991781    0.000000   \n 12              101         101         874         0.991781    0.276712   \n 13              101         101         874         0.991781    0.276712   \n 14              104         101         874         0.991781    0.276712   \n 15              101         101         874         0.991781    0.276712   \n 16              102         102         874         0.991781    0.279452   \n 17              102         102         874         0.991781    0.279452   \n 18              313         310         874         0.991781    0.849315   \n 19              308         308         874         0.991781    0.843836   \n 20              359         359         874         0.991781    0.983562   \n 21              357         357         874         0.991781    0.978082   \n 22              357         357         874         0.991781    0.978082   \n 23              101         101         874         0.991781    0.276712   \n \n     TimeAssociation  \n 0          0.002288  \n 1          0.002288  \n 2          0.001144  \n 3          0.001144  \n 4          0.002288  \n 5          0.002288  \n 6          0.295195  \n 7          0.295195  \n 8          0.409611  \n 9          0.115561  \n 10         0.006865  \n 11         0.000000  \n 12         0.115561  \n 13         0.115561  \n 14         0.118993  \n 15         0.115561  \n 16         0.116705  \n 17         0.116705  \n 18         0.358124  \n 19         0.352403  \n 20         0.410755  \n 21         0.408467  \n 22         0.408467  \n 23         0.115561  ,\n 'Load_StatusSensHeatPrntBUP':     TotalAbsSupport  AbsSupport  EventCount  ExternalUtility  RelSupport  \\\n 0               355         355        1128              1.0    0.972603   \n 1               355         355        1128              1.0    0.972603   \n 2               355         355        1128              1.0    0.972603   \n 3               354         354        1128              1.0    0.969863   \n 4               354         354        1128              1.0    0.969863   \n 5               355         355        1128              1.0    0.972603   \n 6               379         360        1128              1.0    0.986301   \n 7               124         122        1128              1.0    0.334247   \n 8               104         104        1128              1.0    0.284932   \n 9                98          98        1128              1.0    0.268493   \n 10              103         103        1128              1.0    0.282192   \n 11                7           7        1128              1.0    0.019178   \n 12                2           2        1128              1.0    0.005479   \n 13                2           2        1128              1.0    0.005479   \n 14                1           1        1128              1.0    0.002740   \n 15                1           1        1128              1.0    0.002740   \n 16                1           1        1128              1.0    0.002740   \n 17               50          50        1128              1.0    0.136986   \n 18               52          52        1128              1.0    0.142466   \n 19                2           2        1128              1.0    0.005479   \n 20                2           2        1128              1.0    0.005479   \n 21              244         244        1128              1.0    0.668493   \n 22              258         258        1128              1.0    0.706849   \n 23              358         358        1128              1.0    0.980822   \n \n     TimeAssociation  \n 0          0.314716  \n 1          0.314716  \n 2          0.314716  \n 3          0.313830  \n 4          0.313830  \n 5          0.314716  \n 6          0.335993  \n 7          0.109929  \n 8          0.092199  \n 9          0.086879  \n 10         0.091312  \n 11         0.006206  \n 12         0.001773  \n 13         0.001773  \n 14         0.000887  \n 15         0.000887  \n 16         0.000887  \n 17         0.044326  \n 18         0.046099  \n 19         0.001773  \n 20         0.001773  \n 21         0.216312  \n 22         0.228723  \n 23         0.317376  ,\n 'Load_StatusBR2Lights':     TotalAbsSupport  AbsSupport  EventCount  ExternalUtility  RelSupport  \\\n 0                 0           0         825         0.991781    0.000000   \n 1                 1           1         825         0.991781    0.002740   \n 2                 2           2         825         0.991781    0.005479   \n 3                 2           2         825         0.991781    0.005479   \n 4                 1           1         825         0.991781    0.002740   \n 5                 1           1         825         0.991781    0.002740   \n 6               257         257         825         0.991781    0.704110   \n 7                19          19         825         0.991781    0.052055   \n 8                 0           0         825         0.991781    0.000000   \n 9                 0           0         825         0.991781    0.000000   \n 10                0           0         825         0.991781    0.000000   \n 11                0           0         825         0.991781    0.000000   \n 12               51          51         825         0.991781    0.139726   \n 13                2           2         825         0.991781    0.005479   \n 14                0           0         825         0.991781    0.000000   \n 15                0           0         825         0.991781    0.000000   \n 16              104         104         825         0.991781    0.284932   \n 17              153         153         825         0.991781    0.419178   \n 18              334         329         825         0.991781    0.901370   \n 19              329         329         825         0.991781    0.901370   \n 20              278         278         825         0.991781    0.761644   \n 21              229         229         825         0.991781    0.627397   \n 22               28          28         825         0.991781    0.076712   \n 23               19          19         825         0.991781    0.052055   \n \n     TimeAssociation  \n 0          0.000000  \n 1          0.001212  \n 2          0.002424  \n 3          0.002424  \n 4          0.001212  \n 5          0.001212  \n 6          0.311515  \n 7          0.023030  \n 8          0.000000  \n 9          0.000000  \n 10         0.000000  \n 11         0.000000  \n 12         0.061818  \n 13         0.002424  \n 14         0.000000  \n 15         0.000000  \n 16         0.126061  \n 17         0.185455  \n 18         0.404848  \n 19         0.398788  \n 20         0.336970  \n 21         0.277576  \n 22         0.033939  \n 23         0.023030  ,\n 'Load_StatusPlugLoadHairDryerCurlIron':     TotalAbsSupport  AbsSupport  EventCount  ExternalUtility  RelSupport  \\\n 0                 0           0         358         0.980822    0.000000   \n 1                 0           0         358         0.980822    0.000000   \n 2                 0           0         358         0.980822    0.000000   \n 3                 0           0         358         0.980822    0.000000   \n 4                 0           0         358         0.980822    0.000000   \n 5                 0           0         358         0.980822    0.000000   \n 6               256         256         358         0.980822    0.701370   \n 7                 0           0         358         0.980822    0.000000   \n 8                 0           0         358         0.980822    0.000000   \n 9                 0           0         358         0.980822    0.000000   \n 10              101         101         358         0.980822    0.276712   \n 11                0           0         358         0.980822    0.000000   \n 12                0           0         358         0.980822    0.000000   \n 13                0           0         358         0.980822    0.000000   \n 14                0           0         358         0.980822    0.000000   \n 15                0           0         358         0.980822    0.000000   \n 16                0           0         358         0.980822    0.000000   \n 17                1           1         358         0.980822    0.002740   \n 18                0           0         358         0.980822    0.000000   \n 19                0           0         358         0.980822    0.000000   \n 20                0           0         358         0.980822    0.000000   \n 21                0           0         358         0.980822    0.000000   \n 22                0           0         358         0.980822    0.000000   \n 23                0           0         358         0.980822    0.000000   \n \n     TimeAssociation  \n 0          0.000000  \n 1          0.000000  \n 2          0.000000  \n 3          0.000000  \n 4          0.000000  \n 5          0.000000  \n 6          0.715084  \n 7          0.000000  \n 8          0.000000  \n 9          0.000000  \n 10         0.282123  \n 11         0.000000  \n 12         0.000000  \n 13         0.000000  \n 14         0.000000  \n 15         0.000000  \n 16         0.000000  \n 17         0.002793  \n 18         0.000000  \n 19         0.000000  \n 20         0.000000  \n 21         0.000000  \n 22         0.000000  \n 23         0.000000  ,\n 'Load_StatusBR3Lights':     TotalAbsSupport  AbsSupport  EventCount  ExternalUtility  RelSupport  \\\n 0                 0           0         670         0.991781    0.000000   \n 1                 1           1         670         0.991781    0.002740   \n 2                 2           2         670         0.991781    0.005479   \n 3                 2           2         670         0.991781    0.005479   \n 4                 1           1         670         0.991781    0.002740   \n 5                 0           0         670         0.991781    0.000000   \n 6               256         256         670         0.991781    0.701370   \n 7                18          18         670         0.991781    0.049315   \n 8                 0           0         670         0.991781    0.000000   \n 9                 0           0         670         0.991781    0.000000   \n 10                0           0         670         0.991781    0.000000   \n 11                0           0         670         0.991781    0.000000   \n 12                0           0         670         0.991781    0.000000   \n 13                0           0         670         0.991781    0.000000   \n 14                0           0         670         0.991781    0.000000   \n 15                0           0         670         0.991781    0.000000   \n 16                0           0         670         0.991781    0.000000   \n 17               49          49         670         0.991781    0.134247   \n 18              360         360         670         0.991781    0.986301   \n 19              360         360         670         0.991781    0.986301   \n 20              309         309         670         0.991781    0.846575   \n 21                2           2         670         0.991781    0.005479   \n 22                0           0         670         0.991781    0.000000   \n 23                0           0         670         0.991781    0.000000   \n \n     TimeAssociation  \n 0          0.000000  \n 1          0.001493  \n 2          0.002985  \n 3          0.002985  \n 4          0.001493  \n 5          0.000000  \n 6          0.382090  \n 7          0.026866  \n 8          0.000000  \n 9          0.000000  \n 10         0.000000  \n 11         0.000000  \n 12         0.000000  \n 13         0.000000  \n 14         0.000000  \n 15         0.000000  \n 16         0.000000  \n 17         0.073134  \n 18         0.537313  \n 19         0.537313  \n 20         0.461194  \n 21         0.002985  \n 22         0.000000  \n 23         0.000000  ,\n 'Load_StatusDRLights':     TotalAbsSupport  AbsSupport  EventCount  ExternalUtility  RelSupport  \\\n 0                 0           0         722         0.991781    0.000000   \n 1                 0           0         722         0.991781    0.000000   \n 2                 0           0         722         0.991781    0.000000   \n 3                 2           2         722         0.991781    0.005479   \n 4                 2           2         722         0.991781    0.005479   \n 5                 0           0         722         0.991781    0.000000   \n 6               238         238         722         0.991781    0.652055   \n 7               257         257         722         0.991781    0.704110   \n 8                18          18         722         0.991781    0.049315   \n 9               101         101         722         0.991781    0.276712   \n 10                6           6         722         0.991781    0.016438   \n 11                0           0         722         0.991781    0.000000   \n 12                0           0         722         0.991781    0.000000   \n 13                0           0         722         0.991781    0.000000   \n 14                0           0         722         0.991781    0.000000   \n 15                0           0         722         0.991781    0.000000   \n 16                0           0         722         0.991781    0.000000   \n 17                1           1         722         0.991781    0.002740   \n 18                0           0         722         0.991781    0.000000   \n 19              359         358         722         0.991781    0.980822   \n 20              360         360         722         0.991781    0.986301   \n 21                2           2         722         0.991781    0.005479   \n 22                0           0         722         0.991781    0.000000   \n 23                0           0         722         0.991781    0.000000   \n \n     TimeAssociation  \n 0          0.000000  \n 1          0.000000  \n 2          0.000000  \n 3          0.002770  \n 4          0.002770  \n 5          0.000000  \n 6          0.329640  \n 7          0.355956  \n 8          0.024931  \n 9          0.139889  \n 10         0.008310  \n 11         0.000000  \n 12         0.000000  \n 13         0.000000  \n 14         0.000000  \n 15         0.000000  \n 16         0.000000  \n 17         0.001385  \n 18         0.000000  \n 19         0.497230  \n 20         0.498615  \n 21         0.002770  \n 22         0.000000  \n 23         0.000000  ,\n 'Load_StatusSensHeatChildADOWN':     TotalAbsSupport  AbsSupport  EventCount  ExternalUtility  RelSupport  \\\n 0                 2           2        1185         0.991781    0.005479   \n 1                 2           2        1185         0.991781    0.005479   \n 2                 0           0        1185         0.991781    0.000000   \n 3                 1           1        1185         0.991781    0.002740   \n 4                 2           2        1185         0.991781    0.005479   \n 5                 1           1        1185         0.991781    0.002740   \n 6               239         239        1185         0.991781    0.654795   \n 7               257         257        1185         0.991781    0.704110   \n 8                66          66        1185         0.991781    0.180822   \n 9               102         102        1185         0.991781    0.279452   \n 10              102         102        1185         0.991781    0.279452   \n 11                6           6        1185         0.991781    0.016438   \n 12               97          97        1185         0.991781    0.265753   \n 13              102         102        1185         0.991781    0.279452   \n 14              102         102        1185         0.991781    0.279452   \n 15               98          98        1185         0.991781    0.268493   \n 16              201         201        1185         0.991781    0.550685   \n 17              201         201        1185         0.991781    0.550685   \n 18              110         110        1185         0.991781    0.301370   \n 19              309         309        1185         0.991781    0.846575   \n 20              410         361        1185         0.991781    0.989041   \n 21              103         103        1185         0.991781    0.282192   \n 22              103         103        1185         0.991781    0.282192   \n 23                4           4        1185         0.991781    0.010959   \n \n     TimeAssociation  \n 0          0.001688  \n 1          0.001688  \n 2          0.000000  \n 3          0.000844  \n 4          0.001688  \n 5          0.000844  \n 6          0.201688  \n 7          0.216878  \n 8          0.055696  \n 9          0.086076  \n 10         0.086076  \n 11         0.005063  \n 12         0.081857  \n 13         0.086076  \n 14         0.086076  \n 15         0.082700  \n 16         0.169620  \n 17         0.169620  \n 18         0.092827  \n 19         0.260759  \n 20         0.345992  \n 21         0.086920  \n 22         0.086920  \n 23         0.003376  ,\n 'Load_StatusSensHeatChildBDOWN':     TotalAbsSupport  AbsSupport  EventCount  ExternalUtility  RelSupport  \\\n 0                 2           2        1131         0.991781    0.005479   \n 1                 2           2        1131         0.991781    0.005479   \n 2                 1           1        1131         0.991781    0.002740   \n 3                 1           1        1131         0.991781    0.002740   \n 4                 2           2        1131         0.991781    0.005479   \n 5                 1           1        1131         0.991781    0.002740   \n 6               238         238        1131         0.991781    0.652055   \n 7               257         257        1131         0.991781    0.704110   \n 8                66          66        1131         0.991781    0.180822   \n 9               101         101        1131         0.991781    0.276712   \n 10                6           6        1131         0.991781    0.016438   \n 11                0           0        1131         0.991781    0.000000   \n 12               96          96        1131         0.991781    0.263014   \n 13              101         101        1131         0.991781    0.276712   \n 14              101         101        1131         0.991781    0.276712   \n 15              101         101        1131         0.991781    0.276712   \n 16              101         101        1131         0.991781    0.276712   \n 17              347         347        1131         0.991781    0.950685   \n 18              310         310        1131         0.991781    0.849315   \n 19              308         308        1131         0.991781    0.843836   \n 20              408         359        1131         0.991781    0.983562   \n 21              101         101        1131         0.991781    0.276712   \n 22                4           4        1131         0.991781    0.010959   \n 23                1           1        1131         0.991781    0.002740   \n \n     TimeAssociation  \n 0          0.001768  \n 1          0.001768  \n 2          0.000884  \n 3          0.000884  \n 4          0.001768  \n 5          0.000884  \n 6          0.210433  \n 7          0.227233  \n 8          0.058355  \n 9          0.089302  \n 10         0.005305  \n 11         0.000000  \n 12         0.084881  \n 13         0.089302  \n 14         0.089302  \n 15         0.089302  \n 16         0.089302  \n 17         0.306808  \n 18         0.274094  \n 19         0.272325  \n 20         0.360743  \n 21         0.089302  \n 22         0.003537  \n 23         0.000884  ,\n 'Load_StatusLivingRoomLights':     TotalAbsSupport  AbsSupport  EventCount  ExternalUtility  RelSupport  \\\n 0                 0           0        1234         0.989041    0.000000   \n 1                 1           1        1234         0.989041    0.002740   \n 2                 2           1        1234         0.989041    0.002740   \n 3                 2           1        1234         0.989041    0.002740   \n 4                 2           2        1234         0.989041    0.005479   \n 5                 2           2        1234         0.989041    0.005479   \n 6                 2           2        1234         0.989041    0.005479   \n 7               240         240        1234         0.989041    0.657534   \n 8               257         257        1234         0.989041    0.704110   \n 9                 0           0        1234         0.989041    0.000000   \n 10                0           0        1234         0.989041    0.000000   \n 11                0           0        1234         0.989041    0.000000   \n 12                0           0        1234         0.989041    0.000000   \n 13                0           0        1234         0.989041    0.000000   \n 14                0           0        1234         0.989041    0.000000   \n 15                0           0        1234         0.989041    0.000000   \n 16                0           0        1234         0.989041    0.000000   \n 17              262         262        1234         0.989041    0.717808   \n 18              553         307        1234         0.989041    0.841096   \n 19              562         307        1234         0.989041    0.841096   \n 20              354         354        1234         0.989041    0.969863   \n 21              453         356        1234         0.989041    0.975342   \n 22              356         356        1234         0.989041    0.975342   \n 23              100         100        1234         0.989041    0.273973   \n \n     TimeAssociation  \n 0          0.000000  \n 1          0.000810  \n 2          0.001621  \n 3          0.001621  \n 4          0.001621  \n 5          0.001621  \n 6          0.001621  \n 7          0.194489  \n 8          0.208266  \n 9          0.000000  \n 10         0.000000  \n 11         0.000000  \n 12         0.000000  \n 13         0.000000  \n 14         0.000000  \n 15         0.000000  \n 16         0.000000  \n 17         0.212318  \n 18         0.448136  \n 19         0.455429  \n 20         0.286872  \n 21         0.367099  \n 22         0.288493  \n 23         0.081037  ,\n 'Load_StatusBA1Lights':     TotalAbsSupport  AbsSupport  EventCount  ExternalUtility  RelSupport  \\\n 0                 0           0         674         0.989041    0.000000   \n 1                 1           1         674         0.989041    0.002740   \n 2                 0           0         674         0.989041    0.000000   \n 3                 0           0         674         0.989041    0.000000   \n 4                 0           0         674         0.989041    0.000000   \n 5                 0           0         674         0.989041    0.000000   \n 6                 1           1         674         0.989041    0.002740   \n 7                52          52         674         0.989041    0.142466   \n 8                52          52         674         0.989041    0.142466   \n 9                 1           1         674         0.989041    0.002740   \n 10                1           1         674         0.989041    0.002740   \n 11                1           1         674         0.989041    0.002740   \n 12                1           1         674         0.989041    0.002740   \n 13                1           1         674         0.989041    0.002740   \n 14                1           1         674         0.989041    0.002740   \n 15               42          42         674         0.989041    0.115068   \n 16              104         104         674         0.989041    0.284932   \n 17                9           9         674         0.989041    0.024658   \n 18              206         206         674         0.989041    0.564384   \n 19                0           0         674         0.989041    0.000000   \n 20                3           2         674         0.989041    0.005479   \n 21               54          54         674         0.989041    0.147945   \n 22              104         104         674         0.989041    0.284932   \n 23              102         102         674         0.989041    0.279452   \n \n     TimeAssociation  \n 0          0.000000  \n 1          0.001484  \n 2          0.000000  \n 3          0.000000  \n 4          0.000000  \n 5          0.000000  \n 6          0.001484  \n 7          0.077151  \n 8          0.077151  \n 9          0.001484  \n 10         0.001484  \n 11         0.001484  \n 12         0.001484  \n 13         0.001484  \n 14         0.001484  \n 15         0.062315  \n 16         0.154303  \n 17         0.013353  \n 18         0.305638  \n 19         0.000000  \n 20         0.004451  \n 21         0.080119  \n 22         0.154303  \n 23         0.151335  ,\n 'Load_StatusSensHeatChildAUP':     TotalAbsSupport  AbsSupport  EventCount  ExternalUtility  RelSupport  \\\n 0               355         355        1334              1.0    0.972603   \n 1               356         356        1334              1.0    0.975342   \n 2               356         356        1334              1.0    0.975342   \n 3               356         356        1334              1.0    0.975342   \n 4               355         355        1334              1.0    0.972603   \n 5               355         355        1334              1.0    0.972603   \n 6               356         356        1334              1.0    0.975342   \n 7               124         122        1334              1.0    0.334247   \n 8               104         104        1334              1.0    0.284932   \n 9                57          57        1334              1.0    0.156164   \n 10               98          98        1334              1.0    0.268493   \n 11              103         103        1334              1.0    0.282192   \n 12              103         103        1334              1.0    0.282192   \n 13                7           7        1334              1.0    0.019178   \n 14                1           1        1334              1.0    0.002740   \n 15                1           1        1334              1.0    0.002740   \n 16              105         105        1334              1.0    0.287671   \n 17              346         346        1334              1.0    0.947945   \n 18              365         360        1334              1.0    0.986301   \n 19              360         360        1334              1.0    0.986301   \n 20              308         308        1334              1.0    0.843836   \n 21              257         257        1334              1.0    0.704110   \n 22              353         353        1334              1.0    0.967123   \n 23              355         355        1334              1.0    0.972603   \n \n     TimeAssociation  \n 0          0.266117  \n 1          0.266867  \n 2          0.266867  \n 3          0.266867  \n 4          0.266117  \n 5          0.266117  \n 6          0.266867  \n 7          0.092954  \n 8          0.077961  \n 9          0.042729  \n 10         0.073463  \n 11         0.077211  \n 12         0.077211  \n 13         0.005247  \n 14         0.000750  \n 15         0.000750  \n 16         0.078711  \n 17         0.259370  \n 18         0.273613  \n 19         0.269865  \n 20         0.230885  \n 21         0.192654  \n 22         0.264618  \n 23         0.266117  ,\n 'Load_StatusSensHeatPrntAUP':     TotalAbsSupport  AbsSupport  EventCount  ExternalUtility  RelSupport  \\\n 0               355         355        1127              1.0    0.972603   \n 1               355         355        1127              1.0    0.972603   \n 2               355         355        1127              1.0    0.972603   \n 3               355         355        1127              1.0    0.972603   \n 4               355         355        1127              1.0    0.972603   \n 5               354         354        1127              1.0    0.969863   \n 6               355         355        1127              1.0    0.972603   \n 7               106         104        1127              1.0    0.284932   \n 8               104         104        1127              1.0    0.284932   \n 9                 3           3        1127              1.0    0.008219   \n 10                2           2        1127              1.0    0.005479   \n 11                2           2        1127              1.0    0.005479   \n 12                2           2        1127              1.0    0.005479   \n 13               49          49        1127              1.0    0.134247   \n 14               51          51        1127              1.0    0.139726   \n 15                1           1        1127              1.0    0.002740   \n 16                1           1        1127              1.0    0.002740   \n 17              292         292        1127              1.0    0.800000   \n 18              308         308        1127              1.0    0.843836   \n 19               48          48        1127              1.0    0.131507   \n 20               50          50        1127              1.0    0.136986   \n 21                1           1        1127              1.0    0.002740   \n 22              257         257        1127              1.0    0.704110   \n 23              355         355        1127              1.0    0.972603   \n \n     TimeAssociation  \n 0          0.314996  \n 1          0.314996  \n 2          0.314996  \n 3          0.314996  \n 4          0.314996  \n 5          0.314108  \n 6          0.314996  \n 7          0.094055  \n 8          0.092280  \n 9          0.002662  \n 10         0.001775  \n 11         0.001775  \n 12         0.001775  \n 13         0.043478  \n 14         0.045253  \n 15         0.000887  \n 16         0.000887  \n 17         0.259095  \n 18         0.273292  \n 19         0.042591  \n 20         0.044366  \n 21         0.000887  \n 22         0.228039  \n 23         0.314996  ,\n 'Load_StatusApplianceCooktop':     TotalAbsSupport  AbsSupport  EventCount  ExternalUtility  RelSupport  \\\n 0                 0           0         574         0.986301    0.000000   \n 1                 1           1         574         0.986301    0.002740   \n 2                 2           2         574         0.986301    0.005479   \n 3                 1           1         574         0.986301    0.002740   \n 4                 0           0         574         0.986301    0.000000   \n 5                 0           0         574         0.986301    0.000000   \n 6                 0           0         574         0.986301    0.000000   \n 7                 0           0         574         0.986301    0.000000   \n 8               101         101         574         0.986301    0.276712   \n 9                 0           0         574         0.986301    0.000000   \n 10                0           0         574         0.986301    0.000000   \n 11                1           1         574         0.986301    0.002740   \n 12              101         101         574         0.986301    0.276712   \n 13                0           0         574         0.986301    0.000000   \n 14                0           0         574         0.986301    0.000000   \n 15                0           0         574         0.986301    0.000000   \n 16                1           1         574         0.986301    0.002740   \n 17               12          12         574         0.986301    0.032877   \n 18              356         356         574         0.986301    0.975342   \n 19               52          52         574         0.986301    0.142466   \n 20                2           2         574         0.986301    0.005479   \n 21                3           2         574         0.986301    0.005479   \n 22                6           3         574         0.986301    0.008219   \n 23                0           0         574         0.986301    0.000000   \n \n     TimeAssociation  \n 0          0.000000  \n 1          0.001742  \n 2          0.003484  \n 3          0.001742  \n 4          0.000000  \n 5          0.000000  \n 6          0.000000  \n 7          0.000000  \n 8          0.175958  \n 9          0.000000  \n 10         0.000000  \n 11         0.001742  \n 12         0.175958  \n 13         0.000000  \n 14         0.000000  \n 15         0.000000  \n 16         0.001742  \n 17         0.020906  \n 18         0.620209  \n 19         0.090592  \n 20         0.003484  \n 21         0.005226  \n 22         0.010453  \n 23         0.000000  ,\n 'Load_StatusApplianceRangeHood':     TotalAbsSupport  AbsSupport  EventCount  ExternalUtility  RelSupport  \\\n 0                 0           0         565         0.986301    0.000000   \n 1                 1           1         565         0.986301    0.002740   \n 2                 2           2         565         0.986301    0.005479   \n 3                 1           1         565         0.986301    0.002740   \n 4                 0           0         565         0.986301    0.000000   \n 5                 0           0         565         0.986301    0.000000   \n 6                 0           0         565         0.986301    0.000000   \n 7                 0           0         565         0.986301    0.000000   \n 8               101         101         565         0.986301    0.276712   \n 9                 0           0         565         0.986301    0.000000   \n 10                0           0         565         0.986301    0.000000   \n 11                1           1         565         0.986301    0.002740   \n 12              101         101         565         0.986301    0.276712   \n 13                0           0         565         0.986301    0.000000   \n 14                0           0         565         0.986301    0.000000   \n 15                0           0         565         0.986301    0.000000   \n 16                1           1         565         0.986301    0.002740   \n 17               12          12         565         0.986301    0.032877   \n 18              356         356         565         0.986301    0.975342   \n 19               52          52         565         0.986301    0.142466   \n 20                1           1         565         0.986301    0.002740   \n 21                0           0         565         0.986301    0.000000   \n 22                0           0         565         0.986301    0.000000   \n 23                0           0         565         0.986301    0.000000   \n \n     TimeAssociation  \n 0          0.000000  \n 1          0.001770  \n 2          0.003540  \n 3          0.001770  \n 4          0.000000  \n 5          0.000000  \n 6          0.000000  \n 7          0.000000  \n 8          0.178761  \n 9          0.000000  \n 10         0.000000  \n 11         0.001770  \n 12         0.178761  \n 13         0.000000  \n 14         0.000000  \n 15         0.000000  \n 16         0.001770  \n 17         0.021239  \n 18         0.630088  \n 19         0.092035  \n 20         0.001770  \n 21         0.000000  \n 22         0.000000  \n 23         0.000000  ,\n 'Load_StatusPlugLoadBR2Laptop':     TotalAbsSupport  AbsSupport  EventCount  ExternalUtility  RelSupport  \\\n 0                 0           0         463         0.986301    0.000000   \n 1                 1           1         463         0.986301    0.002740   \n 2                 2           2         463         0.986301    0.005479   \n 3                 2           2         463         0.986301    0.005479   \n 4                 1           1         463         0.986301    0.002740   \n 5                 1           1         463         0.986301    0.002740   \n 6                 0           0         463         0.986301    0.000000   \n 7                 0           0         463         0.986301    0.000000   \n 8                 0           0         463         0.986301    0.000000   \n 9                 0           0         463         0.986301    0.000000   \n 10               96          96         463         0.986301    0.263014   \n 11              101         101         463         0.986301    0.276712   \n 12              101         101         463         0.986301    0.276712   \n 13                5           5         463         0.986301    0.013699   \n 14                0           0         463         0.986301    0.000000   \n 15                0           0         463         0.986301    0.000000   \n 16                0           0         463         0.986301    0.000000   \n 17               49          49         463         0.986301    0.134247   \n 18              360         360         463         0.986301    0.986301   \n 19              360         360         463         0.986301    0.986301   \n 20              309         309         463         0.986301    0.846575   \n 21              257         257         463         0.986301    0.704110   \n 22               14          14         463         0.986301    0.038356   \n 23                0           0         463         0.986301    0.000000   \n \n     TimeAssociation  \n 0          0.000000  \n 1          0.002160  \n 2          0.004320  \n 3          0.004320  \n 4          0.002160  \n 5          0.002160  \n 6          0.000000  \n 7          0.000000  \n 8          0.000000  \n 9          0.000000  \n 10         0.207343  \n 11         0.218143  \n 12         0.218143  \n 13         0.010799  \n 14         0.000000  \n 15         0.000000  \n 16         0.000000  \n 17         0.105832  \n 18         0.777538  \n 19         0.777538  \n 20         0.667387  \n 21         0.555076  \n 22         0.030238  \n 23         0.000000  ,\n 'Load_StatusPlugLoadBR3Laptop':     TotalAbsSupport  AbsSupport  EventCount  ExternalUtility  RelSupport  \\\n 0                 0           0         365         0.989041    0.000000   \n 1                 1           1         365         0.989041    0.002740   \n 2                 2           2         365         0.989041    0.005479   \n 3                 2           2         365         0.989041    0.005479   \n 4                 1           1         365         0.989041    0.002740   \n 5                 0           0         365         0.989041    0.000000   \n 6                 0           0         365         0.989041    0.000000   \n 7                 0           0         365         0.989041    0.000000   \n 8                 0           0         365         0.989041    0.000000   \n 9                 0           0         365         0.989041    0.000000   \n 10                0           0         365         0.989041    0.000000   \n 11                0           0         365         0.989041    0.000000   \n 12                0           0         365         0.989041    0.000000   \n 13                0           0         365         0.989041    0.000000   \n 14                0           0         365         0.989041    0.000000   \n 15                0           0         365         0.989041    0.000000   \n 16                0           0         365         0.989041    0.000000   \n 17               49          49         365         0.989041    0.134247   \n 18              360         360         365         0.989041    0.986301   \n 19              360         360         365         0.989041    0.986301   \n 20              309         309         365         0.989041    0.846575   \n 21                2           2         365         0.989041    0.005479   \n 22                1           1         365         0.989041    0.002740   \n 23                3           3         365         0.989041    0.008219   \n \n     TimeAssociation  \n 0          0.000000  \n 1          0.002740  \n 2          0.005479  \n 3          0.005479  \n 4          0.002740  \n 5          0.000000  \n 6          0.000000  \n 7          0.000000  \n 8          0.000000  \n 9          0.000000  \n 10         0.000000  \n 11         0.000000  \n 12         0.000000  \n 13         0.000000  \n 14         0.000000  \n 15         0.000000  \n 16         0.000000  \n 17         0.134247  \n 18         0.986301  \n 19         0.986301  \n 20         0.846575  \n 21         0.005479  \n 22         0.002740  \n 23         0.008219  ,\n 'Load_StatusPlugLoadDesktopPCMonitor':     TotalAbsSupport  AbsSupport  EventCount  ExternalUtility  RelSupport  \\\n 0                 1           1         360         0.983562    0.002740   \n 1                 1           1         360         0.983562    0.002740   \n 2                 1           1         360         0.983562    0.002740   \n 3                 0           0         360         0.983562    0.000000   \n 4                 0           0         360         0.983562    0.000000   \n 5                 0           0         360         0.983562    0.000000   \n 6                 0           0         360         0.983562    0.000000   \n 7                 0           0         360         0.983562    0.000000   \n 8               101         101         360         0.983562    0.276712   \n 9               101         101         360         0.983562    0.276712   \n 10              101         101         360         0.983562    0.276712   \n 11              101         101         360         0.983562    0.276712   \n 12              101         101         360         0.983562    0.276712   \n 13              101         101         360         0.983562    0.276712   \n 14              101         101         360         0.983562    0.276712   \n 15              101         101         360         0.983562    0.276712   \n 16              102         102         360         0.983562    0.279452   \n 17              102         102         360         0.983562    0.279452   \n 18              308         308         360         0.983562    0.843836   \n 19              258         258         360         0.983562    0.706849   \n 20              257         257         360         0.983562    0.704110   \n 21              255         255         360         0.983562    0.698630   \n 22              255         255         360         0.983562    0.698630   \n 23                1           1         360         0.983562    0.002740   \n \n     TimeAssociation  \n 0          0.002778  \n 1          0.002778  \n 2          0.002778  \n 3          0.000000  \n 4          0.000000  \n 5          0.000000  \n 6          0.000000  \n 7          0.000000  \n 8          0.280556  \n 9          0.280556  \n 10         0.280556  \n 11         0.280556  \n 12         0.280556  \n 13         0.280556  \n 14         0.280556  \n 15         0.280556  \n 16         0.283333  \n 17         0.283333  \n 18         0.855556  \n 19         0.716667  \n 20         0.713889  \n 21         0.708333  \n 22         0.708333  \n 23         0.002778  ,\n 'Load_StatusSensHeatChildBUP':     TotalAbsSupport  AbsSupport  EventCount  ExternalUtility  RelSupport  \\\n 0               355         355        1235              1.0    0.972603   \n 1               355         355        1235              1.0    0.972603   \n 2               356         356        1235              1.0    0.975342   \n 3               356         356        1235              1.0    0.975342   \n 4               356         356        1235              1.0    0.975342   \n 5               356         356        1235              1.0    0.975342   \n 6               356         356        1235              1.0    0.975342   \n 7               124         122        1235              1.0    0.334247   \n 8               104         104        1235              1.0    0.284932   \n 9                 9           9        1235              1.0    0.024658   \n 10                2           2        1235              1.0    0.005479   \n 11                2           2        1235              1.0    0.005479   \n 12              103         103        1235              1.0    0.282192   \n 13                7           7        1235              1.0    0.019178   \n 14                1           1        1235              1.0    0.002740   \n 15                1           1        1235              1.0    0.002740   \n 16                1           1        1235              1.0    0.002740   \n 17               49          49        1235              1.0    0.134247   \n 18              360         360        1235              1.0    0.986301   \n 19              361         360        1235              1.0    0.986301   \n 20              360         360        1235              1.0    0.986301   \n 21              356         356        1235              1.0    0.975342   \n 22              358         358        1235              1.0    0.980822   \n 23              357         357        1235              1.0    0.978082   \n \n     TimeAssociation  \n 0          0.287449  \n 1          0.287449  \n 2          0.288259  \n 3          0.288259  \n 4          0.288259  \n 5          0.288259  \n 6          0.288259  \n 7          0.100405  \n 8          0.084211  \n 9          0.007287  \n 10         0.001619  \n 11         0.001619  \n 12         0.083401  \n 13         0.005668  \n 14         0.000810  \n 15         0.000810  \n 16         0.000810  \n 17         0.039676  \n 18         0.291498  \n 19         0.292308  \n 20         0.291498  \n 21         0.288259  \n 22         0.289879  \n 23         0.289069  ,\n 'Load_StatusPlugLoadCanOpener':     TotalAbsSupport  AbsSupport  EventCount  ExternalUtility  RelSupport  \\\n 0                 0           0         368         0.989041    0.000000   \n 1                 0           0         368         0.989041    0.000000   \n 2                 2           2         368         0.989041    0.005479   \n 3                 0           0         368         0.989041    0.000000   \n 4                 0           0         368         0.989041    0.000000   \n 5                 0           0         368         0.989041    0.000000   \n 6                 0           0         368         0.989041    0.000000   \n 7                 0           0         368         0.989041    0.000000   \n 8                 0           0         368         0.989041    0.000000   \n 9                 0           0         368         0.989041    0.000000   \n 10                0           0         368         0.989041    0.000000   \n 11                0           0         368         0.989041    0.000000   \n 12                0           0         368         0.989041    0.000000   \n 13                0           0         368         0.989041    0.000000   \n 14                0           0         368         0.989041    0.000000   \n 15                0           0         368         0.989041    0.000000   \n 16                0           0         368         0.989041    0.000000   \n 17                0           0         368         0.989041    0.000000   \n 18              309         309         368         0.989041    0.846575   \n 19               51          51         368         0.989041    0.139726   \n 20                2           2         368         0.989041    0.005479   \n 21                2           2         368         0.989041    0.005479   \n 22                3           3         368         0.989041    0.008219   \n 23                6           6         368         0.989041    0.016438   \n \n     TimeAssociation  \n 0          0.000000  \n 1          0.000000  \n 2          0.005435  \n 3          0.000000  \n 4          0.000000  \n 5          0.000000  \n 6          0.000000  \n 7          0.000000  \n 8          0.000000  \n 9          0.000000  \n 10         0.000000  \n 11         0.000000  \n 12         0.000000  \n 13         0.000000  \n 14         0.000000  \n 15         0.000000  \n 16         0.000000  \n 17         0.000000  \n 18         0.839674  \n 19         0.138587  \n 20         0.005435  \n 21         0.005435  \n 22         0.008152  \n 23         0.016304  ,\n 'Load_StatusPlugLoadHandMixer':     TotalAbsSupport  AbsSupport  EventCount  ExternalUtility  RelSupport  \\\n 0                 0           0         362         0.989041    0.000000   \n 1                 0           0         362         0.989041    0.000000   \n 2                 2           2         362         0.989041    0.005479   \n 3                 0           0         362         0.989041    0.000000   \n 4                 0           0         362         0.989041    0.000000   \n 5                 0           0         362         0.989041    0.000000   \n 6                 0           0         362         0.989041    0.000000   \n 7                 0           0         362         0.989041    0.000000   \n 8                 0           0         362         0.989041    0.000000   \n 9                 0           0         362         0.989041    0.000000   \n 10                0           0         362         0.989041    0.000000   \n 11                0           0         362         0.989041    0.000000   \n 12                0           0         362         0.989041    0.000000   \n 13                0           0         362         0.989041    0.000000   \n 14                0           0         362         0.989041    0.000000   \n 15                0           0         362         0.989041    0.000000   \n 16                0           0         362         0.989041    0.000000   \n 17                0           0         362         0.989041    0.000000   \n 18              309         309         362         0.989041    0.846575   \n 19               51          51         362         0.989041    0.139726   \n 20                0           0         362         0.989041    0.000000   \n 21                0           0         362         0.989041    0.000000   \n 22                0           0         362         0.989041    0.000000   \n 23                0           0         362         0.989041    0.000000   \n \n     TimeAssociation  \n 0          0.000000  \n 1          0.000000  \n 2          0.005525  \n 3          0.000000  \n 4          0.000000  \n 5          0.000000  \n 6          0.000000  \n 7          0.000000  \n 8          0.000000  \n 9          0.000000  \n 10         0.000000  \n 11         0.000000  \n 12         0.000000  \n 13         0.000000  \n 14         0.000000  \n 15         0.000000  \n 16         0.000000  \n 17         0.000000  \n 18         0.853591  \n 19         0.140884  \n 20         0.000000  \n 21         0.000000  \n 22         0.000000  \n 23         0.000000  ,\n 'Load_StatusApplianceDishwasher':     TotalAbsSupport  AbsSupport  EventCount  ExternalUtility  RelSupport  \\\n 0                 0           0         259          0.70411    0.000000   \n 1                 0           0         259          0.70411    0.000000   \n 2                 0           0         259          0.70411    0.000000   \n 3                 0           0         259          0.70411    0.000000   \n 4                 2           2         259          0.70411    0.005479   \n 5                 2           2         259          0.70411    0.005479   \n 6                 2           2         259          0.70411    0.005479   \n 7                 0           0         259          0.70411    0.000000   \n 8                 0           0         259          0.70411    0.000000   \n 9                 0           0         259          0.70411    0.000000   \n 10                0           0         259          0.70411    0.000000   \n 11                0           0         259          0.70411    0.000000   \n 12                0           0         259          0.70411    0.000000   \n 13                0           0         259          0.70411    0.000000   \n 14                0           0         259          0.70411    0.000000   \n 15                0           0         259          0.70411    0.000000   \n 16                0           0         259          0.70411    0.000000   \n 17                0           0         259          0.70411    0.000000   \n 18                0           0         259          0.70411    0.000000   \n 19                1           1         259          0.70411    0.002740   \n 20              252         252         259          0.70411    0.690411   \n 21              253         253         259          0.70411    0.693151   \n 22              252         252         259          0.70411    0.690411   \n 23               50          50         259          0.70411    0.136986   \n \n     TimeAssociation  \n 0          0.000000  \n 1          0.000000  \n 2          0.000000  \n 3          0.000000  \n 4          0.007722  \n 5          0.007722  \n 6          0.007722  \n 7          0.000000  \n 8          0.000000  \n 9          0.000000  \n 10         0.000000  \n 11         0.000000  \n 12         0.000000  \n 13         0.000000  \n 14         0.000000  \n 15         0.000000  \n 16         0.000000  \n 17         0.000000  \n 18         0.000000  \n 19         0.003861  \n 20         0.972973  \n 21         0.976834  \n 22         0.972973  \n 23         0.193050  ,\n 'Load_StatusPlugLoadFan':     TotalAbsSupport  AbsSupport  EventCount  ExternalUtility  RelSupport  \\\n 0                 0           0         358         0.978082    0.000000   \n 1                 0           0         358         0.978082    0.000000   \n 2                 0           0         358         0.978082    0.000000   \n 3                 0           0         358         0.978082    0.000000   \n 4                 0           0         358         0.978082    0.000000   \n 5                 1           1         358         0.978082    0.002740   \n 6                 1           1         358         0.978082    0.002740   \n 7                 2           2         358         0.978082    0.005479   \n 8                 0           0         358         0.978082    0.000000   \n 9                 0           0         358         0.978082    0.000000   \n 10                0           0         358         0.978082    0.000000   \n 11                0           0         358         0.978082    0.000000   \n 12                0           0         358         0.978082    0.000000   \n 13                0           0         358         0.978082    0.000000   \n 14                0           0         358         0.978082    0.000000   \n 15                0           0         358         0.978082    0.000000   \n 16                0           0         358         0.978082    0.000000   \n 17                0           0         358         0.978082    0.000000   \n 18                0           0         358         0.978082    0.000000   \n 19                0           0         358         0.978082    0.000000   \n 20                0           0         358         0.978082    0.000000   \n 21              188         188         358         0.978082    0.515068   \n 22              196         196         358         0.978082    0.536986   \n 23              295         295         358         0.978082    0.808219   \n \n     TimeAssociation  \n 0          0.000000  \n 1          0.000000  \n 2          0.000000  \n 3          0.000000  \n 4          0.000000  \n 5          0.002793  \n 6          0.002793  \n 7          0.005587  \n 8          0.000000  \n 9          0.000000  \n 10         0.000000  \n 11         0.000000  \n 12         0.000000  \n 13         0.000000  \n 14         0.000000  \n 15         0.000000  \n 16         0.000000  \n 17         0.000000  \n 18         0.000000  \n 19         0.000000  \n 20         0.000000  \n 21         0.525140  \n 22         0.547486  \n 23         0.824022  ,\n 'Load_StatusPlugLoadHeatingPad':     TotalAbsSupport  AbsSupport  EventCount  ExternalUtility  RelSupport  \\\n 0                 0           0         358         0.978082    0.000000   \n 1                 0           0         358         0.978082    0.000000   \n 2                 0           0         358         0.978082    0.000000   \n 3                 0           0         358         0.978082    0.000000   \n 4                 0           0         358         0.978082    0.000000   \n 5                 1           1         358         0.978082    0.002740   \n 6                 1           1         358         0.978082    0.002740   \n 7                 1           1         358         0.978082    0.002740   \n 8                 0           0         358         0.978082    0.000000   \n 9                 0           0         358         0.978082    0.000000   \n 10                0           0         358         0.978082    0.000000   \n 11                0           0         358         0.978082    0.000000   \n 12                0           0         358         0.978082    0.000000   \n 13                0           0         358         0.978082    0.000000   \n 14                0           0         358         0.978082    0.000000   \n 15                0           0         358         0.978082    0.000000   \n 16                0           0         358         0.978082    0.000000   \n 17                0           0         358         0.978082    0.000000   \n 18                0           0         358         0.978082    0.000000   \n 19                0           0         358         0.978082    0.000000   \n 20                0           0         358         0.978082    0.000000   \n 21              242         242         358         0.978082    0.663014   \n 22              256         256         358         0.978082    0.701370   \n 23              100         100         358         0.978082    0.273973   \n \n     TimeAssociation  \n 0          0.000000  \n 1          0.000000  \n 2          0.000000  \n 3          0.000000  \n 4          0.000000  \n 5          0.002793  \n 6          0.002793  \n 7          0.002793  \n 8          0.000000  \n 9          0.000000  \n 10         0.000000  \n 11         0.000000  \n 12         0.000000  \n 13         0.000000  \n 14         0.000000  \n 15         0.000000  \n 16         0.000000  \n 17         0.000000  \n 18         0.000000  \n 19         0.000000  \n 20         0.000000  \n 21         0.675978  \n 22         0.715084  \n 23         0.279330  ,\n 'Load_StatusPlugLoadSlowCooker':     TotalAbsSupport  AbsSupport  EventCount  ExternalUtility  RelSupport  \\\n 0                 0           0         102         0.279452    0.000000   \n 1                 0           0         102         0.279452    0.000000   \n 2                 0           0         102         0.279452    0.000000   \n 3                 0           0         102         0.279452    0.000000   \n 4                 0           0         102         0.279452    0.000000   \n 5                 0           0         102         0.279452    0.000000   \n 6                 0           0         102         0.279452    0.000000   \n 7                 0           0         102         0.279452    0.000000   \n 8                52          52         102         0.279452    0.142466   \n 9               102         102         102         0.279452    0.279452   \n 10               50          50         102         0.279452    0.136986   \n 11                0           0         102         0.279452    0.000000   \n 12                0           0         102         0.279452    0.000000   \n 13                0           0         102         0.279452    0.000000   \n 14                0           0         102         0.279452    0.000000   \n 15                0           0         102         0.279452    0.000000   \n 16                0           0         102         0.279452    0.000000   \n 17                0           0         102         0.279452    0.000000   \n 18                0           0         102         0.279452    0.000000   \n 19                0           0         102         0.279452    0.000000   \n 20                0           0         102         0.279452    0.000000   \n 21                0           0         102         0.279452    0.000000   \n 22                0           0         102         0.279452    0.000000   \n 23                0           0         102         0.279452    0.000000   \n \n     TimeAssociation  \n 0          0.000000  \n 1          0.000000  \n 2          0.000000  \n 3          0.000000  \n 4          0.000000  \n 5          0.000000  \n 6          0.000000  \n 7          0.000000  \n 8          0.509804  \n 9          1.000000  \n 10         0.490196  \n 11         0.000000  \n 12         0.000000  \n 13         0.000000  \n 14         0.000000  \n 15         0.000000  \n 16         0.000000  \n 17         0.000000  \n 18         0.000000  \n 19         0.000000  \n 20         0.000000  \n 21         0.000000  \n 22         0.000000  \n 23         0.000000  ,\n 'Load_StatusDryerPowerTotal':     TotalAbsSupport  AbsSupport  EventCount  ExternalUtility  RelSupport  \\\n 0                 0           0         270         0.452055    0.000000   \n 1                 0           0         270         0.452055    0.000000   \n 2                 0           0         270         0.452055    0.000000   \n 3                 0           0         270         0.452055    0.000000   \n 4                 0           0         270         0.452055    0.000000   \n 5                 0           0         270         0.452055    0.000000   \n 6                 0           0         270         0.452055    0.000000   \n 7                 2           2         270         0.452055    0.005479   \n 8                 3           3         270         0.452055    0.008219   \n 9                 1           1         270         0.452055    0.002740   \n 10                2           2         270         0.452055    0.005479   \n 11                1           1         270         0.452055    0.002740   \n 12              101         101         270         0.452055    0.276712   \n 13              102         102         270         0.452055    0.279452   \n 14               42          42         270         0.452055    0.115068   \n 15              104         103         270         0.452055    0.282192   \n 16                0           0         270         0.452055    0.000000   \n 17                0           0         270         0.452055    0.000000   \n 18                2           2         270         0.452055    0.005479   \n 19                0           0         270         0.452055    0.000000   \n 20               53          53         270         0.452055    0.145205   \n 21               51          51         270         0.452055    0.139726   \n 22                1           1         270         0.452055    0.002740   \n 23                1           1         270         0.452055    0.002740   \n \n     TimeAssociation  \n 0          0.000000  \n 1          0.000000  \n 2          0.000000  \n 3          0.000000  \n 4          0.000000  \n 5          0.000000  \n 6          0.000000  \n 7          0.007407  \n 8          0.011111  \n 9          0.003704  \n 10         0.007407  \n 11         0.003704  \n 12         0.374074  \n 13         0.377778  \n 14         0.155556  \n 15         0.385185  \n 16         0.000000  \n 17         0.000000  \n 18         0.007407  \n 19         0.000000  \n 20         0.196296  \n 21         0.188889  \n 22         0.003704  \n 23         0.003704  ,\n 'Load_StatusPlugLoadMBRBlueRay':     TotalAbsSupport  AbsSupport  EventCount  ExternalUtility  RelSupport  \\\n 0                 0           0         103         0.282192    0.000000   \n 1                 0           0         103         0.282192    0.000000   \n 2                 0           0         103         0.282192    0.000000   \n 3                 0           0         103         0.282192    0.000000   \n 4                 0           0         103         0.282192    0.000000   \n 5                 1           1         103         0.282192    0.002740   \n 6                 1           1         103         0.282192    0.002740   \n 7                 1           1         103         0.282192    0.002740   \n 8                 0           0         103         0.282192    0.000000   \n 9                 0           0         103         0.282192    0.000000   \n 10                0           0         103         0.282192    0.000000   \n 11                0           0         103         0.282192    0.000000   \n 12                0           0         103         0.282192    0.000000   \n 13                0           0         103         0.282192    0.000000   \n 14                0           0         103         0.282192    0.000000   \n 15                0           0         103         0.282192    0.000000   \n 16                0           0         103         0.282192    0.000000   \n 17                0           0         103         0.282192    0.000000   \n 18                0           0         103         0.282192    0.000000   \n 19                0           0         103         0.282192    0.000000   \n 20                0           0         103         0.282192    0.000000   \n 21               99          99         103         0.282192    0.271233   \n 22              102         102         103         0.282192    0.279452   \n 23              101         101         103         0.282192    0.276712   \n \n     TimeAssociation  \n 0          0.000000  \n 1          0.000000  \n 2          0.000000  \n 3          0.000000  \n 4          0.000000  \n 5          0.009709  \n 6          0.009709  \n 7          0.009709  \n 8          0.000000  \n 9          0.000000  \n 10         0.000000  \n 11         0.000000  \n 12         0.000000  \n 13         0.000000  \n 14         0.000000  \n 15         0.000000  \n 16         0.000000  \n 17         0.000000  \n 18         0.000000  \n 19         0.000000  \n 20         0.000000  \n 21         0.961165  \n 22         0.990291  \n 23         0.980583  ,\n 'Load_StatusPlugLoadVideoGame':     TotalAbsSupport  AbsSupport  EventCount  ExternalUtility  RelSupport  \\\n 0                 0           0         154         0.419178    0.000000   \n 1                 0           0         154         0.419178    0.000000   \n 2                 0           0         154         0.419178    0.000000   \n 3                 0           0         154         0.419178    0.000000   \n 4                 0           0         154         0.419178    0.000000   \n 5                 0           0         154         0.419178    0.000000   \n 6                 0           0         154         0.419178    0.000000   \n 7                 0           0         154         0.419178    0.000000   \n 8                 0           0         154         0.419178    0.000000   \n 9                95          95         154         0.419178    0.260274   \n 10              101         101         154         0.419178    0.276712   \n 11                5           5         154         0.419178    0.013699   \n 12                0           0         154         0.419178    0.000000   \n 13                0           0         154         0.419178    0.000000   \n 14                0           0         154         0.419178    0.000000   \n 15                0           0         154         0.419178    0.000000   \n 16                0           0         154         0.419178    0.000000   \n 17                1           1         154         0.419178    0.002740   \n 18                1           1         154         0.419178    0.002740   \n 19                1           1         154         0.419178    0.002740   \n 20               49          49         154         0.419178    0.134247   \n 21               51          51         154         0.419178    0.139726   \n 22                2           2         154         0.419178    0.005479   \n 23                0           0         154         0.419178    0.000000   \n \n     TimeAssociation  \n 0          0.000000  \n 1          0.000000  \n 2          0.000000  \n 3          0.000000  \n 4          0.000000  \n 5          0.000000  \n 6          0.000000  \n 7          0.000000  \n 8          0.000000  \n 9          0.616883  \n 10         0.655844  \n 11         0.032468  \n 12         0.000000  \n 13         0.000000  \n 14         0.000000  \n 15         0.000000  \n 16         0.000000  \n 17         0.006494  \n 18         0.006494  \n 19         0.006494  \n 20         0.318182  \n 21         0.331169  \n 22         0.012987  \n 23         0.000000  ,\n 'Load_StatusApplianceOven':     TotalAbsSupport  AbsSupport  EventCount  ExternalUtility  RelSupport  \\\n 0                 0           0         156         0.282192    0.000000   \n 1                 0           0         156         0.282192    0.000000   \n 2                 1           1         156         0.282192    0.002740   \n 3                 1           1         156         0.282192    0.002740   \n 4                 1           1         156         0.282192    0.002740   \n 5                 1           1         156         0.282192    0.002740   \n 6                 0           0         156         0.282192    0.000000   \n 7                 0           0         156         0.282192    0.000000   \n 8               101         101         156         0.282192    0.276712   \n 9               101         101         156         0.282192    0.276712   \n 10              101         101         156         0.282192    0.276712   \n 11                0           0         156         0.282192    0.000000   \n 12                0           0         156         0.282192    0.000000   \n 13                0           0         156         0.282192    0.000000   \n 14                0           0         156         0.282192    0.000000   \n 15                0           0         156         0.282192    0.000000   \n 16                1           1         156         0.282192    0.002740   \n 17                1           1         156         0.282192    0.002740   \n 18               50          50         156         0.282192    0.136986   \n 19               52          51         156         0.282192    0.139726   \n 20               52          52         156         0.282192    0.142466   \n 21               52          52         156         0.282192    0.142466   \n 22                1           1         156         0.282192    0.002740   \n 23                0           0         156         0.282192    0.000000   \n \n     TimeAssociation  \n 0          0.000000  \n 1          0.000000  \n 2          0.006410  \n 3          0.006410  \n 4          0.006410  \n 5          0.006410  \n 6          0.000000  \n 7          0.000000  \n 8          0.647436  \n 9          0.647436  \n 10         0.647436  \n 11         0.000000  \n 12         0.000000  \n 13         0.000000  \n 14         0.000000  \n 15         0.000000  \n 16         0.006410  \n 17         0.006410  \n 18         0.320513  \n 19         0.333333  \n 20         0.333333  \n 21         0.333333  \n 22         0.006410  \n 23         0.000000  ,\n 'Load_StatusClothesWasher':     TotalAbsSupport  AbsSupport  EventCount  ExternalUtility  RelSupport  \\\n 0                 0           0         311         0.424658    0.000000   \n 1                 0           0         311         0.424658    0.000000   \n 2                 0           0         311         0.424658    0.000000   \n 3                 0           0         311         0.424658    0.000000   \n 4                 0           0         311         0.424658    0.000000   \n 5                 0           0         311         0.424658    0.000000   \n 6                 0           0         311         0.424658    0.000000   \n 7                 0           0         311         0.424658    0.000000   \n 8                 2           1         311         0.424658    0.002740   \n 9                 0           0         311         0.424658    0.000000   \n 10               39          38         311         0.424658    0.104110   \n 11              102         101         311         0.424658    0.276712   \n 12               18          18         311         0.424658    0.049315   \n 13                0           0         311         0.424658    0.000000   \n 14              102         101         311         0.424658    0.276712   \n 15               97          97         311         0.424658    0.265753   \n 16                0           0         311         0.424658    0.000000   \n 17                0           0         311         0.424658    0.000000   \n 18               52          52         311         0.424658    0.142466   \n 19               51          51         311         0.424658    0.139726   \n 20               51          51         311         0.424658    0.139726   \n 21               50          50         311         0.424658    0.136986   \n 22                1           1         311         0.424658    0.002740   \n 23                1           1         311         0.424658    0.002740   \n \n     TimeAssociation  \n 0          0.000000  \n 1          0.000000  \n 2          0.000000  \n 3          0.000000  \n 4          0.000000  \n 5          0.000000  \n 6          0.000000  \n 7          0.000000  \n 8          0.006431  \n 9          0.000000  \n 10         0.125402  \n 11         0.327974  \n 12         0.057878  \n 13         0.000000  \n 14         0.327974  \n 15         0.311897  \n 16         0.000000  \n 17         0.000000  \n 18         0.167203  \n 19         0.163987  \n 20         0.163987  \n 21         0.160772  \n 22         0.003215  \n 23         0.003215  ,\n 'Load_StatusPlugLoadLRBlueRay':     TotalAbsSupport  AbsSupport  EventCount  ExternalUtility  RelSupport  \\\n 0                 2           2         104         0.282192    0.005479   \n 1                 0           0         104         0.282192    0.000000   \n 2                 0           0         104         0.282192    0.000000   \n 3                 0           0         104         0.282192    0.000000   \n 4                 0           0         104         0.282192    0.000000   \n 5                 0           0         104         0.282192    0.000000   \n 6                 0           0         104         0.282192    0.000000   \n 7                 0           0         104         0.282192    0.000000   \n 8                 0           0         104         0.282192    0.000000   \n 9                 0           0         104         0.282192    0.000000   \n 10                0           0         104         0.282192    0.000000   \n 11                0           0         104         0.282192    0.000000   \n 12                0           0         104         0.282192    0.000000   \n 13                0           0         104         0.282192    0.000000   \n 14               96          96         104         0.282192    0.263014   \n 15              101         101         104         0.282192    0.276712   \n 16              101         101         104         0.282192    0.276712   \n 17                0           0         104         0.282192    0.000000   \n 18                0           0         104         0.282192    0.000000   \n 19                0           0         104         0.282192    0.000000   \n 20                0           0         104         0.282192    0.000000   \n 21                0           0         104         0.282192    0.000000   \n 22                1           1         104         0.282192    0.002740   \n 23                1           1         104         0.282192    0.002740   \n \n     TimeAssociation  \n 0          0.019231  \n 1          0.000000  \n 2          0.000000  \n 3          0.000000  \n 4          0.000000  \n 5          0.000000  \n 6          0.000000  \n 7          0.000000  \n 8          0.000000  \n 9          0.000000  \n 10         0.000000  \n 11         0.000000  \n 12         0.000000  \n 13         0.000000  \n 14         0.923077  \n 15         0.971154  \n 16         0.971154  \n 17         0.000000  \n 18         0.000000  \n 19         0.000000  \n 20         0.000000  \n 21         0.000000  \n 22         0.009615  \n 23         0.009615  ,\n 'Load_StatusPlugLoadVacuum':     TotalAbsSupport  AbsSupport  EventCount  ExternalUtility  RelSupport  \\\n 0                 0           0          53         0.145205    0.000000   \n 1                 1           1          53         0.145205    0.002740   \n 2                 1           1          53         0.145205    0.002740   \n 3                 1           1          53         0.145205    0.002740   \n 4                 0           0          53         0.145205    0.000000   \n 5                 0           0          53         0.145205    0.000000   \n 6                 0           0          53         0.145205    0.000000   \n 7                 0           0          53         0.145205    0.000000   \n 8                 0           0          53         0.145205    0.000000   \n 9                 0           0          53         0.145205    0.000000   \n 10                0           0          53         0.145205    0.000000   \n 11                0           0          53         0.145205    0.000000   \n 12                0           0          53         0.145205    0.000000   \n 13                0           0          53         0.145205    0.000000   \n 14                0           0          53         0.145205    0.000000   \n 15                0           0          53         0.145205    0.000000   \n 16                0           0          53         0.145205    0.000000   \n 17               51          51          53         0.145205    0.139726   \n 18               51          51          53         0.145205    0.139726   \n 19               51          51          53         0.145205    0.139726   \n 20                1           1          53         0.145205    0.002740   \n 21                0           0          53         0.145205    0.000000   \n 22                0           0          53         0.145205    0.000000   \n 23                0           0          53         0.145205    0.000000   \n \n     TimeAssociation  \n 0          0.000000  \n 1          0.018868  \n 2          0.018868  \n 3          0.018868  \n 4          0.000000  \n 5          0.000000  \n 6          0.000000  \n 7          0.000000  \n 8          0.000000  \n 9          0.000000  \n 10         0.000000  \n 11         0.000000  \n 12         0.000000  \n 13         0.000000  \n 14         0.000000  \n 15         0.000000  \n 16         0.000000  \n 17         0.962264  \n 18         0.962264  \n 19         0.962264  \n 20         0.018868  \n 21         0.000000  \n 22         0.000000  \n 23         0.000000  ,\n 'Load_StatusPlugLoadIron':     TotalAbsSupport  AbsSupport  EventCount  ExternalUtility  RelSupport  \\\n 0                 0           0         103         0.279452    0.000000   \n 1                 1           1         103         0.279452    0.002740   \n 2                 1           1         103         0.279452    0.002740   \n 3                 0           0         103         0.279452    0.000000   \n 4                 0           0         103         0.279452    0.000000   \n 5                 0           0         103         0.279452    0.000000   \n 6                 0           0         103         0.279452    0.000000   \n 7                 0           0         103         0.279452    0.000000   \n 8                 0           0         103         0.279452    0.000000   \n 9                 0           0         103         0.279452    0.000000   \n 10                0           0         103         0.279452    0.000000   \n 11                0           0         103         0.279452    0.000000   \n 12                0           0         103         0.279452    0.000000   \n 13                0           0         103         0.279452    0.000000   \n 14               50          50         103         0.279452    0.136986   \n 15                0           0         103         0.279452    0.000000   \n 16                0           0         103         0.279452    0.000000   \n 17               49          49         103         0.279452    0.134247   \n 18               51          51         103         0.279452    0.139726   \n 19                0           0         103         0.279452    0.000000   \n 20                0           0         103         0.279452    0.000000   \n 21                0           0         103         0.279452    0.000000   \n 22                1           1         103         0.279452    0.002740   \n 23                0           0         103         0.279452    0.000000   \n \n     TimeAssociation  \n 0          0.000000  \n 1          0.009709  \n 2          0.009709  \n 3          0.000000  \n 4          0.000000  \n 5          0.000000  \n 6          0.000000  \n 7          0.000000  \n 8          0.000000  \n 9          0.000000  \n 10         0.000000  \n 11         0.000000  \n 12         0.000000  \n 13         0.000000  \n 14         0.485437  \n 15         0.000000  \n 16         0.000000  \n 17         0.475728  \n 18         0.495146  \n 19         0.000000  \n 20         0.000000  \n 21         0.000000  \n 22         0.009709  \n 23         0.000000  }"
     },
     "execution_count": 83,
     "metadata": {},
     "output_type": "execute_result"
    }
   ],
   "source": [
    "SE_time_df(level1_rules_year1)"
   ],
   "metadata": {
    "collapsed": false,
    "pycharm": {
     "name": "#%%\n"
    }
   }
  },
  {
   "cell_type": "code",
   "execution_count": 83,
   "outputs": [],
   "source": [],
   "metadata": {
    "collapsed": false,
    "pycharm": {
     "name": "#%%\n"
    }
   }
  },
  {
   "cell_type": "markdown",
   "source": [
    "## Association dependency (how dependent is an appliance on another appliance)"
   ],
   "metadata": {
    "collapsed": false
   }
  },
  {
   "cell_type": "code",
   "execution_count": 84,
   "outputs": [],
   "source": [
    "level2_rules_year1 = json_to_dataframe(year=1, level=2, exclude_follows=False)"
   ],
   "metadata": {
    "collapsed": false,
    "pycharm": {
     "name": "#%%\n"
    }
   }
  },
  {
   "cell_type": "code",
   "execution_count": 85,
   "outputs": [
    {
     "data": {
      "text/plain": "                                                     pattern      supp  \\\n0                 Load_StatusMBALights->Load_StatusMBALights  0.849315   \n1         Load_StatusMBALights->Load_StatusSensHeatPrntBDOWN  0.980822   \n2          Load_StatusMBALights>Load_StatusSensHeatPrntBDOWN  0.704110   \n3            Load_StatusMBALights>Load_StatusPlugLoadBlender  0.701370   \n4        Load_StatusMBALights>Load_StatusPlugLoadCoffeeMaker  0.701370   \n..                                                       ...       ...   \n624       Load_StatusApplianceOven->Load_StatusClothesWasher  0.276712   \n625      Load_StatusClothesWasher>Load_StatusDryerPowerTotal  0.405479   \n626    Load_StatusClothesWasher|Load_StatusPlugLoadLRBlueRay  0.268493   \n627  Load_StatusPlugLoadLRBlueRay>Load_StatusDryerPowerTotal  0.279452   \n628        Load_StatusPlugLoadVacuum>Load_StatusPlugLoadIron  0.142466   \n\n         conf  \\\n0    0.856354   \n1    0.988950   \n2    0.709945   \n3    0.707182   \n4    0.707182   \n..        ...   \n624  0.651613   \n625  0.896970   \n626  0.632258   \n627  0.618182   \n628  0.509804   \n\n                                                                                                                                                                                                        time  \\\n0    {'41': [[['2013-08-11 22:04:05', '2013-08-11 22:24:05'], ['2013-08-11 22:29:05', '2013-08-11 22:39:04']]], '144': [[['2013-11-22 03:30:09', '2013-11-22 03:33:09'], ['2013-11-22 03:59:09', '2013-11...   \n1    {'41': [[['2013-08-11 07:59:06', '2013-08-11 08:14:06'], ['2013-08-11 08:14:06', '2013-08-11 09:59:06']]], '144': [[['2013-11-22 06:29:09', '2013-11-22 06:44:09'], ['2013-11-22 06:59:09', '2013-11...   \n2    {'144': [[['2013-11-22 05:59:09', '2013-11-22 06:14:09'], ['2013-11-22 05:59:09', '2013-11-22 06:29:09']]], '135': [[['2013-11-13 05:59:04', '2013-11-13 06:14:04'], ['2013-11-13 05:59:04', '2013-1...   \n3    {'144': [[['2013-11-22 05:59:09', '2013-11-22 06:14:09'], ['2013-11-22 06:04:09', '2013-11-22 06:10:09']]], '135': [[['2013-11-13 05:59:04', '2013-11-13 06:14:04'], ['2013-11-13 06:04:04', '2013-1...   \n4    {'144': [[['2013-11-22 05:59:09', '2013-11-22 06:14:09'], ['2013-11-22 06:09:09', '2013-11-22 06:26:09']]], '135': [[['2013-11-13 05:59:04', '2013-11-13 06:14:04'], ['2013-11-13 06:09:04', '2013-1...   \n..                                                                                                                                                                                                       ...   \n624  {'194': [[['2014-01-11 08:14:15', '2014-01-11 10:39:15'], ['2014-01-11 11:00:15', '2014-01-11 12:00:15']]], '41': [[['2013-08-11 08:14:06', '2013-08-11 10:49:05'], ['2013-08-11 11:00:05', '2013-08...   \n625  {'194': [[['2014-01-11 14:30:15', '2014-01-11 15:38:15'], ['2014-01-11 15:00:15', '2014-01-11 15:41:15']]], '205': [[['2014-01-22 20:25:53', '2014-01-22 21:25:53'], ['2014-01-22 20:30:53', '2014-0...   \n626  {'194': [[['2014-01-11 14:30:15', '2014-01-11 15:38:15'], ['2014-01-11 14:59:15', '2014-01-11 16:29:14']]], '41': [[['2013-08-11 14:30:05', '2013-08-11 15:27:05'], ['2013-08-11 14:59:05', '2013-08...   \n627  {'194': [[['2014-01-11 14:59:15', '2014-01-11 16:29:14'], ['2014-01-11 15:00:15', '2014-01-11 15:41:15']]], '41': [[['2013-08-11 14:59:05', '2013-08-11 16:29:05'], ['2013-08-11 14:59:05', '2013-08...   \n628  {'159': [[['2013-12-07 17:29:23', '2013-12-07 19:18:23'], ['2013-12-07 17:59:23', '2013-12-07 18:23:23']]], '194': [[['2014-01-11 17:29:14', '2014-01-11 19:17:14'], ['2014-01-11 17:59:14', '2014-0...   \n\n        rule multi_floor     floor  \n0    app_app       False  2ndFloor  \n1    psn_app        True     multi  \n2    psn_app        True     multi  \n3    app_app        True     multi  \n4    app_app        True     multi  \n..       ...         ...       ...  \n624  app_app       False  1stFloor  \n625  app_app       False  1stFloor  \n626  app_app       False  1stFloor  \n627  app_app       False  1stFloor  \n628  app_app        True     multi  \n\n[629 rows x 7 columns]",
      "text/html": "<div>\n<style scoped>\n    .dataframe tbody tr th:only-of-type {\n        vertical-align: middle;\n    }\n\n    .dataframe tbody tr th {\n        vertical-align: top;\n    }\n\n    .dataframe thead th {\n        text-align: right;\n    }\n</style>\n<table border=\"1\" class=\"dataframe\">\n  <thead>\n    <tr style=\"text-align: right;\">\n      <th></th>\n      <th>pattern</th>\n      <th>supp</th>\n      <th>conf</th>\n      <th>time</th>\n      <th>rule</th>\n      <th>multi_floor</th>\n      <th>floor</th>\n    </tr>\n  </thead>\n  <tbody>\n    <tr>\n      <th>0</th>\n      <td>Load_StatusMBALights-&gt;Load_StatusMBALights</td>\n      <td>0.849315</td>\n      <td>0.856354</td>\n      <td>{'41': [[['2013-08-11 22:04:05', '2013-08-11 22:24:05'], ['2013-08-11 22:29:05', '2013-08-11 22:39:04']]], '144': [[['2013-11-22 03:30:09', '2013-11-22 03:33:09'], ['2013-11-22 03:59:09', '2013-11...</td>\n      <td>app_app</td>\n      <td>False</td>\n      <td>2ndFloor</td>\n    </tr>\n    <tr>\n      <th>1</th>\n      <td>Load_StatusMBALights-&gt;Load_StatusSensHeatPrntBDOWN</td>\n      <td>0.980822</td>\n      <td>0.988950</td>\n      <td>{'41': [[['2013-08-11 07:59:06', '2013-08-11 08:14:06'], ['2013-08-11 08:14:06', '2013-08-11 09:59:06']]], '144': [[['2013-11-22 06:29:09', '2013-11-22 06:44:09'], ['2013-11-22 06:59:09', '2013-11...</td>\n      <td>psn_app</td>\n      <td>True</td>\n      <td>multi</td>\n    </tr>\n    <tr>\n      <th>2</th>\n      <td>Load_StatusMBALights&gt;Load_StatusSensHeatPrntBDOWN</td>\n      <td>0.704110</td>\n      <td>0.709945</td>\n      <td>{'144': [[['2013-11-22 05:59:09', '2013-11-22 06:14:09'], ['2013-11-22 05:59:09', '2013-11-22 06:29:09']]], '135': [[['2013-11-13 05:59:04', '2013-11-13 06:14:04'], ['2013-11-13 05:59:04', '2013-1...</td>\n      <td>psn_app</td>\n      <td>True</td>\n      <td>multi</td>\n    </tr>\n    <tr>\n      <th>3</th>\n      <td>Load_StatusMBALights&gt;Load_StatusPlugLoadBlender</td>\n      <td>0.701370</td>\n      <td>0.707182</td>\n      <td>{'144': [[['2013-11-22 05:59:09', '2013-11-22 06:14:09'], ['2013-11-22 06:04:09', '2013-11-22 06:10:09']]], '135': [[['2013-11-13 05:59:04', '2013-11-13 06:14:04'], ['2013-11-13 06:04:04', '2013-1...</td>\n      <td>app_app</td>\n      <td>True</td>\n      <td>multi</td>\n    </tr>\n    <tr>\n      <th>4</th>\n      <td>Load_StatusMBALights&gt;Load_StatusPlugLoadCoffeeMaker</td>\n      <td>0.701370</td>\n      <td>0.707182</td>\n      <td>{'144': [[['2013-11-22 05:59:09', '2013-11-22 06:14:09'], ['2013-11-22 06:09:09', '2013-11-22 06:26:09']]], '135': [[['2013-11-13 05:59:04', '2013-11-13 06:14:04'], ['2013-11-13 06:09:04', '2013-1...</td>\n      <td>app_app</td>\n      <td>True</td>\n      <td>multi</td>\n    </tr>\n    <tr>\n      <th>...</th>\n      <td>...</td>\n      <td>...</td>\n      <td>...</td>\n      <td>...</td>\n      <td>...</td>\n      <td>...</td>\n      <td>...</td>\n    </tr>\n    <tr>\n      <th>624</th>\n      <td>Load_StatusApplianceOven-&gt;Load_StatusClothesWasher</td>\n      <td>0.276712</td>\n      <td>0.651613</td>\n      <td>{'194': [[['2014-01-11 08:14:15', '2014-01-11 10:39:15'], ['2014-01-11 11:00:15', '2014-01-11 12:00:15']]], '41': [[['2013-08-11 08:14:06', '2013-08-11 10:49:05'], ['2013-08-11 11:00:05', '2013-08...</td>\n      <td>app_app</td>\n      <td>False</td>\n      <td>1stFloor</td>\n    </tr>\n    <tr>\n      <th>625</th>\n      <td>Load_StatusClothesWasher&gt;Load_StatusDryerPowerTotal</td>\n      <td>0.405479</td>\n      <td>0.896970</td>\n      <td>{'194': [[['2014-01-11 14:30:15', '2014-01-11 15:38:15'], ['2014-01-11 15:00:15', '2014-01-11 15:41:15']]], '205': [[['2014-01-22 20:25:53', '2014-01-22 21:25:53'], ['2014-01-22 20:30:53', '2014-0...</td>\n      <td>app_app</td>\n      <td>False</td>\n      <td>1stFloor</td>\n    </tr>\n    <tr>\n      <th>626</th>\n      <td>Load_StatusClothesWasher|Load_StatusPlugLoadLRBlueRay</td>\n      <td>0.268493</td>\n      <td>0.632258</td>\n      <td>{'194': [[['2014-01-11 14:30:15', '2014-01-11 15:38:15'], ['2014-01-11 14:59:15', '2014-01-11 16:29:14']]], '41': [[['2013-08-11 14:30:05', '2013-08-11 15:27:05'], ['2013-08-11 14:59:05', '2013-08...</td>\n      <td>app_app</td>\n      <td>False</td>\n      <td>1stFloor</td>\n    </tr>\n    <tr>\n      <th>627</th>\n      <td>Load_StatusPlugLoadLRBlueRay&gt;Load_StatusDryerPowerTotal</td>\n      <td>0.279452</td>\n      <td>0.618182</td>\n      <td>{'194': [[['2014-01-11 14:59:15', '2014-01-11 16:29:14'], ['2014-01-11 15:00:15', '2014-01-11 15:41:15']]], '41': [[['2013-08-11 14:59:05', '2013-08-11 16:29:05'], ['2013-08-11 14:59:05', '2013-08...</td>\n      <td>app_app</td>\n      <td>False</td>\n      <td>1stFloor</td>\n    </tr>\n    <tr>\n      <th>628</th>\n      <td>Load_StatusPlugLoadVacuum&gt;Load_StatusPlugLoadIron</td>\n      <td>0.142466</td>\n      <td>0.509804</td>\n      <td>{'159': [[['2013-12-07 17:29:23', '2013-12-07 19:18:23'], ['2013-12-07 17:59:23', '2013-12-07 18:23:23']]], '194': [[['2014-01-11 17:29:14', '2014-01-11 19:17:14'], ['2014-01-11 17:59:14', '2014-0...</td>\n      <td>app_app</td>\n      <td>True</td>\n      <td>multi</td>\n    </tr>\n  </tbody>\n</table>\n<p>629 rows × 7 columns</p>\n</div>"
     },
     "execution_count": 85,
     "metadata": {},
     "output_type": "execute_result"
    }
   ],
   "source": [
    "level2_rules_year1"
   ],
   "metadata": {
    "collapsed": false,
    "pycharm": {
     "name": "#%%\n"
    }
   }
  },
  {
   "cell_type": "code",
   "execution_count": 86,
   "outputs": [
    {
     "data": {
      "text/plain": "                                                     pattern      supp  \\\n3            Load_StatusMBALights>Load_StatusPlugLoadBlender  0.701370   \n4        Load_StatusMBALights>Load_StatusPlugLoadCoffeeMaker  0.701370   \n6       Load_StatusMBALights->Load_StatusPlugLoadToasterOven  0.701370   \n8           Load_StatusMBALights->Load_StatusPlugLoadToaster  0.701370   \n11             Load_StatusMBALights->Load_StatusPlugLoadLRTV  0.986301   \n..                                                       ...       ...   \n623    Load_StatusApplianceOven>Load_StatusPlugLoadVideoGame  0.279452   \n624       Load_StatusApplianceOven->Load_StatusClothesWasher  0.276712   \n625      Load_StatusClothesWasher>Load_StatusDryerPowerTotal  0.405479   \n626    Load_StatusClothesWasher|Load_StatusPlugLoadLRBlueRay  0.268493   \n627  Load_StatusPlugLoadLRBlueRay>Load_StatusDryerPowerTotal  0.279452   \n\n         conf  \\\n3    0.707182   \n4    0.707182   \n6    0.707182   \n8    0.707182   \n11   0.994475   \n..        ...   \n623  0.666667   \n624  0.651613   \n625  0.896970   \n626  0.632258   \n627  0.618182   \n\n                                                                                                                                                                                                        time  \\\n3    {'144': [[['2013-11-22 05:59:09', '2013-11-22 06:14:09'], ['2013-11-22 06:04:09', '2013-11-22 06:10:09']]], '135': [[['2013-11-13 05:59:04', '2013-11-13 06:14:04'], ['2013-11-13 06:04:04', '2013-1...   \n4    {'144': [[['2013-11-22 05:59:09', '2013-11-22 06:14:09'], ['2013-11-22 06:09:09', '2013-11-22 06:26:09']]], '135': [[['2013-11-13 05:59:04', '2013-11-13 06:14:04'], ['2013-11-13 06:09:04', '2013-1...   \n6    {'144': [[['2013-11-22 05:59:09', '2013-11-22 06:14:09'], ['2013-11-22 06:14:09', '2013-11-22 06:24:09']]], '135': [[['2013-11-13 05:59:04', '2013-11-13 06:14:04'], ['2013-11-13 06:14:04', '2013-1...   \n8    {'144': [[['2013-11-22 05:59:09', '2013-11-22 06:14:09'], ['2013-11-22 06:19:09', '2013-11-22 06:30:09']]], '135': [[['2013-11-13 05:59:04', '2013-11-13 06:14:04'], ['2013-11-13 06:19:04', '2013-1...   \n11   {'41': [[['2013-08-11 07:59:06', '2013-08-11 08:14:06'], ['2013-08-11 08:29:06', '2013-08-11 10:29:05']], [['2013-08-11 18:00:05', '2013-08-11 18:05:05'], ['2013-08-11 18:09:05', '2013-08-11 22:39...   \n..                                                                                                                                                                                                       ...   \n623  {'194': [[['2014-01-11 08:14:15', '2014-01-11 10:39:15'], ['2014-01-11 09:59:15', '2014-01-11 10:59:15']]], '41': [[['2013-08-11 08:14:06', '2013-08-11 10:49:05'], ['2013-08-11 09:59:06', '2013-08...   \n624  {'194': [[['2014-01-11 08:14:15', '2014-01-11 10:39:15'], ['2014-01-11 11:00:15', '2014-01-11 12:00:15']]], '41': [[['2013-08-11 08:14:06', '2013-08-11 10:49:05'], ['2013-08-11 11:00:05', '2013-08...   \n625  {'194': [[['2014-01-11 14:30:15', '2014-01-11 15:38:15'], ['2014-01-11 15:00:15', '2014-01-11 15:41:15']]], '205': [[['2014-01-22 20:25:53', '2014-01-22 21:25:53'], ['2014-01-22 20:30:53', '2014-0...   \n626  {'194': [[['2014-01-11 14:30:15', '2014-01-11 15:38:15'], ['2014-01-11 14:59:15', '2014-01-11 16:29:14']]], '41': [[['2013-08-11 14:30:05', '2013-08-11 15:27:05'], ['2013-08-11 14:59:05', '2013-08...   \n627  {'194': [[['2014-01-11 14:59:15', '2014-01-11 16:29:14'], ['2014-01-11 15:00:15', '2014-01-11 15:41:15']]], '41': [[['2013-08-11 14:59:05', '2013-08-11 16:29:05'], ['2013-08-11 14:59:05', '2013-08...   \n\n        rule multi_floor     floor  \n3    app_app        True     multi  \n4    app_app        True     multi  \n6    app_app        True     multi  \n8    app_app        True     multi  \n11   app_app        True     multi  \n..       ...         ...       ...  \n623  app_app       False  1stFloor  \n624  app_app       False  1stFloor  \n625  app_app       False  1stFloor  \n626  app_app       False  1stFloor  \n627  app_app       False  1stFloor  \n\n[311 rows x 7 columns]",
      "text/html": "<div>\n<style scoped>\n    .dataframe tbody tr th:only-of-type {\n        vertical-align: middle;\n    }\n\n    .dataframe tbody tr th {\n        vertical-align: top;\n    }\n\n    .dataframe thead th {\n        text-align: right;\n    }\n</style>\n<table border=\"1\" class=\"dataframe\">\n  <thead>\n    <tr style=\"text-align: right;\">\n      <th></th>\n      <th>pattern</th>\n      <th>supp</th>\n      <th>conf</th>\n      <th>time</th>\n      <th>rule</th>\n      <th>multi_floor</th>\n      <th>floor</th>\n    </tr>\n  </thead>\n  <tbody>\n    <tr>\n      <th>3</th>\n      <td>Load_StatusMBALights&gt;Load_StatusPlugLoadBlender</td>\n      <td>0.701370</td>\n      <td>0.707182</td>\n      <td>{'144': [[['2013-11-22 05:59:09', '2013-11-22 06:14:09'], ['2013-11-22 06:04:09', '2013-11-22 06:10:09']]], '135': [[['2013-11-13 05:59:04', '2013-11-13 06:14:04'], ['2013-11-13 06:04:04', '2013-1...</td>\n      <td>app_app</td>\n      <td>True</td>\n      <td>multi</td>\n    </tr>\n    <tr>\n      <th>4</th>\n      <td>Load_StatusMBALights&gt;Load_StatusPlugLoadCoffeeMaker</td>\n      <td>0.701370</td>\n      <td>0.707182</td>\n      <td>{'144': [[['2013-11-22 05:59:09', '2013-11-22 06:14:09'], ['2013-11-22 06:09:09', '2013-11-22 06:26:09']]], '135': [[['2013-11-13 05:59:04', '2013-11-13 06:14:04'], ['2013-11-13 06:09:04', '2013-1...</td>\n      <td>app_app</td>\n      <td>True</td>\n      <td>multi</td>\n    </tr>\n    <tr>\n      <th>6</th>\n      <td>Load_StatusMBALights-&gt;Load_StatusPlugLoadToasterOven</td>\n      <td>0.701370</td>\n      <td>0.707182</td>\n      <td>{'144': [[['2013-11-22 05:59:09', '2013-11-22 06:14:09'], ['2013-11-22 06:14:09', '2013-11-22 06:24:09']]], '135': [[['2013-11-13 05:59:04', '2013-11-13 06:14:04'], ['2013-11-13 06:14:04', '2013-1...</td>\n      <td>app_app</td>\n      <td>True</td>\n      <td>multi</td>\n    </tr>\n    <tr>\n      <th>8</th>\n      <td>Load_StatusMBALights-&gt;Load_StatusPlugLoadToaster</td>\n      <td>0.701370</td>\n      <td>0.707182</td>\n      <td>{'144': [[['2013-11-22 05:59:09', '2013-11-22 06:14:09'], ['2013-11-22 06:19:09', '2013-11-22 06:30:09']]], '135': [[['2013-11-13 05:59:04', '2013-11-13 06:14:04'], ['2013-11-13 06:19:04', '2013-1...</td>\n      <td>app_app</td>\n      <td>True</td>\n      <td>multi</td>\n    </tr>\n    <tr>\n      <th>11</th>\n      <td>Load_StatusMBALights-&gt;Load_StatusPlugLoadLRTV</td>\n      <td>0.986301</td>\n      <td>0.994475</td>\n      <td>{'41': [[['2013-08-11 07:59:06', '2013-08-11 08:14:06'], ['2013-08-11 08:29:06', '2013-08-11 10:29:05']], [['2013-08-11 18:00:05', '2013-08-11 18:05:05'], ['2013-08-11 18:09:05', '2013-08-11 22:39...</td>\n      <td>app_app</td>\n      <td>True</td>\n      <td>multi</td>\n    </tr>\n    <tr>\n      <th>...</th>\n      <td>...</td>\n      <td>...</td>\n      <td>...</td>\n      <td>...</td>\n      <td>...</td>\n      <td>...</td>\n      <td>...</td>\n    </tr>\n    <tr>\n      <th>623</th>\n      <td>Load_StatusApplianceOven&gt;Load_StatusPlugLoadVideoGame</td>\n      <td>0.279452</td>\n      <td>0.666667</td>\n      <td>{'194': [[['2014-01-11 08:14:15', '2014-01-11 10:39:15'], ['2014-01-11 09:59:15', '2014-01-11 10:59:15']]], '41': [[['2013-08-11 08:14:06', '2013-08-11 10:49:05'], ['2013-08-11 09:59:06', '2013-08...</td>\n      <td>app_app</td>\n      <td>False</td>\n      <td>1stFloor</td>\n    </tr>\n    <tr>\n      <th>624</th>\n      <td>Load_StatusApplianceOven-&gt;Load_StatusClothesWasher</td>\n      <td>0.276712</td>\n      <td>0.651613</td>\n      <td>{'194': [[['2014-01-11 08:14:15', '2014-01-11 10:39:15'], ['2014-01-11 11:00:15', '2014-01-11 12:00:15']]], '41': [[['2013-08-11 08:14:06', '2013-08-11 10:49:05'], ['2013-08-11 11:00:05', '2013-08...</td>\n      <td>app_app</td>\n      <td>False</td>\n      <td>1stFloor</td>\n    </tr>\n    <tr>\n      <th>625</th>\n      <td>Load_StatusClothesWasher&gt;Load_StatusDryerPowerTotal</td>\n      <td>0.405479</td>\n      <td>0.896970</td>\n      <td>{'194': [[['2014-01-11 14:30:15', '2014-01-11 15:38:15'], ['2014-01-11 15:00:15', '2014-01-11 15:41:15']]], '205': [[['2014-01-22 20:25:53', '2014-01-22 21:25:53'], ['2014-01-22 20:30:53', '2014-0...</td>\n      <td>app_app</td>\n      <td>False</td>\n      <td>1stFloor</td>\n    </tr>\n    <tr>\n      <th>626</th>\n      <td>Load_StatusClothesWasher|Load_StatusPlugLoadLRBlueRay</td>\n      <td>0.268493</td>\n      <td>0.632258</td>\n      <td>{'194': [[['2014-01-11 14:30:15', '2014-01-11 15:38:15'], ['2014-01-11 14:59:15', '2014-01-11 16:29:14']]], '41': [[['2013-08-11 14:30:05', '2013-08-11 15:27:05'], ['2013-08-11 14:59:05', '2013-08...</td>\n      <td>app_app</td>\n      <td>False</td>\n      <td>1stFloor</td>\n    </tr>\n    <tr>\n      <th>627</th>\n      <td>Load_StatusPlugLoadLRBlueRay&gt;Load_StatusDryerPowerTotal</td>\n      <td>0.279452</td>\n      <td>0.618182</td>\n      <td>{'194': [[['2014-01-11 14:59:15', '2014-01-11 16:29:14'], ['2014-01-11 15:00:15', '2014-01-11 15:41:15']]], '41': [[['2013-08-11 14:59:05', '2013-08-11 16:29:05'], ['2013-08-11 14:59:05', '2013-08...</td>\n      <td>app_app</td>\n      <td>False</td>\n      <td>1stFloor</td>\n    </tr>\n  </tbody>\n</table>\n<p>311 rows × 7 columns</p>\n</div>"
     },
     "execution_count": 86,
     "metadata": {},
     "output_type": "execute_result"
    }
   ],
   "source": [
    "appended_data = []\n",
    "for i in [True, False]:\n",
    "    data = redundancy_filter_tool(level2_rules_year1, regex_str='', multi_floor=i, rule_type='app_app')\n",
    "    # store DataFrame in list\n",
    "    appended_data.append(data)\n",
    "# see pd.concat documentation for more info\n",
    "appended_data = pd.concat(appended_data)\n",
    "appended_data"
   ],
   "metadata": {
    "collapsed": false,
    "pycharm": {
     "name": "#%%\n"
    }
   }
  },
  {
   "cell_type": "code",
   "execution_count": 87,
   "outputs": [
    {
     "data": {
      "text/plain": "                                                           pattern      supp  \\\n11                   Load_StatusMBALights->Load_StatusPlugLoadLRTV  0.986301   \n30       Load_StatusMBALights->Load_StatusPlugLoadDesktopPCMonitor  0.983562   \n64                  Load_StatusKitchenLights->Load_StatusMBALights  0.986301   \n65                   Load_StatusKitchenLights>Load_StatusMBALights  0.991781   \n72         Load_StatusKitchenLights>Load_StatusMasterBedroomLights  0.989041   \n75                   Load_StatusKitchenLights>Load_StatusBA2Lights  0.991781   \n190   Load_StatusMasterBedroomLights->Load_StatusPlugLoadCanOpener  0.986301   \n191   Load_StatusMasterBedroomLights->Load_StatusPlugLoadHandMixer  0.986301   \n236                   Load_StatusPlugLoadLRTV>Load_StatusBA2Lights  0.986301   \n320              Load_StatusBR2Lights>Load_StatusPlugLoadCanOpener  0.989041   \n321              Load_StatusBR2Lights>Load_StatusPlugLoadHandMixer  0.989041   \n348              Load_StatusBR3Lights>Load_StatusPlugLoadCanOpener  0.989041   \n349              Load_StatusBR3Lights>Load_StatusPlugLoadHandMixer  0.989041   \n427           Load_StatusBA1Lights->Load_StatusMasterBedroomLights  0.983562   \n499              Load_StatusApplianceCooktop->Load_StatusBR2Lights  0.983562   \n513            Load_StatusApplianceRangeHood->Load_StatusBR2Lights  0.983562   \n540      Load_StatusPlugLoadBR2Laptop>Load_StatusPlugLoadCanOpener  0.986301   \n541      Load_StatusPlugLoadBR2Laptop>Load_StatusPlugLoadHandMixer  0.986301   \n558      Load_StatusPlugLoadBR3Laptop>Load_StatusPlugLoadCanOpener  0.989041   \n559      Load_StatusPlugLoadBR3Laptop>Load_StatusPlugLoadHandMixer  0.989041   \n7             Load_StatusMBALights->Load_StatusMasterBedroomLights  0.991781   \n9                       Load_StatusMBALights->Load_StatusBA2Lights  0.986301   \n76                Load_StatusKitchenLights|Load_StatusPlugLoadLRTV  0.983562   \n88                    Load_StatusKitchenLights>Load_StatusDRLights  0.983562   \n94            Load_StatusKitchenLights>Load_StatusLivingRoomLights  0.989041   \n95                   Load_StatusKitchenLights>Load_StatusBA1Lights  0.989041   \n99            Load_StatusKitchenLights>Load_StatusApplianceCooktop  0.986301   \n100         Load_StatusKitchenLights>Load_StatusApplianceRangeHood  0.986301   \n124  Load_StatusPlugLoadCoffeeMaker>Load_StatusPlugLoadToasterOven  0.980822   \n127      Load_StatusPlugLoadCoffeeMaker>Load_StatusPlugLoadToaster  0.980822   \n153      Load_StatusPlugLoadToasterOven>Load_StatusPlugLoadToaster  0.972603   \n186   Load_StatusMasterBedroomLights->Load_StatusPlugLoadBR2Laptop  0.986301   \n244                    Load_StatusPlugLoadLRTV>Load_StatusDRLights  0.986301   \n248            Load_StatusPlugLoadLRTV>Load_StatusLivingRoomLights  0.983562   \n302            Load_StatusBR2Lights>Load_StatusMasterBedroomLights  0.983562   \n307                      Load_StatusBR2Lights>Load_StatusBR3Lights  0.991781   \n410               Load_StatusLivingRoomLights>Load_StatusBA1Lights  0.983562   \n497            Load_StatusApplianceCooktop|Load_StatusPlugLoadLRTV  0.980822   \n502      Load_StatusApplianceCooktop>Load_StatusApplianceRangeHood  0.986301   \n511          Load_StatusApplianceRangeHood|Load_StatusPlugLoadLRTV  0.980822   \n536      Load_StatusPlugLoadBR2Laptop>Load_StatusPlugLoadBR3Laptop  0.986301   \n609      Load_StatusPlugLoadCanOpener>Load_StatusPlugLoadHandMixer  0.989041   \n612      Load_StatusPlugLoadHandMixer>Load_StatusPlugLoadCanOpener  0.989041   \n618           Load_StatusPlugLoadFan>Load_StatusPlugLoadHeatingPad  0.978082   \n\n         conf  \\\n11   0.994475   \n30   0.991713   \n64   0.994475   \n65   1.000000   \n72   0.997238   \n75   1.000000   \n190  0.994475   \n191  0.994475   \n236  0.994475   \n320  0.997238   \n321  0.997238   \n348  0.997238   \n349  0.997238   \n427  0.991713   \n499  0.991713   \n513  0.991713   \n540  0.997230   \n541  0.997230   \n558  1.000000   \n559  1.000000   \n7    1.000000   \n9    0.994475   \n76   0.991713   \n88   0.991713   \n94   0.997238   \n95   0.997238   \n99   0.994475   \n100  0.994475   \n124  1.000000   \n127  1.000000   \n153  0.991620   \n186  0.994475   \n244  0.994475   \n248  0.994460   \n302  0.991713   \n307  1.000000   \n410  0.994460   \n497  0.994444   \n502  1.000000   \n511  0.994444   \n536  0.997230   \n609  1.000000   \n612  1.000000   \n618  1.000000   \n\n                                                                                                                                                                                                        time  \\\n11   {'41': [[['2013-08-11 07:59:06', '2013-08-11 08:14:06'], ['2013-08-11 08:29:06', '2013-08-11 10:29:05']], [['2013-08-11 18:00:05', '2013-08-11 18:05:05'], ['2013-08-11 18:09:05', '2013-08-11 22:39...   \n30   {'41': [[['2013-08-11 07:59:06', '2013-08-11 08:14:06'], ['2013-08-11 08:29:06', '2013-08-11 18:59:05']]], '144': [[['2013-11-22 18:00:08', '2013-11-22 18:05:08'], ['2013-11-22 18:29:08', '2013-11...   \n64   {'41': [[['2013-08-11 08:14:06', '2013-08-11 09:59:06'], ['2013-08-11 09:59:06', '2013-08-11 10:14:05']], [['2013-08-11 20:29:05', '2013-08-11 22:29:05'], ['2013-08-11 22:29:05', '2013-08-11 22:39...   \n65   {'41': [[['2013-08-11 17:59:05', '2013-08-11 18:29:05'], ['2013-08-11 18:00:05', '2013-08-11 18:05:05']], [['2013-08-11 20:29:05', '2013-08-11 22:29:05'], ['2013-08-11 22:04:05', '2013-08-11 22:24...   \n72   {'41': [[['2013-08-11 17:59:05', '2013-08-11 18:29:05'], ['2013-08-11 18:06:05', '2013-08-11 18:29:05']], [['2013-08-11 20:29:05', '2013-08-11 22:29:05'], ['2013-08-11 21:59:05', '2013-08-11 22:59...   \n75   {'41': [[['2013-08-11 08:14:06', '2013-08-11 09:59:06'], ['2013-08-11 08:44:06', '2013-08-11 09:14:06']], [['2013-08-11 17:59:05', '2013-08-11 18:29:05'], ['2013-08-11 18:07:05', '2013-08-11 18:17...   \n190  {'41': [[['2013-08-11 18:06:05', '2013-08-11 18:29:05'], ['2013-08-11 18:39:05', '2013-08-11 18:46:05']]], '144': [[['2013-11-22 18:06:08', '2013-11-22 18:29:08'], ['2013-11-22 18:39:08', '2013-11...   \n191  {'41': [[['2013-08-11 18:06:05', '2013-08-11 18:29:05'], ['2013-08-11 18:39:05', '2013-08-11 18:41:05']]], '144': [[['2013-11-22 18:06:08', '2013-11-22 18:29:08'], ['2013-11-22 18:39:08', '2013-11...   \n236  {'41': [[['2013-08-11 08:29:06', '2013-08-11 10:29:05'], ['2013-08-11 08:44:06', '2013-08-11 09:14:06']], [['2013-08-11 18:09:05', '2013-08-11 22:39:04'], ['2013-08-11 20:14:05', '2013-08-11 20:24...   \n320  {'41': [[['2013-08-11 18:19:05', '2013-08-12 00:00:04'], ['2013-08-11 18:39:05', '2013-08-11 18:46:05']]], '144': [[['2013-11-22 18:19:08', '2013-11-22 20:59:08'], ['2013-11-22 18:39:08', '2013-11...   \n321  {'41': [[['2013-08-11 18:19:05', '2013-08-12 00:00:04'], ['2013-08-11 18:39:05', '2013-08-11 18:41:05']]], '144': [[['2013-11-22 18:19:08', '2013-11-22 20:59:08'], ['2013-11-22 18:39:08', '2013-11...   \n348  {'41': [[['2013-08-11 18:29:05', '2013-08-11 20:29:05'], ['2013-08-11 18:39:05', '2013-08-11 18:46:05']]], '144': [[['2013-11-22 18:29:08', '2013-11-22 20:59:08'], ['2013-11-22 18:39:08', '2013-11...   \n349  {'41': [[['2013-08-11 18:29:05', '2013-08-11 20:29:05'], ['2013-08-11 18:39:05', '2013-08-11 18:41:05']]], '144': [[['2013-11-22 18:29:08', '2013-11-22 20:59:08'], ['2013-11-22 18:39:08', '2013-11...   \n427  {'41': [[['2013-08-11 18:01:05', '2013-08-11 18:05:05'], ['2013-08-11 18:06:05', '2013-08-11 18:29:05']]], '144': [[['2013-11-22 23:17:08', '2013-11-22 23:21:08'], ['2013-11-22 23:29:08', '2013-11...   \n499  {'41': [[['2013-08-11 18:01:05', '2013-08-11 18:18:05'], ['2013-08-11 18:19:05', '2013-08-12 00:00:04']]], '144': [[['2013-11-22 18:01:08', '2013-11-22 18:17:08'], ['2013-11-22 18:19:08', '2013-11...   \n513  {'41': [[['2013-08-11 18:01:05', '2013-08-11 18:18:05'], ['2013-08-11 18:19:05', '2013-08-12 00:00:04']]], '144': [[['2013-11-22 18:01:08', '2013-11-22 18:17:08'], ['2013-11-22 18:19:08', '2013-11...   \n540  {'41': [[['2013-08-11 18:29:05', '2013-08-11 21:59:05'], ['2013-08-11 18:39:05', '2013-08-11 18:46:05']]], '144': [[['2013-11-22 18:29:08', '2013-11-22 20:59:08'], ['2013-11-22 18:39:08', '2013-11...   \n541  {'41': [[['2013-08-11 18:29:05', '2013-08-11 21:59:05'], ['2013-08-11 18:39:05', '2013-08-11 18:41:05']]], '144': [[['2013-11-22 18:29:08', '2013-11-22 20:59:08'], ['2013-11-22 18:39:08', '2013-11...   \n558  {'41': [[['2013-08-11 18:29:05', '2013-08-11 20:14:05'], ['2013-08-11 18:39:05', '2013-08-11 18:46:05']]], '144': [[['2013-11-22 18:29:08', '2013-11-22 20:59:08'], ['2013-11-22 18:39:08', '2013-11...   \n559  {'41': [[['2013-08-11 18:29:05', '2013-08-11 20:14:05'], ['2013-08-11 18:39:05', '2013-08-11 18:41:05']]], '144': [[['2013-11-22 18:29:08', '2013-11-22 20:59:08'], ['2013-11-22 18:39:08', '2013-11...   \n7    {'41': [[['2013-08-11 09:59:06', '2013-08-11 10:14:05'], ['2013-08-11 10:14:05', '2013-08-11 10:59:05']], [['2013-08-11 18:00:05', '2013-08-11 18:05:05'], ['2013-08-11 18:06:05', '2013-08-11 18:29...   \n9    {'41': [[['2013-08-11 07:59:06', '2013-08-11 08:14:06'], ['2013-08-11 08:44:06', '2013-08-11 09:14:06']], [['2013-08-11 18:00:05', '2013-08-11 18:05:05'], ['2013-08-11 18:07:05', '2013-08-11 18:17...   \n76   {'41': [[['2013-08-11 17:59:05', '2013-08-11 18:29:05'], ['2013-08-11 18:09:05', '2013-08-11 22:39:04']]], '144': [[['2013-11-22 17:59:08', '2013-11-22 18:29:08'], ['2013-11-22 18:09:08', '2013-11...   \n88   {'41': [[['2013-08-11 08:14:06', '2013-08-11 09:59:06'], ['2013-08-11 09:29:06', '2013-08-11 09:59:06']]], '144': [[['2013-11-22 05:59:09', '2013-11-22 08:24:09'], ['2013-11-22 06:59:09', '2013-11...   \n94   {'41': [[['2013-08-11 17:59:05', '2013-08-11 18:29:05'], ['2013-08-11 17:59:05', '2013-08-11 18:29:05']], [['2013-08-11 18:59:05', '2013-08-11 19:14:05'], ['2013-08-11 18:59:05', '2013-08-11 19:14...   \n95   {'41': [[['2013-08-11 17:59:05', '2013-08-11 18:29:05'], ['2013-08-11 18:01:05', '2013-08-11 18:05:05']]], '144': [[['2013-11-22 20:59:08', '2013-11-22 23:29:08'], ['2013-11-22 22:17:08', '2013-11...   \n99   {'41': [[['2013-08-11 08:14:06', '2013-08-11 09:59:06'], ['2013-08-11 08:14:06', '2013-08-11 08:31:06']], [['2013-08-11 17:59:05', '2013-08-11 18:29:05'], ['2013-08-11 18:01:05', '2013-08-11 18:18...   \n100  {'41': [[['2013-08-11 08:14:06', '2013-08-11 09:59:06'], ['2013-08-11 08:14:06', '2013-08-11 08:31:06']], [['2013-08-11 17:59:05', '2013-08-11 18:29:05'], ['2013-08-11 18:01:05', '2013-08-11 18:18...   \n124  {'41': [[['2013-08-11 09:09:06', '2013-08-11 09:27:06'], ['2013-08-11 09:19:06', '2013-08-11 09:29:06']]], '144': [[['2013-11-22 06:09:09', '2013-11-22 06:26:09'], ['2013-11-22 06:14:09', '2013-11...   \n127  {'41': [[['2013-08-11 09:09:06', '2013-08-11 09:27:06'], ['2013-08-11 09:19:06', '2013-08-11 09:30:06']]], '144': [[['2013-11-22 06:09:09', '2013-11-22 06:26:09'], ['2013-11-22 06:19:09', '2013-11...   \n153  {'41': [[['2013-08-11 09:19:06', '2013-08-11 09:29:06'], ['2013-08-11 09:19:06', '2013-08-11 09:30:06']]], '144': [[['2013-11-22 06:14:09', '2013-11-22 06:24:09'], ['2013-11-22 06:19:09', '2013-11...   \n186  {'41': [[['2013-08-11 10:14:05', '2013-08-11 10:59:05'], ['2013-08-11 10:59:05', '2013-08-11 12:59:05']], [['2013-08-11 18:06:05', '2013-08-11 18:29:05'], ['2013-08-11 18:29:05', '2013-08-11 21:59...   \n244  {'41': [[['2013-08-11 08:29:06', '2013-08-11 10:29:05'], ['2013-08-11 09:29:06', '2013-08-11 09:59:06']], [['2013-08-11 18:09:05', '2013-08-11 22:39:04'], ['2013-08-11 19:14:05', '2013-08-11 20:29...   \n248  {'41': [[['2013-08-11 18:09:05', '2013-08-11 22:39:04'], ['2013-08-11 18:59:05', '2013-08-11 19:14:05']], [['2013-08-11 18:09:05', '2013-08-11 22:39:04'], ['2013-08-11 19:29:05', '2013-08-11 22:29...   \n302  {'41': [[['2013-08-11 18:19:05', '2013-08-12 00:00:04'], ['2013-08-11 21:59:05', '2013-08-11 22:59:04']]], '144': [[['2013-11-22 06:39:09', '2013-11-22 06:59:09'], ['2013-11-22 06:44:09', '2013-11...   \n307  {'41': [[['2013-08-11 18:19:05', '2013-08-12 00:00:04'], ['2013-08-11 18:29:05', '2013-08-11 20:29:05']]], '144': [[['2013-11-22 06:39:09', '2013-11-22 06:59:09'], ['2013-11-22 06:49:09', '2013-11...   \n410  {'41': [[['2013-08-11 17:59:05', '2013-08-11 18:29:05'], ['2013-08-11 18:01:05', '2013-08-11 18:05:05']]], '144': [[['2013-11-22 19:29:08', '2013-11-22 23:29:08'], ['2013-11-22 22:17:08', '2013-11...   \n497  {'41': [[['2013-08-11 08:14:06', '2013-08-11 08:31:06'], ['2013-08-11 08:29:06', '2013-08-11 10:29:05']], [['2013-08-11 18:01:05', '2013-08-11 18:18:05'], ['2013-08-11 18:09:05', '2013-08-11 22:39...   \n502  {'41': [[['2013-08-11 08:14:06', '2013-08-11 08:31:06'], ['2013-08-11 08:14:06', '2013-08-11 08:31:06']], [['2013-08-11 12:01:05', '2013-08-11 12:18:05'], ['2013-08-11 12:01:05', '2013-08-11 12:18...   \n511  {'41': [[['2013-08-11 08:14:06', '2013-08-11 08:31:06'], ['2013-08-11 08:29:06', '2013-08-11 10:29:05']], [['2013-08-11 18:01:05', '2013-08-11 18:18:05'], ['2013-08-11 18:09:05', '2013-08-11 22:39...   \n536  {'41': [[['2013-08-11 18:29:05', '2013-08-11 21:59:05'], ['2013-08-11 18:29:05', '2013-08-11 20:14:05']]], '144': [[['2013-11-22 18:29:08', '2013-11-22 20:59:08'], ['2013-11-22 18:29:08', '2013-11...   \n609  {'41': [[['2013-08-11 18:39:05', '2013-08-11 18:46:05'], ['2013-08-11 18:39:05', '2013-08-11 18:41:05']]], '144': [[['2013-11-22 18:39:08', '2013-11-22 18:46:08'], ['2013-11-22 18:39:08', '2013-11...   \n612  {'41': [[['2013-08-11 18:39:05', '2013-08-11 18:41:05'], ['2013-08-11 18:39:05', '2013-08-11 18:46:05']]], '144': [[['2013-11-22 18:39:08', '2013-11-22 18:41:08'], ['2013-11-22 18:39:08', '2013-11...   \n618  {'41': [[['2013-08-11 21:59:05', '2013-08-11 23:58:04'], ['2013-08-11 21:59:05', '2013-08-11 22:14:05']]], '144': [[['2013-11-22 23:29:08', '2013-11-22 23:58:08'], ['2013-11-22 23:29:08', '2013-11...   \n\n        rule multi_floor     floor  \n11   app_app        True     multi  \n30   app_app        True     multi  \n64   app_app        True     multi  \n65   app_app        True     multi  \n72   app_app        True     multi  \n75   app_app        True     multi  \n190  app_app        True     multi  \n191  app_app        True     multi  \n236  app_app        True     multi  \n320  app_app        True     multi  \n321  app_app        True     multi  \n348  app_app        True     multi  \n349  app_app        True     multi  \n427  app_app        True     multi  \n499  app_app        True     multi  \n513  app_app        True     multi  \n540  app_app        True     multi  \n541  app_app        True     multi  \n558  app_app        True     multi  \n559  app_app        True     multi  \n7    app_app       False  2ndFloor  \n9    app_app       False  2ndFloor  \n76   app_app       False  1stFloor  \n88   app_app       False  1stFloor  \n94   app_app       False  1stFloor  \n95   app_app       False  1stFloor  \n99   app_app       False  1stFloor  \n100  app_app       False  1stFloor  \n124  app_app       False  1stFloor  \n127  app_app       False  1stFloor  \n153  app_app       False  1stFloor  \n186  app_app       False  2ndFloor  \n244  app_app       False  1stFloor  \n248  app_app       False  1stFloor  \n302  app_app       False  2ndFloor  \n307  app_app       False  2ndFloor  \n410  app_app       False  1stFloor  \n497  app_app       False  1stFloor  \n502  app_app       False  1stFloor  \n511  app_app       False  1stFloor  \n536  app_app       False  2ndFloor  \n609  app_app       False  1stFloor  \n612  app_app       False  1stFloor  \n618  app_app       False  2ndFloor  ",
      "text/html": "<div>\n<style scoped>\n    .dataframe tbody tr th:only-of-type {\n        vertical-align: middle;\n    }\n\n    .dataframe tbody tr th {\n        vertical-align: top;\n    }\n\n    .dataframe thead th {\n        text-align: right;\n    }\n</style>\n<table border=\"1\" class=\"dataframe\">\n  <thead>\n    <tr style=\"text-align: right;\">\n      <th></th>\n      <th>pattern</th>\n      <th>supp</th>\n      <th>conf</th>\n      <th>time</th>\n      <th>rule</th>\n      <th>multi_floor</th>\n      <th>floor</th>\n    </tr>\n  </thead>\n  <tbody>\n    <tr>\n      <th>11</th>\n      <td>Load_StatusMBALights-&gt;Load_StatusPlugLoadLRTV</td>\n      <td>0.986301</td>\n      <td>0.994475</td>\n      <td>{'41': [[['2013-08-11 07:59:06', '2013-08-11 08:14:06'], ['2013-08-11 08:29:06', '2013-08-11 10:29:05']], [['2013-08-11 18:00:05', '2013-08-11 18:05:05'], ['2013-08-11 18:09:05', '2013-08-11 22:39...</td>\n      <td>app_app</td>\n      <td>True</td>\n      <td>multi</td>\n    </tr>\n    <tr>\n      <th>30</th>\n      <td>Load_StatusMBALights-&gt;Load_StatusPlugLoadDesktopPCMonitor</td>\n      <td>0.983562</td>\n      <td>0.991713</td>\n      <td>{'41': [[['2013-08-11 07:59:06', '2013-08-11 08:14:06'], ['2013-08-11 08:29:06', '2013-08-11 18:59:05']]], '144': [[['2013-11-22 18:00:08', '2013-11-22 18:05:08'], ['2013-11-22 18:29:08', '2013-11...</td>\n      <td>app_app</td>\n      <td>True</td>\n      <td>multi</td>\n    </tr>\n    <tr>\n      <th>64</th>\n      <td>Load_StatusKitchenLights-&gt;Load_StatusMBALights</td>\n      <td>0.986301</td>\n      <td>0.994475</td>\n      <td>{'41': [[['2013-08-11 08:14:06', '2013-08-11 09:59:06'], ['2013-08-11 09:59:06', '2013-08-11 10:14:05']], [['2013-08-11 20:29:05', '2013-08-11 22:29:05'], ['2013-08-11 22:29:05', '2013-08-11 22:39...</td>\n      <td>app_app</td>\n      <td>True</td>\n      <td>multi</td>\n    </tr>\n    <tr>\n      <th>65</th>\n      <td>Load_StatusKitchenLights&gt;Load_StatusMBALights</td>\n      <td>0.991781</td>\n      <td>1.000000</td>\n      <td>{'41': [[['2013-08-11 17:59:05', '2013-08-11 18:29:05'], ['2013-08-11 18:00:05', '2013-08-11 18:05:05']], [['2013-08-11 20:29:05', '2013-08-11 22:29:05'], ['2013-08-11 22:04:05', '2013-08-11 22:24...</td>\n      <td>app_app</td>\n      <td>True</td>\n      <td>multi</td>\n    </tr>\n    <tr>\n      <th>72</th>\n      <td>Load_StatusKitchenLights&gt;Load_StatusMasterBedroomLights</td>\n      <td>0.989041</td>\n      <td>0.997238</td>\n      <td>{'41': [[['2013-08-11 17:59:05', '2013-08-11 18:29:05'], ['2013-08-11 18:06:05', '2013-08-11 18:29:05']], [['2013-08-11 20:29:05', '2013-08-11 22:29:05'], ['2013-08-11 21:59:05', '2013-08-11 22:59...</td>\n      <td>app_app</td>\n      <td>True</td>\n      <td>multi</td>\n    </tr>\n    <tr>\n      <th>75</th>\n      <td>Load_StatusKitchenLights&gt;Load_StatusBA2Lights</td>\n      <td>0.991781</td>\n      <td>1.000000</td>\n      <td>{'41': [[['2013-08-11 08:14:06', '2013-08-11 09:59:06'], ['2013-08-11 08:44:06', '2013-08-11 09:14:06']], [['2013-08-11 17:59:05', '2013-08-11 18:29:05'], ['2013-08-11 18:07:05', '2013-08-11 18:17...</td>\n      <td>app_app</td>\n      <td>True</td>\n      <td>multi</td>\n    </tr>\n    <tr>\n      <th>190</th>\n      <td>Load_StatusMasterBedroomLights-&gt;Load_StatusPlugLoadCanOpener</td>\n      <td>0.986301</td>\n      <td>0.994475</td>\n      <td>{'41': [[['2013-08-11 18:06:05', '2013-08-11 18:29:05'], ['2013-08-11 18:39:05', '2013-08-11 18:46:05']]], '144': [[['2013-11-22 18:06:08', '2013-11-22 18:29:08'], ['2013-11-22 18:39:08', '2013-11...</td>\n      <td>app_app</td>\n      <td>True</td>\n      <td>multi</td>\n    </tr>\n    <tr>\n      <th>191</th>\n      <td>Load_StatusMasterBedroomLights-&gt;Load_StatusPlugLoadHandMixer</td>\n      <td>0.986301</td>\n      <td>0.994475</td>\n      <td>{'41': [[['2013-08-11 18:06:05', '2013-08-11 18:29:05'], ['2013-08-11 18:39:05', '2013-08-11 18:41:05']]], '144': [[['2013-11-22 18:06:08', '2013-11-22 18:29:08'], ['2013-11-22 18:39:08', '2013-11...</td>\n      <td>app_app</td>\n      <td>True</td>\n      <td>multi</td>\n    </tr>\n    <tr>\n      <th>236</th>\n      <td>Load_StatusPlugLoadLRTV&gt;Load_StatusBA2Lights</td>\n      <td>0.986301</td>\n      <td>0.994475</td>\n      <td>{'41': [[['2013-08-11 08:29:06', '2013-08-11 10:29:05'], ['2013-08-11 08:44:06', '2013-08-11 09:14:06']], [['2013-08-11 18:09:05', '2013-08-11 22:39:04'], ['2013-08-11 20:14:05', '2013-08-11 20:24...</td>\n      <td>app_app</td>\n      <td>True</td>\n      <td>multi</td>\n    </tr>\n    <tr>\n      <th>320</th>\n      <td>Load_StatusBR2Lights&gt;Load_StatusPlugLoadCanOpener</td>\n      <td>0.989041</td>\n      <td>0.997238</td>\n      <td>{'41': [[['2013-08-11 18:19:05', '2013-08-12 00:00:04'], ['2013-08-11 18:39:05', '2013-08-11 18:46:05']]], '144': [[['2013-11-22 18:19:08', '2013-11-22 20:59:08'], ['2013-11-22 18:39:08', '2013-11...</td>\n      <td>app_app</td>\n      <td>True</td>\n      <td>multi</td>\n    </tr>\n    <tr>\n      <th>321</th>\n      <td>Load_StatusBR2Lights&gt;Load_StatusPlugLoadHandMixer</td>\n      <td>0.989041</td>\n      <td>0.997238</td>\n      <td>{'41': [[['2013-08-11 18:19:05', '2013-08-12 00:00:04'], ['2013-08-11 18:39:05', '2013-08-11 18:41:05']]], '144': [[['2013-11-22 18:19:08', '2013-11-22 20:59:08'], ['2013-11-22 18:39:08', '2013-11...</td>\n      <td>app_app</td>\n      <td>True</td>\n      <td>multi</td>\n    </tr>\n    <tr>\n      <th>348</th>\n      <td>Load_StatusBR3Lights&gt;Load_StatusPlugLoadCanOpener</td>\n      <td>0.989041</td>\n      <td>0.997238</td>\n      <td>{'41': [[['2013-08-11 18:29:05', '2013-08-11 20:29:05'], ['2013-08-11 18:39:05', '2013-08-11 18:46:05']]], '144': [[['2013-11-22 18:29:08', '2013-11-22 20:59:08'], ['2013-11-22 18:39:08', '2013-11...</td>\n      <td>app_app</td>\n      <td>True</td>\n      <td>multi</td>\n    </tr>\n    <tr>\n      <th>349</th>\n      <td>Load_StatusBR3Lights&gt;Load_StatusPlugLoadHandMixer</td>\n      <td>0.989041</td>\n      <td>0.997238</td>\n      <td>{'41': [[['2013-08-11 18:29:05', '2013-08-11 20:29:05'], ['2013-08-11 18:39:05', '2013-08-11 18:41:05']]], '144': [[['2013-11-22 18:29:08', '2013-11-22 20:59:08'], ['2013-11-22 18:39:08', '2013-11...</td>\n      <td>app_app</td>\n      <td>True</td>\n      <td>multi</td>\n    </tr>\n    <tr>\n      <th>427</th>\n      <td>Load_StatusBA1Lights-&gt;Load_StatusMasterBedroomLights</td>\n      <td>0.983562</td>\n      <td>0.991713</td>\n      <td>{'41': [[['2013-08-11 18:01:05', '2013-08-11 18:05:05'], ['2013-08-11 18:06:05', '2013-08-11 18:29:05']]], '144': [[['2013-11-22 23:17:08', '2013-11-22 23:21:08'], ['2013-11-22 23:29:08', '2013-11...</td>\n      <td>app_app</td>\n      <td>True</td>\n      <td>multi</td>\n    </tr>\n    <tr>\n      <th>499</th>\n      <td>Load_StatusApplianceCooktop-&gt;Load_StatusBR2Lights</td>\n      <td>0.983562</td>\n      <td>0.991713</td>\n      <td>{'41': [[['2013-08-11 18:01:05', '2013-08-11 18:18:05'], ['2013-08-11 18:19:05', '2013-08-12 00:00:04']]], '144': [[['2013-11-22 18:01:08', '2013-11-22 18:17:08'], ['2013-11-22 18:19:08', '2013-11...</td>\n      <td>app_app</td>\n      <td>True</td>\n      <td>multi</td>\n    </tr>\n    <tr>\n      <th>513</th>\n      <td>Load_StatusApplianceRangeHood-&gt;Load_StatusBR2Lights</td>\n      <td>0.983562</td>\n      <td>0.991713</td>\n      <td>{'41': [[['2013-08-11 18:01:05', '2013-08-11 18:18:05'], ['2013-08-11 18:19:05', '2013-08-12 00:00:04']]], '144': [[['2013-11-22 18:01:08', '2013-11-22 18:17:08'], ['2013-11-22 18:19:08', '2013-11...</td>\n      <td>app_app</td>\n      <td>True</td>\n      <td>multi</td>\n    </tr>\n    <tr>\n      <th>540</th>\n      <td>Load_StatusPlugLoadBR2Laptop&gt;Load_StatusPlugLoadCanOpener</td>\n      <td>0.986301</td>\n      <td>0.997230</td>\n      <td>{'41': [[['2013-08-11 18:29:05', '2013-08-11 21:59:05'], ['2013-08-11 18:39:05', '2013-08-11 18:46:05']]], '144': [[['2013-11-22 18:29:08', '2013-11-22 20:59:08'], ['2013-11-22 18:39:08', '2013-11...</td>\n      <td>app_app</td>\n      <td>True</td>\n      <td>multi</td>\n    </tr>\n    <tr>\n      <th>541</th>\n      <td>Load_StatusPlugLoadBR2Laptop&gt;Load_StatusPlugLoadHandMixer</td>\n      <td>0.986301</td>\n      <td>0.997230</td>\n      <td>{'41': [[['2013-08-11 18:29:05', '2013-08-11 21:59:05'], ['2013-08-11 18:39:05', '2013-08-11 18:41:05']]], '144': [[['2013-11-22 18:29:08', '2013-11-22 20:59:08'], ['2013-11-22 18:39:08', '2013-11...</td>\n      <td>app_app</td>\n      <td>True</td>\n      <td>multi</td>\n    </tr>\n    <tr>\n      <th>558</th>\n      <td>Load_StatusPlugLoadBR3Laptop&gt;Load_StatusPlugLoadCanOpener</td>\n      <td>0.989041</td>\n      <td>1.000000</td>\n      <td>{'41': [[['2013-08-11 18:29:05', '2013-08-11 20:14:05'], ['2013-08-11 18:39:05', '2013-08-11 18:46:05']]], '144': [[['2013-11-22 18:29:08', '2013-11-22 20:59:08'], ['2013-11-22 18:39:08', '2013-11...</td>\n      <td>app_app</td>\n      <td>True</td>\n      <td>multi</td>\n    </tr>\n    <tr>\n      <th>559</th>\n      <td>Load_StatusPlugLoadBR3Laptop&gt;Load_StatusPlugLoadHandMixer</td>\n      <td>0.989041</td>\n      <td>1.000000</td>\n      <td>{'41': [[['2013-08-11 18:29:05', '2013-08-11 20:14:05'], ['2013-08-11 18:39:05', '2013-08-11 18:41:05']]], '144': [[['2013-11-22 18:29:08', '2013-11-22 20:59:08'], ['2013-11-22 18:39:08', '2013-11...</td>\n      <td>app_app</td>\n      <td>True</td>\n      <td>multi</td>\n    </tr>\n    <tr>\n      <th>7</th>\n      <td>Load_StatusMBALights-&gt;Load_StatusMasterBedroomLights</td>\n      <td>0.991781</td>\n      <td>1.000000</td>\n      <td>{'41': [[['2013-08-11 09:59:06', '2013-08-11 10:14:05'], ['2013-08-11 10:14:05', '2013-08-11 10:59:05']], [['2013-08-11 18:00:05', '2013-08-11 18:05:05'], ['2013-08-11 18:06:05', '2013-08-11 18:29...</td>\n      <td>app_app</td>\n      <td>False</td>\n      <td>2ndFloor</td>\n    </tr>\n    <tr>\n      <th>9</th>\n      <td>Load_StatusMBALights-&gt;Load_StatusBA2Lights</td>\n      <td>0.986301</td>\n      <td>0.994475</td>\n      <td>{'41': [[['2013-08-11 07:59:06', '2013-08-11 08:14:06'], ['2013-08-11 08:44:06', '2013-08-11 09:14:06']], [['2013-08-11 18:00:05', '2013-08-11 18:05:05'], ['2013-08-11 18:07:05', '2013-08-11 18:17...</td>\n      <td>app_app</td>\n      <td>False</td>\n      <td>2ndFloor</td>\n    </tr>\n    <tr>\n      <th>76</th>\n      <td>Load_StatusKitchenLights|Load_StatusPlugLoadLRTV</td>\n      <td>0.983562</td>\n      <td>0.991713</td>\n      <td>{'41': [[['2013-08-11 17:59:05', '2013-08-11 18:29:05'], ['2013-08-11 18:09:05', '2013-08-11 22:39:04']]], '144': [[['2013-11-22 17:59:08', '2013-11-22 18:29:08'], ['2013-11-22 18:09:08', '2013-11...</td>\n      <td>app_app</td>\n      <td>False</td>\n      <td>1stFloor</td>\n    </tr>\n    <tr>\n      <th>88</th>\n      <td>Load_StatusKitchenLights&gt;Load_StatusDRLights</td>\n      <td>0.983562</td>\n      <td>0.991713</td>\n      <td>{'41': [[['2013-08-11 08:14:06', '2013-08-11 09:59:06'], ['2013-08-11 09:29:06', '2013-08-11 09:59:06']]], '144': [[['2013-11-22 05:59:09', '2013-11-22 08:24:09'], ['2013-11-22 06:59:09', '2013-11...</td>\n      <td>app_app</td>\n      <td>False</td>\n      <td>1stFloor</td>\n    </tr>\n    <tr>\n      <th>94</th>\n      <td>Load_StatusKitchenLights&gt;Load_StatusLivingRoomLights</td>\n      <td>0.989041</td>\n      <td>0.997238</td>\n      <td>{'41': [[['2013-08-11 17:59:05', '2013-08-11 18:29:05'], ['2013-08-11 17:59:05', '2013-08-11 18:29:05']], [['2013-08-11 18:59:05', '2013-08-11 19:14:05'], ['2013-08-11 18:59:05', '2013-08-11 19:14...</td>\n      <td>app_app</td>\n      <td>False</td>\n      <td>1stFloor</td>\n    </tr>\n    <tr>\n      <th>95</th>\n      <td>Load_StatusKitchenLights&gt;Load_StatusBA1Lights</td>\n      <td>0.989041</td>\n      <td>0.997238</td>\n      <td>{'41': [[['2013-08-11 17:59:05', '2013-08-11 18:29:05'], ['2013-08-11 18:01:05', '2013-08-11 18:05:05']]], '144': [[['2013-11-22 20:59:08', '2013-11-22 23:29:08'], ['2013-11-22 22:17:08', '2013-11...</td>\n      <td>app_app</td>\n      <td>False</td>\n      <td>1stFloor</td>\n    </tr>\n    <tr>\n      <th>99</th>\n      <td>Load_StatusKitchenLights&gt;Load_StatusApplianceCooktop</td>\n      <td>0.986301</td>\n      <td>0.994475</td>\n      <td>{'41': [[['2013-08-11 08:14:06', '2013-08-11 09:59:06'], ['2013-08-11 08:14:06', '2013-08-11 08:31:06']], [['2013-08-11 17:59:05', '2013-08-11 18:29:05'], ['2013-08-11 18:01:05', '2013-08-11 18:18...</td>\n      <td>app_app</td>\n      <td>False</td>\n      <td>1stFloor</td>\n    </tr>\n    <tr>\n      <th>100</th>\n      <td>Load_StatusKitchenLights&gt;Load_StatusApplianceRangeHood</td>\n      <td>0.986301</td>\n      <td>0.994475</td>\n      <td>{'41': [[['2013-08-11 08:14:06', '2013-08-11 09:59:06'], ['2013-08-11 08:14:06', '2013-08-11 08:31:06']], [['2013-08-11 17:59:05', '2013-08-11 18:29:05'], ['2013-08-11 18:01:05', '2013-08-11 18:18...</td>\n      <td>app_app</td>\n      <td>False</td>\n      <td>1stFloor</td>\n    </tr>\n    <tr>\n      <th>124</th>\n      <td>Load_StatusPlugLoadCoffeeMaker&gt;Load_StatusPlugLoadToasterOven</td>\n      <td>0.980822</td>\n      <td>1.000000</td>\n      <td>{'41': [[['2013-08-11 09:09:06', '2013-08-11 09:27:06'], ['2013-08-11 09:19:06', '2013-08-11 09:29:06']]], '144': [[['2013-11-22 06:09:09', '2013-11-22 06:26:09'], ['2013-11-22 06:14:09', '2013-11...</td>\n      <td>app_app</td>\n      <td>False</td>\n      <td>1stFloor</td>\n    </tr>\n    <tr>\n      <th>127</th>\n      <td>Load_StatusPlugLoadCoffeeMaker&gt;Load_StatusPlugLoadToaster</td>\n      <td>0.980822</td>\n      <td>1.000000</td>\n      <td>{'41': [[['2013-08-11 09:09:06', '2013-08-11 09:27:06'], ['2013-08-11 09:19:06', '2013-08-11 09:30:06']]], '144': [[['2013-11-22 06:09:09', '2013-11-22 06:26:09'], ['2013-11-22 06:19:09', '2013-11...</td>\n      <td>app_app</td>\n      <td>False</td>\n      <td>1stFloor</td>\n    </tr>\n    <tr>\n      <th>153</th>\n      <td>Load_StatusPlugLoadToasterOven&gt;Load_StatusPlugLoadToaster</td>\n      <td>0.972603</td>\n      <td>0.991620</td>\n      <td>{'41': [[['2013-08-11 09:19:06', '2013-08-11 09:29:06'], ['2013-08-11 09:19:06', '2013-08-11 09:30:06']]], '144': [[['2013-11-22 06:14:09', '2013-11-22 06:24:09'], ['2013-11-22 06:19:09', '2013-11...</td>\n      <td>app_app</td>\n      <td>False</td>\n      <td>1stFloor</td>\n    </tr>\n    <tr>\n      <th>186</th>\n      <td>Load_StatusMasterBedroomLights-&gt;Load_StatusPlugLoadBR2Laptop</td>\n      <td>0.986301</td>\n      <td>0.994475</td>\n      <td>{'41': [[['2013-08-11 10:14:05', '2013-08-11 10:59:05'], ['2013-08-11 10:59:05', '2013-08-11 12:59:05']], [['2013-08-11 18:06:05', '2013-08-11 18:29:05'], ['2013-08-11 18:29:05', '2013-08-11 21:59...</td>\n      <td>app_app</td>\n      <td>False</td>\n      <td>2ndFloor</td>\n    </tr>\n    <tr>\n      <th>244</th>\n      <td>Load_StatusPlugLoadLRTV&gt;Load_StatusDRLights</td>\n      <td>0.986301</td>\n      <td>0.994475</td>\n      <td>{'41': [[['2013-08-11 08:29:06', '2013-08-11 10:29:05'], ['2013-08-11 09:29:06', '2013-08-11 09:59:06']], [['2013-08-11 18:09:05', '2013-08-11 22:39:04'], ['2013-08-11 19:14:05', '2013-08-11 20:29...</td>\n      <td>app_app</td>\n      <td>False</td>\n      <td>1stFloor</td>\n    </tr>\n    <tr>\n      <th>248</th>\n      <td>Load_StatusPlugLoadLRTV&gt;Load_StatusLivingRoomLights</td>\n      <td>0.983562</td>\n      <td>0.994460</td>\n      <td>{'41': [[['2013-08-11 18:09:05', '2013-08-11 22:39:04'], ['2013-08-11 18:59:05', '2013-08-11 19:14:05']], [['2013-08-11 18:09:05', '2013-08-11 22:39:04'], ['2013-08-11 19:29:05', '2013-08-11 22:29...</td>\n      <td>app_app</td>\n      <td>False</td>\n      <td>1stFloor</td>\n    </tr>\n    <tr>\n      <th>302</th>\n      <td>Load_StatusBR2Lights&gt;Load_StatusMasterBedroomLights</td>\n      <td>0.983562</td>\n      <td>0.991713</td>\n      <td>{'41': [[['2013-08-11 18:19:05', '2013-08-12 00:00:04'], ['2013-08-11 21:59:05', '2013-08-11 22:59:04']]], '144': [[['2013-11-22 06:39:09', '2013-11-22 06:59:09'], ['2013-11-22 06:44:09', '2013-11...</td>\n      <td>app_app</td>\n      <td>False</td>\n      <td>2ndFloor</td>\n    </tr>\n    <tr>\n      <th>307</th>\n      <td>Load_StatusBR2Lights&gt;Load_StatusBR3Lights</td>\n      <td>0.991781</td>\n      <td>1.000000</td>\n      <td>{'41': [[['2013-08-11 18:19:05', '2013-08-12 00:00:04'], ['2013-08-11 18:29:05', '2013-08-11 20:29:05']]], '144': [[['2013-11-22 06:39:09', '2013-11-22 06:59:09'], ['2013-11-22 06:49:09', '2013-11...</td>\n      <td>app_app</td>\n      <td>False</td>\n      <td>2ndFloor</td>\n    </tr>\n    <tr>\n      <th>410</th>\n      <td>Load_StatusLivingRoomLights&gt;Load_StatusBA1Lights</td>\n      <td>0.983562</td>\n      <td>0.994460</td>\n      <td>{'41': [[['2013-08-11 17:59:05', '2013-08-11 18:29:05'], ['2013-08-11 18:01:05', '2013-08-11 18:05:05']]], '144': [[['2013-11-22 19:29:08', '2013-11-22 23:29:08'], ['2013-11-22 22:17:08', '2013-11...</td>\n      <td>app_app</td>\n      <td>False</td>\n      <td>1stFloor</td>\n    </tr>\n    <tr>\n      <th>497</th>\n      <td>Load_StatusApplianceCooktop|Load_StatusPlugLoadLRTV</td>\n      <td>0.980822</td>\n      <td>0.994444</td>\n      <td>{'41': [[['2013-08-11 08:14:06', '2013-08-11 08:31:06'], ['2013-08-11 08:29:06', '2013-08-11 10:29:05']], [['2013-08-11 18:01:05', '2013-08-11 18:18:05'], ['2013-08-11 18:09:05', '2013-08-11 22:39...</td>\n      <td>app_app</td>\n      <td>False</td>\n      <td>1stFloor</td>\n    </tr>\n    <tr>\n      <th>502</th>\n      <td>Load_StatusApplianceCooktop&gt;Load_StatusApplianceRangeHood</td>\n      <td>0.986301</td>\n      <td>1.000000</td>\n      <td>{'41': [[['2013-08-11 08:14:06', '2013-08-11 08:31:06'], ['2013-08-11 08:14:06', '2013-08-11 08:31:06']], [['2013-08-11 12:01:05', '2013-08-11 12:18:05'], ['2013-08-11 12:01:05', '2013-08-11 12:18...</td>\n      <td>app_app</td>\n      <td>False</td>\n      <td>1stFloor</td>\n    </tr>\n    <tr>\n      <th>511</th>\n      <td>Load_StatusApplianceRangeHood|Load_StatusPlugLoadLRTV</td>\n      <td>0.980822</td>\n      <td>0.994444</td>\n      <td>{'41': [[['2013-08-11 08:14:06', '2013-08-11 08:31:06'], ['2013-08-11 08:29:06', '2013-08-11 10:29:05']], [['2013-08-11 18:01:05', '2013-08-11 18:18:05'], ['2013-08-11 18:09:05', '2013-08-11 22:39...</td>\n      <td>app_app</td>\n      <td>False</td>\n      <td>1stFloor</td>\n    </tr>\n    <tr>\n      <th>536</th>\n      <td>Load_StatusPlugLoadBR2Laptop&gt;Load_StatusPlugLoadBR3Laptop</td>\n      <td>0.986301</td>\n      <td>0.997230</td>\n      <td>{'41': [[['2013-08-11 18:29:05', '2013-08-11 21:59:05'], ['2013-08-11 18:29:05', '2013-08-11 20:14:05']]], '144': [[['2013-11-22 18:29:08', '2013-11-22 20:59:08'], ['2013-11-22 18:29:08', '2013-11...</td>\n      <td>app_app</td>\n      <td>False</td>\n      <td>2ndFloor</td>\n    </tr>\n    <tr>\n      <th>609</th>\n      <td>Load_StatusPlugLoadCanOpener&gt;Load_StatusPlugLoadHandMixer</td>\n      <td>0.989041</td>\n      <td>1.000000</td>\n      <td>{'41': [[['2013-08-11 18:39:05', '2013-08-11 18:46:05'], ['2013-08-11 18:39:05', '2013-08-11 18:41:05']]], '144': [[['2013-11-22 18:39:08', '2013-11-22 18:46:08'], ['2013-11-22 18:39:08', '2013-11...</td>\n      <td>app_app</td>\n      <td>False</td>\n      <td>1stFloor</td>\n    </tr>\n    <tr>\n      <th>612</th>\n      <td>Load_StatusPlugLoadHandMixer&gt;Load_StatusPlugLoadCanOpener</td>\n      <td>0.989041</td>\n      <td>1.000000</td>\n      <td>{'41': [[['2013-08-11 18:39:05', '2013-08-11 18:41:05'], ['2013-08-11 18:39:05', '2013-08-11 18:46:05']]], '144': [[['2013-11-22 18:39:08', '2013-11-22 18:41:08'], ['2013-11-22 18:39:08', '2013-11...</td>\n      <td>app_app</td>\n      <td>False</td>\n      <td>1stFloor</td>\n    </tr>\n    <tr>\n      <th>618</th>\n      <td>Load_StatusPlugLoadFan&gt;Load_StatusPlugLoadHeatingPad</td>\n      <td>0.978082</td>\n      <td>1.000000</td>\n      <td>{'41': [[['2013-08-11 21:59:05', '2013-08-11 23:58:04'], ['2013-08-11 21:59:05', '2013-08-11 22:14:05']]], '144': [[['2013-11-22 23:29:08', '2013-11-22 23:58:08'], ['2013-11-22 23:29:08', '2013-11...</td>\n      <td>app_app</td>\n      <td>False</td>\n      <td>2ndFloor</td>\n    </tr>\n  </tbody>\n</table>\n</div>"
     },
     "execution_count": 87,
     "metadata": {},
     "output_type": "execute_result"
    }
   ],
   "source": [
    "appended_data.loc[lambda self: (self['conf'] > 0.99)]"
   ],
   "metadata": {
    "collapsed": false,
    "pycharm": {
     "name": "#%%\n"
    }
   }
  },
  {
   "cell_type": "code",
   "execution_count": 88,
   "outputs": [
    {
     "data": {
      "text/plain": "                                                           pattern      supp  \\\n65                   Load_StatusKitchenLights>Load_StatusMBALights  0.991781   \n75                   Load_StatusKitchenLights>Load_StatusBA2Lights  0.991781   \n558      Load_StatusPlugLoadBR3Laptop>Load_StatusPlugLoadCanOpener  0.989041   \n559      Load_StatusPlugLoadBR3Laptop>Load_StatusPlugLoadHandMixer  0.989041   \n7             Load_StatusMBALights->Load_StatusMasterBedroomLights  0.991781   \n124  Load_StatusPlugLoadCoffeeMaker>Load_StatusPlugLoadToasterOven  0.980822   \n127      Load_StatusPlugLoadCoffeeMaker>Load_StatusPlugLoadToaster  0.980822   \n307                      Load_StatusBR2Lights>Load_StatusBR3Lights  0.991781   \n502      Load_StatusApplianceCooktop>Load_StatusApplianceRangeHood  0.986301   \n609      Load_StatusPlugLoadCanOpener>Load_StatusPlugLoadHandMixer  0.989041   \n612      Load_StatusPlugLoadHandMixer>Load_StatusPlugLoadCanOpener  0.989041   \n618           Load_StatusPlugLoadFan>Load_StatusPlugLoadHeatingPad  0.978082   \n\n     conf  \\\n65    1.0   \n75    1.0   \n558   1.0   \n559   1.0   \n7     1.0   \n124   1.0   \n127   1.0   \n307   1.0   \n502   1.0   \n609   1.0   \n612   1.0   \n618   1.0   \n\n                                                                                                                                                                                                        time  \\\n65   {'41': [[['2013-08-11 17:59:05', '2013-08-11 18:29:05'], ['2013-08-11 18:00:05', '2013-08-11 18:05:05']], [['2013-08-11 20:29:05', '2013-08-11 22:29:05'], ['2013-08-11 22:04:05', '2013-08-11 22:24...   \n75   {'41': [[['2013-08-11 08:14:06', '2013-08-11 09:59:06'], ['2013-08-11 08:44:06', '2013-08-11 09:14:06']], [['2013-08-11 17:59:05', '2013-08-11 18:29:05'], ['2013-08-11 18:07:05', '2013-08-11 18:17...   \n558  {'41': [[['2013-08-11 18:29:05', '2013-08-11 20:14:05'], ['2013-08-11 18:39:05', '2013-08-11 18:46:05']]], '144': [[['2013-11-22 18:29:08', '2013-11-22 20:59:08'], ['2013-11-22 18:39:08', '2013-11...   \n559  {'41': [[['2013-08-11 18:29:05', '2013-08-11 20:14:05'], ['2013-08-11 18:39:05', '2013-08-11 18:41:05']]], '144': [[['2013-11-22 18:29:08', '2013-11-22 20:59:08'], ['2013-11-22 18:39:08', '2013-11...   \n7    {'41': [[['2013-08-11 09:59:06', '2013-08-11 10:14:05'], ['2013-08-11 10:14:05', '2013-08-11 10:59:05']], [['2013-08-11 18:00:05', '2013-08-11 18:05:05'], ['2013-08-11 18:06:05', '2013-08-11 18:29...   \n124  {'41': [[['2013-08-11 09:09:06', '2013-08-11 09:27:06'], ['2013-08-11 09:19:06', '2013-08-11 09:29:06']]], '144': [[['2013-11-22 06:09:09', '2013-11-22 06:26:09'], ['2013-11-22 06:14:09', '2013-11...   \n127  {'41': [[['2013-08-11 09:09:06', '2013-08-11 09:27:06'], ['2013-08-11 09:19:06', '2013-08-11 09:30:06']]], '144': [[['2013-11-22 06:09:09', '2013-11-22 06:26:09'], ['2013-11-22 06:19:09', '2013-11...   \n307  {'41': [[['2013-08-11 18:19:05', '2013-08-12 00:00:04'], ['2013-08-11 18:29:05', '2013-08-11 20:29:05']]], '144': [[['2013-11-22 06:39:09', '2013-11-22 06:59:09'], ['2013-11-22 06:49:09', '2013-11...   \n502  {'41': [[['2013-08-11 08:14:06', '2013-08-11 08:31:06'], ['2013-08-11 08:14:06', '2013-08-11 08:31:06']], [['2013-08-11 12:01:05', '2013-08-11 12:18:05'], ['2013-08-11 12:01:05', '2013-08-11 12:18...   \n609  {'41': [[['2013-08-11 18:39:05', '2013-08-11 18:46:05'], ['2013-08-11 18:39:05', '2013-08-11 18:41:05']]], '144': [[['2013-11-22 18:39:08', '2013-11-22 18:46:08'], ['2013-11-22 18:39:08', '2013-11...   \n612  {'41': [[['2013-08-11 18:39:05', '2013-08-11 18:41:05'], ['2013-08-11 18:39:05', '2013-08-11 18:46:05']]], '144': [[['2013-11-22 18:39:08', '2013-11-22 18:41:08'], ['2013-11-22 18:39:08', '2013-11...   \n618  {'41': [[['2013-08-11 21:59:05', '2013-08-11 23:58:04'], ['2013-08-11 21:59:05', '2013-08-11 22:14:05']]], '144': [[['2013-11-22 23:29:08', '2013-11-22 23:58:08'], ['2013-11-22 23:29:08', '2013-11...   \n\n        rule multi_floor     floor  \n65   app_app        True     multi  \n75   app_app        True     multi  \n558  app_app        True     multi  \n559  app_app        True     multi  \n7    app_app       False  2ndFloor  \n124  app_app       False  1stFloor  \n127  app_app       False  1stFloor  \n307  app_app       False  2ndFloor  \n502  app_app       False  1stFloor  \n609  app_app       False  1stFloor  \n612  app_app       False  1stFloor  \n618  app_app       False  2ndFloor  ",
      "text/html": "<div>\n<style scoped>\n    .dataframe tbody tr th:only-of-type {\n        vertical-align: middle;\n    }\n\n    .dataframe tbody tr th {\n        vertical-align: top;\n    }\n\n    .dataframe thead th {\n        text-align: right;\n    }\n</style>\n<table border=\"1\" class=\"dataframe\">\n  <thead>\n    <tr style=\"text-align: right;\">\n      <th></th>\n      <th>pattern</th>\n      <th>supp</th>\n      <th>conf</th>\n      <th>time</th>\n      <th>rule</th>\n      <th>multi_floor</th>\n      <th>floor</th>\n    </tr>\n  </thead>\n  <tbody>\n    <tr>\n      <th>65</th>\n      <td>Load_StatusKitchenLights&gt;Load_StatusMBALights</td>\n      <td>0.991781</td>\n      <td>1.0</td>\n      <td>{'41': [[['2013-08-11 17:59:05', '2013-08-11 18:29:05'], ['2013-08-11 18:00:05', '2013-08-11 18:05:05']], [['2013-08-11 20:29:05', '2013-08-11 22:29:05'], ['2013-08-11 22:04:05', '2013-08-11 22:24...</td>\n      <td>app_app</td>\n      <td>True</td>\n      <td>multi</td>\n    </tr>\n    <tr>\n      <th>75</th>\n      <td>Load_StatusKitchenLights&gt;Load_StatusBA2Lights</td>\n      <td>0.991781</td>\n      <td>1.0</td>\n      <td>{'41': [[['2013-08-11 08:14:06', '2013-08-11 09:59:06'], ['2013-08-11 08:44:06', '2013-08-11 09:14:06']], [['2013-08-11 17:59:05', '2013-08-11 18:29:05'], ['2013-08-11 18:07:05', '2013-08-11 18:17...</td>\n      <td>app_app</td>\n      <td>True</td>\n      <td>multi</td>\n    </tr>\n    <tr>\n      <th>558</th>\n      <td>Load_StatusPlugLoadBR3Laptop&gt;Load_StatusPlugLoadCanOpener</td>\n      <td>0.989041</td>\n      <td>1.0</td>\n      <td>{'41': [[['2013-08-11 18:29:05', '2013-08-11 20:14:05'], ['2013-08-11 18:39:05', '2013-08-11 18:46:05']]], '144': [[['2013-11-22 18:29:08', '2013-11-22 20:59:08'], ['2013-11-22 18:39:08', '2013-11...</td>\n      <td>app_app</td>\n      <td>True</td>\n      <td>multi</td>\n    </tr>\n    <tr>\n      <th>559</th>\n      <td>Load_StatusPlugLoadBR3Laptop&gt;Load_StatusPlugLoadHandMixer</td>\n      <td>0.989041</td>\n      <td>1.0</td>\n      <td>{'41': [[['2013-08-11 18:29:05', '2013-08-11 20:14:05'], ['2013-08-11 18:39:05', '2013-08-11 18:41:05']]], '144': [[['2013-11-22 18:29:08', '2013-11-22 20:59:08'], ['2013-11-22 18:39:08', '2013-11...</td>\n      <td>app_app</td>\n      <td>True</td>\n      <td>multi</td>\n    </tr>\n    <tr>\n      <th>7</th>\n      <td>Load_StatusMBALights-&gt;Load_StatusMasterBedroomLights</td>\n      <td>0.991781</td>\n      <td>1.0</td>\n      <td>{'41': [[['2013-08-11 09:59:06', '2013-08-11 10:14:05'], ['2013-08-11 10:14:05', '2013-08-11 10:59:05']], [['2013-08-11 18:00:05', '2013-08-11 18:05:05'], ['2013-08-11 18:06:05', '2013-08-11 18:29...</td>\n      <td>app_app</td>\n      <td>False</td>\n      <td>2ndFloor</td>\n    </tr>\n    <tr>\n      <th>124</th>\n      <td>Load_StatusPlugLoadCoffeeMaker&gt;Load_StatusPlugLoadToasterOven</td>\n      <td>0.980822</td>\n      <td>1.0</td>\n      <td>{'41': [[['2013-08-11 09:09:06', '2013-08-11 09:27:06'], ['2013-08-11 09:19:06', '2013-08-11 09:29:06']]], '144': [[['2013-11-22 06:09:09', '2013-11-22 06:26:09'], ['2013-11-22 06:14:09', '2013-11...</td>\n      <td>app_app</td>\n      <td>False</td>\n      <td>1stFloor</td>\n    </tr>\n    <tr>\n      <th>127</th>\n      <td>Load_StatusPlugLoadCoffeeMaker&gt;Load_StatusPlugLoadToaster</td>\n      <td>0.980822</td>\n      <td>1.0</td>\n      <td>{'41': [[['2013-08-11 09:09:06', '2013-08-11 09:27:06'], ['2013-08-11 09:19:06', '2013-08-11 09:30:06']]], '144': [[['2013-11-22 06:09:09', '2013-11-22 06:26:09'], ['2013-11-22 06:19:09', '2013-11...</td>\n      <td>app_app</td>\n      <td>False</td>\n      <td>1stFloor</td>\n    </tr>\n    <tr>\n      <th>307</th>\n      <td>Load_StatusBR2Lights&gt;Load_StatusBR3Lights</td>\n      <td>0.991781</td>\n      <td>1.0</td>\n      <td>{'41': [[['2013-08-11 18:19:05', '2013-08-12 00:00:04'], ['2013-08-11 18:29:05', '2013-08-11 20:29:05']]], '144': [[['2013-11-22 06:39:09', '2013-11-22 06:59:09'], ['2013-11-22 06:49:09', '2013-11...</td>\n      <td>app_app</td>\n      <td>False</td>\n      <td>2ndFloor</td>\n    </tr>\n    <tr>\n      <th>502</th>\n      <td>Load_StatusApplianceCooktop&gt;Load_StatusApplianceRangeHood</td>\n      <td>0.986301</td>\n      <td>1.0</td>\n      <td>{'41': [[['2013-08-11 08:14:06', '2013-08-11 08:31:06'], ['2013-08-11 08:14:06', '2013-08-11 08:31:06']], [['2013-08-11 12:01:05', '2013-08-11 12:18:05'], ['2013-08-11 12:01:05', '2013-08-11 12:18...</td>\n      <td>app_app</td>\n      <td>False</td>\n      <td>1stFloor</td>\n    </tr>\n    <tr>\n      <th>609</th>\n      <td>Load_StatusPlugLoadCanOpener&gt;Load_StatusPlugLoadHandMixer</td>\n      <td>0.989041</td>\n      <td>1.0</td>\n      <td>{'41': [[['2013-08-11 18:39:05', '2013-08-11 18:46:05'], ['2013-08-11 18:39:05', '2013-08-11 18:41:05']]], '144': [[['2013-11-22 18:39:08', '2013-11-22 18:46:08'], ['2013-11-22 18:39:08', '2013-11...</td>\n      <td>app_app</td>\n      <td>False</td>\n      <td>1stFloor</td>\n    </tr>\n    <tr>\n      <th>612</th>\n      <td>Load_StatusPlugLoadHandMixer&gt;Load_StatusPlugLoadCanOpener</td>\n      <td>0.989041</td>\n      <td>1.0</td>\n      <td>{'41': [[['2013-08-11 18:39:05', '2013-08-11 18:41:05'], ['2013-08-11 18:39:05', '2013-08-11 18:46:05']]], '144': [[['2013-11-22 18:39:08', '2013-11-22 18:41:08'], ['2013-11-22 18:39:08', '2013-11...</td>\n      <td>app_app</td>\n      <td>False</td>\n      <td>1stFloor</td>\n    </tr>\n    <tr>\n      <th>618</th>\n      <td>Load_StatusPlugLoadFan&gt;Load_StatusPlugLoadHeatingPad</td>\n      <td>0.978082</td>\n      <td>1.0</td>\n      <td>{'41': [[['2013-08-11 21:59:05', '2013-08-11 23:58:04'], ['2013-08-11 21:59:05', '2013-08-11 22:14:05']]], '144': [[['2013-11-22 23:29:08', '2013-11-22 23:58:08'], ['2013-11-22 23:29:08', '2013-11...</td>\n      <td>app_app</td>\n      <td>False</td>\n      <td>2ndFloor</td>\n    </tr>\n  </tbody>\n</table>\n</div>"
     },
     "execution_count": 88,
     "metadata": {},
     "output_type": "execute_result"
    }
   ],
   "source": [
    "appended_data.loc[lambda self: (self['conf'] == 1)]"
   ],
   "metadata": {
    "collapsed": false,
    "pycharm": {
     "name": "#%%\n"
    }
   }
  },
  {
   "cell_type": "code",
   "execution_count": 88,
   "outputs": [],
   "source": [],
   "metadata": {
    "collapsed": false,
    "pycharm": {
     "name": "#%%\n"
    }
   }
  },
  {
   "cell_type": "markdown",
   "source": [],
   "metadata": {
    "collapsed": false
   }
  },
  {
   "cell_type": "markdown",
   "source": [
    "## Power consumption (Compute appliance power consumption need)"
   ],
   "metadata": {
    "collapsed": false
   }
  },
  {
   "cell_type": "code",
   "execution_count": 88,
   "outputs": [],
   "source": [],
   "metadata": {
    "collapsed": false,
    "pycharm": {
     "name": "#%%\n"
    }
   }
  },
  {
   "cell_type": "markdown",
   "source": [
    "## Standby power consumption (Analyse if appliance have standby and how much power it consumes on standby)"
   ],
   "metadata": {
    "collapsed": false
   }
  },
  {
   "cell_type": "code",
   "execution_count": 88,
   "outputs": [],
   "source": [],
   "metadata": {
    "collapsed": false,
    "pycharm": {
     "name": "#%%\n"
    }
   }
  },
  {
   "cell_type": "markdown",
   "source": [
    "## Energy needed: Power consumption multiply with minutes turned on / seconds per minute ((W/s)/(60s/min))*min"
   ],
   "metadata": {
    "collapsed": false
   }
  },
  {
   "cell_type": "code",
   "execution_count": 88,
   "outputs": [],
   "source": [],
   "metadata": {
    "collapsed": false,
    "pycharm": {
     "name": "#%%\n"
    }
   }
  },
  {
   "cell_type": "markdown",
   "source": [
    "# Phase 3\n",
    "Maybe the patterns can help some of the constraints\n",
    "    o\tWashing machine can be used at every hour, but maybe the constraints of the user can be found in the patterns\n",
    "        -\tE.g. General constraint that the appliances cant be started when the users are not home\n",
    "        -\tDryer have to be started after the clotheswasher, so the clotheswasher cannot be started right before they go out of the house."
   ],
   "metadata": {
    "collapsed": false
   }
  },
  {
   "cell_type": "code",
   "execution_count": 88,
   "outputs": [],
   "source": [],
   "metadata": {
    "collapsed": false,
    "pycharm": {
     "name": "#%%\n"
    }
   }
  }
 ],
 "metadata": {
  "kernelspec": {
   "display_name": "Python 3",
   "language": "python",
   "name": "python3"
  },
  "language_info": {
   "codemirror_mode": {
    "name": "ipython",
    "version": 2
   },
   "file_extension": ".py",
   "mimetype": "text/x-python",
   "name": "python",
   "nbconvert_exporter": "python",
   "pygments_lexer": "ipython2",
   "version": "2.7.6"
  }
 },
 "nbformat": 4,
 "nbformat_minor": 0
}
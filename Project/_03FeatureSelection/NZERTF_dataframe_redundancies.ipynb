{
 "cells": [
  {
   "cell_type": "code",
   "execution_count": 1,
   "metadata": {
    "collapsed": true,
    "pycharm": {
     "name": "#%%\n"
    }
   },
   "outputs": [],
   "source": [
    "import pandas as pd\n",
    "\n",
    "from Project._03FeatureSelection.NZERTF_dataframe_redundancy_functions import create_redundancy_dataframes, find_average_power_consumption"
   ]
  },
  {
   "cell_type": "code",
   "execution_count": 2,
   "outputs": [],
   "source": [
    "timestamp_dict = create_redundancy_dataframes().copy()"
   ],
   "metadata": {
    "collapsed": false,
    "pycharm": {
     "name": "#%%\n"
    }
   }
  },
  {
   "cell_type": "code",
   "execution_count": 3,
   "outputs": [],
   "source": [
    "power_consumption_df = find_average_power_consumption().loc[lambda self: self.index.isin(timestamp_dict['Year2'].columns[1:])]"
   ],
   "metadata": {
    "collapsed": false,
    "pycharm": {
     "name": "#%%\n"
    }
   }
  },
  {
   "cell_type": "code",
   "execution_count": 4,
   "outputs": [
    {
     "data": {
      "text/plain": "Load_StatusBA1Lights                      48.0\nLoad_StatusBA2Lights                      11.0\nLoad_StatusBR2Lights                      40.0\nLoad_StatusBR3Lights                      33.0\nLoad_StatusBR4Lights                      27.0\nLoad_StatusDRLights                       38.0\nLoad_StatusEntryHallLights                16.0\nLoad_StatusKitchenLightsA                 28.0\nLoad_StatusKitchenLightsB                 33.0\nLoad_StatusKitchenLightsC                 28.0\nLoad_StatusLRLights1                      18.0\nLoad_StatusLRLights2                      41.0\nLoad_StatusLRLights3                      27.0\nLoad_StatusMBALights                      84.0\nLoad_StatusMBRLights1                     25.0\nLoad_StatusMBRLights2                     25.0\nLoad_StatusPlugLoadBR2Laptop              55.0\nLoad_StatusPlugLoadBR3Laptop              34.0\nLoad_StatusPlugLoadBlender               191.0\nLoad_StatusPlugLoadCanOpener              93.0\nLoad_StatusPlugLoadDesktopPCMonitor       88.0\nLoad_StatusPlugLoadFan                    50.0\nLoad_StatusPlugLoadHairDryerCurlIron    1515.0\nLoad_StatusPlugLoadHandMixer              91.0\nLoad_StatusPlugLoadHeatingPad             38.0\nLoad_StatusPlugLoadIron                 1303.0\nLoad_StatusPlugLoadLRBlueRay              38.0\nLoad_StatusPlugLoadLRTV                   69.0\nLoad_StatusPlugLoadMBRBlueRay             34.0\nLoad_StatusPlugLoadMBRTV                 156.0\nLoad_StatusPlugLoadVacuum                583.0\nLoad_StatusPlugLoadVideoGame              32.0\ndtype: float64"
     },
     "execution_count": 4,
     "metadata": {},
     "output_type": "execute_result"
    }
   ],
   "source": [
    "power_consumption_df"
   ],
   "metadata": {
    "collapsed": false,
    "pycharm": {
     "name": "#%%\n"
    }
   }
  },
  {
   "cell_type": "code",
   "execution_count": 5,
   "outputs": [
    {
     "data": {
      "text/plain": "                 Timestamp  Load_StatusBA1Lights  Load_StatusKitchenLightsA  \\\n538    2015-02-01 08:59:49                   0.0                        0.0   \n539    2015-02-01 09:00:49                   0.0                        0.0   \n540    2015-02-01 09:01:49                   0.0                        0.0   \n541    2015-02-01 09:02:49                   0.0                        0.0   \n542    2015-02-01 09:03:49                   0.0                        0.0   \n...                    ...                   ...                        ...   \n519520 2016-01-31 22:35:24                   0.0                        0.0   \n519521 2016-01-31 22:36:24                   0.0                        0.0   \n519522 2016-01-31 22:37:24                   0.0                        0.0   \n519523 2016-01-31 22:38:24                   0.0                        0.0   \n519603 2016-01-31 23:58:24                   0.0                        0.0   \n\n        Load_StatusKitchenLightsB  Load_StatusKitchenLightsC  \\\n538                           0.0                        0.0   \n539                           0.0                        0.0   \n540                           0.0                        0.0   \n541                           0.0                        0.0   \n542                           0.0                        0.0   \n...                           ...                        ...   \n519520                        0.0                        0.0   \n519521                        0.0                        0.0   \n519522                        0.0                        0.0   \n519523                        0.0                        0.0   \n519603                        0.0                        0.0   \n\n        Load_StatusDRLights  Load_StatusLRLights3  Load_StatusEntryHallLights  \\\n538                     0.0                   0.0                         0.0   \n539                     0.0                   0.0                         0.0   \n540                     0.0                   0.0                         0.0   \n541                     0.0                   0.0                         0.0   \n542                     0.0                   0.0                         0.0   \n...                     ...                   ...                         ...   \n519520                  0.0                   0.0                         0.0   \n519521                  0.0                   0.0                         0.0   \n519522                  0.0                   0.0                         0.0   \n519523                  0.0                   0.0                         0.0   \n519603                  0.0                   0.0                         0.0   \n\n        Load_StatusBR4Lights  Load_StatusMBALights  ...  \\\n538                      0.0                   0.0  ...   \n539                      0.0                   0.0  ...   \n540                      0.0                   0.0  ...   \n541                      0.0                   0.0  ...   \n542                      0.0                   0.0  ...   \n...                      ...                   ...  ...   \n519520                   0.0                   0.0  ...   \n519521                   0.0                   0.0  ...   \n519522                   0.0                   0.0  ...   \n519523                   0.0                   0.0  ...   \n519603                   0.0                   0.0  ...   \n\n        Load_StatusPlugLoadVacuum  Load_StatusPlugLoadDesktopPCMonitor  \\\n538                           0.0                                  0.0   \n539                           0.0                                  0.0   \n540                           0.0                                  0.0   \n541                           0.0                                  0.0   \n542                           0.0                                  0.0   \n...                           ...                                  ...   \n519520                        0.0                                  0.0   \n519521                        0.0                                  0.0   \n519522                        0.0                                  0.0   \n519523                        0.0                                  0.0   \n519603                        0.0                                  0.0   \n\n        Load_StatusPlugLoadHairDryerCurlIron  Load_StatusPlugLoadBR2Laptop  \\\n538                                      0.0                           0.0   \n539                                      0.0                           0.0   \n540                                      0.0                           0.0   \n541                                      0.0                           0.0   \n542                                      0.0                           0.0   \n...                                      ...                           ...   \n519520                                   0.0                           0.0   \n519521                                   0.0                           0.0   \n519522                                   0.0                           0.0   \n519523                                   0.0                           0.0   \n519603                                   0.0                           0.0   \n\n        Load_StatusPlugLoadBR3Laptop  Load_StatusPlugLoadMBRTV  \\\n538                              0.0                       0.0   \n539                              0.0                       0.0   \n540                              0.0                       0.0   \n541                              0.0                       0.0   \n542                              0.0                       0.0   \n...                              ...                       ...   \n519520                           0.0                       0.0   \n519521                           0.0                       0.0   \n519522                           0.0                       0.0   \n519523                           0.0                       0.0   \n519603                           0.0                       0.0   \n\n        Load_StatusPlugLoadMBRBlueRay  Load_StatusPlugLoadFan  \\\n538                               0.0                     0.0   \n539                               0.0                     0.0   \n540                               0.0                     0.0   \n541                               0.0                     0.0   \n542                               0.0                     0.0   \n...                               ...                     ...   \n519520                            0.0                     0.0   \n519521                            0.0                     0.0   \n519522                            0.0                     0.0   \n519523                            0.0                     0.0   \n519603                            0.0                     0.0   \n\n        Load_StatusPlugLoadHeatingPad  Load_StatusPlugLoadIron  \n538                               0.0                      0.0  \n539                               0.0                      0.0  \n540                               0.0                      0.0  \n541                               0.0                      0.0  \n542                               0.0                      0.0  \n...                               ...                      ...  \n519520                            0.0                      0.0  \n519521                            0.0                      0.0  \n519522                            0.0                      0.0  \n519523                            0.0                      0.0  \n519603                            0.0                      0.0  \n\n[22255 rows x 33 columns]",
      "text/html": "<div>\n<style scoped>\n    .dataframe tbody tr th:only-of-type {\n        vertical-align: middle;\n    }\n\n    .dataframe tbody tr th {\n        vertical-align: top;\n    }\n\n    .dataframe thead th {\n        text-align: right;\n    }\n</style>\n<table border=\"1\" class=\"dataframe\">\n  <thead>\n    <tr style=\"text-align: right;\">\n      <th></th>\n      <th>Timestamp</th>\n      <th>Load_StatusBA1Lights</th>\n      <th>Load_StatusKitchenLightsA</th>\n      <th>Load_StatusKitchenLightsB</th>\n      <th>Load_StatusKitchenLightsC</th>\n      <th>Load_StatusDRLights</th>\n      <th>Load_StatusLRLights3</th>\n      <th>Load_StatusEntryHallLights</th>\n      <th>Load_StatusBR4Lights</th>\n      <th>Load_StatusMBALights</th>\n      <th>...</th>\n      <th>Load_StatusPlugLoadVacuum</th>\n      <th>Load_StatusPlugLoadDesktopPCMonitor</th>\n      <th>Load_StatusPlugLoadHairDryerCurlIron</th>\n      <th>Load_StatusPlugLoadBR2Laptop</th>\n      <th>Load_StatusPlugLoadBR3Laptop</th>\n      <th>Load_StatusPlugLoadMBRTV</th>\n      <th>Load_StatusPlugLoadMBRBlueRay</th>\n      <th>Load_StatusPlugLoadFan</th>\n      <th>Load_StatusPlugLoadHeatingPad</th>\n      <th>Load_StatusPlugLoadIron</th>\n    </tr>\n  </thead>\n  <tbody>\n    <tr>\n      <th>538</th>\n      <td>2015-02-01 08:59:49</td>\n      <td>0.0</td>\n      <td>0.0</td>\n      <td>0.0</td>\n      <td>0.0</td>\n      <td>0.0</td>\n      <td>0.0</td>\n      <td>0.0</td>\n      <td>0.0</td>\n      <td>0.0</td>\n      <td>...</td>\n      <td>0.0</td>\n      <td>0.0</td>\n      <td>0.0</td>\n      <td>0.0</td>\n      <td>0.0</td>\n      <td>0.0</td>\n      <td>0.0</td>\n      <td>0.0</td>\n      <td>0.0</td>\n      <td>0.0</td>\n    </tr>\n    <tr>\n      <th>539</th>\n      <td>2015-02-01 09:00:49</td>\n      <td>0.0</td>\n      <td>0.0</td>\n      <td>0.0</td>\n      <td>0.0</td>\n      <td>0.0</td>\n      <td>0.0</td>\n      <td>0.0</td>\n      <td>0.0</td>\n      <td>0.0</td>\n      <td>...</td>\n      <td>0.0</td>\n      <td>0.0</td>\n      <td>0.0</td>\n      <td>0.0</td>\n      <td>0.0</td>\n      <td>0.0</td>\n      <td>0.0</td>\n      <td>0.0</td>\n      <td>0.0</td>\n      <td>0.0</td>\n    </tr>\n    <tr>\n      <th>540</th>\n      <td>2015-02-01 09:01:49</td>\n      <td>0.0</td>\n      <td>0.0</td>\n      <td>0.0</td>\n      <td>0.0</td>\n      <td>0.0</td>\n      <td>0.0</td>\n      <td>0.0</td>\n      <td>0.0</td>\n      <td>0.0</td>\n      <td>...</td>\n      <td>0.0</td>\n      <td>0.0</td>\n      <td>0.0</td>\n      <td>0.0</td>\n      <td>0.0</td>\n      <td>0.0</td>\n      <td>0.0</td>\n      <td>0.0</td>\n      <td>0.0</td>\n      <td>0.0</td>\n    </tr>\n    <tr>\n      <th>541</th>\n      <td>2015-02-01 09:02:49</td>\n      <td>0.0</td>\n      <td>0.0</td>\n      <td>0.0</td>\n      <td>0.0</td>\n      <td>0.0</td>\n      <td>0.0</td>\n      <td>0.0</td>\n      <td>0.0</td>\n      <td>0.0</td>\n      <td>...</td>\n      <td>0.0</td>\n      <td>0.0</td>\n      <td>0.0</td>\n      <td>0.0</td>\n      <td>0.0</td>\n      <td>0.0</td>\n      <td>0.0</td>\n      <td>0.0</td>\n      <td>0.0</td>\n      <td>0.0</td>\n    </tr>\n    <tr>\n      <th>542</th>\n      <td>2015-02-01 09:03:49</td>\n      <td>0.0</td>\n      <td>0.0</td>\n      <td>0.0</td>\n      <td>0.0</td>\n      <td>0.0</td>\n      <td>0.0</td>\n      <td>0.0</td>\n      <td>0.0</td>\n      <td>0.0</td>\n      <td>...</td>\n      <td>0.0</td>\n      <td>0.0</td>\n      <td>0.0</td>\n      <td>0.0</td>\n      <td>0.0</td>\n      <td>0.0</td>\n      <td>0.0</td>\n      <td>0.0</td>\n      <td>0.0</td>\n      <td>0.0</td>\n    </tr>\n    <tr>\n      <th>...</th>\n      <td>...</td>\n      <td>...</td>\n      <td>...</td>\n      <td>...</td>\n      <td>...</td>\n      <td>...</td>\n      <td>...</td>\n      <td>...</td>\n      <td>...</td>\n      <td>...</td>\n      <td>...</td>\n      <td>...</td>\n      <td>...</td>\n      <td>...</td>\n      <td>...</td>\n      <td>...</td>\n      <td>...</td>\n      <td>...</td>\n      <td>...</td>\n      <td>...</td>\n      <td>...</td>\n    </tr>\n    <tr>\n      <th>519520</th>\n      <td>2016-01-31 22:35:24</td>\n      <td>0.0</td>\n      <td>0.0</td>\n      <td>0.0</td>\n      <td>0.0</td>\n      <td>0.0</td>\n      <td>0.0</td>\n      <td>0.0</td>\n      <td>0.0</td>\n      <td>0.0</td>\n      <td>...</td>\n      <td>0.0</td>\n      <td>0.0</td>\n      <td>0.0</td>\n      <td>0.0</td>\n      <td>0.0</td>\n      <td>0.0</td>\n      <td>0.0</td>\n      <td>0.0</td>\n      <td>0.0</td>\n      <td>0.0</td>\n    </tr>\n    <tr>\n      <th>519521</th>\n      <td>2016-01-31 22:36:24</td>\n      <td>0.0</td>\n      <td>0.0</td>\n      <td>0.0</td>\n      <td>0.0</td>\n      <td>0.0</td>\n      <td>0.0</td>\n      <td>0.0</td>\n      <td>0.0</td>\n      <td>0.0</td>\n      <td>...</td>\n      <td>0.0</td>\n      <td>0.0</td>\n      <td>0.0</td>\n      <td>0.0</td>\n      <td>0.0</td>\n      <td>0.0</td>\n      <td>0.0</td>\n      <td>0.0</td>\n      <td>0.0</td>\n      <td>0.0</td>\n    </tr>\n    <tr>\n      <th>519522</th>\n      <td>2016-01-31 22:37:24</td>\n      <td>0.0</td>\n      <td>0.0</td>\n      <td>0.0</td>\n      <td>0.0</td>\n      <td>0.0</td>\n      <td>0.0</td>\n      <td>0.0</td>\n      <td>0.0</td>\n      <td>0.0</td>\n      <td>...</td>\n      <td>0.0</td>\n      <td>0.0</td>\n      <td>0.0</td>\n      <td>0.0</td>\n      <td>0.0</td>\n      <td>0.0</td>\n      <td>0.0</td>\n      <td>0.0</td>\n      <td>0.0</td>\n      <td>0.0</td>\n    </tr>\n    <tr>\n      <th>519523</th>\n      <td>2016-01-31 22:38:24</td>\n      <td>0.0</td>\n      <td>0.0</td>\n      <td>0.0</td>\n      <td>0.0</td>\n      <td>0.0</td>\n      <td>0.0</td>\n      <td>0.0</td>\n      <td>0.0</td>\n      <td>0.0</td>\n      <td>...</td>\n      <td>0.0</td>\n      <td>0.0</td>\n      <td>0.0</td>\n      <td>0.0</td>\n      <td>0.0</td>\n      <td>0.0</td>\n      <td>0.0</td>\n      <td>0.0</td>\n      <td>0.0</td>\n      <td>0.0</td>\n    </tr>\n    <tr>\n      <th>519603</th>\n      <td>2016-01-31 23:58:24</td>\n      <td>0.0</td>\n      <td>0.0</td>\n      <td>0.0</td>\n      <td>0.0</td>\n      <td>0.0</td>\n      <td>0.0</td>\n      <td>0.0</td>\n      <td>0.0</td>\n      <td>0.0</td>\n      <td>...</td>\n      <td>0.0</td>\n      <td>0.0</td>\n      <td>0.0</td>\n      <td>0.0</td>\n      <td>0.0</td>\n      <td>0.0</td>\n      <td>0.0</td>\n      <td>0.0</td>\n      <td>0.0</td>\n      <td>0.0</td>\n    </tr>\n  </tbody>\n</table>\n<p>22255 rows × 33 columns</p>\n</div>"
     },
     "execution_count": 5,
     "metadata": {},
     "output_type": "execute_result"
    }
   ],
   "source": [
    "timestamp_dict['Year2'].loc[lambda self: self[self.columns[1:]].sum(1) > 0]"
   ],
   "metadata": {
    "collapsed": false,
    "pycharm": {
     "name": "#%%\n"
    }
   }
  },
  {
   "cell_type": "code",
   "execution_count": 6,
   "outputs": [
    {
     "data": {
      "text/plain": "        Load_StatusBA1Lights  Load_StatusKitchenLightsA  \\\n0                        0.0                        0.0   \n1                        0.0                        0.0   \n2                        0.0                        0.0   \n3                        0.0                        0.0   \n4                        0.0                        0.0   \n...                      ...                        ...   \n519599                   0.0                        0.0   \n519600                   0.0                        0.0   \n519601                   0.0                        0.0   \n519602                   0.0                        0.0   \n519603                   0.0                        0.0   \n\n        Load_StatusKitchenLightsB  Load_StatusKitchenLightsC  \\\n0                             0.0                        0.0   \n1                             0.0                        0.0   \n2                             0.0                        0.0   \n3                             0.0                        0.0   \n4                             0.0                        0.0   \n...                           ...                        ...   \n519599                        0.0                        0.0   \n519600                        0.0                        0.0   \n519601                        0.0                        0.0   \n519602                        0.0                        0.0   \n519603                        0.0                        0.0   \n\n        Load_StatusDRLights  Load_StatusLRLights3  Load_StatusEntryHallLights  \\\n0                       0.0                   0.0                         0.0   \n1                       0.0                   0.0                         0.0   \n2                       0.0                   0.0                         0.0   \n3                       0.0                   0.0                         0.0   \n4                       0.0                   0.0                         0.0   \n...                     ...                   ...                         ...   \n519599                  0.0                   0.0                         0.0   \n519600                  0.0                   0.0                         0.0   \n519601                  0.0                   0.0                         0.0   \n519602                  0.0                   0.0                         0.0   \n519603                  0.0                   0.0                         0.0   \n\n        Load_StatusBR4Lights  Load_StatusMBALights  Load_StatusMBRLights1  \\\n0                        0.0                   0.0                    0.0   \n1                        0.0                   0.0                    0.0   \n2                        0.0                   0.0                    0.0   \n3                        0.0                   0.0                    0.0   \n4                        0.0                   0.0                    0.0   \n...                      ...                   ...                    ...   \n519599                   0.0                   0.0                    0.0   \n519600                   0.0                   0.0                    0.0   \n519601                   0.0                   0.0                    0.0   \n519602                   0.0                   0.0                    0.0   \n519603                   0.0                   0.0                    0.0   \n\n        ...  Load_StatusPlugLoadVacuum  Load_StatusPlugLoadDesktopPCMonitor  \\\n0       ...                        0.0                                  0.0   \n1       ...                        0.0                                  0.0   \n2       ...                        0.0                                  0.0   \n3       ...                        0.0                                  0.0   \n4       ...                        0.0                                  0.0   \n...     ...                        ...                                  ...   \n519599  ...                        0.0                                  0.0   \n519600  ...                        0.0                                  0.0   \n519601  ...                        0.0                                  0.0   \n519602  ...                        0.0                                  0.0   \n519603  ...                        0.0                                  0.0   \n\n        Load_StatusPlugLoadHairDryerCurlIron  Load_StatusPlugLoadBR2Laptop  \\\n0                                        0.0                           0.0   \n1                                        0.0                           0.0   \n2                                        0.0                           0.0   \n3                                        0.0                           0.0   \n4                                        0.0                           0.0   \n...                                      ...                           ...   \n519599                                   0.0                           0.0   \n519600                                   0.0                           0.0   \n519601                                   0.0                           0.0   \n519602                                   0.0                           0.0   \n519603                                   0.0                           0.0   \n\n        Load_StatusPlugLoadBR3Laptop  Load_StatusPlugLoadMBRTV  \\\n0                                0.0                       0.0   \n1                                0.0                       0.0   \n2                                0.0                       0.0   \n3                                0.0                       0.0   \n4                                0.0                       0.0   \n...                              ...                       ...   \n519599                           0.0                       0.0   \n519600                           0.0                       0.0   \n519601                           0.0                       0.0   \n519602                           0.0                       0.0   \n519603                           0.0                       0.0   \n\n        Load_StatusPlugLoadMBRBlueRay  Load_StatusPlugLoadFan  \\\n0                                 0.0                     0.0   \n1                                 0.0                     0.0   \n2                                 0.0                     0.0   \n3                                 0.0                     0.0   \n4                                 0.0                     0.0   \n...                               ...                     ...   \n519599                            0.0                     0.0   \n519600                            0.0                     0.0   \n519601                            0.0                     0.0   \n519602                            0.0                     0.0   \n519603                            0.0                     0.0   \n\n        Load_StatusPlugLoadHeatingPad  Load_StatusPlugLoadIron  \n0                                 0.0                      0.0  \n1                                 0.0                      0.0  \n2                                 0.0                      0.0  \n3                                 0.0                      0.0  \n4                                 0.0                      0.0  \n...                               ...                      ...  \n519599                            0.0                      0.0  \n519600                            0.0                      0.0  \n519601                            0.0                      0.0  \n519602                            0.0                      0.0  \n519603                            0.0                      0.0  \n\n[519604 rows x 32 columns]",
      "text/html": "<div>\n<style scoped>\n    .dataframe tbody tr th:only-of-type {\n        vertical-align: middle;\n    }\n\n    .dataframe tbody tr th {\n        vertical-align: top;\n    }\n\n    .dataframe thead th {\n        text-align: right;\n    }\n</style>\n<table border=\"1\" class=\"dataframe\">\n  <thead>\n    <tr style=\"text-align: right;\">\n      <th></th>\n      <th>Load_StatusBA1Lights</th>\n      <th>Load_StatusKitchenLightsA</th>\n      <th>Load_StatusKitchenLightsB</th>\n      <th>Load_StatusKitchenLightsC</th>\n      <th>Load_StatusDRLights</th>\n      <th>Load_StatusLRLights3</th>\n      <th>Load_StatusEntryHallLights</th>\n      <th>Load_StatusBR4Lights</th>\n      <th>Load_StatusMBALights</th>\n      <th>Load_StatusMBRLights1</th>\n      <th>...</th>\n      <th>Load_StatusPlugLoadVacuum</th>\n      <th>Load_StatusPlugLoadDesktopPCMonitor</th>\n      <th>Load_StatusPlugLoadHairDryerCurlIron</th>\n      <th>Load_StatusPlugLoadBR2Laptop</th>\n      <th>Load_StatusPlugLoadBR3Laptop</th>\n      <th>Load_StatusPlugLoadMBRTV</th>\n      <th>Load_StatusPlugLoadMBRBlueRay</th>\n      <th>Load_StatusPlugLoadFan</th>\n      <th>Load_StatusPlugLoadHeatingPad</th>\n      <th>Load_StatusPlugLoadIron</th>\n    </tr>\n  </thead>\n  <tbody>\n    <tr>\n      <th>0</th>\n      <td>0.0</td>\n      <td>0.0</td>\n      <td>0.0</td>\n      <td>0.0</td>\n      <td>0.0</td>\n      <td>0.0</td>\n      <td>0.0</td>\n      <td>0.0</td>\n      <td>0.0</td>\n      <td>0.0</td>\n      <td>...</td>\n      <td>0.0</td>\n      <td>0.0</td>\n      <td>0.0</td>\n      <td>0.0</td>\n      <td>0.0</td>\n      <td>0.0</td>\n      <td>0.0</td>\n      <td>0.0</td>\n      <td>0.0</td>\n      <td>0.0</td>\n    </tr>\n    <tr>\n      <th>1</th>\n      <td>0.0</td>\n      <td>0.0</td>\n      <td>0.0</td>\n      <td>0.0</td>\n      <td>0.0</td>\n      <td>0.0</td>\n      <td>0.0</td>\n      <td>0.0</td>\n      <td>0.0</td>\n      <td>0.0</td>\n      <td>...</td>\n      <td>0.0</td>\n      <td>0.0</td>\n      <td>0.0</td>\n      <td>0.0</td>\n      <td>0.0</td>\n      <td>0.0</td>\n      <td>0.0</td>\n      <td>0.0</td>\n      <td>0.0</td>\n      <td>0.0</td>\n    </tr>\n    <tr>\n      <th>2</th>\n      <td>0.0</td>\n      <td>0.0</td>\n      <td>0.0</td>\n      <td>0.0</td>\n      <td>0.0</td>\n      <td>0.0</td>\n      <td>0.0</td>\n      <td>0.0</td>\n      <td>0.0</td>\n      <td>0.0</td>\n      <td>...</td>\n      <td>0.0</td>\n      <td>0.0</td>\n      <td>0.0</td>\n      <td>0.0</td>\n      <td>0.0</td>\n      <td>0.0</td>\n      <td>0.0</td>\n      <td>0.0</td>\n      <td>0.0</td>\n      <td>0.0</td>\n    </tr>\n    <tr>\n      <th>3</th>\n      <td>0.0</td>\n      <td>0.0</td>\n      <td>0.0</td>\n      <td>0.0</td>\n      <td>0.0</td>\n      <td>0.0</td>\n      <td>0.0</td>\n      <td>0.0</td>\n      <td>0.0</td>\n      <td>0.0</td>\n      <td>...</td>\n      <td>0.0</td>\n      <td>0.0</td>\n      <td>0.0</td>\n      <td>0.0</td>\n      <td>0.0</td>\n      <td>0.0</td>\n      <td>0.0</td>\n      <td>0.0</td>\n      <td>0.0</td>\n      <td>0.0</td>\n    </tr>\n    <tr>\n      <th>4</th>\n      <td>0.0</td>\n      <td>0.0</td>\n      <td>0.0</td>\n      <td>0.0</td>\n      <td>0.0</td>\n      <td>0.0</td>\n      <td>0.0</td>\n      <td>0.0</td>\n      <td>0.0</td>\n      <td>0.0</td>\n      <td>...</td>\n      <td>0.0</td>\n      <td>0.0</td>\n      <td>0.0</td>\n      <td>0.0</td>\n      <td>0.0</td>\n      <td>0.0</td>\n      <td>0.0</td>\n      <td>0.0</td>\n      <td>0.0</td>\n      <td>0.0</td>\n    </tr>\n    <tr>\n      <th>...</th>\n      <td>...</td>\n      <td>...</td>\n      <td>...</td>\n      <td>...</td>\n      <td>...</td>\n      <td>...</td>\n      <td>...</td>\n      <td>...</td>\n      <td>...</td>\n      <td>...</td>\n      <td>...</td>\n      <td>...</td>\n      <td>...</td>\n      <td>...</td>\n      <td>...</td>\n      <td>...</td>\n      <td>...</td>\n      <td>...</td>\n      <td>...</td>\n      <td>...</td>\n      <td>...</td>\n    </tr>\n    <tr>\n      <th>519599</th>\n      <td>0.0</td>\n      <td>0.0</td>\n      <td>0.0</td>\n      <td>0.0</td>\n      <td>0.0</td>\n      <td>0.0</td>\n      <td>0.0</td>\n      <td>0.0</td>\n      <td>0.0</td>\n      <td>0.0</td>\n      <td>...</td>\n      <td>0.0</td>\n      <td>0.0</td>\n      <td>0.0</td>\n      <td>0.0</td>\n      <td>0.0</td>\n      <td>0.0</td>\n      <td>0.0</td>\n      <td>0.0</td>\n      <td>0.0</td>\n      <td>0.0</td>\n    </tr>\n    <tr>\n      <th>519600</th>\n      <td>0.0</td>\n      <td>0.0</td>\n      <td>0.0</td>\n      <td>0.0</td>\n      <td>0.0</td>\n      <td>0.0</td>\n      <td>0.0</td>\n      <td>0.0</td>\n      <td>0.0</td>\n      <td>0.0</td>\n      <td>...</td>\n      <td>0.0</td>\n      <td>0.0</td>\n      <td>0.0</td>\n      <td>0.0</td>\n      <td>0.0</td>\n      <td>0.0</td>\n      <td>0.0</td>\n      <td>0.0</td>\n      <td>0.0</td>\n      <td>0.0</td>\n    </tr>\n    <tr>\n      <th>519601</th>\n      <td>0.0</td>\n      <td>0.0</td>\n      <td>0.0</td>\n      <td>0.0</td>\n      <td>0.0</td>\n      <td>0.0</td>\n      <td>0.0</td>\n      <td>0.0</td>\n      <td>0.0</td>\n      <td>0.0</td>\n      <td>...</td>\n      <td>0.0</td>\n      <td>0.0</td>\n      <td>0.0</td>\n      <td>0.0</td>\n      <td>0.0</td>\n      <td>0.0</td>\n      <td>0.0</td>\n      <td>0.0</td>\n      <td>0.0</td>\n      <td>0.0</td>\n    </tr>\n    <tr>\n      <th>519602</th>\n      <td>0.0</td>\n      <td>0.0</td>\n      <td>0.0</td>\n      <td>0.0</td>\n      <td>0.0</td>\n      <td>0.0</td>\n      <td>0.0</td>\n      <td>0.0</td>\n      <td>0.0</td>\n      <td>0.0</td>\n      <td>...</td>\n      <td>0.0</td>\n      <td>0.0</td>\n      <td>0.0</td>\n      <td>0.0</td>\n      <td>0.0</td>\n      <td>0.0</td>\n      <td>0.0</td>\n      <td>0.0</td>\n      <td>0.0</td>\n      <td>0.0</td>\n    </tr>\n    <tr>\n      <th>519603</th>\n      <td>0.0</td>\n      <td>0.0</td>\n      <td>0.0</td>\n      <td>0.0</td>\n      <td>0.0</td>\n      <td>0.0</td>\n      <td>0.0</td>\n      <td>0.0</td>\n      <td>0.0</td>\n      <td>0.0</td>\n      <td>...</td>\n      <td>0.0</td>\n      <td>0.0</td>\n      <td>0.0</td>\n      <td>0.0</td>\n      <td>0.0</td>\n      <td>0.0</td>\n      <td>0.0</td>\n      <td>0.0</td>\n      <td>0.0</td>\n      <td>0.0</td>\n    </tr>\n  </tbody>\n</table>\n<p>519604 rows × 32 columns</p>\n</div>"
     },
     "execution_count": 6,
     "metadata": {},
     "output_type": "execute_result"
    }
   ],
   "source": [
    "timestamp_dict['Year2'][lambda self: self.columns[1:]]"
   ],
   "metadata": {
    "collapsed": false,
    "pycharm": {
     "name": "#%%\n"
    }
   }
  },
  {
   "cell_type": "code",
   "execution_count": 7,
   "outputs": [
    {
     "data": {
      "text/plain": "Load_StatusBA1Lights                      48.0\nLoad_StatusBA2Lights                      11.0\nLoad_StatusBR2Lights                      40.0\nLoad_StatusBR3Lights                      33.0\nLoad_StatusBR4Lights                      27.0\nLoad_StatusDRLights                       38.0\nLoad_StatusEntryHallLights                16.0\nLoad_StatusKitchenLightsA                 28.0\nLoad_StatusKitchenLightsB                 33.0\nLoad_StatusKitchenLightsC                 28.0\nLoad_StatusLRLights1                      18.0\nLoad_StatusLRLights2                      41.0\nLoad_StatusLRLights3                      27.0\nLoad_StatusMBALights                      84.0\nLoad_StatusMBRLights1                     25.0\nLoad_StatusMBRLights2                     25.0\nLoad_StatusPlugLoadBR2Laptop              55.0\nLoad_StatusPlugLoadBR3Laptop              34.0\nLoad_StatusPlugLoadBlender               191.0\nLoad_StatusPlugLoadCanOpener              93.0\nLoad_StatusPlugLoadDesktopPCMonitor       88.0\nLoad_StatusPlugLoadFan                    50.0\nLoad_StatusPlugLoadHairDryerCurlIron    1515.0\nLoad_StatusPlugLoadHandMixer              91.0\nLoad_StatusPlugLoadHeatingPad             38.0\nLoad_StatusPlugLoadIron                 1303.0\nLoad_StatusPlugLoadLRBlueRay              38.0\nLoad_StatusPlugLoadLRTV                   69.0\nLoad_StatusPlugLoadMBRBlueRay             34.0\nLoad_StatusPlugLoadMBRTV                 156.0\nLoad_StatusPlugLoadVacuum                583.0\nLoad_StatusPlugLoadVideoGame              32.0\ndtype: float64"
     },
     "execution_count": 7,
     "metadata": {},
     "output_type": "execute_result"
    }
   ],
   "source": [
    "for year in [2]:\n",
    "    power_consumption_df = power_consumption_df.loc[lambda self: self.index.isin(timestamp_dict[f'Year{year}'].columns[1:])]\n",
    "power_consumption_df"
   ],
   "metadata": {
    "collapsed": false,
    "pycharm": {
     "name": "#%%\n"
    }
   }
  },
  {
   "cell_type": "code",
   "execution_count": 8,
   "outputs": [
    {
     "data": {
      "text/plain": "Load_StatusBA1Lights                        0.0\nLoad_StatusKitchenLightsA                   0.0\nLoad_StatusKitchenLightsB                   0.0\nLoad_StatusKitchenLightsC                   0.0\nLoad_StatusDRLights                         0.0\nLoad_StatusLRLights3                        0.0\nLoad_StatusEntryHallLights                  0.0\nLoad_StatusBR4Lights                        0.0\nLoad_StatusMBALights                        0.0\nLoad_StatusMBRLights1                       1.0\nLoad_StatusMBRLights2                       1.0\nLoad_StatusBA2Lights                     1575.0\nLoad_StatusBR2Lights                    11663.0\nLoad_StatusBR3Lights                    11609.0\nLoad_StatusLRLights1                        0.0\nLoad_StatusLRLights2                        0.0\nLoad_StatusPlugLoadBlender                  0.0\nLoad_StatusPlugLoadHandMixer                0.0\nLoad_StatusPlugLoadCanOpener                0.0\nLoad_StatusPlugLoadLRTV                   530.0\nLoad_StatusPlugLoadLRBlueRay                0.0\nLoad_StatusPlugLoadVideoGame                0.0\nLoad_StatusPlugLoadVacuum                   0.0\nLoad_StatusPlugLoadDesktopPCMonitor      6300.0\nLoad_StatusPlugLoadHairDryerCurlIron        0.0\nLoad_StatusPlugLoadBR2Laptop            13949.0\nLoad_StatusPlugLoadBR3Laptop            13949.0\nLoad_StatusPlugLoadMBRTV                    0.0\nLoad_StatusPlugLoadMBRBlueRay               0.0\nLoad_StatusPlugLoadFan                    102.0\nLoad_StatusPlugLoadHeatingPad               0.0\nLoad_StatusPlugLoadIron                   525.0\ndtype: float64"
     },
     "execution_count": 8,
     "metadata": {},
     "output_type": "execute_result"
    }
   ],
   "source": [
    "timestamp_dict['Year2'][lambda self: self.columns[1:]].sum(0)"
   ],
   "metadata": {
    "collapsed": false,
    "pycharm": {
     "name": "#%%\n"
    }
   }
  },
  {
   "cell_type": "code",
   "execution_count": 9,
   "outputs": [
    {
     "data": {
      "text/plain": "('1003.55 hours', '56.4831 kWh')"
     },
     "execution_count": 9,
     "metadata": {},
     "output_type": "execute_result"
    }
   ],
   "source": [
    "total_hours = 0\n",
    "total_energy = 0\n",
    "apps = timestamp_dict[f'Year{year}'].columns[1:].tolist()\n",
    "\n",
    "for year in [2]:\n",
    "    cur_df = timestamp_dict[f'Year{year}']\n",
    "    cur_df['day'] = cur_df['Timestamp'].dt.dayofyear\n",
    "    cur_df['hour'] = cur_df['Timestamp'].dt.hour\n",
    "    total_hours += cur_df.groupby(['day', 'hour'])[apps].mean().sum().sum()\n",
    "    total_energy += cur_df.groupby(['day', 'hour'])[apps].mean().sum().dot(power_consumption_df)\n",
    "total_hours = str(round(total_hours, 2)) + ' hours'\n",
    "total_energy = str(round(total_energy / 1_000, 4)) + ' kWh'\n",
    "total_hours, total_energy"
   ],
   "metadata": {
    "collapsed": false,
    "pycharm": {
     "name": "#%%\n"
    }
   }
  },
  {
   "cell_type": "code",
   "execution_count": 10,
   "outputs": [],
   "source": [
    "redundant_minutes_frequency = timestamp_dict['Year2'].copy().groupby(timestamp_dict['Year2']['Timestamp'].dt.hour).sum()"
   ],
   "metadata": {
    "collapsed": false,
    "pycharm": {
     "name": "#%%\n"
    }
   }
  },
  {
   "cell_type": "code",
   "execution_count": 11,
   "outputs": [],
   "source": [
    "redundant_minutes_frequency['TotalMinutes'] = redundant_minutes_frequency.sum(1)"
   ],
   "metadata": {
    "collapsed": false,
    "pycharm": {
     "name": "#%%\n"
    }
   }
  },
  {
   "cell_type": "code",
   "execution_count": 12,
   "outputs": [],
   "source": [
    "redundant_minutes_frequency['EnergyConsumed(kWh)'] = pd.DataFrame(redundant_minutes_frequency[redundant_minutes_frequency.columns[:-1]].div(60_000)*power_consumption_df).sum(1)"
   ],
   "metadata": {
    "collapsed": false,
    "pycharm": {
     "name": "#%%\n"
    }
   }
  },
  {
   "cell_type": "code",
   "execution_count": 13,
   "outputs": [
    {
     "data": {
      "text/plain": "           Load_StatusMBRLights1  Load_StatusMBRLights2  Load_StatusBA2Lights  \\\nTimestamp                                                                       \n0                            0.0                    0.0                   0.0   \n1                            0.0                    0.0                   0.0   \n2                            0.0                    0.0                   0.0   \n3                            0.0                    0.0                   0.0   \n4                            0.0                    0.0                   0.0   \n5                            0.0                    0.0                   0.0   \n6                            0.0                    0.0                   0.0   \n7                            0.0                    0.0                   1.0   \n8                            0.0                    0.0                  58.0   \n9                            0.0                    0.0                 722.0   \n10                           0.0                    0.0                  14.0   \n11                           0.0                    0.0                   0.0   \n12                           0.0                    0.0                   0.0   \n13                           0.0                    0.0                   0.0   \n14                           0.0                    0.0                   0.0   \n15                           0.0                    0.0                   0.0   \n16                           0.0                    0.0                   0.0   \n17                           0.0                    0.0                   0.0   \n18                           0.0                    0.0                   0.0   \n19                           0.0                    0.0                  44.0   \n20                           0.0                    0.0                 736.0   \n21                           0.0                    0.0                   0.0   \n22                           0.0                    0.0                   0.0   \n23                           1.0                    1.0                   0.0   \n\n           Load_StatusBR2Lights  Load_StatusBR3Lights  \\\nTimestamp                                               \n0                           1.0                   0.0   \n1                           0.0                   0.0   \n2                           0.0                   0.0   \n3                           0.0                   0.0   \n4                           0.0                   0.0   \n5                           0.0                   0.0   \n6                           0.0                   0.0   \n7                           0.0                   0.0   \n8                           0.0                   0.0   \n9                           0.0                   0.0   \n10                          0.0                   0.0   \n11                          0.0                   0.0   \n12                          0.0                   0.0   \n13                          0.0                   0.0   \n14                          0.0                   0.0   \n15                          0.0                   0.0   \n16                          0.0                   0.0   \n17                          0.0                   0.0   \n18                         31.0                  31.0   \n19                       7915.0                7915.0   \n20                       3649.0                3649.0   \n21                         14.0                  14.0   \n22                          1.0                   0.0   \n23                         52.0                   0.0   \n\n           Load_StatusPlugLoadLRTV  Load_StatusPlugLoadDesktopPCMonitor  \\\nTimestamp                                                                 \n0                              0.0                                  0.0   \n1                              0.0                                  0.0   \n2                              0.0                                  0.0   \n3                              0.0                                  0.0   \n4                              0.0                                  0.0   \n5                              0.0                                  0.0   \n6                              0.0                                  0.0   \n7                              0.0                                  0.0   \n8                              0.0                                  1.0   \n9                              0.0                                147.0   \n10                             0.0                               6093.0   \n11                             0.0                                 59.0   \n12                             0.0                                  0.0   \n13                             0.0                                  0.0   \n14                             0.0                                  0.0   \n15                             0.0                                  0.0   \n16                             0.0                                  0.0   \n17                             0.0                                  0.0   \n18                             0.0                                  0.0   \n19                             0.0                                  0.0   \n20                             0.0                                  0.0   \n21                            10.0                                  0.0   \n22                           510.0                                  0.0   \n23                            10.0                                  0.0   \n\n           Load_StatusPlugLoadBR2Laptop  Load_StatusPlugLoadBR3Laptop  \\\nTimestamp                                                               \n0                                   0.0                           0.0   \n1                                   0.0                           0.0   \n2                                   0.0                           0.0   \n3                                   0.0                           0.0   \n4                                   0.0                           0.0   \n5                                   0.0                           0.0   \n6                                   0.0                           0.0   \n7                                   0.0                           0.0   \n8                                   0.0                           0.0   \n9                                   0.0                           0.0   \n10                                  0.0                           0.0   \n11                                  0.0                           0.0   \n12                                  0.0                           0.0   \n13                                  0.0                           0.0   \n14                                  0.0                           0.0   \n15                                  0.0                           0.0   \n16                                  0.0                           0.0   \n17                                  0.0                           0.0   \n18                                 31.0                          31.0   \n19                               9523.0                        9523.0   \n20                               4381.0                        4381.0   \n21                                 14.0                          14.0   \n22                                  0.0                           0.0   \n23                                  0.0                           0.0   \n\n           Load_StatusPlugLoadFan  Load_StatusPlugLoadIron      day    hour  \\\nTimestamp                                                                     \n0                             0.0                      0.0  3881971       0   \n1                             0.0                      0.0  3952113   21653   \n2                             0.0                      0.0  3949200   43200   \n3                             0.0                      0.0  3953220   64980   \n4                             0.0                      0.0  3953628   86648   \n5                             0.0                      0.0  3953293  108305   \n6                             0.0                      0.0  3953220  129960   \n7                             0.0                      0.0  3953220  151620   \n8                             0.0                      0.0  3953459  173288   \n9                             0.0                      0.0  3953220  194940   \n10                            0.0                      0.0  3953220  216600   \n11                            0.0                      0.0  3953220  238260   \n12                            0.0                      0.0  3954676  260592   \n13                            0.0                     10.0  3955074  282386   \n14                            0.0                    505.0  3954780  304080   \n15                            0.0                     10.0  3954255  325755   \n16                            0.0                      0.0  3954939  347536   \n17                            0.0                      0.0  3955066  369257   \n18                            0.0                      0.0  3955048  390978   \n19                            0.0                      0.0  3954210  412623   \n20                            0.0                      0.0  3954755  434380   \n21                            0.0                      0.0  3953318  454881   \n22                            0.0                      0.0  3952975  476498   \n23                          102.0                      0.0  3895115  490912   \n\n           TotalMinutes  EnergyConsumed(kWh)  \nTimestamp                                     \n0             3881972.0             0.000667  \n1             3973766.0             0.000000  \n2             3992400.0             0.000000  \n3             4018200.0             0.000000  \n4             4040276.0             0.000000  \n5             4061598.0             0.000000  \n6             4083180.0             0.000000  \n7             4104841.0             0.000183  \n8             4126806.0             0.012100  \n9             4149029.0             0.347967  \n10            4175927.0             8.938967  \n11            4191539.0             0.086533  \n12            4215268.0             0.000000  \n13            4237470.0             0.217167  \n14            4259365.0            10.966917  \n15            4280020.0             0.217167  \n16            4302475.0             0.000000  \n17            4324323.0             0.000000  \n18            4346150.0             0.083700  \n19            4401753.0            23.763767  \n20            4405931.0            11.073033  \n21            4408265.0             0.049300  \n22            4429984.0             0.587167  \n23            4386193.0             0.132000  ",
      "text/html": "<div>\n<style scoped>\n    .dataframe tbody tr th:only-of-type {\n        vertical-align: middle;\n    }\n\n    .dataframe tbody tr th {\n        vertical-align: top;\n    }\n\n    .dataframe thead th {\n        text-align: right;\n    }\n</style>\n<table border=\"1\" class=\"dataframe\">\n  <thead>\n    <tr style=\"text-align: right;\">\n      <th></th>\n      <th>Load_StatusMBRLights1</th>\n      <th>Load_StatusMBRLights2</th>\n      <th>Load_StatusBA2Lights</th>\n      <th>Load_StatusBR2Lights</th>\n      <th>Load_StatusBR3Lights</th>\n      <th>Load_StatusPlugLoadLRTV</th>\n      <th>Load_StatusPlugLoadDesktopPCMonitor</th>\n      <th>Load_StatusPlugLoadBR2Laptop</th>\n      <th>Load_StatusPlugLoadBR3Laptop</th>\n      <th>Load_StatusPlugLoadFan</th>\n      <th>Load_StatusPlugLoadIron</th>\n      <th>day</th>\n      <th>hour</th>\n      <th>TotalMinutes</th>\n      <th>EnergyConsumed(kWh)</th>\n    </tr>\n    <tr>\n      <th>Timestamp</th>\n      <th></th>\n      <th></th>\n      <th></th>\n      <th></th>\n      <th></th>\n      <th></th>\n      <th></th>\n      <th></th>\n      <th></th>\n      <th></th>\n      <th></th>\n      <th></th>\n      <th></th>\n      <th></th>\n      <th></th>\n    </tr>\n  </thead>\n  <tbody>\n    <tr>\n      <th>0</th>\n      <td>0.0</td>\n      <td>0.0</td>\n      <td>0.0</td>\n      <td>1.0</td>\n      <td>0.0</td>\n      <td>0.0</td>\n      <td>0.0</td>\n      <td>0.0</td>\n      <td>0.0</td>\n      <td>0.0</td>\n      <td>0.0</td>\n      <td>3881971</td>\n      <td>0</td>\n      <td>3881972.0</td>\n      <td>0.000667</td>\n    </tr>\n    <tr>\n      <th>1</th>\n      <td>0.0</td>\n      <td>0.0</td>\n      <td>0.0</td>\n      <td>0.0</td>\n      <td>0.0</td>\n      <td>0.0</td>\n      <td>0.0</td>\n      <td>0.0</td>\n      <td>0.0</td>\n      <td>0.0</td>\n      <td>0.0</td>\n      <td>3952113</td>\n      <td>21653</td>\n      <td>3973766.0</td>\n      <td>0.000000</td>\n    </tr>\n    <tr>\n      <th>2</th>\n      <td>0.0</td>\n      <td>0.0</td>\n      <td>0.0</td>\n      <td>0.0</td>\n      <td>0.0</td>\n      <td>0.0</td>\n      <td>0.0</td>\n      <td>0.0</td>\n      <td>0.0</td>\n      <td>0.0</td>\n      <td>0.0</td>\n      <td>3949200</td>\n      <td>43200</td>\n      <td>3992400.0</td>\n      <td>0.000000</td>\n    </tr>\n    <tr>\n      <th>3</th>\n      <td>0.0</td>\n      <td>0.0</td>\n      <td>0.0</td>\n      <td>0.0</td>\n      <td>0.0</td>\n      <td>0.0</td>\n      <td>0.0</td>\n      <td>0.0</td>\n      <td>0.0</td>\n      <td>0.0</td>\n      <td>0.0</td>\n      <td>3953220</td>\n      <td>64980</td>\n      <td>4018200.0</td>\n      <td>0.000000</td>\n    </tr>\n    <tr>\n      <th>4</th>\n      <td>0.0</td>\n      <td>0.0</td>\n      <td>0.0</td>\n      <td>0.0</td>\n      <td>0.0</td>\n      <td>0.0</td>\n      <td>0.0</td>\n      <td>0.0</td>\n      <td>0.0</td>\n      <td>0.0</td>\n      <td>0.0</td>\n      <td>3953628</td>\n      <td>86648</td>\n      <td>4040276.0</td>\n      <td>0.000000</td>\n    </tr>\n    <tr>\n      <th>5</th>\n      <td>0.0</td>\n      <td>0.0</td>\n      <td>0.0</td>\n      <td>0.0</td>\n      <td>0.0</td>\n      <td>0.0</td>\n      <td>0.0</td>\n      <td>0.0</td>\n      <td>0.0</td>\n      <td>0.0</td>\n      <td>0.0</td>\n      <td>3953293</td>\n      <td>108305</td>\n      <td>4061598.0</td>\n      <td>0.000000</td>\n    </tr>\n    <tr>\n      <th>6</th>\n      <td>0.0</td>\n      <td>0.0</td>\n      <td>0.0</td>\n      <td>0.0</td>\n      <td>0.0</td>\n      <td>0.0</td>\n      <td>0.0</td>\n      <td>0.0</td>\n      <td>0.0</td>\n      <td>0.0</td>\n      <td>0.0</td>\n      <td>3953220</td>\n      <td>129960</td>\n      <td>4083180.0</td>\n      <td>0.000000</td>\n    </tr>\n    <tr>\n      <th>7</th>\n      <td>0.0</td>\n      <td>0.0</td>\n      <td>1.0</td>\n      <td>0.0</td>\n      <td>0.0</td>\n      <td>0.0</td>\n      <td>0.0</td>\n      <td>0.0</td>\n      <td>0.0</td>\n      <td>0.0</td>\n      <td>0.0</td>\n      <td>3953220</td>\n      <td>151620</td>\n      <td>4104841.0</td>\n      <td>0.000183</td>\n    </tr>\n    <tr>\n      <th>8</th>\n      <td>0.0</td>\n      <td>0.0</td>\n      <td>58.0</td>\n      <td>0.0</td>\n      <td>0.0</td>\n      <td>0.0</td>\n      <td>1.0</td>\n      <td>0.0</td>\n      <td>0.0</td>\n      <td>0.0</td>\n      <td>0.0</td>\n      <td>3953459</td>\n      <td>173288</td>\n      <td>4126806.0</td>\n      <td>0.012100</td>\n    </tr>\n    <tr>\n      <th>9</th>\n      <td>0.0</td>\n      <td>0.0</td>\n      <td>722.0</td>\n      <td>0.0</td>\n      <td>0.0</td>\n      <td>0.0</td>\n      <td>147.0</td>\n      <td>0.0</td>\n      <td>0.0</td>\n      <td>0.0</td>\n      <td>0.0</td>\n      <td>3953220</td>\n      <td>194940</td>\n      <td>4149029.0</td>\n      <td>0.347967</td>\n    </tr>\n    <tr>\n      <th>10</th>\n      <td>0.0</td>\n      <td>0.0</td>\n      <td>14.0</td>\n      <td>0.0</td>\n      <td>0.0</td>\n      <td>0.0</td>\n      <td>6093.0</td>\n      <td>0.0</td>\n      <td>0.0</td>\n      <td>0.0</td>\n      <td>0.0</td>\n      <td>3953220</td>\n      <td>216600</td>\n      <td>4175927.0</td>\n      <td>8.938967</td>\n    </tr>\n    <tr>\n      <th>11</th>\n      <td>0.0</td>\n      <td>0.0</td>\n      <td>0.0</td>\n      <td>0.0</td>\n      <td>0.0</td>\n      <td>0.0</td>\n      <td>59.0</td>\n      <td>0.0</td>\n      <td>0.0</td>\n      <td>0.0</td>\n      <td>0.0</td>\n      <td>3953220</td>\n      <td>238260</td>\n      <td>4191539.0</td>\n      <td>0.086533</td>\n    </tr>\n    <tr>\n      <th>12</th>\n      <td>0.0</td>\n      <td>0.0</td>\n      <td>0.0</td>\n      <td>0.0</td>\n      <td>0.0</td>\n      <td>0.0</td>\n      <td>0.0</td>\n      <td>0.0</td>\n      <td>0.0</td>\n      <td>0.0</td>\n      <td>0.0</td>\n      <td>3954676</td>\n      <td>260592</td>\n      <td>4215268.0</td>\n      <td>0.000000</td>\n    </tr>\n    <tr>\n      <th>13</th>\n      <td>0.0</td>\n      <td>0.0</td>\n      <td>0.0</td>\n      <td>0.0</td>\n      <td>0.0</td>\n      <td>0.0</td>\n      <td>0.0</td>\n      <td>0.0</td>\n      <td>0.0</td>\n      <td>0.0</td>\n      <td>10.0</td>\n      <td>3955074</td>\n      <td>282386</td>\n      <td>4237470.0</td>\n      <td>0.217167</td>\n    </tr>\n    <tr>\n      <th>14</th>\n      <td>0.0</td>\n      <td>0.0</td>\n      <td>0.0</td>\n      <td>0.0</td>\n      <td>0.0</td>\n      <td>0.0</td>\n      <td>0.0</td>\n      <td>0.0</td>\n      <td>0.0</td>\n      <td>0.0</td>\n      <td>505.0</td>\n      <td>3954780</td>\n      <td>304080</td>\n      <td>4259365.0</td>\n      <td>10.966917</td>\n    </tr>\n    <tr>\n      <th>15</th>\n      <td>0.0</td>\n      <td>0.0</td>\n      <td>0.0</td>\n      <td>0.0</td>\n      <td>0.0</td>\n      <td>0.0</td>\n      <td>0.0</td>\n      <td>0.0</td>\n      <td>0.0</td>\n      <td>0.0</td>\n      <td>10.0</td>\n      <td>3954255</td>\n      <td>325755</td>\n      <td>4280020.0</td>\n      <td>0.217167</td>\n    </tr>\n    <tr>\n      <th>16</th>\n      <td>0.0</td>\n      <td>0.0</td>\n      <td>0.0</td>\n      <td>0.0</td>\n      <td>0.0</td>\n      <td>0.0</td>\n      <td>0.0</td>\n      <td>0.0</td>\n      <td>0.0</td>\n      <td>0.0</td>\n      <td>0.0</td>\n      <td>3954939</td>\n      <td>347536</td>\n      <td>4302475.0</td>\n      <td>0.000000</td>\n    </tr>\n    <tr>\n      <th>17</th>\n      <td>0.0</td>\n      <td>0.0</td>\n      <td>0.0</td>\n      <td>0.0</td>\n      <td>0.0</td>\n      <td>0.0</td>\n      <td>0.0</td>\n      <td>0.0</td>\n      <td>0.0</td>\n      <td>0.0</td>\n      <td>0.0</td>\n      <td>3955066</td>\n      <td>369257</td>\n      <td>4324323.0</td>\n      <td>0.000000</td>\n    </tr>\n    <tr>\n      <th>18</th>\n      <td>0.0</td>\n      <td>0.0</td>\n      <td>0.0</td>\n      <td>31.0</td>\n      <td>31.0</td>\n      <td>0.0</td>\n      <td>0.0</td>\n      <td>31.0</td>\n      <td>31.0</td>\n      <td>0.0</td>\n      <td>0.0</td>\n      <td>3955048</td>\n      <td>390978</td>\n      <td>4346150.0</td>\n      <td>0.083700</td>\n    </tr>\n    <tr>\n      <th>19</th>\n      <td>0.0</td>\n      <td>0.0</td>\n      <td>44.0</td>\n      <td>7915.0</td>\n      <td>7915.0</td>\n      <td>0.0</td>\n      <td>0.0</td>\n      <td>9523.0</td>\n      <td>9523.0</td>\n      <td>0.0</td>\n      <td>0.0</td>\n      <td>3954210</td>\n      <td>412623</td>\n      <td>4401753.0</td>\n      <td>23.763767</td>\n    </tr>\n    <tr>\n      <th>20</th>\n      <td>0.0</td>\n      <td>0.0</td>\n      <td>736.0</td>\n      <td>3649.0</td>\n      <td>3649.0</td>\n      <td>0.0</td>\n      <td>0.0</td>\n      <td>4381.0</td>\n      <td>4381.0</td>\n      <td>0.0</td>\n      <td>0.0</td>\n      <td>3954755</td>\n      <td>434380</td>\n      <td>4405931.0</td>\n      <td>11.073033</td>\n    </tr>\n    <tr>\n      <th>21</th>\n      <td>0.0</td>\n      <td>0.0</td>\n      <td>0.0</td>\n      <td>14.0</td>\n      <td>14.0</td>\n      <td>10.0</td>\n      <td>0.0</td>\n      <td>14.0</td>\n      <td>14.0</td>\n      <td>0.0</td>\n      <td>0.0</td>\n      <td>3953318</td>\n      <td>454881</td>\n      <td>4408265.0</td>\n      <td>0.049300</td>\n    </tr>\n    <tr>\n      <th>22</th>\n      <td>0.0</td>\n      <td>0.0</td>\n      <td>0.0</td>\n      <td>1.0</td>\n      <td>0.0</td>\n      <td>510.0</td>\n      <td>0.0</td>\n      <td>0.0</td>\n      <td>0.0</td>\n      <td>0.0</td>\n      <td>0.0</td>\n      <td>3952975</td>\n      <td>476498</td>\n      <td>4429984.0</td>\n      <td>0.587167</td>\n    </tr>\n    <tr>\n      <th>23</th>\n      <td>1.0</td>\n      <td>1.0</td>\n      <td>0.0</td>\n      <td>52.0</td>\n      <td>0.0</td>\n      <td>10.0</td>\n      <td>0.0</td>\n      <td>0.0</td>\n      <td>0.0</td>\n      <td>102.0</td>\n      <td>0.0</td>\n      <td>3895115</td>\n      <td>490912</td>\n      <td>4386193.0</td>\n      <td>0.132000</td>\n    </tr>\n  </tbody>\n</table>\n</div>"
     },
     "execution_count": 13,
     "metadata": {},
     "output_type": "execute_result"
    }
   ],
   "source": [
    "redundant_minutes_frequency.loc[:, lambda self: self.sum(0) > 0]"
   ],
   "metadata": {
    "collapsed": false,
    "pycharm": {
     "name": "#%%\n"
    }
   }
  },
  {
   "cell_type": "code",
   "execution_count": 14,
   "outputs": [
    {
     "data": {
      "text/plain": "['Load_StatusBA1Lights',\n 'Load_StatusKitchenLightsA',\n 'Load_StatusKitchenLightsB',\n 'Load_StatusKitchenLightsC',\n 'Load_StatusDRLights',\n 'Load_StatusLRLights3',\n 'Load_StatusEntryHallLights',\n 'Load_StatusBR4Lights',\n 'Load_StatusMBALights',\n 'Load_StatusMBRLights1',\n 'Load_StatusMBRLights2',\n 'Load_StatusBA2Lights',\n 'Load_StatusBR2Lights',\n 'Load_StatusBR3Lights',\n 'Load_StatusLRLights1',\n 'Load_StatusLRLights2',\n 'Load_StatusPlugLoadBlender',\n 'Load_StatusPlugLoadHandMixer',\n 'Load_StatusPlugLoadCanOpener',\n 'Load_StatusPlugLoadLRTV',\n 'Load_StatusPlugLoadLRBlueRay',\n 'Load_StatusPlugLoadVideoGame',\n 'Load_StatusPlugLoadVacuum',\n 'Load_StatusPlugLoadDesktopPCMonitor',\n 'Load_StatusPlugLoadHairDryerCurlIron',\n 'Load_StatusPlugLoadBR2Laptop',\n 'Load_StatusPlugLoadBR3Laptop',\n 'Load_StatusPlugLoadMBRTV',\n 'Load_StatusPlugLoadMBRBlueRay',\n 'Load_StatusPlugLoadFan',\n 'Load_StatusPlugLoadHeatingPad',\n 'Load_StatusPlugLoadIron',\n 'day',\n 'hour',\n 'TotalMinutes',\n 'EnergyConsumed(kWh)']"
     },
     "execution_count": 14,
     "metadata": {},
     "output_type": "execute_result"
    }
   ],
   "source": [
    "redundant_minutes_frequency.columns.tolist()"
   ],
   "metadata": {
    "collapsed": false,
    "pycharm": {
     "name": "#%%\n"
    }
   }
  },
  {
   "cell_type": "code",
   "execution_count": 15,
   "outputs": [
    {
     "name": "stdout",
     "output_type": "stream",
     "text": [
      "Year1\n",
      "22\n",
      "Load_StatusBA1Lights                     3.600000\n",
      "Load_StatusBA2Lights                    25.250000\n",
      "Load_StatusBR2Lights                   201.350000\n",
      "Load_StatusBR3Lights                   194.183333\n",
      "Load_StatusBR4Lights                     1.000000\n",
      "Load_StatusDRLights                      0.016667\n",
      "Load_StatusEntryHallLights               0.016667\n",
      "Load_StatusKitchenLightsA                0.016667\n",
      "Load_StatusKitchenLightsB                0.266667\n",
      "Load_StatusLRLights2                    10.583333\n",
      "Load_StatusMBALights                     1.950000\n",
      "Load_StatusMBRLights1                    1.250000\n",
      "Load_StatusMBRLights2                    1.366667\n",
      "Load_StatusPlugLoadBR2Laptop           231.583333\n",
      "Load_StatusPlugLoadBR3Laptop           233.750000\n",
      "Load_StatusPlugLoadCanOpener            10.383333\n",
      "Load_StatusPlugLoadDesktopPCMonitor    102.000000\n",
      "Load_StatusPlugLoadFan                   2.850000\n",
      "Load_StatusPlugLoadIron                  8.366667\n",
      "Load_StatusPlugLoadLRTV                  8.500000\n",
      "Load_StatusPlugLoadMBRTV                 1.250000\n",
      "Load_StatusPlugLoadVideoGame             0.016667\n",
      "dtype: float64\n",
      "Year2\n",
      "11\n",
      "Load_StatusMBRLights1                    0.016667\n",
      "Load_StatusMBRLights2                    0.016667\n",
      "Load_StatusBA2Lights                    26.250000\n",
      "Load_StatusBR2Lights                   194.383333\n",
      "Load_StatusBR3Lights                   193.483333\n",
      "Load_StatusPlugLoadLRTV                  8.833333\n",
      "Load_StatusPlugLoadDesktopPCMonitor    105.000000\n",
      "Load_StatusPlugLoadBR2Laptop           232.483333\n",
      "Load_StatusPlugLoadBR3Laptop           232.483333\n",
      "Load_StatusPlugLoadFan                   1.700000\n",
      "Load_StatusPlugLoadIron                  8.750000\n",
      "dtype: float64\n"
     ]
    }
   ],
   "source": [
    "for key, df in create_redundancy_dataframes().items():\n",
    "    redundany_frequency = df.groupby(df['Timestamp'].dt.hour).sum()\n",
    "    redundant_minutes = (redundany_frequency.sum(0)/60)[lambda self: self > 0]\n",
    "    print(key)\n",
    "    print(len(redundant_minutes))\n",
    "    print(redundant_minutes)"
   ],
   "metadata": {
    "collapsed": false,
    "pycharm": {
     "name": "#%%\n"
    }
   }
  },
  {
   "cell_type": "markdown",
   "source": [
    "## Calculate the watt used in redudant intervals"
   ],
   "metadata": {
    "collapsed": false,
    "pycharm": {
     "name": "#%% md\n"
    }
   }
  },
  {
   "cell_type": "markdown",
   "source": [
    "## Plot the redundant time intervals and highlight them with colors"
   ],
   "metadata": {
    "collapsed": false,
    "pycharm": {
     "name": "#%% md\n"
    }
   }
  },
  {
   "cell_type": "markdown",
   "source": [],
   "metadata": {
    "collapsed": false,
    "pycharm": {
     "name": "#%% md\n"
    }
   }
  }
 ],
 "metadata": {
  "kernelspec": {
   "display_name": "Python 3",
   "language": "python",
   "name": "python3"
  },
  "language_info": {
   "codemirror_mode": {
    "name": "ipython",
    "version": 2
   },
   "file_extension": ".py",
   "mimetype": "text/x-python",
   "name": "python",
   "nbconvert_exporter": "python",
   "pygments_lexer": "ipython2",
   "version": "2.7.6"
  }
 },
 "nbformat": 4,
 "nbformat_minor": 0
}
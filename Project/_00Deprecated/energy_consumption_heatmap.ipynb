{
 "cells": [
  {
   "cell_type": "code",
   "execution_count": 44,
   "metadata": {
    "collapsed": true
   },
   "outputs": [],
   "source": [
    "import pandas as pd\n",
    "import plotly.express as px\n",
    "import re\n",
    "import datetime\n",
    "\n",
    "from Project.Database import Db"
   ]
  },
  {
   "cell_type": "code",
   "execution_count": 45,
   "outputs": [],
   "source": [
    "year1_hourly, meta = Db.load_data(hourly=True, meta=True, year=1)"
   ],
   "metadata": {
    "collapsed": false,
    "pycharm": {
     "name": "#%%\n"
    }
   }
  },
  {
   "cell_type": "code",
   "execution_count": 46,
   "outputs": [],
   "source": [
    "year2_hourly, meta = Db.load_data(hourly=True, meta=True, year=2)"
   ],
   "metadata": {
    "collapsed": false,
    "pycharm": {
     "name": "#%%\n"
    }
   }
  },
  {
   "cell_type": "code",
   "execution_count": 47,
   "outputs": [],
   "source": [
    "consumption = meta.loc[((meta['Parameter'] == \"Power_Electrical\") | (meta['Parameter'] == \"Power_Thermal\")) & (\n",
    "    meta[\"Description\"].str.contains(\"power consumption\" or \"used\"))].index.tolist()"
   ],
   "metadata": {
    "collapsed": false,
    "pycharm": {
     "name": "#%%\n"
    }
   }
  },
  {
   "cell_type": "code",
   "execution_count": 48,
   "outputs": [],
   "source": [
    "year1_consumption = year1_hourly[[\"Timestamp\"]+consumption].copy()"
   ],
   "metadata": {
    "collapsed": false,
    "pycharm": {
     "name": "#%%\n"
    }
   }
  },
  {
   "cell_type": "code",
   "execution_count": 49,
   "outputs": [
    {
     "data": {
      "text/plain": "                     Timestamp  Load_LRPlugLoadsPowerUsage  \\\n0    2013-07-01 04:00:00+00:00                   61.828361   \n1    2013-07-01 05:00:00+00:00                   61.741718   \n2    2013-07-01 06:00:00+00:00                   61.282300   \n3    2013-07-01 07:00:00+00:00                   61.351621   \n4    2013-07-01 08:00:00+00:00                   61.047820   \n...                        ...                         ...   \n8756 2014-07-01 00:00:00+00:00                   30.754906   \n8757 2014-07-01 01:00:00+00:00                    0.000000   \n8758 2014-07-01 02:00:00+00:00                    0.000000   \n8759 2014-07-01 03:00:00+00:00                    0.000000   \n8760 2014-07-01 04:00:00+00:00                    0.000000   \n\n      Load_KPlugLoadsPowerUsage  Load_MBRPlugLoadsPowerUsage  \\\n0                          0.82                     0.000000   \n1                          0.82                     0.000000   \n2                          0.82                     0.000000   \n3                          0.82                     0.000000   \n4                          0.82                     0.000000   \n...                         ...                          ...   \n8756                       0.82                     0.000000   \n8757                       0.82                     0.000000   \n8758                       0.82                    28.743771   \n8759                       0.82                    19.566401   \n8760                       0.82                     0.000000   \n\n      Load_BR2PlugLoadsPowerUsage  Load_BR3PlugLoadsPowerUsage  \\\n0                       16.717136                    21.385995   \n1                       16.720044                    21.356809   \n2                       16.603185                    21.266155   \n3                       16.574143                    21.199436   \n4                       16.615978                    21.224998   \n...                           ...                          ...   \n8756                    53.912077                     8.161264   \n8757                    54.106752                     0.000000   \n8758                    20.741190                     0.000000   \n8759                    20.586135                     0.000000   \n8760                    20.737557                     0.000000   \n\n      Load_BR4PlugLoadsPowerUsage  Load_1stFloorSensHeatPowerUsage  \\\n0                        0.000000                         0.000000   \n1                        0.000000                         0.000000   \n2                        0.000000                         0.000000   \n3                        0.000000                         0.000000   \n4                        0.000000                         0.000000   \n...                           ...                              ...   \n8756                    86.011407                       174.346985   \n8757                    86.304487                       141.672519   \n8758                    41.914702                        33.966106   \n8759                     0.000000                         0.000000   \n8760                     0.000000                         0.000000   \n\n      Load_2ndFloorSensHeatPowerUsage  Load_1stFloorLightsPowerUsage  ...  \\\n0                            0.000000                       0.000000  ...   \n1                            0.000000                       0.000000  ...   \n2                            0.000000                       0.000000  ...   \n3                            0.000000                       0.000000  ...   \n4                            0.000000                       0.000000  ...   \n...                               ...                            ...  ...   \n8756                       104.856611                     132.203343  ...   \n8757                       140.799554                     136.240926  ...   \n8758                       247.097007                      68.259084  ...   \n8759                       269.158059                       0.000000  ...   \n8760                         0.000000                       0.000000  ...   \n\n      Elec_PowerParentBDownstairs  Elec_PowerPlugsInstKitD  \\\n0                        0.000000                 0.000000   \n1                        0.000000                 0.000000   \n2                        0.000000                 0.000000   \n3                        0.000000                 0.000000   \n4                        0.000000                 0.000000   \n...                           ...                      ...   \n8756                    73.312845                44.951712   \n8757                    73.866524                45.050383   \n8758                     0.000000                45.482085   \n8759                     0.000000                43.915393   \n8760                     0.000000                 0.000000   \n\n      Elec_PowerPlugsDRB  Elec_PowerPlugsAttic  \\\n0                    0.0                   0.0   \n1                    0.0                   0.0   \n2                    0.0                   0.0   \n3                    0.0                   0.0   \n4                    0.0                   0.0   \n...                  ...                   ...   \n8756                 0.0                   0.0   \n8757                 0.0                   0.0   \n8758                 0.0                   0.0   \n8759                 0.0                   0.0   \n8760                 0.0                   0.0   \n\n      DHW_HeatPumpWaterHeaterPowerTotal  DHW_SHWPumpsPowerWithStandby  \\\n0                              6.920000                          3.36   \n1                              6.920000                          3.36   \n2                              6.920000                          3.36   \n3                              6.920000                          3.36   \n4                              6.920000                          3.36   \n...                                 ...                           ...   \n8756                           6.920000                          3.36   \n8757                           6.920000                          3.36   \n8758                          15.309650                          3.36   \n8759                         693.102459                          3.36   \n8760                           6.920000                          3.36   \n\n      HVAC_HeatPumpIndoorUnitPower  HVAC_HeatPumpOutdoorUnitPower  \\\n0                        95.285085                     710.005600   \n1                        56.473583                     360.019787   \n2                        88.228208                     688.178560   \n3                        50.757458                     323.083507   \n4                        50.538875                     435.437653   \n...                            ...                            ...   \n8756                    102.977250                     822.883507   \n8757                    130.118958                    1295.618133   \n8758                     81.914167                     544.670640   \n8759                     90.396591                     812.768994   \n8760                           NaN                            NaN   \n\n      HVAC_DehumidifierPower  HourOfTimestamp  \n0                        NaN                4  \n1                        NaN                5  \n2                        NaN                6  \n3                        NaN                7  \n4                        NaN                8  \n...                      ...              ...  \n8756                     NaN                0  \n8757                     NaN                1  \n8758                     NaN                2  \n8759                     NaN                3  \n8760                     NaN                4  \n\n[8761 rows x 80 columns]",
      "text/html": "<div>\n<style scoped>\n    .dataframe tbody tr th:only-of-type {\n        vertical-align: middle;\n    }\n\n    .dataframe tbody tr th {\n        vertical-align: top;\n    }\n\n    .dataframe thead th {\n        text-align: right;\n    }\n</style>\n<table border=\"1\" class=\"dataframe\">\n  <thead>\n    <tr style=\"text-align: right;\">\n      <th></th>\n      <th>Timestamp</th>\n      <th>Load_LRPlugLoadsPowerUsage</th>\n      <th>Load_KPlugLoadsPowerUsage</th>\n      <th>Load_MBRPlugLoadsPowerUsage</th>\n      <th>Load_BR2PlugLoadsPowerUsage</th>\n      <th>Load_BR3PlugLoadsPowerUsage</th>\n      <th>Load_BR4PlugLoadsPowerUsage</th>\n      <th>Load_1stFloorSensHeatPowerUsage</th>\n      <th>Load_2ndFloorSensHeatPowerUsage</th>\n      <th>Load_1stFloorLightsPowerUsage</th>\n      <th>...</th>\n      <th>Elec_PowerParentBDownstairs</th>\n      <th>Elec_PowerPlugsInstKitD</th>\n      <th>Elec_PowerPlugsDRB</th>\n      <th>Elec_PowerPlugsAttic</th>\n      <th>DHW_HeatPumpWaterHeaterPowerTotal</th>\n      <th>DHW_SHWPumpsPowerWithStandby</th>\n      <th>HVAC_HeatPumpIndoorUnitPower</th>\n      <th>HVAC_HeatPumpOutdoorUnitPower</th>\n      <th>HVAC_DehumidifierPower</th>\n      <th>HourOfTimestamp</th>\n    </tr>\n  </thead>\n  <tbody>\n    <tr>\n      <th>0</th>\n      <td>2013-07-01 04:00:00+00:00</td>\n      <td>61.828361</td>\n      <td>0.82</td>\n      <td>0.000000</td>\n      <td>16.717136</td>\n      <td>21.385995</td>\n      <td>0.000000</td>\n      <td>0.000000</td>\n      <td>0.000000</td>\n      <td>0.000000</td>\n      <td>...</td>\n      <td>0.000000</td>\n      <td>0.000000</td>\n      <td>0.0</td>\n      <td>0.0</td>\n      <td>6.920000</td>\n      <td>3.36</td>\n      <td>95.285085</td>\n      <td>710.005600</td>\n      <td>NaN</td>\n      <td>4</td>\n    </tr>\n    <tr>\n      <th>1</th>\n      <td>2013-07-01 05:00:00+00:00</td>\n      <td>61.741718</td>\n      <td>0.82</td>\n      <td>0.000000</td>\n      <td>16.720044</td>\n      <td>21.356809</td>\n      <td>0.000000</td>\n      <td>0.000000</td>\n      <td>0.000000</td>\n      <td>0.000000</td>\n      <td>...</td>\n      <td>0.000000</td>\n      <td>0.000000</td>\n      <td>0.0</td>\n      <td>0.0</td>\n      <td>6.920000</td>\n      <td>3.36</td>\n      <td>56.473583</td>\n      <td>360.019787</td>\n      <td>NaN</td>\n      <td>5</td>\n    </tr>\n    <tr>\n      <th>2</th>\n      <td>2013-07-01 06:00:00+00:00</td>\n      <td>61.282300</td>\n      <td>0.82</td>\n      <td>0.000000</td>\n      <td>16.603185</td>\n      <td>21.266155</td>\n      <td>0.000000</td>\n      <td>0.000000</td>\n      <td>0.000000</td>\n      <td>0.000000</td>\n      <td>...</td>\n      <td>0.000000</td>\n      <td>0.000000</td>\n      <td>0.0</td>\n      <td>0.0</td>\n      <td>6.920000</td>\n      <td>3.36</td>\n      <td>88.228208</td>\n      <td>688.178560</td>\n      <td>NaN</td>\n      <td>6</td>\n    </tr>\n    <tr>\n      <th>3</th>\n      <td>2013-07-01 07:00:00+00:00</td>\n      <td>61.351621</td>\n      <td>0.82</td>\n      <td>0.000000</td>\n      <td>16.574143</td>\n      <td>21.199436</td>\n      <td>0.000000</td>\n      <td>0.000000</td>\n      <td>0.000000</td>\n      <td>0.000000</td>\n      <td>...</td>\n      <td>0.000000</td>\n      <td>0.000000</td>\n      <td>0.0</td>\n      <td>0.0</td>\n      <td>6.920000</td>\n      <td>3.36</td>\n      <td>50.757458</td>\n      <td>323.083507</td>\n      <td>NaN</td>\n      <td>7</td>\n    </tr>\n    <tr>\n      <th>4</th>\n      <td>2013-07-01 08:00:00+00:00</td>\n      <td>61.047820</td>\n      <td>0.82</td>\n      <td>0.000000</td>\n      <td>16.615978</td>\n      <td>21.224998</td>\n      <td>0.000000</td>\n      <td>0.000000</td>\n      <td>0.000000</td>\n      <td>0.000000</td>\n      <td>...</td>\n      <td>0.000000</td>\n      <td>0.000000</td>\n      <td>0.0</td>\n      <td>0.0</td>\n      <td>6.920000</td>\n      <td>3.36</td>\n      <td>50.538875</td>\n      <td>435.437653</td>\n      <td>NaN</td>\n      <td>8</td>\n    </tr>\n    <tr>\n      <th>...</th>\n      <td>...</td>\n      <td>...</td>\n      <td>...</td>\n      <td>...</td>\n      <td>...</td>\n      <td>...</td>\n      <td>...</td>\n      <td>...</td>\n      <td>...</td>\n      <td>...</td>\n      <td>...</td>\n      <td>...</td>\n      <td>...</td>\n      <td>...</td>\n      <td>...</td>\n      <td>...</td>\n      <td>...</td>\n      <td>...</td>\n      <td>...</td>\n      <td>...</td>\n      <td>...</td>\n    </tr>\n    <tr>\n      <th>8756</th>\n      <td>2014-07-01 00:00:00+00:00</td>\n      <td>30.754906</td>\n      <td>0.82</td>\n      <td>0.000000</td>\n      <td>53.912077</td>\n      <td>8.161264</td>\n      <td>86.011407</td>\n      <td>174.346985</td>\n      <td>104.856611</td>\n      <td>132.203343</td>\n      <td>...</td>\n      <td>73.312845</td>\n      <td>44.951712</td>\n      <td>0.0</td>\n      <td>0.0</td>\n      <td>6.920000</td>\n      <td>3.36</td>\n      <td>102.977250</td>\n      <td>822.883507</td>\n      <td>NaN</td>\n      <td>0</td>\n    </tr>\n    <tr>\n      <th>8757</th>\n      <td>2014-07-01 01:00:00+00:00</td>\n      <td>0.000000</td>\n      <td>0.82</td>\n      <td>0.000000</td>\n      <td>54.106752</td>\n      <td>0.000000</td>\n      <td>86.304487</td>\n      <td>141.672519</td>\n      <td>140.799554</td>\n      <td>136.240926</td>\n      <td>...</td>\n      <td>73.866524</td>\n      <td>45.050383</td>\n      <td>0.0</td>\n      <td>0.0</td>\n      <td>6.920000</td>\n      <td>3.36</td>\n      <td>130.118958</td>\n      <td>1295.618133</td>\n      <td>NaN</td>\n      <td>1</td>\n    </tr>\n    <tr>\n      <th>8758</th>\n      <td>2014-07-01 02:00:00+00:00</td>\n      <td>0.000000</td>\n      <td>0.82</td>\n      <td>28.743771</td>\n      <td>20.741190</td>\n      <td>0.000000</td>\n      <td>41.914702</td>\n      <td>33.966106</td>\n      <td>247.097007</td>\n      <td>68.259084</td>\n      <td>...</td>\n      <td>0.000000</td>\n      <td>45.482085</td>\n      <td>0.0</td>\n      <td>0.0</td>\n      <td>15.309650</td>\n      <td>3.36</td>\n      <td>81.914167</td>\n      <td>544.670640</td>\n      <td>NaN</td>\n      <td>2</td>\n    </tr>\n    <tr>\n      <th>8759</th>\n      <td>2014-07-01 03:00:00+00:00</td>\n      <td>0.000000</td>\n      <td>0.82</td>\n      <td>19.566401</td>\n      <td>20.586135</td>\n      <td>0.000000</td>\n      <td>0.000000</td>\n      <td>0.000000</td>\n      <td>269.158059</td>\n      <td>0.000000</td>\n      <td>...</td>\n      <td>0.000000</td>\n      <td>43.915393</td>\n      <td>0.0</td>\n      <td>0.0</td>\n      <td>693.102459</td>\n      <td>3.36</td>\n      <td>90.396591</td>\n      <td>812.768994</td>\n      <td>NaN</td>\n      <td>3</td>\n    </tr>\n    <tr>\n      <th>8760</th>\n      <td>2014-07-01 04:00:00+00:00</td>\n      <td>0.000000</td>\n      <td>0.82</td>\n      <td>0.000000</td>\n      <td>20.737557</td>\n      <td>0.000000</td>\n      <td>0.000000</td>\n      <td>0.000000</td>\n      <td>0.000000</td>\n      <td>0.000000</td>\n      <td>...</td>\n      <td>0.000000</td>\n      <td>0.000000</td>\n      <td>0.0</td>\n      <td>0.0</td>\n      <td>6.920000</td>\n      <td>3.36</td>\n      <td>NaN</td>\n      <td>NaN</td>\n      <td>NaN</td>\n      <td>4</td>\n    </tr>\n  </tbody>\n</table>\n<p>8761 rows × 80 columns</p>\n</div>"
     },
     "execution_count": 49,
     "metadata": {},
     "output_type": "execute_result"
    }
   ],
   "source": [
    "#Forces Timestamp to the type of datetime, to extract the hour of Timestamp.\n",
    "year1_consumption['Timestamp'] = pd.to_datetime(year1_consumption['Timestamp'], errors=\"coerce\", utc=True, format=\"%Y-%m-%d %H:%M:%S%z\")\n",
    "\n",
    "#Extracts hour of Timestamp.\n",
    "year1_consumption[\"HourOfTimestamp\"] = year1_consumption.Timestamp.dt.hour\n",
    "year1_consumption"
   ],
   "metadata": {
    "collapsed": false,
    "pycharm": {
     "name": "#%%\n"
    }
   }
  },
  {
   "cell_type": "code",
   "execution_count": 50,
   "outputs": [
    {
     "data": {
      "text/plain": "    HourOfTimestamp  Load_LRPlugLoadsPowerUsage  Load_KPlugLoadsPowerUsage  \\\n0                 0                21940.235618                 822.814934   \n1                 1                17480.300893                 295.629232   \n2                 2                13076.534479                 295.685035   \n3                 3                 8514.117035                 295.443000   \n4                 4                 5950.387364                 296.207072   \n5                 5                 5350.144344                 306.620585   \n6                 6                 5222.841724                 339.392696   \n7                 7                 5226.352372                 299.171878   \n8                 8                 5255.894194                 295.200000   \n9                 9                 5251.991263                 295.200000   \n10               10                 9386.175105               65494.378053   \n11               11                15552.734361               37859.749700   \n12               12                15103.291267                4222.016215   \n13               13                12232.791470               31679.621437   \n14               14                11816.874675               21469.075644   \n15               15                 7708.522150                2377.718754   \n16               16                 5213.199851                2717.516203   \n17               17                 5214.317558                 921.695850   \n18               18                 5198.550034                 294.910000   \n19               19                 9669.005404                 294.090000   \n20               20                 9933.145153                 351.848264   \n21               21                 6438.808851                 647.566535   \n22               22                15498.786571                9640.056113   \n23               23                23052.399191                4475.149236   \n\n    Load_MBRPlugLoadsPowerUsage  Load_BR2PlugLoadsPowerUsage  \\\n0                      0.537771                 18633.069216   \n1                    144.461384                 17164.280831   \n2                   8717.376665                 10963.608389   \n3                  11055.159716                  7869.829839   \n4                   3682.599989                  7877.820664   \n5                    296.542408                  7885.994300   \n6                    216.216712                  7903.450140   \n7                      0.000000                  7885.120820   \n8                      0.000000                  7865.121097   \n9                     21.596914                  7861.807371   \n10                  5649.909345                  7837.898842   \n11                  3130.564637                  7861.406212   \n12                     8.397387                  7908.746424   \n13                     0.000000                  7892.805864   \n14                     0.000000                  7910.658608   \n15                     0.000000                 10072.756523   \n16                     0.000000                 11262.492090   \n17                     0.000000                  9096.115394   \n18                 16210.556926                  7851.824543   \n19                  9108.344293                  7829.271939   \n20                     0.000000                  7846.688915   \n21                   449.769202                  7852.479530   \n22                 16090.169864                 12394.215926   \n23                  8953.970129                 17643.350086   \n\n    Load_BR3PlugLoadsPowerUsage  Load_BR4PlugLoadsPowerUsage  \\\n0                   6555.556573                 25920.659085   \n1                   1561.201126                 22726.147086   \n2                    194.802726                 14447.210687   \n3                    193.921351                  2372.816531   \n4                    214.776143                    87.288489   \n5                    221.999596                   513.462292   \n6                    271.253096                   627.827365   \n7                    256.104446                    63.741809   \n8                    215.029724                     0.000000   \n9                    213.599968                     0.000000   \n10                   213.145837                     0.000000   \n11                   215.135280                     0.000000   \n12                   215.149272                  2888.884416   \n13                   215.470842                  7281.973053   \n14                   215.452171                  8874.772357   \n15                   215.429740                  8903.153033   \n16                   215.215654                  8902.307387   \n17                   214.858569                  8898.546315   \n18                   193.879369                  8915.570605   \n19                   193.737426                  8907.188990   \n20                   193.436049                  8957.743282   \n21                   204.999813                 17902.925959   \n22                  4660.524084                 37004.205406   \n23                  9778.799947                 36028.696631   \n\n    Load_1stFloorSensHeatPowerUsage  Load_2ndFloorSensHeatPowerUsage  \\\n0                      65828.610295                     33355.141849   \n1                      65188.342555                     36617.614156   \n2                      43343.564576                     58731.198061   \n3                      15770.216367                     83878.681703   \n4                       2984.643316                     92169.258016   \n5                        466.954726                     96797.019413   \n6                        152.637987                     98868.473131   \n7                        303.222145                     98691.244063   \n8                        363.082836                     98644.998909   \n9                        503.480685                     98606.679872   \n10                     12240.846409                     87683.906097   \n11                     52759.204375                     47765.660292   \n12                     44211.715824                     22112.560015   \n13                     26337.351169                      8388.048536   \n14                     13537.393280                      5782.964185   \n15                      7187.717029                      7654.285475   \n16                      9721.261935                      9901.454105   \n17                     22189.483084                      4439.090361   \n18                     22913.408959                      1811.434151   \n19                     16308.154981                      1238.010719   \n20                     16739.368474                      2740.189001   \n21                     24939.571598                      6407.256788   \n22                     40781.544603                     35506.496493   \n23                     61799.759904                     35232.026862   \n\n    Load_1stFloorLightsPowerUsage  ...  Elec_PowerParentBUpstairs  \\\n0                    44803.179444  ...                  65.350087   \n1                    46189.482026  ...                 192.176874   \n2                    37019.611403  ...               11590.811686   \n3                    16062.668143  ...               19721.316648   \n4                     2866.457858  ...               22181.476789   \n5                      334.170827  ...               23873.999887   \n6                      389.323378  ...               24318.786398   \n7                      527.685088  ...               24283.030571   \n8                      531.899685  ...               24300.611111   \n9                      732.393869  ...               24240.536245   \n10                   14055.246376  ...               19034.221222   \n11                   26935.182360  ...               10272.782148   \n12                   24494.093161  ...                3784.571548   \n13                   14760.675912  ...                 868.562192   \n14                    4596.391844  ...                4690.793863   \n15                     857.217976  ...                2722.045927   \n16                     440.150082  ...                 214.035469   \n17                     517.015131  ...                 197.316771   \n18                     997.866565  ...                 173.419493   \n19                    1005.948546  ...                 101.938091   \n20                    1180.546858  ...                   1.115413   \n21                     966.632648  ...                  33.389161   \n22                   15326.326318  ...                2370.491237   \n23                   37146.175040  ...                1317.492968   \n\n    Elec_PowerParentBDownstairs  Elec_PowerPlugsInstKitD  Elec_PowerPlugsDRB  \\\n0                  26123.011094             15468.455299            7.977786   \n1                  26086.022289             15468.658266            7.607601   \n2                  14138.542327             15558.478896            7.595192   \n3                   5032.674880             15453.503853            7.314828   \n4                   1378.944132             14963.603307            7.298610   \n5                    120.831126             15263.578829            7.159510   \n6                     82.588718             15584.158837            7.261024   \n7                    135.439817             15565.324689            7.275294   \n8                    134.911797             15543.729437            7.288610   \n9                    239.286019             15517.717742            7.298934   \n10                  5948.560277             15454.303753            6.895741   \n11                 15071.151327             15350.470236            7.468637   \n12                 15949.543784             11913.490119          112.463592   \n13                  9935.869033              6487.805586          316.747580   \n14                  2728.243494              4468.175667          303.151061   \n15                  4666.920222              4403.427367          175.004958   \n16                  7328.372042              4396.680867           61.382364   \n17                  7404.297988              4453.952185           85.090066   \n18                  5118.674918              4446.705654           32.981322   \n19                  1471.425735              4513.538121            7.424716   \n20                   216.216670             11510.646066            7.221074   \n21                  4851.464450             15364.008009            7.427801   \n22                 16875.149087             15388.371314            7.426989   \n23                 24652.910853             15431.824063            7.623128   \n\n    Elec_PowerPlugsAttic  DHW_HeatPumpWaterHeaterPowerTotal  \\\n0               0.000000                       58982.099820   \n1               0.000000                       77609.394374   \n2              12.369004                       78521.880721   \n3               3.778955                       60749.284990   \n4               0.000000                       15487.045227   \n5               0.000000                        9244.310160   \n6               0.000000                        6937.862925   \n7               0.000000                        9960.032587   \n8               0.000000                       11332.975248   \n9               0.000000                       20694.685307   \n10              0.000000                       82837.277922   \n11              0.000000                      116476.490236   \n12              0.000000                      101042.325977   \n13              0.000000                       68337.598627   \n14              0.000000                       45042.104615   \n15              0.000000                       28125.827816   \n16              0.000000                       22747.258253   \n17              0.000000                       49903.489555   \n18              0.000000                       44893.643604   \n19              0.000000                       33951.069214   \n20              0.000000                       27829.379444   \n21              0.000000                       22650.273108   \n22              0.000000                       46595.422375   \n23              0.000000                       70148.142819   \n\n    DHW_SHWPumpsPowerWithStandby  HVAC_HeatPumpIndoorUnitPower  \\\n0                    1763.530711                  66477.913587   \n1                    1439.599285                  61395.103717   \n2                    1257.900124                  78305.919292   \n3                    1230.240444                  74544.208573   \n4                    1232.969451                  91028.042189   \n5                    1233.874133                 129509.211053   \n6                    1229.173228                  92950.535561   \n7                    1229.158026                 101565.249667   \n8                    1229.160301                 123395.423720   \n9                    1229.154215                  88628.781408   \n10                   1229.200093                 108000.089066   \n11                   1229.175977                  95819.742507   \n12                   4520.203895                  71669.001406   \n13                  19375.843553                  59619.946548   \n14                  34938.918332                  64968.043549   \n15                  41712.004169                  42641.541142   \n16                  44310.801113                  32364.201297   \n17                  44395.377392                  44544.463514   \n18                  41534.462449                  38672.434710   \n19                  37628.014634                  41543.142207   \n20                  24564.185712                  62394.520996   \n21                   6062.490998                  59892.274502   \n22                   2726.338856                  81370.241755   \n23                   2029.753002                  69526.837483   \n\n    HVAC_HeatPumpOutdoorUnitPower  HVAC_DehumidifierPower  \n0                   174814.401666                     0.0  \n1                   167218.776418                     0.0  \n2                   183019.939923                     0.0  \n3                   168311.296689                     0.0  \n4                   185202.545252                     0.0  \n5                   194725.168039                     0.0  \n6                   196899.036783                     0.0  \n7                   210512.451905                     0.0  \n8                   219048.204744                     0.0  \n9                   221378.111484                     0.0  \n10                  220865.060286                     0.0  \n11                  211236.165789                     0.0  \n12                  187684.647547                     0.0  \n13                  191295.065735                     0.0  \n14                  179031.175109                     0.0  \n15                  154928.402783                     0.0  \n16                  147260.606240                     0.0  \n17                  159017.326484                     0.0  \n18                  152393.344303                     0.0  \n19                  152626.402050                     0.0  \n20                  168619.748661                     0.0  \n21                  169635.116219                     0.0  \n22                  183992.265615                     0.0  \n23                  186503.184770                     0.0  \n\n[24 rows x 79 columns]",
      "text/html": "<div>\n<style scoped>\n    .dataframe tbody tr th:only-of-type {\n        vertical-align: middle;\n    }\n\n    .dataframe tbody tr th {\n        vertical-align: top;\n    }\n\n    .dataframe thead th {\n        text-align: right;\n    }\n</style>\n<table border=\"1\" class=\"dataframe\">\n  <thead>\n    <tr style=\"text-align: right;\">\n      <th></th>\n      <th>HourOfTimestamp</th>\n      <th>Load_LRPlugLoadsPowerUsage</th>\n      <th>Load_KPlugLoadsPowerUsage</th>\n      <th>Load_MBRPlugLoadsPowerUsage</th>\n      <th>Load_BR2PlugLoadsPowerUsage</th>\n      <th>Load_BR3PlugLoadsPowerUsage</th>\n      <th>Load_BR4PlugLoadsPowerUsage</th>\n      <th>Load_1stFloorSensHeatPowerUsage</th>\n      <th>Load_2ndFloorSensHeatPowerUsage</th>\n      <th>Load_1stFloorLightsPowerUsage</th>\n      <th>...</th>\n      <th>Elec_PowerParentBUpstairs</th>\n      <th>Elec_PowerParentBDownstairs</th>\n      <th>Elec_PowerPlugsInstKitD</th>\n      <th>Elec_PowerPlugsDRB</th>\n      <th>Elec_PowerPlugsAttic</th>\n      <th>DHW_HeatPumpWaterHeaterPowerTotal</th>\n      <th>DHW_SHWPumpsPowerWithStandby</th>\n      <th>HVAC_HeatPumpIndoorUnitPower</th>\n      <th>HVAC_HeatPumpOutdoorUnitPower</th>\n      <th>HVAC_DehumidifierPower</th>\n    </tr>\n  </thead>\n  <tbody>\n    <tr>\n      <th>0</th>\n      <td>0</td>\n      <td>21940.235618</td>\n      <td>822.814934</td>\n      <td>0.537771</td>\n      <td>18633.069216</td>\n      <td>6555.556573</td>\n      <td>25920.659085</td>\n      <td>65828.610295</td>\n      <td>33355.141849</td>\n      <td>44803.179444</td>\n      <td>...</td>\n      <td>65.350087</td>\n      <td>26123.011094</td>\n      <td>15468.455299</td>\n      <td>7.977786</td>\n      <td>0.000000</td>\n      <td>58982.099820</td>\n      <td>1763.530711</td>\n      <td>66477.913587</td>\n      <td>174814.401666</td>\n      <td>0.0</td>\n    </tr>\n    <tr>\n      <th>1</th>\n      <td>1</td>\n      <td>17480.300893</td>\n      <td>295.629232</td>\n      <td>144.461384</td>\n      <td>17164.280831</td>\n      <td>1561.201126</td>\n      <td>22726.147086</td>\n      <td>65188.342555</td>\n      <td>36617.614156</td>\n      <td>46189.482026</td>\n      <td>...</td>\n      <td>192.176874</td>\n      <td>26086.022289</td>\n      <td>15468.658266</td>\n      <td>7.607601</td>\n      <td>0.000000</td>\n      <td>77609.394374</td>\n      <td>1439.599285</td>\n      <td>61395.103717</td>\n      <td>167218.776418</td>\n      <td>0.0</td>\n    </tr>\n    <tr>\n      <th>2</th>\n      <td>2</td>\n      <td>13076.534479</td>\n      <td>295.685035</td>\n      <td>8717.376665</td>\n      <td>10963.608389</td>\n      <td>194.802726</td>\n      <td>14447.210687</td>\n      <td>43343.564576</td>\n      <td>58731.198061</td>\n      <td>37019.611403</td>\n      <td>...</td>\n      <td>11590.811686</td>\n      <td>14138.542327</td>\n      <td>15558.478896</td>\n      <td>7.595192</td>\n      <td>12.369004</td>\n      <td>78521.880721</td>\n      <td>1257.900124</td>\n      <td>78305.919292</td>\n      <td>183019.939923</td>\n      <td>0.0</td>\n    </tr>\n    <tr>\n      <th>3</th>\n      <td>3</td>\n      <td>8514.117035</td>\n      <td>295.443000</td>\n      <td>11055.159716</td>\n      <td>7869.829839</td>\n      <td>193.921351</td>\n      <td>2372.816531</td>\n      <td>15770.216367</td>\n      <td>83878.681703</td>\n      <td>16062.668143</td>\n      <td>...</td>\n      <td>19721.316648</td>\n      <td>5032.674880</td>\n      <td>15453.503853</td>\n      <td>7.314828</td>\n      <td>3.778955</td>\n      <td>60749.284990</td>\n      <td>1230.240444</td>\n      <td>74544.208573</td>\n      <td>168311.296689</td>\n      <td>0.0</td>\n    </tr>\n    <tr>\n      <th>4</th>\n      <td>4</td>\n      <td>5950.387364</td>\n      <td>296.207072</td>\n      <td>3682.599989</td>\n      <td>7877.820664</td>\n      <td>214.776143</td>\n      <td>87.288489</td>\n      <td>2984.643316</td>\n      <td>92169.258016</td>\n      <td>2866.457858</td>\n      <td>...</td>\n      <td>22181.476789</td>\n      <td>1378.944132</td>\n      <td>14963.603307</td>\n      <td>7.298610</td>\n      <td>0.000000</td>\n      <td>15487.045227</td>\n      <td>1232.969451</td>\n      <td>91028.042189</td>\n      <td>185202.545252</td>\n      <td>0.0</td>\n    </tr>\n    <tr>\n      <th>5</th>\n      <td>5</td>\n      <td>5350.144344</td>\n      <td>306.620585</td>\n      <td>296.542408</td>\n      <td>7885.994300</td>\n      <td>221.999596</td>\n      <td>513.462292</td>\n      <td>466.954726</td>\n      <td>96797.019413</td>\n      <td>334.170827</td>\n      <td>...</td>\n      <td>23873.999887</td>\n      <td>120.831126</td>\n      <td>15263.578829</td>\n      <td>7.159510</td>\n      <td>0.000000</td>\n      <td>9244.310160</td>\n      <td>1233.874133</td>\n      <td>129509.211053</td>\n      <td>194725.168039</td>\n      <td>0.0</td>\n    </tr>\n    <tr>\n      <th>6</th>\n      <td>6</td>\n      <td>5222.841724</td>\n      <td>339.392696</td>\n      <td>216.216712</td>\n      <td>7903.450140</td>\n      <td>271.253096</td>\n      <td>627.827365</td>\n      <td>152.637987</td>\n      <td>98868.473131</td>\n      <td>389.323378</td>\n      <td>...</td>\n      <td>24318.786398</td>\n      <td>82.588718</td>\n      <td>15584.158837</td>\n      <td>7.261024</td>\n      <td>0.000000</td>\n      <td>6937.862925</td>\n      <td>1229.173228</td>\n      <td>92950.535561</td>\n      <td>196899.036783</td>\n      <td>0.0</td>\n    </tr>\n    <tr>\n      <th>7</th>\n      <td>7</td>\n      <td>5226.352372</td>\n      <td>299.171878</td>\n      <td>0.000000</td>\n      <td>7885.120820</td>\n      <td>256.104446</td>\n      <td>63.741809</td>\n      <td>303.222145</td>\n      <td>98691.244063</td>\n      <td>527.685088</td>\n      <td>...</td>\n      <td>24283.030571</td>\n      <td>135.439817</td>\n      <td>15565.324689</td>\n      <td>7.275294</td>\n      <td>0.000000</td>\n      <td>9960.032587</td>\n      <td>1229.158026</td>\n      <td>101565.249667</td>\n      <td>210512.451905</td>\n      <td>0.0</td>\n    </tr>\n    <tr>\n      <th>8</th>\n      <td>8</td>\n      <td>5255.894194</td>\n      <td>295.200000</td>\n      <td>0.000000</td>\n      <td>7865.121097</td>\n      <td>215.029724</td>\n      <td>0.000000</td>\n      <td>363.082836</td>\n      <td>98644.998909</td>\n      <td>531.899685</td>\n      <td>...</td>\n      <td>24300.611111</td>\n      <td>134.911797</td>\n      <td>15543.729437</td>\n      <td>7.288610</td>\n      <td>0.000000</td>\n      <td>11332.975248</td>\n      <td>1229.160301</td>\n      <td>123395.423720</td>\n      <td>219048.204744</td>\n      <td>0.0</td>\n    </tr>\n    <tr>\n      <th>9</th>\n      <td>9</td>\n      <td>5251.991263</td>\n      <td>295.200000</td>\n      <td>21.596914</td>\n      <td>7861.807371</td>\n      <td>213.599968</td>\n      <td>0.000000</td>\n      <td>503.480685</td>\n      <td>98606.679872</td>\n      <td>732.393869</td>\n      <td>...</td>\n      <td>24240.536245</td>\n      <td>239.286019</td>\n      <td>15517.717742</td>\n      <td>7.298934</td>\n      <td>0.000000</td>\n      <td>20694.685307</td>\n      <td>1229.154215</td>\n      <td>88628.781408</td>\n      <td>221378.111484</td>\n      <td>0.0</td>\n    </tr>\n    <tr>\n      <th>10</th>\n      <td>10</td>\n      <td>9386.175105</td>\n      <td>65494.378053</td>\n      <td>5649.909345</td>\n      <td>7837.898842</td>\n      <td>213.145837</td>\n      <td>0.000000</td>\n      <td>12240.846409</td>\n      <td>87683.906097</td>\n      <td>14055.246376</td>\n      <td>...</td>\n      <td>19034.221222</td>\n      <td>5948.560277</td>\n      <td>15454.303753</td>\n      <td>6.895741</td>\n      <td>0.000000</td>\n      <td>82837.277922</td>\n      <td>1229.200093</td>\n      <td>108000.089066</td>\n      <td>220865.060286</td>\n      <td>0.0</td>\n    </tr>\n    <tr>\n      <th>11</th>\n      <td>11</td>\n      <td>15552.734361</td>\n      <td>37859.749700</td>\n      <td>3130.564637</td>\n      <td>7861.406212</td>\n      <td>215.135280</td>\n      <td>0.000000</td>\n      <td>52759.204375</td>\n      <td>47765.660292</td>\n      <td>26935.182360</td>\n      <td>...</td>\n      <td>10272.782148</td>\n      <td>15071.151327</td>\n      <td>15350.470236</td>\n      <td>7.468637</td>\n      <td>0.000000</td>\n      <td>116476.490236</td>\n      <td>1229.175977</td>\n      <td>95819.742507</td>\n      <td>211236.165789</td>\n      <td>0.0</td>\n    </tr>\n    <tr>\n      <th>12</th>\n      <td>12</td>\n      <td>15103.291267</td>\n      <td>4222.016215</td>\n      <td>8.397387</td>\n      <td>7908.746424</td>\n      <td>215.149272</td>\n      <td>2888.884416</td>\n      <td>44211.715824</td>\n      <td>22112.560015</td>\n      <td>24494.093161</td>\n      <td>...</td>\n      <td>3784.571548</td>\n      <td>15949.543784</td>\n      <td>11913.490119</td>\n      <td>112.463592</td>\n      <td>0.000000</td>\n      <td>101042.325977</td>\n      <td>4520.203895</td>\n      <td>71669.001406</td>\n      <td>187684.647547</td>\n      <td>0.0</td>\n    </tr>\n    <tr>\n      <th>13</th>\n      <td>13</td>\n      <td>12232.791470</td>\n      <td>31679.621437</td>\n      <td>0.000000</td>\n      <td>7892.805864</td>\n      <td>215.470842</td>\n      <td>7281.973053</td>\n      <td>26337.351169</td>\n      <td>8388.048536</td>\n      <td>14760.675912</td>\n      <td>...</td>\n      <td>868.562192</td>\n      <td>9935.869033</td>\n      <td>6487.805586</td>\n      <td>316.747580</td>\n      <td>0.000000</td>\n      <td>68337.598627</td>\n      <td>19375.843553</td>\n      <td>59619.946548</td>\n      <td>191295.065735</td>\n      <td>0.0</td>\n    </tr>\n    <tr>\n      <th>14</th>\n      <td>14</td>\n      <td>11816.874675</td>\n      <td>21469.075644</td>\n      <td>0.000000</td>\n      <td>7910.658608</td>\n      <td>215.452171</td>\n      <td>8874.772357</td>\n      <td>13537.393280</td>\n      <td>5782.964185</td>\n      <td>4596.391844</td>\n      <td>...</td>\n      <td>4690.793863</td>\n      <td>2728.243494</td>\n      <td>4468.175667</td>\n      <td>303.151061</td>\n      <td>0.000000</td>\n      <td>45042.104615</td>\n      <td>34938.918332</td>\n      <td>64968.043549</td>\n      <td>179031.175109</td>\n      <td>0.0</td>\n    </tr>\n    <tr>\n      <th>15</th>\n      <td>15</td>\n      <td>7708.522150</td>\n      <td>2377.718754</td>\n      <td>0.000000</td>\n      <td>10072.756523</td>\n      <td>215.429740</td>\n      <td>8903.153033</td>\n      <td>7187.717029</td>\n      <td>7654.285475</td>\n      <td>857.217976</td>\n      <td>...</td>\n      <td>2722.045927</td>\n      <td>4666.920222</td>\n      <td>4403.427367</td>\n      <td>175.004958</td>\n      <td>0.000000</td>\n      <td>28125.827816</td>\n      <td>41712.004169</td>\n      <td>42641.541142</td>\n      <td>154928.402783</td>\n      <td>0.0</td>\n    </tr>\n    <tr>\n      <th>16</th>\n      <td>16</td>\n      <td>5213.199851</td>\n      <td>2717.516203</td>\n      <td>0.000000</td>\n      <td>11262.492090</td>\n      <td>215.215654</td>\n      <td>8902.307387</td>\n      <td>9721.261935</td>\n      <td>9901.454105</td>\n      <td>440.150082</td>\n      <td>...</td>\n      <td>214.035469</td>\n      <td>7328.372042</td>\n      <td>4396.680867</td>\n      <td>61.382364</td>\n      <td>0.000000</td>\n      <td>22747.258253</td>\n      <td>44310.801113</td>\n      <td>32364.201297</td>\n      <td>147260.606240</td>\n      <td>0.0</td>\n    </tr>\n    <tr>\n      <th>17</th>\n      <td>17</td>\n      <td>5214.317558</td>\n      <td>921.695850</td>\n      <td>0.000000</td>\n      <td>9096.115394</td>\n      <td>214.858569</td>\n      <td>8898.546315</td>\n      <td>22189.483084</td>\n      <td>4439.090361</td>\n      <td>517.015131</td>\n      <td>...</td>\n      <td>197.316771</td>\n      <td>7404.297988</td>\n      <td>4453.952185</td>\n      <td>85.090066</td>\n      <td>0.000000</td>\n      <td>49903.489555</td>\n      <td>44395.377392</td>\n      <td>44544.463514</td>\n      <td>159017.326484</td>\n      <td>0.0</td>\n    </tr>\n    <tr>\n      <th>18</th>\n      <td>18</td>\n      <td>5198.550034</td>\n      <td>294.910000</td>\n      <td>16210.556926</td>\n      <td>7851.824543</td>\n      <td>193.879369</td>\n      <td>8915.570605</td>\n      <td>22913.408959</td>\n      <td>1811.434151</td>\n      <td>997.866565</td>\n      <td>...</td>\n      <td>173.419493</td>\n      <td>5118.674918</td>\n      <td>4446.705654</td>\n      <td>32.981322</td>\n      <td>0.000000</td>\n      <td>44893.643604</td>\n      <td>41534.462449</td>\n      <td>38672.434710</td>\n      <td>152393.344303</td>\n      <td>0.0</td>\n    </tr>\n    <tr>\n      <th>19</th>\n      <td>19</td>\n      <td>9669.005404</td>\n      <td>294.090000</td>\n      <td>9108.344293</td>\n      <td>7829.271939</td>\n      <td>193.737426</td>\n      <td>8907.188990</td>\n      <td>16308.154981</td>\n      <td>1238.010719</td>\n      <td>1005.948546</td>\n      <td>...</td>\n      <td>101.938091</td>\n      <td>1471.425735</td>\n      <td>4513.538121</td>\n      <td>7.424716</td>\n      <td>0.000000</td>\n      <td>33951.069214</td>\n      <td>37628.014634</td>\n      <td>41543.142207</td>\n      <td>152626.402050</td>\n      <td>0.0</td>\n    </tr>\n    <tr>\n      <th>20</th>\n      <td>20</td>\n      <td>9933.145153</td>\n      <td>351.848264</td>\n      <td>0.000000</td>\n      <td>7846.688915</td>\n      <td>193.436049</td>\n      <td>8957.743282</td>\n      <td>16739.368474</td>\n      <td>2740.189001</td>\n      <td>1180.546858</td>\n      <td>...</td>\n      <td>1.115413</td>\n      <td>216.216670</td>\n      <td>11510.646066</td>\n      <td>7.221074</td>\n      <td>0.000000</td>\n      <td>27829.379444</td>\n      <td>24564.185712</td>\n      <td>62394.520996</td>\n      <td>168619.748661</td>\n      <td>0.0</td>\n    </tr>\n    <tr>\n      <th>21</th>\n      <td>21</td>\n      <td>6438.808851</td>\n      <td>647.566535</td>\n      <td>449.769202</td>\n      <td>7852.479530</td>\n      <td>204.999813</td>\n      <td>17902.925959</td>\n      <td>24939.571598</td>\n      <td>6407.256788</td>\n      <td>966.632648</td>\n      <td>...</td>\n      <td>33.389161</td>\n      <td>4851.464450</td>\n      <td>15364.008009</td>\n      <td>7.427801</td>\n      <td>0.000000</td>\n      <td>22650.273108</td>\n      <td>6062.490998</td>\n      <td>59892.274502</td>\n      <td>169635.116219</td>\n      <td>0.0</td>\n    </tr>\n    <tr>\n      <th>22</th>\n      <td>22</td>\n      <td>15498.786571</td>\n      <td>9640.056113</td>\n      <td>16090.169864</td>\n      <td>12394.215926</td>\n      <td>4660.524084</td>\n      <td>37004.205406</td>\n      <td>40781.544603</td>\n      <td>35506.496493</td>\n      <td>15326.326318</td>\n      <td>...</td>\n      <td>2370.491237</td>\n      <td>16875.149087</td>\n      <td>15388.371314</td>\n      <td>7.426989</td>\n      <td>0.000000</td>\n      <td>46595.422375</td>\n      <td>2726.338856</td>\n      <td>81370.241755</td>\n      <td>183992.265615</td>\n      <td>0.0</td>\n    </tr>\n    <tr>\n      <th>23</th>\n      <td>23</td>\n      <td>23052.399191</td>\n      <td>4475.149236</td>\n      <td>8953.970129</td>\n      <td>17643.350086</td>\n      <td>9778.799947</td>\n      <td>36028.696631</td>\n      <td>61799.759904</td>\n      <td>35232.026862</td>\n      <td>37146.175040</td>\n      <td>...</td>\n      <td>1317.492968</td>\n      <td>24652.910853</td>\n      <td>15431.824063</td>\n      <td>7.623128</td>\n      <td>0.000000</td>\n      <td>70148.142819</td>\n      <td>2029.753002</td>\n      <td>69526.837483</td>\n      <td>186503.184770</td>\n      <td>0.0</td>\n    </tr>\n  </tbody>\n</table>\n<p>24 rows × 79 columns</p>\n</div>"
     },
     "execution_count": 50,
     "metadata": {},
     "output_type": "execute_result"
    }
   ],
   "source": [
    "hourON = year1_consumption.groupby([\"HourOfTimestamp\"])[consumption].sum()\n",
    "hourON.reset_index(inplace=True)\n",
    "hourON"
   ],
   "metadata": {
    "collapsed": false,
    "pycharm": {
     "name": "#%%\n"
    }
   }
  },
  {
   "cell_type": "code",
   "execution_count": 51,
   "outputs": [],
   "source": [
    "def normalise_dataframe(df):\n",
    "    '''\n",
    "    Normalises values of all attributes in a dataframe, with minmax method.\n",
    "    :param df:\n",
    "    :type df:\n",
    "    :return:\n",
    "    :rtype:\n",
    "    '''\n",
    "    normalised_df = df.copy()\n",
    "\n",
    "    for column in normalised_df:\n",
    "        try:\n",
    "            normalised_df[column] = (normalised_df[column] - normalised_df[column].min()) / (\n",
    "                    normalised_df[column].max() - normalised_df[column].min())\n",
    "        except:\n",
    "            normalised_df[column] = normalised_df[column]\n",
    "\n",
    "    return normalised_df"
   ],
   "metadata": {
    "collapsed": false,
    "pycharm": {
     "name": "#%%\n"
    }
   }
  },
  {
   "cell_type": "code",
   "execution_count": 52,
   "outputs": [
    {
     "data": {
      "text/plain": "    Elec_PowerPlugsInstBR4B  Elec_PowerPlugsInstBA2  \\\n0                  0.010067                0.875876   \n1                  0.030413                0.946481   \n2                  0.020125                0.455079   \n3                  0.000000                0.000000   \n4                  0.157086                0.158072   \n5                  0.052366                0.052580   \n6                  0.022596                0.022802   \n7                  0.010058                0.010111   \n8                  0.010025                0.010101   \n9                  0.010325                0.010305   \n10                 0.000000                0.000000   \n11                 0.020040                0.020150   \n12                 0.019797                0.019909   \n13                 0.009979                0.010088   \n14                 0.000000                0.000000   \n15                 0.281016                0.020149   \n16                 0.000000                0.000000   \n17                 0.010366                0.010321   \n18                 0.009908                0.009934   \n19                 0.010174                0.010192   \n20                 0.019967                0.020047   \n21                 0.000000                0.000000   \n22                 0.000000                0.450228   \n23                 0.030723                0.944915   \n\n    Elec_PowerPlugsInstMudroomA  Elec_PowerPlugsAttic  \\\n0                      0.559791              0.000000   \n1                      0.613814              0.000000   \n2                      0.587549             12.369004   \n3                      0.511551              3.778955   \n4                      0.570218              0.000000   \n5                      0.189596              0.000000   \n6                      0.082221              0.000000   \n7                      0.036372              0.000000   \n8                      0.036385              0.000000   \n9                      0.037283              0.000000   \n10                     0.000000              0.000000   \n11                     0.072147              0.000000   \n12                     0.071636              0.000000   \n13                     0.375575              0.000000   \n14                     0.008123              0.000000   \n15                     0.211115              0.000000   \n16                     0.000000              0.000000   \n17                     0.036828              0.000000   \n18                     0.036935              0.000000   \n19                     0.036652              0.000000   \n20                     0.575639              0.000000   \n21                     0.504974              0.000000   \n22                     0.505876              0.000000   \n23                     0.620266              0.000000   \n\n    Elec_PowerPlugsInstBR4A  Elec_PowerPlugsBA2North  Elec_PowerPlugsInstLRA  \\\n0                  0.000000                 0.006898                0.037146   \n1                  0.000000                 0.000000                0.114007   \n2                  0.000000                 0.002321                0.076034   \n3                  0.000000                 0.000000                0.000000   \n4                  0.000000                 0.000000                0.595163   \n5                  0.000000                 0.000000                0.197812   \n6                  0.000000                 0.000000                0.085778   \n7                  0.000000                 0.000000                0.037954   \n8                  0.000000                 0.000000                0.038001   \n9                  0.000000                 0.000000                0.038482   \n10                 0.000000                 0.000000                0.000000   \n11                 0.000000                 0.000000                0.075047   \n12                 0.000000                 0.000000                0.075262   \n13                 3.850074               116.112821                0.687620   \n14                13.218294                 0.004613                0.000000   \n15                10.468562                 0.002341               18.850808   \n16                10.770817                 0.000000               28.524589   \n17                 0.000000                 0.000000                0.510672   \n18                 0.668300                 0.002283                2.881455   \n19                16.074842                 0.000000                8.018675   \n20                 7.453455                 0.000000               41.782930   \n21                 0.000000                 0.000000               16.128477   \n22                 0.000000                 0.002320                0.000000   \n23                 0.000000                 0.000000                0.116535   \n\n    Elec_PowerPlugsInstMBAB  HourOfTimestamp  Elec_PowerLightsAttic  ...  \\\n0                 30.874961                0              56.975516  ...   \n1                  0.485846                1              97.724514  ...   \n2                  0.474559                2              89.940747  ...   \n3                  0.481727                3             166.942601  ...   \n4                  0.000000                4               4.150276  ...   \n5                  0.000000                5               0.000000  ...   \n6                  0.000000                6               0.000000  ...   \n7                  0.000000                7               0.000000  ...   \n8                  0.000000                8               0.000000  ...   \n9                  0.000000                9               0.000000  ...   \n10                 0.000000               10               0.000000  ...   \n11                 0.000000               11               0.000000  ...   \n12                 0.000000               12               0.000000  ...   \n13                 0.484370               13              24.333179  ...   \n14                 0.469648               14               1.484530  ...   \n15                 0.468370               15               1.459397  ...   \n16                 0.484646               16               1.489249  ...   \n17                60.401128               17              11.381395  ...   \n18                77.447621               18              10.942897  ...   \n19                 2.627079               19               1.724413  ...   \n20                 0.483175               20               3.058028  ...   \n21                 0.483308               21               0.074455  ...   \n22                 0.475582               22              10.864753  ...   \n23                 0.484726               23               2.707361  ...   \n\n    Load_RefrigeratorPowerWithStandby  Load_BasementPlugLoadsPowerUsage  \\\n0                        17491.617404                      21512.988439   \n1                        17141.793293                      21494.207050   \n2                        17152.129923                      21526.752414   \n3                        17104.136341                      21504.320770   \n4                        17008.501499                      21334.784835   \n5                        17141.294012                      21365.333808   \n6                        17266.935585                      21442.578616   \n7                        17235.131078                      21422.551670   \n8                        16905.067804                      21368.788325   \n9                        16355.719949                      21341.249603   \n10                       16828.207235                      21347.028363   \n11                       16532.102914                      21379.771983   \n12                       16748.242712                      21452.449820   \n13                       17470.641833                      21561.090153   \n14                       17182.881617                      21661.590909   \n15                       17557.377088                      21523.691665   \n16                       17384.539094                      21373.957553   \n17                       18245.189315                      21462.589496   \n18                       17333.895507                      21806.020673   \n19                       17706.923512                      21474.838946   \n20                       17385.547866                      21627.389701   \n21                       17451.808559                      21466.655606   \n22                       17414.827791                      21483.184920   \n23                       16925.891521                      21481.652322   \n\n    Elec_PowerHRV  Load_DryerPowerTotal  Elec_PowerHeatPumpWH2of2  \\\n0    21686.477152          65865.372044              28491.148061   \n1    21582.089140          39927.814582              37851.901153   \n2    21600.702172           3209.414534              38350.733603   \n3    21491.244466            582.503438              29389.308511   \n4    21672.381847              0.000000               6622.153888   \n5    21673.264899              0.000000               3421.950894   \n6    21525.426833              0.000000               2245.302463   \n7    21580.192835              0.000000               3769.189294   \n8    21613.578553              0.000000               4463.964624   \n9    21633.293097              0.000000               9183.167987   \n10   21690.647756              0.000000              40568.464021   \n11   21617.116710              0.369279              57460.494785   \n12   21623.207414              0.277729              49685.372851   \n13   21544.764525              0.089268              33224.524123   \n14   21530.578802              0.606669              21469.951575   \n15   21463.584518              0.172578              12931.981679   \n16   21411.401014         123316.592248              10197.669490   \n17   21402.945328          78167.599129              23881.881917   \n18   21346.986296           7078.804119              21396.978392   \n19   21314.148807         127681.760098              15871.069702   \n20   21376.085104          72400.906650              12759.914722   \n21   21374.196914             -2.220000              10170.184074   \n22   21585.587625             -2.033488              22268.661250   \n23   21745.225591             -2.220000              34139.148213   \n\n    Load_1stFloorSensHeatPowerUsage  Load_2ndFloorSensHeatPowerUsage  \\\n0                      65828.610295                     33355.141849   \n1                      65188.342555                     36617.614156   \n2                      43343.564576                     58731.198061   \n3                      15770.216367                     83878.681703   \n4                       2984.643316                     92169.258016   \n5                        466.954726                     96797.019413   \n6                        152.637987                     98868.473131   \n7                        303.222145                     98691.244063   \n8                        363.082836                     98644.998909   \n9                        503.480685                     98606.679872   \n10                     12240.846409                     87683.906097   \n11                     52759.204375                     47765.660292   \n12                     44211.715824                     22112.560015   \n13                     26337.351169                      8388.048536   \n14                     13537.393280                      5782.964185   \n15                      7187.717029                      7654.285475   \n16                      9721.261935                      9901.454105   \n17                     22189.483084                      4439.090361   \n18                     22913.408959                      1811.434151   \n19                     16308.154981                      1238.010719   \n20                     16739.368474                      2740.189001   \n21                     24939.571598                      6407.256788   \n22                     40781.544603                     35506.496493   \n23                     61799.759904                     35232.026862   \n\n    DHW_HeatPumpWaterHeaterPowerTotal  HVAC_HeatPumpIndoorUnitPower  \\\n0                        58982.099820                  66477.913587   \n1                        77609.394374                  61395.103717   \n2                        78521.880721                  78305.919292   \n3                        60749.284990                  74544.208573   \n4                        15487.045227                  91028.042189   \n5                         9244.310160                 129509.211053   \n6                         6937.862925                  92950.535561   \n7                         9960.032587                 101565.249667   \n8                        11332.975248                 123395.423720   \n9                        20694.685307                  88628.781408   \n10                       82837.277922                 108000.089066   \n11                      116476.490236                  95819.742507   \n12                      101042.325977                  71669.001406   \n13                       68337.598627                  59619.946548   \n14                       45042.104615                  64968.043549   \n15                       28125.827816                  42641.541142   \n16                       22747.258253                  32364.201297   \n17                       49903.489555                  44544.463514   \n18                       44893.643604                  38672.434710   \n19                       33951.069214                  41543.142207   \n20                       27829.379444                  62394.520996   \n21                       22650.273108                  59892.274502   \n22                       46595.422375                  81370.241755   \n23                       70148.142819                  69526.837483   \n\n    HVAC_HeatPumpOutdoorUnitPower  \n0                   174814.401666  \n1                   167218.776418  \n2                   183019.939923  \n3                   168311.296689  \n4                   185202.545252  \n5                   194725.168039  \n6                   196899.036783  \n7                   210512.451905  \n8                   219048.204744  \n9                   221378.111484  \n10                  220865.060286  \n11                  211236.165789  \n12                  187684.647547  \n13                  191295.065735  \n14                  179031.175109  \n15                  154928.402783  \n16                  147260.606240  \n17                  159017.326484  \n18                  152393.344303  \n19                  152626.402050  \n20                  168619.748661  \n21                  169635.116219  \n22                  183992.265615  \n23                  186503.184770  \n\n[24 rows x 72 columns]",
      "text/html": "<div>\n<style scoped>\n    .dataframe tbody tr th:only-of-type {\n        vertical-align: middle;\n    }\n\n    .dataframe tbody tr th {\n        vertical-align: top;\n    }\n\n    .dataframe thead th {\n        text-align: right;\n    }\n</style>\n<table border=\"1\" class=\"dataframe\">\n  <thead>\n    <tr style=\"text-align: right;\">\n      <th></th>\n      <th>Elec_PowerPlugsInstBR4B</th>\n      <th>Elec_PowerPlugsInstBA2</th>\n      <th>Elec_PowerPlugsInstMudroomA</th>\n      <th>Elec_PowerPlugsAttic</th>\n      <th>Elec_PowerPlugsInstBR4A</th>\n      <th>Elec_PowerPlugsBA2North</th>\n      <th>Elec_PowerPlugsInstLRA</th>\n      <th>Elec_PowerPlugsInstMBAB</th>\n      <th>HourOfTimestamp</th>\n      <th>Elec_PowerLightsAttic</th>\n      <th>...</th>\n      <th>Load_RefrigeratorPowerWithStandby</th>\n      <th>Load_BasementPlugLoadsPowerUsage</th>\n      <th>Elec_PowerHRV</th>\n      <th>Load_DryerPowerTotal</th>\n      <th>Elec_PowerHeatPumpWH2of2</th>\n      <th>Load_1stFloorSensHeatPowerUsage</th>\n      <th>Load_2ndFloorSensHeatPowerUsage</th>\n      <th>DHW_HeatPumpWaterHeaterPowerTotal</th>\n      <th>HVAC_HeatPumpIndoorUnitPower</th>\n      <th>HVAC_HeatPumpOutdoorUnitPower</th>\n    </tr>\n  </thead>\n  <tbody>\n    <tr>\n      <th>0</th>\n      <td>0.010067</td>\n      <td>0.875876</td>\n      <td>0.559791</td>\n      <td>0.000000</td>\n      <td>0.000000</td>\n      <td>0.006898</td>\n      <td>0.037146</td>\n      <td>30.874961</td>\n      <td>0</td>\n      <td>56.975516</td>\n      <td>...</td>\n      <td>17491.617404</td>\n      <td>21512.988439</td>\n      <td>21686.477152</td>\n      <td>65865.372044</td>\n      <td>28491.148061</td>\n      <td>65828.610295</td>\n      <td>33355.141849</td>\n      <td>58982.099820</td>\n      <td>66477.913587</td>\n      <td>174814.401666</td>\n    </tr>\n    <tr>\n      <th>1</th>\n      <td>0.030413</td>\n      <td>0.946481</td>\n      <td>0.613814</td>\n      <td>0.000000</td>\n      <td>0.000000</td>\n      <td>0.000000</td>\n      <td>0.114007</td>\n      <td>0.485846</td>\n      <td>1</td>\n      <td>97.724514</td>\n      <td>...</td>\n      <td>17141.793293</td>\n      <td>21494.207050</td>\n      <td>21582.089140</td>\n      <td>39927.814582</td>\n      <td>37851.901153</td>\n      <td>65188.342555</td>\n      <td>36617.614156</td>\n      <td>77609.394374</td>\n      <td>61395.103717</td>\n      <td>167218.776418</td>\n    </tr>\n    <tr>\n      <th>2</th>\n      <td>0.020125</td>\n      <td>0.455079</td>\n      <td>0.587549</td>\n      <td>12.369004</td>\n      <td>0.000000</td>\n      <td>0.002321</td>\n      <td>0.076034</td>\n      <td>0.474559</td>\n      <td>2</td>\n      <td>89.940747</td>\n      <td>...</td>\n      <td>17152.129923</td>\n      <td>21526.752414</td>\n      <td>21600.702172</td>\n      <td>3209.414534</td>\n      <td>38350.733603</td>\n      <td>43343.564576</td>\n      <td>58731.198061</td>\n      <td>78521.880721</td>\n      <td>78305.919292</td>\n      <td>183019.939923</td>\n    </tr>\n    <tr>\n      <th>3</th>\n      <td>0.000000</td>\n      <td>0.000000</td>\n      <td>0.511551</td>\n      <td>3.778955</td>\n      <td>0.000000</td>\n      <td>0.000000</td>\n      <td>0.000000</td>\n      <td>0.481727</td>\n      <td>3</td>\n      <td>166.942601</td>\n      <td>...</td>\n      <td>17104.136341</td>\n      <td>21504.320770</td>\n      <td>21491.244466</td>\n      <td>582.503438</td>\n      <td>29389.308511</td>\n      <td>15770.216367</td>\n      <td>83878.681703</td>\n      <td>60749.284990</td>\n      <td>74544.208573</td>\n      <td>168311.296689</td>\n    </tr>\n    <tr>\n      <th>4</th>\n      <td>0.157086</td>\n      <td>0.158072</td>\n      <td>0.570218</td>\n      <td>0.000000</td>\n      <td>0.000000</td>\n      <td>0.000000</td>\n      <td>0.595163</td>\n      <td>0.000000</td>\n      <td>4</td>\n      <td>4.150276</td>\n      <td>...</td>\n      <td>17008.501499</td>\n      <td>21334.784835</td>\n      <td>21672.381847</td>\n      <td>0.000000</td>\n      <td>6622.153888</td>\n      <td>2984.643316</td>\n      <td>92169.258016</td>\n      <td>15487.045227</td>\n      <td>91028.042189</td>\n      <td>185202.545252</td>\n    </tr>\n    <tr>\n      <th>5</th>\n      <td>0.052366</td>\n      <td>0.052580</td>\n      <td>0.189596</td>\n      <td>0.000000</td>\n      <td>0.000000</td>\n      <td>0.000000</td>\n      <td>0.197812</td>\n      <td>0.000000</td>\n      <td>5</td>\n      <td>0.000000</td>\n      <td>...</td>\n      <td>17141.294012</td>\n      <td>21365.333808</td>\n      <td>21673.264899</td>\n      <td>0.000000</td>\n      <td>3421.950894</td>\n      <td>466.954726</td>\n      <td>96797.019413</td>\n      <td>9244.310160</td>\n      <td>129509.211053</td>\n      <td>194725.168039</td>\n    </tr>\n    <tr>\n      <th>6</th>\n      <td>0.022596</td>\n      <td>0.022802</td>\n      <td>0.082221</td>\n      <td>0.000000</td>\n      <td>0.000000</td>\n      <td>0.000000</td>\n      <td>0.085778</td>\n      <td>0.000000</td>\n      <td>6</td>\n      <td>0.000000</td>\n      <td>...</td>\n      <td>17266.935585</td>\n      <td>21442.578616</td>\n      <td>21525.426833</td>\n      <td>0.000000</td>\n      <td>2245.302463</td>\n      <td>152.637987</td>\n      <td>98868.473131</td>\n      <td>6937.862925</td>\n      <td>92950.535561</td>\n      <td>196899.036783</td>\n    </tr>\n    <tr>\n      <th>7</th>\n      <td>0.010058</td>\n      <td>0.010111</td>\n      <td>0.036372</td>\n      <td>0.000000</td>\n      <td>0.000000</td>\n      <td>0.000000</td>\n      <td>0.037954</td>\n      <td>0.000000</td>\n      <td>7</td>\n      <td>0.000000</td>\n      <td>...</td>\n      <td>17235.131078</td>\n      <td>21422.551670</td>\n      <td>21580.192835</td>\n      <td>0.000000</td>\n      <td>3769.189294</td>\n      <td>303.222145</td>\n      <td>98691.244063</td>\n      <td>9960.032587</td>\n      <td>101565.249667</td>\n      <td>210512.451905</td>\n    </tr>\n    <tr>\n      <th>8</th>\n      <td>0.010025</td>\n      <td>0.010101</td>\n      <td>0.036385</td>\n      <td>0.000000</td>\n      <td>0.000000</td>\n      <td>0.000000</td>\n      <td>0.038001</td>\n      <td>0.000000</td>\n      <td>8</td>\n      <td>0.000000</td>\n      <td>...</td>\n      <td>16905.067804</td>\n      <td>21368.788325</td>\n      <td>21613.578553</td>\n      <td>0.000000</td>\n      <td>4463.964624</td>\n      <td>363.082836</td>\n      <td>98644.998909</td>\n      <td>11332.975248</td>\n      <td>123395.423720</td>\n      <td>219048.204744</td>\n    </tr>\n    <tr>\n      <th>9</th>\n      <td>0.010325</td>\n      <td>0.010305</td>\n      <td>0.037283</td>\n      <td>0.000000</td>\n      <td>0.000000</td>\n      <td>0.000000</td>\n      <td>0.038482</td>\n      <td>0.000000</td>\n      <td>9</td>\n      <td>0.000000</td>\n      <td>...</td>\n      <td>16355.719949</td>\n      <td>21341.249603</td>\n      <td>21633.293097</td>\n      <td>0.000000</td>\n      <td>9183.167987</td>\n      <td>503.480685</td>\n      <td>98606.679872</td>\n      <td>20694.685307</td>\n      <td>88628.781408</td>\n      <td>221378.111484</td>\n    </tr>\n    <tr>\n      <th>10</th>\n      <td>0.000000</td>\n      <td>0.000000</td>\n      <td>0.000000</td>\n      <td>0.000000</td>\n      <td>0.000000</td>\n      <td>0.000000</td>\n      <td>0.000000</td>\n      <td>0.000000</td>\n      <td>10</td>\n      <td>0.000000</td>\n      <td>...</td>\n      <td>16828.207235</td>\n      <td>21347.028363</td>\n      <td>21690.647756</td>\n      <td>0.000000</td>\n      <td>40568.464021</td>\n      <td>12240.846409</td>\n      <td>87683.906097</td>\n      <td>82837.277922</td>\n      <td>108000.089066</td>\n      <td>220865.060286</td>\n    </tr>\n    <tr>\n      <th>11</th>\n      <td>0.020040</td>\n      <td>0.020150</td>\n      <td>0.072147</td>\n      <td>0.000000</td>\n      <td>0.000000</td>\n      <td>0.000000</td>\n      <td>0.075047</td>\n      <td>0.000000</td>\n      <td>11</td>\n      <td>0.000000</td>\n      <td>...</td>\n      <td>16532.102914</td>\n      <td>21379.771983</td>\n      <td>21617.116710</td>\n      <td>0.369279</td>\n      <td>57460.494785</td>\n      <td>52759.204375</td>\n      <td>47765.660292</td>\n      <td>116476.490236</td>\n      <td>95819.742507</td>\n      <td>211236.165789</td>\n    </tr>\n    <tr>\n      <th>12</th>\n      <td>0.019797</td>\n      <td>0.019909</td>\n      <td>0.071636</td>\n      <td>0.000000</td>\n      <td>0.000000</td>\n      <td>0.000000</td>\n      <td>0.075262</td>\n      <td>0.000000</td>\n      <td>12</td>\n      <td>0.000000</td>\n      <td>...</td>\n      <td>16748.242712</td>\n      <td>21452.449820</td>\n      <td>21623.207414</td>\n      <td>0.277729</td>\n      <td>49685.372851</td>\n      <td>44211.715824</td>\n      <td>22112.560015</td>\n      <td>101042.325977</td>\n      <td>71669.001406</td>\n      <td>187684.647547</td>\n    </tr>\n    <tr>\n      <th>13</th>\n      <td>0.009979</td>\n      <td>0.010088</td>\n      <td>0.375575</td>\n      <td>0.000000</td>\n      <td>3.850074</td>\n      <td>116.112821</td>\n      <td>0.687620</td>\n      <td>0.484370</td>\n      <td>13</td>\n      <td>24.333179</td>\n      <td>...</td>\n      <td>17470.641833</td>\n      <td>21561.090153</td>\n      <td>21544.764525</td>\n      <td>0.089268</td>\n      <td>33224.524123</td>\n      <td>26337.351169</td>\n      <td>8388.048536</td>\n      <td>68337.598627</td>\n      <td>59619.946548</td>\n      <td>191295.065735</td>\n    </tr>\n    <tr>\n      <th>14</th>\n      <td>0.000000</td>\n      <td>0.000000</td>\n      <td>0.008123</td>\n      <td>0.000000</td>\n      <td>13.218294</td>\n      <td>0.004613</td>\n      <td>0.000000</td>\n      <td>0.469648</td>\n      <td>14</td>\n      <td>1.484530</td>\n      <td>...</td>\n      <td>17182.881617</td>\n      <td>21661.590909</td>\n      <td>21530.578802</td>\n      <td>0.606669</td>\n      <td>21469.951575</td>\n      <td>13537.393280</td>\n      <td>5782.964185</td>\n      <td>45042.104615</td>\n      <td>64968.043549</td>\n      <td>179031.175109</td>\n    </tr>\n    <tr>\n      <th>15</th>\n      <td>0.281016</td>\n      <td>0.020149</td>\n      <td>0.211115</td>\n      <td>0.000000</td>\n      <td>10.468562</td>\n      <td>0.002341</td>\n      <td>18.850808</td>\n      <td>0.468370</td>\n      <td>15</td>\n      <td>1.459397</td>\n      <td>...</td>\n      <td>17557.377088</td>\n      <td>21523.691665</td>\n      <td>21463.584518</td>\n      <td>0.172578</td>\n      <td>12931.981679</td>\n      <td>7187.717029</td>\n      <td>7654.285475</td>\n      <td>28125.827816</td>\n      <td>42641.541142</td>\n      <td>154928.402783</td>\n    </tr>\n    <tr>\n      <th>16</th>\n      <td>0.000000</td>\n      <td>0.000000</td>\n      <td>0.000000</td>\n      <td>0.000000</td>\n      <td>10.770817</td>\n      <td>0.000000</td>\n      <td>28.524589</td>\n      <td>0.484646</td>\n      <td>16</td>\n      <td>1.489249</td>\n      <td>...</td>\n      <td>17384.539094</td>\n      <td>21373.957553</td>\n      <td>21411.401014</td>\n      <td>123316.592248</td>\n      <td>10197.669490</td>\n      <td>9721.261935</td>\n      <td>9901.454105</td>\n      <td>22747.258253</td>\n      <td>32364.201297</td>\n      <td>147260.606240</td>\n    </tr>\n    <tr>\n      <th>17</th>\n      <td>0.010366</td>\n      <td>0.010321</td>\n      <td>0.036828</td>\n      <td>0.000000</td>\n      <td>0.000000</td>\n      <td>0.000000</td>\n      <td>0.510672</td>\n      <td>60.401128</td>\n      <td>17</td>\n      <td>11.381395</td>\n      <td>...</td>\n      <td>18245.189315</td>\n      <td>21462.589496</td>\n      <td>21402.945328</td>\n      <td>78167.599129</td>\n      <td>23881.881917</td>\n      <td>22189.483084</td>\n      <td>4439.090361</td>\n      <td>49903.489555</td>\n      <td>44544.463514</td>\n      <td>159017.326484</td>\n    </tr>\n    <tr>\n      <th>18</th>\n      <td>0.009908</td>\n      <td>0.009934</td>\n      <td>0.036935</td>\n      <td>0.000000</td>\n      <td>0.668300</td>\n      <td>0.002283</td>\n      <td>2.881455</td>\n      <td>77.447621</td>\n      <td>18</td>\n      <td>10.942897</td>\n      <td>...</td>\n      <td>17333.895507</td>\n      <td>21806.020673</td>\n      <td>21346.986296</td>\n      <td>7078.804119</td>\n      <td>21396.978392</td>\n      <td>22913.408959</td>\n      <td>1811.434151</td>\n      <td>44893.643604</td>\n      <td>38672.434710</td>\n      <td>152393.344303</td>\n    </tr>\n    <tr>\n      <th>19</th>\n      <td>0.010174</td>\n      <td>0.010192</td>\n      <td>0.036652</td>\n      <td>0.000000</td>\n      <td>16.074842</td>\n      <td>0.000000</td>\n      <td>8.018675</td>\n      <td>2.627079</td>\n      <td>19</td>\n      <td>1.724413</td>\n      <td>...</td>\n      <td>17706.923512</td>\n      <td>21474.838946</td>\n      <td>21314.148807</td>\n      <td>127681.760098</td>\n      <td>15871.069702</td>\n      <td>16308.154981</td>\n      <td>1238.010719</td>\n      <td>33951.069214</td>\n      <td>41543.142207</td>\n      <td>152626.402050</td>\n    </tr>\n    <tr>\n      <th>20</th>\n      <td>0.019967</td>\n      <td>0.020047</td>\n      <td>0.575639</td>\n      <td>0.000000</td>\n      <td>7.453455</td>\n      <td>0.000000</td>\n      <td>41.782930</td>\n      <td>0.483175</td>\n      <td>20</td>\n      <td>3.058028</td>\n      <td>...</td>\n      <td>17385.547866</td>\n      <td>21627.389701</td>\n      <td>21376.085104</td>\n      <td>72400.906650</td>\n      <td>12759.914722</td>\n      <td>16739.368474</td>\n      <td>2740.189001</td>\n      <td>27829.379444</td>\n      <td>62394.520996</td>\n      <td>168619.748661</td>\n    </tr>\n    <tr>\n      <th>21</th>\n      <td>0.000000</td>\n      <td>0.000000</td>\n      <td>0.504974</td>\n      <td>0.000000</td>\n      <td>0.000000</td>\n      <td>0.000000</td>\n      <td>16.128477</td>\n      <td>0.483308</td>\n      <td>21</td>\n      <td>0.074455</td>\n      <td>...</td>\n      <td>17451.808559</td>\n      <td>21466.655606</td>\n      <td>21374.196914</td>\n      <td>-2.220000</td>\n      <td>10170.184074</td>\n      <td>24939.571598</td>\n      <td>6407.256788</td>\n      <td>22650.273108</td>\n      <td>59892.274502</td>\n      <td>169635.116219</td>\n    </tr>\n    <tr>\n      <th>22</th>\n      <td>0.000000</td>\n      <td>0.450228</td>\n      <td>0.505876</td>\n      <td>0.000000</td>\n      <td>0.000000</td>\n      <td>0.002320</td>\n      <td>0.000000</td>\n      <td>0.475582</td>\n      <td>22</td>\n      <td>10.864753</td>\n      <td>...</td>\n      <td>17414.827791</td>\n      <td>21483.184920</td>\n      <td>21585.587625</td>\n      <td>-2.033488</td>\n      <td>22268.661250</td>\n      <td>40781.544603</td>\n      <td>35506.496493</td>\n      <td>46595.422375</td>\n      <td>81370.241755</td>\n      <td>183992.265615</td>\n    </tr>\n    <tr>\n      <th>23</th>\n      <td>0.030723</td>\n      <td>0.944915</td>\n      <td>0.620266</td>\n      <td>0.000000</td>\n      <td>0.000000</td>\n      <td>0.000000</td>\n      <td>0.116535</td>\n      <td>0.484726</td>\n      <td>23</td>\n      <td>2.707361</td>\n      <td>...</td>\n      <td>16925.891521</td>\n      <td>21481.652322</td>\n      <td>21745.225591</td>\n      <td>-2.220000</td>\n      <td>34139.148213</td>\n      <td>61799.759904</td>\n      <td>35232.026862</td>\n      <td>70148.142819</td>\n      <td>69526.837483</td>\n      <td>186503.184770</td>\n    </tr>\n  </tbody>\n</table>\n<p>24 rows × 72 columns</p>\n</div>"
     },
     "execution_count": 52,
     "metadata": {},
     "output_type": "execute_result"
    }
   ],
   "source": [
    "sum_hourON = hourON.sum()\n",
    "hourON = hourON[sum_hourON.sort_values(ascending=True).index]\n",
    "sum_gt_zero_list = hourON.sum(0).loc[hourON.sum(0) > 0].index.tolist()\n",
    "hourON=hourON[sum_gt_zero_list]\n",
    "hourON"
   ],
   "metadata": {
    "collapsed": false,
    "pycharm": {
     "name": "#%%\n"
    }
   }
  },
  {
   "cell_type": "code",
   "execution_count": 53,
   "outputs": [
    {
     "data": {
      "application/vnd.plotly.v1+json": {
       "config": {
        "plotlyServerURL": "https://plot.ly"
       },
       "data": [
        {
         "colorbar": {
          "tick0": 0,
          "tickmode": "array",
          "tickvals": [
           0,
           100000,
           200000
          ]
         },
         "colorscale": [
          [
           0,
           "#000004"
          ],
          [
           1.0E-6,
           "#440f76"
          ],
          [
           1.0E-4,
           "#9e2f7f"
          ],
          [
           0.01,
           "#fd9668"
          ],
          [
           1.0,
           "#fcfdbf"
          ]
         ],
         "type": "heatmap",
         "x": [
          0,
          1,
          2,
          3,
          4,
          5,
          6,
          7,
          8,
          9,
          10,
          11,
          12,
          13,
          14,
          15,
          16,
          17,
          18,
          19,
          20,
          21,
          22,
          23
         ],
         "y": [
          "Elec_PowerPlugsInstBA2",
          "Elec_PowerPlugsInstMudroomA",
          "Elec_PowerPlugsAttic",
          "Elec_PowerPlugsInstBR4A",
          "Elec_PowerPlugsBA2North",
          "Elec_PowerPlugsInstLRA",
          "Elec_PowerPlugsInstMBAB",
          "HourOfTimestamp",
          "Elec_PowerLightsAttic",
          "Elec_PowerPlugsDRB",
          "Elec_PowerPlugsInstBR2Hall",
          "Elec_PowerPlugsInstKitA",
          "Elec_PowerMakeUpAirDamper",
          "Elec_PowerPlugsKitPeninsula",
          "Elec_PowerPlugsInstBR3",
          "Elec_PowerPlugsGSHPInstrumentation",
          "Elec_PowerPlugsBR3",
          "Load_BR3PlugLoadsPowerUsage",
          "Elec_PowerPlugsInstDRA",
          "Elec_PowerPlugsKitRange",
          "Elec_PowerPlugsMBAEast",
          "Elec_PowerLightingControlPanelRPS2",
          "Elec_PowerPlugsKitSink",
          "Elec_PowerPlugsMBAWest",
          "Load_ClothesWasherPowerWithStandby",
          "Elec_PowerLightingControlPanelRPS1",
          "Elec_PowerLights1stFloorA",
          "Elec_PowerPlugsHVACInstrumentation",
          "Load_MBRPlugLoadsPowerUsage",
          "Elec_PowerPlugsMBR",
          "Elec_PowerChildADownstairs",
          "Elec_PowerChildBDownstairs",
          "Elec_PowerDishwasher",
          "Elec_PowerMicrowave",
          "Elec_PowerSpare2",
          "Load_MicrowavePowerWithStandby",
          "Load_2ndFloorLightsPowerUsage",
          "Elec_PowerLights2ndFloor",
          "Load_KPlugLoadsPowerUsage",
          "Elec_PowerParentADownstairs",
          "Elec_PowerLightsBasement",
          "Elec_PowerParentBDownstairs",
          "Elec_PowerLights1stFloorB",
          "Elec_PowerParentAUpstairs",
          "Elec_PowerParentBUpstairs",
          "Load_BR4PlugLoadsPowerUsage",
          "Elec_PowerGarbageDisposal",
          "Load_BR2PlugLoadsPowerUsage",
          "Elec_PowerPlugsBR2",
          "Elec_PowerDryer2of2",
          "Load_LRPlugLoadsPowerUsage",
          "Elec_PowerDryer1of2",
          "Load_LatentHeatPowerUsage",
          "Elec_PowerPlugsInstKitD",
          "Load_1stFloorLightsPowerUsage",
          "Elec_PowerChildBUpstairs",
          "DHW_SHWPumpsPowerWithStandby",
          "Elec_PowerChildAUpstairs",
          "Load_OvenPowerTotal",
          "Elec_PowerRefrigerator",
          "Elec_PowerPlugs2ndFloor",
          "Load_RefrigeratorPowerWithStandby",
          "Load_BasementPlugLoadsPowerUsage",
          "Elec_PowerHRV",
          "Load_DryerPowerTotal",
          "Elec_PowerHeatPumpWH2of2",
          "Load_1stFloorSensHeatPowerUsage",
          "Load_2ndFloorSensHeatPowerUsage",
          "DHW_HeatPumpWaterHeaterPowerTotal",
          "HVAC_HeatPumpIndoorUnitPower",
          "HVAC_HeatPumpOutdoorUnitPower"
         ],
         "z": [
          [
           0.88,
           0.95,
           0.46,
           0.0,
           0.16,
           0.05,
           0.02,
           0.01,
           0.01,
           0.01,
           0.0,
           0.02,
           0.02,
           0.01,
           0.0,
           0.02,
           0.0,
           0.01,
           0.01,
           0.01,
           0.02,
           0.0,
           0.45,
           0.94
          ],
          [
           0.56,
           0.61,
           0.59,
           0.51,
           0.57,
           0.19,
           0.08,
           0.04,
           0.04,
           0.04,
           0.0,
           0.07,
           0.07,
           0.38,
           0.01,
           0.21,
           0.0,
           0.04,
           0.04,
           0.04,
           0.58,
           0.5,
           0.51,
           0.62
          ],
          [
           0.0,
           0.0,
           12.37,
           3.78,
           0.0,
           0.0,
           0.0,
           0.0,
           0.0,
           0.0,
           0.0,
           0.0,
           0.0,
           0.0,
           0.0,
           0.0,
           0.0,
           0.0,
           0.0,
           0.0,
           0.0,
           0.0,
           0.0,
           0.0
          ],
          [
           0.0,
           0.0,
           0.0,
           0.0,
           0.0,
           0.0,
           0.0,
           0.0,
           0.0,
           0.0,
           0.0,
           0.0,
           0.0,
           3.85,
           13.22,
           10.47,
           10.77,
           0.0,
           0.67,
           16.07,
           7.45,
           0.0,
           0.0,
           0.0
          ],
          [
           0.01,
           0.0,
           0.0,
           0.0,
           0.0,
           0.0,
           0.0,
           0.0,
           0.0,
           0.0,
           0.0,
           0.0,
           0.0,
           116.11,
           0.0,
           0.0,
           0.0,
           0.0,
           0.0,
           0.0,
           0.0,
           0.0,
           0.0,
           0.0
          ],
          [
           0.04,
           0.11,
           0.08,
           0.0,
           0.6,
           0.2,
           0.09,
           0.04,
           0.04,
           0.04,
           0.0,
           0.08,
           0.08,
           0.69,
           0.0,
           18.85,
           28.52,
           0.51,
           2.88,
           8.02,
           41.78,
           16.13,
           0.0,
           0.12
          ],
          [
           30.87,
           0.49,
           0.47,
           0.48,
           0.0,
           0.0,
           0.0,
           0.0,
           0.0,
           0.0,
           0.0,
           0.0,
           0.0,
           0.48,
           0.47,
           0.47,
           0.48,
           60.4,
           77.45,
           2.63,
           0.48,
           0.48,
           0.48,
           0.48
          ],
          [
           0,
           1,
           2,
           3,
           4,
           5,
           6,
           7,
           8,
           9,
           10,
           11,
           12,
           13,
           14,
           15,
           16,
           17,
           18,
           19,
           20,
           21,
           22,
           23
          ],
          [
           56.98,
           97.72,
           89.94,
           166.94,
           4.15,
           0.0,
           0.0,
           0.0,
           0.0,
           0.0,
           0.0,
           0.0,
           0.0,
           24.33,
           1.48,
           1.46,
           1.49,
           11.38,
           10.94,
           1.72,
           3.06,
           0.07,
           10.86,
           2.71
          ],
          [
           7.98,
           7.61,
           7.6,
           7.31,
           7.3,
           7.16,
           7.26,
           7.28,
           7.29,
           7.3,
           6.9,
           7.47,
           112.46,
           316.75,
           303.15,
           175.0,
           61.38,
           85.09,
           32.98,
           7.42,
           7.22,
           7.43,
           7.43,
           7.62
          ],
          [
           0.11,
           0.19,
           0.15,
           0.07,
           0.59,
           0.2,
           0.08,
           0.04,
           0.04,
           0.04,
           0.0,
           0.07,
           0.07,
           0.27,
           262.9,
           724.89,
           626.2,
           196.95,
           173.57,
           54.63,
           0.15,
           0.07,
           0.07,
           0.19
          ],
          [
           106.97,
           106.92,
           106.93,
           106.81,
           106.86,
           106.82,
           106.59,
           106.7,
           106.65,
           106.55,
           106.81,
           104.38,
           84.86,
           74.06,
           105.28,
           98.27,
           73.6,
           73.54,
           78.64,
           103.48,
           125.43,
           124.23,
           118.74,
           107.26
          ],
          [
           256.55,
           200.1,
           42.93,
           42.85,
           1.06,
           1.92,
           3.76,
           0.74,
           0.0,
           0.0,
           0.08,
           3.51,
           204.34,
           117.5,
           5.46,
           0.87,
           572.07,
           423.94,
           68.43,
           484.84,
           268.77,
           1.39,
           639.27,
           447.99
          ],
          [
           219.66,
           0.62,
           0.32,
           0.0,
           0.0,
           0.0,
           24.15,
           0.0,
           0.0,
           0.0,
           0.0,
           0.0,
           0.0,
           0.0,
           0.0,
           0.0,
           0.0,
           0.0,
           0.0,
           0.0,
           0.0,
           0.0,
           2425.96,
           1720.16
          ],
          [
           192.41,
           194.51,
           195.04,
           194.73,
           195.05,
           195.39,
           195.25,
           195.05,
           194.36,
           193.71,
           192.95,
           193.13,
           192.7,
           192.13,
           247.97,
           416.92,
           343.13,
           218.32,
           240.82,
           223.63,
           193.71,
           193.01,
           193.99,
           193.72
          ],
          [
           398.56,
           401.35,
           405.04,
           392.67,
           403.08,
           397.62,
           378.43,
           374.52,
           358.56,
           353.37,
           356.61,
           380.39,
           631.66,
           711.82,
           1371.99,
           793.58,
           525.85,
           929.31,
           1784.03,
           1336.2,
           1152.65,
           674.5,
           409.09,
           398.47
          ],
          [
           6555.56,
           1561.2,
           194.8,
           193.92,
           214.78,
           222.0,
           271.25,
           256.1,
           215.03,
           213.6,
           213.15,
           215.14,
           215.15,
           215.47,
           215.45,
           215.43,
           215.22,
           214.86,
           193.88,
           193.74,
           193.44,
           205.0,
           4660.52,
           9778.8
          ],
          [
           6555.56,
           1561.2,
           194.8,
           193.92,
           214.78,
           222.0,
           271.25,
           256.1,
           215.03,
           213.6,
           213.15,
           215.14,
           215.15,
           215.47,
           215.45,
           215.43,
           215.22,
           214.86,
           193.88,
           193.74,
           193.44,
           205.0,
           4660.52,
           9778.8
          ],
          [
           1117.49,
           1121.69,
           1127.08,
           1132.14,
           1135.56,
           1137.54,
           1137.32,
           1137.11,
           1136.33,
           1133.27,
           1127.35,
           1159.23,
           1206.28,
           1684.45,
           1828.05,
           1509.19,
           1244.01,
           1314.0,
           1235.81,
           1157.13,
           1161.1,
           1110.95,
           1112.83,
           1117.18
          ],
          [
           310.17,
           0.0,
           0.0,
           0.0,
           0.0,
           10.29,
           20.24,
           3.98,
           0.0,
           0.0,
           16081.3,
           8650.64,
           1248.52,
           6723.46,
           3392.79,
           0.0,
           1270.02,
           626.99,
           0.0,
           0.0,
           16.98,
           99.31,
           3923.24,
           2475.74
          ],
          [
           0.0,
           0.0,
           0.0,
           0.0,
           0.0,
           0.0,
           0.0,
           0.0,
           0.0,
           0.0,
           20992.38,
           11243.96,
           0.0,
           0.0,
           8184.09,
           4557.3,
           0.0,
           0.0,
           0.0,
           0.0,
           0.0,
           125.08,
           0.0,
           0.0
          ],
          [
           2207.43,
           2215.2,
           2224.02,
           2242.9,
           2272.41,
           2270.54,
           2252.7,
           2250.58,
           2233.96,
           2225.56,
           2222.56,
           2207.07,
           2228.43,
           2220.47,
           2221.56,
           2233.23,
           2241.07,
           2229.77,
           2205.38,
           2199.02,
           2210.09,
           2218.66,
           2221.58,
           2212.02
          ],
          [
           0.0,
           0.0,
           0.0,
           0.0,
           0.0,
           0.0,
           0.0,
           0.0,
           0.0,
           0.0,
           21573.39,
           11535.54,
           2586.96,
           13619.31,
           10449.45,
           2080.88,
           0.0,
           0.0,
           0.0,
           0.0,
           0.0,
           128.37,
           0.0,
           0.0
          ],
          [
           2623.41,
           2618.85,
           2618.43,
           2615.97,
           2594.27,
           2584.54,
           2593.79,
           2592.98,
           2591.85,
           2591.36,
           2619.94,
           2620.13,
           2619.04,
           2614.8,
           2613.0,
           2609.42,
           2611.12,
           2609.55,
           2604.74,
           2600.84,
           2612.95,
           2612.06,
           2642.68,
           2643.47
          ],
          [
           5763.81,
           4815.32,
           2448.81,
           1097.76,
           1064.47,
           1064.97,
           1060.85,
           1060.85,
           1060.85,
           1060.85,
           1060.85,
           1060.85,
           1079.74,
           1066.74,
           1328.08,
           11086.76,
           6947.92,
           1067.5,
           6214.54,
           8695.29,
           3911.54,
           1058.49,
           3745.06,
           5201.79
          ],
          [
           3238.17,
           3257.08,
           3263.7,
           3301.2,
           3353.96,
           3351.76,
           3330.06,
           3324.39,
           3305.46,
           3296.08,
           3246.09,
           3246.42,
           3302.65,
           3323.2,
           3344.06,
           3354.58,
           3357.79,
           3362.93,
           3353.78,
           3348.89,
           3357.06,
           3350.59,
           3283.88,
           3238.54
          ],
          [
           15854.05,
           17053.58,
           14205.61,
           6334.0,
           1087.41,
           103.03,
           119.31,
           132.95,
           158.5,
           201.91,
           163.68,
           204.29,
           3902.85,
           2078.89,
           0.0,
           0.0,
           0.71,
           0.0,
           11.36,
           0.0,
           0.0,
           110.11,
           6556.55,
           12294.1
          ],
          [
           3421.72,
           3422.09,
           3415.3,
           3408.83,
           3485.62,
           3503.05,
           3398.74,
           3399.2,
           3396.16,
           3395.33,
           3398.66,
           3408.46,
           3346.67,
           3286.94,
           3310.84,
           3367.79,
           3357.87,
           3388.52,
           3328.14,
           3350.15,
           3401.12,
           3437.78,
           3444.99,
           3430.4
          ],
          [
           0.54,
           144.46,
           8717.38,
           11055.16,
           3682.6,
           296.54,
           216.22,
           0.0,
           0.0,
           21.6,
           5649.91,
           3130.56,
           8.4,
           0.0,
           0.0,
           0.0,
           0.0,
           0.0,
           16210.56,
           9108.34,
           0.0,
           449.77,
           16090.17,
           8953.97
          ],
          [
           0.54,
           144.46,
           8717.38,
           11061.86,
           3684.21,
           296.54,
           216.22,
           0.0,
           0.0,
           21.6,
           5649.91,
           3130.56,
           8.4,
           0.0,
           0.0,
           0.0,
           0.0,
           0.0,
           16210.56,
           9108.34,
           0.0,
           449.77,
           16090.17,
           8953.97
          ],
          [
           8360.38,
           7218.05,
           7136.9,
           2526.06,
           31.92,
           112.08,
           0.0,
           48.98,
           53.92,
           70.0,
           173.66,
           11475.11,
           6273.13,
           3386.29,
           6343.51,
           2506.11,
           48.53,
           4527.07,
           4766.72,
           1340.18,
           2373.57,
           5841.95,
           4862.3,
           8394.42
          ],
          [
           8360.22,
           7058.95,
           2591.05,
           69.61,
           135.65,
           122.0,
           20.52,
           48.4,
           53.15,
           53.54,
           119.82,
           11363.54,
           6382.94,
           3358.16,
           1902.03,
           7.15,
           43.93,
           4462.22,
           6988.85,
           6982.9,
           6962.28,
           7105.1,
           9339.03,
           10862.03
          ],
          [
           6285.92,
           55927.98,
           32067.44,
           901.24,
           20.24,
           0.0,
           0.0,
           0.0,
           135.95,
           551.64,
           11.14,
           0.0,
           0.0,
           0.48,
           0.46,
           0.45,
           0.45,
           0.45,
           0.46,
           0.45,
           0.46,
           0.46,
           0.45,
           0.46
          ],
          [
           57.19,
           0.0,
           0.0,
           0.0,
           0.0,
           60.08,
           116.95,
           0.0,
           0.0,
           210.37,
           25163.4,
           15692.47,
           5.88,
           9988.8,
           6379.44,
           0.0,
           9985.45,
           6517.4,
           0.0,
           0.0,
           0.0,
           175.6,
           30037.09,
           19231.04
          ],
          [
           5344.6,
           5341.22,
           5340.72,
           5339.42,
           5299.99,
           5281.95,
           5300.82,
           5300.32,
           5300.17,
           5300.38,
           5302.6,
           5306.7,
           5331.57,
           5308.23,
           5304.01,
           5302.62,
           5306.6,
           5308.48,
           5317.76,
           5304.34,
           5320.71,
           5320.71,
           5354.62,
           5355.32
          ],
          [
           534.99,
           477.84,
           477.84,
           477.38,
           476.82,
           537.09,
           592.06,
           475.2,
           475.2,
           685.41,
           25619.6,
           16155.92,
           483.39,
           10459.05,
           6852.24,
           477.84,
           10455.74,
           6990.62,
           476.52,
           475.2,
           476.52,
           651.99,
           30492.38,
           19694.54
          ],
          [
           20530.01,
           13921.16,
           17286.65,
           11262.55,
           2205.68,
           60.57,
           174.44,
           997.9,
           1082.12,
           578.5,
           13180.17,
           7193.6,
           1751.79,
           1199.64,
           3450.76,
           1849.36,
           423.84,
           276.25,
           752.0,
           474.01,
           1473.54,
           3542.07,
           17583.42,
           23043.8
          ],
          [
           20530.01,
           13921.16,
           17286.65,
           11265.26,
           2206.05,
           60.57,
           174.44,
           997.9,
           1082.12,
           578.5,
           13180.17,
           7193.6,
           1751.79,
           1199.64,
           3450.76,
           1849.36,
           423.84,
           276.25,
           752.0,
           474.01,
           1473.54,
           3542.07,
           17583.42,
           23043.8
          ],
          [
           822.81,
           295.63,
           295.69,
           295.44,
           296.21,
           306.62,
           339.39,
           299.17,
           295.2,
           295.2,
           65494.38,
           37859.75,
           4222.02,
           31679.62,
           21469.08,
           2377.72,
           2717.52,
           921.7,
           294.91,
           294.09,
           351.85,
           647.57,
           9640.06,
           4475.15
          ],
          [
           22985.0,
           24825.32,
           19477.07,
           8145.05,
           1438.13,
           112.05,
           49.53,
           70.4,
           121.11,
           140.66,
           5998.81,
           14849.41,
           15606.11,
           9657.02,
           2563.61,
           7.54,
           2300.42,
           5795.9,
           6039.16,
           6513.66,
           7187.3,
           7141.06,
           9705.06,
           17890.4
          ],
          [
           1776.4,
           2090.16,
           1813.82,
           1778.81,
           1777.66,
           1777.08,
           1777.93,
           1777.96,
           1778.91,
           2086.42,
           2385.42,
           4540.92,
           9034.32,
           18612.9,
           22494.39,
           16387.49,
           8793.1,
           11957.38,
           24706.68,
           22386.22,
           18185.11,
           7878.67,
           2508.4,
           1792.54
          ],
          [
           26123.01,
           26086.02,
           14138.54,
           5032.67,
           1378.94,
           120.83,
           82.59,
           135.44,
           134.91,
           239.29,
           5948.56,
           15071.15,
           15949.54,
           9935.87,
           2728.24,
           4666.92,
           7328.37,
           7404.3,
           5118.67,
           1471.43,
           216.22,
           4851.46,
           16875.15,
           24652.91
          ],
          [
           28857.4,
           29028.47,
           22720.41,
           9641.41,
           1692.08,
           139.47,
           178.34,
           303.09,
           281.78,
           423.25,
           13790.68,
           26593.15,
           20380.12,
           11990.76,
           3821.29,
           254.39,
           107.19,
           110.93,
           196.98,
           144.03,
           438.36,
           531.86,
           8664.91,
           24760.04
          ],
          [
           1134.88,
           648.97,
           5998.16,
           16745.92,
           22359.98,
           24033.79,
           24450.3,
           24467.82,
           24504.21,
           24541.15,
           18897.8,
           10302.3,
           3804.31,
           806.95,
           134.38,
           134.31,
           134.37,
           160.02,
           1284.76,
           805.07,
           68.1,
           199.65,
           6947.8,
           3859.3
          ],
          [
           65.35,
           192.18,
           11590.81,
           19721.32,
           22181.48,
           23874.0,
           24318.79,
           24283.03,
           24300.61,
           24240.54,
           19034.22,
           10272.78,
           3784.57,
           868.56,
           4690.79,
           2722.05,
           214.04,
           197.32,
           173.42,
           101.94,
           1.12,
           33.39,
           2370.49,
           1317.49
          ],
          [
           25920.66,
           22726.15,
           14447.21,
           2372.82,
           87.29,
           513.46,
           627.83,
           63.74,
           0.0,
           0.0,
           0.0,
           0.0,
           2888.88,
           7281.97,
           8874.77,
           8903.15,
           8902.31,
           8898.55,
           8915.57,
           8907.19,
           8957.74,
           17902.93,
           37004.21,
           36028.7
          ],
          [
           7345.96,
           0.0,
           0.0,
           0.0,
           0.0,
           275.09,
           455.78,
           62.89,
           0.0,
           0.0,
           0.0,
           0.0,
           26535.02,
           14766.84,
           0.0,
           0.0,
           26506.21,
           14653.07,
           0.0,
           0.0,
           410.7,
           195.86,
           82926.5,
           57085.17
          ],
          [
           18633.07,
           17164.28,
           10963.61,
           7869.83,
           7877.82,
           7885.99,
           7903.45,
           7885.12,
           7865.12,
           7861.81,
           7837.9,
           7861.41,
           7908.75,
           7892.81,
           7910.66,
           10072.76,
           11262.49,
           9096.12,
           7851.82,
           7829.27,
           7846.69,
           7852.48,
           12394.22,
           17643.35
          ],
          [
           18633.07,
           17164.28,
           10963.61,
           7876.23,
           7914.99,
           7899.58,
           7903.45,
           7885.12,
           7865.12,
           7861.81,
           7837.9,
           7861.41,
           7908.75,
           7892.81,
           7910.66,
           10072.76,
           11262.49,
           9096.12,
           7851.82,
           7829.27,
           7846.69,
           7852.48,
           12394.22,
           17643.35
          ],
          [
           30897.93,
           18329.2,
           1318.04,
           254.04,
           0.0,
           0.0,
           0.0,
           0.0,
           0.0,
           0.0,
           0.0,
           0.0,
           0.0,
           0.0,
           0.0,
           0.0,
           57916.32,
           35934.4,
           2835.26,
           58876.23,
           33539.27,
           -1.11,
           -1.11,
           -1.11
          ],
          [
           21940.24,
           17480.3,
           13076.53,
           8514.12,
           5950.39,
           5350.14,
           5222.84,
           5226.35,
           5255.89,
           5251.99,
           9386.18,
           15552.73,
           15103.29,
           12232.79,
           11816.87,
           7708.52,
           5213.2,
           5214.32,
           5198.55,
           9669.01,
           9933.15,
           6438.81,
           15498.79,
           23052.4
          ],
          [
           34967.44,
           21598.62,
           1891.37,
           328.46,
           0.0,
           0.0,
           0.0,
           0.0,
           0.0,
           0.0,
           0.0,
           0.37,
           0.28,
           0.09,
           0.61,
           0.17,
           65400.27,
           42233.2,
           4243.54,
           68805.53,
           38861.63,
           -1.11,
           -0.92,
           -1.11
          ],
          [
           15468.46,
           15468.66,
           15558.48,
           15440.21,
           14888.54,
           15237.29,
           15584.16,
           15565.32,
           15543.73,
           15517.72,
           15454.3,
           15350.47,
           11913.49,
           6487.81,
           4468.18,
           4403.43,
           4396.68,
           4453.95,
           4446.71,
           4513.54,
           11510.65,
           15364.01,
           15388.37,
           15431.82
          ],
          [
           15468.46,
           15468.66,
           15558.48,
           15453.5,
           14963.6,
           15263.58,
           15584.16,
           15565.32,
           15543.73,
           15517.72,
           15454.3,
           15350.47,
           11913.49,
           6487.81,
           4468.18,
           4403.43,
           4396.68,
           4453.95,
           4446.71,
           4513.54,
           11510.65,
           15364.01,
           15388.37,
           15431.82
          ],
          [
           44803.18,
           46189.48,
           37019.61,
           16062.67,
           2866.46,
           334.17,
           389.32,
           527.69,
           531.9,
           732.39,
           14055.25,
           26935.18,
           24494.09,
           14760.68,
           4596.39,
           857.22,
           440.15,
           517.02,
           997.87,
           1005.95,
           1180.55,
           966.63,
           15326.33,
           37146.18
          ],
          [
           17233.19,
           18537.74,
           23271.11,
           25488.61,
           24520.48,
           25005.94,
           25536.84,
           25470.46,
           25360.87,
           25311.83,
           25283.58,
           13831.94,
           7345.83,
           2911.23,
           150.37,
           144.16,
           2474.12,
           1465.36,
           179.15,
           159.9,
           128.32,
           92.24,
           9741.93,
           14571.02
          ],
          [
           1763.53,
           1439.6,
           1257.9,
           1230.24,
           1232.97,
           1233.87,
           1229.17,
           1229.16,
           1229.16,
           1229.15,
           1229.2,
           1229.18,
           4520.2,
           19375.84,
           34938.92,
           41712.0,
           44310.8,
           44395.38,
           41534.46,
           37628.01,
           24564.19,
           6062.49,
           2726.34,
           2029.75
          ],
          [
           14921.73,
           17238.72,
           17871.11,
           21999.06,
           23561.21,
           24046.57,
           24562.54,
           24469.93,
           24479.32,
           24513.16,
           24468.3,
           13358.64,
           7177.86,
           3801.3,
           807.43,
           4653.77,
           7078.93,
           2616.39,
           174.1,
           171.1,
           2542.66,
           6081.97,
           16446.27,
           15484.22
          ],
          [
           40610.06,
           22389.66,
           8393.2,
           3254.85,
           3251.05,
           3252.59,
           3924.23,
           3639.54,
           3580.66,
           3521.51,
           3240.0,
           3240.0,
           66185.29,
           75726.85,
           49799.09,
           17492.51,
           3258.0,
           3258.0,
           3248.92,
           3240.0,
           4322.38,
           3778.71,
           4669.57,
           40375.77
          ],
          [
           16197.75,
           15853.31,
           15846.35,
           15825.39,
           15930.79,
           15951.42,
           15970.94,
           15943.36,
           15606.72,
           15038.82,
           15528.38,
           15225.64,
           15529.64,
           16184.37,
           15883.03,
           16269.39,
           16090.92,
           16976.32,
           16045.47,
           16432.79,
           16103.81,
           16167.37,
           16121.48,
           15620.03
          ],
          [
           16833.02,
           16849.11,
           16840.35,
           16821.62,
           16913.23,
           16857.01,
           16755.16,
           16733.82,
           16694.17,
           16694.18,
           16714.45,
           16777.39,
           16886.76,
           16842.89,
           16834.5,
           16842.75,
           16841.93,
           16838.75,
           16805.59,
           16748.07,
           16765.38,
           16747.26,
           16770.83,
           16817.62
          ],
          [
           17491.62,
           17141.79,
           17152.13,
           17104.14,
           17008.5,
           17141.29,
           17266.94,
           17235.13,
           16905.07,
           16355.72,
           16828.21,
           16532.1,
           16748.24,
           17470.64,
           17182.88,
           17557.38,
           17384.54,
           18245.19,
           17333.9,
           17706.92,
           17385.55,
           17451.81,
           17414.83,
           16925.89
          ],
          [
           21512.99,
           21494.21,
           21526.75,
           21504.32,
           21334.78,
           21365.33,
           21442.58,
           21422.55,
           21368.79,
           21341.25,
           21347.03,
           21379.77,
           21452.45,
           21561.09,
           21661.59,
           21523.69,
           21373.96,
           21462.59,
           21806.02,
           21474.84,
           21627.39,
           21466.66,
           21483.18,
           21481.65
          ],
          [
           21686.48,
           21582.09,
           21600.7,
           21491.24,
           21672.38,
           21673.26,
           21525.43,
           21580.19,
           21613.58,
           21633.29,
           21690.65,
           21617.12,
           21623.21,
           21544.76,
           21530.58,
           21463.58,
           21411.4,
           21402.95,
           21346.99,
           21314.15,
           21376.09,
           21374.2,
           21585.59,
           21745.23
          ],
          [
           65865.37,
           39927.81,
           3209.41,
           582.5,
           0.0,
           0.0,
           0.0,
           0.0,
           0.0,
           0.0,
           0.0,
           0.37,
           0.28,
           0.09,
           0.61,
           0.17,
           123316.59,
           78167.6,
           7078.8,
           127681.76,
           72400.91,
           -2.22,
           -2.03,
           -2.22
          ],
          [
           28491.15,
           37851.9,
           38350.73,
           29389.31,
           6622.15,
           3421.95,
           2245.3,
           3769.19,
           4463.96,
           9183.17,
           40568.46,
           57460.49,
           49685.37,
           33224.52,
           21469.95,
           12931.98,
           10197.67,
           23881.88,
           21396.98,
           15871.07,
           12759.91,
           10170.18,
           22268.66,
           34139.15
          ],
          [
           65828.61,
           65188.34,
           43343.56,
           15770.22,
           2984.64,
           466.95,
           152.64,
           303.22,
           363.08,
           503.48,
           12240.85,
           52759.2,
           44211.72,
           26337.35,
           13537.39,
           7187.72,
           9721.26,
           22189.48,
           22913.41,
           16308.15,
           16739.37,
           24939.57,
           40781.54,
           61799.76
          ],
          [
           33355.14,
           36617.61,
           58731.2,
           83878.68,
           92169.26,
           96797.02,
           98868.47,
           98691.24,
           98645.0,
           98606.68,
           87683.91,
           47765.66,
           22112.56,
           8388.05,
           5782.96,
           7654.29,
           9901.45,
           4439.09,
           1811.43,
           1238.01,
           2740.19,
           6407.26,
           35506.5,
           35232.03
          ],
          [
           58982.1,
           77609.39,
           78521.88,
           60749.28,
           15487.05,
           9244.31,
           6937.86,
           9960.03,
           11332.98,
           20694.69,
           82837.28,
           116476.49,
           101042.33,
           68337.6,
           45042.1,
           28125.83,
           22747.26,
           49903.49,
           44893.64,
           33951.07,
           27829.38,
           22650.27,
           46595.42,
           70148.14
          ],
          [
           66477.91,
           61395.1,
           78305.92,
           74544.21,
           91028.04,
           129509.21,
           92950.54,
           101565.25,
           123395.42,
           88628.78,
           108000.09,
           95819.74,
           71669.0,
           59619.95,
           64968.04,
           42641.54,
           32364.2,
           44544.46,
           38672.43,
           41543.14,
           62394.52,
           59892.27,
           81370.24,
           69526.84
          ],
          [
           174814.4,
           167218.78,
           183019.94,
           168311.3,
           185202.55,
           194725.17,
           196899.04,
           210512.45,
           219048.2,
           221378.11,
           220865.06,
           211236.17,
           187684.65,
           191295.07,
           179031.18,
           154928.4,
           147260.61,
           159017.33,
           152393.34,
           152626.4,
           168619.75,
           169635.12,
           183992.27,
           186503.18
          ]
         ]
        }
       ],
       "layout": {
        "margin": {
         "b": 30,
         "l": 30,
         "r": 30,
         "t": 50
        },
        "template": {
         "data": {
          "bar": [
           {
            "error_x": {
             "color": "#2a3f5f"
            },
            "error_y": {
             "color": "#2a3f5f"
            },
            "marker": {
             "line": {
              "color": "#E5ECF6",
              "width": 0.5
             },
             "pattern": {
              "fillmode": "overlay",
              "size": 10,
              "solidity": 0.2
             }
            },
            "type": "bar"
           }
          ],
          "barpolar": [
           {
            "marker": {
             "line": {
              "color": "#E5ECF6",
              "width": 0.5
             },
             "pattern": {
              "fillmode": "overlay",
              "size": 10,
              "solidity": 0.2
             }
            },
            "type": "barpolar"
           }
          ],
          "carpet": [
           {
            "aaxis": {
             "endlinecolor": "#2a3f5f",
             "gridcolor": "white",
             "linecolor": "white",
             "minorgridcolor": "white",
             "startlinecolor": "#2a3f5f"
            },
            "baxis": {
             "endlinecolor": "#2a3f5f",
             "gridcolor": "white",
             "linecolor": "white",
             "minorgridcolor": "white",
             "startlinecolor": "#2a3f5f"
            },
            "type": "carpet"
           }
          ],
          "choropleth": [
           {
            "colorbar": {
             "outlinewidth": 0,
             "ticks": ""
            },
            "type": "choropleth"
           }
          ],
          "contour": [
           {
            "colorbar": {
             "outlinewidth": 0,
             "ticks": ""
            },
            "colorscale": [
             [
              0.0,
              "#0d0887"
             ],
             [
              0.1111111111111111,
              "#46039f"
             ],
             [
              0.2222222222222222,
              "#7201a8"
             ],
             [
              0.3333333333333333,
              "#9c179e"
             ],
             [
              0.4444444444444444,
              "#bd3786"
             ],
             [
              0.5555555555555556,
              "#d8576b"
             ],
             [
              0.6666666666666666,
              "#ed7953"
             ],
             [
              0.7777777777777778,
              "#fb9f3a"
             ],
             [
              0.8888888888888888,
              "#fdca26"
             ],
             [
              1.0,
              "#f0f921"
             ]
            ],
            "type": "contour"
           }
          ],
          "contourcarpet": [
           {
            "colorbar": {
             "outlinewidth": 0,
             "ticks": ""
            },
            "type": "contourcarpet"
           }
          ],
          "heatmap": [
           {
            "colorbar": {
             "outlinewidth": 0,
             "ticks": ""
            },
            "colorscale": [
             [
              0.0,
              "#0d0887"
             ],
             [
              0.1111111111111111,
              "#46039f"
             ],
             [
              0.2222222222222222,
              "#7201a8"
             ],
             [
              0.3333333333333333,
              "#9c179e"
             ],
             [
              0.4444444444444444,
              "#bd3786"
             ],
             [
              0.5555555555555556,
              "#d8576b"
             ],
             [
              0.6666666666666666,
              "#ed7953"
             ],
             [
              0.7777777777777778,
              "#fb9f3a"
             ],
             [
              0.8888888888888888,
              "#fdca26"
             ],
             [
              1.0,
              "#f0f921"
             ]
            ],
            "type": "heatmap"
           }
          ],
          "heatmapgl": [
           {
            "colorbar": {
             "outlinewidth": 0,
             "ticks": ""
            },
            "colorscale": [
             [
              0.0,
              "#0d0887"
             ],
             [
              0.1111111111111111,
              "#46039f"
             ],
             [
              0.2222222222222222,
              "#7201a8"
             ],
             [
              0.3333333333333333,
              "#9c179e"
             ],
             [
              0.4444444444444444,
              "#bd3786"
             ],
             [
              0.5555555555555556,
              "#d8576b"
             ],
             [
              0.6666666666666666,
              "#ed7953"
             ],
             [
              0.7777777777777778,
              "#fb9f3a"
             ],
             [
              0.8888888888888888,
              "#fdca26"
             ],
             [
              1.0,
              "#f0f921"
             ]
            ],
            "type": "heatmapgl"
           }
          ],
          "histogram": [
           {
            "marker": {
             "pattern": {
              "fillmode": "overlay",
              "size": 10,
              "solidity": 0.2
             }
            },
            "type": "histogram"
           }
          ],
          "histogram2d": [
           {
            "colorbar": {
             "outlinewidth": 0,
             "ticks": ""
            },
            "colorscale": [
             [
              0.0,
              "#0d0887"
             ],
             [
              0.1111111111111111,
              "#46039f"
             ],
             [
              0.2222222222222222,
              "#7201a8"
             ],
             [
              0.3333333333333333,
              "#9c179e"
             ],
             [
              0.4444444444444444,
              "#bd3786"
             ],
             [
              0.5555555555555556,
              "#d8576b"
             ],
             [
              0.6666666666666666,
              "#ed7953"
             ],
             [
              0.7777777777777778,
              "#fb9f3a"
             ],
             [
              0.8888888888888888,
              "#fdca26"
             ],
             [
              1.0,
              "#f0f921"
             ]
            ],
            "type": "histogram2d"
           }
          ],
          "histogram2dcontour": [
           {
            "colorbar": {
             "outlinewidth": 0,
             "ticks": ""
            },
            "colorscale": [
             [
              0.0,
              "#0d0887"
             ],
             [
              0.1111111111111111,
              "#46039f"
             ],
             [
              0.2222222222222222,
              "#7201a8"
             ],
             [
              0.3333333333333333,
              "#9c179e"
             ],
             [
              0.4444444444444444,
              "#bd3786"
             ],
             [
              0.5555555555555556,
              "#d8576b"
             ],
             [
              0.6666666666666666,
              "#ed7953"
             ],
             [
              0.7777777777777778,
              "#fb9f3a"
             ],
             [
              0.8888888888888888,
              "#fdca26"
             ],
             [
              1.0,
              "#f0f921"
             ]
            ],
            "type": "histogram2dcontour"
           }
          ],
          "mesh3d": [
           {
            "colorbar": {
             "outlinewidth": 0,
             "ticks": ""
            },
            "type": "mesh3d"
           }
          ],
          "parcoords": [
           {
            "line": {
             "colorbar": {
              "outlinewidth": 0,
              "ticks": ""
             }
            },
            "type": "parcoords"
           }
          ],
          "pie": [
           {
            "automargin": true,
            "type": "pie"
           }
          ],
          "scatter": [
           {
            "marker": {
             "colorbar": {
              "outlinewidth": 0,
              "ticks": ""
             }
            },
            "type": "scatter"
           }
          ],
          "scatter3d": [
           {
            "line": {
             "colorbar": {
              "outlinewidth": 0,
              "ticks": ""
             }
            },
            "marker": {
             "colorbar": {
              "outlinewidth": 0,
              "ticks": ""
             }
            },
            "type": "scatter3d"
           }
          ],
          "scattercarpet": [
           {
            "marker": {
             "colorbar": {
              "outlinewidth": 0,
              "ticks": ""
             }
            },
            "type": "scattercarpet"
           }
          ],
          "scattergeo": [
           {
            "marker": {
             "colorbar": {
              "outlinewidth": 0,
              "ticks": ""
             }
            },
            "type": "scattergeo"
           }
          ],
          "scattergl": [
           {
            "marker": {
             "colorbar": {
              "outlinewidth": 0,
              "ticks": ""
             }
            },
            "type": "scattergl"
           }
          ],
          "scattermapbox": [
           {
            "marker": {
             "colorbar": {
              "outlinewidth": 0,
              "ticks": ""
             }
            },
            "type": "scattermapbox"
           }
          ],
          "scatterpolar": [
           {
            "marker": {
             "colorbar": {
              "outlinewidth": 0,
              "ticks": ""
             }
            },
            "type": "scatterpolar"
           }
          ],
          "scatterpolargl": [
           {
            "marker": {
             "colorbar": {
              "outlinewidth": 0,
              "ticks": ""
             }
            },
            "type": "scatterpolargl"
           }
          ],
          "scatterternary": [
           {
            "marker": {
             "colorbar": {
              "outlinewidth": 0,
              "ticks": ""
             }
            },
            "type": "scatterternary"
           }
          ],
          "surface": [
           {
            "colorbar": {
             "outlinewidth": 0,
             "ticks": ""
            },
            "colorscale": [
             [
              0.0,
              "#0d0887"
             ],
             [
              0.1111111111111111,
              "#46039f"
             ],
             [
              0.2222222222222222,
              "#7201a8"
             ],
             [
              0.3333333333333333,
              "#9c179e"
             ],
             [
              0.4444444444444444,
              "#bd3786"
             ],
             [
              0.5555555555555556,
              "#d8576b"
             ],
             [
              0.6666666666666666,
              "#ed7953"
             ],
             [
              0.7777777777777778,
              "#fb9f3a"
             ],
             [
              0.8888888888888888,
              "#fdca26"
             ],
             [
              1.0,
              "#f0f921"
             ]
            ],
            "type": "surface"
           }
          ],
          "table": [
           {
            "cells": {
             "fill": {
              "color": "#EBF0F8"
             },
             "line": {
              "color": "white"
             }
            },
            "header": {
             "fill": {
              "color": "#C8D4E3"
             },
             "line": {
              "color": "white"
             }
            },
            "type": "table"
           }
          ]
         },
         "layout": {
          "annotationdefaults": {
           "arrowcolor": "#2a3f5f",
           "arrowhead": 0,
           "arrowwidth": 1
          },
          "autotypenumbers": "strict",
          "coloraxis": {
           "colorbar": {
            "outlinewidth": 0,
            "ticks": ""
           }
          },
          "colorscale": {
           "diverging": [
            [
             0,
             "#8e0152"
            ],
            [
             0.1,
             "#c51b7d"
            ],
            [
             0.2,
             "#de77ae"
            ],
            [
             0.3,
             "#f1b6da"
            ],
            [
             0.4,
             "#fde0ef"
            ],
            [
             0.5,
             "#f7f7f7"
            ],
            [
             0.6,
             "#e6f5d0"
            ],
            [
             0.7,
             "#b8e186"
            ],
            [
             0.8,
             "#7fbc41"
            ],
            [
             0.9,
             "#4d9221"
            ],
            [
             1,
             "#276419"
            ]
           ],
           "sequential": [
            [
             0.0,
             "#0d0887"
            ],
            [
             0.1111111111111111,
             "#46039f"
            ],
            [
             0.2222222222222222,
             "#7201a8"
            ],
            [
             0.3333333333333333,
             "#9c179e"
            ],
            [
             0.4444444444444444,
             "#bd3786"
            ],
            [
             0.5555555555555556,
             "#d8576b"
            ],
            [
             0.6666666666666666,
             "#ed7953"
            ],
            [
             0.7777777777777778,
             "#fb9f3a"
            ],
            [
             0.8888888888888888,
             "#fdca26"
            ],
            [
             1.0,
             "#f0f921"
            ]
           ],
           "sequentialminus": [
            [
             0.0,
             "#0d0887"
            ],
            [
             0.1111111111111111,
             "#46039f"
            ],
            [
             0.2222222222222222,
             "#7201a8"
            ],
            [
             0.3333333333333333,
             "#9c179e"
            ],
            [
             0.4444444444444444,
             "#bd3786"
            ],
            [
             0.5555555555555556,
             "#d8576b"
            ],
            [
             0.6666666666666666,
             "#ed7953"
            ],
            [
             0.7777777777777778,
             "#fb9f3a"
            ],
            [
             0.8888888888888888,
             "#fdca26"
            ],
            [
             1.0,
             "#f0f921"
            ]
           ]
          },
          "colorway": [
           "#636efa",
           "#EF553B",
           "#00cc96",
           "#ab63fa",
           "#FFA15A",
           "#19d3f3",
           "#FF6692",
           "#B6E880",
           "#FF97FF",
           "#FECB52"
          ],
          "font": {
           "color": "#2a3f5f"
          },
          "geo": {
           "bgcolor": "white",
           "lakecolor": "white",
           "landcolor": "#E5ECF6",
           "showlakes": true,
           "showland": true,
           "subunitcolor": "white"
          },
          "hoverlabel": {
           "align": "left"
          },
          "hovermode": "closest",
          "mapbox": {
           "style": "light"
          },
          "paper_bgcolor": "white",
          "plot_bgcolor": "#E5ECF6",
          "polar": {
           "angularaxis": {
            "gridcolor": "white",
            "linecolor": "white",
            "ticks": ""
           },
           "bgcolor": "#E5ECF6",
           "radialaxis": {
            "gridcolor": "white",
            "linecolor": "white",
            "ticks": ""
           }
          },
          "scene": {
           "xaxis": {
            "backgroundcolor": "#E5ECF6",
            "gridcolor": "white",
            "gridwidth": 2,
            "linecolor": "white",
            "showbackground": true,
            "ticks": "",
            "zerolinecolor": "white"
           },
           "yaxis": {
            "backgroundcolor": "#E5ECF6",
            "gridcolor": "white",
            "gridwidth": 2,
            "linecolor": "white",
            "showbackground": true,
            "ticks": "",
            "zerolinecolor": "white"
           },
           "zaxis": {
            "backgroundcolor": "#E5ECF6",
            "gridcolor": "white",
            "gridwidth": 2,
            "linecolor": "white",
            "showbackground": true,
            "ticks": "",
            "zerolinecolor": "white"
           }
          },
          "shapedefaults": {
           "line": {
            "color": "#2a3f5f"
           }
          },
          "ternary": {
           "aaxis": {
            "gridcolor": "white",
            "linecolor": "white",
            "ticks": ""
           },
           "baxis": {
            "gridcolor": "white",
            "linecolor": "white",
            "ticks": ""
           },
           "bgcolor": "#E5ECF6",
           "caxis": {
            "gridcolor": "white",
            "linecolor": "white",
            "ticks": ""
           }
          },
          "title": {
           "x": 0.05
          },
          "xaxis": {
           "automargin": true,
           "gridcolor": "white",
           "linecolor": "white",
           "ticks": "",
           "title": {
            "standoff": 15
           },
           "zerolinecolor": "white",
           "zerolinewidth": 2
          },
          "yaxis": {
           "automargin": true,
           "gridcolor": "white",
           "linecolor": "white",
           "ticks": "",
           "title": {
            "standoff": 15
           },
           "zerolinecolor": "white",
           "zerolinewidth": 2
          }
         }
        },
        "xaxis": {
         "nticks": 30,
         "title": {
          "text": "Hour of day"
         }
        },
        "yaxis": {
         "showticklabels": true,
         "title": {
          "text": "Appliance"
         }
        }
       }
      },
      "text/html": "<div>                            <div id=\"e49809db-b757-4c98-888c-d51e0f27be41\" class=\"plotly-graph-div\" style=\"height:525px; width:100%;\"></div>            <script type=\"text/javascript\">                require([\"plotly\"], function(Plotly) {                    window.PLOTLYENV=window.PLOTLYENV || {};                                    if (document.getElementById(\"e49809db-b757-4c98-888c-d51e0f27be41\")) {                    Plotly.newPlot(                        \"e49809db-b757-4c98-888c-d51e0f27be41\",                        [{\"colorbar\":{\"tick0\":0,\"tickmode\":\"array\",\"tickvals\":[0,100000,200000]},\"colorscale\":[[0,\"#000004\"],[1e-06,\"#440f76\"],[0.0001,\"#9e2f7f\"],[0.01,\"#fd9668\"],[1.0,\"#fcfdbf\"]],\"type\":\"heatmap\",\"x\":[0,1,2,3,4,5,6,7,8,9,10,11,12,13,14,15,16,17,18,19,20,21,22,23],\"y\":[\"Elec_PowerPlugsInstBA2\",\"Elec_PowerPlugsInstMudroomA\",\"Elec_PowerPlugsAttic\",\"Elec_PowerPlugsInstBR4A\",\"Elec_PowerPlugsBA2North\",\"Elec_PowerPlugsInstLRA\",\"Elec_PowerPlugsInstMBAB\",\"HourOfTimestamp\",\"Elec_PowerLightsAttic\",\"Elec_PowerPlugsDRB\",\"Elec_PowerPlugsInstBR2Hall\",\"Elec_PowerPlugsInstKitA\",\"Elec_PowerMakeUpAirDamper\",\"Elec_PowerPlugsKitPeninsula\",\"Elec_PowerPlugsInstBR3\",\"Elec_PowerPlugsGSHPInstrumentation\",\"Elec_PowerPlugsBR3\",\"Load_BR3PlugLoadsPowerUsage\",\"Elec_PowerPlugsInstDRA\",\"Elec_PowerPlugsKitRange\",\"Elec_PowerPlugsMBAEast\",\"Elec_PowerLightingControlPanelRPS2\",\"Elec_PowerPlugsKitSink\",\"Elec_PowerPlugsMBAWest\",\"Load_ClothesWasherPowerWithStandby\",\"Elec_PowerLightingControlPanelRPS1\",\"Elec_PowerLights1stFloorA\",\"Elec_PowerPlugsHVACInstrumentation\",\"Load_MBRPlugLoadsPowerUsage\",\"Elec_PowerPlugsMBR\",\"Elec_PowerChildADownstairs\",\"Elec_PowerChildBDownstairs\",\"Elec_PowerDishwasher\",\"Elec_PowerMicrowave\",\"Elec_PowerSpare2\",\"Load_MicrowavePowerWithStandby\",\"Load_2ndFloorLightsPowerUsage\",\"Elec_PowerLights2ndFloor\",\"Load_KPlugLoadsPowerUsage\",\"Elec_PowerParentADownstairs\",\"Elec_PowerLightsBasement\",\"Elec_PowerParentBDownstairs\",\"Elec_PowerLights1stFloorB\",\"Elec_PowerParentAUpstairs\",\"Elec_PowerParentBUpstairs\",\"Load_BR4PlugLoadsPowerUsage\",\"Elec_PowerGarbageDisposal\",\"Load_BR2PlugLoadsPowerUsage\",\"Elec_PowerPlugsBR2\",\"Elec_PowerDryer2of2\",\"Load_LRPlugLoadsPowerUsage\",\"Elec_PowerDryer1of2\",\"Load_LatentHeatPowerUsage\",\"Elec_PowerPlugsInstKitD\",\"Load_1stFloorLightsPowerUsage\",\"Elec_PowerChildBUpstairs\",\"DHW_SHWPumpsPowerWithStandby\",\"Elec_PowerChildAUpstairs\",\"Load_OvenPowerTotal\",\"Elec_PowerRefrigerator\",\"Elec_PowerPlugs2ndFloor\",\"Load_RefrigeratorPowerWithStandby\",\"Load_BasementPlugLoadsPowerUsage\",\"Elec_PowerHRV\",\"Load_DryerPowerTotal\",\"Elec_PowerHeatPumpWH2of2\",\"Load_1stFloorSensHeatPowerUsage\",\"Load_2ndFloorSensHeatPowerUsage\",\"DHW_HeatPumpWaterHeaterPowerTotal\",\"HVAC_HeatPumpIndoorUnitPower\",\"HVAC_HeatPumpOutdoorUnitPower\"],\"z\":[[0.88,0.95,0.46,0.0,0.16,0.05,0.02,0.01,0.01,0.01,0.0,0.02,0.02,0.01,0.0,0.02,0.0,0.01,0.01,0.01,0.02,0.0,0.45,0.94],[0.56,0.61,0.59,0.51,0.57,0.19,0.08,0.04,0.04,0.04,0.0,0.07,0.07,0.38,0.01,0.21,0.0,0.04,0.04,0.04,0.58,0.5,0.51,0.62],[0.0,0.0,12.37,3.78,0.0,0.0,0.0,0.0,0.0,0.0,0.0,0.0,0.0,0.0,0.0,0.0,0.0,0.0,0.0,0.0,0.0,0.0,0.0,0.0],[0.0,0.0,0.0,0.0,0.0,0.0,0.0,0.0,0.0,0.0,0.0,0.0,0.0,3.85,13.22,10.47,10.77,0.0,0.67,16.07,7.45,0.0,0.0,0.0],[0.01,0.0,0.0,0.0,0.0,0.0,0.0,0.0,0.0,0.0,0.0,0.0,0.0,116.11,0.0,0.0,0.0,0.0,0.0,0.0,0.0,0.0,0.0,0.0],[0.04,0.11,0.08,0.0,0.6,0.2,0.09,0.04,0.04,0.04,0.0,0.08,0.08,0.69,0.0,18.85,28.52,0.51,2.88,8.02,41.78,16.13,0.0,0.12],[30.87,0.49,0.47,0.48,0.0,0.0,0.0,0.0,0.0,0.0,0.0,0.0,0.0,0.48,0.47,0.47,0.48,60.4,77.45,2.63,0.48,0.48,0.48,0.48],[0,1,2,3,4,5,6,7,8,9,10,11,12,13,14,15,16,17,18,19,20,21,22,23],[56.98,97.72,89.94,166.94,4.15,0.0,0.0,0.0,0.0,0.0,0.0,0.0,0.0,24.33,1.48,1.46,1.49,11.38,10.94,1.72,3.06,0.07,10.86,2.71],[7.98,7.61,7.6,7.31,7.3,7.16,7.26,7.28,7.29,7.3,6.9,7.47,112.46,316.75,303.15,175.0,61.38,85.09,32.98,7.42,7.22,7.43,7.43,7.62],[0.11,0.19,0.15,0.07,0.59,0.2,0.08,0.04,0.04,0.04,0.0,0.07,0.07,0.27,262.9,724.89,626.2,196.95,173.57,54.63,0.15,0.07,0.07,0.19],[106.97,106.92,106.93,106.81,106.86,106.82,106.59,106.7,106.65,106.55,106.81,104.38,84.86,74.06,105.28,98.27,73.6,73.54,78.64,103.48,125.43,124.23,118.74,107.26],[256.55,200.1,42.93,42.85,1.06,1.92,3.76,0.74,0.0,0.0,0.08,3.51,204.34,117.5,5.46,0.87,572.07,423.94,68.43,484.84,268.77,1.39,639.27,447.99],[219.66,0.62,0.32,0.0,0.0,0.0,24.15,0.0,0.0,0.0,0.0,0.0,0.0,0.0,0.0,0.0,0.0,0.0,0.0,0.0,0.0,0.0,2425.96,1720.16],[192.41,194.51,195.04,194.73,195.05,195.39,195.25,195.05,194.36,193.71,192.95,193.13,192.7,192.13,247.97,416.92,343.13,218.32,240.82,223.63,193.71,193.01,193.99,193.72],[398.56,401.35,405.04,392.67,403.08,397.62,378.43,374.52,358.56,353.37,356.61,380.39,631.66,711.82,1371.99,793.58,525.85,929.31,1784.03,1336.2,1152.65,674.5,409.09,398.47],[6555.56,1561.2,194.8,193.92,214.78,222.0,271.25,256.1,215.03,213.6,213.15,215.14,215.15,215.47,215.45,215.43,215.22,214.86,193.88,193.74,193.44,205.0,4660.52,9778.8],[6555.56,1561.2,194.8,193.92,214.78,222.0,271.25,256.1,215.03,213.6,213.15,215.14,215.15,215.47,215.45,215.43,215.22,214.86,193.88,193.74,193.44,205.0,4660.52,9778.8],[1117.49,1121.69,1127.08,1132.14,1135.56,1137.54,1137.32,1137.11,1136.33,1133.27,1127.35,1159.23,1206.28,1684.45,1828.05,1509.19,1244.01,1314.0,1235.81,1157.13,1161.1,1110.95,1112.83,1117.18],[310.17,0.0,0.0,0.0,0.0,10.29,20.24,3.98,0.0,0.0,16081.3,8650.64,1248.52,6723.46,3392.79,0.0,1270.02,626.99,0.0,0.0,16.98,99.31,3923.24,2475.74],[0.0,0.0,0.0,0.0,0.0,0.0,0.0,0.0,0.0,0.0,20992.38,11243.96,0.0,0.0,8184.09,4557.3,0.0,0.0,0.0,0.0,0.0,125.08,0.0,0.0],[2207.43,2215.2,2224.02,2242.9,2272.41,2270.54,2252.7,2250.58,2233.96,2225.56,2222.56,2207.07,2228.43,2220.47,2221.56,2233.23,2241.07,2229.77,2205.38,2199.02,2210.09,2218.66,2221.58,2212.02],[0.0,0.0,0.0,0.0,0.0,0.0,0.0,0.0,0.0,0.0,21573.39,11535.54,2586.96,13619.31,10449.45,2080.88,0.0,0.0,0.0,0.0,0.0,128.37,0.0,0.0],[2623.41,2618.85,2618.43,2615.97,2594.27,2584.54,2593.79,2592.98,2591.85,2591.36,2619.94,2620.13,2619.04,2614.8,2613.0,2609.42,2611.12,2609.55,2604.74,2600.84,2612.95,2612.06,2642.68,2643.47],[5763.81,4815.32,2448.81,1097.76,1064.47,1064.97,1060.85,1060.85,1060.85,1060.85,1060.85,1060.85,1079.74,1066.74,1328.08,11086.76,6947.92,1067.5,6214.54,8695.29,3911.54,1058.49,3745.06,5201.79],[3238.17,3257.08,3263.7,3301.2,3353.96,3351.76,3330.06,3324.39,3305.46,3296.08,3246.09,3246.42,3302.65,3323.2,3344.06,3354.58,3357.79,3362.93,3353.78,3348.89,3357.06,3350.59,3283.88,3238.54],[15854.05,17053.58,14205.61,6334.0,1087.41,103.03,119.31,132.95,158.5,201.91,163.68,204.29,3902.85,2078.89,0.0,0.0,0.71,0.0,11.36,0.0,0.0,110.11,6556.55,12294.1],[3421.72,3422.09,3415.3,3408.83,3485.62,3503.05,3398.74,3399.2,3396.16,3395.33,3398.66,3408.46,3346.67,3286.94,3310.84,3367.79,3357.87,3388.52,3328.14,3350.15,3401.12,3437.78,3444.99,3430.4],[0.54,144.46,8717.38,11055.16,3682.6,296.54,216.22,0.0,0.0,21.6,5649.91,3130.56,8.4,0.0,0.0,0.0,0.0,0.0,16210.56,9108.34,0.0,449.77,16090.17,8953.97],[0.54,144.46,8717.38,11061.86,3684.21,296.54,216.22,0.0,0.0,21.6,5649.91,3130.56,8.4,0.0,0.0,0.0,0.0,0.0,16210.56,9108.34,0.0,449.77,16090.17,8953.97],[8360.38,7218.05,7136.9,2526.06,31.92,112.08,0.0,48.98,53.92,70.0,173.66,11475.11,6273.13,3386.29,6343.51,2506.11,48.53,4527.07,4766.72,1340.18,2373.57,5841.95,4862.3,8394.42],[8360.22,7058.95,2591.05,69.61,135.65,122.0,20.52,48.4,53.15,53.54,119.82,11363.54,6382.94,3358.16,1902.03,7.15,43.93,4462.22,6988.85,6982.9,6962.28,7105.1,9339.03,10862.03],[6285.92,55927.98,32067.44,901.24,20.24,0.0,0.0,0.0,135.95,551.64,11.14,0.0,0.0,0.48,0.46,0.45,0.45,0.45,0.46,0.45,0.46,0.46,0.45,0.46],[57.19,0.0,0.0,0.0,0.0,60.08,116.95,0.0,0.0,210.37,25163.4,15692.47,5.88,9988.8,6379.44,0.0,9985.45,6517.4,0.0,0.0,0.0,175.6,30037.09,19231.04],[5344.6,5341.22,5340.72,5339.42,5299.99,5281.95,5300.82,5300.32,5300.17,5300.38,5302.6,5306.7,5331.57,5308.23,5304.01,5302.62,5306.6,5308.48,5317.76,5304.34,5320.71,5320.71,5354.62,5355.32],[534.99,477.84,477.84,477.38,476.82,537.09,592.06,475.2,475.2,685.41,25619.6,16155.92,483.39,10459.05,6852.24,477.84,10455.74,6990.62,476.52,475.2,476.52,651.99,30492.38,19694.54],[20530.01,13921.16,17286.65,11262.55,2205.68,60.57,174.44,997.9,1082.12,578.5,13180.17,7193.6,1751.79,1199.64,3450.76,1849.36,423.84,276.25,752.0,474.01,1473.54,3542.07,17583.42,23043.8],[20530.01,13921.16,17286.65,11265.26,2206.05,60.57,174.44,997.9,1082.12,578.5,13180.17,7193.6,1751.79,1199.64,3450.76,1849.36,423.84,276.25,752.0,474.01,1473.54,3542.07,17583.42,23043.8],[822.81,295.63,295.69,295.44,296.21,306.62,339.39,299.17,295.2,295.2,65494.38,37859.75,4222.02,31679.62,21469.08,2377.72,2717.52,921.7,294.91,294.09,351.85,647.57,9640.06,4475.15],[22985.0,24825.32,19477.07,8145.05,1438.13,112.05,49.53,70.4,121.11,140.66,5998.81,14849.41,15606.11,9657.02,2563.61,7.54,2300.42,5795.9,6039.16,6513.66,7187.3,7141.06,9705.06,17890.4],[1776.4,2090.16,1813.82,1778.81,1777.66,1777.08,1777.93,1777.96,1778.91,2086.42,2385.42,4540.92,9034.32,18612.9,22494.39,16387.49,8793.1,11957.38,24706.68,22386.22,18185.11,7878.67,2508.4,1792.54],[26123.01,26086.02,14138.54,5032.67,1378.94,120.83,82.59,135.44,134.91,239.29,5948.56,15071.15,15949.54,9935.87,2728.24,4666.92,7328.37,7404.3,5118.67,1471.43,216.22,4851.46,16875.15,24652.91],[28857.4,29028.47,22720.41,9641.41,1692.08,139.47,178.34,303.09,281.78,423.25,13790.68,26593.15,20380.12,11990.76,3821.29,254.39,107.19,110.93,196.98,144.03,438.36,531.86,8664.91,24760.04],[1134.88,648.97,5998.16,16745.92,22359.98,24033.79,24450.3,24467.82,24504.21,24541.15,18897.8,10302.3,3804.31,806.95,134.38,134.31,134.37,160.02,1284.76,805.07,68.1,199.65,6947.8,3859.3],[65.35,192.18,11590.81,19721.32,22181.48,23874.0,24318.79,24283.03,24300.61,24240.54,19034.22,10272.78,3784.57,868.56,4690.79,2722.05,214.04,197.32,173.42,101.94,1.12,33.39,2370.49,1317.49],[25920.66,22726.15,14447.21,2372.82,87.29,513.46,627.83,63.74,0.0,0.0,0.0,0.0,2888.88,7281.97,8874.77,8903.15,8902.31,8898.55,8915.57,8907.19,8957.74,17902.93,37004.21,36028.7],[7345.96,0.0,0.0,0.0,0.0,275.09,455.78,62.89,0.0,0.0,0.0,0.0,26535.02,14766.84,0.0,0.0,26506.21,14653.07,0.0,0.0,410.7,195.86,82926.5,57085.17],[18633.07,17164.28,10963.61,7869.83,7877.82,7885.99,7903.45,7885.12,7865.12,7861.81,7837.9,7861.41,7908.75,7892.81,7910.66,10072.76,11262.49,9096.12,7851.82,7829.27,7846.69,7852.48,12394.22,17643.35],[18633.07,17164.28,10963.61,7876.23,7914.99,7899.58,7903.45,7885.12,7865.12,7861.81,7837.9,7861.41,7908.75,7892.81,7910.66,10072.76,11262.49,9096.12,7851.82,7829.27,7846.69,7852.48,12394.22,17643.35],[30897.93,18329.2,1318.04,254.04,0.0,0.0,0.0,0.0,0.0,0.0,0.0,0.0,0.0,0.0,0.0,0.0,57916.32,35934.4,2835.26,58876.23,33539.27,-1.11,-1.11,-1.11],[21940.24,17480.3,13076.53,8514.12,5950.39,5350.14,5222.84,5226.35,5255.89,5251.99,9386.18,15552.73,15103.29,12232.79,11816.87,7708.52,5213.2,5214.32,5198.55,9669.01,9933.15,6438.81,15498.79,23052.4],[34967.44,21598.62,1891.37,328.46,0.0,0.0,0.0,0.0,0.0,0.0,0.0,0.37,0.28,0.09,0.61,0.17,65400.27,42233.2,4243.54,68805.53,38861.63,-1.11,-0.92,-1.11],[15468.46,15468.66,15558.48,15440.21,14888.54,15237.29,15584.16,15565.32,15543.73,15517.72,15454.3,15350.47,11913.49,6487.81,4468.18,4403.43,4396.68,4453.95,4446.71,4513.54,11510.65,15364.01,15388.37,15431.82],[15468.46,15468.66,15558.48,15453.5,14963.6,15263.58,15584.16,15565.32,15543.73,15517.72,15454.3,15350.47,11913.49,6487.81,4468.18,4403.43,4396.68,4453.95,4446.71,4513.54,11510.65,15364.01,15388.37,15431.82],[44803.18,46189.48,37019.61,16062.67,2866.46,334.17,389.32,527.69,531.9,732.39,14055.25,26935.18,24494.09,14760.68,4596.39,857.22,440.15,517.02,997.87,1005.95,1180.55,966.63,15326.33,37146.18],[17233.19,18537.74,23271.11,25488.61,24520.48,25005.94,25536.84,25470.46,25360.87,25311.83,25283.58,13831.94,7345.83,2911.23,150.37,144.16,2474.12,1465.36,179.15,159.9,128.32,92.24,9741.93,14571.02],[1763.53,1439.6,1257.9,1230.24,1232.97,1233.87,1229.17,1229.16,1229.16,1229.15,1229.2,1229.18,4520.2,19375.84,34938.92,41712.0,44310.8,44395.38,41534.46,37628.01,24564.19,6062.49,2726.34,2029.75],[14921.73,17238.72,17871.11,21999.06,23561.21,24046.57,24562.54,24469.93,24479.32,24513.16,24468.3,13358.64,7177.86,3801.3,807.43,4653.77,7078.93,2616.39,174.1,171.1,2542.66,6081.97,16446.27,15484.22],[40610.06,22389.66,8393.2,3254.85,3251.05,3252.59,3924.23,3639.54,3580.66,3521.51,3240.0,3240.0,66185.29,75726.85,49799.09,17492.51,3258.0,3258.0,3248.92,3240.0,4322.38,3778.71,4669.57,40375.77],[16197.75,15853.31,15846.35,15825.39,15930.79,15951.42,15970.94,15943.36,15606.72,15038.82,15528.38,15225.64,15529.64,16184.37,15883.03,16269.39,16090.92,16976.32,16045.47,16432.79,16103.81,16167.37,16121.48,15620.03],[16833.02,16849.11,16840.35,16821.62,16913.23,16857.01,16755.16,16733.82,16694.17,16694.18,16714.45,16777.39,16886.76,16842.89,16834.5,16842.75,16841.93,16838.75,16805.59,16748.07,16765.38,16747.26,16770.83,16817.62],[17491.62,17141.79,17152.13,17104.14,17008.5,17141.29,17266.94,17235.13,16905.07,16355.72,16828.21,16532.1,16748.24,17470.64,17182.88,17557.38,17384.54,18245.19,17333.9,17706.92,17385.55,17451.81,17414.83,16925.89],[21512.99,21494.21,21526.75,21504.32,21334.78,21365.33,21442.58,21422.55,21368.79,21341.25,21347.03,21379.77,21452.45,21561.09,21661.59,21523.69,21373.96,21462.59,21806.02,21474.84,21627.39,21466.66,21483.18,21481.65],[21686.48,21582.09,21600.7,21491.24,21672.38,21673.26,21525.43,21580.19,21613.58,21633.29,21690.65,21617.12,21623.21,21544.76,21530.58,21463.58,21411.4,21402.95,21346.99,21314.15,21376.09,21374.2,21585.59,21745.23],[65865.37,39927.81,3209.41,582.5,0.0,0.0,0.0,0.0,0.0,0.0,0.0,0.37,0.28,0.09,0.61,0.17,123316.59,78167.6,7078.8,127681.76,72400.91,-2.22,-2.03,-2.22],[28491.15,37851.9,38350.73,29389.31,6622.15,3421.95,2245.3,3769.19,4463.96,9183.17,40568.46,57460.49,49685.37,33224.52,21469.95,12931.98,10197.67,23881.88,21396.98,15871.07,12759.91,10170.18,22268.66,34139.15],[65828.61,65188.34,43343.56,15770.22,2984.64,466.95,152.64,303.22,363.08,503.48,12240.85,52759.2,44211.72,26337.35,13537.39,7187.72,9721.26,22189.48,22913.41,16308.15,16739.37,24939.57,40781.54,61799.76],[33355.14,36617.61,58731.2,83878.68,92169.26,96797.02,98868.47,98691.24,98645.0,98606.68,87683.91,47765.66,22112.56,8388.05,5782.96,7654.29,9901.45,4439.09,1811.43,1238.01,2740.19,6407.26,35506.5,35232.03],[58982.1,77609.39,78521.88,60749.28,15487.05,9244.31,6937.86,9960.03,11332.98,20694.69,82837.28,116476.49,101042.33,68337.6,45042.1,28125.83,22747.26,49903.49,44893.64,33951.07,27829.38,22650.27,46595.42,70148.14],[66477.91,61395.1,78305.92,74544.21,91028.04,129509.21,92950.54,101565.25,123395.42,88628.78,108000.09,95819.74,71669.0,59619.95,64968.04,42641.54,32364.2,44544.46,38672.43,41543.14,62394.52,59892.27,81370.24,69526.84],[174814.4,167218.78,183019.94,168311.3,185202.55,194725.17,196899.04,210512.45,219048.2,221378.11,220865.06,211236.17,187684.65,191295.07,179031.18,154928.4,147260.61,159017.33,152393.34,152626.4,168619.75,169635.12,183992.27,186503.18]]}],                        {\"margin\":{\"b\":30,\"l\":30,\"r\":30,\"t\":50},\"template\":{\"data\":{\"bar\":[{\"error_x\":{\"color\":\"#2a3f5f\"},\"error_y\":{\"color\":\"#2a3f5f\"},\"marker\":{\"line\":{\"color\":\"#E5ECF6\",\"width\":0.5},\"pattern\":{\"fillmode\":\"overlay\",\"size\":10,\"solidity\":0.2}},\"type\":\"bar\"}],\"barpolar\":[{\"marker\":{\"line\":{\"color\":\"#E5ECF6\",\"width\":0.5},\"pattern\":{\"fillmode\":\"overlay\",\"size\":10,\"solidity\":0.2}},\"type\":\"barpolar\"}],\"carpet\":[{\"aaxis\":{\"endlinecolor\":\"#2a3f5f\",\"gridcolor\":\"white\",\"linecolor\":\"white\",\"minorgridcolor\":\"white\",\"startlinecolor\":\"#2a3f5f\"},\"baxis\":{\"endlinecolor\":\"#2a3f5f\",\"gridcolor\":\"white\",\"linecolor\":\"white\",\"minorgridcolor\":\"white\",\"startlinecolor\":\"#2a3f5f\"},\"type\":\"carpet\"}],\"choropleth\":[{\"colorbar\":{\"outlinewidth\":0,\"ticks\":\"\"},\"type\":\"choropleth\"}],\"contour\":[{\"colorbar\":{\"outlinewidth\":0,\"ticks\":\"\"},\"colorscale\":[[0.0,\"#0d0887\"],[0.1111111111111111,\"#46039f\"],[0.2222222222222222,\"#7201a8\"],[0.3333333333333333,\"#9c179e\"],[0.4444444444444444,\"#bd3786\"],[0.5555555555555556,\"#d8576b\"],[0.6666666666666666,\"#ed7953\"],[0.7777777777777778,\"#fb9f3a\"],[0.8888888888888888,\"#fdca26\"],[1.0,\"#f0f921\"]],\"type\":\"contour\"}],\"contourcarpet\":[{\"colorbar\":{\"outlinewidth\":0,\"ticks\":\"\"},\"type\":\"contourcarpet\"}],\"heatmap\":[{\"colorbar\":{\"outlinewidth\":0,\"ticks\":\"\"},\"colorscale\":[[0.0,\"#0d0887\"],[0.1111111111111111,\"#46039f\"],[0.2222222222222222,\"#7201a8\"],[0.3333333333333333,\"#9c179e\"],[0.4444444444444444,\"#bd3786\"],[0.5555555555555556,\"#d8576b\"],[0.6666666666666666,\"#ed7953\"],[0.7777777777777778,\"#fb9f3a\"],[0.8888888888888888,\"#fdca26\"],[1.0,\"#f0f921\"]],\"type\":\"heatmap\"}],\"heatmapgl\":[{\"colorbar\":{\"outlinewidth\":0,\"ticks\":\"\"},\"colorscale\":[[0.0,\"#0d0887\"],[0.1111111111111111,\"#46039f\"],[0.2222222222222222,\"#7201a8\"],[0.3333333333333333,\"#9c179e\"],[0.4444444444444444,\"#bd3786\"],[0.5555555555555556,\"#d8576b\"],[0.6666666666666666,\"#ed7953\"],[0.7777777777777778,\"#fb9f3a\"],[0.8888888888888888,\"#fdca26\"],[1.0,\"#f0f921\"]],\"type\":\"heatmapgl\"}],\"histogram\":[{\"marker\":{\"pattern\":{\"fillmode\":\"overlay\",\"size\":10,\"solidity\":0.2}},\"type\":\"histogram\"}],\"histogram2d\":[{\"colorbar\":{\"outlinewidth\":0,\"ticks\":\"\"},\"colorscale\":[[0.0,\"#0d0887\"],[0.1111111111111111,\"#46039f\"],[0.2222222222222222,\"#7201a8\"],[0.3333333333333333,\"#9c179e\"],[0.4444444444444444,\"#bd3786\"],[0.5555555555555556,\"#d8576b\"],[0.6666666666666666,\"#ed7953\"],[0.7777777777777778,\"#fb9f3a\"],[0.8888888888888888,\"#fdca26\"],[1.0,\"#f0f921\"]],\"type\":\"histogram2d\"}],\"histogram2dcontour\":[{\"colorbar\":{\"outlinewidth\":0,\"ticks\":\"\"},\"colorscale\":[[0.0,\"#0d0887\"],[0.1111111111111111,\"#46039f\"],[0.2222222222222222,\"#7201a8\"],[0.3333333333333333,\"#9c179e\"],[0.4444444444444444,\"#bd3786\"],[0.5555555555555556,\"#d8576b\"],[0.6666666666666666,\"#ed7953\"],[0.7777777777777778,\"#fb9f3a\"],[0.8888888888888888,\"#fdca26\"],[1.0,\"#f0f921\"]],\"type\":\"histogram2dcontour\"}],\"mesh3d\":[{\"colorbar\":{\"outlinewidth\":0,\"ticks\":\"\"},\"type\":\"mesh3d\"}],\"parcoords\":[{\"line\":{\"colorbar\":{\"outlinewidth\":0,\"ticks\":\"\"}},\"type\":\"parcoords\"}],\"pie\":[{\"automargin\":true,\"type\":\"pie\"}],\"scatter\":[{\"marker\":{\"colorbar\":{\"outlinewidth\":0,\"ticks\":\"\"}},\"type\":\"scatter\"}],\"scatter3d\":[{\"line\":{\"colorbar\":{\"outlinewidth\":0,\"ticks\":\"\"}},\"marker\":{\"colorbar\":{\"outlinewidth\":0,\"ticks\":\"\"}},\"type\":\"scatter3d\"}],\"scattercarpet\":[{\"marker\":{\"colorbar\":{\"outlinewidth\":0,\"ticks\":\"\"}},\"type\":\"scattercarpet\"}],\"scattergeo\":[{\"marker\":{\"colorbar\":{\"outlinewidth\":0,\"ticks\":\"\"}},\"type\":\"scattergeo\"}],\"scattergl\":[{\"marker\":{\"colorbar\":{\"outlinewidth\":0,\"ticks\":\"\"}},\"type\":\"scattergl\"}],\"scattermapbox\":[{\"marker\":{\"colorbar\":{\"outlinewidth\":0,\"ticks\":\"\"}},\"type\":\"scattermapbox\"}],\"scatterpolar\":[{\"marker\":{\"colorbar\":{\"outlinewidth\":0,\"ticks\":\"\"}},\"type\":\"scatterpolar\"}],\"scatterpolargl\":[{\"marker\":{\"colorbar\":{\"outlinewidth\":0,\"ticks\":\"\"}},\"type\":\"scatterpolargl\"}],\"scatterternary\":[{\"marker\":{\"colorbar\":{\"outlinewidth\":0,\"ticks\":\"\"}},\"type\":\"scatterternary\"}],\"surface\":[{\"colorbar\":{\"outlinewidth\":0,\"ticks\":\"\"},\"colorscale\":[[0.0,\"#0d0887\"],[0.1111111111111111,\"#46039f\"],[0.2222222222222222,\"#7201a8\"],[0.3333333333333333,\"#9c179e\"],[0.4444444444444444,\"#bd3786\"],[0.5555555555555556,\"#d8576b\"],[0.6666666666666666,\"#ed7953\"],[0.7777777777777778,\"#fb9f3a\"],[0.8888888888888888,\"#fdca26\"],[1.0,\"#f0f921\"]],\"type\":\"surface\"}],\"table\":[{\"cells\":{\"fill\":{\"color\":\"#EBF0F8\"},\"line\":{\"color\":\"white\"}},\"header\":{\"fill\":{\"color\":\"#C8D4E3\"},\"line\":{\"color\":\"white\"}},\"type\":\"table\"}]},\"layout\":{\"annotationdefaults\":{\"arrowcolor\":\"#2a3f5f\",\"arrowhead\":0,\"arrowwidth\":1},\"autotypenumbers\":\"strict\",\"coloraxis\":{\"colorbar\":{\"outlinewidth\":0,\"ticks\":\"\"}},\"colorscale\":{\"diverging\":[[0,\"#8e0152\"],[0.1,\"#c51b7d\"],[0.2,\"#de77ae\"],[0.3,\"#f1b6da\"],[0.4,\"#fde0ef\"],[0.5,\"#f7f7f7\"],[0.6,\"#e6f5d0\"],[0.7,\"#b8e186\"],[0.8,\"#7fbc41\"],[0.9,\"#4d9221\"],[1,\"#276419\"]],\"sequential\":[[0.0,\"#0d0887\"],[0.1111111111111111,\"#46039f\"],[0.2222222222222222,\"#7201a8\"],[0.3333333333333333,\"#9c179e\"],[0.4444444444444444,\"#bd3786\"],[0.5555555555555556,\"#d8576b\"],[0.6666666666666666,\"#ed7953\"],[0.7777777777777778,\"#fb9f3a\"],[0.8888888888888888,\"#fdca26\"],[1.0,\"#f0f921\"]],\"sequentialminus\":[[0.0,\"#0d0887\"],[0.1111111111111111,\"#46039f\"],[0.2222222222222222,\"#7201a8\"],[0.3333333333333333,\"#9c179e\"],[0.4444444444444444,\"#bd3786\"],[0.5555555555555556,\"#d8576b\"],[0.6666666666666666,\"#ed7953\"],[0.7777777777777778,\"#fb9f3a\"],[0.8888888888888888,\"#fdca26\"],[1.0,\"#f0f921\"]]},\"colorway\":[\"#636efa\",\"#EF553B\",\"#00cc96\",\"#ab63fa\",\"#FFA15A\",\"#19d3f3\",\"#FF6692\",\"#B6E880\",\"#FF97FF\",\"#FECB52\"],\"font\":{\"color\":\"#2a3f5f\"},\"geo\":{\"bgcolor\":\"white\",\"lakecolor\":\"white\",\"landcolor\":\"#E5ECF6\",\"showlakes\":true,\"showland\":true,\"subunitcolor\":\"white\"},\"hoverlabel\":{\"align\":\"left\"},\"hovermode\":\"closest\",\"mapbox\":{\"style\":\"light\"},\"paper_bgcolor\":\"white\",\"plot_bgcolor\":\"#E5ECF6\",\"polar\":{\"angularaxis\":{\"gridcolor\":\"white\",\"linecolor\":\"white\",\"ticks\":\"\"},\"bgcolor\":\"#E5ECF6\",\"radialaxis\":{\"gridcolor\":\"white\",\"linecolor\":\"white\",\"ticks\":\"\"}},\"scene\":{\"xaxis\":{\"backgroundcolor\":\"#E5ECF6\",\"gridcolor\":\"white\",\"gridwidth\":2,\"linecolor\":\"white\",\"showbackground\":true,\"ticks\":\"\",\"zerolinecolor\":\"white\"},\"yaxis\":{\"backgroundcolor\":\"#E5ECF6\",\"gridcolor\":\"white\",\"gridwidth\":2,\"linecolor\":\"white\",\"showbackground\":true,\"ticks\":\"\",\"zerolinecolor\":\"white\"},\"zaxis\":{\"backgroundcolor\":\"#E5ECF6\",\"gridcolor\":\"white\",\"gridwidth\":2,\"linecolor\":\"white\",\"showbackground\":true,\"ticks\":\"\",\"zerolinecolor\":\"white\"}},\"shapedefaults\":{\"line\":{\"color\":\"#2a3f5f\"}},\"ternary\":{\"aaxis\":{\"gridcolor\":\"white\",\"linecolor\":\"white\",\"ticks\":\"\"},\"baxis\":{\"gridcolor\":\"white\",\"linecolor\":\"white\",\"ticks\":\"\"},\"bgcolor\":\"#E5ECF6\",\"caxis\":{\"gridcolor\":\"white\",\"linecolor\":\"white\",\"ticks\":\"\"}},\"title\":{\"x\":0.05},\"xaxis\":{\"automargin\":true,\"gridcolor\":\"white\",\"linecolor\":\"white\",\"ticks\":\"\",\"title\":{\"standoff\":15},\"zerolinecolor\":\"white\",\"zerolinewidth\":2},\"yaxis\":{\"automargin\":true,\"gridcolor\":\"white\",\"linecolor\":\"white\",\"ticks\":\"\",\"title\":{\"standoff\":15},\"zerolinecolor\":\"white\",\"zerolinewidth\":2}}},\"xaxis\":{\"nticks\":30,\"title\":{\"text\":\"Hour of day\"}},\"yaxis\":{\"showticklabels\":true,\"title\":{\"text\":\"Appliance\"}}},                        {\"responsive\": true}                    ).then(function(){\n                            \nvar gd = document.getElementById('e49809db-b757-4c98-888c-d51e0f27be41');\nvar x = new MutationObserver(function (mutations, observer) {{\n        var display = window.getComputedStyle(gd).display;\n        if (!display || display === 'none') {{\n            console.log([gd, 'removed!']);\n            Plotly.purge(gd);\n            observer.disconnect();\n        }}\n}});\n\n// Listen for the removal of the full notebook cells\nvar notebookContainer = gd.closest('#notebook-container');\nif (notebookContainer) {{\n    x.observe(notebookContainer, {childList: true});\n}}\n\n// Listen for the clearing of the current output cell\nvar outputEl = gd.closest('.output');\nif (outputEl) {{\n    x.observe(outputEl, {childList: true});\n}}\n\n                        })                };                });            </script>        </div>"
     },
     "metadata": {},
     "output_type": "display_data"
    }
   ],
   "source": [
    "import plotly.graph_objects as go\n",
    "\n",
    "#set up data to heatmap\n",
    "columns = hourON.columns[1:].tolist()\n",
    "# hourON[columns] = normalise_dataframe(hourON[columns])\n",
    "\n",
    "z_data = []\n",
    "for i in hourON[columns]:\n",
    "    data_list = hourON[i].round(2).values.tolist()\n",
    "    z_data.append(data_list)\n",
    "\n",
    "# #Annotate z_values\n",
    "# annotations = go.Annotations()\n",
    "# for n, row in enumerate(z_data):\n",
    "#     for m, val in enumerate(row):\n",
    "#         annotations.append(go.Annotation(text=\"\" if z_data[n][m] == 0 else str(z_data[n][m]),\n",
    "#                                          x=hourON[\"HourOfTimestamp\"][m], y=columns[n], xref='x1', yref='y1',\n",
    "#                                          showarrow=False))\n",
    "\n",
    "viridis = px.colors.sequential.Magma\n",
    "\n",
    "#Create heatmap\n",
    "fig = go.Figure(data=go.Heatmap(\n",
    "    z=z_data,\n",
    "    x=hourON[\"HourOfTimestamp\"],\n",
    "    y=columns,\n",
    "    # colorscale='Viridis'\n",
    "    colorscale = [\n",
    "        [0, viridis[0]],\n",
    "        [1./1000000, viridis[2]],\n",
    "        [1./10000, viridis[4]],\n",
    "        [1./100, viridis[7]],\n",
    "        [1., viridis[9]],\n",
    "    ],\n",
    "    colorbar= dict(\n",
    "        tick0= 0,\n",
    "        tickmode= 'array',\n",
    "        tickvals= [0, 100000, 200000]\n",
    "    )\n",
    ")\n",
    ")\n",
    "\n",
    "fig.update_layout(margin=dict(\n",
    "    l=30,\n",
    "    r=30,\n",
    "    b=30,\n",
    "    t=50,\n",
    "), xaxis_nticks=30,\n",
    "    # annotations=annotations,\n",
    ")\n",
    "\n",
    "fig.update_xaxes(title=\"Hour of day\")\n",
    "fig.update_yaxes(title=\"Appliance\", showticklabels=True)\n",
    "\n",
    "# fig.write_html(Db.get_save_file_directory(\"hour_of_day_energy_consumption.html\"))\n",
    "#\n",
    "# fig.show()"
   ],
   "metadata": {
    "collapsed": false,
    "pycharm": {
     "name": "#%%\n"
    }
   }
  },
  {
   "cell_type": "code",
   "execution_count": 54,
   "outputs": [
    {
     "data": {
      "application/vnd.plotly.v1+json": {
       "config": {
        "plotlyServerURL": "https://plot.ly"
       },
       "data": [
        {
         "coloraxis": "coloraxis",
         "hovertemplate": "x: %{x}<br>y: %{y}<br>color: %{z}<extra></extra>",
         "name": "0",
         "type": "heatmap",
         "x": [
          0,
          1,
          2,
          3,
          4,
          5,
          6,
          7,
          8,
          9,
          10,
          11,
          12,
          13,
          14,
          15,
          16,
          17,
          18,
          19,
          20,
          21,
          22,
          23
         ],
         "xaxis": "x",
         "y": [
          "Elec_PowerPlugsInstBA2",
          "Elec_PowerPlugsInstMudroomA",
          "Elec_PowerPlugsAttic",
          "Elec_PowerPlugsInstBR4A",
          "Elec_PowerPlugsBA2North",
          "Elec_PowerPlugsInstLRA",
          "Elec_PowerPlugsInstMBAB",
          "HourOfTimestamp",
          "Elec_PowerLightsAttic",
          "Elec_PowerPlugsDRB",
          "Elec_PowerPlugsInstBR2Hall",
          "Elec_PowerPlugsInstKitA",
          "Elec_PowerMakeUpAirDamper",
          "Elec_PowerPlugsKitPeninsula",
          "Elec_PowerPlugsInstBR3",
          "Elec_PowerPlugsGSHPInstrumentation",
          "Elec_PowerPlugsBR3",
          "Load_BR3PlugLoadsPowerUsage",
          "Elec_PowerPlugsInstDRA",
          "Elec_PowerPlugsKitRange",
          "Elec_PowerPlugsMBAEast",
          "Elec_PowerLightingControlPanelRPS2",
          "Elec_PowerPlugsKitSink",
          "Elec_PowerPlugsMBAWest",
          "Load_ClothesWasherPowerWithStandby",
          "Elec_PowerLightingControlPanelRPS1",
          "Elec_PowerLights1stFloorA",
          "Elec_PowerPlugsHVACInstrumentation",
          "Load_MBRPlugLoadsPowerUsage",
          "Elec_PowerPlugsMBR",
          "Elec_PowerChildADownstairs",
          "Elec_PowerChildBDownstairs",
          "Elec_PowerDishwasher",
          "Elec_PowerMicrowave",
          "Elec_PowerSpare2",
          "Load_MicrowavePowerWithStandby",
          "Load_2ndFloorLightsPowerUsage",
          "Elec_PowerLights2ndFloor",
          "Load_KPlugLoadsPowerUsage",
          "Elec_PowerParentADownstairs",
          "Elec_PowerLightsBasement",
          "Elec_PowerParentBDownstairs",
          "Elec_PowerLights1stFloorB",
          "Elec_PowerParentAUpstairs",
          "Elec_PowerParentBUpstairs",
          "Load_BR4PlugLoadsPowerUsage",
          "Elec_PowerGarbageDisposal",
          "Load_BR2PlugLoadsPowerUsage",
          "Elec_PowerPlugsBR2",
          "Elec_PowerDryer2of2",
          "Load_LRPlugLoadsPowerUsage",
          "Elec_PowerDryer1of2",
          "Load_LatentHeatPowerUsage",
          "Elec_PowerPlugsInstKitD",
          "Load_1stFloorLightsPowerUsage",
          "Elec_PowerChildBUpstairs",
          "DHW_SHWPumpsPowerWithStandby",
          "Elec_PowerChildAUpstairs",
          "Load_OvenPowerTotal",
          "Elec_PowerRefrigerator",
          "Elec_PowerPlugs2ndFloor",
          "Load_RefrigeratorPowerWithStandby",
          "Load_BasementPlugLoadsPowerUsage",
          "Elec_PowerHRV",
          "Load_DryerPowerTotal",
          "Elec_PowerHeatPumpWH2of2",
          "Load_1stFloorSensHeatPowerUsage",
          "Load_2ndFloorSensHeatPowerUsage",
          "DHW_HeatPumpWaterHeaterPowerTotal",
          "HVAC_HeatPumpIndoorUnitPower",
          "HVAC_HeatPumpOutdoorUnitPower"
         ],
         "yaxis": "y",
         "z": [
          [
           0.8758757011798534,
           0.9464808672125052,
           0.4550794243811305,
           0.0,
           0.1580717242656341,
           0.0525798392066465,
           0.022801900132656698,
           0.0101114766149865,
           0.0101011912326794,
           0.0103046566222197,
           0.0,
           0.0201501707590022,
           0.0199087274218284,
           0.0100878238814018,
           0.0,
           0.0201488349406587,
           0.0,
           0.0103214007007835,
           0.0099338396641512,
           0.0101923738928803,
           0.0200471889698444,
           0.0,
           0.4502277131808006,
           0.9449146888902115
          ],
          [
           0.5597908116952217,
           0.6138140869271818,
           0.5875489203123011,
           0.5115511300308364,
           0.5702180197946705,
           0.1895960240847234,
           0.08222050724693081,
           0.0363716634244508,
           0.0363850539539599,
           0.0372834873707996,
           0.0,
           0.0721468914813202,
           0.0716360372228103,
           0.3755746497224809,
           0.0081227564458119,
           0.2111146663360438,
           0.0,
           0.0368282016529921,
           0.0369354314743496,
           0.0366524196070956,
           0.5756394587555831,
           0.5049736752348432,
           0.505875573825028,
           0.6202657404230555
          ],
          [
           0.0,
           0.0,
           12.36900410409701,
           3.778955475758698,
           0.0,
           0.0,
           0.0,
           0.0,
           0.0,
           0.0,
           0.0,
           0.0,
           0.0,
           0.0,
           0.0,
           0.0,
           0.0,
           0.0,
           0.0,
           0.0,
           0.0,
           0.0,
           0.0,
           0.0
          ],
          [
           0.0,
           0.0,
           0.0,
           0.0,
           0.0,
           0.0,
           0.0,
           0.0,
           0.0,
           0.0,
           0.0,
           0.0,
           0.0,
           3.850074036916097,
           13.218293603261312,
           10.468561665217084,
           10.77081693013509,
           0.0,
           0.6682995796203614,
           16.074841594696046,
           7.45345500310262,
           0.0,
           0.0,
           0.0
          ],
          [
           0.0068980753421783,
           0.0,
           0.0023211291280843,
           0.0,
           0.0,
           0.0,
           0.0,
           0.0,
           0.0,
           0.0,
           0.0,
           0.0,
           0.0,
           116.1128209431966,
           0.0046131898791103,
           0.0023408231593794,
           0.0,
           0.0,
           0.0022831725872169,
           0.0,
           0.0,
           0.0,
           0.0023200229062872,
           0.0
          ],
          [
           0.0371462706735158,
           0.11400700410363379,
           0.0760339434265983,
           0.0,
           0.5951634772478864,
           0.19781196724095967,
           0.0857783571425218,
           0.037954175431221,
           0.038001220847461,
           0.0384818712387628,
           0.0,
           0.0750465923700703,
           0.0752618265976652,
           0.6876201653246086,
           0.0,
           18.850808037190678,
           28.52458931605021,
           0.5106718162641992,
           2.8814549999865706,
           8.018675027103464,
           41.78293015988095,
           16.12847728729248,
           0.0,
           0.1165349290589284
          ],
          [
           30.87496051714245,
           0.485845736527847,
           0.4745591899095955,
           0.4817270040512085,
           0.0,
           0.0,
           0.0,
           0.0,
           0.0,
           0.0,
           0.0,
           0.0,
           0.0,
           0.4843695759773254,
           0.4696483561548136,
           0.4683695021322218,
           0.4846459824149891,
           60.4011275810037,
           77.44762136239115,
           2.6270787812558942,
           0.4831753302428682,
           0.4833084658040839,
           0.4755820101600582,
           0.4847262567382748
          ],
          [
           0.0,
           1.0,
           2.0,
           3.0,
           4.0,
           5.0,
           6.0,
           7.0,
           8.0,
           9.0,
           10.0,
           11.0,
           12.0,
           13.0,
           14.0,
           15.0,
           16.0,
           17.0,
           18.0,
           19.0,
           20.0,
           21.0,
           22.0,
           23.0
          ],
          [
           56.97551572120796,
           97.72451439550368,
           89.94074666729081,
           166.94260096145888,
           4.150275666834944,
           0.0,
           0.0,
           0.0,
           0.0,
           0.0,
           0.0,
           0.0,
           0.0,
           24.33317870591816,
           1.4845304327496027,
           1.459397293753543,
           1.4892490415249842,
           11.381394635890162,
           10.942897441827157,
           1.7244126771129453,
           3.058027684755918,
           0.0744551945540864,
           10.864753430711348,
           2.70736083984375
          ],
          [
           7.977786484322128,
           7.607601108601642,
           7.595191593876089,
           7.314827737405891,
           7.298609753301219,
           7.159510292865657,
           7.261024029653906,
           7.27529364356512,
           7.288609992986582,
           7.2989336046391236,
           6.895741023261355,
           7.468636896207897,
           112.46359195710367,
           316.74758041037785,
           303.1510606192854,
           175.004957602448,
           61.3823642087967,
           85.09006604833101,
           32.9813223420313,
           7.4247161372088435,
           7.221074306766706,
           7.427801418265445,
           7.426988557836354,
           7.623127616569174
          ],
          [
           0.10845672852468649,
           0.1888217162387697,
           0.1488719806462833,
           0.0738168079406023,
           0.5886269305777717,
           0.1955007949569796,
           0.0848803899728665,
           0.0374903205978119,
           0.0378224298206843,
           0.0384951995914288,
           0.0,
           0.0739734163385021,
           0.0741343044368083,
           0.2655876500023932,
           262.8990850465278,
           724.8932559771279,
           626.2020802548959,
           196.9525294761138,
           173.56987120885785,
           54.62730234335782,
           0.1484538252070126,
           0.0744059282844349,
           0.0730109932058948,
           0.18953393124385498
          ],
          [
           106.96828980855412,
           106.917355096443,
           106.9306883652427,
           106.80722886214899,
           106.86388182062858,
           106.82393109705981,
           106.58965304734191,
           106.69990912120325,
           106.64638388965253,
           106.55479868123804,
           106.80755707422892,
           104.38215160587276,
           84.86049186705293,
           74.06086323185448,
           105.27930243395396,
           98.26672558307672,
           73.595748638408,
           73.53761891937961,
           78.63841752117456,
           103.4825680169736,
           125.43048134617649,
           124.23296738383965,
           118.73985584317208,
           107.26475863463494
          ],
          [
           256.55295485655466,
           200.1020608738991,
           42.934574992239135,
           42.84941265744678,
           1.0570656647116452,
           1.922747755050659,
           3.7610335826873786,
           0.7423197507858277,
           0.0,
           0.0,
           0.0833392779032389,
           3.5068364381790156,
           204.3406723022461,
           117.50358655452729,
           5.456480526924134,
           0.8677964210510254,
           572.0713513215383,
           423.9350744247437,
           68.42898132403691,
           484.8438742410941,
           268.77085016568503,
           1.3869014898935954,
           639.2706834184248,
           447.98805350749217
          ],
          [
           219.65928669911995,
           0.6192323151281325,
           0.3211368090015347,
           0.0,
           0.0,
           0.0,
           24.15190086364746,
           0.0,
           0.0,
           0.0,
           0.0,
           0.0,
           0.0,
           0.0,
           0.0,
           0.0,
           0.0,
           0.0,
           0.0,
           0.0,
           0.0,
           0.0,
           2425.958099142441,
           1720.1599276179802
          ],
          [
           192.41024236764122,
           194.51083174988185,
           195.0364017599125,
           194.73342564900716,
           195.0453150807108,
           195.38936175242844,
           195.2516658694725,
           195.05211946636203,
           194.3592868186142,
           193.70695756397902,
           192.94691864649454,
           193.13327100066118,
           192.7021073487748,
           192.13185472668502,
           247.9703252223776,
           416.92149798933895,
           343.1252167663877,
           218.31922960425229,
           240.81653608175708,
           223.62812953753325,
           193.71212290823036,
           193.0057104110718,
           193.99021898905437,
           193.7164343426222
          ],
          [
           398.560691749074,
           401.3512779317753,
           405.0436663059261,
           392.6659775742488,
           403.0804418320171,
           397.61785958294314,
           378.43266700242197,
           374.5230448884884,
           358.5563969634519,
           353.37096035916375,
           356.6080242142003,
           380.3886829499574,
           631.6616906475253,
           711.8221145127123,
           1371.9878571642137,
           793.5841649127232,
           525.8496124373412,
           929.3117948185237,
           1784.0276349082487,
           1336.1957145627975,
           1152.6548665632838,
           674.5024485009685,
           409.0916342376974,
           398.469233693523
          ],
          [
           6555.556573374027,
           1561.2011261287382,
           194.80272622512558,
           193.92135074639077,
           214.77614325183933,
           221.999596118927,
           271.2530961354573,
           256.104446442922,
           215.02972443898517,
           213.5999679883321,
           213.1458367029826,
           215.13528019587199,
           215.1492722829183,
           215.47084194819132,
           215.45217080547312,
           215.42974039969474,
           215.21565360154136,
           214.85856904384107,
           193.87936854086354,
           193.73742580984367,
           193.4360491197724,
           204.99981328838234,
           4660.5240840183815,
           9778.799946940186
          ],
          [
           6555.556573374027,
           1561.2011261287382,
           194.80272622512558,
           193.92135074639077,
           214.77614325183933,
           221.999596118927,
           271.2530961354573,
           256.104446442922,
           215.02972443898517,
           213.5999679883321,
           213.1458367029826,
           215.13528019587199,
           215.1492722829183,
           215.47084194819132,
           215.45217080547312,
           215.42974039969474,
           215.21565360154136,
           214.85856904384107,
           193.87936854086354,
           193.73742580984367,
           193.4360491197724,
           204.99981328838234,
           4660.5240840183815,
           9778.799946940186
          ],
          [
           1117.4929499638793,
           1121.691432960677,
           1127.078433895686,
           1132.1381840689708,
           1135.5576637255974,
           1137.5402253239124,
           1137.3155599197485,
           1137.1050048722188,
           1136.3305943072155,
           1133.265647109662,
           1127.3492415746052,
           1159.2317706553615,
           1206.275803424076,
           1684.4459235043646,
           1828.0456096519956,
           1509.1942680125676,
           1244.0133094327455,
           1314.0033016453642,
           1235.809804229799,
           1157.1289569681799,
           1161.103654750842,
           1110.9475862503052,
           1112.8287418365478,
           1117.180737306287
          ],
          [
           310.1659803072612,
           0.0,
           0.0,
           0.0,
           0.0,
           10.289946111043294,
           20.242128213246666,
           3.978545157114665,
           0.0,
           0.0,
           16081.302612980076,
           8650.640446980795,
           1248.516650613149,
           6723.463712215424,
           3392.787883758545,
           0.0,
           1270.0153111775717,
           626.9858495712281,
           0.0,
           0.0,
           16.982300790150962,
           99.31300576527912,
           3923.2448162817013,
           2475.7431338049673
          ],
          [
           0.0,
           0.0,
           0.0,
           0.0,
           0.0,
           0.0,
           0.0,
           0.0,
           0.0,
           0.0,
           20992.383252586824,
           11243.964319864908,
           0.0,
           0.0,
           8184.091122436524,
           4557.302688315136,
           0.0,
           0.0,
           0.0,
           0.0,
           0.0,
           125.07755228678386,
           0.0,
           0.0
          ],
          [
           2207.4312926364855,
           2215.195734874927,
           2224.01819212531,
           2242.8976739817545,
           2272.4130705181738,
           2270.5370818090964,
           2252.7031441383433,
           2250.580069924838,
           2233.958743041748,
           2225.557366017519,
           2222.557204520665,
           2207.0698661268066,
           2228.432767985741,
           2220.4739344293653,
           2221.560528893951,
           2233.2278997340195,
           2241.0745271390406,
           2229.76513564621,
           2205.3828769314428,
           2199.023833521494,
           2210.092941537942,
           2218.6643478739184,
           2221.578229853512,
           2212.017787237448
          ],
          [
           0.0,
           0.0,
           0.0,
           0.0,
           0.0,
           0.0,
           0.0,
           0.0,
           0.0,
           0.0,
           21573.39286062105,
           11535.538764953613,
           2586.962457784017,
           13619.31449063619,
           10449.445359802246,
           2080.8787538976617,
           0.0,
           0.0,
           0.0,
           0.0,
           0.0,
           128.3693054199219,
           0.0,
           0.0
          ],
          [
           2623.406955465072,
           2618.850152039528,
           2618.429750172297,
           2615.9738732281576,
           2594.2662193068077,
           2584.544034039765,
           2593.7919350492875,
           2592.97975554328,
           2591.8542178641496,
           2591.357113949458,
           2619.941415181011,
           2620.134078507215,
           2619.036197411313,
           2614.7978788252017,
           2612.9970929269584,
           2609.4199117209064,
           2611.119874302546,
           2609.552123987958,
           2604.7402939757358,
           2600.83812954438,
           2612.953569458008,
           2612.0626399627376,
           2642.680631479195,
           2643.4689782145
          ],
          [
           5763.806867111412,
           4815.321288723347,
           2448.8118735276266,
           1097.7603539054355,
           1064.4670729434936,
           1064.9710227118637,
           1060.8479999999993,
           1060.8479999999993,
           1060.8479999999993,
           1060.8479999999993,
           1060.8479999999993,
           1060.8479999999993,
           1079.743067604611,
           1066.7415999999992,
           1328.0833194689235,
           11086.758889207458,
           6947.92080834156,
           1067.502384452107,
           6214.540407943852,
           8695.290665256465,
           3911.5354711777754,
           1058.4947999999993,
           3745.0638008828223,
           5201.790813478297
          ],
          [
           3238.1734941091995,
           3257.076483600963,
           3263.69552664619,
           3301.197592523631,
           3353.9574258472408,
           3351.7566475555263,
           3330.0639759838837,
           3324.3916974512827,
           3305.4599068795906,
           3296.0827544434046,
           3246.086842284917,
           3246.424513540423,
           3302.6522089262785,
           3323.202301685485,
           3344.0555314958465,
           3354.576139178375,
           3357.7943158725534,
           3362.931538727284,
           3353.777202356283,
           3348.889300958549,
           3357.06341153343,
           3350.591252657383,
           3283.8846856867895,
           3238.5424166541484
          ],
          [
           15854.047948761347,
           17053.584649837285,
           14205.61236723473,
           6334.002595374822,
           1087.4050794127297,
           103.02633323669433,
           119.31409997940062,
           132.94956973393758,
           158.5023267110189,
           201.90726550420126,
           163.68326272964478,
           204.29220345815023,
           3902.8461039347844,
           2078.8922204915275,
           0.0,
           0.0,
           0.7117546717325847,
           0.0,
           11.35914716720581,
           0.0,
           0.0,
           110.11440626999428,
           6556.545619916666,
           12294.10454022179
          ],
          [
           3421.723355488693,
           3422.091334615548,
           3415.303070885565,
           3408.8272351460428,
           3485.6173904188413,
           3503.0461439778305,
           3398.743071531322,
           3399.199666449466,
           3396.1594200738527,
           3395.3328017892645,
           3398.6556948063153,
           3408.4596145469022,
           3346.6671837853823,
           3286.9394612856936,
           3310.8398186739832,
           3367.7945522913174,
           3357.87350663984,
           3388.52032210002,
           3328.141497838867,
           3350.152181093744,
           3401.12392065607,
           3437.7847847167427,
           3444.993015498091,
           3430.4008283182106
          ],
          [
           0.5377714765273919,
           144.4613838027426,
           8717.376665046591,
           11055.159715670747,
           3682.5999892567015,
           296.542408276942,
           216.21671244303383,
           0.0,
           0.0,
           21.59691416422526,
           5649.909345025964,
           3130.5646373112995,
           8.397387250264487,
           0.0,
           0.0,
           0.0,
           0.0,
           0.0,
           16210.556926472982,
           9108.344293212891,
           0.0,
           449.7692017101851,
           16090.169864010542,
           8953.970129344625
          ],
          [
           0.5377714765273919,
           144.4613838027426,
           8717.376665046591,
           11061.858114064982,
           3684.2052378883754,
           296.542408276942,
           216.21671244303383,
           0.0,
           0.0,
           21.59691416422526,
           5649.909345025964,
           3130.5646373112995,
           8.397387250264487,
           0.0,
           0.0,
           0.0,
           0.0,
           0.0,
           16210.556926472982,
           9108.344293212891,
           0.0,
           449.7692017101851,
           16090.169864010542,
           8953.970129344625
          ],
          [
           8360.375610594025,
           7218.054715147096,
           7136.904955492574,
           2526.0581222537307,
           31.916071418051878,
           112.0759090423584,
           0.0,
           48.97948354085286,
           53.91594009399414,
           69.99521923065186,
           173.65529747009276,
           11475.105404356971,
           6273.125078324859,
           3386.2934551376593,
           6343.50780753499,
           2506.111960954295,
           48.53441164428661,
           4527.065087968824,
           4766.722735844602,
           1340.1770879583519,
           2373.573064646447,
           5841.945190470523,
           4862.299169431118,
           8394.421219219834
          ],
          [
           8360.223485846705,
           7058.947840370035,
           2591.048311286374,
           69.60726133982341,
           135.65448926289878,
           121.99601078033447,
           20.51842543284098,
           48.399422073364256,
           53.149756304423015,
           53.53786513010661,
           119.81852836608887,
           11363.54021811222,
           6382.93870075177,
           3358.163825430395,
           1902.031147558991,
           7.146769254659978,
           43.931451606750485,
           4462.2226278774115,
           6988.848787051666,
           6982.895570606227,
           6962.278164243398,
           7105.101449537151,
           9339.032684896796,
           10862.030219944781
          ],
          [
           6285.922452571062,
           55927.97507884987,
           32067.442628037054,
           901.2408974320406,
           20.240533900126223,
           0.0,
           0.0,
           0.0,
           135.9499883095423,
           551.635130683581,
           11.13865909576416,
           0.0,
           0.0,
           0.4810232619444529,
           0.4606190207651106,
           0.4503908253322213,
           0.4525655210018158,
           0.4515761005676398,
           0.457240814374665,
           0.4525462515273337,
           0.463930224463091,
           0.462383900658559,
           0.4508445768033043,
           0.4602399316884704
          ],
          [
           57.18950500488281,
           0.0,
           0.0,
           0.0,
           0.0,
           60.084310913085936,
           116.95023905436196,
           0.0,
           0.0,
           210.36820271809896,
           25163.401659782077,
           15692.46908976237,
           5.884426146966439,
           9988.802106396357,
           6379.437424198786,
           0.0,
           9985.445819409688,
           6517.402275276184,
           0.0,
           0.0,
           0.0,
           175.59920145670574,
           30037.094607361832,
           19231.039589136675
          ],
          [
           5344.604621512773,
           5341.219886843363,
           5340.721685584386,
           5339.416712893361,
           5299.985371955529,
           5281.951370787518,
           5300.824816101979,
           5300.318858999481,
           5300.1710714312785,
           5300.375504906972,
           5302.601566633631,
           5306.702103967615,
           5331.571955894645,
           5308.22646892768,
           5304.0116171438185,
           5302.616145096414,
           5306.6049093723295,
           5308.477950384619,
           5317.763393674379,
           5304.342661205043,
           5320.712297336663,
           5320.709843242102,
           5354.6245912813,
           5355.323921817389
          ],
          [
           534.9855050048826,
           477.83999999999963,
           477.83999999999963,
           477.37799999999964,
           476.8211403167543,
           537.0871922690178,
           592.0622390543613,
           475.19999999999965,
           475.19999999999965,
           685.4142027180985,
           25619.595823716463,
           16155.921089762345,
           483.39442614696605,
           10459.052106396346,
           6852.239424198779,
           477.83999999999963,
           10455.739819409677,
           6990.615513150526,
           476.51999999999964,
           475.19999999999965,
           476.51999999999964,
           651.9872014567051,
           30492.38237007366,
           19694.53775307108
          ],
          [
           20530.01256444573,
           13921.157354040906,
           17286.653632755904,
           11262.553902743322,
           2205.679045934694,
           60.574124806168335,
           174.44242270787555,
           997.897654027105,
           1082.1207245525834,
           578.4981734421061,
           13180.167227041526,
           7193.598772890581,
           1751.78688685894,
           1199.63966431197,
           3450.760164674123,
           1849.3598423217816,
           423.8425986289978,
           276.2510646820068,
           752.002522945404,
           474.014558728536,
           1473.5393476938798,
           3542.0666372470982,
           17583.415504489665,
           23043.8016519188
          ],
          [
           20530.01256444573,
           13921.157354040906,
           17286.653632755904,
           11265.261340641839,
           2206.0493735954215,
           60.574124806168335,
           174.44242270787555,
           997.897654027105,
           1082.1207245525834,
           578.4981734421061,
           13180.167227041526,
           7193.598772890581,
           1751.78688685894,
           1199.63966431197,
           3450.760164674123,
           1849.3598423217816,
           423.8425986289978,
           276.2510646820068,
           752.002522945404,
           474.014558728536,
           1473.5393476938798,
           3542.0666372470982,
           17583.415504489665,
           23043.8016519188
          ],
          [
           822.814933673047,
           295.6292323151282,
           295.68503511408636,
           295.44300000000004,
           296.2070720149537,
           306.6205845291225,
           339.3926957435608,
           299.1718784904481,
           295.20000000000005,
           295.20000000000005,
           65494.3780527667,
           37859.74969991046,
           4222.016214923858,
           31679.621436646765,
           21469.075644276923,
           2377.7187538976596,
           2717.5162030232714,
           921.6958495712267,
           294.9100000000001,
           294.0900000000001,
           351.84826412836713,
           647.5665347162881,
           9640.056112574242,
           4475.149236286332
          ],
          [
           22985.00010449702,
           24825.317709998217,
           19477.068982270648,
           8145.046052490484,
           1438.1286237720983,
           112.0516798655192,
           49.53084284464519,
           70.40342178344727,
           121.10534210205078,
           140.6615821202596,
           5998.8123062338545,
           14849.407425789866,
           15606.108261001358,
           9657.024855035801,
           2563.6108308830203,
           7.538076904284485,
           2300.4240295745576,
           5795.897380131016,
           6039.1625175712115,
           6513.656587048934,
           7187.30057552741,
           7141.060507626617,
           9705.06366178798,
           17890.39761154843
          ],
          [
           1776.402829996745,
           2090.159863026937,
           1813.8204783121744,
           1778.8081330416496,
           1777.6562362929521,
           1777.08032704585,
           1777.9309074401856,
           1777.9565686543783,
           1778.9133756001788,
           2086.419954883093,
           2385.421617459448,
           4540.918024980468,
           9034.322665770747,
           18612.90427975665,
           22494.394718980984,
           16387.488903608002,
           8793.100112025048,
           11957.382073045848,
           24706.67986366904,
           22386.2165287268,
           18185.109609880932,
           7878.665178963558,
           2508.3978340925437,
           1792.540909075302
          ],
          [
           26123.01109376086,
           26086.022289019493,
           14138.542327080873,
           5032.67487996118,
           1378.944131717775,
           120.8311264038086,
           82.58871847788492,
           135.43981742858887,
           134.91179745992025,
           239.28601850093096,
           5948.560277322339,
           15071.151327062698,
           15949.543784303054,
           9935.86903306196,
           2728.2434943537005,
           4666.92022220649,
           7328.372042132726,
           7404.29798762932,
           5118.674918185888,
           1471.4257353242162,
           216.21667001153116,
           4851.464450257817,
           16875.149087292655,
           24652.910853257556
          ],
          [
           28857.40106204257,
           29028.46773476466,
           22720.408136027814,
           9641.406006129399,
           1692.082124090464,
           139.4686345418294,
           178.33851165771486,
           303.0874339739482,
           281.7788993199666,
           423.2513986784836,
           13790.678481331288,
           26593.149476623534,
           20380.115510867417,
           11990.76077225108,
           3821.2881816228232,
           254.39380026358725,
           107.18821264902752,
           110.93368059794108,
           196.9829677581787,
           144.02515543182065,
           438.3612024339579,
           531.8562469722094,
           8664.911823240378,
           24760.03976604698
          ],
          [
           1134.8759802895768,
           648.9716438457539,
           5998.162656792208,
           16745.915231445695,
           22359.982365319724,
           24033.794578211484,
           24450.304805797834,
           24467.819609713155,
           24504.206618034277,
           24541.147658731767,
           18897.799998082497,
           10302.301450379628,
           3804.307146317827,
           806.9537055617486,
           134.37749271392823,
           134.31255989074708,
           134.36917362213134,
           160.02281322479246,
           1284.7574172353982,
           805.0686257374772,
           68.09795640309652,
           199.65495933006548,
           6947.8024963952275,
           3859.296513341387
          ],
          [
           65.35008687308775,
           192.17687420845033,
           11590.811686455485,
           19721.316647640633,
           22181.47678868377,
           23873.999886636306,
           24318.78639760795,
           24283.030571141662,
           24300.611110581493,
           24240.536245469604,
           19034.221222131644,
           10272.782148488075,
           3784.5715478455454,
           868.5621918191558,
           4690.793862736038,
           2722.045926507862,
           214.0354694071023,
           197.31677111014025,
           173.41949275030143,
           101.93809088562708,
           1.1154128392537437,
           33.38916099735948,
           2370.4912365932078,
           1317.4929680996365
          ],
          [
           25920.659084544975,
           22726.147085704266,
           14447.210686975037,
           2372.816531346639,
           87.2884885152181,
           513.4622917811075,
           627.8273647308349,
           63.74180857340495,
           0.0,
           0.0,
           0.0,
           0.0,
           2888.8844163894655,
           7281.973052851359,
           8874.772357304892,
           8903.153032697875,
           8902.307387423198,
           8898.54631535848,
           8915.570604934692,
           8907.188990122477,
           8957.743281593323,
           17902.92595893839,
           37004.205405782064,
           36028.69663140431
          ],
          [
           7345.961268034745,
           0.0,
           0.0012371042522333,
           0.0,
           0.0,
           275.0871317545573,
           455.78275299072266,
           62.88960416316986,
           0.0,
           0.0,
           0.0,
           0.0,
           26535.01913197835,
           14766.843567148844,
           0.0024743376899573,
           0.0012635630318673,
           26506.208065684637,
           14653.073567398389,
           0.00122472492315,
           0.0,
           410.7013514200846,
           195.86244201660156,
           82926.5026983738,
           57085.1709364637
          ],
          [
           18633.069215770698,
           17164.28083071133,
           10963.608389330735,
           7869.829838813659,
           7877.820663904338,
           7885.9942998607485,
           7903.450139596884,
           7885.1208197745655,
           7865.121097250838,
           7861.807370581024,
           7837.898841991841,
           7861.406211516375,
           7908.746423737416,
           7892.8058635216585,
           7910.6586084689125,
           10072.756523218311,
           11262.492089790017,
           9096.115394454402,
           7851.824542697232,
           7829.2719387959705,
           7846.688914579926,
           7852.479530245548,
           12394.215925731147,
           17643.35008613627
          ],
          [
           18633.069215770698,
           17164.28083071133,
           10963.608389330735,
           7876.23193257115,
           7914.988462784352,
           7899.578054882315,
           7903.450139596884,
           7885.1208197745655,
           7865.121097250838,
           7861.807370581024,
           7837.898841991841,
           7861.406211516375,
           7908.746423737416,
           7892.8058635216585,
           7910.6586084689125,
           10072.756523218311,
           11262.492089790017,
           9096.115394454402,
           7851.824542697232,
           7829.2719387959705,
           7846.688914579926,
           7852.479530245548,
           12394.215925731147,
           17643.35008613627
          ],
          [
           30897.933108622234,
           18329.19507045681,
           1318.041069132487,
           254.0421748860677,
           0.0,
           0.0,
           0.0,
           0.0,
           0.0,
           0.0,
           0.0,
           0.0,
           0.0,
           0.0,
           0.0,
           0.0,
           57916.32278678386,
           35934.402247212725,
           2835.2623512649534,
           58876.23405555725,
           33539.27318430583,
           -1.1099999999999997,
           -1.1099999999999997,
           -1.1099999999999997
          ],
          [
           21940.235618283972,
           17480.300892884745,
           13076.534479474643,
           8514.117034754134,
           5950.3873639079175,
           5350.144343862156,
           5222.841724046071,
           5226.352372487386,
           5255.894193585714,
           5251.99126291275,
           9386.175104720214,
           15552.734361076355,
           15103.291266968463,
           12232.791470477798,
           11816.874675391646,
           7708.522149678006,
           5213.1998511233805,
           5214.317558098809,
           5198.550033607483,
           9669.005404315221,
           9933.145152927022,
           6438.8088508956025,
           15498.78657106056,
           23052.39919126387
          ],
          [
           34967.438935111364,
           21598.61951166401,
           1891.3734648132324,
           328.4612635040283,
           0.0,
           0.0,
           0.0,
           0.0,
           0.0,
           0.0,
           0.0,
           0.36927902301152543,
           0.2777289152145386,
           0.0892678221066792,
           0.6066686471303303,
           0.1725775996843973,
           65400.26946145661,
           42233.196882135075,
           4243.541767245929,
           68805.5260419532,
           38861.633466186526,
           -1.1099999999999997,
           -0.9234879628817237,
           -1.1099999999999997
          ],
          [
           15468.455298982653,
           15468.658265518701,
           15558.47889625581,
           15440.211995299927,
           14888.541693052286,
           15237.289950899272,
           15584.158837326422,
           15565.32468948165,
           15543.729437042577,
           15517.717741958093,
           15454.303752541726,
           15350.470236171652,
           11913.49011854034,
           6487.805585894319,
           4468.175666898157,
           4403.427367018121,
           4396.68086728206,
           4453.952185006974,
           4446.705654033568,
           4513.538120951285,
           11510.646066009054,
           15364.008008652847,
           15388.371313919852,
           15431.824063008557
          ],
          [
           15468.455298982653,
           15468.658265518701,
           15558.47889625581,
           15453.503852902244,
           14963.60330690714,
           15263.578829128382,
           15584.158837326422,
           15565.32468948165,
           15543.729437042577,
           15517.717741958093,
           15454.303752541726,
           15350.470236171652,
           11913.49011854034,
           6487.805585894319,
           4468.175666898157,
           4403.427367018121,
           4396.68086728206,
           4453.952185006974,
           4446.705654033568,
           4513.538120951285,
           11510.646066009054,
           15364.008008652847,
           15388.371313919852,
           15431.824063008557
          ],
          [
           44803.17944360607,
           46189.48202580106,
           37019.61140266471,
           16062.668143180557,
           2866.457858258587,
           334.17082749194344,
           389.3233783404032,
           527.6850882848104,
           531.8996847788493,
           732.3938692575214,
           14055.246376251001,
           26935.182360045113,
           24494.093160695553,
           14760.675912188519,
           4596.391843910495,
           857.2179756043906,
           440.1500823656718,
           517.0151309808095,
           997.8665654050113,
           1005.9485456282954,
           1180.5468576396252,
           966.6326483246123,
           15326.326317565137,
           37146.17503969518
          ],
          [
           17233.187320732173,
           18537.744862290347,
           23271.109304394413,
           25488.611291893863,
           24520.480909833164,
           25005.93994327453,
           25536.844816497414,
           25470.464475574674,
           25360.865830933973,
           25311.832709891027,
           25283.58304563333,
           13831.936710928934,
           7345.825143438561,
           2911.23451314137,
           150.36560105037697,
           144.16087964375816,
           2474.1170810094513,
           1465.3642870257738,
           179.15436650036577,
           159.90150858561196,
           128.3200976053874,
           92.24381014401796,
           9741.931225098131,
           14571.016261620316
          ],
          [
           1763.5307106678003,
           1439.599285046897,
           1257.9001242249824,
           1230.2404442125974,
           1232.969450991573,
           1233.8741334294696,
           1229.1732277615881,
           1229.1580256366747,
           1229.160301087699,
           1229.154214611055,
           1229.2000928783434,
           1229.175976696016,
           4520.20389531016,
           19375.8435534201,
           34938.91833223093,
           41712.00416949546,
           44310.801113487076,
           44395.3773915425,
           41534.462449332554,
           37628.01463374255,
           24564.185712404123,
           6062.490998385497,
           2726.3388558095307,
           2029.7530016224011
          ],
          [
           14921.728460849734,
           17238.720775201065,
           17871.11441350184,
           21999.05916925448,
           23561.2068436862,
           24046.572385544867,
           24562.537111457546,
           24469.92940686166,
           24479.315349573124,
           24513.163257432978,
           24468.3018308498,
           13358.639982592016,
           7177.856177406907,
           3801.298125050923,
           807.4272284151535,
           4653.766109162139,
           7078.93238052925,
           2616.386489404581,
           174.10287481220055,
           171.1024937018293,
           2542.6555338479725,
           6081.968857204417,
           16446.27153474938,
           15484.221118769894
          ],
          [
           40610.05803921,
           22389.66094970703,
           8393.198060185316,
           3254.85,
           3251.053229432418,
           3252.592372881356,
           3924.2288106282554,
           3639.540717569987,
           3580.6564025878906,
           3521.5050771077476,
           3240.0,
           3240.0,
           66185.29338563283,
           75726.85453241666,
           49799.090198788734,
           17492.50686707576,
           3258.0,
           3258.0,
           3248.924918237758,
           3240.0,
           4322.38403600057,
           3778.7099131266277,
           4669.565225463482,
           40375.76818172689
          ],
          [
           16197.745342352342,
           15853.311315877627,
           15846.35254995237,
           15825.392286845017,
           15930.787509244363,
           15951.421321757323,
           15970.935162250944,
           15943.362716077852,
           15606.715952248054,
           15038.817592978477,
           15528.384706678607,
           15225.63825536582,
           15529.637254740963,
           16184.368823054849,
           15883.031789016357,
           16269.388996459316,
           16090.924505470119,
           16976.316089324515,
           16045.470299744458,
           16432.787235728094,
           16103.807152036095,
           16167.372198029743,
           16121.481322043071,
           15620.025249731969
          ],
          [
           16833.020709421846,
           16849.113009780274,
           16840.34860492647,
           16821.621453718726,
           16913.231471034207,
           16857.012403477172,
           16755.162137174037,
           16733.81822196403,
           16694.165773683515,
           16694.18182823795,
           16714.44832638537,
           16777.38513479858,
           16886.755098931513,
           16842.89384353251,
           16834.503238333884,
           16842.751610827054,
           16841.931143038513,
           16838.748690747474,
           16805.593790524494,
           16748.072145178754,
           16765.382832663818,
           16747.258408120626,
           16770.83212628986,
           16817.618476347354
          ],
          [
           17491.617404499222,
           17141.793293278744,
           17152.129922833716,
           17104.13634059201,
           17008.50149898435,
           17141.29401160196,
           17266.935585403244,
           17235.13107765976,
           16905.067804003604,
           16355.719949300306,
           16828.20723541423,
           16532.1029140267,
           16748.242711739356,
           17470.641833285397,
           17182.881616602554,
           17557.377087627396,
           17384.539094214695,
           18245.18931480511,
           17333.89550711722,
           17706.92351199061,
           17385.54786626796,
           17451.808558615074,
           17414.827790969615,
           16925.891520918398
          ],
          [
           21512.98843873027,
           21494.207050416146,
           21526.752414406747,
           21504.320770207134,
           21334.78483493655,
           21365.333808003106,
           21442.578615636376,
           21422.551669584867,
           21368.78832471661,
           21341.249602553213,
           21347.02836320005,
           21379.77198315696,
           21452.449820416998,
           21561.090152836518,
           21661.590908525643,
           21523.691665107326,
           21373.957553231598,
           21462.589495605243,
           21806.02067333318,
           21474.83894627337,
           21627.38970141367,
           21466.655606399196,
           21483.184919754527,
           21481.652321876183
          ],
          [
           21686.47715235325,
           21582.089139958895,
           21600.702171544333,
           21491.24446560258,
           21672.381846932076,
           21673.264898798298,
           21525.426833489488,
           21580.192835477552,
           21613.578553029904,
           21633.29309689245,
           21690.64775578595,
           21617.116710016897,
           21623.20741404583,
           21544.764524885475,
           21530.57880165292,
           21463.58451774332,
           21411.40101407077,
           21402.945328100996,
           21346.986295690203,
           21314.148807207042,
           21376.08510438913,
           21374.196913771753,
           21585.587624925756,
           21745.22559100448
          ],
          [
           65865.3720437336,
           39927.814582120816,
           3209.4145339457195,
           582.503438390096,
           0.0,
           0.0,
           0.0,
           0.0,
           0.0,
           0.0,
           0.0,
           0.36927902301152543,
           0.2777289152145386,
           0.0892678221066792,
           0.6066686471303303,
           0.1725775996843973,
           123316.59224824047,
           78167.5991293478,
           7078.804118510882,
           127681.76009751044,
           72400.90665049235,
           -2.2199999999999998,
           -2.0334879628817237,
           -2.2199999999999998
          ],
          [
           28491.148060919128,
           37851.90115308553,
           38350.733603489214,
           29389.30851074454,
           6622.153887937521,
           3421.9508938114755,
           2245.302462673187,
           3769.1892935434976,
           4463.9646242141725,
           9183.16798693339,
           40568.46402114545,
           57460.494784704846,
           49685.37285145217,
           33224.52412298265,
           21469.951575080573,
           12931.981679224045,
           10197.66949030688,
           23881.88191744981,
           21396.978392169447,
           15871.0697015358,
           12759.914722171517,
           10170.184073863755,
           22268.661249869827,
           34139.14821270957
          ],
          [
           65828.6102946986,
           65188.342554534844,
           43343.56457613047,
           15770.216367169523,
           2984.6433161708237,
           466.9547260920207,
           152.63798675537112,
           303.22214482625327,
           363.0828359603882,
           503.48068498194897,
           12240.846409392376,
           52759.20437532176,
           44211.71582438104,
           26337.351168665813,
           13537.393280330702,
           7187.717029319729,
           9721.26193495832,
           22189.48308360657,
           22913.408958653366,
           16308.154980937728,
           16739.368474428786,
           24939.571597892107,
           40781.54460340855,
           61799.759903970604
          ],
          [
           33355.14184874457,
           36617.61415554561,
           58731.19806114395,
           83878.68170294687,
           92169.25801584632,
           96797.01941344645,
           98868.47313136075,
           98691.24406329116,
           98644.99890912286,
           98606.67987152538,
           87683.90609669728,
           47765.66029238865,
           22112.56001500884,
           8388.048535573198,
           5782.964184915497,
           7654.285475204507,
           9901.454104567934,
           4439.090360765288,
           1811.434151298266,
           1238.0107189105456,
           2740.18900069571,
           6407.25678767586,
           35506.49649283595,
           35232.02686183123
          ],
          [
           58982.09982045821,
           77609.39437396763,
           78521.88072110267,
           60749.28498964519,
           15487.045226534074,
           9244.310160332325,
           6937.8629253463705,
           9960.03258708699,
           11332.97524842834,
           20694.6853072001,
           82837.2779220723,
           116476.49023607632,
           101042.32597741412,
           68337.59862691764,
           45042.10461464199,
           28125.827815982575,
           22747.258253341028,
           49903.4895553775,
           44893.643604011,
           33951.06921433682,
           27829.37944434302,
           22650.27310814185,
           46595.42237544585,
           70148.14281886174
          ],
          [
           66477.91358739696,
           61395.103716807906,
           78305.91929166667,
           74544.20857335175,
           91028.04218886254,
           129509.2110532046,
           92950.53556121814,
           101565.24966745176,
           123395.42371958736,
           88628.78140818233,
           108000.08906649903,
           95819.7425068306,
           71669.00140601098,
           59619.9465478699,
           64968.043548686896,
           42641.54114181552,
           32364.201297128366,
           44544.4635135231,
           38672.434709710986,
           41543.142207392455,
           62394.520995865474,
           59892.27450245589,
           81370.24175529662,
           69526.83748291193
          ],
          [
           174814.4016657405,
           167218.7764183051,
           183019.93992293786,
           168311.2966886664,
           185202.54525179308,
           194725.16803927804,
           196899.03678250645,
           210512.45190485445,
           219048.20474374166,
           221378.11148360747,
           220865.06028637209,
           211236.1657892289,
           187684.64754669357,
           191295.06573461107,
           179031.1751094252,
           154928.40278339485,
           147260.60623984592,
           159017.32648382857,
           152393.34430275482,
           152626.402049781,
           168619.7486608225,
           169635.11621868168,
           183992.26561514125,
           186503.1847702621
          ]
         ]
        }
       ],
       "layout": {
        "coloraxis": {
         "colorscale": [
          [
           0.0,
           "#0d0887"
          ],
          [
           0.1111111111111111,
           "#46039f"
          ],
          [
           0.2222222222222222,
           "#7201a8"
          ],
          [
           0.3333333333333333,
           "#9c179e"
          ],
          [
           0.4444444444444444,
           "#bd3786"
          ],
          [
           0.5555555555555556,
           "#d8576b"
          ],
          [
           0.6666666666666666,
           "#ed7953"
          ],
          [
           0.7777777777777778,
           "#fb9f3a"
          ],
          [
           0.8888888888888888,
           "#fdca26"
          ],
          [
           1.0,
           "#f0f921"
          ]
         ]
        },
        "margin": {
         "b": 30,
         "l": 30,
         "r": 30,
         "t": 50
        },
        "template": {
         "data": {
          "bar": [
           {
            "error_x": {
             "color": "#2a3f5f"
            },
            "error_y": {
             "color": "#2a3f5f"
            },
            "marker": {
             "line": {
              "color": "#E5ECF6",
              "width": 0.5
             },
             "pattern": {
              "fillmode": "overlay",
              "size": 10,
              "solidity": 0.2
             }
            },
            "type": "bar"
           }
          ],
          "barpolar": [
           {
            "marker": {
             "line": {
              "color": "#E5ECF6",
              "width": 0.5
             },
             "pattern": {
              "fillmode": "overlay",
              "size": 10,
              "solidity": 0.2
             }
            },
            "type": "barpolar"
           }
          ],
          "carpet": [
           {
            "aaxis": {
             "endlinecolor": "#2a3f5f",
             "gridcolor": "white",
             "linecolor": "white",
             "minorgridcolor": "white",
             "startlinecolor": "#2a3f5f"
            },
            "baxis": {
             "endlinecolor": "#2a3f5f",
             "gridcolor": "white",
             "linecolor": "white",
             "minorgridcolor": "white",
             "startlinecolor": "#2a3f5f"
            },
            "type": "carpet"
           }
          ],
          "choropleth": [
           {
            "colorbar": {
             "outlinewidth": 0,
             "ticks": ""
            },
            "type": "choropleth"
           }
          ],
          "contour": [
           {
            "colorbar": {
             "outlinewidth": 0,
             "ticks": ""
            },
            "colorscale": [
             [
              0.0,
              "#0d0887"
             ],
             [
              0.1111111111111111,
              "#46039f"
             ],
             [
              0.2222222222222222,
              "#7201a8"
             ],
             [
              0.3333333333333333,
              "#9c179e"
             ],
             [
              0.4444444444444444,
              "#bd3786"
             ],
             [
              0.5555555555555556,
              "#d8576b"
             ],
             [
              0.6666666666666666,
              "#ed7953"
             ],
             [
              0.7777777777777778,
              "#fb9f3a"
             ],
             [
              0.8888888888888888,
              "#fdca26"
             ],
             [
              1.0,
              "#f0f921"
             ]
            ],
            "type": "contour"
           }
          ],
          "contourcarpet": [
           {
            "colorbar": {
             "outlinewidth": 0,
             "ticks": ""
            },
            "type": "contourcarpet"
           }
          ],
          "heatmap": [
           {
            "colorbar": {
             "outlinewidth": 0,
             "ticks": ""
            },
            "colorscale": [
             [
              0.0,
              "#0d0887"
             ],
             [
              0.1111111111111111,
              "#46039f"
             ],
             [
              0.2222222222222222,
              "#7201a8"
             ],
             [
              0.3333333333333333,
              "#9c179e"
             ],
             [
              0.4444444444444444,
              "#bd3786"
             ],
             [
              0.5555555555555556,
              "#d8576b"
             ],
             [
              0.6666666666666666,
              "#ed7953"
             ],
             [
              0.7777777777777778,
              "#fb9f3a"
             ],
             [
              0.8888888888888888,
              "#fdca26"
             ],
             [
              1.0,
              "#f0f921"
             ]
            ],
            "type": "heatmap"
           }
          ],
          "heatmapgl": [
           {
            "colorbar": {
             "outlinewidth": 0,
             "ticks": ""
            },
            "colorscale": [
             [
              0.0,
              "#0d0887"
             ],
             [
              0.1111111111111111,
              "#46039f"
             ],
             [
              0.2222222222222222,
              "#7201a8"
             ],
             [
              0.3333333333333333,
              "#9c179e"
             ],
             [
              0.4444444444444444,
              "#bd3786"
             ],
             [
              0.5555555555555556,
              "#d8576b"
             ],
             [
              0.6666666666666666,
              "#ed7953"
             ],
             [
              0.7777777777777778,
              "#fb9f3a"
             ],
             [
              0.8888888888888888,
              "#fdca26"
             ],
             [
              1.0,
              "#f0f921"
             ]
            ],
            "type": "heatmapgl"
           }
          ],
          "histogram": [
           {
            "marker": {
             "pattern": {
              "fillmode": "overlay",
              "size": 10,
              "solidity": 0.2
             }
            },
            "type": "histogram"
           }
          ],
          "histogram2d": [
           {
            "colorbar": {
             "outlinewidth": 0,
             "ticks": ""
            },
            "colorscale": [
             [
              0.0,
              "#0d0887"
             ],
             [
              0.1111111111111111,
              "#46039f"
             ],
             [
              0.2222222222222222,
              "#7201a8"
             ],
             [
              0.3333333333333333,
              "#9c179e"
             ],
             [
              0.4444444444444444,
              "#bd3786"
             ],
             [
              0.5555555555555556,
              "#d8576b"
             ],
             [
              0.6666666666666666,
              "#ed7953"
             ],
             [
              0.7777777777777778,
              "#fb9f3a"
             ],
             [
              0.8888888888888888,
              "#fdca26"
             ],
             [
              1.0,
              "#f0f921"
             ]
            ],
            "type": "histogram2d"
           }
          ],
          "histogram2dcontour": [
           {
            "colorbar": {
             "outlinewidth": 0,
             "ticks": ""
            },
            "colorscale": [
             [
              0.0,
              "#0d0887"
             ],
             [
              0.1111111111111111,
              "#46039f"
             ],
             [
              0.2222222222222222,
              "#7201a8"
             ],
             [
              0.3333333333333333,
              "#9c179e"
             ],
             [
              0.4444444444444444,
              "#bd3786"
             ],
             [
              0.5555555555555556,
              "#d8576b"
             ],
             [
              0.6666666666666666,
              "#ed7953"
             ],
             [
              0.7777777777777778,
              "#fb9f3a"
             ],
             [
              0.8888888888888888,
              "#fdca26"
             ],
             [
              1.0,
              "#f0f921"
             ]
            ],
            "type": "histogram2dcontour"
           }
          ],
          "mesh3d": [
           {
            "colorbar": {
             "outlinewidth": 0,
             "ticks": ""
            },
            "type": "mesh3d"
           }
          ],
          "parcoords": [
           {
            "line": {
             "colorbar": {
              "outlinewidth": 0,
              "ticks": ""
             }
            },
            "type": "parcoords"
           }
          ],
          "pie": [
           {
            "automargin": true,
            "type": "pie"
           }
          ],
          "scatter": [
           {
            "marker": {
             "colorbar": {
              "outlinewidth": 0,
              "ticks": ""
             }
            },
            "type": "scatter"
           }
          ],
          "scatter3d": [
           {
            "line": {
             "colorbar": {
              "outlinewidth": 0,
              "ticks": ""
             }
            },
            "marker": {
             "colorbar": {
              "outlinewidth": 0,
              "ticks": ""
             }
            },
            "type": "scatter3d"
           }
          ],
          "scattercarpet": [
           {
            "marker": {
             "colorbar": {
              "outlinewidth": 0,
              "ticks": ""
             }
            },
            "type": "scattercarpet"
           }
          ],
          "scattergeo": [
           {
            "marker": {
             "colorbar": {
              "outlinewidth": 0,
              "ticks": ""
             }
            },
            "type": "scattergeo"
           }
          ],
          "scattergl": [
           {
            "marker": {
             "colorbar": {
              "outlinewidth": 0,
              "ticks": ""
             }
            },
            "type": "scattergl"
           }
          ],
          "scattermapbox": [
           {
            "marker": {
             "colorbar": {
              "outlinewidth": 0,
              "ticks": ""
             }
            },
            "type": "scattermapbox"
           }
          ],
          "scatterpolar": [
           {
            "marker": {
             "colorbar": {
              "outlinewidth": 0,
              "ticks": ""
             }
            },
            "type": "scatterpolar"
           }
          ],
          "scatterpolargl": [
           {
            "marker": {
             "colorbar": {
              "outlinewidth": 0,
              "ticks": ""
             }
            },
            "type": "scatterpolargl"
           }
          ],
          "scatterternary": [
           {
            "marker": {
             "colorbar": {
              "outlinewidth": 0,
              "ticks": ""
             }
            },
            "type": "scatterternary"
           }
          ],
          "surface": [
           {
            "colorbar": {
             "outlinewidth": 0,
             "ticks": ""
            },
            "colorscale": [
             [
              0.0,
              "#0d0887"
             ],
             [
              0.1111111111111111,
              "#46039f"
             ],
             [
              0.2222222222222222,
              "#7201a8"
             ],
             [
              0.3333333333333333,
              "#9c179e"
             ],
             [
              0.4444444444444444,
              "#bd3786"
             ],
             [
              0.5555555555555556,
              "#d8576b"
             ],
             [
              0.6666666666666666,
              "#ed7953"
             ],
             [
              0.7777777777777778,
              "#fb9f3a"
             ],
             [
              0.8888888888888888,
              "#fdca26"
             ],
             [
              1.0,
              "#f0f921"
             ]
            ],
            "type": "surface"
           }
          ],
          "table": [
           {
            "cells": {
             "fill": {
              "color": "#EBF0F8"
             },
             "line": {
              "color": "white"
             }
            },
            "header": {
             "fill": {
              "color": "#C8D4E3"
             },
             "line": {
              "color": "white"
             }
            },
            "type": "table"
           }
          ]
         },
         "layout": {
          "annotationdefaults": {
           "arrowcolor": "#2a3f5f",
           "arrowhead": 0,
           "arrowwidth": 1
          },
          "autotypenumbers": "strict",
          "coloraxis": {
           "colorbar": {
            "outlinewidth": 0,
            "ticks": ""
           }
          },
          "colorscale": {
           "diverging": [
            [
             0,
             "#8e0152"
            ],
            [
             0.1,
             "#c51b7d"
            ],
            [
             0.2,
             "#de77ae"
            ],
            [
             0.3,
             "#f1b6da"
            ],
            [
             0.4,
             "#fde0ef"
            ],
            [
             0.5,
             "#f7f7f7"
            ],
            [
             0.6,
             "#e6f5d0"
            ],
            [
             0.7,
             "#b8e186"
            ],
            [
             0.8,
             "#7fbc41"
            ],
            [
             0.9,
             "#4d9221"
            ],
            [
             1,
             "#276419"
            ]
           ],
           "sequential": [
            [
             0.0,
             "#0d0887"
            ],
            [
             0.1111111111111111,
             "#46039f"
            ],
            [
             0.2222222222222222,
             "#7201a8"
            ],
            [
             0.3333333333333333,
             "#9c179e"
            ],
            [
             0.4444444444444444,
             "#bd3786"
            ],
            [
             0.5555555555555556,
             "#d8576b"
            ],
            [
             0.6666666666666666,
             "#ed7953"
            ],
            [
             0.7777777777777778,
             "#fb9f3a"
            ],
            [
             0.8888888888888888,
             "#fdca26"
            ],
            [
             1.0,
             "#f0f921"
            ]
           ],
           "sequentialminus": [
            [
             0.0,
             "#0d0887"
            ],
            [
             0.1111111111111111,
             "#46039f"
            ],
            [
             0.2222222222222222,
             "#7201a8"
            ],
            [
             0.3333333333333333,
             "#9c179e"
            ],
            [
             0.4444444444444444,
             "#bd3786"
            ],
            [
             0.5555555555555556,
             "#d8576b"
            ],
            [
             0.6666666666666666,
             "#ed7953"
            ],
            [
             0.7777777777777778,
             "#fb9f3a"
            ],
            [
             0.8888888888888888,
             "#fdca26"
            ],
            [
             1.0,
             "#f0f921"
            ]
           ]
          },
          "colorway": [
           "#636efa",
           "#EF553B",
           "#00cc96",
           "#ab63fa",
           "#FFA15A",
           "#19d3f3",
           "#FF6692",
           "#B6E880",
           "#FF97FF",
           "#FECB52"
          ],
          "font": {
           "color": "#2a3f5f"
          },
          "geo": {
           "bgcolor": "white",
           "lakecolor": "white",
           "landcolor": "#E5ECF6",
           "showlakes": true,
           "showland": true,
           "subunitcolor": "white"
          },
          "hoverlabel": {
           "align": "left"
          },
          "hovermode": "closest",
          "mapbox": {
           "style": "light"
          },
          "paper_bgcolor": "white",
          "plot_bgcolor": "#E5ECF6",
          "polar": {
           "angularaxis": {
            "gridcolor": "white",
            "linecolor": "white",
            "ticks": ""
           },
           "bgcolor": "#E5ECF6",
           "radialaxis": {
            "gridcolor": "white",
            "linecolor": "white",
            "ticks": ""
           }
          },
          "scene": {
           "xaxis": {
            "backgroundcolor": "#E5ECF6",
            "gridcolor": "white",
            "gridwidth": 2,
            "linecolor": "white",
            "showbackground": true,
            "ticks": "",
            "zerolinecolor": "white"
           },
           "yaxis": {
            "backgroundcolor": "#E5ECF6",
            "gridcolor": "white",
            "gridwidth": 2,
            "linecolor": "white",
            "showbackground": true,
            "ticks": "",
            "zerolinecolor": "white"
           },
           "zaxis": {
            "backgroundcolor": "#E5ECF6",
            "gridcolor": "white",
            "gridwidth": 2,
            "linecolor": "white",
            "showbackground": true,
            "ticks": "",
            "zerolinecolor": "white"
           }
          },
          "shapedefaults": {
           "line": {
            "color": "#2a3f5f"
           }
          },
          "ternary": {
           "aaxis": {
            "gridcolor": "white",
            "linecolor": "white",
            "ticks": ""
           },
           "baxis": {
            "gridcolor": "white",
            "linecolor": "white",
            "ticks": ""
           },
           "bgcolor": "#E5ECF6",
           "caxis": {
            "gridcolor": "white",
            "linecolor": "white",
            "ticks": ""
           }
          },
          "title": {
           "x": 0.05
          },
          "xaxis": {
           "automargin": true,
           "gridcolor": "white",
           "linecolor": "white",
           "ticks": "",
           "title": {
            "standoff": 15
           },
           "zerolinecolor": "white",
           "zerolinewidth": 2
          },
          "yaxis": {
           "automargin": true,
           "gridcolor": "white",
           "linecolor": "white",
           "ticks": "",
           "title": {
            "standoff": 15
           },
           "zerolinecolor": "white",
           "zerolinewidth": 2
          }
         }
        },
        "xaxis": {
         "anchor": "y",
         "constrain": "domain",
         "domain": [
          0.0,
          1.0
         ],
         "nticks": 30,
         "scaleanchor": "y"
        },
        "yaxis": {
         "anchor": "x",
         "autorange": "reversed",
         "constrain": "domain",
         "domain": [
          0.0,
          1.0
         ]
        }
       }
      },
      "text/html": "<div>                            <div id=\"f55495d1-9101-42aa-b4a9-50882fc6e1b6\" class=\"plotly-graph-div\" style=\"height:525px; width:100%;\"></div>            <script type=\"text/javascript\">                require([\"plotly\"], function(Plotly) {                    window.PLOTLYENV=window.PLOTLYENV || {};                                    if (document.getElementById(\"f55495d1-9101-42aa-b4a9-50882fc6e1b6\")) {                    Plotly.newPlot(                        \"f55495d1-9101-42aa-b4a9-50882fc6e1b6\",                        [{\"coloraxis\":\"coloraxis\",\"hovertemplate\":\"x: %{x}<br>y: %{y}<br>color: %{z}<extra></extra>\",\"name\":\"0\",\"type\":\"heatmap\",\"x\":[0,1,2,3,4,5,6,7,8,9,10,11,12,13,14,15,16,17,18,19,20,21,22,23],\"xaxis\":\"x\",\"y\":[\"Elec_PowerPlugsInstBA2\",\"Elec_PowerPlugsInstMudroomA\",\"Elec_PowerPlugsAttic\",\"Elec_PowerPlugsInstBR4A\",\"Elec_PowerPlugsBA2North\",\"Elec_PowerPlugsInstLRA\",\"Elec_PowerPlugsInstMBAB\",\"HourOfTimestamp\",\"Elec_PowerLightsAttic\",\"Elec_PowerPlugsDRB\",\"Elec_PowerPlugsInstBR2Hall\",\"Elec_PowerPlugsInstKitA\",\"Elec_PowerMakeUpAirDamper\",\"Elec_PowerPlugsKitPeninsula\",\"Elec_PowerPlugsInstBR3\",\"Elec_PowerPlugsGSHPInstrumentation\",\"Elec_PowerPlugsBR3\",\"Load_BR3PlugLoadsPowerUsage\",\"Elec_PowerPlugsInstDRA\",\"Elec_PowerPlugsKitRange\",\"Elec_PowerPlugsMBAEast\",\"Elec_PowerLightingControlPanelRPS2\",\"Elec_PowerPlugsKitSink\",\"Elec_PowerPlugsMBAWest\",\"Load_ClothesWasherPowerWithStandby\",\"Elec_PowerLightingControlPanelRPS1\",\"Elec_PowerLights1stFloorA\",\"Elec_PowerPlugsHVACInstrumentation\",\"Load_MBRPlugLoadsPowerUsage\",\"Elec_PowerPlugsMBR\",\"Elec_PowerChildADownstairs\",\"Elec_PowerChildBDownstairs\",\"Elec_PowerDishwasher\",\"Elec_PowerMicrowave\",\"Elec_PowerSpare2\",\"Load_MicrowavePowerWithStandby\",\"Load_2ndFloorLightsPowerUsage\",\"Elec_PowerLights2ndFloor\",\"Load_KPlugLoadsPowerUsage\",\"Elec_PowerParentADownstairs\",\"Elec_PowerLightsBasement\",\"Elec_PowerParentBDownstairs\",\"Elec_PowerLights1stFloorB\",\"Elec_PowerParentAUpstairs\",\"Elec_PowerParentBUpstairs\",\"Load_BR4PlugLoadsPowerUsage\",\"Elec_PowerGarbageDisposal\",\"Load_BR2PlugLoadsPowerUsage\",\"Elec_PowerPlugsBR2\",\"Elec_PowerDryer2of2\",\"Load_LRPlugLoadsPowerUsage\",\"Elec_PowerDryer1of2\",\"Load_LatentHeatPowerUsage\",\"Elec_PowerPlugsInstKitD\",\"Load_1stFloorLightsPowerUsage\",\"Elec_PowerChildBUpstairs\",\"DHW_SHWPumpsPowerWithStandby\",\"Elec_PowerChildAUpstairs\",\"Load_OvenPowerTotal\",\"Elec_PowerRefrigerator\",\"Elec_PowerPlugs2ndFloor\",\"Load_RefrigeratorPowerWithStandby\",\"Load_BasementPlugLoadsPowerUsage\",\"Elec_PowerHRV\",\"Load_DryerPowerTotal\",\"Elec_PowerHeatPumpWH2of2\",\"Load_1stFloorSensHeatPowerUsage\",\"Load_2ndFloorSensHeatPowerUsage\",\"DHW_HeatPumpWaterHeaterPowerTotal\",\"HVAC_HeatPumpIndoorUnitPower\",\"HVAC_HeatPumpOutdoorUnitPower\"],\"yaxis\":\"y\",\"z\":[[0.8758757011798534,0.9464808672125052,0.4550794243811305,0.0,0.1580717242656341,0.0525798392066465,0.022801900132656698,0.0101114766149865,0.0101011912326794,0.0103046566222197,0.0,0.0201501707590022,0.0199087274218284,0.0100878238814018,0.0,0.0201488349406587,0.0,0.0103214007007835,0.0099338396641512,0.0101923738928803,0.0200471889698444,0.0,0.4502277131808006,0.9449146888902115],[0.5597908116952217,0.6138140869271818,0.5875489203123011,0.5115511300308364,0.5702180197946705,0.1895960240847234,0.08222050724693081,0.0363716634244508,0.0363850539539599,0.0372834873707996,0.0,0.0721468914813202,0.0716360372228103,0.3755746497224809,0.0081227564458119,0.2111146663360438,0.0,0.0368282016529921,0.0369354314743496,0.0366524196070956,0.5756394587555831,0.5049736752348432,0.505875573825028,0.6202657404230555],[0.0,0.0,12.36900410409701,3.778955475758698,0.0,0.0,0.0,0.0,0.0,0.0,0.0,0.0,0.0,0.0,0.0,0.0,0.0,0.0,0.0,0.0,0.0,0.0,0.0,0.0],[0.0,0.0,0.0,0.0,0.0,0.0,0.0,0.0,0.0,0.0,0.0,0.0,0.0,3.850074036916097,13.218293603261312,10.468561665217084,10.77081693013509,0.0,0.6682995796203614,16.074841594696046,7.45345500310262,0.0,0.0,0.0],[0.0068980753421783,0.0,0.0023211291280843,0.0,0.0,0.0,0.0,0.0,0.0,0.0,0.0,0.0,0.0,116.1128209431966,0.0046131898791103,0.0023408231593794,0.0,0.0,0.0022831725872169,0.0,0.0,0.0,0.0023200229062872,0.0],[0.0371462706735158,0.11400700410363379,0.0760339434265983,0.0,0.5951634772478864,0.19781196724095967,0.0857783571425218,0.037954175431221,0.038001220847461,0.0384818712387628,0.0,0.0750465923700703,0.0752618265976652,0.6876201653246086,0.0,18.850808037190678,28.52458931605021,0.5106718162641992,2.8814549999865706,8.018675027103464,41.78293015988095,16.12847728729248,0.0,0.1165349290589284],[30.87496051714245,0.485845736527847,0.4745591899095955,0.4817270040512085,0.0,0.0,0.0,0.0,0.0,0.0,0.0,0.0,0.0,0.4843695759773254,0.4696483561548136,0.4683695021322218,0.4846459824149891,60.4011275810037,77.44762136239115,2.6270787812558942,0.4831753302428682,0.4833084658040839,0.4755820101600582,0.4847262567382748],[0.0,1.0,2.0,3.0,4.0,5.0,6.0,7.0,8.0,9.0,10.0,11.0,12.0,13.0,14.0,15.0,16.0,17.0,18.0,19.0,20.0,21.0,22.0,23.0],[56.97551572120796,97.72451439550368,89.94074666729081,166.94260096145888,4.150275666834944,0.0,0.0,0.0,0.0,0.0,0.0,0.0,0.0,24.33317870591816,1.4845304327496027,1.459397293753543,1.4892490415249842,11.381394635890162,10.942897441827157,1.7244126771129453,3.058027684755918,0.0744551945540864,10.864753430711348,2.70736083984375],[7.977786484322128,7.607601108601642,7.595191593876089,7.314827737405891,7.298609753301219,7.159510292865657,7.261024029653906,7.27529364356512,7.288609992986582,7.2989336046391236,6.895741023261355,7.468636896207897,112.46359195710367,316.74758041037785,303.1510606192854,175.004957602448,61.3823642087967,85.09006604833101,32.9813223420313,7.4247161372088435,7.221074306766706,7.427801418265445,7.426988557836354,7.623127616569174],[0.10845672852468649,0.1888217162387697,0.1488719806462833,0.0738168079406023,0.5886269305777717,0.1955007949569796,0.0848803899728665,0.0374903205978119,0.0378224298206843,0.0384951995914288,0.0,0.0739734163385021,0.0741343044368083,0.2655876500023932,262.8990850465278,724.8932559771279,626.2020802548959,196.9525294761138,173.56987120885785,54.62730234335782,0.1484538252070126,0.0744059282844349,0.0730109932058948,0.18953393124385498],[106.96828980855412,106.917355096443,106.9306883652427,106.80722886214899,106.86388182062858,106.82393109705981,106.58965304734191,106.69990912120325,106.64638388965253,106.55479868123804,106.80755707422892,104.38215160587276,84.86049186705293,74.06086323185448,105.27930243395396,98.26672558307672,73.595748638408,73.53761891937961,78.63841752117456,103.4825680169736,125.43048134617649,124.23296738383965,118.73985584317208,107.26475863463494],[256.55295485655466,200.1020608738991,42.934574992239135,42.84941265744678,1.0570656647116452,1.922747755050659,3.7610335826873786,0.7423197507858277,0.0,0.0,0.0833392779032389,3.5068364381790156,204.3406723022461,117.50358655452729,5.456480526924134,0.8677964210510254,572.0713513215383,423.9350744247437,68.42898132403691,484.8438742410941,268.77085016568503,1.3869014898935954,639.2706834184248,447.98805350749217],[219.65928669911995,0.6192323151281325,0.3211368090015347,0.0,0.0,0.0,24.15190086364746,0.0,0.0,0.0,0.0,0.0,0.0,0.0,0.0,0.0,0.0,0.0,0.0,0.0,0.0,0.0,2425.958099142441,1720.1599276179802],[192.41024236764122,194.51083174988185,195.0364017599125,194.73342564900716,195.0453150807108,195.38936175242844,195.2516658694725,195.05211946636203,194.3592868186142,193.70695756397902,192.94691864649454,193.13327100066118,192.7021073487748,192.13185472668502,247.9703252223776,416.92149798933895,343.1252167663877,218.31922960425229,240.81653608175708,223.62812953753325,193.71212290823036,193.0057104110718,193.99021898905437,193.7164343426222],[398.560691749074,401.3512779317753,405.0436663059261,392.6659775742488,403.0804418320171,397.61785958294314,378.43266700242197,374.5230448884884,358.5563969634519,353.37096035916375,356.6080242142003,380.3886829499574,631.6616906475253,711.8221145127123,1371.9878571642137,793.5841649127232,525.8496124373412,929.3117948185237,1784.0276349082487,1336.1957145627975,1152.6548665632838,674.5024485009685,409.0916342376974,398.469233693523],[6555.556573374027,1561.2011261287382,194.80272622512558,193.92135074639077,214.77614325183933,221.999596118927,271.2530961354573,256.104446442922,215.02972443898517,213.5999679883321,213.1458367029826,215.13528019587199,215.1492722829183,215.47084194819132,215.45217080547312,215.42974039969474,215.21565360154136,214.85856904384107,193.87936854086354,193.73742580984367,193.4360491197724,204.99981328838234,4660.5240840183815,9778.799946940186],[6555.556573374027,1561.2011261287382,194.80272622512558,193.92135074639077,214.77614325183933,221.999596118927,271.2530961354573,256.104446442922,215.02972443898517,213.5999679883321,213.1458367029826,215.13528019587199,215.1492722829183,215.47084194819132,215.45217080547312,215.42974039969474,215.21565360154136,214.85856904384107,193.87936854086354,193.73742580984367,193.4360491197724,204.99981328838234,4660.5240840183815,9778.799946940186],[1117.4929499638793,1121.691432960677,1127.078433895686,1132.1381840689708,1135.5576637255974,1137.5402253239124,1137.3155599197485,1137.1050048722188,1136.3305943072155,1133.265647109662,1127.3492415746052,1159.2317706553615,1206.275803424076,1684.4459235043646,1828.0456096519956,1509.1942680125676,1244.0133094327455,1314.0033016453642,1235.809804229799,1157.1289569681799,1161.103654750842,1110.9475862503052,1112.8287418365478,1117.180737306287],[310.1659803072612,0.0,0.0,0.0,0.0,10.289946111043294,20.242128213246666,3.978545157114665,0.0,0.0,16081.302612980076,8650.640446980795,1248.516650613149,6723.463712215424,3392.787883758545,0.0,1270.0153111775717,626.9858495712281,0.0,0.0,16.982300790150962,99.31300576527912,3923.2448162817013,2475.7431338049673],[0.0,0.0,0.0,0.0,0.0,0.0,0.0,0.0,0.0,0.0,20992.383252586824,11243.964319864908,0.0,0.0,8184.091122436524,4557.302688315136,0.0,0.0,0.0,0.0,0.0,125.07755228678386,0.0,0.0],[2207.4312926364855,2215.195734874927,2224.01819212531,2242.8976739817545,2272.4130705181738,2270.5370818090964,2252.7031441383433,2250.580069924838,2233.958743041748,2225.557366017519,2222.557204520665,2207.0698661268066,2228.432767985741,2220.4739344293653,2221.560528893951,2233.2278997340195,2241.0745271390406,2229.76513564621,2205.3828769314428,2199.023833521494,2210.092941537942,2218.6643478739184,2221.578229853512,2212.017787237448],[0.0,0.0,0.0,0.0,0.0,0.0,0.0,0.0,0.0,0.0,21573.39286062105,11535.538764953613,2586.962457784017,13619.31449063619,10449.445359802246,2080.8787538976617,0.0,0.0,0.0,0.0,0.0,128.3693054199219,0.0,0.0],[2623.406955465072,2618.850152039528,2618.429750172297,2615.9738732281576,2594.2662193068077,2584.544034039765,2593.7919350492875,2592.97975554328,2591.8542178641496,2591.357113949458,2619.941415181011,2620.134078507215,2619.036197411313,2614.7978788252017,2612.9970929269584,2609.4199117209064,2611.119874302546,2609.552123987958,2604.7402939757358,2600.83812954438,2612.953569458008,2612.0626399627376,2642.680631479195,2643.4689782145],[5763.806867111412,4815.321288723347,2448.8118735276266,1097.7603539054355,1064.4670729434936,1064.9710227118637,1060.8479999999993,1060.8479999999993,1060.8479999999993,1060.8479999999993,1060.8479999999993,1060.8479999999993,1079.743067604611,1066.7415999999992,1328.0833194689235,11086.758889207458,6947.92080834156,1067.502384452107,6214.540407943852,8695.290665256465,3911.5354711777754,1058.4947999999993,3745.0638008828223,5201.790813478297],[3238.1734941091995,3257.076483600963,3263.69552664619,3301.197592523631,3353.9574258472408,3351.7566475555263,3330.0639759838837,3324.3916974512827,3305.4599068795906,3296.0827544434046,3246.086842284917,3246.424513540423,3302.6522089262785,3323.202301685485,3344.0555314958465,3354.576139178375,3357.7943158725534,3362.931538727284,3353.777202356283,3348.889300958549,3357.06341153343,3350.591252657383,3283.8846856867895,3238.5424166541484],[15854.047948761347,17053.584649837285,14205.61236723473,6334.002595374822,1087.4050794127297,103.02633323669433,119.31409997940062,132.94956973393758,158.5023267110189,201.90726550420126,163.68326272964478,204.29220345815023,3902.8461039347844,2078.8922204915275,0.0,0.0,0.7117546717325847,0.0,11.35914716720581,0.0,0.0,110.11440626999428,6556.545619916666,12294.10454022179],[3421.723355488693,3422.091334615548,3415.303070885565,3408.8272351460428,3485.6173904188413,3503.0461439778305,3398.743071531322,3399.199666449466,3396.1594200738527,3395.3328017892645,3398.6556948063153,3408.4596145469022,3346.6671837853823,3286.9394612856936,3310.8398186739832,3367.7945522913174,3357.87350663984,3388.52032210002,3328.141497838867,3350.152181093744,3401.12392065607,3437.7847847167427,3444.993015498091,3430.4008283182106],[0.5377714765273919,144.4613838027426,8717.376665046591,11055.159715670747,3682.5999892567015,296.542408276942,216.21671244303383,0.0,0.0,21.59691416422526,5649.909345025964,3130.5646373112995,8.397387250264487,0.0,0.0,0.0,0.0,0.0,16210.556926472982,9108.344293212891,0.0,449.7692017101851,16090.169864010542,8953.970129344625],[0.5377714765273919,144.4613838027426,8717.376665046591,11061.858114064982,3684.2052378883754,296.542408276942,216.21671244303383,0.0,0.0,21.59691416422526,5649.909345025964,3130.5646373112995,8.397387250264487,0.0,0.0,0.0,0.0,0.0,16210.556926472982,9108.344293212891,0.0,449.7692017101851,16090.169864010542,8953.970129344625],[8360.375610594025,7218.054715147096,7136.904955492574,2526.0581222537307,31.916071418051878,112.0759090423584,0.0,48.97948354085286,53.91594009399414,69.99521923065186,173.65529747009276,11475.105404356971,6273.125078324859,3386.2934551376593,6343.50780753499,2506.111960954295,48.53441164428661,4527.065087968824,4766.722735844602,1340.1770879583519,2373.573064646447,5841.945190470523,4862.299169431118,8394.421219219834],[8360.223485846705,7058.947840370035,2591.048311286374,69.60726133982341,135.65448926289878,121.99601078033447,20.51842543284098,48.399422073364256,53.149756304423015,53.53786513010661,119.81852836608887,11363.54021811222,6382.93870075177,3358.163825430395,1902.031147558991,7.146769254659978,43.931451606750485,4462.2226278774115,6988.848787051666,6982.895570606227,6962.278164243398,7105.101449537151,9339.032684896796,10862.030219944781],[6285.922452571062,55927.97507884987,32067.442628037054,901.2408974320406,20.240533900126223,0.0,0.0,0.0,135.9499883095423,551.635130683581,11.13865909576416,0.0,0.0,0.4810232619444529,0.4606190207651106,0.4503908253322213,0.4525655210018158,0.4515761005676398,0.457240814374665,0.4525462515273337,0.463930224463091,0.462383900658559,0.4508445768033043,0.4602399316884704],[57.18950500488281,0.0,0.0,0.0,0.0,60.084310913085936,116.95023905436196,0.0,0.0,210.36820271809896,25163.401659782077,15692.46908976237,5.884426146966439,9988.802106396357,6379.437424198786,0.0,9985.445819409688,6517.402275276184,0.0,0.0,0.0,175.59920145670574,30037.094607361832,19231.039589136675],[5344.604621512773,5341.219886843363,5340.721685584386,5339.416712893361,5299.985371955529,5281.951370787518,5300.824816101979,5300.318858999481,5300.1710714312785,5300.375504906972,5302.601566633631,5306.702103967615,5331.571955894645,5308.22646892768,5304.0116171438185,5302.616145096414,5306.6049093723295,5308.477950384619,5317.763393674379,5304.342661205043,5320.712297336663,5320.709843242102,5354.6245912813,5355.323921817389],[534.9855050048826,477.83999999999963,477.83999999999963,477.37799999999964,476.8211403167543,537.0871922690178,592.0622390543613,475.19999999999965,475.19999999999965,685.4142027180985,25619.595823716463,16155.921089762345,483.39442614696605,10459.052106396346,6852.239424198779,477.83999999999963,10455.739819409677,6990.615513150526,476.51999999999964,475.19999999999965,476.51999999999964,651.9872014567051,30492.38237007366,19694.53775307108],[20530.01256444573,13921.157354040906,17286.653632755904,11262.553902743322,2205.679045934694,60.574124806168335,174.44242270787555,997.897654027105,1082.1207245525834,578.4981734421061,13180.167227041526,7193.598772890581,1751.78688685894,1199.63966431197,3450.760164674123,1849.3598423217816,423.8425986289978,276.2510646820068,752.002522945404,474.014558728536,1473.5393476938798,3542.0666372470982,17583.415504489665,23043.8016519188],[20530.01256444573,13921.157354040906,17286.653632755904,11265.261340641839,2206.0493735954215,60.574124806168335,174.44242270787555,997.897654027105,1082.1207245525834,578.4981734421061,13180.167227041526,7193.598772890581,1751.78688685894,1199.63966431197,3450.760164674123,1849.3598423217816,423.8425986289978,276.2510646820068,752.002522945404,474.014558728536,1473.5393476938798,3542.0666372470982,17583.415504489665,23043.8016519188],[822.814933673047,295.6292323151282,295.68503511408636,295.44300000000004,296.2070720149537,306.6205845291225,339.3926957435608,299.1718784904481,295.20000000000005,295.20000000000005,65494.3780527667,37859.74969991046,4222.016214923858,31679.621436646765,21469.075644276923,2377.7187538976596,2717.5162030232714,921.6958495712267,294.9100000000001,294.0900000000001,351.84826412836713,647.5665347162881,9640.056112574242,4475.149236286332],[22985.00010449702,24825.317709998217,19477.068982270648,8145.046052490484,1438.1286237720983,112.0516798655192,49.53084284464519,70.40342178344727,121.10534210205078,140.6615821202596,5998.8123062338545,14849.407425789866,15606.108261001358,9657.024855035801,2563.6108308830203,7.538076904284485,2300.4240295745576,5795.897380131016,6039.1625175712115,6513.656587048934,7187.30057552741,7141.060507626617,9705.06366178798,17890.39761154843],[1776.402829996745,2090.159863026937,1813.8204783121744,1778.8081330416496,1777.6562362929521,1777.08032704585,1777.9309074401856,1777.9565686543783,1778.9133756001788,2086.419954883093,2385.421617459448,4540.918024980468,9034.322665770747,18612.90427975665,22494.394718980984,16387.488903608002,8793.100112025048,11957.382073045848,24706.67986366904,22386.2165287268,18185.109609880932,7878.665178963558,2508.3978340925437,1792.540909075302],[26123.01109376086,26086.022289019493,14138.542327080873,5032.67487996118,1378.944131717775,120.8311264038086,82.58871847788492,135.43981742858887,134.91179745992025,239.28601850093096,5948.560277322339,15071.151327062698,15949.543784303054,9935.86903306196,2728.2434943537005,4666.92022220649,7328.372042132726,7404.29798762932,5118.674918185888,1471.4257353242162,216.21667001153116,4851.464450257817,16875.149087292655,24652.910853257556],[28857.40106204257,29028.46773476466,22720.408136027814,9641.406006129399,1692.082124090464,139.4686345418294,178.33851165771486,303.0874339739482,281.7788993199666,423.2513986784836,13790.678481331288,26593.149476623534,20380.115510867417,11990.76077225108,3821.2881816228232,254.39380026358725,107.18821264902752,110.93368059794108,196.9829677581787,144.02515543182065,438.3612024339579,531.8562469722094,8664.911823240378,24760.03976604698],[1134.8759802895768,648.9716438457539,5998.162656792208,16745.915231445695,22359.982365319724,24033.794578211484,24450.304805797834,24467.819609713155,24504.206618034277,24541.147658731767,18897.799998082497,10302.301450379628,3804.307146317827,806.9537055617486,134.37749271392823,134.31255989074708,134.36917362213134,160.02281322479246,1284.7574172353982,805.0686257374772,68.09795640309652,199.65495933006548,6947.8024963952275,3859.296513341387],[65.35008687308775,192.17687420845033,11590.811686455485,19721.316647640633,22181.47678868377,23873.999886636306,24318.78639760795,24283.030571141662,24300.611110581493,24240.536245469604,19034.221222131644,10272.782148488075,3784.5715478455454,868.5621918191558,4690.793862736038,2722.045926507862,214.0354694071023,197.31677111014025,173.41949275030143,101.93809088562708,1.1154128392537437,33.38916099735948,2370.4912365932078,1317.4929680996365],[25920.659084544975,22726.147085704266,14447.210686975037,2372.816531346639,87.2884885152181,513.4622917811075,627.8273647308349,63.74180857340495,0.0,0.0,0.0,0.0,2888.8844163894655,7281.973052851359,8874.772357304892,8903.153032697875,8902.307387423198,8898.54631535848,8915.570604934692,8907.188990122477,8957.743281593323,17902.92595893839,37004.205405782064,36028.69663140431],[7345.961268034745,0.0,0.0012371042522333,0.0,0.0,275.0871317545573,455.78275299072266,62.88960416316986,0.0,0.0,0.0,0.0,26535.01913197835,14766.843567148844,0.0024743376899573,0.0012635630318673,26506.208065684637,14653.073567398389,0.00122472492315,0.0,410.7013514200846,195.86244201660156,82926.5026983738,57085.1709364637],[18633.069215770698,17164.28083071133,10963.608389330735,7869.829838813659,7877.820663904338,7885.9942998607485,7903.450139596884,7885.1208197745655,7865.121097250838,7861.807370581024,7837.898841991841,7861.406211516375,7908.746423737416,7892.8058635216585,7910.6586084689125,10072.756523218311,11262.492089790017,9096.115394454402,7851.824542697232,7829.2719387959705,7846.688914579926,7852.479530245548,12394.215925731147,17643.35008613627],[18633.069215770698,17164.28083071133,10963.608389330735,7876.23193257115,7914.988462784352,7899.578054882315,7903.450139596884,7885.1208197745655,7865.121097250838,7861.807370581024,7837.898841991841,7861.406211516375,7908.746423737416,7892.8058635216585,7910.6586084689125,10072.756523218311,11262.492089790017,9096.115394454402,7851.824542697232,7829.2719387959705,7846.688914579926,7852.479530245548,12394.215925731147,17643.35008613627],[30897.933108622234,18329.19507045681,1318.041069132487,254.0421748860677,0.0,0.0,0.0,0.0,0.0,0.0,0.0,0.0,0.0,0.0,0.0,0.0,57916.32278678386,35934.402247212725,2835.2623512649534,58876.23405555725,33539.27318430583,-1.1099999999999997,-1.1099999999999997,-1.1099999999999997],[21940.235618283972,17480.300892884745,13076.534479474643,8514.117034754134,5950.3873639079175,5350.144343862156,5222.841724046071,5226.352372487386,5255.894193585714,5251.99126291275,9386.175104720214,15552.734361076355,15103.291266968463,12232.791470477798,11816.874675391646,7708.522149678006,5213.1998511233805,5214.317558098809,5198.550033607483,9669.005404315221,9933.145152927022,6438.8088508956025,15498.78657106056,23052.39919126387],[34967.438935111364,21598.61951166401,1891.3734648132324,328.4612635040283,0.0,0.0,0.0,0.0,0.0,0.0,0.0,0.36927902301152543,0.2777289152145386,0.0892678221066792,0.6066686471303303,0.1725775996843973,65400.26946145661,42233.196882135075,4243.541767245929,68805.5260419532,38861.633466186526,-1.1099999999999997,-0.9234879628817237,-1.1099999999999997],[15468.455298982653,15468.658265518701,15558.47889625581,15440.211995299927,14888.541693052286,15237.289950899272,15584.158837326422,15565.32468948165,15543.729437042577,15517.717741958093,15454.303752541726,15350.470236171652,11913.49011854034,6487.805585894319,4468.175666898157,4403.427367018121,4396.68086728206,4453.952185006974,4446.705654033568,4513.538120951285,11510.646066009054,15364.008008652847,15388.371313919852,15431.824063008557],[15468.455298982653,15468.658265518701,15558.47889625581,15453.503852902244,14963.60330690714,15263.578829128382,15584.158837326422,15565.32468948165,15543.729437042577,15517.717741958093,15454.303752541726,15350.470236171652,11913.49011854034,6487.805585894319,4468.175666898157,4403.427367018121,4396.68086728206,4453.952185006974,4446.705654033568,4513.538120951285,11510.646066009054,15364.008008652847,15388.371313919852,15431.824063008557],[44803.17944360607,46189.48202580106,37019.61140266471,16062.668143180557,2866.457858258587,334.17082749194344,389.3233783404032,527.6850882848104,531.8996847788493,732.3938692575214,14055.246376251001,26935.182360045113,24494.093160695553,14760.675912188519,4596.391843910495,857.2179756043906,440.1500823656718,517.0151309808095,997.8665654050113,1005.9485456282954,1180.5468576396252,966.6326483246123,15326.326317565137,37146.17503969518],[17233.187320732173,18537.744862290347,23271.109304394413,25488.611291893863,24520.480909833164,25005.93994327453,25536.844816497414,25470.464475574674,25360.865830933973,25311.832709891027,25283.58304563333,13831.936710928934,7345.825143438561,2911.23451314137,150.36560105037697,144.16087964375816,2474.1170810094513,1465.3642870257738,179.15436650036577,159.90150858561196,128.3200976053874,92.24381014401796,9741.931225098131,14571.016261620316],[1763.5307106678003,1439.599285046897,1257.9001242249824,1230.2404442125974,1232.969450991573,1233.8741334294696,1229.1732277615881,1229.1580256366747,1229.160301087699,1229.154214611055,1229.2000928783434,1229.175976696016,4520.20389531016,19375.8435534201,34938.91833223093,41712.00416949546,44310.801113487076,44395.3773915425,41534.462449332554,37628.01463374255,24564.185712404123,6062.490998385497,2726.3388558095307,2029.7530016224011],[14921.728460849734,17238.720775201065,17871.11441350184,21999.05916925448,23561.2068436862,24046.572385544867,24562.537111457546,24469.92940686166,24479.315349573124,24513.163257432978,24468.3018308498,13358.639982592016,7177.856177406907,3801.298125050923,807.4272284151535,4653.766109162139,7078.93238052925,2616.386489404581,174.10287481220055,171.1024937018293,2542.6555338479725,6081.968857204417,16446.27153474938,15484.221118769894],[40610.05803921,22389.66094970703,8393.198060185316,3254.85,3251.053229432418,3252.592372881356,3924.2288106282554,3639.540717569987,3580.6564025878906,3521.5050771077476,3240.0,3240.0,66185.29338563283,75726.85453241666,49799.090198788734,17492.50686707576,3258.0,3258.0,3248.924918237758,3240.0,4322.38403600057,3778.7099131266277,4669.565225463482,40375.76818172689],[16197.745342352342,15853.311315877627,15846.35254995237,15825.392286845017,15930.787509244363,15951.421321757323,15970.935162250944,15943.362716077852,15606.715952248054,15038.817592978477,15528.384706678607,15225.63825536582,15529.637254740963,16184.368823054849,15883.031789016357,16269.388996459316,16090.924505470119,16976.316089324515,16045.470299744458,16432.787235728094,16103.807152036095,16167.372198029743,16121.481322043071,15620.025249731969],[16833.020709421846,16849.113009780274,16840.34860492647,16821.621453718726,16913.231471034207,16857.012403477172,16755.162137174037,16733.81822196403,16694.165773683515,16694.18182823795,16714.44832638537,16777.38513479858,16886.755098931513,16842.89384353251,16834.503238333884,16842.751610827054,16841.931143038513,16838.748690747474,16805.593790524494,16748.072145178754,16765.382832663818,16747.258408120626,16770.83212628986,16817.618476347354],[17491.617404499222,17141.793293278744,17152.129922833716,17104.13634059201,17008.50149898435,17141.29401160196,17266.935585403244,17235.13107765976,16905.067804003604,16355.719949300306,16828.20723541423,16532.1029140267,16748.242711739356,17470.641833285397,17182.881616602554,17557.377087627396,17384.539094214695,18245.18931480511,17333.89550711722,17706.92351199061,17385.54786626796,17451.808558615074,17414.827790969615,16925.891520918398],[21512.98843873027,21494.207050416146,21526.752414406747,21504.320770207134,21334.78483493655,21365.333808003106,21442.578615636376,21422.551669584867,21368.78832471661,21341.249602553213,21347.02836320005,21379.77198315696,21452.449820416998,21561.090152836518,21661.590908525643,21523.691665107326,21373.957553231598,21462.589495605243,21806.02067333318,21474.83894627337,21627.38970141367,21466.655606399196,21483.184919754527,21481.652321876183],[21686.47715235325,21582.089139958895,21600.702171544333,21491.24446560258,21672.381846932076,21673.264898798298,21525.426833489488,21580.192835477552,21613.578553029904,21633.29309689245,21690.64775578595,21617.116710016897,21623.20741404583,21544.764524885475,21530.57880165292,21463.58451774332,21411.40101407077,21402.945328100996,21346.986295690203,21314.148807207042,21376.08510438913,21374.196913771753,21585.587624925756,21745.22559100448],[65865.3720437336,39927.814582120816,3209.4145339457195,582.503438390096,0.0,0.0,0.0,0.0,0.0,0.0,0.0,0.36927902301152543,0.2777289152145386,0.0892678221066792,0.6066686471303303,0.1725775996843973,123316.59224824047,78167.5991293478,7078.804118510882,127681.76009751044,72400.90665049235,-2.2199999999999998,-2.0334879628817237,-2.2199999999999998],[28491.148060919128,37851.90115308553,38350.733603489214,29389.30851074454,6622.153887937521,3421.9508938114755,2245.302462673187,3769.1892935434976,4463.9646242141725,9183.16798693339,40568.46402114545,57460.494784704846,49685.37285145217,33224.52412298265,21469.951575080573,12931.981679224045,10197.66949030688,23881.88191744981,21396.978392169447,15871.0697015358,12759.914722171517,10170.184073863755,22268.661249869827,34139.14821270957],[65828.6102946986,65188.342554534844,43343.56457613047,15770.216367169523,2984.6433161708237,466.9547260920207,152.63798675537112,303.22214482625327,363.0828359603882,503.48068498194897,12240.846409392376,52759.20437532176,44211.71582438104,26337.351168665813,13537.393280330702,7187.717029319729,9721.26193495832,22189.48308360657,22913.408958653366,16308.154980937728,16739.368474428786,24939.571597892107,40781.54460340855,61799.759903970604],[33355.14184874457,36617.61415554561,58731.19806114395,83878.68170294687,92169.25801584632,96797.01941344645,98868.47313136075,98691.24406329116,98644.99890912286,98606.67987152538,87683.90609669728,47765.66029238865,22112.56001500884,8388.048535573198,5782.964184915497,7654.285475204507,9901.454104567934,4439.090360765288,1811.434151298266,1238.0107189105456,2740.18900069571,6407.25678767586,35506.49649283595,35232.02686183123],[58982.09982045821,77609.39437396763,78521.88072110267,60749.28498964519,15487.045226534074,9244.310160332325,6937.8629253463705,9960.03258708699,11332.97524842834,20694.6853072001,82837.2779220723,116476.49023607632,101042.32597741412,68337.59862691764,45042.10461464199,28125.827815982575,22747.258253341028,49903.4895553775,44893.643604011,33951.06921433682,27829.37944434302,22650.27310814185,46595.42237544585,70148.14281886174],[66477.91358739696,61395.103716807906,78305.91929166667,74544.20857335175,91028.04218886254,129509.2110532046,92950.53556121814,101565.24966745176,123395.42371958736,88628.78140818233,108000.08906649903,95819.7425068306,71669.00140601098,59619.9465478699,64968.043548686896,42641.54114181552,32364.201297128366,44544.4635135231,38672.434709710986,41543.142207392455,62394.520995865474,59892.27450245589,81370.24175529662,69526.83748291193],[174814.4016657405,167218.7764183051,183019.93992293786,168311.2966886664,185202.54525179308,194725.16803927804,196899.03678250645,210512.45190485445,219048.20474374166,221378.11148360747,220865.06028637209,211236.1657892289,187684.64754669357,191295.06573461107,179031.1751094252,154928.40278339485,147260.60623984592,159017.32648382857,152393.34430275482,152626.402049781,168619.7486608225,169635.11621868168,183992.26561514125,186503.1847702621]]}],                        {\"coloraxis\":{\"colorscale\":[[0.0,\"#0d0887\"],[0.1111111111111111,\"#46039f\"],[0.2222222222222222,\"#7201a8\"],[0.3333333333333333,\"#9c179e\"],[0.4444444444444444,\"#bd3786\"],[0.5555555555555556,\"#d8576b\"],[0.6666666666666666,\"#ed7953\"],[0.7777777777777778,\"#fb9f3a\"],[0.8888888888888888,\"#fdca26\"],[1.0,\"#f0f921\"]]},\"margin\":{\"b\":30,\"l\":30,\"r\":30,\"t\":50},\"template\":{\"data\":{\"bar\":[{\"error_x\":{\"color\":\"#2a3f5f\"},\"error_y\":{\"color\":\"#2a3f5f\"},\"marker\":{\"line\":{\"color\":\"#E5ECF6\",\"width\":0.5},\"pattern\":{\"fillmode\":\"overlay\",\"size\":10,\"solidity\":0.2}},\"type\":\"bar\"}],\"barpolar\":[{\"marker\":{\"line\":{\"color\":\"#E5ECF6\",\"width\":0.5},\"pattern\":{\"fillmode\":\"overlay\",\"size\":10,\"solidity\":0.2}},\"type\":\"barpolar\"}],\"carpet\":[{\"aaxis\":{\"endlinecolor\":\"#2a3f5f\",\"gridcolor\":\"white\",\"linecolor\":\"white\",\"minorgridcolor\":\"white\",\"startlinecolor\":\"#2a3f5f\"},\"baxis\":{\"endlinecolor\":\"#2a3f5f\",\"gridcolor\":\"white\",\"linecolor\":\"white\",\"minorgridcolor\":\"white\",\"startlinecolor\":\"#2a3f5f\"},\"type\":\"carpet\"}],\"choropleth\":[{\"colorbar\":{\"outlinewidth\":0,\"ticks\":\"\"},\"type\":\"choropleth\"}],\"contour\":[{\"colorbar\":{\"outlinewidth\":0,\"ticks\":\"\"},\"colorscale\":[[0.0,\"#0d0887\"],[0.1111111111111111,\"#46039f\"],[0.2222222222222222,\"#7201a8\"],[0.3333333333333333,\"#9c179e\"],[0.4444444444444444,\"#bd3786\"],[0.5555555555555556,\"#d8576b\"],[0.6666666666666666,\"#ed7953\"],[0.7777777777777778,\"#fb9f3a\"],[0.8888888888888888,\"#fdca26\"],[1.0,\"#f0f921\"]],\"type\":\"contour\"}],\"contourcarpet\":[{\"colorbar\":{\"outlinewidth\":0,\"ticks\":\"\"},\"type\":\"contourcarpet\"}],\"heatmap\":[{\"colorbar\":{\"outlinewidth\":0,\"ticks\":\"\"},\"colorscale\":[[0.0,\"#0d0887\"],[0.1111111111111111,\"#46039f\"],[0.2222222222222222,\"#7201a8\"],[0.3333333333333333,\"#9c179e\"],[0.4444444444444444,\"#bd3786\"],[0.5555555555555556,\"#d8576b\"],[0.6666666666666666,\"#ed7953\"],[0.7777777777777778,\"#fb9f3a\"],[0.8888888888888888,\"#fdca26\"],[1.0,\"#f0f921\"]],\"type\":\"heatmap\"}],\"heatmapgl\":[{\"colorbar\":{\"outlinewidth\":0,\"ticks\":\"\"},\"colorscale\":[[0.0,\"#0d0887\"],[0.1111111111111111,\"#46039f\"],[0.2222222222222222,\"#7201a8\"],[0.3333333333333333,\"#9c179e\"],[0.4444444444444444,\"#bd3786\"],[0.5555555555555556,\"#d8576b\"],[0.6666666666666666,\"#ed7953\"],[0.7777777777777778,\"#fb9f3a\"],[0.8888888888888888,\"#fdca26\"],[1.0,\"#f0f921\"]],\"type\":\"heatmapgl\"}],\"histogram\":[{\"marker\":{\"pattern\":{\"fillmode\":\"overlay\",\"size\":10,\"solidity\":0.2}},\"type\":\"histogram\"}],\"histogram2d\":[{\"colorbar\":{\"outlinewidth\":0,\"ticks\":\"\"},\"colorscale\":[[0.0,\"#0d0887\"],[0.1111111111111111,\"#46039f\"],[0.2222222222222222,\"#7201a8\"],[0.3333333333333333,\"#9c179e\"],[0.4444444444444444,\"#bd3786\"],[0.5555555555555556,\"#d8576b\"],[0.6666666666666666,\"#ed7953\"],[0.7777777777777778,\"#fb9f3a\"],[0.8888888888888888,\"#fdca26\"],[1.0,\"#f0f921\"]],\"type\":\"histogram2d\"}],\"histogram2dcontour\":[{\"colorbar\":{\"outlinewidth\":0,\"ticks\":\"\"},\"colorscale\":[[0.0,\"#0d0887\"],[0.1111111111111111,\"#46039f\"],[0.2222222222222222,\"#7201a8\"],[0.3333333333333333,\"#9c179e\"],[0.4444444444444444,\"#bd3786\"],[0.5555555555555556,\"#d8576b\"],[0.6666666666666666,\"#ed7953\"],[0.7777777777777778,\"#fb9f3a\"],[0.8888888888888888,\"#fdca26\"],[1.0,\"#f0f921\"]],\"type\":\"histogram2dcontour\"}],\"mesh3d\":[{\"colorbar\":{\"outlinewidth\":0,\"ticks\":\"\"},\"type\":\"mesh3d\"}],\"parcoords\":[{\"line\":{\"colorbar\":{\"outlinewidth\":0,\"ticks\":\"\"}},\"type\":\"parcoords\"}],\"pie\":[{\"automargin\":true,\"type\":\"pie\"}],\"scatter\":[{\"marker\":{\"colorbar\":{\"outlinewidth\":0,\"ticks\":\"\"}},\"type\":\"scatter\"}],\"scatter3d\":[{\"line\":{\"colorbar\":{\"outlinewidth\":0,\"ticks\":\"\"}},\"marker\":{\"colorbar\":{\"outlinewidth\":0,\"ticks\":\"\"}},\"type\":\"scatter3d\"}],\"scattercarpet\":[{\"marker\":{\"colorbar\":{\"outlinewidth\":0,\"ticks\":\"\"}},\"type\":\"scattercarpet\"}],\"scattergeo\":[{\"marker\":{\"colorbar\":{\"outlinewidth\":0,\"ticks\":\"\"}},\"type\":\"scattergeo\"}],\"scattergl\":[{\"marker\":{\"colorbar\":{\"outlinewidth\":0,\"ticks\":\"\"}},\"type\":\"scattergl\"}],\"scattermapbox\":[{\"marker\":{\"colorbar\":{\"outlinewidth\":0,\"ticks\":\"\"}},\"type\":\"scattermapbox\"}],\"scatterpolar\":[{\"marker\":{\"colorbar\":{\"outlinewidth\":0,\"ticks\":\"\"}},\"type\":\"scatterpolar\"}],\"scatterpolargl\":[{\"marker\":{\"colorbar\":{\"outlinewidth\":0,\"ticks\":\"\"}},\"type\":\"scatterpolargl\"}],\"scatterternary\":[{\"marker\":{\"colorbar\":{\"outlinewidth\":0,\"ticks\":\"\"}},\"type\":\"scatterternary\"}],\"surface\":[{\"colorbar\":{\"outlinewidth\":0,\"ticks\":\"\"},\"colorscale\":[[0.0,\"#0d0887\"],[0.1111111111111111,\"#46039f\"],[0.2222222222222222,\"#7201a8\"],[0.3333333333333333,\"#9c179e\"],[0.4444444444444444,\"#bd3786\"],[0.5555555555555556,\"#d8576b\"],[0.6666666666666666,\"#ed7953\"],[0.7777777777777778,\"#fb9f3a\"],[0.8888888888888888,\"#fdca26\"],[1.0,\"#f0f921\"]],\"type\":\"surface\"}],\"table\":[{\"cells\":{\"fill\":{\"color\":\"#EBF0F8\"},\"line\":{\"color\":\"white\"}},\"header\":{\"fill\":{\"color\":\"#C8D4E3\"},\"line\":{\"color\":\"white\"}},\"type\":\"table\"}]},\"layout\":{\"annotationdefaults\":{\"arrowcolor\":\"#2a3f5f\",\"arrowhead\":0,\"arrowwidth\":1},\"autotypenumbers\":\"strict\",\"coloraxis\":{\"colorbar\":{\"outlinewidth\":0,\"ticks\":\"\"}},\"colorscale\":{\"diverging\":[[0,\"#8e0152\"],[0.1,\"#c51b7d\"],[0.2,\"#de77ae\"],[0.3,\"#f1b6da\"],[0.4,\"#fde0ef\"],[0.5,\"#f7f7f7\"],[0.6,\"#e6f5d0\"],[0.7,\"#b8e186\"],[0.8,\"#7fbc41\"],[0.9,\"#4d9221\"],[1,\"#276419\"]],\"sequential\":[[0.0,\"#0d0887\"],[0.1111111111111111,\"#46039f\"],[0.2222222222222222,\"#7201a8\"],[0.3333333333333333,\"#9c179e\"],[0.4444444444444444,\"#bd3786\"],[0.5555555555555556,\"#d8576b\"],[0.6666666666666666,\"#ed7953\"],[0.7777777777777778,\"#fb9f3a\"],[0.8888888888888888,\"#fdca26\"],[1.0,\"#f0f921\"]],\"sequentialminus\":[[0.0,\"#0d0887\"],[0.1111111111111111,\"#46039f\"],[0.2222222222222222,\"#7201a8\"],[0.3333333333333333,\"#9c179e\"],[0.4444444444444444,\"#bd3786\"],[0.5555555555555556,\"#d8576b\"],[0.6666666666666666,\"#ed7953\"],[0.7777777777777778,\"#fb9f3a\"],[0.8888888888888888,\"#fdca26\"],[1.0,\"#f0f921\"]]},\"colorway\":[\"#636efa\",\"#EF553B\",\"#00cc96\",\"#ab63fa\",\"#FFA15A\",\"#19d3f3\",\"#FF6692\",\"#B6E880\",\"#FF97FF\",\"#FECB52\"],\"font\":{\"color\":\"#2a3f5f\"},\"geo\":{\"bgcolor\":\"white\",\"lakecolor\":\"white\",\"landcolor\":\"#E5ECF6\",\"showlakes\":true,\"showland\":true,\"subunitcolor\":\"white\"},\"hoverlabel\":{\"align\":\"left\"},\"hovermode\":\"closest\",\"mapbox\":{\"style\":\"light\"},\"paper_bgcolor\":\"white\",\"plot_bgcolor\":\"#E5ECF6\",\"polar\":{\"angularaxis\":{\"gridcolor\":\"white\",\"linecolor\":\"white\",\"ticks\":\"\"},\"bgcolor\":\"#E5ECF6\",\"radialaxis\":{\"gridcolor\":\"white\",\"linecolor\":\"white\",\"ticks\":\"\"}},\"scene\":{\"xaxis\":{\"backgroundcolor\":\"#E5ECF6\",\"gridcolor\":\"white\",\"gridwidth\":2,\"linecolor\":\"white\",\"showbackground\":true,\"ticks\":\"\",\"zerolinecolor\":\"white\"},\"yaxis\":{\"backgroundcolor\":\"#E5ECF6\",\"gridcolor\":\"white\",\"gridwidth\":2,\"linecolor\":\"white\",\"showbackground\":true,\"ticks\":\"\",\"zerolinecolor\":\"white\"},\"zaxis\":{\"backgroundcolor\":\"#E5ECF6\",\"gridcolor\":\"white\",\"gridwidth\":2,\"linecolor\":\"white\",\"showbackground\":true,\"ticks\":\"\",\"zerolinecolor\":\"white\"}},\"shapedefaults\":{\"line\":{\"color\":\"#2a3f5f\"}},\"ternary\":{\"aaxis\":{\"gridcolor\":\"white\",\"linecolor\":\"white\",\"ticks\":\"\"},\"baxis\":{\"gridcolor\":\"white\",\"linecolor\":\"white\",\"ticks\":\"\"},\"bgcolor\":\"#E5ECF6\",\"caxis\":{\"gridcolor\":\"white\",\"linecolor\":\"white\",\"ticks\":\"\"}},\"title\":{\"x\":0.05},\"xaxis\":{\"automargin\":true,\"gridcolor\":\"white\",\"linecolor\":\"white\",\"ticks\":\"\",\"title\":{\"standoff\":15},\"zerolinecolor\":\"white\",\"zerolinewidth\":2},\"yaxis\":{\"automargin\":true,\"gridcolor\":\"white\",\"linecolor\":\"white\",\"ticks\":\"\",\"title\":{\"standoff\":15},\"zerolinecolor\":\"white\",\"zerolinewidth\":2}}},\"xaxis\":{\"anchor\":\"y\",\"constrain\":\"domain\",\"domain\":[0.0,1.0],\"nticks\":30,\"scaleanchor\":\"y\"},\"yaxis\":{\"anchor\":\"x\",\"autorange\":\"reversed\",\"constrain\":\"domain\",\"domain\":[0.0,1.0]}},                        {\"responsive\": true}                    ).then(function(){\n                            \nvar gd = document.getElementById('f55495d1-9101-42aa-b4a9-50882fc6e1b6');\nvar x = new MutationObserver(function (mutations, observer) {{\n        var display = window.getComputedStyle(gd).display;\n        if (!display || display === 'none') {{\n            console.log([gd, 'removed!']);\n            Plotly.purge(gd);\n            observer.disconnect();\n        }}\n}});\n\n// Listen for the removal of the full notebook cells\nvar notebookContainer = gd.closest('#notebook-container');\nif (notebookContainer) {{\n    x.observe(notebookContainer, {childList: true});\n}}\n\n// Listen for the clearing of the current output cell\nvar outputEl = gd.closest('.output');\nif (outputEl) {{\n    x.observe(outputEl, {childList: true});\n}}\n\n                        })                };                });            </script>        </div>"
     },
     "metadata": {},
     "output_type": "display_data"
    }
   ],
   "source": [
    "fig = px.imshow(hourON[columns].T)\n",
    "\n",
    "\n",
    "fig.update_layout(margin=dict(\n",
    "    l=30,\n",
    "    r=30,\n",
    "    b=30,\n",
    "    t=50,\n",
    "), xaxis_nticks=30,\n",
    "    # annotations=annotations,\n",
    ")\n",
    "\n",
    "fig.show()"
   ],
   "metadata": {
    "collapsed": false,
    "pycharm": {
     "name": "#%%\n"
    }
   }
  },
  {
   "cell_type": "code",
   "execution_count": 54,
   "outputs": [],
   "source": [],
   "metadata": {
    "collapsed": false,
    "pycharm": {
     "name": "#%%\n"
    }
   }
  }
 ],
 "metadata": {
  "kernelspec": {
   "display_name": "Python 3",
   "language": "python",
   "name": "python3"
  },
  "language_info": {
   "codemirror_mode": {
    "name": "ipython",
    "version": 2
   },
   "file_extension": ".py",
   "mimetype": "text/x-python",
   "name": "python",
   "nbconvert_exporter": "python",
   "pygments_lexer": "ipython2",
   "version": "2.7.6"
  }
 },
 "nbformat": 4,
 "nbformat_minor": 0
}
{
 "cells": [
  {
   "cell_type": "code",
   "execution_count": 1,
   "metadata": {
    "collapsed": true,
    "pycharm": {
     "name": "#%%\n"
    }
   },
   "outputs": [],
   "source": [
    "import pandas as pd\n",
    "\n",
    "from Project.Database import Db\n",
    "from optimisation_problem import hourly_house_df, slice_emission_vector, power_consumption_vector, NZERTF_optimiser, SE_time_df, json_to_dataframe"
   ]
  },
  {
   "cell_type": "code",
   "execution_count": 2,
   "outputs": [],
   "source": [
    "def find_emissions(df, emission_vec, day_number):\n",
    "    energy_vec = df.loc[lambda self: self['Day'] == day_number, 'Consumption'].reset_index(drop=True)\n",
    "    energy_consumed = energy_vec.multiply(emission_vec)\n",
    "    for index, emission in energy_consumed[lambda self: self > 0].iteritems():\n",
    "        df.loc[lambda self: (self['Day'] == day) & (self['Hour'] == index), 'Emission'] += emission\n",
    "    return df"
   ],
   "metadata": {
    "collapsed": false,
    "pycharm": {
     "name": "#%%\n"
    }
   }
  },
  {
   "cell_type": "code",
   "execution_count": 3,
   "outputs": [],
   "source": [
    "meta = Db.load_data(meta=True, hourly=False, year=2, consumption=False).loc[\n",
    "    lambda self: (~self['Consumer_Match'].isna()), 'Consumer_Match']\n",
    "\n",
    "movable_appliances = ['Load_StatusApplianceDishwasher', 'Load_StatusPlugLoadVacuum', 'Load_StatusClothesWasher',\n",
    "                      'Load_StatusDryerPowerTotal', 'Load_StatusPlugLoadIron']\n",
    "\n",
    "appliances = ['Timestamp'] + meta.index.tolist() + meta.tolist()\n",
    "\n",
    "patterns = SE_time_df(\n",
    "    dataframe=json_to_dataframe(\n",
    "        year=2,\n",
    "        level=1,\n",
    "        exclude_follows=True,\n",
    "        with_redundancy=False).loc[lambda self: self['pattern'].isin(movable_appliances)],\n",
    "    TAT=0.1,\n",
    "    TS_method='mean')\n",
    "\n",
    "power_consumption = power_consumption_vector(movable_appliances=movable_appliances)\n",
    "\n",
    "# with redundancy <- w.r\n",
    "# without redundancy <- w.o.r\n",
    "# movable appliances unoptimised <- m.a.u.o\n",
    "# movable appliances optimised <- m.a.o\n",
    "NZERTF_optimisation = {\n",
    "    'w.r': Db.load_data(year=2, hourly=False)[appliances],\n",
    "    'w.o.r': Db.load_data(year=2, hourly=False, with_redundancy=False)[appliances]\n",
    "}\n",
    "\n",
    "NZERTF_optimisation.update({\n",
    "    'm.a.u.o': NZERTF_optimisation['w.o.r'].copy()[['Timestamp'] + movable_appliances]\n",
    "})\n",
    "\n",
    "timestamps = pd.to_datetime(\n",
    "    NZERTF_optimisation['w.r']['Timestamp'].dt.strftime('%Y-%m-%d %H').unique(),\n",
    "    format='%Y-%m-%d %H')\n",
    "\n",
    "production = Db.load_data(\n",
    "    consumption=False,\n",
    "    production=True,\n",
    "    year=2)['CO2(Grams)/kWh'][lambda self: self.index.isin(timestamps)]\n",
    "production = production.groupby(pd.to_datetime(production.index.strftime('%Y-%m-%d %H'))).sum()\n",
    "\n",
    "for key in NZERTF_optimisation.keys():\n",
    "    if all([att in NZERTF_optimisation[key].columns for att in meta.tolist()]):\n",
    "        print(key)\n",
    "        NZERTF_optimisation.update({\n",
    "            key: hourly_house_df(house_df=NZERTF_optimisation[key].copy(),\n",
    "                                 aggregate_func='mean')\n",
    "        })\n",
    "        NZERTF_optimisation[key]['Consumption'] = NZERTF_optimisation[key][meta.tolist()].div(1_000).sum(1)\n",
    "        NZERTF_optimisation[key].drop(labels=meta.tolist(), inplace=True, axis=1)\n",
    "    else:\n",
    "        # switch_rows = {}\n",
    "        # for app in movable_appliances:\n",
    "        #     switch_rows.update({\n",
    "        #         app: NZERTF_optimisation[key].copy().loc[lambda self: (self[app] != self[app].shift(1)) & (self[app] == 1)]\n",
    "        #     })\n",
    "        #     switch_rows[app]['Day'] = switch_rows[app]['Timestamp'].dt.dayofyear\n",
    "        #     switch_rows[app]['Day'] = switch_rows[app]['Day'] - switch_rows[app].loc[lambda self: self.index[0], 'Day']\n",
    "        #\n",
    "        #     first_index = switch_rows[app].loc[lambda self: self['Day'] < 0].index.tolist()[0]\n",
    "        #     switch_rows[app].loc[first_index:, 'Day'] = switch_rows[app].loc[first_index:, 'Day'] + 365\n",
    "        #\n",
    "        #     switch_rows[app]['Hour'] = switch_rows[app]['Timestamp'].dt.hour\n",
    "\n",
    "        NZERTF_optimisation.update({\n",
    "            key: hourly_house_df(house_df=NZERTF_optimisation[key], aggregate_func='mean')\n",
    "        })\n",
    "\n",
    "        # for app in movable_appliances:\n",
    "        #     timespan = patterns[app]['Timespan'][0] / 60\n",
    "        #     NZERTF_optimisation[key][app] = 0\n",
    "        #     for row in switch_rows[app].itertuples():\n",
    "        #         remaining = timespan\n",
    "        #         hour = row.Hour\n",
    "        #         while remaining > 0:\n",
    "        #             current = NZERTF_optimisation[key].loc[\n",
    "        #                 (lambda self: (self['Day'] == row.Day) & (self['Hour'] == hour)), app].values[0]\n",
    "        #             print(current)\n",
    "        #             NZERTF_optimisation[key].loc[\n",
    "        #                 (lambda self: (self['Day'] == row.Day) & (self['Hour'] == hour)), app] = min(current + remaining, 1)\n",
    "        #             remaining = max(current + remaining - 1, 0)\n",
    "        #             hour += 1\n",
    "\n",
    "        NZERTF_optimisation[key]['Consumption'] = NZERTF_optimisation[key][movable_appliances].dot(\n",
    "            power_consumption).div(1_000)\n",
    "\n",
    "    for day in NZERTF_optimisation[key]['Day'].unique():\n",
    "        NZERTF_optimisation[key] = find_emissions(\n",
    "            df=NZERTF_optimisation[key],\n",
    "            emission_vec=slice_emission_vector(\n",
    "                production_vectors=production,\n",
    "                day_number=day), day_number=day)\n",
    "\n",
    "NZERTF_optimisation.update({\n",
    "    'm.a.o': NZERTF_optimiser()\n",
    "})\n",
    "\n",
    "NZERTF_emission = {}\n",
    "\n",
    "for key in NZERTF_optimisation.keys():\n",
    "    NZERTF_emission.update({\n",
    "        key: NZERTF_optimisation[key]['Emission'].sum()\n",
    "    })"
   ],
   "metadata": {
    "collapsed": false,
    "pycharm": {
     "name": "#%%\n"
    }
   }
  },
  {
   "cell_type": "code",
   "execution_count": 4,
   "outputs": [
    {
     "name": "stdout",
     "output_type": "stream",
     "text": [
      "w.r: 0       1328.042773\n",
      "1       1539.158981\n",
      "2       1352.737945\n",
      "3       1340.135926\n",
      "4       1353.829191\n",
      "           ...     \n",
      "8667    6982.927022\n",
      "8668    6236.386589\n",
      "8669    6533.561703\n",
      "8670    7508.825373\n",
      "8671    3623.419072\n",
      "Name: Emission, Length: 8672, dtype: float64\n",
      "w.o.r: 0       1328.042773\n",
      "1       1539.158981\n",
      "2       1352.737945\n",
      "3       1340.135926\n",
      "4       1353.829191\n",
      "           ...     \n",
      "8667    5942.441163\n",
      "8668    5767.128292\n",
      "8669    6533.561703\n",
      "8670    7437.999913\n",
      "8671    3605.277278\n",
      "Name: Emission, Length: 8672, dtype: float64\n",
      "m.a.u.o: 0         0.000000\n",
      "1         0.000000\n",
      "2         0.000000\n",
      "3         0.000000\n",
      "4         0.000000\n",
      "           ...    \n",
      "8667      0.000000\n",
      "8668    119.485024\n",
      "8669    217.245498\n",
      "8670    144.830332\n",
      "8671      0.000000\n",
      "Name: Emission, Length: 8672, dtype: float64\n",
      "m.a.o: 0          0.000000\n",
      "1          0.000000\n",
      "2          0.000000\n",
      "3          0.000000\n",
      "4          0.000000\n",
      "           ...     \n",
      "8667       0.000000\n",
      "8668      48.797821\n",
      "8669    1069.285258\n",
      "8670     118.589460\n",
      "8671      29.647365\n",
      "Name: Emission, Length: 8672, dtype: float64\n"
     ]
    }
   ],
   "source": [
    "for key, value in NZERTF_optimisation.items():\n",
    "    print(f'{key}: {value[\"Emission\"]}')"
   ],
   "metadata": {
    "collapsed": false,
    "pycharm": {
     "name": "#%%\n"
    }
   }
  },
  {
   "cell_type": "code",
   "execution_count": 5,
   "outputs": [
    {
     "data": {
      "text/plain": "{'w.r': 26572630.24967194,\n 'w.o.r': 25964559.416087758,\n 'm.a.u.o': 511242.76383277134,\n 'm.a.o': 539569.892249094}"
     },
     "execution_count": 5,
     "metadata": {},
     "output_type": "execute_result"
    }
   ],
   "source": [
    "NZERTF_emission"
   ],
   "metadata": {
    "collapsed": false,
    "pycharm": {
     "name": "#%%\n"
    }
   }
  },
  {
   "cell_type": "code",
   "execution_count": 6,
   "outputs": [],
   "source": [
    "redundancy_reduction = NZERTF_emission['w.r'] - NZERTF_emission['w.o.r']\n",
    "optimisation_reduction = NZERTF_emission['m.a.u.o'] - NZERTF_emission['m.a.o']\n",
    "total_reduction = redundancy_reduction + optimisation_reduction"
   ],
   "metadata": {
    "collapsed": false,
    "pycharm": {
     "name": "#%%\n"
    }
   }
  },
  {
   "cell_type": "code",
   "execution_count": 7,
   "outputs": [
    {
     "data": {
      "text/plain": "608070.833584182"
     },
     "execution_count": 7,
     "metadata": {},
     "output_type": "execute_result"
    }
   ],
   "source": [
    "redundancy_reduction"
   ],
   "metadata": {
    "collapsed": false,
    "pycharm": {
     "name": "#%%\n"
    }
   }
  },
  {
   "cell_type": "code",
   "execution_count": 8,
   "outputs": [
    {
     "data": {
      "text/plain": "-28327.128416322637"
     },
     "execution_count": 8,
     "metadata": {},
     "output_type": "execute_result"
    }
   ],
   "source": [
    "optimisation_reduction"
   ],
   "metadata": {
    "collapsed": false,
    "pycharm": {
     "name": "#%%\n"
    }
   }
  },
  {
   "cell_type": "code",
   "execution_count": 9,
   "outputs": [
    {
     "data": {
      "text/plain": "579743.7051678593"
     },
     "execution_count": 9,
     "metadata": {},
     "output_type": "execute_result"
    }
   ],
   "source": [
    "total_reduction"
   ],
   "metadata": {
    "collapsed": false,
    "pycharm": {
     "name": "#%%\n"
    }
   }
  },
  {
   "cell_type": "code",
   "execution_count": 10,
   "outputs": [
    {
     "data": {
      "text/plain": "      Day  Hour           Timestamp  Load_StatusApplianceDishwasher  \\\n0       0     0 2015-02-01 00:00:00                               0   \n1       0     1 2015-02-01 01:00:00                               0   \n2       0     2 2015-02-01 02:00:00                               0   \n3       0     3 2015-02-01 03:00:00                               0   \n4       0     4 2015-02-01 04:00:00                               0   \n...   ...   ...                 ...                             ...   \n8667  364    19 2016-01-31 19:00:00                               0   \n8668  364    20 2016-01-31 20:00:00                               0   \n8669  364    21 2016-01-31 21:00:00                               1   \n8670  364    22 2016-01-31 22:00:00                               1   \n8671  364    23 2016-01-31 23:00:00                               1   \n\n      Load_StatusPlugLoadVacuum  Load_StatusClothesWasher  \\\n0                             0                         0   \n1                             0                         0   \n2                             0                         0   \n3                             0                         0   \n4                             0                         0   \n...                         ...                       ...   \n8667                          0                         0   \n8668                          0                         1   \n8669                          0                         1   \n8670                          0                         0   \n8671                          0                         0   \n\n      Load_StatusDryerPowerTotal  Load_StatusPlugLoadIron     Emission  \\\n0                              0                        0     0.000000   \n1                              0                        0     0.000000   \n2                              0                        0     0.000000   \n3                              0                        0     0.000000   \n4                              0                        0     0.000000   \n...                          ...                      ...          ...   \n8667                           0                        0     0.000000   \n8668                           0                        0    48.797821   \n8669                           0                        0  1069.285258   \n8670                           0                        0   118.589460   \n8671                           0                        0    29.647365   \n\n      CumulativeEmission  \n0               0.000000  \n1               0.000000  \n2               0.000000  \n3               0.000000  \n4               0.000000  \n...                  ...  \n8667       538303.572346  \n8668       538352.370166  \n8669       539421.655424  \n8670       539540.244884  \n8671       539569.892249  \n\n[8672 rows x 10 columns]",
      "text/html": "<div>\n<style scoped>\n    .dataframe tbody tr th:only-of-type {\n        vertical-align: middle;\n    }\n\n    .dataframe tbody tr th {\n        vertical-align: top;\n    }\n\n    .dataframe thead th {\n        text-align: right;\n    }\n</style>\n<table border=\"1\" class=\"dataframe\">\n  <thead>\n    <tr style=\"text-align: right;\">\n      <th></th>\n      <th>Day</th>\n      <th>Hour</th>\n      <th>Timestamp</th>\n      <th>Load_StatusApplianceDishwasher</th>\n      <th>Load_StatusPlugLoadVacuum</th>\n      <th>Load_StatusClothesWasher</th>\n      <th>Load_StatusDryerPowerTotal</th>\n      <th>Load_StatusPlugLoadIron</th>\n      <th>Emission</th>\n      <th>CumulativeEmission</th>\n    </tr>\n  </thead>\n  <tbody>\n    <tr>\n      <th>0</th>\n      <td>0</td>\n      <td>0</td>\n      <td>2015-02-01 00:00:00</td>\n      <td>0</td>\n      <td>0</td>\n      <td>0</td>\n      <td>0</td>\n      <td>0</td>\n      <td>0.000000</td>\n      <td>0.000000</td>\n    </tr>\n    <tr>\n      <th>1</th>\n      <td>0</td>\n      <td>1</td>\n      <td>2015-02-01 01:00:00</td>\n      <td>0</td>\n      <td>0</td>\n      <td>0</td>\n      <td>0</td>\n      <td>0</td>\n      <td>0.000000</td>\n      <td>0.000000</td>\n    </tr>\n    <tr>\n      <th>2</th>\n      <td>0</td>\n      <td>2</td>\n      <td>2015-02-01 02:00:00</td>\n      <td>0</td>\n      <td>0</td>\n      <td>0</td>\n      <td>0</td>\n      <td>0</td>\n      <td>0.000000</td>\n      <td>0.000000</td>\n    </tr>\n    <tr>\n      <th>3</th>\n      <td>0</td>\n      <td>3</td>\n      <td>2015-02-01 03:00:00</td>\n      <td>0</td>\n      <td>0</td>\n      <td>0</td>\n      <td>0</td>\n      <td>0</td>\n      <td>0.000000</td>\n      <td>0.000000</td>\n    </tr>\n    <tr>\n      <th>4</th>\n      <td>0</td>\n      <td>4</td>\n      <td>2015-02-01 04:00:00</td>\n      <td>0</td>\n      <td>0</td>\n      <td>0</td>\n      <td>0</td>\n      <td>0</td>\n      <td>0.000000</td>\n      <td>0.000000</td>\n    </tr>\n    <tr>\n      <th>...</th>\n      <td>...</td>\n      <td>...</td>\n      <td>...</td>\n      <td>...</td>\n      <td>...</td>\n      <td>...</td>\n      <td>...</td>\n      <td>...</td>\n      <td>...</td>\n      <td>...</td>\n    </tr>\n    <tr>\n      <th>8667</th>\n      <td>364</td>\n      <td>19</td>\n      <td>2016-01-31 19:00:00</td>\n      <td>0</td>\n      <td>0</td>\n      <td>0</td>\n      <td>0</td>\n      <td>0</td>\n      <td>0.000000</td>\n      <td>538303.572346</td>\n    </tr>\n    <tr>\n      <th>8668</th>\n      <td>364</td>\n      <td>20</td>\n      <td>2016-01-31 20:00:00</td>\n      <td>0</td>\n      <td>0</td>\n      <td>1</td>\n      <td>0</td>\n      <td>0</td>\n      <td>48.797821</td>\n      <td>538352.370166</td>\n    </tr>\n    <tr>\n      <th>8669</th>\n      <td>364</td>\n      <td>21</td>\n      <td>2016-01-31 21:00:00</td>\n      <td>1</td>\n      <td>0</td>\n      <td>1</td>\n      <td>0</td>\n      <td>0</td>\n      <td>1069.285258</td>\n      <td>539421.655424</td>\n    </tr>\n    <tr>\n      <th>8670</th>\n      <td>364</td>\n      <td>22</td>\n      <td>2016-01-31 22:00:00</td>\n      <td>1</td>\n      <td>0</td>\n      <td>0</td>\n      <td>0</td>\n      <td>0</td>\n      <td>118.589460</td>\n      <td>539540.244884</td>\n    </tr>\n    <tr>\n      <th>8671</th>\n      <td>364</td>\n      <td>23</td>\n      <td>2016-01-31 23:00:00</td>\n      <td>1</td>\n      <td>0</td>\n      <td>0</td>\n      <td>0</td>\n      <td>0</td>\n      <td>29.647365</td>\n      <td>539569.892249</td>\n    </tr>\n  </tbody>\n</table>\n<p>8672 rows × 10 columns</p>\n</div>"
     },
     "execution_count": 10,
     "metadata": {},
     "output_type": "execute_result"
    }
   ],
   "source": [
    "NZERTF_optimisation['m.a.o']"
   ],
   "metadata": {
    "collapsed": false,
    "pycharm": {
     "name": "#%%\n"
    }
   }
  },
  {
   "cell_type": "code",
   "execution_count": 11,
   "outputs": [
    {
     "data": {
      "text/plain": "      Day  Hour  Load_StatusApplianceDishwasher  Load_StatusPlugLoadVacuum  \\\n0       0     0                        0.000000                        0.0   \n1       0     1                        0.000000                        0.0   \n2       0     2                        0.000000                        0.0   \n3       0     3                        0.000000                        0.0   \n4       0     4                        0.000000                        0.0   \n...   ...   ...                             ...                        ...   \n8667  364    19                        0.000000                        0.0   \n8668  364    20                        0.550000                        0.0   \n8669  364    21                        1.000000                        0.0   \n8670  364    22                        0.666667                        0.0   \n8671  364    23                        0.000000                        0.0   \n\n      Load_StatusClothesWasher  Load_StatusDryerPowerTotal  \\\n0                          0.0                         0.0   \n1                          0.0                         0.0   \n2                          0.0                         0.0   \n3                          0.0                         0.0   \n4                          0.0                         0.0   \n...                        ...                         ...   \n8667                       0.0                         0.0   \n8668                       0.0                         0.0   \n8669                       0.0                         0.0   \n8670                       0.0                         0.0   \n8671                       0.0                         0.0   \n\n      Load_StatusPlugLoadIron    Emission  Consumption  \n0                         0.0    0.000000       0.0000  \n1                         0.0    0.000000       0.0000  \n2                         0.0    0.000000       0.0000  \n3                         0.0    0.000000       0.0000  \n4                         0.0    0.000000       0.0000  \n...                       ...         ...          ...  \n8667                      0.0    0.000000       0.0000  \n8668                      0.0  119.485024       0.1551  \n8669                      0.0  217.245498       0.2820  \n8670                      0.0  144.830332       0.1880  \n8671                      0.0    0.000000       0.0000  \n\n[8672 rows x 9 columns]",
      "text/html": "<div>\n<style scoped>\n    .dataframe tbody tr th:only-of-type {\n        vertical-align: middle;\n    }\n\n    .dataframe tbody tr th {\n        vertical-align: top;\n    }\n\n    .dataframe thead th {\n        text-align: right;\n    }\n</style>\n<table border=\"1\" class=\"dataframe\">\n  <thead>\n    <tr style=\"text-align: right;\">\n      <th></th>\n      <th>Day</th>\n      <th>Hour</th>\n      <th>Load_StatusApplianceDishwasher</th>\n      <th>Load_StatusPlugLoadVacuum</th>\n      <th>Load_StatusClothesWasher</th>\n      <th>Load_StatusDryerPowerTotal</th>\n      <th>Load_StatusPlugLoadIron</th>\n      <th>Emission</th>\n      <th>Consumption</th>\n    </tr>\n  </thead>\n  <tbody>\n    <tr>\n      <th>0</th>\n      <td>0</td>\n      <td>0</td>\n      <td>0.000000</td>\n      <td>0.0</td>\n      <td>0.0</td>\n      <td>0.0</td>\n      <td>0.0</td>\n      <td>0.000000</td>\n      <td>0.0000</td>\n    </tr>\n    <tr>\n      <th>1</th>\n      <td>0</td>\n      <td>1</td>\n      <td>0.000000</td>\n      <td>0.0</td>\n      <td>0.0</td>\n      <td>0.0</td>\n      <td>0.0</td>\n      <td>0.000000</td>\n      <td>0.0000</td>\n    </tr>\n    <tr>\n      <th>2</th>\n      <td>0</td>\n      <td>2</td>\n      <td>0.000000</td>\n      <td>0.0</td>\n      <td>0.0</td>\n      <td>0.0</td>\n      <td>0.0</td>\n      <td>0.000000</td>\n      <td>0.0000</td>\n    </tr>\n    <tr>\n      <th>3</th>\n      <td>0</td>\n      <td>3</td>\n      <td>0.000000</td>\n      <td>0.0</td>\n      <td>0.0</td>\n      <td>0.0</td>\n      <td>0.0</td>\n      <td>0.000000</td>\n      <td>0.0000</td>\n    </tr>\n    <tr>\n      <th>4</th>\n      <td>0</td>\n      <td>4</td>\n      <td>0.000000</td>\n      <td>0.0</td>\n      <td>0.0</td>\n      <td>0.0</td>\n      <td>0.0</td>\n      <td>0.000000</td>\n      <td>0.0000</td>\n    </tr>\n    <tr>\n      <th>...</th>\n      <td>...</td>\n      <td>...</td>\n      <td>...</td>\n      <td>...</td>\n      <td>...</td>\n      <td>...</td>\n      <td>...</td>\n      <td>...</td>\n      <td>...</td>\n    </tr>\n    <tr>\n      <th>8667</th>\n      <td>364</td>\n      <td>19</td>\n      <td>0.000000</td>\n      <td>0.0</td>\n      <td>0.0</td>\n      <td>0.0</td>\n      <td>0.0</td>\n      <td>0.000000</td>\n      <td>0.0000</td>\n    </tr>\n    <tr>\n      <th>8668</th>\n      <td>364</td>\n      <td>20</td>\n      <td>0.550000</td>\n      <td>0.0</td>\n      <td>0.0</td>\n      <td>0.0</td>\n      <td>0.0</td>\n      <td>119.485024</td>\n      <td>0.1551</td>\n    </tr>\n    <tr>\n      <th>8669</th>\n      <td>364</td>\n      <td>21</td>\n      <td>1.000000</td>\n      <td>0.0</td>\n      <td>0.0</td>\n      <td>0.0</td>\n      <td>0.0</td>\n      <td>217.245498</td>\n      <td>0.2820</td>\n    </tr>\n    <tr>\n      <th>8670</th>\n      <td>364</td>\n      <td>22</td>\n      <td>0.666667</td>\n      <td>0.0</td>\n      <td>0.0</td>\n      <td>0.0</td>\n      <td>0.0</td>\n      <td>144.830332</td>\n      <td>0.1880</td>\n    </tr>\n    <tr>\n      <th>8671</th>\n      <td>364</td>\n      <td>23</td>\n      <td>0.000000</td>\n      <td>0.0</td>\n      <td>0.0</td>\n      <td>0.0</td>\n      <td>0.0</td>\n      <td>0.000000</td>\n      <td>0.0000</td>\n    </tr>\n  </tbody>\n</table>\n<p>8672 rows × 9 columns</p>\n</div>"
     },
     "execution_count": 11,
     "metadata": {},
     "output_type": "execute_result"
    }
   ],
   "source": [
    "NZERTF_optimisation['m.a.u.o']"
   ],
   "metadata": {
    "collapsed": false,
    "pycharm": {
     "name": "#%%\n"
    }
   }
  },
  {
   "cell_type": "code",
   "execution_count": 12,
   "outputs": [
    {
     "data": {
      "text/plain": "{'Load_StatusClothesWasher':     TotalAbsSupport  AbsSupport  EventCount  ExternalUtility  RelSupport  \\\n 0                 0           0         312         0.427397    0.000000   \n 1                 0           0         312         0.427397    0.000000   \n 2                 0           0         312         0.427397    0.000000   \n 3                 0           0         312         0.427397    0.000000   \n 4                 0           0         312         0.427397    0.000000   \n 5                 0           0         312         0.427397    0.000000   \n 6                 0           0         312         0.427397    0.000000   \n 7                 0           0         312         0.427397    0.000000   \n 8                 0           0         312         0.427397    0.000000   \n 9                 0           0         312         0.427397    0.000000   \n 10                1           1         312         0.427397    0.002740   \n 11              103         103         312         0.427397    0.282192   \n 12               11          11         312         0.427397    0.030137   \n 13                2           2         312         0.427397    0.005479   \n 14              104         104         312         0.427397    0.284932   \n 15              104         104         312         0.427397    0.284932   \n 16                1           1         312         0.427397    0.002740   \n 17                0           0         312         0.427397    0.000000   \n 18               51          51         312         0.427397    0.139726   \n 19               51          51         312         0.427397    0.139726   \n 20               51          51         312         0.427397    0.139726   \n 21               51          51         312         0.427397    0.139726   \n 22                0           0         312         0.427397    0.000000   \n 23                0           0         312         0.427397    0.000000   \n \n     TimeAssociation  Timespan  Flexibility  \n 0                 0        57     8.421053  \n 1                 0        57     8.421053  \n 2                 0        57     8.421053  \n 3                 0        57     8.421053  \n 4                 0        57     8.421053  \n 5                 0        57     8.421053  \n 6                 0        57     8.421053  \n 7                 0        57     8.421053  \n 8                 0        57     8.421053  \n 9                 0        57     8.421053  \n 10                0        57     8.421053  \n 11                1        57     8.421053  \n 12                1        57     8.421053  \n 13                0        57     8.421053  \n 14                1        57     8.421053  \n 15                1        57     8.421053  \n 16                0        57     8.421053  \n 17                0        57     8.421053  \n 18                1        57     8.421053  \n 19                1        57     8.421053  \n 20                1        57     8.421053  \n 21                1        57     8.421053  \n 22                0        57     8.421053  \n 23                0        57     8.421053  ,\n 'Load_StatusDryerPowerTotal':     TotalAbsSupport  AbsSupport  EventCount  ExternalUtility  RelSupport  \\\n 0                 0           0         264         0.432877    0.000000   \n 1                 0           0         264         0.432877    0.000000   \n 2                 0           0         264         0.432877    0.000000   \n 3                 0           0         264         0.432877    0.000000   \n 4                 0           0         264         0.432877    0.000000   \n 5                 0           0         264         0.432877    0.000000   \n 6                 0           0         264         0.432877    0.000000   \n 7                 0           0         264         0.432877    0.000000   \n 8                 0           0         264         0.432877    0.000000   \n 9                 0           0         264         0.432877    0.000000   \n 10                0           0         264         0.432877    0.000000   \n 11                2           2         264         0.432877    0.005479   \n 12              104         104         264         0.432877    0.284932   \n 13               36          36         264         0.432877    0.098630   \n 14                2           2         264         0.432877    0.005479   \n 15              104         104         264         0.432877    0.284932   \n 16                1           1         264         0.432877    0.002740   \n 17                0           0         264         0.432877    0.000000   \n 18                0           0         264         0.432877    0.000000   \n 19                0           0         264         0.432877    0.000000   \n 20               51          51         264         0.432877    0.139726   \n 21               14          14         264         0.432877    0.038356   \n 22                0           0         264         0.432877    0.000000   \n 23                0           0         264         0.432877    0.000000   \n \n     TimeAssociation  Timespan  Flexibility  \n 0                 0        28    10.714286  \n 1                 0        28    10.714286  \n 2                 0        28    10.714286  \n 3                 0        28    10.714286  \n 4                 0        28    10.714286  \n 5                 0        28    10.714286  \n 6                 0        28    10.714286  \n 7                 0        28    10.714286  \n 8                 0        28    10.714286  \n 9                 0        28    10.714286  \n 10                0        28    10.714286  \n 11                0        28    10.714286  \n 12                1        28    10.714286  \n 13                1        28    10.714286  \n 14                0        28    10.714286  \n 15                1        28    10.714286  \n 16                0        28    10.714286  \n 17                0        28    10.714286  \n 18                0        28    10.714286  \n 19                0        28    10.714286  \n 20                1        28    10.714286  \n 21                1        28    10.714286  \n 22                0        28    10.714286  \n 23                0        28    10.714286  ,\n 'Load_StatusPlugLoadIron':     TotalAbsSupport  AbsSupport  EventCount  ExternalUtility  RelSupport  \\\n 0                 0           0         105         0.287671    0.000000   \n 1                 0           0         105         0.287671    0.000000   \n 2                 0           0         105         0.287671    0.000000   \n 3                 0           0         105         0.287671    0.000000   \n 4                 0           0         105         0.287671    0.000000   \n 5                 0           0         105         0.287671    0.000000   \n 6                 0           0         105         0.287671    0.000000   \n 7                 0           0         105         0.287671    0.000000   \n 8                 0           0         105         0.287671    0.000000   \n 9                 0           0         105         0.287671    0.000000   \n 10                0           0         105         0.287671    0.000000   \n 11                0           0         105         0.287671    0.000000   \n 12                0           0         105         0.287671    0.000000   \n 13                1           1         105         0.287671    0.002740   \n 14               51          51         105         0.287671    0.139726   \n 15                1           1         105         0.287671    0.002740   \n 16                0           0         105         0.287671    0.000000   \n 17               45          45         105         0.287671    0.123288   \n 18               52          52         105         0.287671    0.142466   \n 19                0           0         105         0.287671    0.000000   \n 20                0           0         105         0.287671    0.000000   \n 21                0           0         105         0.287671    0.000000   \n 22                0           0         105         0.287671    0.000000   \n 23                0           0         105         0.287671    0.000000   \n \n     TimeAssociation  Timespan  Flexibility  \n 0                 0        19     9.473684  \n 1                 0        19     9.473684  \n 2                 0        19     9.473684  \n 3                 0        19     9.473684  \n 4                 0        19     9.473684  \n 5                 0        19     9.473684  \n 6                 0        19     9.473684  \n 7                 0        19     9.473684  \n 8                 0        19     9.473684  \n 9                 0        19     9.473684  \n 10                0        19     9.473684  \n 11                0        19     9.473684  \n 12                0        19     9.473684  \n 13                0        19     9.473684  \n 14                1        19     9.473684  \n 15                0        19     9.473684  \n 16                0        19     9.473684  \n 17                1        19     9.473684  \n 18                1        19     9.473684  \n 19                0        19     9.473684  \n 20                0        19     9.473684  \n 21                0        19     9.473684  \n 22                0        19     9.473684  \n 23                0        19     9.473684  ,\n 'Load_StatusApplianceDishwasher':     TotalAbsSupport  AbsSupport  EventCount  ExternalUtility  RelSupport  \\\n 0                 0           0         260         0.712329    0.000000   \n 1                 0           0         260         0.712329    0.000000   \n 2                 0           0         260         0.712329    0.000000   \n 3                 0           0         260         0.712329    0.000000   \n 4                 0           0         260         0.712329    0.000000   \n 5                 0           0         260         0.712329    0.000000   \n 6                 0           0         260         0.712329    0.000000   \n 7                 0           0         260         0.712329    0.000000   \n 8                 0           0         260         0.712329    0.000000   \n 9                 0           0         260         0.712329    0.000000   \n 10                0           0         260         0.712329    0.000000   \n 11                0           0         260         0.712329    0.000000   \n 12                0           0         260         0.712329    0.000000   \n 13                0           0         260         0.712329    0.000000   \n 14                0           0         260         0.712329    0.000000   \n 15                0           0         260         0.712329    0.000000   \n 16                0           0         260         0.712329    0.000000   \n 17                0           0         260         0.712329    0.000000   \n 18                0           0         260         0.712329    0.000000   \n 19                1           1         260         0.712329    0.002740   \n 20              248         248         260         0.712329    0.679452   \n 21              254         254         260         0.712329    0.695890   \n 22              253         253         260         0.712329    0.693151   \n 23               53          53         260         0.712329    0.145205   \n \n     TimeAssociation  Timespan  Flexibility  \n 0                 0       135     1.777778  \n 1                 0       135     1.777778  \n 2                 0       135     1.777778  \n 3                 0       135     1.777778  \n 4                 0       135     1.777778  \n 5                 0       135     1.777778  \n 6                 0       135     1.777778  \n 7                 0       135     1.777778  \n 8                 0       135     1.777778  \n 9                 0       135     1.777778  \n 10                0       135     1.777778  \n 11                0       135     1.777778  \n 12                0       135     1.777778  \n 13                0       135     1.777778  \n 14                0       135     1.777778  \n 15                0       135     1.777778  \n 16                0       135     1.777778  \n 17                0       135     1.777778  \n 18                0       135     1.777778  \n 19                0       135     1.777778  \n 20                1       135     1.777778  \n 21                1       135     1.777778  \n 22                1       135     1.777778  \n 23                1       135     1.777778  ,\n 'Load_StatusPlugLoadVacuum':     TotalAbsSupport  AbsSupport  EventCount  ExternalUtility  RelSupport  \\\n 0                 0           0          52         0.142466    0.000000   \n 1                 0           0          52         0.142466    0.000000   \n 2                 0           0          52         0.142466    0.000000   \n 3                 0           0          52         0.142466    0.000000   \n 4                 0           0          52         0.142466    0.000000   \n 5                 0           0          52         0.142466    0.000000   \n 6                 0           0          52         0.142466    0.000000   \n 7                 0           0          52         0.142466    0.000000   \n 8                 0           0          52         0.142466    0.000000   \n 9                 0           0          52         0.142466    0.000000   \n 10                0           0          52         0.142466    0.000000   \n 11                0           0          52         0.142466    0.000000   \n 12                0           0          52         0.142466    0.000000   \n 13                0           0          52         0.142466    0.000000   \n 14                0           0          52         0.142466    0.000000   \n 15                0           0          52         0.142466    0.000000   \n 16                0           0          52         0.142466    0.000000   \n 17               52          52          52         0.142466    0.142466   \n 18               52          52          52         0.142466    0.142466   \n 19               52          52          52         0.142466    0.142466   \n 20                0           0          52         0.142466    0.000000   \n 21                0           0          52         0.142466    0.000000   \n 22                0           0          52         0.142466    0.000000   \n 23                0           0          52         0.142466    0.000000   \n \n     TimeAssociation  Timespan  Flexibility  \n 0                 0       110     1.636364  \n 1                 0       110     1.636364  \n 2                 0       110     1.636364  \n 3                 0       110     1.636364  \n 4                 0       110     1.636364  \n 5                 0       110     1.636364  \n 6                 0       110     1.636364  \n 7                 0       110     1.636364  \n 8                 0       110     1.636364  \n 9                 0       110     1.636364  \n 10                0       110     1.636364  \n 11                0       110     1.636364  \n 12                0       110     1.636364  \n 13                0       110     1.636364  \n 14                0       110     1.636364  \n 15                0       110     1.636364  \n 16                0       110     1.636364  \n 17                1       110     1.636364  \n 18                1       110     1.636364  \n 19                1       110     1.636364  \n 20                0       110     1.636364  \n 21                0       110     1.636364  \n 22                0       110     1.636364  \n 23                0       110     1.636364  }"
     },
     "execution_count": 12,
     "metadata": {},
     "output_type": "execute_result"
    }
   ],
   "source": [
    "patterns"
   ],
   "metadata": {
    "collapsed": false,
    "pycharm": {
     "name": "#%%\n"
    }
   }
  },
  {
   "cell_type": "code",
   "execution_count": 13,
   "outputs": [
    {
     "data": {
      "text/plain": "860.0108024056099"
     },
     "execution_count": 13,
     "metadata": {},
     "output_type": "execute_result"
    }
   ],
   "source": [
    "NZERTF_optimisation['w.r']['Consumption'].sum()-NZERTF_optimisation['w.o.r']['Consumption'].sum()"
   ],
   "metadata": {
    "collapsed": false,
    "pycharm": {
     "name": "#%%\n"
    }
   }
  },
  {
   "cell_type": "code",
   "execution_count": 13,
   "outputs": [],
   "source": [],
   "metadata": {
    "collapsed": false,
    "pycharm": {
     "name": "#%%\n"
    }
   }
  }
 ],
 "metadata": {
  "kernelspec": {
   "display_name": "Python 3",
   "language": "python",
   "name": "python3"
  },
  "language_info": {
   "codemirror_mode": {
    "name": "ipython",
    "version": 2
   },
   "file_extension": ".py",
   "mimetype": "text/x-python",
   "name": "python",
   "nbconvert_exporter": "python",
   "pygments_lexer": "ipython2",
   "version": "2.7.6"
  }
 },
 "nbformat": 4,
 "nbformat_minor": 0
}
{
 "cells": [
  {
   "cell_type": "code",
   "execution_count": 1,
   "metadata": {
    "collapsed": true,
    "pycharm": {
     "name": "#%%\n"
    }
   },
   "outputs": [],
   "source": [
    "import re\n",
    "\n",
    "import pandas as pd\n",
    "import plotly.express as px\n",
    "\n",
    "from Project.Database import Db"
   ]
  },
  {
   "cell_type": "code",
   "execution_count": 11,
   "outputs": [],
   "source": [
    "def create_gantt_vis(year):\n",
    "    NZERTF, NZERTF_meta = Db.load_data(hourly=False, meta=True, year=year)\n",
    "\n",
    "    #Extract appliances from the meta data\n",
    "    appliance_condition = (lambda self: (\n",
    "            (self[\"Parameter\"] == \"Status_OnOff\") &\n",
    "            (self[\"Subsystem\"] == \"Loads\") &\n",
    "            (~self.index.str.contains(\"SensHeat\"))\n",
    "    ))\n",
    "    appliance_location = pd.DataFrame(NZERTF_meta.loc[appliance_condition, \"Measurement_Floor\"].sort_values(ascending=True))\n",
    "    appliance_order = NZERTF_meta.loc[appliance_condition, [\"Measurement_Floor\", \"Measurement_Location\"]]\n",
    "    appliance_order[\"Name\"] = [\n",
    "        \" \".join(re.findall('[A-Z][^A-Z]*', \"\".join(''.join(app.split(\"PlugLoad\")).split(\"Appliance\")).split(\"Load_Status\")[-1])) for app in\n",
    "        appliance_order.index]\n",
    "    appliance_order = appliance_order.sort_values(by=[\"Measurement_Floor\", \"Measurement_Location\", \"Name\"])[\"Name\"]\n",
    "\n",
    "    #Combine minute data with the extracted appliances into a dataframe\n",
    "    minute_appliances_status = NZERTF[[\"Timestamp\"] + appliance_location.index.tolist()].copy()\n",
    "\n",
    "    appliance_job_list = []\n",
    "\n",
    "    for appliance, appliance_row in appliance_location.iterrows():\n",
    "        name = appliance_order[appliance]\n",
    "        appliance_switch = minute_appliances_status[(minute_appliances_status[appliance] != minute_appliances_status[appliance].shift(1))][[\"Timestamp\", appliance]][1:]\n",
    "        appliance_switch.reset_index(inplace=True, drop=True)\n",
    "        for index, row in appliance_switch.iterrows():\n",
    "            if row[appliance]:\n",
    "                try:\n",
    "                    appliance_job_list.append({\"appliance\": name, \"start\": row[\"Timestamp\"],\n",
    "                                               \"end\": appliance_switch.loc[index + 1, \"Timestamp\"],\n",
    "                                               \"location\": {'1stFloor': \"First floor\", '2ndFloor': 'Second floor'}[appliance_row[\"Measurement_Floor\"]]})\n",
    "                except:\n",
    "                    continue\n",
    "\n",
    "    # px.timeline(appliance_job_list, x_start=\"start\", x_end=\"end\", y=\"appliance\", color=\"location\", category_orders={\"appliance\": appliance_order.tolist() + [\"PrntA\", \"PrntB\", \"ChildA\", \"ChildB\"]}).write_html(\n",
    "    #     Db.get_save_file_directory(f\"Gantt/Appliance_status_gantt_year_{year}_group_floor.html\"))\n",
    "\n",
    "    residens_condition = (lambda self: (\n",
    "            (self[\"Subsystem\"] == \"Loads\") &\n",
    "            (self[\"Parameter\"] == \"Status_OnOff\") &\n",
    "            (self.index.str.contains(\"Sens\"))\n",
    "    ))\n",
    "\n",
    "    residens_location = NZERTF_meta.loc[residens_condition].index.tolist()\n",
    "    residens_location.sort()\n",
    "\n",
    "    #Combine minute data with the extracted residens into a dataframe\n",
    "    residens_location_status = NZERTF[[\"Timestamp\"] + residens_location].copy()\n",
    "    person_status_list = []\n",
    "\n",
    "    for col in residens_location:\n",
    "        name = \"\".join(re.findall(\"[PC][a-z]+[AB]\", col))\n",
    "        person_location = residens_location_status[lambda self: (self[col] != self[col].shift(1))][\n",
    "                              [\"Timestamp\", col]][1:]\n",
    "\n",
    "        df_indices = person_location.index.tolist()\n",
    "        for index, df_index in enumerate(df_indices):\n",
    "            if person_location.loc[df_index, col]:\n",
    "                try:\n",
    "                    person_status_list.append({\"appliance\": name, \"start\": person_location.loc[df_index, \"Timestamp\"],\n",
    "                                               \"end\": person_location.loc[df_indices[index + 1], \"Timestamp\"],\n",
    "                                               \"location\": {\"DOWN\": \"First floor\", \"UP\": \"Second floor\"}[\n",
    "                                                   \"\".join(col.split(name)[-1])]})\n",
    "                except:\n",
    "                    continue\n",
    "\n",
    "    fig = px.timeline(person_status_list + appliance_job_list, x_start=\"start\", x_end=\"end\", y=\"appliance\", color=\"location\", category_orders={\"appliance\": appliance_order.tolist() + [\"PrntA\", \"PrntB\", \"ChildA\", \"ChildB\"]})\n",
    "    fig.update_layout(template='plotly')\n",
    "    fig.write_html(Db.get_save_file_directory(f\"Gantt/Person_appliance_status_gantt_year_{year}_group_floor.html\"))"
   ],
   "metadata": {
    "collapsed": false,
    "pycharm": {
     "name": "#%%\n"
    }
   }
  },
  {
   "cell_type": "code",
   "execution_count": 12,
   "outputs": [],
   "source": [
    "for year in [1, 2]:\n",
    "    create_gantt_vis(year)"
   ],
   "metadata": {
    "collapsed": false,
    "pycharm": {
     "name": "#%%\n"
    }
   }
  },
  {
   "cell_type": "code",
   "execution_count": null,
   "outputs": [],
   "source": [],
   "metadata": {
    "collapsed": false,
    "pycharm": {
     "name": "#%%\n"
    }
   }
  }
 ],
 "metadata": {
  "kernelspec": {
   "display_name": "Python 3",
   "language": "python",
   "name": "python3"
  },
  "language_info": {
   "codemirror_mode": {
    "name": "ipython",
    "version": 2
   },
   "file_extension": ".py",
   "mimetype": "text/x-python",
   "name": "python",
   "nbconvert_exporter": "python",
   "pygments_lexer": "ipython2",
   "version": "2.7.6"
  }
 },
 "nbformat": 4,
 "nbformat_minor": 0
}
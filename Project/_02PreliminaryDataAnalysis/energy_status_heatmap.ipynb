{
 "cells": [
  {
   "cell_type": "code",
   "execution_count": 40,
   "outputs": [],
   "source": [
    "import pandas as pd\n",
    "import plotly.express as px\n",
    "import re\n",
    "import datetime\n",
    "\n",
    "from Project.Database import Db"
   ],
   "metadata": {
    "collapsed": false,
    "pycharm": {
     "name": "#%%\n"
    }
   }
  },
  {
   "cell_type": "code",
   "execution_count": 41,
   "outputs": [],
   "source": [
    "year1_hourly, meta = Db.load_data(hourly=True, meta=True, year=1)"
   ],
   "metadata": {
    "collapsed": false,
    "pycharm": {
     "name": "#%%\n"
    }
   }
  },
  {
   "cell_type": "code",
   "execution_count": 42,
   "outputs": [],
   "source": [
    "year2_hourly, meta = Db.load_data(hourly=True, meta=True, year=2)"
   ],
   "metadata": {
    "collapsed": false,
    "pycharm": {
     "name": "#%%\n"
    }
   }
  },
  {
   "cell_type": "code",
   "execution_count": 43,
   "outputs": [],
   "source": [
    "plugs = meta.loc[(meta['Parameter'] == \"Status_OnOff\") & (meta[\"Measurement_Location\"] == \"Kitchen\") & (~meta.index.str.contains('Solenoid')) & (~meta.index.str.contains('Sens') & (~meta.index.str.contains('Lights')) & (~meta.index.str.contains('Latent')))].index.tolist()  #"
   ],
   "metadata": {
    "collapsed": false,
    "pycharm": {
     "name": "#%%\n"
    }
   }
  },
  {
   "cell_type": "code",
   "execution_count": 44,
   "outputs": [
    {
     "data": {
      "text/plain": "(13,\n ['Load_StatusPlugLoadBlender',\n  'Load_StatusPlugLoadToasterOven',\n  'Load_StatusApplianceRangeHood',\n  'Load_StatusApplianceCooktop',\n  'Load_StatusApplianceOven',\n  'Load_StatusPlugLoadSlowCooker',\n  'Load_StatusPlugLoadToaster',\n  'Load_StatusApplianceDishwasher',\n  'Load_StatusPlugLoadHandMixer',\n  'Load_StatusPlugLoadCanOpener',\n  'Load_StatusPlugLoadCoffeeMaker',\n  'Load_StatusRefrigerator',\n  'Load_StatusMicrowave'])"
     },
     "execution_count": 44,
     "metadata": {},
     "output_type": "execute_result"
    }
   ],
   "source": [
    "len(plugs), plugs"
   ],
   "metadata": {
    "collapsed": false,
    "pycharm": {
     "name": "#%%\n"
    }
   }
  },
  {
   "cell_type": "code",
   "execution_count": 45,
   "outputs": [],
   "source": [
    "consumption = meta.loc[((meta['Parameter'] == \"Power_Electrical\") | (meta['Parameter'] == \"Power_Thermal\")) & (meta[\"Description\"].str.contains(\"power consumption\" or \"used\"))].index.tolist()"
   ],
   "metadata": {
    "collapsed": false,
    "pycharm": {
     "name": "#%%\n"
    }
   }
  },
  {
   "cell_type": "code",
   "execution_count": 46,
   "outputs": [],
   "source": [
    "status_columns = meta.loc[(lambda self:\n",
    "                           (self[\"Parameter\"] == \"Status_OnOff\") &\n",
    "                           (~ self.index.str.contains(\"SensHeat\")) &\n",
    "                           (~ self.index.str.contains(\"Cold\")))].index.to_list()"
   ],
   "metadata": {
    "collapsed": false,
    "pycharm": {
     "name": "#%%\n"
    }
   }
  },
  {
   "cell_type": "code",
   "execution_count": 47,
   "outputs": [
    {
     "data": {
      "text/plain": "               Timestamp  Load_StatusPlugLoadBlender  \\\n0    2013-07-01 00:00:00                           0   \n1    2013-07-01 01:00:00                           0   \n2    2013-07-01 02:00:00                           0   \n3    2013-07-01 03:00:00                           0   \n4    2013-07-01 04:00:00                           0   \n...                  ...                         ...   \n8756 2014-06-30 20:00:00                           0   \n8757 2014-06-30 21:00:00                           0   \n8758 2014-06-30 22:00:00                           0   \n8759 2014-06-30 23:00:00                           0   \n8760 2014-07-01 00:00:00                           0   \n\n      Load_StatusPlugLoadToasterOven  Load_StatusApplianceRangeHood  \\\n0                                  0                              0   \n1                                  0                              0   \n2                                  0                              0   \n3                                  0                              0   \n4                                  0                              0   \n...                              ...                            ...   \n8756                               0                              0   \n8757                               0                              0   \n8758                               0                              0   \n8759                               0                              0   \n8760                               0                              0   \n\n      Load_StatusApplianceCooktop  Load_StatusApplianceOven  \\\n0                               0                         0   \n1                               0                         0   \n2                               0                         0   \n3                               0                         0   \n4                               0                         0   \n...                           ...                       ...   \n8756                            0                         0   \n8757                            0                         0   \n8758                            0                         0   \n8759                            0                         0   \n8760                            0                         0   \n\n      Load_StatusPlugLoadSlowCooker  Load_StatusPlugLoadToaster  \\\n0                                 0                           0   \n1                                 0                           0   \n2                                 0                           0   \n3                                 0                           0   \n4                                 0                           0   \n...                             ...                         ...   \n8756                              0                           0   \n8757                              0                           0   \n8758                              0                           0   \n8759                              0                           0   \n8760                              0                           0   \n\n      Load_StatusApplianceDishwasher  Load_StatusPlugLoadHandMixer  \\\n0                                  0                             0   \n1                                  0                             0   \n2                                  0                             0   \n3                                  0                             0   \n4                                  0                             0   \n...                              ...                           ...   \n8756                               1                             0   \n8757                               1                             0   \n8758                               1                             0   \n8759                               0                             0   \n8760                               0                             0   \n\n      Load_StatusPlugLoadCanOpener  Load_StatusPlugLoadCoffeeMaker  \\\n0                                0                               0   \n1                                0                               0   \n2                                0                               0   \n3                                0                               0   \n4                                0                               0   \n...                            ...                             ...   \n8756                             0                               0   \n8757                             0                               0   \n8758                             0                               0   \n8759                             0                               0   \n8760                             0                               0   \n\n      Load_StatusRefrigerator  Load_StatusMicrowave  Status  \n0                           1                     0       1  \n1                           1                     0       1  \n2                           1                     0       1  \n3                           1                     0       1  \n4                           1                     0       1  \n...                       ...                   ...     ...  \n8756                        1                     0       2  \n8757                        1                     0       2  \n8758                        1                     0       2  \n8759                        1                     0       1  \n8760                        1                     0       1  \n\n[8761 rows x 15 columns]",
      "text/html": "<div>\n<style scoped>\n    .dataframe tbody tr th:only-of-type {\n        vertical-align: middle;\n    }\n\n    .dataframe tbody tr th {\n        vertical-align: top;\n    }\n\n    .dataframe thead th {\n        text-align: right;\n    }\n</style>\n<table border=\"1\" class=\"dataframe\">\n  <thead>\n    <tr style=\"text-align: right;\">\n      <th></th>\n      <th>Timestamp</th>\n      <th>Load_StatusPlugLoadBlender</th>\n      <th>Load_StatusPlugLoadToasterOven</th>\n      <th>Load_StatusApplianceRangeHood</th>\n      <th>Load_StatusApplianceCooktop</th>\n      <th>Load_StatusApplianceOven</th>\n      <th>Load_StatusPlugLoadSlowCooker</th>\n      <th>Load_StatusPlugLoadToaster</th>\n      <th>Load_StatusApplianceDishwasher</th>\n      <th>Load_StatusPlugLoadHandMixer</th>\n      <th>Load_StatusPlugLoadCanOpener</th>\n      <th>Load_StatusPlugLoadCoffeeMaker</th>\n      <th>Load_StatusRefrigerator</th>\n      <th>Load_StatusMicrowave</th>\n      <th>Status</th>\n    </tr>\n  </thead>\n  <tbody>\n    <tr>\n      <th>0</th>\n      <td>2013-07-01 00:00:00</td>\n      <td>0</td>\n      <td>0</td>\n      <td>0</td>\n      <td>0</td>\n      <td>0</td>\n      <td>0</td>\n      <td>0</td>\n      <td>0</td>\n      <td>0</td>\n      <td>0</td>\n      <td>0</td>\n      <td>1</td>\n      <td>0</td>\n      <td>1</td>\n    </tr>\n    <tr>\n      <th>1</th>\n      <td>2013-07-01 01:00:00</td>\n      <td>0</td>\n      <td>0</td>\n      <td>0</td>\n      <td>0</td>\n      <td>0</td>\n      <td>0</td>\n      <td>0</td>\n      <td>0</td>\n      <td>0</td>\n      <td>0</td>\n      <td>0</td>\n      <td>1</td>\n      <td>0</td>\n      <td>1</td>\n    </tr>\n    <tr>\n      <th>2</th>\n      <td>2013-07-01 02:00:00</td>\n      <td>0</td>\n      <td>0</td>\n      <td>0</td>\n      <td>0</td>\n      <td>0</td>\n      <td>0</td>\n      <td>0</td>\n      <td>0</td>\n      <td>0</td>\n      <td>0</td>\n      <td>0</td>\n      <td>1</td>\n      <td>0</td>\n      <td>1</td>\n    </tr>\n    <tr>\n      <th>3</th>\n      <td>2013-07-01 03:00:00</td>\n      <td>0</td>\n      <td>0</td>\n      <td>0</td>\n      <td>0</td>\n      <td>0</td>\n      <td>0</td>\n      <td>0</td>\n      <td>0</td>\n      <td>0</td>\n      <td>0</td>\n      <td>0</td>\n      <td>1</td>\n      <td>0</td>\n      <td>1</td>\n    </tr>\n    <tr>\n      <th>4</th>\n      <td>2013-07-01 04:00:00</td>\n      <td>0</td>\n      <td>0</td>\n      <td>0</td>\n      <td>0</td>\n      <td>0</td>\n      <td>0</td>\n      <td>0</td>\n      <td>0</td>\n      <td>0</td>\n      <td>0</td>\n      <td>0</td>\n      <td>1</td>\n      <td>0</td>\n      <td>1</td>\n    </tr>\n    <tr>\n      <th>...</th>\n      <td>...</td>\n      <td>...</td>\n      <td>...</td>\n      <td>...</td>\n      <td>...</td>\n      <td>...</td>\n      <td>...</td>\n      <td>...</td>\n      <td>...</td>\n      <td>...</td>\n      <td>...</td>\n      <td>...</td>\n      <td>...</td>\n      <td>...</td>\n      <td>...</td>\n    </tr>\n    <tr>\n      <th>8756</th>\n      <td>2014-06-30 20:00:00</td>\n      <td>0</td>\n      <td>0</td>\n      <td>0</td>\n      <td>0</td>\n      <td>0</td>\n      <td>0</td>\n      <td>0</td>\n      <td>1</td>\n      <td>0</td>\n      <td>0</td>\n      <td>0</td>\n      <td>1</td>\n      <td>0</td>\n      <td>2</td>\n    </tr>\n    <tr>\n      <th>8757</th>\n      <td>2014-06-30 21:00:00</td>\n      <td>0</td>\n      <td>0</td>\n      <td>0</td>\n      <td>0</td>\n      <td>0</td>\n      <td>0</td>\n      <td>0</td>\n      <td>1</td>\n      <td>0</td>\n      <td>0</td>\n      <td>0</td>\n      <td>1</td>\n      <td>0</td>\n      <td>2</td>\n    </tr>\n    <tr>\n      <th>8758</th>\n      <td>2014-06-30 22:00:00</td>\n      <td>0</td>\n      <td>0</td>\n      <td>0</td>\n      <td>0</td>\n      <td>0</td>\n      <td>0</td>\n      <td>0</td>\n      <td>1</td>\n      <td>0</td>\n      <td>0</td>\n      <td>0</td>\n      <td>1</td>\n      <td>0</td>\n      <td>2</td>\n    </tr>\n    <tr>\n      <th>8759</th>\n      <td>2014-06-30 23:00:00</td>\n      <td>0</td>\n      <td>0</td>\n      <td>0</td>\n      <td>0</td>\n      <td>0</td>\n      <td>0</td>\n      <td>0</td>\n      <td>0</td>\n      <td>0</td>\n      <td>0</td>\n      <td>0</td>\n      <td>1</td>\n      <td>0</td>\n      <td>1</td>\n    </tr>\n    <tr>\n      <th>8760</th>\n      <td>2014-07-01 00:00:00</td>\n      <td>0</td>\n      <td>0</td>\n      <td>0</td>\n      <td>0</td>\n      <td>0</td>\n      <td>0</td>\n      <td>0</td>\n      <td>0</td>\n      <td>0</td>\n      <td>0</td>\n      <td>0</td>\n      <td>1</td>\n      <td>0</td>\n      <td>1</td>\n    </tr>\n  </tbody>\n</table>\n<p>8761 rows × 15 columns</p>\n</div>"
     },
     "execution_count": 47,
     "metadata": {},
     "output_type": "execute_result"
    }
   ],
   "source": [
    "kitchenplugs = year1_hourly[[\"Timestamp\"] + plugs].copy()\n",
    "kitchenplugs[\"Status\"] = kitchenplugs[plugs].sum(axis=1)\n",
    "kitchenplugs"
   ],
   "metadata": {
    "collapsed": false,
    "pycharm": {
     "name": "#%%\n"
    }
   }
  },
  {
   "cell_type": "code",
   "execution_count": 48,
   "outputs": [
    {
     "data": {
      "text/plain": "               Timestamp  Load_StatusPlugLoadBlender  \\\n0    2013-07-01 00:00:00                           0   \n1    2013-07-01 01:00:00                           0   \n2    2013-07-01 02:00:00                           0   \n3    2013-07-01 03:00:00                           0   \n4    2013-07-01 04:00:00                           0   \n...                  ...                         ...   \n8756 2014-06-30 20:00:00                           0   \n8757 2014-06-30 21:00:00                           0   \n8758 2014-06-30 22:00:00                           0   \n8759 2014-06-30 23:00:00                           0   \n8760 2014-07-01 00:00:00                           0   \n\n      Load_StatusPlugLoadToasterOven  Load_StatusApplianceRangeHood  \\\n0                                  0                              0   \n1                                  0                              0   \n2                                  0                              0   \n3                                  0                              0   \n4                                  0                              0   \n...                              ...                            ...   \n8756                               0                              0   \n8757                               0                              0   \n8758                               0                              0   \n8759                               0                              0   \n8760                               0                              0   \n\n      Load_StatusApplianceCooktop  Load_StatusApplianceOven  \\\n0                               0                         0   \n1                               0                         0   \n2                               0                         0   \n3                               0                         0   \n4                               0                         0   \n...                           ...                       ...   \n8756                            0                         0   \n8757                            0                         0   \n8758                            0                         0   \n8759                            0                         0   \n8760                            0                         0   \n\n      Load_StatusPlugLoadSlowCooker  Load_StatusPlugLoadToaster  \\\n0                                 0                           0   \n1                                 0                           0   \n2                                 0                           0   \n3                                 0                           0   \n4                                 0                           0   \n...                             ...                         ...   \n8756                              0                           0   \n8757                              0                           0   \n8758                              0                           0   \n8759                              0                           0   \n8760                              0                           0   \n\n      Load_StatusApplianceDishwasher  Load_StatusPlugLoadHandMixer  \\\n0                                  0                             0   \n1                                  0                             0   \n2                                  0                             0   \n3                                  0                             0   \n4                                  0                             0   \n...                              ...                           ...   \n8756                               1                             0   \n8757                               1                             0   \n8758                               1                             0   \n8759                               0                             0   \n8760                               0                             0   \n\n      Load_StatusPlugLoadCanOpener  Load_StatusPlugLoadCoffeeMaker  \\\n0                                0                               0   \n1                                0                               0   \n2                                0                               0   \n3                                0                               0   \n4                                0                               0   \n...                            ...                             ...   \n8756                             0                               0   \n8757                             0                               0   \n8758                             0                               0   \n8759                             0                               0   \n8760                             0                               0   \n\n      Load_StatusRefrigerator  Load_StatusMicrowave  Status  HourOfTimestamp  \n0                           1                     0       1                0  \n1                           1                     0       1                1  \n2                           1                     0       1                2  \n3                           1                     0       1                3  \n4                           1                     0       1                4  \n...                       ...                   ...     ...              ...  \n8756                        1                     0       2               20  \n8757                        1                     0       2               21  \n8758                        1                     0       2               22  \n8759                        1                     0       1               23  \n8760                        1                     0       1                0  \n\n[8761 rows x 16 columns]",
      "text/html": "<div>\n<style scoped>\n    .dataframe tbody tr th:only-of-type {\n        vertical-align: middle;\n    }\n\n    .dataframe tbody tr th {\n        vertical-align: top;\n    }\n\n    .dataframe thead th {\n        text-align: right;\n    }\n</style>\n<table border=\"1\" class=\"dataframe\">\n  <thead>\n    <tr style=\"text-align: right;\">\n      <th></th>\n      <th>Timestamp</th>\n      <th>Load_StatusPlugLoadBlender</th>\n      <th>Load_StatusPlugLoadToasterOven</th>\n      <th>Load_StatusApplianceRangeHood</th>\n      <th>Load_StatusApplianceCooktop</th>\n      <th>Load_StatusApplianceOven</th>\n      <th>Load_StatusPlugLoadSlowCooker</th>\n      <th>Load_StatusPlugLoadToaster</th>\n      <th>Load_StatusApplianceDishwasher</th>\n      <th>Load_StatusPlugLoadHandMixer</th>\n      <th>Load_StatusPlugLoadCanOpener</th>\n      <th>Load_StatusPlugLoadCoffeeMaker</th>\n      <th>Load_StatusRefrigerator</th>\n      <th>Load_StatusMicrowave</th>\n      <th>Status</th>\n      <th>HourOfTimestamp</th>\n    </tr>\n  </thead>\n  <tbody>\n    <tr>\n      <th>0</th>\n      <td>2013-07-01 00:00:00</td>\n      <td>0</td>\n      <td>0</td>\n      <td>0</td>\n      <td>0</td>\n      <td>0</td>\n      <td>0</td>\n      <td>0</td>\n      <td>0</td>\n      <td>0</td>\n      <td>0</td>\n      <td>0</td>\n      <td>1</td>\n      <td>0</td>\n      <td>1</td>\n      <td>0</td>\n    </tr>\n    <tr>\n      <th>1</th>\n      <td>2013-07-01 01:00:00</td>\n      <td>0</td>\n      <td>0</td>\n      <td>0</td>\n      <td>0</td>\n      <td>0</td>\n      <td>0</td>\n      <td>0</td>\n      <td>0</td>\n      <td>0</td>\n      <td>0</td>\n      <td>0</td>\n      <td>1</td>\n      <td>0</td>\n      <td>1</td>\n      <td>1</td>\n    </tr>\n    <tr>\n      <th>2</th>\n      <td>2013-07-01 02:00:00</td>\n      <td>0</td>\n      <td>0</td>\n      <td>0</td>\n      <td>0</td>\n      <td>0</td>\n      <td>0</td>\n      <td>0</td>\n      <td>0</td>\n      <td>0</td>\n      <td>0</td>\n      <td>0</td>\n      <td>1</td>\n      <td>0</td>\n      <td>1</td>\n      <td>2</td>\n    </tr>\n    <tr>\n      <th>3</th>\n      <td>2013-07-01 03:00:00</td>\n      <td>0</td>\n      <td>0</td>\n      <td>0</td>\n      <td>0</td>\n      <td>0</td>\n      <td>0</td>\n      <td>0</td>\n      <td>0</td>\n      <td>0</td>\n      <td>0</td>\n      <td>0</td>\n      <td>1</td>\n      <td>0</td>\n      <td>1</td>\n      <td>3</td>\n    </tr>\n    <tr>\n      <th>4</th>\n      <td>2013-07-01 04:00:00</td>\n      <td>0</td>\n      <td>0</td>\n      <td>0</td>\n      <td>0</td>\n      <td>0</td>\n      <td>0</td>\n      <td>0</td>\n      <td>0</td>\n      <td>0</td>\n      <td>0</td>\n      <td>0</td>\n      <td>1</td>\n      <td>0</td>\n      <td>1</td>\n      <td>4</td>\n    </tr>\n    <tr>\n      <th>...</th>\n      <td>...</td>\n      <td>...</td>\n      <td>...</td>\n      <td>...</td>\n      <td>...</td>\n      <td>...</td>\n      <td>...</td>\n      <td>...</td>\n      <td>...</td>\n      <td>...</td>\n      <td>...</td>\n      <td>...</td>\n      <td>...</td>\n      <td>...</td>\n      <td>...</td>\n      <td>...</td>\n    </tr>\n    <tr>\n      <th>8756</th>\n      <td>2014-06-30 20:00:00</td>\n      <td>0</td>\n      <td>0</td>\n      <td>0</td>\n      <td>0</td>\n      <td>0</td>\n      <td>0</td>\n      <td>0</td>\n      <td>1</td>\n      <td>0</td>\n      <td>0</td>\n      <td>0</td>\n      <td>1</td>\n      <td>0</td>\n      <td>2</td>\n      <td>20</td>\n    </tr>\n    <tr>\n      <th>8757</th>\n      <td>2014-06-30 21:00:00</td>\n      <td>0</td>\n      <td>0</td>\n      <td>0</td>\n      <td>0</td>\n      <td>0</td>\n      <td>0</td>\n      <td>0</td>\n      <td>1</td>\n      <td>0</td>\n      <td>0</td>\n      <td>0</td>\n      <td>1</td>\n      <td>0</td>\n      <td>2</td>\n      <td>21</td>\n    </tr>\n    <tr>\n      <th>8758</th>\n      <td>2014-06-30 22:00:00</td>\n      <td>0</td>\n      <td>0</td>\n      <td>0</td>\n      <td>0</td>\n      <td>0</td>\n      <td>0</td>\n      <td>0</td>\n      <td>1</td>\n      <td>0</td>\n      <td>0</td>\n      <td>0</td>\n      <td>1</td>\n      <td>0</td>\n      <td>2</td>\n      <td>22</td>\n    </tr>\n    <tr>\n      <th>8759</th>\n      <td>2014-06-30 23:00:00</td>\n      <td>0</td>\n      <td>0</td>\n      <td>0</td>\n      <td>0</td>\n      <td>0</td>\n      <td>0</td>\n      <td>0</td>\n      <td>0</td>\n      <td>0</td>\n      <td>0</td>\n      <td>0</td>\n      <td>1</td>\n      <td>0</td>\n      <td>1</td>\n      <td>23</td>\n    </tr>\n    <tr>\n      <th>8760</th>\n      <td>2014-07-01 00:00:00</td>\n      <td>0</td>\n      <td>0</td>\n      <td>0</td>\n      <td>0</td>\n      <td>0</td>\n      <td>0</td>\n      <td>0</td>\n      <td>0</td>\n      <td>0</td>\n      <td>0</td>\n      <td>0</td>\n      <td>1</td>\n      <td>0</td>\n      <td>1</td>\n      <td>0</td>\n    </tr>\n  </tbody>\n</table>\n<p>8761 rows × 16 columns</p>\n</div>"
     },
     "execution_count": 48,
     "metadata": {},
     "output_type": "execute_result"
    }
   ],
   "source": [
    "#Extracts hour of Timestamp.\n",
    "kitchenplugs[\"HourOfTimestamp\"] = kitchenplugs.Timestamp.dt.hour\n",
    "\n",
    "kitchenplugs"
   ],
   "metadata": {
    "collapsed": false,
    "pycharm": {
     "name": "#%%\n"
    }
   }
  },
  {
   "cell_type": "code",
   "execution_count": 49,
   "outputs": [
    {
     "data": {
      "text/plain": "    HourOfTimestamp  Load_StatusPlugLoadHandMixer  size\n3                 2                             1     2\n20               18                             1   309\n22               19                             1    51",
      "text/html": "<div>\n<style scoped>\n    .dataframe tbody tr th:only-of-type {\n        vertical-align: middle;\n    }\n\n    .dataframe tbody tr th {\n        vertical-align: top;\n    }\n\n    .dataframe thead th {\n        text-align: right;\n    }\n</style>\n<table border=\"1\" class=\"dataframe\">\n  <thead>\n    <tr style=\"text-align: right;\">\n      <th></th>\n      <th>HourOfTimestamp</th>\n      <th>Load_StatusPlugLoadHandMixer</th>\n      <th>size</th>\n    </tr>\n  </thead>\n  <tbody>\n    <tr>\n      <th>3</th>\n      <td>2</td>\n      <td>1</td>\n      <td>2</td>\n    </tr>\n    <tr>\n      <th>20</th>\n      <td>18</td>\n      <td>1</td>\n      <td>309</td>\n    </tr>\n    <tr>\n      <th>22</th>\n      <td>19</td>\n      <td>1</td>\n      <td>51</td>\n    </tr>\n  </tbody>\n</table>\n</div>"
     },
     "execution_count": 49,
     "metadata": {},
     "output_type": "execute_result"
    }
   ],
   "source": [
    "#Creates a dataframe with counts of \"StatusOffOn\" = 1, grouped by HourOfTimestamp for a selected attribute in kitchenplugs\n",
    "count_series = kitchenplugs.groupby([\"HourOfTimestamp\", \"Load_StatusPlugLoadHandMixer\"]).size().copy()\n",
    "\n",
    "new_df = count_series.to_frame(name='size').reset_index()\n",
    "\n",
    "only_on = new_df.loc[new_df[\"Load_StatusPlugLoadHandMixer\"] == 1]\n",
    "only_on"
   ],
   "metadata": {
    "collapsed": false,
    "pycharm": {
     "name": "#%%\n"
    }
   }
  },
  {
   "cell_type": "code",
   "execution_count": 50,
   "outputs": [
    {
     "data": {
      "text/plain": "                 Load_StatusPlugLoadBlender  Load_StatusPlugLoadToasterOven  \\\nHourOfTimestamp                                                               \n0                                         0                               0   \n1                                         0                               0   \n2                                         0                               0   \n3                                         0                               0   \n4                                         0                               0   \n5                                         0                               0   \n6                                       256                             256   \n7                                         0                               0   \n8                                         0                               0   \n9                                       101                             101   \n10                                        0                               0   \n11                                        0                               0   \n12                                        0                               0   \n13                                        0                               0   \n14                                        0                               0   \n15                                        0                               0   \n16                                        0                               0   \n17                                        1                               1   \n18                                        0                               0   \n19                                        0                               0   \n20                                        0                               1   \n21                                        0                               2   \n22                                        0                               2   \n23                                        0                               0   \n\n                 Load_StatusApplianceRangeHood  Load_StatusApplianceCooktop  \\\nHourOfTimestamp                                                               \n0                                            0                            0   \n1                                            1                            1   \n2                                            2                            2   \n3                                            1                            1   \n4                                            0                            0   \n5                                            0                            0   \n6                                            0                            0   \n7                                            0                            0   \n8                                          101                          101   \n9                                            0                            0   \n10                                           0                            0   \n11                                           1                            1   \n12                                         101                          101   \n13                                           0                            0   \n14                                           0                            0   \n15                                           0                            0   \n16                                           1                            1   \n17                                          12                           12   \n18                                         356                          356   \n19                                          51                           51   \n20                                           1                            2   \n21                                           0                            2   \n22                                           0                            3   \n23                                           0                            0   \n\n                 Load_StatusApplianceOven  Load_StatusPlugLoadSlowCooker  \\\nHourOfTimestamp                                                            \n0                                       0                              0   \n1                                       0                              0   \n2                                       1                              0   \n3                                       1                              0   \n4                                       1                              0   \n5                                       1                              0   \n6                                       0                              0   \n7                                       0                              0   \n8                                     101                             52   \n9                                     101                            102   \n10                                    101                             50   \n11                                      0                              0   \n12                                      0                              0   \n13                                      0                              0   \n14                                      0                              0   \n15                                      0                              0   \n16                                      1                              0   \n17                                      1                              0   \n18                                     50                              0   \n19                                     51                              0   \n20                                     52                              0   \n21                                     52                              0   \n22                                      1                              0   \n23                                      0                              0   \n\n                 Load_StatusPlugLoadToaster  Load_StatusApplianceDishwasher  \\\nHourOfTimestamp                                                               \n0                                         0                               0   \n1                                         0                               0   \n2                                         0                               0   \n3                                         0                               0   \n4                                         0                               2   \n5                                         0                               2   \n6                                       256                               2   \n7                                         0                               0   \n8                                         0                               0   \n9                                       101                               0   \n10                                        0                               0   \n11                                        0                               0   \n12                                        0                               0   \n13                                        0                               0   \n14                                        0                               0   \n15                                        0                               0   \n16                                        0                               0   \n17                                        1                               0   \n18                                        0                               0   \n19                                        0                               1   \n20                                        0                             254   \n21                                        0                             255   \n22                                        0                             254   \n23                                        0                              52   \n\n                 Load_StatusPlugLoadHandMixer  Load_StatusPlugLoadCanOpener  \\\nHourOfTimestamp                                                               \n0                                           0                             0   \n1                                           0                             0   \n2                                           2                             2   \n3                                           0                             0   \n4                                           0                             0   \n5                                           0                             0   \n6                                           0                             0   \n7                                           0                             0   \n8                                           0                             0   \n9                                           0                             0   \n10                                          0                             0   \n11                                          0                             0   \n12                                          0                             0   \n13                                          0                             0   \n14                                          0                             0   \n15                                          0                             0   \n16                                          0                             0   \n17                                          0                             0   \n18                                        309                           309   \n19                                         51                            51   \n20                                          0                             2   \n21                                          0                             2   \n22                                          0                             3   \n23                                          0                             6   \n\n                 Load_StatusPlugLoadCoffeeMaker  Load_StatusRefrigerator  \\\nHourOfTimestamp                                                            \n0                                             0                      363   \n1                                             0                      362   \n2                                             0                      359   \n3                                             0                      360   \n4                                             0                      360   \n5                                             0                      360   \n6                                           256                      359   \n7                                            13                      360   \n8                                             0                      361   \n9                                           101                      361   \n10                                            6                      361   \n11                                            0                      361   \n12                                            6                      361   \n13                                            0                      361   \n14                                            0                      359   \n15                                            0                      359   \n16                                            1                      360   \n17                                            1                      360   \n18                                           16                      361   \n19                                            0                      361   \n20                                            0                      361   \n21                                            0                      361   \n22                                            0                      361   \n23                                            0                      361   \n\n                 Load_StatusMicrowave  \nHourOfTimestamp                        \n0                                   0  \n1                                   1  \n2                                   1  \n3                                   0  \n4                                   0  \n5                                   7  \n6                                 234  \n7                                   0  \n8                                   4  \n9                                  98  \n10                                  0  \n11                                  0  \n12                                 93  \n13                                  2  \n14                                  0  \n15                                  0  \n16                                  0  \n17                                  1  \n18                                279  \n19                                  1  \n20                                  1  \n21                                  0  \n22                                  0  \n23                                  0  ",
      "text/html": "<div>\n<style scoped>\n    .dataframe tbody tr th:only-of-type {\n        vertical-align: middle;\n    }\n\n    .dataframe tbody tr th {\n        vertical-align: top;\n    }\n\n    .dataframe thead th {\n        text-align: right;\n    }\n</style>\n<table border=\"1\" class=\"dataframe\">\n  <thead>\n    <tr style=\"text-align: right;\">\n      <th></th>\n      <th>Load_StatusPlugLoadBlender</th>\n      <th>Load_StatusPlugLoadToasterOven</th>\n      <th>Load_StatusApplianceRangeHood</th>\n      <th>Load_StatusApplianceCooktop</th>\n      <th>Load_StatusApplianceOven</th>\n      <th>Load_StatusPlugLoadSlowCooker</th>\n      <th>Load_StatusPlugLoadToaster</th>\n      <th>Load_StatusApplianceDishwasher</th>\n      <th>Load_StatusPlugLoadHandMixer</th>\n      <th>Load_StatusPlugLoadCanOpener</th>\n      <th>Load_StatusPlugLoadCoffeeMaker</th>\n      <th>Load_StatusRefrigerator</th>\n      <th>Load_StatusMicrowave</th>\n    </tr>\n    <tr>\n      <th>HourOfTimestamp</th>\n      <th></th>\n      <th></th>\n      <th></th>\n      <th></th>\n      <th></th>\n      <th></th>\n      <th></th>\n      <th></th>\n      <th></th>\n      <th></th>\n      <th></th>\n      <th></th>\n      <th></th>\n    </tr>\n  </thead>\n  <tbody>\n    <tr>\n      <th>0</th>\n      <td>0</td>\n      <td>0</td>\n      <td>0</td>\n      <td>0</td>\n      <td>0</td>\n      <td>0</td>\n      <td>0</td>\n      <td>0</td>\n      <td>0</td>\n      <td>0</td>\n      <td>0</td>\n      <td>363</td>\n      <td>0</td>\n    </tr>\n    <tr>\n      <th>1</th>\n      <td>0</td>\n      <td>0</td>\n      <td>1</td>\n      <td>1</td>\n      <td>0</td>\n      <td>0</td>\n      <td>0</td>\n      <td>0</td>\n      <td>0</td>\n      <td>0</td>\n      <td>0</td>\n      <td>362</td>\n      <td>1</td>\n    </tr>\n    <tr>\n      <th>2</th>\n      <td>0</td>\n      <td>0</td>\n      <td>2</td>\n      <td>2</td>\n      <td>1</td>\n      <td>0</td>\n      <td>0</td>\n      <td>0</td>\n      <td>2</td>\n      <td>2</td>\n      <td>0</td>\n      <td>359</td>\n      <td>1</td>\n    </tr>\n    <tr>\n      <th>3</th>\n      <td>0</td>\n      <td>0</td>\n      <td>1</td>\n      <td>1</td>\n      <td>1</td>\n      <td>0</td>\n      <td>0</td>\n      <td>0</td>\n      <td>0</td>\n      <td>0</td>\n      <td>0</td>\n      <td>360</td>\n      <td>0</td>\n    </tr>\n    <tr>\n      <th>4</th>\n      <td>0</td>\n      <td>0</td>\n      <td>0</td>\n      <td>0</td>\n      <td>1</td>\n      <td>0</td>\n      <td>0</td>\n      <td>2</td>\n      <td>0</td>\n      <td>0</td>\n      <td>0</td>\n      <td>360</td>\n      <td>0</td>\n    </tr>\n    <tr>\n      <th>5</th>\n      <td>0</td>\n      <td>0</td>\n      <td>0</td>\n      <td>0</td>\n      <td>1</td>\n      <td>0</td>\n      <td>0</td>\n      <td>2</td>\n      <td>0</td>\n      <td>0</td>\n      <td>0</td>\n      <td>360</td>\n      <td>7</td>\n    </tr>\n    <tr>\n      <th>6</th>\n      <td>256</td>\n      <td>256</td>\n      <td>0</td>\n      <td>0</td>\n      <td>0</td>\n      <td>0</td>\n      <td>256</td>\n      <td>2</td>\n      <td>0</td>\n      <td>0</td>\n      <td>256</td>\n      <td>359</td>\n      <td>234</td>\n    </tr>\n    <tr>\n      <th>7</th>\n      <td>0</td>\n      <td>0</td>\n      <td>0</td>\n      <td>0</td>\n      <td>0</td>\n      <td>0</td>\n      <td>0</td>\n      <td>0</td>\n      <td>0</td>\n      <td>0</td>\n      <td>13</td>\n      <td>360</td>\n      <td>0</td>\n    </tr>\n    <tr>\n      <th>8</th>\n      <td>0</td>\n      <td>0</td>\n      <td>101</td>\n      <td>101</td>\n      <td>101</td>\n      <td>52</td>\n      <td>0</td>\n      <td>0</td>\n      <td>0</td>\n      <td>0</td>\n      <td>0</td>\n      <td>361</td>\n      <td>4</td>\n    </tr>\n    <tr>\n      <th>9</th>\n      <td>101</td>\n      <td>101</td>\n      <td>0</td>\n      <td>0</td>\n      <td>101</td>\n      <td>102</td>\n      <td>101</td>\n      <td>0</td>\n      <td>0</td>\n      <td>0</td>\n      <td>101</td>\n      <td>361</td>\n      <td>98</td>\n    </tr>\n    <tr>\n      <th>10</th>\n      <td>0</td>\n      <td>0</td>\n      <td>0</td>\n      <td>0</td>\n      <td>101</td>\n      <td>50</td>\n      <td>0</td>\n      <td>0</td>\n      <td>0</td>\n      <td>0</td>\n      <td>6</td>\n      <td>361</td>\n      <td>0</td>\n    </tr>\n    <tr>\n      <th>11</th>\n      <td>0</td>\n      <td>0</td>\n      <td>1</td>\n      <td>1</td>\n      <td>0</td>\n      <td>0</td>\n      <td>0</td>\n      <td>0</td>\n      <td>0</td>\n      <td>0</td>\n      <td>0</td>\n      <td>361</td>\n      <td>0</td>\n    </tr>\n    <tr>\n      <th>12</th>\n      <td>0</td>\n      <td>0</td>\n      <td>101</td>\n      <td>101</td>\n      <td>0</td>\n      <td>0</td>\n      <td>0</td>\n      <td>0</td>\n      <td>0</td>\n      <td>0</td>\n      <td>6</td>\n      <td>361</td>\n      <td>93</td>\n    </tr>\n    <tr>\n      <th>13</th>\n      <td>0</td>\n      <td>0</td>\n      <td>0</td>\n      <td>0</td>\n      <td>0</td>\n      <td>0</td>\n      <td>0</td>\n      <td>0</td>\n      <td>0</td>\n      <td>0</td>\n      <td>0</td>\n      <td>361</td>\n      <td>2</td>\n    </tr>\n    <tr>\n      <th>14</th>\n      <td>0</td>\n      <td>0</td>\n      <td>0</td>\n      <td>0</td>\n      <td>0</td>\n      <td>0</td>\n      <td>0</td>\n      <td>0</td>\n      <td>0</td>\n      <td>0</td>\n      <td>0</td>\n      <td>359</td>\n      <td>0</td>\n    </tr>\n    <tr>\n      <th>15</th>\n      <td>0</td>\n      <td>0</td>\n      <td>0</td>\n      <td>0</td>\n      <td>0</td>\n      <td>0</td>\n      <td>0</td>\n      <td>0</td>\n      <td>0</td>\n      <td>0</td>\n      <td>0</td>\n      <td>359</td>\n      <td>0</td>\n    </tr>\n    <tr>\n      <th>16</th>\n      <td>0</td>\n      <td>0</td>\n      <td>1</td>\n      <td>1</td>\n      <td>1</td>\n      <td>0</td>\n      <td>0</td>\n      <td>0</td>\n      <td>0</td>\n      <td>0</td>\n      <td>1</td>\n      <td>360</td>\n      <td>0</td>\n    </tr>\n    <tr>\n      <th>17</th>\n      <td>1</td>\n      <td>1</td>\n      <td>12</td>\n      <td>12</td>\n      <td>1</td>\n      <td>0</td>\n      <td>1</td>\n      <td>0</td>\n      <td>0</td>\n      <td>0</td>\n      <td>1</td>\n      <td>360</td>\n      <td>1</td>\n    </tr>\n    <tr>\n      <th>18</th>\n      <td>0</td>\n      <td>0</td>\n      <td>356</td>\n      <td>356</td>\n      <td>50</td>\n      <td>0</td>\n      <td>0</td>\n      <td>0</td>\n      <td>309</td>\n      <td>309</td>\n      <td>16</td>\n      <td>361</td>\n      <td>279</td>\n    </tr>\n    <tr>\n      <th>19</th>\n      <td>0</td>\n      <td>0</td>\n      <td>51</td>\n      <td>51</td>\n      <td>51</td>\n      <td>0</td>\n      <td>0</td>\n      <td>1</td>\n      <td>51</td>\n      <td>51</td>\n      <td>0</td>\n      <td>361</td>\n      <td>1</td>\n    </tr>\n    <tr>\n      <th>20</th>\n      <td>0</td>\n      <td>1</td>\n      <td>1</td>\n      <td>2</td>\n      <td>52</td>\n      <td>0</td>\n      <td>0</td>\n      <td>254</td>\n      <td>0</td>\n      <td>2</td>\n      <td>0</td>\n      <td>361</td>\n      <td>1</td>\n    </tr>\n    <tr>\n      <th>21</th>\n      <td>0</td>\n      <td>2</td>\n      <td>0</td>\n      <td>2</td>\n      <td>52</td>\n      <td>0</td>\n      <td>0</td>\n      <td>255</td>\n      <td>0</td>\n      <td>2</td>\n      <td>0</td>\n      <td>361</td>\n      <td>0</td>\n    </tr>\n    <tr>\n      <th>22</th>\n      <td>0</td>\n      <td>2</td>\n      <td>0</td>\n      <td>3</td>\n      <td>1</td>\n      <td>0</td>\n      <td>0</td>\n      <td>254</td>\n      <td>0</td>\n      <td>3</td>\n      <td>0</td>\n      <td>361</td>\n      <td>0</td>\n    </tr>\n    <tr>\n      <th>23</th>\n      <td>0</td>\n      <td>0</td>\n      <td>0</td>\n      <td>0</td>\n      <td>0</td>\n      <td>0</td>\n      <td>0</td>\n      <td>52</td>\n      <td>0</td>\n      <td>6</td>\n      <td>0</td>\n      <td>361</td>\n      <td>0</td>\n    </tr>\n  </tbody>\n</table>\n</div>"
     },
     "execution_count": 50,
     "metadata": {},
     "output_type": "execute_result"
    }
   ],
   "source": [
    "hourON = kitchenplugs.groupby([\"HourOfTimestamp\"])[plugs].sum()\n",
    "hourON"
   ],
   "metadata": {
    "collapsed": false,
    "pycharm": {
     "name": "#%%\n"
    }
   }
  },
  {
   "cell_type": "code",
   "execution_count": 51,
   "outputs": [
    {
     "data": {
      "text/plain": "HourOfTimestamp  Load_StatusPlugLoadBlender\n0                0                             366\n1                0                             366\n2                0                             364\n3                0                             365\n4                0                             365\n5                0                             365\n6                0                             109\n                 1                             256\n7                0                             365\n8                0                             365\n9                0                             264\n                 1                             101\n10               0                             365\n11               0                             365\n12               0                             365\n13               0                             365\n14               0                             365\n15               0                             365\n16               0                             365\n17               0                             364\n                 1                               1\n18               0                             365\n19               0                             365\n20               0                             365\n21               0                             365\n22               0                             365\n23               0                             365\ndtype: int64"
     },
     "execution_count": 51,
     "metadata": {},
     "output_type": "execute_result"
    }
   ],
   "source": [
    "kitchenplugs.groupby([\"HourOfTimestamp\", 'Load_StatusPlugLoadBlender']).size()"
   ],
   "metadata": {
    "collapsed": false,
    "pycharm": {
     "name": "#%%\n"
    }
   }
  },
  {
   "cell_type": "code",
   "execution_count": 52,
   "outputs": [
    {
     "data": {
      "text/plain": "    HourOfTimestamp  Load_StatusPlugLoadBlender   \\\n0                 0                          0.0   \n1                 1                          0.0   \n2                 2                          0.0   \n3                 3                          0.0   \n4                 4                          0.0   \n5                 5                          0.0   \n6                 6                        256.0   \n7                 7                          0.0   \n8                 8                          0.0   \n9                 9                        101.0   \n10               10                          0.0   \n11               11                          0.0   \n12               12                          0.0   \n13               13                          0.0   \n14               14                          0.0   \n15               15                          0.0   \n16               16                          0.0   \n17               17                          1.0   \n18               18                          0.0   \n19               19                          0.0   \n20               20                          0.0   \n21               21                          0.0   \n22               22                          0.0   \n23               23                          0.0   \n\n    Load_StatusPlugLoadToasterOven   Load_StatusApplianceRangeHood   \\\n0                               0.0                             0.0   \n1                               0.0                             1.0   \n2                               0.0                             2.0   \n3                               0.0                             1.0   \n4                               0.0                             0.0   \n5                               0.0                             0.0   \n6                             256.0                             0.0   \n7                               0.0                             0.0   \n8                               0.0                           101.0   \n9                             101.0                             0.0   \n10                              0.0                             0.0   \n11                              0.0                             1.0   \n12                              0.0                           101.0   \n13                              0.0                             0.0   \n14                              0.0                             0.0   \n15                              0.0                             0.0   \n16                              0.0                             1.0   \n17                              1.0                            12.0   \n18                              0.0                           356.0   \n19                              0.0                            51.0   \n20                              1.0                             1.0   \n21                              2.0                             0.0   \n22                              2.0                             0.0   \n23                              0.0                             0.0   \n\n    Load_StatusApplianceCooktop   Load_StatusApplianceOven   \\\n0                            0.0                        0.0   \n1                            1.0                        0.0   \n2                            2.0                        1.0   \n3                            1.0                        1.0   \n4                            0.0                        1.0   \n5                            0.0                        1.0   \n6                            0.0                        0.0   \n7                            0.0                        0.0   \n8                          101.0                      101.0   \n9                            0.0                      101.0   \n10                           0.0                      101.0   \n11                           1.0                        0.0   \n12                         101.0                        0.0   \n13                           0.0                        0.0   \n14                           0.0                        0.0   \n15                           0.0                        0.0   \n16                           1.0                        1.0   \n17                          12.0                        1.0   \n18                         356.0                       50.0   \n19                          51.0                       51.0   \n20                           2.0                       52.0   \n21                           2.0                       52.0   \n22                           3.0                        1.0   \n23                           0.0                        0.0   \n\n    Load_StatusPlugLoadSlowCooker   Load_StatusPlugLoadToaster   \\\n0                              0.0                          0.0   \n1                              0.0                          0.0   \n2                              0.0                          0.0   \n3                              0.0                          0.0   \n4                              0.0                          0.0   \n5                              0.0                          0.0   \n6                              0.0                        256.0   \n7                              0.0                          0.0   \n8                             52.0                          0.0   \n9                            102.0                        101.0   \n10                            50.0                          0.0   \n11                             0.0                          0.0   \n12                             0.0                          0.0   \n13                             0.0                          0.0   \n14                             0.0                          0.0   \n15                             0.0                          0.0   \n16                             0.0                          0.0   \n17                             0.0                          1.0   \n18                             0.0                          0.0   \n19                             0.0                          0.0   \n20                             0.0                          0.0   \n21                             0.0                          0.0   \n22                             0.0                          0.0   \n23                             0.0                          0.0   \n\n    Load_StatusApplianceDishwasher   Load_StatusPlugLoadHandMixer   \\\n0                               0.0                            0.0   \n1                               0.0                            0.0   \n2                               0.0                            2.0   \n3                               0.0                            0.0   \n4                               2.0                            0.0   \n5                               2.0                            0.0   \n6                               2.0                            0.0   \n7                               0.0                            0.0   \n8                               0.0                            0.0   \n9                               0.0                            0.0   \n10                              0.0                            0.0   \n11                              0.0                            0.0   \n12                              0.0                            0.0   \n13                              0.0                            0.0   \n14                              0.0                            0.0   \n15                              0.0                            0.0   \n16                              0.0                            0.0   \n17                              0.0                            0.0   \n18                              0.0                          309.0   \n19                              1.0                           51.0   \n20                            254.0                            0.0   \n21                            255.0                            0.0   \n22                            254.0                            0.0   \n23                             52.0                            0.0   \n\n    Load_StatusPlugLoadCanOpener   Load_StatusPlugLoadCoffeeMaker   \\\n0                             0.0                              0.0   \n1                             0.0                              0.0   \n2                             2.0                              0.0   \n3                             0.0                              0.0   \n4                             0.0                              0.0   \n5                             0.0                              0.0   \n6                             0.0                            256.0   \n7                             0.0                             13.0   \n8                             0.0                              0.0   \n9                             0.0                            101.0   \n10                            0.0                              6.0   \n11                            0.0                              0.0   \n12                            0.0                              6.0   \n13                            0.0                              0.0   \n14                            0.0                              0.0   \n15                            0.0                              0.0   \n16                            0.0                              1.0   \n17                            0.0                              1.0   \n18                          309.0                             16.0   \n19                           51.0                              0.0   \n20                            2.0                              0.0   \n21                            2.0                              0.0   \n22                            3.0                              0.0   \n23                            6.0                              0.0   \n\n    Load_StatusRefrigerator   Load_StatusMicrowave   \n0                        363                    0.0  \n1                        362                    1.0  \n2                        359                    1.0  \n3                        360                    0.0  \n4                        360                    0.0  \n5                        360                    7.0  \n6                        359                  234.0  \n7                        360                    0.0  \n8                        361                    4.0  \n9                        361                   98.0  \n10                       361                    0.0  \n11                       361                    0.0  \n12                       361                   93.0  \n13                       361                    2.0  \n14                       359                    0.0  \n15                       359                    0.0  \n16                       360                    0.0  \n17                       360                    1.0  \n18                       361                  279.0  \n19                       361                    1.0  \n20                       361                    1.0  \n21                       361                    0.0  \n22                       361                    0.0  \n23                       361                    0.0  ",
      "text/html": "<div>\n<style scoped>\n    .dataframe tbody tr th:only-of-type {\n        vertical-align: middle;\n    }\n\n    .dataframe tbody tr th {\n        vertical-align: top;\n    }\n\n    .dataframe thead th {\n        text-align: right;\n    }\n</style>\n<table border=\"1\" class=\"dataframe\">\n  <thead>\n    <tr style=\"text-align: right;\">\n      <th></th>\n      <th>HourOfTimestamp</th>\n      <th>Load_StatusPlugLoadBlender</th>\n      <th>Load_StatusPlugLoadToasterOven</th>\n      <th>Load_StatusApplianceRangeHood</th>\n      <th>Load_StatusApplianceCooktop</th>\n      <th>Load_StatusApplianceOven</th>\n      <th>Load_StatusPlugLoadSlowCooker</th>\n      <th>Load_StatusPlugLoadToaster</th>\n      <th>Load_StatusApplianceDishwasher</th>\n      <th>Load_StatusPlugLoadHandMixer</th>\n      <th>Load_StatusPlugLoadCanOpener</th>\n      <th>Load_StatusPlugLoadCoffeeMaker</th>\n      <th>Load_StatusRefrigerator</th>\n      <th>Load_StatusMicrowave</th>\n    </tr>\n  </thead>\n  <tbody>\n    <tr>\n      <th>0</th>\n      <td>0</td>\n      <td>0.0</td>\n      <td>0.0</td>\n      <td>0.0</td>\n      <td>0.0</td>\n      <td>0.0</td>\n      <td>0.0</td>\n      <td>0.0</td>\n      <td>0.0</td>\n      <td>0.0</td>\n      <td>0.0</td>\n      <td>0.0</td>\n      <td>363</td>\n      <td>0.0</td>\n    </tr>\n    <tr>\n      <th>1</th>\n      <td>1</td>\n      <td>0.0</td>\n      <td>0.0</td>\n      <td>1.0</td>\n      <td>1.0</td>\n      <td>0.0</td>\n      <td>0.0</td>\n      <td>0.0</td>\n      <td>0.0</td>\n      <td>0.0</td>\n      <td>0.0</td>\n      <td>0.0</td>\n      <td>362</td>\n      <td>1.0</td>\n    </tr>\n    <tr>\n      <th>2</th>\n      <td>2</td>\n      <td>0.0</td>\n      <td>0.0</td>\n      <td>2.0</td>\n      <td>2.0</td>\n      <td>1.0</td>\n      <td>0.0</td>\n      <td>0.0</td>\n      <td>0.0</td>\n      <td>2.0</td>\n      <td>2.0</td>\n      <td>0.0</td>\n      <td>359</td>\n      <td>1.0</td>\n    </tr>\n    <tr>\n      <th>3</th>\n      <td>3</td>\n      <td>0.0</td>\n      <td>0.0</td>\n      <td>1.0</td>\n      <td>1.0</td>\n      <td>1.0</td>\n      <td>0.0</td>\n      <td>0.0</td>\n      <td>0.0</td>\n      <td>0.0</td>\n      <td>0.0</td>\n      <td>0.0</td>\n      <td>360</td>\n      <td>0.0</td>\n    </tr>\n    <tr>\n      <th>4</th>\n      <td>4</td>\n      <td>0.0</td>\n      <td>0.0</td>\n      <td>0.0</td>\n      <td>0.0</td>\n      <td>1.0</td>\n      <td>0.0</td>\n      <td>0.0</td>\n      <td>2.0</td>\n      <td>0.0</td>\n      <td>0.0</td>\n      <td>0.0</td>\n      <td>360</td>\n      <td>0.0</td>\n    </tr>\n    <tr>\n      <th>5</th>\n      <td>5</td>\n      <td>0.0</td>\n      <td>0.0</td>\n      <td>0.0</td>\n      <td>0.0</td>\n      <td>1.0</td>\n      <td>0.0</td>\n      <td>0.0</td>\n      <td>2.0</td>\n      <td>0.0</td>\n      <td>0.0</td>\n      <td>0.0</td>\n      <td>360</td>\n      <td>7.0</td>\n    </tr>\n    <tr>\n      <th>6</th>\n      <td>6</td>\n      <td>256.0</td>\n      <td>256.0</td>\n      <td>0.0</td>\n      <td>0.0</td>\n      <td>0.0</td>\n      <td>0.0</td>\n      <td>256.0</td>\n      <td>2.0</td>\n      <td>0.0</td>\n      <td>0.0</td>\n      <td>256.0</td>\n      <td>359</td>\n      <td>234.0</td>\n    </tr>\n    <tr>\n      <th>7</th>\n      <td>7</td>\n      <td>0.0</td>\n      <td>0.0</td>\n      <td>0.0</td>\n      <td>0.0</td>\n      <td>0.0</td>\n      <td>0.0</td>\n      <td>0.0</td>\n      <td>0.0</td>\n      <td>0.0</td>\n      <td>0.0</td>\n      <td>13.0</td>\n      <td>360</td>\n      <td>0.0</td>\n    </tr>\n    <tr>\n      <th>8</th>\n      <td>8</td>\n      <td>0.0</td>\n      <td>0.0</td>\n      <td>101.0</td>\n      <td>101.0</td>\n      <td>101.0</td>\n      <td>52.0</td>\n      <td>0.0</td>\n      <td>0.0</td>\n      <td>0.0</td>\n      <td>0.0</td>\n      <td>0.0</td>\n      <td>361</td>\n      <td>4.0</td>\n    </tr>\n    <tr>\n      <th>9</th>\n      <td>9</td>\n      <td>101.0</td>\n      <td>101.0</td>\n      <td>0.0</td>\n      <td>0.0</td>\n      <td>101.0</td>\n      <td>102.0</td>\n      <td>101.0</td>\n      <td>0.0</td>\n      <td>0.0</td>\n      <td>0.0</td>\n      <td>101.0</td>\n      <td>361</td>\n      <td>98.0</td>\n    </tr>\n    <tr>\n      <th>10</th>\n      <td>10</td>\n      <td>0.0</td>\n      <td>0.0</td>\n      <td>0.0</td>\n      <td>0.0</td>\n      <td>101.0</td>\n      <td>50.0</td>\n      <td>0.0</td>\n      <td>0.0</td>\n      <td>0.0</td>\n      <td>0.0</td>\n      <td>6.0</td>\n      <td>361</td>\n      <td>0.0</td>\n    </tr>\n    <tr>\n      <th>11</th>\n      <td>11</td>\n      <td>0.0</td>\n      <td>0.0</td>\n      <td>1.0</td>\n      <td>1.0</td>\n      <td>0.0</td>\n      <td>0.0</td>\n      <td>0.0</td>\n      <td>0.0</td>\n      <td>0.0</td>\n      <td>0.0</td>\n      <td>0.0</td>\n      <td>361</td>\n      <td>0.0</td>\n    </tr>\n    <tr>\n      <th>12</th>\n      <td>12</td>\n      <td>0.0</td>\n      <td>0.0</td>\n      <td>101.0</td>\n      <td>101.0</td>\n      <td>0.0</td>\n      <td>0.0</td>\n      <td>0.0</td>\n      <td>0.0</td>\n      <td>0.0</td>\n      <td>0.0</td>\n      <td>6.0</td>\n      <td>361</td>\n      <td>93.0</td>\n    </tr>\n    <tr>\n      <th>13</th>\n      <td>13</td>\n      <td>0.0</td>\n      <td>0.0</td>\n      <td>0.0</td>\n      <td>0.0</td>\n      <td>0.0</td>\n      <td>0.0</td>\n      <td>0.0</td>\n      <td>0.0</td>\n      <td>0.0</td>\n      <td>0.0</td>\n      <td>0.0</td>\n      <td>361</td>\n      <td>2.0</td>\n    </tr>\n    <tr>\n      <th>14</th>\n      <td>14</td>\n      <td>0.0</td>\n      <td>0.0</td>\n      <td>0.0</td>\n      <td>0.0</td>\n      <td>0.0</td>\n      <td>0.0</td>\n      <td>0.0</td>\n      <td>0.0</td>\n      <td>0.0</td>\n      <td>0.0</td>\n      <td>0.0</td>\n      <td>359</td>\n      <td>0.0</td>\n    </tr>\n    <tr>\n      <th>15</th>\n      <td>15</td>\n      <td>0.0</td>\n      <td>0.0</td>\n      <td>0.0</td>\n      <td>0.0</td>\n      <td>0.0</td>\n      <td>0.0</td>\n      <td>0.0</td>\n      <td>0.0</td>\n      <td>0.0</td>\n      <td>0.0</td>\n      <td>0.0</td>\n      <td>359</td>\n      <td>0.0</td>\n    </tr>\n    <tr>\n      <th>16</th>\n      <td>16</td>\n      <td>0.0</td>\n      <td>0.0</td>\n      <td>1.0</td>\n      <td>1.0</td>\n      <td>1.0</td>\n      <td>0.0</td>\n      <td>0.0</td>\n      <td>0.0</td>\n      <td>0.0</td>\n      <td>0.0</td>\n      <td>1.0</td>\n      <td>360</td>\n      <td>0.0</td>\n    </tr>\n    <tr>\n      <th>17</th>\n      <td>17</td>\n      <td>1.0</td>\n      <td>1.0</td>\n      <td>12.0</td>\n      <td>12.0</td>\n      <td>1.0</td>\n      <td>0.0</td>\n      <td>1.0</td>\n      <td>0.0</td>\n      <td>0.0</td>\n      <td>0.0</td>\n      <td>1.0</td>\n      <td>360</td>\n      <td>1.0</td>\n    </tr>\n    <tr>\n      <th>18</th>\n      <td>18</td>\n      <td>0.0</td>\n      <td>0.0</td>\n      <td>356.0</td>\n      <td>356.0</td>\n      <td>50.0</td>\n      <td>0.0</td>\n      <td>0.0</td>\n      <td>0.0</td>\n      <td>309.0</td>\n      <td>309.0</td>\n      <td>16.0</td>\n      <td>361</td>\n      <td>279.0</td>\n    </tr>\n    <tr>\n      <th>19</th>\n      <td>19</td>\n      <td>0.0</td>\n      <td>0.0</td>\n      <td>51.0</td>\n      <td>51.0</td>\n      <td>51.0</td>\n      <td>0.0</td>\n      <td>0.0</td>\n      <td>1.0</td>\n      <td>51.0</td>\n      <td>51.0</td>\n      <td>0.0</td>\n      <td>361</td>\n      <td>1.0</td>\n    </tr>\n    <tr>\n      <th>20</th>\n      <td>20</td>\n      <td>0.0</td>\n      <td>1.0</td>\n      <td>1.0</td>\n      <td>2.0</td>\n      <td>52.0</td>\n      <td>0.0</td>\n      <td>0.0</td>\n      <td>254.0</td>\n      <td>0.0</td>\n      <td>2.0</td>\n      <td>0.0</td>\n      <td>361</td>\n      <td>1.0</td>\n    </tr>\n    <tr>\n      <th>21</th>\n      <td>21</td>\n      <td>0.0</td>\n      <td>2.0</td>\n      <td>0.0</td>\n      <td>2.0</td>\n      <td>52.0</td>\n      <td>0.0</td>\n      <td>0.0</td>\n      <td>255.0</td>\n      <td>0.0</td>\n      <td>2.0</td>\n      <td>0.0</td>\n      <td>361</td>\n      <td>0.0</td>\n    </tr>\n    <tr>\n      <th>22</th>\n      <td>22</td>\n      <td>0.0</td>\n      <td>2.0</td>\n      <td>0.0</td>\n      <td>3.0</td>\n      <td>1.0</td>\n      <td>0.0</td>\n      <td>0.0</td>\n      <td>254.0</td>\n      <td>0.0</td>\n      <td>3.0</td>\n      <td>0.0</td>\n      <td>361</td>\n      <td>0.0</td>\n    </tr>\n    <tr>\n      <th>23</th>\n      <td>23</td>\n      <td>0.0</td>\n      <td>0.0</td>\n      <td>0.0</td>\n      <td>0.0</td>\n      <td>0.0</td>\n      <td>0.0</td>\n      <td>0.0</td>\n      <td>52.0</td>\n      <td>0.0</td>\n      <td>6.0</td>\n      <td>0.0</td>\n      <td>361</td>\n      <td>0.0</td>\n    </tr>\n  </tbody>\n</table>\n</div>"
     },
     "execution_count": 52,
     "metadata": {},
     "output_type": "execute_result"
    }
   ],
   "source": [
    "#Creates a dataframe with counts of \"StatusOffOn\" = 1, grouped by HourOfTimestamp for all attributes in kitchenplugs\n",
    "\n",
    "dataframes = list()\n",
    "for i in plugs:\n",
    "    count_series = kitchenplugs.groupby([\"HourOfTimestamp\", i]).size()\n",
    "\n",
    "    new_df = count_series.to_frame(name=f'{i} ').reset_index()\n",
    "\n",
    "    only_on = new_df.loc[new_df[i] == 1].copy()\n",
    "    only_on.drop(columns=[i], inplace=True)\n",
    "    dataframes.append(only_on)\n",
    "\n",
    "hourON = pd.DataFrame(list(range(0, 24)), columns=[\"HourOfTimestamp\"])\n",
    "for i in dataframes:\n",
    "    hourON = hourON.merge(i, how=\"outer\", on=\"HourOfTimestamp\").fillna(0).sort_values(by='HourOfTimestamp',\n",
    "                                                                                      ascending=True)\n",
    "\n",
    "hourON"
   ],
   "metadata": {
    "collapsed": false,
    "pycharm": {
     "name": "#%%\n"
    }
   }
  },
  {
   "cell_type": "code",
   "execution_count": 56,
   "metadata": {
    "collapsed": true,
    "pycharm": {
     "name": "#%%\n"
    }
   },
   "outputs": [
    {
     "name": "stderr",
     "output_type": "stream",
     "text": [
      "/Users/christiannielsen/Documents/Conda_environments/lib/python3.9/site-packages/plotly/graph_objs/_deprecations.py:62: DeprecationWarning:\n",
      "\n",
      "plotly.graph_objs.Annotations is deprecated.\n",
      "Please replace it with a list or tuple of instances of the following types\n",
      "  - plotly.graph_objs.layout.Annotation\n",
      "  - plotly.graph_objs.layout.scene.Annotation\n",
      "\n",
      "\n",
      "/Users/christiannielsen/Documents/Conda_environments/lib/python3.9/site-packages/plotly/graph_objs/_deprecations.py:143: DeprecationWarning:\n",
      "\n",
      "plotly.graph_objs.Annotation is deprecated.\n",
      "Please replace it with one of the following more specific types\n",
      "  - plotly.graph_objs.layout.Annotation\n",
      "  - plotly.graph_objs.layout.scene.Annotation\n",
      "\n",
      "\n"
     ]
    },
    {
     "data": {
      "application/vnd.plotly.v1+json": {
       "data": [
        {
         "colorscale": [
          [
           0.0,
           "rgb(209, 238, 234)"
          ],
          [
           0.16666666666666666,
           "rgb(168, 219, 217)"
          ],
          [
           0.3333333333333333,
           "rgb(133, 196, 201)"
          ],
          [
           0.5,
           "rgb(104, 171, 184)"
          ],
          [
           0.6666666666666666,
           "rgb(79, 144, 166)"
          ],
          [
           0.8333333333333334,
           "rgb(59, 115, 143)"
          ],
          [
           1.0,
           "rgb(42, 86, 116)"
          ]
         ],
         "x": [
          0,
          1,
          2,
          3,
          4,
          5,
          6,
          7,
          8,
          9,
          10,
          11,
          12,
          13,
          14,
          15,
          16,
          17,
          18,
          19,
          20,
          21,
          22,
          23
         ],
         "y": [
          "Load_StatusPlugLoadBlender ",
          "Load_StatusPlugLoadToasterOven ",
          "Load_StatusApplianceRangeHood ",
          "Load_StatusApplianceCooktop ",
          "Load_StatusApplianceOven ",
          "Load_StatusPlugLoadSlowCooker ",
          "Load_StatusPlugLoadToaster ",
          "Load_StatusApplianceDishwasher ",
          "Load_StatusPlugLoadHandMixer ",
          "Load_StatusPlugLoadCanOpener ",
          "Load_StatusPlugLoadCoffeeMaker ",
          "Load_StatusRefrigerator ",
          "Load_StatusMicrowave "
         ],
         "z": [
          [
           0.0,
           0.0,
           0.0,
           0.0,
           0.0,
           0.0,
           1.0,
           0.0,
           0.0,
           0.39,
           0.0,
           0.0,
           0.0,
           0.0,
           0.0,
           0.0,
           0.0,
           0.0,
           0.0,
           0.0,
           0.0,
           0.0,
           0.0,
           0.0
          ],
          [
           0.0,
           0.0,
           0.0,
           0.0,
           0.0,
           0.0,
           1.0,
           0.0,
           0.0,
           0.39,
           0.0,
           0.0,
           0.0,
           0.0,
           0.0,
           0.0,
           0.0,
           0.0,
           0.0,
           0.0,
           0.0,
           0.01,
           0.01,
           0.0
          ],
          [
           0.0,
           0.0,
           0.01,
           0.0,
           0.0,
           0.0,
           0.0,
           0.0,
           0.28,
           0.0,
           0.0,
           0.0,
           0.28,
           0.0,
           0.0,
           0.0,
           0.0,
           0.03,
           1.0,
           0.14,
           0.0,
           0.0,
           0.0,
           0.0
          ],
          [
           0.0,
           0.0,
           0.01,
           0.0,
           0.0,
           0.0,
           0.0,
           0.0,
           0.28,
           0.0,
           0.0,
           0.0,
           0.28,
           0.0,
           0.0,
           0.0,
           0.0,
           0.03,
           1.0,
           0.14,
           0.01,
           0.01,
           0.01,
           0.0
          ],
          [
           0.0,
           0.0,
           0.01,
           0.01,
           0.01,
           0.01,
           0.0,
           0.0,
           1.0,
           1.0,
           1.0,
           0.0,
           0.0,
           0.0,
           0.0,
           0.0,
           0.01,
           0.01,
           0.5,
           0.5,
           0.51,
           0.51,
           0.01,
           0.0
          ],
          [
           0.0,
           0.0,
           0.0,
           0.0,
           0.0,
           0.0,
           0.0,
           0.0,
           0.51,
           1.0,
           0.49,
           0.0,
           0.0,
           0.0,
           0.0,
           0.0,
           0.0,
           0.0,
           0.0,
           0.0,
           0.0,
           0.0,
           0.0,
           0.0
          ],
          [
           0.0,
           0.0,
           0.0,
           0.0,
           0.0,
           0.0,
           1.0,
           0.0,
           0.0,
           0.39,
           0.0,
           0.0,
           0.0,
           0.0,
           0.0,
           0.0,
           0.0,
           0.0,
           0.0,
           0.0,
           0.0,
           0.0,
           0.0,
           0.0
          ],
          [
           0.0,
           0.0,
           0.0,
           0.0,
           0.01,
           0.01,
           0.01,
           0.0,
           0.0,
           0.0,
           0.0,
           0.0,
           0.0,
           0.0,
           0.0,
           0.0,
           0.0,
           0.0,
           0.0,
           0.0,
           1.0,
           1.0,
           1.0,
           0.2
          ],
          [
           0.0,
           0.0,
           0.01,
           0.0,
           0.0,
           0.0,
           0.0,
           0.0,
           0.0,
           0.0,
           0.0,
           0.0,
           0.0,
           0.0,
           0.0,
           0.0,
           0.0,
           0.0,
           1.0,
           0.17,
           0.0,
           0.0,
           0.0,
           0.0
          ],
          [
           0.0,
           0.0,
           0.01,
           0.0,
           0.0,
           0.0,
           0.0,
           0.0,
           0.0,
           0.0,
           0.0,
           0.0,
           0.0,
           0.0,
           0.0,
           0.0,
           0.0,
           0.0,
           1.0,
           0.17,
           0.01,
           0.01,
           0.01,
           0.02
          ],
          [
           0.0,
           0.0,
           0.0,
           0.0,
           0.0,
           0.0,
           1.0,
           0.05,
           0.0,
           0.39,
           0.02,
           0.0,
           0.02,
           0.0,
           0.0,
           0.0,
           0.0,
           0.0,
           0.06,
           0.0,
           0.0,
           0.0,
           0.0,
           0.0
          ],
          [
           1.0,
           0.75,
           0.0,
           0.25,
           0.25,
           0.25,
           0.0,
           0.25,
           0.5,
           0.5,
           0.5,
           0.5,
           0.5,
           0.5,
           0.0,
           0.0,
           0.25,
           0.25,
           0.5,
           0.5,
           0.5,
           0.5,
           0.5,
           0.5
          ],
          [
           0.0,
           0.0,
           0.0,
           0.0,
           0.0,
           0.03,
           0.84,
           0.0,
           0.01,
           0.35,
           0.0,
           0.0,
           0.33,
           0.01,
           0.0,
           0.0,
           0.0,
           0.0,
           1.0,
           0.0,
           0.0,
           0.0,
           0.0,
           0.0
          ]
         ],
         "type": "heatmap"
        }
       ],
       "layout": {
        "template": {
         "data": {
          "barpolar": [
           {
            "marker": {
             "line": {
              "color": "#E5ECF6",
              "width": 0.5
             },
             "pattern": {
              "fillmode": "overlay",
              "size": 10,
              "solidity": 0.2
             }
            },
            "type": "barpolar"
           }
          ],
          "bar": [
           {
            "error_x": {
             "color": "#2a3f5f"
            },
            "error_y": {
             "color": "#2a3f5f"
            },
            "marker": {
             "line": {
              "color": "#E5ECF6",
              "width": 0.5
             },
             "pattern": {
              "fillmode": "overlay",
              "size": 10,
              "solidity": 0.2
             }
            },
            "type": "bar"
           }
          ],
          "carpet": [
           {
            "aaxis": {
             "endlinecolor": "#2a3f5f",
             "gridcolor": "white",
             "linecolor": "white",
             "minorgridcolor": "white",
             "startlinecolor": "#2a3f5f"
            },
            "baxis": {
             "endlinecolor": "#2a3f5f",
             "gridcolor": "white",
             "linecolor": "white",
             "minorgridcolor": "white",
             "startlinecolor": "#2a3f5f"
            },
            "type": "carpet"
           }
          ],
          "choropleth": [
           {
            "colorbar": {
             "outlinewidth": 0,
             "ticks": ""
            },
            "type": "choropleth"
           }
          ],
          "contourcarpet": [
           {
            "colorbar": {
             "outlinewidth": 0,
             "ticks": ""
            },
            "type": "contourcarpet"
           }
          ],
          "contour": [
           {
            "colorbar": {
             "outlinewidth": 0,
             "ticks": ""
            },
            "colorscale": [
             [
              0.0,
              "#0d0887"
             ],
             [
              0.1111111111111111,
              "#46039f"
             ],
             [
              0.2222222222222222,
              "#7201a8"
             ],
             [
              0.3333333333333333,
              "#9c179e"
             ],
             [
              0.4444444444444444,
              "#bd3786"
             ],
             [
              0.5555555555555556,
              "#d8576b"
             ],
             [
              0.6666666666666666,
              "#ed7953"
             ],
             [
              0.7777777777777778,
              "#fb9f3a"
             ],
             [
              0.8888888888888888,
              "#fdca26"
             ],
             [
              1.0,
              "#f0f921"
             ]
            ],
            "type": "contour"
           }
          ],
          "heatmapgl": [
           {
            "colorbar": {
             "outlinewidth": 0,
             "ticks": ""
            },
            "colorscale": [
             [
              0.0,
              "#0d0887"
             ],
             [
              0.1111111111111111,
              "#46039f"
             ],
             [
              0.2222222222222222,
              "#7201a8"
             ],
             [
              0.3333333333333333,
              "#9c179e"
             ],
             [
              0.4444444444444444,
              "#bd3786"
             ],
             [
              0.5555555555555556,
              "#d8576b"
             ],
             [
              0.6666666666666666,
              "#ed7953"
             ],
             [
              0.7777777777777778,
              "#fb9f3a"
             ],
             [
              0.8888888888888888,
              "#fdca26"
             ],
             [
              1.0,
              "#f0f921"
             ]
            ],
            "type": "heatmapgl"
           }
          ],
          "heatmap": [
           {
            "colorbar": {
             "outlinewidth": 0,
             "ticks": ""
            },
            "colorscale": [
             [
              0.0,
              "#0d0887"
             ],
             [
              0.1111111111111111,
              "#46039f"
             ],
             [
              0.2222222222222222,
              "#7201a8"
             ],
             [
              0.3333333333333333,
              "#9c179e"
             ],
             [
              0.4444444444444444,
              "#bd3786"
             ],
             [
              0.5555555555555556,
              "#d8576b"
             ],
             [
              0.6666666666666666,
              "#ed7953"
             ],
             [
              0.7777777777777778,
              "#fb9f3a"
             ],
             [
              0.8888888888888888,
              "#fdca26"
             ],
             [
              1.0,
              "#f0f921"
             ]
            ],
            "type": "heatmap"
           }
          ],
          "histogram2dcontour": [
           {
            "colorbar": {
             "outlinewidth": 0,
             "ticks": ""
            },
            "colorscale": [
             [
              0.0,
              "#0d0887"
             ],
             [
              0.1111111111111111,
              "#46039f"
             ],
             [
              0.2222222222222222,
              "#7201a8"
             ],
             [
              0.3333333333333333,
              "#9c179e"
             ],
             [
              0.4444444444444444,
              "#bd3786"
             ],
             [
              0.5555555555555556,
              "#d8576b"
             ],
             [
              0.6666666666666666,
              "#ed7953"
             ],
             [
              0.7777777777777778,
              "#fb9f3a"
             ],
             [
              0.8888888888888888,
              "#fdca26"
             ],
             [
              1.0,
              "#f0f921"
             ]
            ],
            "type": "histogram2dcontour"
           }
          ],
          "histogram2d": [
           {
            "colorbar": {
             "outlinewidth": 0,
             "ticks": ""
            },
            "colorscale": [
             [
              0.0,
              "#0d0887"
             ],
             [
              0.1111111111111111,
              "#46039f"
             ],
             [
              0.2222222222222222,
              "#7201a8"
             ],
             [
              0.3333333333333333,
              "#9c179e"
             ],
             [
              0.4444444444444444,
              "#bd3786"
             ],
             [
              0.5555555555555556,
              "#d8576b"
             ],
             [
              0.6666666666666666,
              "#ed7953"
             ],
             [
              0.7777777777777778,
              "#fb9f3a"
             ],
             [
              0.8888888888888888,
              "#fdca26"
             ],
             [
              1.0,
              "#f0f921"
             ]
            ],
            "type": "histogram2d"
           }
          ],
          "histogram": [
           {
            "marker": {
             "pattern": {
              "fillmode": "overlay",
              "size": 10,
              "solidity": 0.2
             }
            },
            "type": "histogram"
           }
          ],
          "mesh3d": [
           {
            "colorbar": {
             "outlinewidth": 0,
             "ticks": ""
            },
            "type": "mesh3d"
           }
          ],
          "parcoords": [
           {
            "line": {
             "colorbar": {
              "outlinewidth": 0,
              "ticks": ""
             }
            },
            "type": "parcoords"
           }
          ],
          "pie": [
           {
            "automargin": true,
            "type": "pie"
           }
          ],
          "scatter3d": [
           {
            "line": {
             "colorbar": {
              "outlinewidth": 0,
              "ticks": ""
             }
            },
            "marker": {
             "colorbar": {
              "outlinewidth": 0,
              "ticks": ""
             }
            },
            "type": "scatter3d"
           }
          ],
          "scattercarpet": [
           {
            "marker": {
             "colorbar": {
              "outlinewidth": 0,
              "ticks": ""
             }
            },
            "type": "scattercarpet"
           }
          ],
          "scattergeo": [
           {
            "marker": {
             "colorbar": {
              "outlinewidth": 0,
              "ticks": ""
             }
            },
            "type": "scattergeo"
           }
          ],
          "scattergl": [
           {
            "marker": {
             "colorbar": {
              "outlinewidth": 0,
              "ticks": ""
             }
            },
            "type": "scattergl"
           }
          ],
          "scattermapbox": [
           {
            "marker": {
             "colorbar": {
              "outlinewidth": 0,
              "ticks": ""
             }
            },
            "type": "scattermapbox"
           }
          ],
          "scatterpolargl": [
           {
            "marker": {
             "colorbar": {
              "outlinewidth": 0,
              "ticks": ""
             }
            },
            "type": "scatterpolargl"
           }
          ],
          "scatterpolar": [
           {
            "marker": {
             "colorbar": {
              "outlinewidth": 0,
              "ticks": ""
             }
            },
            "type": "scatterpolar"
           }
          ],
          "scatter": [
           {
            "marker": {
             "colorbar": {
              "outlinewidth": 0,
              "ticks": ""
             }
            },
            "type": "scatter"
           }
          ],
          "scatterternary": [
           {
            "marker": {
             "colorbar": {
              "outlinewidth": 0,
              "ticks": ""
             }
            },
            "type": "scatterternary"
           }
          ],
          "surface": [
           {
            "colorbar": {
             "outlinewidth": 0,
             "ticks": ""
            },
            "colorscale": [
             [
              0.0,
              "#0d0887"
             ],
             [
              0.1111111111111111,
              "#46039f"
             ],
             [
              0.2222222222222222,
              "#7201a8"
             ],
             [
              0.3333333333333333,
              "#9c179e"
             ],
             [
              0.4444444444444444,
              "#bd3786"
             ],
             [
              0.5555555555555556,
              "#d8576b"
             ],
             [
              0.6666666666666666,
              "#ed7953"
             ],
             [
              0.7777777777777778,
              "#fb9f3a"
             ],
             [
              0.8888888888888888,
              "#fdca26"
             ],
             [
              1.0,
              "#f0f921"
             ]
            ],
            "type": "surface"
           }
          ],
          "table": [
           {
            "cells": {
             "fill": {
              "color": "#EBF0F8"
             },
             "line": {
              "color": "white"
             }
            },
            "header": {
             "fill": {
              "color": "#C8D4E3"
             },
             "line": {
              "color": "white"
             }
            },
            "type": "table"
           }
          ]
         },
         "layout": {
          "annotationdefaults": {
           "arrowcolor": "#2a3f5f",
           "arrowhead": 0,
           "arrowwidth": 1
          },
          "autotypenumbers": "strict",
          "coloraxis": {
           "colorbar": {
            "outlinewidth": 0,
            "ticks": ""
           }
          },
          "colorscale": {
           "diverging": [
            [
             0,
             "#8e0152"
            ],
            [
             0.1,
             "#c51b7d"
            ],
            [
             0.2,
             "#de77ae"
            ],
            [
             0.3,
             "#f1b6da"
            ],
            [
             0.4,
             "#fde0ef"
            ],
            [
             0.5,
             "#f7f7f7"
            ],
            [
             0.6,
             "#e6f5d0"
            ],
            [
             0.7,
             "#b8e186"
            ],
            [
             0.8,
             "#7fbc41"
            ],
            [
             0.9,
             "#4d9221"
            ],
            [
             1,
             "#276419"
            ]
           ],
           "sequential": [
            [
             0.0,
             "#0d0887"
            ],
            [
             0.1111111111111111,
             "#46039f"
            ],
            [
             0.2222222222222222,
             "#7201a8"
            ],
            [
             0.3333333333333333,
             "#9c179e"
            ],
            [
             0.4444444444444444,
             "#bd3786"
            ],
            [
             0.5555555555555556,
             "#d8576b"
            ],
            [
             0.6666666666666666,
             "#ed7953"
            ],
            [
             0.7777777777777778,
             "#fb9f3a"
            ],
            [
             0.8888888888888888,
             "#fdca26"
            ],
            [
             1.0,
             "#f0f921"
            ]
           ],
           "sequentialminus": [
            [
             0.0,
             "#0d0887"
            ],
            [
             0.1111111111111111,
             "#46039f"
            ],
            [
             0.2222222222222222,
             "#7201a8"
            ],
            [
             0.3333333333333333,
             "#9c179e"
            ],
            [
             0.4444444444444444,
             "#bd3786"
            ],
            [
             0.5555555555555556,
             "#d8576b"
            ],
            [
             0.6666666666666666,
             "#ed7953"
            ],
            [
             0.7777777777777778,
             "#fb9f3a"
            ],
            [
             0.8888888888888888,
             "#fdca26"
            ],
            [
             1.0,
             "#f0f921"
            ]
           ]
          },
          "colorway": [
           "#636efa",
           "#EF553B",
           "#00cc96",
           "#ab63fa",
           "#FFA15A",
           "#19d3f3",
           "#FF6692",
           "#B6E880",
           "#FF97FF",
           "#FECB52"
          ],
          "font": {
           "color": "#2a3f5f"
          },
          "geo": {
           "bgcolor": "white",
           "lakecolor": "white",
           "landcolor": "#E5ECF6",
           "showlakes": true,
           "showland": true,
           "subunitcolor": "white"
          },
          "hoverlabel": {
           "align": "left"
          },
          "hovermode": "closest",
          "mapbox": {
           "style": "light"
          },
          "paper_bgcolor": "white",
          "plot_bgcolor": "#E5ECF6",
          "polar": {
           "angularaxis": {
            "gridcolor": "white",
            "linecolor": "white",
            "ticks": ""
           },
           "bgcolor": "#E5ECF6",
           "radialaxis": {
            "gridcolor": "white",
            "linecolor": "white",
            "ticks": ""
           }
          },
          "scene": {
           "xaxis": {
            "backgroundcolor": "#E5ECF6",
            "gridcolor": "white",
            "gridwidth": 2,
            "linecolor": "white",
            "showbackground": true,
            "ticks": "",
            "zerolinecolor": "white"
           },
           "yaxis": {
            "backgroundcolor": "#E5ECF6",
            "gridcolor": "white",
            "gridwidth": 2,
            "linecolor": "white",
            "showbackground": true,
            "ticks": "",
            "zerolinecolor": "white"
           },
           "zaxis": {
            "backgroundcolor": "#E5ECF6",
            "gridcolor": "white",
            "gridwidth": 2,
            "linecolor": "white",
            "showbackground": true,
            "ticks": "",
            "zerolinecolor": "white"
           }
          },
          "shapedefaults": {
           "line": {
            "color": "#2a3f5f"
           }
          },
          "ternary": {
           "aaxis": {
            "gridcolor": "white",
            "linecolor": "white",
            "ticks": ""
           },
           "baxis": {
            "gridcolor": "white",
            "linecolor": "white",
            "ticks": ""
           },
           "bgcolor": "#E5ECF6",
           "caxis": {
            "gridcolor": "white",
            "linecolor": "white",
            "ticks": ""
           }
          },
          "title": {
           "x": 0.05
          },
          "xaxis": {
           "automargin": true,
           "gridcolor": "white",
           "linecolor": "white",
           "ticks": "",
           "title": {
            "standoff": 15
           },
           "zerolinecolor": "white",
           "zerolinewidth": 2
          },
          "yaxis": {
           "automargin": true,
           "gridcolor": "white",
           "linecolor": "white",
           "ticks": "",
           "title": {
            "standoff": 15
           },
           "zerolinecolor": "white",
           "zerolinewidth": 2
          }
         }
        },
        "margin": {
         "l": 30,
         "r": 30,
         "b": 30,
         "t": 50
        },
        "font": {
         "size": 16
        },
        "xaxis": {
         "nticks": 30,
         "title": {
          "text": "Hour of day"
         }
        },
        "annotations": [
         {
          "showarrow": false,
          "text": "",
          "x": 0,
          "xref": "x",
          "y": "Load_StatusPlugLoadBlender ",
          "yref": "y"
         },
         {
          "showarrow": false,
          "text": "",
          "x": 1,
          "xref": "x",
          "y": "Load_StatusPlugLoadBlender ",
          "yref": "y"
         },
         {
          "showarrow": false,
          "text": "",
          "x": 2,
          "xref": "x",
          "y": "Load_StatusPlugLoadBlender ",
          "yref": "y"
         },
         {
          "showarrow": false,
          "text": "",
          "x": 3,
          "xref": "x",
          "y": "Load_StatusPlugLoadBlender ",
          "yref": "y"
         },
         {
          "showarrow": false,
          "text": "",
          "x": 4,
          "xref": "x",
          "y": "Load_StatusPlugLoadBlender ",
          "yref": "y"
         },
         {
          "showarrow": false,
          "text": "",
          "x": 5,
          "xref": "x",
          "y": "Load_StatusPlugLoadBlender ",
          "yref": "y"
         },
         {
          "showarrow": false,
          "text": "1.0",
          "x": 6,
          "xref": "x",
          "y": "Load_StatusPlugLoadBlender ",
          "yref": "y"
         },
         {
          "showarrow": false,
          "text": "",
          "x": 7,
          "xref": "x",
          "y": "Load_StatusPlugLoadBlender ",
          "yref": "y"
         },
         {
          "showarrow": false,
          "text": "",
          "x": 8,
          "xref": "x",
          "y": "Load_StatusPlugLoadBlender ",
          "yref": "y"
         },
         {
          "showarrow": false,
          "text": "0.39",
          "x": 9,
          "xref": "x",
          "y": "Load_StatusPlugLoadBlender ",
          "yref": "y"
         },
         {
          "showarrow": false,
          "text": "",
          "x": 10,
          "xref": "x",
          "y": "Load_StatusPlugLoadBlender ",
          "yref": "y"
         },
         {
          "showarrow": false,
          "text": "",
          "x": 11,
          "xref": "x",
          "y": "Load_StatusPlugLoadBlender ",
          "yref": "y"
         },
         {
          "showarrow": false,
          "text": "",
          "x": 12,
          "xref": "x",
          "y": "Load_StatusPlugLoadBlender ",
          "yref": "y"
         },
         {
          "showarrow": false,
          "text": "",
          "x": 13,
          "xref": "x",
          "y": "Load_StatusPlugLoadBlender ",
          "yref": "y"
         },
         {
          "showarrow": false,
          "text": "",
          "x": 14,
          "xref": "x",
          "y": "Load_StatusPlugLoadBlender ",
          "yref": "y"
         },
         {
          "showarrow": false,
          "text": "",
          "x": 15,
          "xref": "x",
          "y": "Load_StatusPlugLoadBlender ",
          "yref": "y"
         },
         {
          "showarrow": false,
          "text": "",
          "x": 16,
          "xref": "x",
          "y": "Load_StatusPlugLoadBlender ",
          "yref": "y"
         },
         {
          "showarrow": false,
          "text": "",
          "x": 17,
          "xref": "x",
          "y": "Load_StatusPlugLoadBlender ",
          "yref": "y"
         },
         {
          "showarrow": false,
          "text": "",
          "x": 18,
          "xref": "x",
          "y": "Load_StatusPlugLoadBlender ",
          "yref": "y"
         },
         {
          "showarrow": false,
          "text": "",
          "x": 19,
          "xref": "x",
          "y": "Load_StatusPlugLoadBlender ",
          "yref": "y"
         },
         {
          "showarrow": false,
          "text": "",
          "x": 20,
          "xref": "x",
          "y": "Load_StatusPlugLoadBlender ",
          "yref": "y"
         },
         {
          "showarrow": false,
          "text": "",
          "x": 21,
          "xref": "x",
          "y": "Load_StatusPlugLoadBlender ",
          "yref": "y"
         },
         {
          "showarrow": false,
          "text": "",
          "x": 22,
          "xref": "x",
          "y": "Load_StatusPlugLoadBlender ",
          "yref": "y"
         },
         {
          "showarrow": false,
          "text": "",
          "x": 23,
          "xref": "x",
          "y": "Load_StatusPlugLoadBlender ",
          "yref": "y"
         },
         {
          "showarrow": false,
          "text": "",
          "x": 0,
          "xref": "x",
          "y": "Load_StatusPlugLoadToasterOven ",
          "yref": "y"
         },
         {
          "showarrow": false,
          "text": "",
          "x": 1,
          "xref": "x",
          "y": "Load_StatusPlugLoadToasterOven ",
          "yref": "y"
         },
         {
          "showarrow": false,
          "text": "",
          "x": 2,
          "xref": "x",
          "y": "Load_StatusPlugLoadToasterOven ",
          "yref": "y"
         },
         {
          "showarrow": false,
          "text": "",
          "x": 3,
          "xref": "x",
          "y": "Load_StatusPlugLoadToasterOven ",
          "yref": "y"
         },
         {
          "showarrow": false,
          "text": "",
          "x": 4,
          "xref": "x",
          "y": "Load_StatusPlugLoadToasterOven ",
          "yref": "y"
         },
         {
          "showarrow": false,
          "text": "",
          "x": 5,
          "xref": "x",
          "y": "Load_StatusPlugLoadToasterOven ",
          "yref": "y"
         },
         {
          "showarrow": false,
          "text": "1.0",
          "x": 6,
          "xref": "x",
          "y": "Load_StatusPlugLoadToasterOven ",
          "yref": "y"
         },
         {
          "showarrow": false,
          "text": "",
          "x": 7,
          "xref": "x",
          "y": "Load_StatusPlugLoadToasterOven ",
          "yref": "y"
         },
         {
          "showarrow": false,
          "text": "",
          "x": 8,
          "xref": "x",
          "y": "Load_StatusPlugLoadToasterOven ",
          "yref": "y"
         },
         {
          "showarrow": false,
          "text": "0.39",
          "x": 9,
          "xref": "x",
          "y": "Load_StatusPlugLoadToasterOven ",
          "yref": "y"
         },
         {
          "showarrow": false,
          "text": "",
          "x": 10,
          "xref": "x",
          "y": "Load_StatusPlugLoadToasterOven ",
          "yref": "y"
         },
         {
          "showarrow": false,
          "text": "",
          "x": 11,
          "xref": "x",
          "y": "Load_StatusPlugLoadToasterOven ",
          "yref": "y"
         },
         {
          "showarrow": false,
          "text": "",
          "x": 12,
          "xref": "x",
          "y": "Load_StatusPlugLoadToasterOven ",
          "yref": "y"
         },
         {
          "showarrow": false,
          "text": "",
          "x": 13,
          "xref": "x",
          "y": "Load_StatusPlugLoadToasterOven ",
          "yref": "y"
         },
         {
          "showarrow": false,
          "text": "",
          "x": 14,
          "xref": "x",
          "y": "Load_StatusPlugLoadToasterOven ",
          "yref": "y"
         },
         {
          "showarrow": false,
          "text": "",
          "x": 15,
          "xref": "x",
          "y": "Load_StatusPlugLoadToasterOven ",
          "yref": "y"
         },
         {
          "showarrow": false,
          "text": "",
          "x": 16,
          "xref": "x",
          "y": "Load_StatusPlugLoadToasterOven ",
          "yref": "y"
         },
         {
          "showarrow": false,
          "text": "",
          "x": 17,
          "xref": "x",
          "y": "Load_StatusPlugLoadToasterOven ",
          "yref": "y"
         },
         {
          "showarrow": false,
          "text": "",
          "x": 18,
          "xref": "x",
          "y": "Load_StatusPlugLoadToasterOven ",
          "yref": "y"
         },
         {
          "showarrow": false,
          "text": "",
          "x": 19,
          "xref": "x",
          "y": "Load_StatusPlugLoadToasterOven ",
          "yref": "y"
         },
         {
          "showarrow": false,
          "text": "",
          "x": 20,
          "xref": "x",
          "y": "Load_StatusPlugLoadToasterOven ",
          "yref": "y"
         },
         {
          "showarrow": false,
          "text": "0.01",
          "x": 21,
          "xref": "x",
          "y": "Load_StatusPlugLoadToasterOven ",
          "yref": "y"
         },
         {
          "showarrow": false,
          "text": "0.01",
          "x": 22,
          "xref": "x",
          "y": "Load_StatusPlugLoadToasterOven ",
          "yref": "y"
         },
         {
          "showarrow": false,
          "text": "",
          "x": 23,
          "xref": "x",
          "y": "Load_StatusPlugLoadToasterOven ",
          "yref": "y"
         },
         {
          "showarrow": false,
          "text": "",
          "x": 0,
          "xref": "x",
          "y": "Load_StatusApplianceRangeHood ",
          "yref": "y"
         },
         {
          "showarrow": false,
          "text": "",
          "x": 1,
          "xref": "x",
          "y": "Load_StatusApplianceRangeHood ",
          "yref": "y"
         },
         {
          "showarrow": false,
          "text": "0.01",
          "x": 2,
          "xref": "x",
          "y": "Load_StatusApplianceRangeHood ",
          "yref": "y"
         },
         {
          "showarrow": false,
          "text": "",
          "x": 3,
          "xref": "x",
          "y": "Load_StatusApplianceRangeHood ",
          "yref": "y"
         },
         {
          "showarrow": false,
          "text": "",
          "x": 4,
          "xref": "x",
          "y": "Load_StatusApplianceRangeHood ",
          "yref": "y"
         },
         {
          "showarrow": false,
          "text": "",
          "x": 5,
          "xref": "x",
          "y": "Load_StatusApplianceRangeHood ",
          "yref": "y"
         },
         {
          "showarrow": false,
          "text": "",
          "x": 6,
          "xref": "x",
          "y": "Load_StatusApplianceRangeHood ",
          "yref": "y"
         },
         {
          "showarrow": false,
          "text": "",
          "x": 7,
          "xref": "x",
          "y": "Load_StatusApplianceRangeHood ",
          "yref": "y"
         },
         {
          "showarrow": false,
          "text": "0.28",
          "x": 8,
          "xref": "x",
          "y": "Load_StatusApplianceRangeHood ",
          "yref": "y"
         },
         {
          "showarrow": false,
          "text": "",
          "x": 9,
          "xref": "x",
          "y": "Load_StatusApplianceRangeHood ",
          "yref": "y"
         },
         {
          "showarrow": false,
          "text": "",
          "x": 10,
          "xref": "x",
          "y": "Load_StatusApplianceRangeHood ",
          "yref": "y"
         },
         {
          "showarrow": false,
          "text": "",
          "x": 11,
          "xref": "x",
          "y": "Load_StatusApplianceRangeHood ",
          "yref": "y"
         },
         {
          "showarrow": false,
          "text": "0.28",
          "x": 12,
          "xref": "x",
          "y": "Load_StatusApplianceRangeHood ",
          "yref": "y"
         },
         {
          "showarrow": false,
          "text": "",
          "x": 13,
          "xref": "x",
          "y": "Load_StatusApplianceRangeHood ",
          "yref": "y"
         },
         {
          "showarrow": false,
          "text": "",
          "x": 14,
          "xref": "x",
          "y": "Load_StatusApplianceRangeHood ",
          "yref": "y"
         },
         {
          "showarrow": false,
          "text": "",
          "x": 15,
          "xref": "x",
          "y": "Load_StatusApplianceRangeHood ",
          "yref": "y"
         },
         {
          "showarrow": false,
          "text": "",
          "x": 16,
          "xref": "x",
          "y": "Load_StatusApplianceRangeHood ",
          "yref": "y"
         },
         {
          "showarrow": false,
          "text": "0.03",
          "x": 17,
          "xref": "x",
          "y": "Load_StatusApplianceRangeHood ",
          "yref": "y"
         },
         {
          "showarrow": false,
          "text": "1.0",
          "x": 18,
          "xref": "x",
          "y": "Load_StatusApplianceRangeHood ",
          "yref": "y"
         },
         {
          "showarrow": false,
          "text": "0.14",
          "x": 19,
          "xref": "x",
          "y": "Load_StatusApplianceRangeHood ",
          "yref": "y"
         },
         {
          "showarrow": false,
          "text": "",
          "x": 20,
          "xref": "x",
          "y": "Load_StatusApplianceRangeHood ",
          "yref": "y"
         },
         {
          "showarrow": false,
          "text": "",
          "x": 21,
          "xref": "x",
          "y": "Load_StatusApplianceRangeHood ",
          "yref": "y"
         },
         {
          "showarrow": false,
          "text": "",
          "x": 22,
          "xref": "x",
          "y": "Load_StatusApplianceRangeHood ",
          "yref": "y"
         },
         {
          "showarrow": false,
          "text": "",
          "x": 23,
          "xref": "x",
          "y": "Load_StatusApplianceRangeHood ",
          "yref": "y"
         },
         {
          "showarrow": false,
          "text": "",
          "x": 0,
          "xref": "x",
          "y": "Load_StatusApplianceCooktop ",
          "yref": "y"
         },
         {
          "showarrow": false,
          "text": "",
          "x": 1,
          "xref": "x",
          "y": "Load_StatusApplianceCooktop ",
          "yref": "y"
         },
         {
          "showarrow": false,
          "text": "0.01",
          "x": 2,
          "xref": "x",
          "y": "Load_StatusApplianceCooktop ",
          "yref": "y"
         },
         {
          "showarrow": false,
          "text": "",
          "x": 3,
          "xref": "x",
          "y": "Load_StatusApplianceCooktop ",
          "yref": "y"
         },
         {
          "showarrow": false,
          "text": "",
          "x": 4,
          "xref": "x",
          "y": "Load_StatusApplianceCooktop ",
          "yref": "y"
         },
         {
          "showarrow": false,
          "text": "",
          "x": 5,
          "xref": "x",
          "y": "Load_StatusApplianceCooktop ",
          "yref": "y"
         },
         {
          "showarrow": false,
          "text": "",
          "x": 6,
          "xref": "x",
          "y": "Load_StatusApplianceCooktop ",
          "yref": "y"
         },
         {
          "showarrow": false,
          "text": "",
          "x": 7,
          "xref": "x",
          "y": "Load_StatusApplianceCooktop ",
          "yref": "y"
         },
         {
          "showarrow": false,
          "text": "0.28",
          "x": 8,
          "xref": "x",
          "y": "Load_StatusApplianceCooktop ",
          "yref": "y"
         },
         {
          "showarrow": false,
          "text": "",
          "x": 9,
          "xref": "x",
          "y": "Load_StatusApplianceCooktop ",
          "yref": "y"
         },
         {
          "showarrow": false,
          "text": "",
          "x": 10,
          "xref": "x",
          "y": "Load_StatusApplianceCooktop ",
          "yref": "y"
         },
         {
          "showarrow": false,
          "text": "",
          "x": 11,
          "xref": "x",
          "y": "Load_StatusApplianceCooktop ",
          "yref": "y"
         },
         {
          "showarrow": false,
          "text": "0.28",
          "x": 12,
          "xref": "x",
          "y": "Load_StatusApplianceCooktop ",
          "yref": "y"
         },
         {
          "showarrow": false,
          "text": "",
          "x": 13,
          "xref": "x",
          "y": "Load_StatusApplianceCooktop ",
          "yref": "y"
         },
         {
          "showarrow": false,
          "text": "",
          "x": 14,
          "xref": "x",
          "y": "Load_StatusApplianceCooktop ",
          "yref": "y"
         },
         {
          "showarrow": false,
          "text": "",
          "x": 15,
          "xref": "x",
          "y": "Load_StatusApplianceCooktop ",
          "yref": "y"
         },
         {
          "showarrow": false,
          "text": "",
          "x": 16,
          "xref": "x",
          "y": "Load_StatusApplianceCooktop ",
          "yref": "y"
         },
         {
          "showarrow": false,
          "text": "0.03",
          "x": 17,
          "xref": "x",
          "y": "Load_StatusApplianceCooktop ",
          "yref": "y"
         },
         {
          "showarrow": false,
          "text": "1.0",
          "x": 18,
          "xref": "x",
          "y": "Load_StatusApplianceCooktop ",
          "yref": "y"
         },
         {
          "showarrow": false,
          "text": "0.14",
          "x": 19,
          "xref": "x",
          "y": "Load_StatusApplianceCooktop ",
          "yref": "y"
         },
         {
          "showarrow": false,
          "text": "0.01",
          "x": 20,
          "xref": "x",
          "y": "Load_StatusApplianceCooktop ",
          "yref": "y"
         },
         {
          "showarrow": false,
          "text": "0.01",
          "x": 21,
          "xref": "x",
          "y": "Load_StatusApplianceCooktop ",
          "yref": "y"
         },
         {
          "showarrow": false,
          "text": "0.01",
          "x": 22,
          "xref": "x",
          "y": "Load_StatusApplianceCooktop ",
          "yref": "y"
         },
         {
          "showarrow": false,
          "text": "",
          "x": 23,
          "xref": "x",
          "y": "Load_StatusApplianceCooktop ",
          "yref": "y"
         },
         {
          "showarrow": false,
          "text": "",
          "x": 0,
          "xref": "x",
          "y": "Load_StatusApplianceOven ",
          "yref": "y"
         },
         {
          "showarrow": false,
          "text": "",
          "x": 1,
          "xref": "x",
          "y": "Load_StatusApplianceOven ",
          "yref": "y"
         },
         {
          "showarrow": false,
          "text": "0.01",
          "x": 2,
          "xref": "x",
          "y": "Load_StatusApplianceOven ",
          "yref": "y"
         },
         {
          "showarrow": false,
          "text": "0.01",
          "x": 3,
          "xref": "x",
          "y": "Load_StatusApplianceOven ",
          "yref": "y"
         },
         {
          "showarrow": false,
          "text": "0.01",
          "x": 4,
          "xref": "x",
          "y": "Load_StatusApplianceOven ",
          "yref": "y"
         },
         {
          "showarrow": false,
          "text": "0.01",
          "x": 5,
          "xref": "x",
          "y": "Load_StatusApplianceOven ",
          "yref": "y"
         },
         {
          "showarrow": false,
          "text": "",
          "x": 6,
          "xref": "x",
          "y": "Load_StatusApplianceOven ",
          "yref": "y"
         },
         {
          "showarrow": false,
          "text": "",
          "x": 7,
          "xref": "x",
          "y": "Load_StatusApplianceOven ",
          "yref": "y"
         },
         {
          "showarrow": false,
          "text": "1.0",
          "x": 8,
          "xref": "x",
          "y": "Load_StatusApplianceOven ",
          "yref": "y"
         },
         {
          "showarrow": false,
          "text": "1.0",
          "x": 9,
          "xref": "x",
          "y": "Load_StatusApplianceOven ",
          "yref": "y"
         },
         {
          "showarrow": false,
          "text": "1.0",
          "x": 10,
          "xref": "x",
          "y": "Load_StatusApplianceOven ",
          "yref": "y"
         },
         {
          "showarrow": false,
          "text": "",
          "x": 11,
          "xref": "x",
          "y": "Load_StatusApplianceOven ",
          "yref": "y"
         },
         {
          "showarrow": false,
          "text": "",
          "x": 12,
          "xref": "x",
          "y": "Load_StatusApplianceOven ",
          "yref": "y"
         },
         {
          "showarrow": false,
          "text": "",
          "x": 13,
          "xref": "x",
          "y": "Load_StatusApplianceOven ",
          "yref": "y"
         },
         {
          "showarrow": false,
          "text": "",
          "x": 14,
          "xref": "x",
          "y": "Load_StatusApplianceOven ",
          "yref": "y"
         },
         {
          "showarrow": false,
          "text": "",
          "x": 15,
          "xref": "x",
          "y": "Load_StatusApplianceOven ",
          "yref": "y"
         },
         {
          "showarrow": false,
          "text": "0.01",
          "x": 16,
          "xref": "x",
          "y": "Load_StatusApplianceOven ",
          "yref": "y"
         },
         {
          "showarrow": false,
          "text": "0.01",
          "x": 17,
          "xref": "x",
          "y": "Load_StatusApplianceOven ",
          "yref": "y"
         },
         {
          "showarrow": false,
          "text": "0.5",
          "x": 18,
          "xref": "x",
          "y": "Load_StatusApplianceOven ",
          "yref": "y"
         },
         {
          "showarrow": false,
          "text": "0.5",
          "x": 19,
          "xref": "x",
          "y": "Load_StatusApplianceOven ",
          "yref": "y"
         },
         {
          "showarrow": false,
          "text": "0.51",
          "x": 20,
          "xref": "x",
          "y": "Load_StatusApplianceOven ",
          "yref": "y"
         },
         {
          "showarrow": false,
          "text": "0.51",
          "x": 21,
          "xref": "x",
          "y": "Load_StatusApplianceOven ",
          "yref": "y"
         },
         {
          "showarrow": false,
          "text": "0.01",
          "x": 22,
          "xref": "x",
          "y": "Load_StatusApplianceOven ",
          "yref": "y"
         },
         {
          "showarrow": false,
          "text": "",
          "x": 23,
          "xref": "x",
          "y": "Load_StatusApplianceOven ",
          "yref": "y"
         },
         {
          "showarrow": false,
          "text": "",
          "x": 0,
          "xref": "x",
          "y": "Load_StatusPlugLoadSlowCooker ",
          "yref": "y"
         },
         {
          "showarrow": false,
          "text": "",
          "x": 1,
          "xref": "x",
          "y": "Load_StatusPlugLoadSlowCooker ",
          "yref": "y"
         },
         {
          "showarrow": false,
          "text": "",
          "x": 2,
          "xref": "x",
          "y": "Load_StatusPlugLoadSlowCooker ",
          "yref": "y"
         },
         {
          "showarrow": false,
          "text": "",
          "x": 3,
          "xref": "x",
          "y": "Load_StatusPlugLoadSlowCooker ",
          "yref": "y"
         },
         {
          "showarrow": false,
          "text": "",
          "x": 4,
          "xref": "x",
          "y": "Load_StatusPlugLoadSlowCooker ",
          "yref": "y"
         },
         {
          "showarrow": false,
          "text": "",
          "x": 5,
          "xref": "x",
          "y": "Load_StatusPlugLoadSlowCooker ",
          "yref": "y"
         },
         {
          "showarrow": false,
          "text": "",
          "x": 6,
          "xref": "x",
          "y": "Load_StatusPlugLoadSlowCooker ",
          "yref": "y"
         },
         {
          "showarrow": false,
          "text": "",
          "x": 7,
          "xref": "x",
          "y": "Load_StatusPlugLoadSlowCooker ",
          "yref": "y"
         },
         {
          "showarrow": false,
          "text": "0.51",
          "x": 8,
          "xref": "x",
          "y": "Load_StatusPlugLoadSlowCooker ",
          "yref": "y"
         },
         {
          "showarrow": false,
          "text": "1.0",
          "x": 9,
          "xref": "x",
          "y": "Load_StatusPlugLoadSlowCooker ",
          "yref": "y"
         },
         {
          "showarrow": false,
          "text": "0.49",
          "x": 10,
          "xref": "x",
          "y": "Load_StatusPlugLoadSlowCooker ",
          "yref": "y"
         },
         {
          "showarrow": false,
          "text": "",
          "x": 11,
          "xref": "x",
          "y": "Load_StatusPlugLoadSlowCooker ",
          "yref": "y"
         },
         {
          "showarrow": false,
          "text": "",
          "x": 12,
          "xref": "x",
          "y": "Load_StatusPlugLoadSlowCooker ",
          "yref": "y"
         },
         {
          "showarrow": false,
          "text": "",
          "x": 13,
          "xref": "x",
          "y": "Load_StatusPlugLoadSlowCooker ",
          "yref": "y"
         },
         {
          "showarrow": false,
          "text": "",
          "x": 14,
          "xref": "x",
          "y": "Load_StatusPlugLoadSlowCooker ",
          "yref": "y"
         },
         {
          "showarrow": false,
          "text": "",
          "x": 15,
          "xref": "x",
          "y": "Load_StatusPlugLoadSlowCooker ",
          "yref": "y"
         },
         {
          "showarrow": false,
          "text": "",
          "x": 16,
          "xref": "x",
          "y": "Load_StatusPlugLoadSlowCooker ",
          "yref": "y"
         },
         {
          "showarrow": false,
          "text": "",
          "x": 17,
          "xref": "x",
          "y": "Load_StatusPlugLoadSlowCooker ",
          "yref": "y"
         },
         {
          "showarrow": false,
          "text": "",
          "x": 18,
          "xref": "x",
          "y": "Load_StatusPlugLoadSlowCooker ",
          "yref": "y"
         },
         {
          "showarrow": false,
          "text": "",
          "x": 19,
          "xref": "x",
          "y": "Load_StatusPlugLoadSlowCooker ",
          "yref": "y"
         },
         {
          "showarrow": false,
          "text": "",
          "x": 20,
          "xref": "x",
          "y": "Load_StatusPlugLoadSlowCooker ",
          "yref": "y"
         },
         {
          "showarrow": false,
          "text": "",
          "x": 21,
          "xref": "x",
          "y": "Load_StatusPlugLoadSlowCooker ",
          "yref": "y"
         },
         {
          "showarrow": false,
          "text": "",
          "x": 22,
          "xref": "x",
          "y": "Load_StatusPlugLoadSlowCooker ",
          "yref": "y"
         },
         {
          "showarrow": false,
          "text": "",
          "x": 23,
          "xref": "x",
          "y": "Load_StatusPlugLoadSlowCooker ",
          "yref": "y"
         },
         {
          "showarrow": false,
          "text": "",
          "x": 0,
          "xref": "x",
          "y": "Load_StatusPlugLoadToaster ",
          "yref": "y"
         },
         {
          "showarrow": false,
          "text": "",
          "x": 1,
          "xref": "x",
          "y": "Load_StatusPlugLoadToaster ",
          "yref": "y"
         },
         {
          "showarrow": false,
          "text": "",
          "x": 2,
          "xref": "x",
          "y": "Load_StatusPlugLoadToaster ",
          "yref": "y"
         },
         {
          "showarrow": false,
          "text": "",
          "x": 3,
          "xref": "x",
          "y": "Load_StatusPlugLoadToaster ",
          "yref": "y"
         },
         {
          "showarrow": false,
          "text": "",
          "x": 4,
          "xref": "x",
          "y": "Load_StatusPlugLoadToaster ",
          "yref": "y"
         },
         {
          "showarrow": false,
          "text": "",
          "x": 5,
          "xref": "x",
          "y": "Load_StatusPlugLoadToaster ",
          "yref": "y"
         },
         {
          "showarrow": false,
          "text": "1.0",
          "x": 6,
          "xref": "x",
          "y": "Load_StatusPlugLoadToaster ",
          "yref": "y"
         },
         {
          "showarrow": false,
          "text": "",
          "x": 7,
          "xref": "x",
          "y": "Load_StatusPlugLoadToaster ",
          "yref": "y"
         },
         {
          "showarrow": false,
          "text": "",
          "x": 8,
          "xref": "x",
          "y": "Load_StatusPlugLoadToaster ",
          "yref": "y"
         },
         {
          "showarrow": false,
          "text": "0.39",
          "x": 9,
          "xref": "x",
          "y": "Load_StatusPlugLoadToaster ",
          "yref": "y"
         },
         {
          "showarrow": false,
          "text": "",
          "x": 10,
          "xref": "x",
          "y": "Load_StatusPlugLoadToaster ",
          "yref": "y"
         },
         {
          "showarrow": false,
          "text": "",
          "x": 11,
          "xref": "x",
          "y": "Load_StatusPlugLoadToaster ",
          "yref": "y"
         },
         {
          "showarrow": false,
          "text": "",
          "x": 12,
          "xref": "x",
          "y": "Load_StatusPlugLoadToaster ",
          "yref": "y"
         },
         {
          "showarrow": false,
          "text": "",
          "x": 13,
          "xref": "x",
          "y": "Load_StatusPlugLoadToaster ",
          "yref": "y"
         },
         {
          "showarrow": false,
          "text": "",
          "x": 14,
          "xref": "x",
          "y": "Load_StatusPlugLoadToaster ",
          "yref": "y"
         },
         {
          "showarrow": false,
          "text": "",
          "x": 15,
          "xref": "x",
          "y": "Load_StatusPlugLoadToaster ",
          "yref": "y"
         },
         {
          "showarrow": false,
          "text": "",
          "x": 16,
          "xref": "x",
          "y": "Load_StatusPlugLoadToaster ",
          "yref": "y"
         },
         {
          "showarrow": false,
          "text": "",
          "x": 17,
          "xref": "x",
          "y": "Load_StatusPlugLoadToaster ",
          "yref": "y"
         },
         {
          "showarrow": false,
          "text": "",
          "x": 18,
          "xref": "x",
          "y": "Load_StatusPlugLoadToaster ",
          "yref": "y"
         },
         {
          "showarrow": false,
          "text": "",
          "x": 19,
          "xref": "x",
          "y": "Load_StatusPlugLoadToaster ",
          "yref": "y"
         },
         {
          "showarrow": false,
          "text": "",
          "x": 20,
          "xref": "x",
          "y": "Load_StatusPlugLoadToaster ",
          "yref": "y"
         },
         {
          "showarrow": false,
          "text": "",
          "x": 21,
          "xref": "x",
          "y": "Load_StatusPlugLoadToaster ",
          "yref": "y"
         },
         {
          "showarrow": false,
          "text": "",
          "x": 22,
          "xref": "x",
          "y": "Load_StatusPlugLoadToaster ",
          "yref": "y"
         },
         {
          "showarrow": false,
          "text": "",
          "x": 23,
          "xref": "x",
          "y": "Load_StatusPlugLoadToaster ",
          "yref": "y"
         },
         {
          "showarrow": false,
          "text": "",
          "x": 0,
          "xref": "x",
          "y": "Load_StatusApplianceDishwasher ",
          "yref": "y"
         },
         {
          "showarrow": false,
          "text": "",
          "x": 1,
          "xref": "x",
          "y": "Load_StatusApplianceDishwasher ",
          "yref": "y"
         },
         {
          "showarrow": false,
          "text": "",
          "x": 2,
          "xref": "x",
          "y": "Load_StatusApplianceDishwasher ",
          "yref": "y"
         },
         {
          "showarrow": false,
          "text": "",
          "x": 3,
          "xref": "x",
          "y": "Load_StatusApplianceDishwasher ",
          "yref": "y"
         },
         {
          "showarrow": false,
          "text": "0.01",
          "x": 4,
          "xref": "x",
          "y": "Load_StatusApplianceDishwasher ",
          "yref": "y"
         },
         {
          "showarrow": false,
          "text": "0.01",
          "x": 5,
          "xref": "x",
          "y": "Load_StatusApplianceDishwasher ",
          "yref": "y"
         },
         {
          "showarrow": false,
          "text": "0.01",
          "x": 6,
          "xref": "x",
          "y": "Load_StatusApplianceDishwasher ",
          "yref": "y"
         },
         {
          "showarrow": false,
          "text": "",
          "x": 7,
          "xref": "x",
          "y": "Load_StatusApplianceDishwasher ",
          "yref": "y"
         },
         {
          "showarrow": false,
          "text": "",
          "x": 8,
          "xref": "x",
          "y": "Load_StatusApplianceDishwasher ",
          "yref": "y"
         },
         {
          "showarrow": false,
          "text": "",
          "x": 9,
          "xref": "x",
          "y": "Load_StatusApplianceDishwasher ",
          "yref": "y"
         },
         {
          "showarrow": false,
          "text": "",
          "x": 10,
          "xref": "x",
          "y": "Load_StatusApplianceDishwasher ",
          "yref": "y"
         },
         {
          "showarrow": false,
          "text": "",
          "x": 11,
          "xref": "x",
          "y": "Load_StatusApplianceDishwasher ",
          "yref": "y"
         },
         {
          "showarrow": false,
          "text": "",
          "x": 12,
          "xref": "x",
          "y": "Load_StatusApplianceDishwasher ",
          "yref": "y"
         },
         {
          "showarrow": false,
          "text": "",
          "x": 13,
          "xref": "x",
          "y": "Load_StatusApplianceDishwasher ",
          "yref": "y"
         },
         {
          "showarrow": false,
          "text": "",
          "x": 14,
          "xref": "x",
          "y": "Load_StatusApplianceDishwasher ",
          "yref": "y"
         },
         {
          "showarrow": false,
          "text": "",
          "x": 15,
          "xref": "x",
          "y": "Load_StatusApplianceDishwasher ",
          "yref": "y"
         },
         {
          "showarrow": false,
          "text": "",
          "x": 16,
          "xref": "x",
          "y": "Load_StatusApplianceDishwasher ",
          "yref": "y"
         },
         {
          "showarrow": false,
          "text": "",
          "x": 17,
          "xref": "x",
          "y": "Load_StatusApplianceDishwasher ",
          "yref": "y"
         },
         {
          "showarrow": false,
          "text": "",
          "x": 18,
          "xref": "x",
          "y": "Load_StatusApplianceDishwasher ",
          "yref": "y"
         },
         {
          "showarrow": false,
          "text": "",
          "x": 19,
          "xref": "x",
          "y": "Load_StatusApplianceDishwasher ",
          "yref": "y"
         },
         {
          "showarrow": false,
          "text": "1.0",
          "x": 20,
          "xref": "x",
          "y": "Load_StatusApplianceDishwasher ",
          "yref": "y"
         },
         {
          "showarrow": false,
          "text": "1.0",
          "x": 21,
          "xref": "x",
          "y": "Load_StatusApplianceDishwasher ",
          "yref": "y"
         },
         {
          "showarrow": false,
          "text": "1.0",
          "x": 22,
          "xref": "x",
          "y": "Load_StatusApplianceDishwasher ",
          "yref": "y"
         },
         {
          "showarrow": false,
          "text": "0.2",
          "x": 23,
          "xref": "x",
          "y": "Load_StatusApplianceDishwasher ",
          "yref": "y"
         },
         {
          "showarrow": false,
          "text": "",
          "x": 0,
          "xref": "x",
          "y": "Load_StatusPlugLoadHandMixer ",
          "yref": "y"
         },
         {
          "showarrow": false,
          "text": "",
          "x": 1,
          "xref": "x",
          "y": "Load_StatusPlugLoadHandMixer ",
          "yref": "y"
         },
         {
          "showarrow": false,
          "text": "0.01",
          "x": 2,
          "xref": "x",
          "y": "Load_StatusPlugLoadHandMixer ",
          "yref": "y"
         },
         {
          "showarrow": false,
          "text": "",
          "x": 3,
          "xref": "x",
          "y": "Load_StatusPlugLoadHandMixer ",
          "yref": "y"
         },
         {
          "showarrow": false,
          "text": "",
          "x": 4,
          "xref": "x",
          "y": "Load_StatusPlugLoadHandMixer ",
          "yref": "y"
         },
         {
          "showarrow": false,
          "text": "",
          "x": 5,
          "xref": "x",
          "y": "Load_StatusPlugLoadHandMixer ",
          "yref": "y"
         },
         {
          "showarrow": false,
          "text": "",
          "x": 6,
          "xref": "x",
          "y": "Load_StatusPlugLoadHandMixer ",
          "yref": "y"
         },
         {
          "showarrow": false,
          "text": "",
          "x": 7,
          "xref": "x",
          "y": "Load_StatusPlugLoadHandMixer ",
          "yref": "y"
         },
         {
          "showarrow": false,
          "text": "",
          "x": 8,
          "xref": "x",
          "y": "Load_StatusPlugLoadHandMixer ",
          "yref": "y"
         },
         {
          "showarrow": false,
          "text": "",
          "x": 9,
          "xref": "x",
          "y": "Load_StatusPlugLoadHandMixer ",
          "yref": "y"
         },
         {
          "showarrow": false,
          "text": "",
          "x": 10,
          "xref": "x",
          "y": "Load_StatusPlugLoadHandMixer ",
          "yref": "y"
         },
         {
          "showarrow": false,
          "text": "",
          "x": 11,
          "xref": "x",
          "y": "Load_StatusPlugLoadHandMixer ",
          "yref": "y"
         },
         {
          "showarrow": false,
          "text": "",
          "x": 12,
          "xref": "x",
          "y": "Load_StatusPlugLoadHandMixer ",
          "yref": "y"
         },
         {
          "showarrow": false,
          "text": "",
          "x": 13,
          "xref": "x",
          "y": "Load_StatusPlugLoadHandMixer ",
          "yref": "y"
         },
         {
          "showarrow": false,
          "text": "",
          "x": 14,
          "xref": "x",
          "y": "Load_StatusPlugLoadHandMixer ",
          "yref": "y"
         },
         {
          "showarrow": false,
          "text": "",
          "x": 15,
          "xref": "x",
          "y": "Load_StatusPlugLoadHandMixer ",
          "yref": "y"
         },
         {
          "showarrow": false,
          "text": "",
          "x": 16,
          "xref": "x",
          "y": "Load_StatusPlugLoadHandMixer ",
          "yref": "y"
         },
         {
          "showarrow": false,
          "text": "",
          "x": 17,
          "xref": "x",
          "y": "Load_StatusPlugLoadHandMixer ",
          "yref": "y"
         },
         {
          "showarrow": false,
          "text": "1.0",
          "x": 18,
          "xref": "x",
          "y": "Load_StatusPlugLoadHandMixer ",
          "yref": "y"
         },
         {
          "showarrow": false,
          "text": "0.17",
          "x": 19,
          "xref": "x",
          "y": "Load_StatusPlugLoadHandMixer ",
          "yref": "y"
         },
         {
          "showarrow": false,
          "text": "",
          "x": 20,
          "xref": "x",
          "y": "Load_StatusPlugLoadHandMixer ",
          "yref": "y"
         },
         {
          "showarrow": false,
          "text": "",
          "x": 21,
          "xref": "x",
          "y": "Load_StatusPlugLoadHandMixer ",
          "yref": "y"
         },
         {
          "showarrow": false,
          "text": "",
          "x": 22,
          "xref": "x",
          "y": "Load_StatusPlugLoadHandMixer ",
          "yref": "y"
         },
         {
          "showarrow": false,
          "text": "",
          "x": 23,
          "xref": "x",
          "y": "Load_StatusPlugLoadHandMixer ",
          "yref": "y"
         },
         {
          "showarrow": false,
          "text": "",
          "x": 0,
          "xref": "x",
          "y": "Load_StatusPlugLoadCanOpener ",
          "yref": "y"
         },
         {
          "showarrow": false,
          "text": "",
          "x": 1,
          "xref": "x",
          "y": "Load_StatusPlugLoadCanOpener ",
          "yref": "y"
         },
         {
          "showarrow": false,
          "text": "0.01",
          "x": 2,
          "xref": "x",
          "y": "Load_StatusPlugLoadCanOpener ",
          "yref": "y"
         },
         {
          "showarrow": false,
          "text": "",
          "x": 3,
          "xref": "x",
          "y": "Load_StatusPlugLoadCanOpener ",
          "yref": "y"
         },
         {
          "showarrow": false,
          "text": "",
          "x": 4,
          "xref": "x",
          "y": "Load_StatusPlugLoadCanOpener ",
          "yref": "y"
         },
         {
          "showarrow": false,
          "text": "",
          "x": 5,
          "xref": "x",
          "y": "Load_StatusPlugLoadCanOpener ",
          "yref": "y"
         },
         {
          "showarrow": false,
          "text": "",
          "x": 6,
          "xref": "x",
          "y": "Load_StatusPlugLoadCanOpener ",
          "yref": "y"
         },
         {
          "showarrow": false,
          "text": "",
          "x": 7,
          "xref": "x",
          "y": "Load_StatusPlugLoadCanOpener ",
          "yref": "y"
         },
         {
          "showarrow": false,
          "text": "",
          "x": 8,
          "xref": "x",
          "y": "Load_StatusPlugLoadCanOpener ",
          "yref": "y"
         },
         {
          "showarrow": false,
          "text": "",
          "x": 9,
          "xref": "x",
          "y": "Load_StatusPlugLoadCanOpener ",
          "yref": "y"
         },
         {
          "showarrow": false,
          "text": "",
          "x": 10,
          "xref": "x",
          "y": "Load_StatusPlugLoadCanOpener ",
          "yref": "y"
         },
         {
          "showarrow": false,
          "text": "",
          "x": 11,
          "xref": "x",
          "y": "Load_StatusPlugLoadCanOpener ",
          "yref": "y"
         },
         {
          "showarrow": false,
          "text": "",
          "x": 12,
          "xref": "x",
          "y": "Load_StatusPlugLoadCanOpener ",
          "yref": "y"
         },
         {
          "showarrow": false,
          "text": "",
          "x": 13,
          "xref": "x",
          "y": "Load_StatusPlugLoadCanOpener ",
          "yref": "y"
         },
         {
          "showarrow": false,
          "text": "",
          "x": 14,
          "xref": "x",
          "y": "Load_StatusPlugLoadCanOpener ",
          "yref": "y"
         },
         {
          "showarrow": false,
          "text": "",
          "x": 15,
          "xref": "x",
          "y": "Load_StatusPlugLoadCanOpener ",
          "yref": "y"
         },
         {
          "showarrow": false,
          "text": "",
          "x": 16,
          "xref": "x",
          "y": "Load_StatusPlugLoadCanOpener ",
          "yref": "y"
         },
         {
          "showarrow": false,
          "text": "",
          "x": 17,
          "xref": "x",
          "y": "Load_StatusPlugLoadCanOpener ",
          "yref": "y"
         },
         {
          "showarrow": false,
          "text": "1.0",
          "x": 18,
          "xref": "x",
          "y": "Load_StatusPlugLoadCanOpener ",
          "yref": "y"
         },
         {
          "showarrow": false,
          "text": "0.17",
          "x": 19,
          "xref": "x",
          "y": "Load_StatusPlugLoadCanOpener ",
          "yref": "y"
         },
         {
          "showarrow": false,
          "text": "0.01",
          "x": 20,
          "xref": "x",
          "y": "Load_StatusPlugLoadCanOpener ",
          "yref": "y"
         },
         {
          "showarrow": false,
          "text": "0.01",
          "x": 21,
          "xref": "x",
          "y": "Load_StatusPlugLoadCanOpener ",
          "yref": "y"
         },
         {
          "showarrow": false,
          "text": "0.01",
          "x": 22,
          "xref": "x",
          "y": "Load_StatusPlugLoadCanOpener ",
          "yref": "y"
         },
         {
          "showarrow": false,
          "text": "0.02",
          "x": 23,
          "xref": "x",
          "y": "Load_StatusPlugLoadCanOpener ",
          "yref": "y"
         },
         {
          "showarrow": false,
          "text": "",
          "x": 0,
          "xref": "x",
          "y": "Load_StatusPlugLoadCoffeeMaker ",
          "yref": "y"
         },
         {
          "showarrow": false,
          "text": "",
          "x": 1,
          "xref": "x",
          "y": "Load_StatusPlugLoadCoffeeMaker ",
          "yref": "y"
         },
         {
          "showarrow": false,
          "text": "",
          "x": 2,
          "xref": "x",
          "y": "Load_StatusPlugLoadCoffeeMaker ",
          "yref": "y"
         },
         {
          "showarrow": false,
          "text": "",
          "x": 3,
          "xref": "x",
          "y": "Load_StatusPlugLoadCoffeeMaker ",
          "yref": "y"
         },
         {
          "showarrow": false,
          "text": "",
          "x": 4,
          "xref": "x",
          "y": "Load_StatusPlugLoadCoffeeMaker ",
          "yref": "y"
         },
         {
          "showarrow": false,
          "text": "",
          "x": 5,
          "xref": "x",
          "y": "Load_StatusPlugLoadCoffeeMaker ",
          "yref": "y"
         },
         {
          "showarrow": false,
          "text": "1.0",
          "x": 6,
          "xref": "x",
          "y": "Load_StatusPlugLoadCoffeeMaker ",
          "yref": "y"
         },
         {
          "showarrow": false,
          "text": "0.05",
          "x": 7,
          "xref": "x",
          "y": "Load_StatusPlugLoadCoffeeMaker ",
          "yref": "y"
         },
         {
          "showarrow": false,
          "text": "",
          "x": 8,
          "xref": "x",
          "y": "Load_StatusPlugLoadCoffeeMaker ",
          "yref": "y"
         },
         {
          "showarrow": false,
          "text": "0.39",
          "x": 9,
          "xref": "x",
          "y": "Load_StatusPlugLoadCoffeeMaker ",
          "yref": "y"
         },
         {
          "showarrow": false,
          "text": "0.02",
          "x": 10,
          "xref": "x",
          "y": "Load_StatusPlugLoadCoffeeMaker ",
          "yref": "y"
         },
         {
          "showarrow": false,
          "text": "",
          "x": 11,
          "xref": "x",
          "y": "Load_StatusPlugLoadCoffeeMaker ",
          "yref": "y"
         },
         {
          "showarrow": false,
          "text": "0.02",
          "x": 12,
          "xref": "x",
          "y": "Load_StatusPlugLoadCoffeeMaker ",
          "yref": "y"
         },
         {
          "showarrow": false,
          "text": "",
          "x": 13,
          "xref": "x",
          "y": "Load_StatusPlugLoadCoffeeMaker ",
          "yref": "y"
         },
         {
          "showarrow": false,
          "text": "",
          "x": 14,
          "xref": "x",
          "y": "Load_StatusPlugLoadCoffeeMaker ",
          "yref": "y"
         },
         {
          "showarrow": false,
          "text": "",
          "x": 15,
          "xref": "x",
          "y": "Load_StatusPlugLoadCoffeeMaker ",
          "yref": "y"
         },
         {
          "showarrow": false,
          "text": "",
          "x": 16,
          "xref": "x",
          "y": "Load_StatusPlugLoadCoffeeMaker ",
          "yref": "y"
         },
         {
          "showarrow": false,
          "text": "",
          "x": 17,
          "xref": "x",
          "y": "Load_StatusPlugLoadCoffeeMaker ",
          "yref": "y"
         },
         {
          "showarrow": false,
          "text": "0.06",
          "x": 18,
          "xref": "x",
          "y": "Load_StatusPlugLoadCoffeeMaker ",
          "yref": "y"
         },
         {
          "showarrow": false,
          "text": "",
          "x": 19,
          "xref": "x",
          "y": "Load_StatusPlugLoadCoffeeMaker ",
          "yref": "y"
         },
         {
          "showarrow": false,
          "text": "",
          "x": 20,
          "xref": "x",
          "y": "Load_StatusPlugLoadCoffeeMaker ",
          "yref": "y"
         },
         {
          "showarrow": false,
          "text": "",
          "x": 21,
          "xref": "x",
          "y": "Load_StatusPlugLoadCoffeeMaker ",
          "yref": "y"
         },
         {
          "showarrow": false,
          "text": "",
          "x": 22,
          "xref": "x",
          "y": "Load_StatusPlugLoadCoffeeMaker ",
          "yref": "y"
         },
         {
          "showarrow": false,
          "text": "",
          "x": 23,
          "xref": "x",
          "y": "Load_StatusPlugLoadCoffeeMaker ",
          "yref": "y"
         },
         {
          "showarrow": false,
          "text": "1.0",
          "x": 0,
          "xref": "x",
          "y": "Load_StatusRefrigerator ",
          "yref": "y"
         },
         {
          "showarrow": false,
          "text": "0.75",
          "x": 1,
          "xref": "x",
          "y": "Load_StatusRefrigerator ",
          "yref": "y"
         },
         {
          "showarrow": false,
          "text": "",
          "x": 2,
          "xref": "x",
          "y": "Load_StatusRefrigerator ",
          "yref": "y"
         },
         {
          "showarrow": false,
          "text": "0.25",
          "x": 3,
          "xref": "x",
          "y": "Load_StatusRefrigerator ",
          "yref": "y"
         },
         {
          "showarrow": false,
          "text": "0.25",
          "x": 4,
          "xref": "x",
          "y": "Load_StatusRefrigerator ",
          "yref": "y"
         },
         {
          "showarrow": false,
          "text": "0.25",
          "x": 5,
          "xref": "x",
          "y": "Load_StatusRefrigerator ",
          "yref": "y"
         },
         {
          "showarrow": false,
          "text": "",
          "x": 6,
          "xref": "x",
          "y": "Load_StatusRefrigerator ",
          "yref": "y"
         },
         {
          "showarrow": false,
          "text": "0.25",
          "x": 7,
          "xref": "x",
          "y": "Load_StatusRefrigerator ",
          "yref": "y"
         },
         {
          "showarrow": false,
          "text": "0.5",
          "x": 8,
          "xref": "x",
          "y": "Load_StatusRefrigerator ",
          "yref": "y"
         },
         {
          "showarrow": false,
          "text": "0.5",
          "x": 9,
          "xref": "x",
          "y": "Load_StatusRefrigerator ",
          "yref": "y"
         },
         {
          "showarrow": false,
          "text": "0.5",
          "x": 10,
          "xref": "x",
          "y": "Load_StatusRefrigerator ",
          "yref": "y"
         },
         {
          "showarrow": false,
          "text": "0.5",
          "x": 11,
          "xref": "x",
          "y": "Load_StatusRefrigerator ",
          "yref": "y"
         },
         {
          "showarrow": false,
          "text": "0.5",
          "x": 12,
          "xref": "x",
          "y": "Load_StatusRefrigerator ",
          "yref": "y"
         },
         {
          "showarrow": false,
          "text": "0.5",
          "x": 13,
          "xref": "x",
          "y": "Load_StatusRefrigerator ",
          "yref": "y"
         },
         {
          "showarrow": false,
          "text": "",
          "x": 14,
          "xref": "x",
          "y": "Load_StatusRefrigerator ",
          "yref": "y"
         },
         {
          "showarrow": false,
          "text": "",
          "x": 15,
          "xref": "x",
          "y": "Load_StatusRefrigerator ",
          "yref": "y"
         },
         {
          "showarrow": false,
          "text": "0.25",
          "x": 16,
          "xref": "x",
          "y": "Load_StatusRefrigerator ",
          "yref": "y"
         },
         {
          "showarrow": false,
          "text": "0.25",
          "x": 17,
          "xref": "x",
          "y": "Load_StatusRefrigerator ",
          "yref": "y"
         },
         {
          "showarrow": false,
          "text": "0.5",
          "x": 18,
          "xref": "x",
          "y": "Load_StatusRefrigerator ",
          "yref": "y"
         },
         {
          "showarrow": false,
          "text": "0.5",
          "x": 19,
          "xref": "x",
          "y": "Load_StatusRefrigerator ",
          "yref": "y"
         },
         {
          "showarrow": false,
          "text": "0.5",
          "x": 20,
          "xref": "x",
          "y": "Load_StatusRefrigerator ",
          "yref": "y"
         },
         {
          "showarrow": false,
          "text": "0.5",
          "x": 21,
          "xref": "x",
          "y": "Load_StatusRefrigerator ",
          "yref": "y"
         },
         {
          "showarrow": false,
          "text": "0.5",
          "x": 22,
          "xref": "x",
          "y": "Load_StatusRefrigerator ",
          "yref": "y"
         },
         {
          "showarrow": false,
          "text": "0.5",
          "x": 23,
          "xref": "x",
          "y": "Load_StatusRefrigerator ",
          "yref": "y"
         },
         {
          "showarrow": false,
          "text": "",
          "x": 0,
          "xref": "x",
          "y": "Load_StatusMicrowave ",
          "yref": "y"
         },
         {
          "showarrow": false,
          "text": "",
          "x": 1,
          "xref": "x",
          "y": "Load_StatusMicrowave ",
          "yref": "y"
         },
         {
          "showarrow": false,
          "text": "",
          "x": 2,
          "xref": "x",
          "y": "Load_StatusMicrowave ",
          "yref": "y"
         },
         {
          "showarrow": false,
          "text": "",
          "x": 3,
          "xref": "x",
          "y": "Load_StatusMicrowave ",
          "yref": "y"
         },
         {
          "showarrow": false,
          "text": "",
          "x": 4,
          "xref": "x",
          "y": "Load_StatusMicrowave ",
          "yref": "y"
         },
         {
          "showarrow": false,
          "text": "0.03",
          "x": 5,
          "xref": "x",
          "y": "Load_StatusMicrowave ",
          "yref": "y"
         },
         {
          "showarrow": false,
          "text": "0.84",
          "x": 6,
          "xref": "x",
          "y": "Load_StatusMicrowave ",
          "yref": "y"
         },
         {
          "showarrow": false,
          "text": "",
          "x": 7,
          "xref": "x",
          "y": "Load_StatusMicrowave ",
          "yref": "y"
         },
         {
          "showarrow": false,
          "text": "0.01",
          "x": 8,
          "xref": "x",
          "y": "Load_StatusMicrowave ",
          "yref": "y"
         },
         {
          "showarrow": false,
          "text": "0.35",
          "x": 9,
          "xref": "x",
          "y": "Load_StatusMicrowave ",
          "yref": "y"
         },
         {
          "showarrow": false,
          "text": "",
          "x": 10,
          "xref": "x",
          "y": "Load_StatusMicrowave ",
          "yref": "y"
         },
         {
          "showarrow": false,
          "text": "",
          "x": 11,
          "xref": "x",
          "y": "Load_StatusMicrowave ",
          "yref": "y"
         },
         {
          "showarrow": false,
          "text": "0.33",
          "x": 12,
          "xref": "x",
          "y": "Load_StatusMicrowave ",
          "yref": "y"
         },
         {
          "showarrow": false,
          "text": "0.01",
          "x": 13,
          "xref": "x",
          "y": "Load_StatusMicrowave ",
          "yref": "y"
         },
         {
          "showarrow": false,
          "text": "",
          "x": 14,
          "xref": "x",
          "y": "Load_StatusMicrowave ",
          "yref": "y"
         },
         {
          "showarrow": false,
          "text": "",
          "x": 15,
          "xref": "x",
          "y": "Load_StatusMicrowave ",
          "yref": "y"
         },
         {
          "showarrow": false,
          "text": "",
          "x": 16,
          "xref": "x",
          "y": "Load_StatusMicrowave ",
          "yref": "y"
         },
         {
          "showarrow": false,
          "text": "",
          "x": 17,
          "xref": "x",
          "y": "Load_StatusMicrowave ",
          "yref": "y"
         },
         {
          "showarrow": false,
          "text": "1.0",
          "x": 18,
          "xref": "x",
          "y": "Load_StatusMicrowave ",
          "yref": "y"
         },
         {
          "showarrow": false,
          "text": "",
          "x": 19,
          "xref": "x",
          "y": "Load_StatusMicrowave ",
          "yref": "y"
         },
         {
          "showarrow": false,
          "text": "",
          "x": 20,
          "xref": "x",
          "y": "Load_StatusMicrowave ",
          "yref": "y"
         },
         {
          "showarrow": false,
          "text": "",
          "x": 21,
          "xref": "x",
          "y": "Load_StatusMicrowave ",
          "yref": "y"
         },
         {
          "showarrow": false,
          "text": "",
          "x": 22,
          "xref": "x",
          "y": "Load_StatusMicrowave ",
          "yref": "y"
         },
         {
          "showarrow": false,
          "text": "",
          "x": 23,
          "xref": "x",
          "y": "Load_StatusMicrowave ",
          "yref": "y"
         }
        ],
        "yaxis": {
         "title": {
          "text": "Appliance"
         },
         "showticklabels": true
        }
       },
       "config": {
        "plotlyServerURL": "https://plot.ly"
       }
      },
      "text/html": "<div>                            <div id=\"8a6bee09-4468-44ea-b21a-6d5e3671492d\" class=\"plotly-graph-div\" style=\"height:525px; width:100%;\"></div>            <script type=\"text/javascript\">                require([\"plotly\"], function(Plotly) {                    window.PLOTLYENV=window.PLOTLYENV || {};                                    if (document.getElementById(\"8a6bee09-4468-44ea-b21a-6d5e3671492d\")) {                    Plotly.newPlot(                        \"8a6bee09-4468-44ea-b21a-6d5e3671492d\",                        [{\"colorscale\":[[0.0,\"rgb(209, 238, 234)\"],[0.16666666666666666,\"rgb(168, 219, 217)\"],[0.3333333333333333,\"rgb(133, 196, 201)\"],[0.5,\"rgb(104, 171, 184)\"],[0.6666666666666666,\"rgb(79, 144, 166)\"],[0.8333333333333334,\"rgb(59, 115, 143)\"],[1.0,\"rgb(42, 86, 116)\"]],\"x\":[0,1,2,3,4,5,6,7,8,9,10,11,12,13,14,15,16,17,18,19,20,21,22,23],\"y\":[\"Load_StatusPlugLoadBlender \",\"Load_StatusPlugLoadToasterOven \",\"Load_StatusApplianceRangeHood \",\"Load_StatusApplianceCooktop \",\"Load_StatusApplianceOven \",\"Load_StatusPlugLoadSlowCooker \",\"Load_StatusPlugLoadToaster \",\"Load_StatusApplianceDishwasher \",\"Load_StatusPlugLoadHandMixer \",\"Load_StatusPlugLoadCanOpener \",\"Load_StatusPlugLoadCoffeeMaker \",\"Load_StatusRefrigerator \",\"Load_StatusMicrowave \"],\"z\":[[0.0,0.0,0.0,0.0,0.0,0.0,1.0,0.0,0.0,0.39,0.0,0.0,0.0,0.0,0.0,0.0,0.0,0.0,0.0,0.0,0.0,0.0,0.0,0.0],[0.0,0.0,0.0,0.0,0.0,0.0,1.0,0.0,0.0,0.39,0.0,0.0,0.0,0.0,0.0,0.0,0.0,0.0,0.0,0.0,0.0,0.01,0.01,0.0],[0.0,0.0,0.01,0.0,0.0,0.0,0.0,0.0,0.28,0.0,0.0,0.0,0.28,0.0,0.0,0.0,0.0,0.03,1.0,0.14,0.0,0.0,0.0,0.0],[0.0,0.0,0.01,0.0,0.0,0.0,0.0,0.0,0.28,0.0,0.0,0.0,0.28,0.0,0.0,0.0,0.0,0.03,1.0,0.14,0.01,0.01,0.01,0.0],[0.0,0.0,0.01,0.01,0.01,0.01,0.0,0.0,1.0,1.0,1.0,0.0,0.0,0.0,0.0,0.0,0.01,0.01,0.5,0.5,0.51,0.51,0.01,0.0],[0.0,0.0,0.0,0.0,0.0,0.0,0.0,0.0,0.51,1.0,0.49,0.0,0.0,0.0,0.0,0.0,0.0,0.0,0.0,0.0,0.0,0.0,0.0,0.0],[0.0,0.0,0.0,0.0,0.0,0.0,1.0,0.0,0.0,0.39,0.0,0.0,0.0,0.0,0.0,0.0,0.0,0.0,0.0,0.0,0.0,0.0,0.0,0.0],[0.0,0.0,0.0,0.0,0.01,0.01,0.01,0.0,0.0,0.0,0.0,0.0,0.0,0.0,0.0,0.0,0.0,0.0,0.0,0.0,1.0,1.0,1.0,0.2],[0.0,0.0,0.01,0.0,0.0,0.0,0.0,0.0,0.0,0.0,0.0,0.0,0.0,0.0,0.0,0.0,0.0,0.0,1.0,0.17,0.0,0.0,0.0,0.0],[0.0,0.0,0.01,0.0,0.0,0.0,0.0,0.0,0.0,0.0,0.0,0.0,0.0,0.0,0.0,0.0,0.0,0.0,1.0,0.17,0.01,0.01,0.01,0.02],[0.0,0.0,0.0,0.0,0.0,0.0,1.0,0.05,0.0,0.39,0.02,0.0,0.02,0.0,0.0,0.0,0.0,0.0,0.06,0.0,0.0,0.0,0.0,0.0],[1.0,0.75,0.0,0.25,0.25,0.25,0.0,0.25,0.5,0.5,0.5,0.5,0.5,0.5,0.0,0.0,0.25,0.25,0.5,0.5,0.5,0.5,0.5,0.5],[0.0,0.0,0.0,0.0,0.0,0.03,0.84,0.0,0.01,0.35,0.0,0.0,0.33,0.01,0.0,0.0,0.0,0.0,1.0,0.0,0.0,0.0,0.0,0.0]],\"type\":\"heatmap\"}],                        {\"template\":{\"data\":{\"barpolar\":[{\"marker\":{\"line\":{\"color\":\"#E5ECF6\",\"width\":0.5},\"pattern\":{\"fillmode\":\"overlay\",\"size\":10,\"solidity\":0.2}},\"type\":\"barpolar\"}],\"bar\":[{\"error_x\":{\"color\":\"#2a3f5f\"},\"error_y\":{\"color\":\"#2a3f5f\"},\"marker\":{\"line\":{\"color\":\"#E5ECF6\",\"width\":0.5},\"pattern\":{\"fillmode\":\"overlay\",\"size\":10,\"solidity\":0.2}},\"type\":\"bar\"}],\"carpet\":[{\"aaxis\":{\"endlinecolor\":\"#2a3f5f\",\"gridcolor\":\"white\",\"linecolor\":\"white\",\"minorgridcolor\":\"white\",\"startlinecolor\":\"#2a3f5f\"},\"baxis\":{\"endlinecolor\":\"#2a3f5f\",\"gridcolor\":\"white\",\"linecolor\":\"white\",\"minorgridcolor\":\"white\",\"startlinecolor\":\"#2a3f5f\"},\"type\":\"carpet\"}],\"choropleth\":[{\"colorbar\":{\"outlinewidth\":0,\"ticks\":\"\"},\"type\":\"choropleth\"}],\"contourcarpet\":[{\"colorbar\":{\"outlinewidth\":0,\"ticks\":\"\"},\"type\":\"contourcarpet\"}],\"contour\":[{\"colorbar\":{\"outlinewidth\":0,\"ticks\":\"\"},\"colorscale\":[[0.0,\"#0d0887\"],[0.1111111111111111,\"#46039f\"],[0.2222222222222222,\"#7201a8\"],[0.3333333333333333,\"#9c179e\"],[0.4444444444444444,\"#bd3786\"],[0.5555555555555556,\"#d8576b\"],[0.6666666666666666,\"#ed7953\"],[0.7777777777777778,\"#fb9f3a\"],[0.8888888888888888,\"#fdca26\"],[1.0,\"#f0f921\"]],\"type\":\"contour\"}],\"heatmapgl\":[{\"colorbar\":{\"outlinewidth\":0,\"ticks\":\"\"},\"colorscale\":[[0.0,\"#0d0887\"],[0.1111111111111111,\"#46039f\"],[0.2222222222222222,\"#7201a8\"],[0.3333333333333333,\"#9c179e\"],[0.4444444444444444,\"#bd3786\"],[0.5555555555555556,\"#d8576b\"],[0.6666666666666666,\"#ed7953\"],[0.7777777777777778,\"#fb9f3a\"],[0.8888888888888888,\"#fdca26\"],[1.0,\"#f0f921\"]],\"type\":\"heatmapgl\"}],\"heatmap\":[{\"colorbar\":{\"outlinewidth\":0,\"ticks\":\"\"},\"colorscale\":[[0.0,\"#0d0887\"],[0.1111111111111111,\"#46039f\"],[0.2222222222222222,\"#7201a8\"],[0.3333333333333333,\"#9c179e\"],[0.4444444444444444,\"#bd3786\"],[0.5555555555555556,\"#d8576b\"],[0.6666666666666666,\"#ed7953\"],[0.7777777777777778,\"#fb9f3a\"],[0.8888888888888888,\"#fdca26\"],[1.0,\"#f0f921\"]],\"type\":\"heatmap\"}],\"histogram2dcontour\":[{\"colorbar\":{\"outlinewidth\":0,\"ticks\":\"\"},\"colorscale\":[[0.0,\"#0d0887\"],[0.1111111111111111,\"#46039f\"],[0.2222222222222222,\"#7201a8\"],[0.3333333333333333,\"#9c179e\"],[0.4444444444444444,\"#bd3786\"],[0.5555555555555556,\"#d8576b\"],[0.6666666666666666,\"#ed7953\"],[0.7777777777777778,\"#fb9f3a\"],[0.8888888888888888,\"#fdca26\"],[1.0,\"#f0f921\"]],\"type\":\"histogram2dcontour\"}],\"histogram2d\":[{\"colorbar\":{\"outlinewidth\":0,\"ticks\":\"\"},\"colorscale\":[[0.0,\"#0d0887\"],[0.1111111111111111,\"#46039f\"],[0.2222222222222222,\"#7201a8\"],[0.3333333333333333,\"#9c179e\"],[0.4444444444444444,\"#bd3786\"],[0.5555555555555556,\"#d8576b\"],[0.6666666666666666,\"#ed7953\"],[0.7777777777777778,\"#fb9f3a\"],[0.8888888888888888,\"#fdca26\"],[1.0,\"#f0f921\"]],\"type\":\"histogram2d\"}],\"histogram\":[{\"marker\":{\"pattern\":{\"fillmode\":\"overlay\",\"size\":10,\"solidity\":0.2}},\"type\":\"histogram\"}],\"mesh3d\":[{\"colorbar\":{\"outlinewidth\":0,\"ticks\":\"\"},\"type\":\"mesh3d\"}],\"parcoords\":[{\"line\":{\"colorbar\":{\"outlinewidth\":0,\"ticks\":\"\"}},\"type\":\"parcoords\"}],\"pie\":[{\"automargin\":true,\"type\":\"pie\"}],\"scatter3d\":[{\"line\":{\"colorbar\":{\"outlinewidth\":0,\"ticks\":\"\"}},\"marker\":{\"colorbar\":{\"outlinewidth\":0,\"ticks\":\"\"}},\"type\":\"scatter3d\"}],\"scattercarpet\":[{\"marker\":{\"colorbar\":{\"outlinewidth\":0,\"ticks\":\"\"}},\"type\":\"scattercarpet\"}],\"scattergeo\":[{\"marker\":{\"colorbar\":{\"outlinewidth\":0,\"ticks\":\"\"}},\"type\":\"scattergeo\"}],\"scattergl\":[{\"marker\":{\"colorbar\":{\"outlinewidth\":0,\"ticks\":\"\"}},\"type\":\"scattergl\"}],\"scattermapbox\":[{\"marker\":{\"colorbar\":{\"outlinewidth\":0,\"ticks\":\"\"}},\"type\":\"scattermapbox\"}],\"scatterpolargl\":[{\"marker\":{\"colorbar\":{\"outlinewidth\":0,\"ticks\":\"\"}},\"type\":\"scatterpolargl\"}],\"scatterpolar\":[{\"marker\":{\"colorbar\":{\"outlinewidth\":0,\"ticks\":\"\"}},\"type\":\"scatterpolar\"}],\"scatter\":[{\"marker\":{\"colorbar\":{\"outlinewidth\":0,\"ticks\":\"\"}},\"type\":\"scatter\"}],\"scatterternary\":[{\"marker\":{\"colorbar\":{\"outlinewidth\":0,\"ticks\":\"\"}},\"type\":\"scatterternary\"}],\"surface\":[{\"colorbar\":{\"outlinewidth\":0,\"ticks\":\"\"},\"colorscale\":[[0.0,\"#0d0887\"],[0.1111111111111111,\"#46039f\"],[0.2222222222222222,\"#7201a8\"],[0.3333333333333333,\"#9c179e\"],[0.4444444444444444,\"#bd3786\"],[0.5555555555555556,\"#d8576b\"],[0.6666666666666666,\"#ed7953\"],[0.7777777777777778,\"#fb9f3a\"],[0.8888888888888888,\"#fdca26\"],[1.0,\"#f0f921\"]],\"type\":\"surface\"}],\"table\":[{\"cells\":{\"fill\":{\"color\":\"#EBF0F8\"},\"line\":{\"color\":\"white\"}},\"header\":{\"fill\":{\"color\":\"#C8D4E3\"},\"line\":{\"color\":\"white\"}},\"type\":\"table\"}]},\"layout\":{\"annotationdefaults\":{\"arrowcolor\":\"#2a3f5f\",\"arrowhead\":0,\"arrowwidth\":1},\"autotypenumbers\":\"strict\",\"coloraxis\":{\"colorbar\":{\"outlinewidth\":0,\"ticks\":\"\"}},\"colorscale\":{\"diverging\":[[0,\"#8e0152\"],[0.1,\"#c51b7d\"],[0.2,\"#de77ae\"],[0.3,\"#f1b6da\"],[0.4,\"#fde0ef\"],[0.5,\"#f7f7f7\"],[0.6,\"#e6f5d0\"],[0.7,\"#b8e186\"],[0.8,\"#7fbc41\"],[0.9,\"#4d9221\"],[1,\"#276419\"]],\"sequential\":[[0.0,\"#0d0887\"],[0.1111111111111111,\"#46039f\"],[0.2222222222222222,\"#7201a8\"],[0.3333333333333333,\"#9c179e\"],[0.4444444444444444,\"#bd3786\"],[0.5555555555555556,\"#d8576b\"],[0.6666666666666666,\"#ed7953\"],[0.7777777777777778,\"#fb9f3a\"],[0.8888888888888888,\"#fdca26\"],[1.0,\"#f0f921\"]],\"sequentialminus\":[[0.0,\"#0d0887\"],[0.1111111111111111,\"#46039f\"],[0.2222222222222222,\"#7201a8\"],[0.3333333333333333,\"#9c179e\"],[0.4444444444444444,\"#bd3786\"],[0.5555555555555556,\"#d8576b\"],[0.6666666666666666,\"#ed7953\"],[0.7777777777777778,\"#fb9f3a\"],[0.8888888888888888,\"#fdca26\"],[1.0,\"#f0f921\"]]},\"colorway\":[\"#636efa\",\"#EF553B\",\"#00cc96\",\"#ab63fa\",\"#FFA15A\",\"#19d3f3\",\"#FF6692\",\"#B6E880\",\"#FF97FF\",\"#FECB52\"],\"font\":{\"color\":\"#2a3f5f\"},\"geo\":{\"bgcolor\":\"white\",\"lakecolor\":\"white\",\"landcolor\":\"#E5ECF6\",\"showlakes\":true,\"showland\":true,\"subunitcolor\":\"white\"},\"hoverlabel\":{\"align\":\"left\"},\"hovermode\":\"closest\",\"mapbox\":{\"style\":\"light\"},\"paper_bgcolor\":\"white\",\"plot_bgcolor\":\"#E5ECF6\",\"polar\":{\"angularaxis\":{\"gridcolor\":\"white\",\"linecolor\":\"white\",\"ticks\":\"\"},\"bgcolor\":\"#E5ECF6\",\"radialaxis\":{\"gridcolor\":\"white\",\"linecolor\":\"white\",\"ticks\":\"\"}},\"scene\":{\"xaxis\":{\"backgroundcolor\":\"#E5ECF6\",\"gridcolor\":\"white\",\"gridwidth\":2,\"linecolor\":\"white\",\"showbackground\":true,\"ticks\":\"\",\"zerolinecolor\":\"white\"},\"yaxis\":{\"backgroundcolor\":\"#E5ECF6\",\"gridcolor\":\"white\",\"gridwidth\":2,\"linecolor\":\"white\",\"showbackground\":true,\"ticks\":\"\",\"zerolinecolor\":\"white\"},\"zaxis\":{\"backgroundcolor\":\"#E5ECF6\",\"gridcolor\":\"white\",\"gridwidth\":2,\"linecolor\":\"white\",\"showbackground\":true,\"ticks\":\"\",\"zerolinecolor\":\"white\"}},\"shapedefaults\":{\"line\":{\"color\":\"#2a3f5f\"}},\"ternary\":{\"aaxis\":{\"gridcolor\":\"white\",\"linecolor\":\"white\",\"ticks\":\"\"},\"baxis\":{\"gridcolor\":\"white\",\"linecolor\":\"white\",\"ticks\":\"\"},\"bgcolor\":\"#E5ECF6\",\"caxis\":{\"gridcolor\":\"white\",\"linecolor\":\"white\",\"ticks\":\"\"}},\"title\":{\"x\":0.05},\"xaxis\":{\"automargin\":true,\"gridcolor\":\"white\",\"linecolor\":\"white\",\"ticks\":\"\",\"title\":{\"standoff\":15},\"zerolinecolor\":\"white\",\"zerolinewidth\":2},\"yaxis\":{\"automargin\":true,\"gridcolor\":\"white\",\"linecolor\":\"white\",\"ticks\":\"\",\"title\":{\"standoff\":15},\"zerolinecolor\":\"white\",\"zerolinewidth\":2}}},\"margin\":{\"l\":30,\"r\":30,\"b\":30,\"t\":50},\"font\":{\"size\":16},\"xaxis\":{\"nticks\":30,\"title\":{\"text\":\"Hour of day\"}},\"annotations\":[{\"showarrow\":false,\"text\":\"\",\"x\":0,\"xref\":\"x\",\"y\":\"Load_StatusPlugLoadBlender \",\"yref\":\"y\"},{\"showarrow\":false,\"text\":\"\",\"x\":1,\"xref\":\"x\",\"y\":\"Load_StatusPlugLoadBlender \",\"yref\":\"y\"},{\"showarrow\":false,\"text\":\"\",\"x\":2,\"xref\":\"x\",\"y\":\"Load_StatusPlugLoadBlender \",\"yref\":\"y\"},{\"showarrow\":false,\"text\":\"\",\"x\":3,\"xref\":\"x\",\"y\":\"Load_StatusPlugLoadBlender \",\"yref\":\"y\"},{\"showarrow\":false,\"text\":\"\",\"x\":4,\"xref\":\"x\",\"y\":\"Load_StatusPlugLoadBlender \",\"yref\":\"y\"},{\"showarrow\":false,\"text\":\"\",\"x\":5,\"xref\":\"x\",\"y\":\"Load_StatusPlugLoadBlender \",\"yref\":\"y\"},{\"showarrow\":false,\"text\":\"1.0\",\"x\":6,\"xref\":\"x\",\"y\":\"Load_StatusPlugLoadBlender \",\"yref\":\"y\"},{\"showarrow\":false,\"text\":\"\",\"x\":7,\"xref\":\"x\",\"y\":\"Load_StatusPlugLoadBlender \",\"yref\":\"y\"},{\"showarrow\":false,\"text\":\"\",\"x\":8,\"xref\":\"x\",\"y\":\"Load_StatusPlugLoadBlender \",\"yref\":\"y\"},{\"showarrow\":false,\"text\":\"0.39\",\"x\":9,\"xref\":\"x\",\"y\":\"Load_StatusPlugLoadBlender \",\"yref\":\"y\"},{\"showarrow\":false,\"text\":\"\",\"x\":10,\"xref\":\"x\",\"y\":\"Load_StatusPlugLoadBlender \",\"yref\":\"y\"},{\"showarrow\":false,\"text\":\"\",\"x\":11,\"xref\":\"x\",\"y\":\"Load_StatusPlugLoadBlender \",\"yref\":\"y\"},{\"showarrow\":false,\"text\":\"\",\"x\":12,\"xref\":\"x\",\"y\":\"Load_StatusPlugLoadBlender \",\"yref\":\"y\"},{\"showarrow\":false,\"text\":\"\",\"x\":13,\"xref\":\"x\",\"y\":\"Load_StatusPlugLoadBlender \",\"yref\":\"y\"},{\"showarrow\":false,\"text\":\"\",\"x\":14,\"xref\":\"x\",\"y\":\"Load_StatusPlugLoadBlender \",\"yref\":\"y\"},{\"showarrow\":false,\"text\":\"\",\"x\":15,\"xref\":\"x\",\"y\":\"Load_StatusPlugLoadBlender \",\"yref\":\"y\"},{\"showarrow\":false,\"text\":\"\",\"x\":16,\"xref\":\"x\",\"y\":\"Load_StatusPlugLoadBlender \",\"yref\":\"y\"},{\"showarrow\":false,\"text\":\"\",\"x\":17,\"xref\":\"x\",\"y\":\"Load_StatusPlugLoadBlender \",\"yref\":\"y\"},{\"showarrow\":false,\"text\":\"\",\"x\":18,\"xref\":\"x\",\"y\":\"Load_StatusPlugLoadBlender \",\"yref\":\"y\"},{\"showarrow\":false,\"text\":\"\",\"x\":19,\"xref\":\"x\",\"y\":\"Load_StatusPlugLoadBlender \",\"yref\":\"y\"},{\"showarrow\":false,\"text\":\"\",\"x\":20,\"xref\":\"x\",\"y\":\"Load_StatusPlugLoadBlender \",\"yref\":\"y\"},{\"showarrow\":false,\"text\":\"\",\"x\":21,\"xref\":\"x\",\"y\":\"Load_StatusPlugLoadBlender \",\"yref\":\"y\"},{\"showarrow\":false,\"text\":\"\",\"x\":22,\"xref\":\"x\",\"y\":\"Load_StatusPlugLoadBlender \",\"yref\":\"y\"},{\"showarrow\":false,\"text\":\"\",\"x\":23,\"xref\":\"x\",\"y\":\"Load_StatusPlugLoadBlender \",\"yref\":\"y\"},{\"showarrow\":false,\"text\":\"\",\"x\":0,\"xref\":\"x\",\"y\":\"Load_StatusPlugLoadToasterOven \",\"yref\":\"y\"},{\"showarrow\":false,\"text\":\"\",\"x\":1,\"xref\":\"x\",\"y\":\"Load_StatusPlugLoadToasterOven \",\"yref\":\"y\"},{\"showarrow\":false,\"text\":\"\",\"x\":2,\"xref\":\"x\",\"y\":\"Load_StatusPlugLoadToasterOven \",\"yref\":\"y\"},{\"showarrow\":false,\"text\":\"\",\"x\":3,\"xref\":\"x\",\"y\":\"Load_StatusPlugLoadToasterOven \",\"yref\":\"y\"},{\"showarrow\":false,\"text\":\"\",\"x\":4,\"xref\":\"x\",\"y\":\"Load_StatusPlugLoadToasterOven \",\"yref\":\"y\"},{\"showarrow\":false,\"text\":\"\",\"x\":5,\"xref\":\"x\",\"y\":\"Load_StatusPlugLoadToasterOven \",\"yref\":\"y\"},{\"showarrow\":false,\"text\":\"1.0\",\"x\":6,\"xref\":\"x\",\"y\":\"Load_StatusPlugLoadToasterOven \",\"yref\":\"y\"},{\"showarrow\":false,\"text\":\"\",\"x\":7,\"xref\":\"x\",\"y\":\"Load_StatusPlugLoadToasterOven \",\"yref\":\"y\"},{\"showarrow\":false,\"text\":\"\",\"x\":8,\"xref\":\"x\",\"y\":\"Load_StatusPlugLoadToasterOven \",\"yref\":\"y\"},{\"showarrow\":false,\"text\":\"0.39\",\"x\":9,\"xref\":\"x\",\"y\":\"Load_StatusPlugLoadToasterOven \",\"yref\":\"y\"},{\"showarrow\":false,\"text\":\"\",\"x\":10,\"xref\":\"x\",\"y\":\"Load_StatusPlugLoadToasterOven \",\"yref\":\"y\"},{\"showarrow\":false,\"text\":\"\",\"x\":11,\"xref\":\"x\",\"y\":\"Load_StatusPlugLoadToasterOven \",\"yref\":\"y\"},{\"showarrow\":false,\"text\":\"\",\"x\":12,\"xref\":\"x\",\"y\":\"Load_StatusPlugLoadToasterOven \",\"yref\":\"y\"},{\"showarrow\":false,\"text\":\"\",\"x\":13,\"xref\":\"x\",\"y\":\"Load_StatusPlugLoadToasterOven \",\"yref\":\"y\"},{\"showarrow\":false,\"text\":\"\",\"x\":14,\"xref\":\"x\",\"y\":\"Load_StatusPlugLoadToasterOven \",\"yref\":\"y\"},{\"showarrow\":false,\"text\":\"\",\"x\":15,\"xref\":\"x\",\"y\":\"Load_StatusPlugLoadToasterOven \",\"yref\":\"y\"},{\"showarrow\":false,\"text\":\"\",\"x\":16,\"xref\":\"x\",\"y\":\"Load_StatusPlugLoadToasterOven \",\"yref\":\"y\"},{\"showarrow\":false,\"text\":\"\",\"x\":17,\"xref\":\"x\",\"y\":\"Load_StatusPlugLoadToasterOven \",\"yref\":\"y\"},{\"showarrow\":false,\"text\":\"\",\"x\":18,\"xref\":\"x\",\"y\":\"Load_StatusPlugLoadToasterOven \",\"yref\":\"y\"},{\"showarrow\":false,\"text\":\"\",\"x\":19,\"xref\":\"x\",\"y\":\"Load_StatusPlugLoadToasterOven \",\"yref\":\"y\"},{\"showarrow\":false,\"text\":\"\",\"x\":20,\"xref\":\"x\",\"y\":\"Load_StatusPlugLoadToasterOven \",\"yref\":\"y\"},{\"showarrow\":false,\"text\":\"0.01\",\"x\":21,\"xref\":\"x\",\"y\":\"Load_StatusPlugLoadToasterOven \",\"yref\":\"y\"},{\"showarrow\":false,\"text\":\"0.01\",\"x\":22,\"xref\":\"x\",\"y\":\"Load_StatusPlugLoadToasterOven \",\"yref\":\"y\"},{\"showarrow\":false,\"text\":\"\",\"x\":23,\"xref\":\"x\",\"y\":\"Load_StatusPlugLoadToasterOven \",\"yref\":\"y\"},{\"showarrow\":false,\"text\":\"\",\"x\":0,\"xref\":\"x\",\"y\":\"Load_StatusApplianceRangeHood \",\"yref\":\"y\"},{\"showarrow\":false,\"text\":\"\",\"x\":1,\"xref\":\"x\",\"y\":\"Load_StatusApplianceRangeHood \",\"yref\":\"y\"},{\"showarrow\":false,\"text\":\"0.01\",\"x\":2,\"xref\":\"x\",\"y\":\"Load_StatusApplianceRangeHood \",\"yref\":\"y\"},{\"showarrow\":false,\"text\":\"\",\"x\":3,\"xref\":\"x\",\"y\":\"Load_StatusApplianceRangeHood \",\"yref\":\"y\"},{\"showarrow\":false,\"text\":\"\",\"x\":4,\"xref\":\"x\",\"y\":\"Load_StatusApplianceRangeHood \",\"yref\":\"y\"},{\"showarrow\":false,\"text\":\"\",\"x\":5,\"xref\":\"x\",\"y\":\"Load_StatusApplianceRangeHood \",\"yref\":\"y\"},{\"showarrow\":false,\"text\":\"\",\"x\":6,\"xref\":\"x\",\"y\":\"Load_StatusApplianceRangeHood \",\"yref\":\"y\"},{\"showarrow\":false,\"text\":\"\",\"x\":7,\"xref\":\"x\",\"y\":\"Load_StatusApplianceRangeHood \",\"yref\":\"y\"},{\"showarrow\":false,\"text\":\"0.28\",\"x\":8,\"xref\":\"x\",\"y\":\"Load_StatusApplianceRangeHood \",\"yref\":\"y\"},{\"showarrow\":false,\"text\":\"\",\"x\":9,\"xref\":\"x\",\"y\":\"Load_StatusApplianceRangeHood \",\"yref\":\"y\"},{\"showarrow\":false,\"text\":\"\",\"x\":10,\"xref\":\"x\",\"y\":\"Load_StatusApplianceRangeHood \",\"yref\":\"y\"},{\"showarrow\":false,\"text\":\"\",\"x\":11,\"xref\":\"x\",\"y\":\"Load_StatusApplianceRangeHood \",\"yref\":\"y\"},{\"showarrow\":false,\"text\":\"0.28\",\"x\":12,\"xref\":\"x\",\"y\":\"Load_StatusApplianceRangeHood \",\"yref\":\"y\"},{\"showarrow\":false,\"text\":\"\",\"x\":13,\"xref\":\"x\",\"y\":\"Load_StatusApplianceRangeHood \",\"yref\":\"y\"},{\"showarrow\":false,\"text\":\"\",\"x\":14,\"xref\":\"x\",\"y\":\"Load_StatusApplianceRangeHood \",\"yref\":\"y\"},{\"showarrow\":false,\"text\":\"\",\"x\":15,\"xref\":\"x\",\"y\":\"Load_StatusApplianceRangeHood \",\"yref\":\"y\"},{\"showarrow\":false,\"text\":\"\",\"x\":16,\"xref\":\"x\",\"y\":\"Load_StatusApplianceRangeHood \",\"yref\":\"y\"},{\"showarrow\":false,\"text\":\"0.03\",\"x\":17,\"xref\":\"x\",\"y\":\"Load_StatusApplianceRangeHood \",\"yref\":\"y\"},{\"showarrow\":false,\"text\":\"1.0\",\"x\":18,\"xref\":\"x\",\"y\":\"Load_StatusApplianceRangeHood \",\"yref\":\"y\"},{\"showarrow\":false,\"text\":\"0.14\",\"x\":19,\"xref\":\"x\",\"y\":\"Load_StatusApplianceRangeHood \",\"yref\":\"y\"},{\"showarrow\":false,\"text\":\"\",\"x\":20,\"xref\":\"x\",\"y\":\"Load_StatusApplianceRangeHood \",\"yref\":\"y\"},{\"showarrow\":false,\"text\":\"\",\"x\":21,\"xref\":\"x\",\"y\":\"Load_StatusApplianceRangeHood \",\"yref\":\"y\"},{\"showarrow\":false,\"text\":\"\",\"x\":22,\"xref\":\"x\",\"y\":\"Load_StatusApplianceRangeHood \",\"yref\":\"y\"},{\"showarrow\":false,\"text\":\"\",\"x\":23,\"xref\":\"x\",\"y\":\"Load_StatusApplianceRangeHood \",\"yref\":\"y\"},{\"showarrow\":false,\"text\":\"\",\"x\":0,\"xref\":\"x\",\"y\":\"Load_StatusApplianceCooktop \",\"yref\":\"y\"},{\"showarrow\":false,\"text\":\"\",\"x\":1,\"xref\":\"x\",\"y\":\"Load_StatusApplianceCooktop \",\"yref\":\"y\"},{\"showarrow\":false,\"text\":\"0.01\",\"x\":2,\"xref\":\"x\",\"y\":\"Load_StatusApplianceCooktop \",\"yref\":\"y\"},{\"showarrow\":false,\"text\":\"\",\"x\":3,\"xref\":\"x\",\"y\":\"Load_StatusApplianceCooktop \",\"yref\":\"y\"},{\"showarrow\":false,\"text\":\"\",\"x\":4,\"xref\":\"x\",\"y\":\"Load_StatusApplianceCooktop \",\"yref\":\"y\"},{\"showarrow\":false,\"text\":\"\",\"x\":5,\"xref\":\"x\",\"y\":\"Load_StatusApplianceCooktop \",\"yref\":\"y\"},{\"showarrow\":false,\"text\":\"\",\"x\":6,\"xref\":\"x\",\"y\":\"Load_StatusApplianceCooktop \",\"yref\":\"y\"},{\"showarrow\":false,\"text\":\"\",\"x\":7,\"xref\":\"x\",\"y\":\"Load_StatusApplianceCooktop \",\"yref\":\"y\"},{\"showarrow\":false,\"text\":\"0.28\",\"x\":8,\"xref\":\"x\",\"y\":\"Load_StatusApplianceCooktop \",\"yref\":\"y\"},{\"showarrow\":false,\"text\":\"\",\"x\":9,\"xref\":\"x\",\"y\":\"Load_StatusApplianceCooktop \",\"yref\":\"y\"},{\"showarrow\":false,\"text\":\"\",\"x\":10,\"xref\":\"x\",\"y\":\"Load_StatusApplianceCooktop \",\"yref\":\"y\"},{\"showarrow\":false,\"text\":\"\",\"x\":11,\"xref\":\"x\",\"y\":\"Load_StatusApplianceCooktop \",\"yref\":\"y\"},{\"showarrow\":false,\"text\":\"0.28\",\"x\":12,\"xref\":\"x\",\"y\":\"Load_StatusApplianceCooktop \",\"yref\":\"y\"},{\"showarrow\":false,\"text\":\"\",\"x\":13,\"xref\":\"x\",\"y\":\"Load_StatusApplianceCooktop \",\"yref\":\"y\"},{\"showarrow\":false,\"text\":\"\",\"x\":14,\"xref\":\"x\",\"y\":\"Load_StatusApplianceCooktop \",\"yref\":\"y\"},{\"showarrow\":false,\"text\":\"\",\"x\":15,\"xref\":\"x\",\"y\":\"Load_StatusApplianceCooktop \",\"yref\":\"y\"},{\"showarrow\":false,\"text\":\"\",\"x\":16,\"xref\":\"x\",\"y\":\"Load_StatusApplianceCooktop \",\"yref\":\"y\"},{\"showarrow\":false,\"text\":\"0.03\",\"x\":17,\"xref\":\"x\",\"y\":\"Load_StatusApplianceCooktop \",\"yref\":\"y\"},{\"showarrow\":false,\"text\":\"1.0\",\"x\":18,\"xref\":\"x\",\"y\":\"Load_StatusApplianceCooktop \",\"yref\":\"y\"},{\"showarrow\":false,\"text\":\"0.14\",\"x\":19,\"xref\":\"x\",\"y\":\"Load_StatusApplianceCooktop \",\"yref\":\"y\"},{\"showarrow\":false,\"text\":\"0.01\",\"x\":20,\"xref\":\"x\",\"y\":\"Load_StatusApplianceCooktop \",\"yref\":\"y\"},{\"showarrow\":false,\"text\":\"0.01\",\"x\":21,\"xref\":\"x\",\"y\":\"Load_StatusApplianceCooktop \",\"yref\":\"y\"},{\"showarrow\":false,\"text\":\"0.01\",\"x\":22,\"xref\":\"x\",\"y\":\"Load_StatusApplianceCooktop \",\"yref\":\"y\"},{\"showarrow\":false,\"text\":\"\",\"x\":23,\"xref\":\"x\",\"y\":\"Load_StatusApplianceCooktop \",\"yref\":\"y\"},{\"showarrow\":false,\"text\":\"\",\"x\":0,\"xref\":\"x\",\"y\":\"Load_StatusApplianceOven \",\"yref\":\"y\"},{\"showarrow\":false,\"text\":\"\",\"x\":1,\"xref\":\"x\",\"y\":\"Load_StatusApplianceOven \",\"yref\":\"y\"},{\"showarrow\":false,\"text\":\"0.01\",\"x\":2,\"xref\":\"x\",\"y\":\"Load_StatusApplianceOven \",\"yref\":\"y\"},{\"showarrow\":false,\"text\":\"0.01\",\"x\":3,\"xref\":\"x\",\"y\":\"Load_StatusApplianceOven \",\"yref\":\"y\"},{\"showarrow\":false,\"text\":\"0.01\",\"x\":4,\"xref\":\"x\",\"y\":\"Load_StatusApplianceOven \",\"yref\":\"y\"},{\"showarrow\":false,\"text\":\"0.01\",\"x\":5,\"xref\":\"x\",\"y\":\"Load_StatusApplianceOven \",\"yref\":\"y\"},{\"showarrow\":false,\"text\":\"\",\"x\":6,\"xref\":\"x\",\"y\":\"Load_StatusApplianceOven \",\"yref\":\"y\"},{\"showarrow\":false,\"text\":\"\",\"x\":7,\"xref\":\"x\",\"y\":\"Load_StatusApplianceOven \",\"yref\":\"y\"},{\"showarrow\":false,\"text\":\"1.0\",\"x\":8,\"xref\":\"x\",\"y\":\"Load_StatusApplianceOven \",\"yref\":\"y\"},{\"showarrow\":false,\"text\":\"1.0\",\"x\":9,\"xref\":\"x\",\"y\":\"Load_StatusApplianceOven \",\"yref\":\"y\"},{\"showarrow\":false,\"text\":\"1.0\",\"x\":10,\"xref\":\"x\",\"y\":\"Load_StatusApplianceOven \",\"yref\":\"y\"},{\"showarrow\":false,\"text\":\"\",\"x\":11,\"xref\":\"x\",\"y\":\"Load_StatusApplianceOven \",\"yref\":\"y\"},{\"showarrow\":false,\"text\":\"\",\"x\":12,\"xref\":\"x\",\"y\":\"Load_StatusApplianceOven \",\"yref\":\"y\"},{\"showarrow\":false,\"text\":\"\",\"x\":13,\"xref\":\"x\",\"y\":\"Load_StatusApplianceOven \",\"yref\":\"y\"},{\"showarrow\":false,\"text\":\"\",\"x\":14,\"xref\":\"x\",\"y\":\"Load_StatusApplianceOven \",\"yref\":\"y\"},{\"showarrow\":false,\"text\":\"\",\"x\":15,\"xref\":\"x\",\"y\":\"Load_StatusApplianceOven \",\"yref\":\"y\"},{\"showarrow\":false,\"text\":\"0.01\",\"x\":16,\"xref\":\"x\",\"y\":\"Load_StatusApplianceOven \",\"yref\":\"y\"},{\"showarrow\":false,\"text\":\"0.01\",\"x\":17,\"xref\":\"x\",\"y\":\"Load_StatusApplianceOven \",\"yref\":\"y\"},{\"showarrow\":false,\"text\":\"0.5\",\"x\":18,\"xref\":\"x\",\"y\":\"Load_StatusApplianceOven \",\"yref\":\"y\"},{\"showarrow\":false,\"text\":\"0.5\",\"x\":19,\"xref\":\"x\",\"y\":\"Load_StatusApplianceOven \",\"yref\":\"y\"},{\"showarrow\":false,\"text\":\"0.51\",\"x\":20,\"xref\":\"x\",\"y\":\"Load_StatusApplianceOven \",\"yref\":\"y\"},{\"showarrow\":false,\"text\":\"0.51\",\"x\":21,\"xref\":\"x\",\"y\":\"Load_StatusApplianceOven \",\"yref\":\"y\"},{\"showarrow\":false,\"text\":\"0.01\",\"x\":22,\"xref\":\"x\",\"y\":\"Load_StatusApplianceOven \",\"yref\":\"y\"},{\"showarrow\":false,\"text\":\"\",\"x\":23,\"xref\":\"x\",\"y\":\"Load_StatusApplianceOven \",\"yref\":\"y\"},{\"showarrow\":false,\"text\":\"\",\"x\":0,\"xref\":\"x\",\"y\":\"Load_StatusPlugLoadSlowCooker \",\"yref\":\"y\"},{\"showarrow\":false,\"text\":\"\",\"x\":1,\"xref\":\"x\",\"y\":\"Load_StatusPlugLoadSlowCooker \",\"yref\":\"y\"},{\"showarrow\":false,\"text\":\"\",\"x\":2,\"xref\":\"x\",\"y\":\"Load_StatusPlugLoadSlowCooker \",\"yref\":\"y\"},{\"showarrow\":false,\"text\":\"\",\"x\":3,\"xref\":\"x\",\"y\":\"Load_StatusPlugLoadSlowCooker \",\"yref\":\"y\"},{\"showarrow\":false,\"text\":\"\",\"x\":4,\"xref\":\"x\",\"y\":\"Load_StatusPlugLoadSlowCooker \",\"yref\":\"y\"},{\"showarrow\":false,\"text\":\"\",\"x\":5,\"xref\":\"x\",\"y\":\"Load_StatusPlugLoadSlowCooker \",\"yref\":\"y\"},{\"showarrow\":false,\"text\":\"\",\"x\":6,\"xref\":\"x\",\"y\":\"Load_StatusPlugLoadSlowCooker \",\"yref\":\"y\"},{\"showarrow\":false,\"text\":\"\",\"x\":7,\"xref\":\"x\",\"y\":\"Load_StatusPlugLoadSlowCooker \",\"yref\":\"y\"},{\"showarrow\":false,\"text\":\"0.51\",\"x\":8,\"xref\":\"x\",\"y\":\"Load_StatusPlugLoadSlowCooker \",\"yref\":\"y\"},{\"showarrow\":false,\"text\":\"1.0\",\"x\":9,\"xref\":\"x\",\"y\":\"Load_StatusPlugLoadSlowCooker \",\"yref\":\"y\"},{\"showarrow\":false,\"text\":\"0.49\",\"x\":10,\"xref\":\"x\",\"y\":\"Load_StatusPlugLoadSlowCooker \",\"yref\":\"y\"},{\"showarrow\":false,\"text\":\"\",\"x\":11,\"xref\":\"x\",\"y\":\"Load_StatusPlugLoadSlowCooker \",\"yref\":\"y\"},{\"showarrow\":false,\"text\":\"\",\"x\":12,\"xref\":\"x\",\"y\":\"Load_StatusPlugLoadSlowCooker \",\"yref\":\"y\"},{\"showarrow\":false,\"text\":\"\",\"x\":13,\"xref\":\"x\",\"y\":\"Load_StatusPlugLoadSlowCooker \",\"yref\":\"y\"},{\"showarrow\":false,\"text\":\"\",\"x\":14,\"xref\":\"x\",\"y\":\"Load_StatusPlugLoadSlowCooker \",\"yref\":\"y\"},{\"showarrow\":false,\"text\":\"\",\"x\":15,\"xref\":\"x\",\"y\":\"Load_StatusPlugLoadSlowCooker \",\"yref\":\"y\"},{\"showarrow\":false,\"text\":\"\",\"x\":16,\"xref\":\"x\",\"y\":\"Load_StatusPlugLoadSlowCooker \",\"yref\":\"y\"},{\"showarrow\":false,\"text\":\"\",\"x\":17,\"xref\":\"x\",\"y\":\"Load_StatusPlugLoadSlowCooker \",\"yref\":\"y\"},{\"showarrow\":false,\"text\":\"\",\"x\":18,\"xref\":\"x\",\"y\":\"Load_StatusPlugLoadSlowCooker \",\"yref\":\"y\"},{\"showarrow\":false,\"text\":\"\",\"x\":19,\"xref\":\"x\",\"y\":\"Load_StatusPlugLoadSlowCooker \",\"yref\":\"y\"},{\"showarrow\":false,\"text\":\"\",\"x\":20,\"xref\":\"x\",\"y\":\"Load_StatusPlugLoadSlowCooker \",\"yref\":\"y\"},{\"showarrow\":false,\"text\":\"\",\"x\":21,\"xref\":\"x\",\"y\":\"Load_StatusPlugLoadSlowCooker \",\"yref\":\"y\"},{\"showarrow\":false,\"text\":\"\",\"x\":22,\"xref\":\"x\",\"y\":\"Load_StatusPlugLoadSlowCooker \",\"yref\":\"y\"},{\"showarrow\":false,\"text\":\"\",\"x\":23,\"xref\":\"x\",\"y\":\"Load_StatusPlugLoadSlowCooker \",\"yref\":\"y\"},{\"showarrow\":false,\"text\":\"\",\"x\":0,\"xref\":\"x\",\"y\":\"Load_StatusPlugLoadToaster \",\"yref\":\"y\"},{\"showarrow\":false,\"text\":\"\",\"x\":1,\"xref\":\"x\",\"y\":\"Load_StatusPlugLoadToaster \",\"yref\":\"y\"},{\"showarrow\":false,\"text\":\"\",\"x\":2,\"xref\":\"x\",\"y\":\"Load_StatusPlugLoadToaster \",\"yref\":\"y\"},{\"showarrow\":false,\"text\":\"\",\"x\":3,\"xref\":\"x\",\"y\":\"Load_StatusPlugLoadToaster \",\"yref\":\"y\"},{\"showarrow\":false,\"text\":\"\",\"x\":4,\"xref\":\"x\",\"y\":\"Load_StatusPlugLoadToaster \",\"yref\":\"y\"},{\"showarrow\":false,\"text\":\"\",\"x\":5,\"xref\":\"x\",\"y\":\"Load_StatusPlugLoadToaster \",\"yref\":\"y\"},{\"showarrow\":false,\"text\":\"1.0\",\"x\":6,\"xref\":\"x\",\"y\":\"Load_StatusPlugLoadToaster \",\"yref\":\"y\"},{\"showarrow\":false,\"text\":\"\",\"x\":7,\"xref\":\"x\",\"y\":\"Load_StatusPlugLoadToaster \",\"yref\":\"y\"},{\"showarrow\":false,\"text\":\"\",\"x\":8,\"xref\":\"x\",\"y\":\"Load_StatusPlugLoadToaster \",\"yref\":\"y\"},{\"showarrow\":false,\"text\":\"0.39\",\"x\":9,\"xref\":\"x\",\"y\":\"Load_StatusPlugLoadToaster \",\"yref\":\"y\"},{\"showarrow\":false,\"text\":\"\",\"x\":10,\"xref\":\"x\",\"y\":\"Load_StatusPlugLoadToaster \",\"yref\":\"y\"},{\"showarrow\":false,\"text\":\"\",\"x\":11,\"xref\":\"x\",\"y\":\"Load_StatusPlugLoadToaster \",\"yref\":\"y\"},{\"showarrow\":false,\"text\":\"\",\"x\":12,\"xref\":\"x\",\"y\":\"Load_StatusPlugLoadToaster \",\"yref\":\"y\"},{\"showarrow\":false,\"text\":\"\",\"x\":13,\"xref\":\"x\",\"y\":\"Load_StatusPlugLoadToaster \",\"yref\":\"y\"},{\"showarrow\":false,\"text\":\"\",\"x\":14,\"xref\":\"x\",\"y\":\"Load_StatusPlugLoadToaster \",\"yref\":\"y\"},{\"showarrow\":false,\"text\":\"\",\"x\":15,\"xref\":\"x\",\"y\":\"Load_StatusPlugLoadToaster \",\"yref\":\"y\"},{\"showarrow\":false,\"text\":\"\",\"x\":16,\"xref\":\"x\",\"y\":\"Load_StatusPlugLoadToaster \",\"yref\":\"y\"},{\"showarrow\":false,\"text\":\"\",\"x\":17,\"xref\":\"x\",\"y\":\"Load_StatusPlugLoadToaster \",\"yref\":\"y\"},{\"showarrow\":false,\"text\":\"\",\"x\":18,\"xref\":\"x\",\"y\":\"Load_StatusPlugLoadToaster \",\"yref\":\"y\"},{\"showarrow\":false,\"text\":\"\",\"x\":19,\"xref\":\"x\",\"y\":\"Load_StatusPlugLoadToaster \",\"yref\":\"y\"},{\"showarrow\":false,\"text\":\"\",\"x\":20,\"xref\":\"x\",\"y\":\"Load_StatusPlugLoadToaster \",\"yref\":\"y\"},{\"showarrow\":false,\"text\":\"\",\"x\":21,\"xref\":\"x\",\"y\":\"Load_StatusPlugLoadToaster \",\"yref\":\"y\"},{\"showarrow\":false,\"text\":\"\",\"x\":22,\"xref\":\"x\",\"y\":\"Load_StatusPlugLoadToaster \",\"yref\":\"y\"},{\"showarrow\":false,\"text\":\"\",\"x\":23,\"xref\":\"x\",\"y\":\"Load_StatusPlugLoadToaster \",\"yref\":\"y\"},{\"showarrow\":false,\"text\":\"\",\"x\":0,\"xref\":\"x\",\"y\":\"Load_StatusApplianceDishwasher \",\"yref\":\"y\"},{\"showarrow\":false,\"text\":\"\",\"x\":1,\"xref\":\"x\",\"y\":\"Load_StatusApplianceDishwasher \",\"yref\":\"y\"},{\"showarrow\":false,\"text\":\"\",\"x\":2,\"xref\":\"x\",\"y\":\"Load_StatusApplianceDishwasher \",\"yref\":\"y\"},{\"showarrow\":false,\"text\":\"\",\"x\":3,\"xref\":\"x\",\"y\":\"Load_StatusApplianceDishwasher \",\"yref\":\"y\"},{\"showarrow\":false,\"text\":\"0.01\",\"x\":4,\"xref\":\"x\",\"y\":\"Load_StatusApplianceDishwasher \",\"yref\":\"y\"},{\"showarrow\":false,\"text\":\"0.01\",\"x\":5,\"xref\":\"x\",\"y\":\"Load_StatusApplianceDishwasher \",\"yref\":\"y\"},{\"showarrow\":false,\"text\":\"0.01\",\"x\":6,\"xref\":\"x\",\"y\":\"Load_StatusApplianceDishwasher \",\"yref\":\"y\"},{\"showarrow\":false,\"text\":\"\",\"x\":7,\"xref\":\"x\",\"y\":\"Load_StatusApplianceDishwasher \",\"yref\":\"y\"},{\"showarrow\":false,\"text\":\"\",\"x\":8,\"xref\":\"x\",\"y\":\"Load_StatusApplianceDishwasher \",\"yref\":\"y\"},{\"showarrow\":false,\"text\":\"\",\"x\":9,\"xref\":\"x\",\"y\":\"Load_StatusApplianceDishwasher \",\"yref\":\"y\"},{\"showarrow\":false,\"text\":\"\",\"x\":10,\"xref\":\"x\",\"y\":\"Load_StatusApplianceDishwasher \",\"yref\":\"y\"},{\"showarrow\":false,\"text\":\"\",\"x\":11,\"xref\":\"x\",\"y\":\"Load_StatusApplianceDishwasher \",\"yref\":\"y\"},{\"showarrow\":false,\"text\":\"\",\"x\":12,\"xref\":\"x\",\"y\":\"Load_StatusApplianceDishwasher \",\"yref\":\"y\"},{\"showarrow\":false,\"text\":\"\",\"x\":13,\"xref\":\"x\",\"y\":\"Load_StatusApplianceDishwasher \",\"yref\":\"y\"},{\"showarrow\":false,\"text\":\"\",\"x\":14,\"xref\":\"x\",\"y\":\"Load_StatusApplianceDishwasher \",\"yref\":\"y\"},{\"showarrow\":false,\"text\":\"\",\"x\":15,\"xref\":\"x\",\"y\":\"Load_StatusApplianceDishwasher \",\"yref\":\"y\"},{\"showarrow\":false,\"text\":\"\",\"x\":16,\"xref\":\"x\",\"y\":\"Load_StatusApplianceDishwasher \",\"yref\":\"y\"},{\"showarrow\":false,\"text\":\"\",\"x\":17,\"xref\":\"x\",\"y\":\"Load_StatusApplianceDishwasher \",\"yref\":\"y\"},{\"showarrow\":false,\"text\":\"\",\"x\":18,\"xref\":\"x\",\"y\":\"Load_StatusApplianceDishwasher \",\"yref\":\"y\"},{\"showarrow\":false,\"text\":\"\",\"x\":19,\"xref\":\"x\",\"y\":\"Load_StatusApplianceDishwasher \",\"yref\":\"y\"},{\"showarrow\":false,\"text\":\"1.0\",\"x\":20,\"xref\":\"x\",\"y\":\"Load_StatusApplianceDishwasher \",\"yref\":\"y\"},{\"showarrow\":false,\"text\":\"1.0\",\"x\":21,\"xref\":\"x\",\"y\":\"Load_StatusApplianceDishwasher \",\"yref\":\"y\"},{\"showarrow\":false,\"text\":\"1.0\",\"x\":22,\"xref\":\"x\",\"y\":\"Load_StatusApplianceDishwasher \",\"yref\":\"y\"},{\"showarrow\":false,\"text\":\"0.2\",\"x\":23,\"xref\":\"x\",\"y\":\"Load_StatusApplianceDishwasher \",\"yref\":\"y\"},{\"showarrow\":false,\"text\":\"\",\"x\":0,\"xref\":\"x\",\"y\":\"Load_StatusPlugLoadHandMixer \",\"yref\":\"y\"},{\"showarrow\":false,\"text\":\"\",\"x\":1,\"xref\":\"x\",\"y\":\"Load_StatusPlugLoadHandMixer \",\"yref\":\"y\"},{\"showarrow\":false,\"text\":\"0.01\",\"x\":2,\"xref\":\"x\",\"y\":\"Load_StatusPlugLoadHandMixer \",\"yref\":\"y\"},{\"showarrow\":false,\"text\":\"\",\"x\":3,\"xref\":\"x\",\"y\":\"Load_StatusPlugLoadHandMixer \",\"yref\":\"y\"},{\"showarrow\":false,\"text\":\"\",\"x\":4,\"xref\":\"x\",\"y\":\"Load_StatusPlugLoadHandMixer \",\"yref\":\"y\"},{\"showarrow\":false,\"text\":\"\",\"x\":5,\"xref\":\"x\",\"y\":\"Load_StatusPlugLoadHandMixer \",\"yref\":\"y\"},{\"showarrow\":false,\"text\":\"\",\"x\":6,\"xref\":\"x\",\"y\":\"Load_StatusPlugLoadHandMixer \",\"yref\":\"y\"},{\"showarrow\":false,\"text\":\"\",\"x\":7,\"xref\":\"x\",\"y\":\"Load_StatusPlugLoadHandMixer \",\"yref\":\"y\"},{\"showarrow\":false,\"text\":\"\",\"x\":8,\"xref\":\"x\",\"y\":\"Load_StatusPlugLoadHandMixer \",\"yref\":\"y\"},{\"showarrow\":false,\"text\":\"\",\"x\":9,\"xref\":\"x\",\"y\":\"Load_StatusPlugLoadHandMixer \",\"yref\":\"y\"},{\"showarrow\":false,\"text\":\"\",\"x\":10,\"xref\":\"x\",\"y\":\"Load_StatusPlugLoadHandMixer \",\"yref\":\"y\"},{\"showarrow\":false,\"text\":\"\",\"x\":11,\"xref\":\"x\",\"y\":\"Load_StatusPlugLoadHandMixer \",\"yref\":\"y\"},{\"showarrow\":false,\"text\":\"\",\"x\":12,\"xref\":\"x\",\"y\":\"Load_StatusPlugLoadHandMixer \",\"yref\":\"y\"},{\"showarrow\":false,\"text\":\"\",\"x\":13,\"xref\":\"x\",\"y\":\"Load_StatusPlugLoadHandMixer \",\"yref\":\"y\"},{\"showarrow\":false,\"text\":\"\",\"x\":14,\"xref\":\"x\",\"y\":\"Load_StatusPlugLoadHandMixer \",\"yref\":\"y\"},{\"showarrow\":false,\"text\":\"\",\"x\":15,\"xref\":\"x\",\"y\":\"Load_StatusPlugLoadHandMixer \",\"yref\":\"y\"},{\"showarrow\":false,\"text\":\"\",\"x\":16,\"xref\":\"x\",\"y\":\"Load_StatusPlugLoadHandMixer \",\"yref\":\"y\"},{\"showarrow\":false,\"text\":\"\",\"x\":17,\"xref\":\"x\",\"y\":\"Load_StatusPlugLoadHandMixer \",\"yref\":\"y\"},{\"showarrow\":false,\"text\":\"1.0\",\"x\":18,\"xref\":\"x\",\"y\":\"Load_StatusPlugLoadHandMixer \",\"yref\":\"y\"},{\"showarrow\":false,\"text\":\"0.17\",\"x\":19,\"xref\":\"x\",\"y\":\"Load_StatusPlugLoadHandMixer \",\"yref\":\"y\"},{\"showarrow\":false,\"text\":\"\",\"x\":20,\"xref\":\"x\",\"y\":\"Load_StatusPlugLoadHandMixer \",\"yref\":\"y\"},{\"showarrow\":false,\"text\":\"\",\"x\":21,\"xref\":\"x\",\"y\":\"Load_StatusPlugLoadHandMixer \",\"yref\":\"y\"},{\"showarrow\":false,\"text\":\"\",\"x\":22,\"xref\":\"x\",\"y\":\"Load_StatusPlugLoadHandMixer \",\"yref\":\"y\"},{\"showarrow\":false,\"text\":\"\",\"x\":23,\"xref\":\"x\",\"y\":\"Load_StatusPlugLoadHandMixer \",\"yref\":\"y\"},{\"showarrow\":false,\"text\":\"\",\"x\":0,\"xref\":\"x\",\"y\":\"Load_StatusPlugLoadCanOpener \",\"yref\":\"y\"},{\"showarrow\":false,\"text\":\"\",\"x\":1,\"xref\":\"x\",\"y\":\"Load_StatusPlugLoadCanOpener \",\"yref\":\"y\"},{\"showarrow\":false,\"text\":\"0.01\",\"x\":2,\"xref\":\"x\",\"y\":\"Load_StatusPlugLoadCanOpener \",\"yref\":\"y\"},{\"showarrow\":false,\"text\":\"\",\"x\":3,\"xref\":\"x\",\"y\":\"Load_StatusPlugLoadCanOpener \",\"yref\":\"y\"},{\"showarrow\":false,\"text\":\"\",\"x\":4,\"xref\":\"x\",\"y\":\"Load_StatusPlugLoadCanOpener \",\"yref\":\"y\"},{\"showarrow\":false,\"text\":\"\",\"x\":5,\"xref\":\"x\",\"y\":\"Load_StatusPlugLoadCanOpener \",\"yref\":\"y\"},{\"showarrow\":false,\"text\":\"\",\"x\":6,\"xref\":\"x\",\"y\":\"Load_StatusPlugLoadCanOpener \",\"yref\":\"y\"},{\"showarrow\":false,\"text\":\"\",\"x\":7,\"xref\":\"x\",\"y\":\"Load_StatusPlugLoadCanOpener \",\"yref\":\"y\"},{\"showarrow\":false,\"text\":\"\",\"x\":8,\"xref\":\"x\",\"y\":\"Load_StatusPlugLoadCanOpener \",\"yref\":\"y\"},{\"showarrow\":false,\"text\":\"\",\"x\":9,\"xref\":\"x\",\"y\":\"Load_StatusPlugLoadCanOpener \",\"yref\":\"y\"},{\"showarrow\":false,\"text\":\"\",\"x\":10,\"xref\":\"x\",\"y\":\"Load_StatusPlugLoadCanOpener \",\"yref\":\"y\"},{\"showarrow\":false,\"text\":\"\",\"x\":11,\"xref\":\"x\",\"y\":\"Load_StatusPlugLoadCanOpener \",\"yref\":\"y\"},{\"showarrow\":false,\"text\":\"\",\"x\":12,\"xref\":\"x\",\"y\":\"Load_StatusPlugLoadCanOpener \",\"yref\":\"y\"},{\"showarrow\":false,\"text\":\"\",\"x\":13,\"xref\":\"x\",\"y\":\"Load_StatusPlugLoadCanOpener \",\"yref\":\"y\"},{\"showarrow\":false,\"text\":\"\",\"x\":14,\"xref\":\"x\",\"y\":\"Load_StatusPlugLoadCanOpener \",\"yref\":\"y\"},{\"showarrow\":false,\"text\":\"\",\"x\":15,\"xref\":\"x\",\"y\":\"Load_StatusPlugLoadCanOpener \",\"yref\":\"y\"},{\"showarrow\":false,\"text\":\"\",\"x\":16,\"xref\":\"x\",\"y\":\"Load_StatusPlugLoadCanOpener \",\"yref\":\"y\"},{\"showarrow\":false,\"text\":\"\",\"x\":17,\"xref\":\"x\",\"y\":\"Load_StatusPlugLoadCanOpener \",\"yref\":\"y\"},{\"showarrow\":false,\"text\":\"1.0\",\"x\":18,\"xref\":\"x\",\"y\":\"Load_StatusPlugLoadCanOpener \",\"yref\":\"y\"},{\"showarrow\":false,\"text\":\"0.17\",\"x\":19,\"xref\":\"x\",\"y\":\"Load_StatusPlugLoadCanOpener \",\"yref\":\"y\"},{\"showarrow\":false,\"text\":\"0.01\",\"x\":20,\"xref\":\"x\",\"y\":\"Load_StatusPlugLoadCanOpener \",\"yref\":\"y\"},{\"showarrow\":false,\"text\":\"0.01\",\"x\":21,\"xref\":\"x\",\"y\":\"Load_StatusPlugLoadCanOpener \",\"yref\":\"y\"},{\"showarrow\":false,\"text\":\"0.01\",\"x\":22,\"xref\":\"x\",\"y\":\"Load_StatusPlugLoadCanOpener \",\"yref\":\"y\"},{\"showarrow\":false,\"text\":\"0.02\",\"x\":23,\"xref\":\"x\",\"y\":\"Load_StatusPlugLoadCanOpener \",\"yref\":\"y\"},{\"showarrow\":false,\"text\":\"\",\"x\":0,\"xref\":\"x\",\"y\":\"Load_StatusPlugLoadCoffeeMaker \",\"yref\":\"y\"},{\"showarrow\":false,\"text\":\"\",\"x\":1,\"xref\":\"x\",\"y\":\"Load_StatusPlugLoadCoffeeMaker \",\"yref\":\"y\"},{\"showarrow\":false,\"text\":\"\",\"x\":2,\"xref\":\"x\",\"y\":\"Load_StatusPlugLoadCoffeeMaker \",\"yref\":\"y\"},{\"showarrow\":false,\"text\":\"\",\"x\":3,\"xref\":\"x\",\"y\":\"Load_StatusPlugLoadCoffeeMaker \",\"yref\":\"y\"},{\"showarrow\":false,\"text\":\"\",\"x\":4,\"xref\":\"x\",\"y\":\"Load_StatusPlugLoadCoffeeMaker \",\"yref\":\"y\"},{\"showarrow\":false,\"text\":\"\",\"x\":5,\"xref\":\"x\",\"y\":\"Load_StatusPlugLoadCoffeeMaker \",\"yref\":\"y\"},{\"showarrow\":false,\"text\":\"1.0\",\"x\":6,\"xref\":\"x\",\"y\":\"Load_StatusPlugLoadCoffeeMaker \",\"yref\":\"y\"},{\"showarrow\":false,\"text\":\"0.05\",\"x\":7,\"xref\":\"x\",\"y\":\"Load_StatusPlugLoadCoffeeMaker \",\"yref\":\"y\"},{\"showarrow\":false,\"text\":\"\",\"x\":8,\"xref\":\"x\",\"y\":\"Load_StatusPlugLoadCoffeeMaker \",\"yref\":\"y\"},{\"showarrow\":false,\"text\":\"0.39\",\"x\":9,\"xref\":\"x\",\"y\":\"Load_StatusPlugLoadCoffeeMaker \",\"yref\":\"y\"},{\"showarrow\":false,\"text\":\"0.02\",\"x\":10,\"xref\":\"x\",\"y\":\"Load_StatusPlugLoadCoffeeMaker \",\"yref\":\"y\"},{\"showarrow\":false,\"text\":\"\",\"x\":11,\"xref\":\"x\",\"y\":\"Load_StatusPlugLoadCoffeeMaker \",\"yref\":\"y\"},{\"showarrow\":false,\"text\":\"0.02\",\"x\":12,\"xref\":\"x\",\"y\":\"Load_StatusPlugLoadCoffeeMaker \",\"yref\":\"y\"},{\"showarrow\":false,\"text\":\"\",\"x\":13,\"xref\":\"x\",\"y\":\"Load_StatusPlugLoadCoffeeMaker \",\"yref\":\"y\"},{\"showarrow\":false,\"text\":\"\",\"x\":14,\"xref\":\"x\",\"y\":\"Load_StatusPlugLoadCoffeeMaker \",\"yref\":\"y\"},{\"showarrow\":false,\"text\":\"\",\"x\":15,\"xref\":\"x\",\"y\":\"Load_StatusPlugLoadCoffeeMaker \",\"yref\":\"y\"},{\"showarrow\":false,\"text\":\"\",\"x\":16,\"xref\":\"x\",\"y\":\"Load_StatusPlugLoadCoffeeMaker \",\"yref\":\"y\"},{\"showarrow\":false,\"text\":\"\",\"x\":17,\"xref\":\"x\",\"y\":\"Load_StatusPlugLoadCoffeeMaker \",\"yref\":\"y\"},{\"showarrow\":false,\"text\":\"0.06\",\"x\":18,\"xref\":\"x\",\"y\":\"Load_StatusPlugLoadCoffeeMaker \",\"yref\":\"y\"},{\"showarrow\":false,\"text\":\"\",\"x\":19,\"xref\":\"x\",\"y\":\"Load_StatusPlugLoadCoffeeMaker \",\"yref\":\"y\"},{\"showarrow\":false,\"text\":\"\",\"x\":20,\"xref\":\"x\",\"y\":\"Load_StatusPlugLoadCoffeeMaker \",\"yref\":\"y\"},{\"showarrow\":false,\"text\":\"\",\"x\":21,\"xref\":\"x\",\"y\":\"Load_StatusPlugLoadCoffeeMaker \",\"yref\":\"y\"},{\"showarrow\":false,\"text\":\"\",\"x\":22,\"xref\":\"x\",\"y\":\"Load_StatusPlugLoadCoffeeMaker \",\"yref\":\"y\"},{\"showarrow\":false,\"text\":\"\",\"x\":23,\"xref\":\"x\",\"y\":\"Load_StatusPlugLoadCoffeeMaker \",\"yref\":\"y\"},{\"showarrow\":false,\"text\":\"1.0\",\"x\":0,\"xref\":\"x\",\"y\":\"Load_StatusRefrigerator \",\"yref\":\"y\"},{\"showarrow\":false,\"text\":\"0.75\",\"x\":1,\"xref\":\"x\",\"y\":\"Load_StatusRefrigerator \",\"yref\":\"y\"},{\"showarrow\":false,\"text\":\"\",\"x\":2,\"xref\":\"x\",\"y\":\"Load_StatusRefrigerator \",\"yref\":\"y\"},{\"showarrow\":false,\"text\":\"0.25\",\"x\":3,\"xref\":\"x\",\"y\":\"Load_StatusRefrigerator \",\"yref\":\"y\"},{\"showarrow\":false,\"text\":\"0.25\",\"x\":4,\"xref\":\"x\",\"y\":\"Load_StatusRefrigerator \",\"yref\":\"y\"},{\"showarrow\":false,\"text\":\"0.25\",\"x\":5,\"xref\":\"x\",\"y\":\"Load_StatusRefrigerator \",\"yref\":\"y\"},{\"showarrow\":false,\"text\":\"\",\"x\":6,\"xref\":\"x\",\"y\":\"Load_StatusRefrigerator \",\"yref\":\"y\"},{\"showarrow\":false,\"text\":\"0.25\",\"x\":7,\"xref\":\"x\",\"y\":\"Load_StatusRefrigerator \",\"yref\":\"y\"},{\"showarrow\":false,\"text\":\"0.5\",\"x\":8,\"xref\":\"x\",\"y\":\"Load_StatusRefrigerator \",\"yref\":\"y\"},{\"showarrow\":false,\"text\":\"0.5\",\"x\":9,\"xref\":\"x\",\"y\":\"Load_StatusRefrigerator \",\"yref\":\"y\"},{\"showarrow\":false,\"text\":\"0.5\",\"x\":10,\"xref\":\"x\",\"y\":\"Load_StatusRefrigerator \",\"yref\":\"y\"},{\"showarrow\":false,\"text\":\"0.5\",\"x\":11,\"xref\":\"x\",\"y\":\"Load_StatusRefrigerator \",\"yref\":\"y\"},{\"showarrow\":false,\"text\":\"0.5\",\"x\":12,\"xref\":\"x\",\"y\":\"Load_StatusRefrigerator \",\"yref\":\"y\"},{\"showarrow\":false,\"text\":\"0.5\",\"x\":13,\"xref\":\"x\",\"y\":\"Load_StatusRefrigerator \",\"yref\":\"y\"},{\"showarrow\":false,\"text\":\"\",\"x\":14,\"xref\":\"x\",\"y\":\"Load_StatusRefrigerator \",\"yref\":\"y\"},{\"showarrow\":false,\"text\":\"\",\"x\":15,\"xref\":\"x\",\"y\":\"Load_StatusRefrigerator \",\"yref\":\"y\"},{\"showarrow\":false,\"text\":\"0.25\",\"x\":16,\"xref\":\"x\",\"y\":\"Load_StatusRefrigerator \",\"yref\":\"y\"},{\"showarrow\":false,\"text\":\"0.25\",\"x\":17,\"xref\":\"x\",\"y\":\"Load_StatusRefrigerator \",\"yref\":\"y\"},{\"showarrow\":false,\"text\":\"0.5\",\"x\":18,\"xref\":\"x\",\"y\":\"Load_StatusRefrigerator \",\"yref\":\"y\"},{\"showarrow\":false,\"text\":\"0.5\",\"x\":19,\"xref\":\"x\",\"y\":\"Load_StatusRefrigerator \",\"yref\":\"y\"},{\"showarrow\":false,\"text\":\"0.5\",\"x\":20,\"xref\":\"x\",\"y\":\"Load_StatusRefrigerator \",\"yref\":\"y\"},{\"showarrow\":false,\"text\":\"0.5\",\"x\":21,\"xref\":\"x\",\"y\":\"Load_StatusRefrigerator \",\"yref\":\"y\"},{\"showarrow\":false,\"text\":\"0.5\",\"x\":22,\"xref\":\"x\",\"y\":\"Load_StatusRefrigerator \",\"yref\":\"y\"},{\"showarrow\":false,\"text\":\"0.5\",\"x\":23,\"xref\":\"x\",\"y\":\"Load_StatusRefrigerator \",\"yref\":\"y\"},{\"showarrow\":false,\"text\":\"\",\"x\":0,\"xref\":\"x\",\"y\":\"Load_StatusMicrowave \",\"yref\":\"y\"},{\"showarrow\":false,\"text\":\"\",\"x\":1,\"xref\":\"x\",\"y\":\"Load_StatusMicrowave \",\"yref\":\"y\"},{\"showarrow\":false,\"text\":\"\",\"x\":2,\"xref\":\"x\",\"y\":\"Load_StatusMicrowave \",\"yref\":\"y\"},{\"showarrow\":false,\"text\":\"\",\"x\":3,\"xref\":\"x\",\"y\":\"Load_StatusMicrowave \",\"yref\":\"y\"},{\"showarrow\":false,\"text\":\"\",\"x\":4,\"xref\":\"x\",\"y\":\"Load_StatusMicrowave \",\"yref\":\"y\"},{\"showarrow\":false,\"text\":\"0.03\",\"x\":5,\"xref\":\"x\",\"y\":\"Load_StatusMicrowave \",\"yref\":\"y\"},{\"showarrow\":false,\"text\":\"0.84\",\"x\":6,\"xref\":\"x\",\"y\":\"Load_StatusMicrowave \",\"yref\":\"y\"},{\"showarrow\":false,\"text\":\"\",\"x\":7,\"xref\":\"x\",\"y\":\"Load_StatusMicrowave \",\"yref\":\"y\"},{\"showarrow\":false,\"text\":\"0.01\",\"x\":8,\"xref\":\"x\",\"y\":\"Load_StatusMicrowave \",\"yref\":\"y\"},{\"showarrow\":false,\"text\":\"0.35\",\"x\":9,\"xref\":\"x\",\"y\":\"Load_StatusMicrowave \",\"yref\":\"y\"},{\"showarrow\":false,\"text\":\"\",\"x\":10,\"xref\":\"x\",\"y\":\"Load_StatusMicrowave \",\"yref\":\"y\"},{\"showarrow\":false,\"text\":\"\",\"x\":11,\"xref\":\"x\",\"y\":\"Load_StatusMicrowave \",\"yref\":\"y\"},{\"showarrow\":false,\"text\":\"0.33\",\"x\":12,\"xref\":\"x\",\"y\":\"Load_StatusMicrowave \",\"yref\":\"y\"},{\"showarrow\":false,\"text\":\"0.01\",\"x\":13,\"xref\":\"x\",\"y\":\"Load_StatusMicrowave \",\"yref\":\"y\"},{\"showarrow\":false,\"text\":\"\",\"x\":14,\"xref\":\"x\",\"y\":\"Load_StatusMicrowave \",\"yref\":\"y\"},{\"showarrow\":false,\"text\":\"\",\"x\":15,\"xref\":\"x\",\"y\":\"Load_StatusMicrowave \",\"yref\":\"y\"},{\"showarrow\":false,\"text\":\"\",\"x\":16,\"xref\":\"x\",\"y\":\"Load_StatusMicrowave \",\"yref\":\"y\"},{\"showarrow\":false,\"text\":\"\",\"x\":17,\"xref\":\"x\",\"y\":\"Load_StatusMicrowave \",\"yref\":\"y\"},{\"showarrow\":false,\"text\":\"1.0\",\"x\":18,\"xref\":\"x\",\"y\":\"Load_StatusMicrowave \",\"yref\":\"y\"},{\"showarrow\":false,\"text\":\"\",\"x\":19,\"xref\":\"x\",\"y\":\"Load_StatusMicrowave \",\"yref\":\"y\"},{\"showarrow\":false,\"text\":\"\",\"x\":20,\"xref\":\"x\",\"y\":\"Load_StatusMicrowave \",\"yref\":\"y\"},{\"showarrow\":false,\"text\":\"\",\"x\":21,\"xref\":\"x\",\"y\":\"Load_StatusMicrowave \",\"yref\":\"y\"},{\"showarrow\":false,\"text\":\"\",\"x\":22,\"xref\":\"x\",\"y\":\"Load_StatusMicrowave \",\"yref\":\"y\"},{\"showarrow\":false,\"text\":\"\",\"x\":23,\"xref\":\"x\",\"y\":\"Load_StatusMicrowave \",\"yref\":\"y\"}],\"yaxis\":{\"title\":{\"text\":\"Appliance\"},\"showticklabels\":true}},                        {\"responsive\": true}                    ).then(function(){\n                            \nvar gd = document.getElementById('8a6bee09-4468-44ea-b21a-6d5e3671492d');\nvar x = new MutationObserver(function (mutations, observer) {{\n        var display = window.getComputedStyle(gd).display;\n        if (!display || display === 'none') {{\n            console.log([gd, 'removed!']);\n            Plotly.purge(gd);\n            observer.disconnect();\n        }}\n}});\n\n// Listen for the removal of the full notebook cells\nvar notebookContainer = gd.closest('#notebook-container');\nif (notebookContainer) {{\n    x.observe(notebookContainer, {childList: true});\n}}\n\n// Listen for the clearing of the current output cell\nvar outputEl = gd.closest('.output');\nif (outputEl) {{\n    x.observe(outputEl, {childList: true});\n}}\n\n                        })                };                });            </script>        </div>"
     },
     "metadata": {},
     "output_type": "display_data"
    }
   ],
   "source": [
    "import plotly.graph_objects as go\n",
    "from Project._02PreliminaryDataAnalysis.energy_status_heatmap import normalise_dataframe\n",
    "\n",
    "#set up data to heatmap\n",
    "columns = hourON.columns[1:].tolist()\n",
    "hourON[columns] = normalise_dataframe(hourON[columns]).copy()\n",
    "z_data = []\n",
    "for i in hourON[columns]:\n",
    "    data_list = hourON[i].round(2).values.tolist()\n",
    "    z_data.append(data_list)\n",
    "\n",
    "#Annotate z_values\n",
    "annotations = go.Annotations()\n",
    "for n, row in enumerate(z_data):\n",
    "    for m, val in enumerate(row):\n",
    "        annotations.append(go.Annotation(text=\"\" if z_data[n][m] == 0 else str(z_data[n][m]),\n",
    "                                         x=hourON[\"HourOfTimestamp\"][m], y=columns[n], xref='x1', yref='y1',\n",
    "                                         showarrow=False))\n",
    "\n",
    "#Create heatmap\n",
    "fig = go.Figure(data=go.Heatmap(\n",
    "    z=z_data,\n",
    "    x=hourON[\"HourOfTimestamp\"],\n",
    "    y=columns,\n",
    "    colorscale='Teal')\n",
    ")\n",
    "\n",
    "fig.update_layout(margin=dict(\n",
    "    l=30,\n",
    "    r=30,\n",
    "    b=30,\n",
    "    t=50,),\n",
    "    font=dict(size=16),\n",
    "    xaxis_nticks=30,\n",
    "    annotations=annotations, )\n",
    "\n",
    "fig.update_xaxes(title=\"Hour of day\")\n",
    "fig.update_yaxes(title=\"Appliance\", showticklabels=True)\n",
    "fig.update_layout(template='plotly')\n",
    "fig.write_html(Db.get_save_file_directory(f\"Appliance_on_ratio_heatmap.html\"))\n",
    "fig.show()"
   ]
  },
  {
   "cell_type": "code",
   "execution_count": null,
   "outputs": [],
   "source": [
    "#Extracts hour of Timestamp.\n",
    "year1_hourly[\"HourOfTimestamp\"] = year1_hourly.Timestamp.dt.hour\n",
    "\n",
    "#Creates a dataframe with counts of \"StatusOffOn\" = 1, grouped by HourOfTimestamp for all attributes in year1_hours\n",
    "hourON_all = year1_hourly.groupby([\"HourOfTimestamp\"])[status_columns].sum()\n",
    "\n",
    "#set up data to heatmap\n",
    "columns = hourON_all.columns[1:].tolist()\n",
    "hourON_all[columns] = normalise_dataframe(hourON_all[columns])\n",
    "hourON_all[\"HourOfTimestamp\"] = hourON_all.index\n",
    "z_data = []\n",
    "for i in hourON_all[columns]:\n",
    "    data_list = hourON_all[i].round(2).values.tolist()\n",
    "    z_data.append(data_list)\n",
    "\n",
    "#Annotate z_values\n",
    "annotations = go.Annotations()\n",
    "for n, row in enumerate(z_data):\n",
    "    for m, val in enumerate(row):\n",
    "        annotations.append(go.Annotation(text=\"\" if z_data[n][m] == 0 else str(z_data[n][m]),\n",
    "                                         x=hourON_all[\"HourOfTimestamp\"][m], y=columns[n], xref='x1', yref='y1',\n",
    "                                         showarrow=False))\n",
    "\n",
    "#Create heatmap\n",
    "fig = go.Figure(data=go.Heatmap(\n",
    "    z=z_data,\n",
    "    x=hourON_all[\"HourOfTimestamp\"],\n",
    "    y=columns,\n",
    "    colorscale='Teal')\n",
    ")\n",
    "\n",
    "fig.update_layout(\n",
    "    margin=dict(\n",
    "        l=30,\n",
    "        r=30,\n",
    "        b=30,\n",
    "        t=50, ),\n",
    "    xaxis_nticks=30,\n",
    "    annotations=annotations)\n",
    "\n",
    "fig.update_xaxes(title=\"Hour of day\")\n",
    "fig.update_yaxes(title=\"Appliance\", showticklabels=True)\n",
    "\n",
    "fig.show()"
   ],
   "metadata": {
    "collapsed": false,
    "pycharm": {
     "name": "#%%\n"
    }
   }
  },
  {
   "cell_type": "code",
   "execution_count": null,
   "outputs": [],
   "source": [],
   "metadata": {
    "collapsed": false,
    "pycharm": {
     "name": "#%%\n"
    }
   }
  }
 ],
 "metadata": {
  "kernelspec": {
   "display_name": "Python 3",
   "language": "python",
   "name": "python3"
  },
  "language_info": {
   "codemirror_mode": {
    "name": "ipython",
    "version": 2
   },
   "file_extension": ".py",
   "mimetype": "text/x-python",
   "name": "python",
   "nbconvert_exporter": "python",
   "pygments_lexer": "ipython2",
   "version": "2.7.6"
  }
 },
 "nbformat": 4,
 "nbformat_minor": 0
}
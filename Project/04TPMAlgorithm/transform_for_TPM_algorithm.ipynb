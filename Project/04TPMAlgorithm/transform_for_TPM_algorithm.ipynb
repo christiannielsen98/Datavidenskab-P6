{
 "cells": [
  {
   "cell_type": "code",
   "execution_count": 52,
   "outputs": [],
   "source": [
    "import pandas as pd\n",
    "import plotly.express as px\n",
    "import re\n",
    "import datetime\n",
    "import numpy as np\n",
    "\n",
    "from Project.Database import Db"
   ],
   "metadata": {
    "collapsed": false,
    "pycharm": {
     "name": "#%%\n"
    }
   }
  },
  {
   "cell_type": "markdown",
   "source": [
    "# Example data for the TPM"
   ],
   "metadata": {
    "collapsed": false
   }
  },
  {
   "cell_type": "code",
   "execution_count": 53,
   "outputs": [],
   "source": [
    "# pd.read_csv(\"/Users/christiannielsen/Documents/GitHub/Datavidenskab-P6/Project/TPM/Data/ISID.csv\")"
   ],
   "metadata": {
    "collapsed": false,
    "pycharm": {
     "name": "#%%\n"
    }
   }
  },
  {
   "cell_type": "code",
   "execution_count": 54,
   "outputs": [],
   "source": [
    "# pd.read_json(\n",
    "#     path_or_buf=\"/Users/christiannielsen/Documents/GitHub/Datavidenskab-P6/Project/TPM/output/Experiment_minsup0.1_minconf_0.1/level1.json\",\n",
    "#     orient='name_node')"
   ],
   "metadata": {
    "collapsed": false,
    "pycharm": {
     "name": "#%%\n"
    }
   }
  },
  {
   "cell_type": "code",
   "execution_count": 55,
   "metadata": {
    "collapsed": true
   },
   "outputs": [],
   "source": [
    "year1_minutes, meta = Db.load_data(hourly=False, meta=True, year=1)"
   ]
  },
  {
   "cell_type": "code",
   "execution_count": 56,
   "outputs": [
    {
     "data": {
      "text/plain": "                             Unnamed: 0 Subsystem Measurement_Location  \\\n0             DHW_ClothesWasherColdFlow       DHW              Utility   \n1              DHW_ClothesWasherHotFlow       DHW              Utility   \n2                 DHW_DishwasherHotFlow       DHW              Kitchen   \n3    DHW_HeatPumpWaterHeaterEnergyTotal       DHW             Basement   \n4     DHW_HeatPumpWaterHeaterPowerTotal       DHW             Basement   \n..                                  ...       ...                  ...   \n350       HVAC_HeatPumpOutdoorUnitPower     HVAC               Outdoor   \n351            HVAC_DehumidifierAirflow      HVAC             Basement   \n352        HVAC_DehumidifierExitAirTemp      HVAC             Basement   \n353       HVAC_DehumidifierInletAirTemp      HVAC             Basement   \n354              HVAC_DehumidifierPower      HVAC             Basement   \n\n             Parameter                                        Description  \\\n0           Flow_Water  The cumulative volume of cold water flowing in...   \n1           Flow_Water  The cumulative volume of hot water flowing int...   \n2           Flow_Water  The cumulative volume of hot water flowing int...   \n3    Energy_Electrical  Cumulative energy consumption by heat pump wat...   \n4     Power_Electrical  Instantaneous power consumption by heat pump w...   \n..                 ...                                                ...   \n350   Power_Electrical  Average power consumption of heat pump outdoor...   \n351           Flow_Air  Average airflow through dedicated dehumidifier...   \n352           Temp_Air  Average temperature of air in outlet duct from...   \n353           Temp_Air  Average temperature of air in inlet duct to de...   \n354   Power_Electrical  Average power consumption of dedicated dehumid...   \n\n         Units Aggregation_Method  min_value    max_value  \n0      Gallons         Hour value     0.0000      33.0646  \n1      Gallons         Hour value     0.0000     201.6969  \n2      Gallons         Hour value     0.0000       4.6367  \n3           Wh         Hour value     0.0000  188169.7774  \n4            W            Average     0.0000    4368.8008  \n..         ...                ...        ...          ...  \n350          W            Average   -68.7461    8624.9120  \n351    ft3/min            Average        NaN          NaN  \n352  degrees F            Average        NaN          NaN  \n353  degrees F            Average        NaN          NaN  \n354          W            Average        NaN          NaN  \n\n[355 rows x 9 columns]",
      "text/html": "<div>\n<style scoped>\n    .dataframe tbody tr th:only-of-type {\n        vertical-align: middle;\n    }\n\n    .dataframe tbody tr th {\n        vertical-align: top;\n    }\n\n    .dataframe thead th {\n        text-align: right;\n    }\n</style>\n<table border=\"1\" class=\"dataframe\">\n  <thead>\n    <tr style=\"text-align: right;\">\n      <th></th>\n      <th>Unnamed: 0</th>\n      <th>Subsystem</th>\n      <th>Measurement_Location</th>\n      <th>Parameter</th>\n      <th>Description</th>\n      <th>Units</th>\n      <th>Aggregation_Method</th>\n      <th>min_value</th>\n      <th>max_value</th>\n    </tr>\n  </thead>\n  <tbody>\n    <tr>\n      <th>0</th>\n      <td>DHW_ClothesWasherColdFlow</td>\n      <td>DHW</td>\n      <td>Utility</td>\n      <td>Flow_Water</td>\n      <td>The cumulative volume of cold water flowing in...</td>\n      <td>Gallons</td>\n      <td>Hour value</td>\n      <td>0.0000</td>\n      <td>33.0646</td>\n    </tr>\n    <tr>\n      <th>1</th>\n      <td>DHW_ClothesWasherHotFlow</td>\n      <td>DHW</td>\n      <td>Utility</td>\n      <td>Flow_Water</td>\n      <td>The cumulative volume of hot water flowing int...</td>\n      <td>Gallons</td>\n      <td>Hour value</td>\n      <td>0.0000</td>\n      <td>201.6969</td>\n    </tr>\n    <tr>\n      <th>2</th>\n      <td>DHW_DishwasherHotFlow</td>\n      <td>DHW</td>\n      <td>Kitchen</td>\n      <td>Flow_Water</td>\n      <td>The cumulative volume of hot water flowing int...</td>\n      <td>Gallons</td>\n      <td>Hour value</td>\n      <td>0.0000</td>\n      <td>4.6367</td>\n    </tr>\n    <tr>\n      <th>3</th>\n      <td>DHW_HeatPumpWaterHeaterEnergyTotal</td>\n      <td>DHW</td>\n      <td>Basement</td>\n      <td>Energy_Electrical</td>\n      <td>Cumulative energy consumption by heat pump wat...</td>\n      <td>Wh</td>\n      <td>Hour value</td>\n      <td>0.0000</td>\n      <td>188169.7774</td>\n    </tr>\n    <tr>\n      <th>4</th>\n      <td>DHW_HeatPumpWaterHeaterPowerTotal</td>\n      <td>DHW</td>\n      <td>Basement</td>\n      <td>Power_Electrical</td>\n      <td>Instantaneous power consumption by heat pump w...</td>\n      <td>W</td>\n      <td>Average</td>\n      <td>0.0000</td>\n      <td>4368.8008</td>\n    </tr>\n    <tr>\n      <th>...</th>\n      <td>...</td>\n      <td>...</td>\n      <td>...</td>\n      <td>...</td>\n      <td>...</td>\n      <td>...</td>\n      <td>...</td>\n      <td>...</td>\n      <td>...</td>\n    </tr>\n    <tr>\n      <th>350</th>\n      <td>HVAC_HeatPumpOutdoorUnitPower</td>\n      <td>HVAC</td>\n      <td>Outdoor</td>\n      <td>Power_Electrical</td>\n      <td>Average power consumption of heat pump outdoor...</td>\n      <td>W</td>\n      <td>Average</td>\n      <td>-68.7461</td>\n      <td>8624.9120</td>\n    </tr>\n    <tr>\n      <th>351</th>\n      <td>HVAC_DehumidifierAirflow</td>\n      <td>HVAC</td>\n      <td>Basement</td>\n      <td>Flow_Air</td>\n      <td>Average airflow through dedicated dehumidifier...</td>\n      <td>ft3/min</td>\n      <td>Average</td>\n      <td>NaN</td>\n      <td>NaN</td>\n    </tr>\n    <tr>\n      <th>352</th>\n      <td>HVAC_DehumidifierExitAirTemp</td>\n      <td>HVAC</td>\n      <td>Basement</td>\n      <td>Temp_Air</td>\n      <td>Average temperature of air in outlet duct from...</td>\n      <td>degrees F</td>\n      <td>Average</td>\n      <td>NaN</td>\n      <td>NaN</td>\n    </tr>\n    <tr>\n      <th>353</th>\n      <td>HVAC_DehumidifierInletAirTemp</td>\n      <td>HVAC</td>\n      <td>Basement</td>\n      <td>Temp_Air</td>\n      <td>Average temperature of air in inlet duct to de...</td>\n      <td>degrees F</td>\n      <td>Average</td>\n      <td>NaN</td>\n      <td>NaN</td>\n    </tr>\n    <tr>\n      <th>354</th>\n      <td>HVAC_DehumidifierPower</td>\n      <td>HVAC</td>\n      <td>Basement</td>\n      <td>Power_Electrical</td>\n      <td>Average power consumption of dedicated dehumid...</td>\n      <td>W</td>\n      <td>Average</td>\n      <td>NaN</td>\n      <td>NaN</td>\n    </tr>\n  </tbody>\n</table>\n<p>355 rows × 9 columns</p>\n</div>"
     },
     "execution_count": 56,
     "metadata": {},
     "output_type": "execute_result"
    }
   ],
   "source": [
    "meta"
   ],
   "metadata": {
    "collapsed": false,
    "pycharm": {
     "name": "#%%\n"
    }
   }
  },
  {
   "cell_type": "code",
   "execution_count": 57,
   "outputs": [
    {
     "ename": "AttributeError",
     "evalue": "Can only use .str accessor with string values!",
     "output_type": "error",
     "traceback": [
      "\u001B[0;31m---------------------------------------------------------------------------\u001B[0m",
      "\u001B[0;31mAttributeError\u001B[0m                            Traceback (most recent call last)",
      "\u001B[0;32m/var/folders/bd/t85lw5j14_vc55x5tn1xbmr00000gn/T/ipykernel_1126/2957008531.py\u001B[0m in \u001B[0;36m<module>\u001B[0;34m\u001B[0m\n\u001B[1;32m      9\u001B[0m ))\n\u001B[1;32m     10\u001B[0m \u001B[0;34m\u001B[0m\u001B[0m\n\u001B[0;32m---> 11\u001B[0;31m \u001B[0mappliances_statusOnOff\u001B[0m \u001B[0;34m=\u001B[0m \u001B[0mmeta\u001B[0m\u001B[0;34m.\u001B[0m\u001B[0mloc\u001B[0m\u001B[0;34m[\u001B[0m\u001B[0mappliance_condition\u001B[0m\u001B[0;34m]\u001B[0m\u001B[0;34m.\u001B[0m\u001B[0mindex\u001B[0m\u001B[0;34m.\u001B[0m\u001B[0mtolist\u001B[0m\u001B[0;34m(\u001B[0m\u001B[0;34m)\u001B[0m\u001B[0;34m\u001B[0m\u001B[0;34m\u001B[0m\u001B[0m\n\u001B[0m",
      "\u001B[0;32m~/Documents/Conda_environments/lib/python3.9/site-packages/pandas/core/indexing.py\u001B[0m in \u001B[0;36m__getitem__\u001B[0;34m(self, key)\u001B[0m\n\u001B[1;32m    964\u001B[0m             \u001B[0maxis\u001B[0m \u001B[0;34m=\u001B[0m \u001B[0mself\u001B[0m\u001B[0;34m.\u001B[0m\u001B[0maxis\u001B[0m \u001B[0;32mor\u001B[0m \u001B[0;36m0\u001B[0m\u001B[0;34m\u001B[0m\u001B[0;34m\u001B[0m\u001B[0m\n\u001B[1;32m    965\u001B[0m \u001B[0;34m\u001B[0m\u001B[0m\n\u001B[0;32m--> 966\u001B[0;31m             \u001B[0mmaybe_callable\u001B[0m \u001B[0;34m=\u001B[0m \u001B[0mcom\u001B[0m\u001B[0;34m.\u001B[0m\u001B[0mapply_if_callable\u001B[0m\u001B[0;34m(\u001B[0m\u001B[0mkey\u001B[0m\u001B[0;34m,\u001B[0m \u001B[0mself\u001B[0m\u001B[0;34m.\u001B[0m\u001B[0mobj\u001B[0m\u001B[0;34m)\u001B[0m\u001B[0;34m\u001B[0m\u001B[0;34m\u001B[0m\u001B[0m\n\u001B[0m\u001B[1;32m    967\u001B[0m             \u001B[0;32mreturn\u001B[0m \u001B[0mself\u001B[0m\u001B[0;34m.\u001B[0m\u001B[0m_getitem_axis\u001B[0m\u001B[0;34m(\u001B[0m\u001B[0mmaybe_callable\u001B[0m\u001B[0;34m,\u001B[0m \u001B[0maxis\u001B[0m\u001B[0;34m=\u001B[0m\u001B[0maxis\u001B[0m\u001B[0;34m)\u001B[0m\u001B[0;34m\u001B[0m\u001B[0;34m\u001B[0m\u001B[0m\n\u001B[1;32m    968\u001B[0m \u001B[0;34m\u001B[0m\u001B[0m\n",
      "\u001B[0;32m~/Documents/Conda_environments/lib/python3.9/site-packages/pandas/core/common.py\u001B[0m in \u001B[0;36mapply_if_callable\u001B[0;34m(maybe_callable, obj, **kwargs)\u001B[0m\n\u001B[1;32m    356\u001B[0m     \"\"\"\n\u001B[1;32m    357\u001B[0m     \u001B[0;32mif\u001B[0m \u001B[0mcallable\u001B[0m\u001B[0;34m(\u001B[0m\u001B[0mmaybe_callable\u001B[0m\u001B[0;34m)\u001B[0m\u001B[0;34m:\u001B[0m\u001B[0;34m\u001B[0m\u001B[0;34m\u001B[0m\u001B[0m\n\u001B[0;32m--> 358\u001B[0;31m         \u001B[0;32mreturn\u001B[0m \u001B[0mmaybe_callable\u001B[0m\u001B[0;34m(\u001B[0m\u001B[0mobj\u001B[0m\u001B[0;34m,\u001B[0m \u001B[0;34m**\u001B[0m\u001B[0mkwargs\u001B[0m\u001B[0;34m)\u001B[0m\u001B[0;34m\u001B[0m\u001B[0;34m\u001B[0m\u001B[0m\n\u001B[0m\u001B[1;32m    359\u001B[0m \u001B[0;34m\u001B[0m\u001B[0m\n\u001B[1;32m    360\u001B[0m     \u001B[0;32mreturn\u001B[0m \u001B[0mmaybe_callable\u001B[0m\u001B[0;34m\u001B[0m\u001B[0;34m\u001B[0m\u001B[0m\n",
      "\u001B[0;32m/var/folders/bd/t85lw5j14_vc55x5tn1xbmr00000gn/T/ipykernel_1126/2957008531.py\u001B[0m in \u001B[0;36m<lambda>\u001B[0;34m(self)\u001B[0m\n\u001B[1;32m      2\u001B[0m         \u001B[0;34m(\u001B[0m\u001B[0mself\u001B[0m\u001B[0;34m[\u001B[0m\u001B[0;34m\"Parameter\"\u001B[0m\u001B[0;34m]\u001B[0m \u001B[0;34m==\u001B[0m \u001B[0;34m\"Status_OnOff\"\u001B[0m\u001B[0;34m)\u001B[0m \u001B[0;34m&\u001B[0m\u001B[0;34m\u001B[0m\u001B[0;34m\u001B[0m\u001B[0m\n\u001B[1;32m      3\u001B[0m         \u001B[0;34m(\u001B[0m\u001B[0mself\u001B[0m\u001B[0;34m[\u001B[0m\u001B[0;34m\"Subsystem\"\u001B[0m\u001B[0;34m]\u001B[0m \u001B[0;34m==\u001B[0m \u001B[0;34m\"Loads\"\u001B[0m\u001B[0;34m)\u001B[0m \u001B[0;34m&\u001B[0m\u001B[0;34m\u001B[0m\u001B[0;34m\u001B[0m\u001B[0m\n\u001B[0;32m----> 4\u001B[0;31m         \u001B[0;34m(\u001B[0m\u001B[0;34m~\u001B[0m\u001B[0mself\u001B[0m\u001B[0;34m.\u001B[0m\u001B[0mindex\u001B[0m\u001B[0;34m.\u001B[0m\u001B[0mstr\u001B[0m\u001B[0;34m.\u001B[0m\u001B[0mcontains\u001B[0m\u001B[0;34m(\u001B[0m\u001B[0;34m\"Child\"\u001B[0m\u001B[0;34m)\u001B[0m\u001B[0;34m)\u001B[0m \u001B[0;34m&\u001B[0m\u001B[0;34m\u001B[0m\u001B[0;34m\u001B[0m\u001B[0m\n\u001B[0m\u001B[1;32m      5\u001B[0m         \u001B[0;34m(\u001B[0m\u001B[0;34m~\u001B[0m\u001B[0mself\u001B[0m\u001B[0;34m.\u001B[0m\u001B[0mindex\u001B[0m\u001B[0;34m.\u001B[0m\u001B[0mstr\u001B[0m\u001B[0;34m.\u001B[0m\u001B[0mcontains\u001B[0m\u001B[0;34m(\u001B[0m\u001B[0;34m\"Prnt\"\u001B[0m\u001B[0;34m)\u001B[0m\u001B[0;34m)\u001B[0m \u001B[0;34m&\u001B[0m\u001B[0;34m\u001B[0m\u001B[0;34m\u001B[0m\u001B[0m\n\u001B[1;32m      6\u001B[0m         \u001B[0;34m(\u001B[0m\u001B[0;34m~\u001B[0m\u001B[0mself\u001B[0m\u001B[0;34m.\u001B[0m\u001B[0mindex\u001B[0m\u001B[0;34m.\u001B[0m\u001B[0mstr\u001B[0m\u001B[0;34m.\u001B[0m\u001B[0mcontains\u001B[0m\u001B[0;34m(\u001B[0m\u001B[0;34m\"StatusLatentload\"\u001B[0m\u001B[0;34m)\u001B[0m\u001B[0;34m)\u001B[0m \u001B[0;34m&\u001B[0m\u001B[0;34m\u001B[0m\u001B[0;34m\u001B[0m\u001B[0m\n",
      "\u001B[0;32m~/Documents/Conda_environments/lib/python3.9/site-packages/pandas/core/accessor.py\u001B[0m in \u001B[0;36m__get__\u001B[0;34m(self, obj, cls)\u001B[0m\n\u001B[1;32m    180\u001B[0m             \u001B[0;31m# we're accessing the attribute of the class, i.e., Dataset.geo\u001B[0m\u001B[0;34m\u001B[0m\u001B[0;34m\u001B[0m\u001B[0m\n\u001B[1;32m    181\u001B[0m             \u001B[0;32mreturn\u001B[0m \u001B[0mself\u001B[0m\u001B[0;34m.\u001B[0m\u001B[0m_accessor\u001B[0m\u001B[0;34m\u001B[0m\u001B[0;34m\u001B[0m\u001B[0m\n\u001B[0;32m--> 182\u001B[0;31m         \u001B[0maccessor_obj\u001B[0m \u001B[0;34m=\u001B[0m \u001B[0mself\u001B[0m\u001B[0;34m.\u001B[0m\u001B[0m_accessor\u001B[0m\u001B[0;34m(\u001B[0m\u001B[0mobj\u001B[0m\u001B[0;34m)\u001B[0m\u001B[0;34m\u001B[0m\u001B[0;34m\u001B[0m\u001B[0m\n\u001B[0m\u001B[1;32m    183\u001B[0m         \u001B[0;31m# Replace the property with the accessor object. Inspired by:\u001B[0m\u001B[0;34m\u001B[0m\u001B[0;34m\u001B[0m\u001B[0m\n\u001B[1;32m    184\u001B[0m         \u001B[0;31m# https://www.pydanny.com/cached-property.html\u001B[0m\u001B[0;34m\u001B[0m\u001B[0;34m\u001B[0m\u001B[0m\n",
      "\u001B[0;32m~/Documents/Conda_environments/lib/python3.9/site-packages/pandas/core/strings/accessor.py\u001B[0m in \u001B[0;36m__init__\u001B[0;34m(self, data)\u001B[0m\n\u001B[1;32m    175\u001B[0m         \u001B[0;32mfrom\u001B[0m \u001B[0mpandas\u001B[0m\u001B[0;34m.\u001B[0m\u001B[0mcore\u001B[0m\u001B[0;34m.\u001B[0m\u001B[0marrays\u001B[0m\u001B[0;34m.\u001B[0m\u001B[0mstring_\u001B[0m \u001B[0;32mimport\u001B[0m \u001B[0mStringDtype\u001B[0m\u001B[0;34m\u001B[0m\u001B[0;34m\u001B[0m\u001B[0m\n\u001B[1;32m    176\u001B[0m \u001B[0;34m\u001B[0m\u001B[0m\n\u001B[0;32m--> 177\u001B[0;31m         \u001B[0mself\u001B[0m\u001B[0;34m.\u001B[0m\u001B[0m_inferred_dtype\u001B[0m \u001B[0;34m=\u001B[0m \u001B[0mself\u001B[0m\u001B[0;34m.\u001B[0m\u001B[0m_validate\u001B[0m\u001B[0;34m(\u001B[0m\u001B[0mdata\u001B[0m\u001B[0;34m)\u001B[0m\u001B[0;34m\u001B[0m\u001B[0;34m\u001B[0m\u001B[0m\n\u001B[0m\u001B[1;32m    178\u001B[0m         \u001B[0mself\u001B[0m\u001B[0;34m.\u001B[0m\u001B[0m_is_categorical\u001B[0m \u001B[0;34m=\u001B[0m \u001B[0mis_categorical_dtype\u001B[0m\u001B[0;34m(\u001B[0m\u001B[0mdata\u001B[0m\u001B[0;34m.\u001B[0m\u001B[0mdtype\u001B[0m\u001B[0;34m)\u001B[0m\u001B[0;34m\u001B[0m\u001B[0;34m\u001B[0m\u001B[0m\n\u001B[1;32m    179\u001B[0m         \u001B[0mself\u001B[0m\u001B[0;34m.\u001B[0m\u001B[0m_is_string\u001B[0m \u001B[0;34m=\u001B[0m \u001B[0misinstance\u001B[0m\u001B[0;34m(\u001B[0m\u001B[0mdata\u001B[0m\u001B[0;34m.\u001B[0m\u001B[0mdtype\u001B[0m\u001B[0;34m,\u001B[0m \u001B[0mStringDtype\u001B[0m\u001B[0;34m)\u001B[0m\u001B[0;34m\u001B[0m\u001B[0;34m\u001B[0m\u001B[0m\n",
      "\u001B[0;32m~/Documents/Conda_environments/lib/python3.9/site-packages/pandas/core/strings/accessor.py\u001B[0m in \u001B[0;36m_validate\u001B[0;34m(data)\u001B[0m\n\u001B[1;32m    229\u001B[0m \u001B[0;34m\u001B[0m\u001B[0m\n\u001B[1;32m    230\u001B[0m         \u001B[0;32mif\u001B[0m \u001B[0minferred_dtype\u001B[0m \u001B[0;32mnot\u001B[0m \u001B[0;32min\u001B[0m \u001B[0mallowed_types\u001B[0m\u001B[0;34m:\u001B[0m\u001B[0;34m\u001B[0m\u001B[0;34m\u001B[0m\u001B[0m\n\u001B[0;32m--> 231\u001B[0;31m             \u001B[0;32mraise\u001B[0m \u001B[0mAttributeError\u001B[0m\u001B[0;34m(\u001B[0m\u001B[0;34m\"Can only use .str accessor with string values!\"\u001B[0m\u001B[0;34m)\u001B[0m\u001B[0;34m\u001B[0m\u001B[0;34m\u001B[0m\u001B[0m\n\u001B[0m\u001B[1;32m    232\u001B[0m         \u001B[0;32mreturn\u001B[0m \u001B[0minferred_dtype\u001B[0m\u001B[0;34m\u001B[0m\u001B[0;34m\u001B[0m\u001B[0m\n\u001B[1;32m    233\u001B[0m \u001B[0;34m\u001B[0m\u001B[0m\n",
      "\u001B[0;31mAttributeError\u001B[0m: Can only use .str accessor with string values!"
     ]
    }
   ],
   "source": [
    "appliance_condition = (lambda self: (\n",
    "        (self[\"Parameter\"] == \"Status_OnOff\") &\n",
    "        (self[\"Subsystem\"] == \"Loads\") &\n",
    "        (~self.index.str.contains(\"Child\")) &\n",
    "        (~self.index.str.contains(\"Prnt\")) &\n",
    "        (~self.index.str.contains(\"StatusLatentload\")) &\n",
    "        (~self.index.str.contains(\"Load_StatusClothesWasher\")) &\n",
    "        (~self.index.str.contains(\"Load_StatusDryerPowerTotal\"))\n",
    "))\n",
    "\n",
    "appliances_statusOnOff = meta.loc[appliance_condition].index.tolist()"
   ],
   "metadata": {
    "collapsed": false,
    "pycharm": {
     "name": "#%%\n"
    }
   }
  },
  {
   "cell_type": "code",
   "execution_count": null,
   "outputs": [],
   "source": [
    "#Replaces values to be binary 0 or 1.\n",
    "for i in appliances_statusOnOff:\n",
    "    year1_minutes.loc[year1_minutes[i] < 0, i] = 0\n",
    "    year1_minutes.loc[year1_minutes[i] > 0, i] = 1"
   ],
   "metadata": {
    "collapsed": false,
    "pycharm": {
     "name": "#%%\n"
    }
   }
  },
  {
   "cell_type": "code",
   "execution_count": null,
   "outputs": [],
   "source": [
    "minute_appliances_status = year1_minutes[[\"Timestamp\"] + appliances_statusOnOff].copy()"
   ],
   "metadata": {
    "collapsed": false,
    "pycharm": {
     "name": "#%%\n"
    }
   }
  },
  {
   "cell_type": "code",
   "execution_count": null,
   "outputs": [],
   "source": [
    "for col in meta[\"Measurement_Location\"].unique():\n",
    "    appliance_condition = (lambda self: (\n",
    "            (self[\"Parameter\"] == \"Status_OnOff\") &\n",
    "            (self.index.str.contains(\"Light\")) &\n",
    "            (self[\"Measurement_Location\"] == col)\n",
    "    ))\n",
    "    light_cols = meta.loc[appliance_condition].index\n",
    "    if len(light_cols) > 1:\n",
    "        minute_appliances_status[col + \" Lights\"] = minute_appliances_status[light_cols].max(1)\n",
    "        minute_appliances_status.drop(light_cols, axis= 1, inplace=True)\n",
    "        for attribute in light_cols:\n",
    "            appliances_statusOnOff.remove(attribute)\n",
    "        appliances_statusOnOff.append(col + \" Lights\")"
   ],
   "metadata": {
    "collapsed": false,
    "pycharm": {
     "name": "#%%\n"
    }
   }
  },
  {
   "cell_type": "code",
   "execution_count": null,
   "outputs": [],
   "source": [
    "#Forces Timestamp to the type of datetime, to extract the hour of Timestamp.\n",
    "minute_appliances_status[\"Timestamp\"] = pd.to_datetime(minute_appliances_status[\"Timestamp\"],\n",
    "                                                       format=\"%Y-%m-%d %H:%M:%S%z\", utc=True) - pd.to_timedelta(\n",
    "    unit=\"h\", arg=(\n",
    "        minute_appliances_status[\"Timestamp\"].astype(\"str\").str.split(pat=\"-\", expand=True)[lambda self: self.columns[-1]].str[\n",
    "            1]).astype(\n",
    "        int))\n",
    "\n",
    "#Extracts hour of Timestamp.\n",
    "minute_appliances_status[\"DayOfYear\"] = minute_appliances_status.Timestamp.dt.dayofyear"
   ],
   "metadata": {
    "collapsed": false,
    "pycharm": {
     "name": "#%%\n"
    }
   }
  },
  {
   "cell_type": "code",
   "execution_count": null,
   "outputs": [],
   "source": [
    "minute_appliances_status[\"DayOfYear\"] = minute_appliances_status.Timestamp.dt.dayofyear\n",
    "minute_appliances_status[\"DayOfYear\"] = minute_appliances_status[\"DayOfYear\"] -  minute_appliances_status[\"DayOfYear\"][0]\n",
    "minute_appliances_status[\"DayOfYear\"] = np.where(minute_appliances_status[\"DayOfYear\"] < 0, minute_appliances_status[\"DayOfYear\"] + 365, minute_appliances_status[\"DayOfYear\"])\n",
    "minute_appliances_status.loc[500000:].loc[lambda self: self[\"DayOfYear\"] == 0] = 365\n",
    "minute_appliances_status"
   ],
   "metadata": {
    "collapsed": false,
    "pycharm": {
     "name": "#%%\n"
    }
   }
  },
  {
   "cell_type": "code",
   "execution_count": null,
   "outputs": [],
   "source": [
    "# minute_appliances_status['Timestamp'] = (pd.to_datetime(minute_appliances_status[\"Timestamp\"],\n",
    "#                                                        format=\"%Y-%m-%d %H:%M:%S%z\", utc=True).astype(\"int\") / 1e9).astype(\"int\")"
   ],
   "metadata": {
    "collapsed": false,
    "pycharm": {
     "name": "#%%\n"
    }
   }
  },
  {
   "cell_type": "code",
   "execution_count": null,
   "outputs": [],
   "source": [
    "minute_appliances_status['Timestamp'] = (pd.DatetimeIndex ( minute_appliances_status[\"Timestamp\"] ).astype ( np.int64 )/1e9).astype(int)\n"
   ],
   "metadata": {
    "collapsed": false,
    "pycharm": {
     "name": "#%%\n"
    }
   }
  },
  {
   "cell_type": "code",
   "execution_count": null,
   "outputs": [],
   "source": [
    "minute_appliances_status[\"DayOfYear\"] = ((minute_appliances_status['Timestamp'] - minute_appliances_status['Timestamp'].min()) / (3600 * 24)).astype(\"int\")"
   ],
   "metadata": {
    "collapsed": false,
    "pycharm": {
     "name": "#%%\n"
    }
   }
  },
  {
   "cell_type": "code",
   "execution_count": null,
   "outputs": [],
   "source": [
    "minute_appliances_status"
   ],
   "metadata": {
    "collapsed": false,
    "pycharm": {
     "name": "#%%\n"
    }
   }
  },
  {
   "cell_type": "code",
   "execution_count": null,
   "outputs": [],
   "source": [
    "appliance_job_list = []\n",
    "\n",
    "for appliance in appliances_statusOnOff:\n",
    "    name = \" \".join(re.findall('[A-Z][^A-Z]*', appliance.split(\"Load_Status\")[-1]))\n",
    "    appliance_switch = minute_appliances_status[(minute_appliances_status[appliance] != minute_appliances_status[appliance].shift(1))][[\"Timestamp\", \"DayOfYear\", appliance]][1:]\n",
    "\n",
    "    df_indices = appliance_switch.index.tolist()\n",
    "    for index, df_index in enumerate(df_indices):\n",
    "        if appliance_switch.loc[df_index, appliance]:\n",
    "            try:\n",
    "                appliance_job_list.append({\"start\": appliance_switch.loc[df_index, \"Timestamp\"],\n",
    "                                           \"end\": appliance_switch.loc[df_indices[index + 1], \"Timestamp\"],\n",
    "                                           \"appliance\": name,\n",
    "                                           \"day\": appliance_switch.loc[df_indices[index], \"DayOfYear\"]\n",
    "                                           })\n",
    "            except:\n",
    "                continue\n",
    "\n",
    "appliance_job_list"
   ],
   "metadata": {
    "collapsed": false,
    "pycharm": {
     "name": "#%%\n"
    }
   }
  },
  {
   "cell_type": "code",
   "execution_count": null,
   "outputs": [],
   "source": [
    "df = pd.DataFrame(appliance_job_list).sort_values(by=['day', 'start']).reset_index(drop=True)\n",
    "df"
   ],
   "metadata": {
    "collapsed": false,
    "pycharm": {
     "name": "#%%\n"
    }
   }
  },
  {
   "cell_type": "code",
   "execution_count": null,
   "outputs": [],
   "source": [
    "df.to_csv(path_or_buf=Db.get_project_path(\"Project/04TPMAlgorithm/TPM/Data/houseDataWDryerAndWasher.csv\"), header=False, index=False)"
   ],
   "metadata": {
    "collapsed": false,
    "pycharm": {
     "name": "#%%\n"
    }
   }
  },
  {
   "cell_type": "code",
   "execution_count": null,
   "outputs": [],
   "source": [
    "df1 = pd.read_csv(Db.get_project_path(\"Project/04TPMAlgorithm/TPM/Data/houseData.csv\"), header=None)\n",
    "df2 = pd.read_csv(Db.get_project_path(\"Project/04TPMAlgorithm/TPM/Data/houseDataWDryerAndWasher.csv\"), header=None)"
   ],
   "metadata": {
    "collapsed": false,
    "pycharm": {
     "name": "#%%\n"
    }
   }
  },
  {
   "cell_type": "code",
   "execution_count": null,
   "outputs": [],
   "source": [
    "df1"
   ],
   "metadata": {
    "collapsed": false,
    "pycharm": {
     "name": "#%%\n"
    }
   }
  },
  {
   "cell_type": "code",
   "execution_count": null,
   "outputs": [],
   "source": [
    "df2"
   ],
   "metadata": {
    "collapsed": false,
    "pycharm": {
     "name": "#%%\n"
    }
   }
  },
  {
   "cell_type": "code",
   "execution_count": null,
   "outputs": [],
   "source": [
    "df_diff = pd.concat([df1,df2]).drop_duplicates(keep=False, ignore_index=True)"
   ],
   "metadata": {
    "collapsed": false,
    "pycharm": {
     "name": "#%%\n"
    }
   }
  },
  {
   "cell_type": "code",
   "execution_count": null,
   "outputs": [],
   "source": [
    "df_diff"
   ],
   "metadata": {
    "collapsed": false,
    "pycharm": {
     "name": "#%%\n"
    }
   }
  },
  {
   "cell_type": "code",
   "execution_count": null,
   "outputs": [],
   "source": [],
   "metadata": {
    "collapsed": false,
    "pycharm": {
     "name": "#%%\n"
    }
   }
  }
 ],
 "metadata": {
  "kernelspec": {
   "display_name": "Python 3",
   "language": "python",
   "name": "python3"
  },
  "language_info": {
   "codemirror_mode": {
    "name": "ipython",
    "version": 2
   },
   "file_extension": ".py",
   "mimetype": "text/x-python",
   "name": "python",
   "nbconvert_exporter": "python",
   "pygments_lexer": "ipython2",
   "version": "2.7.6"
  }
 },
 "nbformat": 4,
 "nbformat_minor": 0
}
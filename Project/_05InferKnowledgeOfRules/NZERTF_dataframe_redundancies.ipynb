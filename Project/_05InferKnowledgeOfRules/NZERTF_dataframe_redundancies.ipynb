{
 "cells": [
  {
   "cell_type": "code",
   "execution_count": 1,
   "metadata": {
    "collapsed": true
   },
   "outputs": [],
   "source": [
    "import pandas as pd\n",
    "\n",
    "from Project._05InferKnowledgeOfRules.NZERTF_dataframe_redundancy_functions import create_redundancy_dataframes, find_average_power_consumption_per_minute"
   ]
  },
  {
   "cell_type": "code",
   "execution_count": 2,
   "outputs": [],
   "source": [
    "timestamp_dict = create_redundancy_dataframes()"
   ],
   "metadata": {
    "collapsed": false,
    "pycharm": {
     "name": "#%%\n"
    }
   }
  },
  {
   "cell_type": "code",
   "execution_count": 3,
   "outputs": [],
   "source": [
    "power_consumption_df = find_average_power_consumption_per_minute().loc[lambda self: self.index.isin(timestamp_dict['Year1'].columns[1:])]"
   ],
   "metadata": {
    "collapsed": false,
    "pycharm": {
     "name": "#%%\n"
    }
   }
  },
  {
   "cell_type": "code",
   "execution_count": 4,
   "outputs": [
    {
     "data": {
      "text/plain": "                                      PowerConsumption(W/s)\nLoad_StatusBA1Lights                                   48.0\nLoad_StatusBA2Lights                                   11.0\nLoad_StatusBR2Lights                                   40.0\nLoad_StatusBR3Lights                                   33.0\nLoad_StatusBR4Lights                                   27.0\nLoad_StatusDRLights                                    38.0\nLoad_StatusEntryHallLights                             20.0\nLoad_StatusKitchenLightsA                              28.0\nLoad_StatusKitchenLightsB                              33.0\nLoad_StatusKitchenLightsC                              28.0\nLoad_StatusLRLights1                                   18.0\nLoad_StatusLRLights2                                   41.0\nLoad_StatusLRLights3                                   27.0\nLoad_StatusMBALights                                   84.0\nLoad_StatusMBRLights1                                  25.0\nLoad_StatusMBRLights2                                  25.0\nLoad_StatusPlugLoadBR2Laptop                           55.0\nLoad_StatusPlugLoadBR3Laptop                           34.0\nLoad_StatusPlugLoadBlender                            191.0\nLoad_StatusPlugLoadCanOpener                           93.0\nLoad_StatusPlugLoadDesktopPCMonitor                    88.0\nLoad_StatusPlugLoadHairDryerCurlIron                 1515.0\nLoad_StatusPlugLoadHandMixer                           91.0\nLoad_StatusPlugLoadLRBlueRay                           38.0\nLoad_StatusPlugLoadLRTV                                69.0\nLoad_StatusPlugLoadVacuum                             583.0\nLoad_StatusPlugLoadVideoGame                           32.0\nLoad_StatusMicrowave                                 1528.0",
      "text/html": "<div>\n<style scoped>\n    .dataframe tbody tr th:only-of-type {\n        vertical-align: middle;\n    }\n\n    .dataframe tbody tr th {\n        vertical-align: top;\n    }\n\n    .dataframe thead th {\n        text-align: right;\n    }\n</style>\n<table border=\"1\" class=\"dataframe\">\n  <thead>\n    <tr style=\"text-align: right;\">\n      <th></th>\n      <th>PowerConsumption(W/s)</th>\n    </tr>\n  </thead>\n  <tbody>\n    <tr>\n      <th>Load_StatusBA1Lights</th>\n      <td>48.0</td>\n    </tr>\n    <tr>\n      <th>Load_StatusBA2Lights</th>\n      <td>11.0</td>\n    </tr>\n    <tr>\n      <th>Load_StatusBR2Lights</th>\n      <td>40.0</td>\n    </tr>\n    <tr>\n      <th>Load_StatusBR3Lights</th>\n      <td>33.0</td>\n    </tr>\n    <tr>\n      <th>Load_StatusBR4Lights</th>\n      <td>27.0</td>\n    </tr>\n    <tr>\n      <th>Load_StatusDRLights</th>\n      <td>38.0</td>\n    </tr>\n    <tr>\n      <th>Load_StatusEntryHallLights</th>\n      <td>20.0</td>\n    </tr>\n    <tr>\n      <th>Load_StatusKitchenLightsA</th>\n      <td>28.0</td>\n    </tr>\n    <tr>\n      <th>Load_StatusKitchenLightsB</th>\n      <td>33.0</td>\n    </tr>\n    <tr>\n      <th>Load_StatusKitchenLightsC</th>\n      <td>28.0</td>\n    </tr>\n    <tr>\n      <th>Load_StatusLRLights1</th>\n      <td>18.0</td>\n    </tr>\n    <tr>\n      <th>Load_StatusLRLights2</th>\n      <td>41.0</td>\n    </tr>\n    <tr>\n      <th>Load_StatusLRLights3</th>\n      <td>27.0</td>\n    </tr>\n    <tr>\n      <th>Load_StatusMBALights</th>\n      <td>84.0</td>\n    </tr>\n    <tr>\n      <th>Load_StatusMBRLights1</th>\n      <td>25.0</td>\n    </tr>\n    <tr>\n      <th>Load_StatusMBRLights2</th>\n      <td>25.0</td>\n    </tr>\n    <tr>\n      <th>Load_StatusPlugLoadBR2Laptop</th>\n      <td>55.0</td>\n    </tr>\n    <tr>\n      <th>Load_StatusPlugLoadBR3Laptop</th>\n      <td>34.0</td>\n    </tr>\n    <tr>\n      <th>Load_StatusPlugLoadBlender</th>\n      <td>191.0</td>\n    </tr>\n    <tr>\n      <th>Load_StatusPlugLoadCanOpener</th>\n      <td>93.0</td>\n    </tr>\n    <tr>\n      <th>Load_StatusPlugLoadDesktopPCMonitor</th>\n      <td>88.0</td>\n    </tr>\n    <tr>\n      <th>Load_StatusPlugLoadHairDryerCurlIron</th>\n      <td>1515.0</td>\n    </tr>\n    <tr>\n      <th>Load_StatusPlugLoadHandMixer</th>\n      <td>91.0</td>\n    </tr>\n    <tr>\n      <th>Load_StatusPlugLoadLRBlueRay</th>\n      <td>38.0</td>\n    </tr>\n    <tr>\n      <th>Load_StatusPlugLoadLRTV</th>\n      <td>69.0</td>\n    </tr>\n    <tr>\n      <th>Load_StatusPlugLoadVacuum</th>\n      <td>583.0</td>\n    </tr>\n    <tr>\n      <th>Load_StatusPlugLoadVideoGame</th>\n      <td>32.0</td>\n    </tr>\n    <tr>\n      <th>Load_StatusMicrowave</th>\n      <td>1528.0</td>\n    </tr>\n  </tbody>\n</table>\n</div>"
     },
     "execution_count": 4,
     "metadata": {},
     "output_type": "execute_result"
    }
   ],
   "source": [
    "power_consumption_df"
   ],
   "metadata": {
    "collapsed": false,
    "pycharm": {
     "name": "#%%\n"
    }
   }
  },
  {
   "cell_type": "code",
   "execution_count": 5,
   "outputs": [
    {
     "data": {
      "text/plain": "                 Timestamp  Load_StatusBA1Lights  Load_StatusBA2Lights  \\\n208    2013-07-01 03:29:17                   0.0                   0.0   \n209    2013-07-01 03:30:17                   0.0                   0.0   \n210    2013-07-01 03:31:17                   0.0                   0.0   \n237    2013-07-01 03:58:17                   0.0                   0.0   \n238    2013-07-01 03:59:17                   0.0                   0.0   \n...                    ...                   ...                   ...   \n518587 2014-06-30 20:09:22                   0.0                   0.0   \n518588 2014-06-30 20:10:22                   0.0                   0.0   \n518589 2014-06-30 20:11:22                   0.0                   0.0   \n518590 2014-06-30 20:12:22                   0.0                   0.0   \n518591 2014-06-30 20:13:22                   0.0                   0.0   \n\n        Load_StatusBR2Lights  Load_StatusBR3Lights  Load_StatusBR4Lights  \\\n208                      0.0                   0.0                   0.0   \n209                      0.0                   0.0                   0.0   \n210                      0.0                   0.0                   0.0   \n237                      0.0                   0.0                   0.0   \n238                      0.0                   0.0                   0.0   \n...                      ...                   ...                   ...   \n518587                   0.0                   0.0                   0.0   \n518588                   0.0                   0.0                   0.0   \n518589                   0.0                   0.0                   0.0   \n518590                   0.0                   0.0                   0.0   \n518591                   0.0                   0.0                   0.0   \n\n        Load_StatusDRLights  Load_StatusEntryHallLights  \\\n208                     0.0                         0.0   \n209                     0.0                         0.0   \n210                     0.0                         0.0   \n237                     0.0                         0.0   \n238                     0.0                         0.0   \n...                     ...                         ...   \n518587                  0.0                         0.0   \n518588                  0.0                         0.0   \n518589                  0.0                         0.0   \n518590                  0.0                         0.0   \n518591                  0.0                         0.0   \n\n        Load_StatusKitchenLightsA  Load_StatusKitchenLightsB  ...  \\\n208                           0.0                        0.0  ...   \n209                           0.0                        0.0  ...   \n210                           0.0                        0.0  ...   \n237                           0.0                        0.0  ...   \n238                           0.0                        0.0  ...   \n...                           ...                        ...  ...   \n518587                        0.0                        0.0  ...   \n518588                        0.0                        0.0  ...   \n518589                        0.0                        0.0  ...   \n518590                        0.0                        0.0  ...   \n518591                        0.0                        0.0  ...   \n\n        Load_StatusPlugLoadBlender  Load_StatusPlugLoadCanOpener  \\\n208                            0.0                           0.0   \n209                            0.0                           0.0   \n210                            0.0                           0.0   \n237                            0.0                           0.0   \n238                            0.0                           0.0   \n...                            ...                           ...   \n518587                         0.0                           0.0   \n518588                         0.0                           0.0   \n518589                         0.0                           0.0   \n518590                         0.0                           0.0   \n518591                         0.0                           0.0   \n\n        Load_StatusPlugLoadDesktopPCMonitor  \\\n208                                     0.0   \n209                                     0.0   \n210                                     0.0   \n237                                     0.0   \n238                                     0.0   \n...                                     ...   \n518587                                  0.0   \n518588                                  0.0   \n518589                                  0.0   \n518590                                  0.0   \n518591                                  0.0   \n\n        Load_StatusPlugLoadHairDryerCurlIron  Load_StatusPlugLoadHandMixer  \\\n208                                      0.0                           0.0   \n209                                      0.0                           0.0   \n210                                      0.0                           0.0   \n237                                      0.0                           0.0   \n238                                      0.0                           0.0   \n...                                      ...                           ...   \n518587                                   0.0                           0.0   \n518588                                   0.0                           0.0   \n518589                                   0.0                           0.0   \n518590                                   0.0                           0.0   \n518591                                   0.0                           0.0   \n\n        Load_StatusPlugLoadLRBlueRay  Load_StatusPlugLoadLRTV  \\\n208                              0.0                      0.0   \n209                              0.0                      0.0   \n210                              0.0                      0.0   \n237                              0.0                      0.0   \n238                              0.0                      0.0   \n...                              ...                      ...   \n518587                           0.0                      0.0   \n518588                           0.0                      0.0   \n518589                           0.0                      0.0   \n518590                           0.0                      0.0   \n518591                           0.0                      0.0   \n\n        Load_StatusPlugLoadVacuum  Load_StatusPlugLoadVideoGame  \\\n208                           0.0                           0.0   \n209                           0.0                           0.0   \n210                           0.0                           0.0   \n237                           0.0                           0.0   \n238                           0.0                           0.0   \n...                           ...                           ...   \n518587                        0.0                           0.0   \n518588                        0.0                           0.0   \n518589                        0.0                           0.0   \n518590                        0.0                           0.0   \n518591                        0.0                           0.0   \n\n        Load_StatusMicrowave  \n208                      0.0  \n209                      0.0  \n210                      0.0  \n237                      0.0  \n238                      0.0  \n...                      ...  \n518587                   0.0  \n518588                   0.0  \n518589                   0.0  \n518590                   0.0  \n518591                   0.0  \n\n[22478 rows x 29 columns]",
      "text/html": "<div>\n<style scoped>\n    .dataframe tbody tr th:only-of-type {\n        vertical-align: middle;\n    }\n\n    .dataframe tbody tr th {\n        vertical-align: top;\n    }\n\n    .dataframe thead th {\n        text-align: right;\n    }\n</style>\n<table border=\"1\" class=\"dataframe\">\n  <thead>\n    <tr style=\"text-align: right;\">\n      <th></th>\n      <th>Timestamp</th>\n      <th>Load_StatusBA1Lights</th>\n      <th>Load_StatusBA2Lights</th>\n      <th>Load_StatusBR2Lights</th>\n      <th>Load_StatusBR3Lights</th>\n      <th>Load_StatusBR4Lights</th>\n      <th>Load_StatusDRLights</th>\n      <th>Load_StatusEntryHallLights</th>\n      <th>Load_StatusKitchenLightsA</th>\n      <th>Load_StatusKitchenLightsB</th>\n      <th>...</th>\n      <th>Load_StatusPlugLoadBlender</th>\n      <th>Load_StatusPlugLoadCanOpener</th>\n      <th>Load_StatusPlugLoadDesktopPCMonitor</th>\n      <th>Load_StatusPlugLoadHairDryerCurlIron</th>\n      <th>Load_StatusPlugLoadHandMixer</th>\n      <th>Load_StatusPlugLoadLRBlueRay</th>\n      <th>Load_StatusPlugLoadLRTV</th>\n      <th>Load_StatusPlugLoadVacuum</th>\n      <th>Load_StatusPlugLoadVideoGame</th>\n      <th>Load_StatusMicrowave</th>\n    </tr>\n  </thead>\n  <tbody>\n    <tr>\n      <th>208</th>\n      <td>2013-07-01 03:29:17</td>\n      <td>0.0</td>\n      <td>0.0</td>\n      <td>0.0</td>\n      <td>0.0</td>\n      <td>0.0</td>\n      <td>0.0</td>\n      <td>0.0</td>\n      <td>0.0</td>\n      <td>0.0</td>\n      <td>...</td>\n      <td>0.0</td>\n      <td>0.0</td>\n      <td>0.0</td>\n      <td>0.0</td>\n      <td>0.0</td>\n      <td>0.0</td>\n      <td>0.0</td>\n      <td>0.0</td>\n      <td>0.0</td>\n      <td>0.0</td>\n    </tr>\n    <tr>\n      <th>209</th>\n      <td>2013-07-01 03:30:17</td>\n      <td>0.0</td>\n      <td>0.0</td>\n      <td>0.0</td>\n      <td>0.0</td>\n      <td>0.0</td>\n      <td>0.0</td>\n      <td>0.0</td>\n      <td>0.0</td>\n      <td>0.0</td>\n      <td>...</td>\n      <td>0.0</td>\n      <td>0.0</td>\n      <td>0.0</td>\n      <td>0.0</td>\n      <td>0.0</td>\n      <td>0.0</td>\n      <td>0.0</td>\n      <td>0.0</td>\n      <td>0.0</td>\n      <td>0.0</td>\n    </tr>\n    <tr>\n      <th>210</th>\n      <td>2013-07-01 03:31:17</td>\n      <td>0.0</td>\n      <td>0.0</td>\n      <td>0.0</td>\n      <td>0.0</td>\n      <td>0.0</td>\n      <td>0.0</td>\n      <td>0.0</td>\n      <td>0.0</td>\n      <td>0.0</td>\n      <td>...</td>\n      <td>0.0</td>\n      <td>0.0</td>\n      <td>0.0</td>\n      <td>0.0</td>\n      <td>0.0</td>\n      <td>0.0</td>\n      <td>0.0</td>\n      <td>0.0</td>\n      <td>0.0</td>\n      <td>0.0</td>\n    </tr>\n    <tr>\n      <th>237</th>\n      <td>2013-07-01 03:58:17</td>\n      <td>0.0</td>\n      <td>0.0</td>\n      <td>0.0</td>\n      <td>0.0</td>\n      <td>0.0</td>\n      <td>0.0</td>\n      <td>0.0</td>\n      <td>0.0</td>\n      <td>0.0</td>\n      <td>...</td>\n      <td>0.0</td>\n      <td>0.0</td>\n      <td>0.0</td>\n      <td>0.0</td>\n      <td>0.0</td>\n      <td>0.0</td>\n      <td>0.0</td>\n      <td>0.0</td>\n      <td>0.0</td>\n      <td>0.0</td>\n    </tr>\n    <tr>\n      <th>238</th>\n      <td>2013-07-01 03:59:17</td>\n      <td>0.0</td>\n      <td>0.0</td>\n      <td>0.0</td>\n      <td>0.0</td>\n      <td>0.0</td>\n      <td>0.0</td>\n      <td>0.0</td>\n      <td>0.0</td>\n      <td>0.0</td>\n      <td>...</td>\n      <td>0.0</td>\n      <td>0.0</td>\n      <td>0.0</td>\n      <td>0.0</td>\n      <td>0.0</td>\n      <td>0.0</td>\n      <td>0.0</td>\n      <td>0.0</td>\n      <td>0.0</td>\n      <td>0.0</td>\n    </tr>\n    <tr>\n      <th>...</th>\n      <td>...</td>\n      <td>...</td>\n      <td>...</td>\n      <td>...</td>\n      <td>...</td>\n      <td>...</td>\n      <td>...</td>\n      <td>...</td>\n      <td>...</td>\n      <td>...</td>\n      <td>...</td>\n      <td>...</td>\n      <td>...</td>\n      <td>...</td>\n      <td>...</td>\n      <td>...</td>\n      <td>...</td>\n      <td>...</td>\n      <td>...</td>\n      <td>...</td>\n      <td>...</td>\n    </tr>\n    <tr>\n      <th>518587</th>\n      <td>2014-06-30 20:09:22</td>\n      <td>0.0</td>\n      <td>0.0</td>\n      <td>0.0</td>\n      <td>0.0</td>\n      <td>0.0</td>\n      <td>0.0</td>\n      <td>0.0</td>\n      <td>0.0</td>\n      <td>0.0</td>\n      <td>...</td>\n      <td>0.0</td>\n      <td>0.0</td>\n      <td>0.0</td>\n      <td>0.0</td>\n      <td>0.0</td>\n      <td>0.0</td>\n      <td>0.0</td>\n      <td>0.0</td>\n      <td>0.0</td>\n      <td>0.0</td>\n    </tr>\n    <tr>\n      <th>518588</th>\n      <td>2014-06-30 20:10:22</td>\n      <td>0.0</td>\n      <td>0.0</td>\n      <td>0.0</td>\n      <td>0.0</td>\n      <td>0.0</td>\n      <td>0.0</td>\n      <td>0.0</td>\n      <td>0.0</td>\n      <td>0.0</td>\n      <td>...</td>\n      <td>0.0</td>\n      <td>0.0</td>\n      <td>0.0</td>\n      <td>0.0</td>\n      <td>0.0</td>\n      <td>0.0</td>\n      <td>0.0</td>\n      <td>0.0</td>\n      <td>0.0</td>\n      <td>0.0</td>\n    </tr>\n    <tr>\n      <th>518589</th>\n      <td>2014-06-30 20:11:22</td>\n      <td>0.0</td>\n      <td>0.0</td>\n      <td>0.0</td>\n      <td>0.0</td>\n      <td>0.0</td>\n      <td>0.0</td>\n      <td>0.0</td>\n      <td>0.0</td>\n      <td>0.0</td>\n      <td>...</td>\n      <td>0.0</td>\n      <td>0.0</td>\n      <td>0.0</td>\n      <td>0.0</td>\n      <td>0.0</td>\n      <td>0.0</td>\n      <td>0.0</td>\n      <td>0.0</td>\n      <td>0.0</td>\n      <td>0.0</td>\n    </tr>\n    <tr>\n      <th>518590</th>\n      <td>2014-06-30 20:12:22</td>\n      <td>0.0</td>\n      <td>0.0</td>\n      <td>0.0</td>\n      <td>0.0</td>\n      <td>0.0</td>\n      <td>0.0</td>\n      <td>0.0</td>\n      <td>0.0</td>\n      <td>0.0</td>\n      <td>...</td>\n      <td>0.0</td>\n      <td>0.0</td>\n      <td>0.0</td>\n      <td>0.0</td>\n      <td>0.0</td>\n      <td>0.0</td>\n      <td>0.0</td>\n      <td>0.0</td>\n      <td>0.0</td>\n      <td>0.0</td>\n    </tr>\n    <tr>\n      <th>518591</th>\n      <td>2014-06-30 20:13:22</td>\n      <td>0.0</td>\n      <td>0.0</td>\n      <td>0.0</td>\n      <td>0.0</td>\n      <td>0.0</td>\n      <td>0.0</td>\n      <td>0.0</td>\n      <td>0.0</td>\n      <td>0.0</td>\n      <td>...</td>\n      <td>0.0</td>\n      <td>0.0</td>\n      <td>0.0</td>\n      <td>0.0</td>\n      <td>0.0</td>\n      <td>0.0</td>\n      <td>0.0</td>\n      <td>0.0</td>\n      <td>0.0</td>\n      <td>0.0</td>\n    </tr>\n  </tbody>\n</table>\n<p>22478 rows × 29 columns</p>\n</div>"
     },
     "execution_count": 5,
     "metadata": {},
     "output_type": "execute_result"
    }
   ],
   "source": [
    "timestamp_dict['Year1'].loc[lambda self: self[self.columns[1:]].sum(1) > 0]"
   ],
   "metadata": {
    "collapsed": false,
    "pycharm": {
     "name": "#%%\n"
    }
   }
  },
  {
   "cell_type": "code",
   "execution_count": 6,
   "outputs": [
    {
     "data": {
      "text/plain": "        Load_StatusBA1Lights  Load_StatusBA2Lights  Load_StatusBR2Lights  \\\n0                        0.0                   0.0                   0.0   \n1                        0.0                   0.0                   0.0   \n2                        0.0                   0.0                   0.0   \n3                        0.0                   0.0                   0.0   \n4                        0.0                   0.0                   0.0   \n...                      ...                   ...                   ...   \n518787                   0.0                   0.0                   0.0   \n518788                   0.0                   0.0                   0.0   \n518789                   0.0                   0.0                   0.0   \n518790                   0.0                   0.0                   0.0   \n518791                   0.0                   0.0                   0.0   \n\n        Load_StatusBR3Lights  Load_StatusBR4Lights  Load_StatusDRLights  \\\n0                        0.0                   0.0                  0.0   \n1                        0.0                   0.0                  0.0   \n2                        0.0                   0.0                  0.0   \n3                        0.0                   0.0                  0.0   \n4                        0.0                   0.0                  0.0   \n...                      ...                   ...                  ...   \n518787                   0.0                   0.0                  0.0   \n518788                   0.0                   0.0                  0.0   \n518789                   0.0                   0.0                  0.0   \n518790                   0.0                   0.0                  0.0   \n518791                   0.0                   0.0                  0.0   \n\n        Load_StatusEntryHallLights  Load_StatusKitchenLightsA  \\\n0                              0.0                        0.0   \n1                              0.0                        0.0   \n2                              0.0                        0.0   \n3                              0.0                        0.0   \n4                              0.0                        0.0   \n...                            ...                        ...   \n518787                         0.0                        0.0   \n518788                         0.0                        0.0   \n518789                         0.0                        0.0   \n518790                         0.0                        0.0   \n518791                         0.0                        0.0   \n\n        Load_StatusKitchenLightsB  Load_StatusKitchenLightsC  ...  \\\n0                             0.0                        0.0  ...   \n1                             0.0                        0.0  ...   \n2                             0.0                        0.0  ...   \n3                             0.0                        0.0  ...   \n4                             0.0                        0.0  ...   \n...                           ...                        ...  ...   \n518787                        0.0                        0.0  ...   \n518788                        0.0                        0.0  ...   \n518789                        0.0                        0.0  ...   \n518790                        0.0                        0.0  ...   \n518791                        0.0                        0.0  ...   \n\n        Load_StatusPlugLoadBlender  Load_StatusPlugLoadCanOpener  \\\n0                              0.0                           0.0   \n1                              0.0                           0.0   \n2                              0.0                           0.0   \n3                              0.0                           0.0   \n4                              0.0                           0.0   \n...                            ...                           ...   \n518787                         0.0                           0.0   \n518788                         0.0                           0.0   \n518789                         0.0                           0.0   \n518790                         0.0                           0.0   \n518791                         0.0                           0.0   \n\n        Load_StatusPlugLoadDesktopPCMonitor  \\\n0                                       0.0   \n1                                       0.0   \n2                                       0.0   \n3                                       0.0   \n4                                       0.0   \n...                                     ...   \n518787                                  0.0   \n518788                                  0.0   \n518789                                  0.0   \n518790                                  0.0   \n518791                                  0.0   \n\n        Load_StatusPlugLoadHairDryerCurlIron  Load_StatusPlugLoadHandMixer  \\\n0                                        0.0                           0.0   \n1                                        0.0                           0.0   \n2                                        0.0                           0.0   \n3                                        0.0                           0.0   \n4                                        0.0                           0.0   \n...                                      ...                           ...   \n518787                                   0.0                           0.0   \n518788                                   0.0                           0.0   \n518789                                   0.0                           0.0   \n518790                                   0.0                           0.0   \n518791                                   0.0                           0.0   \n\n        Load_StatusPlugLoadLRBlueRay  Load_StatusPlugLoadLRTV  \\\n0                                0.0                      0.0   \n1                                0.0                      0.0   \n2                                0.0                      0.0   \n3                                0.0                      0.0   \n4                                0.0                      0.0   \n...                              ...                      ...   \n518787                           0.0                      0.0   \n518788                           0.0                      0.0   \n518789                           0.0                      0.0   \n518790                           0.0                      0.0   \n518791                           0.0                      0.0   \n\n        Load_StatusPlugLoadVacuum  Load_StatusPlugLoadVideoGame  \\\n0                             0.0                           0.0   \n1                             0.0                           0.0   \n2                             0.0                           0.0   \n3                             0.0                           0.0   \n4                             0.0                           0.0   \n...                           ...                           ...   \n518787                        0.0                           0.0   \n518788                        0.0                           0.0   \n518789                        0.0                           0.0   \n518790                        0.0                           0.0   \n518791                        0.0                           0.0   \n\n        Load_StatusMicrowave  \n0                        0.0  \n1                        0.0  \n2                        0.0  \n3                        0.0  \n4                        0.0  \n...                      ...  \n518787                   0.0  \n518788                   0.0  \n518789                   0.0  \n518790                   0.0  \n518791                   0.0  \n\n[518792 rows x 28 columns]",
      "text/html": "<div>\n<style scoped>\n    .dataframe tbody tr th:only-of-type {\n        vertical-align: middle;\n    }\n\n    .dataframe tbody tr th {\n        vertical-align: top;\n    }\n\n    .dataframe thead th {\n        text-align: right;\n    }\n</style>\n<table border=\"1\" class=\"dataframe\">\n  <thead>\n    <tr style=\"text-align: right;\">\n      <th></th>\n      <th>Load_StatusBA1Lights</th>\n      <th>Load_StatusBA2Lights</th>\n      <th>Load_StatusBR2Lights</th>\n      <th>Load_StatusBR3Lights</th>\n      <th>Load_StatusBR4Lights</th>\n      <th>Load_StatusDRLights</th>\n      <th>Load_StatusEntryHallLights</th>\n      <th>Load_StatusKitchenLightsA</th>\n      <th>Load_StatusKitchenLightsB</th>\n      <th>Load_StatusKitchenLightsC</th>\n      <th>...</th>\n      <th>Load_StatusPlugLoadBlender</th>\n      <th>Load_StatusPlugLoadCanOpener</th>\n      <th>Load_StatusPlugLoadDesktopPCMonitor</th>\n      <th>Load_StatusPlugLoadHairDryerCurlIron</th>\n      <th>Load_StatusPlugLoadHandMixer</th>\n      <th>Load_StatusPlugLoadLRBlueRay</th>\n      <th>Load_StatusPlugLoadLRTV</th>\n      <th>Load_StatusPlugLoadVacuum</th>\n      <th>Load_StatusPlugLoadVideoGame</th>\n      <th>Load_StatusMicrowave</th>\n    </tr>\n  </thead>\n  <tbody>\n    <tr>\n      <th>0</th>\n      <td>0.0</td>\n      <td>0.0</td>\n      <td>0.0</td>\n      <td>0.0</td>\n      <td>0.0</td>\n      <td>0.0</td>\n      <td>0.0</td>\n      <td>0.0</td>\n      <td>0.0</td>\n      <td>0.0</td>\n      <td>...</td>\n      <td>0.0</td>\n      <td>0.0</td>\n      <td>0.0</td>\n      <td>0.0</td>\n      <td>0.0</td>\n      <td>0.0</td>\n      <td>0.0</td>\n      <td>0.0</td>\n      <td>0.0</td>\n      <td>0.0</td>\n    </tr>\n    <tr>\n      <th>1</th>\n      <td>0.0</td>\n      <td>0.0</td>\n      <td>0.0</td>\n      <td>0.0</td>\n      <td>0.0</td>\n      <td>0.0</td>\n      <td>0.0</td>\n      <td>0.0</td>\n      <td>0.0</td>\n      <td>0.0</td>\n      <td>...</td>\n      <td>0.0</td>\n      <td>0.0</td>\n      <td>0.0</td>\n      <td>0.0</td>\n      <td>0.0</td>\n      <td>0.0</td>\n      <td>0.0</td>\n      <td>0.0</td>\n      <td>0.0</td>\n      <td>0.0</td>\n    </tr>\n    <tr>\n      <th>2</th>\n      <td>0.0</td>\n      <td>0.0</td>\n      <td>0.0</td>\n      <td>0.0</td>\n      <td>0.0</td>\n      <td>0.0</td>\n      <td>0.0</td>\n      <td>0.0</td>\n      <td>0.0</td>\n      <td>0.0</td>\n      <td>...</td>\n      <td>0.0</td>\n      <td>0.0</td>\n      <td>0.0</td>\n      <td>0.0</td>\n      <td>0.0</td>\n      <td>0.0</td>\n      <td>0.0</td>\n      <td>0.0</td>\n      <td>0.0</td>\n      <td>0.0</td>\n    </tr>\n    <tr>\n      <th>3</th>\n      <td>0.0</td>\n      <td>0.0</td>\n      <td>0.0</td>\n      <td>0.0</td>\n      <td>0.0</td>\n      <td>0.0</td>\n      <td>0.0</td>\n      <td>0.0</td>\n      <td>0.0</td>\n      <td>0.0</td>\n      <td>...</td>\n      <td>0.0</td>\n      <td>0.0</td>\n      <td>0.0</td>\n      <td>0.0</td>\n      <td>0.0</td>\n      <td>0.0</td>\n      <td>0.0</td>\n      <td>0.0</td>\n      <td>0.0</td>\n      <td>0.0</td>\n    </tr>\n    <tr>\n      <th>4</th>\n      <td>0.0</td>\n      <td>0.0</td>\n      <td>0.0</td>\n      <td>0.0</td>\n      <td>0.0</td>\n      <td>0.0</td>\n      <td>0.0</td>\n      <td>0.0</td>\n      <td>0.0</td>\n      <td>0.0</td>\n      <td>...</td>\n      <td>0.0</td>\n      <td>0.0</td>\n      <td>0.0</td>\n      <td>0.0</td>\n      <td>0.0</td>\n      <td>0.0</td>\n      <td>0.0</td>\n      <td>0.0</td>\n      <td>0.0</td>\n      <td>0.0</td>\n    </tr>\n    <tr>\n      <th>...</th>\n      <td>...</td>\n      <td>...</td>\n      <td>...</td>\n      <td>...</td>\n      <td>...</td>\n      <td>...</td>\n      <td>...</td>\n      <td>...</td>\n      <td>...</td>\n      <td>...</td>\n      <td>...</td>\n      <td>...</td>\n      <td>...</td>\n      <td>...</td>\n      <td>...</td>\n      <td>...</td>\n      <td>...</td>\n      <td>...</td>\n      <td>...</td>\n      <td>...</td>\n      <td>...</td>\n    </tr>\n    <tr>\n      <th>518787</th>\n      <td>0.0</td>\n      <td>0.0</td>\n      <td>0.0</td>\n      <td>0.0</td>\n      <td>0.0</td>\n      <td>0.0</td>\n      <td>0.0</td>\n      <td>0.0</td>\n      <td>0.0</td>\n      <td>0.0</td>\n      <td>...</td>\n      <td>0.0</td>\n      <td>0.0</td>\n      <td>0.0</td>\n      <td>0.0</td>\n      <td>0.0</td>\n      <td>0.0</td>\n      <td>0.0</td>\n      <td>0.0</td>\n      <td>0.0</td>\n      <td>0.0</td>\n    </tr>\n    <tr>\n      <th>518788</th>\n      <td>0.0</td>\n      <td>0.0</td>\n      <td>0.0</td>\n      <td>0.0</td>\n      <td>0.0</td>\n      <td>0.0</td>\n      <td>0.0</td>\n      <td>0.0</td>\n      <td>0.0</td>\n      <td>0.0</td>\n      <td>...</td>\n      <td>0.0</td>\n      <td>0.0</td>\n      <td>0.0</td>\n      <td>0.0</td>\n      <td>0.0</td>\n      <td>0.0</td>\n      <td>0.0</td>\n      <td>0.0</td>\n      <td>0.0</td>\n      <td>0.0</td>\n    </tr>\n    <tr>\n      <th>518789</th>\n      <td>0.0</td>\n      <td>0.0</td>\n      <td>0.0</td>\n      <td>0.0</td>\n      <td>0.0</td>\n      <td>0.0</td>\n      <td>0.0</td>\n      <td>0.0</td>\n      <td>0.0</td>\n      <td>0.0</td>\n      <td>...</td>\n      <td>0.0</td>\n      <td>0.0</td>\n      <td>0.0</td>\n      <td>0.0</td>\n      <td>0.0</td>\n      <td>0.0</td>\n      <td>0.0</td>\n      <td>0.0</td>\n      <td>0.0</td>\n      <td>0.0</td>\n    </tr>\n    <tr>\n      <th>518790</th>\n      <td>0.0</td>\n      <td>0.0</td>\n      <td>0.0</td>\n      <td>0.0</td>\n      <td>0.0</td>\n      <td>0.0</td>\n      <td>0.0</td>\n      <td>0.0</td>\n      <td>0.0</td>\n      <td>0.0</td>\n      <td>...</td>\n      <td>0.0</td>\n      <td>0.0</td>\n      <td>0.0</td>\n      <td>0.0</td>\n      <td>0.0</td>\n      <td>0.0</td>\n      <td>0.0</td>\n      <td>0.0</td>\n      <td>0.0</td>\n      <td>0.0</td>\n    </tr>\n    <tr>\n      <th>518791</th>\n      <td>0.0</td>\n      <td>0.0</td>\n      <td>0.0</td>\n      <td>0.0</td>\n      <td>0.0</td>\n      <td>0.0</td>\n      <td>0.0</td>\n      <td>0.0</td>\n      <td>0.0</td>\n      <td>0.0</td>\n      <td>...</td>\n      <td>0.0</td>\n      <td>0.0</td>\n      <td>0.0</td>\n      <td>0.0</td>\n      <td>0.0</td>\n      <td>0.0</td>\n      <td>0.0</td>\n      <td>0.0</td>\n      <td>0.0</td>\n      <td>0.0</td>\n    </tr>\n  </tbody>\n</table>\n<p>518792 rows × 28 columns</p>\n</div>"
     },
     "execution_count": 6,
     "metadata": {},
     "output_type": "execute_result"
    }
   ],
   "source": [
    "timestamp_dict['Year1'][lambda self: self.columns[1:]]"
   ],
   "metadata": {
    "collapsed": false,
    "pycharm": {
     "name": "#%%\n"
    }
   }
  },
  {
   "cell_type": "code",
   "execution_count": 7,
   "outputs": [
    {
     "ename": "NameError",
     "evalue": "name 'year' is not defined",
     "output_type": "error",
     "traceback": [
      "\u001B[1;31m---------------------------------------------------------------------------\u001B[0m",
      "\u001B[1;31mNameError\u001B[0m                                 Traceback (most recent call last)",
      "Input \u001B[1;32mIn [7]\u001B[0m, in \u001B[0;36m<module>\u001B[1;34m\u001B[0m\n\u001B[1;32m----> 1\u001B[0m power_consumption_df \u001B[38;5;241m=\u001B[39m \u001B[43mpower_consumption_df\u001B[49m\u001B[38;5;241;43m.\u001B[39;49m\u001B[43mloc\u001B[49m\u001B[43m[\u001B[49m\u001B[38;5;28;43;01mlambda\u001B[39;49;00m\u001B[43m \u001B[49m\u001B[38;5;28;43mself\u001B[39;49m\u001B[43m:\u001B[49m\u001B[43m \u001B[49m\u001B[38;5;28;43mself\u001B[39;49m\u001B[38;5;241;43m.\u001B[39;49m\u001B[43mindex\u001B[49m\u001B[38;5;241;43m.\u001B[39;49m\u001B[43misin\u001B[49m\u001B[43m(\u001B[49m\u001B[43mtimestamp_dict\u001B[49m\u001B[43m[\u001B[49m\u001B[38;5;124;43mf\u001B[39;49m\u001B[38;5;124;43m'\u001B[39;49m\u001B[38;5;124;43mYear\u001B[39;49m\u001B[38;5;132;43;01m{\u001B[39;49;00m\u001B[43myear\u001B[49m\u001B[38;5;132;43;01m}\u001B[39;49;00m\u001B[38;5;124;43m'\u001B[39;49m\u001B[43m]\u001B[49m\u001B[38;5;241;43m.\u001B[39;49m\u001B[43mcolumns\u001B[49m\u001B[43m[\u001B[49m\u001B[38;5;241;43m1\u001B[39;49m\u001B[43m:\u001B[49m\u001B[43m]\u001B[49m\u001B[43m)\u001B[49m\u001B[43m]\u001B[49m\n\u001B[0;32m      2\u001B[0m power_consumption_df\n",
      "File \u001B[1;32mD:\\Users\\mgejl\\GitHub\\StellarisModdding\\Datavidenskab-P6\\lib\\site-packages\\pandas\\core\\indexing.py:966\u001B[0m, in \u001B[0;36m_LocationIndexer.__getitem__\u001B[1;34m(self, key)\u001B[0m\n\u001B[0;32m    962\u001B[0m \u001B[38;5;28;01melse\u001B[39;00m:\n\u001B[0;32m    963\u001B[0m     \u001B[38;5;66;03m# we by definition only have the 0th axis\u001B[39;00m\n\u001B[0;32m    964\u001B[0m     axis \u001B[38;5;241m=\u001B[39m \u001B[38;5;28mself\u001B[39m\u001B[38;5;241m.\u001B[39maxis \u001B[38;5;129;01mor\u001B[39;00m \u001B[38;5;241m0\u001B[39m\n\u001B[1;32m--> 966\u001B[0m     maybe_callable \u001B[38;5;241m=\u001B[39m \u001B[43mcom\u001B[49m\u001B[38;5;241;43m.\u001B[39;49m\u001B[43mapply_if_callable\u001B[49m\u001B[43m(\u001B[49m\u001B[43mkey\u001B[49m\u001B[43m,\u001B[49m\u001B[43m \u001B[49m\u001B[38;5;28;43mself\u001B[39;49m\u001B[38;5;241;43m.\u001B[39;49m\u001B[43mobj\u001B[49m\u001B[43m)\u001B[49m\n\u001B[0;32m    967\u001B[0m     \u001B[38;5;28;01mreturn\u001B[39;00m \u001B[38;5;28mself\u001B[39m\u001B[38;5;241m.\u001B[39m_getitem_axis(maybe_callable, axis\u001B[38;5;241m=\u001B[39maxis)\n",
      "File \u001B[1;32mD:\\Users\\mgejl\\GitHub\\StellarisModdding\\Datavidenskab-P6\\lib\\site-packages\\pandas\\core\\common.py:358\u001B[0m, in \u001B[0;36mapply_if_callable\u001B[1;34m(maybe_callable, obj, **kwargs)\u001B[0m\n\u001B[0;32m    347\u001B[0m \u001B[38;5;124;03m\"\"\"\u001B[39;00m\n\u001B[0;32m    348\u001B[0m \u001B[38;5;124;03mEvaluate possibly callable input using obj and kwargs if it is callable,\u001B[39;00m\n\u001B[0;32m    349\u001B[0m \u001B[38;5;124;03motherwise return as it is.\u001B[39;00m\n\u001B[1;32m   (...)\u001B[0m\n\u001B[0;32m    355\u001B[0m \u001B[38;5;124;03m**kwargs\u001B[39;00m\n\u001B[0;32m    356\u001B[0m \u001B[38;5;124;03m\"\"\"\u001B[39;00m\n\u001B[0;32m    357\u001B[0m \u001B[38;5;28;01mif\u001B[39;00m callable(maybe_callable):\n\u001B[1;32m--> 358\u001B[0m     \u001B[38;5;28;01mreturn\u001B[39;00m maybe_callable(obj, \u001B[38;5;241m*\u001B[39m\u001B[38;5;241m*\u001B[39mkwargs)\n\u001B[0;32m    360\u001B[0m \u001B[38;5;28;01mreturn\u001B[39;00m maybe_callable\n",
      "Input \u001B[1;32mIn [7]\u001B[0m, in \u001B[0;36m<lambda>\u001B[1;34m(self)\u001B[0m\n\u001B[1;32m----> 1\u001B[0m power_consumption_df \u001B[38;5;241m=\u001B[39m power_consumption_df\u001B[38;5;241m.\u001B[39mloc[\u001B[38;5;28;01mlambda\u001B[39;00m \u001B[38;5;28mself\u001B[39m: \u001B[38;5;28mself\u001B[39m\u001B[38;5;241m.\u001B[39mindex\u001B[38;5;241m.\u001B[39misin(timestamp_dict[\u001B[38;5;124mf\u001B[39m\u001B[38;5;124m'\u001B[39m\u001B[38;5;124mYear\u001B[39m\u001B[38;5;132;01m{\u001B[39;00myear\u001B[38;5;132;01m}\u001B[39;00m\u001B[38;5;124m'\u001B[39m]\u001B[38;5;241m.\u001B[39mcolumns[\u001B[38;5;241m1\u001B[39m:])]\n\u001B[0;32m      2\u001B[0m power_consumption_df\n",
      "\u001B[1;31mNameError\u001B[0m: name 'year' is not defined"
     ]
    }
   ],
   "source": [
    "power_consumption_df = power_consumption_df.loc[lambda self: self.index.isin(timestamp_dict[f'Year{year}'].columns[1:])]\n",
    "power_consumption_df"
   ],
   "metadata": {
    "collapsed": false,
    "pycharm": {
     "name": "#%%\n"
    }
   }
  },
  {
   "cell_type": "code",
   "execution_count": null,
   "outputs": [],
   "source": [
    "timestamp_dict['Year1'][lambda self: self.columns[1:]].sum(0).dot(power_consumption_df).div(60000)[0]"
   ],
   "metadata": {
    "collapsed": false,
    "pycharm": {
     "name": "#%%\n"
    }
   }
  },
  {
   "cell_type": "code",
   "execution_count": null,
   "outputs": [],
   "source": [
    "total_hours = 0\n",
    "total_energy = 0\n",
    "\n",
    "for year in [1]:\n",
    "    total_hours += timestamp_dict[f'Year{year}'][lambda self: self.columns[1:]].sum().sum() / 60\n",
    "    total_energy += timestamp_dict[f'Year{year}'][lambda self: self.columns[1:]].sum(0).dot(\n",
    "        power_consumption_df).div(60000)[0]  # 60000 because we want kWh (1000 Wh) and we have the average consumption on minute basis (Watt minutes) and Wh = average W/s over an hour\n",
    "\n",
    "total_hours = str(round(total_hours, 2)) + ' hours'\n",
    "total_energy = str(round(total_energy, 4)) + ' kWh'\n",
    "total_hours, total_energy"
   ],
   "metadata": {
    "collapsed": false,
    "pycharm": {
     "name": "#%%\n"
    }
   }
  },
  {
   "cell_type": "code",
   "execution_count": null,
   "outputs": [],
   "source": [
    "redundant_minutes_frequency = timestamp_dict['Year1'].groupby(timestamp_dict['Year1']['Timestamp'].dt.hour).sum()"
   ],
   "metadata": {
    "collapsed": false,
    "pycharm": {
     "name": "#%%\n"
    }
   }
  },
  {
   "cell_type": "code",
   "execution_count": null,
   "outputs": [],
   "source": [
    "redundant_minutes_frequency['TotalMinutes'] = redundant_minutes_frequency.sum(1)"
   ],
   "metadata": {
    "collapsed": false,
    "pycharm": {
     "name": "#%%\n"
    }
   }
  },
  {
   "cell_type": "code",
   "execution_count": null,
   "outputs": [],
   "source": [
    "redundant_minutes_frequency['EnergyConsumed(kWh)'] = pd.DataFrame(\n",
    "    redundant_minutes_frequency[redundant_minutes_frequency.columns[:-1]] * power_consumption_df[\n",
    "        'PowerConsumption(W/s)'].div(60000)).sum(1)"
   ],
   "metadata": {
    "collapsed": false,
    "pycharm": {
     "name": "#%%\n"
    }
   }
  },
  {
   "cell_type": "code",
   "execution_count": null,
   "outputs": [],
   "source": [
    "redundant_minutes_frequency"
   ],
   "metadata": {
    "collapsed": false,
    "pycharm": {
     "name": "#%%\n"
    }
   }
  },
  {
   "cell_type": "markdown",
   "source": [
    "## Calculate the watt used in redudant intervals"
   ],
   "metadata": {
    "collapsed": false
   }
  },
  {
   "cell_type": "markdown",
   "source": [
    "## Plot the redundant time intervals and highlight them with colors"
   ],
   "metadata": {
    "collapsed": false
   }
  },
  {
   "cell_type": "code",
   "execution_count": null,
   "outputs": [],
   "source": [],
   "metadata": {
    "collapsed": false,
    "pycharm": {
     "name": "#%%\n"
    }
   }
  },
  {
   "cell_type": "code",
   "execution_count": null,
   "outputs": [],
   "source": [],
   "metadata": {
    "collapsed": false,
    "pycharm": {
     "name": "#%%\n"
    }
   }
  }
 ],
 "metadata": {
  "kernelspec": {
   "display_name": "Python 3",
   "language": "python",
   "name": "python3"
  },
  "language_info": {
   "codemirror_mode": {
    "name": "ipython",
    "version": 2
   },
   "file_extension": ".py",
   "mimetype": "text/x-python",
   "name": "python",
   "nbconvert_exporter": "python",
   "pygments_lexer": "ipython2",
   "version": "2.7.6"
  }
 },
 "nbformat": 4,
 "nbformat_minor": 0
}
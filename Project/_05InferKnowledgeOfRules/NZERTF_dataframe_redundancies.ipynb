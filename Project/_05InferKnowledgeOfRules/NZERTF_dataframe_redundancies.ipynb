{
 "cells": [
  {
   "cell_type": "code",
   "execution_count": 2,
   "metadata": {
    "collapsed": true
   },
   "outputs": [],
   "source": [
    "import pandas as pd\n",
    "import plotly.express as px\n",
    "\n",
    "from Project._05InferKnowledgeOfRules.NZERTF_dataframe_redundancy_functions import create_redundancy_dataframes"
   ]
  },
  {
   "cell_type": "code",
   "execution_count": 3,
   "outputs": [],
   "source": [
    "year_redundancy_df_dict, timestamp_dict = create_redundancy_dataframes()"
   ],
   "metadata": {
    "collapsed": false,
    "pycharm": {
     "name": "#%%\n"
    }
   }
  },
  {
   "cell_type": "code",
   "execution_count": 3,
   "outputs": [
    {
     "data": {
      "text/plain": "('2028.52 hours', '119.4787 kWh')"
     },
     "execution_count": 3,
     "metadata": {},
     "output_type": "execute_result"
    }
   ],
   "source": [
    "total_minutes = 0\n",
    "total_energy = 0\n",
    "\n",
    "for year in [1,2]:\n",
    "    total_minutes += year_redundancy_df_dict[f'Year{year}']['RedundantMinutes'].sum() / 60\n",
    "    total_energy += year_redundancy_df_dict[f'Year{year}']['EnergyConsumed'].sum()\n",
    "\n",
    "total_minutes = str(round(total_minutes, 2)) + ' hours'\n",
    "total_energy = str(round(total_energy, 4)) + ' kWh'\n",
    "total_minutes, total_energy"
   ],
   "metadata": {
    "collapsed": false,
    "pycharm": {
     "name": "#%%\n"
    }
   }
  },
  {
   "cell_type": "code",
   "execution_count": 4,
   "outputs": [],
   "source": [
    "redundant_minutes_frequency = timestamp_dict['Year1'].groupby(timestamp_dict['Year1']['Timestamp'].dt.hour).sum()"
   ],
   "metadata": {
    "collapsed": false,
    "pycharm": {
     "name": "#%%\n"
    }
   }
  },
  {
   "cell_type": "code",
   "execution_count": 5,
   "outputs": [],
   "source": [
    "redundant_minutes_frequency['TotalMinutes'] = redundant_minutes_frequency.sum(1)"
   ],
   "metadata": {
    "collapsed": false,
    "pycharm": {
     "name": "#%%\n"
    }
   }
  },
  {
   "cell_type": "code",
   "execution_count": 6,
   "outputs": [],
   "source": [
    "redundant_minutes_frequency['EnergyConsumed(kWh)'] = pd.DataFrame(redundant_minutes_frequency[redundant_minutes_frequency.columns[:-1]]*year_redundancy_df_dict['Year1']['PowerConsumption'].div(60000)).sum(1)"
   ],
   "metadata": {
    "collapsed": false,
    "pycharm": {
     "name": "#%%\n"
    }
   }
  },
  {
   "cell_type": "code",
   "execution_count": 7,
   "outputs": [
    {
     "data": {
      "text/plain": "           Load_StatusBA1Lights  Load_StatusBA2Lights  Load_StatusBR2Lights  \\\nTimestamp                                                                     \n0                           0.0                   0.0                   0.0   \n1                           0.0                   0.0                   0.0   \n2                           0.0                   0.0                   0.0   \n3                           0.0                   0.0                  43.0   \n4                           0.0                   0.0                   2.0   \n5                           0.0                   0.0                   0.0   \n6                           0.0                   0.0                 100.0   \n7                           0.0                   0.0                   2.0   \n8                           0.0                  67.0                   0.0   \n9                           0.0                 683.0                   0.0   \n10                          0.0                   0.0                   0.0   \n11                          0.0                   0.0                   0.0   \n12                          0.0                   0.0                   0.0   \n13                          0.0                   0.0                   0.0   \n14                          0.0                   0.0                   0.0   \n15                          0.0                   0.0                   0.0   \n16                          0.0                  15.0                   0.0   \n17                          0.0                   0.0                   0.0   \n18                          0.0                   0.0                  40.0   \n19                          0.0                  73.0                8105.0   \n20                         39.0                 677.0                3587.0   \n21                        118.0                   0.0                 118.0   \n22                         58.0                   0.0                   0.0   \n23                          0.0                   0.0                  84.0   \n\n           Load_StatusBR3Lights  Load_StatusBR4Lights  Load_StatusDRLights  \\\nTimestamp                                                                    \n0                           0.0                   0.0                  0.0   \n1                           0.0                   0.0                  0.0   \n2                           0.0                   0.0                  0.0   \n3                          43.0                   0.0                  0.0   \n4                           2.0                   0.0                  0.0   \n5                           0.0                   0.0                  0.0   \n6                          50.0                   0.0                  0.0   \n7                           0.0                   0.0                  0.0   \n8                           0.0                   0.0                  0.0   \n9                           0.0                   0.0                  0.0   \n10                          0.0                   0.0                  0.0   \n11                          0.0                   0.0                  0.0   \n12                          0.0                   0.0                  0.0   \n13                          0.0                   0.0                  0.0   \n14                          0.0                   0.0                  0.0   \n15                          0.0                   0.0                  0.0   \n16                          0.0                   0.0                  0.0   \n17                          0.0                   0.0                  0.0   \n18                          0.0                   0.0                  0.0   \n19                       8075.0                   0.0                  1.0   \n20                       3481.0                   0.0                  0.0   \n21                          0.0                   0.0                  0.0   \n22                          0.0                  60.0                  0.0   \n23                          0.0                   0.0                  0.0   \n\n           Load_StatusEntryHallLights  Load_StatusLRLights1  \\\nTimestamp                                                     \n0                                 0.0                   0.0   \n1                                 0.0                   0.0   \n2                                 0.0                   0.0   \n3                                 0.0                   0.0   \n4                                 0.0                   0.0   \n5                                 0.0                   0.0   \n6                                 0.0                   0.0   \n7                                 0.0                   0.0   \n8                                 0.0                   0.0   \n9                                 0.0                   0.0   \n10                                0.0                   0.0   \n11                                0.0                   0.0   \n12                                0.0                   0.0   \n13                                0.0                   0.0   \n14                                0.0                   0.0   \n15                                0.0                   0.0   \n16                                0.0                   0.0   \n17                                0.0                   0.0   \n18                                0.0                   0.0   \n19                                1.0                   0.0   \n20                                0.0                   0.0   \n21                                0.0                   0.0   \n22                                0.0                   0.0   \n23                                0.0                   0.0   \n\n           Load_StatusLRLights2  Load_StatusLRLights3  ...  \\\nTimestamp                                              ...   \n0                           2.0                   0.0  ...   \n1                           0.0                   0.0  ...   \n2                           0.0                   0.0  ...   \n3                           0.0                   0.0  ...   \n4                           0.0                   0.0  ...   \n5                           0.0                   0.0  ...   \n6                           0.0                   0.0  ...   \n7                           0.0                   0.0  ...   \n8                           0.0                   0.0  ...   \n9                           0.0                   0.0  ...   \n10                          0.0                   0.0  ...   \n11                          0.0                   0.0  ...   \n12                          0.0                   0.0  ...   \n13                          0.0                   0.0  ...   \n14                          0.0                   0.0  ...   \n15                          0.0                   0.0  ...   \n16                          0.0                   0.0  ...   \n17                          0.0                   0.0  ...   \n18                          0.0                   0.0  ...   \n19                          0.0                   0.0  ...   \n20                         54.0                   0.0  ...   \n21                        118.0                   0.0  ...   \n22                        118.0                   0.0  ...   \n23                        118.0                   0.0  ...   \n\n           Load_StatusPlugLoadHeatingPad  Load_StatusPlugLoadIron  \\\nTimestamp                                                           \n0                                    0.0                      0.0   \n1                                    0.0                      0.0   \n2                                    0.0                      0.0   \n3                                    0.0                      0.0   \n4                                    0.0                      0.0   \n5                                    0.0                      0.0   \n6                                    0.0                      0.0   \n7                                    0.0                      0.0   \n8                                    0.0                      0.0   \n9                                    0.0                      0.0   \n10                                   0.0                      0.0   \n11                                   0.0                      0.0   \n12                                   0.0                      0.0   \n13                                   0.0                      0.0   \n14                                   0.0                    492.0   \n15                                   0.0                      0.0   \n16                                   0.0                      0.0   \n17                                   0.0                      0.0   \n18                                   0.0                      0.0   \n19                                   0.0                      0.0   \n20                                   0.0                      0.0   \n21                                   0.0                      0.0   \n22                                   0.0                     10.0   \n23                                   0.0                      0.0   \n\n           Load_StatusPlugLoadLRBlueRay  Load_StatusPlugLoadLRTV  \\\nTimestamp                                                          \n0                                   0.0                      0.0   \n1                                   0.0                      0.0   \n2                                   0.0                      0.0   \n3                                   0.0                      0.0   \n4                                   0.0                      0.0   \n5                                   0.0                      0.0   \n6                                   0.0                     10.0   \n7                                   0.0                      0.0   \n8                                   0.0                      0.0   \n9                                   0.0                      0.0   \n10                                  0.0                      0.0   \n11                                  0.0                      0.0   \n12                                  0.0                      0.0   \n13                                  0.0                      0.0   \n14                                  0.0                      0.0   \n15                                  0.0                      0.0   \n16                                  0.0                      0.0   \n17                                  0.0                      0.0   \n18                                  0.0                      0.0   \n19                                  0.0                      0.0   \n20                                  0.0                      0.0   \n21                                  0.0                      0.0   \n22                                  0.0                    500.0   \n23                                  0.0                      0.0   \n\n           Load_StatusPlugLoadMBRBlueRay  Load_StatusPlugLoadMBRTV  \\\nTimestamp                                                            \n0                                    0.0                       0.0   \n1                                    0.0                       0.0   \n2                                    0.0                       0.0   \n3                                    0.0                       0.0   \n4                                    0.0                       0.0   \n5                                    0.0                       0.0   \n6                                    0.0                      75.0   \n7                                    0.0                       0.0   \n8                                    0.0                       0.0   \n9                                    0.0                       0.0   \n10                                   0.0                       0.0   \n11                                   0.0                       0.0   \n12                                   0.0                       0.0   \n13                                   0.0                       0.0   \n14                                   0.0                       0.0   \n15                                   0.0                       0.0   \n16                                   0.0                       0.0   \n17                                   0.0                       0.0   \n18                                   0.0                       0.0   \n19                                   0.0                       0.0   \n20                                   0.0                       0.0   \n21                                   0.0                       0.0   \n22                                   0.0                       0.0   \n23                                   0.0                       0.0   \n\n           Load_StatusPlugLoadVacuum  Load_StatusPlugLoadVideoGame  \\\nTimestamp                                                            \n0                                0.0                           0.0   \n1                                0.0                           0.0   \n2                                0.0                           0.0   \n3                                0.0                           0.0   \n4                                0.0                           0.0   \n5                                0.0                           0.0   \n6                                0.0                           0.0   \n7                                0.0                           0.0   \n8                                0.0                           0.0   \n9                                0.0                           0.0   \n10                               0.0                           0.0   \n11                               0.0                           0.0   \n12                               0.0                           0.0   \n13                               0.0                           0.0   \n14                               0.0                           0.0   \n15                               0.0                           0.0   \n16                               0.0                           0.0   \n17                               0.0                           0.0   \n18                               0.0                           0.0   \n19                               0.0                           1.0   \n20                               0.0                           0.0   \n21                               0.0                           0.0   \n22                               0.0                           0.0   \n23                               0.0                           0.0   \n\n           TotalMinutes  EnergyConsumed(kWh)  \nTimestamp                                     \n0                   4.0             0.002584  \n1                   0.0             0.000000  \n2                   0.0             0.000000  \n3                 197.0             0.151331  \n4                  13.0             0.012442  \n5                  10.0             0.014082  \n6                 450.0             0.454867  \n7                   2.0             0.001334  \n8                  67.0             0.012810  \n9                 818.0             0.382355  \n10               5925.0            11.049963  \n11                  0.0             0.000000  \n12                  0.0             0.000000  \n13                  0.0             0.000000  \n14                492.0            10.684753  \n15                  0.0             0.000000  \n16                 15.0             0.002868  \n17                 15.0             0.027975  \n18                 90.0             0.117640  \n19              35636.0            24.228348  \n20              16217.0            10.702685  \n21                354.0             0.218672  \n22                766.0             0.944839  \n23                436.0             0.287078  \n\n[24 rows x 28 columns]",
      "text/html": "<div>\n<style scoped>\n    .dataframe tbody tr th:only-of-type {\n        vertical-align: middle;\n    }\n\n    .dataframe tbody tr th {\n        vertical-align: top;\n    }\n\n    .dataframe thead th {\n        text-align: right;\n    }\n</style>\n<table border=\"1\" class=\"dataframe\">\n  <thead>\n    <tr style=\"text-align: right;\">\n      <th></th>\n      <th>Load_StatusBA1Lights</th>\n      <th>Load_StatusBA2Lights</th>\n      <th>Load_StatusBR2Lights</th>\n      <th>Load_StatusBR3Lights</th>\n      <th>Load_StatusBR4Lights</th>\n      <th>Load_StatusDRLights</th>\n      <th>Load_StatusEntryHallLights</th>\n      <th>Load_StatusLRLights1</th>\n      <th>Load_StatusLRLights2</th>\n      <th>Load_StatusLRLights3</th>\n      <th>...</th>\n      <th>Load_StatusPlugLoadHeatingPad</th>\n      <th>Load_StatusPlugLoadIron</th>\n      <th>Load_StatusPlugLoadLRBlueRay</th>\n      <th>Load_StatusPlugLoadLRTV</th>\n      <th>Load_StatusPlugLoadMBRBlueRay</th>\n      <th>Load_StatusPlugLoadMBRTV</th>\n      <th>Load_StatusPlugLoadVacuum</th>\n      <th>Load_StatusPlugLoadVideoGame</th>\n      <th>TotalMinutes</th>\n      <th>EnergyConsumed(kWh)</th>\n    </tr>\n    <tr>\n      <th>Timestamp</th>\n      <th></th>\n      <th></th>\n      <th></th>\n      <th></th>\n      <th></th>\n      <th></th>\n      <th></th>\n      <th></th>\n      <th></th>\n      <th></th>\n      <th></th>\n      <th></th>\n      <th></th>\n      <th></th>\n      <th></th>\n      <th></th>\n      <th></th>\n      <th></th>\n      <th></th>\n      <th></th>\n      <th></th>\n    </tr>\n  </thead>\n  <tbody>\n    <tr>\n      <th>0</th>\n      <td>0.0</td>\n      <td>0.0</td>\n      <td>0.0</td>\n      <td>0.0</td>\n      <td>0.0</td>\n      <td>0.0</td>\n      <td>0.0</td>\n      <td>0.0</td>\n      <td>2.0</td>\n      <td>0.0</td>\n      <td>...</td>\n      <td>0.0</td>\n      <td>0.0</td>\n      <td>0.0</td>\n      <td>0.0</td>\n      <td>0.0</td>\n      <td>0.0</td>\n      <td>0.0</td>\n      <td>0.0</td>\n      <td>4.0</td>\n      <td>0.002584</td>\n    </tr>\n    <tr>\n      <th>1</th>\n      <td>0.0</td>\n      <td>0.0</td>\n      <td>0.0</td>\n      <td>0.0</td>\n      <td>0.0</td>\n      <td>0.0</td>\n      <td>0.0</td>\n      <td>0.0</td>\n      <td>0.0</td>\n      <td>0.0</td>\n      <td>...</td>\n      <td>0.0</td>\n      <td>0.0</td>\n      <td>0.0</td>\n      <td>0.0</td>\n      <td>0.0</td>\n      <td>0.0</td>\n      <td>0.0</td>\n      <td>0.0</td>\n      <td>0.0</td>\n      <td>0.000000</td>\n    </tr>\n    <tr>\n      <th>2</th>\n      <td>0.0</td>\n      <td>0.0</td>\n      <td>0.0</td>\n      <td>0.0</td>\n      <td>0.0</td>\n      <td>0.0</td>\n      <td>0.0</td>\n      <td>0.0</td>\n      <td>0.0</td>\n      <td>0.0</td>\n      <td>...</td>\n      <td>0.0</td>\n      <td>0.0</td>\n      <td>0.0</td>\n      <td>0.0</td>\n      <td>0.0</td>\n      <td>0.0</td>\n      <td>0.0</td>\n      <td>0.0</td>\n      <td>0.0</td>\n      <td>0.000000</td>\n    </tr>\n    <tr>\n      <th>3</th>\n      <td>0.0</td>\n      <td>0.0</td>\n      <td>43.0</td>\n      <td>43.0</td>\n      <td>0.0</td>\n      <td>0.0</td>\n      <td>0.0</td>\n      <td>0.0</td>\n      <td>0.0</td>\n      <td>0.0</td>\n      <td>...</td>\n      <td>0.0</td>\n      <td>0.0</td>\n      <td>0.0</td>\n      <td>0.0</td>\n      <td>0.0</td>\n      <td>0.0</td>\n      <td>0.0</td>\n      <td>0.0</td>\n      <td>197.0</td>\n      <td>0.151331</td>\n    </tr>\n    <tr>\n      <th>4</th>\n      <td>0.0</td>\n      <td>0.0</td>\n      <td>2.0</td>\n      <td>2.0</td>\n      <td>0.0</td>\n      <td>0.0</td>\n      <td>0.0</td>\n      <td>0.0</td>\n      <td>0.0</td>\n      <td>0.0</td>\n      <td>...</td>\n      <td>0.0</td>\n      <td>0.0</td>\n      <td>0.0</td>\n      <td>0.0</td>\n      <td>0.0</td>\n      <td>0.0</td>\n      <td>0.0</td>\n      <td>0.0</td>\n      <td>13.0</td>\n      <td>0.012442</td>\n    </tr>\n    <tr>\n      <th>5</th>\n      <td>0.0</td>\n      <td>0.0</td>\n      <td>0.0</td>\n      <td>0.0</td>\n      <td>0.0</td>\n      <td>0.0</td>\n      <td>0.0</td>\n      <td>0.0</td>\n      <td>0.0</td>\n      <td>0.0</td>\n      <td>...</td>\n      <td>0.0</td>\n      <td>0.0</td>\n      <td>0.0</td>\n      <td>0.0</td>\n      <td>0.0</td>\n      <td>0.0</td>\n      <td>0.0</td>\n      <td>0.0</td>\n      <td>10.0</td>\n      <td>0.014082</td>\n    </tr>\n    <tr>\n      <th>6</th>\n      <td>0.0</td>\n      <td>0.0</td>\n      <td>100.0</td>\n      <td>50.0</td>\n      <td>0.0</td>\n      <td>0.0</td>\n      <td>0.0</td>\n      <td>0.0</td>\n      <td>0.0</td>\n      <td>0.0</td>\n      <td>...</td>\n      <td>0.0</td>\n      <td>0.0</td>\n      <td>0.0</td>\n      <td>10.0</td>\n      <td>0.0</td>\n      <td>75.0</td>\n      <td>0.0</td>\n      <td>0.0</td>\n      <td>450.0</td>\n      <td>0.454867</td>\n    </tr>\n    <tr>\n      <th>7</th>\n      <td>0.0</td>\n      <td>0.0</td>\n      <td>2.0</td>\n      <td>0.0</td>\n      <td>0.0</td>\n      <td>0.0</td>\n      <td>0.0</td>\n      <td>0.0</td>\n      <td>0.0</td>\n      <td>0.0</td>\n      <td>...</td>\n      <td>0.0</td>\n      <td>0.0</td>\n      <td>0.0</td>\n      <td>0.0</td>\n      <td>0.0</td>\n      <td>0.0</td>\n      <td>0.0</td>\n      <td>0.0</td>\n      <td>2.0</td>\n      <td>0.001334</td>\n    </tr>\n    <tr>\n      <th>8</th>\n      <td>0.0</td>\n      <td>67.0</td>\n      <td>0.0</td>\n      <td>0.0</td>\n      <td>0.0</td>\n      <td>0.0</td>\n      <td>0.0</td>\n      <td>0.0</td>\n      <td>0.0</td>\n      <td>0.0</td>\n      <td>...</td>\n      <td>0.0</td>\n      <td>0.0</td>\n      <td>0.0</td>\n      <td>0.0</td>\n      <td>0.0</td>\n      <td>0.0</td>\n      <td>0.0</td>\n      <td>0.0</td>\n      <td>67.0</td>\n      <td>0.012810</td>\n    </tr>\n    <tr>\n      <th>9</th>\n      <td>0.0</td>\n      <td>683.0</td>\n      <td>0.0</td>\n      <td>0.0</td>\n      <td>0.0</td>\n      <td>0.0</td>\n      <td>0.0</td>\n      <td>0.0</td>\n      <td>0.0</td>\n      <td>0.0</td>\n      <td>...</td>\n      <td>0.0</td>\n      <td>0.0</td>\n      <td>0.0</td>\n      <td>0.0</td>\n      <td>0.0</td>\n      <td>0.0</td>\n      <td>0.0</td>\n      <td>0.0</td>\n      <td>818.0</td>\n      <td>0.382355</td>\n    </tr>\n    <tr>\n      <th>10</th>\n      <td>0.0</td>\n      <td>0.0</td>\n      <td>0.0</td>\n      <td>0.0</td>\n      <td>0.0</td>\n      <td>0.0</td>\n      <td>0.0</td>\n      <td>0.0</td>\n      <td>0.0</td>\n      <td>0.0</td>\n      <td>...</td>\n      <td>0.0</td>\n      <td>0.0</td>\n      <td>0.0</td>\n      <td>0.0</td>\n      <td>0.0</td>\n      <td>0.0</td>\n      <td>0.0</td>\n      <td>0.0</td>\n      <td>5925.0</td>\n      <td>11.049963</td>\n    </tr>\n    <tr>\n      <th>11</th>\n      <td>0.0</td>\n      <td>0.0</td>\n      <td>0.0</td>\n      <td>0.0</td>\n      <td>0.0</td>\n      <td>0.0</td>\n      <td>0.0</td>\n      <td>0.0</td>\n      <td>0.0</td>\n      <td>0.0</td>\n      <td>...</td>\n      <td>0.0</td>\n      <td>0.0</td>\n      <td>0.0</td>\n      <td>0.0</td>\n      <td>0.0</td>\n      <td>0.0</td>\n      <td>0.0</td>\n      <td>0.0</td>\n      <td>0.0</td>\n      <td>0.000000</td>\n    </tr>\n    <tr>\n      <th>12</th>\n      <td>0.0</td>\n      <td>0.0</td>\n      <td>0.0</td>\n      <td>0.0</td>\n      <td>0.0</td>\n      <td>0.0</td>\n      <td>0.0</td>\n      <td>0.0</td>\n      <td>0.0</td>\n      <td>0.0</td>\n      <td>...</td>\n      <td>0.0</td>\n      <td>0.0</td>\n      <td>0.0</td>\n      <td>0.0</td>\n      <td>0.0</td>\n      <td>0.0</td>\n      <td>0.0</td>\n      <td>0.0</td>\n      <td>0.0</td>\n      <td>0.000000</td>\n    </tr>\n    <tr>\n      <th>13</th>\n      <td>0.0</td>\n      <td>0.0</td>\n      <td>0.0</td>\n      <td>0.0</td>\n      <td>0.0</td>\n      <td>0.0</td>\n      <td>0.0</td>\n      <td>0.0</td>\n      <td>0.0</td>\n      <td>0.0</td>\n      <td>...</td>\n      <td>0.0</td>\n      <td>0.0</td>\n      <td>0.0</td>\n      <td>0.0</td>\n      <td>0.0</td>\n      <td>0.0</td>\n      <td>0.0</td>\n      <td>0.0</td>\n      <td>0.0</td>\n      <td>0.000000</td>\n    </tr>\n    <tr>\n      <th>14</th>\n      <td>0.0</td>\n      <td>0.0</td>\n      <td>0.0</td>\n      <td>0.0</td>\n      <td>0.0</td>\n      <td>0.0</td>\n      <td>0.0</td>\n      <td>0.0</td>\n      <td>0.0</td>\n      <td>0.0</td>\n      <td>...</td>\n      <td>0.0</td>\n      <td>492.0</td>\n      <td>0.0</td>\n      <td>0.0</td>\n      <td>0.0</td>\n      <td>0.0</td>\n      <td>0.0</td>\n      <td>0.0</td>\n      <td>492.0</td>\n      <td>10.684753</td>\n    </tr>\n    <tr>\n      <th>15</th>\n      <td>0.0</td>\n      <td>0.0</td>\n      <td>0.0</td>\n      <td>0.0</td>\n      <td>0.0</td>\n      <td>0.0</td>\n      <td>0.0</td>\n      <td>0.0</td>\n      <td>0.0</td>\n      <td>0.0</td>\n      <td>...</td>\n      <td>0.0</td>\n      <td>0.0</td>\n      <td>0.0</td>\n      <td>0.0</td>\n      <td>0.0</td>\n      <td>0.0</td>\n      <td>0.0</td>\n      <td>0.0</td>\n      <td>0.0</td>\n      <td>0.000000</td>\n    </tr>\n    <tr>\n      <th>16</th>\n      <td>0.0</td>\n      <td>15.0</td>\n      <td>0.0</td>\n      <td>0.0</td>\n      <td>0.0</td>\n      <td>0.0</td>\n      <td>0.0</td>\n      <td>0.0</td>\n      <td>0.0</td>\n      <td>0.0</td>\n      <td>...</td>\n      <td>0.0</td>\n      <td>0.0</td>\n      <td>0.0</td>\n      <td>0.0</td>\n      <td>0.0</td>\n      <td>0.0</td>\n      <td>0.0</td>\n      <td>0.0</td>\n      <td>15.0</td>\n      <td>0.002868</td>\n    </tr>\n    <tr>\n      <th>17</th>\n      <td>0.0</td>\n      <td>0.0</td>\n      <td>0.0</td>\n      <td>0.0</td>\n      <td>0.0</td>\n      <td>0.0</td>\n      <td>0.0</td>\n      <td>0.0</td>\n      <td>0.0</td>\n      <td>0.0</td>\n      <td>...</td>\n      <td>0.0</td>\n      <td>0.0</td>\n      <td>0.0</td>\n      <td>0.0</td>\n      <td>0.0</td>\n      <td>0.0</td>\n      <td>0.0</td>\n      <td>0.0</td>\n      <td>15.0</td>\n      <td>0.027975</td>\n    </tr>\n    <tr>\n      <th>18</th>\n      <td>0.0</td>\n      <td>0.0</td>\n      <td>40.0</td>\n      <td>0.0</td>\n      <td>0.0</td>\n      <td>0.0</td>\n      <td>0.0</td>\n      <td>0.0</td>\n      <td>0.0</td>\n      <td>0.0</td>\n      <td>...</td>\n      <td>0.0</td>\n      <td>0.0</td>\n      <td>0.0</td>\n      <td>0.0</td>\n      <td>0.0</td>\n      <td>0.0</td>\n      <td>0.0</td>\n      <td>0.0</td>\n      <td>90.0</td>\n      <td>0.117640</td>\n    </tr>\n    <tr>\n      <th>19</th>\n      <td>0.0</td>\n      <td>73.0</td>\n      <td>8105.0</td>\n      <td>8075.0</td>\n      <td>0.0</td>\n      <td>1.0</td>\n      <td>1.0</td>\n      <td>0.0</td>\n      <td>0.0</td>\n      <td>0.0</td>\n      <td>...</td>\n      <td>0.0</td>\n      <td>0.0</td>\n      <td>0.0</td>\n      <td>0.0</td>\n      <td>0.0</td>\n      <td>0.0</td>\n      <td>0.0</td>\n      <td>1.0</td>\n      <td>35636.0</td>\n      <td>24.228348</td>\n    </tr>\n    <tr>\n      <th>20</th>\n      <td>39.0</td>\n      <td>677.0</td>\n      <td>3587.0</td>\n      <td>3481.0</td>\n      <td>0.0</td>\n      <td>0.0</td>\n      <td>0.0</td>\n      <td>0.0</td>\n      <td>54.0</td>\n      <td>0.0</td>\n      <td>...</td>\n      <td>0.0</td>\n      <td>0.0</td>\n      <td>0.0</td>\n      <td>0.0</td>\n      <td>0.0</td>\n      <td>0.0</td>\n      <td>0.0</td>\n      <td>0.0</td>\n      <td>16217.0</td>\n      <td>10.702685</td>\n    </tr>\n    <tr>\n      <th>21</th>\n      <td>118.0</td>\n      <td>0.0</td>\n      <td>118.0</td>\n      <td>0.0</td>\n      <td>0.0</td>\n      <td>0.0</td>\n      <td>0.0</td>\n      <td>0.0</td>\n      <td>118.0</td>\n      <td>0.0</td>\n      <td>...</td>\n      <td>0.0</td>\n      <td>0.0</td>\n      <td>0.0</td>\n      <td>0.0</td>\n      <td>0.0</td>\n      <td>0.0</td>\n      <td>0.0</td>\n      <td>0.0</td>\n      <td>354.0</td>\n      <td>0.218672</td>\n    </tr>\n    <tr>\n      <th>22</th>\n      <td>58.0</td>\n      <td>0.0</td>\n      <td>0.0</td>\n      <td>0.0</td>\n      <td>60.0</td>\n      <td>0.0</td>\n      <td>0.0</td>\n      <td>0.0</td>\n      <td>118.0</td>\n      <td>0.0</td>\n      <td>...</td>\n      <td>0.0</td>\n      <td>10.0</td>\n      <td>0.0</td>\n      <td>500.0</td>\n      <td>0.0</td>\n      <td>0.0</td>\n      <td>0.0</td>\n      <td>0.0</td>\n      <td>766.0</td>\n      <td>0.944839</td>\n    </tr>\n    <tr>\n      <th>23</th>\n      <td>0.0</td>\n      <td>0.0</td>\n      <td>84.0</td>\n      <td>0.0</td>\n      <td>0.0</td>\n      <td>0.0</td>\n      <td>0.0</td>\n      <td>0.0</td>\n      <td>118.0</td>\n      <td>0.0</td>\n      <td>...</td>\n      <td>0.0</td>\n      <td>0.0</td>\n      <td>0.0</td>\n      <td>0.0</td>\n      <td>0.0</td>\n      <td>0.0</td>\n      <td>0.0</td>\n      <td>0.0</td>\n      <td>436.0</td>\n      <td>0.287078</td>\n    </tr>\n  </tbody>\n</table>\n<p>24 rows × 28 columns</p>\n</div>"
     },
     "execution_count": 7,
     "metadata": {},
     "output_type": "execute_result"
    }
   ],
   "source": [
    "redundant_minutes_frequency"
   ],
   "metadata": {
    "collapsed": false,
    "pycharm": {
     "name": "#%%\n"
    }
   }
  },
  {
   "cell_type": "markdown",
   "source": [
    "## Calculate the watt used in redudant intervals"
   ],
   "metadata": {
    "collapsed": false
   }
  },
  {
   "cell_type": "markdown",
   "source": [
    "## Plot the redundant time intervals and highlight them with colors"
   ],
   "metadata": {
    "collapsed": false
   }
  },
  {
   "cell_type": "code",
   "execution_count": 7,
   "outputs": [],
   "source": [],
   "metadata": {
    "collapsed": false,
    "pycharm": {
     "name": "#%%\n"
    }
   }
  },
  {
   "cell_type": "code",
   "execution_count": 8,
   "outputs": [
    {
     "ename": "NameError",
     "evalue": "name 'NZERTF' is not defined",
     "output_type": "error",
     "traceback": [
      "\u001B[1;31m---------------------------------------------------------------------------\u001B[0m",
      "\u001B[1;31mNameError\u001B[0m                                 Traceback (most recent call last)",
      "Input \u001B[1;32mIn [8]\u001B[0m, in \u001B[0;36m<module>\u001B[1;34m\u001B[0m\n\u001B[1;32m----> 1\u001B[0m fig \u001B[38;5;241m=\u001B[39m px\u001B[38;5;241m.\u001B[39mscatter(\u001B[43mNZERTF\u001B[49m, x\u001B[38;5;241m=\u001B[39m\u001B[38;5;124m'\u001B[39m\u001B[38;5;124mTimestamp\u001B[39m\u001B[38;5;124m'\u001B[39m, y\u001B[38;5;241m=\u001B[39m\u001B[38;5;124m'\u001B[39m\u001B[38;5;124mLoad_MBRPlugLoadsPowerUsage\u001B[39m\u001B[38;5;124m'\u001B[39m)\n\u001B[0;32m      2\u001B[0m fig\u001B[38;5;241m.\u001B[39mshow()\n",
      "\u001B[1;31mNameError\u001B[0m: name 'NZERTF' is not defined"
     ]
    }
   ],
   "source": [
    "# fig = px.scatter(NZERTF, x='Timestamp', y='Load_MBRPlugLoadsPowerUsage')\n",
    "# fig.show()"
   ],
   "metadata": {
    "collapsed": false,
    "pycharm": {
     "name": "#%%\n"
    }
   }
  },
  {
   "cell_type": "code",
   "execution_count": null,
   "outputs": [],
   "source": [],
   "metadata": {
    "collapsed": false,
    "pycharm": {
     "name": "#%%\n"
    }
   }
  }
 ],
 "metadata": {
  "kernelspec": {
   "display_name": "Python 3",
   "language": "python",
   "name": "python3"
  },
  "language_info": {
   "codemirror_mode": {
    "name": "ipython",
    "version": 2
   },
   "file_extension": ".py",
   "mimetype": "text/x-python",
   "name": "python",
   "nbconvert_exporter": "python",
   "pygments_lexer": "ipython2",
   "version": "2.7.6"
  }
 },
 "nbformat": 4,
 "nbformat_minor": 0
}
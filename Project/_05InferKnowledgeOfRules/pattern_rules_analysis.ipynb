{
 "cells": [
  {
   "cell_type": "code",
   "execution_count": 75,
   "outputs": [],
   "source": [
    "import pandas as pd\n",
    "import plotly.express as px\n",
    "import re\n",
    "import datetime\n",
    "import numpy as np\n",
    "import json\n",
    "from Project.Database import Db\n",
    "from Project._04TPMAlgorithm.transform_for_TPM_algorithm import light_location_dict"
   ],
   "metadata": {
    "collapsed": false,
    "pycharm": {
     "name": "#%%\n"
    }
   }
  },
  {
   "cell_type": "code",
   "execution_count": 76,
   "metadata": {
    "collapsed": true
   },
   "outputs": [],
   "source": [
    "level1_json = json.load(\n",
    "    open(Db.get_project_path(\"Project/_04TPMAlgorithm/TPM/output/NZERTF_year1_minsup0.14_minconf_0.5/level1.json\")))"
   ]
  },
  {
   "cell_type": "code",
   "execution_count": 77,
   "outputs": [],
   "source": [
    "level2_json = json.load(\n",
    "    open(Db.get_project_path(\"Project/_04TPMAlgorithm/TPM/output/NZERTF_year1_minsup0.14_minconf_0.5/level2.json\")))"
   ],
   "metadata": {
    "collapsed": false,
    "pycharm": {
     "name": "#%%\n"
    }
   }
  },
  {
   "cell_type": "code",
   "execution_count": 78,
   "outputs": [],
   "source": [
    "level3_json = json.load(\n",
    "    open(Db.get_project_path(\"Project/_04TPMAlgorithm/TPM/output/NZERTF_year1_minsup0.14_minconf_0.5/level3.json\")))"
   ],
   "metadata": {
    "collapsed": false,
    "pycharm": {
     "name": "#%%\n"
    }
   }
  },
  {
   "cell_type": "code",
   "execution_count": 79,
   "outputs": [],
   "source": [
    "meta = Db.load_data(meta=True, consumption=False, hourly=False)"
   ],
   "metadata": {
    "collapsed": false,
    "pycharm": {
     "name": "#%%\n"
    }
   }
  },
  {
   "cell_type": "code",
   "execution_count": 80,
   "outputs": [],
   "source": [
    "def json_to_dataframe(json_file):\n",
    "    if \",\" in json_file[0][\"name_node\"]:\n",
    "        level_df = pd.DataFrame(columns=[\"pattern\",\"supp\",\"conf\", \"time\"])\n",
    "        for i in json_file:\n",
    "            for j in i[\"patterns\"]:\n",
    "                level_df.loc[level_df.shape[0]] = j\n",
    "    else:\n",
    "        level_df = pd.DataFrame(columns=[\"name_node\",\"supp\",\"conf\"])\n",
    "        for i in json_file:\n",
    "            level_df.loc[level_df.shape[0]] = i\n",
    "    return level_df"
   ],
   "metadata": {
    "collapsed": false,
    "pycharm": {
     "name": "#%%\n"
    }
   }
  },
  {
   "cell_type": "code",
   "execution_count": 81,
   "outputs": [],
   "source": [
    "level2_df = json_to_dataframe(level2_json)"
   ],
   "metadata": {
    "collapsed": false,
    "pycharm": {
     "name": "#%%\n"
    }
   }
  },
  {
   "cell_type": "code",
   "execution_count": 82,
   "outputs": [
    {
     "data": {
      "text/plain": "                                                pattern      supp      conf  \\\n0     Load_StatusMBALights->Load_StatusMBALights*Loa...  0.698630  0.704420   \n1     Load_StatusMBALights->Load_StatusMBALights*Loa...  0.701370  0.707182   \n2     Load_StatusMBALights->Load_StatusMBALights*Loa...  0.701370  0.701370   \n3     Load_StatusMBALights->Load_StatusMBALights*Loa...  0.701370  0.707182   \n4     Load_StatusMBALights->Load_StatusMBALights*Loa...  0.701370  0.707182   \n...                                                 ...       ...       ...   \n5767  Load_StatusPlugLoadHeatingPad>Load_StatusMBALi...  0.701370  0.707182   \n5768  Load_StatusPlugLoadHeatingPad>Load_StatusMBALi...  0.701370  0.701370   \n5769  Load_StatusPlugLoadHeatingPad->Load_StatusSens...  0.698630  0.704420   \n5770  Load_StatusApplianceOven>Load_StatusPlugLoadVi...  0.276712  0.651613   \n5771  Load_StatusClothesWasher|Load_StatusPlugLoadLR...  0.268493  0.593939   \n\n                                                   time  \n0     {'134': [[['2013-11-12 05:59:03', '2013-11-12 ...  \n1     {'134': [[['2013-11-12 05:59:03', '2013-11-12 ...  \n2     {'134': [[['2013-11-12 05:59:03', '2013-11-12 ...  \n3     {'134': [[['2013-11-12 05:59:03', '2013-11-12 ...  \n4     {'134': [[['2013-11-12 05:59:03', '2013-11-12 ...  \n...                                                 ...  \n5767  {'134': [[['2013-11-12 21:59:02', '2013-11-12 ...  \n5768  {'134': [[['2013-11-12 21:59:02', '2013-11-12 ...  \n5769  {'134': [[['2013-11-12 21:59:02', '2013-11-12 ...  \n5770  {'180': [[['2013-12-28 08:14:06', '2013-12-28 ...  \n5771  {'180': [[['2013-12-28 14:30:05', '2013-12-28 ...  \n\n[5772 rows x 4 columns]",
      "text/html": "<div>\n<style scoped>\n    .dataframe tbody tr th:only-of-type {\n        vertical-align: middle;\n    }\n\n    .dataframe tbody tr th {\n        vertical-align: top;\n    }\n\n    .dataframe thead th {\n        text-align: right;\n    }\n</style>\n<table border=\"1\" class=\"dataframe\">\n  <thead>\n    <tr style=\"text-align: right;\">\n      <th></th>\n      <th>pattern</th>\n      <th>supp</th>\n      <th>conf</th>\n      <th>time</th>\n    </tr>\n  </thead>\n  <tbody>\n    <tr>\n      <th>0</th>\n      <td>Load_StatusMBALights-&gt;Load_StatusMBALights*Loa...</td>\n      <td>0.698630</td>\n      <td>0.704420</td>\n      <td>{'134': [[['2013-11-12 05:59:03', '2013-11-12 ...</td>\n    </tr>\n    <tr>\n      <th>1</th>\n      <td>Load_StatusMBALights-&gt;Load_StatusMBALights*Loa...</td>\n      <td>0.701370</td>\n      <td>0.707182</td>\n      <td>{'134': [[['2013-11-12 05:59:03', '2013-11-12 ...</td>\n    </tr>\n    <tr>\n      <th>2</th>\n      <td>Load_StatusMBALights-&gt;Load_StatusMBALights*Loa...</td>\n      <td>0.701370</td>\n      <td>0.701370</td>\n      <td>{'134': [[['2013-11-12 05:59:03', '2013-11-12 ...</td>\n    </tr>\n    <tr>\n      <th>3</th>\n      <td>Load_StatusMBALights-&gt;Load_StatusMBALights*Loa...</td>\n      <td>0.701370</td>\n      <td>0.707182</td>\n      <td>{'134': [[['2013-11-12 05:59:03', '2013-11-12 ...</td>\n    </tr>\n    <tr>\n      <th>4</th>\n      <td>Load_StatusMBALights-&gt;Load_StatusMBALights*Loa...</td>\n      <td>0.701370</td>\n      <td>0.707182</td>\n      <td>{'134': [[['2013-11-12 05:59:03', '2013-11-12 ...</td>\n    </tr>\n    <tr>\n      <th>...</th>\n      <td>...</td>\n      <td>...</td>\n      <td>...</td>\n      <td>...</td>\n    </tr>\n    <tr>\n      <th>5767</th>\n      <td>Load_StatusPlugLoadHeatingPad&gt;Load_StatusMBALi...</td>\n      <td>0.701370</td>\n      <td>0.707182</td>\n      <td>{'134': [[['2013-11-12 21:59:02', '2013-11-12 ...</td>\n    </tr>\n    <tr>\n      <th>5768</th>\n      <td>Load_StatusPlugLoadHeatingPad&gt;Load_StatusMBALi...</td>\n      <td>0.701370</td>\n      <td>0.701370</td>\n      <td>{'134': [[['2013-11-12 21:59:02', '2013-11-12 ...</td>\n    </tr>\n    <tr>\n      <th>5769</th>\n      <td>Load_StatusPlugLoadHeatingPad-&gt;Load_StatusSens...</td>\n      <td>0.698630</td>\n      <td>0.704420</td>\n      <td>{'134': [[['2013-11-12 21:59:02', '2013-11-12 ...</td>\n    </tr>\n    <tr>\n      <th>5770</th>\n      <td>Load_StatusApplianceOven&gt;Load_StatusPlugLoadVi...</td>\n      <td>0.276712</td>\n      <td>0.651613</td>\n      <td>{'180': [[['2013-12-28 08:14:06', '2013-12-28 ...</td>\n    </tr>\n    <tr>\n      <th>5771</th>\n      <td>Load_StatusClothesWasher|Load_StatusPlugLoadLR...</td>\n      <td>0.268493</td>\n      <td>0.593939</td>\n      <td>{'180': [[['2013-12-28 14:30:05', '2013-12-28 ...</td>\n    </tr>\n  </tbody>\n</table>\n<p>5772 rows × 4 columns</p>\n</div>"
     },
     "execution_count": 82,
     "metadata": {},
     "output_type": "execute_result"
    }
   ],
   "source": [
    "level3_df = json_to_dataframe(level3_json)\n",
    "level3_df"
   ],
   "metadata": {
    "collapsed": false,
    "pycharm": {
     "name": "#%%\n"
    }
   }
  },
  {
   "cell_type": "code",
   "execution_count": 83,
   "outputs": [],
   "source": [
    "level3_df_follow_restricted = level3_df.loc[level3_df['pattern'].str.findall('-').map(len) <= 1]"
   ],
   "metadata": {
    "collapsed": false,
    "pycharm": {
     "name": "#%%\n"
    }
   }
  },
  {
   "cell_type": "code",
   "execution_count": 87,
   "outputs": [
    {
     "name": "stdout",
     "output_type": "stream",
     "text": [
      "1577\n"
     ]
    }
   ],
   "source": [
    "person_appliance_rule_indexes = []\n",
    "appliance_appliance_rule_indexes = []\n",
    "for index, row in level3_df_follow_restricted.iterrows():\n",
    "    tmp_floor_set = set()\n",
    "    appliance_check_list = list()\n",
    "    person_check_list = list()\n",
    "    for col in set(re.findall('[\\w_]+', row['pattern'])):\n",
    "        person_check_list.append('SensHeat' in col)\n",
    "        appliance_check_list.append('SensHeat' not in col)\n",
    "        try:\n",
    "            tmp_floor_set.add(meta.loc[col, 'Measurement_Floor'])\n",
    "        except:\n",
    "            tmp_floor_set.add(light_location_dict(meta)[col][0])\n",
    "    if '1stFloor' in tmp_floor_set and '2ndFloor' in tmp_floor_set and sum(appliance_check_list) >= 1:\n",
    "        attribute_list = set(re.findall('[\\w_]+', row['pattern']))\n",
    "        if sum(person_check_list) >= 1:\n",
    "            person_appliance_rule_indexes.append(index)\n",
    "        else:\n",
    "            appliance_appliance_rule_indexes.append(index)\n",
    "print(len(person_appliance_rule_indexes))"
   ],
   "metadata": {
    "collapsed": false,
    "pycharm": {
     "name": "#%%\n"
    }
   }
  },
  {
   "cell_type": "code",
   "execution_count": 94,
   "outputs": [
    {
     "data": {
      "text/plain": "                                                pattern      supp      conf  \\\n6     Load_StatusMBALights>Load_StatusSensHeatPrntBD...  0.701370  0.707182   \n7     Load_StatusMBALights>Load_StatusSensHeatPrntBD...  0.701370  0.707182   \n8     Load_StatusMBALights>Load_StatusSensHeatPrntBD...  0.698630  0.704420   \n9     Load_StatusMBALights>Load_StatusSensHeatPrntBD...  0.701370  0.707182   \n11    Load_StatusMBALights>Load_StatusSensHeatPrntBD...  0.701370  0.707182   \n...                                                 ...       ...       ...   \n5733  Load_StatusSensHeatChildBUP>Load_StatusPlugLoa...  0.704110  0.711911   \n5734  Load_StatusSensHeatChildBUP>Load_StatusPlugLoa...  0.989041  1.000000   \n5735  Load_StatusSensHeatChildBUP>Load_StatusPlugLoa...  0.846575  0.853591   \n5736  Load_StatusSensHeatChildBUP>Load_StatusPlugLoa...  0.704110  0.711911   \n5737  Load_StatusSensHeatChildBUP>Load_StatusPlugLoa...  0.989041  1.000000   \n\n                                                   time  \n6     {'134': [[['2013-11-12 05:59:03', '2013-11-12 ...  \n7     {'134': [[['2013-11-12 05:59:03', '2013-11-12 ...  \n8     {'134': [[['2013-11-12 05:59:03', '2013-11-12 ...  \n9     {'134': [[['2013-11-12 05:59:03', '2013-11-12 ...  \n11    {'134': [[['2013-11-12 05:59:03', '2013-11-12 ...  \n...                                                 ...  \n5733  {'134': [[['2013-11-12 18:29:02', '2013-11-12 ...  \n5734  {'134': [[['2013-11-12 18:29:02', '2013-11-12 ...  \n5735  {'134': [[['2013-11-12 18:29:02', '2013-11-12 ...  \n5736  {'134': [[['2013-11-12 18:29:02', '2013-11-12 ...  \n5737  {'134': [[['2013-11-12 18:29:02', '2013-11-12 ...  \n\n[1577 rows x 4 columns]",
      "text/html": "<div>\n<style scoped>\n    .dataframe tbody tr th:only-of-type {\n        vertical-align: middle;\n    }\n\n    .dataframe tbody tr th {\n        vertical-align: top;\n    }\n\n    .dataframe thead th {\n        text-align: right;\n    }\n</style>\n<table border=\"1\" class=\"dataframe\">\n  <thead>\n    <tr style=\"text-align: right;\">\n      <th></th>\n      <th>pattern</th>\n      <th>supp</th>\n      <th>conf</th>\n      <th>time</th>\n    </tr>\n  </thead>\n  <tbody>\n    <tr>\n      <th>6</th>\n      <td>Load_StatusMBALights&gt;Load_StatusSensHeatPrntBD...</td>\n      <td>0.701370</td>\n      <td>0.707182</td>\n      <td>{'134': [[['2013-11-12 05:59:03', '2013-11-12 ...</td>\n    </tr>\n    <tr>\n      <th>7</th>\n      <td>Load_StatusMBALights&gt;Load_StatusSensHeatPrntBD...</td>\n      <td>0.701370</td>\n      <td>0.707182</td>\n      <td>{'134': [[['2013-11-12 05:59:03', '2013-11-12 ...</td>\n    </tr>\n    <tr>\n      <th>8</th>\n      <td>Load_StatusMBALights&gt;Load_StatusSensHeatPrntBD...</td>\n      <td>0.698630</td>\n      <td>0.704420</td>\n      <td>{'134': [[['2013-11-12 05:59:03', '2013-11-12 ...</td>\n    </tr>\n    <tr>\n      <th>9</th>\n      <td>Load_StatusMBALights&gt;Load_StatusSensHeatPrntBD...</td>\n      <td>0.701370</td>\n      <td>0.707182</td>\n      <td>{'134': [[['2013-11-12 05:59:03', '2013-11-12 ...</td>\n    </tr>\n    <tr>\n      <th>11</th>\n      <td>Load_StatusMBALights&gt;Load_StatusSensHeatPrntBD...</td>\n      <td>0.701370</td>\n      <td>0.707182</td>\n      <td>{'134': [[['2013-11-12 05:59:03', '2013-11-12 ...</td>\n    </tr>\n    <tr>\n      <th>...</th>\n      <td>...</td>\n      <td>...</td>\n      <td>...</td>\n      <td>...</td>\n    </tr>\n    <tr>\n      <th>5733</th>\n      <td>Load_StatusSensHeatChildBUP&gt;Load_StatusPlugLoa...</td>\n      <td>0.704110</td>\n      <td>0.711911</td>\n      <td>{'134': [[['2013-11-12 18:29:02', '2013-11-12 ...</td>\n    </tr>\n    <tr>\n      <th>5734</th>\n      <td>Load_StatusSensHeatChildBUP&gt;Load_StatusPlugLoa...</td>\n      <td>0.989041</td>\n      <td>1.000000</td>\n      <td>{'134': [[['2013-11-12 18:29:02', '2013-11-12 ...</td>\n    </tr>\n    <tr>\n      <th>5735</th>\n      <td>Load_StatusSensHeatChildBUP&gt;Load_StatusPlugLoa...</td>\n      <td>0.846575</td>\n      <td>0.853591</td>\n      <td>{'134': [[['2013-11-12 18:29:02', '2013-11-12 ...</td>\n    </tr>\n    <tr>\n      <th>5736</th>\n      <td>Load_StatusSensHeatChildBUP&gt;Load_StatusPlugLoa...</td>\n      <td>0.704110</td>\n      <td>0.711911</td>\n      <td>{'134': [[['2013-11-12 18:29:02', '2013-11-12 ...</td>\n    </tr>\n    <tr>\n      <th>5737</th>\n      <td>Load_StatusSensHeatChildBUP&gt;Load_StatusPlugLoa...</td>\n      <td>0.989041</td>\n      <td>1.000000</td>\n      <td>{'134': [[['2013-11-12 18:29:02', '2013-11-12 ...</td>\n    </tr>\n  </tbody>\n</table>\n<p>1577 rows × 4 columns</p>\n</div>"
     },
     "execution_count": 94,
     "metadata": {},
     "output_type": "execute_result"
    }
   ],
   "source": [
    "level3_df_follow_restricted.loc[(level3_df_follow_restricted.loc[person_appliance_rule_indexes, \"pattern\"].str.findall('>').map(len) >= 2).index.tolist()]"
   ],
   "metadata": {
    "collapsed": false,
    "pycharm": {
     "name": "#%%\n"
    }
   }
  },
  {
   "cell_type": "code",
   "execution_count": 144,
   "outputs": [
    {
     "data": {
      "text/plain": "                                                pattern      supp      conf  \\\n1013  Load_StatusKitchenLights>Load_StatusPlugLoadLR...  0.558904  0.558904   \n\n                                                   time  \n1013  {'134': [[['2013-11-12 05:59:03', '2013-11-12 ...  ",
      "text/html": "<div>\n<style scoped>\n    .dataframe tbody tr th:only-of-type {\n        vertical-align: middle;\n    }\n\n    .dataframe tbody tr th {\n        vertical-align: top;\n    }\n\n    .dataframe thead th {\n        text-align: right;\n    }\n</style>\n<table border=\"1\" class=\"dataframe\">\n  <thead>\n    <tr style=\"text-align: right;\">\n      <th></th>\n      <th>pattern</th>\n      <th>supp</th>\n      <th>conf</th>\n      <th>time</th>\n    </tr>\n  </thead>\n  <tbody>\n    <tr>\n      <th>1013</th>\n      <td>Load_StatusKitchenLights&gt;Load_StatusPlugLoadLR...</td>\n      <td>0.558904</td>\n      <td>0.558904</td>\n      <td>{'134': [[['2013-11-12 05:59:03', '2013-11-12 ...</td>\n    </tr>\n  </tbody>\n</table>\n</div>"
     },
     "execution_count": 144,
     "metadata": {},
     "output_type": "execute_result"
    }
   ],
   "source": [
    "person_appliance_level3 = level3_df_follow_restricted.loc[person_appliance_rule_indexes]\n",
    "person_appliance_level3.loc[(person_appliance_level3['pattern'].str.contains('LR')) & (person_appliance_level3['pattern'].str.contains('KitchenLight')) & (person_appliance_level3['pattern'].str.contains('PrntB'))]"
   ],
   "metadata": {
    "collapsed": false,
    "pycharm": {
     "name": "#%%\n"
    }
   }
  },
  {
   "cell_type": "code",
   "execution_count": null,
   "outputs": [],
   "source": [],
   "metadata": {
    "collapsed": false,
    "pycharm": {
     "name": "#%%\n"
    }
   }
  }
 ],
 "metadata": {
  "kernelspec": {
   "display_name": "Python 3",
   "language": "python",
   "name": "python3"
  },
  "language_info": {
   "codemirror_mode": {
    "name": "ipython",
    "version": 2
   },
   "file_extension": ".py",
   "mimetype": "text/x-python",
   "name": "python",
   "nbconvert_exporter": "python",
   "pygments_lexer": "ipython2",
   "version": "2.7.6"
  }
 },
 "nbformat": 4,
 "nbformat_minor": 0
}
{
 "cells": [
  {
   "cell_type": "code",
   "execution_count": 1,
   "outputs": [],
   "source": [
    "import pandas as pd\n",
    "import plotly.express as px\n",
    "import re\n",
    "import datetime\n",
    "import numpy as np\n",
    "import json\n",
    "from Project.Database import Db"
   ],
   "metadata": {
    "collapsed": false,
    "pycharm": {
     "name": "#%%\n"
    }
   }
  },
  {
   "cell_type": "code",
   "execution_count": 2,
   "metadata": {
    "collapsed": true
   },
   "outputs": [],
   "source": [
    "level1_json = json.load(\n",
    "    open(Db.get_project_path(\"Project/04TPMAlgorithm/TPM/output/Experiment_minsup0.14_minconf_0.5/level1.json\")))"
   ]
  },
  {
   "cell_type": "code",
   "execution_count": 3,
   "outputs": [],
   "source": [
    "level2_json = json.load(\n",
    "    open(Db.get_project_path(\"Project/04TPMAlgorithm/TPM/output/Experiment_minsup0.14_minconf_0.5/level2.json\")))"
   ],
   "metadata": {
    "collapsed": false,
    "pycharm": {
     "name": "#%%\n"
    }
   }
  },
  {
   "cell_type": "code",
   "execution_count": 4,
   "outputs": [],
   "source": [
    "level3_json = json.load(\n",
    "    open(Db.get_project_path(\"Project/04TPMAlgorithm/TPM/output/Experiment_minsup0.14_minconf_0.5/level3.json\")))"
   ],
   "metadata": {
    "collapsed": false,
    "pycharm": {
     "name": "#%%\n"
    }
   }
  },
  {
   "cell_type": "code",
   "execution_count": 5,
   "outputs": [],
   "source": [
    "meta = Db.load_data(meta=True, consumption=False, hourly=False)"
   ],
   "metadata": {
    "collapsed": false,
    "pycharm": {
     "name": "#%%\n"
    }
   }
  },
  {
   "cell_type": "code",
   "execution_count": 6,
   "outputs": [],
   "source": [
    "def json_to_dataframe(json_file):\n",
    "    if \",\" in json_file[0][\"name_node\"]:\n",
    "        level_df = pd.DataFrame(columns=[\"pattern\",\"supp\",\"conf\", \"time\"])\n",
    "        for i in json_file:\n",
    "            for j in i[\"patterns\"]:\n",
    "                level_df.loc[level_df.shape[0]] = j\n",
    "    else:\n",
    "        level_df = pd.DataFrame(columns=[\"name_node\",\"supp\",\"conf\"])\n",
    "        for i in json_file:\n",
    "            level_df.loc[level_df.shape[0]] = i\n",
    "    return level_df"
   ],
   "metadata": {
    "collapsed": false,
    "pycharm": {
     "name": "#%%\n"
    }
   }
  },
  {
   "cell_type": "code",
   "execution_count": 7,
   "outputs": [],
   "source": [
    "level2_df = json_to_dataframe(level2_json)"
   ],
   "metadata": {
    "collapsed": false,
    "pycharm": {
     "name": "#%%\n"
    }
   }
  },
  {
   "cell_type": "code",
   "execution_count": 8,
   "outputs": [
    {
     "data": {
      "text/plain": "                                                pattern      supp      conf  \\\n0     Load_StatusMBALights->Load_StatusMBALights*Loa...  0.698630  0.704420   \n1     Load_StatusMBALights->Load_StatusMBALights*Loa...  0.701370  0.707182   \n2     Load_StatusMBALights->Load_StatusMBALights*Loa...  0.701370  0.701370   \n3     Load_StatusMBALights->Load_StatusMBALights*Loa...  0.701370  0.707182   \n4     Load_StatusMBALights->Load_StatusMBALights*Loa...  0.701370  0.707182   \n...                                                 ...       ...       ...   \n5086  Load_StatusPlugLoadHeatingPad>Load_StatusMBALi...  0.701370  0.707182   \n5087  Load_StatusPlugLoadHeatingPad>Load_StatusMBALi...  0.701370  0.701370   \n5088  Load_StatusPlugLoadHeatingPad->Load_StatusSens...  0.698630  0.704420   \n5089  Load_StatusApplianceOven>Load_StatusPlugLoadVi...  0.276712  0.651613   \n5090  Load_StatusClothesWasher|Load_StatusPlugLoadLR...  0.268493  0.593939   \n\n                                                   time  \n0     {'262': [[['2014-03-20 05:58:46', '2014-03-20 ...  \n1     {'262': [[['2014-03-20 05:58:46', '2014-03-20 ...  \n2     {'262': [[['2014-03-20 05:58:46', '2014-03-20 ...  \n3     {'262': [[['2014-03-20 05:58:46', '2014-03-20 ...  \n4     {'262': [[['2014-03-20 05:58:46', '2014-03-20 ...  \n...                                                 ...  \n5086  {'337': [[['2014-06-03 21:57:29', '2014-06-03 ...  \n5087  {'337': [[['2014-06-03 21:57:29', '2014-06-03 ...  \n5088  {'337': [[['2014-06-03 21:57:29', '2014-06-03 ...  \n5089  {'13': [[['2013-07-14 08:14:55', '2013-07-14 1...  \n5090  {'13': [[['2013-07-14 14:30:54', '2013-07-14 1...  \n\n[5091 rows x 4 columns]",
      "text/html": "<div>\n<style scoped>\n    .dataframe tbody tr th:only-of-type {\n        vertical-align: middle;\n    }\n\n    .dataframe tbody tr th {\n        vertical-align: top;\n    }\n\n    .dataframe thead th {\n        text-align: right;\n    }\n</style>\n<table border=\"1\" class=\"dataframe\">\n  <thead>\n    <tr style=\"text-align: right;\">\n      <th></th>\n      <th>pattern</th>\n      <th>supp</th>\n      <th>conf</th>\n      <th>time</th>\n    </tr>\n  </thead>\n  <tbody>\n    <tr>\n      <th>0</th>\n      <td>Load_StatusMBALights-&gt;Load_StatusMBALights*Loa...</td>\n      <td>0.698630</td>\n      <td>0.704420</td>\n      <td>{'262': [[['2014-03-20 05:58:46', '2014-03-20 ...</td>\n    </tr>\n    <tr>\n      <th>1</th>\n      <td>Load_StatusMBALights-&gt;Load_StatusMBALights*Loa...</td>\n      <td>0.701370</td>\n      <td>0.707182</td>\n      <td>{'262': [[['2014-03-20 05:58:46', '2014-03-20 ...</td>\n    </tr>\n    <tr>\n      <th>2</th>\n      <td>Load_StatusMBALights-&gt;Load_StatusMBALights*Loa...</td>\n      <td>0.701370</td>\n      <td>0.701370</td>\n      <td>{'262': [[['2014-03-20 05:58:46', '2014-03-20 ...</td>\n    </tr>\n    <tr>\n      <th>3</th>\n      <td>Load_StatusMBALights-&gt;Load_StatusMBALights*Loa...</td>\n      <td>0.701370</td>\n      <td>0.707182</td>\n      <td>{'262': [[['2014-03-20 05:58:46', '2014-03-20 ...</td>\n    </tr>\n    <tr>\n      <th>4</th>\n      <td>Load_StatusMBALights-&gt;Load_StatusMBALights*Loa...</td>\n      <td>0.701370</td>\n      <td>0.707182</td>\n      <td>{'262': [[['2014-03-20 05:58:46', '2014-03-20 ...</td>\n    </tr>\n    <tr>\n      <th>...</th>\n      <td>...</td>\n      <td>...</td>\n      <td>...</td>\n      <td>...</td>\n    </tr>\n    <tr>\n      <th>5086</th>\n      <td>Load_StatusPlugLoadHeatingPad&gt;Load_StatusMBALi...</td>\n      <td>0.701370</td>\n      <td>0.707182</td>\n      <td>{'337': [[['2014-06-03 21:57:29', '2014-06-03 ...</td>\n    </tr>\n    <tr>\n      <th>5087</th>\n      <td>Load_StatusPlugLoadHeatingPad&gt;Load_StatusMBALi...</td>\n      <td>0.701370</td>\n      <td>0.701370</td>\n      <td>{'337': [[['2014-06-03 21:57:29', '2014-06-03 ...</td>\n    </tr>\n    <tr>\n      <th>5088</th>\n      <td>Load_StatusPlugLoadHeatingPad-&gt;Load_StatusSens...</td>\n      <td>0.698630</td>\n      <td>0.704420</td>\n      <td>{'337': [[['2014-06-03 21:57:29', '2014-06-03 ...</td>\n    </tr>\n    <tr>\n      <th>5089</th>\n      <td>Load_StatusApplianceOven&gt;Load_StatusPlugLoadVi...</td>\n      <td>0.276712</td>\n      <td>0.651613</td>\n      <td>{'13': [[['2013-07-14 08:14:55', '2013-07-14 1...</td>\n    </tr>\n    <tr>\n      <th>5090</th>\n      <td>Load_StatusClothesWasher|Load_StatusPlugLoadLR...</td>\n      <td>0.268493</td>\n      <td>0.593939</td>\n      <td>{'13': [[['2013-07-14 14:30:54', '2013-07-14 1...</td>\n    </tr>\n  </tbody>\n</table>\n<p>5091 rows × 4 columns</p>\n</div>"
     },
     "execution_count": 8,
     "metadata": {},
     "output_type": "execute_result"
    }
   ],
   "source": [
    "level3_df = json_to_dataframe(level3_json)\n",
    "level3_df"
   ],
   "metadata": {
    "collapsed": false,
    "pycharm": {
     "name": "#%%\n"
    }
   }
  },
  {
   "cell_type": "code",
   "execution_count": 9,
   "outputs": [],
   "source": [
    "level3_df_follow_restricted = level3_df.loc[level3_df['pattern'].str.findall('-').map(len) <= 1]"
   ],
   "metadata": {
    "collapsed": false,
    "pycharm": {
     "name": "#%%\n"
    }
   }
  },
  {
   "cell_type": "code",
   "execution_count": 38,
   "outputs": [
    {
     "data": {
      "text/plain": "['Load_StatusMBALights',\n 'Load_StatusSensHeatPrntBDOWN',\n 'Load_StatusSensHeatPrntBDOWN',\n 'Load_StatusPlugLoadBlender',\n 'Load_StatusMBALights',\n 'Load_StatusPlugLoadBlender']"
     },
     "execution_count": 38,
     "metadata": {},
     "output_type": "execute_result"
    }
   ],
   "source": [
    "re.findall('[\\w_]+', level3_df_follow_restricted['pattern'].iloc[0])"
   ],
   "metadata": {
    "collapsed": false,
    "pycharm": {
     "name": "#%%\n"
    }
   }
  },
  {
   "cell_type": "code",
   "execution_count": 59,
   "outputs": [
    {
     "name": "stdout",
     "output_type": "stream",
     "text": [
      "714\n"
     ]
    }
   ],
   "source": [
    "index_list = []\n",
    "for index, row in level3_df_follow_restricted.iterrows():\n",
    "    tmp_floor_set = set()\n",
    "    appliance_check_list = list()\n",
    "    for col in set(re.findall('[\\w_]+', row['pattern'])):\n",
    "        try:\n",
    "            tmp_floor_set.add(meta.loc[col, 'Measurement_Floor'])\n",
    "            appliance_check_list.append('SensHeat' not in col)\n",
    "        except:\n",
    "            continue\n",
    "    if '1stFloor' in tmp_floor_set and '2ndFloor' in tmp_floor_set and sum(appliance_check_list) > 1:\n",
    "        attribute_list = set(re.findall('[\\w_]+', row['pattern']))\n",
    "        if sum(appliance_check_list) == 3:\n",
    "            continue\n",
    "        else:\n",
    "            index_list.append(index)\n",
    "print(len(index_list))"
   ],
   "metadata": {
    "collapsed": false,
    "pycharm": {
     "name": "#%%\n"
    }
   }
  },
  {
   "cell_type": "code",
   "execution_count": 60,
   "outputs": [
    {
     "data": {
      "text/plain": "                                                pattern      supp      conf  \\\n6     Load_StatusMBALights>Load_StatusSensHeatPrntBD...  0.701370  0.707182   \n7     Load_StatusMBALights>Load_StatusSensHeatPrntBD...  0.701370  0.707182   \n8     Load_StatusMBALights>Load_StatusSensHeatPrntBD...  0.698630  0.704420   \n9     Load_StatusMBALights>Load_StatusSensHeatPrntBD...  0.701370  0.707182   \n12    Load_StatusMBALights>Load_StatusSensHeatPrntBD...  0.701370  0.707182   \n...                                                 ...       ...       ...   \n4950  Load_StatusSensHeatChildBUP|Load_StatusPlugLoa...  0.547945  0.552486   \n4951  Load_StatusSensHeatChildBUP|Load_StatusPlugLoa...  0.827397  0.834254   \n5051  Load_StatusSensHeatChildBUP>Load_StatusPlugLoa...  0.846575  0.853591   \n5053  Load_StatusSensHeatChildBUP>Load_StatusPlugLoa...  0.989041  1.000000   \n5056  Load_StatusSensHeatChildBUP>Load_StatusPlugLoa...  0.989041  1.000000   \n\n                                                   time  \n6     {'262': [[['2014-03-20 05:58:46', '2014-03-20 ...  \n7     {'262': [[['2014-03-20 05:58:46', '2014-03-20 ...  \n8     {'262': [[['2014-03-20 05:58:46', '2014-03-20 ...  \n9     {'262': [[['2014-03-20 05:58:46', '2014-03-20 ...  \n12    {'262': [[['2014-03-20 05:58:46', '2014-03-20 ...  \n...                                                 ...  \n4950  {'337': [[['2014-06-03 00:03:30', '2014-06-03 ...  \n4951  {'337': [[['2014-06-03 00:03:30', '2014-06-03 ...  \n5051  {'73': [[['2013-09-12 18:29:35', '2013-09-12 1...  \n5053  {'73': [[['2013-09-12 18:29:35', '2013-09-12 1...  \n5056  {'73': [[['2013-09-12 18:29:35', '2013-09-12 1...  \n\n[714 rows x 4 columns]",
      "text/html": "<div>\n<style scoped>\n    .dataframe tbody tr th:only-of-type {\n        vertical-align: middle;\n    }\n\n    .dataframe tbody tr th {\n        vertical-align: top;\n    }\n\n    .dataframe thead th {\n        text-align: right;\n    }\n</style>\n<table border=\"1\" class=\"dataframe\">\n  <thead>\n    <tr style=\"text-align: right;\">\n      <th></th>\n      <th>pattern</th>\n      <th>supp</th>\n      <th>conf</th>\n      <th>time</th>\n    </tr>\n  </thead>\n  <tbody>\n    <tr>\n      <th>6</th>\n      <td>Load_StatusMBALights&gt;Load_StatusSensHeatPrntBD...</td>\n      <td>0.701370</td>\n      <td>0.707182</td>\n      <td>{'262': [[['2014-03-20 05:58:46', '2014-03-20 ...</td>\n    </tr>\n    <tr>\n      <th>7</th>\n      <td>Load_StatusMBALights&gt;Load_StatusSensHeatPrntBD...</td>\n      <td>0.701370</td>\n      <td>0.707182</td>\n      <td>{'262': [[['2014-03-20 05:58:46', '2014-03-20 ...</td>\n    </tr>\n    <tr>\n      <th>8</th>\n      <td>Load_StatusMBALights&gt;Load_StatusSensHeatPrntBD...</td>\n      <td>0.698630</td>\n      <td>0.704420</td>\n      <td>{'262': [[['2014-03-20 05:58:46', '2014-03-20 ...</td>\n    </tr>\n    <tr>\n      <th>9</th>\n      <td>Load_StatusMBALights&gt;Load_StatusSensHeatPrntBD...</td>\n      <td>0.701370</td>\n      <td>0.707182</td>\n      <td>{'262': [[['2014-03-20 05:58:46', '2014-03-20 ...</td>\n    </tr>\n    <tr>\n      <th>12</th>\n      <td>Load_StatusMBALights&gt;Load_StatusSensHeatPrntBD...</td>\n      <td>0.701370</td>\n      <td>0.707182</td>\n      <td>{'262': [[['2014-03-20 05:58:46', '2014-03-20 ...</td>\n    </tr>\n    <tr>\n      <th>...</th>\n      <td>...</td>\n      <td>...</td>\n      <td>...</td>\n      <td>...</td>\n    </tr>\n    <tr>\n      <th>4950</th>\n      <td>Load_StatusSensHeatChildBUP|Load_StatusPlugLoa...</td>\n      <td>0.547945</td>\n      <td>0.552486</td>\n      <td>{'337': [[['2014-06-03 00:03:30', '2014-06-03 ...</td>\n    </tr>\n    <tr>\n      <th>4951</th>\n      <td>Load_StatusSensHeatChildBUP|Load_StatusPlugLoa...</td>\n      <td>0.827397</td>\n      <td>0.834254</td>\n      <td>{'337': [[['2014-06-03 00:03:30', '2014-06-03 ...</td>\n    </tr>\n    <tr>\n      <th>5051</th>\n      <td>Load_StatusSensHeatChildBUP&gt;Load_StatusPlugLoa...</td>\n      <td>0.846575</td>\n      <td>0.853591</td>\n      <td>{'73': [[['2013-09-12 18:29:35', '2013-09-12 1...</td>\n    </tr>\n    <tr>\n      <th>5053</th>\n      <td>Load_StatusSensHeatChildBUP&gt;Load_StatusPlugLoa...</td>\n      <td>0.989041</td>\n      <td>1.000000</td>\n      <td>{'73': [[['2013-09-12 18:29:35', '2013-09-12 1...</td>\n    </tr>\n    <tr>\n      <th>5056</th>\n      <td>Load_StatusSensHeatChildBUP&gt;Load_StatusPlugLoa...</td>\n      <td>0.989041</td>\n      <td>1.000000</td>\n      <td>{'73': [[['2013-09-12 18:29:35', '2013-09-12 1...</td>\n    </tr>\n  </tbody>\n</table>\n<p>714 rows × 4 columns</p>\n</div>"
     },
     "execution_count": 60,
     "metadata": {},
     "output_type": "execute_result"
    }
   ],
   "source": [
    "level3_df_follow_restricted.loc[index_list]"
   ],
   "metadata": {
    "collapsed": false,
    "pycharm": {
     "name": "#%%\n"
    }
   }
  },
  {
   "cell_type": "code",
   "execution_count": 65,
   "outputs": [
    {
     "name": "stdout",
     "output_type": "stream",
     "text": [
      "350\n"
     ]
    }
   ],
   "source": [
    "def selected_appliances(wanted_attributes: list, only_appliance=False, include_residents=True) -> tuple:\n",
    "    person_appliance_rule_indexes = []\n",
    "    appliance_appliance_rule_indexes = []\n",
    "    for index, row in level3_df_follow_restricted.iterrows():\n",
    "        tmp_floor_set = set()\n",
    "        appliance_check_list = list()\n",
    "        person_check_list = list()\n",
    "        for col in set(re.findall('[\\w_]+', row['pattern'])):\n",
    "            try:\n",
    "                tmp_floor_set.add(meta.loc[col, 'Measurement_Floor'])\n",
    "                person_check_list.append('SensHeat' in col)\n",
    "                appliance_check_list.append('SensHeat' not in col)\n",
    "            except:\n",
    "                continue\n",
    "        if '1stFloor' in tmp_floor_set and '2ndFloor' in tmp_floor_set and sum(appliance_check_list) >= 1:\n",
    "            attribute_list = set(re.findall('[\\w_]+', row['pattern']))\n",
    "            if sum(person_check_list) >= 1:\n",
    "                person_appliance_rule_indexes.append(index)\n",
    "            else:\n",
    "                appliance_appliance_rule_indexes.append(index)\n",
    "    print(len(appliance_appliance_rule_indexes))"
   ],
   "metadata": {
    "collapsed": false,
    "pycharm": {
     "name": "#%%\n"
    }
   }
  },
  {
   "cell_type": "code",
   "execution_count": null,
   "outputs": [],
   "source": [
    "for i in level3_df_follow_restricted.loc[appliance_appliance_rule_indexes]:"
   ],
   "metadata": {
    "collapsed": false,
    "pycharm": {
     "name": "#%%\n"
    }
   }
  },
  {
   "cell_type": "code",
   "execution_count": null,
   "outputs": [],
   "source": [
    "from _04TPMA"
   ],
   "metadata": {
    "collapsed": false,
    "pycharm": {
     "name": "#%%\n"
    }
   }
  },
  {
   "cell_type": "code",
   "execution_count": 11,
   "outputs": [
    {
     "data": {
      "text/plain": "                           Subsystem Measurement_Location     Parameter  \\\nUnnamed: 0                                                                \nLoad_StatusPlugLoadBlender     Loads              Kitchen  Status_OnOff   \n\n                                                                  Description  \\\nUnnamed: 0                                                                      \nLoad_StatusPlugLoadBlender  Number to indicate whether blender is activate...   \n\n                                   Units Aggregation_Method  min_value  \\\nUnnamed: 0                                                               \nLoad_StatusPlugLoadBlender  BinaryStatus            Average      -1.11   \n\n                            max_value Measurement_Floor  \\\nUnnamed: 0                                                \nLoad_StatusPlugLoadBlender        1.0          1stFloor   \n\n                                           Load_Match Status_Match  \\\nUnnamed: 0                                                           \nLoad_StatusPlugLoadBlender  Load_KPlugLoadsPowerUsage          NaN   \n\n                                         Elec_Match  \nUnnamed: 0                                           \nLoad_StatusPlugLoadBlender  Elec_PowerPlugsKitRange  ",
      "text/html": "<div>\n<style scoped>\n    .dataframe tbody tr th:only-of-type {\n        vertical-align: middle;\n    }\n\n    .dataframe tbody tr th {\n        vertical-align: top;\n    }\n\n    .dataframe thead th {\n        text-align: right;\n    }\n</style>\n<table border=\"1\" class=\"dataframe\">\n  <thead>\n    <tr style=\"text-align: right;\">\n      <th></th>\n      <th>Subsystem</th>\n      <th>Measurement_Location</th>\n      <th>Parameter</th>\n      <th>Description</th>\n      <th>Units</th>\n      <th>Aggregation_Method</th>\n      <th>min_value</th>\n      <th>max_value</th>\n      <th>Measurement_Floor</th>\n      <th>Load_Match</th>\n      <th>Status_Match</th>\n      <th>Elec_Match</th>\n    </tr>\n    <tr>\n      <th>Unnamed: 0</th>\n      <th></th>\n      <th></th>\n      <th></th>\n      <th></th>\n      <th></th>\n      <th></th>\n      <th></th>\n      <th></th>\n      <th></th>\n      <th></th>\n      <th></th>\n      <th></th>\n    </tr>\n  </thead>\n  <tbody>\n    <tr>\n      <th>Load_StatusPlugLoadBlender</th>\n      <td>Loads</td>\n      <td>Kitchen</td>\n      <td>Status_OnOff</td>\n      <td>Number to indicate whether blender is activate...</td>\n      <td>BinaryStatus</td>\n      <td>Average</td>\n      <td>-1.11</td>\n      <td>1.0</td>\n      <td>1stFloor</td>\n      <td>Load_KPlugLoadsPowerUsage</td>\n      <td>NaN</td>\n      <td>Elec_PowerPlugsKitRange</td>\n    </tr>\n  </tbody>\n</table>\n</div>"
     },
     "execution_count": 11,
     "metadata": {},
     "output_type": "execute_result"
    }
   ],
   "source": [
    "meta.loc[meta.index == \"Load_StatusPlugLoadBlender\"]"
   ],
   "metadata": {
    "collapsed": false,
    "pycharm": {
     "name": "#%%\n"
    }
   }
  },
  {
   "cell_type": "code",
   "execution_count": 11,
   "outputs": [],
   "source": [],
   "metadata": {
    "collapsed": false,
    "pycharm": {
     "name": "#%%\n"
    }
   }
  }
 ],
 "metadata": {
  "kernelspec": {
   "display_name": "Python 3",
   "language": "python",
   "name": "python3"
  },
  "language_info": {
   "codemirror_mode": {
    "name": "ipython",
    "version": 2
   },
   "file_extension": ".py",
   "mimetype": "text/x-python",
   "name": "python",
   "nbconvert_exporter": "python",
   "pygments_lexer": "ipython2",
   "version": "2.7.6"
  }
 },
 "nbformat": 4,
 "nbformat_minor": 0
}
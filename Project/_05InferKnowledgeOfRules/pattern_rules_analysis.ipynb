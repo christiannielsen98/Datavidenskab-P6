{
 "cells": [
  {
   "cell_type": "code",
   "execution_count": 249,
   "outputs": [],
   "source": [
    "import pandas as pd\n",
    "pd.options.display.max_colwidth = 100\n",
    "import plotly.express as px\n",
    "import re\n",
    "import datetime\n",
    "import numpy as np\n",
    "import json\n",
    "from Project.Database import Db\n",
    "from Project._04TPMAlgorithm.transform_for_TPM_algorithm import light_location_dict"
   ],
   "metadata": {
    "collapsed": false,
    "pycharm": {
     "name": "#%%\n"
    }
   }
  },
  {
   "cell_type": "code",
   "execution_count": 250,
   "metadata": {
    "collapsed": true
   },
   "outputs": [],
   "source": [
    "level1_json = json.load(\n",
    "    open(Db.get_project_path(\"Project/_04TPMAlgorithm/TPM/output/NZERTF_year1_minsup0.14_minconf_0.5/level1.json\")))"
   ]
  },
  {
   "cell_type": "code",
   "execution_count": 251,
   "outputs": [],
   "source": [
    "level2_json = json.load(\n",
    "    open(Db.get_project_path(\"Project/_04TPMAlgorithm/TPM/output/NZERTF_year1_minsup0.14_minconf_0.5/level2.json\")))"
   ],
   "metadata": {
    "collapsed": false,
    "pycharm": {
     "name": "#%%\n"
    }
   }
  },
  {
   "cell_type": "code",
   "execution_count": 252,
   "outputs": [],
   "source": [
    "level3_json = json.load(\n",
    "    open(Db.get_project_path(\"Project/_04TPMAlgorithm/TPM/output/NZERTF_year1_minsup0.14_minconf_0.5/level3.json\")))"
   ],
   "metadata": {
    "collapsed": false,
    "pycharm": {
     "name": "#%%\n"
    }
   }
  },
  {
   "cell_type": "code",
   "execution_count": 253,
   "outputs": [],
   "source": [
    "meta = Db.load_data(meta=True, consumption=False, hourly=False)"
   ],
   "metadata": {
    "collapsed": false,
    "pycharm": {
     "name": "#%%\n"
    }
   }
  },
  {
   "cell_type": "code",
   "execution_count": 254,
   "outputs": [],
   "source": [
    "def json_to_dataframe(json_file):\n",
    "    if \",\" in json_file[0][\"name_node\"]:\n",
    "        level_df = pd.DataFrame(columns=[\"pattern\",\"supp\",\"conf\", \"time\"])\n",
    "        for i in json_file:\n",
    "            for j in i[\"patterns\"]:\n",
    "                level_df.loc[level_df.shape[0]] = j\n",
    "    else:\n",
    "        level_df = pd.DataFrame(columns=[\"name_node\",\"supp\",\"conf\"])\n",
    "        for i in json_file:\n",
    "            level_df.loc[level_df.shape[0]] = i\n",
    "    return level_df"
   ],
   "metadata": {
    "collapsed": false,
    "pycharm": {
     "name": "#%%\n"
    }
   }
  },
  {
   "cell_type": "code",
   "execution_count": 255,
   "outputs": [
    {
     "data": {
      "text/plain": "                                                     pattern      supp  \\\n0                 Load_StatusMBALights->Load_StatusMBALights  0.849315   \n1         Load_StatusMBALights->Load_StatusSensHeatPrntBDOWN  0.980822   \n2          Load_StatusMBALights>Load_StatusSensHeatPrntBDOWN  0.704110   \n3            Load_StatusMBALights>Load_StatusPlugLoadBlender  0.701370   \n4        Load_StatusMBALights>Load_StatusPlugLoadCoffeeMaker  0.701370   \n..                                                       ...       ...   \n689       Load_StatusApplianceOven->Load_StatusClothesWasher  0.276712   \n690      Load_StatusClothesWasher>Load_StatusDryerPowerTotal  0.405479   \n691    Load_StatusClothesWasher|Load_StatusPlugLoadLRBlueRay  0.268493   \n692  Load_StatusPlugLoadLRBlueRay>Load_StatusDryerPowerTotal  0.279452   \n693        Load_StatusPlugLoadVacuum>Load_StatusPlugLoadIron  0.142466   \n\n         conf  \\\n0    0.856354   \n1    0.988950   \n2    0.709945   \n3    0.707182   \n4    0.707182   \n..        ...   \n689  0.651613   \n690  0.896970   \n691  0.632258   \n692  0.618182   \n693  0.509804   \n\n                                                                                                    time  \n0    {'199': [[['2014-01-16 03:30:19', '2014-01-16 03:33:19'], ['2014-01-16 03:59:19', '2014-01-16 04...  \n1    {'199': [[['2014-01-16 06:29:19', '2014-01-16 06:44:18'], ['2014-01-16 06:59:18', '2014-01-16 08...  \n2    {'199': [[['2014-01-16 05:59:19', '2014-01-16 06:14:19'], ['2014-01-16 05:59:19', '2014-01-16 06...  \n3    {'199': [[['2014-01-16 05:59:19', '2014-01-16 06:14:19'], ['2014-01-16 06:04:19', '2014-01-16 06...  \n4    {'199': [[['2014-01-16 05:59:19', '2014-01-16 06:14:19'], ['2014-01-16 06:09:19', '2014-01-16 06...  \n..                                                                                                   ...  \n689  {'341': [[['2014-06-07 08:13:20', '2014-06-07 10:50:20'], ['2014-06-07 10:59:20', '2014-06-07 11...  \n690  {'341': [[['2014-06-07 14:29:20', '2014-06-07 15:29:20'], ['2014-06-07 14:59:20', '2014-06-07 15...  \n691  {'341': [[['2014-06-07 14:29:20', '2014-06-07 15:29:20'], ['2014-06-07 14:58:20', '2014-06-07 16...  \n692  {'341': [[['2014-06-07 14:58:20', '2014-06-07 16:28:20'], ['2014-06-07 14:59:20', '2014-06-07 15...  \n693  {'341': [[['2014-06-07 17:28:20', '2014-06-07 19:18:19'], ['2014-06-07 17:58:20', '2014-06-07 18...  \n\n[694 rows x 4 columns]",
      "text/html": "<div>\n<style scoped>\n    .dataframe tbody tr th:only-of-type {\n        vertical-align: middle;\n    }\n\n    .dataframe tbody tr th {\n        vertical-align: top;\n    }\n\n    .dataframe thead th {\n        text-align: right;\n    }\n</style>\n<table border=\"1\" class=\"dataframe\">\n  <thead>\n    <tr style=\"text-align: right;\">\n      <th></th>\n      <th>pattern</th>\n      <th>supp</th>\n      <th>conf</th>\n      <th>time</th>\n    </tr>\n  </thead>\n  <tbody>\n    <tr>\n      <th>0</th>\n      <td>Load_StatusMBALights-&gt;Load_StatusMBALights</td>\n      <td>0.849315</td>\n      <td>0.856354</td>\n      <td>{'199': [[['2014-01-16 03:30:19', '2014-01-16 03:33:19'], ['2014-01-16 03:59:19', '2014-01-16 04...</td>\n    </tr>\n    <tr>\n      <th>1</th>\n      <td>Load_StatusMBALights-&gt;Load_StatusSensHeatPrntBDOWN</td>\n      <td>0.980822</td>\n      <td>0.988950</td>\n      <td>{'199': [[['2014-01-16 06:29:19', '2014-01-16 06:44:18'], ['2014-01-16 06:59:18', '2014-01-16 08...</td>\n    </tr>\n    <tr>\n      <th>2</th>\n      <td>Load_StatusMBALights&gt;Load_StatusSensHeatPrntBDOWN</td>\n      <td>0.704110</td>\n      <td>0.709945</td>\n      <td>{'199': [[['2014-01-16 05:59:19', '2014-01-16 06:14:19'], ['2014-01-16 05:59:19', '2014-01-16 06...</td>\n    </tr>\n    <tr>\n      <th>3</th>\n      <td>Load_StatusMBALights&gt;Load_StatusPlugLoadBlender</td>\n      <td>0.701370</td>\n      <td>0.707182</td>\n      <td>{'199': [[['2014-01-16 05:59:19', '2014-01-16 06:14:19'], ['2014-01-16 06:04:19', '2014-01-16 06...</td>\n    </tr>\n    <tr>\n      <th>4</th>\n      <td>Load_StatusMBALights&gt;Load_StatusPlugLoadCoffeeMaker</td>\n      <td>0.701370</td>\n      <td>0.707182</td>\n      <td>{'199': [[['2014-01-16 05:59:19', '2014-01-16 06:14:19'], ['2014-01-16 06:09:19', '2014-01-16 06...</td>\n    </tr>\n    <tr>\n      <th>...</th>\n      <td>...</td>\n      <td>...</td>\n      <td>...</td>\n      <td>...</td>\n    </tr>\n    <tr>\n      <th>689</th>\n      <td>Load_StatusApplianceOven-&gt;Load_StatusClothesWasher</td>\n      <td>0.276712</td>\n      <td>0.651613</td>\n      <td>{'341': [[['2014-06-07 08:13:20', '2014-06-07 10:50:20'], ['2014-06-07 10:59:20', '2014-06-07 11...</td>\n    </tr>\n    <tr>\n      <th>690</th>\n      <td>Load_StatusClothesWasher&gt;Load_StatusDryerPowerTotal</td>\n      <td>0.405479</td>\n      <td>0.896970</td>\n      <td>{'341': [[['2014-06-07 14:29:20', '2014-06-07 15:29:20'], ['2014-06-07 14:59:20', '2014-06-07 15...</td>\n    </tr>\n    <tr>\n      <th>691</th>\n      <td>Load_StatusClothesWasher|Load_StatusPlugLoadLRBlueRay</td>\n      <td>0.268493</td>\n      <td>0.632258</td>\n      <td>{'341': [[['2014-06-07 14:29:20', '2014-06-07 15:29:20'], ['2014-06-07 14:58:20', '2014-06-07 16...</td>\n    </tr>\n    <tr>\n      <th>692</th>\n      <td>Load_StatusPlugLoadLRBlueRay&gt;Load_StatusDryerPowerTotal</td>\n      <td>0.279452</td>\n      <td>0.618182</td>\n      <td>{'341': [[['2014-06-07 14:58:20', '2014-06-07 16:28:20'], ['2014-06-07 14:59:20', '2014-06-07 15...</td>\n    </tr>\n    <tr>\n      <th>693</th>\n      <td>Load_StatusPlugLoadVacuum&gt;Load_StatusPlugLoadIron</td>\n      <td>0.142466</td>\n      <td>0.509804</td>\n      <td>{'341': [[['2014-06-07 17:28:20', '2014-06-07 19:18:19'], ['2014-06-07 17:58:20', '2014-06-07 18...</td>\n    </tr>\n  </tbody>\n</table>\n<p>694 rows × 4 columns</p>\n</div>"
     },
     "execution_count": 255,
     "metadata": {},
     "output_type": "execute_result"
    }
   ],
   "source": [
    "level2_df = json_to_dataframe(level2_json)\n",
    "level2_df"
   ],
   "metadata": {
    "collapsed": false,
    "pycharm": {
     "name": "#%%\n"
    }
   }
  },
  {
   "cell_type": "code",
   "execution_count": 256,
   "outputs": [
    {
     "data": {
      "text/plain": "                                                                                                  pattern  \\\n0     Load_StatusMBALights->Load_StatusMBALights*Load_StatusMBALights->Load_StatusMasterBedroomLights*...   \n1     Load_StatusMBALights->Load_StatusMBALights*Load_StatusMBALights>Load_StatusBA2Lights*Load_Status...   \n2     Load_StatusMBALights->Load_StatusMBALights*Load_StatusMBALights>Load_StatusSensHeatPrntBUP*Load_...   \n3     Load_StatusMBALights->Load_StatusMBALights*Load_StatusMBALights>Load_StatusBR2Lights*Load_Status...   \n4     Load_StatusMBALights->Load_StatusMBALights*Load_StatusMBALights>Load_StatusPlugLoadHairDryerCurl...   \n...                                                                                                   ...   \n5084  Load_StatusPlugLoadHeatingPad>Load_StatusMBALights*Load_StatusMBALights->Load_StatusMBALights*Lo...   \n5085  Load_StatusPlugLoadHeatingPad>Load_StatusMBALights*Load_StatusMBALights->Load_StatusSensHeatPrnt...   \n5086  Load_StatusPlugLoadHeatingPad->Load_StatusSensHeatPrntAUP*Load_StatusSensHeatPrntAUP>Load_Status...   \n5087  Load_StatusApplianceOven>Load_StatusPlugLoadVideoGame*Load_StatusPlugLoadVideoGame->Load_StatusC...   \n5088  Load_StatusClothesWasher|Load_StatusPlugLoadLRBlueRay*Load_StatusPlugLoadLRBlueRay>Load_StatusDr...   \n\n          supp      conf  \\\n0     0.698630  0.704420   \n1     0.701370  0.707182   \n2     0.701370  0.701370   \n3     0.701370  0.707182   \n4     0.701370  0.707182   \n...        ...       ...   \n5084  0.701370  0.707182   \n5085  0.701370  0.701370   \n5086  0.698630  0.704420   \n5087  0.276712  0.651613   \n5088  0.268493  0.593939   \n\n                                                                                                     time  \n0     {'143': [[['2013-11-21 05:59:11', '2013-11-21 06:14:11'], ['2013-11-21 06:29:11', '2013-11-21 06...  \n1     {'143': [[['2013-11-21 05:59:11', '2013-11-21 06:14:11'], ['2013-11-21 06:29:11', '2013-11-21 06...  \n2     {'143': [[['2013-11-21 05:59:11', '2013-11-21 06:14:11'], ['2013-11-21 06:29:11', '2013-11-21 06...  \n3     {'143': [[['2013-11-21 05:59:11', '2013-11-21 06:14:11'], ['2013-11-21 06:29:11', '2013-11-21 06...  \n4     {'143': [[['2013-11-21 05:59:11', '2013-11-21 06:14:11'], ['2013-11-21 06:29:11', '2013-11-21 06...  \n...                                                                                                   ...  \n5084  {'143': [[['2013-11-21 21:59:09', '2013-11-21 22:09:09'], ['2013-11-21 22:04:09', '2013-11-21 22...  \n5085  {'143': [[['2013-11-21 21:59:09', '2013-11-21 22:09:09'], ['2013-11-21 22:04:09', '2013-11-21 22...  \n5086  {'143': [[['2013-11-21 21:59:09', '2013-11-21 22:09:09'], ['2013-11-21 22:29:09', '2013-11-21 23...  \n5087  {'341': [[['2014-06-07 08:13:20', '2014-06-07 10:50:20'], ['2014-06-07 09:58:20', '2014-06-07 10...  \n5088  {'341': [[['2014-06-07 14:29:20', '2014-06-07 15:29:20'], ['2014-06-07 14:58:20', '2014-06-07 16...  \n\n[5089 rows x 4 columns]",
      "text/html": "<div>\n<style scoped>\n    .dataframe tbody tr th:only-of-type {\n        vertical-align: middle;\n    }\n\n    .dataframe tbody tr th {\n        vertical-align: top;\n    }\n\n    .dataframe thead th {\n        text-align: right;\n    }\n</style>\n<table border=\"1\" class=\"dataframe\">\n  <thead>\n    <tr style=\"text-align: right;\">\n      <th></th>\n      <th>pattern</th>\n      <th>supp</th>\n      <th>conf</th>\n      <th>time</th>\n    </tr>\n  </thead>\n  <tbody>\n    <tr>\n      <th>0</th>\n      <td>Load_StatusMBALights-&gt;Load_StatusMBALights*Load_StatusMBALights-&gt;Load_StatusMasterBedroomLights*...</td>\n      <td>0.698630</td>\n      <td>0.704420</td>\n      <td>{'143': [[['2013-11-21 05:59:11', '2013-11-21 06:14:11'], ['2013-11-21 06:29:11', '2013-11-21 06...</td>\n    </tr>\n    <tr>\n      <th>1</th>\n      <td>Load_StatusMBALights-&gt;Load_StatusMBALights*Load_StatusMBALights&gt;Load_StatusBA2Lights*Load_Status...</td>\n      <td>0.701370</td>\n      <td>0.707182</td>\n      <td>{'143': [[['2013-11-21 05:59:11', '2013-11-21 06:14:11'], ['2013-11-21 06:29:11', '2013-11-21 06...</td>\n    </tr>\n    <tr>\n      <th>2</th>\n      <td>Load_StatusMBALights-&gt;Load_StatusMBALights*Load_StatusMBALights&gt;Load_StatusSensHeatPrntBUP*Load_...</td>\n      <td>0.701370</td>\n      <td>0.701370</td>\n      <td>{'143': [[['2013-11-21 05:59:11', '2013-11-21 06:14:11'], ['2013-11-21 06:29:11', '2013-11-21 06...</td>\n    </tr>\n    <tr>\n      <th>3</th>\n      <td>Load_StatusMBALights-&gt;Load_StatusMBALights*Load_StatusMBALights&gt;Load_StatusBR2Lights*Load_Status...</td>\n      <td>0.701370</td>\n      <td>0.707182</td>\n      <td>{'143': [[['2013-11-21 05:59:11', '2013-11-21 06:14:11'], ['2013-11-21 06:29:11', '2013-11-21 06...</td>\n    </tr>\n    <tr>\n      <th>4</th>\n      <td>Load_StatusMBALights-&gt;Load_StatusMBALights*Load_StatusMBALights&gt;Load_StatusPlugLoadHairDryerCurl...</td>\n      <td>0.701370</td>\n      <td>0.707182</td>\n      <td>{'143': [[['2013-11-21 05:59:11', '2013-11-21 06:14:11'], ['2013-11-21 06:29:11', '2013-11-21 06...</td>\n    </tr>\n    <tr>\n      <th>...</th>\n      <td>...</td>\n      <td>...</td>\n      <td>...</td>\n      <td>...</td>\n    </tr>\n    <tr>\n      <th>5084</th>\n      <td>Load_StatusPlugLoadHeatingPad&gt;Load_StatusMBALights*Load_StatusMBALights-&gt;Load_StatusMBALights*Lo...</td>\n      <td>0.701370</td>\n      <td>0.707182</td>\n      <td>{'143': [[['2013-11-21 21:59:09', '2013-11-21 22:09:09'], ['2013-11-21 22:04:09', '2013-11-21 22...</td>\n    </tr>\n    <tr>\n      <th>5085</th>\n      <td>Load_StatusPlugLoadHeatingPad&gt;Load_StatusMBALights*Load_StatusMBALights-&gt;Load_StatusSensHeatPrnt...</td>\n      <td>0.701370</td>\n      <td>0.701370</td>\n      <td>{'143': [[['2013-11-21 21:59:09', '2013-11-21 22:09:09'], ['2013-11-21 22:04:09', '2013-11-21 22...</td>\n    </tr>\n    <tr>\n      <th>5086</th>\n      <td>Load_StatusPlugLoadHeatingPad-&gt;Load_StatusSensHeatPrntAUP*Load_StatusSensHeatPrntAUP&gt;Load_Status...</td>\n      <td>0.698630</td>\n      <td>0.704420</td>\n      <td>{'143': [[['2013-11-21 21:59:09', '2013-11-21 22:09:09'], ['2013-11-21 22:29:09', '2013-11-21 23...</td>\n    </tr>\n    <tr>\n      <th>5087</th>\n      <td>Load_StatusApplianceOven&gt;Load_StatusPlugLoadVideoGame*Load_StatusPlugLoadVideoGame-&gt;Load_StatusC...</td>\n      <td>0.276712</td>\n      <td>0.651613</td>\n      <td>{'341': [[['2014-06-07 08:13:20', '2014-06-07 10:50:20'], ['2014-06-07 09:58:20', '2014-06-07 10...</td>\n    </tr>\n    <tr>\n      <th>5088</th>\n      <td>Load_StatusClothesWasher|Load_StatusPlugLoadLRBlueRay*Load_StatusPlugLoadLRBlueRay&gt;Load_StatusDr...</td>\n      <td>0.268493</td>\n      <td>0.593939</td>\n      <td>{'341': [[['2014-06-07 14:29:20', '2014-06-07 15:29:20'], ['2014-06-07 14:58:20', '2014-06-07 16...</td>\n    </tr>\n  </tbody>\n</table>\n<p>5089 rows × 4 columns</p>\n</div>"
     },
     "execution_count": 256,
     "metadata": {},
     "output_type": "execute_result"
    }
   ],
   "source": [
    "level3_df = json_to_dataframe(level3_json)\n",
    "level3_df"
   ],
   "metadata": {
    "collapsed": false,
    "pycharm": {
     "name": "#%%\n"
    }
   }
  },
  {
   "cell_type": "code",
   "execution_count": 296,
   "outputs": [],
   "source": [
    "def filter_rule_indexes(dataframe):\n",
    "    return_dict = {\n",
    "        'multi_floor': {},\n",
    "        'single_floor': {}\n",
    "    }\n",
    "    level_3_check = len(re.findall('\\*', dataframe.loc[0, 'pattern'])) > 0\n",
    "    #filter follows rules in dataframe for level3: max 1 and level2: 0\n",
    "    if level_3_check:\n",
    "        dataframe = dataframe.loc[dataframe['pattern'].str.findall('-').map(len) <= 1]\n",
    "    else:\n",
    "        dataframe = dataframe.loc[dataframe['pattern'].str.findall('-').map(len) == 0]\n",
    "\n",
    "    appliance_appliance_appliance_rule_indexes_multi = []\n",
    "    person_appliance_appliance_rule_indexes_multi = []\n",
    "    person_person_appliance_rule_indexes_multi = []\n",
    "    appliance_appliance_appliance_rule_indexes_single = []\n",
    "    person_appliance_appliance_rule_indexes_single = []\n",
    "    person_person_appliance_rule_indexes_single = []\n",
    "\n",
    "    for index, row in dataframe.iterrows():\n",
    "        tmp_floor_set = set()\n",
    "        appliance_check_list = list()\n",
    "        person_check_list = list()\n",
    "        for col in set(re.findall('[\\w_]+', row['pattern'])):\n",
    "            person_check_list.append('SensHeat' in col)\n",
    "            appliance_check_list.append('SensHeat' not in col)\n",
    "            try:\n",
    "                tmp_floor_set.add(meta.loc[col, 'Measurement_Floor'])\n",
    "            except:\n",
    "                tmp_floor_set.add(light_location_dict(meta)[col][0])\n",
    "\n",
    "        if '1stFloor' in tmp_floor_set and '2ndFloor' in tmp_floor_set and sum(appliance_check_list) >= 1:\n",
    "            if sum(person_check_list) == 1:\n",
    "                person_appliance_appliance_rule_indexes_multi.append(index)\n",
    "            elif sum(person_check_list) == 2:\n",
    "                person_person_appliance_rule_indexes_multi.append(index)\n",
    "            elif sum(person_check_list) == 0:\n",
    "                appliance_appliance_appliance_rule_indexes_multi.append(index)\n",
    "        else:\n",
    "            if sum(person_check_list) == 1:\n",
    "                person_appliance_appliance_rule_indexes_single.append(index)\n",
    "            elif sum(person_check_list) == 2:\n",
    "                person_person_appliance_rule_indexes_single.append(index)\n",
    "            elif sum(person_check_list) == 0:\n",
    "                appliance_appliance_appliance_rule_indexes_single.append(index)\n",
    "\n",
    "\n",
    "    if level_3_check:\n",
    "        return_dict['multi_floor'].update({\n",
    "            'psn_app_app': person_appliance_appliance_rule_indexes_multi,\n",
    "            'psn_psn_app': person_person_appliance_rule_indexes_multi,\n",
    "            'app_app_app': appliance_appliance_appliance_rule_indexes_multi\n",
    "        })\n",
    "        return_dict['single_floor'].update({\n",
    "            'psn_app_app': person_appliance_appliance_rule_indexes_single,\n",
    "            'psn_psn_app': person_person_appliance_rule_indexes_single,\n",
    "            'app_app_app': appliance_appliance_appliance_rule_indexes_single\n",
    "        })\n",
    "    else:\n",
    "        return_dict['multi_floor'].update({\n",
    "            'psn_app': person_appliance_appliance_rule_indexes_multi,\n",
    "            'app_app': appliance_appliance_appliance_rule_indexes_multi\n",
    "        })\n",
    "        return_dict['single_floor'].update({\n",
    "            'psn_app': person_appliance_appliance_rule_indexes_single,\n",
    "            'app_app': appliance_appliance_appliance_rule_indexes_single\n",
    "        })\n",
    "\n",
    "    return return_dict"
   ],
   "metadata": {
    "collapsed": false,
    "pycharm": {
     "name": "#%%\n"
    }
   }
  },
  {
   "cell_type": "code",
   "execution_count": 297,
   "outputs": [
    {
     "data": {
      "text/plain": "{'multi_floor': {'psn_app': [2,\n   33,\n   38,\n   44,\n   51,\n   54,\n   69,\n   70,\n   156,\n   213,\n   253,\n   264,\n   265,\n   269,\n   270,\n   274,\n   278,\n   282,\n   283,\n   284,\n   293,\n   294,\n   301,\n   302,\n   334,\n   341,\n   343,\n   368,\n   370,\n   389,\n   390,\n   392,\n   408,\n   413,\n   417,\n   482,\n   483,\n   485,\n   487,\n   489,\n   496,\n   502,\n   504,\n   505,\n   508,\n   510,\n   511,\n   520,\n   521,\n   523,\n   526,\n   530,\n   542,\n   544,\n   545,\n   584,\n   588,\n   589,\n   608,\n   609,\n   623,\n   630,\n   631,\n   635,\n   636,\n   647,\n   648,\n   650,\n   652,\n   654,\n   661,\n   667,\n   668],\n  'app_app': [3,\n   4,\n   23,\n   26,\n   27,\n   137,\n   151,\n   153,\n   155,\n   207,\n   210,\n   226,\n   245,\n   250,\n   254,\n   255,\n   256,\n   257,\n   266,\n   267,\n   339,\n   350,\n   351,\n   366,\n   378,\n   379,\n   380,\n   384,\n   554,\n   568,\n   587,\n   595,\n   598,\n   599,\n   600,\n   607,\n   616,\n   617,\n   619,\n   621,\n   624,\n   625,\n   633,\n   634,\n   639,\n   640,\n   678,\n   693]},\n 'single_floor': {'psn_app': [14,\n   25,\n   35,\n   36,\n   37,\n   39,\n   41,\n   42,\n   46,\n   56,\n   61,\n   62,\n   67,\n   68,\n   71,\n   74,\n   75,\n   80,\n   93,\n   94,\n   95,\n   104,\n   106,\n   112,\n   157,\n   199,\n   212,\n   229,\n   246,\n   251,\n   252,\n   259,\n   260,\n   276,\n   277,\n   279,\n   285,\n   288,\n   289,\n   295,\n   298,\n   299,\n   300,\n   304,\n   312,\n   315,\n   319,\n   320,\n   321,\n   326,\n   345,\n   349,\n   373,\n   374,\n   376,\n   377,\n   381,\n   385,\n   386,\n   395,\n   402,\n   411,\n   414,\n   420,\n   423,\n   424,\n   445,\n   447,\n   450,\n   452,\n   459,\n   476,\n   480,\n   481,\n   484,\n   486,\n   488,\n   492,\n   493,\n   494,\n   501,\n   506,\n   507,\n   512,\n   513,\n   515,\n   519,\n   522,\n   525,\n   528,\n   535,\n   591,\n   592,\n   596,\n   597,\n   613,\n   615,\n   622,\n   627,\n   628,\n   641,\n   645,\n   646,\n   649,\n   651,\n   653,\n   657,\n   658,\n   659,\n   665,\n   669,\n   670,\n   681,\n   682],\n  'app_app': [10,\n   16,\n   18,\n   79,\n   82,\n   83,\n   84,\n   85,\n   86,\n   87,\n   89,\n   90,\n   91,\n   96,\n   97,\n   98,\n   100,\n   102,\n   108,\n   109,\n   113,\n   114,\n   122,\n   123,\n   125,\n   138,\n   140,\n   141,\n   149,\n   152,\n   154,\n   158,\n   159,\n   160,\n   166,\n   167,\n   176,\n   179,\n   180,\n   182,\n   184,\n   186,\n   190,\n   193,\n   206,\n   211,\n   221,\n   225,\n   231,\n   232,\n   248,\n   249,\n   258,\n   261,\n   262,\n   263,\n   268,\n   271,\n   272,\n   330,\n   332,\n   333,\n   336,\n   337,\n   344,\n   347,\n   348,\n   356,\n   363,\n   364,\n   371,\n   372,\n   375,\n   383,\n   388,\n   391,\n   433,\n   435,\n   437,\n   438,\n   439,\n   449,\n   453,\n   454,\n   462,\n   465,\n   471,\n   472,\n   553,\n   555,\n   559,\n   560,\n   567,\n   569,\n   573,\n   581,\n   583,\n   586,\n   590,\n   594,\n   604,\n   606,\n   610,\n   611,\n   620,\n   626,\n   629,\n   637,\n   638,\n   674,\n   677,\n   679,\n   680,\n   683,\n   685,\n   688,\n   690,\n   691,\n   692]}}"
     },
     "execution_count": 297,
     "metadata": {},
     "output_type": "execute_result"
    }
   ],
   "source": [
    "level2_index_dict = filter_rule_indexes(level2_df)\n",
    "level2_index_dict"
   ],
   "metadata": {
    "collapsed": false,
    "pycharm": {
     "name": "#%%\n"
    }
   }
  },
  {
   "cell_type": "code",
   "execution_count": 272,
   "outputs": [],
   "source": [
    "level3_index_dict = filter_rule_indexes(level3_df)"
   ],
   "metadata": {
    "collapsed": false,
    "pycharm": {
     "name": "#%%\n"
    }
   }
  },
  {
   "cell_type": "code",
   "execution_count": 298,
   "outputs": [],
   "source": [
    "def redundancy_filter_tool(dataframe=level3_df, regex_str='BR3[\\w]*>[\\w]*ChildB', select_index_dict='psn_app_app', multi_floor=True):\n",
    "    multi_floor_selector = 'multi_floor' if multi_floor else 'single_floor'\n",
    "    dataframe = dataframe.loc[filter_rule_indexes(dataframe)[multi_floor_selector][select_index_dict]]\n",
    "    return dataframe.loc[dataframe['pattern'].str.findall(regex_str).map(len) > 0]"
   ],
   "metadata": {
    "collapsed": false,
    "pycharm": {
     "name": "#%%\n"
    }
   }
  },
  {
   "cell_type": "code",
   "execution_count": 300,
   "outputs": [
    {
     "data": {
      "text/plain": "                                                               pattern  \\\n14                     Load_StatusMBALights>Load_StatusSensHeatPrntBUP   \n25                     Load_StatusMBALights>Load_StatusSensHeatPrntAUP   \n80               Load_StatusKitchenLights>Load_StatusSensHeatPrntBDOWN   \n93               Load_StatusKitchenLights>Load_StatusSensHeatPrntADOWN   \n95                 Load_StatusKitchenLights>Load_StatusSensHeatPrntBUP   \n104             Load_StatusKitchenLights>Load_StatusSensHeatChildADOWN   \n106             Load_StatusKitchenLights>Load_StatusSensHeatChildBDOWN   \n112                Load_StatusKitchenLights>Load_StatusSensHeatPrntAUP   \n157                Load_StatusPlugLoadMBRTV>Load_StatusSensHeatPrntBUP   \n229                    Load_StatusBA2Lights>Load_StatusSensHeatPrntBUP   \n246               Load_StatusPlugLoadLRTV>Load_StatusSensHeatPrntBDOWN   \n252               Load_StatusPlugLoadLRTV>Load_StatusSensHeatPrntADOWN   \n259              Load_StatusPlugLoadLRTV>Load_StatusSensHeatChildADOWN   \n260              Load_StatusPlugLoadLRTV>Load_StatusSensHeatChildBDOWN   \n345                   Load_StatusBR2Lights>Load_StatusSensHeatChildAUP   \n349                   Load_StatusBR2Lights>Load_StatusSensHeatChildBUP   \n374                   Load_StatusBR3Lights>Load_StatusSensHeatChildAUP   \n377                   Load_StatusBR3Lights>Load_StatusSensHeatChildBUP   \n381                   Load_StatusDRLights>Load_StatusSensHeatPrntBDOWN   \n385                  Load_StatusDRLights>Load_StatusSensHeatChildADOWN   \n386                  Load_StatusDRLights>Load_StatusSensHeatChildBDOWN   \n445          Load_StatusLivingRoomLights>Load_StatusSensHeatChildADOWN   \n447          Load_StatusLivingRoomLights>Load_StatusSensHeatChildBDOWN   \n452             Load_StatusLivingRoomLights>Load_StatusSensHeatPrntAUP   \n592           Load_StatusPlugLoadBR2Laptop>Load_StatusSensHeatChildAUP   \n597           Load_StatusPlugLoadBR2Laptop>Load_StatusSensHeatChildBUP   \n613           Load_StatusPlugLoadBR3Laptop>Load_StatusSensHeatChildAUP   \n615           Load_StatusPlugLoadBR3Laptop>Load_StatusSensHeatChildBUP   \n622   Load_StatusPlugLoadDesktopPCMonitor>Load_StatusSensHeatPrntADOWN   \n627  Load_StatusPlugLoadDesktopPCMonitor>Load_StatusSensHeatChildADOWN   \n628  Load_StatusPlugLoadDesktopPCMonitor>Load_StatusSensHeatChildBDOWN   \n681                  Load_StatusPlugLoadFan>Load_StatusSensHeatPrntBUP   \n682                  Load_StatusPlugLoadFan>Load_StatusSensHeatPrntAUP   \n\n         supp      conf  \\\n14   0.841096  0.841096   \n25   0.556164  0.556164   \n80   0.986301  0.994475   \n93   0.983562  0.991713   \n95   0.701370  0.701370   \n104  0.991781  1.000000   \n106  0.991781  1.000000   \n112  0.983562  0.983562   \n157  0.843836  0.843836   \n229  0.701370  0.701370   \n246  0.561644  0.566298   \n252  0.841096  0.848066   \n259  0.986301  0.994475   \n260  0.986301  0.994475   \n345  0.706849  0.706849   \n349  0.849315  0.849315   \n374  0.567123  0.567123   \n377  0.849315  0.849315   \n381  0.704110  0.709945   \n385  0.849315  0.856354   \n386  0.852055  0.859116   \n445  0.843836  0.850829   \n447  0.843836  0.850829   \n452  0.706849  0.706849   \n592  0.704110  0.704110   \n597  0.986301  0.986301   \n613  0.564384  0.564384   \n615  0.849315  0.849315   \n622  0.843836  0.850829   \n627  0.983562  0.991713   \n628  0.983562  0.991713   \n681  0.967123  0.967123   \n682  0.978082  0.978082   \n\n                                                                                                    time  \n14   {'199': [[['2014-01-16 06:29:19', '2014-01-16 06:44:18'], ['2014-01-16 06:29:19', '2014-01-16 06...  \n25   {'299': [[['2014-04-26 19:58:35', '2014-04-26 20:13:35'], ['2014-04-26 19:58:35', '2014-04-26 20...  \n80   {'199': [[['2014-01-16 05:59:19', '2014-01-16 08:24:18'], ['2014-01-16 05:59:19', '2014-01-16 06...  \n93   {'199': [[['2014-01-16 05:59:19', '2014-01-16 08:24:18'], ['2014-01-16 06:29:19', '2014-01-16 08...  \n95   {'199': [[['2014-01-16 05:59:19', '2014-01-16 08:24:18'], ['2014-01-16 06:29:19', '2014-01-16 06...  \n104  {'199': [[['2014-01-16 05:59:19', '2014-01-16 08:24:18'], ['2014-01-16 06:59:18', '2014-01-16 07...  \n106  {'199': [[['2014-01-16 05:59:19', '2014-01-16 08:24:18'], ['2014-01-16 06:59:18', '2014-01-16 07...  \n112  {'199': [[['2014-01-16 17:59:45', '2014-01-16 18:29:45'], ['2014-01-16 17:59:45', '2014-01-16 18...  \n157  {'199': [[['2014-01-16 06:14:19', '2014-01-16 06:59:18'], ['2014-01-16 06:29:19', '2014-01-16 06...  \n229  {'199': [[['2014-01-16 06:29:19', '2014-01-16 06:49:18'], ['2014-01-16 06:29:19', '2014-01-16 06...  \n246  {'199': [[['2014-01-16 06:29:19', '2014-01-16 08:24:18'], ['2014-01-16 06:59:18', '2014-01-16 08...  \n252  {'199': [[['2014-01-16 06:29:19', '2014-01-16 08:24:18'], ['2014-01-16 06:29:19', '2014-01-16 08...  \n259  {'199': [[['2014-01-16 06:29:19', '2014-01-16 08:24:18'], ['2014-01-16 06:59:18', '2014-01-16 07...  \n260  {'199': [[['2014-01-16 06:29:19', '2014-01-16 08:24:18'], ['2014-01-16 06:59:18', '2014-01-16 07...  \n345  {'199': [[['2014-01-16 16:29:42', '2014-01-16 17:59:45'], ['2014-01-16 16:29:42', '2014-01-16 17...  \n349  {'199': [[['2014-01-16 18:29:45', '2014-01-16 21:59:44'], ['2014-01-16 18:29:45', '2014-01-16 19...  \n374  {'199': [[['2014-01-16 18:29:45', '2014-01-16 20:29:44'], ['2014-01-16 18:29:45', '2014-01-16 19...  \n377  {'199': [[['2014-01-16 18:29:45', '2014-01-16 20:29:44'], ['2014-01-16 18:29:45', '2014-01-16 19...  \n381  {'199': [[['2014-01-16 06:59:18', '2014-01-16 07:59:18'], ['2014-01-16 06:59:18', '2014-01-16 08...  \n385  {'199': [[['2014-01-16 06:59:18', '2014-01-16 07:59:18'], ['2014-01-16 06:59:18', '2014-01-16 07...  \n386  {'199': [[['2014-01-16 06:59:18', '2014-01-16 07:59:18'], ['2014-01-16 06:59:18', '2014-01-16 07...  \n445  {'199': [[['2014-01-16 17:59:45', '2014-01-16 18:29:45'], ['2014-01-16 17:59:45', '2014-01-16 18...  \n447  {'199': [[['2014-01-16 17:59:45', '2014-01-16 18:29:45'], ['2014-01-16 17:59:45', '2014-01-16 18...  \n452  {'199': [[['2014-01-16 17:59:45', '2014-01-16 18:29:45'], ['2014-01-16 17:59:45', '2014-01-16 18...  \n592  {'199': [[['2014-01-16 18:29:45', '2014-01-16 21:59:44'], ['2014-01-16 18:29:45', '2014-01-16 19...  \n597  {'199': [[['2014-01-16 18:29:45', '2014-01-16 21:59:44'], ['2014-01-16 18:29:45', '2014-01-16 19...  \n613  {'199': [[['2014-01-16 18:29:45', '2014-01-16 20:14:45'], ['2014-01-16 18:29:45', '2014-01-16 19...  \n615  {'199': [[['2014-01-16 18:29:45', '2014-01-16 20:14:45'], ['2014-01-16 18:29:45', '2014-01-16 19...  \n622  {'199': [[['2014-01-16 18:29:45', '2014-01-16 22:15:44'], ['2014-01-16 18:29:45', '2014-01-16 22...  \n627  {'199': [[['2014-01-16 18:29:45', '2014-01-16 22:15:44'], ['2014-01-16 19:29:45', '2014-01-16 20...  \n628  {'199': [[['2014-01-16 18:29:45', '2014-01-16 22:15:44'], ['2014-01-16 19:29:45', '2014-01-16 20...  \n681  {'199': [[['2014-01-16 21:59:44', '2014-01-17 00:00:44'], ['2014-01-16 21:59:44', '2014-01-16 23...  \n682  {'199': [[['2014-01-16 21:59:44', '2014-01-17 00:00:44'], ['2014-01-16 22:29:44', '2014-01-16 23...  ",
      "text/html": "<div>\n<style scoped>\n    .dataframe tbody tr th:only-of-type {\n        vertical-align: middle;\n    }\n\n    .dataframe tbody tr th {\n        vertical-align: top;\n    }\n\n    .dataframe thead th {\n        text-align: right;\n    }\n</style>\n<table border=\"1\" class=\"dataframe\">\n  <thead>\n    <tr style=\"text-align: right;\">\n      <th></th>\n      <th>pattern</th>\n      <th>supp</th>\n      <th>conf</th>\n      <th>time</th>\n    </tr>\n  </thead>\n  <tbody>\n    <tr>\n      <th>14</th>\n      <td>Load_StatusMBALights&gt;Load_StatusSensHeatPrntBUP</td>\n      <td>0.841096</td>\n      <td>0.841096</td>\n      <td>{'199': [[['2014-01-16 06:29:19', '2014-01-16 06:44:18'], ['2014-01-16 06:29:19', '2014-01-16 06...</td>\n    </tr>\n    <tr>\n      <th>25</th>\n      <td>Load_StatusMBALights&gt;Load_StatusSensHeatPrntAUP</td>\n      <td>0.556164</td>\n      <td>0.556164</td>\n      <td>{'299': [[['2014-04-26 19:58:35', '2014-04-26 20:13:35'], ['2014-04-26 19:58:35', '2014-04-26 20...</td>\n    </tr>\n    <tr>\n      <th>80</th>\n      <td>Load_StatusKitchenLights&gt;Load_StatusSensHeatPrntBDOWN</td>\n      <td>0.986301</td>\n      <td>0.994475</td>\n      <td>{'199': [[['2014-01-16 05:59:19', '2014-01-16 08:24:18'], ['2014-01-16 05:59:19', '2014-01-16 06...</td>\n    </tr>\n    <tr>\n      <th>93</th>\n      <td>Load_StatusKitchenLights&gt;Load_StatusSensHeatPrntADOWN</td>\n      <td>0.983562</td>\n      <td>0.991713</td>\n      <td>{'199': [[['2014-01-16 05:59:19', '2014-01-16 08:24:18'], ['2014-01-16 06:29:19', '2014-01-16 08...</td>\n    </tr>\n    <tr>\n      <th>95</th>\n      <td>Load_StatusKitchenLights&gt;Load_StatusSensHeatPrntBUP</td>\n      <td>0.701370</td>\n      <td>0.701370</td>\n      <td>{'199': [[['2014-01-16 05:59:19', '2014-01-16 08:24:18'], ['2014-01-16 06:29:19', '2014-01-16 06...</td>\n    </tr>\n    <tr>\n      <th>104</th>\n      <td>Load_StatusKitchenLights&gt;Load_StatusSensHeatChildADOWN</td>\n      <td>0.991781</td>\n      <td>1.000000</td>\n      <td>{'199': [[['2014-01-16 05:59:19', '2014-01-16 08:24:18'], ['2014-01-16 06:59:18', '2014-01-16 07...</td>\n    </tr>\n    <tr>\n      <th>106</th>\n      <td>Load_StatusKitchenLights&gt;Load_StatusSensHeatChildBDOWN</td>\n      <td>0.991781</td>\n      <td>1.000000</td>\n      <td>{'199': [[['2014-01-16 05:59:19', '2014-01-16 08:24:18'], ['2014-01-16 06:59:18', '2014-01-16 07...</td>\n    </tr>\n    <tr>\n      <th>112</th>\n      <td>Load_StatusKitchenLights&gt;Load_StatusSensHeatPrntAUP</td>\n      <td>0.983562</td>\n      <td>0.983562</td>\n      <td>{'199': [[['2014-01-16 17:59:45', '2014-01-16 18:29:45'], ['2014-01-16 17:59:45', '2014-01-16 18...</td>\n    </tr>\n    <tr>\n      <th>157</th>\n      <td>Load_StatusPlugLoadMBRTV&gt;Load_StatusSensHeatPrntBUP</td>\n      <td>0.843836</td>\n      <td>0.843836</td>\n      <td>{'199': [[['2014-01-16 06:14:19', '2014-01-16 06:59:18'], ['2014-01-16 06:29:19', '2014-01-16 06...</td>\n    </tr>\n    <tr>\n      <th>229</th>\n      <td>Load_StatusBA2Lights&gt;Load_StatusSensHeatPrntBUP</td>\n      <td>0.701370</td>\n      <td>0.701370</td>\n      <td>{'199': [[['2014-01-16 06:29:19', '2014-01-16 06:49:18'], ['2014-01-16 06:29:19', '2014-01-16 06...</td>\n    </tr>\n    <tr>\n      <th>246</th>\n      <td>Load_StatusPlugLoadLRTV&gt;Load_StatusSensHeatPrntBDOWN</td>\n      <td>0.561644</td>\n      <td>0.566298</td>\n      <td>{'199': [[['2014-01-16 06:29:19', '2014-01-16 08:24:18'], ['2014-01-16 06:59:18', '2014-01-16 08...</td>\n    </tr>\n    <tr>\n      <th>252</th>\n      <td>Load_StatusPlugLoadLRTV&gt;Load_StatusSensHeatPrntADOWN</td>\n      <td>0.841096</td>\n      <td>0.848066</td>\n      <td>{'199': [[['2014-01-16 06:29:19', '2014-01-16 08:24:18'], ['2014-01-16 06:29:19', '2014-01-16 08...</td>\n    </tr>\n    <tr>\n      <th>259</th>\n      <td>Load_StatusPlugLoadLRTV&gt;Load_StatusSensHeatChildADOWN</td>\n      <td>0.986301</td>\n      <td>0.994475</td>\n      <td>{'199': [[['2014-01-16 06:29:19', '2014-01-16 08:24:18'], ['2014-01-16 06:59:18', '2014-01-16 07...</td>\n    </tr>\n    <tr>\n      <th>260</th>\n      <td>Load_StatusPlugLoadLRTV&gt;Load_StatusSensHeatChildBDOWN</td>\n      <td>0.986301</td>\n      <td>0.994475</td>\n      <td>{'199': [[['2014-01-16 06:29:19', '2014-01-16 08:24:18'], ['2014-01-16 06:59:18', '2014-01-16 07...</td>\n    </tr>\n    <tr>\n      <th>345</th>\n      <td>Load_StatusBR2Lights&gt;Load_StatusSensHeatChildAUP</td>\n      <td>0.706849</td>\n      <td>0.706849</td>\n      <td>{'199': [[['2014-01-16 16:29:42', '2014-01-16 17:59:45'], ['2014-01-16 16:29:42', '2014-01-16 17...</td>\n    </tr>\n    <tr>\n      <th>349</th>\n      <td>Load_StatusBR2Lights&gt;Load_StatusSensHeatChildBUP</td>\n      <td>0.849315</td>\n      <td>0.849315</td>\n      <td>{'199': [[['2014-01-16 18:29:45', '2014-01-16 21:59:44'], ['2014-01-16 18:29:45', '2014-01-16 19...</td>\n    </tr>\n    <tr>\n      <th>374</th>\n      <td>Load_StatusBR3Lights&gt;Load_StatusSensHeatChildAUP</td>\n      <td>0.567123</td>\n      <td>0.567123</td>\n      <td>{'199': [[['2014-01-16 18:29:45', '2014-01-16 20:29:44'], ['2014-01-16 18:29:45', '2014-01-16 19...</td>\n    </tr>\n    <tr>\n      <th>377</th>\n      <td>Load_StatusBR3Lights&gt;Load_StatusSensHeatChildBUP</td>\n      <td>0.849315</td>\n      <td>0.849315</td>\n      <td>{'199': [[['2014-01-16 18:29:45', '2014-01-16 20:29:44'], ['2014-01-16 18:29:45', '2014-01-16 19...</td>\n    </tr>\n    <tr>\n      <th>381</th>\n      <td>Load_StatusDRLights&gt;Load_StatusSensHeatPrntBDOWN</td>\n      <td>0.704110</td>\n      <td>0.709945</td>\n      <td>{'199': [[['2014-01-16 06:59:18', '2014-01-16 07:59:18'], ['2014-01-16 06:59:18', '2014-01-16 08...</td>\n    </tr>\n    <tr>\n      <th>385</th>\n      <td>Load_StatusDRLights&gt;Load_StatusSensHeatChildADOWN</td>\n      <td>0.849315</td>\n      <td>0.856354</td>\n      <td>{'199': [[['2014-01-16 06:59:18', '2014-01-16 07:59:18'], ['2014-01-16 06:59:18', '2014-01-16 07...</td>\n    </tr>\n    <tr>\n      <th>386</th>\n      <td>Load_StatusDRLights&gt;Load_StatusSensHeatChildBDOWN</td>\n      <td>0.852055</td>\n      <td>0.859116</td>\n      <td>{'199': [[['2014-01-16 06:59:18', '2014-01-16 07:59:18'], ['2014-01-16 06:59:18', '2014-01-16 07...</td>\n    </tr>\n    <tr>\n      <th>445</th>\n      <td>Load_StatusLivingRoomLights&gt;Load_StatusSensHeatChildADOWN</td>\n      <td>0.843836</td>\n      <td>0.850829</td>\n      <td>{'199': [[['2014-01-16 17:59:45', '2014-01-16 18:29:45'], ['2014-01-16 17:59:45', '2014-01-16 18...</td>\n    </tr>\n    <tr>\n      <th>447</th>\n      <td>Load_StatusLivingRoomLights&gt;Load_StatusSensHeatChildBDOWN</td>\n      <td>0.843836</td>\n      <td>0.850829</td>\n      <td>{'199': [[['2014-01-16 17:59:45', '2014-01-16 18:29:45'], ['2014-01-16 17:59:45', '2014-01-16 18...</td>\n    </tr>\n    <tr>\n      <th>452</th>\n      <td>Load_StatusLivingRoomLights&gt;Load_StatusSensHeatPrntAUP</td>\n      <td>0.706849</td>\n      <td>0.706849</td>\n      <td>{'199': [[['2014-01-16 17:59:45', '2014-01-16 18:29:45'], ['2014-01-16 17:59:45', '2014-01-16 18...</td>\n    </tr>\n    <tr>\n      <th>592</th>\n      <td>Load_StatusPlugLoadBR2Laptop&gt;Load_StatusSensHeatChildAUP</td>\n      <td>0.704110</td>\n      <td>0.704110</td>\n      <td>{'199': [[['2014-01-16 18:29:45', '2014-01-16 21:59:44'], ['2014-01-16 18:29:45', '2014-01-16 19...</td>\n    </tr>\n    <tr>\n      <th>597</th>\n      <td>Load_StatusPlugLoadBR2Laptop&gt;Load_StatusSensHeatChildBUP</td>\n      <td>0.986301</td>\n      <td>0.986301</td>\n      <td>{'199': [[['2014-01-16 18:29:45', '2014-01-16 21:59:44'], ['2014-01-16 18:29:45', '2014-01-16 19...</td>\n    </tr>\n    <tr>\n      <th>613</th>\n      <td>Load_StatusPlugLoadBR3Laptop&gt;Load_StatusSensHeatChildAUP</td>\n      <td>0.564384</td>\n      <td>0.564384</td>\n      <td>{'199': [[['2014-01-16 18:29:45', '2014-01-16 20:14:45'], ['2014-01-16 18:29:45', '2014-01-16 19...</td>\n    </tr>\n    <tr>\n      <th>615</th>\n      <td>Load_StatusPlugLoadBR3Laptop&gt;Load_StatusSensHeatChildBUP</td>\n      <td>0.849315</td>\n      <td>0.849315</td>\n      <td>{'199': [[['2014-01-16 18:29:45', '2014-01-16 20:14:45'], ['2014-01-16 18:29:45', '2014-01-16 19...</td>\n    </tr>\n    <tr>\n      <th>622</th>\n      <td>Load_StatusPlugLoadDesktopPCMonitor&gt;Load_StatusSensHeatPrntADOWN</td>\n      <td>0.843836</td>\n      <td>0.850829</td>\n      <td>{'199': [[['2014-01-16 18:29:45', '2014-01-16 22:15:44'], ['2014-01-16 18:29:45', '2014-01-16 22...</td>\n    </tr>\n    <tr>\n      <th>627</th>\n      <td>Load_StatusPlugLoadDesktopPCMonitor&gt;Load_StatusSensHeatChildADOWN</td>\n      <td>0.983562</td>\n      <td>0.991713</td>\n      <td>{'199': [[['2014-01-16 18:29:45', '2014-01-16 22:15:44'], ['2014-01-16 19:29:45', '2014-01-16 20...</td>\n    </tr>\n    <tr>\n      <th>628</th>\n      <td>Load_StatusPlugLoadDesktopPCMonitor&gt;Load_StatusSensHeatChildBDOWN</td>\n      <td>0.983562</td>\n      <td>0.991713</td>\n      <td>{'199': [[['2014-01-16 18:29:45', '2014-01-16 22:15:44'], ['2014-01-16 19:29:45', '2014-01-16 20...</td>\n    </tr>\n    <tr>\n      <th>681</th>\n      <td>Load_StatusPlugLoadFan&gt;Load_StatusSensHeatPrntBUP</td>\n      <td>0.967123</td>\n      <td>0.967123</td>\n      <td>{'199': [[['2014-01-16 21:59:44', '2014-01-17 00:00:44'], ['2014-01-16 21:59:44', '2014-01-16 23...</td>\n    </tr>\n    <tr>\n      <th>682</th>\n      <td>Load_StatusPlugLoadFan&gt;Load_StatusSensHeatPrntAUP</td>\n      <td>0.978082</td>\n      <td>0.978082</td>\n      <td>{'199': [[['2014-01-16 21:59:44', '2014-01-17 00:00:44'], ['2014-01-16 22:29:44', '2014-01-16 23...</td>\n    </tr>\n  </tbody>\n</table>\n</div>"
     },
     "execution_count": 300,
     "metadata": {},
     "output_type": "execute_result"
    }
   ],
   "source": [
    "redundancy_filter_tool(dataframe=level2_df, regex_str='[\\w]*>[\\w]*SensHeat', select_index_dict='psn_app', multi_floor=False)"
   ],
   "metadata": {
    "collapsed": false,
    "pycharm": {
     "name": "#%%\n"
    }
   }
  },
  {
   "cell_type": "code",
   "execution_count": 263,
   "outputs": [
    {
     "data": {
      "text/plain": "                                                               pattern  \\\n33                   Load_StatusSensHeatPrntBDOWN>Load_StatusMBALights   \n38               Load_StatusSensHeatPrntBDOWN>Load_StatusPlugLoadMBRTV   \n44                   Load_StatusSensHeatPrntBDOWN>Load_StatusBA2Lights   \n51                   Load_StatusSensHeatPrntBDOWN>Load_StatusBR2Lights   \n54                   Load_StatusSensHeatPrntBDOWN>Load_StatusBR3Lights   \n69           Load_StatusSensHeatPrntBDOWN>Load_StatusPlugLoadBR2Laptop   \n70           Load_StatusSensHeatPrntBDOWN>Load_StatusPlugLoadBR3Laptop   \n274                  Load_StatusSensHeatPrntADOWN>Load_StatusMBALights   \n278                  Load_StatusSensHeatPrntADOWN>Load_StatusBA2Lights   \n282                  Load_StatusSensHeatPrntADOWN>Load_StatusBR2Lights   \n283  Load_StatusSensHeatPrntADOWN>Load_StatusPlugLoadHairDryerCurlIron   \n284                  Load_StatusSensHeatPrntADOWN>Load_StatusBR3Lights   \n293          Load_StatusSensHeatPrntADOWN>Load_StatusPlugLoadBR2Laptop   \n294          Load_StatusSensHeatPrntADOWN>Load_StatusPlugLoadBR3Laptop   \n302         Load_StatusSensHeatPrntADOWN>Load_StatusPlugLoadHeatingPad   \n392                 Load_StatusSensHeatChildADOWN>Load_StatusMBALights   \n408                 Load_StatusSensHeatChildBDOWN>Load_StatusMBALights   \n413                 Load_StatusSensHeatChildBDOWN>Load_StatusBA2Lights   \n482             Load_StatusSensHeatChildAUP>Load_StatusPlugLoadBlender   \n483         Load_StatusSensHeatChildAUP>Load_StatusPlugLoadCoffeeMaker   \n485         Load_StatusSensHeatChildAUP>Load_StatusPlugLoadToasterOven   \n487             Load_StatusSensHeatChildAUP>Load_StatusPlugLoadToaster   \n502                   Load_StatusSensHeatChildAUP>Load_StatusBA1Lights   \n504            Load_StatusSensHeatChildAUP>Load_StatusApplianceCooktop   \n505          Load_StatusSensHeatChildAUP>Load_StatusApplianceRangeHood   \n510           Load_StatusSensHeatChildAUP>Load_StatusPlugLoadCanOpener   \n511           Load_StatusSensHeatChildAUP>Load_StatusPlugLoadHandMixer   \n520              Load_StatusSensHeatPrntAUP>Load_StatusPlugLoadBlender   \n521          Load_StatusSensHeatPrntAUP>Load_StatusPlugLoadCoffeeMaker   \n523          Load_StatusSensHeatPrntAUP>Load_StatusPlugLoadToasterOven   \n526              Load_StatusSensHeatPrntAUP>Load_StatusPlugLoadToaster   \n542                    Load_StatusSensHeatPrntAUP>Load_StatusBA1Lights   \n544             Load_StatusSensHeatPrntAUP>Load_StatusApplianceCooktop   \n545           Load_StatusSensHeatPrntAUP>Load_StatusApplianceRangeHood   \n647             Load_StatusSensHeatChildBUP>Load_StatusPlugLoadBlender   \n648         Load_StatusSensHeatChildBUP>Load_StatusPlugLoadCoffeeMaker   \n650         Load_StatusSensHeatChildBUP>Load_StatusPlugLoadToasterOven   \n652             Load_StatusSensHeatChildBUP>Load_StatusPlugLoadToaster   \n667           Load_StatusSensHeatChildBUP>Load_StatusPlugLoadCanOpener   \n668           Load_StatusSensHeatChildBUP>Load_StatusPlugLoadHandMixer   \n\n         supp      conf  \\\n33   0.991781  1.000000   \n38   0.698630  0.704420   \n44   0.983562  0.991713   \n51   0.846575  0.853591   \n54   0.846575  0.853591   \n69   0.986301  0.994475   \n70   0.846575  0.853591   \n274  0.849315  0.856354   \n278  0.991781  1.000000   \n282  0.849315  0.856354   \n283  0.701370  0.707182   \n284  0.849315  0.856354   \n293  0.841096  0.848066   \n294  0.843836  0.850829   \n302  0.701370  0.707182   \n392  0.564384  0.569061   \n408  0.846575  0.853591   \n413  0.558904  0.563536   \n482  0.827397  0.827397   \n483  0.835616  0.835616   \n485  0.827397  0.827397   \n487  0.827397  0.827397   \n502  0.698630  0.698630   \n504  0.701370  0.701370   \n505  0.701370  0.701370   \n510  0.986301  0.986301   \n511  0.986301  0.986301   \n520  0.687671  0.687671   \n521  0.695890  0.695890   \n523  0.687671  0.687671   \n526  0.687671  0.687671   \n542  0.564384  0.564384   \n544  0.843836  0.843836   \n545  0.843836  0.843836   \n647  0.687671  0.687671   \n648  0.687671  0.687671   \n650  0.687671  0.687671   \n652  0.687671  0.687671   \n667  0.989041  0.989041   \n668  0.989041  0.989041   \n\n                                                                                                    time  \n33   {'199': [[['2014-01-16 05:59:19', '2014-01-16 06:29:19'], ['2014-01-16 05:59:19', '2014-01-16 06...  \n38   {'199': [[['2014-01-16 05:59:19', '2014-01-16 06:29:19'], ['2014-01-16 06:14:19', '2014-01-16 06...  \n44   {'199': [[['2014-01-16 17:59:45', '2014-01-16 21:59:44'], ['2014-01-16 20:14:45', '2014-01-16 20...  \n51   {'199': [[['2014-01-16 17:59:45', '2014-01-16 21:59:44'], ['2014-01-16 18:29:45', '2014-01-16 21...  \n54   {'199': [[['2014-01-16 17:59:45', '2014-01-16 21:59:44'], ['2014-01-16 18:29:45', '2014-01-16 20...  \n69   {'199': [[['2014-01-16 17:59:45', '2014-01-16 21:59:44'], ['2014-01-16 18:29:45', '2014-01-16 21...  \n70   {'199': [[['2014-01-16 17:59:45', '2014-01-16 21:59:44'], ['2014-01-16 18:29:45', '2014-01-16 20...  \n274  {'199': [[['2014-01-16 06:29:19', '2014-01-16 08:29:18'], ['2014-01-16 06:29:19', '2014-01-16 06...  \n278  {'199': [[['2014-01-16 06:29:19', '2014-01-16 08:29:18'], ['2014-01-16 06:29:19', '2014-01-16 06...  \n282  {'199': [[['2014-01-16 06:29:19', '2014-01-16 08:29:18'], ['2014-01-16 06:39:18', '2014-01-16 06...  \n283  {'199': [[['2014-01-16 06:29:19', '2014-01-16 08:29:18'], ['2014-01-16 06:39:18', '2014-01-16 06...  \n284  {'199': [[['2014-01-16 06:29:19', '2014-01-16 08:29:18'], ['2014-01-16 06:49:18', '2014-01-16 06...  \n293  {'199': [[['2014-01-16 18:29:45', '2014-01-16 22:29:44'], ['2014-01-16 18:29:45', '2014-01-16 21...  \n294  {'199': [[['2014-01-16 18:29:45', '2014-01-16 22:29:44'], ['2014-01-16 18:29:45', '2014-01-16 20...  \n302  {'199': [[['2014-01-16 18:29:45', '2014-01-16 22:29:44'], ['2014-01-16 21:59:44', '2014-01-16 22...  \n392  {'199': [[['2014-01-16 17:59:45', '2014-01-16 18:29:45'], ['2014-01-16 18:00:45', '2014-01-16 18...  \n408  {'199': [[['2014-01-16 17:59:45', '2014-01-16 18:29:45'], ['2014-01-16 18:00:45', '2014-01-16 18...  \n413  {'258': [[['2014-03-16 12:58:31', '2014-03-16 18:28:31'], ['2014-03-16 18:06:31', '2014-03-16 18...  \n482  {'199': [[['2014-01-16 00:04:18', '2014-01-16 06:59:18'], ['2014-01-16 06:04:19', '2014-01-16 06...  \n483  {'199': [[['2014-01-16 00:04:18', '2014-01-16 06:59:18'], ['2014-01-16 06:09:19', '2014-01-16 06...  \n485  {'199': [[['2014-01-16 00:04:18', '2014-01-16 06:59:18'], ['2014-01-16 06:14:19', '2014-01-16 06...  \n487  {'199': [[['2014-01-16 00:04:18', '2014-01-16 06:59:18'], ['2014-01-16 06:19:19', '2014-01-16 06...  \n502  {'299': [[['2014-04-26 22:58:34', '2014-04-26 23:57:34'], ['2014-04-26 23:16:34', '2014-04-26 23...  \n504  {'299': [[['2014-04-26 00:03:32', '2014-04-26 09:28:36'], ['2014-04-26 08:13:36', '2014-04-26 08...  \n505  {'299': [[['2014-04-26 00:03:32', '2014-04-26 09:28:36'], ['2014-04-26 08:13:36', '2014-04-26 08...  \n510  {'199': [[['2014-01-16 18:29:45', '2014-01-16 19:29:45'], ['2014-01-16 18:39:45', '2014-01-16 18...  \n511  {'199': [[['2014-01-16 18:29:45', '2014-01-16 19:29:45'], ['2014-01-16 18:39:45', '2014-01-16 18...  \n520  {'199': [[['2014-01-16 00:04:18', '2014-01-16 06:29:19'], ['2014-01-16 06:04:19', '2014-01-16 06...  \n521  {'199': [[['2014-01-16 00:04:18', '2014-01-16 06:29:19'], ['2014-01-16 06:09:19', '2014-01-16 06...  \n523  {'199': [[['2014-01-16 00:04:18', '2014-01-16 06:29:19'], ['2014-01-16 06:14:19', '2014-01-16 06...  \n526  {'199': [[['2014-01-16 00:04:18', '2014-01-16 06:29:19'], ['2014-01-16 06:19:19', '2014-01-16 06...  \n542  {'199': [[['2014-01-16 17:59:45', '2014-01-16 18:29:45'], ['2014-01-16 18:01:45', '2014-01-16 18...  \n544  {'199': [[['2014-01-16 17:59:45', '2014-01-16 18:29:45'], ['2014-01-16 18:01:45', '2014-01-16 18...  \n545  {'199': [[['2014-01-16 17:59:45', '2014-01-16 18:29:45'], ['2014-01-16 18:01:45', '2014-01-16 18...  \n647  {'199': [[['2014-01-16 00:04:18', '2014-01-16 06:59:18'], ['2014-01-16 06:04:19', '2014-01-16 06...  \n648  {'199': [[['2014-01-16 00:04:18', '2014-01-16 06:59:18'], ['2014-01-16 06:09:19', '2014-01-16 06...  \n650  {'199': [[['2014-01-16 00:04:18', '2014-01-16 06:59:18'], ['2014-01-16 06:14:19', '2014-01-16 06...  \n652  {'199': [[['2014-01-16 00:04:18', '2014-01-16 06:59:18'], ['2014-01-16 06:19:19', '2014-01-16 06...  \n667  {'199': [[['2014-01-16 18:29:45', '2014-01-16 19:29:45'], ['2014-01-16 18:39:45', '2014-01-16 18...  \n668  {'199': [[['2014-01-16 18:29:45', '2014-01-16 19:29:45'], ['2014-01-16 18:39:45', '2014-01-16 18...  ",
      "text/html": "<div>\n<style scoped>\n    .dataframe tbody tr th:only-of-type {\n        vertical-align: middle;\n    }\n\n    .dataframe tbody tr th {\n        vertical-align: top;\n    }\n\n    .dataframe thead th {\n        text-align: right;\n    }\n</style>\n<table border=\"1\" class=\"dataframe\">\n  <thead>\n    <tr style=\"text-align: right;\">\n      <th></th>\n      <th>pattern</th>\n      <th>supp</th>\n      <th>conf</th>\n      <th>time</th>\n    </tr>\n  </thead>\n  <tbody>\n    <tr>\n      <th>33</th>\n      <td>Load_StatusSensHeatPrntBDOWN&gt;Load_StatusMBALights</td>\n      <td>0.991781</td>\n      <td>1.000000</td>\n      <td>{'199': [[['2014-01-16 05:59:19', '2014-01-16 06:29:19'], ['2014-01-16 05:59:19', '2014-01-16 06...</td>\n    </tr>\n    <tr>\n      <th>38</th>\n      <td>Load_StatusSensHeatPrntBDOWN&gt;Load_StatusPlugLoadMBRTV</td>\n      <td>0.698630</td>\n      <td>0.704420</td>\n      <td>{'199': [[['2014-01-16 05:59:19', '2014-01-16 06:29:19'], ['2014-01-16 06:14:19', '2014-01-16 06...</td>\n    </tr>\n    <tr>\n      <th>44</th>\n      <td>Load_StatusSensHeatPrntBDOWN&gt;Load_StatusBA2Lights</td>\n      <td>0.983562</td>\n      <td>0.991713</td>\n      <td>{'199': [[['2014-01-16 17:59:45', '2014-01-16 21:59:44'], ['2014-01-16 20:14:45', '2014-01-16 20...</td>\n    </tr>\n    <tr>\n      <th>51</th>\n      <td>Load_StatusSensHeatPrntBDOWN&gt;Load_StatusBR2Lights</td>\n      <td>0.846575</td>\n      <td>0.853591</td>\n      <td>{'199': [[['2014-01-16 17:59:45', '2014-01-16 21:59:44'], ['2014-01-16 18:29:45', '2014-01-16 21...</td>\n    </tr>\n    <tr>\n      <th>54</th>\n      <td>Load_StatusSensHeatPrntBDOWN&gt;Load_StatusBR3Lights</td>\n      <td>0.846575</td>\n      <td>0.853591</td>\n      <td>{'199': [[['2014-01-16 17:59:45', '2014-01-16 21:59:44'], ['2014-01-16 18:29:45', '2014-01-16 20...</td>\n    </tr>\n    <tr>\n      <th>69</th>\n      <td>Load_StatusSensHeatPrntBDOWN&gt;Load_StatusPlugLoadBR2Laptop</td>\n      <td>0.986301</td>\n      <td>0.994475</td>\n      <td>{'199': [[['2014-01-16 17:59:45', '2014-01-16 21:59:44'], ['2014-01-16 18:29:45', '2014-01-16 21...</td>\n    </tr>\n    <tr>\n      <th>70</th>\n      <td>Load_StatusSensHeatPrntBDOWN&gt;Load_StatusPlugLoadBR3Laptop</td>\n      <td>0.846575</td>\n      <td>0.853591</td>\n      <td>{'199': [[['2014-01-16 17:59:45', '2014-01-16 21:59:44'], ['2014-01-16 18:29:45', '2014-01-16 20...</td>\n    </tr>\n    <tr>\n      <th>274</th>\n      <td>Load_StatusSensHeatPrntADOWN&gt;Load_StatusMBALights</td>\n      <td>0.849315</td>\n      <td>0.856354</td>\n      <td>{'199': [[['2014-01-16 06:29:19', '2014-01-16 08:29:18'], ['2014-01-16 06:29:19', '2014-01-16 06...</td>\n    </tr>\n    <tr>\n      <th>278</th>\n      <td>Load_StatusSensHeatPrntADOWN&gt;Load_StatusBA2Lights</td>\n      <td>0.991781</td>\n      <td>1.000000</td>\n      <td>{'199': [[['2014-01-16 06:29:19', '2014-01-16 08:29:18'], ['2014-01-16 06:29:19', '2014-01-16 06...</td>\n    </tr>\n    <tr>\n      <th>282</th>\n      <td>Load_StatusSensHeatPrntADOWN&gt;Load_StatusBR2Lights</td>\n      <td>0.849315</td>\n      <td>0.856354</td>\n      <td>{'199': [[['2014-01-16 06:29:19', '2014-01-16 08:29:18'], ['2014-01-16 06:39:18', '2014-01-16 06...</td>\n    </tr>\n    <tr>\n      <th>283</th>\n      <td>Load_StatusSensHeatPrntADOWN&gt;Load_StatusPlugLoadHairDryerCurlIron</td>\n      <td>0.701370</td>\n      <td>0.707182</td>\n      <td>{'199': [[['2014-01-16 06:29:19', '2014-01-16 08:29:18'], ['2014-01-16 06:39:18', '2014-01-16 06...</td>\n    </tr>\n    <tr>\n      <th>284</th>\n      <td>Load_StatusSensHeatPrntADOWN&gt;Load_StatusBR3Lights</td>\n      <td>0.849315</td>\n      <td>0.856354</td>\n      <td>{'199': [[['2014-01-16 06:29:19', '2014-01-16 08:29:18'], ['2014-01-16 06:49:18', '2014-01-16 06...</td>\n    </tr>\n    <tr>\n      <th>293</th>\n      <td>Load_StatusSensHeatPrntADOWN&gt;Load_StatusPlugLoadBR2Laptop</td>\n      <td>0.841096</td>\n      <td>0.848066</td>\n      <td>{'199': [[['2014-01-16 18:29:45', '2014-01-16 22:29:44'], ['2014-01-16 18:29:45', '2014-01-16 21...</td>\n    </tr>\n    <tr>\n      <th>294</th>\n      <td>Load_StatusSensHeatPrntADOWN&gt;Load_StatusPlugLoadBR3Laptop</td>\n      <td>0.843836</td>\n      <td>0.850829</td>\n      <td>{'199': [[['2014-01-16 18:29:45', '2014-01-16 22:29:44'], ['2014-01-16 18:29:45', '2014-01-16 20...</td>\n    </tr>\n    <tr>\n      <th>302</th>\n      <td>Load_StatusSensHeatPrntADOWN&gt;Load_StatusPlugLoadHeatingPad</td>\n      <td>0.701370</td>\n      <td>0.707182</td>\n      <td>{'199': [[['2014-01-16 18:29:45', '2014-01-16 22:29:44'], ['2014-01-16 21:59:44', '2014-01-16 22...</td>\n    </tr>\n    <tr>\n      <th>392</th>\n      <td>Load_StatusSensHeatChildADOWN&gt;Load_StatusMBALights</td>\n      <td>0.564384</td>\n      <td>0.569061</td>\n      <td>{'199': [[['2014-01-16 17:59:45', '2014-01-16 18:29:45'], ['2014-01-16 18:00:45', '2014-01-16 18...</td>\n    </tr>\n    <tr>\n      <th>408</th>\n      <td>Load_StatusSensHeatChildBDOWN&gt;Load_StatusMBALights</td>\n      <td>0.846575</td>\n      <td>0.853591</td>\n      <td>{'199': [[['2014-01-16 17:59:45', '2014-01-16 18:29:45'], ['2014-01-16 18:00:45', '2014-01-16 18...</td>\n    </tr>\n    <tr>\n      <th>413</th>\n      <td>Load_StatusSensHeatChildBDOWN&gt;Load_StatusBA2Lights</td>\n      <td>0.558904</td>\n      <td>0.563536</td>\n      <td>{'258': [[['2014-03-16 12:58:31', '2014-03-16 18:28:31'], ['2014-03-16 18:06:31', '2014-03-16 18...</td>\n    </tr>\n    <tr>\n      <th>482</th>\n      <td>Load_StatusSensHeatChildAUP&gt;Load_StatusPlugLoadBlender</td>\n      <td>0.827397</td>\n      <td>0.827397</td>\n      <td>{'199': [[['2014-01-16 00:04:18', '2014-01-16 06:59:18'], ['2014-01-16 06:04:19', '2014-01-16 06...</td>\n    </tr>\n    <tr>\n      <th>483</th>\n      <td>Load_StatusSensHeatChildAUP&gt;Load_StatusPlugLoadCoffeeMaker</td>\n      <td>0.835616</td>\n      <td>0.835616</td>\n      <td>{'199': [[['2014-01-16 00:04:18', '2014-01-16 06:59:18'], ['2014-01-16 06:09:19', '2014-01-16 06...</td>\n    </tr>\n    <tr>\n      <th>485</th>\n      <td>Load_StatusSensHeatChildAUP&gt;Load_StatusPlugLoadToasterOven</td>\n      <td>0.827397</td>\n      <td>0.827397</td>\n      <td>{'199': [[['2014-01-16 00:04:18', '2014-01-16 06:59:18'], ['2014-01-16 06:14:19', '2014-01-16 06...</td>\n    </tr>\n    <tr>\n      <th>487</th>\n      <td>Load_StatusSensHeatChildAUP&gt;Load_StatusPlugLoadToaster</td>\n      <td>0.827397</td>\n      <td>0.827397</td>\n      <td>{'199': [[['2014-01-16 00:04:18', '2014-01-16 06:59:18'], ['2014-01-16 06:19:19', '2014-01-16 06...</td>\n    </tr>\n    <tr>\n      <th>502</th>\n      <td>Load_StatusSensHeatChildAUP&gt;Load_StatusBA1Lights</td>\n      <td>0.698630</td>\n      <td>0.698630</td>\n      <td>{'299': [[['2014-04-26 22:58:34', '2014-04-26 23:57:34'], ['2014-04-26 23:16:34', '2014-04-26 23...</td>\n    </tr>\n    <tr>\n      <th>504</th>\n      <td>Load_StatusSensHeatChildAUP&gt;Load_StatusApplianceCooktop</td>\n      <td>0.701370</td>\n      <td>0.701370</td>\n      <td>{'299': [[['2014-04-26 00:03:32', '2014-04-26 09:28:36'], ['2014-04-26 08:13:36', '2014-04-26 08...</td>\n    </tr>\n    <tr>\n      <th>505</th>\n      <td>Load_StatusSensHeatChildAUP&gt;Load_StatusApplianceRangeHood</td>\n      <td>0.701370</td>\n      <td>0.701370</td>\n      <td>{'299': [[['2014-04-26 00:03:32', '2014-04-26 09:28:36'], ['2014-04-26 08:13:36', '2014-04-26 08...</td>\n    </tr>\n    <tr>\n      <th>510</th>\n      <td>Load_StatusSensHeatChildAUP&gt;Load_StatusPlugLoadCanOpener</td>\n      <td>0.986301</td>\n      <td>0.986301</td>\n      <td>{'199': [[['2014-01-16 18:29:45', '2014-01-16 19:29:45'], ['2014-01-16 18:39:45', '2014-01-16 18...</td>\n    </tr>\n    <tr>\n      <th>511</th>\n      <td>Load_StatusSensHeatChildAUP&gt;Load_StatusPlugLoadHandMixer</td>\n      <td>0.986301</td>\n      <td>0.986301</td>\n      <td>{'199': [[['2014-01-16 18:29:45', '2014-01-16 19:29:45'], ['2014-01-16 18:39:45', '2014-01-16 18...</td>\n    </tr>\n    <tr>\n      <th>520</th>\n      <td>Load_StatusSensHeatPrntAUP&gt;Load_StatusPlugLoadBlender</td>\n      <td>0.687671</td>\n      <td>0.687671</td>\n      <td>{'199': [[['2014-01-16 00:04:18', '2014-01-16 06:29:19'], ['2014-01-16 06:04:19', '2014-01-16 06...</td>\n    </tr>\n    <tr>\n      <th>521</th>\n      <td>Load_StatusSensHeatPrntAUP&gt;Load_StatusPlugLoadCoffeeMaker</td>\n      <td>0.695890</td>\n      <td>0.695890</td>\n      <td>{'199': [[['2014-01-16 00:04:18', '2014-01-16 06:29:19'], ['2014-01-16 06:09:19', '2014-01-16 06...</td>\n    </tr>\n    <tr>\n      <th>523</th>\n      <td>Load_StatusSensHeatPrntAUP&gt;Load_StatusPlugLoadToasterOven</td>\n      <td>0.687671</td>\n      <td>0.687671</td>\n      <td>{'199': [[['2014-01-16 00:04:18', '2014-01-16 06:29:19'], ['2014-01-16 06:14:19', '2014-01-16 06...</td>\n    </tr>\n    <tr>\n      <th>526</th>\n      <td>Load_StatusSensHeatPrntAUP&gt;Load_StatusPlugLoadToaster</td>\n      <td>0.687671</td>\n      <td>0.687671</td>\n      <td>{'199': [[['2014-01-16 00:04:18', '2014-01-16 06:29:19'], ['2014-01-16 06:19:19', '2014-01-16 06...</td>\n    </tr>\n    <tr>\n      <th>542</th>\n      <td>Load_StatusSensHeatPrntAUP&gt;Load_StatusBA1Lights</td>\n      <td>0.564384</td>\n      <td>0.564384</td>\n      <td>{'199': [[['2014-01-16 17:59:45', '2014-01-16 18:29:45'], ['2014-01-16 18:01:45', '2014-01-16 18...</td>\n    </tr>\n    <tr>\n      <th>544</th>\n      <td>Load_StatusSensHeatPrntAUP&gt;Load_StatusApplianceCooktop</td>\n      <td>0.843836</td>\n      <td>0.843836</td>\n      <td>{'199': [[['2014-01-16 17:59:45', '2014-01-16 18:29:45'], ['2014-01-16 18:01:45', '2014-01-16 18...</td>\n    </tr>\n    <tr>\n      <th>545</th>\n      <td>Load_StatusSensHeatPrntAUP&gt;Load_StatusApplianceRangeHood</td>\n      <td>0.843836</td>\n      <td>0.843836</td>\n      <td>{'199': [[['2014-01-16 17:59:45', '2014-01-16 18:29:45'], ['2014-01-16 18:01:45', '2014-01-16 18...</td>\n    </tr>\n    <tr>\n      <th>647</th>\n      <td>Load_StatusSensHeatChildBUP&gt;Load_StatusPlugLoadBlender</td>\n      <td>0.687671</td>\n      <td>0.687671</td>\n      <td>{'199': [[['2014-01-16 00:04:18', '2014-01-16 06:59:18'], ['2014-01-16 06:04:19', '2014-01-16 06...</td>\n    </tr>\n    <tr>\n      <th>648</th>\n      <td>Load_StatusSensHeatChildBUP&gt;Load_StatusPlugLoadCoffeeMaker</td>\n      <td>0.687671</td>\n      <td>0.687671</td>\n      <td>{'199': [[['2014-01-16 00:04:18', '2014-01-16 06:59:18'], ['2014-01-16 06:09:19', '2014-01-16 06...</td>\n    </tr>\n    <tr>\n      <th>650</th>\n      <td>Load_StatusSensHeatChildBUP&gt;Load_StatusPlugLoadToasterOven</td>\n      <td>0.687671</td>\n      <td>0.687671</td>\n      <td>{'199': [[['2014-01-16 00:04:18', '2014-01-16 06:59:18'], ['2014-01-16 06:14:19', '2014-01-16 06...</td>\n    </tr>\n    <tr>\n      <th>652</th>\n      <td>Load_StatusSensHeatChildBUP&gt;Load_StatusPlugLoadToaster</td>\n      <td>0.687671</td>\n      <td>0.687671</td>\n      <td>{'199': [[['2014-01-16 00:04:18', '2014-01-16 06:59:18'], ['2014-01-16 06:19:19', '2014-01-16 06...</td>\n    </tr>\n    <tr>\n      <th>667</th>\n      <td>Load_StatusSensHeatChildBUP&gt;Load_StatusPlugLoadCanOpener</td>\n      <td>0.989041</td>\n      <td>0.989041</td>\n      <td>{'199': [[['2014-01-16 18:29:45', '2014-01-16 19:29:45'], ['2014-01-16 18:39:45', '2014-01-16 18...</td>\n    </tr>\n    <tr>\n      <th>668</th>\n      <td>Load_StatusSensHeatChildBUP&gt;Load_StatusPlugLoadHandMixer</td>\n      <td>0.989041</td>\n      <td>0.989041</td>\n      <td>{'199': [[['2014-01-16 18:29:45', '2014-01-16 19:29:45'], ['2014-01-16 18:39:45', '2014-01-16 18...</td>\n    </tr>\n  </tbody>\n</table>\n</div>"
     },
     "execution_count": 263,
     "metadata": {},
     "output_type": "execute_result"
    }
   ],
   "source": [
    "redundancy_filter_tool(dataframe=level2_df, regex_str='SensHeat[\\w]*>[\\w]*', select_index_dict='psn_app')"
   ],
   "metadata": {
    "collapsed": false,
    "pycharm": {
     "name": "#%%\n"
    }
   }
  },
  {
   "cell_type": "code",
   "execution_count": 262,
   "outputs": [
    {
     "data": {
      "text/plain": "                                                             pattern  \\\n156            Load_StatusPlugLoadMBRTV|Load_StatusSensHeatPrntADOWN   \n264              Load_StatusPlugLoadLRTV|Load_StatusSensHeatChildAUP   \n269              Load_StatusPlugLoadLRTV|Load_StatusSensHeatChildBUP   \n301              Load_StatusSensHeatPrntADOWN|Load_StatusPlugLoadFan   \n389                  Load_StatusDRLights|Load_StatusSensHeatChildAUP   \n390                  Load_StatusDRLights|Load_StatusSensHeatChildBUP   \n417               Load_StatusSensHeatChildBDOWN|Load_StatusBR2Lights   \n489              Load_StatusSensHeatChildAUP|Load_StatusPlugLoadLRTV   \n496                  Load_StatusSensHeatChildAUP|Load_StatusDRLights   \n508  Load_StatusSensHeatChildAUP|Load_StatusPlugLoadDesktopPCMonitor   \n530               Load_StatusSensHeatPrntAUP|Load_StatusPlugLoadLRTV   \n623   Load_StatusPlugLoadDesktopPCMonitor|Load_StatusSensHeatPrntBUP   \n630  Load_StatusPlugLoadDesktopPCMonitor|Load_StatusSensHeatChildAUP   \n635  Load_StatusPlugLoadDesktopPCMonitor|Load_StatusSensHeatChildBUP   \n654              Load_StatusSensHeatChildBUP|Load_StatusPlugLoadLRTV   \n661                  Load_StatusSensHeatChildBUP|Load_StatusDRLights   \n\n         supp      conf  \\\n156  0.701370  0.707182   \n264  0.701370  0.701370   \n269  0.838356  0.838356   \n301  0.698630  0.704420   \n389  0.701370  0.701370   \n390  0.701370  0.701370   \n417  0.558904  0.563536   \n489  0.975342  0.975342   \n496  0.843836  0.843836   \n508  0.698630  0.698630   \n530  0.843836  0.843836   \n623  0.558904  0.558904   \n630  0.671233  0.671233   \n635  0.767123  0.767123   \n654  0.827397  0.827397   \n661  0.846575  0.846575   \n\n                                                                                                    time  \n156  {'199': [[['2014-01-16 06:14:19', '2014-01-16 06:59:18'], ['2014-01-16 06:29:19', '2014-01-16 08...  \n264  {'199': [[['2014-01-16 18:09:45', '2014-01-16 20:29:44'], ['2014-01-16 20:14:45', '2014-01-16 23...  \n269  {'199': [[['2014-01-16 18:09:45', '2014-01-16 20:29:44'], ['2014-01-16 20:14:45', '2014-01-16 23...  \n301  {'199': [[['2014-01-16 18:29:45', '2014-01-16 22:29:44'], ['2014-01-16 21:59:44', '2014-01-17 00...  \n389  {'199': [[['2014-01-16 19:14:45', '2014-01-16 20:29:44'], ['2014-01-16 20:14:45', '2014-01-16 23...  \n390  {'199': [[['2014-01-16 19:14:45', '2014-01-16 20:29:44'], ['2014-01-16 20:14:45', '2014-01-16 23...  \n417  {'258': [[['2014-03-16 12:58:31', '2014-03-16 18:28:31'], ['2014-03-16 18:18:31', '2014-03-16 23...  \n489  {'199': [[['2014-01-16 00:04:18', '2014-01-16 06:59:18'], ['2014-01-16 06:29:19', '2014-01-16 08...  \n496  {'199': [[['2014-01-16 18:29:45', '2014-01-16 19:29:45'], ['2014-01-16 19:14:45', '2014-01-16 20...  \n508  {'299': [[['2014-04-26 00:03:32', '2014-04-26 09:28:36'], ['2014-04-26 08:28:36', '2014-04-26 17...  \n530  {'199': [[['2014-01-16 17:59:45', '2014-01-16 18:29:45'], ['2014-01-16 18:09:45', '2014-01-16 20...  \n623  {'199': [[['2014-01-16 18:29:45', '2014-01-16 22:15:44'], ['2014-01-16 21:59:44', '2014-01-16 23...  \n630  {'199': [[['2014-01-16 18:29:45', '2014-01-16 22:15:44'], ['2014-01-16 20:14:45', '2014-01-16 23...  \n635  {'199': [[['2014-01-16 18:29:45', '2014-01-16 22:15:44'], ['2014-01-16 20:14:45', '2014-01-16 23...  \n654  {'199': [[['2014-01-16 00:04:18', '2014-01-16 06:59:18'], ['2014-01-16 06:29:19', '2014-01-16 08...  \n661  {'199': [[['2014-01-16 18:29:45', '2014-01-16 19:29:45'], ['2014-01-16 19:14:45', '2014-01-16 20...  ",
      "text/html": "<div>\n<style scoped>\n    .dataframe tbody tr th:only-of-type {\n        vertical-align: middle;\n    }\n\n    .dataframe tbody tr th {\n        vertical-align: top;\n    }\n\n    .dataframe thead th {\n        text-align: right;\n    }\n</style>\n<table border=\"1\" class=\"dataframe\">\n  <thead>\n    <tr style=\"text-align: right;\">\n      <th></th>\n      <th>pattern</th>\n      <th>supp</th>\n      <th>conf</th>\n      <th>time</th>\n    </tr>\n  </thead>\n  <tbody>\n    <tr>\n      <th>156</th>\n      <td>Load_StatusPlugLoadMBRTV|Load_StatusSensHeatPrntADOWN</td>\n      <td>0.701370</td>\n      <td>0.707182</td>\n      <td>{'199': [[['2014-01-16 06:14:19', '2014-01-16 06:59:18'], ['2014-01-16 06:29:19', '2014-01-16 08...</td>\n    </tr>\n    <tr>\n      <th>264</th>\n      <td>Load_StatusPlugLoadLRTV|Load_StatusSensHeatChildAUP</td>\n      <td>0.701370</td>\n      <td>0.701370</td>\n      <td>{'199': [[['2014-01-16 18:09:45', '2014-01-16 20:29:44'], ['2014-01-16 20:14:45', '2014-01-16 23...</td>\n    </tr>\n    <tr>\n      <th>269</th>\n      <td>Load_StatusPlugLoadLRTV|Load_StatusSensHeatChildBUP</td>\n      <td>0.838356</td>\n      <td>0.838356</td>\n      <td>{'199': [[['2014-01-16 18:09:45', '2014-01-16 20:29:44'], ['2014-01-16 20:14:45', '2014-01-16 23...</td>\n    </tr>\n    <tr>\n      <th>301</th>\n      <td>Load_StatusSensHeatPrntADOWN|Load_StatusPlugLoadFan</td>\n      <td>0.698630</td>\n      <td>0.704420</td>\n      <td>{'199': [[['2014-01-16 18:29:45', '2014-01-16 22:29:44'], ['2014-01-16 21:59:44', '2014-01-17 00...</td>\n    </tr>\n    <tr>\n      <th>389</th>\n      <td>Load_StatusDRLights|Load_StatusSensHeatChildAUP</td>\n      <td>0.701370</td>\n      <td>0.701370</td>\n      <td>{'199': [[['2014-01-16 19:14:45', '2014-01-16 20:29:44'], ['2014-01-16 20:14:45', '2014-01-16 23...</td>\n    </tr>\n    <tr>\n      <th>390</th>\n      <td>Load_StatusDRLights|Load_StatusSensHeatChildBUP</td>\n      <td>0.701370</td>\n      <td>0.701370</td>\n      <td>{'199': [[['2014-01-16 19:14:45', '2014-01-16 20:29:44'], ['2014-01-16 20:14:45', '2014-01-16 23...</td>\n    </tr>\n    <tr>\n      <th>417</th>\n      <td>Load_StatusSensHeatChildBDOWN|Load_StatusBR2Lights</td>\n      <td>0.558904</td>\n      <td>0.563536</td>\n      <td>{'258': [[['2014-03-16 12:58:31', '2014-03-16 18:28:31'], ['2014-03-16 18:18:31', '2014-03-16 23...</td>\n    </tr>\n    <tr>\n      <th>489</th>\n      <td>Load_StatusSensHeatChildAUP|Load_StatusPlugLoadLRTV</td>\n      <td>0.975342</td>\n      <td>0.975342</td>\n      <td>{'199': [[['2014-01-16 00:04:18', '2014-01-16 06:59:18'], ['2014-01-16 06:29:19', '2014-01-16 08...</td>\n    </tr>\n    <tr>\n      <th>496</th>\n      <td>Load_StatusSensHeatChildAUP|Load_StatusDRLights</td>\n      <td>0.843836</td>\n      <td>0.843836</td>\n      <td>{'199': [[['2014-01-16 18:29:45', '2014-01-16 19:29:45'], ['2014-01-16 19:14:45', '2014-01-16 20...</td>\n    </tr>\n    <tr>\n      <th>508</th>\n      <td>Load_StatusSensHeatChildAUP|Load_StatusPlugLoadDesktopPCMonitor</td>\n      <td>0.698630</td>\n      <td>0.698630</td>\n      <td>{'299': [[['2014-04-26 00:03:32', '2014-04-26 09:28:36'], ['2014-04-26 08:28:36', '2014-04-26 17...</td>\n    </tr>\n    <tr>\n      <th>530</th>\n      <td>Load_StatusSensHeatPrntAUP|Load_StatusPlugLoadLRTV</td>\n      <td>0.843836</td>\n      <td>0.843836</td>\n      <td>{'199': [[['2014-01-16 17:59:45', '2014-01-16 18:29:45'], ['2014-01-16 18:09:45', '2014-01-16 20...</td>\n    </tr>\n    <tr>\n      <th>623</th>\n      <td>Load_StatusPlugLoadDesktopPCMonitor|Load_StatusSensHeatPrntBUP</td>\n      <td>0.558904</td>\n      <td>0.558904</td>\n      <td>{'199': [[['2014-01-16 18:29:45', '2014-01-16 22:15:44'], ['2014-01-16 21:59:44', '2014-01-16 23...</td>\n    </tr>\n    <tr>\n      <th>630</th>\n      <td>Load_StatusPlugLoadDesktopPCMonitor|Load_StatusSensHeatChildAUP</td>\n      <td>0.671233</td>\n      <td>0.671233</td>\n      <td>{'199': [[['2014-01-16 18:29:45', '2014-01-16 22:15:44'], ['2014-01-16 20:14:45', '2014-01-16 23...</td>\n    </tr>\n    <tr>\n      <th>635</th>\n      <td>Load_StatusPlugLoadDesktopPCMonitor|Load_StatusSensHeatChildBUP</td>\n      <td>0.767123</td>\n      <td>0.767123</td>\n      <td>{'199': [[['2014-01-16 18:29:45', '2014-01-16 22:15:44'], ['2014-01-16 20:14:45', '2014-01-16 23...</td>\n    </tr>\n    <tr>\n      <th>654</th>\n      <td>Load_StatusSensHeatChildBUP|Load_StatusPlugLoadLRTV</td>\n      <td>0.827397</td>\n      <td>0.827397</td>\n      <td>{'199': [[['2014-01-16 00:04:18', '2014-01-16 06:59:18'], ['2014-01-16 06:29:19', '2014-01-16 08...</td>\n    </tr>\n    <tr>\n      <th>661</th>\n      <td>Load_StatusSensHeatChildBUP|Load_StatusDRLights</td>\n      <td>0.846575</td>\n      <td>0.846575</td>\n      <td>{'199': [[['2014-01-16 18:29:45', '2014-01-16 19:29:45'], ['2014-01-16 19:14:45', '2014-01-16 20...</td>\n    </tr>\n  </tbody>\n</table>\n</div>"
     },
     "execution_count": 262,
     "metadata": {},
     "output_type": "execute_result"
    }
   ],
   "source": [
    "redundancy_filter_tool(dataframe=level2_df, regex_str='[\\w]*\\|[\\w]*', select_index_dict='psn_app')"
   ],
   "metadata": {
    "collapsed": false,
    "pycharm": {
     "name": "#%%\n"
    }
   }
  },
  {
   "cell_type": "code",
   "execution_count": 262,
   "outputs": [],
   "source": [],
   "metadata": {
    "collapsed": false,
    "pycharm": {
     "name": "#%%\n"
    }
   }
  }
 ],
 "metadata": {
  "kernelspec": {
   "display_name": "Python 3",
   "language": "python",
   "name": "python3"
  },
  "language_info": {
   "codemirror_mode": {
    "name": "ipython",
    "version": 2
   },
   "file_extension": ".py",
   "mimetype": "text/x-python",
   "name": "python",
   "nbconvert_exporter": "python",
   "pygments_lexer": "ipython2",
   "version": "2.7.6"
  }
 },
 "nbformat": 4,
 "nbformat_minor": 0
}
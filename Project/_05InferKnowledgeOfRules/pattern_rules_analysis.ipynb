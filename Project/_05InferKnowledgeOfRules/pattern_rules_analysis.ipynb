{
 "cells": [
  {
   "cell_type": "code",
   "execution_count": 248,
   "outputs": [],
   "source": [
    "import pandas as pd\n",
    "pd.options.display.max_colwidth = 100\n",
    "import plotly.express as px\n",
    "import re\n",
    "import datetime\n",
    "import numpy as np\n",
    "import json\n",
    "from Project.Database import Db\n",
    "from Project._04TPMAlgorithm.transform_for_TPM_algorithm import light_location_dict"
   ],
   "metadata": {
    "collapsed": false,
    "pycharm": {
     "name": "#%%\n"
    }
   }
  },
  {
   "cell_type": "code",
   "execution_count": 160,
   "metadata": {
    "collapsed": true
   },
   "outputs": [],
   "source": [
    "level1_json = json.load(\n",
    "    open(Db.get_project_path(\"Project/_04TPMAlgorithm/TPM/output/NZERTF_year1_minsup0.14_minconf_0.5/level1.json\")))"
   ]
  },
  {
   "cell_type": "code",
   "execution_count": 161,
   "outputs": [],
   "source": [
    "level2_json = json.load(\n",
    "    open(Db.get_project_path(\"Project/_04TPMAlgorithm/TPM/output/NZERTF_year1_minsup0.14_minconf_0.5/level2.json\")))"
   ],
   "metadata": {
    "collapsed": false,
    "pycharm": {
     "name": "#%%\n"
    }
   }
  },
  {
   "cell_type": "code",
   "execution_count": 162,
   "outputs": [],
   "source": [
    "level3_json = json.load(\n",
    "    open(Db.get_project_path(\"Project/_04TPMAlgorithm/TPM/output/NZERTF_year1_minsup0.14_minconf_0.5/level3.json\")))"
   ],
   "metadata": {
    "collapsed": false,
    "pycharm": {
     "name": "#%%\n"
    }
   }
  },
  {
   "cell_type": "code",
   "execution_count": 163,
   "outputs": [],
   "source": [
    "meta = Db.load_data(meta=True, consumption=False, hourly=False)"
   ],
   "metadata": {
    "collapsed": false,
    "pycharm": {
     "name": "#%%\n"
    }
   }
  },
  {
   "cell_type": "code",
   "execution_count": 164,
   "outputs": [],
   "source": [
    "def json_to_dataframe(json_file):\n",
    "    if \",\" in json_file[0][\"name_node\"]:\n",
    "        level_df = pd.DataFrame(columns=[\"pattern\",\"supp\",\"conf\", \"time\"])\n",
    "        for i in json_file:\n",
    "            for j in i[\"patterns\"]:\n",
    "                level_df.loc[level_df.shape[0]] = j\n",
    "    else:\n",
    "        level_df = pd.DataFrame(columns=[\"name_node\",\"supp\",\"conf\"])\n",
    "        for i in json_file:\n",
    "            level_df.loc[level_df.shape[0]] = i\n",
    "    return level_df"
   ],
   "metadata": {
    "collapsed": false,
    "pycharm": {
     "name": "#%%\n"
    }
   }
  },
  {
   "cell_type": "code",
   "execution_count": 222,
   "outputs": [
    {
     "data": {
      "text/plain": "                                               pattern      supp      conf  \\\n0           Load_StatusMBALights->Load_StatusMBALights  0.849315  0.856354   \n1    Load_StatusMBALights->Load_StatusSensHeatPrntB...  0.980822  0.988950   \n2    Load_StatusMBALights>Load_StatusSensHeatPrntBDOWN  0.704110  0.709945   \n3      Load_StatusMBALights>Load_StatusPlugLoadBlender  0.701370  0.707182   \n4    Load_StatusMBALights>Load_StatusPlugLoadCoffee...  0.701370  0.707182   \n..                                                 ...       ...       ...   \n723  Load_StatusApplianceOven->Load_StatusClothesWa...  0.276712  0.651613   \n724  Load_StatusClothesWasher>Load_StatusDryerPower...  0.405479  0.896970   \n725  Load_StatusClothesWasher|Load_StatusPlugLoadLR...  0.268493  0.632258   \n726  Load_StatusPlugLoadLRBlueRay>Load_StatusDryerP...  0.279452  0.618182   \n727  Load_StatusPlugLoadVacuum>Load_StatusPlugLoadIron  0.142466  0.509804   \n\n                                                  time  \n0    {'134': [[['2013-11-12 03:30:03', '2013-11-12 ...  \n1    {'134': [[['2013-11-12 06:29:03', '2013-11-12 ...  \n2    {'134': [[['2013-11-12 05:59:03', '2013-11-12 ...  \n3    {'134': [[['2013-11-12 05:59:03', '2013-11-12 ...  \n4    {'134': [[['2013-11-12 05:59:03', '2013-11-12 ...  \n..                                                 ...  \n723  {'180': [[['2013-12-28 08:14:06', '2013-12-28 ...  \n724  {'180': [[['2013-12-28 14:30:05', '2013-12-28 ...  \n725  {'180': [[['2013-12-28 14:30:05', '2013-12-28 ...  \n726  {'180': [[['2013-12-28 14:59:05', '2013-12-28 ...  \n727  {'180': [[['2013-12-28 17:29:05', '2013-12-28 ...  \n\n[728 rows x 4 columns]",
      "text/html": "<div>\n<style scoped>\n    .dataframe tbody tr th:only-of-type {\n        vertical-align: middle;\n    }\n\n    .dataframe tbody tr th {\n        vertical-align: top;\n    }\n\n    .dataframe thead th {\n        text-align: right;\n    }\n</style>\n<table border=\"1\" class=\"dataframe\">\n  <thead>\n    <tr style=\"text-align: right;\">\n      <th></th>\n      <th>pattern</th>\n      <th>supp</th>\n      <th>conf</th>\n      <th>time</th>\n    </tr>\n  </thead>\n  <tbody>\n    <tr>\n      <th>0</th>\n      <td>Load_StatusMBALights-&gt;Load_StatusMBALights</td>\n      <td>0.849315</td>\n      <td>0.856354</td>\n      <td>{'134': [[['2013-11-12 03:30:03', '2013-11-12 ...</td>\n    </tr>\n    <tr>\n      <th>1</th>\n      <td>Load_StatusMBALights-&gt;Load_StatusSensHeatPrntB...</td>\n      <td>0.980822</td>\n      <td>0.988950</td>\n      <td>{'134': [[['2013-11-12 06:29:03', '2013-11-12 ...</td>\n    </tr>\n    <tr>\n      <th>2</th>\n      <td>Load_StatusMBALights&gt;Load_StatusSensHeatPrntBDOWN</td>\n      <td>0.704110</td>\n      <td>0.709945</td>\n      <td>{'134': [[['2013-11-12 05:59:03', '2013-11-12 ...</td>\n    </tr>\n    <tr>\n      <th>3</th>\n      <td>Load_StatusMBALights&gt;Load_StatusPlugLoadBlender</td>\n      <td>0.701370</td>\n      <td>0.707182</td>\n      <td>{'134': [[['2013-11-12 05:59:03', '2013-11-12 ...</td>\n    </tr>\n    <tr>\n      <th>4</th>\n      <td>Load_StatusMBALights&gt;Load_StatusPlugLoadCoffee...</td>\n      <td>0.701370</td>\n      <td>0.707182</td>\n      <td>{'134': [[['2013-11-12 05:59:03', '2013-11-12 ...</td>\n    </tr>\n    <tr>\n      <th>...</th>\n      <td>...</td>\n      <td>...</td>\n      <td>...</td>\n      <td>...</td>\n    </tr>\n    <tr>\n      <th>723</th>\n      <td>Load_StatusApplianceOven-&gt;Load_StatusClothesWa...</td>\n      <td>0.276712</td>\n      <td>0.651613</td>\n      <td>{'180': [[['2013-12-28 08:14:06', '2013-12-28 ...</td>\n    </tr>\n    <tr>\n      <th>724</th>\n      <td>Load_StatusClothesWasher&gt;Load_StatusDryerPower...</td>\n      <td>0.405479</td>\n      <td>0.896970</td>\n      <td>{'180': [[['2013-12-28 14:30:05', '2013-12-28 ...</td>\n    </tr>\n    <tr>\n      <th>725</th>\n      <td>Load_StatusClothesWasher|Load_StatusPlugLoadLR...</td>\n      <td>0.268493</td>\n      <td>0.632258</td>\n      <td>{'180': [[['2013-12-28 14:30:05', '2013-12-28 ...</td>\n    </tr>\n    <tr>\n      <th>726</th>\n      <td>Load_StatusPlugLoadLRBlueRay&gt;Load_StatusDryerP...</td>\n      <td>0.279452</td>\n      <td>0.618182</td>\n      <td>{'180': [[['2013-12-28 14:59:05', '2013-12-28 ...</td>\n    </tr>\n    <tr>\n      <th>727</th>\n      <td>Load_StatusPlugLoadVacuum&gt;Load_StatusPlugLoadIron</td>\n      <td>0.142466</td>\n      <td>0.509804</td>\n      <td>{'180': [[['2013-12-28 17:29:05', '2013-12-28 ...</td>\n    </tr>\n  </tbody>\n</table>\n<p>728 rows × 4 columns</p>\n</div>"
     },
     "execution_count": 222,
     "metadata": {},
     "output_type": "execute_result"
    }
   ],
   "source": [
    "level2_df = json_to_dataframe(level2_json)\n",
    "level2_df"
   ],
   "metadata": {
    "collapsed": false,
    "pycharm": {
     "name": "#%%\n"
    }
   }
  },
  {
   "cell_type": "code",
   "execution_count": 166,
   "outputs": [
    {
     "data": {
      "text/plain": "                                                pattern      supp      conf  \\\n0     Load_StatusMBALights->Load_StatusMBALights*Loa...  0.698630  0.704420   \n1     Load_StatusMBALights->Load_StatusMBALights*Loa...  0.701370  0.707182   \n2     Load_StatusMBALights->Load_StatusMBALights*Loa...  0.701370  0.701370   \n3     Load_StatusMBALights->Load_StatusMBALights*Loa...  0.701370  0.707182   \n4     Load_StatusMBALights->Load_StatusMBALights*Loa...  0.701370  0.707182   \n...                                                 ...       ...       ...   \n5767  Load_StatusPlugLoadHeatingPad>Load_StatusMBALi...  0.701370  0.707182   \n5768  Load_StatusPlugLoadHeatingPad>Load_StatusMBALi...  0.701370  0.701370   \n5769  Load_StatusPlugLoadHeatingPad->Load_StatusSens...  0.698630  0.704420   \n5770  Load_StatusApplianceOven>Load_StatusPlugLoadVi...  0.276712  0.651613   \n5771  Load_StatusClothesWasher|Load_StatusPlugLoadLR...  0.268493  0.593939   \n\n                                                   time  \n0     {'134': [[['2013-11-12 05:59:03', '2013-11-12 ...  \n1     {'134': [[['2013-11-12 05:59:03', '2013-11-12 ...  \n2     {'134': [[['2013-11-12 05:59:03', '2013-11-12 ...  \n3     {'134': [[['2013-11-12 05:59:03', '2013-11-12 ...  \n4     {'134': [[['2013-11-12 05:59:03', '2013-11-12 ...  \n...                                                 ...  \n5767  {'134': [[['2013-11-12 21:59:02', '2013-11-12 ...  \n5768  {'134': [[['2013-11-12 21:59:02', '2013-11-12 ...  \n5769  {'134': [[['2013-11-12 21:59:02', '2013-11-12 ...  \n5770  {'180': [[['2013-12-28 08:14:06', '2013-12-28 ...  \n5771  {'180': [[['2013-12-28 14:30:05', '2013-12-28 ...  \n\n[5772 rows x 4 columns]",
      "text/html": "<div>\n<style scoped>\n    .dataframe tbody tr th:only-of-type {\n        vertical-align: middle;\n    }\n\n    .dataframe tbody tr th {\n        vertical-align: top;\n    }\n\n    .dataframe thead th {\n        text-align: right;\n    }\n</style>\n<table border=\"1\" class=\"dataframe\">\n  <thead>\n    <tr style=\"text-align: right;\">\n      <th></th>\n      <th>pattern</th>\n      <th>supp</th>\n      <th>conf</th>\n      <th>time</th>\n    </tr>\n  </thead>\n  <tbody>\n    <tr>\n      <th>0</th>\n      <td>Load_StatusMBALights-&gt;Load_StatusMBALights*Loa...</td>\n      <td>0.698630</td>\n      <td>0.704420</td>\n      <td>{'134': [[['2013-11-12 05:59:03', '2013-11-12 ...</td>\n    </tr>\n    <tr>\n      <th>1</th>\n      <td>Load_StatusMBALights-&gt;Load_StatusMBALights*Loa...</td>\n      <td>0.701370</td>\n      <td>0.707182</td>\n      <td>{'134': [[['2013-11-12 05:59:03', '2013-11-12 ...</td>\n    </tr>\n    <tr>\n      <th>2</th>\n      <td>Load_StatusMBALights-&gt;Load_StatusMBALights*Loa...</td>\n      <td>0.701370</td>\n      <td>0.701370</td>\n      <td>{'134': [[['2013-11-12 05:59:03', '2013-11-12 ...</td>\n    </tr>\n    <tr>\n      <th>3</th>\n      <td>Load_StatusMBALights-&gt;Load_StatusMBALights*Loa...</td>\n      <td>0.701370</td>\n      <td>0.707182</td>\n      <td>{'134': [[['2013-11-12 05:59:03', '2013-11-12 ...</td>\n    </tr>\n    <tr>\n      <th>4</th>\n      <td>Load_StatusMBALights-&gt;Load_StatusMBALights*Loa...</td>\n      <td>0.701370</td>\n      <td>0.707182</td>\n      <td>{'134': [[['2013-11-12 05:59:03', '2013-11-12 ...</td>\n    </tr>\n    <tr>\n      <th>...</th>\n      <td>...</td>\n      <td>...</td>\n      <td>...</td>\n      <td>...</td>\n    </tr>\n    <tr>\n      <th>5767</th>\n      <td>Load_StatusPlugLoadHeatingPad&gt;Load_StatusMBALi...</td>\n      <td>0.701370</td>\n      <td>0.707182</td>\n      <td>{'134': [[['2013-11-12 21:59:02', '2013-11-12 ...</td>\n    </tr>\n    <tr>\n      <th>5768</th>\n      <td>Load_StatusPlugLoadHeatingPad&gt;Load_StatusMBALi...</td>\n      <td>0.701370</td>\n      <td>0.701370</td>\n      <td>{'134': [[['2013-11-12 21:59:02', '2013-11-12 ...</td>\n    </tr>\n    <tr>\n      <th>5769</th>\n      <td>Load_StatusPlugLoadHeatingPad-&gt;Load_StatusSens...</td>\n      <td>0.698630</td>\n      <td>0.704420</td>\n      <td>{'134': [[['2013-11-12 21:59:02', '2013-11-12 ...</td>\n    </tr>\n    <tr>\n      <th>5770</th>\n      <td>Load_StatusApplianceOven&gt;Load_StatusPlugLoadVi...</td>\n      <td>0.276712</td>\n      <td>0.651613</td>\n      <td>{'180': [[['2013-12-28 08:14:06', '2013-12-28 ...</td>\n    </tr>\n    <tr>\n      <th>5771</th>\n      <td>Load_StatusClothesWasher|Load_StatusPlugLoadLR...</td>\n      <td>0.268493</td>\n      <td>0.593939</td>\n      <td>{'180': [[['2013-12-28 14:30:05', '2013-12-28 ...</td>\n    </tr>\n  </tbody>\n</table>\n<p>5772 rows × 4 columns</p>\n</div>"
     },
     "execution_count": 166,
     "metadata": {},
     "output_type": "execute_result"
    }
   ],
   "source": [
    "level3_df = json_to_dataframe(level3_json)\n",
    "level3_df"
   ],
   "metadata": {
    "collapsed": false,
    "pycharm": {
     "name": "#%%\n"
    }
   }
  },
  {
   "cell_type": "code",
   "execution_count": 232,
   "outputs": [],
   "source": [
    "def filter_rule_indexes(dataframe):\n",
    "    return_dict = {}\n",
    "    level_3_check = len(re.findall('\\*', dataframe.loc[0, 'pattern'])) > 0\n",
    "    #filter follows rules in dataframe for level3: max 1 and level2: 0\n",
    "    if level_3_check:\n",
    "        dataframe = dataframe.loc[dataframe['pattern'].str.findall('-').map(len) <= 1]\n",
    "    else:\n",
    "        dataframe = dataframe.loc[dataframe['pattern'].str.findall('-').map(len) == 0]\n",
    "\n",
    "    appliance_appliance_appliance_rule_indexes = []\n",
    "    person_appliance_appliance_rule_indexes = []\n",
    "    person_person_appliance_rule_indexes = []\n",
    "\n",
    "    for index, row in dataframe.iterrows():\n",
    "        tmp_floor_set = set()\n",
    "        appliance_check_list = list()\n",
    "        person_check_list = list()\n",
    "        for col in set(re.findall('[\\w_]+', row['pattern'])):\n",
    "            person_check_list.append('SensHeat' in col)\n",
    "            appliance_check_list.append('SensHeat' not in col)\n",
    "            try:\n",
    "                tmp_floor_set.add(meta.loc[col, 'Measurement_Floor'])\n",
    "            except:\n",
    "                tmp_floor_set.add(light_location_dict(meta)[col][0])\n",
    "        if '1stFloor' in tmp_floor_set and '2ndFloor' in tmp_floor_set and sum(appliance_check_list) >= 1:\n",
    "            if sum(person_check_list) == 1:\n",
    "                person_appliance_appliance_rule_indexes.append(index)\n",
    "                if len(person_appliance_appliance_rule_indexes) > 0:\n",
    "                    if level_3_check:\n",
    "                        return_dict.update({'psn_app_app': person_appliance_appliance_rule_indexes})\n",
    "                    else:\n",
    "                        return_dict.update({'psn_app': person_appliance_appliance_rule_indexes})\n",
    "            elif sum(person_check_list) == 2:\n",
    "                person_person_appliance_rule_indexes.append(index)\n",
    "                if len(person_person_appliance_rule_indexes) > 0:\n",
    "                    return_dict.update({'psn_psn_app': person_person_appliance_rule_indexes})\n",
    "            elif sum(person_check_list) == 0:\n",
    "                appliance_appliance_appliance_rule_indexes.append(index)\n",
    "                if len(appliance_appliance_appliance_rule_indexes) > 0:\n",
    "                    if level_3_check:\n",
    "                        return_dict.update({'app_app_app': appliance_appliance_appliance_rule_indexes})\n",
    "                    else:\n",
    "                        return_dict.update({'app_app': person_appliance_appliance_rule_indexes})\n",
    "    return return_dict"
   ],
   "metadata": {
    "collapsed": false,
    "pycharm": {
     "name": "#%%\n"
    }
   }
  },
  {
   "cell_type": "code",
   "execution_count": 220,
   "outputs": [
    {
     "name": "stdout",
     "output_type": "stream",
     "text": [
      "                                               pattern      supp      conf  \\\n",
      "2    Load_StatusMBALights>Load_StatusSensHeatPrntBDOWN  0.704110  0.709945   \n",
      "3      Load_StatusMBALights>Load_StatusPlugLoadBlender  0.701370  0.707182   \n",
      "4    Load_StatusMBALights>Load_StatusPlugLoadCoffee...  0.701370  0.707182   \n",
      "10           Load_StatusMBALights>Load_StatusBA2Lights  0.701370  0.707182   \n",
      "14     Load_StatusMBALights>Load_StatusSensHeatPrntBUP  0.841096  0.841096   \n",
      "..                                                 ...       ...       ...   \n",
      "722  Load_StatusApplianceOven>Load_StatusPlugLoadVi...  0.279452  0.666667   \n",
      "724  Load_StatusClothesWasher>Load_StatusDryerPower...  0.405479  0.896970   \n",
      "725  Load_StatusClothesWasher|Load_StatusPlugLoadLR...  0.268493  0.632258   \n",
      "726  Load_StatusPlugLoadLRBlueRay>Load_StatusDryerP...  0.279452  0.618182   \n",
      "727  Load_StatusPlugLoadVacuum>Load_StatusPlugLoadIron  0.142466  0.509804   \n",
      "\n",
      "                                                  time  \n",
      "2    {'134': [[['2013-11-12 05:59:03', '2013-11-12 ...  \n",
      "3    {'134': [[['2013-11-12 05:59:03', '2013-11-12 ...  \n",
      "4    {'134': [[['2013-11-12 05:59:03', '2013-11-12 ...  \n",
      "10   {'134': [[['2013-11-12 06:29:03', '2013-11-12 ...  \n",
      "14   {'134': [[['2013-11-12 06:29:03', '2013-11-12 ...  \n",
      "..                                                 ...  \n",
      "722  {'180': [[['2013-12-28 08:14:06', '2013-12-28 ...  \n",
      "724  {'180': [[['2013-12-28 14:30:05', '2013-12-28 ...  \n",
      "725  {'180': [[['2013-12-28 14:30:05', '2013-12-28 ...  \n",
      "726  {'180': [[['2013-12-28 14:59:05', '2013-12-28 ...  \n",
      "727  {'180': [[['2013-12-28 17:29:05', '2013-12-28 ...  \n",
      "\n",
      "[424 rows x 4 columns]\n"
     ]
    }
   ],
   "source": [
    "level2_index_dict = filter_rule_indexes(level2_df)"
   ],
   "metadata": {
    "collapsed": false,
    "pycharm": {
     "name": "#%%\n"
    }
   }
  },
  {
   "cell_type": "code",
   "execution_count": null,
   "outputs": [],
   "source": [
    "level2_index_dict"
   ],
   "metadata": {
    "collapsed": false,
    "pycharm": {
     "name": "#%%\n"
    }
   }
  },
  {
   "cell_type": "code",
   "execution_count": 216,
   "outputs": [
    {
     "name": "stdout",
     "output_type": "stream",
     "text": [
      "True\n"
     ]
    }
   ],
   "source": [
    "level3_index_dict = filter_rule_indexes(level3_df)"
   ],
   "metadata": {
    "collapsed": false,
    "pycharm": {
     "name": "#%%\n"
    }
   }
  },
  {
   "cell_type": "code",
   "execution_count": 211,
   "outputs": [
    {
     "data": {
      "text/plain": "1058"
     },
     "execution_count": 211,
     "metadata": {},
     "output_type": "execute_result"
    }
   ],
   "source": [
    "len(level3_index_dict['psn_app_app'])"
   ],
   "metadata": {
    "collapsed": false,
    "pycharm": {
     "name": "#%%\n"
    }
   }
  },
  {
   "cell_type": "code",
   "execution_count": null,
   "outputs": [],
   "source": [
    "level2_df.loc[0, 'pattern']"
   ],
   "metadata": {
    "collapsed": false,
    "pycharm": {
     "name": "#%%\n"
    }
   }
  },
  {
   "cell_type": "code",
   "execution_count": null,
   "outputs": [],
   "source": [
    "level3_df_follow_restricted.loc[(level3_df_follow_restricted.loc[person_appliance_rule_indexes, \"pattern\"].str.findall('>').map(len) >= 2).index.tolist()]"
   ],
   "metadata": {
    "collapsed": false,
    "pycharm": {
     "name": "#%%\n"
    }
   }
  },
  {
   "cell_type": "code",
   "execution_count": null,
   "outputs": [],
   "source": [
    "person_appliance_level3 = level3_df_follow_restricted.loc[person_appliance_rule_indexes]\n",
    "person_appliance_level3.loc[(person_appliance_level3['pattern'].str.contains('LR')) & (person_appliance_level3['pattern'].str.contains('KitchenLight')) & (person_appliance_level3['pattern'].str.contains('PrntB'))]"
   ],
   "metadata": {
    "collapsed": false,
    "pycharm": {
     "name": "#%%\n"
    }
   }
  },
  {
   "cell_type": "code",
   "execution_count": null,
   "outputs": [],
   "source": [
    "level2_df_follow_restricted.loc[level2_index_dict['psn_app_app']].loc[level2_df_follow_restricted.loc[level2_index_dict['psn_app_app'], 'pattern'].str.findall('BR2[\\w]*>[\\w]*ChildA').map(len) > 0]"
   ],
   "metadata": {
    "collapsed": false,
    "pycharm": {
     "name": "#%%\n"
    }
   }
  },
  {
   "cell_type": "code",
   "execution_count": 233,
   "outputs": [],
   "source": [
    "def redundancy_filter_tool(dataframe=level3_df, regex_str='BR3[\\w]*>[\\w]*ChildB', select_index_dict='psn_app_app'):\n",
    "    return dataframe.loc[filter_rule_indexes(dataframe)[select_index_dict]].loc[dataframe.loc[filter_rule_indexes(dataframe)[select_index_dict], 'pattern'].str.findall(regex_str).map(len) > 0]"
   ],
   "metadata": {
    "collapsed": false,
    "pycharm": {
     "name": "#%%\n"
    }
   }
  },
  {
   "cell_type": "code",
   "execution_count": 247,
   "outputs": [
    {
     "data": {
      "text/plain": "                                                             pattern  \\\n2                  Load_StatusMBALights>Load_StatusSensHeatPrntBDOWN   \n213            Load_StatusPlugLoadToaster>Load_StatusSensHeatPrntBUP   \n253               Load_StatusPlugLoadLRTV>Load_StatusSensHeatPrntBUP   \n265              Load_StatusPlugLoadLRTV>Load_StatusSensHeatChildAUP   \n270              Load_StatusPlugLoadLRTV>Load_StatusSensHeatChildBUP   \n334                Load_StatusBR2Lights>Load_StatusSensHeatPrntADOWN   \n341               Load_StatusBR2Lights>Load_StatusSensHeatChildADOWN   \n343               Load_StatusBR2Lights>Load_StatusSensHeatChildBDOWN   \n368               Load_StatusBR3Lights>Load_StatusSensHeatChildADOWN   \n370               Load_StatusBR3Lights>Load_StatusSensHeatChildBDOWN   \n488                 Load_StatusLatentload>Load_StatusSensHeatPrntBUP   \n497                Load_StatusLatentload>Load_StatusSensHeatChildAUP   \n498                 Load_StatusLatentload>Load_StatusSensHeatPrntAUP   \n504                Load_StatusLatentload>Load_StatusSensHeatChildBUP   \n618        Load_StatusPlugLoadBR2Laptop>Load_StatusSensHeatPrntADOWN   \n622       Load_StatusPlugLoadBR2Laptop>Load_StatusSensHeatChildADOWN   \n623       Load_StatusPlugLoadBR2Laptop>Load_StatusSensHeatChildBDOWN   \n642       Load_StatusPlugLoadBR3Laptop>Load_StatusSensHeatChildADOWN   \n643       Load_StatusPlugLoadBR3Laptop>Load_StatusSensHeatChildBDOWN   \n665  Load_StatusPlugLoadDesktopPCMonitor>Load_StatusSensHeatChildAUP   \n670  Load_StatusPlugLoadDesktopPCMonitor>Load_StatusSensHeatChildBUP   \n\n         supp      conf  \\\n2    0.704110  0.709945   \n213  0.701370  0.701370   \n253  0.838356  0.838356   \n265  0.564384  0.564384   \n270  0.983562  0.983562   \n334  0.567123  0.571823   \n341  0.706849  0.712707   \n343  0.704110  0.709945   \n368  0.706849  0.712707   \n370  0.704110  0.709945   \n488  1.000000  1.000000   \n497  1.000000  1.000000   \n498  1.000000  1.000000   \n504  1.000000  1.000000   \n618  0.706849  0.712707   \n622  0.843836  0.850829   \n623  0.843836  0.850829   \n642  0.846575  0.853591   \n643  0.843836  0.850829   \n665  0.704110  0.704110   \n670  0.983562  0.983562   \n\n                                                                                                    time  \n2    {'134': [[['2013-11-12 05:59:03', '2013-11-12 06:14:03'], ['2013-11-12 05:59:03', '2013-11-12 06...  \n213  {'134': [[['2013-11-12 06:19:03', '2013-11-12 06:30:03'], ['2013-11-12 06:29:03', '2013-11-12 06...  \n253  {'134': [[['2013-11-12 06:29:03', '2013-11-12 08:24:03'], ['2013-11-12 06:29:03', '2013-11-12 06...  \n265  {'134': [[['2013-11-12 18:09:02', '2013-11-12 20:29:02'], ['2013-11-12 18:29:02', '2013-11-12 19...  \n270  {'134': [[['2013-11-12 18:09:02', '2013-11-12 20:29:02'], ['2013-11-12 18:29:02', '2013-11-12 19...  \n334  {'134': [[['2013-11-12 18:29:02', '2013-11-12 21:59:02'], ['2013-11-12 18:29:02', '2013-11-12 22...  \n341  {'134': [[['2013-11-12 18:29:02', '2013-11-12 21:59:02'], ['2013-11-12 19:29:02', '2013-11-12 20...  \n343  {'134': [[['2013-11-12 18:29:02', '2013-11-12 21:59:02'], ['2013-11-12 19:29:02', '2013-11-12 20...  \n368  {'134': [[['2013-11-12 18:29:02', '2013-11-12 20:29:02'], ['2013-11-12 19:29:02', '2013-11-12 20...  \n370  {'134': [[['2013-11-12 18:29:02', '2013-11-12 20:29:02'], ['2013-11-12 19:29:02', '2013-11-12 20...  \n488  {'134': [[['2013-11-12 00:04:03', '2013-11-12 08:29:03'], ['2013-11-12 00:04:03', '2013-11-12 05...  \n497  {'134': [[['2013-11-12 00:04:03', '2013-11-12 08:29:03'], ['2013-11-12 00:04:03', '2013-11-12 06...  \n498  {'134': [[['2013-11-12 00:04:03', '2013-11-12 08:29:03'], ['2013-11-12 00:04:03', '2013-11-12 06...  \n504  {'134': [[['2013-11-12 00:04:03', '2013-11-12 08:29:03'], ['2013-11-12 00:04:03', '2013-11-12 06...  \n618  {'134': [[['2013-11-12 18:29:02', '2013-11-12 21:59:02'], ['2013-11-12 18:29:02', '2013-11-12 22...  \n622  {'134': [[['2013-11-12 18:29:02', '2013-11-12 21:59:02'], ['2013-11-12 19:29:02', '2013-11-12 20...  \n623  {'134': [[['2013-11-12 18:29:02', '2013-11-12 21:59:02'], ['2013-11-12 19:29:02', '2013-11-12 20...  \n642  {'134': [[['2013-11-12 18:29:02', '2013-11-12 20:14:02'], ['2013-11-12 19:29:02', '2013-11-12 20...  \n643  {'134': [[['2013-11-12 18:29:02', '2013-11-12 20:14:02'], ['2013-11-12 19:29:02', '2013-11-12 20...  \n665  {'134': [[['2013-11-12 18:29:02', '2013-11-12 22:17:02'], ['2013-11-12 18:29:02', '2013-11-12 19...  \n670  {'134': [[['2013-11-12 18:29:02', '2013-11-12 22:17:02'], ['2013-11-12 18:29:02', '2013-11-12 19...  ",
      "text/html": "<div>\n<style scoped>\n    .dataframe tbody tr th:only-of-type {\n        vertical-align: middle;\n    }\n\n    .dataframe tbody tr th {\n        vertical-align: top;\n    }\n\n    .dataframe thead th {\n        text-align: right;\n    }\n</style>\n<table border=\"1\" class=\"dataframe\">\n  <thead>\n    <tr style=\"text-align: right;\">\n      <th></th>\n      <th>pattern</th>\n      <th>supp</th>\n      <th>conf</th>\n      <th>time</th>\n    </tr>\n  </thead>\n  <tbody>\n    <tr>\n      <th>2</th>\n      <td>Load_StatusMBALights&gt;Load_StatusSensHeatPrntBDOWN</td>\n      <td>0.704110</td>\n      <td>0.709945</td>\n      <td>{'134': [[['2013-11-12 05:59:03', '2013-11-12 06:14:03'], ['2013-11-12 05:59:03', '2013-11-12 06...</td>\n    </tr>\n    <tr>\n      <th>213</th>\n      <td>Load_StatusPlugLoadToaster&gt;Load_StatusSensHeatPrntBUP</td>\n      <td>0.701370</td>\n      <td>0.701370</td>\n      <td>{'134': [[['2013-11-12 06:19:03', '2013-11-12 06:30:03'], ['2013-11-12 06:29:03', '2013-11-12 06...</td>\n    </tr>\n    <tr>\n      <th>253</th>\n      <td>Load_StatusPlugLoadLRTV&gt;Load_StatusSensHeatPrntBUP</td>\n      <td>0.838356</td>\n      <td>0.838356</td>\n      <td>{'134': [[['2013-11-12 06:29:03', '2013-11-12 08:24:03'], ['2013-11-12 06:29:03', '2013-11-12 06...</td>\n    </tr>\n    <tr>\n      <th>265</th>\n      <td>Load_StatusPlugLoadLRTV&gt;Load_StatusSensHeatChildAUP</td>\n      <td>0.564384</td>\n      <td>0.564384</td>\n      <td>{'134': [[['2013-11-12 18:09:02', '2013-11-12 20:29:02'], ['2013-11-12 18:29:02', '2013-11-12 19...</td>\n    </tr>\n    <tr>\n      <th>270</th>\n      <td>Load_StatusPlugLoadLRTV&gt;Load_StatusSensHeatChildBUP</td>\n      <td>0.983562</td>\n      <td>0.983562</td>\n      <td>{'134': [[['2013-11-12 18:09:02', '2013-11-12 20:29:02'], ['2013-11-12 18:29:02', '2013-11-12 19...</td>\n    </tr>\n    <tr>\n      <th>334</th>\n      <td>Load_StatusBR2Lights&gt;Load_StatusSensHeatPrntADOWN</td>\n      <td>0.567123</td>\n      <td>0.571823</td>\n      <td>{'134': [[['2013-11-12 18:29:02', '2013-11-12 21:59:02'], ['2013-11-12 18:29:02', '2013-11-12 22...</td>\n    </tr>\n    <tr>\n      <th>341</th>\n      <td>Load_StatusBR2Lights&gt;Load_StatusSensHeatChildADOWN</td>\n      <td>0.706849</td>\n      <td>0.712707</td>\n      <td>{'134': [[['2013-11-12 18:29:02', '2013-11-12 21:59:02'], ['2013-11-12 19:29:02', '2013-11-12 20...</td>\n    </tr>\n    <tr>\n      <th>343</th>\n      <td>Load_StatusBR2Lights&gt;Load_StatusSensHeatChildBDOWN</td>\n      <td>0.704110</td>\n      <td>0.709945</td>\n      <td>{'134': [[['2013-11-12 18:29:02', '2013-11-12 21:59:02'], ['2013-11-12 19:29:02', '2013-11-12 20...</td>\n    </tr>\n    <tr>\n      <th>368</th>\n      <td>Load_StatusBR3Lights&gt;Load_StatusSensHeatChildADOWN</td>\n      <td>0.706849</td>\n      <td>0.712707</td>\n      <td>{'134': [[['2013-11-12 18:29:02', '2013-11-12 20:29:02'], ['2013-11-12 19:29:02', '2013-11-12 20...</td>\n    </tr>\n    <tr>\n      <th>370</th>\n      <td>Load_StatusBR3Lights&gt;Load_StatusSensHeatChildBDOWN</td>\n      <td>0.704110</td>\n      <td>0.709945</td>\n      <td>{'134': [[['2013-11-12 18:29:02', '2013-11-12 20:29:02'], ['2013-11-12 19:29:02', '2013-11-12 20...</td>\n    </tr>\n    <tr>\n      <th>488</th>\n      <td>Load_StatusLatentload&gt;Load_StatusSensHeatPrntBUP</td>\n      <td>1.000000</td>\n      <td>1.000000</td>\n      <td>{'134': [[['2013-11-12 00:04:03', '2013-11-12 08:29:03'], ['2013-11-12 00:04:03', '2013-11-12 05...</td>\n    </tr>\n    <tr>\n      <th>497</th>\n      <td>Load_StatusLatentload&gt;Load_StatusSensHeatChildAUP</td>\n      <td>1.000000</td>\n      <td>1.000000</td>\n      <td>{'134': [[['2013-11-12 00:04:03', '2013-11-12 08:29:03'], ['2013-11-12 00:04:03', '2013-11-12 06...</td>\n    </tr>\n    <tr>\n      <th>498</th>\n      <td>Load_StatusLatentload&gt;Load_StatusSensHeatPrntAUP</td>\n      <td>1.000000</td>\n      <td>1.000000</td>\n      <td>{'134': [[['2013-11-12 00:04:03', '2013-11-12 08:29:03'], ['2013-11-12 00:04:03', '2013-11-12 06...</td>\n    </tr>\n    <tr>\n      <th>504</th>\n      <td>Load_StatusLatentload&gt;Load_StatusSensHeatChildBUP</td>\n      <td>1.000000</td>\n      <td>1.000000</td>\n      <td>{'134': [[['2013-11-12 00:04:03', '2013-11-12 08:29:03'], ['2013-11-12 00:04:03', '2013-11-12 06...</td>\n    </tr>\n    <tr>\n      <th>618</th>\n      <td>Load_StatusPlugLoadBR2Laptop&gt;Load_StatusSensHeatPrntADOWN</td>\n      <td>0.706849</td>\n      <td>0.712707</td>\n      <td>{'134': [[['2013-11-12 18:29:02', '2013-11-12 21:59:02'], ['2013-11-12 18:29:02', '2013-11-12 22...</td>\n    </tr>\n    <tr>\n      <th>622</th>\n      <td>Load_StatusPlugLoadBR2Laptop&gt;Load_StatusSensHeatChildADOWN</td>\n      <td>0.843836</td>\n      <td>0.850829</td>\n      <td>{'134': [[['2013-11-12 18:29:02', '2013-11-12 21:59:02'], ['2013-11-12 19:29:02', '2013-11-12 20...</td>\n    </tr>\n    <tr>\n      <th>623</th>\n      <td>Load_StatusPlugLoadBR2Laptop&gt;Load_StatusSensHeatChildBDOWN</td>\n      <td>0.843836</td>\n      <td>0.850829</td>\n      <td>{'134': [[['2013-11-12 18:29:02', '2013-11-12 21:59:02'], ['2013-11-12 19:29:02', '2013-11-12 20...</td>\n    </tr>\n    <tr>\n      <th>642</th>\n      <td>Load_StatusPlugLoadBR3Laptop&gt;Load_StatusSensHeatChildADOWN</td>\n      <td>0.846575</td>\n      <td>0.853591</td>\n      <td>{'134': [[['2013-11-12 18:29:02', '2013-11-12 20:14:02'], ['2013-11-12 19:29:02', '2013-11-12 20...</td>\n    </tr>\n    <tr>\n      <th>643</th>\n      <td>Load_StatusPlugLoadBR3Laptop&gt;Load_StatusSensHeatChildBDOWN</td>\n      <td>0.843836</td>\n      <td>0.850829</td>\n      <td>{'134': [[['2013-11-12 18:29:02', '2013-11-12 20:14:02'], ['2013-11-12 19:29:02', '2013-11-12 20...</td>\n    </tr>\n    <tr>\n      <th>665</th>\n      <td>Load_StatusPlugLoadDesktopPCMonitor&gt;Load_StatusSensHeatChildAUP</td>\n      <td>0.704110</td>\n      <td>0.704110</td>\n      <td>{'134': [[['2013-11-12 18:29:02', '2013-11-12 22:17:02'], ['2013-11-12 18:29:02', '2013-11-12 19...</td>\n    </tr>\n    <tr>\n      <th>670</th>\n      <td>Load_StatusPlugLoadDesktopPCMonitor&gt;Load_StatusSensHeatChildBUP</td>\n      <td>0.983562</td>\n      <td>0.983562</td>\n      <td>{'134': [[['2013-11-12 18:29:02', '2013-11-12 22:17:02'], ['2013-11-12 18:29:02', '2013-11-12 19...</td>\n    </tr>\n  </tbody>\n</table>\n</div>"
     },
     "execution_count": 247,
     "metadata": {},
     "output_type": "execute_result"
    }
   ],
   "source": [
    "redundancy_filter_tool(dataframe=level2_df, regex_str='[\\w]*>[\\w]*SensHeat', select_index_dict='psn_app')"
   ],
   "metadata": {
    "collapsed": false,
    "pycharm": {
     "name": "#%%\n"
    }
   }
  },
  {
   "cell_type": "code",
   "execution_count": 245,
   "outputs": [
    {
     "data": {
      "text/plain": "                                               pattern      supp      conf  \\\n156  Load_StatusPlugLoadMBRTV|Load_StatusSensHeatPr...  0.701370  0.707182   \n264  Load_StatusPlugLoadLRTV|Load_StatusSensHeatChi...  0.701370  0.701370   \n269  Load_StatusPlugLoadLRTV|Load_StatusSensHeatChi...  0.838356  0.838356   \n301  Load_StatusSensHeatPrntADOWN|Load_StatusPlugLo...  0.698630  0.704420   \n389    Load_StatusDRLights|Load_StatusSensHeatChildAUP  0.701370  0.701370   \n390    Load_StatusDRLights|Load_StatusSensHeatChildBUP  0.701370  0.701370   \n417  Load_StatusSensHeatChildBDOWN|Load_StatusBR2Li...  0.558904  0.563536   \n523  Load_StatusSensHeatChildAUP|Load_StatusPlugLoa...  0.975342  0.975342   \n530    Load_StatusSensHeatChildAUP|Load_StatusDRLights  0.843836  0.843836   \n542  Load_StatusSensHeatChildAUP|Load_StatusPlugLoa...  0.698630  0.698630   \n564  Load_StatusSensHeatPrntAUP|Load_StatusPlugLoad...  0.843836  0.843836   \n657  Load_StatusPlugLoadDesktopPCMonitor|Load_Statu...  0.558904  0.558904   \n664  Load_StatusPlugLoadDesktopPCMonitor|Load_Statu...  0.671233  0.671233   \n669  Load_StatusPlugLoadDesktopPCMonitor|Load_Statu...  0.767123  0.767123   \n688  Load_StatusSensHeatChildBUP|Load_StatusPlugLoa...  0.827397  0.827397   \n695    Load_StatusSensHeatChildBUP|Load_StatusDRLights  0.846575  0.846575   \n\n                                                  time  \n156  {'134': [[['2013-11-12 06:14:03', '2013-11-12 ...  \n264  {'134': [[['2013-11-12 18:09:02', '2013-11-12 ...  \n269  {'134': [[['2013-11-12 18:09:02', '2013-11-12 ...  \n301  {'134': [[['2013-11-12 18:29:02', '2013-11-12 ...  \n389  {'134': [[['2013-11-12 19:14:02', '2013-11-12 ...  \n390  {'134': [[['2013-11-12 19:14:02', '2013-11-12 ...  \n417  {'291': [[['2014-04-18 17:58:47', '2014-04-18 ...  \n523  {'134': [[['2013-11-12 00:04:03', '2013-11-12 ...  \n530  {'134': [[['2013-11-12 18:29:02', '2013-11-12 ...  \n542  {'291': [[['2014-04-18 17:58:47', '2014-04-18 ...  \n564  {'134': [[['2013-11-12 17:59:02', '2013-11-12 ...  \n657  {'134': [[['2013-11-12 18:29:02', '2013-11-12 ...  \n664  {'134': [[['2013-11-12 18:29:02', '2013-11-12 ...  \n669  {'134': [[['2013-11-12 18:29:02', '2013-11-12 ...  \n688  {'134': [[['2013-11-12 00:04:03', '2013-11-12 ...  \n695  {'134': [[['2013-11-12 18:29:02', '2013-11-12 ...  ",
      "text/html": "<div>\n<style scoped>\n    .dataframe tbody tr th:only-of-type {\n        vertical-align: middle;\n    }\n\n    .dataframe tbody tr th {\n        vertical-align: top;\n    }\n\n    .dataframe thead th {\n        text-align: right;\n    }\n</style>\n<table border=\"1\" class=\"dataframe\">\n  <thead>\n    <tr style=\"text-align: right;\">\n      <th></th>\n      <th>pattern</th>\n      <th>supp</th>\n      <th>conf</th>\n      <th>time</th>\n    </tr>\n  </thead>\n  <tbody>\n    <tr>\n      <th>156</th>\n      <td>Load_StatusPlugLoadMBRTV|Load_StatusSensHeatPr...</td>\n      <td>0.701370</td>\n      <td>0.707182</td>\n      <td>{'134': [[['2013-11-12 06:14:03', '2013-11-12 ...</td>\n    </tr>\n    <tr>\n      <th>264</th>\n      <td>Load_StatusPlugLoadLRTV|Load_StatusSensHeatChi...</td>\n      <td>0.701370</td>\n      <td>0.701370</td>\n      <td>{'134': [[['2013-11-12 18:09:02', '2013-11-12 ...</td>\n    </tr>\n    <tr>\n      <th>269</th>\n      <td>Load_StatusPlugLoadLRTV|Load_StatusSensHeatChi...</td>\n      <td>0.838356</td>\n      <td>0.838356</td>\n      <td>{'134': [[['2013-11-12 18:09:02', '2013-11-12 ...</td>\n    </tr>\n    <tr>\n      <th>301</th>\n      <td>Load_StatusSensHeatPrntADOWN|Load_StatusPlugLo...</td>\n      <td>0.698630</td>\n      <td>0.704420</td>\n      <td>{'134': [[['2013-11-12 18:29:02', '2013-11-12 ...</td>\n    </tr>\n    <tr>\n      <th>389</th>\n      <td>Load_StatusDRLights|Load_StatusSensHeatChildAUP</td>\n      <td>0.701370</td>\n      <td>0.701370</td>\n      <td>{'134': [[['2013-11-12 19:14:02', '2013-11-12 ...</td>\n    </tr>\n    <tr>\n      <th>390</th>\n      <td>Load_StatusDRLights|Load_StatusSensHeatChildBUP</td>\n      <td>0.701370</td>\n      <td>0.701370</td>\n      <td>{'134': [[['2013-11-12 19:14:02', '2013-11-12 ...</td>\n    </tr>\n    <tr>\n      <th>417</th>\n      <td>Load_StatusSensHeatChildBDOWN|Load_StatusBR2Li...</td>\n      <td>0.558904</td>\n      <td>0.563536</td>\n      <td>{'291': [[['2014-04-18 17:58:47', '2014-04-18 ...</td>\n    </tr>\n    <tr>\n      <th>523</th>\n      <td>Load_StatusSensHeatChildAUP|Load_StatusPlugLoa...</td>\n      <td>0.975342</td>\n      <td>0.975342</td>\n      <td>{'134': [[['2013-11-12 00:04:03', '2013-11-12 ...</td>\n    </tr>\n    <tr>\n      <th>530</th>\n      <td>Load_StatusSensHeatChildAUP|Load_StatusDRLights</td>\n      <td>0.843836</td>\n      <td>0.843836</td>\n      <td>{'134': [[['2013-11-12 18:29:02', '2013-11-12 ...</td>\n    </tr>\n    <tr>\n      <th>542</th>\n      <td>Load_StatusSensHeatChildAUP|Load_StatusPlugLoa...</td>\n      <td>0.698630</td>\n      <td>0.698630</td>\n      <td>{'291': [[['2014-04-18 17:58:47', '2014-04-18 ...</td>\n    </tr>\n    <tr>\n      <th>564</th>\n      <td>Load_StatusSensHeatPrntAUP|Load_StatusPlugLoad...</td>\n      <td>0.843836</td>\n      <td>0.843836</td>\n      <td>{'134': [[['2013-11-12 17:59:02', '2013-11-12 ...</td>\n    </tr>\n    <tr>\n      <th>657</th>\n      <td>Load_StatusPlugLoadDesktopPCMonitor|Load_Statu...</td>\n      <td>0.558904</td>\n      <td>0.558904</td>\n      <td>{'134': [[['2013-11-12 18:29:02', '2013-11-12 ...</td>\n    </tr>\n    <tr>\n      <th>664</th>\n      <td>Load_StatusPlugLoadDesktopPCMonitor|Load_Statu...</td>\n      <td>0.671233</td>\n      <td>0.671233</td>\n      <td>{'134': [[['2013-11-12 18:29:02', '2013-11-12 ...</td>\n    </tr>\n    <tr>\n      <th>669</th>\n      <td>Load_StatusPlugLoadDesktopPCMonitor|Load_Statu...</td>\n      <td>0.767123</td>\n      <td>0.767123</td>\n      <td>{'134': [[['2013-11-12 18:29:02', '2013-11-12 ...</td>\n    </tr>\n    <tr>\n      <th>688</th>\n      <td>Load_StatusSensHeatChildBUP|Load_StatusPlugLoa...</td>\n      <td>0.827397</td>\n      <td>0.827397</td>\n      <td>{'134': [[['2013-11-12 00:04:03', '2013-11-12 ...</td>\n    </tr>\n    <tr>\n      <th>695</th>\n      <td>Load_StatusSensHeatChildBUP|Load_StatusDRLights</td>\n      <td>0.846575</td>\n      <td>0.846575</td>\n      <td>{'134': [[['2013-11-12 18:29:02', '2013-11-12 ...</td>\n    </tr>\n  </tbody>\n</table>\n</div>"
     },
     "execution_count": 245,
     "metadata": {},
     "output_type": "execute_result"
    }
   ],
   "source": [
    "redundancy_filter_tool(dataframe=level2_df, regex_str='[\\w]*\\|[\\w]*', select_index_dict='psn_app')"
   ],
   "metadata": {
    "collapsed": false,
    "pycharm": {
     "name": "#%%\n"
    }
   }
  },
  {
   "cell_type": "code",
   "execution_count": null,
   "outputs": [],
   "source": [],
   "metadata": {
    "collapsed": false,
    "pycharm": {
     "name": "#%%\n"
    }
   }
  }
 ],
 "metadata": {
  "kernelspec": {
   "display_name": "Python 3",
   "language": "python",
   "name": "python3"
  },
  "language_info": {
   "codemirror_mode": {
    "name": "ipython",
    "version": 2
   },
   "file_extension": ".py",
   "mimetype": "text/x-python",
   "name": "python",
   "nbconvert_exporter": "python",
   "pygments_lexer": "ipython2",
   "version": "2.7.6"
  }
 },
 "nbformat": 4,
 "nbformat_minor": 0
}
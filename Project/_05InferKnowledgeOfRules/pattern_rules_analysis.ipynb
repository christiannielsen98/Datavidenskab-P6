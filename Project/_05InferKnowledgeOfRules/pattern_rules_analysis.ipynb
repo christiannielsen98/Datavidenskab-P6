{
 "cells": [
  {
   "cell_type": "code",
   "execution_count": 249,
   "outputs": [],
   "source": [
    "import pandas as pd\n",
    "pd.options.display.max_colwidth = 100\n",
    "import plotly.express as px\n",
    "import re\n",
    "import datetime\n",
    "import numpy as np\n",
    "import json\n",
    "from Project.Database import Db\n",
    "from Project._04TPMAlgorithm.transform_for_TPM_algorithm import light_location_dict"
   ],
   "metadata": {
    "collapsed": false,
    "pycharm": {
     "name": "#%%\n"
    }
   }
  },
  {
   "cell_type": "code",
   "execution_count": 250,
   "metadata": {
    "collapsed": true
   },
   "outputs": [],
   "source": [
    "level1_json = json.load(\n",
    "    open(Db.get_project_path(\"Project/_04TPMAlgorithm/TPM/output/NZERTF_year1_minsup0.14_minconf_0.5/level1.json\")))"
   ]
  },
  {
   "cell_type": "code",
   "execution_count": 251,
   "outputs": [],
   "source": [
    "level2_json = json.load(\n",
    "    open(Db.get_project_path(\"Project/_04TPMAlgorithm/TPM/output/NZERTF_year1_minsup0.14_minconf_0.5/level2.json\")))"
   ],
   "metadata": {
    "collapsed": false,
    "pycharm": {
     "name": "#%%\n"
    }
   }
  },
  {
   "cell_type": "code",
   "execution_count": 252,
   "outputs": [],
   "source": [
    "level3_json = json.load(\n",
    "    open(Db.get_project_path(\"Project/_04TPMAlgorithm/TPM/output/NZERTF_year1_minsup0.14_minconf_0.5/level3.json\")))"
   ],
   "metadata": {
    "collapsed": false,
    "pycharm": {
     "name": "#%%\n"
    }
   }
  },
  {
   "cell_type": "code",
   "execution_count": 253,
   "outputs": [],
   "source": [
    "meta = Db.load_data(meta=True, consumption=False, hourly=False)"
   ],
   "metadata": {
    "collapsed": false,
    "pycharm": {
     "name": "#%%\n"
    }
   }
  },
  {
   "cell_type": "code",
   "execution_count": 254,
   "outputs": [],
   "source": [
    "def json_to_dataframe(json_file):\n",
    "    if \",\" in json_file[0][\"name_node\"]:\n",
    "        level_df = pd.DataFrame(columns=[\"pattern\",\"supp\",\"conf\", \"time\"])\n",
    "        for i in json_file:\n",
    "            for j in i[\"patterns\"]:\n",
    "                level_df.loc[level_df.shape[0]] = j\n",
    "    else:\n",
    "        level_df = pd.DataFrame(columns=[\"name_node\",\"supp\",\"conf\"])\n",
    "        for i in json_file:\n",
    "            level_df.loc[level_df.shape[0]] = i\n",
    "    return level_df"
   ],
   "metadata": {
    "collapsed": false,
    "pycharm": {
     "name": "#%%\n"
    }
   }
  },
  {
   "cell_type": "code",
   "execution_count": 255,
   "outputs": [
    {
     "data": {
      "text/plain": "                                                     pattern      supp  \\\n0                 Load_StatusMBALights->Load_StatusMBALights  0.849315   \n1         Load_StatusMBALights->Load_StatusSensHeatPrntBDOWN  0.980822   \n2          Load_StatusMBALights>Load_StatusSensHeatPrntBDOWN  0.704110   \n3            Load_StatusMBALights>Load_StatusPlugLoadBlender  0.701370   \n4        Load_StatusMBALights>Load_StatusPlugLoadCoffeeMaker  0.701370   \n..                                                       ...       ...   \n689       Load_StatusApplianceOven->Load_StatusClothesWasher  0.276712   \n690      Load_StatusClothesWasher>Load_StatusDryerPowerTotal  0.405479   \n691    Load_StatusClothesWasher|Load_StatusPlugLoadLRBlueRay  0.268493   \n692  Load_StatusPlugLoadLRBlueRay>Load_StatusDryerPowerTotal  0.279452   \n693        Load_StatusPlugLoadVacuum>Load_StatusPlugLoadIron  0.142466   \n\n         conf  \\\n0    0.856354   \n1    0.988950   \n2    0.709945   \n3    0.707182   \n4    0.707182   \n..        ...   \n689  0.651613   \n690  0.896970   \n691  0.632258   \n692  0.618182   \n693  0.509804   \n\n                                                                                                    time  \n0    {'199': [[['2014-01-16 03:30:19', '2014-01-16 03:33:19'], ['2014-01-16 03:59:19', '2014-01-16 04...  \n1    {'199': [[['2014-01-16 06:29:19', '2014-01-16 06:44:18'], ['2014-01-16 06:59:18', '2014-01-16 08...  \n2    {'199': [[['2014-01-16 05:59:19', '2014-01-16 06:14:19'], ['2014-01-16 05:59:19', '2014-01-16 06...  \n3    {'199': [[['2014-01-16 05:59:19', '2014-01-16 06:14:19'], ['2014-01-16 06:04:19', '2014-01-16 06...  \n4    {'199': [[['2014-01-16 05:59:19', '2014-01-16 06:14:19'], ['2014-01-16 06:09:19', '2014-01-16 06...  \n..                                                                                                   ...  \n689  {'341': [[['2014-06-07 08:13:20', '2014-06-07 10:50:20'], ['2014-06-07 10:59:20', '2014-06-07 11...  \n690  {'341': [[['2014-06-07 14:29:20', '2014-06-07 15:29:20'], ['2014-06-07 14:59:20', '2014-06-07 15...  \n691  {'341': [[['2014-06-07 14:29:20', '2014-06-07 15:29:20'], ['2014-06-07 14:58:20', '2014-06-07 16...  \n692  {'341': [[['2014-06-07 14:58:20', '2014-06-07 16:28:20'], ['2014-06-07 14:59:20', '2014-06-07 15...  \n693  {'341': [[['2014-06-07 17:28:20', '2014-06-07 19:18:19'], ['2014-06-07 17:58:20', '2014-06-07 18...  \n\n[694 rows x 4 columns]",
      "text/html": "<div>\n<style scoped>\n    .dataframe tbody tr th:only-of-type {\n        vertical-align: middle;\n    }\n\n    .dataframe tbody tr th {\n        vertical-align: top;\n    }\n\n    .dataframe thead th {\n        text-align: right;\n    }\n</style>\n<table border=\"1\" class=\"dataframe\">\n  <thead>\n    <tr style=\"text-align: right;\">\n      <th></th>\n      <th>pattern</th>\n      <th>supp</th>\n      <th>conf</th>\n      <th>time</th>\n    </tr>\n  </thead>\n  <tbody>\n    <tr>\n      <th>0</th>\n      <td>Load_StatusMBALights-&gt;Load_StatusMBALights</td>\n      <td>0.849315</td>\n      <td>0.856354</td>\n      <td>{'199': [[['2014-01-16 03:30:19', '2014-01-16 03:33:19'], ['2014-01-16 03:59:19', '2014-01-16 04...</td>\n    </tr>\n    <tr>\n      <th>1</th>\n      <td>Load_StatusMBALights-&gt;Load_StatusSensHeatPrntBDOWN</td>\n      <td>0.980822</td>\n      <td>0.988950</td>\n      <td>{'199': [[['2014-01-16 06:29:19', '2014-01-16 06:44:18'], ['2014-01-16 06:59:18', '2014-01-16 08...</td>\n    </tr>\n    <tr>\n      <th>2</th>\n      <td>Load_StatusMBALights&gt;Load_StatusSensHeatPrntBDOWN</td>\n      <td>0.704110</td>\n      <td>0.709945</td>\n      <td>{'199': [[['2014-01-16 05:59:19', '2014-01-16 06:14:19'], ['2014-01-16 05:59:19', '2014-01-16 06...</td>\n    </tr>\n    <tr>\n      <th>3</th>\n      <td>Load_StatusMBALights&gt;Load_StatusPlugLoadBlender</td>\n      <td>0.701370</td>\n      <td>0.707182</td>\n      <td>{'199': [[['2014-01-16 05:59:19', '2014-01-16 06:14:19'], ['2014-01-16 06:04:19', '2014-01-16 06...</td>\n    </tr>\n    <tr>\n      <th>4</th>\n      <td>Load_StatusMBALights&gt;Load_StatusPlugLoadCoffeeMaker</td>\n      <td>0.701370</td>\n      <td>0.707182</td>\n      <td>{'199': [[['2014-01-16 05:59:19', '2014-01-16 06:14:19'], ['2014-01-16 06:09:19', '2014-01-16 06...</td>\n    </tr>\n    <tr>\n      <th>...</th>\n      <td>...</td>\n      <td>...</td>\n      <td>...</td>\n      <td>...</td>\n    </tr>\n    <tr>\n      <th>689</th>\n      <td>Load_StatusApplianceOven-&gt;Load_StatusClothesWasher</td>\n      <td>0.276712</td>\n      <td>0.651613</td>\n      <td>{'341': [[['2014-06-07 08:13:20', '2014-06-07 10:50:20'], ['2014-06-07 10:59:20', '2014-06-07 11...</td>\n    </tr>\n    <tr>\n      <th>690</th>\n      <td>Load_StatusClothesWasher&gt;Load_StatusDryerPowerTotal</td>\n      <td>0.405479</td>\n      <td>0.896970</td>\n      <td>{'341': [[['2014-06-07 14:29:20', '2014-06-07 15:29:20'], ['2014-06-07 14:59:20', '2014-06-07 15...</td>\n    </tr>\n    <tr>\n      <th>691</th>\n      <td>Load_StatusClothesWasher|Load_StatusPlugLoadLRBlueRay</td>\n      <td>0.268493</td>\n      <td>0.632258</td>\n      <td>{'341': [[['2014-06-07 14:29:20', '2014-06-07 15:29:20'], ['2014-06-07 14:58:20', '2014-06-07 16...</td>\n    </tr>\n    <tr>\n      <th>692</th>\n      <td>Load_StatusPlugLoadLRBlueRay&gt;Load_StatusDryerPowerTotal</td>\n      <td>0.279452</td>\n      <td>0.618182</td>\n      <td>{'341': [[['2014-06-07 14:58:20', '2014-06-07 16:28:20'], ['2014-06-07 14:59:20', '2014-06-07 15...</td>\n    </tr>\n    <tr>\n      <th>693</th>\n      <td>Load_StatusPlugLoadVacuum&gt;Load_StatusPlugLoadIron</td>\n      <td>0.142466</td>\n      <td>0.509804</td>\n      <td>{'341': [[['2014-06-07 17:28:20', '2014-06-07 19:18:19'], ['2014-06-07 17:58:20', '2014-06-07 18...</td>\n    </tr>\n  </tbody>\n</table>\n<p>694 rows × 4 columns</p>\n</div>"
     },
     "execution_count": 255,
     "metadata": {},
     "output_type": "execute_result"
    }
   ],
   "source": [
    "level2_df = json_to_dataframe(level2_json)\n",
    "level2_df"
   ],
   "metadata": {
    "collapsed": false,
    "pycharm": {
     "name": "#%%\n"
    }
   }
  },
  {
   "cell_type": "code",
   "execution_count": 256,
   "outputs": [
    {
     "data": {
      "text/plain": "                                                                                                  pattern  \\\n0     Load_StatusMBALights->Load_StatusMBALights*Load_StatusMBALights->Load_StatusMasterBedroomLights*...   \n1     Load_StatusMBALights->Load_StatusMBALights*Load_StatusMBALights>Load_StatusBA2Lights*Load_Status...   \n2     Load_StatusMBALights->Load_StatusMBALights*Load_StatusMBALights>Load_StatusSensHeatPrntBUP*Load_...   \n3     Load_StatusMBALights->Load_StatusMBALights*Load_StatusMBALights>Load_StatusBR2Lights*Load_Status...   \n4     Load_StatusMBALights->Load_StatusMBALights*Load_StatusMBALights>Load_StatusPlugLoadHairDryerCurl...   \n...                                                                                                   ...   \n5084  Load_StatusPlugLoadHeatingPad>Load_StatusMBALights*Load_StatusMBALights->Load_StatusMBALights*Lo...   \n5085  Load_StatusPlugLoadHeatingPad>Load_StatusMBALights*Load_StatusMBALights->Load_StatusSensHeatPrnt...   \n5086  Load_StatusPlugLoadHeatingPad->Load_StatusSensHeatPrntAUP*Load_StatusSensHeatPrntAUP>Load_Status...   \n5087  Load_StatusApplianceOven>Load_StatusPlugLoadVideoGame*Load_StatusPlugLoadVideoGame->Load_StatusC...   \n5088  Load_StatusClothesWasher|Load_StatusPlugLoadLRBlueRay*Load_StatusPlugLoadLRBlueRay>Load_StatusDr...   \n\n          supp      conf  \\\n0     0.698630  0.704420   \n1     0.701370  0.707182   \n2     0.701370  0.701370   \n3     0.701370  0.707182   \n4     0.701370  0.707182   \n...        ...       ...   \n5084  0.701370  0.707182   \n5085  0.701370  0.701370   \n5086  0.698630  0.704420   \n5087  0.276712  0.651613   \n5088  0.268493  0.593939   \n\n                                                                                                     time  \n0     {'143': [[['2013-11-21 05:59:11', '2013-11-21 06:14:11'], ['2013-11-21 06:29:11', '2013-11-21 06...  \n1     {'143': [[['2013-11-21 05:59:11', '2013-11-21 06:14:11'], ['2013-11-21 06:29:11', '2013-11-21 06...  \n2     {'143': [[['2013-11-21 05:59:11', '2013-11-21 06:14:11'], ['2013-11-21 06:29:11', '2013-11-21 06...  \n3     {'143': [[['2013-11-21 05:59:11', '2013-11-21 06:14:11'], ['2013-11-21 06:29:11', '2013-11-21 06...  \n4     {'143': [[['2013-11-21 05:59:11', '2013-11-21 06:14:11'], ['2013-11-21 06:29:11', '2013-11-21 06...  \n...                                                                                                   ...  \n5084  {'143': [[['2013-11-21 21:59:09', '2013-11-21 22:09:09'], ['2013-11-21 22:04:09', '2013-11-21 22...  \n5085  {'143': [[['2013-11-21 21:59:09', '2013-11-21 22:09:09'], ['2013-11-21 22:04:09', '2013-11-21 22...  \n5086  {'143': [[['2013-11-21 21:59:09', '2013-11-21 22:09:09'], ['2013-11-21 22:29:09', '2013-11-21 23...  \n5087  {'341': [[['2014-06-07 08:13:20', '2014-06-07 10:50:20'], ['2014-06-07 09:58:20', '2014-06-07 10...  \n5088  {'341': [[['2014-06-07 14:29:20', '2014-06-07 15:29:20'], ['2014-06-07 14:58:20', '2014-06-07 16...  \n\n[5089 rows x 4 columns]",
      "text/html": "<div>\n<style scoped>\n    .dataframe tbody tr th:only-of-type {\n        vertical-align: middle;\n    }\n\n    .dataframe tbody tr th {\n        vertical-align: top;\n    }\n\n    .dataframe thead th {\n        text-align: right;\n    }\n</style>\n<table border=\"1\" class=\"dataframe\">\n  <thead>\n    <tr style=\"text-align: right;\">\n      <th></th>\n      <th>pattern</th>\n      <th>supp</th>\n      <th>conf</th>\n      <th>time</th>\n    </tr>\n  </thead>\n  <tbody>\n    <tr>\n      <th>0</th>\n      <td>Load_StatusMBALights-&gt;Load_StatusMBALights*Load_StatusMBALights-&gt;Load_StatusMasterBedroomLights*...</td>\n      <td>0.698630</td>\n      <td>0.704420</td>\n      <td>{'143': [[['2013-11-21 05:59:11', '2013-11-21 06:14:11'], ['2013-11-21 06:29:11', '2013-11-21 06...</td>\n    </tr>\n    <tr>\n      <th>1</th>\n      <td>Load_StatusMBALights-&gt;Load_StatusMBALights*Load_StatusMBALights&gt;Load_StatusBA2Lights*Load_Status...</td>\n      <td>0.701370</td>\n      <td>0.707182</td>\n      <td>{'143': [[['2013-11-21 05:59:11', '2013-11-21 06:14:11'], ['2013-11-21 06:29:11', '2013-11-21 06...</td>\n    </tr>\n    <tr>\n      <th>2</th>\n      <td>Load_StatusMBALights-&gt;Load_StatusMBALights*Load_StatusMBALights&gt;Load_StatusSensHeatPrntBUP*Load_...</td>\n      <td>0.701370</td>\n      <td>0.701370</td>\n      <td>{'143': [[['2013-11-21 05:59:11', '2013-11-21 06:14:11'], ['2013-11-21 06:29:11', '2013-11-21 06...</td>\n    </tr>\n    <tr>\n      <th>3</th>\n      <td>Load_StatusMBALights-&gt;Load_StatusMBALights*Load_StatusMBALights&gt;Load_StatusBR2Lights*Load_Status...</td>\n      <td>0.701370</td>\n      <td>0.707182</td>\n      <td>{'143': [[['2013-11-21 05:59:11', '2013-11-21 06:14:11'], ['2013-11-21 06:29:11', '2013-11-21 06...</td>\n    </tr>\n    <tr>\n      <th>4</th>\n      <td>Load_StatusMBALights-&gt;Load_StatusMBALights*Load_StatusMBALights&gt;Load_StatusPlugLoadHairDryerCurl...</td>\n      <td>0.701370</td>\n      <td>0.707182</td>\n      <td>{'143': [[['2013-11-21 05:59:11', '2013-11-21 06:14:11'], ['2013-11-21 06:29:11', '2013-11-21 06...</td>\n    </tr>\n    <tr>\n      <th>...</th>\n      <td>...</td>\n      <td>...</td>\n      <td>...</td>\n      <td>...</td>\n    </tr>\n    <tr>\n      <th>5084</th>\n      <td>Load_StatusPlugLoadHeatingPad&gt;Load_StatusMBALights*Load_StatusMBALights-&gt;Load_StatusMBALights*Lo...</td>\n      <td>0.701370</td>\n      <td>0.707182</td>\n      <td>{'143': [[['2013-11-21 21:59:09', '2013-11-21 22:09:09'], ['2013-11-21 22:04:09', '2013-11-21 22...</td>\n    </tr>\n    <tr>\n      <th>5085</th>\n      <td>Load_StatusPlugLoadHeatingPad&gt;Load_StatusMBALights*Load_StatusMBALights-&gt;Load_StatusSensHeatPrnt...</td>\n      <td>0.701370</td>\n      <td>0.701370</td>\n      <td>{'143': [[['2013-11-21 21:59:09', '2013-11-21 22:09:09'], ['2013-11-21 22:04:09', '2013-11-21 22...</td>\n    </tr>\n    <tr>\n      <th>5086</th>\n      <td>Load_StatusPlugLoadHeatingPad-&gt;Load_StatusSensHeatPrntAUP*Load_StatusSensHeatPrntAUP&gt;Load_Status...</td>\n      <td>0.698630</td>\n      <td>0.704420</td>\n      <td>{'143': [[['2013-11-21 21:59:09', '2013-11-21 22:09:09'], ['2013-11-21 22:29:09', '2013-11-21 23...</td>\n    </tr>\n    <tr>\n      <th>5087</th>\n      <td>Load_StatusApplianceOven&gt;Load_StatusPlugLoadVideoGame*Load_StatusPlugLoadVideoGame-&gt;Load_StatusC...</td>\n      <td>0.276712</td>\n      <td>0.651613</td>\n      <td>{'341': [[['2014-06-07 08:13:20', '2014-06-07 10:50:20'], ['2014-06-07 09:58:20', '2014-06-07 10...</td>\n    </tr>\n    <tr>\n      <th>5088</th>\n      <td>Load_StatusClothesWasher|Load_StatusPlugLoadLRBlueRay*Load_StatusPlugLoadLRBlueRay&gt;Load_StatusDr...</td>\n      <td>0.268493</td>\n      <td>0.593939</td>\n      <td>{'341': [[['2014-06-07 14:29:20', '2014-06-07 15:29:20'], ['2014-06-07 14:58:20', '2014-06-07 16...</td>\n    </tr>\n  </tbody>\n</table>\n<p>5089 rows × 4 columns</p>\n</div>"
     },
     "execution_count": 256,
     "metadata": {},
     "output_type": "execute_result"
    }
   ],
   "source": [
    "level3_df = json_to_dataframe(level3_json)\n",
    "level3_df"
   ],
   "metadata": {
    "collapsed": false,
    "pycharm": {
     "name": "#%%\n"
    }
   }
  },
  {
   "cell_type": "code",
   "execution_count": 257,
   "outputs": [],
   "source": [
    "def filter_rule_indexes(dataframe):\n",
    "    return_dict = {}\n",
    "    level_3_check = len(re.findall('\\*', dataframe.loc[0, 'pattern'])) > 0\n",
    "    #filter follows rules in dataframe for level3: max 1 and level2: 0\n",
    "    if level_3_check:\n",
    "        dataframe = dataframe.loc[dataframe['pattern'].str.findall('-').map(len) <= 1]\n",
    "    else:\n",
    "        dataframe = dataframe.loc[dataframe['pattern'].str.findall('-').map(len) == 0]\n",
    "\n",
    "    appliance_appliance_appliance_rule_indexes = []\n",
    "    person_appliance_appliance_rule_indexes = []\n",
    "    person_person_appliance_rule_indexes = []\n",
    "\n",
    "    for index, row in dataframe.iterrows():\n",
    "        tmp_floor_set = set()\n",
    "        appliance_check_list = list()\n",
    "        person_check_list = list()\n",
    "        for col in set(re.findall('[\\w_]+', row['pattern'])):\n",
    "            person_check_list.append('SensHeat' in col)\n",
    "            appliance_check_list.append('SensHeat' not in col)\n",
    "            try:\n",
    "                tmp_floor_set.add(meta.loc[col, 'Measurement_Floor'])\n",
    "            except:\n",
    "                tmp_floor_set.add(light_location_dict(meta)[col][0])\n",
    "        if '1stFloor' in tmp_floor_set and '2ndFloor' in tmp_floor_set and sum(appliance_check_list) >= 1:\n",
    "            if sum(person_check_list) == 1:\n",
    "                person_appliance_appliance_rule_indexes.append(index)\n",
    "                if len(person_appliance_appliance_rule_indexes) > 0:\n",
    "                    if level_3_check:\n",
    "                        return_dict.update({'psn_app_app': person_appliance_appliance_rule_indexes})\n",
    "                    else:\n",
    "                        return_dict.update({'psn_app': person_appliance_appliance_rule_indexes})\n",
    "            elif sum(person_check_list) == 2:\n",
    "                person_person_appliance_rule_indexes.append(index)\n",
    "                if len(person_person_appliance_rule_indexes) > 0:\n",
    "                    return_dict.update({'psn_psn_app': person_person_appliance_rule_indexes})\n",
    "            elif sum(person_check_list) == 0:\n",
    "                appliance_appliance_appliance_rule_indexes.append(index)\n",
    "                if len(appliance_appliance_appliance_rule_indexes) > 0:\n",
    "                    if level_3_check:\n",
    "                        return_dict.update({'app_app_app': appliance_appliance_appliance_rule_indexes})\n",
    "                    else:\n",
    "                        return_dict.update({'app_app': person_appliance_appliance_rule_indexes})\n",
    "    return return_dict"
   ],
   "metadata": {
    "collapsed": false,
    "pycharm": {
     "name": "#%%\n"
    }
   }
  },
  {
   "cell_type": "code",
   "execution_count": 258,
   "outputs": [],
   "source": [
    "level2_index_dict = filter_rule_indexes(level2_df)"
   ],
   "metadata": {
    "collapsed": false,
    "pycharm": {
     "name": "#%%\n"
    }
   }
  },
  {
   "cell_type": "code",
   "execution_count": 259,
   "outputs": [],
   "source": [
    "level3_index_dict = filter_rule_indexes(level3_df)"
   ],
   "metadata": {
    "collapsed": false,
    "pycharm": {
     "name": "#%%\n"
    }
   }
  },
  {
   "cell_type": "code",
   "execution_count": 260,
   "outputs": [],
   "source": [
    "def redundancy_filter_tool(dataframe=level3_df, regex_str='BR3[\\w]*>[\\w]*ChildB', select_index_dict='psn_app_app'):\n",
    "    return dataframe.loc[filter_rule_indexes(dataframe)[select_index_dict]].loc[dataframe.loc[filter_rule_indexes(dataframe)[select_index_dict], 'pattern'].str.findall(regex_str).map(len) > 0]"
   ],
   "metadata": {
    "collapsed": false,
    "pycharm": {
     "name": "#%%\n"
    }
   }
  },
  {
   "cell_type": "code",
   "execution_count": 261,
   "outputs": [
    {
     "data": {
      "text/plain": "                                                             pattern  \\\n2                  Load_StatusMBALights>Load_StatusSensHeatPrntBDOWN   \n213            Load_StatusPlugLoadToaster>Load_StatusSensHeatPrntBUP   \n253               Load_StatusPlugLoadLRTV>Load_StatusSensHeatPrntBUP   \n265              Load_StatusPlugLoadLRTV>Load_StatusSensHeatChildAUP   \n270              Load_StatusPlugLoadLRTV>Load_StatusSensHeatChildBUP   \n334                Load_StatusBR2Lights>Load_StatusSensHeatPrntADOWN   \n341               Load_StatusBR2Lights>Load_StatusSensHeatChildADOWN   \n343               Load_StatusBR2Lights>Load_StatusSensHeatChildBDOWN   \n368               Load_StatusBR3Lights>Load_StatusSensHeatChildADOWN   \n370               Load_StatusBR3Lights>Load_StatusSensHeatChildBDOWN   \n584        Load_StatusPlugLoadBR2Laptop>Load_StatusSensHeatPrntADOWN   \n588       Load_StatusPlugLoadBR2Laptop>Load_StatusSensHeatChildADOWN   \n589       Load_StatusPlugLoadBR2Laptop>Load_StatusSensHeatChildBDOWN   \n608       Load_StatusPlugLoadBR3Laptop>Load_StatusSensHeatChildADOWN   \n609       Load_StatusPlugLoadBR3Laptop>Load_StatusSensHeatChildBDOWN   \n631  Load_StatusPlugLoadDesktopPCMonitor>Load_StatusSensHeatChildAUP   \n636  Load_StatusPlugLoadDesktopPCMonitor>Load_StatusSensHeatChildBUP   \n\n         supp      conf  \\\n2    0.704110  0.709945   \n213  0.701370  0.701370   \n253  0.838356  0.838356   \n265  0.564384  0.564384   \n270  0.983562  0.983562   \n334  0.567123  0.571823   \n341  0.706849  0.712707   \n343  0.704110  0.709945   \n368  0.706849  0.712707   \n370  0.704110  0.709945   \n584  0.706849  0.712707   \n588  0.843836  0.850829   \n589  0.843836  0.850829   \n608  0.846575  0.853591   \n609  0.843836  0.850829   \n631  0.704110  0.704110   \n636  0.983562  0.983562   \n\n                                                                                                    time  \n2    {'199': [[['2014-01-16 05:59:19', '2014-01-16 06:14:19'], ['2014-01-16 05:59:19', '2014-01-16 06...  \n213  {'199': [[['2014-01-16 06:19:19', '2014-01-16 06:30:19'], ['2014-01-16 06:29:19', '2014-01-16 06...  \n253  {'199': [[['2014-01-16 06:29:19', '2014-01-16 08:24:18'], ['2014-01-16 06:29:19', '2014-01-16 06...  \n265  {'199': [[['2014-01-16 18:09:45', '2014-01-16 20:29:44'], ['2014-01-16 18:29:45', '2014-01-16 19...  \n270  {'199': [[['2014-01-16 18:09:45', '2014-01-16 20:29:44'], ['2014-01-16 18:29:45', '2014-01-16 19...  \n334  {'199': [[['2014-01-16 18:29:45', '2014-01-16 21:59:44'], ['2014-01-16 18:29:45', '2014-01-16 22...  \n341  {'199': [[['2014-01-16 18:29:45', '2014-01-16 21:59:44'], ['2014-01-16 19:29:45', '2014-01-16 20...  \n343  {'199': [[['2014-01-16 18:29:45', '2014-01-16 21:59:44'], ['2014-01-16 19:29:45', '2014-01-16 20...  \n368  {'199': [[['2014-01-16 18:29:45', '2014-01-16 20:29:44'], ['2014-01-16 19:29:45', '2014-01-16 20...  \n370  {'199': [[['2014-01-16 18:29:45', '2014-01-16 20:29:44'], ['2014-01-16 19:29:45', '2014-01-16 20...  \n584  {'199': [[['2014-01-16 18:29:45', '2014-01-16 21:59:44'], ['2014-01-16 18:29:45', '2014-01-16 22...  \n588  {'199': [[['2014-01-16 18:29:45', '2014-01-16 21:59:44'], ['2014-01-16 19:29:45', '2014-01-16 20...  \n589  {'199': [[['2014-01-16 18:29:45', '2014-01-16 21:59:44'], ['2014-01-16 19:29:45', '2014-01-16 20...  \n608  {'199': [[['2014-01-16 18:29:45', '2014-01-16 20:14:45'], ['2014-01-16 19:29:45', '2014-01-16 20...  \n609  {'199': [[['2014-01-16 18:29:45', '2014-01-16 20:14:45'], ['2014-01-16 19:29:45', '2014-01-16 20...  \n631  {'199': [[['2014-01-16 18:29:45', '2014-01-16 22:15:44'], ['2014-01-16 18:29:45', '2014-01-16 19...  \n636  {'199': [[['2014-01-16 18:29:45', '2014-01-16 22:15:44'], ['2014-01-16 18:29:45', '2014-01-16 19...  ",
      "text/html": "<div>\n<style scoped>\n    .dataframe tbody tr th:only-of-type {\n        vertical-align: middle;\n    }\n\n    .dataframe tbody tr th {\n        vertical-align: top;\n    }\n\n    .dataframe thead th {\n        text-align: right;\n    }\n</style>\n<table border=\"1\" class=\"dataframe\">\n  <thead>\n    <tr style=\"text-align: right;\">\n      <th></th>\n      <th>pattern</th>\n      <th>supp</th>\n      <th>conf</th>\n      <th>time</th>\n    </tr>\n  </thead>\n  <tbody>\n    <tr>\n      <th>2</th>\n      <td>Load_StatusMBALights&gt;Load_StatusSensHeatPrntBDOWN</td>\n      <td>0.704110</td>\n      <td>0.709945</td>\n      <td>{'199': [[['2014-01-16 05:59:19', '2014-01-16 06:14:19'], ['2014-01-16 05:59:19', '2014-01-16 06...</td>\n    </tr>\n    <tr>\n      <th>213</th>\n      <td>Load_StatusPlugLoadToaster&gt;Load_StatusSensHeatPrntBUP</td>\n      <td>0.701370</td>\n      <td>0.701370</td>\n      <td>{'199': [[['2014-01-16 06:19:19', '2014-01-16 06:30:19'], ['2014-01-16 06:29:19', '2014-01-16 06...</td>\n    </tr>\n    <tr>\n      <th>253</th>\n      <td>Load_StatusPlugLoadLRTV&gt;Load_StatusSensHeatPrntBUP</td>\n      <td>0.838356</td>\n      <td>0.838356</td>\n      <td>{'199': [[['2014-01-16 06:29:19', '2014-01-16 08:24:18'], ['2014-01-16 06:29:19', '2014-01-16 06...</td>\n    </tr>\n    <tr>\n      <th>265</th>\n      <td>Load_StatusPlugLoadLRTV&gt;Load_StatusSensHeatChildAUP</td>\n      <td>0.564384</td>\n      <td>0.564384</td>\n      <td>{'199': [[['2014-01-16 18:09:45', '2014-01-16 20:29:44'], ['2014-01-16 18:29:45', '2014-01-16 19...</td>\n    </tr>\n    <tr>\n      <th>270</th>\n      <td>Load_StatusPlugLoadLRTV&gt;Load_StatusSensHeatChildBUP</td>\n      <td>0.983562</td>\n      <td>0.983562</td>\n      <td>{'199': [[['2014-01-16 18:09:45', '2014-01-16 20:29:44'], ['2014-01-16 18:29:45', '2014-01-16 19...</td>\n    </tr>\n    <tr>\n      <th>334</th>\n      <td>Load_StatusBR2Lights&gt;Load_StatusSensHeatPrntADOWN</td>\n      <td>0.567123</td>\n      <td>0.571823</td>\n      <td>{'199': [[['2014-01-16 18:29:45', '2014-01-16 21:59:44'], ['2014-01-16 18:29:45', '2014-01-16 22...</td>\n    </tr>\n    <tr>\n      <th>341</th>\n      <td>Load_StatusBR2Lights&gt;Load_StatusSensHeatChildADOWN</td>\n      <td>0.706849</td>\n      <td>0.712707</td>\n      <td>{'199': [[['2014-01-16 18:29:45', '2014-01-16 21:59:44'], ['2014-01-16 19:29:45', '2014-01-16 20...</td>\n    </tr>\n    <tr>\n      <th>343</th>\n      <td>Load_StatusBR2Lights&gt;Load_StatusSensHeatChildBDOWN</td>\n      <td>0.704110</td>\n      <td>0.709945</td>\n      <td>{'199': [[['2014-01-16 18:29:45', '2014-01-16 21:59:44'], ['2014-01-16 19:29:45', '2014-01-16 20...</td>\n    </tr>\n    <tr>\n      <th>368</th>\n      <td>Load_StatusBR3Lights&gt;Load_StatusSensHeatChildADOWN</td>\n      <td>0.706849</td>\n      <td>0.712707</td>\n      <td>{'199': [[['2014-01-16 18:29:45', '2014-01-16 20:29:44'], ['2014-01-16 19:29:45', '2014-01-16 20...</td>\n    </tr>\n    <tr>\n      <th>370</th>\n      <td>Load_StatusBR3Lights&gt;Load_StatusSensHeatChildBDOWN</td>\n      <td>0.704110</td>\n      <td>0.709945</td>\n      <td>{'199': [[['2014-01-16 18:29:45', '2014-01-16 20:29:44'], ['2014-01-16 19:29:45', '2014-01-16 20...</td>\n    </tr>\n    <tr>\n      <th>584</th>\n      <td>Load_StatusPlugLoadBR2Laptop&gt;Load_StatusSensHeatPrntADOWN</td>\n      <td>0.706849</td>\n      <td>0.712707</td>\n      <td>{'199': [[['2014-01-16 18:29:45', '2014-01-16 21:59:44'], ['2014-01-16 18:29:45', '2014-01-16 22...</td>\n    </tr>\n    <tr>\n      <th>588</th>\n      <td>Load_StatusPlugLoadBR2Laptop&gt;Load_StatusSensHeatChildADOWN</td>\n      <td>0.843836</td>\n      <td>0.850829</td>\n      <td>{'199': [[['2014-01-16 18:29:45', '2014-01-16 21:59:44'], ['2014-01-16 19:29:45', '2014-01-16 20...</td>\n    </tr>\n    <tr>\n      <th>589</th>\n      <td>Load_StatusPlugLoadBR2Laptop&gt;Load_StatusSensHeatChildBDOWN</td>\n      <td>0.843836</td>\n      <td>0.850829</td>\n      <td>{'199': [[['2014-01-16 18:29:45', '2014-01-16 21:59:44'], ['2014-01-16 19:29:45', '2014-01-16 20...</td>\n    </tr>\n    <tr>\n      <th>608</th>\n      <td>Load_StatusPlugLoadBR3Laptop&gt;Load_StatusSensHeatChildADOWN</td>\n      <td>0.846575</td>\n      <td>0.853591</td>\n      <td>{'199': [[['2014-01-16 18:29:45', '2014-01-16 20:14:45'], ['2014-01-16 19:29:45', '2014-01-16 20...</td>\n    </tr>\n    <tr>\n      <th>609</th>\n      <td>Load_StatusPlugLoadBR3Laptop&gt;Load_StatusSensHeatChildBDOWN</td>\n      <td>0.843836</td>\n      <td>0.850829</td>\n      <td>{'199': [[['2014-01-16 18:29:45', '2014-01-16 20:14:45'], ['2014-01-16 19:29:45', '2014-01-16 20...</td>\n    </tr>\n    <tr>\n      <th>631</th>\n      <td>Load_StatusPlugLoadDesktopPCMonitor&gt;Load_StatusSensHeatChildAUP</td>\n      <td>0.704110</td>\n      <td>0.704110</td>\n      <td>{'199': [[['2014-01-16 18:29:45', '2014-01-16 22:15:44'], ['2014-01-16 18:29:45', '2014-01-16 19...</td>\n    </tr>\n    <tr>\n      <th>636</th>\n      <td>Load_StatusPlugLoadDesktopPCMonitor&gt;Load_StatusSensHeatChildBUP</td>\n      <td>0.983562</td>\n      <td>0.983562</td>\n      <td>{'199': [[['2014-01-16 18:29:45', '2014-01-16 22:15:44'], ['2014-01-16 18:29:45', '2014-01-16 19...</td>\n    </tr>\n  </tbody>\n</table>\n</div>"
     },
     "execution_count": 261,
     "metadata": {},
     "output_type": "execute_result"
    }
   ],
   "source": [
    "redundancy_filter_tool(dataframe=level2_df, regex_str='[\\w]*>[\\w]*SensHeat', select_index_dict='psn_app')"
   ],
   "metadata": {
    "collapsed": false,
    "pycharm": {
     "name": "#%%\n"
    }
   }
  },
  {
   "cell_type": "code",
   "execution_count": 262,
   "outputs": [
    {
     "data": {
      "text/plain": "                                                             pattern  \\\n156            Load_StatusPlugLoadMBRTV|Load_StatusSensHeatPrntADOWN   \n264              Load_StatusPlugLoadLRTV|Load_StatusSensHeatChildAUP   \n269              Load_StatusPlugLoadLRTV|Load_StatusSensHeatChildBUP   \n301              Load_StatusSensHeatPrntADOWN|Load_StatusPlugLoadFan   \n389                  Load_StatusDRLights|Load_StatusSensHeatChildAUP   \n390                  Load_StatusDRLights|Load_StatusSensHeatChildBUP   \n417               Load_StatusSensHeatChildBDOWN|Load_StatusBR2Lights   \n489              Load_StatusSensHeatChildAUP|Load_StatusPlugLoadLRTV   \n496                  Load_StatusSensHeatChildAUP|Load_StatusDRLights   \n508  Load_StatusSensHeatChildAUP|Load_StatusPlugLoadDesktopPCMonitor   \n530               Load_StatusSensHeatPrntAUP|Load_StatusPlugLoadLRTV   \n623   Load_StatusPlugLoadDesktopPCMonitor|Load_StatusSensHeatPrntBUP   \n630  Load_StatusPlugLoadDesktopPCMonitor|Load_StatusSensHeatChildAUP   \n635  Load_StatusPlugLoadDesktopPCMonitor|Load_StatusSensHeatChildBUP   \n654              Load_StatusSensHeatChildBUP|Load_StatusPlugLoadLRTV   \n661                  Load_StatusSensHeatChildBUP|Load_StatusDRLights   \n\n         supp      conf  \\\n156  0.701370  0.707182   \n264  0.701370  0.701370   \n269  0.838356  0.838356   \n301  0.698630  0.704420   \n389  0.701370  0.701370   \n390  0.701370  0.701370   \n417  0.558904  0.563536   \n489  0.975342  0.975342   \n496  0.843836  0.843836   \n508  0.698630  0.698630   \n530  0.843836  0.843836   \n623  0.558904  0.558904   \n630  0.671233  0.671233   \n635  0.767123  0.767123   \n654  0.827397  0.827397   \n661  0.846575  0.846575   \n\n                                                                                                    time  \n156  {'199': [[['2014-01-16 06:14:19', '2014-01-16 06:59:18'], ['2014-01-16 06:29:19', '2014-01-16 08...  \n264  {'199': [[['2014-01-16 18:09:45', '2014-01-16 20:29:44'], ['2014-01-16 20:14:45', '2014-01-16 23...  \n269  {'199': [[['2014-01-16 18:09:45', '2014-01-16 20:29:44'], ['2014-01-16 20:14:45', '2014-01-16 23...  \n301  {'199': [[['2014-01-16 18:29:45', '2014-01-16 22:29:44'], ['2014-01-16 21:59:44', '2014-01-17 00...  \n389  {'199': [[['2014-01-16 19:14:45', '2014-01-16 20:29:44'], ['2014-01-16 20:14:45', '2014-01-16 23...  \n390  {'199': [[['2014-01-16 19:14:45', '2014-01-16 20:29:44'], ['2014-01-16 20:14:45', '2014-01-16 23...  \n417  {'258': [[['2014-03-16 12:58:31', '2014-03-16 18:28:31'], ['2014-03-16 18:18:31', '2014-03-16 23...  \n489  {'199': [[['2014-01-16 00:04:18', '2014-01-16 06:59:18'], ['2014-01-16 06:29:19', '2014-01-16 08...  \n496  {'199': [[['2014-01-16 18:29:45', '2014-01-16 19:29:45'], ['2014-01-16 19:14:45', '2014-01-16 20...  \n508  {'299': [[['2014-04-26 00:03:32', '2014-04-26 09:28:36'], ['2014-04-26 08:28:36', '2014-04-26 17...  \n530  {'199': [[['2014-01-16 17:59:45', '2014-01-16 18:29:45'], ['2014-01-16 18:09:45', '2014-01-16 20...  \n623  {'199': [[['2014-01-16 18:29:45', '2014-01-16 22:15:44'], ['2014-01-16 21:59:44', '2014-01-16 23...  \n630  {'199': [[['2014-01-16 18:29:45', '2014-01-16 22:15:44'], ['2014-01-16 20:14:45', '2014-01-16 23...  \n635  {'199': [[['2014-01-16 18:29:45', '2014-01-16 22:15:44'], ['2014-01-16 20:14:45', '2014-01-16 23...  \n654  {'199': [[['2014-01-16 00:04:18', '2014-01-16 06:59:18'], ['2014-01-16 06:29:19', '2014-01-16 08...  \n661  {'199': [[['2014-01-16 18:29:45', '2014-01-16 19:29:45'], ['2014-01-16 19:14:45', '2014-01-16 20...  ",
      "text/html": "<div>\n<style scoped>\n    .dataframe tbody tr th:only-of-type {\n        vertical-align: middle;\n    }\n\n    .dataframe tbody tr th {\n        vertical-align: top;\n    }\n\n    .dataframe thead th {\n        text-align: right;\n    }\n</style>\n<table border=\"1\" class=\"dataframe\">\n  <thead>\n    <tr style=\"text-align: right;\">\n      <th></th>\n      <th>pattern</th>\n      <th>supp</th>\n      <th>conf</th>\n      <th>time</th>\n    </tr>\n  </thead>\n  <tbody>\n    <tr>\n      <th>156</th>\n      <td>Load_StatusPlugLoadMBRTV|Load_StatusSensHeatPrntADOWN</td>\n      <td>0.701370</td>\n      <td>0.707182</td>\n      <td>{'199': [[['2014-01-16 06:14:19', '2014-01-16 06:59:18'], ['2014-01-16 06:29:19', '2014-01-16 08...</td>\n    </tr>\n    <tr>\n      <th>264</th>\n      <td>Load_StatusPlugLoadLRTV|Load_StatusSensHeatChildAUP</td>\n      <td>0.701370</td>\n      <td>0.701370</td>\n      <td>{'199': [[['2014-01-16 18:09:45', '2014-01-16 20:29:44'], ['2014-01-16 20:14:45', '2014-01-16 23...</td>\n    </tr>\n    <tr>\n      <th>269</th>\n      <td>Load_StatusPlugLoadLRTV|Load_StatusSensHeatChildBUP</td>\n      <td>0.838356</td>\n      <td>0.838356</td>\n      <td>{'199': [[['2014-01-16 18:09:45', '2014-01-16 20:29:44'], ['2014-01-16 20:14:45', '2014-01-16 23...</td>\n    </tr>\n    <tr>\n      <th>301</th>\n      <td>Load_StatusSensHeatPrntADOWN|Load_StatusPlugLoadFan</td>\n      <td>0.698630</td>\n      <td>0.704420</td>\n      <td>{'199': [[['2014-01-16 18:29:45', '2014-01-16 22:29:44'], ['2014-01-16 21:59:44', '2014-01-17 00...</td>\n    </tr>\n    <tr>\n      <th>389</th>\n      <td>Load_StatusDRLights|Load_StatusSensHeatChildAUP</td>\n      <td>0.701370</td>\n      <td>0.701370</td>\n      <td>{'199': [[['2014-01-16 19:14:45', '2014-01-16 20:29:44'], ['2014-01-16 20:14:45', '2014-01-16 23...</td>\n    </tr>\n    <tr>\n      <th>390</th>\n      <td>Load_StatusDRLights|Load_StatusSensHeatChildBUP</td>\n      <td>0.701370</td>\n      <td>0.701370</td>\n      <td>{'199': [[['2014-01-16 19:14:45', '2014-01-16 20:29:44'], ['2014-01-16 20:14:45', '2014-01-16 23...</td>\n    </tr>\n    <tr>\n      <th>417</th>\n      <td>Load_StatusSensHeatChildBDOWN|Load_StatusBR2Lights</td>\n      <td>0.558904</td>\n      <td>0.563536</td>\n      <td>{'258': [[['2014-03-16 12:58:31', '2014-03-16 18:28:31'], ['2014-03-16 18:18:31', '2014-03-16 23...</td>\n    </tr>\n    <tr>\n      <th>489</th>\n      <td>Load_StatusSensHeatChildAUP|Load_StatusPlugLoadLRTV</td>\n      <td>0.975342</td>\n      <td>0.975342</td>\n      <td>{'199': [[['2014-01-16 00:04:18', '2014-01-16 06:59:18'], ['2014-01-16 06:29:19', '2014-01-16 08...</td>\n    </tr>\n    <tr>\n      <th>496</th>\n      <td>Load_StatusSensHeatChildAUP|Load_StatusDRLights</td>\n      <td>0.843836</td>\n      <td>0.843836</td>\n      <td>{'199': [[['2014-01-16 18:29:45', '2014-01-16 19:29:45'], ['2014-01-16 19:14:45', '2014-01-16 20...</td>\n    </tr>\n    <tr>\n      <th>508</th>\n      <td>Load_StatusSensHeatChildAUP|Load_StatusPlugLoadDesktopPCMonitor</td>\n      <td>0.698630</td>\n      <td>0.698630</td>\n      <td>{'299': [[['2014-04-26 00:03:32', '2014-04-26 09:28:36'], ['2014-04-26 08:28:36', '2014-04-26 17...</td>\n    </tr>\n    <tr>\n      <th>530</th>\n      <td>Load_StatusSensHeatPrntAUP|Load_StatusPlugLoadLRTV</td>\n      <td>0.843836</td>\n      <td>0.843836</td>\n      <td>{'199': [[['2014-01-16 17:59:45', '2014-01-16 18:29:45'], ['2014-01-16 18:09:45', '2014-01-16 20...</td>\n    </tr>\n    <tr>\n      <th>623</th>\n      <td>Load_StatusPlugLoadDesktopPCMonitor|Load_StatusSensHeatPrntBUP</td>\n      <td>0.558904</td>\n      <td>0.558904</td>\n      <td>{'199': [[['2014-01-16 18:29:45', '2014-01-16 22:15:44'], ['2014-01-16 21:59:44', '2014-01-16 23...</td>\n    </tr>\n    <tr>\n      <th>630</th>\n      <td>Load_StatusPlugLoadDesktopPCMonitor|Load_StatusSensHeatChildAUP</td>\n      <td>0.671233</td>\n      <td>0.671233</td>\n      <td>{'199': [[['2014-01-16 18:29:45', '2014-01-16 22:15:44'], ['2014-01-16 20:14:45', '2014-01-16 23...</td>\n    </tr>\n    <tr>\n      <th>635</th>\n      <td>Load_StatusPlugLoadDesktopPCMonitor|Load_StatusSensHeatChildBUP</td>\n      <td>0.767123</td>\n      <td>0.767123</td>\n      <td>{'199': [[['2014-01-16 18:29:45', '2014-01-16 22:15:44'], ['2014-01-16 20:14:45', '2014-01-16 23...</td>\n    </tr>\n    <tr>\n      <th>654</th>\n      <td>Load_StatusSensHeatChildBUP|Load_StatusPlugLoadLRTV</td>\n      <td>0.827397</td>\n      <td>0.827397</td>\n      <td>{'199': [[['2014-01-16 00:04:18', '2014-01-16 06:59:18'], ['2014-01-16 06:29:19', '2014-01-16 08...</td>\n    </tr>\n    <tr>\n      <th>661</th>\n      <td>Load_StatusSensHeatChildBUP|Load_StatusDRLights</td>\n      <td>0.846575</td>\n      <td>0.846575</td>\n      <td>{'199': [[['2014-01-16 18:29:45', '2014-01-16 19:29:45'], ['2014-01-16 19:14:45', '2014-01-16 20...</td>\n    </tr>\n  </tbody>\n</table>\n</div>"
     },
     "execution_count": 262,
     "metadata": {},
     "output_type": "execute_result"
    }
   ],
   "source": [
    "redundancy_filter_tool(dataframe=level2_df, regex_str='[\\w]*\\|[\\w]*', select_index_dict='psn_app')"
   ],
   "metadata": {
    "collapsed": false,
    "pycharm": {
     "name": "#%%\n"
    }
   }
  },
  {
   "cell_type": "code",
   "execution_count": 262,
   "outputs": [],
   "source": [],
   "metadata": {
    "collapsed": false,
    "pycharm": {
     "name": "#%%\n"
    }
   }
  }
 ],
 "metadata": {
  "kernelspec": {
   "display_name": "Python 3",
   "language": "python",
   "name": "python3"
  },
  "language_info": {
   "codemirror_mode": {
    "name": "ipython",
    "version": 2
   },
   "file_extension": ".py",
   "mimetype": "text/x-python",
   "name": "python",
   "nbconvert_exporter": "python",
   "pygments_lexer": "ipython2",
   "version": "2.7.6"
  }
 },
 "nbformat": 4,
 "nbformat_minor": 0
}
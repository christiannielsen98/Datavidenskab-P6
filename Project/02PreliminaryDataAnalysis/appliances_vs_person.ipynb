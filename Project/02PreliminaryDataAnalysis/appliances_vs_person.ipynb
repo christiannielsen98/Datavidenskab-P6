{
 "cells": [
  {
   "cell_type": "code",
   "execution_count": 1,
   "metadata": {
    "collapsed": true
   },
   "outputs": [],
   "source": [
    "import datetime\n",
    "import re\n",
    "import pandas as pd\n",
    "import plotly.express as px\n",
    "import plotly.graph_objects as go\n",
    "\n",
    "from Project.Database import Db"
   ]
  },
  {
   "cell_type": "code",
   "execution_count": 2,
   "outputs": [
    {
     "data": {
      "text/plain": "                 Timestamp  DHW_ClothesWasherColdFlow  \\\n0      2013-07-01 00:01:14                        0.0   \n1      2013-07-01 00:02:14                        0.0   \n2      2013-07-01 00:03:14                        0.0   \n3      2013-07-01 00:04:14                        0.0   \n4      2013-07-01 00:05:14                        0.0   \n...                    ...                        ...   \n518787 2014-06-30 23:29:22                        0.0   \n518788 2014-06-30 23:30:22                        0.0   \n518789 2014-06-30 23:31:22                        0.0   \n518790 2014-06-30 23:59:22                        0.0   \n518791 2014-07-01 00:00:22                        0.0   \n\n        DHW_ClothesWasherHotFlow  DHW_DishwasherHotFlow  \\\n0                            0.0                0.00000   \n1                            0.0                0.00000   \n2                            0.0                0.00000   \n3                            0.0                0.00000   \n4                            0.0                0.00000   \n...                          ...                    ...   \n518787                       0.0                1.86261   \n518788                       0.0                1.86261   \n518789                       0.0                1.86261   \n518790                       0.0                1.86261   \n518791                       0.0                1.86261   \n\n        DHW_HeatPumpWaterHeaterEnergyTotal  DHW_HeatPumpWaterHeaterPowerTotal  \\\n0                                 0.000000                           6.920000   \n1                                 0.132000                           6.920000   \n2                                 0.264000                           6.920000   \n3                                 0.396000                           6.920000   \n4                                 0.528000                           6.920000   \n...                                    ...                                ...   \n518787                         1074.687075                         765.920563   \n518788                         1087.432650                         766.929871   \n518789                         1100.200137                         768.525940   \n518790                         1173.107485                           6.920000   \n518791                         1173.239485                           6.920000   \n\n        DHW_ManifoldColdFlow  DHW_ManifoldHotFlow  DHW_MixValveColdFlow  \\\n0                   0.000000              0.00000               0.00000   \n1                   0.000000              0.00000               0.00000   \n2                   0.000000              0.00000               0.00000   \n3                   0.000000              0.00000               0.00000   \n4                   0.000000              0.00000               0.00000   \n...                      ...                  ...                   ...   \n518787             11.297412             57.77676               8.69218   \n518788             11.297412             57.77676               8.69218   \n518789             11.297412             57.77676               8.69218   \n518790             11.297412             57.77676               8.69218   \n518791             11.297412             57.77676               8.69218   \n\n        DHW_RoomTempBasementHPWH  ...  SHW_PSPSHW  SHW_SHWHX80galWaterFlow  \\\n0                      21.238651  ...    0.000056                  0.00000   \n1                      21.223797  ...    0.000027                  0.00000   \n2                      21.263438  ...    0.000028                  0.00000   \n3                      21.228323  ...    0.000040                  0.00000   \n4                      21.246059  ...    0.000011                  0.00000   \n...                          ...  ...         ...                      ...   \n518787                 19.589094  ...   11.326110               1867.29955   \n518788                 19.521485  ...   11.916921               1867.29955   \n518789                 19.619391  ...   11.259323               1867.29955   \n518790                 21.028008  ...   12.130983               1867.29955   \n518791                 21.047388  ...   11.944321               1867.29955   \n\n        Vent_HRVTempExhaustOut  Vent_HRVTempOutdoorin  Vent_HRVTempReturnIn  \\\n0                    24.712040              23.144780             22.552117   \n1                    24.710517              23.143295             22.523656   \n2                    24.691049              23.148787             22.539345   \n3                    24.686121              23.120120             22.539554   \n4                    24.683265              23.179975             22.506425   \n...                        ...                    ...                   ...   \n518787               25.037362              25.339981             23.912489   \n518788               25.033280              25.318893             23.898320   \n518789               24.992671              25.261438             23.849174   \n518790               24.985092              25.130462             24.119352   \n518791               24.960901              25.102632             24.116529   \n\n        Vent_HRVTempSupplyOut  HVAC_HeatPumpIndoorUnitPower  \\\n0                   23.758415                      125.4000   \n1                   23.737489                      127.0400   \n2                   23.742217                      153.3050   \n3                   23.727526                      143.4575   \n4                   23.705258                      141.8150   \n...                       ...                           ...   \n518787              24.423000                      110.6250   \n518788              24.403229                      124.5800   \n518789              24.392863                      131.1450   \n518790              24.579783                      127.0400   \n518791              24.564044                      127.0400   \n\n        HVAC_HeatPumpOutdoorUnitPower  Load_StatusClothesWasher  \\\n0                            922.6568                         0   \n1                            919.2424                         0   \n2                            920.8184                         0   \n3                            922.3944                         0   \n4                            925.2832                         0   \n...                               ...                       ...   \n518787                      1517.2800                         0   \n518788                      1394.6256                         0   \n518789                      1311.6304                         0   \n518790                      1325.5504                         0   \n518791                      1325.5504                         0   \n\n        Load_StatusDryerPowerTotal  \n0                                0  \n1                                0  \n2                                0  \n3                                0  \n4                                0  \n...                            ...  \n518787                           0  \n518788                           0  \n518789                           0  \n518790                           0  \n518791                           0  \n\n[518792 rows x 335 columns]",
      "text/html": "<div>\n<style scoped>\n    .dataframe tbody tr th:only-of-type {\n        vertical-align: middle;\n    }\n\n    .dataframe tbody tr th {\n        vertical-align: top;\n    }\n\n    .dataframe thead th {\n        text-align: right;\n    }\n</style>\n<table border=\"1\" class=\"dataframe\">\n  <thead>\n    <tr style=\"text-align: right;\">\n      <th></th>\n      <th>Timestamp</th>\n      <th>DHW_ClothesWasherColdFlow</th>\n      <th>DHW_ClothesWasherHotFlow</th>\n      <th>DHW_DishwasherHotFlow</th>\n      <th>DHW_HeatPumpWaterHeaterEnergyTotal</th>\n      <th>DHW_HeatPumpWaterHeaterPowerTotal</th>\n      <th>DHW_ManifoldColdFlow</th>\n      <th>DHW_ManifoldHotFlow</th>\n      <th>DHW_MixValveColdFlow</th>\n      <th>DHW_RoomTempBasementHPWH</th>\n      <th>...</th>\n      <th>SHW_PSPSHW</th>\n      <th>SHW_SHWHX80galWaterFlow</th>\n      <th>Vent_HRVTempExhaustOut</th>\n      <th>Vent_HRVTempOutdoorin</th>\n      <th>Vent_HRVTempReturnIn</th>\n      <th>Vent_HRVTempSupplyOut</th>\n      <th>HVAC_HeatPumpIndoorUnitPower</th>\n      <th>HVAC_HeatPumpOutdoorUnitPower</th>\n      <th>Load_StatusClothesWasher</th>\n      <th>Load_StatusDryerPowerTotal</th>\n    </tr>\n  </thead>\n  <tbody>\n    <tr>\n      <th>0</th>\n      <td>2013-07-01 00:01:14</td>\n      <td>0.0</td>\n      <td>0.0</td>\n      <td>0.00000</td>\n      <td>0.000000</td>\n      <td>6.920000</td>\n      <td>0.000000</td>\n      <td>0.00000</td>\n      <td>0.00000</td>\n      <td>21.238651</td>\n      <td>...</td>\n      <td>0.000056</td>\n      <td>0.00000</td>\n      <td>24.712040</td>\n      <td>23.144780</td>\n      <td>22.552117</td>\n      <td>23.758415</td>\n      <td>125.4000</td>\n      <td>922.6568</td>\n      <td>0</td>\n      <td>0</td>\n    </tr>\n    <tr>\n      <th>1</th>\n      <td>2013-07-01 00:02:14</td>\n      <td>0.0</td>\n      <td>0.0</td>\n      <td>0.00000</td>\n      <td>0.132000</td>\n      <td>6.920000</td>\n      <td>0.000000</td>\n      <td>0.00000</td>\n      <td>0.00000</td>\n      <td>21.223797</td>\n      <td>...</td>\n      <td>0.000027</td>\n      <td>0.00000</td>\n      <td>24.710517</td>\n      <td>23.143295</td>\n      <td>22.523656</td>\n      <td>23.737489</td>\n      <td>127.0400</td>\n      <td>919.2424</td>\n      <td>0</td>\n      <td>0</td>\n    </tr>\n    <tr>\n      <th>2</th>\n      <td>2013-07-01 00:03:14</td>\n      <td>0.0</td>\n      <td>0.0</td>\n      <td>0.00000</td>\n      <td>0.264000</td>\n      <td>6.920000</td>\n      <td>0.000000</td>\n      <td>0.00000</td>\n      <td>0.00000</td>\n      <td>21.263438</td>\n      <td>...</td>\n      <td>0.000028</td>\n      <td>0.00000</td>\n      <td>24.691049</td>\n      <td>23.148787</td>\n      <td>22.539345</td>\n      <td>23.742217</td>\n      <td>153.3050</td>\n      <td>920.8184</td>\n      <td>0</td>\n      <td>0</td>\n    </tr>\n    <tr>\n      <th>3</th>\n      <td>2013-07-01 00:04:14</td>\n      <td>0.0</td>\n      <td>0.0</td>\n      <td>0.00000</td>\n      <td>0.396000</td>\n      <td>6.920000</td>\n      <td>0.000000</td>\n      <td>0.00000</td>\n      <td>0.00000</td>\n      <td>21.228323</td>\n      <td>...</td>\n      <td>0.000040</td>\n      <td>0.00000</td>\n      <td>24.686121</td>\n      <td>23.120120</td>\n      <td>22.539554</td>\n      <td>23.727526</td>\n      <td>143.4575</td>\n      <td>922.3944</td>\n      <td>0</td>\n      <td>0</td>\n    </tr>\n    <tr>\n      <th>4</th>\n      <td>2013-07-01 00:05:14</td>\n      <td>0.0</td>\n      <td>0.0</td>\n      <td>0.00000</td>\n      <td>0.528000</td>\n      <td>6.920000</td>\n      <td>0.000000</td>\n      <td>0.00000</td>\n      <td>0.00000</td>\n      <td>21.246059</td>\n      <td>...</td>\n      <td>0.000011</td>\n      <td>0.00000</td>\n      <td>24.683265</td>\n      <td>23.179975</td>\n      <td>22.506425</td>\n      <td>23.705258</td>\n      <td>141.8150</td>\n      <td>925.2832</td>\n      <td>0</td>\n      <td>0</td>\n    </tr>\n    <tr>\n      <th>...</th>\n      <td>...</td>\n      <td>...</td>\n      <td>...</td>\n      <td>...</td>\n      <td>...</td>\n      <td>...</td>\n      <td>...</td>\n      <td>...</td>\n      <td>...</td>\n      <td>...</td>\n      <td>...</td>\n      <td>...</td>\n      <td>...</td>\n      <td>...</td>\n      <td>...</td>\n      <td>...</td>\n      <td>...</td>\n      <td>...</td>\n      <td>...</td>\n      <td>...</td>\n      <td>...</td>\n    </tr>\n    <tr>\n      <th>518787</th>\n      <td>2014-06-30 23:29:22</td>\n      <td>0.0</td>\n      <td>0.0</td>\n      <td>1.86261</td>\n      <td>1074.687075</td>\n      <td>765.920563</td>\n      <td>11.297412</td>\n      <td>57.77676</td>\n      <td>8.69218</td>\n      <td>19.589094</td>\n      <td>...</td>\n      <td>11.326110</td>\n      <td>1867.29955</td>\n      <td>25.037362</td>\n      <td>25.339981</td>\n      <td>23.912489</td>\n      <td>24.423000</td>\n      <td>110.6250</td>\n      <td>1517.2800</td>\n      <td>0</td>\n      <td>0</td>\n    </tr>\n    <tr>\n      <th>518788</th>\n      <td>2014-06-30 23:30:22</td>\n      <td>0.0</td>\n      <td>0.0</td>\n      <td>1.86261</td>\n      <td>1087.432650</td>\n      <td>766.929871</td>\n      <td>11.297412</td>\n      <td>57.77676</td>\n      <td>8.69218</td>\n      <td>19.521485</td>\n      <td>...</td>\n      <td>11.916921</td>\n      <td>1867.29955</td>\n      <td>25.033280</td>\n      <td>25.318893</td>\n      <td>23.898320</td>\n      <td>24.403229</td>\n      <td>124.5800</td>\n      <td>1394.6256</td>\n      <td>0</td>\n      <td>0</td>\n    </tr>\n    <tr>\n      <th>518789</th>\n      <td>2014-06-30 23:31:22</td>\n      <td>0.0</td>\n      <td>0.0</td>\n      <td>1.86261</td>\n      <td>1100.200137</td>\n      <td>768.525940</td>\n      <td>11.297412</td>\n      <td>57.77676</td>\n      <td>8.69218</td>\n      <td>19.619391</td>\n      <td>...</td>\n      <td>11.259323</td>\n      <td>1867.29955</td>\n      <td>24.992671</td>\n      <td>25.261438</td>\n      <td>23.849174</td>\n      <td>24.392863</td>\n      <td>131.1450</td>\n      <td>1311.6304</td>\n      <td>0</td>\n      <td>0</td>\n    </tr>\n    <tr>\n      <th>518790</th>\n      <td>2014-06-30 23:59:22</td>\n      <td>0.0</td>\n      <td>0.0</td>\n      <td>1.86261</td>\n      <td>1173.107485</td>\n      <td>6.920000</td>\n      <td>11.297412</td>\n      <td>57.77676</td>\n      <td>8.69218</td>\n      <td>21.028008</td>\n      <td>...</td>\n      <td>12.130983</td>\n      <td>1867.29955</td>\n      <td>24.985092</td>\n      <td>25.130462</td>\n      <td>24.119352</td>\n      <td>24.579783</td>\n      <td>127.0400</td>\n      <td>1325.5504</td>\n      <td>0</td>\n      <td>0</td>\n    </tr>\n    <tr>\n      <th>518791</th>\n      <td>2014-07-01 00:00:22</td>\n      <td>0.0</td>\n      <td>0.0</td>\n      <td>1.86261</td>\n      <td>1173.239485</td>\n      <td>6.920000</td>\n      <td>11.297412</td>\n      <td>57.77676</td>\n      <td>8.69218</td>\n      <td>21.047388</td>\n      <td>...</td>\n      <td>11.944321</td>\n      <td>1867.29955</td>\n      <td>24.960901</td>\n      <td>25.102632</td>\n      <td>24.116529</td>\n      <td>24.564044</td>\n      <td>127.0400</td>\n      <td>1325.5504</td>\n      <td>0</td>\n      <td>0</td>\n    </tr>\n  </tbody>\n</table>\n<p>518792 rows × 335 columns</p>\n</div>"
     },
     "execution_count": 2,
     "metadata": {},
     "output_type": "execute_result"
    }
   ],
   "source": [
    "year1_minutes, meta = Db.load_data(hourly=False, meta=True, year=1)\n",
    "year2_minutes, meta = Db.load_data(hourly=False, meta=True, year=2)\n",
    "year1_minutes"
   ],
   "metadata": {
    "collapsed": false,
    "pycharm": {
     "name": "#%%\n"
    }
   }
  },
  {
   "cell_type": "code",
   "execution_count": 3,
   "outputs": [],
   "source": [
    "#bath1 = meta.loc[(meta['Parameter'] == \"Status_OnOff\") & (meta['Measurement_Location'] == \"Bath2\") & (meta[\"Unnamed: 0\"].str.contains('Status'))]['Unnamed: 0'].tolist()"
   ],
   "metadata": {
    "collapsed": false,
    "pycharm": {
     "name": "#%%\n"
    }
   }
  },
  {
   "cell_type": "code",
   "execution_count": 4,
   "outputs": [],
   "source": [
    "# fig = px.scatter(year1_minutes, x=\"Timestamp\", y=bath1)\n",
    "# fig.show()"
   ],
   "metadata": {
    "collapsed": false,
    "pycharm": {
     "name": "#%%\n"
    }
   }
  },
  {
   "cell_type": "code",
   "execution_count": 5,
   "outputs": [
    {
     "ename": "KeyError",
     "evalue": "'Unnamed: 0'",
     "output_type": "error",
     "traceback": [
      "\u001B[0;31m---------------------------------------------------------------------------\u001B[0m",
      "\u001B[0;31mKeyError\u001B[0m                                  Traceback (most recent call last)",
      "\u001B[0;32m~/Documents/Conda_environments/lib/python3.9/site-packages/pandas/core/indexes/base.py\u001B[0m in \u001B[0;36mget_loc\u001B[0;34m(self, key, method, tolerance)\u001B[0m\n\u001B[1;32m   3620\u001B[0m             \u001B[0;32mtry\u001B[0m\u001B[0;34m:\u001B[0m\u001B[0;34m\u001B[0m\u001B[0;34m\u001B[0m\u001B[0m\n\u001B[0;32m-> 3621\u001B[0;31m                 \u001B[0;32mreturn\u001B[0m \u001B[0mself\u001B[0m\u001B[0;34m.\u001B[0m\u001B[0m_engine\u001B[0m\u001B[0;34m.\u001B[0m\u001B[0mget_loc\u001B[0m\u001B[0;34m(\u001B[0m\u001B[0mcasted_key\u001B[0m\u001B[0;34m)\u001B[0m\u001B[0;34m\u001B[0m\u001B[0;34m\u001B[0m\u001B[0m\n\u001B[0m\u001B[1;32m   3622\u001B[0m             \u001B[0;32mexcept\u001B[0m \u001B[0mKeyError\u001B[0m \u001B[0;32mas\u001B[0m \u001B[0merr\u001B[0m\u001B[0;34m:\u001B[0m\u001B[0;34m\u001B[0m\u001B[0;34m\u001B[0m\u001B[0m\n",
      "\u001B[0;32m~/Documents/Conda_environments/lib/python3.9/site-packages/pandas/_libs/index.pyx\u001B[0m in \u001B[0;36mpandas._libs.index.IndexEngine.get_loc\u001B[0;34m()\u001B[0m\n",
      "\u001B[0;32m~/Documents/Conda_environments/lib/python3.9/site-packages/pandas/_libs/index.pyx\u001B[0m in \u001B[0;36mpandas._libs.index.IndexEngine.get_loc\u001B[0;34m()\u001B[0m\n",
      "\u001B[0;32mpandas/_libs/hashtable_class_helper.pxi\u001B[0m in \u001B[0;36mpandas._libs.hashtable.PyObjectHashTable.get_item\u001B[0;34m()\u001B[0m\n",
      "\u001B[0;32mpandas/_libs/hashtable_class_helper.pxi\u001B[0m in \u001B[0;36mpandas._libs.hashtable.PyObjectHashTable.get_item\u001B[0;34m()\u001B[0m\n",
      "\u001B[0;31mKeyError\u001B[0m: 'Unnamed: 0'",
      "\nThe above exception was the direct cause of the following exception:\n",
      "\u001B[0;31mKeyError\u001B[0m                                  Traceback (most recent call last)",
      "\u001B[0;32m/var/folders/bd/t85lw5j14_vc55x5tn1xbmr00000gn/T/ipykernel_1081/2988779783.py\u001B[0m in \u001B[0;36m<module>\u001B[0;34m\u001B[0m\n\u001B[1;32m      7\u001B[0m ))\n\u001B[1;32m      8\u001B[0m \u001B[0;34m\u001B[0m\u001B[0m\n\u001B[0;32m----> 9\u001B[0;31m \u001B[0mappliances_statusOnOff\u001B[0m \u001B[0;34m=\u001B[0m \u001B[0mmeta\u001B[0m\u001B[0;34m.\u001B[0m\u001B[0mloc\u001B[0m\u001B[0;34m[\u001B[0m\u001B[0mappliance_condition\u001B[0m\u001B[0;34m]\u001B[0m\u001B[0;34m[\u001B[0m\u001B[0;34m\"Unnamed: 0\"\u001B[0m\u001B[0;34m]\u001B[0m\u001B[0;34m.\u001B[0m\u001B[0mtolist\u001B[0m\u001B[0;34m(\u001B[0m\u001B[0;34m)\u001B[0m\u001B[0;34m\u001B[0m\u001B[0;34m\u001B[0m\u001B[0m\n\u001B[0m\u001B[1;32m     10\u001B[0m \u001B[0;34m\u001B[0m\u001B[0m\n\u001B[1;32m     11\u001B[0m \u001B[0mappliance_location\u001B[0m \u001B[0;34m=\u001B[0m \u001B[0mmeta\u001B[0m\u001B[0;34m.\u001B[0m\u001B[0mloc\u001B[0m\u001B[0;34m[\u001B[0m\u001B[0mappliance_condition\u001B[0m\u001B[0;34m]\u001B[0m\u001B[0;34m[\u001B[0m\u001B[0;34m[\u001B[0m\u001B[0;34m\"Unnamed: 0\"\u001B[0m\u001B[0;34m,\u001B[0m \u001B[0;34m\"Measurement_Location\"\u001B[0m\u001B[0;34m]\u001B[0m\u001B[0;34m]\u001B[0m\u001B[0;34m.\u001B[0m\u001B[0msort_values\u001B[0m\u001B[0;34m(\u001B[0m\u001B[0mby\u001B[0m\u001B[0;34m=\u001B[0m\u001B[0;34m\"Measurement_Location\"\u001B[0m\u001B[0;34m,\u001B[0m \u001B[0mascending\u001B[0m\u001B[0;34m=\u001B[0m\u001B[0;32mTrue\u001B[0m\u001B[0;34m)\u001B[0m\u001B[0;34m.\u001B[0m\u001B[0mrename\u001B[0m\u001B[0;34m(\u001B[0m\u001B[0mcolumns\u001B[0m\u001B[0;34m=\u001B[0m\u001B[0;34m{\u001B[0m\u001B[0;34m\"Unnamed: 0\"\u001B[0m\u001B[0;34m:\u001B[0m \u001B[0;34m\"Appliance\"\u001B[0m\u001B[0;34m}\u001B[0m\u001B[0;34m)\u001B[0m\u001B[0;34m.\u001B[0m\u001B[0mset_index\u001B[0m\u001B[0;34m(\u001B[0m\u001B[0;34m\"Appliance\"\u001B[0m\u001B[0;34m)\u001B[0m\u001B[0;34m\u001B[0m\u001B[0;34m\u001B[0m\u001B[0m\n",
      "\u001B[0;32m~/Documents/Conda_environments/lib/python3.9/site-packages/pandas/core/indexing.py\u001B[0m in \u001B[0;36m__getitem__\u001B[0;34m(self, key)\u001B[0m\n\u001B[1;32m    964\u001B[0m             \u001B[0maxis\u001B[0m \u001B[0;34m=\u001B[0m \u001B[0mself\u001B[0m\u001B[0;34m.\u001B[0m\u001B[0maxis\u001B[0m \u001B[0;32mor\u001B[0m \u001B[0;36m0\u001B[0m\u001B[0;34m\u001B[0m\u001B[0;34m\u001B[0m\u001B[0m\n\u001B[1;32m    965\u001B[0m \u001B[0;34m\u001B[0m\u001B[0m\n\u001B[0;32m--> 966\u001B[0;31m             \u001B[0mmaybe_callable\u001B[0m \u001B[0;34m=\u001B[0m \u001B[0mcom\u001B[0m\u001B[0;34m.\u001B[0m\u001B[0mapply_if_callable\u001B[0m\u001B[0;34m(\u001B[0m\u001B[0mkey\u001B[0m\u001B[0;34m,\u001B[0m \u001B[0mself\u001B[0m\u001B[0;34m.\u001B[0m\u001B[0mobj\u001B[0m\u001B[0;34m)\u001B[0m\u001B[0;34m\u001B[0m\u001B[0;34m\u001B[0m\u001B[0m\n\u001B[0m\u001B[1;32m    967\u001B[0m             \u001B[0;32mreturn\u001B[0m \u001B[0mself\u001B[0m\u001B[0;34m.\u001B[0m\u001B[0m_getitem_axis\u001B[0m\u001B[0;34m(\u001B[0m\u001B[0mmaybe_callable\u001B[0m\u001B[0;34m,\u001B[0m \u001B[0maxis\u001B[0m\u001B[0;34m=\u001B[0m\u001B[0maxis\u001B[0m\u001B[0;34m)\u001B[0m\u001B[0;34m\u001B[0m\u001B[0;34m\u001B[0m\u001B[0m\n\u001B[1;32m    968\u001B[0m \u001B[0;34m\u001B[0m\u001B[0m\n",
      "\u001B[0;32m~/Documents/Conda_environments/lib/python3.9/site-packages/pandas/core/common.py\u001B[0m in \u001B[0;36mapply_if_callable\u001B[0;34m(maybe_callable, obj, **kwargs)\u001B[0m\n\u001B[1;32m    356\u001B[0m     \"\"\"\n\u001B[1;32m    357\u001B[0m     \u001B[0;32mif\u001B[0m \u001B[0mcallable\u001B[0m\u001B[0;34m(\u001B[0m\u001B[0mmaybe_callable\u001B[0m\u001B[0;34m)\u001B[0m\u001B[0;34m:\u001B[0m\u001B[0;34m\u001B[0m\u001B[0;34m\u001B[0m\u001B[0m\n\u001B[0;32m--> 358\u001B[0;31m         \u001B[0;32mreturn\u001B[0m \u001B[0mmaybe_callable\u001B[0m\u001B[0;34m(\u001B[0m\u001B[0mobj\u001B[0m\u001B[0;34m,\u001B[0m \u001B[0;34m**\u001B[0m\u001B[0mkwargs\u001B[0m\u001B[0;34m)\u001B[0m\u001B[0;34m\u001B[0m\u001B[0;34m\u001B[0m\u001B[0m\n\u001B[0m\u001B[1;32m    359\u001B[0m \u001B[0;34m\u001B[0m\u001B[0m\n\u001B[1;32m    360\u001B[0m     \u001B[0;32mreturn\u001B[0m \u001B[0mmaybe_callable\u001B[0m\u001B[0;34m\u001B[0m\u001B[0;34m\u001B[0m\u001B[0m\n",
      "\u001B[0;32m/var/folders/bd/t85lw5j14_vc55x5tn1xbmr00000gn/T/ipykernel_1081/2988779783.py\u001B[0m in \u001B[0;36m<lambda>\u001B[0;34m(self)\u001B[0m\n\u001B[1;32m      3\u001B[0m         \u001B[0;34m(\u001B[0m\u001B[0mself\u001B[0m\u001B[0;34m[\u001B[0m\u001B[0;34m\"Parameter\"\u001B[0m\u001B[0;34m]\u001B[0m \u001B[0;34m==\u001B[0m \u001B[0;34m\"Status_OnOff\"\u001B[0m\u001B[0;34m)\u001B[0m \u001B[0;34m&\u001B[0m\u001B[0;34m\u001B[0m\u001B[0;34m\u001B[0m\u001B[0m\n\u001B[1;32m      4\u001B[0m         \u001B[0;34m(\u001B[0m\u001B[0mself\u001B[0m\u001B[0;34m[\u001B[0m\u001B[0;34m\"Subsystem\"\u001B[0m\u001B[0;34m]\u001B[0m \u001B[0;34m==\u001B[0m \u001B[0;34m\"Loads\"\u001B[0m\u001B[0;34m)\u001B[0m \u001B[0;34m&\u001B[0m\u001B[0;34m\u001B[0m\u001B[0;34m\u001B[0m\u001B[0m\n\u001B[0;32m----> 5\u001B[0;31m         \u001B[0;34m(\u001B[0m\u001B[0;34m~\u001B[0m\u001B[0mself\u001B[0m\u001B[0;34m[\u001B[0m\u001B[0;34m\"Unnamed: 0\"\u001B[0m\u001B[0;34m]\u001B[0m\u001B[0;34m.\u001B[0m\u001B[0mstr\u001B[0m\u001B[0;34m.\u001B[0m\u001B[0mcontains\u001B[0m\u001B[0;34m(\u001B[0m\u001B[0;34m\"Child\"\u001B[0m\u001B[0;34m)\u001B[0m\u001B[0;34m)\u001B[0m \u001B[0;34m&\u001B[0m\u001B[0;34m\u001B[0m\u001B[0;34m\u001B[0m\u001B[0m\n\u001B[0m\u001B[1;32m      6\u001B[0m         \u001B[0;34m(\u001B[0m\u001B[0;34m~\u001B[0m\u001B[0mself\u001B[0m\u001B[0;34m[\u001B[0m\u001B[0;34m\"Unnamed: 0\"\u001B[0m\u001B[0;34m]\u001B[0m\u001B[0;34m.\u001B[0m\u001B[0mstr\u001B[0m\u001B[0;34m.\u001B[0m\u001B[0mcontains\u001B[0m\u001B[0;34m(\u001B[0m\u001B[0;34m\"Prnt\"\u001B[0m\u001B[0;34m)\u001B[0m\u001B[0;34m)\u001B[0m\u001B[0;34m\u001B[0m\u001B[0;34m\u001B[0m\u001B[0m\n\u001B[1;32m      7\u001B[0m ))\n",
      "\u001B[0;32m~/Documents/Conda_environments/lib/python3.9/site-packages/pandas/core/frame.py\u001B[0m in \u001B[0;36m__getitem__\u001B[0;34m(self, key)\u001B[0m\n\u001B[1;32m   3503\u001B[0m             \u001B[0;32mif\u001B[0m \u001B[0mself\u001B[0m\u001B[0;34m.\u001B[0m\u001B[0mcolumns\u001B[0m\u001B[0;34m.\u001B[0m\u001B[0mnlevels\u001B[0m \u001B[0;34m>\u001B[0m \u001B[0;36m1\u001B[0m\u001B[0;34m:\u001B[0m\u001B[0;34m\u001B[0m\u001B[0;34m\u001B[0m\u001B[0m\n\u001B[1;32m   3504\u001B[0m                 \u001B[0;32mreturn\u001B[0m \u001B[0mself\u001B[0m\u001B[0;34m.\u001B[0m\u001B[0m_getitem_multilevel\u001B[0m\u001B[0;34m(\u001B[0m\u001B[0mkey\u001B[0m\u001B[0;34m)\u001B[0m\u001B[0;34m\u001B[0m\u001B[0;34m\u001B[0m\u001B[0m\n\u001B[0;32m-> 3505\u001B[0;31m             \u001B[0mindexer\u001B[0m \u001B[0;34m=\u001B[0m \u001B[0mself\u001B[0m\u001B[0;34m.\u001B[0m\u001B[0mcolumns\u001B[0m\u001B[0;34m.\u001B[0m\u001B[0mget_loc\u001B[0m\u001B[0;34m(\u001B[0m\u001B[0mkey\u001B[0m\u001B[0;34m)\u001B[0m\u001B[0;34m\u001B[0m\u001B[0;34m\u001B[0m\u001B[0m\n\u001B[0m\u001B[1;32m   3506\u001B[0m             \u001B[0;32mif\u001B[0m \u001B[0mis_integer\u001B[0m\u001B[0;34m(\u001B[0m\u001B[0mindexer\u001B[0m\u001B[0;34m)\u001B[0m\u001B[0;34m:\u001B[0m\u001B[0;34m\u001B[0m\u001B[0;34m\u001B[0m\u001B[0m\n\u001B[1;32m   3507\u001B[0m                 \u001B[0mindexer\u001B[0m \u001B[0;34m=\u001B[0m \u001B[0;34m[\u001B[0m\u001B[0mindexer\u001B[0m\u001B[0;34m]\u001B[0m\u001B[0;34m\u001B[0m\u001B[0;34m\u001B[0m\u001B[0m\n",
      "\u001B[0;32m~/Documents/Conda_environments/lib/python3.9/site-packages/pandas/core/indexes/base.py\u001B[0m in \u001B[0;36mget_loc\u001B[0;34m(self, key, method, tolerance)\u001B[0m\n\u001B[1;32m   3621\u001B[0m                 \u001B[0;32mreturn\u001B[0m \u001B[0mself\u001B[0m\u001B[0;34m.\u001B[0m\u001B[0m_engine\u001B[0m\u001B[0;34m.\u001B[0m\u001B[0mget_loc\u001B[0m\u001B[0;34m(\u001B[0m\u001B[0mcasted_key\u001B[0m\u001B[0;34m)\u001B[0m\u001B[0;34m\u001B[0m\u001B[0;34m\u001B[0m\u001B[0m\n\u001B[1;32m   3622\u001B[0m             \u001B[0;32mexcept\u001B[0m \u001B[0mKeyError\u001B[0m \u001B[0;32mas\u001B[0m \u001B[0merr\u001B[0m\u001B[0;34m:\u001B[0m\u001B[0;34m\u001B[0m\u001B[0;34m\u001B[0m\u001B[0m\n\u001B[0;32m-> 3623\u001B[0;31m                 \u001B[0;32mraise\u001B[0m \u001B[0mKeyError\u001B[0m\u001B[0;34m(\u001B[0m\u001B[0mkey\u001B[0m\u001B[0;34m)\u001B[0m \u001B[0;32mfrom\u001B[0m \u001B[0merr\u001B[0m\u001B[0;34m\u001B[0m\u001B[0;34m\u001B[0m\u001B[0m\n\u001B[0m\u001B[1;32m   3624\u001B[0m             \u001B[0;32mexcept\u001B[0m \u001B[0mTypeError\u001B[0m\u001B[0;34m:\u001B[0m\u001B[0;34m\u001B[0m\u001B[0;34m\u001B[0m\u001B[0m\n\u001B[1;32m   3625\u001B[0m                 \u001B[0;31m# If we have a listlike key, _check_indexing_error will raise\u001B[0m\u001B[0;34m\u001B[0m\u001B[0;34m\u001B[0m\u001B[0m\n",
      "\u001B[0;31mKeyError\u001B[0m: 'Unnamed: 0'"
     ]
    }
   ],
   "source": [
    "#Extract appliances from the meta data\n",
    "appliance_condition = (lambda self: (\n",
    "        (self[\"Parameter\"] == \"Status_OnOff\") &\n",
    "        (self[\"Subsystem\"] == \"Loads\") &\n",
    "        (~self[\"Unnamed: 0\"].str.contains(\"Child\")) &\n",
    "        (~self[\"Unnamed: 0\"].str.contains(\"Prnt\"))\n",
    "))\n",
    "\n",
    "appliances_statusOnOff = meta.loc[appliance_condition][\"Unnamed: 0\"].tolist()\n",
    "\n",
    "appliance_location = meta.loc[appliance_condition][[\"Unnamed: 0\", \"Measurement_Location\"]].sort_values(by=\"Measurement_Location\", ascending=True).rename(columns={\"Unnamed: 0\": \"Appliance\"}).set_index(\"Appliance\")\n",
    "\n",
    "appliance_location"
   ],
   "metadata": {
    "collapsed": false,
    "pycharm": {
     "name": "#%%\n"
    }
   }
  },
  {
   "cell_type": "code",
   "execution_count": null,
   "outputs": [],
   "source": [
    "#Combine minute data with the extracted appliances into a dataframe\n",
    "minute_appliances_status = year1_minutes[[\"Timestamp\"] + appliance_location.index.tolist()].copy()"
   ],
   "metadata": {
    "collapsed": false,
    "pycharm": {
     "name": "#%%\n"
    }
   }
  },
  {
   "cell_type": "code",
   "execution_count": null,
   "outputs": [],
   "source": [
    "#Replaces values to be binary 0 or 1.\n",
    "for i in appliances_statusOnOff:\n",
    "    minute_appliances_status.loc[minute_appliances_status[i] < 0, i] = 0\n",
    "    minute_appliances_status.loc[minute_appliances_status[i] > 0, i] = 1\n",
    "minute_appliances_status"
   ],
   "metadata": {
    "collapsed": false,
    "pycharm": {
     "name": "#%%\n"
    }
   }
  },
  {
   "cell_type": "code",
   "execution_count": null,
   "outputs": [],
   "source": [
    "appliance_job_list = []\n",
    "\n",
    "for appliance in appliances_statusOnOff:\n",
    "    name = \" \".join(re.findall('[A-Z][^A-Z]*', appliance.split(\"Load_Status\")[-1]))\n",
    "    appliance_switch = minute_appliances_status[(minute_appliances_status[appliance] != minute_appliances_status[appliance].shift(1))][\n",
    "                           [\"Timestamp\", appliance]][1:]\n",
    "\n",
    "    df_indices = appliance_switch.index.tolist()\n",
    "    for index, df_index in enumerate(df_indices):\n",
    "        if appliance_switch.loc[df_index, appliance]:\n",
    "            try:\n",
    "                appliance_job_list.append({\"appliance\": name, \"start\": appliance_switch.loc[df_index, \"Timestamp\"], \"end\": appliance_switch.loc[df_indices[index+1], \"Timestamp\"], \"location\": appliance_location.loc[appliance, \"Measurement_Location\"]})\n",
    "            except:\n",
    "                continue\n",
    "\n",
    "appliance_job_list"
   ],
   "metadata": {
    "collapsed": false,
    "pycharm": {
     "name": "#%%\n"
    }
   }
  },
  {
   "cell_type": "code",
   "execution_count": null,
   "outputs": [],
   "source": [
    "fig = px.timeline(appliance_job_list, x_start=\"start\", x_end=\"end\", y=\"appliance\", color=\"location\")\n",
    "fig.write_html(Db.get_save_file_directory(\"Appliance_status_gantt.html\"))\n"
   ],
   "metadata": {
    "collapsed": false,
    "pycharm": {
     "name": "#%%\n"
    }
   }
  },
  {
   "cell_type": "code",
   "execution_count": null,
   "outputs": [],
   "source": [
    "residens_condition = (lambda self: (\n",
    "    (self[\"Subsystem\"] == \"Loads\") &\n",
    "    (self[\"Parameter\"] == \"Status_OnOff\") &\n",
    "    (self[\"Unnamed: 0\"].str.contains(\"Sens\"))\n",
    "    )\n",
    ")\n",
    "\n",
    "residens_location = meta.loc[residens_condition, \"Unnamed: 0\"].tolist()\n",
    "residens_location.sort()\n",
    "\n",
    "# residens_location = meta.loc[residens_condition][[\"Unnamed: 0\"]].rename(columns={\"Unnamed: 0\": \"Appliance\"}).set_index(\"Appliance\")\n",
    "\n",
    "residens_location"
   ],
   "metadata": {
    "collapsed": false,
    "pycharm": {
     "name": "#%%\n"
    }
   }
  },
  {
   "cell_type": "code",
   "execution_count": null,
   "outputs": [],
   "source": [
    "#Combine minute data with the extracted residens into a dataframe\n",
    "residens_location_status = year1_minutes[[\"Timestamp\"] + residens_location].copy()"
   ],
   "metadata": {
    "collapsed": false,
    "pycharm": {
     "name": "#%%\n"
    }
   }
  },
  {
   "cell_type": "code",
   "execution_count": null,
   "outputs": [],
   "source": [
    "#Replaces values to be binary 0 or 1.\n",
    "for i in residens_location:\n",
    "    residens_location_status.loc[residens_location_status[i] < 0, i] = 0\n",
    "    residens_location_status.loc[residens_location_status[i] > 0, i] = 1\n",
    "residens_location_status"
   ],
   "metadata": {
    "collapsed": false,
    "pycharm": {
     "name": "#%%\n"
    }
   }
  },
  {
   "cell_type": "code",
   "execution_count": null,
   "outputs": [],
   "source": [
    "person_status_list = []\n",
    "\n",
    "for col in residens_location:\n",
    "    name = \"\".join(re.findall(\"[PC][a-z]+[AB]\", col))\n",
    "    person_location = residens_location_status[lambda self: (self[col] != self[col].shift(1))][\n",
    "                           [\"Timestamp\", col]][1:]\n",
    "\n",
    "    df_indices = person_location.index.tolist()\n",
    "    for index, df_index in enumerate(df_indices):\n",
    "        if person_location.loc[df_index, col]:\n",
    "            try:\n",
    "                person_status_list.append({\"appliance\": name, \"start\": person_location.loc[df_index, \"Timestamp\"], \"end\": person_location.loc[df_indices[index+1], \"Timestamp\"], \"location\": {\"DOWN\": \"First floor\", \"UP\": \"Second floor\"}[\"\".join(col.split(name)[-1])]})\n",
    "            except:\n",
    "                continue\n",
    "person_status_list"
   ],
   "metadata": {
    "collapsed": false,
    "pycharm": {
     "name": "#%%\n"
    }
   }
  },
  {
   "cell_type": "code",
   "execution_count": null,
   "outputs": [],
   "source": [
    "fig = px.timeline(person_status_list, x_start=\"start\", x_end=\"end\", y=\"appliance\", color=\"location\")\n",
    "fig.write_html(Db.get_save_file_directory(\"Person_status_gantt.html\"))\n",
    "# fig.show()"
   ],
   "metadata": {
    "collapsed": false,
    "pycharm": {
     "name": "#%%\n"
    }
   }
  },
  {
   "cell_type": "code",
   "execution_count": null,
   "outputs": [],
   "source": [
    "fig = px.timeline(person_status_list+appliance_job_list, x_start=\"start\", x_end=\"end\", y=\"appliance\", color=\"location\")\n",
    "# fig.show()"
   ],
   "metadata": {
    "collapsed": false,
    "pycharm": {
     "name": "#%%\n"
    }
   }
  },
  {
   "cell_type": "code",
   "execution_count": null,
   "outputs": [],
   "source": [
    "fig.write_html(Db.get_save_file_directory(\"Person_appliance_status_gantt.html\"))"
   ],
   "metadata": {
    "collapsed": false,
    "pycharm": {
     "name": "#%%\n"
    }
   }
  },
  {
   "cell_type": "code",
   "execution_count": null,
   "outputs": [],
   "source": [],
   "metadata": {
    "collapsed": false,
    "pycharm": {
     "name": "#%%\n"
    }
   }
  }
 ],
 "metadata": {
  "kernelspec": {
   "display_name": "Python 3",
   "language": "python",
   "name": "python3"
  },
  "language_info": {
   "codemirror_mode": {
    "name": "ipython",
    "version": 2
   },
   "file_extension": ".py",
   "mimetype": "text/x-python",
   "name": "python",
   "nbconvert_exporter": "python",
   "pygments_lexer": "ipython2",
   "version": "2.7.6"
  }
 },
 "nbformat": 4,
 "nbformat_minor": 0
}